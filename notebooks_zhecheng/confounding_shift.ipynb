{
 "cells": [
  {
   "cell_type": "markdown",
   "id": "bb17ead5-005d-4b57-bb9b-206b2ac6e72f",
   "metadata": {},
   "source": [
    "# Run confounding shift on positive ratio for gender prediction"
   ]
  },
  {
   "cell_type": "code",
   "execution_count": 1,
   "id": "b1150d69-396d-44ba-a3c2-4e02150190f5",
   "metadata": {},
   "outputs": [],
   "source": [
    "import sys\n",
    "import os\n",
    "\n",
    "sys.path.append(\"..\")"
   ]
  },
  {
   "cell_type": "code",
   "execution_count": 2,
   "id": "eff1dca7-e4f4-4b46-80cd-d473c2ba8a33",
   "metadata": {},
   "outputs": [],
   "source": [
    "import matplotlib.pyplot as plt"
   ]
  },
  {
   "cell_type": "code",
   "execution_count": 3,
   "id": "1df8a574-0648-4b2e-a25f-04c7e4662b6d",
   "metadata": {},
   "outputs": [],
   "source": [
    "import pandas as pd\n",
    "import numpy as np\n",
    "\n",
    "import random\n",
    "import itertools\n",
    "from sklearn import metrics\n",
    "from tqdm.notebook import tqdm\n",
    "\n",
    "\n",
    "import torch\n",
    "\n",
    "from src.utils import confoundSplit, confoundSplitNumbers, confoundSplitDF\n",
    "\n",
    "from src.MultiLabel import TransformerDataset, MultiLabel\n",
    "from src.MultiClassificationNN import MultiClassificationNN\n",
    "from src.BinaryClassificationNN import BinaryClassificationNN"
   ]
  },
  {
   "cell_type": "markdown",
   "id": "8a31e7af-2871-48f6-ae7f-07355d16f211",
   "metadata": {},
   "source": [
    "## Load data Dementia"
   ]
  },
  {
   "cell_type": "code",
   "execution_count": 4,
   "id": "db1891a2-61c2-4c48-8209-a126c6555674",
   "metadata": {},
   "outputs": [],
   "source": [
    "df = pd.read_csv('./processed_db.csv', index_col=0)\n",
    "df_wls = df[df['source'] == 0]\n",
    "df_pitts = df[df['source'] == 1]"
   ]
  },
  {
   "cell_type": "code",
   "execution_count": 5,
   "id": "642cb1e4-5ce3-49c5-9059-5e1587ae10aa",
   "metadata": {},
   "outputs": [
    {
     "data": {
      "text/html": [
       "<div>\n",
       "<style scoped>\n",
       "    .dataframe tbody tr th:only-of-type {\n",
       "        vertical-align: middle;\n",
       "    }\n",
       "\n",
       "    .dataframe tbody tr th {\n",
       "        vertical-align: top;\n",
       "    }\n",
       "\n",
       "    .dataframe thead th {\n",
       "        text-align: right;\n",
       "    }\n",
       "</style>\n",
       "<table border=\"1\" class=\"dataframe\">\n",
       "  <thead>\n",
       "    <tr style=\"text-align: right;\">\n",
       "      <th></th>\n",
       "      <th>file</th>\n",
       "      <th>gender</th>\n",
       "      <th>age</th>\n",
       "      <th>text</th>\n",
       "      <th>source</th>\n",
       "      <th>target</th>\n",
       "    </tr>\n",
       "  </thead>\n",
       "  <tbody>\n",
       "    <tr>\n",
       "      <th>0</th>\n",
       "      <td>2000000002</td>\n",
       "      <td>1</td>\n",
       "      <td>71.0</td>\n",
       "      <td>I see a woman washing dishes. the sink is over...</td>\n",
       "      <td>0</td>\n",
       "      <td>wls_female</td>\n",
       "    </tr>\n",
       "    <tr>\n",
       "      <th>1</th>\n",
       "      <td>2000000007</td>\n",
       "      <td>1</td>\n",
       "      <td>66.0</td>\n",
       "      <td>okay. I see a girl. I see a boy a cookie jar c...</td>\n",
       "      <td>0</td>\n",
       "      <td>wls_female</td>\n",
       "    </tr>\n",
       "    <tr>\n",
       "      <th>2</th>\n",
       "      <td>2000000032</td>\n",
       "      <td>1</td>\n",
       "      <td>71.0</td>\n",
       "      <td>well there's a cookie jar. there's the cover o...</td>\n",
       "      <td>0</td>\n",
       "      <td>wls_female</td>\n",
       "    </tr>\n",
       "    <tr>\n",
       "      <th>3</th>\n",
       "      <td>2000000047</td>\n",
       "      <td>1</td>\n",
       "      <td>71.0</td>\n",
       "      <td>okay um a girl and a boy. he's standing on a s...</td>\n",
       "      <td>0</td>\n",
       "      <td>wls_female</td>\n",
       "    </tr>\n",
       "    <tr>\n",
       "      <th>4</th>\n",
       "      <td>2000000054</td>\n",
       "      <td>1</td>\n",
       "      <td>70.0</td>\n",
       "      <td>well the boy is getting the getting a cookie j...</td>\n",
       "      <td>0</td>\n",
       "      <td>wls_female</td>\n",
       "    </tr>\n",
       "  </tbody>\n",
       "</table>\n",
       "</div>"
      ],
      "text/plain": [
       "         file  gender   age  \\\n",
       "0  2000000002       1  71.0   \n",
       "1  2000000007       1  66.0   \n",
       "2  2000000032       1  71.0   \n",
       "3  2000000047       1  71.0   \n",
       "4  2000000054       1  70.0   \n",
       "\n",
       "                                                text  source      target  \n",
       "0  I see a woman washing dishes. the sink is over...       0  wls_female  \n",
       "1  okay. I see a girl. I see a boy a cookie jar c...       0  wls_female  \n",
       "2  well there's a cookie jar. there's the cover o...       0  wls_female  \n",
       "3  okay um a girl and a boy. he's standing on a s...       0  wls_female  \n",
       "4  well the boy is getting the getting a cookie j...       0  wls_female  "
      ]
     },
     "execution_count": 5,
     "metadata": {},
     "output_type": "execute_result"
    }
   ],
   "source": [
    "df.head()"
   ]
  },
  {
   "cell_type": "markdown",
   "id": "3786de13-76b4-4001-9d39-c401231995b0",
   "metadata": {},
   "source": [
    "- distribution of traget variable"
   ]
  },
  {
   "cell_type": "code",
   "execution_count": 6,
   "id": "419c8b91-00ac-45d1-bcd0-bfcff508e503",
   "metadata": {},
   "outputs": [
    {
     "data": {
      "text/plain": [
       "1    731\n",
       "0    579\n",
       "Name: gender, dtype: int64"
      ]
     },
     "execution_count": 6,
     "metadata": {},
     "output_type": "execute_result"
    }
   ],
   "source": [
    "df.gender.value_counts()"
   ]
  },
  {
   "cell_type": "code",
   "execution_count": 7,
   "id": "f0ba84f3-197c-47e3-9c13-b8291e508377",
   "metadata": {},
   "outputs": [
    {
     "data": {
      "image/png": "[encoded data removed]",
      "text/plain": [
       "<Figure size 640x480 with 1 Axes>"
      ]
     },
     "metadata": {},
     "output_type": "display_data"
    }
   ],
   "source": [
    "df.groupby(\"gender\").size().plot.bar()\n",
    "pass"
   ]
  },
  {
   "cell_type": "code",
   "execution_count": 8,
   "id": "e6e14881-1db6-4bf5-a756-0317e6f65b81",
   "metadata": {},
   "outputs": [
    {
     "data": {
      "image/png": "[encoded data removed]",
      "text/plain": [
       "<Figure size 640x480 with 1 Axes>"
      ]
     },
     "metadata": {},
     "output_type": "display_data"
    }
   ],
   "source": [
    "df.groupby(\"source\").size().plot.bar()\n",
    "pass"
   ]
  },
  {
   "cell_type": "code",
   "execution_count": 9,
   "id": "bca50704-bd88-4a97-a876-e896e875d646",
   "metadata": {},
   "outputs": [
    {
     "data": {
      "text/plain": [
       "1    0.558015\n",
       "0    0.441985\n",
       "Name: gender, dtype: float64"
      ]
     },
     "execution_count": 9,
     "metadata": {},
     "output_type": "execute_result"
    }
   ],
   "source": [
    "df.gender.value_counts()/len(df)"
   ]
  },
  {
   "cell_type": "code",
   "execution_count": 10,
   "id": "fcd0df51-278d-4c4a-9928-cff4c9f8cf02",
   "metadata": {},
   "outputs": [
    {
     "data": {
      "text/plain": [
       "0    0.816031\n",
       "1    0.183969\n",
       "Name: source, dtype: float64"
      ]
     },
     "execution_count": 10,
     "metadata": {},
     "output_type": "execute_result"
    }
   ],
   "source": [
    "df.source.value_counts()/len(df)"
   ]
  },
  {
   "cell_type": "markdown",
   "id": "3a7d7ea2-f866-48ed-9042-9b9927d8e6df",
   "metadata": {},
   "source": [
    "## Model Config"
   ]
  },
  {
   "cell_type": "code",
   "execution_count": 11,
   "id": "bfd68aab-ce95-4078-b6f1-2bcfb5e06539",
   "metadata": {},
   "outputs": [],
   "source": [
    "num_labels = 2\n",
    "\n",
    "\n",
    "pretrained = 'bert-base-uncased'\n",
    "device = 'cuda:0'\n",
    "\n",
    "max_length = 120\n",
    "num_epochs = 10\n",
    "hidden_dropout_prob = 0.1\n",
    "num_warmup_steps = 0\n",
    "batch_size = 30\n",
    "\n",
    "\n",
    "lr = 1e-6\n",
    "grad_norm = 1.0\n",
    "balance_weights = False"
   ]
  },
  {
   "cell_type": "code",
   "execution_count": 12,
   "id": "2850307c-4656-41fe-b85b-18c60a1a4c23",
   "metadata": {},
   "outputs": [],
   "source": [
    "model_config = {}\n",
    "model_config[\"pretrained\"] = pretrained\n",
    "model_config[\"max_length\"] = max_length\n",
    "model_config[\"num_labels\"] = num_labels\n",
    "model_config[\"hidden_dropout_prob\"] = hidden_dropout_prob\n",
    "model_config[\"num_epochs\"] = num_epochs\n",
    "model_config[\"num_warmup_steps\"] = num_warmup_steps\n",
    "model_config[\"batch_size\"] = batch_size\n",
    "model_config[\"lr\"] = lr\n",
    "model_config[\"balance_weights\"] = balance_weights\n",
    "model_config[\"grad_norm\"] = grad_norm"
   ]
  },
  {
   "cell_type": "markdown",
   "id": "2be9c11b-9cff-47ca-821c-50e97229fe76",
   "metadata": {
    "tags": []
   },
   "source": [
    "## Combination Runs"
   ]
  },
  {
   "cell_type": "code",
   "execution_count": 6,
   "id": "2a21e75c-8b43-44fc-8dcc-edfdd4d78f40",
   "metadata": {},
   "outputs": [
    {
     "data": {
      "text/plain": [
       "1    0.639004\n",
       "0    0.360996\n",
       "Name: gender, dtype: float64"
      ]
     },
     "execution_count": 6,
     "metadata": {},
     "output_type": "execute_result"
    }
   ],
   "source": [
    "df_pitts.gender.value_counts()/len(df_pitts)"
   ]
  },
  {
   "cell_type": "code",
   "execution_count": 7,
   "id": "4359f355-fedb-4ffe-ae8e-e02f3101a5c3",
   "metadata": {},
   "outputs": [
    {
     "data": {
      "text/plain": [
       "1    0.539757\n",
       "0    0.460243\n",
       "Name: gender, dtype: float64"
      ]
     },
     "execution_count": 7,
     "metadata": {},
     "output_type": "execute_result"
    }
   ],
   "source": [
    "df_wls.gender.value_counts()/len(df_wls)"
   ]
  },
  {
   "cell_type": "code",
   "execution_count": 6,
   "id": "7bfccef7-8471-48f6-bccd-f43a78f787bc",
   "metadata": {},
   "outputs": [
    {
     "data": {
      "text/plain": [
       "1310"
      ]
     },
     "execution_count": 6,
     "metadata": {},
     "output_type": "execute_result"
    }
   ],
   "source": [
    "len(df)"
   ]
  },
  {
   "cell_type": "code",
   "execution_count": 10,
   "id": "10df1dcd-1346-48d1-96c4-c1c0b36603d2",
   "metadata": {},
   "outputs": [],
   "source": [
    "n_test = 100 # the number of testing examples; set to None to disable (i.e., get as many examples as possible)\n",
    "n_test_error = 5\n",
    "\n",
    "p_wls = (df_wls.gender.value_counts()/len(df_wls))[1]\n",
    "p_pitts = (df_pitts.gender.value_counts()/len(df_pitts))[1]\n",
    "\n",
    "p_z1_mix = (df.source.value_counts()/len(df))[1]\n",
    "\n",
    "\n",
    "# p_wls = 0.54\n",
    "# p_pitts = 0.64\n",
    "# p_z1_mix = 0.18\n",
    "\n",
    "valid_high_combinations = []\n",
    "valid_full_settings = []\n",
    "for combination in itertools.product([p_wls], \n",
    "                                    [p_pitts], \n",
    "                                    [p_z1_mix],\n",
    "                                     np.arange(0, 4, 0.1), #range alpha from 0 to 4\n",
    "                                     [4], # train/test ratio\n",
    "                                     [n_test],\n",
    "                                     [n_test_error]\n",
    "                                    ):\n",
    "    \n",
    "    ret = confoundSplitNumbers(df0=df_wls, df1=df_pitts, \n",
    "                        df0_label='gender', df1_label='gender',\n",
    "\n",
    "                        p_pos_train_z0=combination[0], p_pos_train_z1 = combination[1], p_mix_z1 = combination[2], alpha_test = combination[3],\n",
    "\n",
    "                        train_test_ratio = combination[4], \n",
    "                            n_test=n_test, n_test_error=n_test_error\n",
    "                       )\n",
    "   \n",
    "    if (ret is not None) and (ret['n_df0_train_pos'] >= 1): # valid high combos\n",
    "        valid_high_combinations.append(combination)\n",
    "        valid_full_settings.append(ret)\n",
    "    "
   ]
  },
  {
   "cell_type": "code",
   "execution_count": 1,
   "id": "f6286d0c-29a8-48b2-8e67-4465d9c8fd1e",
   "metadata": {},
   "outputs": [
    {
     "ename": "NameError",
     "evalue": "name 'valid_full_settings' is not defined",
     "output_type": "error",
     "traceback": [
      "\u001b[0;31m---------------------------------------------------------------------------\u001b[0m",
      "\u001b[0;31mNameError\u001b[0m                                 Traceback (most recent call last)",
      "Cell \u001b[0;32mIn[1], line 1\u001b[0m\n\u001b[0;32m----> 1\u001b[0m \u001b[38;5;28mlen\u001b[39m(\u001b[43mvalid_full_settings\u001b[49m)\n",
      "\u001b[0;31mNameError\u001b[0m: name 'valid_full_settings' is not defined"
     ]
    }
   ],
   "source": [
    "len(valid_full_settings)"
   ]
  },
  {
   "cell_type": "code",
   "execution_count": 12,
   "id": "088f5e4a-cc3a-4c31-a6fe-14ea72f5de1f",
   "metadata": {},
   "outputs": [
    {
     "data": {
      "text/plain": [
       "[{'n_df0_train_pos': 531,\n",
       "  'n_df0_test_pos': 46,\n",
       "  'n_df0_train_neg': 125,\n",
       "  'n_df0_test_neg': 22,\n",
       "  'n_df1_train_pos': 93,\n",
       "  'n_df1_test_pos': 20,\n",
       "  'n_df1_train_neg': 54,\n",
       "  'n_df1_test_neg': 16,\n",
       "  'mix_param_dict': {'p_pos_train_z0': 0.539756782039289,\n",
       "   'p_pos_train_z1': 0.6390041493775933,\n",
       "   'p_pos_train': 0.5580152671755725,\n",
       "   'p_pos_test': 0.5580152671755725,\n",
       "   'p_mix_z0': 0.816030534351145,\n",
       "   'p_mix_z1': 0.18396946564885497,\n",
       "   'alpha_train': 1.1838742386215724,\n",
       "   'alpha_test': 0.1,\n",
       "   'p_pos_test_z0': 0.6687402799377915,\n",
       "   'p_pos_test_z1': 0.06687402799377916,\n",
       "   'C_y': 0.5580152671755725,\n",
       "   'C_z': 0.18396946564885497},\n",
       "  'n_train': 803,\n",
       "  'n_test': 104},\n",
       " {'n_df0_train_pos': 537,\n",
       "  'n_df0_test_pos': 40,\n",
       "  'n_df0_train_neg': 112,\n",
       "  'n_df0_test_neg': 21,\n",
       "  'n_df1_train_pos': 93,\n",
       "  'n_df1_test_pos': 35,\n",
       "  'n_df1_train_neg': 53,\n",
       "  'n_df1_test_neg': 1,\n",
       "  'mix_param_dict': {'p_pos_train_z0': 0.539756782039289,\n",
       "   'p_pos_train_z1': 0.6390041493775933,\n",
       "   'p_pos_train': 0.5580152671755725,\n",
       "   'p_pos_test': 0.5580152671755725,\n",
       "   'p_mix_z0': 0.816030534351145,\n",
       "   'p_mix_z1': 0.18396946564885497,\n",
       "   'alpha_train': 1.1838742386215724,\n",
       "   'alpha_test': 0.2,\n",
       "   'p_pos_test_z0': 0.654314357321876,\n",
       "   'p_pos_test_z1': 0.13086287146437522,\n",
       "   'C_y': 0.5580152671755725,\n",
       "   'C_z': 0.18396946564885497},\n",
       "  'n_train': 795,\n",
       "  'n_test': 97}]"
      ]
     },
     "execution_count": 12,
     "metadata": {},
     "output_type": "execute_result"
    }
   ],
   "source": [
    "valid_full_settings"
   ]
  },
  {
   "cell_type": "code",
   "execution_count": 17,
   "id": "09548026-aaab-493b-8560-21bb95c472a3",
   "metadata": {},
   "outputs": [],
   "source": [
    "losses_dict = {}\n",
    "\n",
    "losses_dict['combination'] = []\n",
    "losses_dict['full_setting']=[]\n",
    "losses_dict['losses'] = []\n",
    "losses_dict['auroc'] = []\n",
    "losses_dict['auprc'] = []\n",
    "losses_dict['acc'] = []\n",
    "\n",
    "random.seed(23)\n"
   ]
  },
  {
   "cell_type": "code",
   "execution_count": 18,
   "id": "cf7e2de6-a7b6-4cd5-9ffb-d69826414a7e",
   "metadata": {},
   "outputs": [
    {
     "data": {
      "application/vnd.jupyter.widget-view+json": {
       "model_id": "a81380d751194e219996d483ed8ac020",
       "version_major": 2,
       "version_minor": 0
      },
      "text/plain": [
       "  0%|          | 0/39 [00:00<?, ?it/s]"
      ]
     },
     "metadata": {},
     "output_type": "display_data"
    }
   ],
   "source": [
    "for c,setting in tqdm(zip(valid_high_combinations, valid_full_settings), total=len(valid_high_combinations)):\n",
    "    losses_dict['combination'].append(c)\n",
    "    losses_dict['full_setting'].append(setting)\n",
    "    \n",
    "    losses = []\n",
    "    _auroc = []\n",
    "    _auprc = []    \n",
    "    _acc = []\n",
    "    \n",
    "    for i in range(5):\n",
    "        _rand = random.randint(0,1000)    \n",
    "\n",
    "        combination = c\n",
    "        # combination = (0.201, 0.6, 0.3, 1.0, 4)\n",
    "        # combination = (0.201, 0.7, 0.5, 1.4, 4)\n",
    "        ret = confoundSplitDF(df0=df_wls, df1=df_pitts, \n",
    "                              df0_label='gender', df1_label='gender',\n",
    "                              p_pos_train_z0=combination[0], \n",
    "                              p_pos_train_z1 = combination[1], \n",
    "                              p_mix_z1 = combination[2], \n",
    "                              alpha_test = combination[3],\n",
    "                              train_test_ratio = combination[4],\n",
    "                              random_state= _rand,\n",
    "                              n_test=combination[5],\n",
    "                              n_test_error=combination[6]\n",
    "                                   )\n",
    "\n",
    "        df_train = pd.concat(\n",
    "                [\n",
    "                    ret[\"sample_df0_train\"][[\"text\", \"gender\"]],\n",
    "                    ret[\"sample_df1_train\"][[\"text\", \"gender\"]],\n",
    "                ],\n",
    "                ignore_index=True,\n",
    "            )\n",
    "\n",
    "        df_test = pd.concat(\n",
    "                [\n",
    "                    ret[\"sample_df0_test\"][[\"text\", \"gender\"]],\n",
    "                    ret[\"sample_df1_test\"][[\"text\", \"gender\"]],\n",
    "                ],\n",
    "                ignore_index=True,\n",
    "            )\n",
    "\n",
    "\n",
    "        X_train = df_train[\"text\"]\n",
    "        y_train = df_train[[\"gender\"]]\n",
    "\n",
    "        X_test = df_test[\"text\"]\n",
    "        y_test = df_test[[\"gender\"]]\n",
    "\n",
    "\n",
    "\n",
    " \n",
    "        model = BinaryClassificationNN(**model_config)\n",
    "\n",
    "        model.load_pretrained()\n",
    "\n",
    "        model.trainModel(\n",
    "                X=X_train, y=y_train, device=\"cuda:0\"\n",
    "            )\n",
    "\n",
    "\n",
    "\n",
    "        y_pred, y_prob = model.predict(\n",
    "                X=X_test, device=\"cuda:0\"\n",
    "            )\n",
    "\n",
    "        \n",
    "\n",
    "        # collect metrics: loss, auroc, auprc, f1\n",
    "        loss = torch.nn.NLLLoss()\n",
    "\n",
    "        _loss = loss(\n",
    "            torch.log(torch.tensor(y_prob.values)),\n",
    "            torch.tensor(y_test.values).squeeze(1),\n",
    "        )\n",
    "\n",
    "        losses.append(_loss.item())\n",
    "\n",
    "        \n",
    "        _auroc.append(\n",
    "            metrics.roc_auc_score(\n",
    "                y_true=y_test.values,\n",
    "                y_score=y_prob.max(axis = 1),\n",
    "            )\n",
    "        )\n",
    "        _auprc.append(\n",
    "            metrics.average_precision_score(\n",
    "                y_true=y_test.values,\n",
    "                y_score=y_prob.max(axis = 1),\n",
    "            )\n",
    "        )\n",
    "        \n",
    "        _acc.append(\n",
    "            metrics.accuracy_score(\n",
    "                y_true = y_test.values,\n",
    "                y_pred = y_pred\n",
    "            )\n",
    "        )\n",
    "        #_f1_at_05.append(metrics.f1_score(y_true=y_test.values, y_pred=y_pred))\n",
    "    \n",
    "    losses_dict['losses'].append(losses)\n",
    "    losses_dict['auroc'].append(_auroc)\n",
    "    losses_dict['auprc'].append(_auprc)\n",
    "    losses_dict['acc'].append(_acc)"
   ]
  },
  {
   "cell_type": "markdown",
   "id": "23d18d5e-af72-4983-b92b-f132dc6eea8b",
   "metadata": {},
   "source": [
    "### Visualization"
   ]
  },
  {
   "cell_type": "code",
   "execution_count": 20,
   "id": "ecf1e91a-e798-40ec-b6c9-66ff91f828a9",
   "metadata": {},
   "outputs": [],
   "source": [
    "import matplotlib.pyplot as plt\n",
    "import seaborn as sns"
   ]
  },
  {
   "cell_type": "code",
   "execution_count": 21,
   "id": "31061eea-69ec-4954-9818-fa2e24ab2b9e",
   "metadata": {},
   "outputs": [],
   "source": [
    "def getTestPos(c, z):\n",
    "    ret = confoundSplitNumbers(df0=df_wls, df1=df_pitts, \n",
    "                            df0_label='gender', df1_label='gender',\n",
    "\n",
    "                            p_pos_train_z0=c[0], p_pos_train_z1 = c[1], p_mix_z1 = c[2], alpha_test = c[3],\n",
    "\n",
    "                            train_test_ratio = c[4],\n",
    "                           )\n",
    "    if z == \"z0\":\n",
    "        \n",
    "        return ret['mix_param_dict']['p_pos_test_z0']\n",
    "    elif z == \"z1\":\n",
    "        return ret['mix_param_dict']['p_pos_test_z1']\n",
    "\n",
    "def reformatLossDF(losses, key_metric):\n",
    "    tmp = pd.DataFrame.from_dict({c:losses[key_metric][idx] for idx,c in enumerate(losses['combination'])},\n",
    "                                 orient=\"index\"\n",
    "                                )\n",
    "\n",
    "    tmp = tmp.reset_index()\n",
    "\n",
    "    tmp = pd.melt(tmp, id_vars=\"index\", value_vars=[0,1,2,3,4])\n",
    "\n",
    "    tmp = tmp.assign(p_mix_z1=np.array(list(tmp['index']))[:,2], alpha_test=np.array(list(tmp['index']))[:,3])\n",
    "\n",
    "    tmp['p_pos_test_z0'] = tmp['index'].apply(lambda x: getTestPos(x,z=\"z0\"))\n",
    "    tmp['p_pos_test_z1'] = tmp['index'].apply(lambda x: getTestPos(x,z=\"z1\"))\n",
    "    \n",
    "    return tmp\n",
    "\n",
    "\n",
    "\n",
    "def plotAlphaPmix(losses, alpha_train, key_metric:['auroc', 'auprc','losses'], logx=False):\n",
    "    \n",
    "    \n",
    "    tmp = reformatLossDF(losses=losses, key_metric=key_metric)\n",
    "\n",
    "    \n",
    "    plt.figure(figsize=(12,10))\n",
    "\n",
    "    g = sns.FacetGrid(tmp, col=\"p_mix_z1\", col_wrap=3)\n",
    "\n",
    "    g.map_dataframe(sns.lineplot, x=\"alpha_test\", y=\"value\")\n",
    "\n",
    "    g.map(plt.axvline, x=alpha_train, ls='--', c='red', linewidth=1)\n",
    "\n",
    "    g.set(ylabel=key_metric)\n",
    "    \n",
    "    if logx:\n",
    "        plt.xscale('log')\n",
    "        \n",
    "    return tmp"
   ]
  },
  {
   "cell_type": "code",
   "execution_count": 22,
   "id": "54e43b5c-b26f-4aea-add9-7469ee7cf84c",
   "metadata": {},
   "outputs": [],
   "source": [
    "losses_ls = [losses_dict]"
   ]
  },
  {
   "cell_type": "code",
   "execution_count": 23,
   "id": "20879afd-4bd8-48ed-b0f5-e3376b64589f",
   "metadata": {},
   "outputs": [
    {
     "data": {
      "text/plain": [
       "<Figure size 1200x1000 with 0 Axes>"
      ]
     },
     "metadata": {},
     "output_type": "display_data"
    },
    {
     "data": {
      "image/png": "[encoded data removed]",
      "text/plain": [
       "<Figure size 900x300 with 1 Axes>"
      ]
     },
     "metadata": {},
     "output_type": "display_data"
    }
   ],
   "source": [
    "alpha_train = d\n",
    "tmp = plotAlphaPmix(losses=losses_ls[0], alpha_train=1.18, key_metric='losses')\n",
    "pass"
   ]
  },
  {
   "cell_type": "code",
   "execution_count": 24,
   "id": "9db02ee3-c21b-4f06-92e7-c10eb18efe80",
   "metadata": {},
   "outputs": [
    {
     "data": {
      "text/plain": [
       "<Figure size 1200x1000 with 0 Axes>"
      ]
     },
     "metadata": {},
     "output_type": "display_data"
    },
    {
     "data": {
      "image/png": "[encoded data removed]",
      "text/plain": [
       "<Figure size 900x300 with 1 Axes>"
      ]
     },
     "metadata": {},
     "output_type": "display_data"
    }
   ],
   "source": [
    "tmp = plotAlphaPmix(losses=losses_ls[0], alpha_train=1.18, key_metric='auroc')\n",
    "pass"
   ]
  },
  {
   "cell_type": "code",
   "execution_count": 37,
   "id": "b3a135cf-704d-48ff-a831-c561625441db",
   "metadata": {},
   "outputs": [
    {
     "data": {
      "text/plain": [
       "<Figure size 1200x1000 with 0 Axes>"
      ]
     },
     "metadata": {},
     "output_type": "display_data"
    },
    {
     "data": {
      "image/png": "[encoded data removed]",
      "text/plain": [
       "<Figure size 900x300 with 1 Axes>"
      ]
     },
     "metadata": {},
     "output_type": "display_data"
    }
   ],
   "source": [
    "tmp = plotAlphaPmix(losses=losses_ls[0], alpha_train=1.18, key_metric='auprc')\n",
    "pass"
   ]
  },
  {
   "cell_type": "code",
   "execution_count": 149,
   "id": "d25a77ed-3bf8-4a66-af1c-bee16e6f3b17",
   "metadata": {},
   "outputs": [
    {
     "data": {
      "text/plain": [
       "<Figure size 1200x1000 with 0 Axes>"
      ]
     },
     "metadata": {},
     "output_type": "display_data"
    },
    {
     "data": {
      "image/png": "[encoded data removed]",
      "text/plain": [
       "<Figure size 900x300 with 1 Axes>"
      ]
     },
     "metadata": {},
     "output_type": "display_data"
    }
   ],
   "source": [
    "tmp = plotAlphaPmix(losses=losses_ls[0], alpha_train=1.18, key_metric='losses')\n",
    "pass"
   ]
  },
  {
   "cell_type": "code",
   "execution_count": 136,
   "id": "9ebdd045-45e8-4ea4-94ee-967ed13d8646",
   "metadata": {},
   "outputs": [],
   "source": [
    "losses_dict['combination'] = losses_dict['combination'][5:]"
   ]
  },
  {
   "cell_type": "code",
   "execution_count": 133,
   "id": "1c8ba70c-6362-469a-96ac-7a62bc6d1da8",
   "metadata": {},
   "outputs": [
    {
     "data": {
      "text/plain": [
       "20"
      ]
     },
     "execution_count": 133,
     "metadata": {},
     "output_type": "execute_result"
    }
   ],
   "source": [
    "len(losses_dict['losses'])"
   ]
  },
  {
   "cell_type": "code",
   "execution_count": 130,
   "id": "6258cca9-42e9-4a03-a856-a7d3f762781c",
   "metadata": {},
   "outputs": [
    {
     "data": {
      "text/plain": [
       "[(0.54, 0.64, 0.18, 0.1, 4, None, 0),\n",
       " (0.54, 0.64, 0.18, 0.1, 4, None, 0),\n",
       " (0.54, 0.64, 0.18, 0.1, 4, None, 0),\n",
       " (0.54, 0.64, 0.18, 0.1, 4, None, 0),\n",
       " (0.54, 0.64, 0.18, 0.1, 4, None, 0),\n",
       " (0.54, 0.64, 0.18, 0.1, 4, None, 0),\n",
       " (0.54, 0.64, 0.18, 0.2, 4, None, 0),\n",
       " (0.54, 0.64, 0.18, 0.30000000000000004, 4, None, 0),\n",
       " (0.54, 0.64, 0.18, 0.4, 4, None, 0),\n",
       " (0.54, 0.64, 0.18, 0.5, 4, None, 0),\n",
       " (0.54, 0.64, 0.18, 0.6000000000000001, 4, None, 0),\n",
       " (0.54, 0.64, 0.18, 0.7000000000000001, 4, None, 0),\n",
       " (0.54, 0.64, 0.18, 0.8, 4, None, 0),\n",
       " (0.54, 0.64, 0.18, 0.9, 4, None, 0),\n",
       " (0.54, 0.64, 0.18, 1.0, 4, None, 0),\n",
       " (0.54, 0.64, 0.18, 1.1, 4, None, 0),\n",
       " (0.54, 0.64, 0.18, 1.2000000000000002, 4, None, 0),\n",
       " (0.54, 0.64, 0.18, 1.3, 4, None, 0),\n",
       " (0.54, 0.64, 0.18, 1.4000000000000001, 4, None, 0),\n",
       " (0.54, 0.64, 0.18, 1.5, 4, None, 0),\n",
       " (0.54, 0.64, 0.18, 1.6, 4, None, 0),\n",
       " (0.54, 0.64, 0.18, 1.7000000000000002, 4, None, 0),\n",
       " (0.54, 0.64, 0.18, 1.8, 4, None, 0),\n",
       " (0.54, 0.64, 0.18, 1.9000000000000001, 4, None, 0),\n",
       " (0.54, 0.64, 0.18, 2.0, 4, None, 0)]"
      ]
     },
     "execution_count": 130,
     "metadata": {},
     "output_type": "execute_result"
    }
   ],
   "source": [
    "losses_dict['combination']"
   ]
  },
  {
   "cell_type": "markdown",
   "id": "b9b79f8f-8de4-43d2-b15f-a292d4da433e",
   "metadata": {},
   "source": [
    "## Load Data Fisher"
   ]
  },
  {
   "cell_type": "code",
   "execution_count": 162,
   "id": "24d4c888-5088-4710-9072-55146cc102a4",
   "metadata": {},
   "outputs": [],
   "source": [
    "df_fisher = pd.read_csv('./processed_fisher.tsv', sep = '\\t', index_col = 0)"
   ]
  },
  {
   "cell_type": "code",
   "execution_count": 170,
   "id": "3e4aed0a-4cb4-4a68-9b43-c5fd1cd7de96",
   "metadata": {},
   "outputs": [
    {
     "data": {
      "text/html": [
       "<div>\n",
       "<style scoped>\n",
       "    .dataframe tbody tr th:only-of-type {\n",
       "        vertical-align: middle;\n",
       "    }\n",
       "\n",
       "    .dataframe tbody tr th {\n",
       "        vertical-align: top;\n",
       "    }\n",
       "\n",
       "    .dataframe thead th {\n",
       "        text-align: right;\n",
       "    }\n",
       "</style>\n",
       "<table border=\"1\" class=\"dataframe\">\n",
       "  <thead>\n",
       "    <tr style=\"text-align: right;\">\n",
       "      <th></th>\n",
       "      <th>conversation</th>\n",
       "      <th>speaker</th>\n",
       "      <th>text</th>\n",
       "      <th>DATE_TIME</th>\n",
       "      <th>TOPICID</th>\n",
       "      <th>SIG_GRADE</th>\n",
       "      <th>CNV_GRADE</th>\n",
       "      <th>PIN</th>\n",
       "      <th>SX.DL</th>\n",
       "      <th>PHNUM</th>\n",
       "      <th>PHSET</th>\n",
       "      <th>PHTYP</th>\n",
       "      <th>S_SEX</th>\n",
       "      <th>S_AGE</th>\n",
       "      <th>EDU</th>\n",
       "      <th>NATIVE_LANG</th>\n",
       "      <th>WHERE_RAISED</th>\n",
       "      <th>NSIDES</th>\n",
       "      <th>SIDE_DATA</th>\n",
       "    </tr>\n",
       "  </thead>\n",
       "  <tbody>\n",
       "    <tr>\n",
       "      <th>0</th>\n",
       "      <td>1855</td>\n",
       "      <td>A</td>\n",
       "      <td>hello  hello  hi my name is betsy  hi  yeah w...</td>\n",
       "      <td>20030423_22:18:25</td>\n",
       "      <td>ENG29</td>\n",
       "      <td>3.0</td>\n",
       "      <td>3.5</td>\n",
       "      <td>27792</td>\n",
       "      <td>f.a</td>\n",
       "      <td>860889pik</td>\n",
       "      <td>NaN</td>\n",
       "      <td>2.0</td>\n",
       "      <td>F</td>\n",
       "      <td>43.0</td>\n",
       "      <td>15.0</td>\n",
       "      <td>English</td>\n",
       "      <td>CT</td>\n",
       "      <td>1</td>\n",
       "      <td>01855_A/f.a</td>\n",
       "    </tr>\n",
       "    <tr>\n",
       "      <th>1</th>\n",
       "      <td>1855</td>\n",
       "      <td>B</td>\n",
       "      <td>hello  hello  hi  my name is ray  okay this i...</td>\n",
       "      <td>20030423_22:18:25</td>\n",
       "      <td>ENG29</td>\n",
       "      <td>3.0</td>\n",
       "      <td>3.5</td>\n",
       "      <td>92397</td>\n",
       "      <td>m.a</td>\n",
       "      <td>972814eei</td>\n",
       "      <td>NaN</td>\n",
       "      <td>1.0</td>\n",
       "      <td>M</td>\n",
       "      <td>20.0</td>\n",
       "      <td>15.0</td>\n",
       "      <td>English</td>\n",
       "      <td>CA</td>\n",
       "      <td>2</td>\n",
       "      <td>01855_B/m.a;04589_B/m.a</td>\n",
       "    </tr>\n",
       "    <tr>\n",
       "      <th>2</th>\n",
       "      <td>1882</td>\n",
       "      <td>A</td>\n",
       "      <td>hi i'm laura  okay  yes it is  okay  well do ...</td>\n",
       "      <td>20030424_15:14:53</td>\n",
       "      <td>ENG30</td>\n",
       "      <td>4.0</td>\n",
       "      <td>3.5</td>\n",
       "      <td>85888</td>\n",
       "      <td>f.a</td>\n",
       "      <td>815485brm</td>\n",
       "      <td>NaN</td>\n",
       "      <td>2.0</td>\n",
       "      <td>F</td>\n",
       "      <td>32.0</td>\n",
       "      <td>18.0</td>\n",
       "      <td>English</td>\n",
       "      <td>IL</td>\n",
       "      <td>2</td>\n",
       "      <td>01882_A/f.a;01988_A/f.a</td>\n",
       "    </tr>\n",
       "    <tr>\n",
       "      <th>3</th>\n",
       "      <td>1882</td>\n",
       "      <td>B</td>\n",
       "      <td>hi laura i'm brenda  this is your first time ...</td>\n",
       "      <td>20030424_15:14:53</td>\n",
       "      <td>ENG30</td>\n",
       "      <td>4.0</td>\n",
       "      <td>3.5</td>\n",
       "      <td>81482</td>\n",
       "      <td>f.a</td>\n",
       "      <td>931823sev</td>\n",
       "      <td>NaN</td>\n",
       "      <td>2.0</td>\n",
       "      <td>F</td>\n",
       "      <td>53.0</td>\n",
       "      <td>14.0</td>\n",
       "      <td>English</td>\n",
       "      <td>NY</td>\n",
       "      <td>3</td>\n",
       "      <td>01882_B/f.a;06489_B/f.a;06864_A/f.a</td>\n",
       "    </tr>\n",
       "    <tr>\n",
       "      <th>4</th>\n",
       "      <td>1815</td>\n",
       "      <td>A</td>\n",
       "      <td>hello this is karen  hi  (( good where are yo...</td>\n",
       "      <td>20030423_18:12:14</td>\n",
       "      <td>ENG29</td>\n",
       "      <td>4.0</td>\n",
       "      <td>3.0</td>\n",
       "      <td>41313</td>\n",
       "      <td>f.a</td>\n",
       "      <td>618624xpf</td>\n",
       "      <td>NaN</td>\n",
       "      <td>3.0</td>\n",
       "      <td>F</td>\n",
       "      <td>50.0</td>\n",
       "      <td>15.0</td>\n",
       "      <td>English</td>\n",
       "      <td>IL</td>\n",
       "      <td>3</td>\n",
       "      <td>01815_A/f.a;01907_A/f.a;03873_A/f.a</td>\n",
       "    </tr>\n",
       "  </tbody>\n",
       "</table>\n",
       "</div>"
      ],
      "text/plain": [
       "   conversation speaker                                               text  \\\n",
       "0          1855       A   hello  hello  hi my name is betsy  hi  yeah w...   \n",
       "1          1855       B   hello  hello  hi  my name is ray  okay this i...   \n",
       "2          1882       A   hi i'm laura  okay  yes it is  okay  well do ...   \n",
       "3          1882       B   hi laura i'm brenda  this is your first time ...   \n",
       "4          1815       A   hello this is karen  hi  (( good where are yo...   \n",
       "\n",
       "           DATE_TIME TOPICID  SIG_GRADE  CNV_GRADE    PIN SX.DL      PHNUM  \\\n",
       "0  20030423_22:18:25   ENG29        3.0        3.5  27792   f.a  860889pik   \n",
       "1  20030423_22:18:25   ENG29        3.0        3.5  92397   m.a  972814eei   \n",
       "2  20030424_15:14:53   ENG30        4.0        3.5  85888   f.a  815485brm   \n",
       "3  20030424_15:14:53   ENG30        4.0        3.5  81482   f.a  931823sev   \n",
       "4  20030423_18:12:14   ENG29        4.0        3.0  41313   f.a  618624xpf   \n",
       "\n",
       "   PHSET  PHTYP S_SEX  S_AGE   EDU NATIVE_LANG WHERE_RAISED  NSIDES  \\\n",
       "0    NaN    2.0     F   43.0  15.0     English           CT       1   \n",
       "1    NaN    1.0     M   20.0  15.0     English           CA       2   \n",
       "2    NaN    2.0     F   32.0  18.0     English           IL       2   \n",
       "3    NaN    2.0     F   53.0  14.0     English           NY       3   \n",
       "4    NaN    3.0     F   50.0  15.0     English           IL       3   \n",
       "\n",
       "                             SIDE_DATA  \n",
       "0                          01855_A/f.a  \n",
       "1              01855_B/m.a;04589_B/m.a  \n",
       "2              01882_A/f.a;01988_A/f.a  \n",
       "3  01882_B/f.a;06489_B/f.a;06864_A/f.a  \n",
       "4  01815_A/f.a;01907_A/f.a;03873_A/f.a  "
      ]
     },
     "execution_count": 170,
     "metadata": {},
     "output_type": "execute_result"
    }
   ],
   "source": [
    "df_fisher.head()"
   ]
  },
  {
   "cell_type": "code",
   "execution_count": 176,
   "id": "7bf7fa8a-9d23-478a-ac84-25a11d6f8643",
   "metadata": {},
   "outputs": [
    {
     "data": {
      "text/plain": [
       "Index(['conversation', 'speaker', 'text', 'DATE_TIME', 'TOPICID', 'SIG_GRADE',\n",
       "       'CNV_GRADE', 'PIN', 'SX.DL', 'PHNUM', 'PHSET', 'PHTYP', 'S_SEX',\n",
       "       'S_AGE', 'EDU', 'NATIVE_LANG', 'WHERE_RAISED', 'NSIDES', 'SIDE_DATA'],\n",
       "      dtype='object')"
      ]
     },
     "execution_count": 176,
     "metadata": {},
     "output_type": "execute_result"
    }
   ],
   "source": [
    "df_fisher.columns"
   ]
  },
  {
   "cell_type": "code",
   "execution_count": 172,
   "id": "ba6d3a02-7446-49a7-930a-9615e837b853",
   "metadata": {},
   "outputs": [
    {
     "data": {
      "text/plain": [
       "NY          3035\n",
       "CA          2601\n",
       "PA          2059\n",
       "TX          1084\n",
       "NJ          1009\n",
       "            ... \n",
       "Ghana          1\n",
       "Ecuador        1\n",
       "PROVINCE       1\n",
       "Dominica       1\n",
       "Uganda         1\n",
       "Name: WHERE_RAISED, Length: 153, dtype: int64"
      ]
     },
     "execution_count": 172,
     "metadata": {},
     "output_type": "execute_result"
    }
   ],
   "source": [
    "df_fisher.WHERE_RAISED.value_counts()"
   ]
  },
  {
   "cell_type": "code",
   "execution_count": 229,
   "id": "600bb96b-9ea9-4356-9249-800a9a6ee452",
   "metadata": {},
   "outputs": [
    {
     "data": {
      "image/png": "[encoded data removed]",
      "text/plain": [
       "<Figure size 1500x1000 with 1 Axes>"
      ]
     },
     "metadata": {},
     "output_type": "display_data"
    }
   ],
   "source": [
    "plt.figure(figsize = (15,10))\n",
    "df_fisher.groupby(\"WHERE_RAISED\").size().sort_values().plot.bar()\n",
    "plt.xticks(fontsize=7, rotation=90)\n",
    "plt.show()\n"
   ]
  },
  {
   "cell_type": "code",
   "execution_count": 194,
   "id": "f0dbd0c9-b951-45d1-b8a8-4d204eab58e0",
   "metadata": {},
   "outputs": [],
   "source": [
    "df_fisher_us = df_fisher[df_fisher[\"WHERE_RAISED\"].str.len()==2]"
   ]
  },
  {
   "cell_type": "code",
   "execution_count": 195,
   "id": "33a78068-0519-4918-ae9f-e95feefab7b9",
   "metadata": {},
   "outputs": [
    {
     "data": {
      "text/plain": [
       "NY    3035\n",
       "CA    2601\n",
       "PA    2059\n",
       "TX    1084\n",
       "NJ    1009\n",
       "IL     960\n",
       "OH     881\n",
       "MI     723\n",
       "FL     715\n",
       "MA     588\n",
       "GA     477\n",
       "WA     441\n",
       "IN     405\n",
       "MN     403\n",
       "VA     388\n",
       "MD     374\n",
       "WI     332\n",
       "CT     331\n",
       "NC     326\n",
       "MO     311\n",
       "TN     300\n",
       "OR     240\n",
       "OK     239\n",
       "IA     211\n",
       "AL     206\n",
       "KY     206\n",
       "LA     203\n",
       "AZ     194\n",
       "CO     191\n",
       "KS     176\n",
       "SC     139\n",
       "UT     132\n",
       "MS     109\n",
       "WV     107\n",
       "NE     106\n",
       "DC     102\n",
       "AR      89\n",
       "ME      81\n",
       "RI      78\n",
       "ID      76\n",
       "NH      74\n",
       "DE      72\n",
       "NM      59\n",
       "MT      49\n",
       "WY      40\n",
       "SD      38\n",
       "NV      38\n",
       "AK      36\n",
       "HI      36\n",
       "ND      33\n",
       "VT      30\n",
       "PR       2\n",
       "Name: WHERE_RAISED, dtype: int64"
      ]
     },
     "execution_count": 195,
     "metadata": {},
     "output_type": "execute_result"
    }
   ],
   "source": [
    "df_fisher_us.WHERE_RAISED.value_counts()"
   ]
  },
  {
   "cell_type": "code",
   "execution_count": 230,
   "id": "3b09fe08-8550-4479-81a8-b2e82bfd12f1",
   "metadata": {},
   "outputs": [
    {
     "data": {
      "image/png": "[encoded data removed]",
      "text/plain": [
       "<Figure size 1200x800 with 1 Axes>"
      ]
     },
     "metadata": {},
     "output_type": "display_data"
    }
   ],
   "source": [
    "plt.figure(figsize = (12,8))\n",
    "df_fisher_us.groupby(\"WHERE_RAISED\").size().sort_values().plot.bar()\n",
    "plt.xticks(fontsize=7, rotation=90)\n",
    "plt.show()"
   ]
  },
  {
   "cell_type": "markdown",
   "id": "9bc32b79-de53-4f79-bade-1ab36cee9741",
   "metadata": {},
   "source": [
    "### Select Most Prevalent Two States"
   ]
  },
  {
   "cell_type": "code",
   "execution_count": 199,
   "id": "ec5d5a61-1ccf-4db7-8c40-4dfd276c28b1",
   "metadata": {},
   "outputs": [],
   "source": [
    "ex_df = df_fisher_us[df_fisher_us['WHERE_RAISED'].isin(['NY', 'CA'])] "
   ]
  },
  {
   "cell_type": "code",
   "execution_count": 203,
   "id": "487e2c0c-4397-4457-b0e3-153e8394795a",
   "metadata": {},
   "outputs": [],
   "source": [
    "ex_df = ex_df.assign(geo_loc = ex_df.WHERE_RAISED)"
   ]
  },
  {
   "cell_type": "code",
   "execution_count": 204,
   "id": "ffb5f452-dc00-4573-8f9a-836e9f8f0e63",
   "metadata": {},
   "outputs": [
    {
     "data": {
      "text/plain": [
       "NY    3035\n",
       "CA    2601\n",
       "Name: geo_loc, dtype: int64"
      ]
     },
     "execution_count": 204,
     "metadata": {},
     "output_type": "execute_result"
    }
   ],
   "source": [
    "ex_df.geo_loc.value_counts()"
   ]
  },
  {
   "cell_type": "code",
   "execution_count": 249,
   "id": "b22dcef5-59fb-454d-ac80-850a36ec0b88",
   "metadata": {},
   "outputs": [
    {
     "data": {
      "text/plain": [
       "M    2927\n",
       "F    2699\n",
       "Name: S_SEX, dtype: int64"
      ]
     },
     "execution_count": 249,
     "metadata": {},
     "output_type": "execute_result"
    }
   ],
   "source": [
    "ex_df.S_SEX.value_counts()"
   ]
  },
  {
   "cell_type": "code",
   "execution_count": 250,
   "id": "66c35eac-37cd-4271-b90c-0da404e64533",
   "metadata": {},
   "outputs": [],
   "source": [
    "ex_df = ex_df.dropna(subset=['S_SEX','geo_loc'])"
   ]
  },
  {
   "cell_type": "code",
   "execution_count": 251,
   "id": "fefbf738-3dd6-4292-8ca2-27cdddf1ab2e",
   "metadata": {},
   "outputs": [
    {
     "data": {
      "text/plain": [
       "0.5383931745467473"
      ]
     },
     "execution_count": 251,
     "metadata": {},
     "output_type": "execute_result"
    }
   ],
   "source": [
    "# z_mix_pi = 0.538\n",
    "len(ex_df[ex_df['geo_loc'] == 'NY'])/len(ex_df)"
   ]
  },
  {
   "cell_type": "code",
   "execution_count": 252,
   "id": "049510ed-8d18-4e79-b729-cbb70c3ba02f",
   "metadata": {},
   "outputs": [
    {
     "data": {
      "text/plain": [
       "0.49950478705843515"
      ]
     },
     "execution_count": 252,
     "metadata": {},
     "output_type": "execute_result"
    }
   ],
   "source": [
    "# p_ny = 0.499\n",
    "len(ex_df[(ex_df['geo_loc'] == 'NY') & (ex_df['S_SEX'] == 'F')])/len(ex_df[ex_df['geo_loc'] == 'NY'])"
   ]
  },
  {
   "cell_type": "code",
   "execution_count": 253,
   "id": "e7f8555b-4643-46a0-a075-d482873b60d1",
   "metadata": {},
   "outputs": [
    {
     "data": {
      "text/plain": [
       "0.4566807855217559"
      ]
     },
     "execution_count": 253,
     "metadata": {},
     "output_type": "execute_result"
    }
   ],
   "source": [
    "# p_ny = 0.456\n",
    "len(ex_df[(ex_df['geo_loc'] == 'CA') & (ex_df['S_SEX'] == 'F')])/len(ex_df[ex_df['geo_loc'] == 'CA'])"
   ]
  },
  {
   "cell_type": "code",
   "execution_count": 255,
   "id": "609a0935-8de0-413c-99a9-9316cf7e6cf5",
   "metadata": {},
   "outputs": [
    {
     "name": "stderr",
     "output_type": "stream",
     "text": [
      "/home/sheng136/miniconda3/envs/deDTN/lib/python3.8/site-packages/pandas/core/generic.py:5168: SettingWithCopyWarning: \n",
      "A value is trying to be set on a copy of a slice from a DataFrame.\n",
      "Try using .loc[row_indexer,col_indexer] = value instead\n",
      "\n",
      "See the caveats in the documentation: https://pandas.pydata.org/pandas-docs/stable/user_guide/indexing.html#returning-a-view-versus-a-copy\n",
      "  self[name] = value\n"
     ]
    }
   ],
   "source": [
    "### Recode F/M and CA/NY\n",
    "ex_df.S_SEX = ex_df.S_SEX.map({'F': 1, 'M': 0}).astype(np.int64)\n",
    "ex_df.geo_loc = ex_df.geo_loc.map({'NY': 1, 'CA': 0}).astype(np.int64)"
   ]
  },
  {
   "cell_type": "code",
   "execution_count": 257,
   "id": "f4c05da9-6197-413d-a676-62888937ec72",
   "metadata": {},
   "outputs": [],
   "source": [
    "## FEMALE = 1, MALE = 0\n",
    "## NY = 1, CA = 0\n",
    "\n",
    "\n",
    "n_test = 200 # the number of testing examples; set to None to disable (i.e., get as many examples as possible)\n",
    "n_test_error = 0\n",
    "\n",
    "\n",
    "valid_high_combinations = []\n",
    "valid_full_settings = []\n",
    "for combination in itertools.product([0.56], \n",
    "                                    [0.499], \n",
    "                                    [0.538],\n",
    "                                     np.arange(0, 10, 0.1),\n",
    "                                     [4],\n",
    "                                     [n_test],\n",
    "                                     [n_test_error]\n",
    "                                    ):\n",
    "    \n",
    "    ret = confoundSplitNumbers(df0=ex_df[ex_df['geo_loc'] == 0], df1=ex_df[ex_df['geo_loc'] == 1], \n",
    "                        df0_label='S_SEX', df1_label='S_SEX',\n",
    "\n",
    "                        p_pos_train_z0=combination[0], p_pos_train_z1 = combination[1], p_mix_z1 = combination[2], alpha_test = combination[3],\n",
    "\n",
    "                        train_test_ratio = combination[4], \n",
    "                               n_test=n_test, n_test_error=n_test_error\n",
    "                       )\n",
    "   \n",
    "    if (ret is not None) and (ret['n_df0_train_pos'] >= 1): # valid high combos\n",
    "        valid_high_combinations.append(combination)\n",
    "        valid_full_settings.append(ret)"
   ]
  },
  {
   "cell_type": "code",
   "execution_count": 258,
   "id": "df3ae83c-e17d-4785-a9bd-cd405c1a9a56",
   "metadata": {},
   "outputs": [
    {
     "data": {
      "text/plain": [
       "23"
      ]
     },
     "execution_count": 258,
     "metadata": {},
     "output_type": "execute_result"
    }
   ],
   "source": [
    "len(valid_high_combinations)"
   ]
  },
  {
   "cell_type": "code",
   "execution_count": 259,
   "id": "5e5d9f8b-5351-4415-a401-59d4a9d061ec",
   "metadata": {},
   "outputs": [],
   "source": [
    "losses_dict = {}\n",
    "\n",
    "losses_dict['combination'] = []\n",
    "losses_dict['full_setting']=[]\n",
    "losses_dict['losses'] = []\n",
    "losses_dict['auroc'] = []\n",
    "losses_dict['auprc'] = []\n",
    "losses_dict['f1_at_05'] = []\n",
    "\n",
    "random.seed(23)"
   ]
  },
  {
   "cell_type": "code",
   "execution_count": 261,
   "id": "3554c6b9-1cd9-4154-9fdb-64aef9478395",
   "metadata": {},
   "outputs": [
    {
     "data": {
      "text/plain": [
       "{'n_df0_train_pos': 208,\n",
       " 'n_df0_test_pos': 79,\n",
       " 'n_df0_train_neg': 163,\n",
       " 'n_df0_test_neg': 14,\n",
       " 'n_df1_train_pos': 215,\n",
       " 'n_df1_test_pos': 27,\n",
       " 'n_df1_train_neg': 216,\n",
       " 'n_df1_test_neg': 80,\n",
       " 'mix_param_dict': {'p_pos_train_z0': 0.56,\n",
       "  'p_pos_train_z1': 0.499,\n",
       "  'p_pos_train': 0.527182,\n",
       "  'p_pos_test': 0.527182,\n",
       "  'p_mix_z0': 0.46199999999999997,\n",
       "  'p_mix_z1': 0.538,\n",
       "  'alpha_train': 0.8910714285714285,\n",
       "  'alpha_test': 0.30000000000000004,\n",
       "  'p_pos_test_z0': 0.8456560795636832,\n",
       "  'p_pos_test_z1': 0.25369682386910497,\n",
       "  'C_y': 0.527182,\n",
       "  'C_z': 0.538}}"
      ]
     },
     "execution_count": 261,
     "metadata": {},
     "output_type": "execute_result"
    }
   ],
   "source": [
    "valid_full_settings[0]"
   ]
  },
  {
   "cell_type": "code",
   "execution_count": 265,
   "id": "72d75274-001d-48a7-84f7-7e4ca4c7b188",
   "metadata": {},
   "outputs": [
    {
     "data": {
      "application/vnd.jupyter.widget-view+json": {
       "model_id": "c9572ef5ee194f7d9b06b83b6f41b868",
       "version_major": 2,
       "version_minor": 0
      },
      "text/plain": [
       "  0%|          | 0/23 [00:00<?, ?it/s]"
      ]
     },
     "metadata": {},
     "output_type": "display_data"
    },
    {
     "name": "stderr",
     "output_type": "stream",
     "text": [
      "/home/sheng136/miniconda3/envs/deDTN/lib/python3.8/site-packages/transformers/optimization.py:306: FutureWarning: This implementation of AdamW is deprecated and will be removed in a future version. Use the PyTorch implementation torch.optim.AdamW instead, or set `no_deprecation_warning=True` to disable this warning\n",
      "  warnings.warn(\n",
      "/home/sheng136/miniconda3/envs/deDTN/lib/python3.8/site-packages/transformers/optimization.py:306: FutureWarning: This implementation of AdamW is deprecated and will be removed in a future version. Use the PyTorch implementation torch.optim.AdamW instead, or set `no_deprecation_warning=True` to disable this warning\n",
      "  warnings.warn(\n",
      "/home/sheng136/miniconda3/envs/deDTN/lib/python3.8/site-packages/transformers/optimization.py:306: FutureWarning: This implementation of AdamW is deprecated and will be removed in a future version. Use the PyTorch implementation torch.optim.AdamW instead, or set `no_deprecation_warning=True` to disable this warning\n",
      "  warnings.warn(\n",
      "/home/sheng136/miniconda3/envs/deDTN/lib/python3.8/site-packages/transformers/optimization.py:306: FutureWarning: This implementation of AdamW is deprecated and will be removed in a future version. Use the PyTorch implementation torch.optim.AdamW instead, or set `no_deprecation_warning=True` to disable this warning\n",
      "  warnings.warn(\n",
      "/home/sheng136/miniconda3/envs/deDTN/lib/python3.8/site-packages/transformers/optimization.py:306: FutureWarning: This implementation of AdamW is deprecated and will be removed in a future version. Use the PyTorch implementation torch.optim.AdamW instead, or set `no_deprecation_warning=True` to disable this warning\n",
      "  warnings.warn(\n",
      "/home/sheng136/miniconda3/envs/deDTN/lib/python3.8/site-packages/transformers/optimization.py:306: FutureWarning: This implementation of AdamW is deprecated and will be removed in a future version. Use the PyTorch implementation torch.optim.AdamW instead, or set `no_deprecation_warning=True` to disable this warning\n",
      "  warnings.warn(\n",
      "/home/sheng136/miniconda3/envs/deDTN/lib/python3.8/site-packages/transformers/optimization.py:306: FutureWarning: This implementation of AdamW is deprecated and will be removed in a future version. Use the PyTorch implementation torch.optim.AdamW instead, or set `no_deprecation_warning=True` to disable this warning\n",
      "  warnings.warn(\n",
      "/home/sheng136/miniconda3/envs/deDTN/lib/python3.8/site-packages/transformers/optimization.py:306: FutureWarning: This implementation of AdamW is deprecated and will be removed in a future version. Use the PyTorch implementation torch.optim.AdamW instead, or set `no_deprecation_warning=True` to disable this warning\n",
      "  warnings.warn(\n",
      "/home/sheng136/miniconda3/envs/deDTN/lib/python3.8/site-packages/transformers/optimization.py:306: FutureWarning: This implementation of AdamW is deprecated and will be removed in a future version. Use the PyTorch implementation torch.optim.AdamW instead, or set `no_deprecation_warning=True` to disable this warning\n",
      "  warnings.warn(\n",
      "/home/sheng136/miniconda3/envs/deDTN/lib/python3.8/site-packages/transformers/optimization.py:306: FutureWarning: This implementation of AdamW is deprecated and will be removed in a future version. Use the PyTorch implementation torch.optim.AdamW instead, or set `no_deprecation_warning=True` to disable this warning\n",
      "  warnings.warn(\n",
      "/home/sheng136/miniconda3/envs/deDTN/lib/python3.8/site-packages/transformers/optimization.py:306: FutureWarning: This implementation of AdamW is deprecated and will be removed in a future version. Use the PyTorch implementation torch.optim.AdamW instead, or set `no_deprecation_warning=True` to disable this warning\n",
      "  warnings.warn(\n",
      "/home/sheng136/miniconda3/envs/deDTN/lib/python3.8/site-packages/transformers/optimization.py:306: FutureWarning: This implementation of AdamW is deprecated and will be removed in a future version. Use the PyTorch implementation torch.optim.AdamW instead, or set `no_deprecation_warning=True` to disable this warning\n",
      "  warnings.warn(\n",
      "/home/sheng136/miniconda3/envs/deDTN/lib/python3.8/site-packages/transformers/optimization.py:306: FutureWarning: This implementation of AdamW is deprecated and will be removed in a future version. Use the PyTorch implementation torch.optim.AdamW instead, or set `no_deprecation_warning=True` to disable this warning\n",
      "  warnings.warn(\n",
      "/home/sheng136/miniconda3/envs/deDTN/lib/python3.8/site-packages/transformers/optimization.py:306: FutureWarning: This implementation of AdamW is deprecated and will be removed in a future version. Use the PyTorch implementation torch.optim.AdamW instead, or set `no_deprecation_warning=True` to disable this warning\n",
      "  warnings.warn(\n",
      "/home/sheng136/miniconda3/envs/deDTN/lib/python3.8/site-packages/transformers/optimization.py:306: FutureWarning: This implementation of AdamW is deprecated and will be removed in a future version. Use the PyTorch implementation torch.optim.AdamW instead, or set `no_deprecation_warning=True` to disable this warning\n",
      "  warnings.warn(\n",
      "/home/sheng136/miniconda3/envs/deDTN/lib/python3.8/site-packages/transformers/optimization.py:306: FutureWarning: This implementation of AdamW is deprecated and will be removed in a future version. Use the PyTorch implementation torch.optim.AdamW instead, or set `no_deprecation_warning=True` to disable this warning\n",
      "  warnings.warn(\n",
      "/home/sheng136/miniconda3/envs/deDTN/lib/python3.8/site-packages/transformers/optimization.py:306: FutureWarning: This implementation of AdamW is deprecated and will be removed in a future version. Use the PyTorch implementation torch.optim.AdamW instead, or set `no_deprecation_warning=True` to disable this warning\n",
      "  warnings.warn(\n",
      "/home/sheng136/miniconda3/envs/deDTN/lib/python3.8/site-packages/transformers/optimization.py:306: FutureWarning: This implementation of AdamW is deprecated and will be removed in a future version. Use the PyTorch implementation torch.optim.AdamW instead, or set `no_deprecation_warning=True` to disable this warning\n",
      "  warnings.warn(\n",
      "/home/sheng136/miniconda3/envs/deDTN/lib/python3.8/site-packages/transformers/optimization.py:306: FutureWarning: This implementation of AdamW is deprecated and will be removed in a future version. Use the PyTorch implementation torch.optim.AdamW instead, or set `no_deprecation_warning=True` to disable this warning\n",
      "  warnings.warn(\n",
      "/home/sheng136/miniconda3/envs/deDTN/lib/python3.8/site-packages/transformers/optimization.py:306: FutureWarning: This implementation of AdamW is deprecated and will be removed in a future version. Use the PyTorch implementation torch.optim.AdamW instead, or set `no_deprecation_warning=True` to disable this warning\n",
      "  warnings.warn(\n",
      "/home/sheng136/miniconda3/envs/deDTN/lib/python3.8/site-packages/transformers/optimization.py:306: FutureWarning: This implementation of AdamW is deprecated and will be removed in a future version. Use the PyTorch implementation torch.optim.AdamW instead, or set `no_deprecation_warning=True` to disable this warning\n",
      "  warnings.warn(\n",
      "/home/sheng136/miniconda3/envs/deDTN/lib/python3.8/site-packages/transformers/optimization.py:306: FutureWarning: This implementation of AdamW is deprecated and will be removed in a future version. Use the PyTorch implementation torch.optim.AdamW instead, or set `no_deprecation_warning=True` to disable this warning\n",
      "  warnings.warn(\n",
      "/home/sheng136/miniconda3/envs/deDTN/lib/python3.8/site-packages/transformers/optimization.py:306: FutureWarning: This implementation of AdamW is deprecated and will be removed in a future version. Use the PyTorch implementation torch.optim.AdamW instead, or set `no_deprecation_warning=True` to disable this warning\n",
      "  warnings.warn(\n",
      "/home/sheng136/miniconda3/envs/deDTN/lib/python3.8/site-packages/transformers/optimization.py:306: FutureWarning: This implementation of AdamW is deprecated and will be removed in a future version. Use the PyTorch implementation torch.optim.AdamW instead, or set `no_deprecation_warning=True` to disable this warning\n",
      "  warnings.warn(\n",
      "/home/sheng136/miniconda3/envs/deDTN/lib/python3.8/site-packages/transformers/optimization.py:306: FutureWarning: This implementation of AdamW is deprecated and will be removed in a future version. Use the PyTorch implementation torch.optim.AdamW instead, or set `no_deprecation_warning=True` to disable this warning\n",
      "  warnings.warn(\n",
      "/home/sheng136/miniconda3/envs/deDTN/lib/python3.8/site-packages/transformers/optimization.py:306: FutureWarning: This implementation of AdamW is deprecated and will be removed in a future version. Use the PyTorch implementation torch.optim.AdamW instead, or set `no_deprecation_warning=True` to disable this warning\n",
      "  warnings.warn(\n",
      "/home/sheng136/miniconda3/envs/deDTN/lib/python3.8/site-packages/transformers/optimization.py:306: FutureWarning: This implementation of AdamW is deprecated and will be removed in a future version. Use the PyTorch implementation torch.optim.AdamW instead, or set `no_deprecation_warning=True` to disable this warning\n",
      "  warnings.warn(\n",
      "/home/sheng136/miniconda3/envs/deDTN/lib/python3.8/site-packages/transformers/optimization.py:306: FutureWarning: This implementation of AdamW is deprecated and will be removed in a future version. Use the PyTorch implementation torch.optim.AdamW instead, or set `no_deprecation_warning=True` to disable this warning\n",
      "  warnings.warn(\n",
      "/home/sheng136/miniconda3/envs/deDTN/lib/python3.8/site-packages/transformers/optimization.py:306: FutureWarning: This implementation of AdamW is deprecated and will be removed in a future version. Use the PyTorch implementation torch.optim.AdamW instead, or set `no_deprecation_warning=True` to disable this warning\n",
      "  warnings.warn(\n",
      "/home/sheng136/miniconda3/envs/deDTN/lib/python3.8/site-packages/transformers/optimization.py:306: FutureWarning: This implementation of AdamW is deprecated and will be removed in a future version. Use the PyTorch implementation torch.optim.AdamW instead, or set `no_deprecation_warning=True` to disable this warning\n",
      "  warnings.warn(\n",
      "/home/sheng136/miniconda3/envs/deDTN/lib/python3.8/site-packages/transformers/optimization.py:306: FutureWarning: This implementation of AdamW is deprecated and will be removed in a future version. Use the PyTorch implementation torch.optim.AdamW instead, or set `no_deprecation_warning=True` to disable this warning\n",
      "  warnings.warn(\n",
      "/home/sheng136/miniconda3/envs/deDTN/lib/python3.8/site-packages/transformers/optimization.py:306: FutureWarning: This implementation of AdamW is deprecated and will be removed in a future version. Use the PyTorch implementation torch.optim.AdamW instead, or set `no_deprecation_warning=True` to disable this warning\n",
      "  warnings.warn(\n",
      "/home/sheng136/miniconda3/envs/deDTN/lib/python3.8/site-packages/transformers/optimization.py:306: FutureWarning: This implementation of AdamW is deprecated and will be removed in a future version. Use the PyTorch implementation torch.optim.AdamW instead, or set `no_deprecation_warning=True` to disable this warning\n",
      "  warnings.warn(\n",
      "/home/sheng136/miniconda3/envs/deDTN/lib/python3.8/site-packages/transformers/optimization.py:306: FutureWarning: This implementation of AdamW is deprecated and will be removed in a future version. Use the PyTorch implementation torch.optim.AdamW instead, or set `no_deprecation_warning=True` to disable this warning\n",
      "  warnings.warn(\n",
      "/home/sheng136/miniconda3/envs/deDTN/lib/python3.8/site-packages/transformers/optimization.py:306: FutureWarning: This implementation of AdamW is deprecated and will be removed in a future version. Use the PyTorch implementation torch.optim.AdamW instead, or set `no_deprecation_warning=True` to disable this warning\n",
      "  warnings.warn(\n",
      "/home/sheng136/miniconda3/envs/deDTN/lib/python3.8/site-packages/transformers/optimization.py:306: FutureWarning: This implementation of AdamW is deprecated and will be removed in a future version. Use the PyTorch implementation torch.optim.AdamW instead, or set `no_deprecation_warning=True` to disable this warning\n",
      "  warnings.warn(\n",
      "/home/sheng136/miniconda3/envs/deDTN/lib/python3.8/site-packages/transformers/optimization.py:306: FutureWarning: This implementation of AdamW is deprecated and will be removed in a future version. Use the PyTorch implementation torch.optim.AdamW instead, or set `no_deprecation_warning=True` to disable this warning\n",
      "  warnings.warn(\n",
      "/home/sheng136/miniconda3/envs/deDTN/lib/python3.8/site-packages/transformers/optimization.py:306: FutureWarning: This implementation of AdamW is deprecated and will be removed in a future version. Use the PyTorch implementation torch.optim.AdamW instead, or set `no_deprecation_warning=True` to disable this warning\n",
      "  warnings.warn(\n",
      "/home/sheng136/miniconda3/envs/deDTN/lib/python3.8/site-packages/transformers/optimization.py:306: FutureWarning: This implementation of AdamW is deprecated and will be removed in a future version. Use the PyTorch implementation torch.optim.AdamW instead, or set `no_deprecation_warning=True` to disable this warning\n",
      "  warnings.warn(\n",
      "/home/sheng136/miniconda3/envs/deDTN/lib/python3.8/site-packages/transformers/optimization.py:306: FutureWarning: This implementation of AdamW is deprecated and will be removed in a future version. Use the PyTorch implementation torch.optim.AdamW instead, or set `no_deprecation_warning=True` to disable this warning\n",
      "  warnings.warn(\n",
      "/home/sheng136/miniconda3/envs/deDTN/lib/python3.8/site-packages/transformers/optimization.py:306: FutureWarning: This implementation of AdamW is deprecated and will be removed in a future version. Use the PyTorch implementation torch.optim.AdamW instead, or set `no_deprecation_warning=True` to disable this warning\n",
      "  warnings.warn(\n",
      "/home/sheng136/miniconda3/envs/deDTN/lib/python3.8/site-packages/transformers/optimization.py:306: FutureWarning: This implementation of AdamW is deprecated and will be removed in a future version. Use the PyTorch implementation torch.optim.AdamW instead, or set `no_deprecation_warning=True` to disable this warning\n",
      "  warnings.warn(\n",
      "/home/sheng136/miniconda3/envs/deDTN/lib/python3.8/site-packages/transformers/optimization.py:306: FutureWarning: This implementation of AdamW is deprecated and will be removed in a future version. Use the PyTorch implementation torch.optim.AdamW instead, or set `no_deprecation_warning=True` to disable this warning\n",
      "  warnings.warn(\n",
      "/home/sheng136/miniconda3/envs/deDTN/lib/python3.8/site-packages/transformers/optimization.py:306: FutureWarning: This implementation of AdamW is deprecated and will be removed in a future version. Use the PyTorch implementation torch.optim.AdamW instead, or set `no_deprecation_warning=True` to disable this warning\n",
      "  warnings.warn(\n",
      "/home/sheng136/miniconda3/envs/deDTN/lib/python3.8/site-packages/transformers/optimization.py:306: FutureWarning: This implementation of AdamW is deprecated and will be removed in a future version. Use the PyTorch implementation torch.optim.AdamW instead, or set `no_deprecation_warning=True` to disable this warning\n",
      "  warnings.warn(\n",
      "/home/sheng136/miniconda3/envs/deDTN/lib/python3.8/site-packages/transformers/optimization.py:306: FutureWarning: This implementation of AdamW is deprecated and will be removed in a future version. Use the PyTorch implementation torch.optim.AdamW instead, or set `no_deprecation_warning=True` to disable this warning\n",
      "  warnings.warn(\n",
      "/home/sheng136/miniconda3/envs/deDTN/lib/python3.8/site-packages/transformers/optimization.py:306: FutureWarning: This implementation of AdamW is deprecated and will be removed in a future version. Use the PyTorch implementation torch.optim.AdamW instead, or set `no_deprecation_warning=True` to disable this warning\n",
      "  warnings.warn(\n",
      "/home/sheng136/miniconda3/envs/deDTN/lib/python3.8/site-packages/transformers/optimization.py:306: FutureWarning: This implementation of AdamW is deprecated and will be removed in a future version. Use the PyTorch implementation torch.optim.AdamW instead, or set `no_deprecation_warning=True` to disable this warning\n",
      "  warnings.warn(\n",
      "/home/sheng136/miniconda3/envs/deDTN/lib/python3.8/site-packages/transformers/optimization.py:306: FutureWarning: This implementation of AdamW is deprecated and will be removed in a future version. Use the PyTorch implementation torch.optim.AdamW instead, or set `no_deprecation_warning=True` to disable this warning\n",
      "  warnings.warn(\n",
      "/home/sheng136/miniconda3/envs/deDTN/lib/python3.8/site-packages/transformers/optimization.py:306: FutureWarning: This implementation of AdamW is deprecated and will be removed in a future version. Use the PyTorch implementation torch.optim.AdamW instead, or set `no_deprecation_warning=True` to disable this warning\n",
      "  warnings.warn(\n",
      "/home/sheng136/miniconda3/envs/deDTN/lib/python3.8/site-packages/transformers/optimization.py:306: FutureWarning: This implementation of AdamW is deprecated and will be removed in a future version. Use the PyTorch implementation torch.optim.AdamW instead, or set `no_deprecation_warning=True` to disable this warning\n",
      "  warnings.warn(\n",
      "/home/sheng136/miniconda3/envs/deDTN/lib/python3.8/site-packages/transformers/optimization.py:306: FutureWarning: This implementation of AdamW is deprecated and will be removed in a future version. Use the PyTorch implementation torch.optim.AdamW instead, or set `no_deprecation_warning=True` to disable this warning\n",
      "  warnings.warn(\n",
      "/home/sheng136/miniconda3/envs/deDTN/lib/python3.8/site-packages/transformers/optimization.py:306: FutureWarning: This implementation of AdamW is deprecated and will be removed in a future version. Use the PyTorch implementation torch.optim.AdamW instead, or set `no_deprecation_warning=True` to disable this warning\n",
      "  warnings.warn(\n",
      "/home/sheng136/miniconda3/envs/deDTN/lib/python3.8/site-packages/transformers/optimization.py:306: FutureWarning: This implementation of AdamW is deprecated and will be removed in a future version. Use the PyTorch implementation torch.optim.AdamW instead, or set `no_deprecation_warning=True` to disable this warning\n",
      "  warnings.warn(\n",
      "/home/sheng136/miniconda3/envs/deDTN/lib/python3.8/site-packages/transformers/optimization.py:306: FutureWarning: This implementation of AdamW is deprecated and will be removed in a future version. Use the PyTorch implementation torch.optim.AdamW instead, or set `no_deprecation_warning=True` to disable this warning\n",
      "  warnings.warn(\n",
      "/home/sheng136/miniconda3/envs/deDTN/lib/python3.8/site-packages/transformers/optimization.py:306: FutureWarning: This implementation of AdamW is deprecated and will be removed in a future version. Use the PyTorch implementation torch.optim.AdamW instead, or set `no_deprecation_warning=True` to disable this warning\n",
      "  warnings.warn(\n",
      "/home/sheng136/miniconda3/envs/deDTN/lib/python3.8/site-packages/transformers/optimization.py:306: FutureWarning: This implementation of AdamW is deprecated and will be removed in a future version. Use the PyTorch implementation torch.optim.AdamW instead, or set `no_deprecation_warning=True` to disable this warning\n",
      "  warnings.warn(\n",
      "/home/sheng136/miniconda3/envs/deDTN/lib/python3.8/site-packages/transformers/optimization.py:306: FutureWarning: This implementation of AdamW is deprecated and will be removed in a future version. Use the PyTorch implementation torch.optim.AdamW instead, or set `no_deprecation_warning=True` to disable this warning\n",
      "  warnings.warn(\n",
      "/home/sheng136/miniconda3/envs/deDTN/lib/python3.8/site-packages/transformers/optimization.py:306: FutureWarning: This implementation of AdamW is deprecated and will be removed in a future version. Use the PyTorch implementation torch.optim.AdamW instead, or set `no_deprecation_warning=True` to disable this warning\n",
      "  warnings.warn(\n",
      "/home/sheng136/miniconda3/envs/deDTN/lib/python3.8/site-packages/transformers/optimization.py:306: FutureWarning: This implementation of AdamW is deprecated and will be removed in a future version. Use the PyTorch implementation torch.optim.AdamW instead, or set `no_deprecation_warning=True` to disable this warning\n",
      "  warnings.warn(\n",
      "/home/sheng136/miniconda3/envs/deDTN/lib/python3.8/site-packages/transformers/optimization.py:306: FutureWarning: This implementation of AdamW is deprecated and will be removed in a future version. Use the PyTorch implementation torch.optim.AdamW instead, or set `no_deprecation_warning=True` to disable this warning\n",
      "  warnings.warn(\n",
      "/home/sheng136/miniconda3/envs/deDTN/lib/python3.8/site-packages/transformers/optimization.py:306: FutureWarning: This implementation of AdamW is deprecated and will be removed in a future version. Use the PyTorch implementation torch.optim.AdamW instead, or set `no_deprecation_warning=True` to disable this warning\n",
      "  warnings.warn(\n",
      "/home/sheng136/miniconda3/envs/deDTN/lib/python3.8/site-packages/transformers/optimization.py:306: FutureWarning: This implementation of AdamW is deprecated and will be removed in a future version. Use the PyTorch implementation torch.optim.AdamW instead, or set `no_deprecation_warning=True` to disable this warning\n",
      "  warnings.warn(\n",
      "/home/sheng136/miniconda3/envs/deDTN/lib/python3.8/site-packages/transformers/optimization.py:306: FutureWarning: This implementation of AdamW is deprecated and will be removed in a future version. Use the PyTorch implementation torch.optim.AdamW instead, or set `no_deprecation_warning=True` to disable this warning\n",
      "  warnings.warn(\n",
      "/home/sheng136/miniconda3/envs/deDTN/lib/python3.8/site-packages/transformers/optimization.py:306: FutureWarning: This implementation of AdamW is deprecated and will be removed in a future version. Use the PyTorch implementation torch.optim.AdamW instead, or set `no_deprecation_warning=True` to disable this warning\n",
      "  warnings.warn(\n",
      "/home/sheng136/miniconda3/envs/deDTN/lib/python3.8/site-packages/transformers/optimization.py:306: FutureWarning: This implementation of AdamW is deprecated and will be removed in a future version. Use the PyTorch implementation torch.optim.AdamW instead, or set `no_deprecation_warning=True` to disable this warning\n",
      "  warnings.warn(\n",
      "/home/sheng136/miniconda3/envs/deDTN/lib/python3.8/site-packages/transformers/optimization.py:306: FutureWarning: This implementation of AdamW is deprecated and will be removed in a future version. Use the PyTorch implementation torch.optim.AdamW instead, or set `no_deprecation_warning=True` to disable this warning\n",
      "  warnings.warn(\n",
      "/home/sheng136/miniconda3/envs/deDTN/lib/python3.8/site-packages/transformers/optimization.py:306: FutureWarning: This implementation of AdamW is deprecated and will be removed in a future version. Use the PyTorch implementation torch.optim.AdamW instead, or set `no_deprecation_warning=True` to disable this warning\n",
      "  warnings.warn(\n",
      "/home/sheng136/miniconda3/envs/deDTN/lib/python3.8/site-packages/transformers/optimization.py:306: FutureWarning: This implementation of AdamW is deprecated and will be removed in a future version. Use the PyTorch implementation torch.optim.AdamW instead, or set `no_deprecation_warning=True` to disable this warning\n",
      "  warnings.warn(\n",
      "/home/sheng136/miniconda3/envs/deDTN/lib/python3.8/site-packages/transformers/optimization.py:306: FutureWarning: This implementation of AdamW is deprecated and will be removed in a future version. Use the PyTorch implementation torch.optim.AdamW instead, or set `no_deprecation_warning=True` to disable this warning\n",
      "  warnings.warn(\n",
      "/home/sheng136/miniconda3/envs/deDTN/lib/python3.8/site-packages/transformers/optimization.py:306: FutureWarning: This implementation of AdamW is deprecated and will be removed in a future version. Use the PyTorch implementation torch.optim.AdamW instead, or set `no_deprecation_warning=True` to disable this warning\n",
      "  warnings.warn(\n",
      "/home/sheng136/miniconda3/envs/deDTN/lib/python3.8/site-packages/transformers/optimization.py:306: FutureWarning: This implementation of AdamW is deprecated and will be removed in a future version. Use the PyTorch implementation torch.optim.AdamW instead, or set `no_deprecation_warning=True` to disable this warning\n",
      "  warnings.warn(\n",
      "/home/sheng136/miniconda3/envs/deDTN/lib/python3.8/site-packages/transformers/optimization.py:306: FutureWarning: This implementation of AdamW is deprecated and will be removed in a future version. Use the PyTorch implementation torch.optim.AdamW instead, or set `no_deprecation_warning=True` to disable this warning\n",
      "  warnings.warn(\n",
      "/home/sheng136/miniconda3/envs/deDTN/lib/python3.8/site-packages/transformers/optimization.py:306: FutureWarning: This implementation of AdamW is deprecated and will be removed in a future version. Use the PyTorch implementation torch.optim.AdamW instead, or set `no_deprecation_warning=True` to disable this warning\n",
      "  warnings.warn(\n",
      "/home/sheng136/miniconda3/envs/deDTN/lib/python3.8/site-packages/transformers/optimization.py:306: FutureWarning: This implementation of AdamW is deprecated and will be removed in a future version. Use the PyTorch implementation torch.optim.AdamW instead, or set `no_deprecation_warning=True` to disable this warning\n",
      "  warnings.warn(\n",
      "/home/sheng136/miniconda3/envs/deDTN/lib/python3.8/site-packages/transformers/optimization.py:306: FutureWarning: This implementation of AdamW is deprecated and will be removed in a future version. Use the PyTorch implementation torch.optim.AdamW instead, or set `no_deprecation_warning=True` to disable this warning\n",
      "  warnings.warn(\n",
      "/home/sheng136/miniconda3/envs/deDTN/lib/python3.8/site-packages/transformers/optimization.py:306: FutureWarning: This implementation of AdamW is deprecated and will be removed in a future version. Use the PyTorch implementation torch.optim.AdamW instead, or set `no_deprecation_warning=True` to disable this warning\n",
      "  warnings.warn(\n",
      "/home/sheng136/miniconda3/envs/deDTN/lib/python3.8/site-packages/transformers/optimization.py:306: FutureWarning: This implementation of AdamW is deprecated and will be removed in a future version. Use the PyTorch implementation torch.optim.AdamW instead, or set `no_deprecation_warning=True` to disable this warning\n",
      "  warnings.warn(\n",
      "/home/sheng136/miniconda3/envs/deDTN/lib/python3.8/site-packages/transformers/optimization.py:306: FutureWarning: This implementation of AdamW is deprecated and will be removed in a future version. Use the PyTorch implementation torch.optim.AdamW instead, or set `no_deprecation_warning=True` to disable this warning\n",
      "  warnings.warn(\n",
      "/home/sheng136/miniconda3/envs/deDTN/lib/python3.8/site-packages/transformers/optimization.py:306: FutureWarning: This implementation of AdamW is deprecated and will be removed in a future version. Use the PyTorch implementation torch.optim.AdamW instead, or set `no_deprecation_warning=True` to disable this warning\n",
      "  warnings.warn(\n",
      "/home/sheng136/miniconda3/envs/deDTN/lib/python3.8/site-packages/transformers/optimization.py:306: FutureWarning: This implementation of AdamW is deprecated and will be removed in a future version. Use the PyTorch implementation torch.optim.AdamW instead, or set `no_deprecation_warning=True` to disable this warning\n",
      "  warnings.warn(\n",
      "/home/sheng136/miniconda3/envs/deDTN/lib/python3.8/site-packages/transformers/optimization.py:306: FutureWarning: This implementation of AdamW is deprecated and will be removed in a future version. Use the PyTorch implementation torch.optim.AdamW instead, or set `no_deprecation_warning=True` to disable this warning\n",
      "  warnings.warn(\n",
      "/home/sheng136/miniconda3/envs/deDTN/lib/python3.8/site-packages/transformers/optimization.py:306: FutureWarning: This implementation of AdamW is deprecated and will be removed in a future version. Use the PyTorch implementation torch.optim.AdamW instead, or set `no_deprecation_warning=True` to disable this warning\n",
      "  warnings.warn(\n",
      "/home/sheng136/miniconda3/envs/deDTN/lib/python3.8/site-packages/transformers/optimization.py:306: FutureWarning: This implementation of AdamW is deprecated and will be removed in a future version. Use the PyTorch implementation torch.optim.AdamW instead, or set `no_deprecation_warning=True` to disable this warning\n",
      "  warnings.warn(\n",
      "/home/sheng136/miniconda3/envs/deDTN/lib/python3.8/site-packages/transformers/optimization.py:306: FutureWarning: This implementation of AdamW is deprecated and will be removed in a future version. Use the PyTorch implementation torch.optim.AdamW instead, or set `no_deprecation_warning=True` to disable this warning\n",
      "  warnings.warn(\n",
      "/home/sheng136/miniconda3/envs/deDTN/lib/python3.8/site-packages/transformers/optimization.py:306: FutureWarning: This implementation of AdamW is deprecated and will be removed in a future version. Use the PyTorch implementation torch.optim.AdamW instead, or set `no_deprecation_warning=True` to disable this warning\n",
      "  warnings.warn(\n",
      "/home/sheng136/miniconda3/envs/deDTN/lib/python3.8/site-packages/transformers/optimization.py:306: FutureWarning: This implementation of AdamW is deprecated and will be removed in a future version. Use the PyTorch implementation torch.optim.AdamW instead, or set `no_deprecation_warning=True` to disable this warning\n",
      "  warnings.warn(\n",
      "/home/sheng136/miniconda3/envs/deDTN/lib/python3.8/site-packages/transformers/optimization.py:306: FutureWarning: This implementation of AdamW is deprecated and will be removed in a future version. Use the PyTorch implementation torch.optim.AdamW instead, or set `no_deprecation_warning=True` to disable this warning\n",
      "  warnings.warn(\n",
      "/home/sheng136/miniconda3/envs/deDTN/lib/python3.8/site-packages/transformers/optimization.py:306: FutureWarning: This implementation of AdamW is deprecated and will be removed in a future version. Use the PyTorch implementation torch.optim.AdamW instead, or set `no_deprecation_warning=True` to disable this warning\n",
      "  warnings.warn(\n",
      "/home/sheng136/miniconda3/envs/deDTN/lib/python3.8/site-packages/transformers/optimization.py:306: FutureWarning: This implementation of AdamW is deprecated and will be removed in a future version. Use the PyTorch implementation torch.optim.AdamW instead, or set `no_deprecation_warning=True` to disable this warning\n",
      "  warnings.warn(\n",
      "/home/sheng136/miniconda3/envs/deDTN/lib/python3.8/site-packages/transformers/optimization.py:306: FutureWarning: This implementation of AdamW is deprecated and will be removed in a future version. Use the PyTorch implementation torch.optim.AdamW instead, or set `no_deprecation_warning=True` to disable this warning\n",
      "  warnings.warn(\n",
      "/home/sheng136/miniconda3/envs/deDTN/lib/python3.8/site-packages/transformers/optimization.py:306: FutureWarning: This implementation of AdamW is deprecated and will be removed in a future version. Use the PyTorch implementation torch.optim.AdamW instead, or set `no_deprecation_warning=True` to disable this warning\n",
      "  warnings.warn(\n",
      "/home/sheng136/miniconda3/envs/deDTN/lib/python3.8/site-packages/transformers/optimization.py:306: FutureWarning: This implementation of AdamW is deprecated and will be removed in a future version. Use the PyTorch implementation torch.optim.AdamW instead, or set `no_deprecation_warning=True` to disable this warning\n",
      "  warnings.warn(\n",
      "/home/sheng136/miniconda3/envs/deDTN/lib/python3.8/site-packages/transformers/optimization.py:306: FutureWarning: This implementation of AdamW is deprecated and will be removed in a future version. Use the PyTorch implementation torch.optim.AdamW instead, or set `no_deprecation_warning=True` to disable this warning\n",
      "  warnings.warn(\n",
      "/home/sheng136/miniconda3/envs/deDTN/lib/python3.8/site-packages/transformers/optimization.py:306: FutureWarning: This implementation of AdamW is deprecated and will be removed in a future version. Use the PyTorch implementation torch.optim.AdamW instead, or set `no_deprecation_warning=True` to disable this warning\n",
      "  warnings.warn(\n",
      "/home/sheng136/miniconda3/envs/deDTN/lib/python3.8/site-packages/transformers/optimization.py:306: FutureWarning: This implementation of AdamW is deprecated and will be removed in a future version. Use the PyTorch implementation torch.optim.AdamW instead, or set `no_deprecation_warning=True` to disable this warning\n",
      "  warnings.warn(\n",
      "/home/sheng136/miniconda3/envs/deDTN/lib/python3.8/site-packages/transformers/optimization.py:306: FutureWarning: This implementation of AdamW is deprecated and will be removed in a future version. Use the PyTorch implementation torch.optim.AdamW instead, or set `no_deprecation_warning=True` to disable this warning\n",
      "  warnings.warn(\n",
      "/home/sheng136/miniconda3/envs/deDTN/lib/python3.8/site-packages/transformers/optimization.py:306: FutureWarning: This implementation of AdamW is deprecated and will be removed in a future version. Use the PyTorch implementation torch.optim.AdamW instead, or set `no_deprecation_warning=True` to disable this warning\n",
      "  warnings.warn(\n",
      "/home/sheng136/miniconda3/envs/deDTN/lib/python3.8/site-packages/transformers/optimization.py:306: FutureWarning: This implementation of AdamW is deprecated and will be removed in a future version. Use the PyTorch implementation torch.optim.AdamW instead, or set `no_deprecation_warning=True` to disable this warning\n",
      "  warnings.warn(\n",
      "/home/sheng136/miniconda3/envs/deDTN/lib/python3.8/site-packages/transformers/optimization.py:306: FutureWarning: This implementation of AdamW is deprecated and will be removed in a future version. Use the PyTorch implementation torch.optim.AdamW instead, or set `no_deprecation_warning=True` to disable this warning\n",
      "  warnings.warn(\n",
      "/home/sheng136/miniconda3/envs/deDTN/lib/python3.8/site-packages/transformers/optimization.py:306: FutureWarning: This implementation of AdamW is deprecated and will be removed in a future version. Use the PyTorch implementation torch.optim.AdamW instead, or set `no_deprecation_warning=True` to disable this warning\n",
      "  warnings.warn(\n",
      "/home/sheng136/miniconda3/envs/deDTN/lib/python3.8/site-packages/transformers/optimization.py:306: FutureWarning: This implementation of AdamW is deprecated and will be removed in a future version. Use the PyTorch implementation torch.optim.AdamW instead, or set `no_deprecation_warning=True` to disable this warning\n",
      "  warnings.warn(\n",
      "/home/sheng136/miniconda3/envs/deDTN/lib/python3.8/site-packages/transformers/optimization.py:306: FutureWarning: This implementation of AdamW is deprecated and will be removed in a future version. Use the PyTorch implementation torch.optim.AdamW instead, or set `no_deprecation_warning=True` to disable this warning\n",
      "  warnings.warn(\n",
      "/home/sheng136/miniconda3/envs/deDTN/lib/python3.8/site-packages/transformers/optimization.py:306: FutureWarning: This implementation of AdamW is deprecated and will be removed in a future version. Use the PyTorch implementation torch.optim.AdamW instead, or set `no_deprecation_warning=True` to disable this warning\n",
      "  warnings.warn(\n",
      "/home/sheng136/miniconda3/envs/deDTN/lib/python3.8/site-packages/transformers/optimization.py:306: FutureWarning: This implementation of AdamW is deprecated and will be removed in a future version. Use the PyTorch implementation torch.optim.AdamW instead, or set `no_deprecation_warning=True` to disable this warning\n",
      "  warnings.warn(\n",
      "/home/sheng136/miniconda3/envs/deDTN/lib/python3.8/site-packages/transformers/optimization.py:306: FutureWarning: This implementation of AdamW is deprecated and will be removed in a future version. Use the PyTorch implementation torch.optim.AdamW instead, or set `no_deprecation_warning=True` to disable this warning\n",
      "  warnings.warn(\n",
      "/home/sheng136/miniconda3/envs/deDTN/lib/python3.8/site-packages/transformers/optimization.py:306: FutureWarning: This implementation of AdamW is deprecated and will be removed in a future version. Use the PyTorch implementation torch.optim.AdamW instead, or set `no_deprecation_warning=True` to disable this warning\n",
      "  warnings.warn(\n",
      "/home/sheng136/miniconda3/envs/deDTN/lib/python3.8/site-packages/transformers/optimization.py:306: FutureWarning: This implementation of AdamW is deprecated and will be removed in a future version. Use the PyTorch implementation torch.optim.AdamW instead, or set `no_deprecation_warning=True` to disable this warning\n",
      "  warnings.warn(\n",
      "/home/sheng136/miniconda3/envs/deDTN/lib/python3.8/site-packages/transformers/optimization.py:306: FutureWarning: This implementation of AdamW is deprecated and will be removed in a future version. Use the PyTorch implementation torch.optim.AdamW instead, or set `no_deprecation_warning=True` to disable this warning\n",
      "  warnings.warn(\n",
      "/home/sheng136/miniconda3/envs/deDTN/lib/python3.8/site-packages/transformers/optimization.py:306: FutureWarning: This implementation of AdamW is deprecated and will be removed in a future version. Use the PyTorch implementation torch.optim.AdamW instead, or set `no_deprecation_warning=True` to disable this warning\n",
      "  warnings.warn(\n",
      "/home/sheng136/miniconda3/envs/deDTN/lib/python3.8/site-packages/transformers/optimization.py:306: FutureWarning: This implementation of AdamW is deprecated and will be removed in a future version. Use the PyTorch implementation torch.optim.AdamW instead, or set `no_deprecation_warning=True` to disable this warning\n",
      "  warnings.warn(\n",
      "/home/sheng136/miniconda3/envs/deDTN/lib/python3.8/site-packages/transformers/optimization.py:306: FutureWarning: This implementation of AdamW is deprecated and will be removed in a future version. Use the PyTorch implementation torch.optim.AdamW instead, or set `no_deprecation_warning=True` to disable this warning\n",
      "  warnings.warn(\n",
      "/home/sheng136/miniconda3/envs/deDTN/lib/python3.8/site-packages/transformers/optimization.py:306: FutureWarning: This implementation of AdamW is deprecated and will be removed in a future version. Use the PyTorch implementation torch.optim.AdamW instead, or set `no_deprecation_warning=True` to disable this warning\n",
      "  warnings.warn(\n",
      "/home/sheng136/miniconda3/envs/deDTN/lib/python3.8/site-packages/transformers/optimization.py:306: FutureWarning: This implementation of AdamW is deprecated and will be removed in a future version. Use the PyTorch implementation torch.optim.AdamW instead, or set `no_deprecation_warning=True` to disable this warning\n",
      "  warnings.warn(\n",
      "/home/sheng136/miniconda3/envs/deDTN/lib/python3.8/site-packages/transformers/optimization.py:306: FutureWarning: This implementation of AdamW is deprecated and will be removed in a future version. Use the PyTorch implementation torch.optim.AdamW instead, or set `no_deprecation_warning=True` to disable this warning\n",
      "  warnings.warn(\n"
     ]
    }
   ],
   "source": [
    "for c,setting in tqdm(zip(valid_high_combinations, valid_full_settings), total=len(valid_high_combinations)):\n",
    "    losses_dict['combination'].append(c)\n",
    "    losses_dict['full_setting'].append(setting)\n",
    "    \n",
    "    losses = []\n",
    "    _auroc = []\n",
    "    _auprc = []    \n",
    "    _f1_at_05 = []\n",
    "    \n",
    "    for i in range(5):\n",
    "        _rand = random.randint(0,1000)    \n",
    "\n",
    "        combination = c\n",
    "        # combination = (0.201, 0.6, 0.3, 1.0, 4)\n",
    "        # combination = (0.201, 0.7, 0.5, 1.4, 4)\n",
    "        ret = confoundSplitDF(df0=ex_df[ex_df['geo_loc'] == 0], df1 =ex_df[ex_df['geo_loc'] == 1], \n",
    "                              df0_label='S_SEX', df1_label='S_SEX',\n",
    "                              p_pos_train_z0=combination[0], \n",
    "                              p_pos_train_z1 = combination[1], \n",
    "                              p_mix_z1 = combination[2], \n",
    "                              alpha_test = combination[3],\n",
    "                              train_test_ratio = combination[4],\n",
    "                              random_state= _rand,\n",
    "                              n_test=combination[5],\n",
    "                              n_test_error=combination[6]\n",
    "                                   )\n",
    "\n",
    "        df_train = pd.concat(\n",
    "                [\n",
    "                    ret[\"sample_df0_train\"][[\"text\", \"S_SEX\"]],\n",
    "                    ret[\"sample_df1_train\"][[\"text\", \"S_SEX\"]],\n",
    "                ],\n",
    "                ignore_index=True,\n",
    "            )\n",
    "\n",
    "        df_test = pd.concat(\n",
    "                [\n",
    "                    ret[\"sample_df0_test\"][[\"text\", \"S_SEX\"]],\n",
    "                    ret[\"sample_df1_test\"][[\"text\", \"S_SEX\"]],\n",
    "                ],\n",
    "                ignore_index=True,\n",
    "            )\n",
    "\n",
    "\n",
    "        X_train = df_train[\"text\"]\n",
    "        y_train = df_train[[\"S_SEX\"]]\n",
    "\n",
    "        X_test = df_test[\"text\"]\n",
    "        y_test = df_test[[\"S_SEX\"]]\n",
    "\n",
    "\n",
    "\n",
    " \n",
    "        model = NeuralSingleLabelModel(**model_config)\n",
    "\n",
    "        model.load_pretrained()\n",
    "\n",
    "        model.trainModel(\n",
    "                X=X_train, y=y_train, device=\"cuda:0\"\n",
    "            )\n",
    "\n",
    "\n",
    "\n",
    "        y_pred, y_prob = model.predict(\n",
    "                X=X_test, device=\"cuda:0\"\n",
    "            )\n",
    "\n",
    "        \n",
    "\n",
    "        # collect metrics: loss, auroc, auprc, f1\n",
    "        loss = torch.nn.NLLLoss()\n",
    "\n",
    "        _loss = loss(\n",
    "            torch.log(torch.tensor(y_prob.values)),\n",
    "            torch.tensor(y_test.values).squeeze(1),\n",
    "        )\n",
    "\n",
    "        losses.append(_loss.item())\n",
    "\n",
    "        \n",
    "        _auroc.append(\n",
    "            metrics.roc_auc_score(\n",
    "                y_true=y_test.values,\n",
    "                y_score=y_prob.max(axis = 1),\n",
    "            )\n",
    "        )\n",
    "        _auprc.append(\n",
    "            metrics.average_precision_score(\n",
    "                y_true=y_test.values,\n",
    "                y_score=y_prob.max(axis = 1),\n",
    "            )\n",
    "        )\n",
    "        #_f1_at_05.append(metrics.f1_score(y_true=y_test.values, y_pred=y_pred))\n",
    "    \n",
    "    losses_dict['losses'].append(losses)\n",
    "    losses_dict['auroc'].append(_auroc)\n",
    "    losses_dict['auprc'].append(_auprc)"
   ]
  },
  {
   "cell_type": "code",
   "execution_count": null,
   "id": "0fee13c0-a2ef-4c86-afe1-f958395a0331",
   "metadata": {},
   "outputs": [],
   "source": []
  }
 ],
 "metadata": {
  "kernelspec": {
   "display_name": "Python 3 (ipykernel)",
   "language": "python",
   "name": "python3"
  },
  "language_info": {
   "codemirror_mode": {
    "name": "ipython",
    "version": 3
   },
   "file_extension": ".py",
   "mimetype": "text/x-python",
   "name": "python",
   "nbconvert_exporter": "python",
   "pygments_lexer": "ipython3",
   "version": "3.10.9"
  }
 },
 "nbformat": 4,
 "nbformat_minor": 5
}
