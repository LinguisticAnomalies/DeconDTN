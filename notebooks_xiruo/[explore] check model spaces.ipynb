{
 "cells": [
  {
   "cell_type": "markdown",
   "id": "b1e52115-617e-4aaf-ad2e-d1670caba102",
   "metadata": {},
   "source": [
    "# Load Data"
   ]
  },
  {
   "cell_type": "code",
   "execution_count": 2,
   "id": "25c278a8-eb9a-4c7e-911d-a07e8a14d2c0",
   "metadata": {
    "execution": {
     "iopub.execute_input": "2024-03-08T19:42:32.572813Z",
     "iopub.status.busy": "2024-03-08T19:42:32.572101Z",
     "iopub.status.idle": "2024-03-08T19:42:33.022791Z",
     "shell.execute_reply": "2024-03-08T19:42:33.021927Z",
     "shell.execute_reply.started": "2024-03-08T19:42:32.572752Z"
    },
    "tags": []
   },
   "outputs": [],
   "source": [
    "\n",
    "import sys\n",
    "\n",
    "sys.path.append(\"../src\")\n",
    "from process_SHAC import load_process_SHAC"
   ]
  },
  {
   "cell_type": "code",
   "execution_count": 3,
   "id": "3a34ee46-bada-4acb-b271-3f0473ff1317",
   "metadata": {
    "execution": {
     "iopub.execute_input": "2024-03-08T19:42:33.024182Z",
     "iopub.status.busy": "2024-03-08T19:42:33.023927Z",
     "iopub.status.idle": "2024-03-08T19:42:37.615440Z",
     "shell.execute_reply": "2024-03-08T19:42:37.613932Z",
     "shell.execute_reply.started": "2024-03-08T19:42:33.024165Z"
    },
    "tags": []
   },
   "outputs": [],
   "source": [
    "df_shac = load_process_SHAC(replaceNA=\"all\")\n",
    "df_shac[\"label_binary\"] = df_shac.apply(lambda x: 1 if x[\"Drug\"] else 0, axis=1)\n",
    "\n",
    "df_shac[\"dfSource\"] = df_shac[\"location\"]\n",
    "df_shac_uw = df_shac.query(\"location == 'uw'\").reset_index(drop=True)\n",
    "df_shac_mimic = df_shac.query(\"location == 'mimic'\").reset_index(drop=True)\n",
    "\n",
    "y_Categories = [0, 1]\n",
    "n_yCats = len(y_Categories)\n"
   ]
  },
  {
   "cell_type": "code",
   "execution_count": 4,
   "id": "a5b613ad-ca6a-4f04-93f6-68f30105d516",
   "metadata": {
    "execution": {
     "iopub.execute_input": "2024-03-08T19:42:37.617003Z",
     "iopub.status.busy": "2024-03-08T19:42:37.616736Z",
     "iopub.status.idle": "2024-03-08T19:42:37.623121Z",
     "shell.execute_reply": "2024-03-08T19:42:37.622130Z",
     "shell.execute_reply.started": "2024-03-08T19:42:37.616979Z"
    },
    "tags": []
   },
   "outputs": [],
   "source": [
    "z_Categories = [\"uw\", \"mimic\"]  # the order here matters! Should match with df0, df1\n",
    "label = \"label_binary\"\n",
    "n_zCats = len(z_Categories)\n",
    "txt_col = \"text\"\n",
    "domain_col = \"location\"\n",
    "df0 = df_shac_uw\n",
    "df1 = df_shac_mimic"
   ]
  },
  {
   "cell_type": "code",
   "execution_count": 5,
   "id": "725674af-f02f-49a0-8acc-583fd29332c6",
   "metadata": {
    "execution": {
     "iopub.execute_input": "2024-03-08T19:42:37.625975Z",
     "iopub.status.busy": "2024-03-08T19:42:37.625500Z",
     "iopub.status.idle": "2024-03-08T19:42:37.640314Z",
     "shell.execute_reply": "2024-03-08T19:42:37.639352Z",
     "shell.execute_reply.started": "2024-03-08T19:42:37.625940Z"
    },
    "tags": []
   },
   "outputs": [
    {
     "data": {
      "text/plain": [
       "0"
      ]
     },
     "execution_count": 5,
     "metadata": {},
     "output_type": "execute_result"
    }
   ],
   "source": [
    "z_Categories.index('uw')"
   ]
  },
  {
   "cell_type": "code",
   "execution_count": 6,
   "id": "fef278a8-b391-480a-a71f-8c338b0165ce",
   "metadata": {
    "execution": {
     "iopub.execute_input": "2024-03-08T19:42:37.641842Z",
     "iopub.status.busy": "2024-03-08T19:42:37.641416Z",
     "iopub.status.idle": "2024-03-08T19:42:38.076634Z",
     "shell.execute_reply": "2024-03-08T19:42:38.075136Z",
     "shell.execute_reply.started": "2024-03-08T19:42:37.641813Z"
    },
    "tags": []
   },
   "outputs": [],
   "source": [
    "from sklearn.preprocessing import LabelEncoder\n",
    "\n",
    "le = LabelEncoder()\n",
    "\n",
    "df0[\"labels\"] = le.fit_transform(df0[label])\n",
    "df1[\"labels\"] = le.fit_transform(df1[label])\n"
   ]
  },
  {
   "cell_type": "code",
   "execution_count": null,
   "id": "f52e9924-9432-4484-bb7f-902191af6991",
   "metadata": {},
   "outputs": [],
   "source": []
  },
  {
   "cell_type": "markdown",
   "id": "5c827b13-fcc4-4b84-aba7-a0fb022c68df",
   "metadata": {},
   "source": [
    "# Load Model"
   ]
  },
  {
   "cell_type": "code",
   "execution_count": 7,
   "id": "f39f3b79-7831-439f-8c11-6364b776514d",
   "metadata": {
    "execution": {
     "iopub.execute_input": "2024-03-08T19:42:38.078730Z",
     "iopub.status.busy": "2024-03-08T19:42:38.078061Z",
     "iopub.status.idle": "2024-03-08T19:42:38.084014Z",
     "shell.execute_reply": "2024-03-08T19:42:38.082975Z",
     "shell.execute_reply.started": "2024-03-08T19:42:38.078700Z"
    },
    "tags": []
   },
   "outputs": [],
   "source": [
    "\n",
    "model_path = \"../output/DistilBERT_SHACBalanceAlpha_10Pct_Fix_RandomPermute_SaveModel/alpha_train__0.3333333333333333__alpha_test__0.19784466890013497__C_y__0.36000000000000004__iRun__0.pth\"\n",
    "\n",
    "# model_path = \"../output/DistilBERT_SHACBalanceAlpha_RandomPermute_ShorterVersion_1_5_SaveModel/alpha_train__0.3333333333333333__alpha_test__0.19784466890013497__C_y__0.36000000000000004__iRun__0.pth/\"\n",
    "\n"
   ]
  },
  {
   "cell_type": "code",
   "execution_count": 8,
   "id": "7a19d241-463f-4918-9049-c8fa7591df0f",
   "metadata": {
    "execution": {
     "iopub.execute_input": "2024-03-08T19:42:38.085562Z",
     "iopub.status.busy": "2024-03-08T19:42:38.085126Z",
     "iopub.status.idle": "2024-03-08T19:42:38.096726Z",
     "shell.execute_reply": "2024-03-08T19:42:38.095369Z",
     "shell.execute_reply.started": "2024-03-08T19:42:38.085535Z"
    },
    "tags": []
   },
   "outputs": [
    {
     "data": {
      "text/plain": [
       "'../output/DistilBERT_SHACBalanceAlpha_10Pct_Fix_RandomPermute_SaveModel/alpha_train__0.3333333333333333__alpha_test__0.19784466890013497__C_y__0.36000000000000004__iRun__0.pth'"
      ]
     },
     "execution_count": 8,
     "metadata": {},
     "output_type": "execute_result"
    }
   ],
   "source": [
    "model_path"
   ]
  },
  {
   "cell_type": "code",
   "execution_count": null,
   "id": "12ac15e2-6aac-4a77-8365-9fbbd07fe999",
   "metadata": {},
   "outputs": [],
   "source": []
  },
  {
   "cell_type": "code",
   "execution_count": null,
   "id": "e4ce65c2-ceac-4fbb-8c8c-0dc4d2edfdfe",
   "metadata": {},
   "outputs": [],
   "source": []
  },
  {
   "cell_type": "code",
   "execution_count": 9,
   "id": "d4afe877-6330-4582-92fa-b2692bde3cf8",
   "metadata": {
    "execution": {
     "iopub.execute_input": "2024-03-08T19:42:38.099553Z",
     "iopub.status.busy": "2024-03-08T19:42:38.098949Z",
     "iopub.status.idle": "2024-03-08T19:42:41.328812Z",
     "shell.execute_reply": "2024-03-08T19:42:41.327417Z",
     "shell.execute_reply.started": "2024-03-08T19:42:38.099500Z"
    },
    "tags": []
   },
   "outputs": [],
   "source": [
    "import torch\n",
    "from torch import nn\n",
    "import torch.nn.functional as F\n",
    "from transformers import DistilBertPreTrainedModel, PretrainedConfig, DistilBertModel\n",
    "from transformers import DistilBertConfig\n",
    "from transformers.models.distilbert.modeling_distilbert import SequenceClassifierOutput\n",
    "from transformers import DistilBertTokenizer\n",
    "from transformers import TrainingArguments, Trainer\n",
    "from transformers import AutoTokenizer, AutoModel\n",
    "\n",
    "\n",
    "import pickle\n",
    "import argparse\n",
    "import pandas as pd\n",
    "import numpy as np\n",
    "import pathlib\n",
    "import random\n",
    "import itertools\n",
    "from sklearn import metrics\n",
    "from tqdm.auto import tqdm\n",
    "from copy import deepcopy\n",
    "\n",
    "from typing import Optional\n",
    "from torch.nn import MSELoss, CrossEntropyLoss\n",
    "from typing import Union\n",
    "from typing import Tuple\n",
    "from scipy.special import softmax\n",
    "\n",
    "\n",
    "def permutePercent(in_list, fixed_pct=0.1, fixed_pos=None, seed=123):\n",
    "    # fixed_pos: list of fixed positions\n",
    "    N = len(in_list)\n",
    "\n",
    "    if (fixed_pos is None) and fixed_pct:\n",
    "        fixed_n = int(np.ceil(N * fixed_pct))\n",
    "        random.seed(seed)\n",
    "        fixed_pos = random.sample(range(0, N), fixed_n)\n",
    "\n",
    "    elif (fixed_pos is None) and (fixed_pct is None):\n",
    "        os.error(\"No Fixed Position Provided\")\n",
    "\n",
    "    ret_ls = [idx if idx in fixed_pos else x for idx, x in enumerate(in_list)]\n",
    "\n",
    "    set_diff = set(in_list) - set(ret_ls)\n",
    "    set_dups = [i for i in set(ret_ls) if ret_ls.count(i) > 1]\n",
    "\n",
    "    while len(set_dups):\n",
    "        a = set_dups.pop()\n",
    "        r = set_diff.pop()\n",
    "        for idx, x in enumerate(ret_ls):\n",
    "            if (x == a) and (idx not in fixed_pos):\n",
    "                ret_ls[idx] = r\n",
    "                break\n",
    "    return ret_ls\n",
    "\n",
    "# class PermDistilBertForSequenceClassification(DistilBertPreTrainedModel):\n",
    "#     def __init__(self, config: PretrainedConfig):\n",
    "#         super().__init__(config)\n",
    "#         self.num_labels = config.num_labels\n",
    "#         self.num_sources = 2\n",
    "#         self.config = config\n",
    "\n",
    "#         self.distilbert = DistilBertModel(config)\n",
    "#         self.pre_classifier = nn.Linear(config.dim, config.dim)\n",
    "#         # pemb[2] (in general, pemb[last]) is the identity permutation\n",
    "#         self.pemb = torch.stack(\n",
    "#             [torch.randperm(config.dim) for i in range(2)] + [torch.arange(0, config.dim)]\n",
    "#         )\n",
    "#         self.pemb = torch.nn.Parameter(self.pemb, requires_grad=False)\n",
    "#         self.classifier = nn.Linear(config.dim, config.num_labels)\n",
    "#         self.dropout = nn.Dropout(config.seq_classif_dropout)\n",
    "\n",
    "#         # Initialize weights and apply final processing\n",
    "#         self.post_init()\n",
    "\n",
    "#     def get_position_embeddings(self) -> nn.Embedding:\n",
    "#         \"\"\"\n",
    "#         Returns the position embeddings\n",
    "#         \"\"\"\n",
    "#         return self.distilbert.get_position_embeddings()\n",
    "\n",
    "#     def resize_position_embeddings(self, new_num_position_embeddings: int):\n",
    "#         \"\"\"\n",
    "#         Resizes position embeddings of the model if `new_num_position_embeddings != config.max_position_embeddings`.\n",
    "\n",
    "#         Arguments:\n",
    "#             new_num_position_embeddings (`int`):\n",
    "#                 The number of new position embedding matrix. If position embeddings are learned, increasing the size\n",
    "#                 will add newly initialized vectors at the end, whereas reducing the size will remove vectors from the\n",
    "#                 end. If position embeddings are not learned (*e.g.* sinusoidal position embeddings), increasing the\n",
    "#                 size will add correct vectors at the end following the position encoding algorithm, whereas reducing\n",
    "#                 the size will remove vectors from the end.\n",
    "#         \"\"\"\n",
    "#         self.distilbert.resize_position_embeddings(new_num_position_embeddings)\n",
    "\n",
    "#     # @add_start_docstrings_to_model_forward(DISTILBERT_INPUTS_DOCSTRING.format(\"batch_size, sequence_length\"))\n",
    "#     # @add_code_sample_docstrings(\n",
    "#     #     checkpoint=_CHECKPOINT_FOR_DOC,\n",
    "#     #     output_type=SequenceClassifierOutput,\n",
    "#     #     config_class=_CONFIG_FOR_DOC,\n",
    "#     # )\n",
    "#     def forward(\n",
    "#         self,\n",
    "#         input_ids: Optional[torch.Tensor] = None,\n",
    "#         attention_mask: Optional[torch.Tensor] = None,\n",
    "#         head_mask: Optional[torch.Tensor] = None,\n",
    "#         inputs_embeds: Optional[torch.Tensor] = None,\n",
    "#         labels: Optional[torch.LongTensor] = None,\n",
    "#         output_attentions: Optional[bool] = None,\n",
    "#         output_hidden_states: Optional[bool] = None,\n",
    "#         return_dict: Optional[bool] = None,\n",
    "#         source: Optional[int] = None,\n",
    "#     ) -> Union[SequenceClassifierOutput, Tuple[torch.Tensor, ...]]:\n",
    "#         r\"\"\"\n",
    "#         labels (`torch.LongTensor` of shape `(batch_size,)`, *optional*):\n",
    "#             Labels for computing the sequence classification/regression loss. Indices should be in `[0, ...,\n",
    "#             config.num_labels - 1]`. If `config.num_labels == 1` a regression loss is computed (Mean-Square loss), If\n",
    "#             `config.num_labels > 1` a classification loss is computed (Cross-Entropy).\n",
    "#         \"\"\"\n",
    "#         return_dict = (\n",
    "#             return_dict if return_dict is not None else self.config.use_return_dict\n",
    "#         )\n",
    "\n",
    "#         distilbert_output = self.distilbert(\n",
    "#             input_ids=input_ids,\n",
    "#             attention_mask=attention_mask,\n",
    "#             head_mask=head_mask,\n",
    "#             inputs_embeds=inputs_embeds,\n",
    "#             output_attentions=output_attentions,\n",
    "#             output_hidden_states=output_hidden_states,\n",
    "#             return_dict=return_dict,\n",
    "#         )\n",
    "#         hidden_state = distilbert_output[0]  # (bs, seq_len, dim)\n",
    "#         pooled_output = hidden_state[:, 0]  # (bs, dim)\n",
    "#         pooled_output = self.pre_classifier(pooled_output)  # (bs, dim)\n",
    "#         pooled_output = nn.ReLU()(pooled_output)  # (bs, dim)\n",
    "#         pooled_output = self.dropout(pooled_output)  # (bs, dim)\n",
    "\n",
    "#         if source is None:\n",
    "#             # Use the last\n",
    "#             perm_ids = self.num_sources * np.ones(pooled_output.shape[0])\n",
    "#         else:\n",
    "#             perm_ids = np.asarray(\n",
    "#                 [source.cpu().numpy()]\n",
    "#             )  # for i in range(pooled_output.shape[0])])\n",
    "\n",
    "#         perms = self.pemb[perm_ids]\n",
    "#         sub_permuted = torch.gather(pooled_output, -1, perms)\n",
    "\n",
    "#         logits = self.classifier(sub_permuted)  # (bs, num_labels)\n",
    "\n",
    "#         loss = None\n",
    "#         if labels is not None:\n",
    "#             if self.config.problem_type is None:\n",
    "#                 if self.num_labels == 1:\n",
    "#                     self.config.problem_type = \"regression\"\n",
    "#                 elif self.num_labels > 1 and (\n",
    "#                     labels.dtype == torch.long or labels.dtype == torch.int\n",
    "#                 ):\n",
    "#                     self.config.problem_type = \"single_label_classification\"\n",
    "#                 else:\n",
    "#                     self.config.problem_type = \"multi_label_classification\"\n",
    "\n",
    "#             if self.config.problem_type == \"regression\":\n",
    "#                 loss_fct = MSELoss()\n",
    "#                 if self.num_labels == 1:\n",
    "#                     loss = loss_fct(logits.squeeze(), labels.squeeze())\n",
    "#                 else:\n",
    "#                     loss = loss_fct(logits, labels)\n",
    "#             elif self.config.problem_type == \"single_label_classification\":\n",
    "#                 loss_fct = CrossEntropyLoss()\n",
    "#                 loss = loss_fct(logits.view(-1, self.num_labels), labels.view(-1))\n",
    "#             elif self.config.problem_type == \"multi_label_classification\":\n",
    "#                 # NOTE: to verify here\n",
    "#                 loss_fct = CrossEntropyLoss()\n",
    "#                 loss = loss_fct(logits.view(-1, self.num_labels), labels.view(-1))\n",
    "\n",
    "#         if not return_dict:\n",
    "#             output = (logits,) + distilbert_output[1:]\n",
    "#             return ((loss,) + output) if loss is not None else output\n",
    "\n",
    "#         return SequenceClassifierOutput(\n",
    "#             loss=loss,\n",
    "#             logits=logits,\n",
    "#             hidden_states=distilbert_output.hidden_states,\n",
    "#             attentions=distilbert_output.attentions,\n",
    "#         ), sub_permuted, hidden_state[:, 0], pooled_output\n",
    "    \n",
    "    \n",
    "class PermDistilBertForSequenceClassification(DistilBertPreTrainedModel):\n",
    "    def __init__(self, config: PretrainedConfig):\n",
    "        super().__init__(config)\n",
    "        self.num_labels = config.num_labels\n",
    "        self.num_sources = 2\n",
    "        self.config = config\n",
    "        self.fixed_pct = config.fixed_pct\n",
    "        self.permseed = config.permseed\n",
    "        self.distilbert = DistilBertModel(config)\n",
    "        self.pre_classifier = nn.Linear(config.dim, config.dim)\n",
    "\n",
    "        # pemb[2] (in general, pemb[last]) is the identity permutation\n",
    "\n",
    "        ret_ls = []\n",
    "        for i in range(self.num_sources):\n",
    "            while True:\n",
    "                tmp_ts = torch.randperm(config.dim)\n",
    "                tmp_ls = permutePercent(\n",
    "                    in_list=tmp_ts.tolist(),\n",
    "                    fixed_pct=self.fixed_pct,\n",
    "                    seed=self.permseed,\n",
    "                )\n",
    "                if (tmp_ls not in ret_ls) and (\n",
    "                    tmp_ls not in ([np.arange(self.num_sources).tolist()])\n",
    "                ):\n",
    "                    ret_ls.append(tmp_ls)\n",
    "                    break\n",
    "        self.pemb = torch.cat(\n",
    "            (torch.tensor(ret_ls), torch.arange(0, config.dim).unsqueeze(0))\n",
    "        )\n",
    "\n",
    "        self.pemb = torch.nn.Parameter(self.pemb, requires_grad=False)\n",
    "\n",
    "        self.classifier = nn.Linear(config.dim, config.num_labels)\n",
    "        self.dropout = nn.Dropout(config.seq_classif_dropout)\n",
    "\n",
    "        # Initialize weights and apply final processing\n",
    "        self.post_init()\n",
    "\n",
    "    def get_position_embeddings(self) -> nn.Embedding:\n",
    "        \"\"\"\n",
    "        Returns the position embeddings\n",
    "        \"\"\"\n",
    "        return self.distilbert.get_position_embeddings()\n",
    "\n",
    "    def resize_position_embeddings(self, new_num_position_embeddings: int):\n",
    "        \"\"\"\n",
    "        Resizes position embeddings of the model if `new_num_position_embeddings != config.max_position_embeddings`.\n",
    "\n",
    "        Arguments:\n",
    "            new_num_position_embeddings (`int`):\n",
    "                The number of new position embedding matrix. If position embeddings are learned, increasing the size\n",
    "                will add newly initialized vectors at the end, whereas reducing the size will remove vectors from the\n",
    "                end. If position embeddings are not learned (*e.g.* sinusoidal position embeddings), increasing the\n",
    "                size will add correct vectors at the end following the position encoding algorithm, whereas reducing\n",
    "                the size will remove vectors from the end.\n",
    "        \"\"\"\n",
    "        self.distilbert.resize_position_embeddings(new_num_position_embeddings)\n",
    "\n",
    "    # @add_start_docstrings_to_model_forward(DISTILBERT_INPUTS_DOCSTRING.format(\"batch_size, sequence_length\"))\n",
    "    # @add_code_sample_docstrings(\n",
    "    #     checkpoint=_CHECKPOINT_FOR_DOC,\n",
    "    #     output_type=SequenceClassifierOutput,\n",
    "    #     config_class=_CONFIG_FOR_DOC,\n",
    "    # )\n",
    "    def forward(\n",
    "        self,\n",
    "        input_ids: Optional[torch.Tensor] = None,\n",
    "        attention_mask: Optional[torch.Tensor] = None,\n",
    "        head_mask: Optional[torch.Tensor] = None,\n",
    "        inputs_embeds: Optional[torch.Tensor] = None,\n",
    "        labels: Optional[torch.LongTensor] = None,\n",
    "        output_attentions: Optional[bool] = None,\n",
    "        output_hidden_states: Optional[bool] = None,\n",
    "        return_dict: Optional[bool] = None,\n",
    "        source: Optional[int] = None,\n",
    "    ) -> Union[SequenceClassifierOutput, Tuple[torch.Tensor, ...]]:\n",
    "        r\"\"\"\n",
    "        labels (`torch.LongTensor` of shape `(batch_size,)`, *optional*):\n",
    "            Labels for computing the sequence classification/regression loss. Indices should be in `[0, ...,\n",
    "            config.num_labels - 1]`. If `config.num_labels == 1` a regression loss is computed (Mean-Square loss), If\n",
    "            `config.num_labels > 1` a classification loss is computed (Cross-Entropy).\n",
    "        \"\"\"\n",
    "        return_dict = (\n",
    "            return_dict if return_dict is not None else self.config.use_return_dict\n",
    "        )\n",
    "\n",
    "        distilbert_output = self.distilbert(\n",
    "            input_ids=input_ids,\n",
    "            attention_mask=attention_mask,\n",
    "            head_mask=head_mask,\n",
    "            inputs_embeds=inputs_embeds,\n",
    "            output_attentions=output_attentions,\n",
    "            output_hidden_states=output_hidden_states,\n",
    "            return_dict=return_dict,\n",
    "        )\n",
    "        hidden_state = distilbert_output[0]  # (bs, seq_len, dim)\n",
    "        pooled_output = hidden_state[:, 0]  # (bs, dim)\n",
    "        pooled_output = self.pre_classifier(pooled_output)  # (bs, dim)\n",
    "        pooled_output = nn.ReLU()(pooled_output)  # (bs, dim)\n",
    "        pooled_output = self.dropout(pooled_output)  # (bs, dim)\n",
    "\n",
    "        if source is None:\n",
    "            # Use the last\n",
    "            perm_ids = self.num_sources * np.ones(pooled_output.shape[0])\n",
    "        else:\n",
    "            perm_ids = np.asarray(\n",
    "                [source.cpu().numpy()]\n",
    "            )  # for i in range(pooled_output.shape[0])])\n",
    "\n",
    "        perms = self.pemb[perm_ids]\n",
    "        sub_permuted = torch.gather(pooled_output, -1, perms)\n",
    "\n",
    "        logits = self.classifier(sub_permuted)  # (bs, num_labels)\n",
    "\n",
    "        loss = None\n",
    "        if labels is not None:\n",
    "            if self.config.problem_type is None:\n",
    "                if self.num_labels == 1:\n",
    "                    self.config.problem_type = \"regression\"\n",
    "                elif self.num_labels > 1 and (\n",
    "                    labels.dtype == torch.long or labels.dtype == torch.int\n",
    "                ):\n",
    "                    self.config.problem_type = \"single_label_classification\"\n",
    "                else:\n",
    "                    self.config.problem_type = \"multi_label_classification\"\n",
    "\n",
    "            if self.config.problem_type == \"regression\":\n",
    "                loss_fct = MSELoss()\n",
    "                if self.num_labels == 1:\n",
    "                    loss = loss_fct(logits.squeeze(), labels.squeeze())\n",
    "                else:\n",
    "                    loss = loss_fct(logits, labels)\n",
    "            elif self.config.problem_type == \"single_label_classification\":\n",
    "                loss_fct = CrossEntropyLoss()\n",
    "                loss = loss_fct(logits.view(-1, self.num_labels), labels.view(-1))\n",
    "            elif self.config.problem_type == \"multi_label_classification\":\n",
    "                # NOTE: to verify here\n",
    "                loss_fct = CrossEntropyLoss()\n",
    "                loss = loss_fct(logits.view(-1, self.num_labels), labels.view(-1))\n",
    "\n",
    "        if not return_dict:\n",
    "            output = (logits,) + distilbert_output[1:]\n",
    "            return ((loss,) + output) if loss is not None else output\n",
    "\n",
    "        return SequenceClassifierOutput(\n",
    "            loss=loss,\n",
    "            logits=logits,\n",
    "            hidden_states=distilbert_output.hidden_states,\n",
    "            attentions=distilbert_output.attentions,\n",
    "        ), sub_permuted, hidden_state[:, 0], pooled_output\n",
    "\n",
    "class train_config:\n",
    "    def __init__(self):\n",
    "        self.quantization: bool = False\n",
    "\n"
   ]
  },
  {
   "cell_type": "code",
   "execution_count": 10,
   "id": "3078732e-8f29-4e00-b82c-9abb164e36b8",
   "metadata": {
    "execution": {
     "iopub.execute_input": "2024-03-08T19:42:41.330669Z",
     "iopub.status.busy": "2024-03-08T19:42:41.330062Z",
     "iopub.status.idle": "2024-03-08T19:42:41.335485Z",
     "shell.execute_reply": "2024-03-08T19:42:41.334533Z",
     "shell.execute_reply.started": "2024-03-08T19:42:41.330642Z"
    },
    "tags": []
   },
   "outputs": [],
   "source": [
    "\n",
    "globalconfig = train_config()\n",
    "\n",
    "globalconfig.tokenizer_max_len = 512\n"
   ]
  },
  {
   "cell_type": "code",
   "execution_count": 11,
   "id": "6890624b-fcab-4aaf-ade5-1b9c37c27920",
   "metadata": {
    "execution": {
     "iopub.execute_input": "2024-03-08T19:42:41.338897Z",
     "iopub.status.busy": "2024-03-08T19:42:41.338426Z",
     "iopub.status.idle": "2024-03-08T19:42:42.662909Z",
     "shell.execute_reply": "2024-03-08T19:42:42.662320Z",
     "shell.execute_reply.started": "2024-03-08T19:42:41.338864Z"
    },
    "tags": []
   },
   "outputs": [],
   "source": [
    "model = PermDistilBertForSequenceClassification.from_pretrained(model_path)"
   ]
  },
  {
   "cell_type": "code",
   "execution_count": 12,
   "id": "c796b3e6-b97c-41ba-b065-492d65823fed",
   "metadata": {
    "execution": {
     "iopub.execute_input": "2024-03-08T19:42:42.663824Z",
     "iopub.status.busy": "2024-03-08T19:42:42.663643Z",
     "iopub.status.idle": "2024-03-08T19:42:42.875635Z",
     "shell.execute_reply": "2024-03-08T19:42:42.874189Z",
     "shell.execute_reply.started": "2024-03-08T19:42:42.663808Z"
    },
    "tags": []
   },
   "outputs": [],
   "source": [
    "tokenizer = DistilBertTokenizer.from_pretrained(\"distilbert-base-uncased\")\n",
    "tokenizer.max_len = globalconfig.tokenizer_max_len"
   ]
  },
  {
   "cell_type": "code",
   "execution_count": null,
   "id": "126de1b2-76d1-4a2b-94bd-813e1fb73d35",
   "metadata": {},
   "outputs": [],
   "source": []
  },
  {
   "cell_type": "markdown",
   "id": "0dcb534a-416c-4972-bfa3-dfbfd6a4fa3f",
   "metadata": {},
   "source": [
    "# Toeknize"
   ]
  },
  {
   "cell_type": "code",
   "execution_count": null,
   "id": "4248c68a-0a8d-474f-81b4-f6e7c2237642",
   "metadata": {},
   "outputs": [],
   "source": []
  },
  {
   "cell_type": "code",
   "execution_count": 13,
   "id": "a4118e97-84e0-4c74-af3d-6f7d24048e48",
   "metadata": {
    "execution": {
     "iopub.execute_input": "2024-03-08T19:42:42.876938Z",
     "iopub.status.busy": "2024-03-08T19:42:42.876592Z",
     "iopub.status.idle": "2024-03-08T19:42:46.961681Z",
     "shell.execute_reply": "2024-03-08T19:42:46.960716Z",
     "shell.execute_reply.started": "2024-03-08T19:42:42.876913Z"
    },
    "tags": []
   },
   "outputs": [],
   "source": [
    "for _ in [df0, df1]:\n",
    "    _[\"tokenized\"] = _[txt_col].apply(\n",
    "        lambda x: tokenizer(\n",
    "            x,\n",
    "            return_tensors=\"pt\",\n",
    "            truncation=True,\n",
    "            padding=\"max_length\",\n",
    "            max_length=globalconfig.tokenizer_max_len,\n",
    "        )\n",
    "    )\n",
    "    for i, row in _.iterrows():\n",
    "        row[\"tokenized\"].update(\n",
    "            {\"labels\": torch.tensor(int(row[\"labels\"]), dtype=torch.long)}\n",
    "        )\n",
    "        row[\"tokenized\"].update(\n",
    "            {\n",
    "                \"source\": torch.tensor(\n",
    "                    int(z_Categories.index(row[domain_col])), dtype=torch.long\n",
    "                )\n",
    "            }\n",
    "        )  # NOTE: this only works for binary Category cases!!!\n",
    "        row[\"tokenized\"].update({\"input_ids\": row[\"tokenized\"][\"input_ids\"].squeeze()})\n",
    "        row[\"tokenized\"].update(\n",
    "            {\"attention_mask\": row[\"tokenized\"][\"attention_mask\"].squeeze()}\n",
    "        )"
   ]
  },
  {
   "cell_type": "code",
   "execution_count": 14,
   "id": "7b708f85-51a8-476a-913f-67ac12373456",
   "metadata": {
    "execution": {
     "iopub.execute_input": "2024-03-08T19:42:46.963506Z",
     "iopub.status.busy": "2024-03-08T19:42:46.963133Z",
     "iopub.status.idle": "2024-03-08T19:42:49.588624Z",
     "shell.execute_reply": "2024-03-08T19:42:49.587614Z",
     "shell.execute_reply.started": "2024-03-08T19:42:46.963487Z"
    },
    "tags": []
   },
   "outputs": [],
   "source": [
    "for _df in [df0, df1]:\n",
    "    for i in range(n_zCats + 1):\n",
    "        _df[f\"tokenized_sr{i}\"] = _df.apply(\n",
    "            lambda x: deepcopy(x[\"tokenized\"]), axis=1\n",
    "        )\n",
    "        for _, row in _df.iterrows():\n",
    "            row[f\"tokenized_sr{i}\"][\"source\"] = torch.tensor(i, dtype=torch.long)\n"
   ]
  },
  {
   "cell_type": "code",
   "execution_count": null,
   "id": "5423d0f4-3e54-400a-aee1-4fb1a1ad54db",
   "metadata": {},
   "outputs": [],
   "source": []
  },
  {
   "cell_type": "code",
   "execution_count": null,
   "id": "0254c8d4-dc75-476c-af1b-ec1d69ef25e0",
   "metadata": {},
   "outputs": [],
   "source": []
  },
  {
   "cell_type": "markdown",
   "id": "6d2a79e4-45be-47e0-b1ef-a2151430f5d2",
   "metadata": {},
   "source": [
    "# Output"
   ]
  },
  {
   "cell_type": "code",
   "execution_count": 15,
   "id": "302d56d8-d766-4673-8539-26f388cfe557",
   "metadata": {
    "execution": {
     "iopub.execute_input": "2024-03-08T19:42:49.590175Z",
     "iopub.status.busy": "2024-03-08T19:42:49.589863Z",
     "iopub.status.idle": "2024-03-08T19:42:49.595200Z",
     "shell.execute_reply": "2024-03-08T19:42:49.594361Z",
     "shell.execute_reply.started": "2024-03-08T19:42:49.590157Z"
    },
    "tags": []
   },
   "outputs": [],
   "source": [
    "def getOutput(tokenized):\n",
    "    \n",
    "    model.eval()\n",
    "    with torch.no_grad():\n",
    "        example_i = tokenized\n",
    "\n",
    "        output = model(input_ids=example_i['input_ids'], attention_mask=example_i['attention_mask'], labels=example_i['labels'], source=example_i['source'],\n",
    "                       output_attentions=True,\n",
    "                       output_hidden_states=True,\n",
    "                       return_dict=True,\n",
    "\n",
    "                      )\n",
    "    return output"
   ]
  },
  {
   "cell_type": "code",
   "execution_count": 16,
   "id": "5517e012-c8e3-417a-ac3f-b74744f2777b",
   "metadata": {
    "execution": {
     "iopub.execute_input": "2024-03-08T19:42:49.595944Z",
     "iopub.status.busy": "2024-03-08T19:42:49.595784Z",
     "iopub.status.idle": "2024-03-08T19:42:49.605679Z",
     "shell.execute_reply": "2024-03-08T19:42:49.604978Z",
     "shell.execute_reply.started": "2024-03-08T19:42:49.595924Z"
    },
    "tags": []
   },
   "outputs": [],
   "source": [
    "from sklearn.metrics.pairwise import cosine_similarity"
   ]
  },
  {
   "cell_type": "code",
   "execution_count": null,
   "id": "aa150f23-31ac-4b4b-8efb-4065d9c5461d",
   "metadata": {},
   "outputs": [],
   "source": []
  },
  {
   "cell_type": "code",
   "execution_count": 32,
   "id": "e0f79f4e-a73c-4c5a-b2d0-c2df7dad0d64",
   "metadata": {
    "execution": {
     "iopub.execute_input": "2024-03-08T19:53:43.021998Z",
     "iopub.status.busy": "2024-03-08T19:53:43.021272Z",
     "iopub.status.idle": "2024-03-08T20:05:15.615129Z",
     "shell.execute_reply": "2024-03-08T20:05:15.614442Z",
     "shell.execute_reply.started": "2024-03-08T19:53:43.021935Z"
    },
    "tags": []
   },
   "outputs": [],
   "source": [
    "x_df0_sr0, x_df0_sr1, x_df0_sr2 = [],[],[]\n",
    "x_df1_sr0, x_df1_sr1, x_df1_sr2 = [],[],[]\n",
    "\n",
    "\n",
    "for index, row in df0.iterrows():\n",
    "    x_df0_sr0.append(getOutput(row['tokenized_sr0'])[1:])\n",
    "    x_df0_sr1.append(getOutput(row['tokenized_sr1'])[1:])\n",
    "    x_df0_sr2.append(getOutput(row['tokenized_sr2'])[1:])\n",
    "\n",
    "for index, row in df1.iterrows():\n",
    "    x_df1_sr0.append(getOutput(row['tokenized_sr0'])[1:])\n",
    "    x_df1_sr1.append(getOutput(row['tokenized_sr1'])[1:])\n",
    "    x_df1_sr2.append(getOutput(row['tokenized_sr2'])[1:])\n"
   ]
  },
  {
   "cell_type": "code",
   "execution_count": 33,
   "id": "58433612-088c-42bf-b6c2-3eda06b51e87",
   "metadata": {
    "execution": {
     "iopub.execute_input": "2024-03-08T20:05:15.616581Z",
     "iopub.status.busy": "2024-03-08T20:05:15.616283Z",
     "iopub.status.idle": "2024-03-08T20:05:15.927220Z",
     "shell.execute_reply": "2024-03-08T20:05:15.926729Z",
     "shell.execute_reply.started": "2024-03-08T20:05:15.616558Z"
    },
    "tags": []
   },
   "outputs": [],
   "source": [
    "x_df0_sr0 = np.array(x_df0_sr0)\n",
    "x_df0_sr1 = np.array(x_df0_sr1)\n",
    "x_df0_sr2 = np.array(x_df0_sr2)\n",
    "\n",
    "x_df1_sr0 = np.array(x_df1_sr0)\n",
    "x_df1_sr1 = np.array(x_df1_sr1)\n",
    "x_df1_sr2 = np.array(x_df1_sr2)"
   ]
  },
  {
   "cell_type": "code",
   "execution_count": null,
   "id": "4327fe34-0bff-4086-b894-ff9fca8f50dd",
   "metadata": {
    "tags": []
   },
   "outputs": [],
   "source": []
  },
  {
   "cell_type": "code",
   "execution_count": 34,
   "id": "90f25f58-b9cc-436f-9764-addba0072117",
   "metadata": {
    "execution": {
     "iopub.execute_input": "2024-03-08T20:05:15.928256Z",
     "iopub.status.busy": "2024-03-08T20:05:15.928066Z",
     "iopub.status.idle": "2024-03-08T20:05:15.932291Z",
     "shell.execute_reply": "2024-03-08T20:05:15.931336Z",
     "shell.execute_reply.started": "2024-03-08T20:05:15.928240Z"
    },
    "tags": []
   },
   "outputs": [],
   "source": [
    "import matplotlib.pyplot as plt\n",
    "import seaborn as sns"
   ]
  },
  {
   "cell_type": "code",
   "execution_count": 35,
   "id": "810b3a74-1a44-4634-b6a0-3453969bce91",
   "metadata": {
    "execution": {
     "iopub.execute_input": "2024-03-08T20:05:15.933905Z",
     "iopub.status.busy": "2024-03-08T20:05:15.933736Z",
     "iopub.status.idle": "2024-03-08T20:05:17.300208Z",
     "shell.execute_reply": "2024-03-08T20:05:17.299360Z",
     "shell.execute_reply.started": "2024-03-08T20:05:15.933891Z"
    },
    "tags": []
   },
   "outputs": [
    {
     "name": "stdout",
     "output_type": "stream",
     "text": [
      "0.33321065\n",
      "0.48082128\n",
      "0.33580345\n",
      "0.471619\n"
     ]
    },
    {
     "data": {
      "text/plain": [
       "{'whiskers': [<matplotlib.lines.Line2D at 0x7fc1d98363a0>,\n",
       "  <matplotlib.lines.Line2D at 0x7fc1d9836640>,\n",
       "  <matplotlib.lines.Line2D at 0x7fc1d968f520>,\n",
       "  <matplotlib.lines.Line2D at 0x7fc1d968f7c0>],\n",
       " 'caps': [<matplotlib.lines.Line2D at 0x7fc1d98367c0>,\n",
       "  <matplotlib.lines.Line2D at 0x7fc1d9836a60>,\n",
       "  <matplotlib.lines.Line2D at 0x7fc1d968fa60>,\n",
       "  <matplotlib.lines.Line2D at 0x7fc1d968fd00>],\n",
       " 'boxes': [<matplotlib.lines.Line2D at 0x7fc1d9836100>,\n",
       "  <matplotlib.lines.Line2D at 0x7fc1d968f280>],\n",
       " 'medians': [<matplotlib.lines.Line2D at 0x7fc1d9836d00>,\n",
       "  <matplotlib.lines.Line2D at 0x7fc1d968ffa0>],\n",
       " 'fliers': [<matplotlib.lines.Line2D at 0x7fc1d9836fa0>,\n",
       "  <matplotlib.lines.Line2D at 0x7fc1d9689280>],\n",
       " 'means': []}"
      ]
     },
     "execution_count": 35,
     "metadata": {},
     "output_type": "execute_result"
    },
    {
     "data": {
      "image/png": "[encoded data removed]",
      "text/plain": [
       "<Figure size 640x480 with 1 Axes>"
      ]
     },
     "metadata": {},
     "output_type": "display_data"
    }
   ],
   "source": [
    "sims_df0 = [cosine_similarity(x[0],y[0])[0][0] for x,y in zip(x_df0_sr0, x_df0_sr1)]\n",
    "sims_df1 = [cosine_similarity(x[0],y[0])[0][0] for x,y in zip(x_df1_sr0, x_df1_sr1)]\n",
    "\n",
    "print(min(sims_df0))\n",
    "print(max(sims_df0))\n",
    "print(min(sims_df1))\n",
    "print(max(sims_df1))\n",
    "\n",
    "plt.boxplot(x=(sims_df0, sims_df1))"
   ]
  },
  {
   "cell_type": "code",
   "execution_count": 36,
   "id": "a301af32-e434-460b-b0ec-581dac43ed7f",
   "metadata": {
    "execution": {
     "iopub.execute_input": "2024-03-08T20:05:17.301703Z",
     "iopub.status.busy": "2024-03-08T20:05:17.301405Z",
     "iopub.status.idle": "2024-03-08T20:05:18.787594Z",
     "shell.execute_reply": "2024-03-08T20:05:18.786676Z",
     "shell.execute_reply.started": "2024-03-08T20:05:17.301677Z"
    },
    "tags": []
   },
   "outputs": [
    {
     "name": "stdout",
     "output_type": "stream",
     "text": [
      "0.33321065\n",
      "0.48082128\n",
      "0.33580345\n",
      "0.471619\n"
     ]
    },
    {
     "data": {
      "text/plain": [
       "{'whiskers': [<matplotlib.lines.Line2D at 0x7fc1cf2c7fd0>,\n",
       "  <matplotlib.lines.Line2D at 0x7fc1cf2d12b0>,\n",
       "  <matplotlib.lines.Line2D at 0x7fc1d95152b0>,\n",
       "  <matplotlib.lines.Line2D at 0x7fc1d9515550>],\n",
       " 'caps': [<matplotlib.lines.Line2D at 0x7fc1cf2d1550>,\n",
       "  <matplotlib.lines.Line2D at 0x7fc1cf2d17f0>,\n",
       "  <matplotlib.lines.Line2D at 0x7fc1d95157f0>,\n",
       "  <matplotlib.lines.Line2D at 0x7fc1d9515a90>],\n",
       " 'boxes': [<matplotlib.lines.Line2D at 0x7fc1cf2c7e50>,\n",
       "  <matplotlib.lines.Line2D at 0x7fc1cf2d1fd0>],\n",
       " 'medians': [<matplotlib.lines.Line2D at 0x7fc1cf2d1a90>,\n",
       "  <matplotlib.lines.Line2D at 0x7fc1d9515d30>],\n",
       " 'fliers': [<matplotlib.lines.Line2D at 0x7fc1cf2d1d30>,\n",
       "  <matplotlib.lines.Line2D at 0x7fc1d9515fd0>],\n",
       " 'means': []}"
      ]
     },
     "execution_count": 36,
     "metadata": {},
     "output_type": "execute_result"
    },
    {
     "data": {
      "image/png": "[encoded data removed]",
      "text/plain": [
       "<Figure size 640x480 with 1 Axes>"
      ]
     },
     "metadata": {},
     "output_type": "display_data"
    }
   ],
   "source": [
    "sims_df0 = [cosine_similarity(x[0],y[0])[0][0] for x,y in zip(x_df0_sr0, x_df0_sr1)]\n",
    "sims_df1 = [cosine_similarity(x[0],y[0])[0][0] for x,y in zip(x_df1_sr0, x_df1_sr1)]\n",
    "\n",
    "print(min(sims_df0))\n",
    "print(max(sims_df0))\n",
    "print(min(sims_df1))\n",
    "print(max(sims_df1))\n",
    "\n",
    "plt.boxplot(x=(sims_df0, sims_df1))"
   ]
  },
  {
   "cell_type": "code",
   "execution_count": 37,
   "id": "a3281d57-e057-405a-afcd-da41db54ae16",
   "metadata": {
    "execution": {
     "iopub.execute_input": "2024-03-08T20:05:18.788888Z",
     "iopub.status.busy": "2024-03-08T20:05:18.788629Z",
     "iopub.status.idle": "2024-03-08T20:05:20.210379Z",
     "shell.execute_reply": "2024-03-08T20:05:20.209512Z",
     "shell.execute_reply.started": "2024-03-08T20:05:18.788865Z"
    },
    "tags": []
   },
   "outputs": [
    {
     "name": "stdout",
     "output_type": "stream",
     "text": [
      "0.9999996\n",
      "1.0000005\n",
      "0.9999996\n",
      "1.0000005\n"
     ]
    }
   ],
   "source": [
    "sims_df0 = [cosine_similarity(x[1],y[1])[0][0] for x,y in zip(x_df0_sr0, x_df0_sr1)]\n",
    "sims_df1 = [cosine_similarity(x[1],y[1])[0][0] for x,y in zip(x_df1_sr0, x_df1_sr1)]\n",
    "\n",
    "\n",
    "print(min(sims_df0))\n",
    "print(max(sims_df0))\n",
    "print(min(sims_df1))\n",
    "print(max(sims_df1))"
   ]
  },
  {
   "cell_type": "code",
   "execution_count": 38,
   "id": "dee948be-858b-4421-9c26-f3365f20f542",
   "metadata": {
    "execution": {
     "iopub.execute_input": "2024-03-08T20:05:20.211422Z",
     "iopub.status.busy": "2024-03-08T20:05:20.211130Z",
     "iopub.status.idle": "2024-03-08T20:05:21.522763Z",
     "shell.execute_reply": "2024-03-08T20:05:21.521766Z",
     "shell.execute_reply.started": "2024-03-08T20:05:20.211396Z"
    },
    "tags": []
   },
   "outputs": [
    {
     "name": "stdout",
     "output_type": "stream",
     "text": [
      "0.99999964\n",
      "1.0000002\n",
      "0.99999976\n",
      "1.0000002\n"
     ]
    }
   ],
   "source": [
    "sims_df0 = [cosine_similarity(x[2],y[2])[0][0] for x,y in zip(x_df0_sr0, x_df0_sr1)]\n",
    "sims_df1 = [cosine_similarity(x[2],y[2])[0][0] for x,y in zip(x_df1_sr0, x_df1_sr1)]\n",
    "\n",
    "\n",
    "print(min(sims_df0))\n",
    "print(max(sims_df0))\n",
    "print(min(sims_df1))\n",
    "print(max(sims_df1))"
   ]
  },
  {
   "cell_type": "code",
   "execution_count": 39,
   "id": "8f27c472-cab7-45cc-bb0c-20159eef424f",
   "metadata": {
    "execution": {
     "iopub.execute_input": "2024-03-08T20:05:21.524244Z",
     "iopub.status.busy": "2024-03-08T20:05:21.523606Z",
     "iopub.status.idle": "2024-03-08T20:05:21.534096Z",
     "shell.execute_reply": "2024-03-08T20:05:21.532622Z",
     "shell.execute_reply.started": "2024-03-08T20:05:21.524183Z"
    },
    "tags": []
   },
   "outputs": [
    {
     "data": {
      "text/plain": [
       "(2528, 3, 1, 768)"
      ]
     },
     "execution_count": 39,
     "metadata": {},
     "output_type": "execute_result"
    }
   ],
   "source": [
    "x_df0_sr0.shape"
   ]
  },
  {
   "cell_type": "code",
   "execution_count": 40,
   "id": "61cf1266-2179-486c-bd3d-063b80d6686a",
   "metadata": {
    "execution": {
     "iopub.execute_input": "2024-03-08T20:05:21.535580Z",
     "iopub.status.busy": "2024-03-08T20:05:21.535261Z",
     "iopub.status.idle": "2024-03-08T20:05:22.182054Z",
     "shell.execute_reply": "2024-03-08T20:05:22.181076Z",
     "shell.execute_reply.started": "2024-03-08T20:05:21.535551Z"
    },
    "tags": []
   },
   "outputs": [
    {
     "data": {
      "text/html": [
       "<div>\n",
       "<style scoped>\n",
       "    .dataframe tbody tr th:only-of-type {\n",
       "        vertical-align: middle;\n",
       "    }\n",
       "\n",
       "    .dataframe tbody tr th {\n",
       "        vertical-align: top;\n",
       "    }\n",
       "\n",
       "    .dataframe thead th {\n",
       "        text-align: right;\n",
       "    }\n",
       "</style>\n",
       "<table border=\"1\" class=\"dataframe\">\n",
       "  <thead>\n",
       "    <tr style=\"text-align: right;\">\n",
       "      <th></th>\n",
       "      <th>0</th>\n",
       "    </tr>\n",
       "  </thead>\n",
       "  <tbody>\n",
       "    <tr>\n",
       "      <th>count</th>\n",
       "      <td>4.745056e+06</td>\n",
       "    </tr>\n",
       "    <tr>\n",
       "      <th>mean</th>\n",
       "      <td>6.643224e-01</td>\n",
       "    </tr>\n",
       "    <tr>\n",
       "      <th>std</th>\n",
       "      <td>3.525064e-01</td>\n",
       "    </tr>\n",
       "    <tr>\n",
       "      <th>min</th>\n",
       "      <td>8.392964e-03</td>\n",
       "    </tr>\n",
       "    <tr>\n",
       "      <th>25%</th>\n",
       "      <td>2.956829e-01</td>\n",
       "    </tr>\n",
       "    <tr>\n",
       "      <th>50%</th>\n",
       "      <td>8.569562e-01</td>\n",
       "    </tr>\n",
       "    <tr>\n",
       "      <th>75%</th>\n",
       "      <td>9.806013e-01</td>\n",
       "    </tr>\n",
       "    <tr>\n",
       "      <th>max</th>\n",
       "      <td>1.000000e+00</td>\n",
       "    </tr>\n",
       "  </tbody>\n",
       "</table>\n",
       "</div>"
      ],
      "text/plain": [
       "                  0\n",
       "count  4.745056e+06\n",
       "mean   6.643224e-01\n",
       "std    3.525064e-01\n",
       "min    8.392964e-03\n",
       "25%    2.956829e-01\n",
       "50%    8.569562e-01\n",
       "75%    9.806013e-01\n",
       "max    1.000000e+00"
      ]
     },
     "execution_count": 40,
     "metadata": {},
     "output_type": "execute_result"
    }
   ],
   "source": [
    "tmp = cosine_similarity(x_df0_sr0[:, 2, 0, :], x_df1_sr1[:, 2, 0, :]).reshape(1,-1)\n",
    "\n",
    "pd.DataFrame(tmp).T.describe()"
   ]
  },
  {
   "cell_type": "code",
   "execution_count": 41,
   "id": "4341947b-b843-43d6-bfdc-c9dcf408946f",
   "metadata": {
    "execution": {
     "iopub.execute_input": "2024-03-08T20:05:22.184214Z",
     "iopub.status.busy": "2024-03-08T20:05:22.183885Z",
     "iopub.status.idle": "2024-03-08T20:05:22.720857Z",
     "shell.execute_reply": "2024-03-08T20:05:22.719890Z",
     "shell.execute_reply.started": "2024-03-08T20:05:22.184197Z"
    },
    "tags": []
   },
   "outputs": [
    {
     "data": {
      "text/html": [
       "<div>\n",
       "<style scoped>\n",
       "    .dataframe tbody tr th:only-of-type {\n",
       "        vertical-align: middle;\n",
       "    }\n",
       "\n",
       "    .dataframe tbody tr th {\n",
       "        vertical-align: top;\n",
       "    }\n",
       "\n",
       "    .dataframe thead th {\n",
       "        text-align: right;\n",
       "    }\n",
       "</style>\n",
       "<table border=\"1\" class=\"dataframe\">\n",
       "  <thead>\n",
       "    <tr style=\"text-align: right;\">\n",
       "      <th></th>\n",
       "      <th>0</th>\n",
       "    </tr>\n",
       "  </thead>\n",
       "  <tbody>\n",
       "    <tr>\n",
       "      <th>count</th>\n",
       "      <td>4.745056e+06</td>\n",
       "    </tr>\n",
       "    <tr>\n",
       "      <th>mean</th>\n",
       "      <td>2.909885e-01</td>\n",
       "    </tr>\n",
       "    <tr>\n",
       "      <th>std</th>\n",
       "      <td>1.185814e-01</td>\n",
       "    </tr>\n",
       "    <tr>\n",
       "      <th>min</th>\n",
       "      <td>9.638192e-02</td>\n",
       "    </tr>\n",
       "    <tr>\n",
       "      <th>25%</th>\n",
       "      <td>1.658968e-01</td>\n",
       "    </tr>\n",
       "    <tr>\n",
       "      <th>50%</th>\n",
       "      <td>3.443460e-01</td>\n",
       "    </tr>\n",
       "    <tr>\n",
       "      <th>75%</th>\n",
       "      <td>3.967049e-01</td>\n",
       "    </tr>\n",
       "    <tr>\n",
       "      <th>max</th>\n",
       "      <td>4.758790e-01</td>\n",
       "    </tr>\n",
       "  </tbody>\n",
       "</table>\n",
       "</div>"
      ],
      "text/plain": [
       "                  0\n",
       "count  4.745056e+06\n",
       "mean   2.909885e-01\n",
       "std    1.185814e-01\n",
       "min    9.638192e-02\n",
       "25%    1.658968e-01\n",
       "50%    3.443460e-01\n",
       "75%    3.967049e-01\n",
       "max    4.758790e-01"
      ]
     },
     "execution_count": 41,
     "metadata": {},
     "output_type": "execute_result"
    }
   ],
   "source": [
    "tmp = cosine_similarity(x_df0_sr0[:, 0, 0, :], x_df1_sr1[:, 0, 0, :]).reshape(1,-1)\n",
    "\n",
    "pd.DataFrame(tmp).T.describe()"
   ]
  },
  {
   "cell_type": "code",
   "execution_count": 42,
   "id": "6d388217-59f2-4fa8-ac1b-f93f159ea983",
   "metadata": {
    "execution": {
     "iopub.execute_input": "2024-03-08T20:05:22.721850Z",
     "iopub.status.busy": "2024-03-08T20:05:22.721665Z",
     "iopub.status.idle": "2024-03-08T20:05:23.266526Z",
     "shell.execute_reply": "2024-03-08T20:05:23.265552Z",
     "shell.execute_reply.started": "2024-03-08T20:05:22.721835Z"
    },
    "tags": []
   },
   "outputs": [
    {
     "data": {
      "text/html": [
       "<div>\n",
       "<style scoped>\n",
       "    .dataframe tbody tr th:only-of-type {\n",
       "        vertical-align: middle;\n",
       "    }\n",
       "\n",
       "    .dataframe tbody tr th {\n",
       "        vertical-align: top;\n",
       "    }\n",
       "\n",
       "    .dataframe thead th {\n",
       "        text-align: right;\n",
       "    }\n",
       "</style>\n",
       "<table border=\"1\" class=\"dataframe\">\n",
       "  <thead>\n",
       "    <tr style=\"text-align: right;\">\n",
       "      <th></th>\n",
       "      <th>0</th>\n",
       "    </tr>\n",
       "  </thead>\n",
       "  <tbody>\n",
       "    <tr>\n",
       "      <th>count</th>\n",
       "      <td>4.745056e+06</td>\n",
       "    </tr>\n",
       "    <tr>\n",
       "      <th>mean</th>\n",
       "      <td>3.052970e-01</td>\n",
       "    </tr>\n",
       "    <tr>\n",
       "      <th>std</th>\n",
       "      <td>1.044592e-01</td>\n",
       "    </tr>\n",
       "    <tr>\n",
       "      <th>min</th>\n",
       "      <td>9.732349e-02</td>\n",
       "    </tr>\n",
       "    <tr>\n",
       "      <th>25%</th>\n",
       "      <td>2.017653e-01</td>\n",
       "    </tr>\n",
       "    <tr>\n",
       "      <th>50%</th>\n",
       "      <td>3.466748e-01</td>\n",
       "    </tr>\n",
       "    <tr>\n",
       "      <th>75%</th>\n",
       "      <td>3.950309e-01</td>\n",
       "    </tr>\n",
       "    <tr>\n",
       "      <th>max</th>\n",
       "      <td>4.868950e-01</td>\n",
       "    </tr>\n",
       "  </tbody>\n",
       "</table>\n",
       "</div>"
      ],
      "text/plain": [
       "                  0\n",
       "count  4.745056e+06\n",
       "mean   3.052970e-01\n",
       "std    1.044592e-01\n",
       "min    9.732349e-02\n",
       "25%    2.017653e-01\n",
       "50%    3.466748e-01\n",
       "75%    3.950309e-01\n",
       "max    4.868950e-01"
      ]
     },
     "execution_count": 42,
     "metadata": {},
     "output_type": "execute_result"
    }
   ],
   "source": [
    "tmp = cosine_similarity(x_df0_sr1[:, 0, 0, :], x_df1_sr0[:, 0, 0, :]).reshape(1,-1)\n",
    "\n",
    "pd.DataFrame(tmp).T.describe()"
   ]
  },
  {
   "cell_type": "code",
   "execution_count": 43,
   "id": "9d2a35b0-92be-46de-bc3b-48840a4be204",
   "metadata": {
    "execution": {
     "iopub.execute_input": "2024-03-08T20:05:23.267700Z",
     "iopub.status.busy": "2024-03-08T20:05:23.267427Z",
     "iopub.status.idle": "2024-03-08T20:05:23.694915Z",
     "shell.execute_reply": "2024-03-08T20:05:23.693856Z",
     "shell.execute_reply.started": "2024-03-08T20:05:23.267683Z"
    },
    "tags": []
   },
   "outputs": [
    {
     "data": {
      "text/html": [
       "<div>\n",
       "<style scoped>\n",
       "    .dataframe tbody tr th:only-of-type {\n",
       "        vertical-align: middle;\n",
       "    }\n",
       "\n",
       "    .dataframe tbody tr th {\n",
       "        vertical-align: top;\n",
       "    }\n",
       "\n",
       "    .dataframe thead th {\n",
       "        text-align: right;\n",
       "    }\n",
       "</style>\n",
       "<table border=\"1\" class=\"dataframe\">\n",
       "  <thead>\n",
       "    <tr style=\"text-align: right;\">\n",
       "      <th></th>\n",
       "      <th>0</th>\n",
       "    </tr>\n",
       "  </thead>\n",
       "  <tbody>\n",
       "    <tr>\n",
       "      <th>count</th>\n",
       "      <td>3.523129e+06</td>\n",
       "    </tr>\n",
       "    <tr>\n",
       "      <th>mean</th>\n",
       "      <td>3.236930e-01</td>\n",
       "    </tr>\n",
       "    <tr>\n",
       "      <th>std</th>\n",
       "      <td>1.021970e-01</td>\n",
       "    </tr>\n",
       "    <tr>\n",
       "      <th>min</th>\n",
       "      <td>9.697229e-02</td>\n",
       "    </tr>\n",
       "    <tr>\n",
       "      <th>25%</th>\n",
       "      <td>2.469525e-01</td>\n",
       "    </tr>\n",
       "    <tr>\n",
       "      <th>50%</th>\n",
       "      <td>3.739005e-01</td>\n",
       "    </tr>\n",
       "    <tr>\n",
       "      <th>75%</th>\n",
       "      <td>3.989044e-01</td>\n",
       "    </tr>\n",
       "    <tr>\n",
       "      <th>max</th>\n",
       "      <td>4.778463e-01</td>\n",
       "    </tr>\n",
       "  </tbody>\n",
       "</table>\n",
       "</div>"
      ],
      "text/plain": [
       "                  0\n",
       "count  3.523129e+06\n",
       "mean   3.236930e-01\n",
       "std    1.021970e-01\n",
       "min    9.697229e-02\n",
       "25%    2.469525e-01\n",
       "50%    3.739005e-01\n",
       "75%    3.989044e-01\n",
       "max    4.778463e-01"
      ]
     },
     "execution_count": 43,
     "metadata": {},
     "output_type": "execute_result"
    }
   ],
   "source": [
    "tmp = cosine_similarity(x_df1_sr0[:, 0, 0, :], x_df1_sr1[:, 0, 0, :]).reshape(1,-1)\n",
    "\n",
    "pd.DataFrame(tmp).T.describe()"
   ]
  },
  {
   "cell_type": "code",
   "execution_count": 44,
   "id": "3610d695-109f-44dd-9f17-d039071efb9c",
   "metadata": {
    "execution": {
     "iopub.execute_input": "2024-03-08T20:05:23.696022Z",
     "iopub.status.busy": "2024-03-08T20:05:23.695812Z",
     "iopub.status.idle": "2024-03-08T20:05:24.394587Z",
     "shell.execute_reply": "2024-03-08T20:05:24.393581Z",
     "shell.execute_reply.started": "2024-03-08T20:05:23.695999Z"
    },
    "tags": []
   },
   "outputs": [
    {
     "data": {
      "text/html": [
       "<div>\n",
       "<style scoped>\n",
       "    .dataframe tbody tr th:only-of-type {\n",
       "        vertical-align: middle;\n",
       "    }\n",
       "\n",
       "    .dataframe tbody tr th {\n",
       "        vertical-align: top;\n",
       "    }\n",
       "\n",
       "    .dataframe thead th {\n",
       "        text-align: right;\n",
       "    }\n",
       "</style>\n",
       "<table border=\"1\" class=\"dataframe\">\n",
       "  <thead>\n",
       "    <tr style=\"text-align: right;\">\n",
       "      <th></th>\n",
       "      <th>0</th>\n",
       "    </tr>\n",
       "  </thead>\n",
       "  <tbody>\n",
       "    <tr>\n",
       "      <th>count</th>\n",
       "      <td>6.390784e+06</td>\n",
       "    </tr>\n",
       "    <tr>\n",
       "      <th>mean</th>\n",
       "      <td>2.911818e-01</td>\n",
       "    </tr>\n",
       "    <tr>\n",
       "      <th>std</th>\n",
       "      <td>1.150198e-01</td>\n",
       "    </tr>\n",
       "    <tr>\n",
       "      <th>min</th>\n",
       "      <td>9.652640e-02</td>\n",
       "    </tr>\n",
       "    <tr>\n",
       "      <th>25%</th>\n",
       "      <td>1.749979e-01</td>\n",
       "    </tr>\n",
       "    <tr>\n",
       "      <th>50%</th>\n",
       "      <td>3.262246e-01</td>\n",
       "    </tr>\n",
       "    <tr>\n",
       "      <th>75%</th>\n",
       "      <td>3.959108e-01</td>\n",
       "    </tr>\n",
       "    <tr>\n",
       "      <th>max</th>\n",
       "      <td>4.858800e-01</td>\n",
       "    </tr>\n",
       "  </tbody>\n",
       "</table>\n",
       "</div>"
      ],
      "text/plain": [
       "                  0\n",
       "count  6.390784e+06\n",
       "mean   2.911818e-01\n",
       "std    1.150198e-01\n",
       "min    9.652640e-02\n",
       "25%    1.749979e-01\n",
       "50%    3.262246e-01\n",
       "75%    3.959108e-01\n",
       "max    4.858800e-01"
      ]
     },
     "execution_count": 44,
     "metadata": {},
     "output_type": "execute_result"
    }
   ],
   "source": [
    "tmp = cosine_similarity(x_df0_sr0[:, 0, 0, :], x_df0_sr1[:, 0, 0, :]).reshape(1,-1)\n",
    "\n",
    "pd.DataFrame(tmp).T.describe()"
   ]
  },
  {
   "cell_type": "code",
   "execution_count": 45,
   "id": "a966123d-448b-4b37-a006-46a53b09ff02",
   "metadata": {
    "execution": {
     "iopub.execute_input": "2024-03-08T20:05:24.395635Z",
     "iopub.status.busy": "2024-03-08T20:05:24.395439Z",
     "iopub.status.idle": "2024-03-08T20:05:24.817738Z",
     "shell.execute_reply": "2024-03-08T20:05:24.816736Z",
     "shell.execute_reply.started": "2024-03-08T20:05:24.395619Z"
    },
    "tags": []
   },
   "outputs": [
    {
     "data": {
      "text/html": [
       "<div>\n",
       "<style scoped>\n",
       "    .dataframe tbody tr th:only-of-type {\n",
       "        vertical-align: middle;\n",
       "    }\n",
       "\n",
       "    .dataframe tbody tr th {\n",
       "        vertical-align: top;\n",
       "    }\n",
       "\n",
       "    .dataframe thead th {\n",
       "        text-align: right;\n",
       "    }\n",
       "</style>\n",
       "<table border=\"1\" class=\"dataframe\">\n",
       "  <thead>\n",
       "    <tr style=\"text-align: right;\">\n",
       "      <th></th>\n",
       "      <th>0</th>\n",
       "    </tr>\n",
       "  </thead>\n",
       "  <tbody>\n",
       "    <tr>\n",
       "      <th>count</th>\n",
       "      <td>3.523129e+06</td>\n",
       "    </tr>\n",
       "    <tr>\n",
       "      <th>mean</th>\n",
       "      <td>3.236930e-01</td>\n",
       "    </tr>\n",
       "    <tr>\n",
       "      <th>std</th>\n",
       "      <td>1.021970e-01</td>\n",
       "    </tr>\n",
       "    <tr>\n",
       "      <th>min</th>\n",
       "      <td>9.697229e-02</td>\n",
       "    </tr>\n",
       "    <tr>\n",
       "      <th>25%</th>\n",
       "      <td>2.469525e-01</td>\n",
       "    </tr>\n",
       "    <tr>\n",
       "      <th>50%</th>\n",
       "      <td>3.739005e-01</td>\n",
       "    </tr>\n",
       "    <tr>\n",
       "      <th>75%</th>\n",
       "      <td>3.989044e-01</td>\n",
       "    </tr>\n",
       "    <tr>\n",
       "      <th>max</th>\n",
       "      <td>4.778463e-01</td>\n",
       "    </tr>\n",
       "  </tbody>\n",
       "</table>\n",
       "</div>"
      ],
      "text/plain": [
       "                  0\n",
       "count  3.523129e+06\n",
       "mean   3.236930e-01\n",
       "std    1.021970e-01\n",
       "min    9.697229e-02\n",
       "25%    2.469525e-01\n",
       "50%    3.739005e-01\n",
       "75%    3.989044e-01\n",
       "max    4.778463e-01"
      ]
     },
     "execution_count": 45,
     "metadata": {},
     "output_type": "execute_result"
    }
   ],
   "source": [
    "tmp = cosine_similarity(x_df1_sr0[:, 0, 0, :], x_df1_sr1[:, 0, 0, :]).reshape(1,-1)\n",
    "\n",
    "pd.DataFrame(tmp).T.describe()"
   ]
  },
  {
   "cell_type": "code",
   "execution_count": 47,
   "id": "db2cb913-8d52-42cd-b90c-e59d48808a2d",
   "metadata": {
    "execution": {
     "iopub.execute_input": "2024-03-08T20:06:09.341872Z",
     "iopub.status.busy": "2024-03-08T20:06:09.340977Z",
     "iopub.status.idle": "2024-03-08T20:06:10.078520Z",
     "shell.execute_reply": "2024-03-08T20:06:10.077549Z",
     "shell.execute_reply.started": "2024-03-08T20:06:09.341809Z"
    },
    "tags": []
   },
   "outputs": [
    {
     "data": {
      "text/html": [
       "<div>\n",
       "<style scoped>\n",
       "    .dataframe tbody tr th:only-of-type {\n",
       "        vertical-align: middle;\n",
       "    }\n",
       "\n",
       "    .dataframe tbody tr th {\n",
       "        vertical-align: top;\n",
       "    }\n",
       "\n",
       "    .dataframe thead th {\n",
       "        text-align: right;\n",
       "    }\n",
       "</style>\n",
       "<table border=\"1\" class=\"dataframe\">\n",
       "  <thead>\n",
       "    <tr style=\"text-align: right;\">\n",
       "      <th></th>\n",
       "      <th>0</th>\n",
       "    </tr>\n",
       "  </thead>\n",
       "  <tbody>\n",
       "    <tr>\n",
       "      <th>count</th>\n",
       "      <td>6.390784e+06</td>\n",
       "    </tr>\n",
       "    <tr>\n",
       "      <th>mean</th>\n",
       "      <td>2.750075e-01</td>\n",
       "    </tr>\n",
       "    <tr>\n",
       "      <th>std</th>\n",
       "      <td>4.903536e-02</td>\n",
       "    </tr>\n",
       "    <tr>\n",
       "      <th>min</th>\n",
       "      <td>1.705512e-01</td>\n",
       "    </tr>\n",
       "    <tr>\n",
       "      <th>25%</th>\n",
       "      <td>2.315050e-01</td>\n",
       "    </tr>\n",
       "    <tr>\n",
       "      <th>50%</th>\n",
       "      <td>2.885957e-01</td>\n",
       "    </tr>\n",
       "    <tr>\n",
       "      <th>75%</th>\n",
       "      <td>3.121051e-01</td>\n",
       "    </tr>\n",
       "    <tr>\n",
       "      <th>max</th>\n",
       "      <td>3.732311e-01</td>\n",
       "    </tr>\n",
       "  </tbody>\n",
       "</table>\n",
       "</div>"
      ],
      "text/plain": [
       "                  0\n",
       "count  6.390784e+06\n",
       "mean   2.750075e-01\n",
       "std    4.903536e-02\n",
       "min    1.705512e-01\n",
       "25%    2.315050e-01\n",
       "50%    2.885957e-01\n",
       "75%    3.121051e-01\n",
       "max    3.732311e-01"
      ]
     },
     "execution_count": 47,
     "metadata": {},
     "output_type": "execute_result"
    }
   ],
   "source": [
    "tmp = cosine_similarity(x_df0_sr2[:, 0, 0, :], x_df0_sr0[:, 0, 0, :]).reshape(1,-1)\n",
    "\n",
    "pd.DataFrame(tmp).T.describe()"
   ]
  },
  {
   "cell_type": "code",
   "execution_count": 55,
   "id": "4257c9f8-0130-413d-a0d3-a03deb2d9e19",
   "metadata": {
    "execution": {
     "iopub.execute_input": "2024-03-08T20:17:35.606287Z",
     "iopub.status.busy": "2024-03-08T20:17:35.605562Z",
     "iopub.status.idle": "2024-03-08T20:17:35.653614Z",
     "shell.execute_reply": "2024-03-08T20:17:35.652658Z",
     "shell.execute_reply.started": "2024-03-08T20:17:35.606226Z"
    },
    "tags": []
   },
   "outputs": [
    {
     "data": {
      "text/html": [
       "<div>\n",
       "<style scoped>\n",
       "    .dataframe tbody tr th:only-of-type {\n",
       "        vertical-align: middle;\n",
       "    }\n",
       "\n",
       "    .dataframe tbody tr th {\n",
       "        vertical-align: top;\n",
       "    }\n",
       "\n",
       "    .dataframe thead th {\n",
       "        text-align: right;\n",
       "    }\n",
       "</style>\n",
       "<table border=\"1\" class=\"dataframe\">\n",
       "  <thead>\n",
       "    <tr style=\"text-align: right;\">\n",
       "      <th></th>\n",
       "      <th>0</th>\n",
       "    </tr>\n",
       "  </thead>\n",
       "  <tbody>\n",
       "    <tr>\n",
       "      <th>count</th>\n",
       "      <td>2528.000000</td>\n",
       "    </tr>\n",
       "    <tr>\n",
       "      <th>mean</th>\n",
       "      <td>0.324756</td>\n",
       "    </tr>\n",
       "    <tr>\n",
       "      <th>std</th>\n",
       "      <td>0.020818</td>\n",
       "    </tr>\n",
       "    <tr>\n",
       "      <th>min</th>\n",
       "      <td>0.287511</td>\n",
       "    </tr>\n",
       "    <tr>\n",
       "      <th>25%</th>\n",
       "      <td>0.303180</td>\n",
       "    </tr>\n",
       "    <tr>\n",
       "      <th>50%</th>\n",
       "      <td>0.327467</td>\n",
       "    </tr>\n",
       "    <tr>\n",
       "      <th>75%</th>\n",
       "      <td>0.343444</td>\n",
       "    </tr>\n",
       "    <tr>\n",
       "      <th>max</th>\n",
       "      <td>0.373231</td>\n",
       "    </tr>\n",
       "  </tbody>\n",
       "</table>\n",
       "</div>"
      ],
      "text/plain": [
       "                 0\n",
       "count  2528.000000\n",
       "mean      0.324756\n",
       "std       0.020818\n",
       "min       0.287511\n",
       "25%       0.303180\n",
       "50%       0.327467\n",
       "75%       0.343444\n",
       "max       0.373231"
      ]
     },
     "execution_count": 55,
     "metadata": {},
     "output_type": "execute_result"
    }
   ],
   "source": [
    "tmp = np.diagonal(cosine_similarity(x_df0_sr2[:, 0, 0, :], x_df0_sr0[:, 0, 0, :]))\n",
    "\n",
    "pd.DataFrame(tmp).describe()"
   ]
  }
 ],
 "metadata": {
  "kernelspec": {
   "display_name": "Python 3 (ipykernel)",
   "language": "python",
   "name": "python3"
  },
  "language_info": {
   "codemirror_mode": {
    "name": "ipython",
    "version": 3
   },
   "file_extension": ".py",
   "mimetype": "text/x-python",
   "name": "python",
   "nbconvert_exporter": "python",
   "pygments_lexer": "ipython3",
   "version": "3.9.17"
  },
  "toc-autonumbering": true
 },
 "nbformat": 4,
 "nbformat_minor": 5
}
