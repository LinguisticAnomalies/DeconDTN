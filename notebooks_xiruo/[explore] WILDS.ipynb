{
 "cells": [
  {
   "cell_type": "code",
   "execution_count": 1,
   "id": "a68f973b-44a5-4819-aa72-7d67012d0857",
   "metadata": {
    "execution": {
     "iopub.execute_input": "2023-09-05T03:23:14.325132Z",
     "iopub.status.busy": "2023-09-05T03:23:14.324790Z",
     "iopub.status.idle": "2023-09-05T03:23:15.293544Z",
     "shell.execute_reply": "2023-09-05T03:23:15.292532Z",
     "shell.execute_reply.started": "2023-09-05T03:23:14.325093Z"
    }
   },
   "outputs": [],
   "source": [
    "import torch\n",
    "import pandas as pd"
   ]
  },
  {
   "cell_type": "code",
   "execution_count": 2,
   "id": "580a923a-0d51-4454-8a24-c65e286a2fed",
   "metadata": {
    "execution": {
     "iopub.execute_input": "2023-09-05T03:23:15.295407Z",
     "iopub.status.busy": "2023-09-05T03:23:15.295134Z",
     "iopub.status.idle": "2023-09-05T03:23:19.286499Z",
     "shell.execute_reply": "2023-09-05T03:23:19.285103Z",
     "shell.execute_reply.started": "2023-09-05T03:23:15.295388Z"
    }
   },
   "outputs": [],
   "source": [
    "from wilds import get_dataset\n",
    "from wilds.common.data_loaders import get_train_loader\n",
    "\n",
    "# Load the full dataset, and download it if necessary\n",
    "dataset = get_dataset(dataset=\"civilcomments\", download=True)\n"
   ]
  },
  {
   "cell_type": "code",
   "execution_count": null,
   "id": "8d6e764e-48d7-44fe-9de7-0e6acbe93309",
   "metadata": {},
   "outputs": [],
   "source": []
  },
  {
   "cell_type": "code",
   "execution_count": 3,
   "id": "377afe2f-640c-4018-affc-105ebe369d99",
   "metadata": {
    "execution": {
     "iopub.execute_input": "2023-09-05T03:23:19.301903Z",
     "iopub.status.busy": "2023-09-05T03:23:19.301295Z",
     "iopub.status.idle": "2023-09-05T03:23:19.315619Z",
     "shell.execute_reply": "2023-09-05T03:23:19.314481Z",
     "shell.execute_reply.started": "2023-09-05T03:23:19.301875Z"
    }
   },
   "outputs": [],
   "source": [
    "# Get the test set\n",
    "train_data = dataset.get_subset(\"train\")\n",
    "train_loader = get_train_loader(\"standard\", train_data, batch_size=16)\n"
   ]
  },
  {
   "cell_type": "code",
   "execution_count": null,
   "id": "502b93b3-e61c-48d7-9874-0e11ca52ec46",
   "metadata": {},
   "outputs": [],
   "source": []
  },
  {
   "cell_type": "code",
   "execution_count": 4,
   "id": "ec147a3e-a5dc-48b8-8ee4-1e731c3a204d",
   "metadata": {
    "execution": {
     "iopub.execute_input": "2023-09-05T03:23:19.317237Z",
     "iopub.status.busy": "2023-09-05T03:23:19.316814Z",
     "iopub.status.idle": "2023-09-05T03:23:19.339819Z",
     "shell.execute_reply": "2023-09-05T03:23:19.339071Z",
     "shell.execute_reply.started": "2023-09-05T03:23:19.317211Z"
    }
   },
   "outputs": [],
   "source": [
    "from wilds.common.grouper import CombinatorialGrouper\n",
    "grouper = CombinatorialGrouper(dataset, dataset.metadata_fields[:8])\n"
   ]
  },
  {
   "cell_type": "code",
   "execution_count": 5,
   "id": "ed26947d-ccdf-4101-9057-bc107d036436",
   "metadata": {
    "execution": {
     "iopub.execute_input": "2023-09-05T03:23:19.341041Z",
     "iopub.status.busy": "2023-09-05T03:23:19.340720Z",
     "iopub.status.idle": "2023-09-05T03:23:19.350453Z",
     "shell.execute_reply": "2023-09-05T03:23:19.349785Z",
     "shell.execute_reply.started": "2023-09-05T03:23:19.341003Z"
    }
   },
   "outputs": [
    {
     "data": {
      "text/plain": [
       "256"
      ]
     },
     "execution_count": 5,
     "metadata": {},
     "output_type": "execute_result"
    }
   ],
   "source": [
    "grouper.n_groups"
   ]
  },
  {
   "cell_type": "code",
   "execution_count": 6,
   "id": "eb69a8ce-7d7a-47c2-b886-2dfd2bc43d8b",
   "metadata": {
    "execution": {
     "iopub.execute_input": "2023-09-05T03:23:19.355529Z",
     "iopub.status.busy": "2023-09-05T03:23:19.355071Z",
     "iopub.status.idle": "2023-09-05T03:23:19.363953Z",
     "shell.execute_reply": "2023-09-05T03:23:19.362504Z",
     "shell.execute_reply.started": "2023-09-05T03:23:19.355500Z"
    }
   },
   "outputs": [
    {
     "data": {
      "text/plain": [
       "['male',\n",
       " 'female',\n",
       " 'LGBTQ',\n",
       " 'christian',\n",
       " 'muslim',\n",
       " 'other_religions',\n",
       " 'black',\n",
       " 'white',\n",
       " 'identity_any',\n",
       " 'severe_toxicity',\n",
       " 'obscene',\n",
       " 'threat',\n",
       " 'insult',\n",
       " 'identity_attack',\n",
       " 'sexual_explicit',\n",
       " 'y',\n",
       " 'from_source_domain']"
      ]
     },
     "execution_count": 6,
     "metadata": {},
     "output_type": "execute_result"
    }
   ],
   "source": [
    "dataset.metadata_fields"
   ]
  },
  {
   "cell_type": "code",
   "execution_count": 7,
   "id": "8b9b6520-7894-472c-bcfb-cfe12bb3ab3d",
   "metadata": {
    "execution": {
     "iopub.execute_input": "2023-09-05T03:23:19.365806Z",
     "iopub.status.busy": "2023-09-05T03:23:19.365241Z",
     "iopub.status.idle": "2023-09-05T03:23:19.375145Z",
     "shell.execute_reply": "2023-09-05T03:23:19.374151Z",
     "shell.execute_reply.started": "2023-09-05T03:23:19.365739Z"
    }
   },
   "outputs": [
    {
     "data": {
      "text/plain": [
       "['male',\n",
       " 'female',\n",
       " 'LGBTQ',\n",
       " 'christian',\n",
       " 'muslim',\n",
       " 'other_religions',\n",
       " 'black',\n",
       " 'white']"
      ]
     },
     "execution_count": 7,
     "metadata": {},
     "output_type": "execute_result"
    }
   ],
   "source": [
    "dataset.metadata_fields[:8]"
   ]
  },
  {
   "cell_type": "code",
   "execution_count": 8,
   "id": "361a66e0-527d-4050-9234-d715cc90449e",
   "metadata": {
    "execution": {
     "iopub.execute_input": "2023-09-05T03:23:20.301788Z",
     "iopub.status.busy": "2023-09-05T03:23:20.301161Z",
     "iopub.status.idle": "2023-09-05T03:23:22.579463Z",
     "shell.execute_reply": "2023-09-05T03:23:22.578072Z",
     "shell.execute_reply.started": "2023-09-05T03:23:20.301726Z"
    }
   },
   "outputs": [],
   "source": [
    "x_ls = []\n",
    "y_true_ls = []\n",
    "z_ls = []\n",
    "metadata_ls = []\n",
    "\n",
    "for labeled_batch in train_loader:\n",
    "    x, y_true, metadata = labeled_batch\n",
    "    z = grouper.metadata_to_group(metadata[:8])\n",
    "    x_ls.extend(x)\n",
    "    y_true_ls.extend(y_true.numpy())\n",
    "    z_ls.append(z)\n",
    "    metadata_ls.append(metadata)"
   ]
  },
  {
   "cell_type": "code",
   "execution_count": 9,
   "id": "b6ae9aed-547b-42e3-a400-6d739ad3a4c4",
   "metadata": {
    "execution": {
     "iopub.execute_input": "2023-09-05T03:23:23.471749Z",
     "iopub.status.busy": "2023-09-05T03:23:23.470976Z",
     "iopub.status.idle": "2023-09-05T03:23:23.501860Z",
     "shell.execute_reply": "2023-09-05T03:23:23.500457Z",
     "shell.execute_reply.started": "2023-09-05T03:23:23.471681Z"
    }
   },
   "outputs": [
    {
     "data": {
      "text/plain": [
       "tensor([  0,   1,   2,   3,   4,   5,   6,   7,   8,   9,  10,  11,  12,  13,\n",
       "         14,  15,  16,  17,  18,  19,  20,  21,  22,  23,  24,  25,  26,  27,\n",
       "         28,  29,  30,  31,  32,  33,  34,  35,  36,  37,  38,  39,  40,  41,\n",
       "         42,  43,  44,  45,  46,  47,  48,  49,  50,  51,  52,  53,  54,  55,\n",
       "         56,  57,  58,  59,  60,  61,  62,  63,  64,  65,  66,  67,  68,  69,\n",
       "         70,  71,  72,  73,  74,  75,  76,  78,  79,  80,  81,  82,  83,  84,\n",
       "         85,  86,  87,  88,  89,  90,  96,  97,  98, 100, 101, 102, 104, 106,\n",
       "        108, 112, 113, 114, 116, 118, 120, 122, 123, 124, 126, 128, 129, 130,\n",
       "        131, 132, 133, 134, 135, 136, 137, 138, 139, 140, 141, 142, 144, 145,\n",
       "        146, 147, 148, 151, 152, 153, 154, 155, 156, 157, 158, 160, 161, 162,\n",
       "        163, 164, 166, 168, 171, 172, 176, 179, 180, 184, 185, 186, 188, 192,\n",
       "        193, 194, 195, 196, 197, 198, 199, 200, 201, 202, 203, 204, 206, 207,\n",
       "        208, 209, 210, 211, 212, 216, 217, 219, 220, 223, 224, 225, 226, 227,\n",
       "        228, 232, 233, 239, 240, 243, 244, 246, 247, 248, 250, 251, 252, 255])"
      ]
     },
     "execution_count": 9,
     "metadata": {},
     "output_type": "execute_result"
    }
   ],
   "source": [
    "torch.concat(z_ls).unique()"
   ]
  },
  {
   "cell_type": "code",
   "execution_count": 10,
   "id": "3c4c5f79-b877-447f-a42c-3cf079b9f12e",
   "metadata": {
    "execution": {
     "iopub.execute_input": "2023-09-05T03:23:26.314504Z",
     "iopub.status.busy": "2023-09-05T03:23:26.312403Z",
     "iopub.status.idle": "2023-09-05T03:23:26.378070Z",
     "shell.execute_reply": "2023-09-05T03:23:26.376395Z",
     "shell.execute_reply.started": "2023-09-05T03:23:26.314395Z"
    }
   },
   "outputs": [],
   "source": [
    "metadata_df = pd.DataFrame(torch.concat(metadata_ls).numpy())\n",
    "metadata_df.columns = dataset.metadata_fields"
   ]
  },
  {
   "cell_type": "code",
   "execution_count": 11,
   "id": "a6a664a7-1c00-43b8-bef4-eb9d8ed04c25",
   "metadata": {
    "execution": {
     "iopub.execute_input": "2023-09-05T03:23:29.143773Z",
     "iopub.status.busy": "2023-09-05T03:23:29.143219Z",
     "iopub.status.idle": "2023-09-05T03:23:29.342966Z",
     "shell.execute_reply": "2023-09-05T03:23:29.341363Z",
     "shell.execute_reply.started": "2023-09-05T03:23:29.143728Z"
    }
   },
   "outputs": [
    {
     "name": "stdout",
     "output_type": "stream",
     "text": [
      "male\n",
      "0    239228\n",
      "1     29810\n",
      "dtype: int64\n",
      "female\n",
      "0    232794\n",
      "1     36244\n",
      "dtype: int64\n",
      "LGBTQ\n",
      "0    260618\n",
      "1      8420\n",
      "dtype: int64\n",
      "christian\n",
      "0    242300\n",
      "1     26738\n",
      "dtype: int64\n",
      "muslim\n",
      "0    255084\n",
      "1     13954\n",
      "dtype: int64\n",
      "other_religions\n",
      "0    262494\n",
      "1      6544\n",
      "dtype: int64\n",
      "black\n",
      "0    259142\n",
      "1      9896\n",
      "dtype: int64\n",
      "white\n",
      "0    252340\n",
      "1     16698\n",
      "dtype: int64\n",
      "identity_any\n",
      "0    155568\n",
      "1    113470\n",
      "dtype: int64\n",
      "severe_toxicity\n",
      "0    269031\n",
      "1         7\n",
      "dtype: int64\n",
      "obscene\n",
      "0    267355\n",
      "1      1683\n",
      "dtype: int64\n",
      "threat\n",
      "0    268379\n",
      "1       659\n",
      "dtype: int64\n",
      "insult\n",
      "0    250565\n",
      "1     18473\n",
      "dtype: int64\n",
      "identity_attack\n",
      "0    261236\n",
      "1      7802\n",
      "dtype: int64\n",
      "sexual_explicit\n",
      "0    267691\n",
      "1      1347\n",
      "dtype: int64\n",
      "y\n",
      "0    238523\n",
      "1     30515\n",
      "dtype: int64\n",
      "from_source_domain\n",
      "1    269038\n",
      "dtype: int64\n"
     ]
    }
   ],
   "source": [
    "for k in dataset.metadata_fields:\n",
    "    print(metadata_df.groupby(k, dropna=False).size())"
   ]
  },
  {
   "cell_type": "code",
   "execution_count": 12,
   "id": "e099b77f-8928-4c71-a17b-86d60f410b12",
   "metadata": {
    "execution": {
     "iopub.execute_input": "2023-09-05T03:23:44.240370Z",
     "iopub.status.busy": "2023-09-05T03:23:44.239587Z",
     "iopub.status.idle": "2023-09-05T03:23:44.351437Z",
     "shell.execute_reply": "2023-09-05T03:23:44.349776Z",
     "shell.execute_reply.started": "2023-09-05T03:23:44.240302Z"
    }
   },
   "outputs": [
    {
     "data": {
      "text/html": [
       "<div>\n",
       "<style scoped>\n",
       "    .dataframe tbody tr th:only-of-type {\n",
       "        vertical-align: middle;\n",
       "    }\n",
       "\n",
       "    .dataframe tbody tr th {\n",
       "        vertical-align: top;\n",
       "    }\n",
       "\n",
       "    .dataframe thead th {\n",
       "        text-align: right;\n",
       "    }\n",
       "</style>\n",
       "<table border=\"1\" class=\"dataframe\">\n",
       "  <thead>\n",
       "    <tr style=\"text-align: right;\">\n",
       "      <th></th>\n",
       "      <th>male</th>\n",
       "      <th>female</th>\n",
       "      <th>LGBTQ</th>\n",
       "      <th>christian</th>\n",
       "      <th>muslim</th>\n",
       "      <th>other_religions</th>\n",
       "      <th>black</th>\n",
       "      <th>white</th>\n",
       "    </tr>\n",
       "  </thead>\n",
       "  <tbody>\n",
       "    <tr>\n",
       "      <th>0</th>\n",
       "      <td>0</td>\n",
       "      <td>0</td>\n",
       "      <td>0</td>\n",
       "      <td>0</td>\n",
       "      <td>0</td>\n",
       "      <td>0</td>\n",
       "      <td>0</td>\n",
       "      <td>0</td>\n",
       "    </tr>\n",
       "    <tr>\n",
       "      <th>1</th>\n",
       "      <td>0</td>\n",
       "      <td>0</td>\n",
       "      <td>1</td>\n",
       "      <td>0</td>\n",
       "      <td>0</td>\n",
       "      <td>0</td>\n",
       "      <td>0</td>\n",
       "      <td>0</td>\n",
       "    </tr>\n",
       "    <tr>\n",
       "      <th>4</th>\n",
       "      <td>0</td>\n",
       "      <td>1</td>\n",
       "      <td>0</td>\n",
       "      <td>0</td>\n",
       "      <td>0</td>\n",
       "      <td>0</td>\n",
       "      <td>0</td>\n",
       "      <td>0</td>\n",
       "    </tr>\n",
       "    <tr>\n",
       "      <th>5</th>\n",
       "      <td>0</td>\n",
       "      <td>1</td>\n",
       "      <td>1</td>\n",
       "      <td>1</td>\n",
       "      <td>0</td>\n",
       "      <td>0</td>\n",
       "      <td>0</td>\n",
       "      <td>0</td>\n",
       "    </tr>\n",
       "    <tr>\n",
       "      <th>9</th>\n",
       "      <td>1</td>\n",
       "      <td>1</td>\n",
       "      <td>0</td>\n",
       "      <td>0</td>\n",
       "      <td>0</td>\n",
       "      <td>0</td>\n",
       "      <td>0</td>\n",
       "      <td>0</td>\n",
       "    </tr>\n",
       "    <tr>\n",
       "      <th>...</th>\n",
       "      <td>...</td>\n",
       "      <td>...</td>\n",
       "      <td>...</td>\n",
       "      <td>...</td>\n",
       "      <td>...</td>\n",
       "      <td>...</td>\n",
       "      <td>...</td>\n",
       "      <td>...</td>\n",
       "    </tr>\n",
       "    <tr>\n",
       "      <th>230127</th>\n",
       "      <td>1</td>\n",
       "      <td>0</td>\n",
       "      <td>1</td>\n",
       "      <td>0</td>\n",
       "      <td>0</td>\n",
       "      <td>1</td>\n",
       "      <td>1</td>\n",
       "      <td>1</td>\n",
       "    </tr>\n",
       "    <tr>\n",
       "      <th>238577</th>\n",
       "      <td>1</td>\n",
       "      <td>0</td>\n",
       "      <td>1</td>\n",
       "      <td>0</td>\n",
       "      <td>1</td>\n",
       "      <td>0</td>\n",
       "      <td>1</td>\n",
       "      <td>0</td>\n",
       "    </tr>\n",
       "    <tr>\n",
       "      <th>245035</th>\n",
       "      <td>1</td>\n",
       "      <td>0</td>\n",
       "      <td>1</td>\n",
       "      <td>1</td>\n",
       "      <td>1</td>\n",
       "      <td>0</td>\n",
       "      <td>1</td>\n",
       "      <td>0</td>\n",
       "    </tr>\n",
       "    <tr>\n",
       "      <th>246411</th>\n",
       "      <td>1</td>\n",
       "      <td>0</td>\n",
       "      <td>1</td>\n",
       "      <td>1</td>\n",
       "      <td>1</td>\n",
       "      <td>1</td>\n",
       "      <td>0</td>\n",
       "      <td>1</td>\n",
       "    </tr>\n",
       "    <tr>\n",
       "      <th>252139</th>\n",
       "      <td>1</td>\n",
       "      <td>1</td>\n",
       "      <td>1</td>\n",
       "      <td>0</td>\n",
       "      <td>0</td>\n",
       "      <td>1</td>\n",
       "      <td>1</td>\n",
       "      <td>1</td>\n",
       "    </tr>\n",
       "  </tbody>\n",
       "</table>\n",
       "<p>222 rows × 8 columns</p>\n",
       "</div>"
      ],
      "text/plain": [
       "        male  female  LGBTQ  christian  muslim  other_religions  black  white\n",
       "0          0       0      0          0       0                0      0      0\n",
       "1          0       0      1          0       0                0      0      0\n",
       "4          0       1      0          0       0                0      0      0\n",
       "5          0       1      1          1       0                0      0      0\n",
       "9          1       1      0          0       0                0      0      0\n",
       "...      ...     ...    ...        ...     ...              ...    ...    ...\n",
       "230127     1       0      1          0       0                1      1      1\n",
       "238577     1       0      1          0       1                0      1      0\n",
       "245035     1       0      1          1       1                0      1      0\n",
       "246411     1       0      1          1       1                1      0      1\n",
       "252139     1       1      1          0       0                1      1      1\n",
       "\n",
       "[222 rows x 8 columns]"
      ]
     },
     "execution_count": 12,
     "metadata": {},
     "output_type": "execute_result"
    }
   ],
   "source": [
    "metadata_df.iloc[:, :8].drop_duplicates()"
   ]
  },
  {
   "cell_type": "code",
   "execution_count": 13,
   "id": "4c1d8ea1-1aa4-4d66-8ce3-8191b9c0fbc6",
   "metadata": {
    "execution": {
     "iopub.execute_input": "2023-09-05T03:23:48.927247Z",
     "iopub.status.busy": "2023-09-05T03:23:48.926454Z",
     "iopub.status.idle": "2023-09-05T03:23:49.219978Z",
     "shell.execute_reply": "2023-09-05T03:23:49.218308Z",
     "shell.execute_reply.started": "2023-09-05T03:23:48.927179Z"
    }
   },
   "outputs": [],
   "source": [
    "df = pd.DataFrame({\"text\": x_ls, \"y_true\":y_true_ls, })\n",
    "\n",
    "df = pd.concat([df, metadata_df], axis=1)"
   ]
  },
  {
   "cell_type": "code",
   "execution_count": 14,
   "id": "96dae167-57f8-47e6-b405-68a126a5c06f",
   "metadata": {
    "execution": {
     "iopub.execute_input": "2023-09-05T03:23:52.512499Z",
     "iopub.status.busy": "2023-09-05T03:23:52.512011Z",
     "iopub.status.idle": "2023-09-05T03:23:52.541124Z",
     "shell.execute_reply": "2023-09-05T03:23:52.540046Z",
     "shell.execute_reply.started": "2023-09-05T03:23:52.512460Z"
    }
   },
   "outputs": [
    {
     "data": {
      "text/plain": [
       "christian  y_true\n",
       "0          0         214231\n",
       "           1          28069\n",
       "1          0          24292\n",
       "           1           2446\n",
       "dtype: int64"
      ]
     },
     "execution_count": 14,
     "metadata": {},
     "output_type": "execute_result"
    }
   ],
   "source": [
    "df.groupby(['christian', 'y_true'], dropna=False).size()"
   ]
  },
  {
   "cell_type": "code",
   "execution_count": null,
   "id": "b458896d-6722-4635-81cc-0a9572e35d2d",
   "metadata": {},
   "outputs": [],
   "source": []
  },
  {
   "cell_type": "code",
   "execution_count": 68,
   "id": "1500146c-ae4f-498e-aa5f-b8f20c9612c9",
   "metadata": {
    "execution": {
     "iopub.execute_input": "2023-09-05T03:20:25.844288Z",
     "iopub.status.busy": "2023-09-05T03:20:25.843505Z",
     "iopub.status.idle": "2023-09-05T03:20:25.876338Z",
     "shell.execute_reply": "2023-09-05T03:20:25.874897Z",
     "shell.execute_reply.started": "2023-09-05T03:20:25.844222Z"
    }
   },
   "outputs": [
    {
     "data": {
      "text/html": [
       "<div>\n",
       "<style scoped>\n",
       "    .dataframe tbody tr th:only-of-type {\n",
       "        vertical-align: middle;\n",
       "    }\n",
       "\n",
       "    .dataframe tbody tr th {\n",
       "        vertical-align: top;\n",
       "    }\n",
       "\n",
       "    .dataframe thead th {\n",
       "        text-align: right;\n",
       "    }\n",
       "</style>\n",
       "<table border=\"1\" class=\"dataframe\">\n",
       "  <thead>\n",
       "    <tr style=\"text-align: right;\">\n",
       "      <th></th>\n",
       "      <th>text</th>\n",
       "      <th>y_true</th>\n",
       "      <th>male</th>\n",
       "      <th>female</th>\n",
       "      <th>LGBTQ</th>\n",
       "      <th>christian</th>\n",
       "      <th>muslim</th>\n",
       "      <th>other_religions</th>\n",
       "      <th>black</th>\n",
       "      <th>white</th>\n",
       "      <th>identity_any</th>\n",
       "      <th>severe_toxicity</th>\n",
       "      <th>obscene</th>\n",
       "      <th>threat</th>\n",
       "      <th>insult</th>\n",
       "      <th>identity_attack</th>\n",
       "      <th>sexual_explicit</th>\n",
       "      <th>y</th>\n",
       "      <th>from_source_domain</th>\n",
       "    </tr>\n",
       "  </thead>\n",
       "  <tbody>\n",
       "    <tr>\n",
       "      <th>0</th>\n",
       "      <td>The kids maybe but these days people rarely st...</td>\n",
       "      <td>0</td>\n",
       "      <td>1</td>\n",
       "      <td>0</td>\n",
       "      <td>0</td>\n",
       "      <td>0</td>\n",
       "      <td>0</td>\n",
       "      <td>0</td>\n",
       "      <td>0</td>\n",
       "      <td>0</td>\n",
       "      <td>1</td>\n",
       "      <td>0</td>\n",
       "      <td>0</td>\n",
       "      <td>0</td>\n",
       "      <td>1</td>\n",
       "      <td>0</td>\n",
       "      <td>0</td>\n",
       "      <td>1</td>\n",
       "      <td>1</td>\n",
       "    </tr>\n",
       "    <tr>\n",
       "      <th>1</th>\n",
       "      <td>lol\\nWell scrambled...\\nBy the master pretzel ...</td>\n",
       "      <td>0</td>\n",
       "      <td>0</td>\n",
       "      <td>0</td>\n",
       "      <td>0</td>\n",
       "      <td>0</td>\n",
       "      <td>0</td>\n",
       "      <td>0</td>\n",
       "      <td>0</td>\n",
       "      <td>0</td>\n",
       "      <td>0</td>\n",
       "      <td>0</td>\n",
       "      <td>0</td>\n",
       "      <td>0</td>\n",
       "      <td>0</td>\n",
       "      <td>0</td>\n",
       "      <td>0</td>\n",
       "      <td>0</td>\n",
       "      <td>1</td>\n",
       "    </tr>\n",
       "    <tr>\n",
       "      <th>2</th>\n",
       "      <td>Aloha Danno. I hope you are doing well, also. ...</td>\n",
       "      <td>0</td>\n",
       "      <td>1</td>\n",
       "      <td>0</td>\n",
       "      <td>0</td>\n",
       "      <td>0</td>\n",
       "      <td>0</td>\n",
       "      <td>0</td>\n",
       "      <td>0</td>\n",
       "      <td>0</td>\n",
       "      <td>1</td>\n",
       "      <td>0</td>\n",
       "      <td>0</td>\n",
       "      <td>0</td>\n",
       "      <td>0</td>\n",
       "      <td>0</td>\n",
       "      <td>0</td>\n",
       "      <td>0</td>\n",
       "      <td>1</td>\n",
       "    </tr>\n",
       "    <tr>\n",
       "      <th>3</th>\n",
       "      <td>Danes, You think its OK to use racial slurs? H...</td>\n",
       "      <td>1</td>\n",
       "      <td>1</td>\n",
       "      <td>0</td>\n",
       "      <td>0</td>\n",
       "      <td>0</td>\n",
       "      <td>0</td>\n",
       "      <td>0</td>\n",
       "      <td>0</td>\n",
       "      <td>1</td>\n",
       "      <td>1</td>\n",
       "      <td>0</td>\n",
       "      <td>0</td>\n",
       "      <td>0</td>\n",
       "      <td>0</td>\n",
       "      <td>0</td>\n",
       "      <td>0</td>\n",
       "      <td>1</td>\n",
       "      <td>1</td>\n",
       "    </tr>\n",
       "    <tr>\n",
       "      <th>4</th>\n",
       "      <td>Baloney!  \\nThey attacked Christians, namely h...</td>\n",
       "      <td>0</td>\n",
       "      <td>0</td>\n",
       "      <td>0</td>\n",
       "      <td>0</td>\n",
       "      <td>0</td>\n",
       "      <td>0</td>\n",
       "      <td>0</td>\n",
       "      <td>0</td>\n",
       "      <td>0</td>\n",
       "      <td>0</td>\n",
       "      <td>0</td>\n",
       "      <td>0</td>\n",
       "      <td>0</td>\n",
       "      <td>0</td>\n",
       "      <td>0</td>\n",
       "      <td>0</td>\n",
       "      <td>0</td>\n",
       "      <td>1</td>\n",
       "    </tr>\n",
       "    <tr>\n",
       "      <th>...</th>\n",
       "      <td>...</td>\n",
       "      <td>...</td>\n",
       "      <td>...</td>\n",
       "      <td>...</td>\n",
       "      <td>...</td>\n",
       "      <td>...</td>\n",
       "      <td>...</td>\n",
       "      <td>...</td>\n",
       "      <td>...</td>\n",
       "      <td>...</td>\n",
       "      <td>...</td>\n",
       "      <td>...</td>\n",
       "      <td>...</td>\n",
       "      <td>...</td>\n",
       "      <td>...</td>\n",
       "      <td>...</td>\n",
       "      <td>...</td>\n",
       "      <td>...</td>\n",
       "      <td>...</td>\n",
       "    </tr>\n",
       "    <tr>\n",
       "      <th>269033</th>\n",
       "      <td>THAT'S JUST WHAT FABER WAS POINTING OUT ABOUT ...</td>\n",
       "      <td>0</td>\n",
       "      <td>1</td>\n",
       "      <td>0</td>\n",
       "      <td>0</td>\n",
       "      <td>0</td>\n",
       "      <td>0</td>\n",
       "      <td>0</td>\n",
       "      <td>0</td>\n",
       "      <td>0</td>\n",
       "      <td>1</td>\n",
       "      <td>0</td>\n",
       "      <td>0</td>\n",
       "      <td>0</td>\n",
       "      <td>0</td>\n",
       "      <td>0</td>\n",
       "      <td>0</td>\n",
       "      <td>0</td>\n",
       "      <td>1</td>\n",
       "    </tr>\n",
       "    <tr>\n",
       "      <th>269034</th>\n",
       "      <td>I have yet to find a dying Episcopal church.  ...</td>\n",
       "      <td>0</td>\n",
       "      <td>0</td>\n",
       "      <td>0</td>\n",
       "      <td>1</td>\n",
       "      <td>0</td>\n",
       "      <td>0</td>\n",
       "      <td>0</td>\n",
       "      <td>0</td>\n",
       "      <td>0</td>\n",
       "      <td>1</td>\n",
       "      <td>0</td>\n",
       "      <td>0</td>\n",
       "      <td>0</td>\n",
       "      <td>0</td>\n",
       "      <td>0</td>\n",
       "      <td>0</td>\n",
       "      <td>0</td>\n",
       "      <td>1</td>\n",
       "    </tr>\n",
       "    <tr>\n",
       "      <th>269035</th>\n",
       "      <td>Trump's a hero to his base.  But the rest of u...</td>\n",
       "      <td>1</td>\n",
       "      <td>0</td>\n",
       "      <td>0</td>\n",
       "      <td>0</td>\n",
       "      <td>0</td>\n",
       "      <td>0</td>\n",
       "      <td>0</td>\n",
       "      <td>0</td>\n",
       "      <td>1</td>\n",
       "      <td>1</td>\n",
       "      <td>0</td>\n",
       "      <td>0</td>\n",
       "      <td>0</td>\n",
       "      <td>0</td>\n",
       "      <td>0</td>\n",
       "      <td>0</td>\n",
       "      <td>0</td>\n",
       "      <td>1</td>\n",
       "    </tr>\n",
       "    <tr>\n",
       "      <th>269036</th>\n",
       "      <td>I was referring to \"bias\" not sources.</td>\n",
       "      <td>0</td>\n",
       "      <td>0</td>\n",
       "      <td>0</td>\n",
       "      <td>0</td>\n",
       "      <td>1</td>\n",
       "      <td>0</td>\n",
       "      <td>1</td>\n",
       "      <td>0</td>\n",
       "      <td>0</td>\n",
       "      <td>1</td>\n",
       "      <td>0</td>\n",
       "      <td>0</td>\n",
       "      <td>0</td>\n",
       "      <td>0</td>\n",
       "      <td>0</td>\n",
       "      <td>0</td>\n",
       "      <td>0</td>\n",
       "      <td>1</td>\n",
       "    </tr>\n",
       "    <tr>\n",
       "      <th>269037</th>\n",
       "      <td>Many on the left showed up in full motorcycle ...</td>\n",
       "      <td>0</td>\n",
       "      <td>0</td>\n",
       "      <td>0</td>\n",
       "      <td>0</td>\n",
       "      <td>0</td>\n",
       "      <td>1</td>\n",
       "      <td>0</td>\n",
       "      <td>0</td>\n",
       "      <td>0</td>\n",
       "      <td>1</td>\n",
       "      <td>0</td>\n",
       "      <td>0</td>\n",
       "      <td>0</td>\n",
       "      <td>0</td>\n",
       "      <td>0</td>\n",
       "      <td>0</td>\n",
       "      <td>0</td>\n",
       "      <td>1</td>\n",
       "    </tr>\n",
       "  </tbody>\n",
       "</table>\n",
       "<p>269038 rows × 19 columns</p>\n",
       "</div>"
      ],
      "text/plain": [
       "                                                     text  y_true  male  \\\n",
       "0       The kids maybe but these days people rarely st...       0     1   \n",
       "1       lol\\nWell scrambled...\\nBy the master pretzel ...       0     0   \n",
       "2       Aloha Danno. I hope you are doing well, also. ...       0     1   \n",
       "3       Danes, You think its OK to use racial slurs? H...       1     1   \n",
       "4       Baloney!  \\nThey attacked Christians, namely h...       0     0   \n",
       "...                                                   ...     ...   ...   \n",
       "269033  THAT'S JUST WHAT FABER WAS POINTING OUT ABOUT ...       0     1   \n",
       "269034  I have yet to find a dying Episcopal church.  ...       0     0   \n",
       "269035  Trump's a hero to his base.  But the rest of u...       1     0   \n",
       "269036             I was referring to \"bias\" not sources.       0     0   \n",
       "269037  Many on the left showed up in full motorcycle ...       0     0   \n",
       "\n",
       "        female  LGBTQ  christian  muslim  other_religions  black  white  \\\n",
       "0            0      0          0       0                0      0      0   \n",
       "1            0      0          0       0                0      0      0   \n",
       "2            0      0          0       0                0      0      0   \n",
       "3            0      0          0       0                0      0      1   \n",
       "4            0      0          0       0                0      0      0   \n",
       "...        ...    ...        ...     ...              ...    ...    ...   \n",
       "269033       0      0          0       0                0      0      0   \n",
       "269034       0      1          0       0                0      0      0   \n",
       "269035       0      0          0       0                0      0      1   \n",
       "269036       0      0          1       0                1      0      0   \n",
       "269037       0      0          0       1                0      0      0   \n",
       "\n",
       "        identity_any  severe_toxicity  obscene  threat  insult  \\\n",
       "0                  1                0        0       0       1   \n",
       "1                  0                0        0       0       0   \n",
       "2                  1                0        0       0       0   \n",
       "3                  1                0        0       0       0   \n",
       "4                  0                0        0       0       0   \n",
       "...              ...              ...      ...     ...     ...   \n",
       "269033             1                0        0       0       0   \n",
       "269034             1                0        0       0       0   \n",
       "269035             1                0        0       0       0   \n",
       "269036             1                0        0       0       0   \n",
       "269037             1                0        0       0       0   \n",
       "\n",
       "        identity_attack  sexual_explicit  y  from_source_domain  \n",
       "0                     0                0  1                   1  \n",
       "1                     0                0  0                   1  \n",
       "2                     0                0  0                   1  \n",
       "3                     0                0  1                   1  \n",
       "4                     0                0  0                   1  \n",
       "...                 ...              ... ..                 ...  \n",
       "269033                0                0  0                   1  \n",
       "269034                0                0  0                   1  \n",
       "269035                0                0  0                   1  \n",
       "269036                0                0  0                   1  \n",
       "269037                0                0  0                   1  \n",
       "\n",
       "[269038 rows x 19 columns]"
      ]
     },
     "execution_count": 68,
     "metadata": {},
     "output_type": "execute_result"
    }
   ],
   "source": [
    "df"
   ]
  },
  {
   "cell_type": "code",
   "execution_count": 50,
   "id": "bc95615e-dd64-42a1-81e8-25deeeef5bc6",
   "metadata": {
    "execution": {
     "iopub.execute_input": "2023-09-05T02:56:10.047446Z",
     "iopub.status.busy": "2023-09-05T02:56:10.046736Z",
     "iopub.status.idle": "2023-09-05T02:56:10.554454Z",
     "shell.execute_reply": "2023-09-05T02:56:10.552977Z",
     "shell.execute_reply.started": "2023-09-05T02:56:10.047388Z"
    }
   },
   "outputs": [
    {
     "name": "stdout",
     "output_type": "stream",
     "text": [
      "male\n",
      "0    0.113340\n",
      "1    0.114089\n",
      "dtype: float64\n",
      "female\n",
      "0    0.113315\n",
      "1    0.114115\n",
      "dtype: float64\n",
      "LGBTQ\n",
      "0    0.113450\n",
      "1    0.112589\n",
      "dtype: float64\n",
      "christian\n",
      "0    0.113438\n",
      "1    0.113284\n",
      "dtype: float64\n",
      "muslim\n",
      "0    0.113159\n",
      "1    0.118246\n",
      "dtype: float64\n",
      "other_religions\n",
      "0    0.113465\n",
      "1    0.111705\n",
      "dtype: float64\n",
      "black\n",
      "0    0.113382\n",
      "1    0.114491\n",
      "dtype: float64\n",
      "white\n",
      "0    0.113276\n",
      "1    0.115643\n",
      "dtype: float64\n"
     ]
    }
   ],
   "source": [
    "for k in metadata_df.columns[:8]:\n",
    "    print(df.groupby(k).apply(lambda x: sum(x['y_true'])/len(x)))"
   ]
  },
  {
   "cell_type": "code",
   "execution_count": null,
   "id": "04d99b93-2785-4ebb-8b0b-eb74efff2e8e",
   "metadata": {},
   "outputs": [],
   "source": []
  },
  {
   "cell_type": "code",
   "execution_count": null,
   "id": "72dfc4af-7ee0-4624-b95b-443c5fe5a088",
   "metadata": {},
   "outputs": [],
   "source": []
  },
  {
   "cell_type": "code",
   "execution_count": 56,
   "id": "00c2bef0-f5ee-49d0-9ce8-d4c31fdfa67c",
   "metadata": {
    "execution": {
     "iopub.execute_input": "2023-09-05T02:59:31.320956Z",
     "iopub.status.busy": "2023-09-05T02:59:31.320167Z",
     "iopub.status.idle": "2023-09-05T02:59:31.502790Z",
     "shell.execute_reply": "2023-09-05T02:59:31.500965Z",
     "shell.execute_reply.started": "2023-09-05T02:59:31.320891Z"
    }
   },
   "outputs": [
    {
     "name": "stdout",
     "output_type": "stream",
     "text": [
      "gender\n",
      "0    0.113373\n",
      "1    0.113624\n",
      "dtype: float64\n"
     ]
    }
   ],
   "source": [
    "_df = df.copy()\n",
    "\n",
    "_df['gender'] = _df['male'] | _df['female']\n",
    "\n",
    "print(_df.groupby('gender').apply(lambda x: sum(x['y_true'])/len(x)))"
   ]
  },
  {
   "cell_type": "code",
   "execution_count": 57,
   "id": "aa47b03b-05b1-4da0-9867-c77cffa039f6",
   "metadata": {
    "execution": {
     "iopub.execute_input": "2023-09-05T02:59:52.961968Z",
     "iopub.status.busy": "2023-09-05T02:59:52.961095Z",
     "iopub.status.idle": "2023-09-05T02:59:52.992648Z",
     "shell.execute_reply": "2023-09-05T02:59:52.991300Z",
     "shell.execute_reply.started": "2023-09-05T02:59:52.961901Z"
    }
   },
   "outputs": [
    {
     "data": {
      "text/plain": [
       "gender  y_true\n",
       "0       0         191257\n",
       "        1          24456\n",
       "1       0          47266\n",
       "        1           6059\n",
       "dtype: int64"
      ]
     },
     "execution_count": 57,
     "metadata": {},
     "output_type": "execute_result"
    }
   ],
   "source": [
    "_df.groupby(['gender','y_true']).size()"
   ]
  },
  {
   "cell_type": "code",
   "execution_count": 60,
   "id": "2d5f9d61-a049-4e11-91b4-7451834d5ec1",
   "metadata": {
    "execution": {
     "iopub.execute_input": "2023-09-05T03:00:28.089931Z",
     "iopub.status.busy": "2023-09-05T03:00:28.088925Z",
     "iopub.status.idle": "2023-09-05T03:00:28.100005Z",
     "shell.execute_reply": "2023-09-05T03:00:28.098664Z",
     "shell.execute_reply.started": "2023-09-05T03:00:28.089854Z"
    }
   },
   "outputs": [
    {
     "data": {
      "text/plain": [
       "0.11362400375058603"
      ]
     },
     "execution_count": 60,
     "metadata": {},
     "output_type": "execute_result"
    }
   ],
   "source": [
    "6059/(6059+47266)"
   ]
  },
  {
   "cell_type": "code",
   "execution_count": null,
   "id": "f0c5cf2b-22fd-4e24-9cc4-7b1b788fce82",
   "metadata": {},
   "outputs": [],
   "source": []
  }
 ],
 "metadata": {
  "kernelspec": {
   "display_name": "Python 3 (ipykernel)",
   "language": "python",
   "name": "python3"
  },
  "language_info": {
   "codemirror_mode": {
    "name": "ipython",
    "version": 3
   },
   "file_extension": ".py",
   "mimetype": "text/x-python",
   "name": "python",
   "nbconvert_exporter": "python",
   "pygments_lexer": "ipython3",
   "version": "3.8.10"
  }
 },
 "nbformat": 4,
 "nbformat_minor": 5
}
