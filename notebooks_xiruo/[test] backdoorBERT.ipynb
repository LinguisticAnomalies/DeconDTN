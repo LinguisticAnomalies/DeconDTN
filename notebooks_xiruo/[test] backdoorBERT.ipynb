{
 "cells": [
  {
   "cell_type": "code",
   "execution_count": 1,
   "id": "9cd605ea-f282-45f6-8c07-2648e2912cbb",
   "metadata": {},
   "outputs": [],
   "source": [
    "import numpy as np\n",
    "import pandas as pd"
   ]
  },
  {
   "cell_type": "code",
   "execution_count": 2,
   "id": "c89a700b",
   "metadata": {},
   "outputs": [],
   "source": [
    "import sys"
   ]
  },
  {
   "cell_type": "code",
   "execution_count": 4,
   "id": "febb2880",
   "metadata": {},
   "outputs": [],
   "source": [
    "sys.path.insert(0, \"../src\")"
   ]
  },
  {
   "cell_type": "code",
   "execution_count": 7,
   "id": "33f6e847",
   "metadata": {},
   "outputs": [],
   "source": [
    "from process_SHAC import load_process_SHAC\n",
    "from backdoorBERT import backdoorAdjustBERTModel\n",
    "\n",
    "from backdoorBERT import baseModel"
   ]
  },
  {
   "cell_type": "code",
   "execution_count": 62,
   "id": "88560ffa",
   "metadata": {},
   "outputs": [],
   "source": [
    "import torch"
   ]
  },
  {
   "cell_type": "code",
   "execution_count": 18,
   "id": "4598f2c9",
   "metadata": {},
   "outputs": [],
   "source": [
    "from NeuralModel import TransformerDataset\n",
    "from torch.utils.data import DataLoader\n"
   ]
  },
  {
   "cell_type": "code",
   "execution_count": 40,
   "id": "ef39492d",
   "metadata": {},
   "outputs": [],
   "source": [
    "df = load_process_SHAC(replaceNA=\"all\")\n",
    "label = \"Drug\"\n",
    "txt_col = \"text\"\n",
    "z_Categories = [\"uw\",\"mimic\"]\n",
    "n_zCats = len(z_Categories)\n",
    "\n",
    "domain_col = \"location\"\n",
    "v = 1\n",
    "\n",
    "tmp = pd.get_dummies(pd.Categorical(df[domain_col], categories=z_Categories), prefix=\"confounder\") * v\n",
    "df = pd.concat([df,tmp], axis=1)\n",
    "\n",
    "# df0 = df.query(f\"location == '{z_Categories[0]}'\").reset_index(drop=True)\n",
    "# df1 = df.query(f\"location == '{z_Categories[1]}'\").reset_index(drop=True)\n",
    "\n",
    "confounder_cols = [\"confounder_\"+x for x in z_Categories]\n"
   ]
  },
  {
   "cell_type": "code",
   "execution_count": 48,
   "id": "b5c59e16",
   "metadata": {},
   "outputs": [],
   "source": [
    "X=df['text']\n",
    "y=df[['Drug']]\n",
    "\n",
    "y_domain = df.loc[:,confounder_cols]"
   ]
  },
  {
   "cell_type": "code",
   "execution_count": 35,
   "id": "4be3307a",
   "metadata": {},
   "outputs": [],
   "source": [
    "dataset = TransformerDataset(\n",
    "            X=X,\n",
    "            y=y,\n",
    "    y_domain=y_domain,\n",
    "            pretrained='bert-base-uncased',\n",
    "            max_length=120,\n",
    "        )"
   ]
  },
  {
   "cell_type": "code",
   "execution_count": 50,
   "id": "f5f55643",
   "metadata": {},
   "outputs": [
    {
     "data": {
      "text/plain": [
       "<NeuralModel.TransformerDataset at 0x7f52ac588a60>"
      ]
     },
     "execution_count": 50,
     "metadata": {},
     "output_type": "execute_result"
    }
   ],
   "source": [
    "dataset"
   ]
  },
  {
   "cell_type": "code",
   "execution_count": 51,
   "id": "50417d14",
   "metadata": {},
   "outputs": [],
   "source": [
    "dataloader = DataLoader(dataset, shuffle=True, batch_size=50)"
   ]
  },
  {
   "cell_type": "code",
   "execution_count": 52,
   "id": "061db0b9",
   "metadata": {},
   "outputs": [],
   "source": [
    "batch = next(iter(dataloader))"
   ]
  },
  {
   "cell_type": "code",
   "execution_count": 53,
   "id": "9758f3fb",
   "metadata": {},
   "outputs": [
    {
     "data": {
      "text/plain": [
       "{'input_ids': tensor([[  101,  2591,  2381,  ...,     0,     0,     0],\n",
       "         [  101,  2591,  2381,  ...,     0,     0,     0],\n",
       "         [  101,  2591,  2381,  ...,     0,     0,     0],\n",
       "         ...,\n",
       "         [  101, 14243,  1024,  ...,     0,     0,     0],\n",
       "         [  101, 14021,  1024,  ...,     0,     0,     0],\n",
       "         [  101,  2591,  2381,  ...,     0,     0,     0]]),\n",
       " 'token_type_ids': tensor([[0, 0, 0,  ..., 0, 0, 0],\n",
       "         [0, 0, 0,  ..., 0, 0, 0],\n",
       "         [0, 0, 0,  ..., 0, 0, 0],\n",
       "         ...,\n",
       "         [0, 0, 0,  ..., 0, 0, 0],\n",
       "         [0, 0, 0,  ..., 0, 0, 0],\n",
       "         [0, 0, 0,  ..., 0, 0, 0]]),\n",
       " 'attention_mask': tensor([[1, 1, 1,  ..., 0, 0, 0],\n",
       "         [1, 1, 1,  ..., 0, 0, 0],\n",
       "         [1, 1, 1,  ..., 0, 0, 0],\n",
       "         ...,\n",
       "         [1, 1, 1,  ..., 0, 0, 0],\n",
       "         [1, 1, 1,  ..., 0, 0, 0],\n",
       "         [1, 1, 1,  ..., 0, 0, 0]]),\n",
       " 'labels': tensor([[1.],\n",
       "         [0.],\n",
       "         [0.],\n",
       "         [1.],\n",
       "         [0.],\n",
       "         [1.],\n",
       "         [0.],\n",
       "         [1.],\n",
       "         [1.],\n",
       "         [0.],\n",
       "         [1.],\n",
       "         [1.],\n",
       "         [0.],\n",
       "         [0.],\n",
       "         [0.],\n",
       "         [0.],\n",
       "         [0.],\n",
       "         [0.],\n",
       "         [0.],\n",
       "         [0.],\n",
       "         [0.],\n",
       "         [1.],\n",
       "         [1.],\n",
       "         [0.],\n",
       "         [0.],\n",
       "         [0.],\n",
       "         [0.],\n",
       "         [0.],\n",
       "         [0.],\n",
       "         [1.],\n",
       "         [0.],\n",
       "         [0.],\n",
       "         [0.],\n",
       "         [0.],\n",
       "         [1.],\n",
       "         [0.],\n",
       "         [0.],\n",
       "         [0.],\n",
       "         [0.],\n",
       "         [0.],\n",
       "         [0.],\n",
       "         [0.],\n",
       "         [0.],\n",
       "         [0.],\n",
       "         [1.],\n",
       "         [0.],\n",
       "         [0.],\n",
       "         [1.],\n",
       "         [0.],\n",
       "         [1.]]),\n",
       " 'domain_labels': tensor([[1., 1.],\n",
       "         [0., 0.],\n",
       "         [0., 1.],\n",
       "         [1., 1.],\n",
       "         [0., 1.],\n",
       "         [1., 1.],\n",
       "         [0., 0.],\n",
       "         [1., 1.],\n",
       "         [1., 0.],\n",
       "         [0., 1.],\n",
       "         [1., 0.],\n",
       "         [1., 1.],\n",
       "         [0., 0.],\n",
       "         [0., 0.],\n",
       "         [0., 0.],\n",
       "         [0., 0.],\n",
       "         [0., 1.],\n",
       "         [0., 1.],\n",
       "         [0., 0.],\n",
       "         [0., 0.],\n",
       "         [0., 0.],\n",
       "         [1., 1.],\n",
       "         [1., 1.],\n",
       "         [0., 0.],\n",
       "         [0., 0.],\n",
       "         [0., 0.],\n",
       "         [0., 0.],\n",
       "         [0., 0.],\n",
       "         [0., 0.],\n",
       "         [1., 0.],\n",
       "         [0., 0.],\n",
       "         [0., 0.],\n",
       "         [0., 0.],\n",
       "         [0., 1.],\n",
       "         [1., 0.],\n",
       "         [0., 0.],\n",
       "         [0., 1.],\n",
       "         [0., 0.],\n",
       "         [0., 1.],\n",
       "         [0., 1.],\n",
       "         [0., 0.],\n",
       "         [0., 1.],\n",
       "         [0., 0.],\n",
       "         [0., 1.],\n",
       "         [1., 1.],\n",
       "         [0., 1.],\n",
       "         [0., 1.],\n",
       "         [1., 1.],\n",
       "         [0., 1.],\n",
       "         [1., 1.]])}"
      ]
     },
     "execution_count": 53,
     "metadata": {},
     "output_type": "execute_result"
    }
   ],
   "source": [
    "batch"
   ]
  },
  {
   "cell_type": "code",
   "execution_count": null,
   "id": "db0b0aa0",
   "metadata": {},
   "outputs": [],
   "source": []
  },
  {
   "cell_type": "code",
   "execution_count": null,
   "id": "63dd1bdc",
   "metadata": {},
   "outputs": [],
   "source": []
  },
  {
   "cell_type": "code",
   "execution_count": null,
   "id": "2edfe51b",
   "metadata": {},
   "outputs": [],
   "source": []
  },
  {
   "cell_type": "code",
   "execution_count": null,
   "id": "226e3470",
   "metadata": {},
   "outputs": [],
   "source": []
  },
  {
   "cell_type": "code",
   "execution_count": 54,
   "id": "1ccfac10",
   "metadata": {},
   "outputs": [],
   "source": [
    "model = baseModel(num_labels=2, num_zCats=2,)"
   ]
  },
  {
   "cell_type": "code",
   "execution_count": 56,
   "id": "c2c1df79",
   "metadata": {},
   "outputs": [],
   "source": [
    "outputs_bert = model.bert(input_ids=batch[\"input_ids\"],\n",
    "                    token_type_ids=batch[\"token_type_ids\"],\n",
    "                    attention_mask=batch[\"attention_mask\"],)"
   ]
  },
  {
   "cell_type": "code",
   "execution_count": 58,
   "id": "ad967999",
   "metadata": {},
   "outputs": [],
   "source": [
    "outputs_pooler = outputs_bert[\"pooler_output\"]\n",
    "\n",
    "outputs_pooler = model.dropout(outputs_pooler)"
   ]
  },
  {
   "cell_type": "code",
   "execution_count": 60,
   "id": "b4da1e5f",
   "metadata": {},
   "outputs": [
    {
     "data": {
      "text/plain": [
       "torch.Size([50, 768])"
      ]
     },
     "execution_count": 60,
     "metadata": {},
     "output_type": "execute_result"
    }
   ],
   "source": [
    "outputs_pooler.shape"
   ]
  },
  {
   "cell_type": "code",
   "execution_count": 70,
   "id": "7d76d3f9",
   "metadata": {},
   "outputs": [
    {
     "data": {
      "text/plain": [
       "torch.Size([50, 770])"
      ]
     },
     "execution_count": 70,
     "metadata": {},
     "output_type": "execute_result"
    }
   ],
   "source": [
    "outputs_extend_confounds = torch.cat([outputs_pooler, batch['domain_labels']], 1)\n",
    "outputs_extend_confounds.shape"
   ]
  },
  {
   "cell_type": "code",
   "execution_count": 71,
   "id": "112fec44",
   "metadata": {},
   "outputs": [],
   "source": [
    "outputs_main_classifier = model.main_classifier_layer(outputs_extend_confounds)"
   ]
  },
  {
   "cell_type": "code",
   "execution_count": 73,
   "id": "f7e10ffe",
   "metadata": {},
   "outputs": [
    {
     "data": {
      "text/plain": [
       "tensor([[ 0.0160,  0.5240],\n",
       "        [ 0.1593,  0.5624],\n",
       "        [ 0.0852,  0.7299],\n",
       "        [ 0.3507,  0.5527],\n",
       "        [ 0.2404,  0.5785],\n",
       "        [-0.0183,  0.6881],\n",
       "        [ 0.2272,  0.5761],\n",
       "        [ 0.2937,  0.4312],\n",
       "        [-0.0579,  0.4578],\n",
       "        [ 0.0404,  0.4254],\n",
       "        [-0.2518,  0.4603],\n",
       "        [-0.2868,  0.4521],\n",
       "        [-0.3298,  0.5922],\n",
       "        [-0.0954,  0.7992],\n",
       "        [ 0.1329,  0.6663],\n",
       "        [-0.1032,  0.6057],\n",
       "        [-0.2905,  0.5313],\n",
       "        [-0.0119,  0.5222],\n",
       "        [ 0.0873,  0.6932],\n",
       "        [ 0.2957,  0.6708],\n",
       "        [ 0.1791,  0.5760],\n",
       "        [ 0.2682,  0.6526],\n",
       "        [ 0.1983,  0.6499],\n",
       "        [ 0.0689,  0.6755],\n",
       "        [-0.3370,  0.6792],\n",
       "        [-0.1984,  0.4126],\n",
       "        [-0.0913,  0.4589],\n",
       "        [ 0.0676,  0.6835],\n",
       "        [-0.0599,  0.4434],\n",
       "        [ 0.2306,  0.6996],\n",
       "        [ 0.3502,  0.5303],\n",
       "        [-0.1152,  0.7083],\n",
       "        [ 0.0421,  0.6227],\n",
       "        [-0.0108,  0.4141],\n",
       "        [-0.1859,  0.4067],\n",
       "        [-0.0069,  0.5665],\n",
       "        [-0.0696,  0.5624],\n",
       "        [ 0.1595,  0.5557],\n",
       "        [-0.0606,  0.5554],\n",
       "        [ 0.1776,  0.4592],\n",
       "        [-0.0981,  0.4577],\n",
       "        [ 0.1327,  0.3822],\n",
       "        [ 0.2362,  0.4037],\n",
       "        [ 0.0171,  0.4933],\n",
       "        [-0.0918,  0.6592],\n",
       "        [-0.0289,  0.2754],\n",
       "        [-0.3102,  0.4051],\n",
       "        [-0.0196,  0.4202],\n",
       "        [ 0.3281,  0.6220],\n",
       "        [-0.0976,  0.3656]], grad_fn=<AddmmBackward0>)"
      ]
     },
     "execution_count": 73,
     "metadata": {},
     "output_type": "execute_result"
    }
   ],
   "source": [
    "outputs_main_classifier"
   ]
  },
  {
   "cell_type": "code",
   "execution_count": null,
   "id": "b6d98286",
   "metadata": {},
   "outputs": [],
   "source": []
  }
 ],
 "metadata": {
  "kernelspec": {
   "display_name": "Python 3",
   "language": "python",
   "name": "python3"
  },
  "language_info": {
   "codemirror_mode": {
    "name": "ipython",
    "version": 3
   },
   "file_extension": ".py",
   "mimetype": "text/x-python",
   "name": "python",
   "nbconvert_exporter": "python",
   "pygments_lexer": "ipython3",
   "version": "3.8.10"
  }
 },
 "nbformat": 4,
 "nbformat_minor": 5
}
