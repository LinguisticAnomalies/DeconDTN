{
 "cells": [
  {
   "cell_type": "code",
   "execution_count": null,
   "id": "f865fed2-8171-449f-a02a-d9c00fa83bed",
   "metadata": {
    "ExecuteTime": {
     "end_time": "2023-08-04T20:47:37.369192Z",
     "start_time": "2023-08-04T20:47:37.362205Z"
    },
    "tags": []
   },
   "outputs": [],
   "source": [
    "import sys\n",
    "import os\n",
    "\n",
    "\n",
    "sys.path.append(\"../src\")\n",
    "\n",
    "\n",
    "import pandas as pd\n",
    "import numpy as np\n",
    "\n",
    "import random\n",
    "import itertools\n",
    "from sklearn import metrics\n",
    "from tqdm.auto import tqdm\n",
    "\n",
    "from sklearn.feature_extraction.text import TfidfVectorizer\n",
    "\n",
    "from sklearn.linear_model import LogisticRegression\n",
    "from sklearn import metrics\n",
    "from sklearn.preprocessing import MultiLabelBinarizer\n",
    "\n",
    "from sklearn.manifold import TSNE\n",
    "from sklearn.decomposition import PCA\n",
    "\n",
    "from sentence_transformers import SentenceTransformer\n",
    "from sklearn.linear_model import LogisticRegression\n",
    "from sklearn import metrics\n",
    "\n",
    "import sys\n",
    "import os\n",
    "\n",
    "import math\n",
    "\n",
    "from utils import number_split, create_mix\n",
    "from data_process import load_wls_adress_AddDomain\n",
    "from process_SHAC import load_process_SHAC\n",
    "from custom_distance import KL\n",
    "\n",
    "\n",
    "\n",
    "from sklearn.feature_extraction.text import CountVectorizer\n",
    "\n",
    "from tqdm import tqdm\n",
    "\n",
    "import matplotlib.pyplot as plt\n",
    "import seaborn as sns\n",
    "from matplotlib import cm\n",
    "\n",
    "import pickle\n",
    "\n",
    "\n",
    "from sentence_transformers import SentenceTransformer\n",
    "from transformers import AutoTokenizer, AutoModel\n",
    "import torch\n",
    "import torch.nn.functional as F\n",
    "\n",
    "\n",
    "from sentence_transformers import SentenceTransformer\n",
    "\n",
    "from sklearn.metrics import precision_recall_fscore_support\n",
    "\n",
    "from transformers import AutoTokenizer, AutoModel\n"
   ]
  },
  {
   "cell_type": "code",
   "execution_count": null,
   "id": "93689f7f-d7a2-4446-889c-ba91b16c9722",
   "metadata": {},
   "outputs": [],
   "source": []
  },
  {
   "cell_type": "code",
   "execution_count": null,
   "id": "b0b912cb-607f-4ed0-b705-00c7c3c1dced",
   "metadata": {},
   "outputs": [],
   "source": []
  },
  {
   "cell_type": "code",
   "execution_count": null,
   "id": "98d3a44d-e152-4ff2-bf34-4c698c1f75e3",
   "metadata": {},
   "outputs": [],
   "source": []
  },
  {
   "cell_type": "markdown",
   "id": "dbac0f6f-073b-4b74-be51-9a545bc54165",
   "metadata": {},
   "source": [
    "# Test two ways of embedding... same!?"
   ]
  },
  {
   "cell_type": "code",
   "execution_count": null,
   "id": "aa44c8af-19c7-462f-bbb0-9290540f3883",
   "metadata": {
    "tags": []
   },
   "outputs": [],
   "source": [
    "\n",
    "model = SentenceTransformer('all-MiniLM-L6-v2')"
   ]
  },
  {
   "cell_type": "code",
   "execution_count": null,
   "id": "61ea2649-5498-4227-bdc2-e9925b4b82e2",
   "metadata": {
    "scrolled": true,
    "tags": []
   },
   "outputs": [],
   "source": [
    "# Our sentences we like to encode\n",
    "sentences = ['This framework generates embeddings for each input sentence', \n",
    "             'Sentences are passed as a list of string.',\n",
    "             'The quick brown fox jumps over the lazy dog.']\n",
    "\n",
    "# Sentences are encoded by calling model.encode()\n",
    "embeddings = model.encode(sentences)\n",
    "\n",
    "# Print the embeddings\n",
    "for sentence, embedding in zip(sentences, embeddings):\n",
    "    print(\"Sentence:\", sentence)\n",
    "    print(\"Embedding:\", embedding)\n",
    "    print(\"\")"
   ]
  },
  {
   "cell_type": "code",
   "execution_count": null,
   "id": "b666f75c-538d-4d21-a7e5-2eec29c9a9c3",
   "metadata": {},
   "outputs": [],
   "source": [
    "sentence"
   ]
  },
  {
   "cell_type": "code",
   "execution_count": null,
   "id": "e3bb08fa-6557-45d3-a954-65700f1b2eda",
   "metadata": {
    "tags": []
   },
   "outputs": [],
   "source": [
    "embedding.shape"
   ]
  },
  {
   "cell_type": "code",
   "execution_count": null,
   "id": "73358d46-ed53-4a42-beed-796ade0c25ed",
   "metadata": {},
   "outputs": [],
   "source": []
  },
  {
   "cell_type": "code",
   "execution_count": null,
   "id": "63e25921-a399-473c-8f21-ca936ca234cb",
   "metadata": {
    "tags": []
   },
   "outputs": [],
   "source": [
    "from transformers import AutoTokenizer, AutoModel\n",
    "import torch\n",
    "import torch.nn.functional as F\n",
    "\n",
    "# Load model from HuggingFace Hub\n",
    "tokenizer = AutoTokenizer.from_pretrained('sentence-transformers/all-MiniLM-L6-v2')\n",
    "model = AutoModel.from_pretrained('sentence-transformers/all-MiniLM-L6-v2')\n"
   ]
  },
  {
   "cell_type": "code",
   "execution_count": null,
   "id": "4ac09271-6ebb-40b5-8b56-5a3f50ad9fe1",
   "metadata": {
    "tags": []
   },
   "outputs": [],
   "source": [
    "encoded_input = tokenizer(sentences, max_length = 120, padding=True, truncation=True, return_tensors='pt')\n"
   ]
  },
  {
   "cell_type": "code",
   "execution_count": null,
   "id": "3e1a7f85-a2a2-4f83-88bb-3a9691125478",
   "metadata": {
    "tags": []
   },
   "outputs": [],
   "source": [
    "encoded_input"
   ]
  },
  {
   "cell_type": "code",
   "execution_count": null,
   "id": "c5d3e1fe-f390-4ab2-a477-0a2f8eab2d99",
   "metadata": {},
   "outputs": [],
   "source": []
  },
  {
   "cell_type": "code",
   "execution_count": null,
   "id": "3f61be43-b0db-4ee1-a0d0-1a45c8233b7d",
   "metadata": {
    "tags": []
   },
   "outputs": [],
   "source": [
    "with torch.no_grad():\n",
    "    model_output = model(**encoded_input)\n"
   ]
  },
  {
   "cell_type": "code",
   "execution_count": null,
   "id": "b4619883-ed96-4431-b4cb-fa5b29fb06ae",
   "metadata": {
    "tags": []
   },
   "outputs": [],
   "source": [
    "#Mean Pooling - Take attention mask into account for correct averaging\n",
    "def mean_pooling(model_output, attention_mask):\n",
    "    token_embeddings = model_output[0] #First element of model_output contains all token embeddings\n",
    "    input_mask_expanded = attention_mask.unsqueeze(-1).expand(token_embeddings.size()).float()\n",
    "    return torch.sum(token_embeddings * input_mask_expanded, 1) / torch.clamp(input_mask_expanded.sum(1), min=1e-9)\n"
   ]
  },
  {
   "cell_type": "code",
   "execution_count": null,
   "id": "b8f9e1c2-d852-4a26-9b16-ba1bf5c4da13",
   "metadata": {
    "tags": []
   },
   "outputs": [],
   "source": [
    "model_output['last_hidden_state']"
   ]
  },
  {
   "cell_type": "code",
   "execution_count": null,
   "id": "936ec0e5-ca26-46de-8a04-031a76175e00",
   "metadata": {
    "tags": []
   },
   "outputs": [],
   "source": [
    "# Perform pooling\n",
    "sentence_embeddings = mean_pooling(model_output, encoded_input['attention_mask'])\n",
    "\n",
    "# Normalize embeddings\n",
    "sentence_embeddings = F.normalize(sentence_embeddings, p=2, dim=1)\n",
    "\n",
    "print(\"Sentence embeddings:\")\n",
    "print(sentence_embeddings)"
   ]
  },
  {
   "cell_type": "code",
   "execution_count": null,
   "id": "62f0361f-0f23-4e02-a553-35268bc90cf6",
   "metadata": {
    "tags": []
   },
   "outputs": [],
   "source": [
    "sentence_embeddings[0]"
   ]
  },
  {
   "cell_type": "code",
   "execution_count": null,
   "id": "a40267b8-07ca-42d4-8bb4-c908467b6efb",
   "metadata": {
    "tags": []
   },
   "outputs": [],
   "source": [
    "model.encode(sentences[0])"
   ]
  },
  {
   "cell_type": "code",
   "execution_count": null,
   "id": "1270c6ca-6c4f-434d-939f-a8f1b3f31c3e",
   "metadata": {
    "tags": []
   },
   "outputs": [],
   "source": [
    "model.encode(sentences[0])[:20]"
   ]
  },
  {
   "cell_type": "code",
   "execution_count": null,
   "id": "1892bcb5-1b6f-4b03-aac3-522c629078f4",
   "metadata": {
    "tags": []
   },
   "outputs": [],
   "source": [
    "sentence_embeddings[0][:20]"
   ]
  },
  {
   "cell_type": "code",
   "execution_count": null,
   "id": "72a630ec-d791-4a1a-bfee-abaaedf290cc",
   "metadata": {},
   "outputs": [],
   "source": [
    "encoded_input['attention_mask']"
   ]
  },
  {
   "cell_type": "code",
   "execution_count": null,
   "id": "b77bbf01-fefd-4966-a420-d189966f2517",
   "metadata": {
    "tags": []
   },
   "outputs": [],
   "source": [
    "model_output[0]"
   ]
  },
  {
   "cell_type": "code",
   "execution_count": null,
   "id": "9915810a-1e50-4a6f-9719-73bb96d052b7",
   "metadata": {},
   "outputs": [],
   "source": []
  },
  {
   "cell_type": "code",
   "execution_count": null,
   "id": "4ca2e665-63db-4c2a-8f23-ec904195101d",
   "metadata": {},
   "outputs": [],
   "source": []
  },
  {
   "cell_type": "markdown",
   "id": "9ddfdb13-556d-4c26-86ac-11963ec0de03",
   "metadata": {},
   "source": [
    "# Use this Embedding"
   ]
  },
  {
   "cell_type": "code",
   "execution_count": null,
   "id": "141254f0-f69b-442f-b7be-e078e2a414b9",
   "metadata": {
    "tags": []
   },
   "outputs": [],
   "source": [
    "model = SentenceTransformer('all-MiniLM-L6-v2')"
   ]
  },
  {
   "cell_type": "code",
   "execution_count": null,
   "id": "431a6b4b-9dfd-4cd4-99ce-27039a2f9426",
   "metadata": {
    "scrolled": true,
    "tags": []
   },
   "outputs": [],
   "source": [
    "# https://www.sbert.net/index.html\n",
    "\n",
    "# Our sentences we like to encode\n",
    "sentences = ['This framework generates embeddings for each input sentence', \n",
    "             'Sentences are passed as a list of string.',\n",
    "             'The quick brown fox jumps over the lazy dog.']\n",
    "\n",
    "# Sentences are encoded by calling model.encode()\n",
    "embeddings = model.encode(sentences)\n"
   ]
  },
  {
   "cell_type": "code",
   "execution_count": null,
   "id": "59f74fcf-6068-4834-9a10-f080466846a2",
   "metadata": {
    "tags": []
   },
   "outputs": [],
   "source": [
    "embeddings.shape"
   ]
  },
  {
   "cell_type": "markdown",
   "id": "20597aba-798e-45b0-b338-fed4f998b65c",
   "metadata": {},
   "source": []
  },
  {
   "cell_type": "markdown",
   "id": "87c59391-f693-414d-9832-9b06a8cf6cf4",
   "metadata": {},
   "source": [
    "# Load Data"
   ]
  },
  {
   "cell_type": "code",
   "execution_count": null,
   "id": "beb565fe-eb62-461b-8df8-2430d284f9ac",
   "metadata": {
    "tags": []
   },
   "outputs": [],
   "source": [
    "df_wls_merge = load_wls_adress_AddDomain(dt='wls')\n",
    "df_adress = load_wls_adress_AddDomain(dt='adress')"
   ]
  },
  {
   "cell_type": "code",
   "execution_count": null,
   "id": "e5798e7b-5123-4ce3-a6b8-306f6584a7b1",
   "metadata": {},
   "outputs": [],
   "source": []
  },
  {
   "cell_type": "code",
   "execution_count": null,
   "id": "e54cc645-6ed9-4ccc-ac23-f7577005bf54",
   "metadata": {},
   "outputs": [],
   "source": []
  },
  {
   "cell_type": "markdown",
   "id": "0ea417e7-04b9-4eda-8643-70ebd200bb23",
   "metadata": {},
   "source": [
    "# Split"
   ]
  },
  {
   "cell_type": "code",
   "execution_count": null,
   "id": "e6ac8265-7317-427a-a880-5bb59f5430f9",
   "metadata": {
    "scrolled": true,
    "tags": []
   },
   "outputs": [],
   "source": [
    "n_test = 150\n",
    "train_test_ratio = 4\n",
    "\n",
    "\n",
    "valid_full_settings = []\n",
    "for combination in itertools.product([0.1, 0.5], \n",
    "                                    [0.2, 0.6], \n",
    "                                     np.arange(0.1, 0.999, 0.1),\n",
    "                                     np.arange(0, 5, 0.05)\n",
    "                                    ):\n",
    "    \n",
    "\n",
    "    number_setting = number_split(p_pos_train_z0=combination[0], \n",
    "                           p_pos_train_z1 = combination[1], \n",
    "                           p_mix_z1 = combination[2], alpha_test = combination[3],\n",
    "                           train_test_ratio = train_test_ratio, \n",
    "                           n_test=n_test,\n",
    "                                  verbose=False\n",
    "                                 )\n",
    "\n",
    "    if number_setting is not None:\n",
    "        valid_full_settings.append(number_setting)\n",
    "    "
   ]
  },
  {
   "cell_type": "code",
   "execution_count": null,
   "id": "db506a52-5d09-44e6-9f5f-28cb190cc275",
   "metadata": {
    "tags": []
   },
   "outputs": [],
   "source": [
    "len(valid_full_settings)"
   ]
  },
  {
   "cell_type": "code",
   "execution_count": null,
   "id": "c0196f6b-216d-463f-a700-b262a813fb34",
   "metadata": {
    "tags": []
   },
   "outputs": [],
   "source": [
    "valid_full_settings[0]"
   ]
  },
  {
   "cell_type": "code",
   "execution_count": null,
   "id": "f56fab8a-f275-4715-aa62-7bf717db1a49",
   "metadata": {
    "tags": []
   },
   "outputs": [],
   "source": [
    "dfs = create_mix(df0=df_wls_merge, df1=df_adress, target='label', setting= valid_full_settings[0])"
   ]
  },
  {
   "cell_type": "code",
   "execution_count": null,
   "id": "ef045c00-d9bc-4cb9-b8be-2e6046fd742d",
   "metadata": {
    "tags": []
   },
   "outputs": [],
   "source": [
    "dfs.keys()"
   ]
  },
  {
   "cell_type": "code",
   "execution_count": null,
   "id": "70502ce6-922e-4170-bf62-9c3826175651",
   "metadata": {
    "tags": []
   },
   "outputs": [],
   "source": [
    "dfs['train']"
   ]
  },
  {
   "cell_type": "code",
   "execution_count": null,
   "id": "3cfe85de-7b3b-44e3-9dd4-70ff620f97f1",
   "metadata": {
    "tags": []
   },
   "outputs": [],
   "source": [
    "dfs['test']"
   ]
  },
  {
   "cell_type": "code",
   "execution_count": null,
   "id": "8bfb9a0c-417a-4915-b99d-2d75cedd4666",
   "metadata": {},
   "outputs": [],
   "source": []
  },
  {
   "cell_type": "code",
   "execution_count": null,
   "id": "35623c17-9146-4994-89d8-86f515c9f344",
   "metadata": {},
   "outputs": [],
   "source": []
  },
  {
   "cell_type": "markdown",
   "id": "419924d0-5961-4064-a193-fd8cdffc452d",
   "metadata": {},
   "source": [
    "# Sentence BERT"
   ]
  },
  {
   "cell_type": "markdown",
   "id": "5dc9270e-c94f-4428-815e-66bf2223c190",
   "metadata": {},
   "source": [
    "## Encode"
   ]
  },
  {
   "cell_type": "code",
   "execution_count": null,
   "id": "5243875b-a562-4467-b7d8-d937576ff97c",
   "metadata": {
    "tags": []
   },
   "outputs": [],
   "source": [
    "embeddings_X_train = model.encode(dfs['train']['text'])\n",
    "embeddings_X_test = model.encode(dfs['test']['text'])"
   ]
  },
  {
   "cell_type": "code",
   "execution_count": null,
   "id": "4d928a99-c064-4148-a352-fc19e8fde358",
   "metadata": {
    "tags": []
   },
   "outputs": [],
   "source": [
    "y_train = dfs['train']['label']\n",
    "y_test = dfs['test']['label']"
   ]
  },
  {
   "cell_type": "code",
   "execution_count": null,
   "id": "4c7badad-3dbf-4cbb-8f8f-37cd4d0acbfe",
   "metadata": {},
   "outputs": [],
   "source": []
  },
  {
   "cell_type": "markdown",
   "id": "a02b938e-debf-442e-9b1a-2af78c3de567",
   "metadata": {},
   "source": [
    "## Logistic Regression"
   ]
  },
  {
   "cell_type": "markdown",
   "id": "e888906d-4822-495b-b67d-cc859da09fc2",
   "metadata": {},
   "source": [
    "### All"
   ]
  },
  {
   "cell_type": "code",
   "execution_count": null,
   "id": "235848bd-08cf-4f65-b712-508887d32f83",
   "metadata": {},
   "outputs": [],
   "source": []
  },
  {
   "cell_type": "code",
   "execution_count": null,
   "id": "3b25cfa8-ba11-48fd-9bf3-74dbedb0f67e",
   "metadata": {
    "tags": []
   },
   "outputs": [],
   "source": [
    "clf  = LogisticRegression(penalty = \"l2\", C = 1, max_iter = 100, class_weight = None, solver=\"liblinear\")"
   ]
  },
  {
   "cell_type": "code",
   "execution_count": null,
   "id": "2ca3ec9f-5e43-4096-8f5d-0319df84fb5d",
   "metadata": {
    "tags": []
   },
   "outputs": [],
   "source": [
    "clf.fit(X=embeddings_X_train, y=y_train)"
   ]
  },
  {
   "cell_type": "code",
   "execution_count": null,
   "id": "4fe83b47-e787-4b85-808f-b3d5a1071477",
   "metadata": {
    "tags": []
   },
   "outputs": [],
   "source": [
    "clf.classes_"
   ]
  },
  {
   "cell_type": "code",
   "execution_count": null,
   "id": "f1277848-9cd4-4c6c-abff-5eb24cd74a00",
   "metadata": {
    "scrolled": true,
    "tags": []
   },
   "outputs": [],
   "source": [
    "y_probs = clf.predict_proba(X=embeddings_X_test)"
   ]
  },
  {
   "cell_type": "code",
   "execution_count": null,
   "id": "58ca66fe-55b9-4304-8d3f-cfa83f4601eb",
   "metadata": {},
   "outputs": [],
   "source": []
  },
  {
   "cell_type": "code",
   "execution_count": null,
   "id": "4c8e820f-a704-4bea-87ec-9a4a3a7bbc05",
   "metadata": {
    "tags": []
   },
   "outputs": [],
   "source": [
    "metrics.average_precision_score(y_true=y_test, y_score=y_probs[:,1])"
   ]
  },
  {
   "cell_type": "code",
   "execution_count": null,
   "id": "a163c8c0-de32-43e0-8391-8d654c5327da",
   "metadata": {},
   "outputs": [],
   "source": []
  },
  {
   "cell_type": "code",
   "execution_count": null,
   "id": "e7493984-b759-4b62-a0e5-c9d36c597e96",
   "metadata": {},
   "outputs": [],
   "source": []
  },
  {
   "cell_type": "markdown",
   "id": "85743722-9bfc-4c10-9dda-6995ecc41b51",
   "metadata": {},
   "source": [
    "### t-SNE"
   ]
  },
  {
   "cell_type": "code",
   "execution_count": null,
   "id": "48be9c5d-5405-44f4-8799-478fd80c8b15",
   "metadata": {
    "tags": []
   },
   "outputs": [],
   "source": [
    "embeddings_X_train"
   ]
  },
  {
   "cell_type": "code",
   "execution_count": null,
   "id": "b16cb09c-30c1-4cd3-bd38-f307ce80ca47",
   "metadata": {
    "tags": []
   },
   "outputs": [],
   "source": [
    "x_train_tsne = TSNE(n_components=30, perplexity=50, method=\"exact\").fit_transform(embeddings_X_train)\n",
    "x_test_tsne  = TSNE(n_components=30, perplexity=50, method=\"exact\").fit_transform(embeddings_X_test)\n",
    "\n"
   ]
  },
  {
   "cell_type": "code",
   "execution_count": null,
   "id": "c4006df1-3285-4a05-81cd-0348c973d565",
   "metadata": {
    "tags": []
   },
   "outputs": [],
   "source": [
    "clf  = LogisticRegression(penalty = \"l2\", C = 1, max_iter = 100, class_weight = None, solver=\"liblinear\")"
   ]
  },
  {
   "cell_type": "code",
   "execution_count": null,
   "id": "6e241b39-8ed3-4da6-8335-804b27ad30ed",
   "metadata": {
    "tags": []
   },
   "outputs": [],
   "source": [
    "clf.fit(X=x_train_tsne, y=y_train)"
   ]
  },
  {
   "cell_type": "code",
   "execution_count": null,
   "id": "c05e492b-158d-41f3-9cb3-20c86bb2d8a3",
   "metadata": {
    "tags": []
   },
   "outputs": [],
   "source": [
    "clf.classes_"
   ]
  },
  {
   "cell_type": "code",
   "execution_count": null,
   "id": "f4fd8167-a424-40d3-8e7a-51b6b4c94d90",
   "metadata": {
    "scrolled": true,
    "tags": []
   },
   "outputs": [],
   "source": [
    "y_probs = clf.predict_proba(X=x_test_tsne)"
   ]
  },
  {
   "cell_type": "code",
   "execution_count": null,
   "id": "c7de3477-c6e6-4f64-bb4c-2929ba345c4d",
   "metadata": {
    "tags": []
   },
   "outputs": [],
   "source": [
    "metrics.average_precision_score(y_true=y_test, y_score=y_probs[:,1])"
   ]
  },
  {
   "cell_type": "code",
   "execution_count": null,
   "id": "6618ce7e-277d-4e38-b87f-09f1b6556a34",
   "metadata": {
    "tags": []
   },
   "outputs": [],
   "source": [
    "# metrics.roc_auc_score(\n",
    "#                 y_true=y_test,\n",
    "#                 y_score=y_probs[:,1],\n",
    "#             )\n",
    "\n",
    "# metrics.f1_score(y_true=y_test, y_pred=y_probs[:,1]>0.5)"
   ]
  },
  {
   "cell_type": "code",
   "execution_count": null,
   "id": "1ca0fe67-7009-4c98-8743-c43013081332",
   "metadata": {},
   "outputs": [],
   "source": []
  },
  {
   "cell_type": "code",
   "execution_count": null,
   "id": "b4611df7-67ae-49c9-839a-faafdb436926",
   "metadata": {},
   "outputs": [],
   "source": []
  },
  {
   "cell_type": "code",
   "execution_count": null,
   "id": "beca2926-547d-43ae-8dab-2063fc0b596a",
   "metadata": {},
   "outputs": [],
   "source": []
  },
  {
   "cell_type": "markdown",
   "id": "5092ba62-8013-4986-be03-72d92f725b9a",
   "metadata": {},
   "source": [
    "# TFIDF"
   ]
  },
  {
   "cell_type": "code",
   "execution_count": null,
   "id": "53e17757-15b2-42db-9555-88e2c80bf0cb",
   "metadata": {
    "tags": []
   },
   "outputs": [],
   "source": [
    "vectorizer = TfidfVectorizer(use_idf = True,\n",
    "                                    ngram_range = (1,1))"
   ]
  },
  {
   "cell_type": "code",
   "execution_count": null,
   "id": "86d38a4e-6779-4485-80a3-303e86120389",
   "metadata": {
    "tags": []
   },
   "outputs": [],
   "source": [
    "vectorizer.fit(pd.concat([dfs['train']['text'], dfs['test']['text']]))"
   ]
  },
  {
   "cell_type": "code",
   "execution_count": null,
   "id": "5e2bbb40-b55c-4990-b8fa-d36d6df9b919",
   "metadata": {
    "tags": []
   },
   "outputs": [],
   "source": [
    "x_train_tfidf = vectorizer.transform(dfs['train']['text']).toarray()\n",
    "x_test_tfidf = vectorizer.transform(dfs['test']['text']).toarray()"
   ]
  },
  {
   "cell_type": "code",
   "execution_count": null,
   "id": "ca372204-9cff-4ff0-aedb-5c4286ebef9c",
   "metadata": {},
   "outputs": [],
   "source": []
  },
  {
   "cell_type": "markdown",
   "id": "978ef631-d790-4232-b34a-99f26c701121",
   "metadata": {},
   "source": [
    "## Logistic Regression"
   ]
  },
  {
   "cell_type": "code",
   "execution_count": null,
   "id": "f4f9e038-8034-4866-aa1d-a550e0ce79be",
   "metadata": {},
   "outputs": [],
   "source": []
  },
  {
   "cell_type": "markdown",
   "id": "6db8c3ba-f205-4966-9326-d52387153434",
   "metadata": {},
   "source": [
    "### All features"
   ]
  },
  {
   "cell_type": "code",
   "execution_count": null,
   "id": "8a3d5868-93a8-4b39-87d9-1b0456d4fb69",
   "metadata": {
    "tags": []
   },
   "outputs": [],
   "source": [
    "clf  = LogisticRegression(penalty = \"l2\", C = 1, max_iter = 100, class_weight = None, solver=\"liblinear\")"
   ]
  },
  {
   "cell_type": "code",
   "execution_count": null,
   "id": "c0b2803d-193b-487c-8ce8-cd93a3af3d62",
   "metadata": {
    "tags": []
   },
   "outputs": [],
   "source": [
    "clf.fit(X=x_train_tfidf, y=y_train)"
   ]
  },
  {
   "cell_type": "code",
   "execution_count": null,
   "id": "72e27786-67c4-4c7b-8974-c0821698ce2d",
   "metadata": {
    "tags": []
   },
   "outputs": [],
   "source": [
    "clf.classes_"
   ]
  },
  {
   "cell_type": "code",
   "execution_count": null,
   "id": "e05916f8-ac68-470a-bf2c-c9ff704dab52",
   "metadata": {
    "scrolled": true,
    "tags": []
   },
   "outputs": [],
   "source": [
    "y_probs = clf.predict_proba(X=x_test_tfidf)"
   ]
  },
  {
   "cell_type": "code",
   "execution_count": null,
   "id": "20382b05-36ef-409b-8d83-0a13416de610",
   "metadata": {},
   "outputs": [],
   "source": []
  },
  {
   "cell_type": "code",
   "execution_count": null,
   "id": "085c0f07-02b5-4d59-853e-22485e6282de",
   "metadata": {
    "tags": []
   },
   "outputs": [],
   "source": [
    "metrics.average_precision_score(y_true=y_test, y_score=y_probs[:,1])"
   ]
  },
  {
   "cell_type": "code",
   "execution_count": null,
   "id": "9782d37c-391b-48c8-87a4-2990cb883d30",
   "metadata": {},
   "outputs": [],
   "source": []
  },
  {
   "cell_type": "code",
   "execution_count": null,
   "id": "10dbcfc7-4b74-41f8-b52f-062fc51a6da7",
   "metadata": {},
   "outputs": [],
   "source": []
  },
  {
   "cell_type": "markdown",
   "id": "29bbe065-fd5c-43ab-9a95-c09dd049d751",
   "metadata": {},
   "source": [
    "### t-SNE"
   ]
  },
  {
   "cell_type": "code",
   "execution_count": null,
   "id": "458c2e30-bcdf-4bdb-bf60-92a3a6d9f21b",
   "metadata": {
    "tags": []
   },
   "outputs": [],
   "source": [
    "x_train_tfidf_tsne = TSNE(n_components=30, perplexity=50, method=\"exact\").fit_transform(x_train_tfidf)\n",
    "x_test_tfidf_tsne  = TSNE(n_components=30, perplexity=50, method=\"exact\").fit_transform(x_test_tfidf)\n",
    "\n"
   ]
  },
  {
   "cell_type": "code",
   "execution_count": null,
   "id": "554f0787-7e9e-4351-8247-15189d9163ea",
   "metadata": {
    "tags": []
   },
   "outputs": [],
   "source": [
    "clf  = LogisticRegression(penalty = \"l2\", C = 1, max_iter = 100, class_weight = None, solver=\"liblinear\")"
   ]
  },
  {
   "cell_type": "code",
   "execution_count": null,
   "id": "4d866c64-2aba-4a8a-bd72-653a31a3222b",
   "metadata": {
    "tags": []
   },
   "outputs": [],
   "source": [
    "clf.fit(X=x_train_tfidf_tsne, y=y_train)"
   ]
  },
  {
   "cell_type": "code",
   "execution_count": null,
   "id": "50dc6a62-208a-40ff-a642-db4d990ec5a6",
   "metadata": {
    "tags": []
   },
   "outputs": [],
   "source": [
    "clf.classes_"
   ]
  },
  {
   "cell_type": "code",
   "execution_count": null,
   "id": "0462fb55-461b-4f1c-b701-271997f82baa",
   "metadata": {
    "scrolled": true,
    "tags": []
   },
   "outputs": [],
   "source": [
    "y_probs = clf.predict_proba(X=x_test_tfidf_tsne)"
   ]
  },
  {
   "cell_type": "code",
   "execution_count": null,
   "id": "62e5a0f8-69bf-4f4a-b7d9-f4352cfb0c64",
   "metadata": {
    "tags": []
   },
   "outputs": [],
   "source": [
    "metrics.average_precision_score(y_true=y_test, y_score=y_probs[:,1])"
   ]
  },
  {
   "cell_type": "code",
   "execution_count": null,
   "id": "33d95975-a9fd-403f-8d2e-96a920ae1565",
   "metadata": {
    "tags": []
   },
   "outputs": [],
   "source": [
    "metrics.roc_auc_score(\n",
    "                y_true=y_test,\n",
    "                y_score=y_probs[:,1],\n",
    "            )"
   ]
  },
  {
   "cell_type": "code",
   "execution_count": null,
   "id": "6245e373-3544-45cc-b7c0-ea156ae8271c",
   "metadata": {
    "tags": []
   },
   "outputs": [],
   "source": [
    "metrics.f1_score(y_true=y_test, y_pred=y_probs[:,1]>0.5)"
   ]
  },
  {
   "cell_type": "markdown",
   "id": "b3dd0fc8-d9a3-487a-a0a2-cdff614c9a0c",
   "metadata": {},
   "source": [
    "### PCA"
   ]
  },
  {
   "cell_type": "code",
   "execution_count": null,
   "id": "f9e8054c-726a-4d43-b4b9-dbb8000c1bcd",
   "metadata": {
    "tags": []
   },
   "outputs": [],
   "source": [
    "pca = PCA(n_components=5)"
   ]
  },
  {
   "cell_type": "code",
   "execution_count": null,
   "id": "603551d6-67b0-4d57-ae06-8750a3dabc18",
   "metadata": {
    "tags": []
   },
   "outputs": [],
   "source": [
    "x_train_tfidf_pca = pca.fit_transform(x_train_tfidf)\n",
    "x_test_tfidf_pca = pca.fit_transform(x_test_tfidf)\n"
   ]
  },
  {
   "cell_type": "code",
   "execution_count": null,
   "id": "3444be91-8ee4-4062-9817-b23aa8d0071c",
   "metadata": {},
   "outputs": [],
   "source": []
  },
  {
   "cell_type": "code",
   "execution_count": null,
   "id": "b7672e16-950d-4627-a672-5a1cfc90338f",
   "metadata": {
    "tags": []
   },
   "outputs": [],
   "source": [
    "clf  = LogisticRegression(penalty = \"l2\", C = 1, max_iter = 100, class_weight = None, solver=\"liblinear\")"
   ]
  },
  {
   "cell_type": "code",
   "execution_count": null,
   "id": "eff87333-f349-4559-87f8-1cea7bbb8369",
   "metadata": {
    "tags": []
   },
   "outputs": [],
   "source": [
    "clf.fit(X=x_train_tfidf_pca, y=y_train)"
   ]
  },
  {
   "cell_type": "code",
   "execution_count": null,
   "id": "7ccf391c-0da1-4349-bf33-9d31c6cd9854",
   "metadata": {
    "tags": []
   },
   "outputs": [],
   "source": [
    "clf.classes_"
   ]
  },
  {
   "cell_type": "code",
   "execution_count": null,
   "id": "edaf3d0f-9366-4dfe-944b-377f3f8749fe",
   "metadata": {
    "scrolled": true,
    "tags": []
   },
   "outputs": [],
   "source": [
    "y_probs = clf.predict_proba(X=x_test_tfidf_pca)"
   ]
  },
  {
   "cell_type": "code",
   "execution_count": null,
   "id": "470ac55b-d2b6-4d2b-9da2-7fb4780608b8",
   "metadata": {
    "tags": []
   },
   "outputs": [],
   "source": [
    "metrics.average_precision_score(y_true=y_test, y_score=y_probs[:,1])"
   ]
  },
  {
   "cell_type": "code",
   "execution_count": null,
   "id": "e877948a-bac0-4c50-971b-983daab5c486",
   "metadata": {},
   "outputs": [],
   "source": []
  },
  {
   "cell_type": "markdown",
   "id": "f3d04852-676a-4385-a024-742d78394e2f",
   "metadata": {},
   "source": [
    "# Confound: statistical adjustment"
   ]
  },
  {
   "cell_type": "markdown",
   "id": "f9e83c7b-a3e0-4c2d-997a-98afd17f5e01",
   "metadata": {},
   "source": [
    "## One-hot vector for z"
   ]
  },
  {
   "cell_type": "code",
   "execution_count": null,
   "id": "91142239-5b6c-4eb3-ac61-c58348301847",
   "metadata": {
    "tags": []
   },
   "outputs": [],
   "source": [
    "v = 1\n",
    "confound_map = {\"wls\":0, \"adress\":v}\n",
    "\n",
    "dfs['train']['confound'] = dfs['train']['domain'].map(confound_map)\n",
    "\n",
    "dfs['test']['confound'] = dfs['test']['domain'].map(confound_map)\n"
   ]
  },
  {
   "cell_type": "markdown",
   "id": "a6b59b8e-4a3c-4972-a6c9-c4a4bdc86fec",
   "metadata": {},
   "source": [
    "## Sentence BERT"
   ]
  },
  {
   "cell_type": "markdown",
   "id": "e12faf7e-7b7e-4a6c-855e-84722c6b6617",
   "metadata": {},
   "source": [
    "### Encode"
   ]
  },
  {
   "cell_type": "code",
   "execution_count": null,
   "id": "e1339076-5c64-4f58-a291-afec5a07fa9c",
   "metadata": {
    "tags": []
   },
   "outputs": [],
   "source": [
    "embeddings_X_train = model.encode(dfs['train']['text'])\n",
    "embeddings_X_test = model.encode(dfs['test']['text'])"
   ]
  },
  {
   "cell_type": "code",
   "execution_count": null,
   "id": "c890b362-d9ea-4c62-a3e7-4bfa98574143",
   "metadata": {
    "tags": []
   },
   "outputs": [],
   "source": [
    "y_train = dfs['train']['label']\n",
    "y_test = dfs['test']['label']"
   ]
  },
  {
   "cell_type": "code",
   "execution_count": null,
   "id": "a10d4252-ec5b-44f6-8814-c214e6d6bbe9",
   "metadata": {},
   "outputs": [],
   "source": []
  },
  {
   "cell_type": "markdown",
   "id": "33b71e42-5dbd-4511-8840-db0bca4f558d",
   "metadata": {},
   "source": [
    "### Logistic Regression"
   ]
  },
  {
   "cell_type": "markdown",
   "id": "59d7f66d-8dd9-4542-adec-f8cb8ed8a7ee",
   "metadata": {},
   "source": [
    "#### All Features"
   ]
  },
  {
   "cell_type": "code",
   "execution_count": null,
   "id": "27c2ac43-e0da-4eaf-82eb-60ef7c8b0817",
   "metadata": {},
   "outputs": [],
   "source": []
  },
  {
   "cell_type": "code",
   "execution_count": null,
   "id": "a9b57fbc-3d35-41fa-bfc7-81b646ee0c10",
   "metadata": {
    "tags": []
   },
   "outputs": [],
   "source": [
    "clf  = LogisticRegression(penalty = \"l2\", C = 1, max_iter = 100, class_weight = None, solver=\"liblinear\")"
   ]
  },
  {
   "cell_type": "code",
   "execution_count": null,
   "id": "e6ff50a3-6049-401b-a25a-66c526424f4f",
   "metadata": {},
   "outputs": [],
   "source": [
    "embeddings_X_train"
   ]
  },
  {
   "cell_type": "code",
   "execution_count": null,
   "id": "15167161-93f9-4d71-be58-851b01febcde",
   "metadata": {
    "tags": []
   },
   "outputs": [],
   "source": [
    "x_embeddings_confound_train = np.concatenate([embeddings_X_train, np.array(dfs['train']['confound']).reshape(-1,1)], axis=1)\n"
   ]
  },
  {
   "cell_type": "code",
   "execution_count": null,
   "id": "b2a137b1-c78d-4f9b-a997-ba6f3fc42710",
   "metadata": {
    "tags": []
   },
   "outputs": [],
   "source": [
    "shape_test = embeddings_X_test.shape\n",
    "\n",
    "a = np.empty((shape_test[0],1))\n",
    "a.fill(0)\n",
    "x_embeddings_confound_test_z0 = np.concatenate([embeddings_X_test, a], axis=1)\n",
    "\n",
    "a = np.empty((shape_test[0],1))\n",
    "a.fill(v)\n",
    "x_embeddings_confound_test_z1 = np.concatenate([embeddings_X_test, a], axis=1)"
   ]
  },
  {
   "cell_type": "code",
   "execution_count": null,
   "id": "50ec2656-e337-4b00-ac26-952824ee63c0",
   "metadata": {},
   "outputs": [],
   "source": []
  },
  {
   "cell_type": "code",
   "execution_count": null,
   "id": "108bc7ca-b76a-4f7d-8a9f-541602be0904",
   "metadata": {
    "tags": []
   },
   "outputs": [],
   "source": [
    "clf.fit(X=x_embeddings_confound_train, y=y_train)"
   ]
  },
  {
   "cell_type": "code",
   "execution_count": null,
   "id": "cfe387c5-7e2f-4edf-b343-433dcd774178",
   "metadata": {
    "tags": []
   },
   "outputs": [],
   "source": [
    "clf.classes_"
   ]
  },
  {
   "cell_type": "code",
   "execution_count": null,
   "id": "c4e0e1f1-b5cf-4411-a8b8-a030a3336057",
   "metadata": {},
   "outputs": [],
   "source": []
  },
  {
   "cell_type": "code",
   "execution_count": null,
   "id": "1eb0e012-245b-4233-a587-c1f54ed78945",
   "metadata": {
    "scrolled": true,
    "tags": []
   },
   "outputs": [],
   "source": [
    "y_probs_z0 = clf.predict_proba(X=x_embeddings_confound_test_z0)\n",
    "y_probs_z1 = clf.predict_proba(X=x_embeddings_confound_test_z1)"
   ]
  },
  {
   "cell_type": "code",
   "execution_count": null,
   "id": "497826b1-aae3-4c77-a734-4328963a7dd5",
   "metadata": {},
   "outputs": [],
   "source": []
  },
  {
   "cell_type": "code",
   "execution_count": null,
   "id": "bedade60-25cd-4587-99f5-7046a2aefba6",
   "metadata": {
    "tags": []
   },
   "outputs": [],
   "source": [
    "p_z = []\n",
    "\n",
    "# NOTE: the order here is important!!! Here, wls -> df0, adress -> df1\n",
    "p_z.append(sum(dfs['train']['domain'] == 'wls')/len(dfs['train']))\n",
    "p_z.append(sum(dfs['train']['domain'] == 'adress')/len(dfs['train']))\n"
   ]
  },
  {
   "cell_type": "code",
   "execution_count": null,
   "id": "86aec1f3-afc3-4117-8ee3-7ce8e035d120",
   "metadata": {},
   "outputs": [],
   "source": [
    "p_z"
   ]
  },
  {
   "cell_type": "code",
   "execution_count": null,
   "id": "c03d1792-120d-44a5-b3a6-7f636caeb4fa",
   "metadata": {
    "tags": []
   },
   "outputs": [],
   "source": [
    "y_probs_z0[:5,:]"
   ]
  },
  {
   "cell_type": "code",
   "execution_count": null,
   "id": "1a427c6d-ba2b-4f70-a733-1ee888b355f7",
   "metadata": {
    "tags": []
   },
   "outputs": [],
   "source": [
    "y_probs_z0[:5,:] * p_z[0]"
   ]
  },
  {
   "cell_type": "code",
   "execution_count": null,
   "id": "5ab3b64b-adf2-4399-9f86-7af42f36991b",
   "metadata": {
    "tags": []
   },
   "outputs": [],
   "source": [
    "y_probs_z1[:5,:]"
   ]
  },
  {
   "cell_type": "code",
   "execution_count": null,
   "id": "89c81c21-3f3a-4702-855a-51f8c49e4f92",
   "metadata": {
    "tags": []
   },
   "outputs": [],
   "source": [
    "y_probs_z1[:5,:] * p_z[1]"
   ]
  },
  {
   "cell_type": "code",
   "execution_count": null,
   "id": "652dab4b-1ee2-42c4-a4c0-1a2be8ccea39",
   "metadata": {
    "tags": []
   },
   "outputs": [],
   "source": [
    "y_probs_confound = y_probs_z0 * p_z[0] + y_probs_z1 * p_z[1]"
   ]
  },
  {
   "cell_type": "code",
   "execution_count": null,
   "id": "b0988127-869d-426f-8693-0f368e52c662",
   "metadata": {},
   "outputs": [],
   "source": []
  },
  {
   "cell_type": "code",
   "execution_count": null,
   "id": "1199e276-26ef-4deb-892c-e50c406965f1",
   "metadata": {
    "tags": []
   },
   "outputs": [],
   "source": [
    "metrics.average_precision_score(y_true=y_test, y_score=y_probs_confound[:,1])"
   ]
  },
  {
   "cell_type": "code",
   "execution_count": null,
   "id": "5a91e611-8d49-459c-a70b-436a8f917df2",
   "metadata": {},
   "outputs": [],
   "source": []
  },
  {
   "cell_type": "code",
   "execution_count": null,
   "id": "b328a6c8-ce87-4d9b-9a02-b8f38f65dfef",
   "metadata": {},
   "outputs": [],
   "source": []
  },
  {
   "cell_type": "markdown",
   "id": "f9a6a40c-e1d9-499c-b19d-0778180cba86",
   "metadata": {},
   "source": [
    "# Confound: statistical adjustment"
   ]
  },
  {
   "cell_type": "markdown",
   "id": "67011b18-3ed4-403e-95e9-b9268a797646",
   "metadata": {},
   "source": [
    "## Dummy Coding for z"
   ]
  },
  {
   "cell_type": "code",
   "execution_count": null,
   "id": "129d0246-e837-43fe-9026-ae655c4b615c",
   "metadata": {
    "tags": []
   },
   "outputs": [],
   "source": [
    "z_Categories = [\"wls\",\"adress\"]\n",
    "n_zCats = len(z_Categories)\n",
    "\n",
    "y_Categories = [0,1]\n",
    "n_yCats = len(y_Categories)"
   ]
  },
  {
   "cell_type": "code",
   "execution_count": null,
   "id": "d62c20cc-c198-4594-9522-a0ff4b38cc7d",
   "metadata": {
    "tags": []
   },
   "outputs": [],
   "source": [
    "pd.Categorical(dfs['train']['domain'], categories=z_Categories)"
   ]
  },
  {
   "cell_type": "code",
   "execution_count": null,
   "id": "2cd1588a-0eea-4cc6-99e3-3d54d8d1a345",
   "metadata": {
    "tags": []
   },
   "outputs": [],
   "source": [
    "pd.get_dummies(pd.Categorical(dfs['train']['domain'], categories=z_Categories), prefix=\"confounder\") * v"
   ]
  },
  {
   "cell_type": "code",
   "execution_count": null,
   "id": "12aa1c03-5449-452a-a728-ba54e634871a",
   "metadata": {},
   "outputs": [],
   "source": [
    "confounders_train = pd.get_dummies(pd.Categorical(dfs['train']['domain'], categories=z_Categories), prefix=\"confounder\") * v\n",
    "confounders_test = pd.get_dummies(pd.Categorical(dfs['test']['domain'], categories=z_Categories), prefix=\"confounder\") * v\n"
   ]
  },
  {
   "cell_type": "code",
   "execution_count": null,
   "id": "1bda898e-d50c-495d-81fb-c55673fd060b",
   "metadata": {},
   "outputs": [],
   "source": []
  },
  {
   "cell_type": "code",
   "execution_count": null,
   "id": "f68f4575-11be-4ae1-a5a4-faa45495045b",
   "metadata": {},
   "outputs": [],
   "source": []
  },
  {
   "cell_type": "markdown",
   "id": "f3f76f97-9052-459d-9b62-f5815ec1cc45",
   "metadata": {},
   "source": [
    "## Sentence BERT"
   ]
  },
  {
   "cell_type": "markdown",
   "id": "a1580060-a08c-48d5-84c6-8864cba46fe1",
   "metadata": {},
   "source": [
    "### Encode"
   ]
  },
  {
   "cell_type": "code",
   "execution_count": null,
   "id": "34bdfbfd-849e-4bbe-83e1-fdb71fc9e0c9",
   "metadata": {
    "tags": []
   },
   "outputs": [],
   "source": [
    "embeddings_X_train = model.encode(dfs['train']['text'])\n",
    "embeddings_X_test = model.encode(dfs['test']['text'])"
   ]
  },
  {
   "cell_type": "code",
   "execution_count": null,
   "id": "da8864d9-48cd-4d4d-aa76-8ed229306937",
   "metadata": {
    "tags": []
   },
   "outputs": [],
   "source": [
    "y_train = dfs['train']['label']\n",
    "y_test = dfs['test']['label']\n",
    "\n",
    "n_test = len(y_test)"
   ]
  },
  {
   "cell_type": "code",
   "execution_count": null,
   "id": "ced8ef74-06ad-4458-8892-63144a6d6705",
   "metadata": {},
   "outputs": [],
   "source": [
    "n_test"
   ]
  },
  {
   "cell_type": "markdown",
   "id": "010d0cc9-ae89-4262-a0be-c692e5497079",
   "metadata": {},
   "source": [
    "### Logistic Regression"
   ]
  },
  {
   "cell_type": "markdown",
   "id": "86f38074-6fab-4158-8360-7820868a992b",
   "metadata": {},
   "source": [
    "#### All Features"
   ]
  },
  {
   "cell_type": "code",
   "execution_count": null,
   "id": "5831efa6-3c41-4692-96ed-40d068ecc342",
   "metadata": {},
   "outputs": [],
   "source": []
  },
  {
   "cell_type": "code",
   "execution_count": null,
   "id": "7c028a0c-3949-4aed-ae13-2cba9295fc3b",
   "metadata": {
    "tags": []
   },
   "outputs": [],
   "source": [
    "clf  = LogisticRegression(penalty = \"l2\", C = 1, max_iter = 100, class_weight = None, solver=\"liblinear\")"
   ]
  },
  {
   "cell_type": "code",
   "execution_count": null,
   "id": "56e72113-b5f9-41dd-b96a-7df423dda55c",
   "metadata": {
    "tags": []
   },
   "outputs": [],
   "source": [
    "embeddings_X_train"
   ]
  },
  {
   "cell_type": "code",
   "execution_count": null,
   "id": "ed53034b-70a6-41f0-89c0-70865a6b32ca",
   "metadata": {
    "tags": []
   },
   "outputs": [],
   "source": [
    "\n",
    "x_embeddings_confound_train = np.concatenate([embeddings_X_train, confounders_train], axis=1)\n"
   ]
  },
  {
   "cell_type": "code",
   "execution_count": null,
   "id": "8dede351-7886-4d68-83a9-e5e1cfffd9e0",
   "metadata": {},
   "outputs": [],
   "source": [
    "len(z_Categories)"
   ]
  },
  {
   "cell_type": "code",
   "execution_count": null,
   "id": "e818330b-83c4-4cf3-8411-8b255be4a391",
   "metadata": {},
   "outputs": [],
   "source": [
    "a = np.empty(())"
   ]
  },
  {
   "cell_type": "code",
   "execution_count": null,
   "id": "f8f31b1e-9d97-4a9d-ad1f-f946a7cbdf93",
   "metadata": {
    "tags": []
   },
   "outputs": [],
   "source": [
    "x_embeddings_confound_test_ls = []\n",
    "\n",
    "for i in range(n_zCats):\n",
    "    \n",
    "\n",
    "    a = np.empty((n_test, n_zCats))\n",
    "    a.fill(0)\n",
    "    a[:,i] = v\n",
    "    _ = np.concatenate([embeddings_X_test, a], axis=1)\n",
    "    x_embeddings_confound_test_ls.append(_)"
   ]
  },
  {
   "cell_type": "code",
   "execution_count": null,
   "id": "6d61b967-deef-4ca8-8847-b90daaa33457",
   "metadata": {
    "tags": []
   },
   "outputs": [],
   "source": [
    "x_embeddings_confound_test_ls[0]"
   ]
  },
  {
   "cell_type": "code",
   "execution_count": null,
   "id": "b1087e34-96a4-4cf1-bf90-c504c215c627",
   "metadata": {
    "tags": []
   },
   "outputs": [],
   "source": [
    "clf.fit(X=x_embeddings_confound_train, y=y_train)"
   ]
  },
  {
   "cell_type": "code",
   "execution_count": null,
   "id": "f47ebf60-33f1-4532-9951-16678a89bcef",
   "metadata": {
    "tags": []
   },
   "outputs": [],
   "source": [
    "clf.classes_"
   ]
  },
  {
   "cell_type": "code",
   "execution_count": null,
   "id": "a596837a-2960-400b-b928-a0aca34e2a85",
   "metadata": {},
   "outputs": [],
   "source": []
  },
  {
   "cell_type": "code",
   "execution_count": null,
   "id": "a7b897ec-847a-445f-a4ec-7f926320dd6e",
   "metadata": {
    "scrolled": true,
    "tags": []
   },
   "outputs": [],
   "source": [
    "y_probs_ls = []\n",
    "\n",
    "for i in range(n_zCats):\n",
    "    _y_probs = clf.predict_proba(X=x_embeddings_confound_test_ls[i])\n",
    "    y_probs_ls.append(_y_probs)\n"
   ]
  },
  {
   "cell_type": "code",
   "execution_count": null,
   "id": "aa2d8893-b2c5-4458-a1ad-d5a7bdf72b44",
   "metadata": {},
   "outputs": [],
   "source": [
    "p_z = []\n",
    "\n",
    "for i in z_Categories:\n",
    "    p_z.append(sum(dfs['train']['domain'] == i)/len(dfs['train']))"
   ]
  },
  {
   "cell_type": "code",
   "execution_count": null,
   "id": "d0916bc7-6f17-48a0-8e6e-47cf87c28c19",
   "metadata": {
    "tags": []
   },
   "outputs": [],
   "source": [
    "p_z"
   ]
  },
  {
   "cell_type": "code",
   "execution_count": null,
   "id": "da573d3e-e5b3-47c5-9c31-267e8bddf7ff",
   "metadata": {},
   "outputs": [],
   "source": []
  },
  {
   "cell_type": "code",
   "execution_count": null,
   "id": "a2e71763-47ba-4902-97d8-75154efe95ca",
   "metadata": {
    "tags": []
   },
   "outputs": [],
   "source": [
    "y_probs_confound = np.empty((n_test, n_yCats))\n",
    "y_probs_confound.fill(0)"
   ]
  },
  {
   "cell_type": "code",
   "execution_count": null,
   "id": "0dfe7042-380b-462e-ae39-6527548d27c4",
   "metadata": {
    "tags": []
   },
   "outputs": [],
   "source": [
    "for i in range(n_zCats):\n",
    "    y_probs_confound += y_probs_ls[i] * p_z[i]"
   ]
  },
  {
   "cell_type": "code",
   "execution_count": null,
   "id": "ec30d9ab-bb11-4119-800a-fa81e599e9e6",
   "metadata": {
    "tags": []
   },
   "outputs": [],
   "source": [
    "y_probs_confound = y_probs_ls[0] * p_z[0] + y_probs_ls[1] * p_z[1]"
   ]
  },
  {
   "cell_type": "code",
   "execution_count": null,
   "id": "cb845905-b0ac-41f7-bfd9-0166a8d9d314",
   "metadata": {
    "tags": []
   },
   "outputs": [],
   "source": [
    "metrics.average_precision_score(y_true=y_test, y_score=y_probs_confound[:,1])"
   ]
  },
  {
   "cell_type": "code",
   "execution_count": null,
   "id": "c3a0dbbe-1df5-4e7a-b586-2721d0e45a52",
   "metadata": {},
   "outputs": [],
   "source": []
  },
  {
   "cell_type": "code",
   "execution_count": null,
   "id": "af1dee99-836c-4daa-9509-9fba492e8961",
   "metadata": {},
   "outputs": [],
   "source": []
  },
  {
   "cell_type": "code",
   "execution_count": null,
   "id": "31979090-6777-4672-a143-b34f7e1c04b0",
   "metadata": {},
   "outputs": [],
   "source": []
  },
  {
   "cell_type": "code",
   "execution_count": null,
   "id": "29ef7d54-9596-4118-91ef-934cf3d756c7",
   "metadata": {},
   "outputs": [],
   "source": []
  },
  {
   "cell_type": "code",
   "execution_count": null,
   "id": "f4916502-3a26-463d-ae60-5be02d976d05",
   "metadata": {},
   "outputs": [],
   "source": []
  },
  {
   "cell_type": "markdown",
   "id": "874b0352-c41f-4047-9fae-a839a4a0772b",
   "metadata": {},
   "source": [
    "# Build for multiple runs"
   ]
  },
  {
   "cell_type": "code",
   "execution_count": null,
   "id": "b53eafdc-00bd-4b8e-abae-c29646e3387e",
   "metadata": {},
   "outputs": [],
   "source": []
  },
  {
   "cell_type": "markdown",
   "id": "fdd79e37-d7ca-4ada-bdb8-c071f5a59f61",
   "metadata": {},
   "source": [
    "## WLS/Pitts"
   ]
  },
  {
   "cell_type": "code",
   "execution_count": null,
   "id": "f68f89bd-ab11-421e-8e36-9a61bd9cacd2",
   "metadata": {
    "tags": []
   },
   "outputs": [],
   "source": [
    "df_wls_merge = load_wls_adress_AddDomain(dt='wls')\n",
    "df_adress = load_wls_adress_AddDomain(dt='adress')"
   ]
  },
  {
   "cell_type": "code",
   "execution_count": null,
   "id": "78fcf533-ac12-42fd-b4ab-7c817ffb8d0a",
   "metadata": {},
   "outputs": [],
   "source": []
  },
  {
   "cell_type": "code",
   "execution_count": null,
   "id": "46d0addc-5860-4c3c-a1fb-b0a2f896f772",
   "metadata": {},
   "outputs": [],
   "source": []
  },
  {
   "cell_type": "markdown",
   "id": "0b07d4be-7637-4d26-82a1-b10060f36936",
   "metadata": {},
   "source": [
    "## SHAC"
   ]
  },
  {
   "cell_type": "code",
   "execution_count": null,
   "id": "314d6e5a-927e-4e5a-9808-976444eea3b4",
   "metadata": {
    "tags": []
   },
   "outputs": [],
   "source": []
  },
  {
   "cell_type": "code",
   "execution_count": null,
   "id": "29127fac-da9c-4d02-8f30-36b7fa8dda33",
   "metadata": {
    "tags": []
   },
   "outputs": [],
   "source": [
    "df_shac = load_process_SHAC(replaceNA=\"all\")"
   ]
  },
  {
   "cell_type": "code",
   "execution_count": null,
   "id": "88d71d9c-8a6c-4f2b-9f84-4448c33d0533",
   "metadata": {
    "tags": []
   },
   "outputs": [],
   "source": [
    "df_shac"
   ]
  },
  {
   "cell_type": "code",
   "execution_count": null,
   "id": "b8d2b222-e720-41e7-bc19-62972fc9181c",
   "metadata": {
    "tags": []
   },
   "outputs": [],
   "source": [
    "df_shac_uw = df_shac.query(\"location == 'uw'\").reset_index(drop=True)\n",
    "df_shac_mimic = df_shac.query(\"location == 'mimic'\").reset_index(drop=True)\n"
   ]
  },
  {
   "cell_type": "code",
   "execution_count": null,
   "id": "2f1e6287-dcb7-4561-85af-0751eb288904",
   "metadata": {
    "tags": []
   },
   "outputs": [],
   "source": [
    "df_shac.groupby([\"location\",]).size()"
   ]
  },
  {
   "cell_type": "code",
   "execution_count": null,
   "id": "3f28f66c-1a62-44f6-86ec-6c860047913d",
   "metadata": {
    "tags": []
   },
   "outputs": [],
   "source": [
    "df_shac.groupby([\"location\",\"Drug\"]).size()"
   ]
  },
  {
   "cell_type": "code",
   "execution_count": null,
   "id": "04e9212c-e17f-47ee-922c-38fe2108930d",
   "metadata": {},
   "outputs": [],
   "source": []
  },
  {
   "cell_type": "markdown",
   "id": "514a08b5-b463-47e9-842f-2cbcf1d2a920",
   "metadata": {},
   "source": [
    "## SHAC LLaMa Embeddings - Averaged"
   ]
  },
  {
   "cell_type": "code",
   "execution_count": null,
   "id": "a3bd9048-73a7-480d-b488-5197aeb42a64",
   "metadata": {
    "tags": []
   },
   "outputs": [],
   "source": [
    "with open(\"../output/LLaMaEmbeddings/df_Average_SHAC.pkl\", \"rb\") as f:\n",
    "    df = pickle.load(f)"
   ]
  },
  {
   "cell_type": "code",
   "execution_count": null,
   "id": "dafcd91c-4fdd-4e12-93c5-df14e9184c20",
   "metadata": {},
   "outputs": [],
   "source": [
    "df_shac_llama_average_uw = df.query(\"location == 'uw'\").reset_index(drop=True)\n",
    "df_shac_llama_average_mimic = df.query(\"location == 'mimic'\").reset_index(drop=True)\n"
   ]
  },
  {
   "cell_type": "code",
   "execution_count": null,
   "id": "360f9d45-5236-4bf4-8c46-bcebc9b20145",
   "metadata": {},
   "outputs": [],
   "source": []
  },
  {
   "cell_type": "markdown",
   "id": "2da60849-2436-4408-b90d-f1b531bc2eea",
   "metadata": {},
   "source": [
    "## IMDB Horror vs Family"
   ]
  },
  {
   "cell_type": "code",
   "execution_count": null,
   "id": "bf3cb15b-2590-447f-9dff-9d81e2f7ea49",
   "metadata": {},
   "outputs": [],
   "source": [
    "df_imdb = pd.read_csv(\"../data/aclImdb/horror_family.csv\")"
   ]
  },
  {
   "cell_type": "code",
   "execution_count": null,
   "id": "80542306-e0e2-4d49-8728-d9d5f9d2c7cf",
   "metadata": {},
   "outputs": [],
   "source": [
    "df_imdb"
   ]
  },
  {
   "cell_type": "code",
   "execution_count": null,
   "id": "735d4e32-10ac-4765-8315-d8f5efe64ac6",
   "metadata": {},
   "outputs": [],
   "source": [
    "df_imdb['label_binary'] = df_imdb['label'].map({\"pos\":1,\"neg\":0})"
   ]
  },
  {
   "cell_type": "code",
   "execution_count": null,
   "id": "61a544e0-e4c7-4277-99b1-a10598a153f6",
   "metadata": {
    "tags": []
   },
   "outputs": [],
   "source": [
    "df_imdb_horror = df_imdb.query(\"domain == 'Horror'\").reset_index(drop=True)\n",
    "\n",
    "\n",
    "df_imdb_family = df_imdb.query(\"domain == 'Family'\").reset_index(drop=True)\n"
   ]
  },
  {
   "cell_type": "code",
   "execution_count": null,
   "id": "fc438416-ba7b-4843-9352-1879b7aa0305",
   "metadata": {},
   "outputs": [],
   "source": [
    "print(df_imdb_horror.groupby(\"label\").size())\n",
    "print(df_imdb_family.groupby(\"label\").size())"
   ]
  },
  {
   "cell_type": "code",
   "execution_count": null,
   "id": "8c311844-e8ad-441e-9b31-eddf9f29ea3a",
   "metadata": {
    "tags": []
   },
   "outputs": [],
   "source": [
    "print(df_imdb_horror.groupby(\"label_binary\").size())\n",
    "print(df_imdb_family.groupby(\"label_binary\").size())"
   ]
  },
  {
   "cell_type": "markdown",
   "id": "3dada81c-64cf-490e-bf25-3dd1e0a5fb35",
   "metadata": {},
   "source": [
    "## IMDB Horror vs Documentary"
   ]
  },
  {
   "cell_type": "code",
   "execution_count": null,
   "id": "a1f6696e-14af-4bd0-bfda-dcf60a3bd342",
   "metadata": {
    "tags": []
   },
   "outputs": [],
   "source": [
    "df_imdb = pd.read_csv(\"../data/aclImdb/horror_documentary.csv\")"
   ]
  },
  {
   "cell_type": "code",
   "execution_count": null,
   "id": "14bf59d0-c521-487c-a75c-1dc7e4a22b3c",
   "metadata": {
    "tags": []
   },
   "outputs": [],
   "source": [
    "df_imdb"
   ]
  },
  {
   "cell_type": "code",
   "execution_count": null,
   "id": "1e4bb1e4-09d8-4f34-b7a5-07f455b9e2ca",
   "metadata": {
    "tags": []
   },
   "outputs": [],
   "source": [
    "df_imdb['label_binary'] = df_imdb['label'].map({\"pos\":1,\"neg\":0})"
   ]
  },
  {
   "cell_type": "code",
   "execution_count": null,
   "id": "c80b5f48-6ad6-4ae5-8ea5-d50696d07aa3",
   "metadata": {
    "tags": []
   },
   "outputs": [],
   "source": [
    "df_imdb_horror = df_imdb.query(\"domain == 'Horror'\").reset_index(drop=True)\n",
    "\n",
    "\n",
    "df_imdb_documentary = df_imdb.query(\"domain == 'Documentary'\").reset_index(drop=True)\n"
   ]
  },
  {
   "cell_type": "code",
   "execution_count": null,
   "id": "68a85cbd-cfca-478e-aba9-50a9ed4154a0",
   "metadata": {
    "tags": []
   },
   "outputs": [],
   "source": [
    "print(df_imdb_horror.groupby(\"label\").size())\n",
    "print(df_imdb_documentary.groupby(\"label\").size())"
   ]
  },
  {
   "cell_type": "code",
   "execution_count": null,
   "id": "bf748fa9-762a-4d45-ba07-0b1ce7fdfc99",
   "metadata": {
    "tags": []
   },
   "outputs": [],
   "source": [
    "print(df_imdb_horror.groupby(\"label_binary\").size())\n",
    "print(df_imdb_documentary.groupby(\"label_binary\").size())"
   ]
  },
  {
   "cell_type": "code",
   "execution_count": null,
   "id": "d72d6da3-5f80-4e22-9ac4-70ff17c3ea3f",
   "metadata": {},
   "outputs": [],
   "source": [
    "500/776"
   ]
  },
  {
   "cell_type": "markdown",
   "id": "1c56189f-34f2-4c16-a281-cef3678edb61",
   "metadata": {},
   "source": [
    "## IMDB Horror vs non Horror"
   ]
  },
  {
   "cell_type": "code",
   "execution_count": null,
   "id": "e38044cf-86ec-428f-be16-e19010cc002d",
   "metadata": {
    "tags": []
   },
   "outputs": [],
   "source": [
    "df_imdb = pd.read_csv(\"../data/aclImdb/horror_nonhorror.csv\")"
   ]
  },
  {
   "cell_type": "code",
   "execution_count": null,
   "id": "8b23a6f5-62b1-4278-ae36-38e292d110b3",
   "metadata": {
    "tags": []
   },
   "outputs": [],
   "source": [
    "df_imdb"
   ]
  },
  {
   "cell_type": "code",
   "execution_count": null,
   "id": "e9b2a0cc-70d5-45aa-805c-3e3b348a1a3d",
   "metadata": {
    "tags": []
   },
   "outputs": [],
   "source": [
    "df_imdb['label_binary'] = df_imdb['label'].map({\"pos\":1,\"neg\":0})"
   ]
  },
  {
   "cell_type": "code",
   "execution_count": null,
   "id": "22d1c070-ea5f-4bf0-af0d-38de38bbdb53",
   "metadata": {
    "tags": []
   },
   "outputs": [],
   "source": [
    "df_imdb_horror = df_imdb.query(\"domain == 'Horror'\").reset_index(drop=True)\n",
    "\n",
    "\n",
    "df_imdb_nonhorror = df_imdb.query(\"domain == 'nonHorror'\").reset_index(drop=True)\n"
   ]
  },
  {
   "cell_type": "code",
   "execution_count": null,
   "id": "f5c3d78f-6944-4d96-99b4-8fe963a90de4",
   "metadata": {
    "tags": []
   },
   "outputs": [],
   "source": [
    "print(df_imdb_horror.groupby(\"label\").size())\n",
    "print(df_imdb_nonhorror.groupby(\"label\").size())"
   ]
  },
  {
   "cell_type": "code",
   "execution_count": null,
   "id": "53ca4612-67b9-4f7f-8a41-1a534a6e0316",
   "metadata": {
    "tags": []
   },
   "outputs": [],
   "source": [
    "print(df_imdb_horror.groupby(\"label_binary\").size())\n",
    "print(df_imdb_nonhorror.groupby(\"label_binary\").size())"
   ]
  },
  {
   "cell_type": "code",
   "execution_count": null,
   "id": "e0f99fd7-257b-4933-bd8a-67603bf82552",
   "metadata": {
    "tags": []
   },
   "outputs": [],
   "source": [
    "10/18"
   ]
  },
  {
   "cell_type": "code",
   "execution_count": null,
   "id": "13488a80-cbac-4e25-924e-95a38ece7c1f",
   "metadata": {
    "tags": []
   },
   "outputs": [],
   "source": [
    "# del df_imdb_horror, df_imdb_nonhorror, df_imdb, df_imdb_family, df_imdb_documentary"
   ]
  },
  {
   "cell_type": "code",
   "execution_count": null,
   "id": "fc4467e3-e0e4-4896-acd0-35e4733008f0",
   "metadata": {
    "tags": []
   },
   "outputs": [],
   "source": [
    "valid_full_settings[0]['mix_param_dict']"
   ]
  },
  {
   "cell_type": "code",
   "execution_count": null,
   "id": "d261df57-b992-4e25-bf31-1fb755d99063",
   "metadata": {
    "tags": []
   },
   "outputs": [],
   "source": [
    " \"_\".join([str(x) for x in valid_full_settings[0]['mix_param_dict']])"
   ]
  },
  {
   "cell_type": "code",
   "execution_count": null,
   "id": "dc1d4f83-8b27-46c2-91a9-a517375ba61e",
   "metadata": {
    "tags": []
   },
   "outputs": [],
   "source": [
    "\"_\".join([f\"{k}_{v:.4f}\" for k,v in valid_full_settings[0]['mix_param_dict'].items()])"
   ]
  },
  {
   "cell_type": "code",
   "execution_count": null,
   "id": "7097bfa2-eb02-4202-89e8-39f88ae41d8a",
   "metadata": {},
   "outputs": [],
   "source": []
  },
  {
   "cell_type": "markdown",
   "id": "5e82d7d5-9f6f-42d4-9100-3ced69f10650",
   "metadata": {},
   "source": [
    "## Yelp Seafoof: FL vs PA"
   ]
  },
  {
   "cell_type": "code",
   "execution_count": null,
   "id": "5c2e4e89-2938-41a5-a106-6897987bef1c",
   "metadata": {
    "tags": []
   },
   "outputs": [],
   "source": [
    "df_FL = pd.read_csv(\"/bime-munin/xiruod/data/yelp_dataset/processed/yelp_seafood_FL.csv\")\n",
    "df_PA = pd.read_csv(\"/bime-munin/xiruod/data/yelp_dataset/processed/yelp_seafood_PA.csv\")"
   ]
  },
  {
   "cell_type": "markdown",
   "id": "254b7225-c57c-46c6-9fdd-91e4d97cd12b",
   "metadata": {},
   "source": [
    "## Yelp Mexican: AZ vs MO"
   ]
  },
  {
   "cell_type": "code",
   "execution_count": null,
   "id": "9ee9463a-702a-4bb6-bfee-b6164902ff72",
   "metadata": {
    "tags": []
   },
   "outputs": [],
   "source": [
    "df_AZ = pd.read_csv(\"/bime-munin/xiruod/data/yelp_dataset/processed/yelp_mexican_AZ.csv\")\n",
    "df_MO = pd.read_csv(\"/bime-munin/xiruod/data/yelp_dataset/processed/yelp_mexican_MO.csv\")"
   ]
  },
  {
   "cell_type": "markdown",
   "id": "d9611da1-2b1e-4281-a57c-daa50fa540fa",
   "metadata": {},
   "source": [
    "## Yelp Year: before(and in) 2015 vs after(and in) 2020"
   ]
  },
  {
   "cell_type": "code",
   "execution_count": null,
   "id": "bc4591b1-066b-42b2-83ef-76ccb49e54fa",
   "metadata": {
    "tags": []
   },
   "outputs": [],
   "source": [
    "df_before2015 = pd.read_csv(\"/bime-munin/xiruod/data/yelp_dataset/processed/yelp_year_before2015.csv\")\n",
    "df_after2020 = pd.read_csv(\"/bime-munin/xiruod/data/yelp_dataset/processed/yelp_year_after2020.csv\")"
   ]
  },
  {
   "cell_type": "code",
   "execution_count": null,
   "id": "e5734db0",
   "metadata": {},
   "outputs": [],
   "source": []
  },
  {
   "cell_type": "markdown",
   "id": "daf7eb71",
   "metadata": {},
   "source": [
    "## Hate Speech"
   ]
  },
  {
   "cell_type": "code",
   "execution_count": null,
   "id": "b1df99b9",
   "metadata": {
    "ExecuteTime": {
     "end_time": "2023-08-04T20:47:56.678932Z",
     "start_time": "2023-08-04T20:47:56.673496Z"
    }
   },
   "outputs": [],
   "source": [
    "import pathlib"
   ]
  },
  {
   "cell_type": "code",
   "execution_count": null,
   "id": "3799aac2",
   "metadata": {
    "ExecuteTime": {
     "end_time": "2023-08-04T20:47:57.268019Z",
     "start_time": "2023-08-04T20:47:56.683130Z"
    }
   },
   "outputs": [],
   "source": [
    "df_dynGen = pd.read_csv(\"/bime-munin/xiruod/data/hateSpeech_Bulla2023/Dynamically-Generated-Hate-Speech-Dataset/Dynamically Generated Hate Dataset v0.2.3.csv\",)\n",
    "df_dynGen['label_binary'] = df_dynGen['label'].map({\"hate\":1, \"nothate\":0})"
   ]
  },
  {
   "cell_type": "code",
   "execution_count": null,
   "id": "0703a8a7",
   "metadata": {
    "ExecuteTime": {
     "end_time": "2023-08-04T20:47:57.278006Z",
     "start_time": "2023-08-04T20:47:57.272833Z"
    }
   },
   "outputs": [],
   "source": [
    "df_dynGen[\"dfSource\"] = \"dynGen\""
   ]
  },
  {
   "cell_type": "code",
   "execution_count": null,
   "id": "5d389d65",
   "metadata": {},
   "outputs": [],
   "source": []
  },
  {
   "cell_type": "code",
   "execution_count": null,
   "id": "feb22a1e",
   "metadata": {
    "ExecuteTime": {
     "end_time": "2023-08-04T20:47:57.298219Z",
     "start_time": "2023-08-04T20:47:57.283099Z"
    }
   },
   "outputs": [],
   "source": [
    "df_dynGen['label'].unique()"
   ]
  },
  {
   "cell_type": "code",
   "execution_count": null,
   "id": "538eb2b3",
   "metadata": {
    "ExecuteTime": {
     "end_time": "2023-08-04T20:47:57.307870Z",
     "start_time": "2023-08-04T20:47:57.301189Z"
    }
   },
   "outputs": [],
   "source": [
    "df_dynGen['label_binary'].unique()"
   ]
  },
  {
   "cell_type": "code",
   "execution_count": null,
   "id": "aef6584b",
   "metadata": {},
   "outputs": [],
   "source": []
  },
  {
   "cell_type": "code",
   "execution_count": null,
   "id": "2f06753d-beaf-4b25-8a9a-f62447e5acfc",
   "metadata": {
    "ExecuteTime": {
     "end_time": "2023-08-04T20:48:48.452740Z",
     "start_time": "2023-08-04T20:47:57.310675Z"
    },
    "tags": []
   },
   "outputs": [],
   "source": [
    "ls_allFiles = pathlib.Path(\"/bime-munin/xiruod/data/hateSpeech_Bulla2023/hate-speech-dataset/all_files/\").glob(\"*.txt\")\n",
    "\n",
    "ls_id = []\n",
    "ls_text = []\n",
    "\n",
    "for ifile in ls_allFiles:\n",
    "    ls_id.append(ifile.name.split(\".txt\")[0])\n",
    "    with open(ifile, \"r\") as f:\n",
    "        ls_text.append(f.read())\n",
    "\n",
    "df_wsf_raw = pd.DataFrame({\"file_id\":ls_id, \"text\":ls_text})\n",
    "\n",
    "df_wsf_annotation = pd.read_csv(\"/bime-munin/xiruod/data/hateSpeech_Bulla2023/hate-speech-dataset/annotations_metadata.csv\")\n",
    "\n",
    "df_wsf = df_wsf_raw.merge(df_wsf_annotation, on=\"file_id\", how=\"inner\")"
   ]
  },
  {
   "cell_type": "code",
   "execution_count": null,
   "id": "1a8e3372",
   "metadata": {
    "ExecuteTime": {
     "end_time": "2023-08-04T20:48:48.477013Z",
     "start_time": "2023-08-04T20:48:48.457183Z"
    }
   },
   "outputs": [],
   "source": [
    "df_wsf.head()"
   ]
  },
  {
   "cell_type": "code",
   "execution_count": null,
   "id": "af3a30ad",
   "metadata": {
    "ExecuteTime": {
     "end_time": "2023-08-04T20:48:48.488870Z",
     "start_time": "2023-08-04T20:48:48.481333Z"
    }
   },
   "outputs": [],
   "source": [
    "df_wsf['label'].unique()"
   ]
  },
  {
   "cell_type": "code",
   "execution_count": null,
   "id": "0c55cad1",
   "metadata": {
    "ExecuteTime": {
     "end_time": "2023-08-04T20:48:48.504970Z",
     "start_time": "2023-08-04T20:48:48.491796Z"
    }
   },
   "outputs": [],
   "source": [
    "df_wsf = df_wsf[df_wsf['label'].isin(['hate','noHate'])].reset_index(drop=True)\n",
    "\n",
    "df_wsf['label_binary'] = df_wsf['label'].map({\"hate\":1,\"noHate\":0})"
   ]
  },
  {
   "cell_type": "code",
   "execution_count": null,
   "id": "2f8b06a8",
   "metadata": {
    "ExecuteTime": {
     "end_time": "2023-08-04T20:48:48.514381Z",
     "start_time": "2023-08-04T20:48:48.508154Z"
    }
   },
   "outputs": [],
   "source": [
    "df_wsf['label_binary'].unique()"
   ]
  },
  {
   "cell_type": "code",
   "execution_count": null,
   "id": "f877ec76",
   "metadata": {
    "ExecuteTime": {
     "end_time": "2023-08-04T20:48:48.524435Z",
     "start_time": "2023-08-04T20:48:48.517328Z"
    }
   },
   "outputs": [],
   "source": [
    "df_wsf[\"dfSource\"] = \"wsf\""
   ]
  },
  {
   "cell_type": "code",
   "execution_count": null,
   "id": "c74c0083",
   "metadata": {},
   "outputs": [],
   "source": []
  },
  {
   "cell_type": "code",
   "execution_count": null,
   "id": "591ec19d-9a60-494a-8424-f12e102fce3b",
   "metadata": {},
   "outputs": [],
   "source": []
  },
  {
   "cell_type": "code",
   "execution_count": null,
   "id": "cf82988f-04e8-4357-9560-0d0b1d634772",
   "metadata": {},
   "outputs": [],
   "source": [
    "df_yt = pd.read_csv(\"/bime-munin/xiruod/data/hateSpeech_Bulla2023/HS_YouTube/IMSyPP_EN_YouTube_comments_evaluation_context.csv\")\n"
   ]
  },
  {
   "cell_type": "code",
   "execution_count": null,
   "id": "c8e42ca3",
   "metadata": {},
   "outputs": [],
   "source": [
    "df_yt.groupby(['Type'],  dropna=False).size()"
   ]
  },
  {
   "cell_type": "code",
   "execution_count": null,
   "id": "0146548c-5b97-46b8-a465-879173a5c3c7",
   "metadata": {},
   "outputs": [],
   "source": [
    "df_yt = df_yt.query(\"Type.isin(['0. appropriate', '2. offensive'])\").reset_index(drop=True)\n",
    "\n",
    "df_yt['label_binary'] = df_yt['Type'].map({\"2. offensive\":1, \"0. appropriate\": 0})"
   ]
  },
  {
   "cell_type": "code",
   "execution_count": null,
   "id": "844efd8b-c3e5-4978-ba78-721a249ba603",
   "metadata": {},
   "outputs": [],
   "source": [
    "df_yt.groupby(\"label_binary\", dropna=False).size()"
   ]
  },
  {
   "cell_type": "code",
   "execution_count": null,
   "id": "36d8e305-d5e3-4a29-9d17-aedc89420aea",
   "metadata": {},
   "outputs": [],
   "source": [
    "df_yt = df_yt.rename(columns={\"Text\":\"text\"})"
   ]
  },
  {
   "cell_type": "code",
   "execution_count": null,
   "id": "cdd2c2ba-5a9a-4dfa-957e-57fdc6452ea9",
   "metadata": {},
   "outputs": [],
   "source": []
  },
  {
   "cell_type": "code",
   "execution_count": null,
   "id": "f97593b8-2f33-4591-b619-0e8afad6da4c",
   "metadata": {},
   "outputs": [],
   "source": []
  },
  {
   "cell_type": "code",
   "execution_count": null,
   "id": "fe5be98e-2e3a-4a4e-a1d0-937a5aeae691",
   "metadata": {},
   "outputs": [],
   "source": []
  },
  {
   "cell_type": "markdown",
   "id": "06e3d43f-e856-4792-9b8e-83ff820d1c76",
   "metadata": {},
   "source": [
    "## WILDS"
   ]
  },
  {
   "cell_type": "code",
   "execution_count": null,
   "id": "c88f9447-a3d5-4fd9-97d5-c43c1c1de7f4",
   "metadata": {},
   "outputs": [],
   "source": [
    "from wilds import get_dataset\n",
    "from wilds.common.data_loaders import get_train_loader\n",
    "\n",
    "# Load the full dataset, and download it if necessary\n",
    "dataset = get_dataset(dataset=\"civilcomments\", download=True)\n"
   ]
  },
  {
   "cell_type": "code",
   "execution_count": null,
   "id": "3155cf1e-ec2e-40fd-a905-f77f77b81930",
   "metadata": {},
   "outputs": [],
   "source": [
    "# Get the test set\n",
    "train_data = dataset.get_subset(\"train\")\n",
    "train_loader = get_train_loader(\"standard\", train_data, batch_size=16)\n"
   ]
  },
  {
   "cell_type": "code",
   "execution_count": null,
   "id": "dd868423-a2b5-4c81-af45-0bd4816426b6",
   "metadata": {},
   "outputs": [],
   "source": [
    "dataset.metadata_fields"
   ]
  },
  {
   "cell_type": "code",
   "execution_count": null,
   "id": "8206af68-1102-4d66-8b8b-6f58c2beb1a8",
   "metadata": {},
   "outputs": [],
   "source": [
    "from wilds.common.grouper import CombinatorialGrouper\n",
    "# grouper = CombinatorialGrouper(dataset, dataset.metadata_fields[:8])\n",
    "\n",
    "\n",
    "# z_var = \"christian\"\n",
    "# z_var = \"white\"\n",
    "z_var = \"male\"\n",
    "\n",
    "\n",
    "grouper = CombinatorialGrouper(dataset, [z_var])"
   ]
  },
  {
   "cell_type": "code",
   "execution_count": null,
   "id": "3dab0ec4-9264-4e72-a1d8-8b99b36cbabf",
   "metadata": {},
   "outputs": [],
   "source": []
  },
  {
   "cell_type": "code",
   "execution_count": null,
   "id": "f464a610-6c3c-40ad-ab1b-53eae969c769",
   "metadata": {},
   "outputs": [],
   "source": [
    "x_ls = []\n",
    "y_true_ls = []\n",
    "metadata_ls = []\n",
    "\n",
    "for labeled_batch in train_loader:\n",
    "    x, y_true, metadata = labeled_batch\n",
    "    x_ls.extend(x)\n",
    "    y_true_ls.extend(y_true.numpy())\n",
    "    metadata_ls.append(metadata)"
   ]
  },
  {
   "cell_type": "code",
   "execution_count": null,
   "id": "b1d030b2-6b8a-4d19-8537-8a9f3ae9b18d",
   "metadata": {},
   "outputs": [],
   "source": []
  },
  {
   "cell_type": "code",
   "execution_count": null,
   "id": "3cdbd6bc-1121-4455-bf02-6b27318f95c7",
   "metadata": {},
   "outputs": [],
   "source": [
    "df = pd.DataFrame({\"text\": x_ls, \"y_true\":y_true_ls,})\n",
    "\n",
    "metadata_df = pd.DataFrame(torch.concat(metadata_ls).numpy())\n",
    "metadata_df.columns = dataset.metadata_fields"
   ]
  },
  {
   "cell_type": "code",
   "execution_count": null,
   "id": "50b6eda0-2138-4919-b166-ca11aaa1a1a5",
   "metadata": {},
   "outputs": [],
   "source": [
    "df = pd.concat([df, metadata_df], axis=1)"
   ]
  },
  {
   "cell_type": "code",
   "execution_count": null,
   "id": "f0828c57-ec32-4917-bf32-629c1ad0f948",
   "metadata": {},
   "outputs": [],
   "source": [
    "df"
   ]
  },
  {
   "cell_type": "code",
   "execution_count": null,
   "id": "11cb47ce-ada1-4b15-b6b9-05de73afb757",
   "metadata": {},
   "outputs": [],
   "source": [
    "df.groupby([z_var, \"y_true\"], dropna=False).size()"
   ]
  },
  {
   "cell_type": "code",
   "execution_count": null,
   "id": "f094331d-4dc4-4fc7-8790-e2c148c55cb5",
   "metadata": {},
   "outputs": [],
   "source": [
    "df['Christian'] = np.where(df['christian'] == 1, \"christian\", \"nonchristian\")"
   ]
  },
  {
   "cell_type": "code",
   "execution_count": null,
   "id": "7dc185cd-81f8-4613-90d4-f402532d30da",
   "metadata": {},
   "outputs": [],
   "source": [
    "df_christian = df.query(\"christian == 1\").reset_index(drop=True)\n",
    "df_nonchristian = df.query(\"christian == 0\").reset_index(drop=True)"
   ]
  },
  {
   "cell_type": "code",
   "execution_count": null,
   "id": "8bf826bc-57be-42dc-b5be-c80a93f2ab05",
   "metadata": {},
   "outputs": [],
   "source": [
    "df_christian.shape"
   ]
  },
  {
   "cell_type": "code",
   "execution_count": null,
   "id": "91fa9c1f-fe5b-4f3c-a986-584c449807bd",
   "metadata": {},
   "outputs": [],
   "source": [
    "df_nonchristian.shape"
   ]
  },
  {
   "cell_type": "code",
   "execution_count": null,
   "id": "f760ec7b-0d21-42ee-81f7-785b8ce4b380",
   "metadata": {},
   "outputs": [],
   "source": []
  },
  {
   "cell_type": "code",
   "execution_count": null,
   "id": "60879ad9-5a31-44e4-84f7-b0a4c5eabb2c",
   "metadata": {},
   "outputs": [],
   "source": [
    "df['White'] = np.where(df['white'] == 1, \"white\", \"notwhite\")"
   ]
  },
  {
   "cell_type": "code",
   "execution_count": null,
   "id": "85a17372-0768-4cfd-9f7a-242cf9fae436",
   "metadata": {},
   "outputs": [],
   "source": [
    "df_white = df.query(\"white == 1\").reset_index(drop=True)\n",
    "df_notwhite = df.query(\"white == 0\").reset_index(drop=True)"
   ]
  },
  {
   "cell_type": "code",
   "execution_count": null,
   "id": "5a65c6c6-bdca-460c-a361-683597a50bde",
   "metadata": {},
   "outputs": [],
   "source": [
    "df_white.shape"
   ]
  },
  {
   "cell_type": "code",
   "execution_count": null,
   "id": "15f36faa-0fe6-4969-a30f-a5d1d41e605c",
   "metadata": {},
   "outputs": [],
   "source": [
    "df_notwhite.shape"
   ]
  },
  {
   "cell_type": "code",
   "execution_count": null,
   "id": "54870d94-0757-4aa1-80bd-800b2176a033",
   "metadata": {},
   "outputs": [],
   "source": []
  },
  {
   "cell_type": "code",
   "execution_count": null,
   "id": "07d94c15-7129-496a-ad9b-02968b527018",
   "metadata": {},
   "outputs": [],
   "source": []
  },
  {
   "cell_type": "code",
   "execution_count": null,
   "id": "3eeff9b5-81d7-4b3f-93b5-5602afb68781",
   "metadata": {},
   "outputs": [],
   "source": [
    "df['Male'] = np.where(df['male'] == 1, \"male\", \"notmale\")"
   ]
  },
  {
   "cell_type": "code",
   "execution_count": null,
   "id": "ce1f08f7-493f-4ab6-b4de-d95b600d045e",
   "metadata": {},
   "outputs": [],
   "source": [
    "df_male = df.query(\"male == 1\").reset_index(drop=True)\n",
    "df_notmale = df.query(\"male == 0\").reset_index(drop=True)"
   ]
  },
  {
   "cell_type": "code",
   "execution_count": null,
   "id": "da08bfd2-fc87-4d39-a4a0-6c6b39a97d2b",
   "metadata": {},
   "outputs": [],
   "source": [
    "df_male.shape"
   ]
  },
  {
   "cell_type": "code",
   "execution_count": null,
   "id": "459c14bb-b12a-4cc5-864e-9005c48619d1",
   "metadata": {},
   "outputs": [],
   "source": [
    "df_notmale.shape"
   ]
  },
  {
   "cell_type": "code",
   "execution_count": null,
   "id": "6107f376-68cf-4775-b0ea-4db3b52b4081",
   "metadata": {},
   "outputs": [],
   "source": []
  },
  {
   "cell_type": "markdown",
   "id": "95454e77-e4ea-4c46-b0a6-cb57a2cf4e34",
   "metadata": {
    "tags": []
   },
   "source": [
    "# Split"
   ]
  },
  {
   "cell_type": "code",
   "execution_count": null,
   "id": "4948457b-5f71-48fd-86f7-d521ed1d6c8b",
   "metadata": {
    "tags": []
   },
   "outputs": [],
   "source": [
    "# p_pos_train = p_pos_train_z0 * p_mix_z0 + p_pos_train_z1 * p_mix_z1 = 0.5\n",
    "\n",
    "# p_pos_train = p_pos_test\n",
    "\n"
   ]
  },
  {
   "cell_type": "code",
   "execution_count": null,
   "id": "6d210d43-7774-4e9b-86c0-53e93da3ea02",
   "metadata": {
    "tags": []
   },
   "outputs": [],
   "source": [
    "# SHAC-Drug - full, long experiments\n",
    "n_test = 500\n",
    "train_test_ratio = 4\n",
    "\n",
    "p_pos_train_z0=0.2\n",
    "p_pos_train_z1=0.5\n",
    "\n",
    "valid_full_settings = []\n",
    "for combination in itertools.product([p_pos_train_z0], \n",
    "                                     [p_pos_train_z1], \n",
    "                                     np.arange(0.01, 0.99, 0.01),\n",
    "                                     np.arange(0, 5, 0.01)\n",
    "                                    ):\n",
    "    \n",
    "\n",
    "    number_setting = number_split(p_pos_train_z0=combination[0], \n",
    "                           p_pos_train_z1 = combination[1], \n",
    "                           p_mix_z1 = combination[2], alpha_test = combination[3],\n",
    "                           train_test_ratio = train_test_ratio, \n",
    "                           n_test=n_test,\n",
    "                                  verbose=False\n",
    "                                 )\n",
    "\n",
    "    if (number_setting is not None):\n",
    "        if np.all([number_setting[k] >= 10 for k in list(number_setting.keys())[:-1]]):\n",
    "            valid_full_settings.append(number_setting)\n",
    "    "
   ]
  },
  {
   "cell_type": "code",
   "execution_count": null,
   "id": "5397a069-9045-40bd-84d2-a914fa1e32e2",
   "metadata": {
    "tags": []
   },
   "outputs": [],
   "source": [
    "# SHAC-Drug - for short experiments! n_test = 500 -- AMIA\n",
    "n_test = 500\n",
    "train_test_ratio = 4\n",
    "\n",
    "\n",
    "p_pos_train_z0=0.5\n",
    "p_pos_train_z1=0.2\n",
    "\n",
    "valid_full_settings = []\n",
    "for combination in itertools.product([p_pos_train_z0], \n",
    "                                     [p_pos_train_z1], \n",
    "                                     [0.3,0.5,0.6],\n",
    "                                     np.arange(0, 5, 0.1)\n",
    "                                    ):\n",
    "    \n",
    "\n",
    "    number_setting = number_split(p_pos_train_z0=combination[0], \n",
    "                           p_pos_train_z1 = combination[1], \n",
    "                           p_mix_z1 = combination[2], alpha_test = combination[3],\n",
    "                           train_test_ratio = train_test_ratio, \n",
    "                           n_test=n_test,\n",
    "                                  verbose=False\n",
    "                                 )\n",
    "\n",
    "    if (number_setting is not None):\n",
    "        if np.all([number_setting[k] >= 10 for k in list(number_setting.keys())[:-1]]):\n",
    "            valid_full_settings.append(number_setting)\n",
    "    "
   ]
  },
  {
   "cell_type": "code",
   "execution_count": null,
   "id": "c81e801b-5a32-46a3-beb2-c10a5a2080e1",
   "metadata": {
    "tags": []
   },
   "outputs": [],
   "source": [
    "# SHAC-Drug - for short experiments! n_test = 500 -- test\n",
    "n_test = 500\n",
    "train_test_ratio = 4\n",
    "\n",
    "\n",
    "p_pos_train_z0=0.5\n",
    "p_pos_train_z1=0.2\n",
    "numvals = 1023\n",
    "base = 1.1\n",
    "alpha_test_ls = np.power(base, np.arange(numvals))/np.power(base,numvals//2)\n",
    "\n",
    "\n",
    "valid_full_settings = []\n",
    "for combination in itertools.product([p_pos_train_z0], \n",
    "                                     [p_pos_train_z1], \n",
    "                                     [0.3,0.5,0.6],\n",
    "                                     alpha_test_ls,\n",
    "                                    ):\n",
    "    \n",
    "\n",
    "    number_setting = number_split(p_pos_train_z0=combination[0], \n",
    "                           p_pos_train_z1 = combination[1], \n",
    "                           p_mix_z1 = combination[2], alpha_test = combination[3],\n",
    "                           train_test_ratio = train_test_ratio, \n",
    "                           n_test=n_test,\n",
    "                                  verbose=False\n",
    "                                 )\n",
    "\n",
    "    if (number_setting is not None):\n",
    "        if np.all([number_setting[k] >= 10 for k in list(number_setting.keys())[:-1]]):\n",
    "            valid_full_settings.append(number_setting)\n",
    "    "
   ]
  },
  {
   "cell_type": "code",
   "execution_count": null,
   "id": "22d673ad-931e-4fe4-81b3-ecb383f06a7c",
   "metadata": {
    "tags": []
   },
   "outputs": [],
   "source": [
    "# SHAC-Drug - Balanced Alpha\n",
    "n_test = 500\n",
    "train_test_ratio = 4\n",
    "\n",
    "\n",
    "p_pos_train_z0_ls = np.arange(0, 1, 0.1) # probability of training set examples drawn from site/domain z0 being positive\n",
    "p_pos_train_z1_ls = np.arange(0, 1, 0.1) # probability of test set examples drawn from site/domain z1 being positive\n",
    "\n",
    "\n",
    "p_mix_z1_ls     = [0.1, 0.2, 0.3, 0.4, 0.5, 0.6, 0.7, 0.8, 0.9] # = np.arange(0.1, 0.9, 0.05) \n",
    "\n",
    "# alpha_test_ls = np.arange(0, 10, 0.05)\n",
    "\n",
    "numvals = 1023\n",
    "base = 1.1\n",
    "alpha_test_ls = np.power(base, np.arange(numvals))/np.power(base,numvals//2)\n",
    "\n",
    "\n",
    "valid_full_settings = []\n",
    "for combination in itertools.product(p_pos_train_z0_ls, \n",
    "                                     p_pos_train_z1_ls, \n",
    "                                     p_mix_z1_ls,\n",
    "                                     alpha_test_ls\n",
    "                                    ):\n",
    "    \n",
    "\n",
    "    number_setting = number_split(p_pos_train_z0=combination[0], \n",
    "                           p_pos_train_z1 = combination[1], \n",
    "                           p_mix_z1 = combination[2], alpha_test = combination[3],\n",
    "                           train_test_ratio = train_test_ratio, \n",
    "                           n_test=n_test,\n",
    "                                  verbose=False\n",
    "                                 )\n",
    "\n",
    "    if (number_setting is not None):\n",
    "        if np.all([number_setting[k] >= 10 for k in list(number_setting.keys())[:-1]]):\n",
    "            valid_full_settings.append(number_setting)\n",
    "    \n",
    "    "
   ]
  },
  {
   "cell_type": "code",
   "execution_count": null,
   "id": "d7c29168-9622-46eb-bdd3-23aba84de488",
   "metadata": {
    "tags": []
   },
   "outputs": [],
   "source": [
    "# # imdb setting\n",
    "# n_test = 500\n",
    "# train_test_ratio = 4\n",
    "\n",
    "p_pos_train_z0 = 0.3\n",
    "p_pos_train_z1 = 0.5\n",
    "\n",
    "# valid_full_settings = []\n",
    "# for combination in itertools.product([p_pos_train_z0], \n",
    "#                                      [p_pos_train_z1], \n",
    "#                                      np.arange(0.1, 0.9, 0.05),\n",
    "#                                      np.arange(0, 10, 0.1)\n",
    "#                                     ):\n",
    "    \n",
    "\n",
    "#     number_setting = number_split(p_pos_train_z0=combination[0], \n",
    "#                            p_pos_train_z1 = combination[1], \n",
    "#                            p_mix_z1 = combination[2], alpha_test = combination[3],\n",
    "#                            train_test_ratio = train_test_ratio, \n",
    "#                            n_test=n_test,\n",
    "#                                   verbose=False\n",
    "#                                  )\n",
    "\n",
    "#     if (number_setting is not None):\n",
    "#         if np.all([number_setting[k] >= 10 for k in list(number_setting.keys())[:-1]]):\n",
    "#             valid_full_settings.append(number_setting)\n",
    "    "
   ]
  },
  {
   "cell_type": "code",
   "execution_count": null,
   "id": "07bfd779-9329-40e2-8288-465121814afe",
   "metadata": {
    "tags": []
   },
   "outputs": [],
   "source": [
    "# # yelp seafood PA vs FL setting\n",
    "# n_test = 500\n",
    "# train_test_ratio = 4\n",
    "\n",
    "\n",
    "p_pos_train_z0 = 0.8\n",
    "p_pos_train_z1 = 0.6\n",
    "\n",
    "# valid_full_settings = []\n",
    "# for combination in itertools.product([p_pos_train_z0], \n",
    "#                                      [p_pos_train_z1], \n",
    "#                                      np.arange(0.1, 0.9, 0.05),\n",
    "#                                      np.arange(0, 10, 0.05)\n",
    "#                                     ):\n",
    "    \n",
    "\n",
    "#     number_setting = number_split(p_pos_train_z0=combination[0], \n",
    "#                            p_pos_train_z1 = combination[1], \n",
    "#                            p_mix_z1 = combination[2], alpha_test = combination[3],\n",
    "#                            train_test_ratio = train_test_ratio, \n",
    "#                            n_test=n_test,\n",
    "#                                   verbose=False\n",
    "#                                  )\n",
    "\n",
    "#     if (number_setting is not None):\n",
    "#         if np.all([number_setting[k] >= 10 for k in list(number_setting.keys())[:-1]]):\n",
    "#             valid_full_settings.append(number_setting)\n",
    "    "
   ]
  },
  {
   "cell_type": "code",
   "execution_count": null,
   "id": "95966608-e1bf-4554-8f65-fd757128e8e6",
   "metadata": {
    "tags": []
   },
   "outputs": [],
   "source": [
    "# # yelp mexican AZ vs MO setting\n",
    "# n_test = 500\n",
    "# train_test_ratio = 4\n",
    "\n",
    "p_pos_train_z0 = 0.65\n",
    "p_pos_train_z1 = 0.5\n",
    "\n",
    "\n",
    "# valid_full_settings = []\n",
    "# for combination in itertools.product([p_pos_train_z0], \n",
    "#                                      [p_pos_train_z1], \n",
    "#                                      np.arange(0.1, 0.9, 0.05),\n",
    "#                                      np.arange(0, 10, 0.05)\n",
    "#                                     ):\n",
    "    \n",
    "\n",
    "#     number_setting = number_split(p_pos_train_z0=combination[0], \n",
    "#                            p_pos_train_z1 = combination[1], \n",
    "#                            p_mix_z1 = combination[2], alpha_test = combination[3],\n",
    "#                            train_test_ratio = train_test_ratio, \n",
    "#                            n_test=n_test,\n",
    "#                                   verbose=False\n",
    "#                                  )\n",
    "\n",
    "#     if (number_setting is not None):\n",
    "#         if np.all([number_setting[k] >= 10 for k in list(number_setting.keys())[:-1]]):\n",
    "#             valid_full_settings.append(number_setting)\n",
    "    "
   ]
  },
  {
   "cell_type": "code",
   "execution_count": null,
   "id": "971159f4-840b-4b0b-aa8a-4afa6c83fa58",
   "metadata": {
    "tags": []
   },
   "outputs": [],
   "source": [
    "# # yelp year before 2015 vs after 2020 setting\n",
    "# n_test = 10000\n",
    "# train_test_ratio = 4\n",
    "\n",
    "\n",
    "p_pos_train_z0 = 0.3\n",
    "p_pos_train_z1 = 0.9\n",
    "\n",
    "# valid_full_settings = []\n",
    "# for combination in itertools.product([p_pos_train_z0], \n",
    "#                                      [p_pos_train_z1], \n",
    "#                                      np.arange(0.1, 0.9, 0.1),\n",
    "#                                      np.arange(0, 10, 0.05)\n",
    "#                                     ):\n",
    "    \n",
    "\n",
    "#     number_setting = number_split(p_pos_train_z0=combination[0], \n",
    "#                            p_pos_train_z1 = combination[1], \n",
    "#                            p_mix_z1 = combination[2], alpha_test = combination[3],\n",
    "#                            train_test_ratio = train_test_ratio, \n",
    "#                            n_test=n_test,\n",
    "#                                   verbose=False\n",
    "#                                  )\n",
    "\n",
    "#     if (number_setting is not None):\n",
    "#         if np.all([number_setting[k] >= 10 for k in list(number_setting.keys())[:-1]]):\n",
    "#             valid_full_settings.append(number_setting)\n",
    "    "
   ]
  },
  {
   "cell_type": "code",
   "execution_count": null,
   "id": "87853b2e",
   "metadata": {},
   "outputs": [],
   "source": []
  },
  {
   "cell_type": "code",
   "execution_count": null,
   "id": "65c1112c",
   "metadata": {
    "ExecuteTime": {
     "end_time": "2023-08-04T20:49:08.822778Z",
     "start_time": "2023-08-04T20:49:08.814309Z"
    }
   },
   "outputs": [],
   "source": [
    "df_dynGen.shape"
   ]
  },
  {
   "cell_type": "code",
   "execution_count": null,
   "id": "89e47a59",
   "metadata": {
    "ExecuteTime": {
     "end_time": "2023-08-04T20:49:09.101242Z",
     "start_time": "2023-08-04T20:49:09.092356Z"
    }
   },
   "outputs": [],
   "source": [
    "df_wsf.shape"
   ]
  },
  {
   "cell_type": "code",
   "execution_count": null,
   "id": "5baf0678-abe3-44b7-9613-2d8cfbdd44c9",
   "metadata": {},
   "outputs": [],
   "source": []
  },
  {
   "cell_type": "code",
   "execution_count": null,
   "id": "4fee043c",
   "metadata": {
    "ExecuteTime": {
     "end_time": "2023-08-04T20:49:28.437022Z",
     "start_time": "2023-08-04T20:49:28.166524Z"
    },
    "tags": []
   },
   "outputs": [],
   "source": [
    "# Hate Speech Detection: df_dynGen (0.55) vs df_wsf (0.11)\n",
    "n_test = 1000\n",
    "train_test_ratio = 4\n",
    "\n",
    "\n",
    "p_pos_train_z0_ls = [0.2, 0.4, 0.5, 0.6, 0.8, 0.9] # probability of training set examples drawn from site/domain z0 being positive\n",
    "p_pos_train_z1_ls = [0.2, 0.4, 0.5, 0.6, 0.8, 0.9] # probability of test set examples drawn from site/domain z1 being positive\n",
    "\n",
    "p_mix_z1_ls     = [0.2, 0.4, 0.6, 0.8] # = np.arange(0.1, 0.9, 0.05) \n",
    "\n",
    "# alpha_test_ls = np.arange(0, 10, 0.05)\n",
    "\n",
    "numvals = 1023\n",
    "base = 1.1\n",
    "alpha_test_ls = np.power(base, np.arange(numvals))/np.power(base,numvals//2)\n",
    "\n",
    "\n",
    "valid_full_settings = []\n",
    "for combination in itertools.product(p_pos_train_z0_ls, \n",
    "                                     p_pos_train_z1_ls, \n",
    "                                     p_mix_z1_ls,\n",
    "                                     alpha_test_ls\n",
    "                                    ):\n",
    "    \n",
    "\n",
    "    number_setting = number_split(p_pos_train_z0=combination[0], \n",
    "                           p_pos_train_z1 = combination[1], \n",
    "                           p_mix_z1 = combination[2], alpha_test = combination[3],\n",
    "                           train_test_ratio = train_test_ratio, \n",
    "                           n_test=n_test,\n",
    "                                  verbose=False\n",
    "                                 )\n",
    "\n",
    "    if (number_setting is not None):\n",
    "        if np.all([number_setting[k] >= 10 for k in list(number_setting.keys())[:-1]]):\n",
    "            valid_full_settings.append(number_setting)\n",
    "    "
   ]
  },
  {
   "cell_type": "code",
   "execution_count": null,
   "id": "8e70b451-423b-4cba-b82f-86c5dce616a5",
   "metadata": {
    "ExecuteTime": {
     "end_time": "2023-08-04T20:49:28.437022Z",
     "start_time": "2023-08-04T20:49:28.166524Z"
    },
    "tags": []
   },
   "outputs": [],
   "source": [
    "# WILDS: CivilComments\n",
    "# by Christian: df_christian (0.11) vs df_nonchristian (0.11)\n",
    "# by White: df_white vs df_notwhite\n",
    "# by Male: df_male vs df_notmale\n",
    "\n",
    "n_test = 500\n",
    "train_test_ratio = 4\n",
    "\n",
    "\n",
    "p_pos_train_z0_ls = [0.2, 0.4, 0.5, 0.6, 0.8, 0.9] # probability of training set examples drawn from site/domain z0 being positive\n",
    "p_pos_train_z1_ls = [0.2, 0.4, 0.5, 0.6, 0.8, 0.9] # probability of test set examples drawn from site/domain z1 being positive\n",
    "\n",
    "p_mix_z1_ls     = [0.2, 0.4, 0.6, 0.8] # = np.arange(0.1, 0.9, 0.05) \n",
    "\n",
    "# alpha_test_ls = np.arange(0, 10, 0.05)\n",
    "\n",
    "numvals = 1023\n",
    "base = 1.1\n",
    "alpha_test_ls = np.power(base, np.arange(numvals))/np.power(base,numvals//2)\n",
    "\n",
    "\n",
    "valid_full_settings = []\n",
    "for combination in itertools.product(p_pos_train_z0_ls, \n",
    "                                     p_pos_train_z1_ls, \n",
    "                                     p_mix_z1_ls,\n",
    "                                     alpha_test_ls\n",
    "                                    ):\n",
    "    \n",
    "\n",
    "    number_setting = number_split(p_pos_train_z0=combination[0], \n",
    "                           p_pos_train_z1 = combination[1], \n",
    "                           p_mix_z1 = combination[2], alpha_test = combination[3],\n",
    "                           train_test_ratio = train_test_ratio, \n",
    "                           n_test=n_test,\n",
    "                                  verbose=False\n",
    "                                 )\n",
    "\n",
    "    if (number_setting is not None):\n",
    "        if np.all([number_setting[k] >= 10 for k in list(number_setting.keys())[:-1]]):\n",
    "            valid_full_settings.append(number_setting)\n",
    "    "
   ]
  },
  {
   "cell_type": "code",
   "execution_count": null,
   "id": "1e6f16bc-9686-48fa-83d6-3c36b3c60ba9",
   "metadata": {
    "ExecuteTime": {
     "end_time": "2023-08-04T20:49:30.163672Z",
     "start_time": "2023-08-04T20:49:30.155024Z"
    },
    "tags": []
   },
   "outputs": [],
   "source": [
    "len(valid_full_settings)"
   ]
  },
  {
   "cell_type": "code",
   "execution_count": null,
   "id": "a4fc19d3-de40-4b36-a4ec-412247386029",
   "metadata": {},
   "outputs": [],
   "source": []
  },
  {
   "cell_type": "code",
   "execution_count": null,
   "id": "26406223-0cdb-4710-b56f-5579ea784e96",
   "metadata": {
    "ExecuteTime": {
     "end_time": "2023-07-29T21:24:47.261957Z",
     "start_time": "2023-07-29T21:24:47.253646Z"
    },
    "tags": []
   },
   "outputs": [],
   "source": [
    "test_settings = []\n",
    "for one_setting in valid_full_settings:\n",
    "    # _a = round(one_setting['mix_param_dict']['p_mix_z1'],2) == 0.2\n",
    "    _c = one_setting['mix_param_dict']['alpha_test'] == 5\n",
    "    \n",
    "    if _c:\n",
    "        test_settings.append(one_setting)"
   ]
  },
  {
   "cell_type": "code",
   "execution_count": null,
   "id": "7e9383f6-5883-40a8-8f67-d1e90cdc9ada",
   "metadata": {
    "ExecuteTime": {
     "end_time": "2023-07-29T21:24:48.987398Z",
     "start_time": "2023-07-29T21:24:48.978788Z"
    },
    "tags": []
   },
   "outputs": [],
   "source": [
    "len(test_settings)"
   ]
  },
  {
   "cell_type": "code",
   "execution_count": null,
   "id": "352d0024-bf38-429f-ba49-37428e90cec3",
   "metadata": {
    "ExecuteTime": {
     "end_time": "2023-07-29T21:24:49.377193Z",
     "start_time": "2023-07-29T21:24:49.370313Z"
    },
    "tags": []
   },
   "outputs": [],
   "source": [
    "valid_full_settings[0]"
   ]
  },
  {
   "cell_type": "code",
   "execution_count": null,
   "id": "3d8d713d-0107-4857-8777-810ca4777afd",
   "metadata": {},
   "outputs": [],
   "source": []
  },
  {
   "cell_type": "code",
   "execution_count": 18,
   "id": "1b8aee5e-7805-46c8-8fe8-c89c372ae0f5",
   "metadata": {
    "ExecuteTime": {
     "end_time": "2023-08-04T20:49:33.930657Z",
     "start_time": "2023-08-04T20:49:33.914617Z"
    },
    "execution": {
     "iopub.execute_input": "2023-09-06T18:14:57.312677Z",
     "iopub.status.busy": "2023-09-06T18:14:57.311696Z",
     "iopub.status.idle": "2023-09-06T18:14:57.347461Z",
     "shell.execute_reply": "2023-09-06T18:14:57.346060Z",
     "shell.execute_reply.started": "2023-09-06T18:14:57.312606Z"
    },
    "tags": []
   },
   "outputs": [],
   "source": [
    "tmp_df = pd.DataFrame([st['mix_param_dict'] for st in valid_full_settings])"
   ]
  },
  {
   "cell_type": "code",
   "execution_count": 19,
   "id": "475124c0-5802-4438-a337-72814b461571",
   "metadata": {
    "ExecuteTime": {
     "end_time": "2023-08-04T20:49:34.266343Z",
     "start_time": "2023-08-04T20:49:34.036726Z"
    },
    "execution": {
     "iopub.execute_input": "2023-09-06T18:14:57.603613Z",
     "iopub.status.busy": "2023-09-06T18:14:57.602906Z",
     "iopub.status.idle": "2023-09-06T18:14:57.909210Z",
     "shell.execute_reply": "2023-09-06T18:14:57.907619Z",
     "shell.execute_reply.started": "2023-09-06T18:14:57.603550Z"
    },
    "tags": []
   },
   "outputs": [
    {
     "data": {
      "text/plain": [
       "<AxesSubplot:xlabel='p_pos_test_z0', ylabel='p_pos_test_z1'>"
      ]
     },
     "execution_count": 19,
     "metadata": {},
     "output_type": "execute_result"
    },
    {
     "data": {
      "image/png": "[encoded data removed]",
      "text/plain": [
       "<Figure size 1500x1000 with 1 Axes>"
      ]
     },
     "metadata": {},
     "output_type": "display_data"
    }
   ],
   "source": [
    "plt.figure(figsize=(15,10))\n",
    "sns.scatterplot(x=\"p_pos_test_z0\", y=\"p_pos_test_z1\", data=tmp_df)"
   ]
  },
  {
   "cell_type": "code",
   "execution_count": null,
   "id": "5099b0f3-e504-4087-91bd-f640f008138c",
   "metadata": {},
   "outputs": [],
   "source": []
  },
  {
   "cell_type": "code",
   "execution_count": null,
   "id": "67339610-a125-4912-8e04-98bb3c33caae",
   "metadata": {},
   "outputs": [],
   "source": []
  },
  {
   "cell_type": "code",
   "execution_count": 20,
   "id": "dbe6daad-f278-4bdb-ab89-71f40e6fec3f",
   "metadata": {
    "execution": {
     "iopub.execute_input": "2023-09-06T18:15:18.395827Z",
     "iopub.status.busy": "2023-09-06T18:15:18.395043Z",
     "iopub.status.idle": "2023-09-06T18:18:49.999648Z",
     "shell.execute_reply": "2023-09-06T18:18:49.998076Z",
     "shell.execute_reply.started": "2023-09-06T18:15:18.395760Z"
    }
   },
   "outputs": [
    {
     "name": "stderr",
     "output_type": "stream",
     "text": [
      "100%|██████████████████████████████████████████████████████████████████████████████████████████████████| 4556/4556 [03:31<00:00, 21.53it/s]\n"
     ]
    }
   ],
   "source": [
    "# run for check valid settings\n",
    "\n",
    "import warnings; warnings.simplefilter('ignore')\n",
    "\n",
    "# label='label_binary'\n",
    "# df0 = df_dynGen\n",
    "# df1 = df_wsf\n",
    "\n",
    "# label='Drug'\n",
    "# df0 = df_shac_uw\n",
    "# df1 = df_shac_mimic\n",
    "\n",
    "label='y_true'\n",
    "# df0 = df_christian\n",
    "# df1 = df_nonchristian\n",
    "# df0 = df_white\n",
    "# df1 = df_notwhite\n",
    "df0 = df_male\n",
    "df1 = df_notmale\n",
    "\n",
    "valid_n_full_settings = []\n",
    "\n",
    "for c in tqdm(valid_full_settings):\n",
    "    # for c in test_settings:\n",
    "\n",
    "\n",
    "        c = c.copy()\n",
    "        # create train/test split according to stats\n",
    "        # dfs = create_mix(df0=df_wls_merge, df1=df_adress, target='label', setting= c, sample=False)\n",
    "        # dfs = create_mix(df0=df_shac_uw, df1=df_shac_mimic, target=label, setting= c, sample=False, seed=random.randint(0,1000))\n",
    "        dfs = create_mix(df0=df0, df1=df1, target=label, setting=c, sample=False, \n",
    "                         # seed=random.randint(0,1000),\n",
    "                         seed=222\n",
    "                        )\n",
    "\n",
    "        if dfs is None:\n",
    "            continue\n",
    "        \n",
    "        valid_n_full_settings.append(c)"
   ]
  },
  {
   "cell_type": "code",
   "execution_count": 21,
   "id": "805ef97c-1c2f-40e4-8604-9549f6f2589d",
   "metadata": {
    "execution": {
     "iopub.execute_input": "2023-09-06T18:18:50.893921Z",
     "iopub.status.busy": "2023-09-06T18:18:50.893055Z",
     "iopub.status.idle": "2023-09-06T18:18:50.906357Z",
     "shell.execute_reply": "2023-09-06T18:18:50.905231Z",
     "shell.execute_reply.started": "2023-09-06T18:18:50.893842Z"
    }
   },
   "outputs": [
    {
     "data": {
      "text/plain": [
       "4556"
      ]
     },
     "execution_count": 21,
     "metadata": {},
     "output_type": "execute_result"
    }
   ],
   "source": [
    "len(valid_n_full_settings)"
   ]
  },
  {
   "cell_type": "code",
   "execution_count": 22,
   "id": "da4e5c14-6de9-4f90-8811-a48a64ad46d0",
   "metadata": {
    "ExecuteTime": {
     "end_time": "2023-08-04T20:49:33.930657Z",
     "start_time": "2023-08-04T20:49:33.914617Z"
    },
    "execution": {
     "iopub.execute_input": "2023-09-06T18:18:51.431401Z",
     "iopub.status.busy": "2023-09-06T18:18:51.430651Z",
     "iopub.status.idle": "2023-09-06T18:18:51.460340Z",
     "shell.execute_reply": "2023-09-06T18:18:51.459194Z",
     "shell.execute_reply.started": "2023-09-06T18:18:51.431336Z"
    },
    "tags": []
   },
   "outputs": [],
   "source": [
    "tmp_df = pd.DataFrame([st['mix_param_dict'] for st in valid_n_full_settings])"
   ]
  },
  {
   "cell_type": "code",
   "execution_count": 23,
   "id": "b2851e54-7a26-4f6a-81a6-162c1909b95e",
   "metadata": {
    "ExecuteTime": {
     "end_time": "2023-08-04T20:49:34.266343Z",
     "start_time": "2023-08-04T20:49:34.036726Z"
    },
    "execution": {
     "iopub.execute_input": "2023-09-06T18:18:51.921270Z",
     "iopub.status.busy": "2023-09-06T18:18:51.920595Z",
     "iopub.status.idle": "2023-09-06T18:18:52.215609Z",
     "shell.execute_reply": "2023-09-06T18:18:52.214175Z",
     "shell.execute_reply.started": "2023-09-06T18:18:51.921207Z"
    },
    "tags": []
   },
   "outputs": [
    {
     "data": {
      "text/plain": [
       "<AxesSubplot:xlabel='p_pos_test_z0', ylabel='p_pos_test_z1'>"
      ]
     },
     "execution_count": 23,
     "metadata": {},
     "output_type": "execute_result"
    },
    {
     "data": {
      "image/png": "[encoded data removed]",
      "text/plain": [
       "<Figure size 1500x1000 with 1 Axes>"
      ]
     },
     "metadata": {},
     "output_type": "display_data"
    }
   ],
   "source": [
    "plt.figure(figsize=(15,10))\n",
    "sns.scatterplot(x=\"p_pos_test_z0\", y=\"p_pos_test_z1\", data=tmp_df)"
   ]
  },
  {
   "cell_type": "code",
   "execution_count": null,
   "id": "eb07bb0d-c6a7-41b2-8557-72cf59af57eb",
   "metadata": {},
   "outputs": [],
   "source": []
  },
  {
   "cell_type": "code",
   "execution_count": null,
   "id": "f791ee67-91ba-43c4-b244-65c18f206a24",
   "metadata": {},
   "outputs": [],
   "source": []
  },
  {
   "cell_type": "markdown",
   "id": "e56e3d1a-c1f6-487b-b438-ba09129ab852",
   "metadata": {
    "tags": []
   },
   "source": [
    "# Logistic Regression"
   ]
  },
  {
   "cell_type": "code",
   "execution_count": null,
   "id": "34b7f876-8285-496d-b49f-3ed0d9934177",
   "metadata": {
    "scrolled": true,
    "tags": []
   },
   "outputs": [],
   "source": [
    "# transform = \"Sentence-BERT\"\n",
    "transform = \"binaryUnigram\"\n",
    "\n",
    "\n",
    "model = SentenceTransformer('all-MiniLM-L6-v2')\n",
    "vectorizer = CountVectorizer(binary=True, min_df=1, stop_words='english')\n",
    "\n",
    "# z_Categories = [\"wls\",\"adress\"]\n",
    "# label='label'\n",
    "\n",
    "\n",
    "\n",
    "# z_Categories = [\"uw\", \"mimic\"]  # the order here matters! Should match with df0, df1\n",
    "# label='Drug'\n",
    "# n_zCats = len(z_Categories)\n",
    "# txt_col=\"text\"\n",
    "# domain_col = \"location\"\n",
    "# df0 = df_shac_uw\n",
    "# df1 = df_shac_mimic\n",
    "\n",
    "z_Categories = [\"uw\", \"mimic\"]  # the order here matters! Should match with df0, df1\n",
    "label='Drug'\n",
    "n_zCats = len(z_Categories)\n",
    "txt_col=\"text\"\n",
    "domain_col = \"location\"\n",
    "df0 = df_shac_uw\n",
    "df1 = df_shac_mimic\n",
    "\n",
    "\n",
    "# z_Categories = [\"Horror\",\"Documentary\"]\n",
    "# label='label_binary'\n",
    "# n_zCats = len(z_Categories)\n",
    "# z_Categories = [\"Horror\",\"nonHorror\"]\n",
    "# label='label_binary'\n",
    "# n_zCats = len(z_Categories)\n",
    "\n",
    "# z_Categories = [\"AZ\",\"MO\"]\n",
    "# label='label'\n",
    "# n_zCats = len(z_Categories)\n",
    "# txt_col = \"text\"\n",
    "# domain_col = 'state'\n",
    "# df0 = df_AZ\n",
    "# df1 = df_MO\n",
    "\n",
    "# z_Categories = [\"<=2015\",\">=2020\"]\n",
    "# label='label'\n",
    "# n_zCats = len(z_Categories)\n",
    "# txt_col = \"text\"\n",
    "# domain_col = 'year_cut'\n",
    "# df0 = df_before2015\n",
    "# df1 = df_after2020\n",
    "\n",
    "y_Categories = [0,1]\n",
    "n_yCats = len(y_Categories)\n",
    "\n",
    "# add confounder. v is the scale for confounder\n",
    "v = 100\n",
    "\n",
    "# setting for logistic regression\n",
    "# penalty = \"l1\"\n",
    "# solver = \"liblinear\"\n",
    "# C=1\n",
    "penalty = \"l2\"\n",
    "solver = \"lbfgs\"\n",
    "C = 5\n",
    "\n",
    "\n",
    "random.seed(123)\n",
    "auprc_logistic_confounder = []\n",
    "auprc_logistic_vanilla = []\n",
    "valid_n_full_settings = []\n",
    "\n",
    "for iRun in range(5):\n",
    "    \n",
    "    \n",
    "\n",
    "    _rand = random.randint(0, 2**32 - 1)\n",
    "    print(_rand)\n",
    "    \n",
    "    print(iRun)\n",
    "    for c in tqdm(valid_full_settings):\n",
    "    # for c in test_settings:\n",
    "\n",
    "\n",
    "        c = c.copy()\n",
    "        # create train/test split according to stats\n",
    "        # dfs = create_mix(df0=df_wls_merge, df1=df_adress, target='label', setting= c, sample=False)\n",
    "        # dfs = create_mix(df0=df_shac_uw, df1=df_shac_mimic, target=label, setting= c, sample=False, seed=random.randint(0,1000))\n",
    "        dfs = create_mix(df0=df0, df1=df1, target=label, setting=c, sample=False, \n",
    "                         # seed=random.randint(0,1000),\n",
    "                         seed=_rand\n",
    "                        )\n",
    "\n",
    "        if dfs is None:\n",
    "            continue\n",
    "        c['run'] = iRun\n",
    "        valid_n_full_settings.append(c)\n",
    "        \n",
    "\n",
    "        if transform == \"Sentence-BERT\":\n",
    "            # use Sentence-BERT to encode sentences\n",
    "            x_transform_train = model.encode(dfs['train'][txt_col])\n",
    "            x_transform_test = model.encode(dfs['test'][txt_col])\n",
    "        if transform == \"binaryUnigram\":\n",
    "            x_transform_train = vectorizer.fit_transform(dfs['train'][txt_col]).toarray()\n",
    "            x_transform_test = vectorizer.transform(dfs['test'][txt_col]).toarray()\n",
    "\n",
    "    # tfidf could be tricky...\n",
    "    # https://stats.stackexchange.com/questions/154660/tfidfvectorizer-should-it-be-used-on-train-only-or-traintest\n",
    "    #     elif transform == \"tfidf\":\n",
    "    #         vectorizer = TfidfVectorizer(use_idf = True, ngram_range = (1,1))\n",
    "\n",
    "    #         vectorizer.fit(pd.concat([dfs['train']['text'], dfs['test']['text']]))\n",
    "\n",
    "    #         x_transform_train = vectorizer.transform(dfs['train']['text']).toarray()\n",
    "    #         x_transform_test = vectorizer.transform(dfs['test']['text']).toarray()\n",
    "\n",
    "        y_train = dfs['train'][label]\n",
    "        y_test = dfs['test'][label]\n",
    "\n",
    "        n_test = len(y_test)\n",
    "\n",
    "\n",
    "\n",
    "\n",
    "        confounders_train = pd.get_dummies(pd.Categorical(dfs['train'][domain_col], categories=z_Categories), prefix=\"confounder\") * v\n",
    "        confounders_test = pd.get_dummies(pd.Categorical(dfs['test'][domain_col], categories=z_Categories), prefix=\"confounder\") * v\n",
    "\n",
    "\n",
    "        #####################  Confound: statistical Adjustment\n",
    "        clf  = LogisticRegression(penalty = penalty, C = C, max_iter = 1000, class_weight = None, solver=solver)\n",
    "\n",
    "        # for training set: add confounder as dummy variables\n",
    "        x_embeddings_confound_train = np.concatenate([x_transform_train, confounders_train], axis=1)\n",
    "\n",
    "        # for testing set: construct pseudo-confounders, and then add them as dummy variables into embeddings\n",
    "        x_embeddings_confound_test_ls = []\n",
    "\n",
    "        for i in range(n_zCats):\n",
    "            a = np.empty((n_test, n_zCats))\n",
    "            a.fill(0)\n",
    "            a[:,i] = v\n",
    "            _ = np.concatenate([x_transform_test, a], axis=1)\n",
    "            x_embeddings_confound_test_ls.append(_)\n",
    "\n",
    "\n",
    "        # fit the training data, add confounding dummy variables as predictors\n",
    "        clf.fit(X=x_embeddings_confound_train, y=y_train)\n",
    "\n",
    "        # prediction on testing data: use pseudo-confounders, store predictions for all scenarios of Z\n",
    "        y_probs_ls = []\n",
    "\n",
    "        for i in range(n_zCats):\n",
    "            _y_probs = clf.predict_proba(X=x_embeddings_confound_test_ls[i])\n",
    "            y_probs_ls.append(_y_probs)\n",
    "\n",
    "\n",
    "        # calculate P(Z): NOTE: this may not be useful, because it is pre-defined!!!!\n",
    "        p_z = []\n",
    "\n",
    "        for i in z_Categories:\n",
    "            p_z.append(sum(dfs['train'][domain_col] == i)/len(dfs['train']))\n",
    "\n",
    "\n",
    "        # calculate P(Y|X): sum(P(y|x,z) * P(z))\n",
    "        y_probs_confound = np.empty((n_test, n_yCats))\n",
    "        y_probs_confound.fill(0)\n",
    "\n",
    "        for i in range(n_zCats):\n",
    "            y_probs_confound += y_probs_ls[i] * p_z[i]\n",
    "\n",
    "\n",
    "\n",
    "        auprc_logistic_confounder.append(metrics.average_precision_score(y_true=y_test, y_score=y_probs_confound[:,1]))\n",
    "\n",
    "\n",
    "        #####################  Simple Logistic Regression, WITHOUT confounder\n",
    "        clf_vanilla = LogisticRegression(penalty = penalty, C = C, max_iter = 1000, class_weight = None, solver=solver)\n",
    "\n",
    "        clf_vanilla.fit(X=x_transform_train, y=y_train)\n",
    "\n",
    "\n",
    "        y_probs_vanilla = clf_vanilla.predict_proba(X=x_transform_test)\n",
    "\n",
    "\n",
    "        auprc_logistic_vanilla.append(metrics.average_precision_score(y_true=y_test, y_score=y_probs_vanilla[:,1]))\n",
    "\n",
    "\n",
    "############  Put Results in DataFrame, with extra information (a little redundant)\n",
    "\n",
    "# organize results in DataFrame\n",
    "df_eval = pd.DataFrame({\"auprc_logistic_confounder\":auprc_logistic_confounder, \n",
    "                        \"auprc_logistic_vanilla\": auprc_logistic_vanilla})\n",
    "\n",
    "\n",
    "for k in valid_n_full_settings[0]['mix_param_dict'].keys():\n",
    "    df_eval[k] = [_dict['mix_param_dict'][k] for _dict in valid_n_full_settings]\n",
    "\n",
    "for k in valid_n_full_settings[0].keys():\n",
    "    if k != \"mix_param_dict\":\n",
    "        df_eval[k] = [_dict[k] for _dict in valid_n_full_settings]\n",
    "\n",
    "# save to file\n",
    "with open(f\"../output/regressionSHAC/05_02_{n_test}_{penalty}_C{C}_V{v}.pkl\", \"wb\") as f:\n",
    "    pickle.dump(df_eval, file=f)"
   ]
  },
  {
   "cell_type": "code",
   "execution_count": null,
   "id": "c571bd43-4276-48ab-b1f1-bbcad09bc276",
   "metadata": {
    "tags": []
   },
   "outputs": [],
   "source": [
    "np.stack(df['LLaMaEmbeddings']).shape"
   ]
  },
  {
   "cell_type": "code",
   "execution_count": null,
   "id": "518c22cc-72da-4056-853a-1e43a8005037",
   "metadata": {},
   "outputs": [],
   "source": []
  },
  {
   "cell_type": "markdown",
   "id": "0fd7451a",
   "metadata": {},
   "source": [
    "## Save for AMIA"
   ]
  },
  {
   "cell_type": "code",
   "execution_count": null,
   "id": "ede32676-97e5-4a3b-9d12-c385fe2c756e",
   "metadata": {
    "tags": []
   },
   "outputs": [],
   "source": [
    "#### AMIA 2023 Main\n",
    "\n",
    "\n",
    "import warnings; warnings.simplefilter('ignore')\n",
    "\n",
    "##### Used for AMIA Paper\n",
    "transform = \"Sentence-BERT\"\n",
    "# transform = \"binaryUnigram\"\n",
    "\n",
    "# runs = 5\n",
    "\n",
    "# model = SentenceTransformer('all-MiniLM-L6-v2')\n",
    "# vectorizer = CountVectorizer(binary=True, min_df=1, stop_words='english')\n",
    "\n",
    "# z_Categories = [\"uw\", \"mimic\"]  # the order here matters! Should match with df0, df1\n",
    "# label='Drug'\n",
    "# n_zCats = len(z_Categories)\n",
    "# txt_col=\"text\"\n",
    "# domain_col = \"location\"\n",
    "# df0 = df_shac_uw\n",
    "# df1 = df_shac_mimic\n",
    "\n",
    "\n",
    "##### Update to Address Reviewers' comments for AMIA Paper + ClinicalBERT\n",
    "# transform = \"Clinical-BERT\"\n",
    "\n",
    "runs = 5\n",
    "\n",
    "tokenizer = AutoTokenizer.from_pretrained(\"medicalai/ClinicalBERT\")\n",
    "model = AutoModel.from_pretrained(\"medicalai/ClinicalBERT\")\n",
    "\n",
    "vectorizer = CountVectorizer(binary=True, min_df=1, stop_words='english')\n",
    "\n",
    "z_Categories = [\"uw\", \"mimic\"]  # the order here matters! Should match with df0, df1\n",
    "label='Drug'\n",
    "n_zCats = len(z_Categories)\n",
    "txt_col=\"text\"\n",
    "domain_col = \"location\"\n",
    "df0 = df_shac_uw\n",
    "df1 = df_shac_mimic\n",
    "\n",
    "\n",
    "##### Test for LLaMa\n",
    "# transform = \"LLaMaAverage\"\n",
    "\n",
    "# runs = 5\n",
    "\n",
    "# model = SentenceTransformer('all-MiniLM-L6-v2')\n",
    "# vectorizer = CountVectorizer(binary=True, min_df=1, stop_words='english')\n",
    "\n",
    "# z_Categories = [\"uw\", \"mimic\"]  # the order here matters! Should match with df0, df1\n",
    "# label='Drug'\n",
    "# n_zCats = len(z_Categories)\n",
    "# txt_col=\"LLaMaEmbeddings\"\n",
    "# domain_col = \"location\"\n",
    "# df0 = df_shac_llama_average_uw\n",
    "# df1 = df_shac_llama_average_mimic\n",
    "\n",
    "\n",
    "\n",
    "\n",
    "\n",
    "\n",
    "\n",
    "\n",
    "\n",
    "# z_Categories = [\"mimic\", \"uw\"]  # the order here matters! Should match with df0, df1\n",
    "# label='Drug'\n",
    "# n_zCats = len(z_Categories)\n",
    "# txt_col=\"text\"\n",
    "# domain_col = \"location\"\n",
    "# df0 = df_shac_mimic\n",
    "# df1 = df_shac_uw\n",
    "\n",
    "# z_Categories = [\"Horror\",\"Documentary\"]\n",
    "# label='label_binary'\n",
    "# n_zCats = len(z_Categories)\n",
    "# z_Categories = [\"Horror\",\"nonHorror\"]\n",
    "# label='label_binary'\n",
    "# n_zCats = len(z_Categories)\n",
    "\n",
    "# z_Categories = [\"AZ\",\"MO\"]\n",
    "# label='label'\n",
    "# n_zCats = len(z_Categories)\n",
    "# txt_col = \"text\"\n",
    "# domain_col = 'state'\n",
    "# df0 = df_AZ\n",
    "# df1 = df_MO\n",
    "\n",
    "# z_Categories = [\"<=2015\",\">=2020\"]\n",
    "# label='label'\n",
    "# n_zCats = len(z_Categories)\n",
    "# txt_col = \"text\"\n",
    "# domain_col = 'year_cut'\n",
    "# df0 = df_before2015\n",
    "# df1 = df_after2020\n",
    "\n",
    "y_Categories = [0,1]\n",
    "n_yCats = len(y_Categories)\n",
    "\n",
    "# add confounder. v is the scale for confounder\n",
    "# v = 100\n",
    "\n",
    "# setting for logistic regression\n",
    "# penalty = \"l1\"\n",
    "# solver = \"liblinear\"\n",
    "# C=1\n",
    "penalty = \"l2\"\n",
    "solver = \"lbfgs\"\n",
    "# C = 5\n",
    "\n",
    "\n",
    "random.seed(123)\n",
    "auprc_logistic_confounder = []\n",
    "auprc_logistic_confounder_df0 = []\n",
    "auprc_logistic_confounder_df1 = []\n",
    "\n",
    "auprc_logistic_vanilla = []\n",
    "auprc_logistic_vanilla_df0 = []\n",
    "auprc_logistic_vanilla_df1 = []\n",
    "\n",
    "valid_n_full_settings = []\n",
    "\n",
    "# [[1,10], [1,1],[1,100]]\n",
    "for C, v in [[1,10], [1,1],[1,100]]:\n",
    "    auprc_logistic_confounder = []\n",
    "    auprc_logistic_confounder_df0 = []\n",
    "    auprc_logistic_confounder_df1 = []\n",
    "    precision_confounder = []\n",
    "    recall_confounder = []\n",
    "    f1_confounder = []\n",
    "    precision_confounder_df0 = []\n",
    "    recall_confounder_df0 = []\n",
    "    f1_confounder_df0 = []\n",
    "    precision_confounder_df1 = []\n",
    "    recall_confounder_df1 = []\n",
    "    f1_confounder_df1 = []\n",
    "    \n",
    "    auprc_logistic_vanilla = []\n",
    "    auprc_logistic_vanilla_df0 = []\n",
    "    auprc_logistic_vanilla_df1 = []\n",
    "    precision_vanilla = []\n",
    "    recall_vanilla = []\n",
    "    f1_vanilla = []\n",
    "    precision_vanilla_df0 = []\n",
    "    recall_vanilla_df0 = []\n",
    "    f1_vanilla_df0 = []\n",
    "    precision_vanilla_df1 = []\n",
    "    recall_vanilla_df1 = []\n",
    "    f1_vanilla_df1 = []\n",
    "    \n",
    "    valid_n_full_settings = []\n",
    "\n",
    "\n",
    "    for iRun in range(runs):\n",
    "\n",
    "\n",
    "\n",
    "        _rand = random.randint(0, 2**32 - 1)\n",
    "        print(_rand)\n",
    "\n",
    "        print(iRun)\n",
    "        for c in tqdm(valid_full_settings):\n",
    "        # for c in test_settings:\n",
    "\n",
    "\n",
    "            c = c.copy()\n",
    "            # create train/test split according to stats\n",
    "            # dfs = create_mix(df0=df_wls_merge, df1=df_adress, target='label', setting= c, sample=False)\n",
    "            # dfs = create_mix(df0=df_shac_uw, df1=df_shac_mimic, target=label, setting= c, sample=False, seed=random.randint(0,1000))\n",
    "            dfs = create_mix(df0=df0, df1=df1, target=label, setting=c, sample=False, \n",
    "                             # seed=random.randint(0,1000),\n",
    "                             seed=_rand\n",
    "                            )\n",
    "\n",
    "            if dfs is None:\n",
    "                continue\n",
    "            c['run'] = iRun\n",
    "            valid_n_full_settings.append(c)\n",
    "\n",
    "\n",
    "            if transform == \"Sentence-BERT\":\n",
    "                # use Sentence-BERT to encode sentences\n",
    "                x_transform_train = model.encode(dfs['train'][txt_col])\n",
    "                x_transform_test = model.encode(dfs['test'][txt_col])\n",
    "            if transform == \"binaryUnigram\":\n",
    "                x_transform_train = vectorizer.fit_transform(dfs['train'][txt_col]).toarray()\n",
    "                x_transform_test = vectorizer.transform(dfs['test'][txt_col]).toarray()\n",
    "            if transform == \"LLaMaAverage\":\n",
    "                x_transform_train = np.stack(dfs['train'][txt_col])\n",
    "                x_transform_test = np.stack(dfs['test'][txt_col])\n",
    "            if transform == \"Clinical-BERT\":\n",
    "                x_train_inputs = tokenizer(list(dfs['train'][txt_col]),\n",
    "                                           return_tensors=\"pt\", padding=True, truncation=True, max_length=256)\n",
    "                x_test_inputs = tokenizer(list(dfs['test'][txt_col]),\n",
    "                                           return_tensors=\"pt\", padding=True, truncation=True, max_length=256)\n",
    "                \n",
    "                with torch.no_grad():\n",
    "                    x_train_outputs = model(**x_train_inputs)\n",
    "                    x_test_outputs = model(**x_test_inputs)\n",
    "\n",
    "                x_transform_train = x_train_outputs['last_hidden_state'][:,0,:]\n",
    "                x_transform_test = x_test_outputs['last_hidden_state'][:,0,:]\n",
    "\n",
    "                \n",
    "\n",
    "        # tfidf could be tricky...\n",
    "        # https://stats.stackexchange.com/questions/154660/tfidfvectorizer-should-it-be-used-on-train-only-or-traintest\n",
    "        #     elif transform == \"tfidf\":\n",
    "        #         vectorizer = TfidfVectorizer(use_idf = True, ngram_range = (1,1))\n",
    "\n",
    "        #         vectorizer.fit(pd.concat([dfs['train']['text'], dfs['test']['text']]))\n",
    "\n",
    "        #         x_transform_train = vectorizer.transform(dfs['train']['text']).toarray()\n",
    "        #         x_transform_test = vectorizer.transform(dfs['test']['text']).toarray()\n",
    "\n",
    "            y_train = dfs['train'][label]\n",
    "            y_test = dfs['test'][label]\n",
    "\n",
    "            n_test = len(y_test)\n",
    "\n",
    "            df_test = dfs['test']\n",
    "\n",
    "\n",
    "            confounders_train = pd.get_dummies(pd.Categorical(dfs['train'][domain_col], categories=z_Categories), prefix=\"confounder\") * v\n",
    "            confounders_test = pd.get_dummies(pd.Categorical(dfs['test'][domain_col], categories=z_Categories), prefix=\"confounder\") * v\n",
    "\n",
    "\n",
    "            #####################  Confound: statistical Adjustment\n",
    "            clf  = LogisticRegression(penalty = penalty, C = C, max_iter = 1000, class_weight = None, solver=solver)\n",
    "\n",
    "            # for training set: add confounder as dummy variables\n",
    "            x_embeddings_confound_train = np.concatenate([x_transform_train, confounders_train], axis=1)\n",
    "\n",
    "            # for testing set: construct pseudo-confounders, and then add them as dummy variables into embeddings\n",
    "            x_embeddings_confound_test_ls = []\n",
    "\n",
    "            for i in range(n_zCats):\n",
    "                a = np.empty((n_test, n_zCats))\n",
    "                a.fill(0)\n",
    "                a[:,i] = v\n",
    "                _ = np.concatenate([x_transform_test, a], axis=1)\n",
    "                x_embeddings_confound_test_ls.append(_)\n",
    "\n",
    "\n",
    "            # fit the training data, add confounding dummy variables as predictors\n",
    "            clf.fit(X=x_embeddings_confound_train, y=y_train)\n",
    "\n",
    "            # prediction on testing data: use pseudo-confounders, store predictions for all scenarios of Z\n",
    "            y_probs_ls = []\n",
    "\n",
    "            for i in range(n_zCats):\n",
    "                _y_probs = clf.predict_proba(X=x_embeddings_confound_test_ls[i])\n",
    "                y_probs_ls.append(_y_probs)\n",
    "\n",
    "\n",
    "            # calculate P(Z): NOTE: this may not be useful, because it is pre-defined!!!!\n",
    "            p_z = []\n",
    "\n",
    "            for i in z_Categories:\n",
    "                p_z.append(sum(dfs['train'][domain_col] == i)/len(dfs['train']))\n",
    "\n",
    "\n",
    "            # calculate P(Y|X): sum(P(y|x,z) * P(z))\n",
    "            y_probs_confound = np.empty((n_test, n_yCats))\n",
    "            y_probs_confound.fill(0)\n",
    "\n",
    "            for i in range(n_zCats):\n",
    "                y_probs_confound += y_probs_ls[i] * p_z[i]\n",
    "\n",
    "\n",
    "\n",
    "            auprc_logistic_confounder.append(metrics.average_precision_score(y_true=y_test, y_score=y_probs_confound[:,1]))\n",
    "            auprc_logistic_confounder_df0.append(metrics.average_precision_score(y_true=y_test[df_test[domain_col] == z_Categories[0]], y_score=y_probs_confound[df_test[domain_col] == z_Categories[0],1]))\n",
    "            auprc_logistic_confounder_df1.append(metrics.average_precision_score(y_true=y_test[df_test[domain_col] == z_Categories[1]], y_score=y_probs_confound[df_test[domain_col] == z_Categories[1],1]))\n",
    "            t_confounder = precision_recall_fscore_support(y_true=y_test, y_pred=y_probs_confound[:,1]>0.5, average=\"binary\", pos_label=1)\n",
    "            t_con_df0 = precision_recall_fscore_support(y_true=y_test[df_test[domain_col] == z_Categories[0]], y_pred=y_probs_confound[df_test[domain_col] == z_Categories[0],1]>0.5, average=\"binary\", pos_label=1)\n",
    "            t_con_df1 = precision_recall_fscore_support(y_true=y_test[df_test[domain_col] == z_Categories[1]], y_pred=y_probs_confound[df_test[domain_col] == z_Categories[1],1]>0.5, average=\"binary\", pos_label=1)\n",
    "            precision_confounder.append(t_confounder[0])\n",
    "            recall_confounder.append(t_confounder[1])\n",
    "            f1_confounder.append(t_confounder[2])\n",
    "            precision_confounder_df0.append(t_con_df0[0])\n",
    "            recall_confounder_df0.append(t_con_df0[1])\n",
    "            f1_confounder_df0.append(t_con_df0[2])\n",
    "            precision_confounder_df1.append(t_con_df1[0])\n",
    "            recall_confounder_df1.append(t_con_df1[1])\n",
    "            f1_confounder_df1.append(t_con_df1[2])\n",
    "            \n",
    "            \n",
    "            #####################  Simple Logistic Regression, WITHOUT confounder\n",
    "            clf_vanilla = LogisticRegression(penalty = penalty, C = C, max_iter = 1000, class_weight = None, solver=solver)\n",
    "\n",
    "            clf_vanilla.fit(X=x_transform_train, y=y_train)\n",
    "\n",
    "\n",
    "            y_probs_vanilla = clf_vanilla.predict_proba(X=x_transform_test)\n",
    "\n",
    "\n",
    "            auprc_logistic_vanilla.append(metrics.average_precision_score(y_true=y_test, y_score=y_probs_vanilla[:,1]))\n",
    "            auprc_logistic_vanilla_df0.append(metrics.average_precision_score(y_true=y_test[df_test[domain_col] == z_Categories[0]], y_score=y_probs_vanilla[df_test[domain_col] == z_Categories[0],1]))\n",
    "            auprc_logistic_vanilla_df1.append(metrics.average_precision_score(y_true=y_test[df_test[domain_col] == z_Categories[1]], y_score=y_probs_vanilla[df_test[domain_col] == z_Categories[1],1]))\n",
    "            t_vanilla = precision_recall_fscore_support(y_true=y_test, y_pred=y_probs_vanilla[:,1]>0.5, average=\"binary\", pos_label=1)\n",
    "            t_van_df0 = precision_recall_fscore_support(y_true=y_test[df_test[domain_col] == z_Categories[0]], y_pred=y_probs_vanilla[df_test[domain_col] == z_Categories[0],1]>0.5, average=\"binary\", pos_label=1)\n",
    "            t_van_df1 = precision_recall_fscore_support(y_true=y_test[df_test[domain_col] == z_Categories[1]], y_pred=y_probs_vanilla[df_test[domain_col] == z_Categories[1],1]>0.5, average=\"binary\", pos_label=1)\n",
    "            precision_vanilla.append(t_vanilla[0])\n",
    "            recall_vanilla.append(t_vanilla[1])\n",
    "            f1_vanilla.append(t_vanilla[2])\n",
    "            precision_vanilla_df0.append(t_van_df0[0])\n",
    "            recall_vanilla_df0.append(t_van_df0[1])\n",
    "            f1_vanilla_df0.append(t_van_df0[2])\n",
    "            precision_vanilla_df1.append(t_van_df1[0])\n",
    "            recall_vanilla_df1.append(t_van_df1[1])\n",
    "            f1_vanilla_df1.append(t_van_df1[2])\n",
    "            \n",
    "    ############  Put Results in DataFrame, with extra information (a little redundant)\n",
    "\n",
    "    # organize results in DataFrame\n",
    "    df_eval = pd.DataFrame({\"auprc_logistic_confounder\":auprc_logistic_confounder, \n",
    "                            \"auprc_logistic_vanilla\": auprc_logistic_vanilla,\n",
    "                            \"auprc_logistic_confounder_df0\": auprc_logistic_confounder_df0,\n",
    "                            \"auprc_logistic_confounder_df1\": auprc_logistic_confounder_df1,\n",
    "                            \"precision_confounder\":precision_confounder,\n",
    "                            \"recall_confounder\":recall_confounder,\n",
    "                            \"f1_confounder\":f1_confounder,\n",
    "                            \"precision_confounder_df0\":precision_confounder_df0,\n",
    "                            \"recall_confounder_df0\":recall_confounder_df0,\n",
    "                            \"f1_confounder_df0\":f1_confounder_df0,\n",
    "                            \"precision_confounder_df1\":precision_confounder_df1,\n",
    "                            \"recall_confounder_df1\":recall_confounder_df1,\n",
    "                            \"f1_confounder_df1\":f1_confounder_df1,\n",
    "                            \n",
    "                            \"auprc_logistic_vanilla_df0\": auprc_logistic_vanilla_df0,\n",
    "                            \"auprc_logistic_vanilla_df1\": auprc_logistic_vanilla_df1,\n",
    "                            \"precision_vanilla\":precision_vanilla,\n",
    "                            \"recall_vanilla\":recall_vanilla,\n",
    "                            \"f1_vanilla\":f1_vanilla,\n",
    "                            \"precision_vanilla_df0\":precision_vanilla_df0,\n",
    "                            \"recall_vanilla_df0\":recall_vanilla_df0,\n",
    "                            \"f1_vanilla_df0\":f1_vanilla_df0,\n",
    "                            \"precision_vanilla_df1\":precision_vanilla_df1,\n",
    "                            \"recall_vanilla_df1\":recall_vanilla_df1,\n",
    "                            \"f1_vanilla_df1\":f1_vanilla_df1,\n",
    "                           })\n",
    "\n",
    "\n",
    "    for k in valid_n_full_settings[0]['mix_param_dict'].keys():\n",
    "        df_eval[k] = [_dict['mix_param_dict'][k] for _dict in valid_n_full_settings]\n",
    "\n",
    "    for k in valid_n_full_settings[0].keys():\n",
    "        if k != \"mix_param_dict\":\n",
    "            df_eval[k] = [_dict[k] for _dict in valid_n_full_settings]\n",
    "\n",
    "    # save to file\n",
    "    # outname = f\"../output/regressionInverseSHAC_MIMIC_UW/{transform}_{p_pos_train_z0}_{p_pos_train_z1}_{n_test}_{penalty}_C{C}_V{v}.pkl\"\n",
    "    outname = f\"../output/regressionSHAC/{transform}_{p_pos_train_z0}_{p_pos_train_z1}_{n_test}_{penalty}_C{C}_V{v}.pkl\"\n",
    "\n",
    "    with open(outname, \"wb\") as f:\n",
    "        pickle.dump(df_eval, file=f)"
   ]
  },
  {
   "cell_type": "markdown",
   "id": "66255888",
   "metadata": {},
   "source": [
    "## Experiments"
   ]
  },
  {
   "cell_type": "code",
   "execution_count": null,
   "id": "671df87c",
   "metadata": {
    "ExecuteTime": {
     "start_time": "2023-08-04T20:50:01.870Z"
    },
    "execution": {
     "iopub.execute_input": "2023-09-06T18:20:02.697380Z",
     "iopub.status.busy": "2023-09-06T18:20:02.696559Z"
    },
    "tags": []
   },
   "outputs": [
    {
     "name": "stdout",
     "output_type": "stream",
     "text": [
      "224899942\n",
      "0\n"
     ]
    },
    {
     "name": "stderr",
     "output_type": "stream",
     "text": [
      " 42%|███████████████████████████████████████▍                                                      | 1909/4556 [1:08:30<1:52:44,  2.56s/it]"
     ]
    }
   ],
   "source": [
    "#### Crazy version....\n",
    "\n",
    "import warnings; warnings.simplefilter('ignore')\n",
    "\n",
    "##### Used for AMIA Paper\n",
    "transform = \"Sentence-BERT\"\n",
    "# transform = \"binaryUnigram\"\n",
    "\n",
    "runs = 5\n",
    "\n",
    "model = SentenceTransformer('all-MiniLM-L6-v2')\n",
    "vectorizer = CountVectorizer(binary=True, min_df=1, stop_words='english')\n",
    "\n",
    "\n",
    "### Hate Speech\n",
    "# z_Categories = [\"dynGen\", \"wsf\"]  # the order here matters! Should match with df0, df1\n",
    "# label='label_binary'\n",
    "# n_zCats = len(z_Categories)\n",
    "# txt_col=\"text\"\n",
    "# domain_col = \"dfSource\"\n",
    "# df0 = df_dynGen\n",
    "# df1 = df_wsf\n",
    "# outdir = f\"../output/regressionHateSpeechBalanceAlpha\"\n",
    "\n",
    "### SHAC\n",
    "# z_Categories = [\"uw\", \"mimic\"]  # the order here matters! Should match with df0, df1\n",
    "# label='Drug'\n",
    "# n_zCats = len(z_Categories)\n",
    "# txt_col=\"text\"\n",
    "# domain_col = \"location\"\n",
    "# df0 = df_shac_uw\n",
    "# df1 = df_shac_mimic\n",
    "# outdir = f\"../output/regressionSHACBalanceAlpha\"\n",
    "\n",
    "### CivilComments from WILDS, by christian\n",
    "# z_Categories = [\"christian\", \"nonchristian\"]  # the order here matters! Should match with df0, df1\n",
    "# label='y_true'\n",
    "# n_zCats = len(z_Categories)\n",
    "# txt_col=\"text\"\n",
    "# domain_col = \"Christian\"\n",
    "# df0 = df_christian\n",
    "# df1 = df_nonchristian\n",
    "# outdir = f\"../output/regressionCivilComments_by_Christian\"\n",
    "\n",
    "### CivilComments from WILDS, by White\n",
    "# z_Categories = [\"white\", \"notwhite\"]  # the order here matters! Should match with df0, df1\n",
    "# label='y_true'\n",
    "# n_zCats = len(z_Categories)\n",
    "# txt_col=\"text\"\n",
    "# domain_col = \"White\"\n",
    "# df0 = df_white\n",
    "# df1 = df_notwhite\n",
    "# outdir = f\"../output/regressionCivilComments_by_White\"\n",
    "\n",
    "### CivilComments from WILDS, by Male\n",
    "z_Categories = [\"male\", \"notmale\"]  # the order here matters! Should match with df0, df1\n",
    "label='y_true'\n",
    "n_zCats = len(z_Categories)\n",
    "txt_col=\"text\"\n",
    "domain_col = \"Male\"\n",
    "df0 = df_male\n",
    "df1 = df_notmale\n",
    "outdir = f\"../output/regressionCivilComments_by_Male\"\n",
    "\n",
    "# save to file\n",
    "# outname = f\"../output/regressionInverseSHAC_MIMIC_UW/{transform}_{p_pos_train_z0}_{p_pos_train_z1}_{n_test}_{penalty}_C{C}_V{v}.pkl\"\n",
    "# outname = f\"../output/regressionSHAC/{transform}_{p_pos_train_z0}_{p_pos_train_z1}_{n_test}_{penalty}_C{C}_V{v}.pkl\"\n",
    "\n",
    "os.makedirs(outdir, exist_ok=True)\n",
    "\n",
    "\n",
    "\n",
    "##### Test for LLaMa\n",
    "# transform = \"LLaMaAverage\"\n",
    "\n",
    "# runs = 5\n",
    "\n",
    "# model = SentenceTransformer('all-MiniLM-L6-v2')\n",
    "# vectorizer = CountVectorizer(binary=True, min_df=1, stop_words='english')\n",
    "\n",
    "# z_Categories = [\"uw\", \"mimic\"]  # the order here matters! Should match with df0, df1\n",
    "# label='Drug'\n",
    "# n_zCats = len(z_Categories)\n",
    "# txt_col=\"LLaMaEmbeddings\"\n",
    "# domain_col = \"location\"\n",
    "# df0 = df_shac_llama_average_uw\n",
    "# df1 = df_shac_llama_average_mimic\n",
    "\n",
    "\n",
    "### IMDB\n",
    "# z_Categories = [\"Horror\",\"Documentary\"]\n",
    "# label='label_binary'\n",
    "# n_zCats = len(z_Categories)\n",
    "# z_Categories = [\"Horror\",\"nonHorror\"]\n",
    "# label='label_binary'\n",
    "# n_zCats = len(z_Categories)\n",
    "\n",
    "### Yelp by States, AZ vs MO\n",
    "# z_Categories = [\"AZ\",\"MO\"]\n",
    "# label='label'\n",
    "# n_zCats = len(z_Categories)\n",
    "# txt_col = \"text\"\n",
    "# domain_col = 'state'\n",
    "# df0 = df_AZ\n",
    "# df1 = df_MO\n",
    "\n",
    "### Yelp by Year\n",
    "# z_Categories = [\"<=2015\",\">=2020\"]\n",
    "# label='label'\n",
    "# n_zCats = len(z_Categories)\n",
    "# txt_col = \"text\"\n",
    "# domain_col = 'year_cut'\n",
    "# df0 = df_before2015\n",
    "# df1 = df_after2020\n",
    "\n",
    "y_Categories = [0,1]\n",
    "n_yCats = len(y_Categories)\n",
    "\n",
    "\n",
    "# setting for logistic regression\n",
    "# penalty = \"l1\"\n",
    "# solver = \"liblinear\"\n",
    "penalty = \"l2\"\n",
    "solver = \"lbfgs\"\n",
    "\n",
    "\n",
    "\n",
    "random.seed(123)\n",
    "auprc_logistic_confounder = []\n",
    "auprc_logistic_confounder_df0 = []\n",
    "auprc_logistic_confounder_df1 = []\n",
    "\n",
    "auprc_logistic_vanilla = []\n",
    "auprc_logistic_vanilla_df0 = []\n",
    "auprc_logistic_vanilla_df1 = []\n",
    "\n",
    "valid_n_full_settings = []\n",
    "\n",
    "# [[1,10], [1,1],[1,100]]\n",
    "for C, v in [[1,10], ]:\n",
    "    auprc_logistic_confounder = []\n",
    "    auprc_logistic_confounder_df0 = []\n",
    "    auprc_logistic_confounder_df1 = []\n",
    "    precision_confounder = []\n",
    "    recall_confounder = []\n",
    "    f1_confounder = []\n",
    "    precision_confounder_df0 = []\n",
    "    recall_confounder_df0 = []\n",
    "    f1_confounder_df0 = []\n",
    "    precision_confounder_df1 = []\n",
    "    recall_confounder_df1 = []\n",
    "    f1_confounder_df1 = []\n",
    "    \n",
    "    auprc_logistic_vanilla = []\n",
    "    auprc_logistic_vanilla_df0 = []\n",
    "    auprc_logistic_vanilla_df1 = []\n",
    "    precision_vanilla = []\n",
    "    recall_vanilla = []\n",
    "    f1_vanilla = []\n",
    "    precision_vanilla_df0 = []\n",
    "    recall_vanilla_df0 = []\n",
    "    f1_vanilla_df0 = []\n",
    "    precision_vanilla_df1 = []\n",
    "    recall_vanilla_df1 = []\n",
    "    f1_vanilla_df1 = []\n",
    "    \n",
    "    valid_n_full_settings = []\n",
    "\n",
    "\n",
    "    for iRun in range(runs):\n",
    "\n",
    "\n",
    "\n",
    "        _rand = random.randint(0, 2**32 - 1)\n",
    "        print(_rand)\n",
    "\n",
    "        print(iRun)\n",
    "        for c in tqdm(valid_full_settings):\n",
    "        # for c in test_settings:\n",
    "\n",
    "\n",
    "            c = c.copy()\n",
    "            # create train/test split according to stats\n",
    "            # dfs = create_mix(df0=df_wls_merge, df1=df_adress, target='label', setting= c, sample=False)\n",
    "            # dfs = create_mix(df0=df_shac_uw, df1=df_shac_mimic, target=label, setting= c, sample=False, seed=random.randint(0,1000))\n",
    "            dfs = create_mix(df0=df0, df1=df1, target=label, setting=c, sample=False, \n",
    "                             # seed=random.randint(0,1000),\n",
    "                             seed=_rand\n",
    "                            )\n",
    "\n",
    "            if dfs is None:\n",
    "                continue\n",
    "            c['run'] = iRun\n",
    "            valid_n_full_settings.append(c)\n",
    "\n",
    "\n",
    "            if transform == \"Sentence-BERT\":\n",
    "                # use Sentence-BERT to encode sentences\n",
    "                x_transform_train = model.encode(dfs['train'][txt_col])\n",
    "                x_transform_test = model.encode(dfs['test'][txt_col])\n",
    "            if transform == \"binaryUnigram\":\n",
    "                x_transform_train = vectorizer.fit_transform(dfs['train'][txt_col]).toarray()\n",
    "                x_transform_test = vectorizer.transform(dfs['test'][txt_col]).toarray()\n",
    "            if transform == \"LLaMaAverage\":\n",
    "                x_transform_train = np.stack(dfs['train'][txt_col])\n",
    "                x_transform_test = np.stack(dfs['test'][txt_col])\n",
    "            if transform == \"Clinical-BERT\":\n",
    "                x_train_inputs = tokenizer(list(dfs['train'][txt_col]),\n",
    "                                           return_tensors=\"pt\", padding=True, truncation=True, max_length=256)\n",
    "                x_test_inputs = tokenizer(list(dfs['test'][txt_col]),\n",
    "                                           return_tensors=\"pt\", padding=True, truncation=True, max_length=256)\n",
    "                \n",
    "                with torch.no_grad():\n",
    "                    x_train_outputs = model(**x_train_inputs)\n",
    "                    x_test_outputs = model(**x_test_inputs)\n",
    "\n",
    "                x_transform_train = x_train_outputs['last_hidden_state'][:,0,:]\n",
    "                x_transform_test = x_test_outputs['last_hidden_state'][:,0,:]\n",
    "\n",
    "                \n",
    "\n",
    "        # tfidf could be tricky...\n",
    "        # https://stats.stackexchange.com/questions/154660/tfidfvectorizer-should-it-be-used-on-train-only-or-traintest\n",
    "        #     elif transform == \"tfidf\":\n",
    "        #         vectorizer = TfidfVectorizer(use_idf = True, ngram_range = (1,1))\n",
    "\n",
    "        #         vectorizer.fit(pd.concat([dfs['train']['text'], dfs['test']['text']]))\n",
    "\n",
    "        #         x_transform_train = vectorizer.transform(dfs['train']['text']).toarray()\n",
    "        #         x_transform_test = vectorizer.transform(dfs['test']['text']).toarray()\n",
    "\n",
    "            y_train = dfs['train'][label]\n",
    "            y_test = dfs['test'][label]\n",
    "\n",
    "            n_test = len(y_test)\n",
    "\n",
    "            df_test = dfs['test']\n",
    "\n",
    "\n",
    "            confounders_train = pd.get_dummies(pd.Categorical(dfs['train'][domain_col], categories=z_Categories), prefix=\"confounder\") * v\n",
    "            confounders_test = pd.get_dummies(pd.Categorical(dfs['test'][domain_col], categories=z_Categories), prefix=\"confounder\") * v\n",
    "\n",
    "\n",
    "            #####################  Confound: statistical Adjustment\n",
    "            clf  = LogisticRegression(penalty = penalty, C = C, max_iter = 1000, class_weight = None, solver=solver)\n",
    "\n",
    "            # for training set: add confounder as dummy variables\n",
    "            x_embeddings_confound_train = np.concatenate([x_transform_train, confounders_train], axis=1)\n",
    "\n",
    "            # for testing set: construct pseudo-confounders, and then add them as dummy variables into embeddings\n",
    "            x_embeddings_confound_test_ls = []\n",
    "\n",
    "            for i in range(n_zCats):\n",
    "                a = np.empty((n_test, n_zCats))\n",
    "                a.fill(0)\n",
    "                a[:,i] = v\n",
    "                _ = np.concatenate([x_transform_test, a], axis=1)\n",
    "                x_embeddings_confound_test_ls.append(_)\n",
    "\n",
    "\n",
    "            # fit the training data, add confounding dummy variables as predictors\n",
    "            clf.fit(X=x_embeddings_confound_train, y=y_train)\n",
    "\n",
    "            # prediction on testing data: use pseudo-confounders, store predictions for all scenarios of Z\n",
    "            y_probs_ls = []\n",
    "\n",
    "            for i in range(n_zCats):\n",
    "                _y_probs = clf.predict_proba(X=x_embeddings_confound_test_ls[i])\n",
    "                y_probs_ls.append(_y_probs)\n",
    "\n",
    "\n",
    "            # calculate P(Z): NOTE: this may not be useful, because it is pre-defined!!!!\n",
    "            p_z = []\n",
    "\n",
    "            for i in z_Categories:\n",
    "                p_z.append(sum(dfs['train'][domain_col] == i)/len(dfs['train']))\n",
    "\n",
    "\n",
    "            # calculate P(Y|X): sum(P(y|x,z) * P(z))\n",
    "            y_probs_confound = np.empty((n_test, n_yCats))\n",
    "            y_probs_confound.fill(0)\n",
    "\n",
    "            for i in range(n_zCats):\n",
    "                y_probs_confound += y_probs_ls[i] * p_z[i]\n",
    "\n",
    "\n",
    "\n",
    "            auprc_logistic_confounder.append(metrics.average_precision_score(y_true=y_test, y_score=y_probs_confound[:,1]))\n",
    "            auprc_logistic_confounder_df0.append(metrics.average_precision_score(y_true=y_test[df_test[domain_col] == z_Categories[0]], y_score=y_probs_confound[df_test[domain_col] == z_Categories[0],1]))\n",
    "            auprc_logistic_confounder_df1.append(metrics.average_precision_score(y_true=y_test[df_test[domain_col] == z_Categories[1]], y_score=y_probs_confound[df_test[domain_col] == z_Categories[1],1]))\n",
    "            t_confounder = precision_recall_fscore_support(y_true=y_test, y_pred=y_probs_confound[:,1]>0.5, average=\"binary\", pos_label=1)\n",
    "            t_con_df0 = precision_recall_fscore_support(y_true=y_test[df_test[domain_col] == z_Categories[0]], y_pred=y_probs_confound[df_test[domain_col] == z_Categories[0],1]>0.5, average=\"binary\", pos_label=1)\n",
    "            t_con_df1 = precision_recall_fscore_support(y_true=y_test[df_test[domain_col] == z_Categories[1]], y_pred=y_probs_confound[df_test[domain_col] == z_Categories[1],1]>0.5, average=\"binary\", pos_label=1)\n",
    "            precision_confounder.append(t_confounder[0])\n",
    "            recall_confounder.append(t_confounder[1])\n",
    "            f1_confounder.append(t_confounder[2])\n",
    "            precision_confounder_df0.append(t_con_df0[0])\n",
    "            recall_confounder_df0.append(t_con_df0[1])\n",
    "            f1_confounder_df0.append(t_con_df0[2])\n",
    "            precision_confounder_df1.append(t_con_df1[0])\n",
    "            recall_confounder_df1.append(t_con_df1[1])\n",
    "            f1_confounder_df1.append(t_con_df1[2])\n",
    "            \n",
    "            \n",
    "            #####################  Simple Logistic Regression, WITHOUT confounder\n",
    "            clf_vanilla = LogisticRegression(penalty = penalty, C = C, max_iter = 1000, class_weight = None, solver=solver)\n",
    "\n",
    "            clf_vanilla.fit(X=x_transform_train, y=y_train)\n",
    "\n",
    "\n",
    "            y_probs_vanilla = clf_vanilla.predict_proba(X=x_transform_test)\n",
    "\n",
    "\n",
    "            auprc_logistic_vanilla.append(metrics.average_precision_score(y_true=y_test, y_score=y_probs_vanilla[:,1]))\n",
    "            auprc_logistic_vanilla_df0.append(metrics.average_precision_score(y_true=y_test[df_test[domain_col] == z_Categories[0]], y_score=y_probs_vanilla[df_test[domain_col] == z_Categories[0],1]))\n",
    "            auprc_logistic_vanilla_df1.append(metrics.average_precision_score(y_true=y_test[df_test[domain_col] == z_Categories[1]], y_score=y_probs_vanilla[df_test[domain_col] == z_Categories[1],1]))\n",
    "            t_vanilla = precision_recall_fscore_support(y_true=y_test, y_pred=y_probs_vanilla[:,1]>0.5, average=\"binary\", pos_label=1)\n",
    "            t_van_df0 = precision_recall_fscore_support(y_true=y_test[df_test[domain_col] == z_Categories[0]], y_pred=y_probs_vanilla[df_test[domain_col] == z_Categories[0],1]>0.5, average=\"binary\", pos_label=1)\n",
    "            t_van_df1 = precision_recall_fscore_support(y_true=y_test[df_test[domain_col] == z_Categories[1]], y_pred=y_probs_vanilla[df_test[domain_col] == z_Categories[1],1]>0.5, average=\"binary\", pos_label=1)\n",
    "            precision_vanilla.append(t_vanilla[0])\n",
    "            recall_vanilla.append(t_vanilla[1])\n",
    "            f1_vanilla.append(t_vanilla[2])\n",
    "            precision_vanilla_df0.append(t_van_df0[0])\n",
    "            recall_vanilla_df0.append(t_van_df0[1])\n",
    "            f1_vanilla_df0.append(t_van_df0[2])\n",
    "            precision_vanilla_df1.append(t_van_df1[0])\n",
    "            recall_vanilla_df1.append(t_van_df1[1])\n",
    "            f1_vanilla_df1.append(t_van_df1[2])\n",
    "            \n",
    "    ############  Put Results in DataFrame, with extra information (a little redundant)\n",
    "\n",
    "    # organize results in DataFrame\n",
    "    df_eval = pd.DataFrame({\"auprc_logistic_confounder\":auprc_logistic_confounder, \n",
    "                            \"auprc_logistic_vanilla\": auprc_logistic_vanilla,\n",
    "                            \"auprc_logistic_confounder_df0\": auprc_logistic_confounder_df0,\n",
    "                            \"auprc_logistic_confounder_df1\": auprc_logistic_confounder_df1,\n",
    "                            \"precision_confounder\":precision_confounder,\n",
    "                            \"recall_confounder\":recall_confounder,\n",
    "                            \"f1_confounder\":f1_confounder,\n",
    "                            \"precision_confounder_df0\":precision_confounder_df0,\n",
    "                            \"recall_confounder_df0\":recall_confounder_df0,\n",
    "                            \"f1_confounder_df0\":f1_confounder_df0,\n",
    "                            \"precision_confounder_df1\":precision_confounder_df1,\n",
    "                            \"recall_confounder_df1\":recall_confounder_df1,\n",
    "                            \"f1_confounder_df1\":f1_confounder_df1,\n",
    "                            \n",
    "                            \"auprc_logistic_vanilla_df0\": auprc_logistic_vanilla_df0,\n",
    "                            \"auprc_logistic_vanilla_df1\": auprc_logistic_vanilla_df1,\n",
    "                            \"precision_vanilla\":precision_vanilla,\n",
    "                            \"recall_vanilla\":recall_vanilla,\n",
    "                            \"f1_vanilla\":f1_vanilla,\n",
    "                            \"precision_vanilla_df0\":precision_vanilla_df0,\n",
    "                            \"recall_vanilla_df0\":recall_vanilla_df0,\n",
    "                            \"f1_vanilla_df0\":f1_vanilla_df0,\n",
    "                            \"precision_vanilla_df1\":precision_vanilla_df1,\n",
    "                            \"recall_vanilla_df1\":recall_vanilla_df1,\n",
    "                            \"f1_vanilla_df1\":f1_vanilla_df1,\n",
    "                           })\n",
    "\n",
    "\n",
    "    for k in valid_n_full_settings[0]['mix_param_dict'].keys():\n",
    "        df_eval[k] = [_dict['mix_param_dict'][k] for _dict in valid_n_full_settings]\n",
    "\n",
    "    for k in valid_n_full_settings[0].keys():\n",
    "        if k != \"mix_param_dict\":\n",
    "            df_eval[k] = [_dict[k] for _dict in valid_n_full_settings]\n",
    "\n",
    "    \n",
    "    # outname = f\"{outdir}/{transform}_{p_pos_train_z0}_{p_pos_train_z1}_{n_test}_{penalty}_C{C}_V{v}.pkl\"\n",
    "    outname = f\"{outdir}/{transform}_ntest_{n_test}_{penalty}_C{C}_V{v}.pkl\"\n",
    "\n",
    "    with open(outname, \"wb\") as f:\n",
    "        pickle.dump(df_eval, file=f)"
   ]
  },
  {
   "cell_type": "code",
   "execution_count": null,
   "id": "56e42b2d-43b3-4747-8a9e-d77bb25de708",
   "metadata": {},
   "outputs": [],
   "source": []
  },
  {
   "cell_type": "code",
   "execution_count": null,
   "id": "c43d6501",
   "metadata": {},
   "outputs": [],
   "source": [
    "outname"
   ]
  },
  {
   "cell_type": "code",
   "execution_count": null,
   "id": "d55465bc-f60a-45a0-a6e0-f6a9e9b9fa22",
   "metadata": {},
   "outputs": [],
   "source": [
    "f\"{outdir}/{transform}_ntest_{n_test}_{penalty}_C{C}_V{v}.pkl\"\n"
   ]
  },
  {
   "cell_type": "code",
   "execution_count": null,
   "id": "fc54cd65-5a43-48f8-8cbf-ac18f0f9620e",
   "metadata": {},
   "outputs": [],
   "source": [
    "df_eval['p_pos_train_z0']"
   ]
  },
  {
   "cell_type": "code",
   "execution_count": null,
   "id": "8302eca3-93f6-4984-a410-61ea9ec62294",
   "metadata": {},
   "outputs": [],
   "source": []
  },
  {
   "cell_type": "code",
   "execution_count": null,
   "id": "e5785be7-4de4-4d7f-9957-d8263eb20403",
   "metadata": {},
   "outputs": [],
   "source": []
  },
  {
   "cell_type": "code",
   "execution_count": null,
   "id": "fcc086af-ed83-4a16-997e-0c304cb9d872",
   "metadata": {},
   "outputs": [],
   "source": []
  },
  {
   "cell_type": "code",
   "execution_count": null,
   "id": "5142fd36-bc62-4bbc-9263-198822d1aac4",
   "metadata": {
    "tags": []
   },
   "outputs": [],
   "source": [
    "x_transform_train.shape"
   ]
  },
  {
   "cell_type": "code",
   "execution_count": null,
   "id": "d7ef984d-f4b4-43d8-b0b1-e631855f661f",
   "metadata": {
    "tags": []
   },
   "outputs": [],
   "source": [
    "len(valid_n_full_settings)"
   ]
  },
  {
   "cell_type": "code",
   "execution_count": null,
   "id": "c9a0c5ee-f312-46e3-9d6d-e7c4a01acd9c",
   "metadata": {
    "tags": []
   },
   "outputs": [],
   "source": [
    "df_eval"
   ]
  },
  {
   "cell_type": "code",
   "execution_count": null,
   "id": "b1607ae2-9659-4661-82c3-84d792052190",
   "metadata": {
    "tags": []
   },
   "outputs": [],
   "source": [
    "df_eval['run'].unique()"
   ]
  },
  {
   "cell_type": "code",
   "execution_count": null,
   "id": "e3f497be-c13a-4e84-b61d-9b4a9f914714",
   "metadata": {
    "tags": []
   },
   "outputs": [],
   "source": [
    "df_eval.shape"
   ]
  },
  {
   "cell_type": "code",
   "execution_count": null,
   "id": "617c38ce-92b6-4638-ba8f-81e4e65f2803",
   "metadata": {
    "tags": []
   },
   "outputs": [],
   "source": [
    "p_z"
   ]
  },
  {
   "cell_type": "code",
   "execution_count": null,
   "id": "df0d6a3f-9477-4e93-bc6a-a6ee2b0162f9",
   "metadata": {
    "tags": []
   },
   "outputs": [],
   "source": [
    "df_eval.query(\"(alpha_test == 5)\")"
   ]
  },
  {
   "cell_type": "code",
   "execution_count": null,
   "id": "924c68be-1d11-40a9-a161-ee578c475107",
   "metadata": {},
   "outputs": [],
   "source": []
  },
  {
   "cell_type": "code",
   "execution_count": null,
   "id": "0473e47b-5710-4d63-8ade-89555a9829f1",
   "metadata": {},
   "outputs": [],
   "source": []
  },
  {
   "cell_type": "markdown",
   "id": "1af22c21-07b3-405c-b235-85b5c756d576",
   "metadata": {
    "tags": []
   },
   "source": [
    "## Plot results"
   ]
  },
  {
   "cell_type": "code",
   "execution_count": null,
   "id": "aee7e483-01d7-4b1e-9bfd-bf4b436cd23b",
   "metadata": {
    "tags": []
   },
   "outputs": [],
   "source": [
    "df_eval['alpha_test'].unique()"
   ]
  },
  {
   "cell_type": "code",
   "execution_count": null,
   "id": "c60265b1-dc0d-4b0f-92f0-c4bcdf5615a4",
   "metadata": {
    "tags": []
   },
   "outputs": [],
   "source": [
    "df_eval['p_pos_train_z0'].unique()"
   ]
  },
  {
   "cell_type": "code",
   "execution_count": null,
   "id": "6a69ae3d-a468-406e-afbc-9345f8209db4",
   "metadata": {
    "tags": []
   },
   "outputs": [],
   "source": [
    "df_eval['p_pos_train_z1'].unique()"
   ]
  },
  {
   "cell_type": "code",
   "execution_count": null,
   "id": "18e62dab-8848-42be-ab18-6d7291cb41af",
   "metadata": {
    "tags": []
   },
   "outputs": [],
   "source": [
    "# df = df_eval.query(\"(p_pos_train_z0 == 0.3) & (p_pos_train_z1 == 0.6)\")\n",
    "df = df_eval.copy()"
   ]
  },
  {
   "cell_type": "code",
   "execution_count": null,
   "id": "f35fe2f4-1664-4884-affb-398363214fd0",
   "metadata": {
    "tags": []
   },
   "outputs": [],
   "source": [
    "df['alpha_train'].unique()"
   ]
  },
  {
   "cell_type": "code",
   "execution_count": null,
   "id": "2929597c-d517-435c-8839-011d986e9278",
   "metadata": {
    "tags": []
   },
   "outputs": [],
   "source": [
    "len(df['p_mix_z1'].unique())"
   ]
  },
  {
   "cell_type": "code",
   "execution_count": null,
   "id": "8266f719-45a1-48f2-85eb-06b4601c7bd5",
   "metadata": {
    "tags": []
   },
   "outputs": [],
   "source": [
    "df"
   ]
  },
  {
   "cell_type": "code",
   "execution_count": null,
   "id": "482f6078-5838-4c5c-b611-56f96c4aed65",
   "metadata": {
    "tags": []
   },
   "outputs": [],
   "source": [
    "# df['distance_KL_Test_Train'] = df.apply(lambda x: KL([1-x['p_pos_test_z0'], x['p_pos_test_z0'], 1-x['p_pos_test_z1'], x['p_pos_test_z1']],\n",
    "#                                                            [1-x['p_pos_train_z0'], x['p_pos_train_z0'], 1-x['p_pos_train_z1'], x['p_pos_train_z1']]\n",
    "#                                                           ),\n",
    "#                                               axis=1\n",
    "#                                              )"
   ]
  },
  {
   "cell_type": "code",
   "execution_count": null,
   "id": "db1b4320-73f8-4ee2-9988-a9a33f313e42",
   "metadata": {
    "tags": []
   },
   "outputs": [],
   "source": [
    "df['distance_KL_Train_Test'] = df.apply(lambda x: KL([1-x['p_pos_train_z0'], x['p_pos_train_z0'], 1-x['p_pos_train_z1'], x['p_pos_train_z1']],\n",
    "                                                     [1-x['p_pos_test_z0'], x['p_pos_test_z0'], 1-x['p_pos_test_z1'], x['p_pos_test_z1']],\n",
    "                                                           \n",
    "                                                          ),\n",
    "                                              axis=1\n",
    "                                             )\n",
    "\n",
    "df['distance_KL_Test_Train'] = df.apply(lambda x: KL(\n",
    "                                                     [1-x['p_pos_test_z0'], x['p_pos_test_z0'], 1-x['p_pos_test_z1'], x['p_pos_test_z1']],\n",
    "                                                     [1-x['p_pos_train_z0'], x['p_pos_train_z0'], 1-x['p_pos_train_z1'], x['p_pos_train_z1']],\n",
    "                                                           \n",
    "                                                          ),\n",
    "                                              axis=1\n",
    "                                             )"
   ]
  },
  {
   "cell_type": "code",
   "execution_count": null,
   "id": "06df565d-b1dd-4949-a90c-62ec941c17cd",
   "metadata": {},
   "outputs": [],
   "source": []
  },
  {
   "cell_type": "code",
   "execution_count": null,
   "id": "2376acc7-7764-41cf-8b5f-f77b9ce00ea9",
   "metadata": {
    "tags": []
   },
   "outputs": [],
   "source": [
    "xlabel = \"alpha_test\"\n",
    "\n",
    "p_mix_z1 = df['p_mix_z1'].unique()\n",
    "\n",
    "fig, ax = plt.subplots(math.ceil(len(p_mix_z1)/3),3, figsize=(20,8))\n",
    "ax = ax.ravel()\n",
    "for idx, k in enumerate(p_mix_z1):\n",
    "    _df = df[df['p_mix_z1'] == k].sort_values(\"alpha_test\")\n",
    "    \n",
    "    sns.lineplot(data=_df, x=xlabel, y='auprc_logistic_confounder', ax=ax[idx], label=\"confounder\")\n",
    "    sns.lineplot(data=_df, x=xlabel, y='auprc_logistic_vanilla', ax=ax[idx], label=\"vanilla\")\n",
    "    # ax[idx].plot(_df['alpha_test'], _df['auprc_logistic_confounder'], label=\"confounder\")\n",
    "    # ax[idx].plot(_df['alpha_test'], _df['auprc_logistic_vanilla'], label=\"vanilla\")\n",
    "    \n",
    "    ax[idx].axvline(_df['alpha_train'].unique(), color=\"red\", linestyle=\"--\")\n",
    "    ax[idx].set_title(f\"p_mix_z1 = {round(k,3)}\")\n",
    "    ax[idx].legend()\n",
    "plt.tight_layout()"
   ]
  },
  {
   "cell_type": "code",
   "execution_count": null,
   "id": "10e51c78-6a97-4c4a-ad1a-13454cbdec09",
   "metadata": {
    "tags": []
   },
   "outputs": [],
   "source": [
    "df.columns"
   ]
  },
  {
   "cell_type": "code",
   "execution_count": null,
   "id": "25f7c63a-56a9-48da-a99e-31dcd71575d1",
   "metadata": {
    "tags": []
   },
   "outputs": [],
   "source": [
    "xlabel = \"alpha_test\"\n",
    "\n",
    "p_mix_z1 = df['p_mix_z1'].unique()\n",
    "\n",
    "fig, ax = plt.subplots(math.ceil(len(p_mix_z1)/3),3, figsize=(20,8))\n",
    "ax = ax.ravel()\n",
    "for idx, k in enumerate(p_mix_z1):\n",
    "    _df = df[df['p_mix_z1'] == k].sort_values(\"alpha_test\")\n",
    "    \n",
    "    # sns.lineplot(data=_df, x=xlabel, y='recall_confounder_df0', ax=ax[idx], label=\"confounder-df0\")\n",
    "    g_results=sns.lineplot(data=_df, x=xlabel, y='recall_confounder_df0', ax=ax[idx], label=\"confounder-df1\")\n",
    "    # sns.lineplot(data=_df, x=xlabel, y='recall_vanilla_df0', ax=ax[idx], label=\"vanilla-df0\")\n",
    "    g_results=sns.lineplot(data=_df, x=xlabel, y='recall_vanilla_df0', ax=ax[idx], label=\"vanilla-df1\")\n",
    "    # ax[idx].plot(_df['alpha_test'], _df['auprc_logistic_confounder'], label=\"confounder\")\n",
    "    # ax[idx].plot(_df['alpha_test'], _df['auprc_logistic_vanilla'], label=\"vanilla\")\n",
    "    g_results.set(xscale=\"log\")\n",
    "    \n",
    "    ax[idx].axvline(_df['alpha_train'].unique(), color=\"red\", linestyle=\"--\")\n",
    "    ax[idx].set_title(f\"p_mix_z1 = {round(k,3)}\")\n",
    "    ax[idx].legend()\n",
    "plt.tight_layout()"
   ]
  },
  {
   "cell_type": "code",
   "execution_count": null,
   "id": "88bd98f3-cb17-4721-819d-f59ab9abe7d2",
   "metadata": {},
   "outputs": [],
   "source": []
  },
  {
   "cell_type": "code",
   "execution_count": null,
   "id": "1ff03020-1c0e-4c14-a402-f8eb9d7dc793",
   "metadata": {},
   "outputs": [],
   "source": []
  },
  {
   "cell_type": "code",
   "execution_count": null,
   "id": "32160075-f0c8-45e7-92a0-48940554d159",
   "metadata": {},
   "outputs": [],
   "source": []
  },
  {
   "cell_type": "code",
   "execution_count": null,
   "id": "aaede047-9de1-44ff-a16e-4386741f136a",
   "metadata": {
    "tags": []
   },
   "outputs": [],
   "source": [
    "p_mix_z1 = df['p_mix_z1'].unique()\n",
    "\n",
    "fig, ax = plt.subplots(math.ceil(len(p_mix_z1)/3),3, figsize=(20,20))\n",
    "ax = ax.ravel()\n",
    "for idx, k in enumerate(p_mix_z1):\n",
    "    xlabel = \"distance_KL_Train_Test\"\n",
    "    _df = df[df['p_mix_z1'] == k].sort_values(xlabel)\n",
    "    sns.lineplot(data=_df, x=xlabel, y='auprc_logistic_confounder', ax=ax[idx], label=\"confounder\")\n",
    "    sns.lineplot(data=_df, x=xlabel, y='auprc_logistic_vanilla', ax=ax[idx], label=\"vanilla\")\n",
    "    \n",
    "    ax[idx].set_xlabel(xlabel)\n",
    "    ax[idx].set_ylabel(\"AUPRC\")\n",
    "    # ax[idx].axvline(_df['alpha_train'].unique(), color=\"red\", linestyle=\"--\")\n",
    "    ax[idx].set_title(f\"p_mix_z1 = {round(k,3)}\")\n",
    "    ax[idx].legend()\n",
    "\n",
    "plt.tight_layout()"
   ]
  },
  {
   "cell_type": "code",
   "execution_count": null,
   "id": "31eae1d5-efaa-4f5c-8b35-debd321f0c4d",
   "metadata": {
    "tags": []
   },
   "outputs": [],
   "source": [
    "p_mix_z1 = df['p_mix_z1'].unique()\n",
    "\n",
    "fig, ax = plt.subplots(math.ceil(len(p_mix_z1)/3),3, figsize=(20,20))\n",
    "ax = ax.ravel()\n",
    "for idx, k in enumerate(p_mix_z1):\n",
    "    xlabel = \"distance_KL_Train_Test\"\n",
    "    _df = df[df['p_mix_z1'] == k].sort_values(xlabel)\n",
    "    sns.lineplot(data=_df, x=xlabel, y='auprc_logistic_confounder', ax=ax[idx], label=\"confounder\")\n",
    "    sns.lineplot(data=_df, x=xlabel, y='auprc_logistic_vanilla', ax=ax[idx], label=\"vanilla\")\n",
    "    \n",
    "    ax[idx].set_xlabel(xlabel)\n",
    "    ax[idx].set_ylabel(\"AUPRC\")\n",
    "    # ax[idx].axvline(_df['alpha_train'].unique(), color=\"red\", linestyle=\"--\")\n",
    "    ax[idx].set_title(f\"p_mix_z1 = {round(k,3)}\")\n",
    "    ax[idx].legend()\n",
    "\n",
    "plt.tight_layout()"
   ]
  },
  {
   "cell_type": "code",
   "execution_count": null,
   "id": "91984d3c-cf0e-4ade-a063-c301922304e7",
   "metadata": {
    "tags": []
   },
   "outputs": [],
   "source": [
    "p_mix_z1 = df['p_mix_z1'].unique()\n",
    "\n",
    "fig, ax = plt.subplots(1,1, figsize=(20,10))\n",
    "\n",
    "xlabel = \"distance_KL_Train_Test\"\n",
    "_df = df.sort_values(xlabel)\n",
    "\n",
    "sns.lineplot(data=_df, x=xlabel, y='auprc_logistic_confounder', label=\"confounder\", alpha=0.6)\n",
    "sns.lineplot(data=_df, x=xlabel, y='auprc_logistic_vanilla', label=\"vanilla\", alpha=0.6)\n",
    "\n",
    "# ax.plot(_df[xlabel], _df['auprc_logistic_confounder'], label=\"confounder\", alpha=0.6)\n",
    "# ax.plot(_df[xlabel], _df['auprc_logistic_vanilla'], label=\"vanilla\", alpha=0.6)\n",
    "\n",
    "ax.set_xlabel(xlabel)\n",
    "ax.set_ylabel(\"AUPRC\")\n",
    "# ax[idx].axvline(_df['alpha_train'].unique(), color=\"red\", linestyle=\"--\")\n",
    "ax.legend()\n"
   ]
  },
  {
   "cell_type": "code",
   "execution_count": null,
   "id": "ba3d489e-d851-4aaa-a4b0-3a439907ab27",
   "metadata": {},
   "outputs": [],
   "source": []
  },
  {
   "cell_type": "code",
   "execution_count": null,
   "id": "2748174c-179f-48df-823e-ead1163fb92e",
   "metadata": {},
   "outputs": [],
   "source": []
  },
  {
   "cell_type": "code",
   "execution_count": null,
   "id": "87e67209-cfbb-46e8-a967-ea84c57d092c",
   "metadata": {},
   "outputs": [],
   "source": []
  },
  {
   "cell_type": "code",
   "execution_count": null,
   "id": "7d3ec28e-47eb-444b-9362-72627e941e73",
   "metadata": {},
   "outputs": [],
   "source": []
  },
  {
   "cell_type": "code",
   "execution_count": null,
   "id": "55f0fa9c-a217-4327-8445-0bd9e1eaf42c",
   "metadata": {},
   "outputs": [],
   "source": []
  },
  {
   "cell_type": "code",
   "execution_count": null,
   "id": "10dfa730-1980-4ef1-b8c6-c9585352b6fe",
   "metadata": {
    "tags": []
   },
   "outputs": [],
   "source": [
    "\n",
    "fig, ax = plt.subplots(1,2, figsize=(28,10))\n",
    "xlabel = \"distance_KL_Test_Train\"\n",
    "_df = df.sort_values(xlabel)\n",
    "\n",
    "for idx, k in enumerate([\"auprc_logistic_vanilla\", \"auprc_logistic_confounder\"]):\n",
    "    \n",
    "    im = ax[idx].scatter(_df[\"p_pos_test_z0\"], _df[\"p_pos_test_z1\"], c=_df[k], cmap='Blues')\n",
    "    im.set_clim(0.8,1)\n",
    "    ax[idx].set_xlabel(\"p_pos_test_z0\")\n",
    "    ax[idx].set_ylabel(\"p_pos_test_z1\")\n",
    "    ax[idx].set_title(k)\n",
    "\n",
    "    fig.colorbar(im, ax=ax[idx])"
   ]
  },
  {
   "cell_type": "code",
   "execution_count": null,
   "id": "7b287548-e5db-4806-8c37-f241ac9d92d6",
   "metadata": {
    "tags": []
   },
   "outputs": [],
   "source": [
    "# from matplotlib import cm\n",
    "\n",
    "# fig, ax = plt.subplots(1,1)\n",
    "# xlabel = \"distance_KL_Test_Train\"\n",
    "# _df = df.sort_values(xlabel)\n",
    "\n",
    "\n",
    "# im = ax.scatter(_df[\"p_pos_test_z0\"], _df[\"p_pos_test_z1\"], c=_df[\"auprc_logistic_confounder\"], cmap='Blues')\n",
    "# im.set_clim(0.8,1)\n",
    "# plt.xlabel(\"p_pos_test_z0\")\n",
    "# plt.ylabel(\"p_pos_test_z1\")\n",
    "# plt.title(\"AUPRC of LR with confounder\")\n",
    "\n",
    "# fig.colorbar(im, ax=ax)\n",
    "\n",
    "# from matplotlib import cm\n",
    "\n",
    "# fig, ax = plt.subplots(1,1)\n",
    "# xlabel = \"distance_KL_Test_Train\"\n",
    "# _df = df.sort_values(xlabel)\n",
    "\n",
    "\n",
    "# im = ax.scatter(_df[\"p_pos_test_z0\"], _df[\"p_pos_test_z1\"], c=_df[\"auprc_logistic_vanilla\"], cmap='Blues')\n",
    "# im.set_clim(0.8,1)\n",
    "# plt.title('vanilla LR')\n",
    "# fig.colorbar(im, ax=ax)"
   ]
  },
  {
   "cell_type": "code",
   "execution_count": null,
   "id": "7d440128-b629-40be-a46b-d7f524da5bd0",
   "metadata": {},
   "outputs": [],
   "source": []
  },
  {
   "cell_type": "code",
   "execution_count": null,
   "id": "a20f387c-5ac9-4853-99e7-1d5f8e20c65c",
   "metadata": {},
   "outputs": [],
   "source": []
  },
  {
   "cell_type": "code",
   "execution_count": null,
   "id": "af0d38f5-13a0-4b2b-9207-886ed186ac48",
   "metadata": {},
   "outputs": [],
   "source": [
    "df"
   ]
  },
  {
   "cell_type": "code",
   "execution_count": null,
   "id": "90c572b7-af07-4751-9848-21583dd1fd19",
   "metadata": {},
   "outputs": [],
   "source": []
  },
  {
   "cell_type": "code",
   "execution_count": null,
   "id": "93c71088-6e23-4d5f-b90f-81f8358fefc1",
   "metadata": {},
   "outputs": [],
   "source": []
  },
  {
   "cell_type": "code",
   "execution_count": null,
   "id": "26347183-e370-4d6a-b5e1-0a762c86ef75",
   "metadata": {
    "tags": []
   },
   "outputs": [],
   "source": [
    "df.query(\"0.67 < distance_KL_Test_Train < 0.75\").sort_values(\"distance_KL_Test_Train\")"
   ]
  },
  {
   "cell_type": "markdown",
   "id": "aa091b11-c7c4-464a-8ad7-baf239960f0e",
   "metadata": {},
   "source": [
    "## Check some diagnosis"
   ]
  },
  {
   "cell_type": "code",
   "execution_count": null,
   "id": "04208cda-40b5-41f9-840a-2186d3df7ce5",
   "metadata": {},
   "outputs": [],
   "source": []
  },
  {
   "cell_type": "markdown",
   "id": "13e04d3e-a1ae-4ab9-af9d-37a0a8b5d9bd",
   "metadata": {},
   "source": [
    "### Corr Plot"
   ]
  },
  {
   "cell_type": "code",
   "execution_count": null,
   "id": "409f49b2-e9b3-45c0-92e4-7f10ccc65c4e",
   "metadata": {
    "tags": []
   },
   "outputs": [],
   "source": [
    "plt.figure(figsize=(12,10))\n",
    "sns.heatmap(pd.DataFrame(x_transform_test).iloc[:, :].corr(), vmin=-1, vmax=1)"
   ]
  },
  {
   "cell_type": "markdown",
   "id": "5ae07eb9-d072-4ecd-8877-b08feac5d051",
   "metadata": {},
   "source": [
    "### R2"
   ]
  },
  {
   "cell_type": "code",
   "execution_count": null,
   "id": "bb2a8e65-f395-416a-b44e-62260c4b22e7",
   "metadata": {},
   "outputs": [],
   "source": [
    "from sklearn.metrics import r2_score"
   ]
  },
  {
   "cell_type": "code",
   "execution_count": null,
   "id": "8710c2b1-07f0-40a3-abb5-0b4c6406fd16",
   "metadata": {},
   "outputs": [],
   "source": [
    "r2_score(y_true=y_test, y_pred=y_probs_vanilla[:, 1])"
   ]
  },
  {
   "cell_type": "code",
   "execution_count": null,
   "id": "275cc755-094a-4e7e-a2d2-05df2b53735d",
   "metadata": {
    "tags": []
   },
   "outputs": [],
   "source": [
    "r2_score(y_true=y_test, y_pred=y_probs_confound[:, 1])"
   ]
  },
  {
   "cell_type": "code",
   "execution_count": null,
   "id": "780009d1-d589-497f-b0b6-f2c21aaadbac",
   "metadata": {
    "tags": []
   },
   "outputs": [],
   "source": [
    "def r2AndAdjusted(y_true, y_pred, np):\n",
    "    n = len(y_true)\n",
    "    \n",
    "    r2 = r2_score(y_true=y_true, y_pred=y_pred)\n",
    "    r2_adjusted = 1-(1-r2)*(n-1)/(n-np-1)\n",
    "    \n",
    "    return r2, r2_adjusted\n",
    "    "
   ]
  },
  {
   "cell_type": "code",
   "execution_count": null,
   "id": "e2e4457d-f3b4-4dbd-a37c-80ac6d7624c4",
   "metadata": {
    "tags": []
   },
   "outputs": [],
   "source": [
    "r2AndAdjusted(y_true=y_test, y_pred=y_probs_vanilla[:, 1], np=384)"
   ]
  },
  {
   "cell_type": "code",
   "execution_count": null,
   "id": "fff61946-e8f6-47f5-af17-0c74729d8c18",
   "metadata": {
    "tags": []
   },
   "outputs": [],
   "source": [
    "# auprc_logistic_confounder\n",
    "\n",
    "# auprc_logistic_vanilla"
   ]
  },
  {
   "cell_type": "code",
   "execution_count": null,
   "id": "607d1cf5-d92e-4d17-9010-bf393f8a3f09",
   "metadata": {
    "tags": []
   },
   "outputs": [],
   "source": [
    "x_transform_train.shape"
   ]
  },
  {
   "cell_type": "code",
   "execution_count": null,
   "id": "7763538b-c6f1-4fc9-b70e-aea3d793d84c",
   "metadata": {},
   "outputs": [],
   "source": []
  },
  {
   "cell_type": "code",
   "execution_count": null,
   "id": "b13386b6-abd8-46af-88fe-cb201bcfedf1",
   "metadata": {},
   "outputs": [],
   "source": []
  },
  {
   "cell_type": "markdown",
   "id": "1095fb23-8c4e-4d65-aeeb-28290f94c842",
   "metadata": {},
   "source": [
    "### Deviance Residuals"
   ]
  },
  {
   "cell_type": "code",
   "execution_count": null,
   "id": "577b8d25-a5bd-4bcb-9e28-a0814d17c094",
   "metadata": {
    "tags": []
   },
   "outputs": [],
   "source": [
    "def deviance(X, y, model):\n",
    "    return 2*metrics.log_loss(y, model.predict_proba(X), normalize=False)"
   ]
  },
  {
   "cell_type": "code",
   "execution_count": null,
   "id": "3bb93927-27c6-4133-9def-e3b90a2a373f",
   "metadata": {
    "tags": []
   },
   "outputs": [],
   "source": [
    "deviance(X=x_transform_test, y=y_test, model=clf_vanilla)"
   ]
  },
  {
   "cell_type": "code",
   "execution_count": null,
   "id": "dc42e8a1-d549-4cfb-84dc-7a6902ce94e2",
   "metadata": {},
   "outputs": [],
   "source": []
  },
  {
   "cell_type": "code",
   "execution_count": null,
   "id": "30f6aa60-7cee-42fd-bf4c-61854f729346",
   "metadata": {},
   "outputs": [],
   "source": []
  },
  {
   "cell_type": "code",
   "execution_count": null,
   "id": "9ceb57b0-97ed-4c9f-9ece-8be4a4c46acc",
   "metadata": {},
   "outputs": [],
   "source": []
  },
  {
   "cell_type": "code",
   "execution_count": null,
   "id": "a80aa31e-b5a0-42ea-9877-ecdf802f97ba",
   "metadata": {},
   "outputs": [],
   "source": []
  },
  {
   "cell_type": "markdown",
   "id": "bbb541c6-b53d-4e1b-be85-a15fcd9e46fb",
   "metadata": {},
   "source": [
    "### Calibration"
   ]
  },
  {
   "cell_type": "code",
   "execution_count": null,
   "id": "4f752c85-6989-42ab-9ae0-af011494dcd4",
   "metadata": {
    "tags": []
   },
   "outputs": [],
   "source": [
    "from sklearn.calibration import calibration_curve\n"
   ]
  },
  {
   "cell_type": "code",
   "execution_count": null,
   "id": "c2b54806-5c23-486b-9477-07510170b25e",
   "metadata": {},
   "outputs": [],
   "source": [
    "prob_true_vanilla, prob_pred_vanilla = calibration_curve(y_true=y_test, y_prob=y_probs_vanilla[:,1], n_bins=10)\n",
    "prob_true_confound, prob_pred_confound = calibration_curve(y_true=y_test, y_prob=y_probs_confound[:,1], n_bins=10)\n"
   ]
  },
  {
   "cell_type": "code",
   "execution_count": null,
   "id": "becef30d-93d4-4648-b892-d00370da644f",
   "metadata": {
    "tags": []
   },
   "outputs": [],
   "source": [
    "fig, ax = plt.subplots(1,1,figsize=(8,8))\n",
    "ax.plot(prob_pred_vanilla, prob_true_vanilla, label='vanilla')\n",
    "ax.plot(prob_pred_confound, prob_true_confound, label='confound')\n",
    "\n",
    "ax.plot([0,1],[0,1], \"--\", color='gray')\n",
    "ax.legend()\n"
   ]
  },
  {
   "cell_type": "code",
   "execution_count": null,
   "id": "06d0a2df-8d33-49d5-8514-27075f7e2bed",
   "metadata": {},
   "outputs": [],
   "source": []
  },
  {
   "cell_type": "code",
   "execution_count": null,
   "id": "d4783352-3b42-43c1-bf48-e5fbd0b120b2",
   "metadata": {
    "tags": []
   },
   "outputs": [],
   "source": [
    "prob_true_vanilla_df0, prob_pred_vanilla_df0 = calibration_curve(y_true=y_test[df_test[domain_col] == z_Categories[0]], y_prob=y_probs_vanilla[df_test[domain_col] == z_Categories[0],1], n_bins=10)\n",
    "prob_true_vanilla_df1, prob_pred_vanilla_df1 = calibration_curve(y_true=y_test[df_test[domain_col] == z_Categories[1]], y_prob=y_probs_vanilla[df_test[domain_col] == z_Categories[1],1], n_bins=10)\n",
    "\n",
    "prob_true_confound_df0, prob_pred_confound_df0 = calibration_curve(y_true=y_test[df_test[domain_col] == z_Categories[0]], y_prob=y_probs_confound[df_test[domain_col] == z_Categories[0],1], n_bins=10)\n",
    "prob_true_confound_df1, prob_pred_confound_df1 = calibration_curve(y_true=y_test[df_test[domain_col] == z_Categories[1]], y_prob=y_probs_confound[df_test[domain_col] == z_Categories[1],1], n_bins=10)\n",
    "\n"
   ]
  },
  {
   "cell_type": "code",
   "execution_count": null,
   "id": "786456e3-03cc-4604-b52d-9ad4b66fb8d0",
   "metadata": {
    "tags": []
   },
   "outputs": [],
   "source": [
    "fig, ax = plt.subplots(1,1,figsize=(8,8))\n",
    "ax.plot(prob_pred_vanilla_df0, prob_true_vanilla_df0, label='vanilla-df0')\n",
    "ax.plot(prob_pred_vanilla_df1, prob_true_vanilla_df1, label='vanilla-df1')\n",
    "\n",
    "ax.plot(prob_pred_confound_df0, prob_true_confound_df0, label='confound-df0')\n",
    "ax.plot(prob_pred_confound_df1, prob_true_confound_df1, label='confound-df1')\n",
    "\n",
    "ax.plot([0,1],[0,1], \"--\", color='gray')\n",
    "ax.legend()\n"
   ]
  },
  {
   "cell_type": "code",
   "execution_count": null,
   "id": "13eab32d-b65a-4a8b-aa43-c8e47f72f5ca",
   "metadata": {},
   "outputs": [],
   "source": []
  },
  {
   "cell_type": "code",
   "execution_count": null,
   "id": "bb8b5dd9-4e3e-4dcb-b20c-20e3ccfbc2cf",
   "metadata": {},
   "outputs": [],
   "source": []
  },
  {
   "cell_type": "code",
   "execution_count": null,
   "id": "0de7a2c1-6e66-4c96-8b3b-b8bafae771c8",
   "metadata": {
    "tags": []
   },
   "outputs": [],
   "source": [
    "# y_true=y_test[df_test[domain_col] == z_Categories[0]], y_score=y_probs_vanilla[df_test[domain_col] == z_Categories[0],1])\n",
    "\n",
    "metrics.f1_score(y_true=y_test[df_test[domain_col] == z_Categories[0]], \n",
    "                 y_pred=y_probs_vanilla[df_test[domain_col] == z_Categories[0],1]>0.5\n",
    "                )\n"
   ]
  },
  {
   "cell_type": "code",
   "execution_count": null,
   "id": "6501a9bd-c5ba-48bc-96fa-87015b4a6eee",
   "metadata": {},
   "outputs": [],
   "source": [
    "metrics.f1_score(y_true=y_test[df_test[domain_col] == z_Categories[1]], \n",
    "                 y_pred=y_probs_vanilla[df_test[domain_col] == z_Categories[1],1]>0.5\n",
    "                )"
   ]
  },
  {
   "cell_type": "code",
   "execution_count": null,
   "id": "79b3608b-931e-4b41-9449-3c238b9eb493",
   "metadata": {},
   "outputs": [],
   "source": []
  },
  {
   "cell_type": "code",
   "execution_count": null,
   "id": "f1a4f077-527b-4e3b-9511-7a19e2db91fc",
   "metadata": {
    "tags": []
   },
   "outputs": [],
   "source": [
    "# y_true=y_test[df_test[domain_col] == z_Categories[0]], y_score=y_probs_vanilla[df_test[domain_col] == z_Categories[0],1])\n",
    "\n",
    "metrics.f1_score(y_true=y_test[df_test[domain_col] == z_Categories[0]], \n",
    "                 y_pred=y_probs_confound[df_test[domain_col] == z_Categories[0],1]>0.5\n",
    "                )\n"
   ]
  },
  {
   "cell_type": "code",
   "execution_count": null,
   "id": "16ab1b53-647e-4ec6-b8e5-f8af2308e98e",
   "metadata": {
    "tags": []
   },
   "outputs": [],
   "source": [
    "# y_true=y_test[df_test[domain_col] == z_Categories[0]], y_score=y_probs_vanilla[df_test[domain_col] == z_Categories[0],1])\n",
    "\n",
    "metrics.f1_score(y_true=y_test[df_test[domain_col] == z_Categories[1]], \n",
    "                 y_pred=y_probs_confound[df_test[domain_col] == z_Categories[1],1]>0.5\n",
    "                )\n"
   ]
  },
  {
   "cell_type": "code",
   "execution_count": null,
   "id": "93b2bcde-8632-43a8-a318-789d1020d81d",
   "metadata": {},
   "outputs": [],
   "source": []
  }
 ],
 "metadata": {
  "kernelspec": {
   "display_name": "Python 3 (ipykernel)",
   "language": "python",
   "name": "python3"
  },
  "language_info": {
   "codemirror_mode": {
    "name": "ipython",
    "version": 3
   },
   "file_extension": ".py",
   "mimetype": "text/x-python",
   "name": "python",
   "nbconvert_exporter": "python",
   "pygments_lexer": "ipython3",
   "version": "3.8.10"
  },
  "toc": {
   "base_numbering": 1,
   "nav_menu": {},
   "number_sections": true,
   "sideBar": true,
   "skip_h1_title": false,
   "title_cell": "Table of Contents",
   "title_sidebar": "Contents",
   "toc_cell": false,
   "toc_position": {
    "height": "calc(100% - 180px)",
    "left": "10px",
    "top": "150px",
    "width": "268.6px"
   },
   "toc_section_display": true,
   "toc_window_display": true
  },
  "toc-autonumbering": true,
  "toc-showcode": false,
  "toc-showmarkdowntxt": false,
  "toc-showtags": false
 },
 "nbformat": 4,
 "nbformat_minor": 5
}
