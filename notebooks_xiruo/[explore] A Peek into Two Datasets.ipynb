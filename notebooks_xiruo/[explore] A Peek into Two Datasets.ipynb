{
 "cells": [
  {
   "cell_type": "code",
   "execution_count": 1,
   "id": "2127d0f4",
   "metadata": {
    "ExecuteTime": {
     "end_time": "2022-10-12T20:15:40.456916Z",
     "start_time": "2022-10-12T20:15:40.212853Z"
    },
    "execution": {
     "iopub.execute_input": "2023-01-20T22:58:23.306548Z",
     "iopub.status.busy": "2023-01-20T22:58:23.305562Z",
     "iopub.status.idle": "2023-01-20T22:58:23.584617Z",
     "shell.execute_reply": "2023-01-20T22:58:23.583750Z",
     "shell.execute_reply.started": "2023-01-20T22:58:23.306345Z"
    },
    "tags": []
   },
   "outputs": [],
   "source": [
    "import numpy as np\n",
    "import pandas as pd"
   ]
  },
  {
   "cell_type": "markdown",
   "id": "eb74e55e",
   "metadata": {},
   "source": [
    "# WLS"
   ]
  },
  {
   "cell_type": "markdown",
   "id": "d4bb8679-ec2a-425a-aed0-cb77ddf46b7a",
   "metadata": {},
   "source": [
    "## Merge Text and Label"
   ]
  },
  {
   "cell_type": "code",
   "execution_count": 2,
   "id": "07567aa8",
   "metadata": {
    "ExecuteTime": {
     "end_time": "2022-10-12T20:16:09.456274Z",
     "start_time": "2022-10-12T20:16:09.439112Z"
    },
    "execution": {
     "iopub.execute_input": "2023-01-20T22:58:43.516002Z",
     "iopub.status.busy": "2023-01-20T22:58:43.514951Z",
     "iopub.status.idle": "2023-01-20T22:58:43.541775Z",
     "shell.execute_reply": "2023-01-20T22:58:43.540527Z",
     "shell.execute_reply.started": "2023-01-20T22:58:43.515925Z"
    },
    "tags": []
   },
   "outputs": [],
   "source": [
    "\n",
    "df_wls = pd.read_csv(\"/edata/TRESTLE/testWLS.tsv\", sep='\\t')"
   ]
  },
  {
   "cell_type": "code",
   "execution_count": 3,
   "id": "34a8a636",
   "metadata": {
    "ExecuteTime": {
     "end_time": "2022-10-12T20:16:10.021393Z",
     "start_time": "2022-10-12T20:16:10.008327Z"
    },
    "execution": {
     "iopub.execute_input": "2023-01-20T22:58:51.908622Z",
     "iopub.status.busy": "2023-01-20T22:58:51.907897Z",
     "iopub.status.idle": "2023-01-20T22:58:51.938761Z",
     "shell.execute_reply": "2023-01-20T22:58:51.937881Z",
     "shell.execute_reply.started": "2023-01-20T22:58:51.908557Z"
    },
    "tags": []
   },
   "outputs": [
    {
     "data": {
      "text/html": [
       "<div>\n",
       "<style scoped>\n",
       "    .dataframe tbody tr th:only-of-type {\n",
       "        vertical-align: middle;\n",
       "    }\n",
       "\n",
       "    .dataframe tbody tr th {\n",
       "        vertical-align: top;\n",
       "    }\n",
       "\n",
       "    .dataframe thead th {\n",
       "        text-align: right;\n",
       "    }\n",
       "</style>\n",
       "<table border=\"1\" class=\"dataframe\">\n",
       "  <thead>\n",
       "    <tr style=\"text-align: right;\">\n",
       "      <th></th>\n",
       "      <th>file</th>\n",
       "      <th>text</th>\n",
       "    </tr>\n",
       "  </thead>\n",
       "  <tbody>\n",
       "    <tr>\n",
       "      <th>0</th>\n",
       "      <td>2000015784</td>\n",
       "      <td>Well i see a boy taking a cookie outof a cooki...</td>\n",
       "    </tr>\n",
       "    <tr>\n",
       "      <th>1</th>\n",
       "      <td>2000015088</td>\n",
       "      <td>The mother's doing dishes. She's naughty. She'...</td>\n",
       "    </tr>\n",
       "    <tr>\n",
       "      <th>2</th>\n",
       "      <td>2000015573</td>\n",
       "      <td>Okay. Somebody is into the cookie jar and he's...</td>\n",
       "    </tr>\n",
       "    <tr>\n",
       "      <th>3</th>\n",
       "      <td>2000015045</td>\n",
       "      <td>Okay. There's a young boy up on a chair that's...</td>\n",
       "    </tr>\n",
       "    <tr>\n",
       "      <th>4</th>\n",
       "      <td>2000015213</td>\n",
       "      <td>Kids are in the cookie jar. And the child is r...</td>\n",
       "    </tr>\n",
       "  </tbody>\n",
       "</table>\n",
       "</div>"
      ],
      "text/plain": [
       "         file                                               text\n",
       "0  2000015784  Well i see a boy taking a cookie outof a cooki...\n",
       "1  2000015088  The mother's doing dishes. She's naughty. She'...\n",
       "2  2000015573  Okay. Somebody is into the cookie jar and he's...\n",
       "3  2000015045  Okay. There's a young boy up on a chair that's...\n",
       "4  2000015213  Kids are in the cookie jar. And the child is r..."
      ]
     },
     "execution_count": 3,
     "metadata": {},
     "output_type": "execute_result"
    }
   ],
   "source": [
    "df_wls.head()"
   ]
  },
  {
   "cell_type": "code",
   "execution_count": 4,
   "id": "76d75469",
   "metadata": {
    "ExecuteTime": {
     "end_time": "2022-10-12T20:16:27.509345Z",
     "start_time": "2022-10-12T20:16:27.500971Z"
    },
    "execution": {
     "iopub.execute_input": "2023-01-20T22:58:59.161080Z",
     "iopub.status.busy": "2023-01-20T22:58:59.160321Z",
     "iopub.status.idle": "2023-01-20T22:58:59.173922Z",
     "shell.execute_reply": "2023-01-20T22:58:59.173060Z",
     "shell.execute_reply.started": "2023-01-20T22:58:59.161011Z"
    },
    "tags": []
   },
   "outputs": [],
   "source": [
    "df_wls_label = pd.read_csv(\"/edata/TRESTLE/WLS-labels.csv\")"
   ]
  },
  {
   "cell_type": "code",
   "execution_count": 5,
   "id": "6269ed3b",
   "metadata": {
    "ExecuteTime": {
     "end_time": "2022-10-12T20:16:31.626810Z",
     "start_time": "2022-10-12T20:16:31.605949Z"
    },
    "execution": {
     "iopub.execute_input": "2023-01-20T22:58:59.525507Z",
     "iopub.status.busy": "2023-01-20T22:58:59.524711Z",
     "iopub.status.idle": "2023-01-20T22:58:59.545748Z",
     "shell.execute_reply": "2023-01-20T22:58:59.544877Z",
     "shell.execute_reply.started": "2023-01-20T22:58:59.525435Z"
    },
    "tags": []
   },
   "outputs": [
    {
     "data": {
      "text/html": [
       "<div>\n",
       "<style scoped>\n",
       "    .dataframe tbody tr th:only-of-type {\n",
       "        vertical-align: middle;\n",
       "    }\n",
       "\n",
       "    .dataframe tbody tr th {\n",
       "        vertical-align: top;\n",
       "    }\n",
       "\n",
       "    .dataframe thead th {\n",
       "        text-align: right;\n",
       "    }\n",
       "</style>\n",
       "<table border=\"1\" class=\"dataframe\">\n",
       "  <thead>\n",
       "    <tr style=\"text-align: right;\">\n",
       "      <th></th>\n",
       "      <th>idtlkbnk</th>\n",
       "      <th>age 2011</th>\n",
       "      <th>education</th>\n",
       "      <th>category fluency version, 2011</th>\n",
       "      <th>category fluency, scored words named, 2011</th>\n",
       "      <th>&gt; 1 sd below mean for normals ages 60-79 (Tombaugh, Kozak, &amp; Rees, 1999) -- normal cutoff = 12+ for 9-12 yrs eductation, 14+ for 13-21 yrs education</th>\n",
       "    </tr>\n",
       "  </thead>\n",
       "  <tbody>\n",
       "    <tr>\n",
       "      <th>0</th>\n",
       "      <td>2000000002</td>\n",
       "      <td>71</td>\n",
       "      <td>12</td>\n",
       "      <td>1</td>\n",
       "      <td>23</td>\n",
       "      <td>N</td>\n",
       "    </tr>\n",
       "    <tr>\n",
       "      <th>1</th>\n",
       "      <td>2000000007</td>\n",
       "      <td>66</td>\n",
       "      <td>12</td>\n",
       "      <td>1</td>\n",
       "      <td>17</td>\n",
       "      <td>N</td>\n",
       "    </tr>\n",
       "    <tr>\n",
       "      <th>2</th>\n",
       "      <td>2000000032</td>\n",
       "      <td>71</td>\n",
       "      <td>18</td>\n",
       "      <td>2</td>\n",
       "      <td>17</td>\n",
       "      <td>N</td>\n",
       "    </tr>\n",
       "    <tr>\n",
       "      <th>3</th>\n",
       "      <td>2000000047</td>\n",
       "      <td>71</td>\n",
       "      <td>12</td>\n",
       "      <td>1</td>\n",
       "      <td>15</td>\n",
       "      <td>N</td>\n",
       "    </tr>\n",
       "    <tr>\n",
       "      <th>4</th>\n",
       "      <td>2000000054</td>\n",
       "      <td>70</td>\n",
       "      <td>12</td>\n",
       "      <td>1</td>\n",
       "      <td>21</td>\n",
       "      <td>N</td>\n",
       "    </tr>\n",
       "    <tr>\n",
       "      <th>...</th>\n",
       "      <td>...</td>\n",
       "      <td>...</td>\n",
       "      <td>...</td>\n",
       "      <td>...</td>\n",
       "      <td>...</td>\n",
       "      <td>...</td>\n",
       "    </tr>\n",
       "    <tr>\n",
       "      <th>1364</th>\n",
       "      <td>2000018936</td>\n",
       "      <td>72</td>\n",
       "      <td>12</td>\n",
       "      <td>1</td>\n",
       "      <td>13</td>\n",
       "      <td>N</td>\n",
       "    </tr>\n",
       "    <tr>\n",
       "      <th>1365</th>\n",
       "      <td>2000018944</td>\n",
       "      <td>67</td>\n",
       "      <td>13</td>\n",
       "      <td>1</td>\n",
       "      <td>24</td>\n",
       "      <td>N</td>\n",
       "    </tr>\n",
       "    <tr>\n",
       "      <th>1366</th>\n",
       "      <td>2000018958</td>\n",
       "      <td>72</td>\n",
       "      <td>12</td>\n",
       "      <td>2</td>\n",
       "      <td>17</td>\n",
       "      <td>N</td>\n",
       "    </tr>\n",
       "    <tr>\n",
       "      <th>1367</th>\n",
       "      <td>2000018976</td>\n",
       "      <td>65</td>\n",
       "      <td>12</td>\n",
       "      <td>2</td>\n",
       "      <td>31</td>\n",
       "      <td>N</td>\n",
       "    </tr>\n",
       "    <tr>\n",
       "      <th>1368</th>\n",
       "      <td>2000019008</td>\n",
       "      <td>66</td>\n",
       "      <td>14</td>\n",
       "      <td>1</td>\n",
       "      <td>18</td>\n",
       "      <td>N</td>\n",
       "    </tr>\n",
       "  </tbody>\n",
       "</table>\n",
       "<p>1369 rows × 6 columns</p>\n",
       "</div>"
      ],
      "text/plain": [
       "        idtlkbnk  age 2011  education  category fluency version, 2011  \\\n",
       "0     2000000002        71         12                               1   \n",
       "1     2000000007        66         12                               1   \n",
       "2     2000000032        71         18                               2   \n",
       "3     2000000047        71         12                               1   \n",
       "4     2000000054        70         12                               1   \n",
       "...          ...       ...        ...                             ...   \n",
       "1364  2000018936        72         12                               1   \n",
       "1365  2000018944        67         13                               1   \n",
       "1366  2000018958        72         12                               2   \n",
       "1367  2000018976        65         12                               2   \n",
       "1368  2000019008        66         14                               1   \n",
       "\n",
       "      category fluency, scored words named, 2011  \\\n",
       "0                                             23   \n",
       "1                                             17   \n",
       "2                                             17   \n",
       "3                                             15   \n",
       "4                                             21   \n",
       "...                                          ...   \n",
       "1364                                          13   \n",
       "1365                                          24   \n",
       "1366                                          17   \n",
       "1367                                          31   \n",
       "1368                                          18   \n",
       "\n",
       "     > 1 sd below mean for normals ages 60-79 (Tombaugh, Kozak, & Rees, 1999) -- normal cutoff = 12+ for 9-12 yrs eductation, 14+ for 13-21 yrs education  \n",
       "0                                                     N                                                                                                    \n",
       "1                                                     N                                                                                                    \n",
       "2                                                     N                                                                                                    \n",
       "3                                                     N                                                                                                    \n",
       "4                                                     N                                                                                                    \n",
       "...                                                 ...                                                                                                    \n",
       "1364                                                  N                                                                                                    \n",
       "1365                                                  N                                                                                                    \n",
       "1366                                                  N                                                                                                    \n",
       "1367                                                  N                                                                                                    \n",
       "1368                                                  N                                                                                                    \n",
       "\n",
       "[1369 rows x 6 columns]"
      ]
     },
     "execution_count": 5,
     "metadata": {},
     "output_type": "execute_result"
    }
   ],
   "source": [
    "df_wls_label"
   ]
  },
  {
   "cell_type": "code",
   "execution_count": 6,
   "id": "c6d6b464",
   "metadata": {
    "ExecuteTime": {
     "end_time": "2022-10-12T20:16:44.309587Z",
     "start_time": "2022-10-12T20:16:44.301989Z"
    },
    "execution": {
     "iopub.execute_input": "2023-01-20T22:59:03.928849Z",
     "iopub.status.busy": "2023-01-20T22:59:03.928369Z",
     "iopub.status.idle": "2023-01-20T22:59:03.935524Z",
     "shell.execute_reply": "2023-01-20T22:59:03.934602Z",
     "shell.execute_reply.started": "2023-01-20T22:59:03.928806Z"
    },
    "tags": []
   },
   "outputs": [
    {
     "data": {
      "text/plain": [
       "Index(['idtlkbnk', 'age 2011', 'education', 'category fluency version, 2011',\n",
       "       'category fluency, scored words named, 2011',\n",
       "       '> 1 sd below mean for normals ages 60-79 (Tombaugh, Kozak, & Rees, 1999) -- normal cutoff = 12+ for 9-12 yrs eductation, 14+ for 13-21 yrs education'],\n",
       "      dtype='object')"
      ]
     },
     "execution_count": 6,
     "metadata": {},
     "output_type": "execute_result"
    }
   ],
   "source": [
    "df_wls_label.columns"
   ]
  },
  {
   "cell_type": "code",
   "execution_count": null,
   "id": "015927eb",
   "metadata": {},
   "outputs": [],
   "source": []
  },
  {
   "cell_type": "code",
   "execution_count": null,
   "id": "00c86f99",
   "metadata": {},
   "outputs": [],
   "source": []
  },
  {
   "cell_type": "code",
   "execution_count": 8,
   "id": "cc3ae1bc",
   "metadata": {
    "ExecuteTime": {
     "end_time": "2022-10-13T05:27:52.094457Z",
     "start_time": "2022-10-13T05:27:52.053161Z"
    },
    "execution": {
     "iopub.execute_input": "2022-12-02T00:26:52.491660Z",
     "iopub.status.busy": "2022-12-02T00:26:52.490847Z",
     "iopub.status.idle": "2022-12-02T00:26:52.513073Z",
     "shell.execute_reply": "2022-12-02T00:26:52.512194Z",
     "shell.execute_reply.started": "2022-12-02T00:26:52.491589Z"
    }
   },
   "outputs": [
    {
     "data": {
      "text/html": [
       "<div>\n",
       "<style scoped>\n",
       "    .dataframe tbody tr th:only-of-type {\n",
       "        vertical-align: middle;\n",
       "    }\n",
       "\n",
       "    .dataframe tbody tr th {\n",
       "        vertical-align: top;\n",
       "    }\n",
       "\n",
       "    .dataframe thead th {\n",
       "        text-align: right;\n",
       "    }\n",
       "</style>\n",
       "<table border=\"1\" class=\"dataframe\">\n",
       "  <thead>\n",
       "    <tr style=\"text-align: right;\">\n",
       "      <th></th>\n",
       "      <th>file</th>\n",
       "      <th>text</th>\n",
       "    </tr>\n",
       "  </thead>\n",
       "  <tbody>\n",
       "    <tr>\n",
       "      <th>0</th>\n",
       "      <td>2000015784</td>\n",
       "      <td>Well i see a boy taking a cookie outof a cooki...</td>\n",
       "    </tr>\n",
       "    <tr>\n",
       "      <th>1</th>\n",
       "      <td>2000015088</td>\n",
       "      <td>The mother's doing dishes. She's naughty. She'...</td>\n",
       "    </tr>\n",
       "    <tr>\n",
       "      <th>2</th>\n",
       "      <td>2000015573</td>\n",
       "      <td>Okay. Somebody is into the cookie jar and he's...</td>\n",
       "    </tr>\n",
       "    <tr>\n",
       "      <th>3</th>\n",
       "      <td>2000015045</td>\n",
       "      <td>Okay. There's a young boy up on a chair that's...</td>\n",
       "    </tr>\n",
       "    <tr>\n",
       "      <th>4</th>\n",
       "      <td>2000015213</td>\n",
       "      <td>Kids are in the cookie jar. And the child is r...</td>\n",
       "    </tr>\n",
       "    <tr>\n",
       "      <th>...</th>\n",
       "      <td>...</td>\n",
       "      <td>...</td>\n",
       "    </tr>\n",
       "    <tr>\n",
       "      <th>1355</th>\n",
       "      <td>2000017316</td>\n",
       "      <td>Well the kid's gonna fall off the stool with t...</td>\n",
       "    </tr>\n",
       "    <tr>\n",
       "      <th>1356</th>\n",
       "      <td>2000017754</td>\n",
       "      <td>There is a kid going after a cookie jar standi...</td>\n",
       "    </tr>\n",
       "    <tr>\n",
       "      <th>1357</th>\n",
       "      <td>2000017794</td>\n",
       "      <td>I see mom doing dishes and spilling water on t...</td>\n",
       "    </tr>\n",
       "    <tr>\n",
       "      <th>1358</th>\n",
       "      <td>2000017790</td>\n",
       "      <td>Two children. One child on a stool that's tipp...</td>\n",
       "    </tr>\n",
       "    <tr>\n",
       "      <th>1359</th>\n",
       "      <td>2000017977</td>\n",
       "      <td>Well the boy reaching for cookies and he's on ...</td>\n",
       "    </tr>\n",
       "  </tbody>\n",
       "</table>\n",
       "<p>1360 rows × 2 columns</p>\n",
       "</div>"
      ],
      "text/plain": [
       "            file                                               text\n",
       "0     2000015784  Well i see a boy taking a cookie outof a cooki...\n",
       "1     2000015088  The mother's doing dishes. She's naughty. She'...\n",
       "2     2000015573  Okay. Somebody is into the cookie jar and he's...\n",
       "3     2000015045  Okay. There's a young boy up on a chair that's...\n",
       "4     2000015213  Kids are in the cookie jar. And the child is r...\n",
       "...          ...                                                ...\n",
       "1355  2000017316  Well the kid's gonna fall off the stool with t...\n",
       "1356  2000017754  There is a kid going after a cookie jar standi...\n",
       "1357  2000017794  I see mom doing dishes and spilling water on t...\n",
       "1358  2000017790  Two children. One child on a stool that's tipp...\n",
       "1359  2000017977  Well the boy reaching for cookies and he's on ...\n",
       "\n",
       "[1360 rows x 2 columns]"
      ]
     },
     "execution_count": 8,
     "metadata": {},
     "output_type": "execute_result"
    }
   ],
   "source": [
    "df_wls[df_wls['file'].isin(df_wls_label['idtlkbnk'])]"
   ]
  },
  {
   "cell_type": "code",
   "execution_count": null,
   "id": "65eb33be",
   "metadata": {},
   "outputs": [],
   "source": []
  },
  {
   "cell_type": "code",
   "execution_count": null,
   "id": "d419bded",
   "metadata": {},
   "outputs": [],
   "source": []
  },
  {
   "cell_type": "code",
   "execution_count": 7,
   "id": "a58f3f67",
   "metadata": {
    "ExecuteTime": {
     "end_time": "2022-10-13T05:28:54.633176Z",
     "start_time": "2022-10-13T05:28:54.619977Z"
    },
    "execution": {
     "iopub.execute_input": "2023-01-20T22:59:23.289308Z",
     "iopub.status.busy": "2023-01-20T22:59:23.288468Z",
     "iopub.status.idle": "2023-01-20T22:59:23.303534Z",
     "shell.execute_reply": "2023-01-20T22:59:23.302381Z",
     "shell.execute_reply.started": "2023-01-20T22:59:23.289236Z"
    },
    "tags": []
   },
   "outputs": [],
   "source": [
    "df_wls_merge = df_wls.merge(df_wls_label, left_on='file', right_on='idtlkbnk', how='inner')"
   ]
  },
  {
   "cell_type": "code",
   "execution_count": 33,
   "id": "2bf5504b",
   "metadata": {
    "ExecuteTime": {
     "end_time": "2022-10-13T05:28:58.725852Z",
     "start_time": "2022-10-13T05:28:58.700756Z"
    },
    "execution": {
     "iopub.execute_input": "2023-01-21T00:41:51.855581Z",
     "iopub.status.busy": "2023-01-21T00:41:51.854713Z",
     "iopub.status.idle": "2023-01-21T00:41:51.876626Z",
     "shell.execute_reply": "2023-01-21T00:41:51.875587Z",
     "shell.execute_reply.started": "2023-01-21T00:41:51.855510Z"
    },
    "tags": []
   },
   "outputs": [
    {
     "data": {
      "text/html": [
       "<div>\n",
       "<style scoped>\n",
       "    .dataframe tbody tr th:only-of-type {\n",
       "        vertical-align: middle;\n",
       "    }\n",
       "\n",
       "    .dataframe tbody tr th {\n",
       "        vertical-align: top;\n",
       "    }\n",
       "\n",
       "    .dataframe thead th {\n",
       "        text-align: right;\n",
       "    }\n",
       "</style>\n",
       "<table border=\"1\" class=\"dataframe\">\n",
       "  <thead>\n",
       "    <tr style=\"text-align: right;\">\n",
       "      <th></th>\n",
       "      <th>file</th>\n",
       "      <th>text</th>\n",
       "      <th>idtlkbnk</th>\n",
       "      <th>age 2011</th>\n",
       "      <th>education</th>\n",
       "      <th>category fluency version, 2011</th>\n",
       "      <th>category fluency, scored words named, 2011</th>\n",
       "      <th>belowSD</th>\n",
       "      <th>customLabel</th>\n",
       "    </tr>\n",
       "  </thead>\n",
       "  <tbody>\n",
       "    <tr>\n",
       "      <th>0</th>\n",
       "      <td>2000015784</td>\n",
       "      <td>Well i see a boy taking a cookie outof a cooki...</td>\n",
       "      <td>2000015784</td>\n",
       "      <td>70</td>\n",
       "      <td>12</td>\n",
       "      <td>2</td>\n",
       "      <td>9</td>\n",
       "      <td>Y</td>\n",
       "      <td>True</td>\n",
       "    </tr>\n",
       "    <tr>\n",
       "      <th>1</th>\n",
       "      <td>2000015088</td>\n",
       "      <td>The mother's doing dishes. She's naughty. She'...</td>\n",
       "      <td>2000015088</td>\n",
       "      <td>70</td>\n",
       "      <td>12</td>\n",
       "      <td>1</td>\n",
       "      <td>10</td>\n",
       "      <td>Y</td>\n",
       "      <td>True</td>\n",
       "    </tr>\n",
       "    <tr>\n",
       "      <th>2</th>\n",
       "      <td>2000015573</td>\n",
       "      <td>Okay. Somebody is into the cookie jar and he's...</td>\n",
       "      <td>2000015573</td>\n",
       "      <td>71</td>\n",
       "      <td>12</td>\n",
       "      <td>2</td>\n",
       "      <td>14</td>\n",
       "      <td>N</td>\n",
       "      <td>False</td>\n",
       "    </tr>\n",
       "    <tr>\n",
       "      <th>3</th>\n",
       "      <td>2000015045</td>\n",
       "      <td>Okay. There's a young boy up on a chair that's...</td>\n",
       "      <td>2000015045</td>\n",
       "      <td>72</td>\n",
       "      <td>14</td>\n",
       "      <td>1</td>\n",
       "      <td>22</td>\n",
       "      <td>N</td>\n",
       "      <td>False</td>\n",
       "    </tr>\n",
       "    <tr>\n",
       "      <th>4</th>\n",
       "      <td>2000015213</td>\n",
       "      <td>Kids are in the cookie jar. And the child is r...</td>\n",
       "      <td>2000015213</td>\n",
       "      <td>63</td>\n",
       "      <td>12</td>\n",
       "      <td>2</td>\n",
       "      <td>16</td>\n",
       "      <td>N</td>\n",
       "      <td>False</td>\n",
       "    </tr>\n",
       "  </tbody>\n",
       "</table>\n",
       "</div>"
      ],
      "text/plain": [
       "         file                                               text    idtlkbnk  \\\n",
       "0  2000015784  Well i see a boy taking a cookie outof a cooki...  2000015784   \n",
       "1  2000015088  The mother's doing dishes. She's naughty. She'...  2000015088   \n",
       "2  2000015573  Okay. Somebody is into the cookie jar and he's...  2000015573   \n",
       "3  2000015045  Okay. There's a young boy up on a chair that's...  2000015045   \n",
       "4  2000015213  Kids are in the cookie jar. And the child is r...  2000015213   \n",
       "\n",
       "   age 2011  education  category fluency version, 2011  \\\n",
       "0        70         12                               2   \n",
       "1        70         12                               1   \n",
       "2        71         12                               2   \n",
       "3        72         14                               1   \n",
       "4        63         12                               2   \n",
       "\n",
       "   category fluency, scored words named, 2011 belowSD  customLabel  \n",
       "0                                           9       Y         True  \n",
       "1                                          10       Y         True  \n",
       "2                                          14       N        False  \n",
       "3                                          22       N        False  \n",
       "4                                          16       N        False  "
      ]
     },
     "execution_count": 33,
     "metadata": {},
     "output_type": "execute_result"
    }
   ],
   "source": [
    "df_wls_merge.head()"
   ]
  },
  {
   "cell_type": "code",
   "execution_count": 9,
   "id": "8283326e",
   "metadata": {
    "ExecuteTime": {
     "end_time": "2022-10-13T17:58:14.344807Z",
     "start_time": "2022-10-13T17:58:14.332500Z"
    },
    "execution": {
     "iopub.execute_input": "2023-01-20T22:59:26.089459Z",
     "iopub.status.busy": "2023-01-20T22:59:26.088969Z",
     "iopub.status.idle": "2023-01-20T22:59:26.103356Z",
     "shell.execute_reply": "2023-01-20T22:59:26.101974Z",
     "shell.execute_reply.started": "2023-01-20T22:59:26.089420Z"
    },
    "tags": []
   },
   "outputs": [
    {
     "data": {
      "text/plain": [
       "category fluency version, 2011\n",
       "1    673\n",
       "2    687\n",
       "dtype: int64"
      ]
     },
     "execution_count": 9,
     "metadata": {},
     "output_type": "execute_result"
    }
   ],
   "source": [
    "df_wls_merge.groupby(\"category fluency version, 2011\").size()"
   ]
  },
  {
   "cell_type": "code",
   "execution_count": 10,
   "id": "620513ca",
   "metadata": {
    "ExecuteTime": {
     "end_time": "2022-10-13T20:08:30.776180Z",
     "start_time": "2022-10-13T20:08:30.761843Z"
    },
    "execution": {
     "iopub.execute_input": "2023-01-20T22:59:26.445891Z",
     "iopub.status.busy": "2023-01-20T22:59:26.445136Z",
     "iopub.status.idle": "2023-01-20T22:59:26.459373Z",
     "shell.execute_reply": "2023-01-20T22:59:26.458482Z",
     "shell.execute_reply.started": "2023-01-20T22:59:26.445821Z"
    },
    "tags": []
   },
   "outputs": [
    {
     "data": {
      "text/plain": [
       "> 1 sd below mean for normals ages 60-79 (Tombaugh, Kozak, & Rees, 1999) -- normal cutoff = 12+ for 9-12 yrs eductation, 14+ for 13-21 yrs education\n",
       "N      1167\n",
       "Y       109\n",
       "y         1\n",
       "NaN      83\n",
       "dtype: int64"
      ]
     },
     "execution_count": 10,
     "metadata": {},
     "output_type": "execute_result"
    }
   ],
   "source": [
    "\n",
    "df_wls_merge.groupby(\"> 1 sd below mean for normals ages 60-79 (Tombaugh, Kozak, & Rees, 1999) -- normal cutoff = 12+ for 9-12 yrs eductation, 14+ for 13-21 yrs education\", \n",
    "                     dropna=False) \\\n",
    ".size()\n"
   ]
  },
  {
   "cell_type": "code",
   "execution_count": 11,
   "id": "ebb5e979",
   "metadata": {
    "ExecuteTime": {
     "end_time": "2022-10-13T20:07:30.983664Z",
     "start_time": "2022-10-13T20:07:30.974151Z"
    },
    "execution": {
     "iopub.execute_input": "2023-01-20T22:59:27.580431Z",
     "iopub.status.busy": "2023-01-20T22:59:27.579687Z",
     "iopub.status.idle": "2023-01-20T22:59:27.592214Z",
     "shell.execute_reply": "2023-01-20T22:59:27.590711Z",
     "shell.execute_reply.started": "2023-01-20T22:59:27.580357Z"
    },
    "tags": []
   },
   "outputs": [
    {
     "data": {
      "text/plain": [
       "array(['Y', 'N', nan, 'y'], dtype=object)"
      ]
     },
     "execution_count": 11,
     "metadata": {},
     "output_type": "execute_result"
    }
   ],
   "source": [
    "\n",
    "df_wls_merge[\"> 1 sd below mean for normals ages 60-79 (Tombaugh, Kozak, & Rees, 1999) -- normal cutoff = 12+ for 9-12 yrs eductation, 14+ for 13-21 yrs education\"].unique()\n"
   ]
  },
  {
   "cell_type": "code",
   "execution_count": null,
   "id": "8fe12691",
   "metadata": {},
   "outputs": [],
   "source": []
  },
  {
   "cell_type": "code",
   "execution_count": null,
   "id": "dc5eeb56",
   "metadata": {},
   "outputs": [],
   "source": []
  },
  {
   "cell_type": "code",
   "execution_count": 12,
   "id": "afe0dff4",
   "metadata": {
    "ExecuteTime": {
     "end_time": "2022-10-13T20:16:22.233396Z",
     "start_time": "2022-10-13T20:16:22.226775Z"
    },
    "execution": {
     "iopub.execute_input": "2023-01-20T22:59:29.600909Z",
     "iopub.status.busy": "2023-01-20T22:59:29.600108Z",
     "iopub.status.idle": "2023-01-20T22:59:29.609745Z",
     "shell.execute_reply": "2023-01-20T22:59:29.608125Z",
     "shell.execute_reply.started": "2023-01-20T22:59:29.600834Z"
    },
    "tags": []
   },
   "outputs": [],
   "source": [
    "\n",
    "df_wls_merge.rename(columns={\"> 1 sd below mean for normals ages 60-79 (Tombaugh, Kozak, & Rees, 1999) -- normal cutoff = 12+ for 9-12 yrs eductation, 14+ for 13-21 yrs education\": \"belowSD\"},\n",
    "                    inplace=True\n",
    "                   )"
   ]
  },
  {
   "cell_type": "code",
   "execution_count": 13,
   "id": "5f697401",
   "metadata": {
    "ExecuteTime": {
     "end_time": "2022-10-13T20:20:36.712111Z",
     "start_time": "2022-10-13T20:20:36.684549Z"
    },
    "execution": {
     "iopub.execute_input": "2023-01-20T22:59:30.052278Z",
     "iopub.status.busy": "2023-01-20T22:59:30.051606Z",
     "iopub.status.idle": "2023-01-20T22:59:30.076888Z",
     "shell.execute_reply": "2023-01-20T22:59:30.076278Z",
     "shell.execute_reply.started": "2023-01-20T22:59:30.052214Z"
    },
    "tags": []
   },
   "outputs": [
    {
     "data": {
      "text/html": [
       "<div>\n",
       "<style scoped>\n",
       "    .dataframe tbody tr th:only-of-type {\n",
       "        vertical-align: middle;\n",
       "    }\n",
       "\n",
       "    .dataframe tbody tr th {\n",
       "        vertical-align: top;\n",
       "    }\n",
       "\n",
       "    .dataframe thead th {\n",
       "        text-align: right;\n",
       "    }\n",
       "</style>\n",
       "<table border=\"1\" class=\"dataframe\">\n",
       "  <thead>\n",
       "    <tr style=\"text-align: right;\">\n",
       "      <th></th>\n",
       "      <th>file</th>\n",
       "      <th>text</th>\n",
       "      <th>idtlkbnk</th>\n",
       "      <th>age 2011</th>\n",
       "      <th>education</th>\n",
       "      <th>category fluency version, 2011</th>\n",
       "      <th>category fluency, scored words named, 2011</th>\n",
       "      <th>belowSD</th>\n",
       "    </tr>\n",
       "  </thead>\n",
       "  <tbody>\n",
       "    <tr>\n",
       "      <th>0</th>\n",
       "      <td>2000015784</td>\n",
       "      <td>Well i see a boy taking a cookie outof a cooki...</td>\n",
       "      <td>2000015784</td>\n",
       "      <td>70</td>\n",
       "      <td>12</td>\n",
       "      <td>2</td>\n",
       "      <td>9</td>\n",
       "      <td>Y</td>\n",
       "    </tr>\n",
       "    <tr>\n",
       "      <th>1</th>\n",
       "      <td>2000015088</td>\n",
       "      <td>The mother's doing dishes. She's naughty. She'...</td>\n",
       "      <td>2000015088</td>\n",
       "      <td>70</td>\n",
       "      <td>12</td>\n",
       "      <td>1</td>\n",
       "      <td>10</td>\n",
       "      <td>Y</td>\n",
       "    </tr>\n",
       "    <tr>\n",
       "      <th>2</th>\n",
       "      <td>2000015573</td>\n",
       "      <td>Okay. Somebody is into the cookie jar and he's...</td>\n",
       "      <td>2000015573</td>\n",
       "      <td>71</td>\n",
       "      <td>12</td>\n",
       "      <td>2</td>\n",
       "      <td>14</td>\n",
       "      <td>N</td>\n",
       "    </tr>\n",
       "    <tr>\n",
       "      <th>3</th>\n",
       "      <td>2000015045</td>\n",
       "      <td>Okay. There's a young boy up on a chair that's...</td>\n",
       "      <td>2000015045</td>\n",
       "      <td>72</td>\n",
       "      <td>14</td>\n",
       "      <td>1</td>\n",
       "      <td>22</td>\n",
       "      <td>N</td>\n",
       "    </tr>\n",
       "    <tr>\n",
       "      <th>4</th>\n",
       "      <td>2000015213</td>\n",
       "      <td>Kids are in the cookie jar. And the child is r...</td>\n",
       "      <td>2000015213</td>\n",
       "      <td>63</td>\n",
       "      <td>12</td>\n",
       "      <td>2</td>\n",
       "      <td>16</td>\n",
       "      <td>N</td>\n",
       "    </tr>\n",
       "    <tr>\n",
       "      <th>...</th>\n",
       "      <td>...</td>\n",
       "      <td>...</td>\n",
       "      <td>...</td>\n",
       "      <td>...</td>\n",
       "      <td>...</td>\n",
       "      <td>...</td>\n",
       "      <td>...</td>\n",
       "      <td>...</td>\n",
       "    </tr>\n",
       "    <tr>\n",
       "      <th>1355</th>\n",
       "      <td>2000017316</td>\n",
       "      <td>Well the kid's gonna fall off the stool with t...</td>\n",
       "      <td>2000017316</td>\n",
       "      <td>70</td>\n",
       "      <td>18</td>\n",
       "      <td>2</td>\n",
       "      <td>24</td>\n",
       "      <td>N</td>\n",
       "    </tr>\n",
       "    <tr>\n",
       "      <th>1356</th>\n",
       "      <td>2000017754</td>\n",
       "      <td>There is a kid going after a cookie jar standi...</td>\n",
       "      <td>2000017754</td>\n",
       "      <td>72</td>\n",
       "      <td>12</td>\n",
       "      <td>2</td>\n",
       "      <td>20</td>\n",
       "      <td>N</td>\n",
       "    </tr>\n",
       "    <tr>\n",
       "      <th>1357</th>\n",
       "      <td>2000017794</td>\n",
       "      <td>I see mom doing dishes and spilling water on t...</td>\n",
       "      <td>2000017794</td>\n",
       "      <td>78</td>\n",
       "      <td>12</td>\n",
       "      <td>2</td>\n",
       "      <td>12</td>\n",
       "      <td>N</td>\n",
       "    </tr>\n",
       "    <tr>\n",
       "      <th>1358</th>\n",
       "      <td>2000017790</td>\n",
       "      <td>Two children. One child on a stool that's tipp...</td>\n",
       "      <td>2000017790</td>\n",
       "      <td>64</td>\n",
       "      <td>18</td>\n",
       "      <td>1</td>\n",
       "      <td>14</td>\n",
       "      <td>N</td>\n",
       "    </tr>\n",
       "    <tr>\n",
       "      <th>1359</th>\n",
       "      <td>2000017977</td>\n",
       "      <td>Well the boy reaching for cookies and he's on ...</td>\n",
       "      <td>2000017977</td>\n",
       "      <td>66</td>\n",
       "      <td>16</td>\n",
       "      <td>1</td>\n",
       "      <td>22</td>\n",
       "      <td>N</td>\n",
       "    </tr>\n",
       "  </tbody>\n",
       "</table>\n",
       "<p>1360 rows × 8 columns</p>\n",
       "</div>"
      ],
      "text/plain": [
       "            file                                               text  \\\n",
       "0     2000015784  Well i see a boy taking a cookie outof a cooki...   \n",
       "1     2000015088  The mother's doing dishes. She's naughty. She'...   \n",
       "2     2000015573  Okay. Somebody is into the cookie jar and he's...   \n",
       "3     2000015045  Okay. There's a young boy up on a chair that's...   \n",
       "4     2000015213  Kids are in the cookie jar. And the child is r...   \n",
       "...          ...                                                ...   \n",
       "1355  2000017316  Well the kid's gonna fall off the stool with t...   \n",
       "1356  2000017754  There is a kid going after a cookie jar standi...   \n",
       "1357  2000017794  I see mom doing dishes and spilling water on t...   \n",
       "1358  2000017790  Two children. One child on a stool that's tipp...   \n",
       "1359  2000017977  Well the boy reaching for cookies and he's on ...   \n",
       "\n",
       "        idtlkbnk  age 2011  education  category fluency version, 2011  \\\n",
       "0     2000015784        70         12                               2   \n",
       "1     2000015088        70         12                               1   \n",
       "2     2000015573        71         12                               2   \n",
       "3     2000015045        72         14                               1   \n",
       "4     2000015213        63         12                               2   \n",
       "...          ...       ...        ...                             ...   \n",
       "1355  2000017316        70         18                               2   \n",
       "1356  2000017754        72         12                               2   \n",
       "1357  2000017794        78         12                               2   \n",
       "1358  2000017790        64         18                               1   \n",
       "1359  2000017977        66         16                               1   \n",
       "\n",
       "      category fluency, scored words named, 2011 belowSD  \n",
       "0                                              9       Y  \n",
       "1                                             10       Y  \n",
       "2                                             14       N  \n",
       "3                                             22       N  \n",
       "4                                             16       N  \n",
       "...                                          ...     ...  \n",
       "1355                                          24       N  \n",
       "1356                                          20       N  \n",
       "1357                                          12       N  \n",
       "1358                                          14       N  \n",
       "1359                                          22       N  \n",
       "\n",
       "[1360 rows x 8 columns]"
      ]
     },
     "execution_count": 13,
     "metadata": {},
     "output_type": "execute_result"
    }
   ],
   "source": [
    "df_wls_merge"
   ]
  },
  {
   "cell_type": "code",
   "execution_count": null,
   "id": "f7f7741c",
   "metadata": {},
   "outputs": [],
   "source": []
  },
  {
   "cell_type": "markdown",
   "id": "a91e4347-2b61-4059-9035-5e3a7c53f1c5",
   "metadata": {},
   "source": [
    "## Use new rules for dementia"
   ]
  },
  {
   "cell_type": "code",
   "execution_count": 14,
   "id": "278f5b16",
   "metadata": {
    "execution": {
     "iopub.execute_input": "2023-01-20T22:59:31.500228Z",
     "iopub.status.busy": "2023-01-20T22:59:31.499907Z",
     "iopub.status.idle": "2023-01-20T22:59:31.517591Z",
     "shell.execute_reply": "2023-01-20T22:59:31.516184Z",
     "shell.execute_reply.started": "2023-01-20T22:59:31.500199Z"
    },
    "tags": []
   },
   "outputs": [],
   "source": [
    "wls_Conditions = [\n",
    "    (df_wls_merge['age 2011'] <= 79) & (df_wls_merge['education'] <= 12) & (df_wls_merge['category fluency, scored words named, 2011'] < 12),\n",
    "    (df_wls_merge['age 2011'] <= 79) & (df_wls_merge['education'] >  12) & (df_wls_merge['category fluency, scored words named, 2011'] < 14),\n",
    "    (df_wls_merge['age 2011'] >  79) & (df_wls_merge['education'] <= 12) & (df_wls_merge['category fluency, scored words named, 2011'] < 10.5),\n",
    "    (df_wls_merge['age 2011'] >  79) & (df_wls_merge['education'] >  12) & (df_wls_merge['category fluency, scored words named, 2011'] < 12),\n",
    "]\n",
    "wls_Categories = [True, True, True, True]"
   ]
  },
  {
   "cell_type": "code",
   "execution_count": 15,
   "id": "7c0876b9",
   "metadata": {
    "execution": {
     "iopub.execute_input": "2023-01-20T22:59:31.692086Z",
     "iopub.status.busy": "2023-01-20T22:59:31.691413Z",
     "iopub.status.idle": "2023-01-20T22:59:31.699851Z",
     "shell.execute_reply": "2023-01-20T22:59:31.698514Z",
     "shell.execute_reply.started": "2023-01-20T22:59:31.692024Z"
    },
    "tags": []
   },
   "outputs": [],
   "source": [
    "df_wls_merge['customLabel'] = np.select(wls_Conditions, wls_Categories, default=False)"
   ]
  },
  {
   "cell_type": "code",
   "execution_count": 16,
   "id": "55534d6d",
   "metadata": {
    "execution": {
     "iopub.execute_input": "2023-01-20T22:59:33.955874Z",
     "iopub.status.busy": "2023-01-20T22:59:33.955005Z",
     "iopub.status.idle": "2023-01-20T22:59:34.007636Z",
     "shell.execute_reply": "2023-01-20T22:59:34.006226Z",
     "shell.execute_reply.started": "2023-01-20T22:59:33.955801Z"
    },
    "tags": []
   },
   "outputs": [
    {
     "data": {
      "text/html": [
       "<div>\n",
       "<style scoped>\n",
       "    .dataframe tbody tr th:only-of-type {\n",
       "        vertical-align: middle;\n",
       "    }\n",
       "\n",
       "    .dataframe tbody tr th {\n",
       "        vertical-align: top;\n",
       "    }\n",
       "\n",
       "    .dataframe thead th {\n",
       "        text-align: right;\n",
       "    }\n",
       "</style>\n",
       "<table border=\"1\" class=\"dataframe\">\n",
       "  <thead>\n",
       "    <tr style=\"text-align: right;\">\n",
       "      <th>belowSD</th>\n",
       "      <th>N</th>\n",
       "      <th>Y</th>\n",
       "      <th>y</th>\n",
       "    </tr>\n",
       "    <tr>\n",
       "      <th>customLabel</th>\n",
       "      <th></th>\n",
       "      <th></th>\n",
       "      <th></th>\n",
       "    </tr>\n",
       "  </thead>\n",
       "  <tbody>\n",
       "    <tr>\n",
       "      <th>False</th>\n",
       "      <td>1166</td>\n",
       "      <td>4</td>\n",
       "      <td>0</td>\n",
       "    </tr>\n",
       "    <tr>\n",
       "      <th>True</th>\n",
       "      <td>1</td>\n",
       "      <td>105</td>\n",
       "      <td>1</td>\n",
       "    </tr>\n",
       "  </tbody>\n",
       "</table>\n",
       "</div>"
      ],
      "text/plain": [
       "belowSD         N    Y  y\n",
       "customLabel              \n",
       "False        1166    4  0\n",
       "True            1  105  1"
      ]
     },
     "execution_count": 16,
     "metadata": {},
     "output_type": "execute_result"
    }
   ],
   "source": [
    "pd.crosstab(index=df_wls_merge['customLabel'], columns=df_wls_merge['belowSD'])"
   ]
  },
  {
   "cell_type": "code",
   "execution_count": null,
   "id": "679ee8be",
   "metadata": {},
   "outputs": [],
   "source": []
  },
  {
   "cell_type": "code",
   "execution_count": null,
   "id": "0a1c832c-cefb-4742-9fb9-0b62b38e3e69",
   "metadata": {},
   "outputs": [],
   "source": []
  },
  {
   "cell_type": "markdown",
   "id": "6480b5e8-a544-4862-bd64-22377471a3ca",
   "metadata": {},
   "source": [
    "## TICSm"
   ]
  },
  {
   "cell_type": "code",
   "execution_count": 17,
   "id": "104b2a74-4e71-42ae-b2c5-eb3c928e0fe1",
   "metadata": {
    "execution": {
     "iopub.execute_input": "2023-01-20T23:01:12.332808Z",
     "iopub.status.busy": "2023-01-20T23:01:12.331948Z",
     "iopub.status.idle": "2023-01-20T23:01:12.470116Z",
     "shell.execute_reply": "2023-01-20T23:01:12.468040Z",
     "shell.execute_reply.started": "2023-01-20T23:01:12.332735Z"
    }
   },
   "outputs": [
    {
     "name": "stdout",
     "output_type": "stream",
     "text": [
      "more_weirdness.txt\t\t     wls_data_frontier\n",
      "weirdness.txt\t\t\t     wls_metadata\n",
      "WLS_14_01_idpriv_Cohen_Pakhomov.dta  wls_notebooks\n",
      "wls_activity_preprocessing_jul2021   wls_preprocessing\n",
      "wls_activity_transcripts\t     wls_short_interviews.ipynb\n",
      "wls_all\t\t\t\t     wls_total_R6_07122021.csv\n",
      "wls_cookie_theft\t\t     wls_transcripts\n"
     ]
    }
   ],
   "source": [
    "!ls /edata/wls"
   ]
  },
  {
   "cell_type": "code",
   "execution_count": 19,
   "id": "7fa38acc",
   "metadata": {
    "execution": {
     "iopub.execute_input": "2023-01-21T00:25:20.080110Z",
     "iopub.status.busy": "2023-01-21T00:25:20.079397Z",
     "iopub.status.idle": "2023-01-21T00:25:44.175946Z",
     "shell.execute_reply": "2023-01-21T00:25:44.175114Z",
     "shell.execute_reply.started": "2023-01-21T00:25:20.080047Z"
    },
    "tags": []
   },
   "outputs": [],
   "source": [
    "tmp = pd.read_stata(\"/edata/wls/WLS_14_01_idpriv_Cohen_Pakhomov.dta\")"
   ]
  },
  {
   "cell_type": "code",
   "execution_count": 35,
   "id": "055e8d02-6ec7-4391-b4fd-63ac12cd83a6",
   "metadata": {
    "execution": {
     "iopub.execute_input": "2023-01-21T00:42:51.875556Z",
     "iopub.status.busy": "2023-01-21T00:42:51.875185Z",
     "iopub.status.idle": "2023-01-21T00:42:51.881313Z",
     "shell.execute_reply": "2023-01-21T00:42:51.880551Z",
     "shell.execute_reply.started": "2023-01-21T00:42:51.875525Z"
    }
   },
   "outputs": [
    {
     "data": {
      "text/plain": [
       "(1366, 13754)"
      ]
     },
     "execution_count": 35,
     "metadata": {},
     "output_type": "execute_result"
    }
   ],
   "source": [
    "tmp.shape"
   ]
  },
  {
   "cell_type": "code",
   "execution_count": 22,
   "id": "e8388bc0-3051-4619-97a1-e360ce31977f",
   "metadata": {
    "execution": {
     "iopub.execute_input": "2023-01-21T00:39:43.385283Z",
     "iopub.status.busy": "2023-01-21T00:39:43.379263Z",
     "iopub.status.idle": "2023-01-21T00:39:43.750208Z",
     "shell.execute_reply": "2023-01-21T00:39:43.748970Z",
     "shell.execute_reply.started": "2023-01-21T00:39:43.385173Z"
    },
    "tags": []
   },
   "outputs": [
    {
     "data": {
      "text/html": [
       "<div>\n",
       "<style scoped>\n",
       "    .dataframe tbody tr th:only-of-type {\n",
       "        vertical-align: middle;\n",
       "    }\n",
       "\n",
       "    .dataframe tbody tr th {\n",
       "        vertical-align: top;\n",
       "    }\n",
       "\n",
       "    .dataframe thead th {\n",
       "        text-align: right;\n",
       "    }\n",
       "</style>\n",
       "<table border=\"1\" class=\"dataframe\">\n",
       "  <thead>\n",
       "    <tr style=\"text-align: right;\">\n",
       "      <th></th>\n",
       "      <th>idpriv</th>\n",
       "      <th>rtype</th>\n",
       "      <th>z_gx361re</th>\n",
       "      <th>z_gx362are</th>\n",
       "      <th>z_gx362bre</th>\n",
       "      <th>z_gv032are</th>\n",
       "      <th>z_gv032bre</th>\n",
       "      <th>z_hx361re</th>\n",
       "      <th>z_hx362are</th>\n",
       "      <th>familypub</th>\n",
       "      <th>...</th>\n",
       "      <th>z_q1c309re</th>\n",
       "      <th>z_q1z023rer</th>\n",
       "      <th>z_q1z024rer</th>\n",
       "      <th>z_q1u008rer</th>\n",
       "      <th>z_q1e101he</th>\n",
       "      <th>z_q1x1321re</th>\n",
       "      <th>z_q1x1319re</th>\n",
       "      <th>z_q1x1319mn</th>\n",
       "      <th>z_q1x1319yr</th>\n",
       "      <th>z_q1x1320re</th>\n",
       "    </tr>\n",
       "  </thead>\n",
       "  <tbody>\n",
       "    <tr>\n",
       "      <th>0</th>\n",
       "      <td>804539</td>\n",
       "      <td>g</td>\n",
       "      <td>no</td>\n",
       "      <td>inap</td>\n",
       "      <td>inap</td>\n",
       "      <td>inap</td>\n",
       "      <td>inap</td>\n",
       "      <td>no</td>\n",
       "      <td>inap</td>\n",
       "      <td>1209454</td>\n",
       "      <td>...</td>\n",
       "      <td>Inap</td>\n",
       "      <td>10.0</td>\n",
       "      <td>0.0</td>\n",
       "      <td>Zero Days</td>\n",
       "      <td>0.0</td>\n",
       "      <td>Some</td>\n",
       "      <td>NOT ASCERTAINED</td>\n",
       "      <td>NOT ASCERTAINED</td>\n",
       "      <td>NOT ASCERTAINED</td>\n",
       "      <td>Not Ascertained</td>\n",
       "    </tr>\n",
       "    <tr>\n",
       "      <th>1</th>\n",
       "      <td>804539</td>\n",
       "      <td>s</td>\n",
       "      <td>no</td>\n",
       "      <td>inap</td>\n",
       "      <td>inap</td>\n",
       "      <td>inap</td>\n",
       "      <td>inap</td>\n",
       "      <td>no</td>\n",
       "      <td>inap</td>\n",
       "      <td>1209454</td>\n",
       "      <td>...</td>\n",
       "      <td>Inap</td>\n",
       "      <td>20.0</td>\n",
       "      <td>2.0</td>\n",
       "      <td>Zero Days</td>\n",
       "      <td>1.0</td>\n",
       "      <td>Very Much</td>\n",
       "      <td>NOT ASCERTAINED</td>\n",
       "      <td>NOT ASCERTAINED</td>\n",
       "      <td>NOT ASCERTAINED</td>\n",
       "      <td>Not Ascertained</td>\n",
       "    </tr>\n",
       "    <tr>\n",
       "      <th>2</th>\n",
       "      <td>833715</td>\n",
       "      <td>g</td>\n",
       "      <td>no</td>\n",
       "      <td>inap</td>\n",
       "      <td>inap</td>\n",
       "      <td>inap</td>\n",
       "      <td>inap</td>\n",
       "      <td>no</td>\n",
       "      <td>inap</td>\n",
       "      <td>1209072</td>\n",
       "      <td>...</td>\n",
       "      <td>Inap</td>\n",
       "      <td>2.0</td>\n",
       "      <td>1.0</td>\n",
       "      <td>Zero Days</td>\n",
       "      <td>0.0</td>\n",
       "      <td>Very Much</td>\n",
       "      <td>NOT ASCERTAINED</td>\n",
       "      <td>NOT ASCERTAINED</td>\n",
       "      <td>NOT ASCERTAINED</td>\n",
       "      <td>Not Ascertained</td>\n",
       "    </tr>\n",
       "    <tr>\n",
       "      <th>3</th>\n",
       "      <td>833715</td>\n",
       "      <td>s</td>\n",
       "      <td>NaN</td>\n",
       "      <td>NaN</td>\n",
       "      <td>NaN</td>\n",
       "      <td>NaN</td>\n",
       "      <td>NaN</td>\n",
       "      <td>no</td>\n",
       "      <td>inap</td>\n",
       "      <td>1209072</td>\n",
       "      <td>...</td>\n",
       "      <td>NaN</td>\n",
       "      <td>NaN</td>\n",
       "      <td>NaN</td>\n",
       "      <td>NaN</td>\n",
       "      <td>NaN</td>\n",
       "      <td>NaN</td>\n",
       "      <td>NaN</td>\n",
       "      <td>NaN</td>\n",
       "      <td>NaN</td>\n",
       "      <td>NaN</td>\n",
       "    </tr>\n",
       "    <tr>\n",
       "      <th>4</th>\n",
       "      <td>815825</td>\n",
       "      <td>s</td>\n",
       "      <td>no</td>\n",
       "      <td>inap</td>\n",
       "      <td>inap</td>\n",
       "      <td>inap</td>\n",
       "      <td>inap</td>\n",
       "      <td>no</td>\n",
       "      <td>inap</td>\n",
       "      <td>1202456</td>\n",
       "      <td>...</td>\n",
       "      <td>Inap</td>\n",
       "      <td>0.0</td>\n",
       "      <td>1.0</td>\n",
       "      <td>Zero Days</td>\n",
       "      <td>0.0</td>\n",
       "      <td>Completely</td>\n",
       "      <td>NOT ASCERTAINED</td>\n",
       "      <td>NOT ASCERTAINED</td>\n",
       "      <td>NOT ASCERTAINED</td>\n",
       "      <td>Not Ascertained</td>\n",
       "    </tr>\n",
       "  </tbody>\n",
       "</table>\n",
       "<p>5 rows × 13754 columns</p>\n",
       "</div>"
      ],
      "text/plain": [
       "   idpriv rtype z_gx361re z_gx362are z_gx362bre z_gv032are z_gv032bre  \\\n",
       "0  804539     g        no       inap       inap       inap       inap   \n",
       "1  804539     s        no       inap       inap       inap       inap   \n",
       "2  833715     g        no       inap       inap       inap       inap   \n",
       "3  833715     s       NaN        NaN        NaN        NaN        NaN   \n",
       "4  815825     s        no       inap       inap       inap       inap   \n",
       "\n",
       "  z_hx361re z_hx362are  familypub  ...  z_q1c309re  z_q1z023rer z_q1z024rer  \\\n",
       "0        no       inap    1209454  ...        Inap         10.0         0.0   \n",
       "1        no       inap    1209454  ...        Inap         20.0         2.0   \n",
       "2        no       inap    1209072  ...        Inap          2.0         1.0   \n",
       "3        no       inap    1209072  ...         NaN          NaN         NaN   \n",
       "4        no       inap    1202456  ...        Inap          0.0         1.0   \n",
       "\n",
       "   z_q1u008rer z_q1e101he z_q1x1321re      z_q1x1319re      z_q1x1319mn  \\\n",
       "0    Zero Days        0.0        Some  NOT ASCERTAINED  NOT ASCERTAINED   \n",
       "1    Zero Days        1.0   Very Much  NOT ASCERTAINED  NOT ASCERTAINED   \n",
       "2    Zero Days        0.0   Very Much  NOT ASCERTAINED  NOT ASCERTAINED   \n",
       "3          NaN        NaN         NaN              NaN              NaN   \n",
       "4    Zero Days        0.0  Completely  NOT ASCERTAINED  NOT ASCERTAINED   \n",
       "\n",
       "       z_q1x1319yr      z_q1x1320re  \n",
       "0  NOT ASCERTAINED  Not Ascertained  \n",
       "1  NOT ASCERTAINED  Not Ascertained  \n",
       "2  NOT ASCERTAINED  Not Ascertained  \n",
       "3              NaN              NaN  \n",
       "4  NOT ASCERTAINED  Not Ascertained  \n",
       "\n",
       "[5 rows x 13754 columns]"
      ]
     },
     "execution_count": 22,
     "metadata": {},
     "output_type": "execute_result"
    }
   ],
   "source": [
    "tmp.head()"
   ]
  },
  {
   "cell_type": "code",
   "execution_count": 28,
   "id": "375ad6eb-11ed-469b-8374-e3d0224c49ef",
   "metadata": {
    "execution": {
     "iopub.execute_input": "2023-01-21T00:41:06.302837Z",
     "iopub.status.busy": "2023-01-21T00:41:06.301988Z",
     "iopub.status.idle": "2023-01-21T00:41:06.324428Z",
     "shell.execute_reply": "2023-01-21T00:41:06.323522Z",
     "shell.execute_reply.started": "2023-01-21T00:41:06.302765Z"
    }
   },
   "outputs": [
    {
     "data": {
      "text/html": [
       "<div>\n",
       "<style scoped>\n",
       "    .dataframe tbody tr th:only-of-type {\n",
       "        vertical-align: middle;\n",
       "    }\n",
       "\n",
       "    .dataframe tbody tr th {\n",
       "        vertical-align: top;\n",
       "    }\n",
       "\n",
       "    .dataframe thead th {\n",
       "        text-align: right;\n",
       "    }\n",
       "</style>\n",
       "<table border=\"1\" class=\"dataframe\">\n",
       "  <thead>\n",
       "    <tr style=\"text-align: right;\">\n",
       "      <th></th>\n",
       "      <th>file</th>\n",
       "      <th>text</th>\n",
       "      <th>idtlkbnk</th>\n",
       "      <th>age 2011</th>\n",
       "      <th>education</th>\n",
       "      <th>category fluency version, 2011</th>\n",
       "      <th>category fluency, scored words named, 2011</th>\n",
       "      <th>belowSD</th>\n",
       "      <th>customLabel</th>\n",
       "    </tr>\n",
       "  </thead>\n",
       "  <tbody>\n",
       "    <tr>\n",
       "      <th>0</th>\n",
       "      <td>2000015784</td>\n",
       "      <td>Well i see a boy taking a cookie outof a cooki...</td>\n",
       "      <td>2000015784</td>\n",
       "      <td>70</td>\n",
       "      <td>12</td>\n",
       "      <td>2</td>\n",
       "      <td>9</td>\n",
       "      <td>Y</td>\n",
       "      <td>True</td>\n",
       "    </tr>\n",
       "    <tr>\n",
       "      <th>1</th>\n",
       "      <td>2000015088</td>\n",
       "      <td>The mother's doing dishes. She's naughty. She'...</td>\n",
       "      <td>2000015088</td>\n",
       "      <td>70</td>\n",
       "      <td>12</td>\n",
       "      <td>1</td>\n",
       "      <td>10</td>\n",
       "      <td>Y</td>\n",
       "      <td>True</td>\n",
       "    </tr>\n",
       "    <tr>\n",
       "      <th>2</th>\n",
       "      <td>2000015573</td>\n",
       "      <td>Okay. Somebody is into the cookie jar and he's...</td>\n",
       "      <td>2000015573</td>\n",
       "      <td>71</td>\n",
       "      <td>12</td>\n",
       "      <td>2</td>\n",
       "      <td>14</td>\n",
       "      <td>N</td>\n",
       "      <td>False</td>\n",
       "    </tr>\n",
       "    <tr>\n",
       "      <th>3</th>\n",
       "      <td>2000015045</td>\n",
       "      <td>Okay. There's a young boy up on a chair that's...</td>\n",
       "      <td>2000015045</td>\n",
       "      <td>72</td>\n",
       "      <td>14</td>\n",
       "      <td>1</td>\n",
       "      <td>22</td>\n",
       "      <td>N</td>\n",
       "      <td>False</td>\n",
       "    </tr>\n",
       "    <tr>\n",
       "      <th>4</th>\n",
       "      <td>2000015213</td>\n",
       "      <td>Kids are in the cookie jar. And the child is r...</td>\n",
       "      <td>2000015213</td>\n",
       "      <td>63</td>\n",
       "      <td>12</td>\n",
       "      <td>2</td>\n",
       "      <td>16</td>\n",
       "      <td>N</td>\n",
       "      <td>False</td>\n",
       "    </tr>\n",
       "  </tbody>\n",
       "</table>\n",
       "</div>"
      ],
      "text/plain": [
       "         file                                               text    idtlkbnk  \\\n",
       "0  2000015784  Well i see a boy taking a cookie outof a cooki...  2000015784   \n",
       "1  2000015088  The mother's doing dishes. She's naughty. She'...  2000015088   \n",
       "2  2000015573  Okay. Somebody is into the cookie jar and he's...  2000015573   \n",
       "3  2000015045  Okay. There's a young boy up on a chair that's...  2000015045   \n",
       "4  2000015213  Kids are in the cookie jar. And the child is r...  2000015213   \n",
       "\n",
       "   age 2011  education  category fluency version, 2011  \\\n",
       "0        70         12                               2   \n",
       "1        70         12                               1   \n",
       "2        71         12                               2   \n",
       "3        72         14                               1   \n",
       "4        63         12                               2   \n",
       "\n",
       "   category fluency, scored words named, 2011 belowSD  customLabel  \n",
       "0                                           9       Y         True  \n",
       "1                                          10       Y         True  \n",
       "2                                          14       N        False  \n",
       "3                                          22       N        False  \n",
       "4                                          16       N        False  "
      ]
     },
     "execution_count": 28,
     "metadata": {},
     "output_type": "execute_result"
    }
   ],
   "source": [
    "df_wls_merge.head()"
   ]
  },
  {
   "cell_type": "code",
   "execution_count": 27,
   "id": "6081638a-32e9-4fef-a26b-8ed261b273c8",
   "metadata": {
    "execution": {
     "iopub.execute_input": "2023-01-21T00:40:49.950808Z",
     "iopub.status.busy": "2023-01-21T00:40:49.950264Z",
     "iopub.status.idle": "2023-01-21T00:40:49.963282Z",
     "shell.execute_reply": "2023-01-21T00:40:49.962352Z",
     "shell.execute_reply.started": "2023-01-21T00:40:49.950771Z"
    },
    "tags": []
   },
   "outputs": [
    {
     "data": {
      "text/plain": [
       "set()"
      ]
     },
     "execution_count": 27,
     "metadata": {},
     "output_type": "execute_result"
    }
   ],
   "source": [
    "set(df_wls_merge.columns).intersection(set(tmp.columns))"
   ]
  },
  {
   "cell_type": "code",
   "execution_count": 42,
   "id": "0a0267d7-c3d6-4757-a0e4-e7a8853df91b",
   "metadata": {
    "execution": {
     "iopub.execute_input": "2023-01-21T00:45:37.398959Z",
     "iopub.status.busy": "2023-01-21T00:45:37.398096Z",
     "iopub.status.idle": "2023-01-21T00:45:37.422270Z",
     "shell.execute_reply": "2023-01-21T00:45:37.420985Z",
     "shell.execute_reply.started": "2023-01-21T00:45:37.398882Z"
    },
    "tags": []
   },
   "outputs": [
    {
     "data": {
      "text/plain": [
       "['idpriv',\n",
       " 'personid',\n",
       " 'selsibidpub',\n",
       " 'didspec1',\n",
       " 'idsampq',\n",
       " 'idsoc57q',\n",
       " 'hidg64',\n",
       " 'z_idint',\n",
       " 'z_kidsno',\n",
       " 'ckkids',\n",
       " 're088fid',\n",
       " 're089fid',\n",
       " 'z_idiffrec',\n",
       " 'z_id001are',\n",
       " 'z_id001bre',\n",
       " 'z_id001cre',\n",
       " 'z_id001dre',\n",
       " 'z_id002are',\n",
       " 'z_id002bre',\n",
       " 'z_id002cre',\n",
       " 'z_id002dre',\n",
       " 'z_id003are',\n",
       " 'z_id003bre',\n",
       " 'z_id003cre',\n",
       " 'z_id003dre',\n",
       " 'z_id004are',\n",
       " 'z_id004bre',\n",
       " 'z_id004cre',\n",
       " 'z_id004dre',\n",
       " 'z_id005are',\n",
       " 'z_id005bre',\n",
       " 'z_id005cre',\n",
       " 'z_id005dre',\n",
       " 'z_id006are',\n",
       " 'z_id006bre',\n",
       " 'z_id006cre',\n",
       " 'z_id006dre',\n",
       " 'z_id007are',\n",
       " 'z_id007bre',\n",
       " 'z_id007cre',\n",
       " 'z_id007dre',\n",
       " 'z_id008are',\n",
       " 'z_id008bre',\n",
       " 'z_id008cre',\n",
       " 'z_id008dre',\n",
       " 'z_id009are',\n",
       " 'z_id009cre',\n",
       " 'z_id009dre',\n",
       " 'z_id010are',\n",
       " 'z_id010bre',\n",
       " 'z_id010cre',\n",
       " 'z_id010dre',\n",
       " 'z_id011are',\n",
       " 'z_id011bre',\n",
       " 'z_id011cre',\n",
       " 'z_id011dre',\n",
       " 'z_id012are',\n",
       " 'z_id012bre',\n",
       " 'z_id012cre',\n",
       " 'z_id012dre',\n",
       " 'z_id013are',\n",
       " 'z_id013bre',\n",
       " 'z_id013cre',\n",
       " 'z_id013dre',\n",
       " 'z_id014are',\n",
       " 'z_id014bre',\n",
       " 'z_id014cre',\n",
       " 'z_id014dre',\n",
       " 'z_id015are',\n",
       " 'z_id015bre',\n",
       " 'z_id015cre',\n",
       " 'z_id015dre',\n",
       " 'z_id016are',\n",
       " 'z_id016bre',\n",
       " 'z_id016cre',\n",
       " 'z_id016dre',\n",
       " 'z_id017are',\n",
       " 'z_id017bre',\n",
       " 'z_id017cre',\n",
       " 'z_id017dre',\n",
       " 'z_id018rec',\n",
       " 'z_id101rer',\n",
       " 'z_id102rer',\n",
       " 'z_id103rer',\n",
       " 'z_id104rer',\n",
       " 'z_id105rer',\n",
       " 'z_id106rer',\n",
       " 'z_id107rer',\n",
       " 'z_id108rer',\n",
       " 'z_id109rer',\n",
       " 'z_id110rer',\n",
       " 'z_id111rer',\n",
       " 'z_id112rer',\n",
       " 'z_id113rer',\n",
       " 'z_id114rer',\n",
       " 'z_id115rer',\n",
       " 'z_id116rer',\n",
       " 'z_id117rer',\n",
       " 'z_id118rer',\n",
       " 'z_hkidstat',\n",
       " 'z_hkidrel']"
      ]
     },
     "execution_count": 42,
     "metadata": {},
     "output_type": "execute_result"
    }
   ],
   "source": [
    "[x for x in tmp.columns if 'id' in x.lower()]"
   ]
  },
  {
   "cell_type": "code",
   "execution_count": 48,
   "id": "75e0e44d-ca24-4252-8c77-31f0ac77ae19",
   "metadata": {
    "execution": {
     "iopub.execute_input": "2023-01-21T00:47:29.211696Z",
     "iopub.status.busy": "2023-01-21T00:47:29.210803Z",
     "iopub.status.idle": "2023-01-21T00:47:29.226006Z",
     "shell.execute_reply": "2023-01-21T00:47:29.224565Z",
     "shell.execute_reply.started": "2023-01-21T00:47:29.211620Z"
    },
    "tags": []
   },
   "outputs": [
    {
     "data": {
      "text/plain": [
       "0       804539\n",
       "1       804539\n",
       "2       833715\n",
       "3       833715\n",
       "4       815825\n",
       "         ...  \n",
       "1361    826120\n",
       "1362    821859\n",
       "1363    803909\n",
       "1364    803909\n",
       "1365    826627\n",
       "Name: idpriv, Length: 1366, dtype: int32"
      ]
     },
     "execution_count": 48,
     "metadata": {},
     "output_type": "execute_result"
    }
   ],
   "source": [
    "tmp['idpriv']"
   ]
  },
  {
   "cell_type": "code",
   "execution_count": null,
   "id": "45127286-2c1e-4c24-acc0-e405b54a8467",
   "metadata": {},
   "outputs": [],
   "source": [
    "tmp['idpriv']."
   ]
  },
  {
   "cell_type": "code",
   "execution_count": 44,
   "id": "70c292e1-3940-431c-ada8-c132acd7fcd4",
   "metadata": {
    "execution": {
     "iopub.execute_input": "2023-01-21T00:46:18.862022Z",
     "iopub.status.busy": "2023-01-21T00:46:18.861183Z",
     "iopub.status.idle": "2023-01-21T00:46:18.879742Z",
     "shell.execute_reply": "2023-01-21T00:46:18.878276Z",
     "shell.execute_reply.started": "2023-01-21T00:46:18.861947Z"
    },
    "tags": []
   },
   "outputs": [
    {
     "data": {
      "text/html": [
       "<div>\n",
       "<style scoped>\n",
       "    .dataframe tbody tr th:only-of-type {\n",
       "        vertical-align: middle;\n",
       "    }\n",
       "\n",
       "    .dataframe tbody tr th {\n",
       "        vertical-align: top;\n",
       "    }\n",
       "\n",
       "    .dataframe thead th {\n",
       "        text-align: right;\n",
       "    }\n",
       "</style>\n",
       "<table border=\"1\" class=\"dataframe\">\n",
       "  <thead>\n",
       "    <tr style=\"text-align: right;\">\n",
       "      <th></th>\n",
       "      <th>file</th>\n",
       "      <th>text</th>\n",
       "      <th>idtlkbnk</th>\n",
       "      <th>age 2011</th>\n",
       "      <th>education</th>\n",
       "      <th>category fluency version, 2011</th>\n",
       "      <th>category fluency, scored words named, 2011</th>\n",
       "      <th>belowSD</th>\n",
       "      <th>customLabel</th>\n",
       "    </tr>\n",
       "  </thead>\n",
       "  <tbody>\n",
       "  </tbody>\n",
       "</table>\n",
       "</div>"
      ],
      "text/plain": [
       "Empty DataFrame\n",
       "Columns: [file, text, idtlkbnk, age 2011, education, category fluency version, 2011, category fluency, scored words named, 2011, belowSD, customLabel]\n",
       "Index: []"
      ]
     },
     "execution_count": 44,
     "metadata": {},
     "output_type": "execute_result"
    }
   ],
   "source": [
    "df_wls_merge[df_wls_merge['idtlkbnk'].isin(tmp['selsibidpub'])]"
   ]
  },
  {
   "cell_type": "code",
   "execution_count": null,
   "id": "157653b1-58b5-4eda-a8ed-b821f5b31362",
   "metadata": {},
   "outputs": [],
   "source": []
  },
  {
   "cell_type": "code",
   "execution_count": null,
   "id": "b5465fd8-c588-49a0-a15d-ce53c4dfcdec",
   "metadata": {},
   "outputs": [],
   "source": []
  },
  {
   "cell_type": "code",
   "execution_count": null,
   "id": "2ece7d34-1df1-462e-87a1-379cc81ba3fe",
   "metadata": {},
   "outputs": [],
   "source": []
  },
  {
   "cell_type": "code",
   "execution_count": null,
   "id": "584fe3ba-9480-4e30-980d-48b2f158f1af",
   "metadata": {},
   "outputs": [],
   "source": []
  },
  {
   "cell_type": "markdown",
   "id": "160f0eed",
   "metadata": {},
   "source": [
    "# ADReSS"
   ]
  },
  {
   "cell_type": "markdown",
   "id": "d1f8d1b1",
   "metadata": {},
   "source": [
    "## A Few Checks on `_train` vs `_train_train`"
   ]
  },
  {
   "cell_type": "code",
   "execution_count": 14,
   "id": "48e34cc2",
   "metadata": {
    "ExecuteTime": {
     "end_time": "2022-10-12T21:28:39.633788Z",
     "start_time": "2022-10-12T21:28:39.625046Z"
    }
   },
   "outputs": [],
   "source": [
    "df_adress_train = pd.read_csv(\"/edata/ADReSS-IS2020-data/dataframes/adre_train.csv\")"
   ]
  },
  {
   "cell_type": "code",
   "execution_count": 15,
   "id": "22d0fd73",
   "metadata": {
    "ExecuteTime": {
     "end_time": "2022-10-12T21:28:42.680001Z",
     "start_time": "2022-10-12T21:28:42.654921Z"
    }
   },
   "outputs": [
    {
     "data": {
      "text/html": [
       "<div>\n",
       "<style scoped>\n",
       "    .dataframe tbody tr th:only-of-type {\n",
       "        vertical-align: middle;\n",
       "    }\n",
       "\n",
       "    .dataframe tbody tr th {\n",
       "        vertical-align: top;\n",
       "    }\n",
       "\n",
       "    .dataframe thead th {\n",
       "        text-align: right;\n",
       "    }\n",
       "</style>\n",
       "<table border=\"1\" class=\"dataframe\">\n",
       "  <thead>\n",
       "    <tr style=\"text-align: right;\">\n",
       "      <th></th>\n",
       "      <th>Unnamed: 0</th>\n",
       "      <th>sentence_source</th>\n",
       "      <th>label</th>\n",
       "      <th>sentence</th>\n",
       "    </tr>\n",
       "  </thead>\n",
       "  <tbody>\n",
       "    <tr>\n",
       "      <th>0</th>\n",
       "      <td>6</td>\n",
       "      <td>S094.txt</td>\n",
       "      <td>1</td>\n",
       "      <td>oh yes   a little girl and the little boy is ...</td>\n",
       "    </tr>\n",
       "    <tr>\n",
       "      <th>1</th>\n",
       "      <td>0</td>\n",
       "      <td>S138.txt</td>\n",
       "      <td>1</td>\n",
       "      <td>the the water's flowing on the floor   and sh...</td>\n",
       "    </tr>\n",
       "    <tr>\n",
       "      <th>2</th>\n",
       "      <td>30</td>\n",
       "      <td>S118.txt</td>\n",
       "      <td>1</td>\n",
       "      <td>oh there's a cookie jar and a youngster with ...</td>\n",
       "    </tr>\n",
       "    <tr>\n",
       "      <th>3</th>\n",
       "      <td>37</td>\n",
       "      <td>S114.txt</td>\n",
       "      <td>1</td>\n",
       "      <td>mhm   well the kids is robbing a cookie jar  ...</td>\n",
       "    </tr>\n",
       "    <tr>\n",
       "      <th>4</th>\n",
       "      <td>49</td>\n",
       "      <td>S143.txt</td>\n",
       "      <td>1</td>\n",
       "      <td>well little boy reaching out for the cookie j...</td>\n",
       "    </tr>\n",
       "    <tr>\n",
       "      <th>...</th>\n",
       "      <td>...</td>\n",
       "      <td>...</td>\n",
       "      <td>...</td>\n",
       "      <td>...</td>\n",
       "    </tr>\n",
       "    <tr>\n",
       "      <th>103</th>\n",
       "      <td>55</td>\n",
       "      <td>S032.txt</td>\n",
       "      <td>0</td>\n",
       "      <td>well the little girl is saying to be quiet to...</td>\n",
       "    </tr>\n",
       "    <tr>\n",
       "      <th>104</th>\n",
       "      <td>15</td>\n",
       "      <td>S097.txt</td>\n",
       "      <td>1</td>\n",
       "      <td>an average home that looks very much like our...</td>\n",
       "    </tr>\n",
       "    <tr>\n",
       "      <th>105</th>\n",
       "      <td>56</td>\n",
       "      <td>S016.txt</td>\n",
       "      <td>0</td>\n",
       "      <td>well the girl is watching the boy go into the...</td>\n",
       "    </tr>\n",
       "    <tr>\n",
       "      <th>106</th>\n",
       "      <td>61</td>\n",
       "      <td>S061.txt</td>\n",
       "      <td>0</td>\n",
       "      <td>alright   boy is getting into the cookie jar ...</td>\n",
       "    </tr>\n",
       "    <tr>\n",
       "      <th>107</th>\n",
       "      <td>92</td>\n",
       "      <td>S058.txt</td>\n",
       "      <td>0</td>\n",
       "      <td>everything that's going on okay   mother's wi...</td>\n",
       "    </tr>\n",
       "  </tbody>\n",
       "</table>\n",
       "<p>108 rows × 4 columns</p>\n",
       "</div>"
      ],
      "text/plain": [
       "     Unnamed: 0 sentence_source  label  \\\n",
       "0             6        S094.txt      1   \n",
       "1             0        S138.txt      1   \n",
       "2            30        S118.txt      1   \n",
       "3            37        S114.txt      1   \n",
       "4            49        S143.txt      1   \n",
       "..          ...             ...    ...   \n",
       "103          55        S032.txt      0   \n",
       "104          15        S097.txt      1   \n",
       "105          56        S016.txt      0   \n",
       "106          61        S061.txt      0   \n",
       "107          92        S058.txt      0   \n",
       "\n",
       "                                              sentence  \n",
       "0     oh yes   a little girl and the little boy is ...  \n",
       "1     the the water's flowing on the floor   and sh...  \n",
       "2     oh there's a cookie jar and a youngster with ...  \n",
       "3     mhm   well the kids is robbing a cookie jar  ...  \n",
       "4     well little boy reaching out for the cookie j...  \n",
       "..                                                 ...  \n",
       "103   well the little girl is saying to be quiet to...  \n",
       "104   an average home that looks very much like our...  \n",
       "105   well the girl is watching the boy go into the...  \n",
       "106   alright   boy is getting into the cookie jar ...  \n",
       "107   everything that's going on okay   mother's wi...  \n",
       "\n",
       "[108 rows x 4 columns]"
      ]
     },
     "execution_count": 15,
     "metadata": {},
     "output_type": "execute_result"
    }
   ],
   "source": [
    "df_adress_train"
   ]
  },
  {
   "cell_type": "code",
   "execution_count": 21,
   "id": "a04986e4",
   "metadata": {
    "ExecuteTime": {
     "end_time": "2022-10-12T21:54:37.067560Z",
     "start_time": "2022-10-12T21:54:37.055467Z"
    }
   },
   "outputs": [
    {
     "data": {
      "text/plain": [
       "label\n",
       "0    54\n",
       "1    54\n",
       "dtype: int64"
      ]
     },
     "execution_count": 21,
     "metadata": {},
     "output_type": "execute_result"
    }
   ],
   "source": [
    "df_adress_train.groupby('label').size()"
   ]
  },
  {
   "cell_type": "code",
   "execution_count": 25,
   "id": "5b445f31",
   "metadata": {
    "ExecuteTime": {
     "end_time": "2022-10-12T21:58:30.422748Z",
     "start_time": "2022-10-12T21:58:30.410037Z"
    }
   },
   "outputs": [
    {
     "data": {
      "text/html": [
       "<div>\n",
       "<style scoped>\n",
       "    .dataframe tbody tr th:only-of-type {\n",
       "        vertical-align: middle;\n",
       "    }\n",
       "\n",
       "    .dataframe tbody tr th {\n",
       "        vertical-align: top;\n",
       "    }\n",
       "\n",
       "    .dataframe thead th {\n",
       "        text-align: right;\n",
       "    }\n",
       "</style>\n",
       "<table border=\"1\" class=\"dataframe\">\n",
       "  <thead>\n",
       "    <tr style=\"text-align: right;\">\n",
       "      <th></th>\n",
       "      <th>Unnamed: 0</th>\n",
       "      <th>sentence_source</th>\n",
       "      <th>label</th>\n",
       "      <th>sentence</th>\n",
       "    </tr>\n",
       "  </thead>\n",
       "  <tbody>\n",
       "  </tbody>\n",
       "</table>\n",
       "</div>"
      ],
      "text/plain": [
       "Empty DataFrame\n",
       "Columns: [Unnamed: 0, sentence_source, label, sentence]\n",
       "Index: []"
      ]
     },
     "execution_count": 25,
     "metadata": {},
     "output_type": "execute_result"
    }
   ],
   "source": [
    "df_adress_train[df_adress_train['sentence_source'].duplicated(keep=False)]"
   ]
  },
  {
   "cell_type": "code",
   "execution_count": null,
   "id": "fbae33a9",
   "metadata": {},
   "outputs": [],
   "source": []
  },
  {
   "cell_type": "code",
   "execution_count": null,
   "id": "9201059a",
   "metadata": {},
   "outputs": [],
   "source": []
  },
  {
   "cell_type": "code",
   "execution_count": 16,
   "id": "26dd6219",
   "metadata": {
    "ExecuteTime": {
     "end_time": "2022-10-12T21:28:56.598014Z",
     "start_time": "2022-10-12T21:28:56.585773Z"
    }
   },
   "outputs": [],
   "source": [
    "df_adress_train_train = pd.read_csv(\"/edata/ADReSS-IS2020-data/dataframes/adre_train_train.csv\")"
   ]
  },
  {
   "cell_type": "code",
   "execution_count": 17,
   "id": "1e059a3a",
   "metadata": {
    "ExecuteTime": {
     "end_time": "2022-10-12T21:29:02.580067Z",
     "start_time": "2022-10-12T21:29:02.555319Z"
    }
   },
   "outputs": [
    {
     "data": {
      "text/html": [
       "<div>\n",
       "<style scoped>\n",
       "    .dataframe tbody tr th:only-of-type {\n",
       "        vertical-align: middle;\n",
       "    }\n",
       "\n",
       "    .dataframe tbody tr th {\n",
       "        vertical-align: top;\n",
       "    }\n",
       "\n",
       "    .dataframe thead th {\n",
       "        text-align: right;\n",
       "    }\n",
       "</style>\n",
       "<table border=\"1\" class=\"dataframe\">\n",
       "  <thead>\n",
       "    <tr style=\"text-align: right;\">\n",
       "      <th></th>\n",
       "      <th>Unnamed: 0</th>\n",
       "      <th>sentence_source</th>\n",
       "      <th>label</th>\n",
       "      <th>sentence</th>\n",
       "    </tr>\n",
       "  </thead>\n",
       "  <tbody>\n",
       "    <tr>\n",
       "      <th>0</th>\n",
       "      <td>0</td>\n",
       "      <td>S094.txt</td>\n",
       "      <td>1</td>\n",
       "      <td>oh yes   a little girl and the little boy is ...</td>\n",
       "    </tr>\n",
       "    <tr>\n",
       "      <th>1</th>\n",
       "      <td>1</td>\n",
       "      <td>S138.txt</td>\n",
       "      <td>1</td>\n",
       "      <td>the the water's flowing on the floor   and sh...</td>\n",
       "    </tr>\n",
       "    <tr>\n",
       "      <th>2</th>\n",
       "      <td>4</td>\n",
       "      <td>S143.txt</td>\n",
       "      <td>1</td>\n",
       "      <td>well little boy reaching out for the cookie j...</td>\n",
       "    </tr>\n",
       "    <tr>\n",
       "      <th>3</th>\n",
       "      <td>5</td>\n",
       "      <td>S019.txt</td>\n",
       "      <td>0</td>\n",
       "      <td>okay   well the mother is drying the dishes  ...</td>\n",
       "    </tr>\n",
       "    <tr>\n",
       "      <th>4</th>\n",
       "      <td>6</td>\n",
       "      <td>S125.txt</td>\n",
       "      <td>1</td>\n",
       "      <td>mhm   oh   there's a cookie jar   and the boy...</td>\n",
       "    </tr>\n",
       "    <tr>\n",
       "      <th>...</th>\n",
       "      <td>...</td>\n",
       "      <td>...</td>\n",
       "      <td>...</td>\n",
       "      <td>...</td>\n",
       "    </tr>\n",
       "    <tr>\n",
       "      <th>92</th>\n",
       "      <td>103</td>\n",
       "      <td>S032.txt</td>\n",
       "      <td>0</td>\n",
       "      <td>well the little girl is saying to be quiet to...</td>\n",
       "    </tr>\n",
       "    <tr>\n",
       "      <th>93</th>\n",
       "      <td>104</td>\n",
       "      <td>S097.txt</td>\n",
       "      <td>1</td>\n",
       "      <td>an average home that looks very much like our...</td>\n",
       "    </tr>\n",
       "    <tr>\n",
       "      <th>94</th>\n",
       "      <td>105</td>\n",
       "      <td>S016.txt</td>\n",
       "      <td>0</td>\n",
       "      <td>well the girl is watching the boy go into the...</td>\n",
       "    </tr>\n",
       "    <tr>\n",
       "      <th>95</th>\n",
       "      <td>106</td>\n",
       "      <td>S061.txt</td>\n",
       "      <td>0</td>\n",
       "      <td>alright   boy is getting into the cookie jar ...</td>\n",
       "    </tr>\n",
       "    <tr>\n",
       "      <th>96</th>\n",
       "      <td>107</td>\n",
       "      <td>S058.txt</td>\n",
       "      <td>0</td>\n",
       "      <td>everything that's going on okay   mother's wi...</td>\n",
       "    </tr>\n",
       "  </tbody>\n",
       "</table>\n",
       "<p>97 rows × 4 columns</p>\n",
       "</div>"
      ],
      "text/plain": [
       "    Unnamed: 0 sentence_source  label  \\\n",
       "0            0        S094.txt      1   \n",
       "1            1        S138.txt      1   \n",
       "2            4        S143.txt      1   \n",
       "3            5        S019.txt      0   \n",
       "4            6        S125.txt      1   \n",
       "..         ...             ...    ...   \n",
       "92         103        S032.txt      0   \n",
       "93         104        S097.txt      1   \n",
       "94         105        S016.txt      0   \n",
       "95         106        S061.txt      0   \n",
       "96         107        S058.txt      0   \n",
       "\n",
       "                                             sentence  \n",
       "0    oh yes   a little girl and the little boy is ...  \n",
       "1    the the water's flowing on the floor   and sh...  \n",
       "2    well little boy reaching out for the cookie j...  \n",
       "3    okay   well the mother is drying the dishes  ...  \n",
       "4    mhm   oh   there's a cookie jar   and the boy...  \n",
       "..                                                ...  \n",
       "92   well the little girl is saying to be quiet to...  \n",
       "93   an average home that looks very much like our...  \n",
       "94   well the girl is watching the boy go into the...  \n",
       "95   alright   boy is getting into the cookie jar ...  \n",
       "96   everything that's going on okay   mother's wi...  \n",
       "\n",
       "[97 rows x 4 columns]"
      ]
     },
     "execution_count": 17,
     "metadata": {},
     "output_type": "execute_result"
    }
   ],
   "source": [
    "df_adress_train_train"
   ]
  },
  {
   "cell_type": "code",
   "execution_count": 22,
   "id": "85ab668c",
   "metadata": {
    "ExecuteTime": {
     "end_time": "2022-10-12T21:56:34.553978Z",
     "start_time": "2022-10-12T21:56:34.543921Z"
    }
   },
   "outputs": [
    {
     "data": {
      "text/plain": [
       "label\n",
       "0    47\n",
       "1    50\n",
       "dtype: int64"
      ]
     },
     "execution_count": 22,
     "metadata": {},
     "output_type": "execute_result"
    }
   ],
   "source": [
    "df_adress_train_train.groupby('label').size()"
   ]
  },
  {
   "cell_type": "code",
   "execution_count": 26,
   "id": "ef871dfd",
   "metadata": {
    "ExecuteTime": {
     "end_time": "2022-10-12T21:58:37.778194Z",
     "start_time": "2022-10-12T21:58:37.765015Z"
    }
   },
   "outputs": [
    {
     "data": {
      "text/html": [
       "<div>\n",
       "<style scoped>\n",
       "    .dataframe tbody tr th:only-of-type {\n",
       "        vertical-align: middle;\n",
       "    }\n",
       "\n",
       "    .dataframe tbody tr th {\n",
       "        vertical-align: top;\n",
       "    }\n",
       "\n",
       "    .dataframe thead th {\n",
       "        text-align: right;\n",
       "    }\n",
       "</style>\n",
       "<table border=\"1\" class=\"dataframe\">\n",
       "  <thead>\n",
       "    <tr style=\"text-align: right;\">\n",
       "      <th></th>\n",
       "      <th>Unnamed: 0</th>\n",
       "      <th>sentence_source</th>\n",
       "      <th>label</th>\n",
       "      <th>sentence</th>\n",
       "    </tr>\n",
       "  </thead>\n",
       "  <tbody>\n",
       "  </tbody>\n",
       "</table>\n",
       "</div>"
      ],
      "text/plain": [
       "Empty DataFrame\n",
       "Columns: [Unnamed: 0, sentence_source, label, sentence]\n",
       "Index: []"
      ]
     },
     "execution_count": 26,
     "metadata": {},
     "output_type": "execute_result"
    }
   ],
   "source": [
    "df_adress_train_train[df_adress_train_train['sentence_source'].duplicated(keep=False)]"
   ]
  },
  {
   "cell_type": "code",
   "execution_count": null,
   "id": "7089c30f",
   "metadata": {},
   "outputs": [],
   "source": []
  },
  {
   "cell_type": "code",
   "execution_count": null,
   "id": "5be09c64",
   "metadata": {},
   "outputs": [],
   "source": []
  },
  {
   "cell_type": "code",
   "execution_count": 27,
   "id": "126d8915",
   "metadata": {
    "ExecuteTime": {
     "end_time": "2022-10-12T21:59:18.136545Z",
     "start_time": "2022-10-12T21:59:18.122943Z"
    },
    "scrolled": true
   },
   "outputs": [
    {
     "data": {
      "text/plain": [
       "{'S001.txt',\n",
       " 'S002.txt',\n",
       " 'S003.txt',\n",
       " 'S004.txt',\n",
       " 'S006.txt',\n",
       " 'S007.txt',\n",
       " 'S009.txt',\n",
       " 'S011.txt',\n",
       " 'S012.txt',\n",
       " 'S015.txt',\n",
       " 'S016.txt',\n",
       " 'S018.txt',\n",
       " 'S019.txt',\n",
       " 'S020.txt',\n",
       " 'S021.txt',\n",
       " 'S024.txt',\n",
       " 'S025.txt',\n",
       " 'S027.txt',\n",
       " 'S028.txt',\n",
       " 'S030.txt',\n",
       " 'S032.txt',\n",
       " 'S033.txt',\n",
       " 'S034.txt',\n",
       " 'S036.txt',\n",
       " 'S038.txt',\n",
       " 'S039.txt',\n",
       " 'S040.txt',\n",
       " 'S041.txt',\n",
       " 'S043.txt',\n",
       " 'S048.txt',\n",
       " 'S049.txt',\n",
       " 'S051.txt',\n",
       " 'S055.txt',\n",
       " 'S056.txt',\n",
       " 'S058.txt',\n",
       " 'S059.txt',\n",
       " 'S061.txt',\n",
       " 'S062.txt',\n",
       " 'S063.txt',\n",
       " 'S064.txt',\n",
       " 'S067.txt',\n",
       " 'S068.txt',\n",
       " 'S070.txt',\n",
       " 'S071.txt',\n",
       " 'S073.txt',\n",
       " 'S076.txt',\n",
       " 'S077.txt',\n",
       " 'S079.txt',\n",
       " 'S080.txt',\n",
       " 'S082.txt',\n",
       " 'S083.txt',\n",
       " 'S084.txt',\n",
       " 'S086.txt',\n",
       " 'S087.txt',\n",
       " 'S089.txt',\n",
       " 'S092.txt',\n",
       " 'S093.txt',\n",
       " 'S094.txt',\n",
       " 'S095.txt',\n",
       " 'S096.txt',\n",
       " 'S097.txt',\n",
       " 'S100.txt',\n",
       " 'S101.txt',\n",
       " 'S103.txt',\n",
       " 'S104.txt',\n",
       " 'S107.txt',\n",
       " 'S108.txt',\n",
       " 'S110.txt',\n",
       " 'S111.txt',\n",
       " 'S116.txt',\n",
       " 'S122.txt',\n",
       " 'S124.txt',\n",
       " 'S125.txt',\n",
       " 'S126.txt',\n",
       " 'S127.txt',\n",
       " 'S128.txt',\n",
       " 'S129.txt',\n",
       " 'S130.txt',\n",
       " 'S132.txt',\n",
       " 'S135.txt',\n",
       " 'S136.txt',\n",
       " 'S137.txt',\n",
       " 'S138.txt',\n",
       " 'S139.txt',\n",
       " 'S140.txt',\n",
       " 'S141.txt',\n",
       " 'S142.txt',\n",
       " 'S143.txt',\n",
       " 'S144.txt',\n",
       " 'S145.txt',\n",
       " 'S148.txt',\n",
       " 'S149.txt',\n",
       " 'S150.txt',\n",
       " 'S151.txt',\n",
       " 'S153.txt',\n",
       " 'S154.txt',\n",
       " 'S156.txt'}"
      ]
     },
     "execution_count": 27,
     "metadata": {},
     "output_type": "execute_result"
    }
   ],
   "source": [
    "set(df_adress_train['sentence_source']).intersection(set(df_adress_train_train['sentence_source']))"
   ]
  },
  {
   "cell_type": "code",
   "execution_count": 29,
   "id": "30be6ce1",
   "metadata": {
    "ExecuteTime": {
     "end_time": "2022-10-12T22:01:14.577152Z",
     "start_time": "2022-10-12T22:01:14.567897Z"
    }
   },
   "outputs": [
    {
     "data": {
      "text/plain": [
       "{'S005.txt',\n",
       " 'S013.txt',\n",
       " 'S017.txt',\n",
       " 'S029.txt',\n",
       " 'S035.txt',\n",
       " 'S052.txt',\n",
       " 'S072.txt',\n",
       " 'S081.txt',\n",
       " 'S090.txt',\n",
       " 'S114.txt',\n",
       " 'S118.txt'}"
      ]
     },
     "execution_count": 29,
     "metadata": {},
     "output_type": "execute_result"
    }
   ],
   "source": [
    "set(df_adress_train['sentence_source']) - set(df_adress_train_train['sentence_source'])"
   ]
  },
  {
   "cell_type": "code",
   "execution_count": 30,
   "id": "ccc05ab4",
   "metadata": {
    "ExecuteTime": {
     "end_time": "2022-10-12T22:01:22.701782Z",
     "start_time": "2022-10-12T22:01:22.693651Z"
    }
   },
   "outputs": [
    {
     "data": {
      "text/plain": [
       "set()"
      ]
     },
     "execution_count": 30,
     "metadata": {},
     "output_type": "execute_result"
    }
   ],
   "source": [
    "set(df_adress_train_train['sentence_source']) - set(df_adress_train['sentence_source'])"
   ]
  },
  {
   "cell_type": "code",
   "execution_count": 31,
   "id": "1131e308",
   "metadata": {
    "ExecuteTime": {
     "end_time": "2022-10-12T22:03:01.451386Z",
     "start_time": "2022-10-12T22:03:01.437558Z"
    }
   },
   "outputs": [],
   "source": [
    "tmp = df_adress_train.merge(df_adress_train_train, on='sentence_source', how='outer', suffixes=['_train','_train_train'])"
   ]
  },
  {
   "cell_type": "code",
   "execution_count": 32,
   "id": "e61bc213",
   "metadata": {
    "ExecuteTime": {
     "end_time": "2022-10-12T22:03:02.528299Z",
     "start_time": "2022-10-12T22:03:02.500708Z"
    }
   },
   "outputs": [
    {
     "data": {
      "text/html": [
       "<div>\n",
       "<style scoped>\n",
       "    .dataframe tbody tr th:only-of-type {\n",
       "        vertical-align: middle;\n",
       "    }\n",
       "\n",
       "    .dataframe tbody tr th {\n",
       "        vertical-align: top;\n",
       "    }\n",
       "\n",
       "    .dataframe thead th {\n",
       "        text-align: right;\n",
       "    }\n",
       "</style>\n",
       "<table border=\"1\" class=\"dataframe\">\n",
       "  <thead>\n",
       "    <tr style=\"text-align: right;\">\n",
       "      <th></th>\n",
       "      <th>Unnamed: 0_train</th>\n",
       "      <th>sentence_source</th>\n",
       "      <th>label_train</th>\n",
       "      <th>sentence_train</th>\n",
       "      <th>Unnamed: 0_train_train</th>\n",
       "      <th>label_train_train</th>\n",
       "      <th>sentence_train_train</th>\n",
       "    </tr>\n",
       "  </thead>\n",
       "  <tbody>\n",
       "    <tr>\n",
       "      <th>0</th>\n",
       "      <td>6</td>\n",
       "      <td>S094.txt</td>\n",
       "      <td>1</td>\n",
       "      <td>oh yes   a little girl and the little boy is ...</td>\n",
       "      <td>0.0</td>\n",
       "      <td>1.0</td>\n",
       "      <td>oh yes   a little girl and the little boy is ...</td>\n",
       "    </tr>\n",
       "    <tr>\n",
       "      <th>1</th>\n",
       "      <td>0</td>\n",
       "      <td>S138.txt</td>\n",
       "      <td>1</td>\n",
       "      <td>the the water's flowing on the floor   and sh...</td>\n",
       "      <td>1.0</td>\n",
       "      <td>1.0</td>\n",
       "      <td>the the water's flowing on the floor   and sh...</td>\n",
       "    </tr>\n",
       "    <tr>\n",
       "      <th>2</th>\n",
       "      <td>30</td>\n",
       "      <td>S118.txt</td>\n",
       "      <td>1</td>\n",
       "      <td>oh there's a cookie jar and a youngster with ...</td>\n",
       "      <td>NaN</td>\n",
       "      <td>NaN</td>\n",
       "      <td>NaN</td>\n",
       "    </tr>\n",
       "    <tr>\n",
       "      <th>3</th>\n",
       "      <td>37</td>\n",
       "      <td>S114.txt</td>\n",
       "      <td>1</td>\n",
       "      <td>mhm   well the kids is robbing a cookie jar  ...</td>\n",
       "      <td>NaN</td>\n",
       "      <td>NaN</td>\n",
       "      <td>NaN</td>\n",
       "    </tr>\n",
       "    <tr>\n",
       "      <th>4</th>\n",
       "      <td>49</td>\n",
       "      <td>S143.txt</td>\n",
       "      <td>1</td>\n",
       "      <td>well little boy reaching out for the cookie j...</td>\n",
       "      <td>4.0</td>\n",
       "      <td>1.0</td>\n",
       "      <td>well little boy reaching out for the cookie j...</td>\n",
       "    </tr>\n",
       "    <tr>\n",
       "      <th>...</th>\n",
       "      <td>...</td>\n",
       "      <td>...</td>\n",
       "      <td>...</td>\n",
       "      <td>...</td>\n",
       "      <td>...</td>\n",
       "      <td>...</td>\n",
       "      <td>...</td>\n",
       "    </tr>\n",
       "    <tr>\n",
       "      <th>103</th>\n",
       "      <td>55</td>\n",
       "      <td>S032.txt</td>\n",
       "      <td>0</td>\n",
       "      <td>well the little girl is saying to be quiet to...</td>\n",
       "      <td>103.0</td>\n",
       "      <td>0.0</td>\n",
       "      <td>well the little girl is saying to be quiet to...</td>\n",
       "    </tr>\n",
       "    <tr>\n",
       "      <th>104</th>\n",
       "      <td>15</td>\n",
       "      <td>S097.txt</td>\n",
       "      <td>1</td>\n",
       "      <td>an average home that looks very much like our...</td>\n",
       "      <td>104.0</td>\n",
       "      <td>1.0</td>\n",
       "      <td>an average home that looks very much like our...</td>\n",
       "    </tr>\n",
       "    <tr>\n",
       "      <th>105</th>\n",
       "      <td>56</td>\n",
       "      <td>S016.txt</td>\n",
       "      <td>0</td>\n",
       "      <td>well the girl is watching the boy go into the...</td>\n",
       "      <td>105.0</td>\n",
       "      <td>0.0</td>\n",
       "      <td>well the girl is watching the boy go into the...</td>\n",
       "    </tr>\n",
       "    <tr>\n",
       "      <th>106</th>\n",
       "      <td>61</td>\n",
       "      <td>S061.txt</td>\n",
       "      <td>0</td>\n",
       "      <td>alright   boy is getting into the cookie jar ...</td>\n",
       "      <td>106.0</td>\n",
       "      <td>0.0</td>\n",
       "      <td>alright   boy is getting into the cookie jar ...</td>\n",
       "    </tr>\n",
       "    <tr>\n",
       "      <th>107</th>\n",
       "      <td>92</td>\n",
       "      <td>S058.txt</td>\n",
       "      <td>0</td>\n",
       "      <td>everything that's going on okay   mother's wi...</td>\n",
       "      <td>107.0</td>\n",
       "      <td>0.0</td>\n",
       "      <td>everything that's going on okay   mother's wi...</td>\n",
       "    </tr>\n",
       "  </tbody>\n",
       "</table>\n",
       "<p>108 rows × 7 columns</p>\n",
       "</div>"
      ],
      "text/plain": [
       "     Unnamed: 0_train sentence_source  label_train  \\\n",
       "0                   6        S094.txt            1   \n",
       "1                   0        S138.txt            1   \n",
       "2                  30        S118.txt            1   \n",
       "3                  37        S114.txt            1   \n",
       "4                  49        S143.txt            1   \n",
       "..                ...             ...          ...   \n",
       "103                55        S032.txt            0   \n",
       "104                15        S097.txt            1   \n",
       "105                56        S016.txt            0   \n",
       "106                61        S061.txt            0   \n",
       "107                92        S058.txt            0   \n",
       "\n",
       "                                        sentence_train  \\\n",
       "0     oh yes   a little girl and the little boy is ...   \n",
       "1     the the water's flowing on the floor   and sh...   \n",
       "2     oh there's a cookie jar and a youngster with ...   \n",
       "3     mhm   well the kids is robbing a cookie jar  ...   \n",
       "4     well little boy reaching out for the cookie j...   \n",
       "..                                                 ...   \n",
       "103   well the little girl is saying to be quiet to...   \n",
       "104   an average home that looks very much like our...   \n",
       "105   well the girl is watching the boy go into the...   \n",
       "106   alright   boy is getting into the cookie jar ...   \n",
       "107   everything that's going on okay   mother's wi...   \n",
       "\n",
       "     Unnamed: 0_train_train  label_train_train  \\\n",
       "0                       0.0                1.0   \n",
       "1                       1.0                1.0   \n",
       "2                       NaN                NaN   \n",
       "3                       NaN                NaN   \n",
       "4                       4.0                1.0   \n",
       "..                      ...                ...   \n",
       "103                   103.0                0.0   \n",
       "104                   104.0                1.0   \n",
       "105                   105.0                0.0   \n",
       "106                   106.0                0.0   \n",
       "107                   107.0                0.0   \n",
       "\n",
       "                                  sentence_train_train  \n",
       "0     oh yes   a little girl and the little boy is ...  \n",
       "1     the the water's flowing on the floor   and sh...  \n",
       "2                                                  NaN  \n",
       "3                                                  NaN  \n",
       "4     well little boy reaching out for the cookie j...  \n",
       "..                                                 ...  \n",
       "103   well the little girl is saying to be quiet to...  \n",
       "104   an average home that looks very much like our...  \n",
       "105   well the girl is watching the boy go into the...  \n",
       "106   alright   boy is getting into the cookie jar ...  \n",
       "107   everything that's going on okay   mother's wi...  \n",
       "\n",
       "[108 rows x 7 columns]"
      ]
     },
     "execution_count": 32,
     "metadata": {},
     "output_type": "execute_result"
    }
   ],
   "source": [
    "tmp"
   ]
  },
  {
   "cell_type": "code",
   "execution_count": 45,
   "id": "338a65ec",
   "metadata": {
    "ExecuteTime": {
     "end_time": "2022-10-12T22:07:18.354342Z",
     "start_time": "2022-10-12T22:07:18.333174Z"
    }
   },
   "outputs": [
    {
     "data": {
      "text/html": [
       "<div>\n",
       "<style scoped>\n",
       "    .dataframe tbody tr th:only-of-type {\n",
       "        vertical-align: middle;\n",
       "    }\n",
       "\n",
       "    .dataframe tbody tr th {\n",
       "        vertical-align: top;\n",
       "    }\n",
       "\n",
       "    .dataframe thead th {\n",
       "        text-align: right;\n",
       "    }\n",
       "</style>\n",
       "<table border=\"1\" class=\"dataframe\">\n",
       "  <thead>\n",
       "    <tr style=\"text-align: right;\">\n",
       "      <th></th>\n",
       "      <th>Unnamed: 0_train</th>\n",
       "      <th>sentence_source</th>\n",
       "      <th>label_train</th>\n",
       "      <th>sentence_train</th>\n",
       "      <th>Unnamed: 0_train_train</th>\n",
       "      <th>label_train_train</th>\n",
       "      <th>sentence_train_train</th>\n",
       "    </tr>\n",
       "  </thead>\n",
       "  <tbody>\n",
       "    <tr>\n",
       "      <th>2</th>\n",
       "      <td>30</td>\n",
       "      <td>S118.txt</td>\n",
       "      <td>1</td>\n",
       "      <td>oh there's a cookie jar and a youngster with ...</td>\n",
       "      <td>NaN</td>\n",
       "      <td>NaN</td>\n",
       "      <td>NaN</td>\n",
       "    </tr>\n",
       "    <tr>\n",
       "      <th>3</th>\n",
       "      <td>37</td>\n",
       "      <td>S114.txt</td>\n",
       "      <td>1</td>\n",
       "      <td>mhm   well the kids is robbing a cookie jar  ...</td>\n",
       "      <td>NaN</td>\n",
       "      <td>NaN</td>\n",
       "      <td>NaN</td>\n",
       "    </tr>\n",
       "    <tr>\n",
       "      <th>9</th>\n",
       "      <td>104</td>\n",
       "      <td>S052.txt</td>\n",
       "      <td>0</td>\n",
       "      <td>i see a boy getting in the in the cookie jar ...</td>\n",
       "      <td>NaN</td>\n",
       "      <td>NaN</td>\n",
       "      <td>NaN</td>\n",
       "    </tr>\n",
       "    <tr>\n",
       "      <th>23</th>\n",
       "      <td>35</td>\n",
       "      <td>S081.txt</td>\n",
       "      <td>1</td>\n",
       "      <td>well the kid the girl's laughing at her broth...</td>\n",
       "      <td>NaN</td>\n",
       "      <td>NaN</td>\n",
       "      <td>NaN</td>\n",
       "    </tr>\n",
       "    <tr>\n",
       "      <th>24</th>\n",
       "      <td>75</td>\n",
       "      <td>S035.txt</td>\n",
       "      <td>0</td>\n",
       "      <td>touching lip   raising arm   is that what y...</td>\n",
       "      <td>NaN</td>\n",
       "      <td>NaN</td>\n",
       "      <td>NaN</td>\n",
       "    </tr>\n",
       "    <tr>\n",
       "      <th>29</th>\n",
       "      <td>107</td>\n",
       "      <td>S005.txt</td>\n",
       "      <td>0</td>\n",
       "      <td>okay   many or the mother's washing the dishe...</td>\n",
       "      <td>NaN</td>\n",
       "      <td>NaN</td>\n",
       "      <td>NaN</td>\n",
       "    </tr>\n",
       "    <tr>\n",
       "      <th>45</th>\n",
       "      <td>98</td>\n",
       "      <td>S013.txt</td>\n",
       "      <td>0</td>\n",
       "      <td>okay   fellow falling off a stool   also taki...</td>\n",
       "      <td>NaN</td>\n",
       "      <td>NaN</td>\n",
       "      <td>NaN</td>\n",
       "    </tr>\n",
       "    <tr>\n",
       "      <th>69</th>\n",
       "      <td>62</td>\n",
       "      <td>S072.txt</td>\n",
       "      <td>0</td>\n",
       "      <td>you mean right now tell you   the boy is stea...</td>\n",
       "      <td>NaN</td>\n",
       "      <td>NaN</td>\n",
       "      <td>NaN</td>\n",
       "    </tr>\n",
       "    <tr>\n",
       "      <th>73</th>\n",
       "      <td>42</td>\n",
       "      <td>S090.txt</td>\n",
       "      <td>1</td>\n",
       "      <td>mhm   oh i see a part of the whole kitchen   ...</td>\n",
       "      <td>NaN</td>\n",
       "      <td>NaN</td>\n",
       "      <td>NaN</td>\n",
       "    </tr>\n",
       "    <tr>\n",
       "      <th>79</th>\n",
       "      <td>95</td>\n",
       "      <td>S029.txt</td>\n",
       "      <td>0</td>\n",
       "      <td>action   alright   a lady's drying dishes   t...</td>\n",
       "      <td>NaN</td>\n",
       "      <td>NaN</td>\n",
       "      <td>NaN</td>\n",
       "    </tr>\n",
       "    <tr>\n",
       "      <th>96</th>\n",
       "      <td>93</td>\n",
       "      <td>S017.txt</td>\n",
       "      <td>0</td>\n",
       "      <td>well i see the mother doing the dishes   the ...</td>\n",
       "      <td>NaN</td>\n",
       "      <td>NaN</td>\n",
       "      <td>NaN</td>\n",
       "    </tr>\n",
       "  </tbody>\n",
       "</table>\n",
       "</div>"
      ],
      "text/plain": [
       "    Unnamed: 0_train sentence_source  label_train  \\\n",
       "2                 30        S118.txt            1   \n",
       "3                 37        S114.txt            1   \n",
       "9                104        S052.txt            0   \n",
       "23                35        S081.txt            1   \n",
       "24                75        S035.txt            0   \n",
       "29               107        S005.txt            0   \n",
       "45                98        S013.txt            0   \n",
       "69                62        S072.txt            0   \n",
       "73                42        S090.txt            1   \n",
       "79                95        S029.txt            0   \n",
       "96                93        S017.txt            0   \n",
       "\n",
       "                                       sentence_train  Unnamed: 0_train_train  \\\n",
       "2    oh there's a cookie jar and a youngster with ...                     NaN   \n",
       "3    mhm   well the kids is robbing a cookie jar  ...                     NaN   \n",
       "9    i see a boy getting in the in the cookie jar ...                     NaN   \n",
       "23   well the kid the girl's laughing at her broth...                     NaN   \n",
       "24     touching lip   raising arm   is that what y...                     NaN   \n",
       "29   okay   many or the mother's washing the dishe...                     NaN   \n",
       "45   okay   fellow falling off a stool   also taki...                     NaN   \n",
       "69   you mean right now tell you   the boy is stea...                     NaN   \n",
       "73   mhm   oh i see a part of the whole kitchen   ...                     NaN   \n",
       "79   action   alright   a lady's drying dishes   t...                     NaN   \n",
       "96   well i see the mother doing the dishes   the ...                     NaN   \n",
       "\n",
       "    label_train_train sentence_train_train  \n",
       "2                 NaN                  NaN  \n",
       "3                 NaN                  NaN  \n",
       "9                 NaN                  NaN  \n",
       "23                NaN                  NaN  \n",
       "24                NaN                  NaN  \n",
       "29                NaN                  NaN  \n",
       "45                NaN                  NaN  \n",
       "69                NaN                  NaN  \n",
       "73                NaN                  NaN  \n",
       "79                NaN                  NaN  \n",
       "96                NaN                  NaN  "
      ]
     },
     "execution_count": 45,
     "metadata": {},
     "output_type": "execute_result"
    }
   ],
   "source": [
    "tmp.iloc[np.where(tmp['sentence_train'] != tmp['sentence_train_train'])[0],:]"
   ]
  },
  {
   "cell_type": "code",
   "execution_count": null,
   "id": "1d5c40c1",
   "metadata": {},
   "outputs": [],
   "source": []
  },
  {
   "cell_type": "code",
   "execution_count": null,
   "id": "6cd959e5",
   "metadata": {},
   "outputs": [],
   "source": []
  },
  {
   "cell_type": "markdown",
   "id": "b3205317",
   "metadata": {},
   "source": [
    "## Test, Eval"
   ]
  },
  {
   "cell_type": "code",
   "execution_count": 47,
   "id": "3828235b",
   "metadata": {
    "ExecuteTime": {
     "end_time": "2022-10-12T23:11:34.128862Z",
     "start_time": "2022-10-12T23:11:34.116140Z"
    }
   },
   "outputs": [],
   "source": [
    "df_adress_test = pd.read_csv(\"/edata/ADReSS-IS2020-data/dataframes/adre_test.csv\")"
   ]
  },
  {
   "cell_type": "code",
   "execution_count": 48,
   "id": "32cf7896",
   "metadata": {
    "ExecuteTime": {
     "end_time": "2022-10-12T23:11:37.547762Z",
     "start_time": "2022-10-12T23:11:37.519598Z"
    },
    "scrolled": true
   },
   "outputs": [
    {
     "data": {
      "text/html": [
       "<div>\n",
       "<style scoped>\n",
       "    .dataframe tbody tr th:only-of-type {\n",
       "        vertical-align: middle;\n",
       "    }\n",
       "\n",
       "    .dataframe tbody tr th {\n",
       "        vertical-align: top;\n",
       "    }\n",
       "\n",
       "    .dataframe thead th {\n",
       "        text-align: right;\n",
       "    }\n",
       "</style>\n",
       "<table border=\"1\" class=\"dataframe\">\n",
       "  <thead>\n",
       "    <tr style=\"text-align: right;\">\n",
       "      <th></th>\n",
       "      <th>Unnamed: 0</th>\n",
       "      <th>sentence_source</th>\n",
       "      <th>label</th>\n",
       "      <th>sentence</th>\n",
       "    </tr>\n",
       "  </thead>\n",
       "  <tbody>\n",
       "    <tr>\n",
       "      <th>0</th>\n",
       "      <td>0</td>\n",
       "      <td>S203.txt</td>\n",
       "      <td>1</td>\n",
       "      <td>okay the boy's in the cookie jar   he's he's ...</td>\n",
       "    </tr>\n",
       "    <tr>\n",
       "      <th>1</th>\n",
       "      <td>1</td>\n",
       "      <td>S179.txt</td>\n",
       "      <td>1</td>\n",
       "      <td>well the stool the stool   the sink is runnin...</td>\n",
       "    </tr>\n",
       "    <tr>\n",
       "      <th>2</th>\n",
       "      <td>2</td>\n",
       "      <td>S184.txt</td>\n",
       "      <td>0</td>\n",
       "      <td>young boy is up at the cookie jar   he has th...</td>\n",
       "    </tr>\n",
       "    <tr>\n",
       "      <th>3</th>\n",
       "      <td>3</td>\n",
       "      <td>S191.txt</td>\n",
       "      <td>1</td>\n",
       "      <td>mhm   well she's spilling the water from from...</td>\n",
       "    </tr>\n",
       "    <tr>\n",
       "      <th>4</th>\n",
       "      <td>4</td>\n",
       "      <td>S169.txt</td>\n",
       "      <td>1</td>\n",
       "      <td>well the sink is running over   she's drying ...</td>\n",
       "    </tr>\n",
       "    <tr>\n",
       "      <th>5</th>\n",
       "      <td>5</td>\n",
       "      <td>S205.txt</td>\n",
       "      <td>1</td>\n",
       "      <td>well the little kid's falling off his stool  ...</td>\n",
       "    </tr>\n",
       "    <tr>\n",
       "      <th>6</th>\n",
       "      <td>6</td>\n",
       "      <td>S202.txt</td>\n",
       "      <td>0</td>\n",
       "      <td>tell me   oh   oh by looking at the   okay ...</td>\n",
       "    </tr>\n",
       "    <tr>\n",
       "      <th>7</th>\n",
       "      <td>7</td>\n",
       "      <td>S201.txt</td>\n",
       "      <td>0</td>\n",
       "      <td>well the boy is getting cookies and he's gonn...</td>\n",
       "    </tr>\n",
       "    <tr>\n",
       "      <th>8</th>\n",
       "      <td>8</td>\n",
       "      <td>S190.txt</td>\n",
       "      <td>1</td>\n",
       "      <td>the girl's in the trying   did i get that   a...</td>\n",
       "    </tr>\n",
       "    <tr>\n",
       "      <th>9</th>\n",
       "      <td>9</td>\n",
       "      <td>S195.txt</td>\n",
       "      <td>0</td>\n",
       "      <td>okay   well in the first place the the mother...</td>\n",
       "    </tr>\n",
       "    <tr>\n",
       "      <th>10</th>\n",
       "      <td>10</td>\n",
       "      <td>S171.txt</td>\n",
       "      <td>1</td>\n",
       "      <td>it's a family affair a mother and the childre...</td>\n",
       "    </tr>\n",
       "    <tr>\n",
       "      <th>11</th>\n",
       "      <td>11</td>\n",
       "      <td>S193.txt</td>\n",
       "      <td>0</td>\n",
       "      <td>okay the kid on the bench who's got his hand ...</td>\n",
       "    </tr>\n",
       "    <tr>\n",
       "      <th>12</th>\n",
       "      <td>12</td>\n",
       "      <td>S161.txt</td>\n",
       "      <td>0</td>\n",
       "      <td>a boy with a cookie in his one hand and his h...</td>\n",
       "    </tr>\n",
       "    <tr>\n",
       "      <th>13</th>\n",
       "      <td>13</td>\n",
       "      <td>S197.txt</td>\n",
       "      <td>0</td>\n",
       "      <td>okay   anywhere   the little girl's laughing ...</td>\n",
       "    </tr>\n",
       "    <tr>\n",
       "      <th>14</th>\n",
       "      <td>14</td>\n",
       "      <td>S188.txt</td>\n",
       "      <td>1</td>\n",
       "      <td>cookie jar   and he's stepping on a well he's...</td>\n",
       "    </tr>\n",
       "    <tr>\n",
       "      <th>15</th>\n",
       "      <td>15</td>\n",
       "      <td>S183.txt</td>\n",
       "      <td>0</td>\n",
       "      <td>the boy is reaching into the cookie jar   he'...</td>\n",
       "    </tr>\n",
       "    <tr>\n",
       "      <th>16</th>\n",
       "      <td>16</td>\n",
       "      <td>S165.txt</td>\n",
       "      <td>1</td>\n",
       "      <td>yeah i see the woman's in a kitchen   and   n...</td>\n",
       "    </tr>\n",
       "    <tr>\n",
       "      <th>17</th>\n",
       "      <td>17</td>\n",
       "      <td>S186.txt</td>\n",
       "      <td>0</td>\n",
       "      <td>mhm   the little boy is reaching for a cookie...</td>\n",
       "    </tr>\n",
       "    <tr>\n",
       "      <th>18</th>\n",
       "      <td>18</td>\n",
       "      <td>S175.txt</td>\n",
       "      <td>0</td>\n",
       "      <td>the sink's running over   the water's going a...</td>\n",
       "    </tr>\n",
       "    <tr>\n",
       "      <th>19</th>\n",
       "      <td>19</td>\n",
       "      <td>S192.txt</td>\n",
       "      <td>1</td>\n",
       "      <td>all the action   okay it's a boy and a girl a...</td>\n",
       "    </tr>\n",
       "    <tr>\n",
       "      <th>20</th>\n",
       "      <td>20</td>\n",
       "      <td>S181.txt</td>\n",
       "      <td>1</td>\n",
       "      <td>oh yeah   kid's climbing up on the stool and ...</td>\n",
       "    </tr>\n",
       "    <tr>\n",
       "      <th>21</th>\n",
       "      <td>21</td>\n",
       "      <td>S177.txt</td>\n",
       "      <td>0</td>\n",
       "      <td>cookie jar   a lad standing on a stool teeter...</td>\n",
       "    </tr>\n",
       "    <tr>\n",
       "      <th>22</th>\n",
       "      <td>22</td>\n",
       "      <td>S206.txt</td>\n",
       "      <td>0</td>\n",
       "      <td>well for one thing the boy is stealing cookie...</td>\n",
       "    </tr>\n",
       "    <tr>\n",
       "      <th>23</th>\n",
       "      <td>23</td>\n",
       "      <td>S178.txt</td>\n",
       "      <td>0</td>\n",
       "      <td>a little girl is reaching for her brother to ...</td>\n",
       "    </tr>\n",
       "    <tr>\n",
       "      <th>24</th>\n",
       "      <td>24</td>\n",
       "      <td>S168.txt</td>\n",
       "      <td>1</td>\n",
       "      <td>well the the little boy is stealing cookies a...</td>\n",
       "    </tr>\n",
       "    <tr>\n",
       "      <th>25</th>\n",
       "      <td>25</td>\n",
       "      <td>S174.txt</td>\n",
       "      <td>0</td>\n",
       "      <td>i see a little boy on a stool almost falling ...</td>\n",
       "    </tr>\n",
       "    <tr>\n",
       "      <th>26</th>\n",
       "      <td>26</td>\n",
       "      <td>S173.txt</td>\n",
       "      <td>1</td>\n",
       "      <td>a little boy is getting himself some cookies ...</td>\n",
       "    </tr>\n",
       "    <tr>\n",
       "      <th>27</th>\n",
       "      <td>27</td>\n",
       "      <td>S182.txt</td>\n",
       "      <td>1</td>\n",
       "      <td>she's preparing a meal   i'm going to hafta q...</td>\n",
       "    </tr>\n",
       "    <tr>\n",
       "      <th>28</th>\n",
       "      <td>28</td>\n",
       "      <td>S170.txt</td>\n",
       "      <td>0</td>\n",
       "      <td>i see this woman who's standing by the sink w...</td>\n",
       "    </tr>\n",
       "    <tr>\n",
       "      <th>29</th>\n",
       "      <td>29</td>\n",
       "      <td>S204.txt</td>\n",
       "      <td>0</td>\n",
       "      <td>well this happens to be a kitchen   and the m...</td>\n",
       "    </tr>\n",
       "    <tr>\n",
       "      <th>30</th>\n",
       "      <td>30</td>\n",
       "      <td>S163.txt</td>\n",
       "      <td>0</td>\n",
       "      <td>okay the water's running outof the sink overf...</td>\n",
       "    </tr>\n",
       "    <tr>\n",
       "      <th>31</th>\n",
       "      <td>31</td>\n",
       "      <td>S167.txt</td>\n",
       "      <td>1</td>\n",
       "      <td>the poor mom's getting her wet feet   and tha...</td>\n",
       "    </tr>\n",
       "    <tr>\n",
       "      <th>32</th>\n",
       "      <td>32</td>\n",
       "      <td>S199.txt</td>\n",
       "      <td>0</td>\n",
       "      <td>there's the two children are in the process o...</td>\n",
       "    </tr>\n",
       "    <tr>\n",
       "      <th>33</th>\n",
       "      <td>33</td>\n",
       "      <td>S160.txt</td>\n",
       "      <td>0</td>\n",
       "      <td>this boy is about to fall off of the stool   ...</td>\n",
       "    </tr>\n",
       "    <tr>\n",
       "      <th>34</th>\n",
       "      <td>34</td>\n",
       "      <td>S196.txt</td>\n",
       "      <td>0</td>\n",
       "      <td>well let's see   the girl is whispering to be...</td>\n",
       "    </tr>\n",
       "    <tr>\n",
       "      <th>35</th>\n",
       "      <td>35</td>\n",
       "      <td>S164.txt</td>\n",
       "      <td>1</td>\n",
       "      <td>well he's into the cookie jar and the the sto...</td>\n",
       "    </tr>\n",
       "    <tr>\n",
       "      <th>36</th>\n",
       "      <td>36</td>\n",
       "      <td>S207.txt</td>\n",
       "      <td>0</td>\n",
       "      <td>little girl with her finger to her lips   the...</td>\n",
       "    </tr>\n",
       "    <tr>\n",
       "      <th>37</th>\n",
       "      <td>37</td>\n",
       "      <td>S185.txt</td>\n",
       "      <td>1</td>\n",
       "      <td>oh little boy's in the cookie jar   the girl'...</td>\n",
       "    </tr>\n",
       "    <tr>\n",
       "      <th>38</th>\n",
       "      <td>38</td>\n",
       "      <td>S162.txt</td>\n",
       "      <td>1</td>\n",
       "      <td>i see two kids up at the cookie jar one on a ...</td>\n",
       "    </tr>\n",
       "    <tr>\n",
       "      <th>39</th>\n",
       "      <td>39</td>\n",
       "      <td>S189.txt</td>\n",
       "      <td>1</td>\n",
       "      <td>alright   the little girl wants cookie   the ...</td>\n",
       "    </tr>\n",
       "    <tr>\n",
       "      <th>40</th>\n",
       "      <td>40</td>\n",
       "      <td>S166.txt</td>\n",
       "      <td>0</td>\n",
       "      <td>oh it's the same picture   you should give me...</td>\n",
       "    </tr>\n",
       "    <tr>\n",
       "      <th>41</th>\n",
       "      <td>41</td>\n",
       "      <td>S187.txt</td>\n",
       "      <td>1</td>\n",
       "      <td>hm   it's a little boy climbing up getting so...</td>\n",
       "    </tr>\n",
       "    <tr>\n",
       "      <th>42</th>\n",
       "      <td>42</td>\n",
       "      <td>S172.txt</td>\n",
       "      <td>0</td>\n",
       "      <td>well the little girl is reaching for a cookie...</td>\n",
       "    </tr>\n",
       "    <tr>\n",
       "      <th>43</th>\n",
       "      <td>43</td>\n",
       "      <td>S198.txt</td>\n",
       "      <td>1</td>\n",
       "      <td>you mean like the woman doing the dishes and ...</td>\n",
       "    </tr>\n",
       "    <tr>\n",
       "      <th>44</th>\n",
       "      <td>44</td>\n",
       "      <td>S180.txt</td>\n",
       "      <td>0</td>\n",
       "      <td>well the boy is taking cookies outof the cook...</td>\n",
       "    </tr>\n",
       "    <tr>\n",
       "      <th>45</th>\n",
       "      <td>45</td>\n",
       "      <td>S194.txt</td>\n",
       "      <td>1</td>\n",
       "      <td>well the mother has water spilling all over t...</td>\n",
       "    </tr>\n",
       "    <tr>\n",
       "      <th>46</th>\n",
       "      <td>46</td>\n",
       "      <td>S176.txt</td>\n",
       "      <td>1</td>\n",
       "      <td>whew   do i hafta use my my my personal descr...</td>\n",
       "    </tr>\n",
       "    <tr>\n",
       "      <th>47</th>\n",
       "      <td>47</td>\n",
       "      <td>S200.txt</td>\n",
       "      <td>1</td>\n",
       "      <td>seeing the mother   she's washing dishes and ...</td>\n",
       "    </tr>\n",
       "  </tbody>\n",
       "</table>\n",
       "</div>"
      ],
      "text/plain": [
       "    Unnamed: 0 sentence_source  label  \\\n",
       "0            0        S203.txt      1   \n",
       "1            1        S179.txt      1   \n",
       "2            2        S184.txt      0   \n",
       "3            3        S191.txt      1   \n",
       "4            4        S169.txt      1   \n",
       "5            5        S205.txt      1   \n",
       "6            6        S202.txt      0   \n",
       "7            7        S201.txt      0   \n",
       "8            8        S190.txt      1   \n",
       "9            9        S195.txt      0   \n",
       "10          10        S171.txt      1   \n",
       "11          11        S193.txt      0   \n",
       "12          12        S161.txt      0   \n",
       "13          13        S197.txt      0   \n",
       "14          14        S188.txt      1   \n",
       "15          15        S183.txt      0   \n",
       "16          16        S165.txt      1   \n",
       "17          17        S186.txt      0   \n",
       "18          18        S175.txt      0   \n",
       "19          19        S192.txt      1   \n",
       "20          20        S181.txt      1   \n",
       "21          21        S177.txt      0   \n",
       "22          22        S206.txt      0   \n",
       "23          23        S178.txt      0   \n",
       "24          24        S168.txt      1   \n",
       "25          25        S174.txt      0   \n",
       "26          26        S173.txt      1   \n",
       "27          27        S182.txt      1   \n",
       "28          28        S170.txt      0   \n",
       "29          29        S204.txt      0   \n",
       "30          30        S163.txt      0   \n",
       "31          31        S167.txt      1   \n",
       "32          32        S199.txt      0   \n",
       "33          33        S160.txt      0   \n",
       "34          34        S196.txt      0   \n",
       "35          35        S164.txt      1   \n",
       "36          36        S207.txt      0   \n",
       "37          37        S185.txt      1   \n",
       "38          38        S162.txt      1   \n",
       "39          39        S189.txt      1   \n",
       "40          40        S166.txt      0   \n",
       "41          41        S187.txt      1   \n",
       "42          42        S172.txt      0   \n",
       "43          43        S198.txt      1   \n",
       "44          44        S180.txt      0   \n",
       "45          45        S194.txt      1   \n",
       "46          46        S176.txt      1   \n",
       "47          47        S200.txt      1   \n",
       "\n",
       "                                             sentence  \n",
       "0    okay the boy's in the cookie jar   he's he's ...  \n",
       "1    well the stool the stool   the sink is runnin...  \n",
       "2    young boy is up at the cookie jar   he has th...  \n",
       "3    mhm   well she's spilling the water from from...  \n",
       "4    well the sink is running over   she's drying ...  \n",
       "5    well the little kid's falling off his stool  ...  \n",
       "6      tell me   oh   oh by looking at the   okay ...  \n",
       "7    well the boy is getting cookies and he's gonn...  \n",
       "8    the girl's in the trying   did i get that   a...  \n",
       "9    okay   well in the first place the the mother...  \n",
       "10   it's a family affair a mother and the childre...  \n",
       "11   okay the kid on the bench who's got his hand ...  \n",
       "12   a boy with a cookie in his one hand and his h...  \n",
       "13   okay   anywhere   the little girl's laughing ...  \n",
       "14   cookie jar   and he's stepping on a well he's...  \n",
       "15   the boy is reaching into the cookie jar   he'...  \n",
       "16   yeah i see the woman's in a kitchen   and   n...  \n",
       "17   mhm   the little boy is reaching for a cookie...  \n",
       "18   the sink's running over   the water's going a...  \n",
       "19   all the action   okay it's a boy and a girl a...  \n",
       "20   oh yeah   kid's climbing up on the stool and ...  \n",
       "21   cookie jar   a lad standing on a stool teeter...  \n",
       "22   well for one thing the boy is stealing cookie...  \n",
       "23   a little girl is reaching for her brother to ...  \n",
       "24   well the the little boy is stealing cookies a...  \n",
       "25   i see a little boy on a stool almost falling ...  \n",
       "26   a little boy is getting himself some cookies ...  \n",
       "27   she's preparing a meal   i'm going to hafta q...  \n",
       "28   i see this woman who's standing by the sink w...  \n",
       "29   well this happens to be a kitchen   and the m...  \n",
       "30   okay the water's running outof the sink overf...  \n",
       "31   the poor mom's getting her wet feet   and tha...  \n",
       "32   there's the two children are in the process o...  \n",
       "33   this boy is about to fall off of the stool   ...  \n",
       "34   well let's see   the girl is whispering to be...  \n",
       "35   well he's into the cookie jar and the the sto...  \n",
       "36   little girl with her finger to her lips   the...  \n",
       "37   oh little boy's in the cookie jar   the girl'...  \n",
       "38   i see two kids up at the cookie jar one on a ...  \n",
       "39   alright   the little girl wants cookie   the ...  \n",
       "40   oh it's the same picture   you should give me...  \n",
       "41   hm   it's a little boy climbing up getting so...  \n",
       "42   well the little girl is reaching for a cookie...  \n",
       "43   you mean like the woman doing the dishes and ...  \n",
       "44   well the boy is taking cookies outof the cook...  \n",
       "45   well the mother has water spilling all over t...  \n",
       "46   whew   do i hafta use my my my personal descr...  \n",
       "47   seeing the mother   she's washing dishes and ...  "
      ]
     },
     "execution_count": 48,
     "metadata": {},
     "output_type": "execute_result"
    }
   ],
   "source": [
    "df_adress_test"
   ]
  },
  {
   "cell_type": "code",
   "execution_count": null,
   "id": "2ea3f3cf",
   "metadata": {},
   "outputs": [],
   "source": []
  },
  {
   "cell_type": "code",
   "execution_count": 49,
   "id": "c84b74dd",
   "metadata": {
    "ExecuteTime": {
     "end_time": "2022-10-12T23:12:10.971860Z",
     "start_time": "2022-10-12T23:12:10.960799Z"
    }
   },
   "outputs": [],
   "source": [
    "df_adress_train_val = pd.read_csv(\"/edata/ADReSS-IS2020-data/dataframes/adre_train_val.csv\")"
   ]
  },
  {
   "cell_type": "code",
   "execution_count": 50,
   "id": "a61197c3",
   "metadata": {
    "ExecuteTime": {
     "end_time": "2022-10-12T23:12:15.532557Z",
     "start_time": "2022-10-12T23:12:15.510762Z"
    },
    "scrolled": true
   },
   "outputs": [
    {
     "data": {
      "text/html": [
       "<div>\n",
       "<style scoped>\n",
       "    .dataframe tbody tr th:only-of-type {\n",
       "        vertical-align: middle;\n",
       "    }\n",
       "\n",
       "    .dataframe tbody tr th {\n",
       "        vertical-align: top;\n",
       "    }\n",
       "\n",
       "    .dataframe thead th {\n",
       "        text-align: right;\n",
       "    }\n",
       "</style>\n",
       "<table border=\"1\" class=\"dataframe\">\n",
       "  <thead>\n",
       "    <tr style=\"text-align: right;\">\n",
       "      <th></th>\n",
       "      <th>Unnamed: 0</th>\n",
       "      <th>sentence</th>\n",
       "      <th>label</th>\n",
       "      <th>sentence_source</th>\n",
       "    </tr>\n",
       "  </thead>\n",
       "  <tbody>\n",
       "    <tr>\n",
       "      <th>0</th>\n",
       "      <td>0</td>\n",
       "      <td>you mean right now tell you   the boy is stea...</td>\n",
       "      <td>0</td>\n",
       "      <td>S072.txt</td>\n",
       "    </tr>\n",
       "    <tr>\n",
       "      <th>1</th>\n",
       "      <td>1</td>\n",
       "      <td>oh there's a cookie jar and a youngster with ...</td>\n",
       "      <td>1</td>\n",
       "      <td>S118.txt</td>\n",
       "    </tr>\n",
       "    <tr>\n",
       "      <th>2</th>\n",
       "      <td>2</td>\n",
       "      <td>okay   many or the mother's washing the dishe...</td>\n",
       "      <td>0</td>\n",
       "      <td>S005.txt</td>\n",
       "    </tr>\n",
       "    <tr>\n",
       "      <th>3</th>\n",
       "      <td>3</td>\n",
       "      <td>touching lip   raising arm   is that what y...</td>\n",
       "      <td>0</td>\n",
       "      <td>S035.txt</td>\n",
       "    </tr>\n",
       "    <tr>\n",
       "      <th>4</th>\n",
       "      <td>4</td>\n",
       "      <td>action   alright   a lady's drying dishes   t...</td>\n",
       "      <td>0</td>\n",
       "      <td>S029.txt</td>\n",
       "    </tr>\n",
       "    <tr>\n",
       "      <th>5</th>\n",
       "      <td>5</td>\n",
       "      <td>mhm   oh i see a part of the whole kitchen   ...</td>\n",
       "      <td>1</td>\n",
       "      <td>S090.txt</td>\n",
       "    </tr>\n",
       "    <tr>\n",
       "      <th>6</th>\n",
       "      <td>6</td>\n",
       "      <td>well i see the mother doing the dishes   the ...</td>\n",
       "      <td>0</td>\n",
       "      <td>S017.txt</td>\n",
       "    </tr>\n",
       "    <tr>\n",
       "      <th>7</th>\n",
       "      <td>7</td>\n",
       "      <td>i see a boy getting in the in the cookie jar ...</td>\n",
       "      <td>0</td>\n",
       "      <td>S052.txt</td>\n",
       "    </tr>\n",
       "    <tr>\n",
       "      <th>8</th>\n",
       "      <td>8</td>\n",
       "      <td>okay   fellow falling off a stool   also taki...</td>\n",
       "      <td>0</td>\n",
       "      <td>S013.txt</td>\n",
       "    </tr>\n",
       "    <tr>\n",
       "      <th>9</th>\n",
       "      <td>9</td>\n",
       "      <td>mhm   well the kids is robbing a cookie jar  ...</td>\n",
       "      <td>1</td>\n",
       "      <td>S114.txt</td>\n",
       "    </tr>\n",
       "    <tr>\n",
       "      <th>10</th>\n",
       "      <td>10</td>\n",
       "      <td>well the kid the girl's laughing at her broth...</td>\n",
       "      <td>1</td>\n",
       "      <td>S081.txt</td>\n",
       "    </tr>\n",
       "  </tbody>\n",
       "</table>\n",
       "</div>"
      ],
      "text/plain": [
       "    Unnamed: 0                                           sentence  label  \\\n",
       "0            0   you mean right now tell you   the boy is stea...      0   \n",
       "1            1   oh there's a cookie jar and a youngster with ...      1   \n",
       "2            2   okay   many or the mother's washing the dishe...      0   \n",
       "3            3     touching lip   raising arm   is that what y...      0   \n",
       "4            4   action   alright   a lady's drying dishes   t...      0   \n",
       "5            5   mhm   oh i see a part of the whole kitchen   ...      1   \n",
       "6            6   well i see the mother doing the dishes   the ...      0   \n",
       "7            7   i see a boy getting in the in the cookie jar ...      0   \n",
       "8            8   okay   fellow falling off a stool   also taki...      0   \n",
       "9            9   mhm   well the kids is robbing a cookie jar  ...      1   \n",
       "10          10   well the kid the girl's laughing at her broth...      1   \n",
       "\n",
       "   sentence_source  \n",
       "0         S072.txt  \n",
       "1         S118.txt  \n",
       "2         S005.txt  \n",
       "3         S035.txt  \n",
       "4         S029.txt  \n",
       "5         S090.txt  \n",
       "6         S017.txt  \n",
       "7         S052.txt  \n",
       "8         S013.txt  \n",
       "9         S114.txt  \n",
       "10        S081.txt  "
      ]
     },
     "execution_count": 50,
     "metadata": {},
     "output_type": "execute_result"
    }
   ],
   "source": [
    "df_adress_train_val"
   ]
  },
  {
   "cell_type": "code",
   "execution_count": 56,
   "id": "330eb91b",
   "metadata": {
    "ExecuteTime": {
     "end_time": "2022-10-12T23:14:35.502932Z",
     "start_time": "2022-10-12T23:14:35.492418Z"
    }
   },
   "outputs": [
    {
     "data": {
      "text/plain": [
       "set()"
      ]
     },
     "execution_count": 56,
     "metadata": {},
     "output_type": "execute_result"
    }
   ],
   "source": [
    "(set(df_adress_train_val['sentence_source']) - set(df_adress_train['sentence_source']))"
   ]
  },
  {
   "cell_type": "code",
   "execution_count": 58,
   "id": "9f3f85b5",
   "metadata": {
    "ExecuteTime": {
     "end_time": "2022-10-12T23:15:03.618843Z",
     "start_time": "2022-10-12T23:15:03.609459Z"
    }
   },
   "outputs": [
    {
     "data": {
      "text/plain": [
       "True"
      ]
     },
     "execution_count": 58,
     "metadata": {},
     "output_type": "execute_result"
    }
   ],
   "source": [
    "\n",
    "(set(df_adress_train_val['sentence_source'])) == (set(df_adress_train['sentence_source']) - set(df_adress_train_train['sentence_source']))\n"
   ]
  },
  {
   "cell_type": "code",
   "execution_count": 59,
   "id": "9c1a8443",
   "metadata": {
    "ExecuteTime": {
     "end_time": "2022-10-13T04:12:29.671609Z",
     "start_time": "2022-10-13T04:12:29.645085Z"
    }
   },
   "outputs": [
    {
     "data": {
      "text/plain": [
       "label\n",
       "0    54\n",
       "1    54\n",
       "dtype: int64"
      ]
     },
     "execution_count": 59,
     "metadata": {},
     "output_type": "execute_result"
    }
   ],
   "source": [
    "df_adress_train.groupby('label').size()"
   ]
  },
  {
   "cell_type": "code",
   "execution_count": 60,
   "id": "55f65646",
   "metadata": {
    "ExecuteTime": {
     "end_time": "2022-10-13T04:12:34.904543Z",
     "start_time": "2022-10-13T04:12:34.892677Z"
    }
   },
   "outputs": [
    {
     "data": {
      "text/plain": [
       "label\n",
       "0    47\n",
       "1    50\n",
       "dtype: int64"
      ]
     },
     "execution_count": 60,
     "metadata": {},
     "output_type": "execute_result"
    }
   ],
   "source": [
    "df_adress_train_train.groupby('label').size()"
   ]
  },
  {
   "cell_type": "code",
   "execution_count": 62,
   "id": "ed8d1588",
   "metadata": {
    "ExecuteTime": {
     "end_time": "2022-10-13T04:12:44.690280Z",
     "start_time": "2022-10-13T04:12:44.678101Z"
    }
   },
   "outputs": [
    {
     "data": {
      "text/plain": [
       "label\n",
       "0    7\n",
       "1    4\n",
       "dtype: int64"
      ]
     },
     "execution_count": 62,
     "metadata": {},
     "output_type": "execute_result"
    }
   ],
   "source": [
    "df_adress_train_val.groupby('label').size()"
   ]
  },
  {
   "cell_type": "code",
   "execution_count": 63,
   "id": "8d9701f7",
   "metadata": {
    "ExecuteTime": {
     "end_time": "2022-10-13T04:12:57.997856Z",
     "start_time": "2022-10-13T04:12:57.988973Z"
    }
   },
   "outputs": [
    {
     "data": {
      "text/plain": [
       "label\n",
       "0    24\n",
       "1    24\n",
       "dtype: int64"
      ]
     },
     "execution_count": 63,
     "metadata": {},
     "output_type": "execute_result"
    }
   ],
   "source": [
    "df_adress_test.groupby('label').size()"
   ]
  },
  {
   "cell_type": "code",
   "execution_count": null,
   "id": "973b3f60",
   "metadata": {},
   "outputs": [],
   "source": []
  },
  {
   "cell_type": "code",
   "execution_count": null,
   "id": "f00058e5",
   "metadata": {},
   "outputs": [],
   "source": []
  },
  {
   "cell_type": "code",
   "execution_count": null,
   "id": "43091332",
   "metadata": {},
   "outputs": [],
   "source": []
  },
  {
   "cell_type": "markdown",
   "id": "5db4f34c",
   "metadata": {},
   "source": [
    "# Mix & Combine"
   ]
  },
  {
   "cell_type": "code",
   "execution_count": 82,
   "id": "55769c07",
   "metadata": {
    "ExecuteTime": {
     "end_time": "2022-10-13T21:12:20.905683Z",
     "start_time": "2022-10-13T21:12:20.896308Z"
    }
   },
   "outputs": [
    {
     "data": {
      "text/plain": [
       "Index(['idtlkbnk', 'age 2011', 'education', 'category fluency version, 2011',\n",
       "       'category fluency, scored words named, 2011',\n",
       "       '> 1 sd below mean for normals ages 60-79 (Tombaugh, Kozak, & Rees, 1999) -- normal cutoff = 12+ for 9-12 yrs eductation, 14+ for 13-21 yrs education'],\n",
       "      dtype='object')"
      ]
     },
     "execution_count": 82,
     "metadata": {},
     "output_type": "execute_result"
    }
   ],
   "source": [
    "df_wls_label.columns"
   ]
  },
  {
   "cell_type": "code",
   "execution_count": 76,
   "id": "418b450c",
   "metadata": {
    "ExecuteTime": {
     "end_time": "2022-10-13T21:07:58.499877Z",
     "start_time": "2022-10-13T21:07:58.487169Z"
    }
   },
   "outputs": [
    {
     "data": {
      "text/plain": [
       "belowSD\n",
       "N      1167\n",
       "Y       109\n",
       "y         1\n",
       "NaN      83\n",
       "dtype: int64"
      ]
     },
     "execution_count": 76,
     "metadata": {},
     "output_type": "execute_result"
    }
   ],
   "source": [
    "df_wls_merge.groupby(\"belowSD\", dropna=False).size()"
   ]
  },
  {
   "cell_type": "code",
   "execution_count": 77,
   "id": "a6c8f5a2",
   "metadata": {
    "ExecuteTime": {
     "end_time": "2022-10-13T21:08:18.405492Z",
     "start_time": "2022-10-13T21:08:18.395245Z"
    }
   },
   "outputs": [
    {
     "data": {
      "text/plain": [
       "label\n",
       "0    54\n",
       "1    54\n",
       "dtype: int64"
      ]
     },
     "execution_count": 77,
     "metadata": {},
     "output_type": "execute_result"
    }
   ],
   "source": [
    "df_adress_train.groupby(\"label\", dropna=False).size()"
   ]
  },
  {
   "cell_type": "code",
   "execution_count": 78,
   "id": "b7ee15f4",
   "metadata": {
    "ExecuteTime": {
     "end_time": "2022-10-13T21:08:25.343594Z",
     "start_time": "2022-10-13T21:08:25.332258Z"
    }
   },
   "outputs": [
    {
     "data": {
      "text/plain": [
       "label\n",
       "0    24\n",
       "1    24\n",
       "dtype: int64"
      ]
     },
     "execution_count": 78,
     "metadata": {},
     "output_type": "execute_result"
    }
   ],
   "source": [
    "df_adress_test.groupby(\"label\", dropna=False).size()"
   ]
  },
  {
   "cell_type": "code",
   "execution_count": null,
   "id": "28687496",
   "metadata": {},
   "outputs": [],
   "source": []
  },
  {
   "cell_type": "code",
   "execution_count": null,
   "id": "7c27e63d-02b9-476c-86c2-3d27ea1f3d53",
   "metadata": {},
   "outputs": [],
   "source": []
  },
  {
   "cell_type": "code",
   "execution_count": null,
   "id": "81157ac1-de4d-4507-85d8-7530c5ebdf03",
   "metadata": {},
   "outputs": [],
   "source": []
  },
  {
   "cell_type": "code",
   "execution_count": null,
   "id": "6d852a0f-b3b9-458a-ad62-867ae2f5cd32",
   "metadata": {},
   "outputs": [],
   "source": []
  },
  {
   "cell_type": "code",
   "execution_count": null,
   "id": "1be50263-1e44-4cbe-a397-b545da9ecbfd",
   "metadata": {},
   "outputs": [],
   "source": []
  },
  {
   "cell_type": "code",
   "execution_count": null,
   "id": "f0e5f562-c955-421e-81b6-209723e99eae",
   "metadata": {},
   "outputs": [],
   "source": []
  },
  {
   "cell_type": "code",
   "execution_count": null,
   "id": "e4c73996-dd4e-4978-a2ba-02bf186bfbaa",
   "metadata": {},
   "outputs": [],
   "source": []
  },
  {
   "cell_type": "code",
   "execution_count": 31,
   "id": "350d038c-9ad7-4fc5-b3dd-ecf672346680",
   "metadata": {
    "execution": {
     "iopub.execute_input": "2022-12-02T01:03:33.096252Z",
     "iopub.status.busy": "2022-12-02T01:03:33.095458Z",
     "iopub.status.idle": "2022-12-02T01:03:33.115047Z",
     "shell.execute_reply": "2022-12-02T01:03:33.114257Z",
     "shell.execute_reply.started": "2022-12-02T01:03:33.096184Z"
    },
    "tags": []
   },
   "outputs": [],
   "source": [
    "df_adress_train = pd.read_csv(\"/edata/ADReSS-IS2020-data/dataframes/adre_train.csv\")\n",
    "\n",
    "df_adress_test = pd.read_csv(\"/edata/ADReSS-IS2020-data/dataframes/adre_test.csv\")\n",
    "\n",
    "df_adress = pd.concat([df_adress_train, df_adress_test], ignore_index=True)\n",
    "\n",
    "df_adress.rename(columns={\"sentence\": \"text\"}, inplace=True)"
   ]
  },
  {
   "cell_type": "code",
   "execution_count": 46,
   "id": "e9f904d1-35d7-4c05-805c-022a4ea2c50e",
   "metadata": {
    "execution": {
     "iopub.execute_input": "2022-12-02T01:10:19.027151Z",
     "iopub.status.busy": "2022-12-02T01:10:19.026409Z",
     "iopub.status.idle": "2022-12-02T01:10:19.050812Z",
     "shell.execute_reply": "2022-12-02T01:10:19.049867Z",
     "shell.execute_reply.started": "2022-12-02T01:10:19.027086Z"
    },
    "tags": []
   },
   "outputs": [
    {
     "data": {
      "text/html": [
       "<div>\n",
       "<style scoped>\n",
       "    .dataframe tbody tr th:only-of-type {\n",
       "        vertical-align: middle;\n",
       "    }\n",
       "\n",
       "    .dataframe tbody tr th {\n",
       "        vertical-align: top;\n",
       "    }\n",
       "\n",
       "    .dataframe thead th {\n",
       "        text-align: right;\n",
       "    }\n",
       "</style>\n",
       "<table border=\"1\" class=\"dataframe\">\n",
       "  <thead>\n",
       "    <tr style=\"text-align: right;\">\n",
       "      <th></th>\n",
       "      <th>Unnamed: 0</th>\n",
       "      <th>sentence_source</th>\n",
       "      <th>label</th>\n",
       "      <th>text</th>\n",
       "    </tr>\n",
       "  </thead>\n",
       "  <tbody>\n",
       "    <tr>\n",
       "      <th>0</th>\n",
       "      <td>6</td>\n",
       "      <td>S094.txt</td>\n",
       "      <td>1</td>\n",
       "      <td>oh yes   a little girl and the little boy is ...</td>\n",
       "    </tr>\n",
       "    <tr>\n",
       "      <th>1</th>\n",
       "      <td>0</td>\n",
       "      <td>S138.txt</td>\n",
       "      <td>1</td>\n",
       "      <td>the the water's flowing on the floor   and sh...</td>\n",
       "    </tr>\n",
       "    <tr>\n",
       "      <th>2</th>\n",
       "      <td>30</td>\n",
       "      <td>S118.txt</td>\n",
       "      <td>1</td>\n",
       "      <td>oh there's a cookie jar and a youngster with ...</td>\n",
       "    </tr>\n",
       "    <tr>\n",
       "      <th>3</th>\n",
       "      <td>37</td>\n",
       "      <td>S114.txt</td>\n",
       "      <td>1</td>\n",
       "      <td>mhm   well the kids is robbing a cookie jar  ...</td>\n",
       "    </tr>\n",
       "    <tr>\n",
       "      <th>4</th>\n",
       "      <td>49</td>\n",
       "      <td>S143.txt</td>\n",
       "      <td>1</td>\n",
       "      <td>well little boy reaching out for the cookie j...</td>\n",
       "    </tr>\n",
       "    <tr>\n",
       "      <th>...</th>\n",
       "      <td>...</td>\n",
       "      <td>...</td>\n",
       "      <td>...</td>\n",
       "      <td>...</td>\n",
       "    </tr>\n",
       "    <tr>\n",
       "      <th>151</th>\n",
       "      <td>43</td>\n",
       "      <td>S198.txt</td>\n",
       "      <td>1</td>\n",
       "      <td>you mean like the woman doing the dishes and ...</td>\n",
       "    </tr>\n",
       "    <tr>\n",
       "      <th>152</th>\n",
       "      <td>44</td>\n",
       "      <td>S180.txt</td>\n",
       "      <td>0</td>\n",
       "      <td>well the boy is taking cookies outof the cook...</td>\n",
       "    </tr>\n",
       "    <tr>\n",
       "      <th>153</th>\n",
       "      <td>45</td>\n",
       "      <td>S194.txt</td>\n",
       "      <td>1</td>\n",
       "      <td>well the mother has water spilling all over t...</td>\n",
       "    </tr>\n",
       "    <tr>\n",
       "      <th>154</th>\n",
       "      <td>46</td>\n",
       "      <td>S176.txt</td>\n",
       "      <td>1</td>\n",
       "      <td>whew   do i hafta use my my my personal descr...</td>\n",
       "    </tr>\n",
       "    <tr>\n",
       "      <th>155</th>\n",
       "      <td>47</td>\n",
       "      <td>S200.txt</td>\n",
       "      <td>1</td>\n",
       "      <td>seeing the mother   she's washing dishes and ...</td>\n",
       "    </tr>\n",
       "  </tbody>\n",
       "</table>\n",
       "<p>156 rows × 4 columns</p>\n",
       "</div>"
      ],
      "text/plain": [
       "     Unnamed: 0 sentence_source  label  \\\n",
       "0             6        S094.txt      1   \n",
       "1             0        S138.txt      1   \n",
       "2            30        S118.txt      1   \n",
       "3            37        S114.txt      1   \n",
       "4            49        S143.txt      1   \n",
       "..          ...             ...    ...   \n",
       "151          43        S198.txt      1   \n",
       "152          44        S180.txt      0   \n",
       "153          45        S194.txt      1   \n",
       "154          46        S176.txt      1   \n",
       "155          47        S200.txt      1   \n",
       "\n",
       "                                                  text  \n",
       "0     oh yes   a little girl and the little boy is ...  \n",
       "1     the the water's flowing on the floor   and sh...  \n",
       "2     oh there's a cookie jar and a youngster with ...  \n",
       "3     mhm   well the kids is robbing a cookie jar  ...  \n",
       "4     well little boy reaching out for the cookie j...  \n",
       "..                                                 ...  \n",
       "151   you mean like the woman doing the dishes and ...  \n",
       "152   well the boy is taking cookies outof the cook...  \n",
       "153   well the mother has water spilling all over t...  \n",
       "154   whew   do i hafta use my my my personal descr...  \n",
       "155   seeing the mother   she's washing dishes and ...  \n",
       "\n",
       "[156 rows x 4 columns]"
      ]
     },
     "execution_count": 46,
     "metadata": {},
     "output_type": "execute_result"
    }
   ],
   "source": [
    "df_adress"
   ]
  },
  {
   "cell_type": "code",
   "execution_count": 64,
   "id": "05c87834-208a-4471-916b-57a5f266577d",
   "metadata": {
    "execution": {
     "iopub.execute_input": "2022-12-02T01:47:37.446470Z",
     "iopub.status.busy": "2022-12-02T01:47:37.445730Z",
     "iopub.status.idle": "2022-12-02T01:47:37.466855Z",
     "shell.execute_reply": "2022-12-02T01:47:37.465843Z",
     "shell.execute_reply.started": "2022-12-02T01:47:37.446404Z"
    },
    "tags": []
   },
   "outputs": [
    {
     "data": {
      "text/html": [
       "<div>\n",
       "<style scoped>\n",
       "    .dataframe tbody tr th:only-of-type {\n",
       "        vertical-align: middle;\n",
       "    }\n",
       "\n",
       "    .dataframe tbody tr th {\n",
       "        vertical-align: top;\n",
       "    }\n",
       "\n",
       "    .dataframe thead th {\n",
       "        text-align: right;\n",
       "    }\n",
       "</style>\n",
       "<table border=\"1\" class=\"dataframe\">\n",
       "  <thead>\n",
       "    <tr style=\"text-align: right;\">\n",
       "      <th></th>\n",
       "      <th>Unnamed: 0</th>\n",
       "      <th>sentence_source</th>\n",
       "      <th>label</th>\n",
       "      <th>text</th>\n",
       "    </tr>\n",
       "  </thead>\n",
       "  <tbody>\n",
       "    <tr>\n",
       "      <th>22</th>\n",
       "      <td>105</td>\n",
       "      <td>S001.txt</td>\n",
       "      <td>0</td>\n",
       "      <td>well there's a mother standing there washing the dishes   and the window's open   and outside the window there's a walk with a curved walk   and you can see another building there   looks like a garage or something with curtains and the grass in the   and there are dishes two cups and a saucer on the sink   and she's getting her feet wet from the overflow of the water   she seems to be oblivious to the fact that the sink is   she's also oblivious to the fact that her kids are stealing   and the kid on the stool is gonna fall off the stool   he's standing up there in the cupboard taking cookies out of   the kids are somewhere around seven or eight years old or nine   and the mother is gonna get shocked when the when the   and i think that's about all</td>\n",
       "    </tr>\n",
       "  </tbody>\n",
       "</table>\n",
       "</div>"
      ],
      "text/plain": [
       "    Unnamed: 0 sentence_source  label  \\\n",
       "22         105        S001.txt      0   \n",
       "\n",
       "                                                                                                                                                                                                                                                                                                                                                                                                                                                                                                                                                                                                                                                                                                                                                                                         text  \n",
       "22   well there's a mother standing there washing the dishes   and the window's open   and outside the window there's a walk with a curved walk   and you can see another building there   looks like a garage or something with curtains and the grass in the   and there are dishes two cups and a saucer on the sink   and she's getting her feet wet from the overflow of the water   she seems to be oblivious to the fact that the sink is   she's also oblivious to the fact that her kids are stealing   and the kid on the stool is gonna fall off the stool   he's standing up there in the cupboard taking cookies out of   the kids are somewhere around seven or eight years old or nine   and the mother is gonna get shocked when the when the   and i think that's about all   "
      ]
     },
     "execution_count": 64,
     "metadata": {},
     "output_type": "execute_result"
    }
   ],
   "source": [
    "df_adress.query(\"sentence_source == 'S001.txt'\")"
   ]
  },
  {
   "cell_type": "code",
   "execution_count": null,
   "id": "b398f496-6619-4c4d-a827-26ee3e44a03c",
   "metadata": {},
   "outputs": [],
   "source": []
  },
  {
   "cell_type": "code",
   "execution_count": null,
   "id": "53e7da29-1890-4d06-921e-f0006581d8e8",
   "metadata": {},
   "outputs": [],
   "source": []
  },
  {
   "cell_type": "code",
   "execution_count": null,
   "id": "93ca73eb-14c2-4a89-9026-a4843f35d4ec",
   "metadata": {},
   "outputs": [],
   "source": []
  },
  {
   "cell_type": "code",
   "execution_count": null,
   "id": "a95a7116-8550-4716-829c-ec51d664bfaf",
   "metadata": {},
   "outputs": [],
   "source": []
  },
  {
   "cell_type": "code",
   "execution_count": null,
   "id": "a3a11da8-7297-40a6-b9b5-2c3a799a6238",
   "metadata": {},
   "outputs": [],
   "source": []
  },
  {
   "cell_type": "code",
   "execution_count": 61,
   "id": "8a4ed1de-2de7-4e77-89e0-fbbd19a3b8af",
   "metadata": {
    "execution": {
     "iopub.execute_input": "2022-12-02T01:27:11.111980Z",
     "iopub.status.busy": "2022-12-02T01:27:11.111177Z",
     "iopub.status.idle": "2022-12-02T01:27:11.118281Z",
     "shell.execute_reply": "2022-12-02T01:27:11.116987Z",
     "shell.execute_reply.started": "2022-12-02T01:27:11.111856Z"
    }
   },
   "outputs": [],
   "source": [
    "pd.set_option('display.max_colwidth', None)"
   ]
  },
  {
   "cell_type": "code",
   "execution_count": 65,
   "id": "d9b783c1-6406-4cac-afd3-4be6e2f22606",
   "metadata": {
    "execution": {
     "iopub.execute_input": "2022-12-02T01:47:45.096517Z",
     "iopub.status.busy": "2022-12-02T01:47:45.095750Z",
     "iopub.status.idle": "2022-12-02T01:47:45.117230Z",
     "shell.execute_reply": "2022-12-02T01:47:45.116028Z",
     "shell.execute_reply.started": "2022-12-02T01:47:45.096452Z"
    },
    "tags": []
   },
   "outputs": [
    {
     "data": {
      "text/html": [
       "<div>\n",
       "<style scoped>\n",
       "    .dataframe tbody tr th:only-of-type {\n",
       "        vertical-align: middle;\n",
       "    }\n",
       "\n",
       "    .dataframe tbody tr th {\n",
       "        vertical-align: top;\n",
       "    }\n",
       "\n",
       "    .dataframe thead th {\n",
       "        text-align: right;\n",
       "    }\n",
       "</style>\n",
       "<table border=\"1\" class=\"dataframe\">\n",
       "  <thead>\n",
       "    <tr style=\"text-align: right;\">\n",
       "      <th></th>\n",
       "      <th>file</th>\n",
       "      <th>text</th>\n",
       "    </tr>\n",
       "  </thead>\n",
       "  <tbody>\n",
       "    <tr>\n",
       "      <th>21</th>\n",
       "      <td>001-0</td>\n",
       "      <td>Mhm. alright. There's a young boy that's getting a cookie jar. And it he's in bad shape because the thing is. And in the picture the mother is washing dishes and doesn't see. And so is the the water is overflowing in the sink. And the dishes might get falled over if you don't. And it there it's a picture of a kitchen window. And the curtains are very distinct. But the water is still flowing.</td>\n",
       "    </tr>\n",
       "    <tr>\n",
       "      <th>202</th>\n",
       "      <td>001-2</td>\n",
       "      <td>Mhm. There's a young boy going in a cookie jar. And there's a a girl young girl. And i'm saying he's a boy because you can it's. and he's he's in the cookie jar. And there's a stool that he is on and it already is starting to. And so is the water in the sink is overflowing in the sink. i i don't know about the this hickey here i. like it the wife or imean the the mother. And she's she has has. Oh i i can't think of the. She has the she's trying to wipe wipe dishes. Oh and stop the water from going out.</td>\n",
       "    </tr>\n",
       "  </tbody>\n",
       "</table>\n",
       "</div>"
      ],
      "text/plain": [
       "      file  \\\n",
       "21   001-0   \n",
       "202  001-2   \n",
       "\n",
       "                                                                                                                                                                                                                                                                                                                                                                                                                                                                                                                             text  \n",
       "21                                                                                                                    Mhm. alright. There's a young boy that's getting a cookie jar. And it he's in bad shape because the thing is. And in the picture the mother is washing dishes and doesn't see. And so is the the water is overflowing in the sink. And the dishes might get falled over if you don't. And it there it's a picture of a kitchen window. And the curtains are very distinct. But the water is still flowing.   \n",
       "202  Mhm. There's a young boy going in a cookie jar. And there's a a girl young girl. And i'm saying he's a boy because you can it's. and he's he's in the cookie jar. And there's a stool that he is on and it already is starting to. And so is the water in the sink is overflowing in the sink. i i don't know about the this hickey here i. like it the wife or imean the the mother. And she's she has has. Oh i i can't think of the. She has the she's trying to wipe wipe dishes. Oh and stop the water from going out.   "
      ]
     },
     "execution_count": 65,
     "metadata": {},
     "output_type": "execute_result"
    }
   ],
   "source": [
    "df_adress_dementia.query(\"file.str.startswith('001')\")"
   ]
  },
  {
   "cell_type": "code",
   "execution_count": null,
   "id": "1ab43e76-7062-4bf0-9cf1-800eeca8f908",
   "metadata": {},
   "outputs": [],
   "source": []
  },
  {
   "cell_type": "code",
   "execution_count": 67,
   "id": "9627352b-4afe-4d61-9ee2-800035c8d8c8",
   "metadata": {
    "execution": {
     "iopub.execute_input": "2022-12-02T01:54:16.804005Z",
     "iopub.status.busy": "2022-12-02T01:54:16.803270Z",
     "iopub.status.idle": "2022-12-02T01:54:16.814448Z",
     "shell.execute_reply": "2022-12-02T01:54:16.812966Z",
     "shell.execute_reply.started": "2022-12-02T01:54:16.803897Z"
    }
   },
   "outputs": [],
   "source": [
    "\n",
    "df_adress_dementia = pd.read_csv(\"/edata/TRESTLE/harmonized-toolkit/transcripts/processed_pitt_dementia.tsv\", sep=\"\\t\")\n",
    "\n",
    "df_adress_control = pd.read_csv(\"/edata/TRESTLE/harmonized-toolkit/transcripts/processed_pitt_control.tsv\", sep=\"\\t\")\n",
    "\n",
    "\n",
    "df_adress_dementia['label'] = 1\n",
    "df_adress_control['label'] = 0\n",
    "\n",
    "df_adress = pd.concat([df_adress_dementia, df_adress_control]).reset_index(drop=True)"
   ]
  },
  {
   "cell_type": "code",
   "execution_count": 68,
   "id": "ea44e43f-b741-4bdb-93ba-edef3e2cd8ec",
   "metadata": {
    "execution": {
     "iopub.execute_input": "2022-12-02T01:54:23.740212Z",
     "iopub.status.busy": "2022-12-02T01:54:23.739422Z",
     "iopub.status.idle": "2022-12-02T01:54:23.759865Z",
     "shell.execute_reply": "2022-12-02T01:54:23.759111Z",
     "shell.execute_reply.started": "2022-12-02T01:54:23.740143Z"
    }
   },
   "outputs": [
    {
     "data": {
      "text/html": [
       "<div>\n",
       "<style scoped>\n",
       "    .dataframe tbody tr th:only-of-type {\n",
       "        vertical-align: middle;\n",
       "    }\n",
       "\n",
       "    .dataframe tbody tr th {\n",
       "        vertical-align: top;\n",
       "    }\n",
       "\n",
       "    .dataframe thead th {\n",
       "        text-align: right;\n",
       "    }\n",
       "</style>\n",
       "<table border=\"1\" class=\"dataframe\">\n",
       "  <thead>\n",
       "    <tr style=\"text-align: right;\">\n",
       "      <th></th>\n",
       "      <th>file</th>\n",
       "      <th>text</th>\n",
       "      <th>label</th>\n",
       "    </tr>\n",
       "  </thead>\n",
       "  <tbody>\n",
       "    <tr>\n",
       "      <th>0</th>\n",
       "      <td>172-1</td>\n",
       "      <td>Oh the water is running outof the sink. Mother is calmly drying a dish. The stool is going to fall over and the little boy is on top of. And the little girl is reaching for a cookie. She has her hands to her her finger to her lip as if she's. The curtains seem to be waving a bit. The water's running. and it's splashing on the floor. That's it.</td>\n",
       "      <td>1</td>\n",
       "    </tr>\n",
       "    <tr>\n",
       "      <th>1</th>\n",
       "      <td>154-1</td>\n",
       "      <td>this boy is getting cookies outof this jar. well why why they must they they must have. Www. No you've gotta you gotta get the you gotta get. yeah i guess so.</td>\n",
       "      <td>1</td>\n",
       "    </tr>\n",
       "    <tr>\n",
       "      <th>2</th>\n",
       "      <td>039-0</td>\n",
       "      <td>Okay we see first of all the sink is overflowing. Water cascading down the kitchen cabinet onto the floor. the lady in the picture is drying a dish. there is a young man on a stool. And he's the stool is being tipped over. He's reaching for a cookie jar. the lid is off the jar and it looks like he's going to try to. And looks like he might make it before he hits the floor. I don't think so.</td>\n",
       "      <td>1</td>\n",
       "    </tr>\n",
       "    <tr>\n",
       "      <th>3</th>\n",
       "      <td>120-1</td>\n",
       "      <td>okay. Okay. Okay. Well the boy is reaching for the cookie jar reaching for. His stool is falling over. He's handing the cookies to his sister. The mother is washing the dishes. The sink is running over. these are things that are happening. The the little sister's shushing doesn't want the mother to. well the water's running into the sink as well as the sink. Oh and the mother's stepping in the puddle. Yes i don't identify any other happenings.</td>\n",
       "      <td>1</td>\n",
       "    </tr>\n",
       "    <tr>\n",
       "      <th>4</th>\n",
       "      <td>181-0</td>\n",
       "      <td>Well they x look like they're stealing cookies out of the. This lady is drying dishes. somebody's up in the cookie jar. She's drying dishes it seems. the sink is running over. he's falling off the stool stealing cookies. Leg just went up. Land on the floors.</td>\n",
       "      <td>1</td>\n",
       "    </tr>\n",
       "    <tr>\n",
       "      <th>...</th>\n",
       "      <td>...</td>\n",
       "      <td>...</td>\n",
       "      <td>...</td>\n",
       "    </tr>\n",
       "    <tr>\n",
       "      <th>543</th>\n",
       "      <td>042-1</td>\n",
       "      <td>Okay. the little boy is on the stool which is tipping over. And he's getting into the cookie jar which is up in the cabinet. the lid is off the jar. He has a cookie in one hand. He's reaching for another one. the little girl has her hand up for a cookie i guess to. mother's doing the dishes at the sink and the sink is. the water's overflowing onto the floor. She's drying a dish. there's it looks like two cups and a plate on the. Outside the window it looks like a path. And there's another window and some trees apparently and grass and. And it's either i guess it's another part of the house. And there's curtains on her windows. I guess that's about it. She has an apron on.</td>\n",
       "      <td>0</td>\n",
       "    </tr>\n",
       "    <tr>\n",
       "      <th>544</th>\n",
       "      <td>068-2</td>\n",
       "      <td>Oh yes. well the mother is washing the dishes. And the water is running over in the sink. And the kids little boy's getting in the cookie jar and. And she seems to be oblivious to everything. Guess in some kind of daze. And the little girl has her finger on her lips and. sho don't tell mom. this looks looks like the mother is really kinda. Or in some kind of a depression because she doesn't seem to know.</td>\n",
       "      <td>0</td>\n",
       "    </tr>\n",
       "    <tr>\n",
       "      <th>545</th>\n",
       "      <td>274-1</td>\n",
       "      <td>well the mother's doing the dishes and allowing the sink. The kids or the boy's in the cookie jar. And the stool that he's standing on is tilting. And i don't know what the girl is doing. Gonna tell on him or do something. And then there's some people out here behind the garage. I don't know what they are doing. Do you see them.</td>\n",
       "      <td>0</td>\n",
       "    </tr>\n",
       "    <tr>\n",
       "      <th>546</th>\n",
       "      <td>132-0</td>\n",
       "      <td>That's it. Okay the boy is in the cookie jar and giving them to his sister. Mother's washing the dishes. The water's overflowing in the sink. The boy is falling off the stool. the girl is eating a cookie asking for another. the cover's off the cookie jar. Door to the cabinet is open. the window outside is open. The yard. The mother is impervious of what's going on. She's unconscious just standing in the water and wiping the dishes. that's about it. The wind might be blowing near the curtain.</td>\n",
       "      <td>0</td>\n",
       "    </tr>\n",
       "    <tr>\n",
       "      <th>547</th>\n",
       "      <td>141-2</td>\n",
       "      <td>Oh goodness sakes. The little girl is saying. be quiet because we don't want mother to know we're in the. The boy is getting cookies and he's going to have an accident. The mother is in dream world somewhere because she's. she's standing in the water even. My goodness sakes. The. There's nothing the matter with those dishes. I guess you could look out the window and see that. Hm i don't know karen that's.</td>\n",
       "      <td>0</td>\n",
       "    </tr>\n",
       "  </tbody>\n",
       "</table>\n",
       "<p>548 rows × 3 columns</p>\n",
       "</div>"
      ],
      "text/plain": [
       "      file  \\\n",
       "0    172-1   \n",
       "1    154-1   \n",
       "2    039-0   \n",
       "3    120-1   \n",
       "4    181-0   \n",
       "..     ...   \n",
       "543  042-1   \n",
       "544  068-2   \n",
       "545  274-1   \n",
       "546  132-0   \n",
       "547  141-2   \n",
       "\n",
       "                                                                                                                                                                                                                                                                                                                                                                                                                                                                                                                                                                                                                                                                                                          text  \\\n",
       "0                                                                                                                                                                                                                                                                                                                                                   Oh the water is running outof the sink. Mother is calmly drying a dish. The stool is going to fall over and the little boy is on top of. And the little girl is reaching for a cookie. She has her hands to her her finger to her lip as if she's. The curtains seem to be waving a bit. The water's running. and it's splashing on the floor. That's it.    \n",
       "1                                                                                                                                                                                                                                                                                                                                                                                                                                                                                                                                              this boy is getting cookies outof this jar. well why why they must they they must have. Www. No you've gotta you gotta get the you gotta get. yeah i guess so.    \n",
       "2                                                                                                                                                                                                                                                                                                   Okay we see first of all the sink is overflowing. Water cascading down the kitchen cabinet onto the floor. the lady in the picture is drying a dish. there is a young man on a stool. And he's the stool is being tipped over. He's reaching for a cookie jar. the lid is off the jar and it looks like he's going to try to. And looks like he might make it before he hits the floor. I don't think so.    \n",
       "3                                                                                                                                                                                                                                             okay. Okay. Okay. Well the boy is reaching for the cookie jar reaching for. His stool is falling over. He's handing the cookies to his sister. The mother is washing the dishes. The sink is running over. these are things that are happening. The the little sister's shushing doesn't want the mother to. well the water's running into the sink as well as the sink. Oh and the mother's stepping in the puddle. Yes i don't identify any other happenings.    \n",
       "4                                                                                                                                                                                                                                                                                                                                                                                                                                          Well they x look like they're stealing cookies out of the. This lady is drying dishes. somebody's up in the cookie jar. She's drying dishes it seems. the sink is running over. he's falling off the stool stealing cookies. Leg just went up. Land on the floors.    \n",
       "..                                                                                                                                                                                                                                                                                                                                                                                                                                                                                                                                                                                                                                                                                                         ...   \n",
       "543  Okay. the little boy is on the stool which is tipping over. And he's getting into the cookie jar which is up in the cabinet. the lid is off the jar. He has a cookie in one hand. He's reaching for another one. the little girl has her hand up for a cookie i guess to. mother's doing the dishes at the sink and the sink is. the water's overflowing onto the floor. She's drying a dish. there's it looks like two cups and a plate on the. Outside the window it looks like a path. And there's another window and some trees apparently and grass and. And it's either i guess it's another part of the house. And there's curtains on her windows. I guess that's about it. She has an apron on.    \n",
       "544                                                                                                                                                                                                                                                                                   Oh yes. well the mother is washing the dishes. And the water is running over in the sink. And the kids little boy's getting in the cookie jar and. And she seems to be oblivious to everything. Guess in some kind of daze. And the little girl has her finger on her lips and. sho don't tell mom. this looks looks like the mother is really kinda. Or in some kind of a depression because she doesn't seem to know.    \n",
       "545                                                                                                                                                                                                                                                                                                                                                                well the mother's doing the dishes and allowing the sink. The kids or the boy's in the cookie jar. And the stool that he's standing on is tilting. And i don't know what the girl is doing. Gonna tell on him or do something. And then there's some people out here behind the garage. I don't know what they are doing. Do you see them.    \n",
       "546                                                                                                                                                                                          That's it. Okay the boy is in the cookie jar and giving them to his sister. Mother's washing the dishes. The water's overflowing in the sink. The boy is falling off the stool. the girl is eating a cookie asking for another. the cover's off the cookie jar. Door to the cabinet is open. the window outside is open. The yard. The mother is impervious of what's going on. She's unconscious just standing in the water and wiping the dishes. that's about it. The wind might be blowing near the curtain.    \n",
       "547                                                                                                                                                                                                                                                                                  Oh goodness sakes. The little girl is saying. be quiet because we don't want mother to know we're in the. The boy is getting cookies and he's going to have an accident. The mother is in dream world somewhere because she's. she's standing in the water even. My goodness sakes. The. There's nothing the matter with those dishes. I guess you could look out the window and see that. Hm i don't know karen that's.    \n",
       "\n",
       "     label  \n",
       "0        1  \n",
       "1        1  \n",
       "2        1  \n",
       "3        1  \n",
       "4        1  \n",
       "..     ...  \n",
       "543      0  \n",
       "544      0  \n",
       "545      0  \n",
       "546      0  \n",
       "547      0  \n",
       "\n",
       "[548 rows x 3 columns]"
      ]
     },
     "execution_count": 68,
     "metadata": {},
     "output_type": "execute_result"
    }
   ],
   "source": [
    "df_adress"
   ]
  },
  {
   "cell_type": "code",
   "execution_count": null,
   "id": "71ca804c-7722-4706-b81a-fc1542f8446f",
   "metadata": {},
   "outputs": [],
   "source": []
  }
 ],
 "metadata": {
  "kernelspec": {
   "display_name": "Python 3",
   "language": "python",
   "name": "python3"
  },
  "language_info": {
   "codemirror_mode": {
    "name": "ipython",
    "version": 3
   },
   "file_extension": ".py",
   "mimetype": "text/x-python",
   "name": "python",
   "nbconvert_exporter": "python",
   "pygments_lexer": "ipython3",
   "version": "3.8.10"
  },
  "toc": {
   "base_numbering": 1,
   "nav_menu": {},
   "number_sections": true,
   "sideBar": true,
   "skip_h1_title": false,
   "title_cell": "Table of Contents",
   "title_sidebar": "Contents",
   "toc_cell": false,
   "toc_position": {},
   "toc_section_display": true,
   "toc_window_display": true
  },
  "toc-autonumbering": true
 },
 "nbformat": 4,
 "nbformat_minor": 5
}
