{
 "cells": [
  {
   "cell_type": "code",
   "execution_count": 1,
   "id": "c9e74ab3-8e49-432c-a4a8-3a2e5f9b60a1",
   "metadata": {
    "execution": {
     "iopub.execute_input": "2023-03-03T04:43:11.172483Z",
     "iopub.status.busy": "2023-03-03T04:43:11.171486Z",
     "iopub.status.idle": "2023-03-03T04:43:11.462764Z",
     "shell.execute_reply": "2023-03-03T04:43:11.461900Z",
     "shell.execute_reply.started": "2023-03-03T04:43:11.172262Z"
    },
    "tags": []
   },
   "outputs": [],
   "source": [
    "import pandas as pd\n",
    "import numpy as np"
   ]
  },
  {
   "cell_type": "code",
   "execution_count": 2,
   "id": "9778415e-5985-41a5-9e27-e651d18cf80f",
   "metadata": {
    "execution": {
     "iopub.execute_input": "2023-03-03T04:43:12.116064Z",
     "iopub.status.busy": "2023-03-03T04:43:12.115183Z",
     "iopub.status.idle": "2023-03-03T04:43:17.678831Z",
     "shell.execute_reply": "2023-03-03T04:43:17.677967Z",
     "shell.execute_reply.started": "2023-03-03T04:43:12.115994Z"
    }
   },
   "outputs": [],
   "source": [
    "df_business = pd.read_json(\"/bime-munin/xiruod/data/yelp_dataset/yelp_academic_dataset_business.json\", lines=True)\n"
   ]
  },
  {
   "cell_type": "code",
   "execution_count": 3,
   "id": "f4ec40a6-0e13-4c85-80c6-0823dcfd15cc",
   "metadata": {
    "execution": {
     "iopub.execute_input": "2023-03-03T04:43:17.680037Z",
     "iopub.status.busy": "2023-03-03T04:43:17.679847Z",
     "iopub.status.idle": "2023-03-03T04:46:29.181100Z",
     "shell.execute_reply": "2023-03-03T04:46:29.179817Z",
     "shell.execute_reply.started": "2023-03-03T04:43:17.680019Z"
    },
    "tags": []
   },
   "outputs": [],
   "source": [
    "\n",
    "\n",
    "df_review = pd.read_json(\"/bime-munin/xiruod/data/yelp_dataset/yelp_academic_dataset_review.json\", lines=True)"
   ]
  },
  {
   "cell_type": "code",
   "execution_count": 6,
   "id": "5a9118ae-c514-43be-bfb9-f033ed368225",
   "metadata": {
    "execution": {
     "iopub.execute_input": "2023-03-03T04:46:29.215384Z",
     "iopub.status.busy": "2023-03-03T04:46:29.215064Z",
     "iopub.status.idle": "2023-03-03T04:46:29.225780Z",
     "shell.execute_reply": "2023-03-03T04:46:29.224919Z",
     "shell.execute_reply.started": "2023-03-03T04:46:29.215353Z"
    }
   },
   "outputs": [
    {
     "data": {
      "text/plain": [
       "1"
      ]
     },
     "execution_count": 6,
     "metadata": {},
     "output_type": "execute_result"
    }
   ],
   "source": [
    "1"
   ]
  },
  {
   "cell_type": "code",
   "execution_count": null,
   "id": "fd8e913e-056b-4459-a1eb-8a82bf4acf7a",
   "metadata": {},
   "outputs": [],
   "source": []
  },
  {
   "cell_type": "code",
   "execution_count": null,
   "id": "f98c91e4-97b4-4bfb-a8f9-75401adb9187",
   "metadata": {},
   "outputs": [],
   "source": []
  },
  {
   "cell_type": "markdown",
   "id": "96745783-a6b0-4eb0-bcc7-8075937e3b46",
   "metadata": {},
   "source": [
    "# Filter based on number of reviews"
   ]
  },
  {
   "cell_type": "code",
   "execution_count": 6,
   "id": "f602ebd5-ee18-4873-9b54-17264ae718a4",
   "metadata": {
    "execution": {
     "iopub.execute_input": "2023-03-03T01:02:15.174681Z",
     "iopub.status.busy": "2023-03-03T01:02:15.174516Z",
     "iopub.status.idle": "2023-03-03T01:02:21.964553Z",
     "shell.execute_reply": "2023-03-03T01:02:21.963380Z",
     "shell.execute_reply.started": "2023-03-03T01:02:15.174666Z"
    },
    "tags": []
   },
   "outputs": [],
   "source": [
    "assert df_review['review_id'].nunique() == len(df_review)"
   ]
  },
  {
   "cell_type": "code",
   "execution_count": 7,
   "id": "ded410ca-4960-422b-96e0-6470650422d6",
   "metadata": {
    "execution": {
     "iopub.execute_input": "2023-03-03T01:02:21.966009Z",
     "iopub.status.busy": "2023-03-03T01:02:21.965677Z",
     "iopub.status.idle": "2023-03-03T01:02:23.967572Z",
     "shell.execute_reply": "2023-03-03T01:02:23.966776Z",
     "shell.execute_reply.started": "2023-03-03T01:02:21.965979Z"
    },
    "tags": []
   },
   "outputs": [],
   "source": [
    "df_review_agg = df_review.groupby(\"business_id\", as_index=False).size()"
   ]
  },
  {
   "cell_type": "code",
   "execution_count": 8,
   "id": "102a7732-9ba6-4691-a2e9-95a4abfb9dbd",
   "metadata": {
    "execution": {
     "iopub.execute_input": "2023-03-03T01:02:23.968520Z",
     "iopub.status.busy": "2023-03-03T01:02:23.968344Z",
     "iopub.status.idle": "2023-03-03T01:02:23.973355Z",
     "shell.execute_reply": "2023-03-03T01:02:23.972546Z",
     "shell.execute_reply.started": "2023-03-03T01:02:23.968504Z"
    }
   },
   "outputs": [
    {
     "data": {
      "text/plain": [
       "150346"
      ]
     },
     "execution_count": 8,
     "metadata": {},
     "output_type": "execute_result"
    }
   ],
   "source": [
    "len(df_review_agg)"
   ]
  },
  {
   "cell_type": "code",
   "execution_count": 9,
   "id": "84c229a3-862a-4230-8089-d28ee2bd375f",
   "metadata": {
    "execution": {
     "iopub.execute_input": "2023-03-03T01:02:23.974718Z",
     "iopub.status.busy": "2023-03-03T01:02:23.974420Z",
     "iopub.status.idle": "2023-03-03T01:02:23.998596Z",
     "shell.execute_reply": "2023-03-03T01:02:23.997983Z",
     "shell.execute_reply.started": "2023-03-03T01:02:23.974690Z"
    },
    "tags": []
   },
   "outputs": [
    {
     "data": {
      "text/html": [
       "<div>\n",
       "<style scoped>\n",
       "    .dataframe tbody tr th:only-of-type {\n",
       "        vertical-align: middle;\n",
       "    }\n",
       "\n",
       "    .dataframe tbody tr th {\n",
       "        vertical-align: top;\n",
       "    }\n",
       "\n",
       "    .dataframe thead th {\n",
       "        text-align: right;\n",
       "    }\n",
       "</style>\n",
       "<table border=\"1\" class=\"dataframe\">\n",
       "  <thead>\n",
       "    <tr style=\"text-align: right;\">\n",
       "      <th></th>\n",
       "      <th>business_id</th>\n",
       "      <th>size</th>\n",
       "    </tr>\n",
       "  </thead>\n",
       "  <tbody>\n",
       "    <tr>\n",
       "      <th>2</th>\n",
       "      <td>--30_8IhuyMHbSOcNWd6DQ</td>\n",
       "      <td>9</td>\n",
       "    </tr>\n",
       "    <tr>\n",
       "      <th>8</th>\n",
       "      <td>--FWWsIwxRwuw9vIMImcQg</td>\n",
       "      <td>8</td>\n",
       "    </tr>\n",
       "    <tr>\n",
       "      <th>10</th>\n",
       "      <td>--LC8cIrALInl2vyo701tg</td>\n",
       "      <td>8</td>\n",
       "    </tr>\n",
       "    <tr>\n",
       "      <th>14</th>\n",
       "      <td>--OS_I7dnABrXvRCCuWOGQ</td>\n",
       "      <td>5</td>\n",
       "    </tr>\n",
       "    <tr>\n",
       "      <th>17</th>\n",
       "      <td>--Sd93OFWITqDHifMoAy9g</td>\n",
       "      <td>6</td>\n",
       "    </tr>\n",
       "    <tr>\n",
       "      <th>...</th>\n",
       "      <td>...</td>\n",
       "      <td>...</td>\n",
       "    </tr>\n",
       "    <tr>\n",
       "      <th>150338</th>\n",
       "      <td>zzjCxn89a7RQo8keIOO_Ag</td>\n",
       "      <td>5</td>\n",
       "    </tr>\n",
       "    <tr>\n",
       "      <th>150342</th>\n",
       "      <td>zztOG2cKm87I6Iw_tleZsQ</td>\n",
       "      <td>6</td>\n",
       "    </tr>\n",
       "    <tr>\n",
       "      <th>150343</th>\n",
       "      <td>zzu6_r3DxBJuXcjnOYVdTw</td>\n",
       "      <td>8</td>\n",
       "    </tr>\n",
       "    <tr>\n",
       "      <th>150344</th>\n",
       "      <td>zzw66H6hVjXQEt0Js3Mo4A</td>\n",
       "      <td>5</td>\n",
       "    </tr>\n",
       "    <tr>\n",
       "      <th>150345</th>\n",
       "      <td>zzyx5x0Z7xXWWvWnZFuxlQ</td>\n",
       "      <td>8</td>\n",
       "    </tr>\n",
       "  </tbody>\n",
       "</table>\n",
       "<p>55055 rows × 2 columns</p>\n",
       "</div>"
      ],
      "text/plain": [
       "                   business_id  size\n",
       "2       --30_8IhuyMHbSOcNWd6DQ     9\n",
       "8       --FWWsIwxRwuw9vIMImcQg     8\n",
       "10      --LC8cIrALInl2vyo701tg     8\n",
       "14      --OS_I7dnABrXvRCCuWOGQ     5\n",
       "17      --Sd93OFWITqDHifMoAy9g     6\n",
       "...                        ...   ...\n",
       "150338  zzjCxn89a7RQo8keIOO_Ag     5\n",
       "150342  zztOG2cKm87I6Iw_tleZsQ     6\n",
       "150343  zzu6_r3DxBJuXcjnOYVdTw     8\n",
       "150344  zzw66H6hVjXQEt0Js3Mo4A     5\n",
       "150345  zzyx5x0Z7xXWWvWnZFuxlQ     8\n",
       "\n",
       "[55055 rows x 2 columns]"
      ]
     },
     "execution_count": 9,
     "metadata": {},
     "output_type": "execute_result"
    }
   ],
   "source": [
    "df_review_agg.query(\"size <= 10\")"
   ]
  },
  {
   "cell_type": "code",
   "execution_count": 10,
   "id": "14183bd0-8c20-4571-8acf-f1d60ee5ae6a",
   "metadata": {
    "execution": {
     "iopub.execute_input": "2023-03-03T01:02:23.999943Z",
     "iopub.status.busy": "2023-03-03T01:02:23.999774Z",
     "iopub.status.idle": "2023-03-03T01:02:24.467599Z",
     "shell.execute_reply": "2023-03-03T01:02:24.466739Z",
     "shell.execute_reply.started": "2023-03-03T01:02:23.999927Z"
    }
   },
   "outputs": [],
   "source": [
    "df_review_agg = df_review_agg.merge(df_business, on=\"business_id\", how=\"inner\")"
   ]
  },
  {
   "cell_type": "code",
   "execution_count": 11,
   "id": "9439e3cd-4005-4175-b48b-886cb165310c",
   "metadata": {
    "execution": {
     "iopub.execute_input": "2023-03-03T01:02:24.468659Z",
     "iopub.status.busy": "2023-03-03T01:02:24.468478Z",
     "iopub.status.idle": "2023-03-03T01:02:24.473050Z",
     "shell.execute_reply": "2023-03-03T01:02:24.472393Z",
     "shell.execute_reply.started": "2023-03-03T01:02:24.468642Z"
    },
    "tags": []
   },
   "outputs": [
    {
     "data": {
      "text/plain": [
       "150346"
      ]
     },
     "execution_count": 11,
     "metadata": {},
     "output_type": "execute_result"
    }
   ],
   "source": [
    "len(df_review_agg)"
   ]
  },
  {
   "cell_type": "code",
   "execution_count": 12,
   "id": "6075dda5-8518-4caa-a4d1-f372f37bc832",
   "metadata": {
    "execution": {
     "iopub.execute_input": "2023-03-03T01:02:24.474490Z",
     "iopub.status.busy": "2023-03-03T01:02:24.474136Z",
     "iopub.status.idle": "2023-03-03T01:02:24.755095Z",
     "shell.execute_reply": "2023-03-03T01:02:24.754272Z",
     "shell.execute_reply.started": "2023-03-03T01:02:24.474456Z"
    },
    "tags": []
   },
   "outputs": [],
   "source": [
    "df_review_agg = df_review_agg.query(\"categories.notna()\").reset_index(drop=True)"
   ]
  },
  {
   "cell_type": "code",
   "execution_count": 13,
   "id": "e5ecf3aa-7f0e-4980-8056-4429d4ceb252",
   "metadata": {
    "execution": {
     "iopub.execute_input": "2023-03-03T01:02:24.755968Z",
     "iopub.status.busy": "2023-03-03T01:02:24.755787Z",
     "iopub.status.idle": "2023-03-03T01:02:24.760634Z",
     "shell.execute_reply": "2023-03-03T01:02:24.759853Z",
     "shell.execute_reply.started": "2023-03-03T01:02:24.755952Z"
    },
    "tags": []
   },
   "outputs": [
    {
     "data": {
      "text/plain": [
       "150243"
      ]
     },
     "execution_count": 13,
     "metadata": {},
     "output_type": "execute_result"
    }
   ],
   "source": [
    "len(df_review_agg)"
   ]
  },
  {
   "cell_type": "code",
   "execution_count": null,
   "id": "1d7d4504-4ad6-4b8d-b251-27d12d9176b6",
   "metadata": {},
   "outputs": [],
   "source": []
  },
  {
   "cell_type": "code",
   "execution_count": 14,
   "id": "ee72d7ac-4ecc-4dfe-9973-87857f8bc2d0",
   "metadata": {
    "execution": {
     "iopub.execute_input": "2023-03-03T01:02:24.762021Z",
     "iopub.status.busy": "2023-03-03T01:02:24.761676Z",
     "iopub.status.idle": "2023-03-03T01:02:25.007857Z",
     "shell.execute_reply": "2023-03-03T01:02:25.007324Z",
     "shell.execute_reply.started": "2023-03-03T01:02:24.761988Z"
    },
    "tags": []
   },
   "outputs": [
    {
     "data": {
      "text/html": [
       "<div>\n",
       "<style scoped>\n",
       "    .dataframe tbody tr th:only-of-type {\n",
       "        vertical-align: middle;\n",
       "    }\n",
       "\n",
       "    .dataframe tbody tr th {\n",
       "        vertical-align: top;\n",
       "    }\n",
       "\n",
       "    .dataframe thead th {\n",
       "        text-align: right;\n",
       "    }\n",
       "</style>\n",
       "<table border=\"1\" class=\"dataframe\">\n",
       "  <thead>\n",
       "    <tr style=\"text-align: right;\">\n",
       "      <th></th>\n",
       "      <th>business_id</th>\n",
       "      <th>size</th>\n",
       "      <th>name</th>\n",
       "      <th>address</th>\n",
       "      <th>city</th>\n",
       "      <th>state</th>\n",
       "      <th>postal_code</th>\n",
       "      <th>latitude</th>\n",
       "      <th>longitude</th>\n",
       "      <th>stars</th>\n",
       "      <th>review_count</th>\n",
       "      <th>is_open</th>\n",
       "      <th>attributes</th>\n",
       "      <th>categories</th>\n",
       "      <th>hours</th>\n",
       "    </tr>\n",
       "  </thead>\n",
       "  <tbody>\n",
       "    <tr>\n",
       "      <th>3105</th>\n",
       "      <td>0HxIdUa_kth2x80f3reIQA</td>\n",
       "      <td>14</td>\n",
       "      <td>Golden’s Fish &amp; Chicken</td>\n",
       "      <td>5868 E 71st St, Ste D</td>\n",
       "      <td>Indianapolis</td>\n",
       "      <td>IN</td>\n",
       "      <td>46220</td>\n",
       "      <td>39.884397</td>\n",
       "      <td>-86.067328</td>\n",
       "      <td>4.5</td>\n",
       "      <td>14</td>\n",
       "      <td>1</td>\n",
       "      <td>{'GoodForMeal': '{'dessert': False, 'latenight...</td>\n",
       "      <td>Chicken Shop, Middle Eastern, Falafel, Restaur...</td>\n",
       "      <td>{'Monday': '10:30-22:0', 'Tuesday': '10:30-22:...</td>\n",
       "    </tr>\n",
       "    <tr>\n",
       "      <th>4926</th>\n",
       "      <td>128V3aNJlVzQ9gISXVbxug</td>\n",
       "      <td>15</td>\n",
       "      <td>Central Seafood</td>\n",
       "      <td>3351 Central Ave</td>\n",
       "      <td>Indianapolis</td>\n",
       "      <td>IN</td>\n",
       "      <td>46205</td>\n",
       "      <td>39.817177</td>\n",
       "      <td>-86.149464</td>\n",
       "      <td>4.5</td>\n",
       "      <td>15</td>\n",
       "      <td>1</td>\n",
       "      <td>{'OutdoorSeating': 'False', 'Ambience': '{'rom...</td>\n",
       "      <td>Seafood, Restaurants</td>\n",
       "      <td>None</td>\n",
       "    </tr>\n",
       "    <tr>\n",
       "      <th>6903</th>\n",
       "      <td>1s2CBLuLy3uW0oG_vKt2Vg</td>\n",
       "      <td>12</td>\n",
       "      <td>Shrimp Hut</td>\n",
       "      <td>3816 N High School Rd</td>\n",
       "      <td>Indianapolis</td>\n",
       "      <td>IN</td>\n",
       "      <td>46254</td>\n",
       "      <td>39.824177</td>\n",
       "      <td>-86.270712</td>\n",
       "      <td>3.5</td>\n",
       "      <td>12</td>\n",
       "      <td>0</td>\n",
       "      <td>{'RestaurantsTakeOut': 'True', 'BusinessParkin...</td>\n",
       "      <td>Seafood, Restaurants</td>\n",
       "      <td>{'Monday': '11:0-21:0', 'Tuesday': '11:0-21:0'...</td>\n",
       "    </tr>\n",
       "    <tr>\n",
       "      <th>11020</th>\n",
       "      <td>3boF6qb2kpjr7p5hZuPbUQ</td>\n",
       "      <td>14</td>\n",
       "      <td>Ducketts Seafood</td>\n",
       "      <td>7245 N Michigan Rd</td>\n",
       "      <td>indianopolis</td>\n",
       "      <td>IN</td>\n",
       "      <td>46268</td>\n",
       "      <td>39.886245</td>\n",
       "      <td>-86.209262</td>\n",
       "      <td>4.0</td>\n",
       "      <td>14</td>\n",
       "      <td>1</td>\n",
       "      <td>{'RestaurantsDelivery': 'True', 'RestaurantsTa...</td>\n",
       "      <td>Food, Cajun/Creole, Food Delivery Services, Se...</td>\n",
       "      <td>{'Tuesday': '11:0-21:0', 'Wednesday': '11:0-21...</td>\n",
       "    </tr>\n",
       "    <tr>\n",
       "      <th>13543</th>\n",
       "      <td>4ihK-CfFXNVIxN_twd63ZQ</td>\n",
       "      <td>27</td>\n",
       "      <td>Raw Bar By Slapfish</td>\n",
       "      <td>339 Massachusetts Ave</td>\n",
       "      <td>Indianapolis</td>\n",
       "      <td>IN</td>\n",
       "      <td>46204</td>\n",
       "      <td>39.771815</td>\n",
       "      <td>-86.153038</td>\n",
       "      <td>4.5</td>\n",
       "      <td>26</td>\n",
       "      <td>1</td>\n",
       "      <td>{'RestaurantsReservations': 'True', 'Restauran...</td>\n",
       "      <td>Seafood, Restaurants, Breakfast &amp; Brunch</td>\n",
       "      <td>{'Monday': '16:0-22:0', 'Tuesday': '16:0-22:0'...</td>\n",
       "    </tr>\n",
       "    <tr>\n",
       "      <th>...</th>\n",
       "      <td>...</td>\n",
       "      <td>...</td>\n",
       "      <td>...</td>\n",
       "      <td>...</td>\n",
       "      <td>...</td>\n",
       "      <td>...</td>\n",
       "      <td>...</td>\n",
       "      <td>...</td>\n",
       "      <td>...</td>\n",
       "      <td>...</td>\n",
       "      <td>...</td>\n",
       "      <td>...</td>\n",
       "      <td>...</td>\n",
       "      <td>...</td>\n",
       "      <td>...</td>\n",
       "    </tr>\n",
       "    <tr>\n",
       "      <th>141140</th>\n",
       "      <td>w9PEEovGNZSDbMYkM-_boQ</td>\n",
       "      <td>27</td>\n",
       "      <td>Captain D's</td>\n",
       "      <td>718 US 31 N</td>\n",
       "      <td>Greenwood</td>\n",
       "      <td>IN</td>\n",
       "      <td>46142</td>\n",
       "      <td>39.626155</td>\n",
       "      <td>-86.120965</td>\n",
       "      <td>4.0</td>\n",
       "      <td>26</td>\n",
       "      <td>0</td>\n",
       "      <td>{'RestaurantsPriceRange2': '1', 'GoodForKids':...</td>\n",
       "      <td>Fish &amp; Chips, Fast Food, Seafood, Restaurants,...</td>\n",
       "      <td>{'Monday': '0:0-0:0', 'Tuesday': '10:30-22:0',...</td>\n",
       "    </tr>\n",
       "    <tr>\n",
       "      <th>141981</th>\n",
       "      <td>wV948Q2vOkfK6_yv8_Mppw</td>\n",
       "      <td>24</td>\n",
       "      <td>El Mr Camaron</td>\n",
       "      <td>420 S Sherman Dr</td>\n",
       "      <td>Indianapolis</td>\n",
       "      <td>IN</td>\n",
       "      <td>46201</td>\n",
       "      <td>39.760607</td>\n",
       "      <td>-86.102045</td>\n",
       "      <td>5.0</td>\n",
       "      <td>23</td>\n",
       "      <td>1</td>\n",
       "      <td>{'RestaurantsReservations': 'False', 'NoiseLev...</td>\n",
       "      <td>Mexican, Restaurants, Seafood</td>\n",
       "      <td>None</td>\n",
       "    </tr>\n",
       "    <tr>\n",
       "      <th>142935</th>\n",
       "      <td>wtXjJG45SBTsRocWdQfU6A</td>\n",
       "      <td>8</td>\n",
       "      <td>Jonah's Market</td>\n",
       "      <td>10106 Brooks School Rd</td>\n",
       "      <td>Fishers</td>\n",
       "      <td>IN</td>\n",
       "      <td>46038</td>\n",
       "      <td>39.934865</td>\n",
       "      <td>-85.948187</td>\n",
       "      <td>3.5</td>\n",
       "      <td>8</td>\n",
       "      <td>0</td>\n",
       "      <td>{'BusinessAcceptsCreditCards': 'True', 'GoodFo...</td>\n",
       "      <td>Food, Specialty Food, Seafood Markets, Winerie...</td>\n",
       "      <td>None</td>\n",
       "    </tr>\n",
       "    <tr>\n",
       "      <th>144438</th>\n",
       "      <td>xWciUYcV1VEVEWAHak29Hg</td>\n",
       "      <td>17</td>\n",
       "      <td>Barrel 1787 Urban Grill</td>\n",
       "      <td>1454 W 86th St</td>\n",
       "      <td>Indianapolis</td>\n",
       "      <td>IN</td>\n",
       "      <td>46260</td>\n",
       "      <td>39.913990</td>\n",
       "      <td>-86.185061</td>\n",
       "      <td>3.0</td>\n",
       "      <td>14</td>\n",
       "      <td>1</td>\n",
       "      <td>{'Ambience': '{u'divey': False, u'hipster': No...</td>\n",
       "      <td>American (New), Restaurants, Food, Bars, Beer,...</td>\n",
       "      <td>{'Monday': '0:0-0:0', 'Tuesday': '11:0-21:0', ...</td>\n",
       "    </tr>\n",
       "    <tr>\n",
       "      <th>144987</th>\n",
       "      <td>xkDYfjmcH7_b45AXWzrAOQ</td>\n",
       "      <td>26</td>\n",
       "      <td>The Yummy Crab</td>\n",
       "      <td>9962 E Washington St</td>\n",
       "      <td>Indianapolis</td>\n",
       "      <td>IN</td>\n",
       "      <td>46229</td>\n",
       "      <td>39.775971</td>\n",
       "      <td>-85.991325</td>\n",
       "      <td>3.5</td>\n",
       "      <td>25</td>\n",
       "      <td>1</td>\n",
       "      <td>{'Ambience': '{'touristy': False, 'hipster': F...</td>\n",
       "      <td>Restaurants, Seafood, Cajun/Creole</td>\n",
       "      <td>{'Monday': '14:0-22:0', 'Tuesday': '14:0-22:0'...</td>\n",
       "    </tr>\n",
       "  </tbody>\n",
       "</table>\n",
       "<p>85 rows × 15 columns</p>\n",
       "</div>"
      ],
      "text/plain": [
       "                   business_id  size                     name  \\\n",
       "3105    0HxIdUa_kth2x80f3reIQA    14  Golden’s Fish & Chicken   \n",
       "4926    128V3aNJlVzQ9gISXVbxug    15          Central Seafood   \n",
       "6903    1s2CBLuLy3uW0oG_vKt2Vg    12               Shrimp Hut   \n",
       "11020   3boF6qb2kpjr7p5hZuPbUQ    14         Ducketts Seafood   \n",
       "13543   4ihK-CfFXNVIxN_twd63ZQ    27      Raw Bar By Slapfish   \n",
       "...                        ...   ...                      ...   \n",
       "141140  w9PEEovGNZSDbMYkM-_boQ    27              Captain D's   \n",
       "141981  wV948Q2vOkfK6_yv8_Mppw    24            El Mr Camaron   \n",
       "142935  wtXjJG45SBTsRocWdQfU6A     8           Jonah's Market   \n",
       "144438  xWciUYcV1VEVEWAHak29Hg    17  Barrel 1787 Urban Grill   \n",
       "144987  xkDYfjmcH7_b45AXWzrAOQ    26           The Yummy Crab   \n",
       "\n",
       "                       address          city state postal_code   latitude  \\\n",
       "3105     5868 E 71st St, Ste D  Indianapolis    IN       46220  39.884397   \n",
       "4926          3351 Central Ave  Indianapolis    IN       46205  39.817177   \n",
       "6903     3816 N High School Rd  Indianapolis    IN       46254  39.824177   \n",
       "11020       7245 N Michigan Rd  indianopolis    IN       46268  39.886245   \n",
       "13543    339 Massachusetts Ave  Indianapolis    IN       46204  39.771815   \n",
       "...                        ...           ...   ...         ...        ...   \n",
       "141140             718 US 31 N     Greenwood    IN       46142  39.626155   \n",
       "141981        420 S Sherman Dr  Indianapolis    IN       46201  39.760607   \n",
       "142935  10106 Brooks School Rd       Fishers    IN       46038  39.934865   \n",
       "144438          1454 W 86th St  Indianapolis    IN       46260  39.913990   \n",
       "144987    9962 E Washington St  Indianapolis    IN       46229  39.775971   \n",
       "\n",
       "        longitude  stars  review_count  is_open  \\\n",
       "3105   -86.067328    4.5            14        1   \n",
       "4926   -86.149464    4.5            15        1   \n",
       "6903   -86.270712    3.5            12        0   \n",
       "11020  -86.209262    4.0            14        1   \n",
       "13543  -86.153038    4.5            26        1   \n",
       "...           ...    ...           ...      ...   \n",
       "141140 -86.120965    4.0            26        0   \n",
       "141981 -86.102045    5.0            23        1   \n",
       "142935 -85.948187    3.5             8        0   \n",
       "144438 -86.185061    3.0            14        1   \n",
       "144987 -85.991325    3.5            25        1   \n",
       "\n",
       "                                               attributes  \\\n",
       "3105    {'GoodForMeal': '{'dessert': False, 'latenight...   \n",
       "4926    {'OutdoorSeating': 'False', 'Ambience': '{'rom...   \n",
       "6903    {'RestaurantsTakeOut': 'True', 'BusinessParkin...   \n",
       "11020   {'RestaurantsDelivery': 'True', 'RestaurantsTa...   \n",
       "13543   {'RestaurantsReservations': 'True', 'Restauran...   \n",
       "...                                                   ...   \n",
       "141140  {'RestaurantsPriceRange2': '1', 'GoodForKids':...   \n",
       "141981  {'RestaurantsReservations': 'False', 'NoiseLev...   \n",
       "142935  {'BusinessAcceptsCreditCards': 'True', 'GoodFo...   \n",
       "144438  {'Ambience': '{u'divey': False, u'hipster': No...   \n",
       "144987  {'Ambience': '{'touristy': False, 'hipster': F...   \n",
       "\n",
       "                                               categories  \\\n",
       "3105    Chicken Shop, Middle Eastern, Falafel, Restaur...   \n",
       "4926                                 Seafood, Restaurants   \n",
       "6903                                 Seafood, Restaurants   \n",
       "11020   Food, Cajun/Creole, Food Delivery Services, Se...   \n",
       "13543            Seafood, Restaurants, Breakfast & Brunch   \n",
       "...                                                   ...   \n",
       "141140  Fish & Chips, Fast Food, Seafood, Restaurants,...   \n",
       "141981                      Mexican, Restaurants, Seafood   \n",
       "142935  Food, Specialty Food, Seafood Markets, Winerie...   \n",
       "144438  American (New), Restaurants, Food, Bars, Beer,...   \n",
       "144987                 Restaurants, Seafood, Cajun/Creole   \n",
       "\n",
       "                                                    hours  \n",
       "3105    {'Monday': '10:30-22:0', 'Tuesday': '10:30-22:...  \n",
       "4926                                                 None  \n",
       "6903    {'Monday': '11:0-21:0', 'Tuesday': '11:0-21:0'...  \n",
       "11020   {'Tuesday': '11:0-21:0', 'Wednesday': '11:0-21...  \n",
       "13543   {'Monday': '16:0-22:0', 'Tuesday': '16:0-22:0'...  \n",
       "...                                                   ...  \n",
       "141140  {'Monday': '0:0-0:0', 'Tuesday': '10:30-22:0',...  \n",
       "141981                                               None  \n",
       "142935                                               None  \n",
       "144438  {'Monday': '0:0-0:0', 'Tuesday': '11:0-21:0', ...  \n",
       "144987  {'Monday': '14:0-22:0', 'Tuesday': '14:0-22:0'...  \n",
       "\n",
       "[85 rows x 15 columns]"
      ]
     },
     "execution_count": 14,
     "metadata": {},
     "output_type": "execute_result"
    }
   ],
   "source": [
    "df_review_agg.query(\"categories.str.contains('Seafood', case=False)\").query(\"size <= 30\").query(\"state == 'IN'\")"
   ]
  },
  {
   "cell_type": "code",
   "execution_count": 15,
   "id": "168aabb0-b3e6-4af4-9f4e-b0c4c00fab30",
   "metadata": {
    "execution": {
     "iopub.execute_input": "2023-03-03T01:02:25.008689Z",
     "iopub.status.busy": "2023-03-03T01:02:25.008517Z",
     "iopub.status.idle": "2023-03-03T01:02:25.048106Z",
     "shell.execute_reply": "2023-03-03T01:02:25.047384Z",
     "shell.execute_reply.started": "2023-03-03T01:02:25.008674Z"
    }
   },
   "outputs": [
    {
     "data": {
      "text/plain": [
       "state\n",
       "AB      5572\n",
       "AZ      9906\n",
       "CA      5202\n",
       "CO         3\n",
       "DE      2262\n",
       "FL     26309\n",
       "HI         2\n",
       "ID      4464\n",
       "IL      2144\n",
       "IN     11243\n",
       "LA      9916\n",
       "MA         2\n",
       "MI         1\n",
       "MO     10907\n",
       "MT         1\n",
       "NC         1\n",
       "NJ      8527\n",
       "NV      7706\n",
       "PA     34013\n",
       "SD         1\n",
       "TN     12051\n",
       "TX         4\n",
       "UT         1\n",
       "VI         1\n",
       "VT         1\n",
       "WA         2\n",
       "XMS        1\n",
       "dtype: int64"
      ]
     },
     "execution_count": 15,
     "metadata": {},
     "output_type": "execute_result"
    }
   ],
   "source": [
    "df_review_agg.groupby(\"state\").size()"
   ]
  },
  {
   "cell_type": "code",
   "execution_count": 16,
   "id": "e98a6849-b607-4a87-bf27-c49742a5e993",
   "metadata": {
    "execution": {
     "iopub.execute_input": "2023-03-03T01:02:25.049467Z",
     "iopub.status.busy": "2023-03-03T01:02:25.049162Z",
     "iopub.status.idle": "2023-03-03T01:02:25.298190Z",
     "shell.execute_reply": "2023-03-03T01:02:25.297400Z",
     "shell.execute_reply.started": "2023-03-03T01:02:25.049438Z"
    },
    "tags": []
   },
   "outputs": [
    {
     "data": {
      "text/html": [
       "<div>\n",
       "<style scoped>\n",
       "    .dataframe tbody tr th:only-of-type {\n",
       "        vertical-align: middle;\n",
       "    }\n",
       "\n",
       "    .dataframe tbody tr th {\n",
       "        vertical-align: top;\n",
       "    }\n",
       "\n",
       "    .dataframe thead th {\n",
       "        text-align: right;\n",
       "    }\n",
       "</style>\n",
       "<table border=\"1\" class=\"dataframe\">\n",
       "  <thead>\n",
       "    <tr style=\"text-align: right;\">\n",
       "      <th></th>\n",
       "      <th>business_id</th>\n",
       "      <th>size</th>\n",
       "      <th>name</th>\n",
       "      <th>address</th>\n",
       "      <th>city</th>\n",
       "      <th>state</th>\n",
       "      <th>postal_code</th>\n",
       "      <th>latitude</th>\n",
       "      <th>longitude</th>\n",
       "      <th>stars</th>\n",
       "      <th>review_count</th>\n",
       "      <th>is_open</th>\n",
       "      <th>attributes</th>\n",
       "      <th>categories</th>\n",
       "      <th>hours</th>\n",
       "    </tr>\n",
       "  </thead>\n",
       "  <tbody>\n",
       "    <tr>\n",
       "      <th>186</th>\n",
       "      <td>-40qQXB8JsneSiDqXMjoeg</td>\n",
       "      <td>14</td>\n",
       "      <td>Grill Fish Café</td>\n",
       "      <td>814 S 47th St</td>\n",
       "      <td>Philadelphia</td>\n",
       "      <td>PA</td>\n",
       "      <td>19143</td>\n",
       "      <td>39.948232</td>\n",
       "      <td>-75.216943</td>\n",
       "      <td>4.0</td>\n",
       "      <td>14</td>\n",
       "      <td>0</td>\n",
       "      <td>{'Alcohol': 'u'full_bar'', 'HasTV': 'False', '...</td>\n",
       "      <td>Asian Fusion, Vietnamese, Seafood, Restaurants</td>\n",
       "      <td>{'Tuesday': '17:0-22:0', 'Wednesday': '17:0-22...</td>\n",
       "    </tr>\n",
       "    <tr>\n",
       "      <th>564</th>\n",
       "      <td>-E5FEJIZdmwV7A1XGdhUeA</td>\n",
       "      <td>20</td>\n",
       "      <td>Baltimore Crab &amp; Seafood</td>\n",
       "      <td>4800 Spruce St</td>\n",
       "      <td>Philadelphia</td>\n",
       "      <td>PA</td>\n",
       "      <td>19139</td>\n",
       "      <td>39.953428</td>\n",
       "      <td>-75.218346</td>\n",
       "      <td>3.0</td>\n",
       "      <td>20</td>\n",
       "      <td>0</td>\n",
       "      <td>{'BusinessAcceptsCreditCards': 'True', 'Restau...</td>\n",
       "      <td>Food, Specialty Food, Seafood Markets</td>\n",
       "      <td>{'Monday': '12:0-23:0', 'Tuesday': '12:0-23:0'...</td>\n",
       "    </tr>\n",
       "    <tr>\n",
       "      <th>1114</th>\n",
       "      <td>-TW-0EqgnzUNHzV9VPSLoQ</td>\n",
       "      <td>16</td>\n",
       "      <td>Nori Ramen &amp; Poke Bowl</td>\n",
       "      <td>9475 Roosevelt Blvd</td>\n",
       "      <td>Philadelphia</td>\n",
       "      <td>PA</td>\n",
       "      <td>19114</td>\n",
       "      <td>40.079657</td>\n",
       "      <td>-75.027236</td>\n",
       "      <td>4.0</td>\n",
       "      <td>15</td>\n",
       "      <td>1</td>\n",
       "      <td>{'RestaurantsDelivery': 'True', 'RestaurantsTa...</td>\n",
       "      <td>Seafood, Ramen, Restaurants, Hawaiian, Japanese</td>\n",
       "      <td>{'Monday': '11:0-21:30', 'Tuesday': '11:0-21:3...</td>\n",
       "    </tr>\n",
       "    <tr>\n",
       "      <th>1287</th>\n",
       "      <td>-YTipfQ0Yj0iF7m921rhmQ</td>\n",
       "      <td>12</td>\n",
       "      <td>Foose Grill</td>\n",
       "      <td>5143 Baltimore Ave</td>\n",
       "      <td>Philadelphia</td>\n",
       "      <td>PA</td>\n",
       "      <td>19143</td>\n",
       "      <td>39.948015</td>\n",
       "      <td>-75.227058</td>\n",
       "      <td>4.5</td>\n",
       "      <td>11</td>\n",
       "      <td>1</td>\n",
       "      <td>{'WiFi': 'u'no'', 'GoodForKids': 'True', 'Rest...</td>\n",
       "      <td>American (Traditional), Seafood, Restaurants, ...</td>\n",
       "      <td>None</td>\n",
       "    </tr>\n",
       "    <tr>\n",
       "      <th>1451</th>\n",
       "      <td>-c-uzlRdsFYGHGq5er9qbw</td>\n",
       "      <td>7</td>\n",
       "      <td>Bucks Gyro</td>\n",
       "      <td>40 E Street Rd</td>\n",
       "      <td>Warminster</td>\n",
       "      <td>PA</td>\n",
       "      <td>18974</td>\n",
       "      <td>40.196272</td>\n",
       "      <td>-75.082217</td>\n",
       "      <td>4.5</td>\n",
       "      <td>7</td>\n",
       "      <td>1</td>\n",
       "      <td>{'RestaurantsTakeOut': 'True', 'RestaurantsTab...</td>\n",
       "      <td>Restaurants, Food, Middle Eastern, Halal, Seaf...</td>\n",
       "      <td>None</td>\n",
       "    </tr>\n",
       "    <tr>\n",
       "      <th>...</th>\n",
       "      <td>...</td>\n",
       "      <td>...</td>\n",
       "      <td>...</td>\n",
       "      <td>...</td>\n",
       "      <td>...</td>\n",
       "      <td>...</td>\n",
       "      <td>...</td>\n",
       "      <td>...</td>\n",
       "      <td>...</td>\n",
       "      <td>...</td>\n",
       "      <td>...</td>\n",
       "      <td>...</td>\n",
       "      <td>...</td>\n",
       "      <td>...</td>\n",
       "      <td>...</td>\n",
       "    </tr>\n",
       "    <tr>\n",
       "      <th>147604</th>\n",
       "      <td>yrx221Vp9PNYBUJJSIoaiQ</td>\n",
       "      <td>8</td>\n",
       "      <td>S and J Seafood</td>\n",
       "      <td>713 S 52nd St</td>\n",
       "      <td>Philadelphia</td>\n",
       "      <td>PA</td>\n",
       "      <td>19143</td>\n",
       "      <td>39.948509</td>\n",
       "      <td>-75.227008</td>\n",
       "      <td>3.5</td>\n",
       "      <td>8</td>\n",
       "      <td>1</td>\n",
       "      <td>{'BusinessAcceptsCreditCards': 'True', 'Busine...</td>\n",
       "      <td>Food, Seafood Markets, Grocery, Specialty Food...</td>\n",
       "      <td>{'Monday': '10:0-19:0', 'Tuesday': '10:0-19:0'...</td>\n",
       "    </tr>\n",
       "    <tr>\n",
       "      <th>147681</th>\n",
       "      <td>yu12TJ5YDOi4cMkvOclyVw</td>\n",
       "      <td>20</td>\n",
       "      <td>China House</td>\n",
       "      <td>648 E Chester Pike</td>\n",
       "      <td>Ridley Park</td>\n",
       "      <td>PA</td>\n",
       "      <td>19078</td>\n",
       "      <td>39.879012</td>\n",
       "      <td>-75.312816</td>\n",
       "      <td>4.0</td>\n",
       "      <td>19</td>\n",
       "      <td>1</td>\n",
       "      <td>{'BusinessAcceptsCreditCards': 'True', 'Restau...</td>\n",
       "      <td>Seafood, Chinese, Restaurants</td>\n",
       "      <td>{'Monday': '11:0-23:0', 'Tuesday': '11:0-23:0'...</td>\n",
       "    </tr>\n",
       "    <tr>\n",
       "      <th>148448</th>\n",
       "      <td>zD12wBN9vQHecg_-m_YXOg</td>\n",
       "      <td>7</td>\n",
       "      <td>Nicholl's Seafood</td>\n",
       "      <td>7634 Castor Ave</td>\n",
       "      <td>Philadelphia</td>\n",
       "      <td>PA</td>\n",
       "      <td>19152</td>\n",
       "      <td>40.057350</td>\n",
       "      <td>-75.060770</td>\n",
       "      <td>3.5</td>\n",
       "      <td>7</td>\n",
       "      <td>0</td>\n",
       "      <td>{'GoodForKids': 'True', 'RestaurantsPriceRange...</td>\n",
       "      <td>Restaurants, Seafood</td>\n",
       "      <td>None</td>\n",
       "    </tr>\n",
       "    <tr>\n",
       "      <th>148461</th>\n",
       "      <td>zDJoyeohHjEX-Pz6zQfPng</td>\n",
       "      <td>25</td>\n",
       "      <td>Kriscroix Restaurant</td>\n",
       "      <td>198 Lincoln Hw</td>\n",
       "      <td>Fairless Hills</td>\n",
       "      <td>PA</td>\n",
       "      <td>19030</td>\n",
       "      <td>40.183862</td>\n",
       "      <td>-74.856669</td>\n",
       "      <td>4.5</td>\n",
       "      <td>22</td>\n",
       "      <td>0</td>\n",
       "      <td>{'HasTV': 'True', 'BusinessParking': '{'garage...</td>\n",
       "      <td>Fish &amp; Chips, Restaurants, Seafood, Chicken Wi...</td>\n",
       "      <td>{'Monday': '11:0-20:0', 'Tuesday': '11:0-20:0'...</td>\n",
       "    </tr>\n",
       "    <tr>\n",
       "      <th>150217</th>\n",
       "      <td>zzFCdBSW27eKFg-xG7cqAg</td>\n",
       "      <td>19</td>\n",
       "      <td>Suburbia Seafood</td>\n",
       "      <td>135 Boro Line Rd</td>\n",
       "      <td>King of Prussia</td>\n",
       "      <td>PA</td>\n",
       "      <td>19406</td>\n",
       "      <td>40.101528</td>\n",
       "      <td>-75.353721</td>\n",
       "      <td>4.0</td>\n",
       "      <td>18</td>\n",
       "      <td>0</td>\n",
       "      <td>{'RestaurantsDelivery': 'False', 'RestaurantsP...</td>\n",
       "      <td>Seafood Markets, Specialty Food, Restaurants, ...</td>\n",
       "      <td>{'Tuesday': '9:0-18:0', 'Wednesday': '9:0-18:0...</td>\n",
       "    </tr>\n",
       "  </tbody>\n",
       "</table>\n",
       "<p>333 rows × 15 columns</p>\n",
       "</div>"
      ],
      "text/plain": [
       "                   business_id  size                      name  \\\n",
       "186     -40qQXB8JsneSiDqXMjoeg    14           Grill Fish Café   \n",
       "564     -E5FEJIZdmwV7A1XGdhUeA    20  Baltimore Crab & Seafood   \n",
       "1114    -TW-0EqgnzUNHzV9VPSLoQ    16    Nori Ramen & Poke Bowl   \n",
       "1287    -YTipfQ0Yj0iF7m921rhmQ    12               Foose Grill   \n",
       "1451    -c-uzlRdsFYGHGq5er9qbw     7                Bucks Gyro   \n",
       "...                        ...   ...                       ...   \n",
       "147604  yrx221Vp9PNYBUJJSIoaiQ     8           S and J Seafood   \n",
       "147681  yu12TJ5YDOi4cMkvOclyVw    20               China House   \n",
       "148448  zD12wBN9vQHecg_-m_YXOg     7         Nicholl's Seafood   \n",
       "148461  zDJoyeohHjEX-Pz6zQfPng    25      Kriscroix Restaurant   \n",
       "150217  zzFCdBSW27eKFg-xG7cqAg    19          Suburbia Seafood   \n",
       "\n",
       "                    address             city state postal_code   latitude  \\\n",
       "186           814 S 47th St     Philadelphia    PA       19143  39.948232   \n",
       "564          4800 Spruce St     Philadelphia    PA       19139  39.953428   \n",
       "1114    9475 Roosevelt Blvd     Philadelphia    PA       19114  40.079657   \n",
       "1287     5143 Baltimore Ave     Philadelphia    PA       19143  39.948015   \n",
       "1451         40 E Street Rd       Warminster    PA       18974  40.196272   \n",
       "...                     ...              ...   ...         ...        ...   \n",
       "147604        713 S 52nd St     Philadelphia    PA       19143  39.948509   \n",
       "147681   648 E Chester Pike      Ridley Park    PA       19078  39.879012   \n",
       "148448      7634 Castor Ave     Philadelphia    PA       19152  40.057350   \n",
       "148461       198 Lincoln Hw   Fairless Hills    PA       19030  40.183862   \n",
       "150217     135 Boro Line Rd  King of Prussia    PA       19406  40.101528   \n",
       "\n",
       "        longitude  stars  review_count  is_open  \\\n",
       "186    -75.216943    4.0            14        0   \n",
       "564    -75.218346    3.0            20        0   \n",
       "1114   -75.027236    4.0            15        1   \n",
       "1287   -75.227058    4.5            11        1   \n",
       "1451   -75.082217    4.5             7        1   \n",
       "...           ...    ...           ...      ...   \n",
       "147604 -75.227008    3.5             8        1   \n",
       "147681 -75.312816    4.0            19        1   \n",
       "148448 -75.060770    3.5             7        0   \n",
       "148461 -74.856669    4.5            22        0   \n",
       "150217 -75.353721    4.0            18        0   \n",
       "\n",
       "                                               attributes  \\\n",
       "186     {'Alcohol': 'u'full_bar'', 'HasTV': 'False', '...   \n",
       "564     {'BusinessAcceptsCreditCards': 'True', 'Restau...   \n",
       "1114    {'RestaurantsDelivery': 'True', 'RestaurantsTa...   \n",
       "1287    {'WiFi': 'u'no'', 'GoodForKids': 'True', 'Rest...   \n",
       "1451    {'RestaurantsTakeOut': 'True', 'RestaurantsTab...   \n",
       "...                                                   ...   \n",
       "147604  {'BusinessAcceptsCreditCards': 'True', 'Busine...   \n",
       "147681  {'BusinessAcceptsCreditCards': 'True', 'Restau...   \n",
       "148448  {'GoodForKids': 'True', 'RestaurantsPriceRange...   \n",
       "148461  {'HasTV': 'True', 'BusinessParking': '{'garage...   \n",
       "150217  {'RestaurantsDelivery': 'False', 'RestaurantsP...   \n",
       "\n",
       "                                               categories  \\\n",
       "186        Asian Fusion, Vietnamese, Seafood, Restaurants   \n",
       "564                 Food, Specialty Food, Seafood Markets   \n",
       "1114      Seafood, Ramen, Restaurants, Hawaiian, Japanese   \n",
       "1287    American (Traditional), Seafood, Restaurants, ...   \n",
       "1451    Restaurants, Food, Middle Eastern, Halal, Seaf...   \n",
       "...                                                   ...   \n",
       "147604  Food, Seafood Markets, Grocery, Specialty Food...   \n",
       "147681                      Seafood, Chinese, Restaurants   \n",
       "148448                               Restaurants, Seafood   \n",
       "148461  Fish & Chips, Restaurants, Seafood, Chicken Wi...   \n",
       "150217  Seafood Markets, Specialty Food, Restaurants, ...   \n",
       "\n",
       "                                                    hours  \n",
       "186     {'Tuesday': '17:0-22:0', 'Wednesday': '17:0-22...  \n",
       "564     {'Monday': '12:0-23:0', 'Tuesday': '12:0-23:0'...  \n",
       "1114    {'Monday': '11:0-21:30', 'Tuesday': '11:0-21:3...  \n",
       "1287                                                 None  \n",
       "1451                                                 None  \n",
       "...                                                   ...  \n",
       "147604  {'Monday': '10:0-19:0', 'Tuesday': '10:0-19:0'...  \n",
       "147681  {'Monday': '11:0-23:0', 'Tuesday': '11:0-23:0'...  \n",
       "148448                                               None  \n",
       "148461  {'Monday': '11:0-20:0', 'Tuesday': '11:0-20:0'...  \n",
       "150217  {'Tuesday': '9:0-18:0', 'Wednesday': '9:0-18:0...  \n",
       "\n",
       "[333 rows x 15 columns]"
      ]
     },
     "execution_count": 16,
     "metadata": {},
     "output_type": "execute_result"
    }
   ],
   "source": [
    "df_review_agg.query(\"categories.str.contains('Seafood', case=False)\").query(\"size <= 30\").query(\"state == 'PA'\")"
   ]
  },
  {
   "cell_type": "code",
   "execution_count": null,
   "id": "be210553-ab02-49c2-8fcf-9bd9eaccc818",
   "metadata": {},
   "outputs": [],
   "source": []
  },
  {
   "cell_type": "markdown",
   "id": "1d306bae-d028-45de-9655-c736d5f62fd8",
   "metadata": {},
   "source": [
    "# Check all.."
   ]
  },
  {
   "cell_type": "code",
   "execution_count": 18,
   "id": "a5b5a58f-c28b-464f-8844-a0918ce9ce3a",
   "metadata": {
    "execution": {
     "iopub.execute_input": "2023-03-03T01:04:18.715476Z",
     "iopub.status.busy": "2023-03-03T01:04:18.714653Z",
     "iopub.status.idle": "2023-03-03T01:04:38.217220Z",
     "shell.execute_reply": "2023-03-03T01:04:38.215091Z",
     "shell.execute_reply.started": "2023-03-03T01:04:18.715405Z"
    },
    "tags": []
   },
   "outputs": [],
   "source": [
    "df_all = df_review.merge(df_business, on='business_id', how='inner')"
   ]
  },
  {
   "cell_type": "code",
   "execution_count": 20,
   "id": "06337207-f89d-4577-a21e-a2fa1b9425c8",
   "metadata": {
    "execution": {
     "iopub.execute_input": "2023-03-03T01:06:58.254677Z",
     "iopub.status.busy": "2023-03-03T01:06:58.253668Z",
     "iopub.status.idle": "2023-03-03T01:06:58.265905Z",
     "shell.execute_reply": "2023-03-03T01:06:58.264105Z",
     "shell.execute_reply.started": "2023-03-03T01:06:58.254427Z"
    }
   },
   "outputs": [],
   "source": [
    "dict_stars = {1:0,\n",
    "              2:0,\n",
    "              4:1,\n",
    "              5:1,\n",
    "             }"
   ]
  },
  {
   "cell_type": "code",
   "execution_count": 21,
   "id": "b447abc3-b3b7-423e-8ae6-99e6200c5891",
   "metadata": {
    "execution": {
     "iopub.execute_input": "2023-03-03T01:07:03.685174Z",
     "iopub.status.busy": "2023-03-03T01:07:03.684230Z",
     "iopub.status.idle": "2023-03-03T01:07:11.408484Z",
     "shell.execute_reply": "2023-03-03T01:07:11.407257Z",
     "shell.execute_reply.started": "2023-03-03T01:07:03.685042Z"
    }
   },
   "outputs": [],
   "source": [
    "df_all = df_all[df_all['stars_x'] != 3].reset_index(drop=True)\n",
    "df_all['label'] = df_all['stars_x'].map(dict_stars)"
   ]
  },
  {
   "cell_type": "code",
   "execution_count": 22,
   "id": "7c1448b0-aa28-40cc-88a7-04e0168236ac",
   "metadata": {
    "execution": {
     "iopub.execute_input": "2023-03-03T01:10:56.135169Z",
     "iopub.status.busy": "2023-03-03T01:10:56.134881Z",
     "iopub.status.idle": "2023-03-03T01:10:56.141605Z",
     "shell.execute_reply": "2023-03-03T01:10:56.140339Z",
     "shell.execute_reply.started": "2023-03-03T01:10:56.135145Z"
    },
    "tags": []
   },
   "outputs": [
    {
     "data": {
      "text/plain": [
       "Index(['review_id', 'user_id', 'business_id', 'stars_x', 'useful', 'funny',\n",
       "       'cool', 'text', 'date', 'name', 'address', 'city', 'state',\n",
       "       'postal_code', 'latitude', 'longitude', 'stars_y', 'review_count',\n",
       "       'is_open', 'attributes', 'categories', 'hours', 'label'],\n",
       "      dtype='object')"
      ]
     },
     "execution_count": 22,
     "metadata": {},
     "output_type": "execute_result"
    }
   ],
   "source": [
    "df_all.columns"
   ]
  },
  {
   "cell_type": "code",
   "execution_count": 32,
   "id": "92d0b2bb-0c7e-4d3e-bc94-8dc25ef9f7e6",
   "metadata": {
    "execution": {
     "iopub.execute_input": "2023-03-03T01:16:30.426902Z",
     "iopub.status.busy": "2023-03-03T01:16:30.425916Z",
     "iopub.status.idle": "2023-03-03T01:16:37.332363Z",
     "shell.execute_reply": "2023-03-03T01:16:37.331641Z",
     "shell.execute_reply.started": "2023-03-03T01:16:30.426798Z"
    },
    "tags": []
   },
   "outputs": [
    {
     "data": {
      "text/plain": [
       "state  label\n",
       "AB     0         191\n",
       "       1         329\n",
       "AZ     0        1254\n",
       "       1        2257\n",
       "CA     0         190\n",
       "       1         520\n",
       "DE     0         232\n",
       "       1         460\n",
       "FL     0        1654\n",
       "       1        2666\n",
       "ID     0         486\n",
       "       1         554\n",
       "IL     0         398\n",
       "       1         453\n",
       "IN     0        1220\n",
       "       1        2087\n",
       "LA     0         557\n",
       "       1         891\n",
       "MO     0        1079\n",
       "       1        1159\n",
       "NJ     0         414\n",
       "       1         734\n",
       "NV     0         295\n",
       "       1         785\n",
       "PA     0        1420\n",
       "       1        2556\n",
       "TN     0        1221\n",
       "       1        2199\n",
       "dtype: int64"
      ]
     },
     "execution_count": 32,
     "metadata": {},
     "output_type": "execute_result"
    }
   ],
   "source": [
    "df_all.query(\"categories.str.contains('Mexi', case=False, na=False)\").query(\"review_count <= 30\").groupby(['state','label']).size()"
   ]
  },
  {
   "cell_type": "code",
   "execution_count": 33,
   "id": "379fec77-24dc-49d4-9e26-22b0513e2eab",
   "metadata": {
    "execution": {
     "iopub.execute_input": "2023-03-03T01:17:23.336482Z",
     "iopub.status.busy": "2023-03-03T01:17:23.335674Z",
     "iopub.status.idle": "2023-03-03T01:17:23.345628Z",
     "shell.execute_reply": "2023-03-03T01:17:23.344766Z",
     "shell.execute_reply.started": "2023-03-03T01:17:23.336407Z"
    }
   },
   "outputs": [
    {
     "data": {
      "text/plain": [
       "0.6428367986328681"
      ]
     },
     "execution_count": 33,
     "metadata": {},
     "output_type": "execute_result"
    }
   ],
   "source": [
    "2257/(2257+1254)"
   ]
  },
  {
   "cell_type": "code",
   "execution_count": 34,
   "id": "ed5302af-1abd-4e8d-984a-cc64754dd41b",
   "metadata": {
    "execution": {
     "iopub.execute_input": "2023-03-03T01:17:33.700449Z",
     "iopub.status.busy": "2023-03-03T01:17:33.699632Z",
     "iopub.status.idle": "2023-03-03T01:17:33.714593Z",
     "shell.execute_reply": "2023-03-03T01:17:33.713591Z",
     "shell.execute_reply.started": "2023-03-03T01:17:33.700379Z"
    }
   },
   "outputs": [
    {
     "data": {
      "text/plain": [
       "0.5178731009830205"
      ]
     },
     "execution_count": 34,
     "metadata": {},
     "output_type": "execute_result"
    }
   ],
   "source": [
    "1159/(1159+1079)"
   ]
  },
  {
   "cell_type": "markdown",
   "id": "83b343db-1bd2-4635-8e06-827dd1a08948",
   "metadata": {},
   "source": [
    "# Mixician: AZ vs MO (N reviews <= 30)"
   ]
  },
  {
   "cell_type": "code",
   "execution_count": 39,
   "id": "20be6fe9-a096-491c-804d-1b6951cb9903",
   "metadata": {
    "execution": {
     "iopub.execute_input": "2023-03-03T01:22:45.994294Z",
     "iopub.status.busy": "2023-03-03T01:22:45.993468Z",
     "iopub.status.idle": "2023-03-03T01:22:59.128802Z",
     "shell.execute_reply": "2023-03-03T01:22:59.127745Z",
     "shell.execute_reply.started": "2023-03-03T01:22:45.994221Z"
    },
    "tags": []
   },
   "outputs": [],
   "source": [
    "df1 = df_all.query(\"categories.str.contains('Mexican', case=False, na=False)\").query(\"review_count <= 30\").query(\"state=='AZ'\")\n",
    "df2 = df_all.query(\"categories.str.contains('Mexican', case=False, na=False)\").query(\"review_count <= 30\").query(\"state=='MO'\")"
   ]
  },
  {
   "cell_type": "code",
   "execution_count": 41,
   "id": "3ec6d74e-ebab-48d9-b29d-cd05cf337d27",
   "metadata": {
    "execution": {
     "iopub.execute_input": "2023-03-03T01:23:13.717677Z",
     "iopub.status.busy": "2023-03-03T01:23:13.716524Z",
     "iopub.status.idle": "2023-03-03T01:23:13.726365Z",
     "shell.execute_reply": "2023-03-03T01:23:13.725146Z",
     "shell.execute_reply.started": "2023-03-03T01:23:13.717572Z"
    },
    "tags": []
   },
   "outputs": [
    {
     "data": {
      "text/plain": [
       "Index(['review_id', 'user_id', 'business_id', 'stars_x', 'useful', 'funny',\n",
       "       'cool', 'text', 'date', 'name', 'address', 'city', 'state',\n",
       "       'postal_code', 'latitude', 'longitude', 'stars_y', 'review_count',\n",
       "       'is_open', 'attributes', 'categories', 'hours', 'label'],\n",
       "      dtype='object')"
      ]
     },
     "execution_count": 41,
     "metadata": {},
     "output_type": "execute_result"
    }
   ],
   "source": [
    "df1.columns"
   ]
  },
  {
   "cell_type": "code",
   "execution_count": 42,
   "id": "f150044c-9913-4ee5-bd9d-104c068bf84e",
   "metadata": {
    "execution": {
     "iopub.execute_input": "2023-03-03T01:24:21.893220Z",
     "iopub.status.busy": "2023-03-03T01:24:21.892598Z",
     "iopub.status.idle": "2023-03-03T01:24:22.250009Z",
     "shell.execute_reply": "2023-03-03T01:24:22.248451Z",
     "shell.execute_reply.started": "2023-03-03T01:24:21.893167Z"
    }
   },
   "outputs": [],
   "source": [
    "cols_select = ['business_id', 'review_id', 'state', 'label', 'text']\n",
    "\n",
    "df1[cols_select].to_csv(\"/bime-munin/xiruod/data/yelp_dataset/processed/yelp_mexican_AZ.csv\")\n",
    "df2[cols_select].to_csv(\"/bime-munin/xiruod/data/yelp_dataset/processed/yelp_mexican_MO.csv\")"
   ]
  },
  {
   "cell_type": "code",
   "execution_count": 43,
   "id": "bd7b1d24-ffd2-4b7b-a339-a76992f76d67",
   "metadata": {
    "execution": {
     "iopub.execute_input": "2023-03-03T01:26:23.234519Z",
     "iopub.status.busy": "2023-03-03T01:26:23.233740Z",
     "iopub.status.idle": "2023-03-03T01:26:23.246347Z",
     "shell.execute_reply": "2023-03-03T01:26:23.245558Z",
     "shell.execute_reply.started": "2023-03-03T01:26:23.234450Z"
    }
   },
   "outputs": [
    {
     "data": {
      "text/plain": [
       "label\n",
       "0    1254\n",
       "1    2257\n",
       "dtype: int64"
      ]
     },
     "execution_count": 43,
     "metadata": {},
     "output_type": "execute_result"
    }
   ],
   "source": [
    "df1.groupby('label').size()"
   ]
  },
  {
   "cell_type": "code",
   "execution_count": 44,
   "id": "2c8628cb-5461-43b4-83f5-9b51ef3f456e",
   "metadata": {
    "execution": {
     "iopub.execute_input": "2023-03-03T01:26:26.774101Z",
     "iopub.status.busy": "2023-03-03T01:26:26.773333Z",
     "iopub.status.idle": "2023-03-03T01:26:26.786994Z",
     "shell.execute_reply": "2023-03-03T01:26:26.785950Z",
     "shell.execute_reply.started": "2023-03-03T01:26:26.774032Z"
    },
    "tags": []
   },
   "outputs": [
    {
     "data": {
      "text/plain": [
       "label\n",
       "0    1079\n",
       "1    1159\n",
       "dtype: int64"
      ]
     },
     "execution_count": 44,
     "metadata": {},
     "output_type": "execute_result"
    }
   ],
   "source": [
    "df2.groupby('label').size()"
   ]
  },
  {
   "cell_type": "code",
   "execution_count": 45,
   "id": "9e2b5c68-f9aa-4e1d-ad16-7882216c6b14",
   "metadata": {
    "execution": {
     "iopub.execute_input": "2023-03-03T01:26:37.239798Z",
     "iopub.status.busy": "2023-03-03T01:26:37.239026Z",
     "iopub.status.idle": "2023-03-03T01:26:37.247894Z",
     "shell.execute_reply": "2023-03-03T01:26:37.246758Z",
     "shell.execute_reply.started": "2023-03-03T01:26:37.239727Z"
    }
   },
   "outputs": [
    {
     "data": {
      "text/plain": [
       "0.6428367986328681"
      ]
     },
     "execution_count": 45,
     "metadata": {},
     "output_type": "execute_result"
    }
   ],
   "source": [
    "2257/(2257+1254)"
   ]
  },
  {
   "cell_type": "code",
   "execution_count": 46,
   "id": "37e73c68-93e4-4248-927e-f3a6ca29967c",
   "metadata": {
    "execution": {
     "iopub.execute_input": "2023-03-03T01:26:46.395324Z",
     "iopub.status.busy": "2023-03-03T01:26:46.394560Z",
     "iopub.status.idle": "2023-03-03T01:26:46.404181Z",
     "shell.execute_reply": "2023-03-03T01:26:46.402893Z",
     "shell.execute_reply.started": "2023-03-03T01:26:46.395256Z"
    }
   },
   "outputs": [
    {
     "data": {
      "text/plain": [
       "0.5178731009830205"
      ]
     },
     "execution_count": 46,
     "metadata": {},
     "output_type": "execute_result"
    }
   ],
   "source": [
    "1159/(1159+1079)"
   ]
  },
  {
   "cell_type": "code",
   "execution_count": null,
   "id": "ca935f20-938c-4e33-b52c-f4a6869ccbf7",
   "metadata": {},
   "outputs": [],
   "source": []
  },
  {
   "cell_type": "code",
   "execution_count": null,
   "id": "c4b3f862-8f28-4188-8a50-104e4a9f6179",
   "metadata": {},
   "outputs": [],
   "source": []
  },
  {
   "cell_type": "code",
   "execution_count": null,
   "id": "94b2be24-0370-46ce-912f-750e122b99af",
   "metadata": {},
   "outputs": [],
   "source": []
  },
  {
   "cell_type": "markdown",
   "id": "a62d1e7d-6f2b-4cf9-b358-8f846a311433",
   "metadata": {},
   "source": [
    "# Seafood: IN vs FL (N reviews <= 30)"
   ]
  },
  {
   "cell_type": "code",
   "execution_count": 118,
   "id": "f55be7a6-f276-4f88-b3f6-d30a6a812edf",
   "metadata": {
    "execution": {
     "iopub.execute_input": "2023-03-02T23:58:06.297102Z",
     "iopub.status.busy": "2023-03-02T23:58:06.292956Z",
     "iopub.status.idle": "2023-03-02T23:58:06.578910Z",
     "shell.execute_reply": "2023-03-02T23:58:06.578198Z",
     "shell.execute_reply.started": "2023-03-02T23:58:06.297023Z"
    },
    "tags": []
   },
   "outputs": [],
   "source": [
    "df_review_agg_select = df_review_agg.query(\"categories.str.contains('Seafood', case=False)\").query(\"size <= 30\").query(\"state in ['PA','FL']\")\n",
    "\n"
   ]
  },
  {
   "cell_type": "code",
   "execution_count": 119,
   "id": "70bbffe3-21b9-4628-999b-c73c3b737fe7",
   "metadata": {
    "execution": {
     "iopub.execute_input": "2023-03-02T23:58:06.810856Z",
     "iopub.status.busy": "2023-03-02T23:58:06.810123Z",
     "iopub.status.idle": "2023-03-02T23:58:06.839374Z",
     "shell.execute_reply": "2023-03-02T23:58:06.838688Z",
     "shell.execute_reply.started": "2023-03-02T23:58:06.810788Z"
    },
    "tags": []
   },
   "outputs": [
    {
     "data": {
      "text/html": [
       "<div>\n",
       "<style scoped>\n",
       "    .dataframe tbody tr th:only-of-type {\n",
       "        vertical-align: middle;\n",
       "    }\n",
       "\n",
       "    .dataframe tbody tr th {\n",
       "        vertical-align: top;\n",
       "    }\n",
       "\n",
       "    .dataframe thead th {\n",
       "        text-align: right;\n",
       "    }\n",
       "</style>\n",
       "<table border=\"1\" class=\"dataframe\">\n",
       "  <thead>\n",
       "    <tr style=\"text-align: right;\">\n",
       "      <th></th>\n",
       "      <th>business_id</th>\n",
       "      <th>size</th>\n",
       "      <th>name</th>\n",
       "      <th>address</th>\n",
       "      <th>city</th>\n",
       "      <th>state</th>\n",
       "      <th>postal_code</th>\n",
       "      <th>latitude</th>\n",
       "      <th>longitude</th>\n",
       "      <th>stars</th>\n",
       "      <th>review_count</th>\n",
       "      <th>is_open</th>\n",
       "      <th>attributes</th>\n",
       "      <th>categories</th>\n",
       "      <th>hours</th>\n",
       "    </tr>\n",
       "  </thead>\n",
       "  <tbody>\n",
       "    <tr>\n",
       "      <th>0</th>\n",
       "      <td>---kPU91CF4Lq2-WlRu9Lw</td>\n",
       "      <td>24</td>\n",
       "      <td>Frankie's Raw Bar</td>\n",
       "      <td>4903 State Rd 54</td>\n",
       "      <td>New Port Richey</td>\n",
       "      <td>FL</td>\n",
       "      <td>34652</td>\n",
       "      <td>28.217288</td>\n",
       "      <td>-82.733344</td>\n",
       "      <td>4.5</td>\n",
       "      <td>24</td>\n",
       "      <td>1</td>\n",
       "      <td>{'Alcohol': 'u'none'', 'OutdoorSeating': 'True...</td>\n",
       "      <td>Seafood, Restaurants, Latin American, Food, Fo...</td>\n",
       "      <td>{'Monday': '0:0-0:0', 'Tuesday': '11:0-21:0', ...</td>\n",
       "    </tr>\n",
       "    <tr>\n",
       "      <th>186</th>\n",
       "      <td>-40qQXB8JsneSiDqXMjoeg</td>\n",
       "      <td>14</td>\n",
       "      <td>Grill Fish Café</td>\n",
       "      <td>814 S 47th St</td>\n",
       "      <td>Philadelphia</td>\n",
       "      <td>PA</td>\n",
       "      <td>19143</td>\n",
       "      <td>39.948232</td>\n",
       "      <td>-75.216943</td>\n",
       "      <td>4.0</td>\n",
       "      <td>14</td>\n",
       "      <td>0</td>\n",
       "      <td>{'Alcohol': 'u'full_bar'', 'HasTV': 'False', '...</td>\n",
       "      <td>Asian Fusion, Vietnamese, Seafood, Restaurants</td>\n",
       "      <td>{'Tuesday': '17:0-22:0', 'Wednesday': '17:0-22...</td>\n",
       "    </tr>\n",
       "    <tr>\n",
       "      <th>564</th>\n",
       "      <td>-E5FEJIZdmwV7A1XGdhUeA</td>\n",
       "      <td>20</td>\n",
       "      <td>Baltimore Crab &amp; Seafood</td>\n",
       "      <td>4800 Spruce St</td>\n",
       "      <td>Philadelphia</td>\n",
       "      <td>PA</td>\n",
       "      <td>19139</td>\n",
       "      <td>39.953428</td>\n",
       "      <td>-75.218346</td>\n",
       "      <td>3.0</td>\n",
       "      <td>20</td>\n",
       "      <td>0</td>\n",
       "      <td>{'BusinessAcceptsCreditCards': 'True', 'Restau...</td>\n",
       "      <td>Food, Specialty Food, Seafood Markets</td>\n",
       "      <td>{'Monday': '12:0-23:0', 'Tuesday': '12:0-23:0'...</td>\n",
       "    </tr>\n",
       "    <tr>\n",
       "      <th>722</th>\n",
       "      <td>-I_MttjEEbECi1Zjs12hJA</td>\n",
       "      <td>9</td>\n",
       "      <td>Periscope Restaurant</td>\n",
       "      <td>6800 Sunshine Skyway Ln S</td>\n",
       "      <td>Saint Petersburg</td>\n",
       "      <td>FL</td>\n",
       "      <td>33711</td>\n",
       "      <td>27.705371</td>\n",
       "      <td>-82.678390</td>\n",
       "      <td>2.5</td>\n",
       "      <td>9</td>\n",
       "      <td>1</td>\n",
       "      <td>{'RestaurantsDelivery': 'False', 'RestaurantsG...</td>\n",
       "      <td>Hotels, Seafood, Hotels &amp; Travel, Restaurants,...</td>\n",
       "      <td>{'Monday': '17:0-22:0', 'Tuesday': '17:0-22:0'...</td>\n",
       "    </tr>\n",
       "    <tr>\n",
       "      <th>853</th>\n",
       "      <td>-MXWHvyw73IDWzIrpGqkpA</td>\n",
       "      <td>7</td>\n",
       "      <td>Captain Al's</td>\n",
       "      <td>800 2nd Ave NE, Ste 25</td>\n",
       "      <td>Saint Petersburg</td>\n",
       "      <td>FL</td>\n",
       "      <td>33701</td>\n",
       "      <td>27.773918</td>\n",
       "      <td>-82.622729</td>\n",
       "      <td>3.0</td>\n",
       "      <td>7</td>\n",
       "      <td>0</td>\n",
       "      <td>{'GoodForKids': 'False', 'Alcohol': 'u'full_ba...</td>\n",
       "      <td>American (Traditional), Food, Seafood, Restaur...</td>\n",
       "      <td>None</td>\n",
       "    </tr>\n",
       "    <tr>\n",
       "      <th>...</th>\n",
       "      <td>...</td>\n",
       "      <td>...</td>\n",
       "      <td>...</td>\n",
       "      <td>...</td>\n",
       "      <td>...</td>\n",
       "      <td>...</td>\n",
       "      <td>...</td>\n",
       "      <td>...</td>\n",
       "      <td>...</td>\n",
       "      <td>...</td>\n",
       "      <td>...</td>\n",
       "      <td>...</td>\n",
       "      <td>...</td>\n",
       "      <td>...</td>\n",
       "      <td>...</td>\n",
       "    </tr>\n",
       "    <tr>\n",
       "      <th>148461</th>\n",
       "      <td>zDJoyeohHjEX-Pz6zQfPng</td>\n",
       "      <td>25</td>\n",
       "      <td>Kriscroix Restaurant</td>\n",
       "      <td>198 Lincoln Hw</td>\n",
       "      <td>Fairless Hills</td>\n",
       "      <td>PA</td>\n",
       "      <td>19030</td>\n",
       "      <td>40.183862</td>\n",
       "      <td>-74.856669</td>\n",
       "      <td>4.5</td>\n",
       "      <td>22</td>\n",
       "      <td>0</td>\n",
       "      <td>{'HasTV': 'True', 'BusinessParking': '{'garage...</td>\n",
       "      <td>Fish &amp; Chips, Restaurants, Seafood, Chicken Wi...</td>\n",
       "      <td>{'Monday': '11:0-20:0', 'Tuesday': '11:0-20:0'...</td>\n",
       "    </tr>\n",
       "    <tr>\n",
       "      <th>149589</th>\n",
       "      <td>zi7z6IE74Iq9wqWbHcJfuA</td>\n",
       "      <td>22</td>\n",
       "      <td>Hip Hop Crab</td>\n",
       "      <td>4924 E Busch Blvd</td>\n",
       "      <td>Tampa</td>\n",
       "      <td>FL</td>\n",
       "      <td>33617</td>\n",
       "      <td>28.033580</td>\n",
       "      <td>-82.404203</td>\n",
       "      <td>2.5</td>\n",
       "      <td>22</td>\n",
       "      <td>1</td>\n",
       "      <td>{'RestaurantsDelivery': 'None', 'RestaurantsTa...</td>\n",
       "      <td>Sports Bars, Restaurants, Seafood, Nightlife, ...</td>\n",
       "      <td>{'Monday': '11:0-2:0', 'Tuesday': '11:0-2:0', ...</td>\n",
       "    </tr>\n",
       "    <tr>\n",
       "      <th>149610</th>\n",
       "      <td>zirdGUy6URMii7VM-8DoBQ</td>\n",
       "      <td>18</td>\n",
       "      <td>Bayou Market and Cafe</td>\n",
       "      <td>6630 Central Ave</td>\n",
       "      <td>St. Petersburg</td>\n",
       "      <td>FL</td>\n",
       "      <td>33707</td>\n",
       "      <td>27.770548</td>\n",
       "      <td>-82.729267</td>\n",
       "      <td>5.0</td>\n",
       "      <td>18</td>\n",
       "      <td>1</td>\n",
       "      <td>None</td>\n",
       "      <td>American (Traditional), Soup, Restaurants, Sea...</td>\n",
       "      <td>{'Monday': '11:0-19:0', 'Tuesday': '11:0-19:0'...</td>\n",
       "    </tr>\n",
       "    <tr>\n",
       "      <th>150089</th>\n",
       "      <td>zvnoq65Q9FRy8EXroCvlAg</td>\n",
       "      <td>21</td>\n",
       "      <td>Top China</td>\n",
       "      <td>3018 54th Ave S</td>\n",
       "      <td>Saint Petersburg</td>\n",
       "      <td>FL</td>\n",
       "      <td>33712</td>\n",
       "      <td>27.718215</td>\n",
       "      <td>-82.673465</td>\n",
       "      <td>3.5</td>\n",
       "      <td>20</td>\n",
       "      <td>1</td>\n",
       "      <td>{'RestaurantsGoodForGroups': 'False', 'Restaur...</td>\n",
       "      <td>Seafood, Restaurants, Chinese</td>\n",
       "      <td>None</td>\n",
       "    </tr>\n",
       "    <tr>\n",
       "      <th>150217</th>\n",
       "      <td>zzFCdBSW27eKFg-xG7cqAg</td>\n",
       "      <td>19</td>\n",
       "      <td>Suburbia Seafood</td>\n",
       "      <td>135 Boro Line Rd</td>\n",
       "      <td>King of Prussia</td>\n",
       "      <td>PA</td>\n",
       "      <td>19406</td>\n",
       "      <td>40.101528</td>\n",
       "      <td>-75.353721</td>\n",
       "      <td>4.0</td>\n",
       "      <td>18</td>\n",
       "      <td>0</td>\n",
       "      <td>{'RestaurantsDelivery': 'False', 'RestaurantsP...</td>\n",
       "      <td>Seafood Markets, Specialty Food, Restaurants, ...</td>\n",
       "      <td>{'Tuesday': '9:0-18:0', 'Wednesday': '9:0-18:0...</td>\n",
       "    </tr>\n",
       "  </tbody>\n",
       "</table>\n",
       "<p>590 rows × 15 columns</p>\n",
       "</div>"
      ],
      "text/plain": [
       "                   business_id  size                      name  \\\n",
       "0       ---kPU91CF4Lq2-WlRu9Lw    24         Frankie's Raw Bar   \n",
       "186     -40qQXB8JsneSiDqXMjoeg    14           Grill Fish Café   \n",
       "564     -E5FEJIZdmwV7A1XGdhUeA    20  Baltimore Crab & Seafood   \n",
       "722     -I_MttjEEbECi1Zjs12hJA     9      Periscope Restaurant   \n",
       "853     -MXWHvyw73IDWzIrpGqkpA     7              Captain Al's   \n",
       "...                        ...   ...                       ...   \n",
       "148461  zDJoyeohHjEX-Pz6zQfPng    25      Kriscroix Restaurant   \n",
       "149589  zi7z6IE74Iq9wqWbHcJfuA    22              Hip Hop Crab   \n",
       "149610  zirdGUy6URMii7VM-8DoBQ    18     Bayou Market and Cafe   \n",
       "150089  zvnoq65Q9FRy8EXroCvlAg    21                 Top China   \n",
       "150217  zzFCdBSW27eKFg-xG7cqAg    19          Suburbia Seafood   \n",
       "\n",
       "                          address              city state postal_code  \\\n",
       "0                4903 State Rd 54   New Port Richey    FL       34652   \n",
       "186                 814 S 47th St      Philadelphia    PA       19143   \n",
       "564                4800 Spruce St      Philadelphia    PA       19139   \n",
       "722     6800 Sunshine Skyway Ln S  Saint Petersburg    FL       33711   \n",
       "853        800 2nd Ave NE, Ste 25  Saint Petersburg    FL       33701   \n",
       "...                           ...               ...   ...         ...   \n",
       "148461             198 Lincoln Hw    Fairless Hills    PA       19030   \n",
       "149589          4924 E Busch Blvd             Tampa    FL       33617   \n",
       "149610           6630 Central Ave    St. Petersburg    FL       33707   \n",
       "150089            3018 54th Ave S  Saint Petersburg    FL       33712   \n",
       "150217           135 Boro Line Rd   King of Prussia    PA       19406   \n",
       "\n",
       "         latitude  longitude  stars  review_count  is_open  \\\n",
       "0       28.217288 -82.733344    4.5            24        1   \n",
       "186     39.948232 -75.216943    4.0            14        0   \n",
       "564     39.953428 -75.218346    3.0            20        0   \n",
       "722     27.705371 -82.678390    2.5             9        1   \n",
       "853     27.773918 -82.622729    3.0             7        0   \n",
       "...           ...        ...    ...           ...      ...   \n",
       "148461  40.183862 -74.856669    4.5            22        0   \n",
       "149589  28.033580 -82.404203    2.5            22        1   \n",
       "149610  27.770548 -82.729267    5.0            18        1   \n",
       "150089  27.718215 -82.673465    3.5            20        1   \n",
       "150217  40.101528 -75.353721    4.0            18        0   \n",
       "\n",
       "                                               attributes  \\\n",
       "0       {'Alcohol': 'u'none'', 'OutdoorSeating': 'True...   \n",
       "186     {'Alcohol': 'u'full_bar'', 'HasTV': 'False', '...   \n",
       "564     {'BusinessAcceptsCreditCards': 'True', 'Restau...   \n",
       "722     {'RestaurantsDelivery': 'False', 'RestaurantsG...   \n",
       "853     {'GoodForKids': 'False', 'Alcohol': 'u'full_ba...   \n",
       "...                                                   ...   \n",
       "148461  {'HasTV': 'True', 'BusinessParking': '{'garage...   \n",
       "149589  {'RestaurantsDelivery': 'None', 'RestaurantsTa...   \n",
       "149610                                               None   \n",
       "150089  {'RestaurantsGoodForGroups': 'False', 'Restaur...   \n",
       "150217  {'RestaurantsDelivery': 'False', 'RestaurantsP...   \n",
       "\n",
       "                                               categories  \\\n",
       "0       Seafood, Restaurants, Latin American, Food, Fo...   \n",
       "186        Asian Fusion, Vietnamese, Seafood, Restaurants   \n",
       "564                 Food, Specialty Food, Seafood Markets   \n",
       "722     Hotels, Seafood, Hotels & Travel, Restaurants,...   \n",
       "853     American (Traditional), Food, Seafood, Restaur...   \n",
       "...                                                   ...   \n",
       "148461  Fish & Chips, Restaurants, Seafood, Chicken Wi...   \n",
       "149589  Sports Bars, Restaurants, Seafood, Nightlife, ...   \n",
       "149610  American (Traditional), Soup, Restaurants, Sea...   \n",
       "150089                      Seafood, Restaurants, Chinese   \n",
       "150217  Seafood Markets, Specialty Food, Restaurants, ...   \n",
       "\n",
       "                                                    hours  \n",
       "0       {'Monday': '0:0-0:0', 'Tuesday': '11:0-21:0', ...  \n",
       "186     {'Tuesday': '17:0-22:0', 'Wednesday': '17:0-22...  \n",
       "564     {'Monday': '12:0-23:0', 'Tuesday': '12:0-23:0'...  \n",
       "722     {'Monday': '17:0-22:0', 'Tuesday': '17:0-22:0'...  \n",
       "853                                                  None  \n",
       "...                                                   ...  \n",
       "148461  {'Monday': '11:0-20:0', 'Tuesday': '11:0-20:0'...  \n",
       "149589  {'Monday': '11:0-2:0', 'Tuesday': '11:0-2:0', ...  \n",
       "149610  {'Monday': '11:0-19:0', 'Tuesday': '11:0-19:0'...  \n",
       "150089                                               None  \n",
       "150217  {'Tuesday': '9:0-18:0', 'Wednesday': '9:0-18:0...  \n",
       "\n",
       "[590 rows x 15 columns]"
      ]
     },
     "execution_count": 119,
     "metadata": {},
     "output_type": "execute_result"
    }
   ],
   "source": [
    "df_review_agg_select"
   ]
  },
  {
   "cell_type": "code",
   "execution_count": 120,
   "id": "a04f7b4c-dd44-4ea4-be0f-67ba92438c07",
   "metadata": {
    "execution": {
     "iopub.execute_input": "2023-03-02T23:58:23.875715Z",
     "iopub.status.busy": "2023-03-02T23:58:23.875233Z",
     "iopub.status.idle": "2023-03-02T23:58:23.955453Z",
     "shell.execute_reply": "2023-03-02T23:58:23.954446Z",
     "shell.execute_reply.started": "2023-03-02T23:58:23.875673Z"
    },
    "tags": []
   },
   "outputs": [],
   "source": [
    "df_IN = df_business[df_business['business_id'].isin(df_review_agg_select.query(\"state == 'IN'\")['business_id'])]\n",
    "\n",
    "df_PA = df_business[df_business['business_id'].isin(df_review_agg_select.query(\"state == 'PA'\")['business_id'])]\n",
    "df_FL = df_business[df_business['business_id'].isin(df_review_agg_select.query(\"state == 'FL'\")['business_id'])]"
   ]
  },
  {
   "cell_type": "code",
   "execution_count": 121,
   "id": "3ff24c0c-af60-472f-b89b-33bae44b3bdc",
   "metadata": {
    "execution": {
     "iopub.execute_input": "2023-03-02T23:58:36.814598Z",
     "iopub.status.busy": "2023-03-02T23:58:36.814071Z",
     "iopub.status.idle": "2023-03-02T23:58:45.265772Z",
     "shell.execute_reply": "2023-03-02T23:58:45.264553Z",
     "shell.execute_reply.started": "2023-03-02T23:58:36.814553Z"
    },
    "tags": []
   },
   "outputs": [],
   "source": [
    "df_IN = df_IN[['business_id','city','state']].merge(df_review, on='business_id').query(\"stars != 3\").reset_index(drop=True)\n",
    "\n",
    "df_PA = df_PA[['business_id','city','state']].merge(df_review, on='business_id').query(\"stars != 3\").reset_index(drop=True)\n",
    "\n",
    "df_FL = df_FL[['business_id','city','state']].merge(df_review, on='business_id').query(\"stars != 3\").reset_index(drop=True)"
   ]
  },
  {
   "cell_type": "code",
   "execution_count": 122,
   "id": "0415cc35-f62c-4aa2-9fc9-a24e18730aec",
   "metadata": {
    "execution": {
     "iopub.execute_input": "2023-03-02T23:58:45.267014Z",
     "iopub.status.busy": "2023-03-02T23:58:45.266833Z",
     "iopub.status.idle": "2023-03-02T23:58:45.273740Z",
     "shell.execute_reply": "2023-03-02T23:58:45.272114Z",
     "shell.execute_reply.started": "2023-03-02T23:58:45.266997Z"
    },
    "tags": []
   },
   "outputs": [
    {
     "name": "stdout",
     "output_type": "stream",
     "text": [
      "0\n",
      "4380\n",
      "3431\n"
     ]
    }
   ],
   "source": [
    "print(len(df_IN))\n",
    "print(len(df_PA))\n",
    "print(len(df_FL))"
   ]
  },
  {
   "cell_type": "code",
   "execution_count": 123,
   "id": "484446c9-5045-4d17-9e27-f69e25505e92",
   "metadata": {
    "execution": {
     "iopub.execute_input": "2023-03-02T23:59:00.139987Z",
     "iopub.status.busy": "2023-03-02T23:59:00.139195Z",
     "iopub.status.idle": "2023-03-02T23:59:00.157408Z",
     "shell.execute_reply": "2023-03-02T23:59:00.156312Z",
     "shell.execute_reply.started": "2023-03-02T23:59:00.139919Z"
    },
    "tags": []
   },
   "outputs": [],
   "source": [
    "dict_stars = {1:0,\n",
    "              2:0,\n",
    "              4:1,\n",
    "              5:1,\n",
    "             }\n",
    "df_IN['label'] = df_IN['stars'].map(dict_stars)\n",
    "df_PA['label'] = df_PA['stars'].map(dict_stars)\n",
    "df_FL['label'] = df_FL['stars'].map(dict_stars)"
   ]
  },
  {
   "cell_type": "code",
   "execution_count": 124,
   "id": "a23e4652-722b-4fa3-85d5-2ce0eb488bf0",
   "metadata": {
    "execution": {
     "iopub.execute_input": "2023-03-02T23:59:10.004673Z",
     "iopub.status.busy": "2023-03-02T23:59:10.003914Z",
     "iopub.status.idle": "2023-03-02T23:59:10.015409Z",
     "shell.execute_reply": "2023-03-02T23:59:10.014391Z",
     "shell.execute_reply.started": "2023-03-02T23:59:10.004605Z"
    },
    "tags": []
   },
   "outputs": [],
   "source": [
    "df_IN['domain'] = df_IN['state']\n",
    "df_PA['domain'] = df_PA['state']\n",
    "df_FL['domain'] = df_FL['state']"
   ]
  },
  {
   "cell_type": "code",
   "execution_count": 125,
   "id": "019099b6-78f8-4822-bec8-f53441d881d5",
   "metadata": {
    "execution": {
     "iopub.execute_input": "2023-03-02T23:59:13.831154Z",
     "iopub.status.busy": "2023-03-02T23:59:13.830472Z",
     "iopub.status.idle": "2023-03-02T23:59:13.843846Z",
     "shell.execute_reply": "2023-03-02T23:59:13.842630Z",
     "shell.execute_reply.started": "2023-03-02T23:59:13.831092Z"
    },
    "tags": []
   },
   "outputs": [
    {
     "data": {
      "text/plain": [
       "Series([], dtype: int64)"
      ]
     },
     "execution_count": 125,
     "metadata": {},
     "output_type": "execute_result"
    }
   ],
   "source": [
    "df_IN.groupby(\"label\").size()"
   ]
  },
  {
   "cell_type": "code",
   "execution_count": 126,
   "id": "7b1f6e29-c661-4230-84ce-8b75800bc9c7",
   "metadata": {
    "execution": {
     "iopub.execute_input": "2023-03-02T23:59:19.063318Z",
     "iopub.status.busy": "2023-03-02T23:59:19.062551Z",
     "iopub.status.idle": "2023-03-02T23:59:19.075862Z",
     "shell.execute_reply": "2023-03-02T23:59:19.075024Z",
     "shell.execute_reply.started": "2023-03-02T23:59:19.063249Z"
    },
    "tags": []
   },
   "outputs": [
    {
     "data": {
      "text/plain": [
       "label\n",
       "0    1409\n",
       "1    2971\n",
       "dtype: int64"
      ]
     },
     "execution_count": 126,
     "metadata": {},
     "output_type": "execute_result"
    }
   ],
   "source": [
    "df_PA.groupby(\"label\").size()"
   ]
  },
  {
   "cell_type": "code",
   "execution_count": 127,
   "id": "934f49f4-19f9-4783-96f6-59a307452750",
   "metadata": {
    "execution": {
     "iopub.execute_input": "2023-03-02T23:59:20.911922Z",
     "iopub.status.busy": "2023-03-02T23:59:20.911166Z",
     "iopub.status.idle": "2023-03-02T23:59:20.926611Z",
     "shell.execute_reply": "2023-03-02T23:59:20.925633Z",
     "shell.execute_reply.started": "2023-03-02T23:59:20.911854Z"
    },
    "tags": []
   },
   "outputs": [
    {
     "data": {
      "text/plain": [
       "label\n",
       "0     936\n",
       "1    2495\n",
       "dtype: int64"
      ]
     },
     "execution_count": 127,
     "metadata": {},
     "output_type": "execute_result"
    }
   ],
   "source": [
    "df_FL.groupby(\"label\").size()"
   ]
  },
  {
   "cell_type": "code",
   "execution_count": 128,
   "id": "7cb15b97-833f-4763-9c66-65d4bf2963de",
   "metadata": {
    "execution": {
     "iopub.execute_input": "2023-03-02T23:59:24.033939Z",
     "iopub.status.busy": "2023-03-02T23:59:24.033166Z",
     "iopub.status.idle": "2023-03-02T23:59:24.042114Z",
     "shell.execute_reply": "2023-03-02T23:59:24.041033Z",
     "shell.execute_reply.started": "2023-03-02T23:59:24.033869Z"
    },
    "tags": []
   },
   "outputs": [
    {
     "data": {
      "text/plain": [
       "0.694560669456067"
      ]
     },
     "execution_count": 128,
     "metadata": {},
     "output_type": "execute_result"
    }
   ],
   "source": [
    "830/(830+365)"
   ]
  },
  {
   "cell_type": "code",
   "execution_count": 129,
   "id": "fa2f2a02-eb77-413f-b504-74bb04c418c9",
   "metadata": {
    "execution": {
     "iopub.execute_input": "2023-03-02T23:59:24.326768Z",
     "iopub.status.busy": "2023-03-02T23:59:24.326255Z",
     "iopub.status.idle": "2023-03-02T23:59:24.333917Z",
     "shell.execute_reply": "2023-03-02T23:59:24.332835Z",
     "shell.execute_reply.started": "2023-03-02T23:59:24.326719Z"
    },
    "tags": []
   },
   "outputs": [
    {
     "data": {
      "text/plain": [
       "0.7275902211874272"
      ]
     },
     "execution_count": 129,
     "metadata": {},
     "output_type": "execute_result"
    }
   ],
   "source": [
    "2500/(2500+936)"
   ]
  },
  {
   "cell_type": "code",
   "execution_count": 130,
   "id": "5463e7d9-af63-42b5-99c1-a6d075dea334",
   "metadata": {
    "execution": {
     "iopub.execute_input": "2023-03-02T23:59:35.310778Z",
     "iopub.status.busy": "2023-03-02T23:59:35.310095Z",
     "iopub.status.idle": "2023-03-02T23:59:35.318696Z",
     "shell.execute_reply": "2023-03-02T23:59:35.317548Z",
     "shell.execute_reply.started": "2023-03-02T23:59:35.310719Z"
    }
   },
   "outputs": [
    {
     "data": {
      "text/plain": [
       "0.6783105022831051"
      ]
     },
     "execution_count": 130,
     "metadata": {},
     "output_type": "execute_result"
    }
   ],
   "source": [
    "2971/(2971+1409)"
   ]
  },
  {
   "cell_type": "code",
   "execution_count": 131,
   "id": "d4bdcc05-4283-45f7-a4b7-18f77bd61af0",
   "metadata": {
    "execution": {
     "iopub.execute_input": "2023-03-03T00:03:07.581098Z",
     "iopub.status.busy": "2023-03-03T00:03:07.580250Z",
     "iopub.status.idle": "2023-03-03T00:03:07.903349Z",
     "shell.execute_reply": "2023-03-03T00:03:07.902264Z",
     "shell.execute_reply.started": "2023-03-03T00:03:07.581021Z"
    }
   },
   "outputs": [],
   "source": [
    "df_PA.to_csv(\"/bime-munin/xiruod/data/yelp_dataset/processed/yelp_seafood_PA.csv\", index=False)\n",
    "df_FL.to_csv(\"/bime-munin/xiruod/data/yelp_dataset/processed/yelp_seafood_FL.csv\", index=False)\n"
   ]
  },
  {
   "cell_type": "code",
   "execution_count": null,
   "id": "52277c24-c252-47f3-8ef2-e57e7ec78ef7",
   "metadata": {},
   "outputs": [],
   "source": []
  },
  {
   "cell_type": "code",
   "execution_count": null,
   "id": "da674a10-17a2-4c72-a47c-46bc5e9d94b2",
   "metadata": {},
   "outputs": [],
   "source": []
  },
  {
   "cell_type": "markdown",
   "id": "63e68cce-31e2-4f15-bb73-b5324cf17ca2",
   "metadata": {},
   "source": [
    "# Time?"
   ]
  },
  {
   "cell_type": "code",
   "execution_count": 52,
   "id": "7b2cf99c-e847-4630-88b3-2af7906ae762",
   "metadata": {
    "execution": {
     "iopub.execute_input": "2023-03-03T04:10:07.749087Z",
     "iopub.status.busy": "2023-03-03T04:10:07.748264Z",
     "iopub.status.idle": "2023-03-03T04:10:07.755399Z",
     "shell.execute_reply": "2023-03-03T04:10:07.753905Z",
     "shell.execute_reply.started": "2023-03-03T04:10:07.749016Z"
    }
   },
   "outputs": [],
   "source": [
    "del df_all"
   ]
  },
  {
   "cell_type": "code",
   "execution_count": 7,
   "id": "4008cbe7-a546-4f35-9fa4-704384ec14c9",
   "metadata": {
    "execution": {
     "iopub.execute_input": "2023-03-03T04:46:52.645082Z",
     "iopub.status.busy": "2023-03-03T04:46:52.644263Z",
     "iopub.status.idle": "2023-03-03T04:46:52.655389Z",
     "shell.execute_reply": "2023-03-03T04:46:52.654044Z",
     "shell.execute_reply.started": "2023-03-03T04:46:52.645009Z"
    },
    "tags": []
   },
   "outputs": [
    {
     "data": {
      "text/plain": [
       "Index(['business_id', 'name', 'address', 'city', 'state', 'postal_code',\n",
       "       'latitude', 'longitude', 'stars', 'review_count', 'is_open',\n",
       "       'attributes', 'categories', 'hours'],\n",
       "      dtype='object')"
      ]
     },
     "execution_count": 7,
     "metadata": {},
     "output_type": "execute_result"
    }
   ],
   "source": [
    "df_business.columns"
   ]
  },
  {
   "cell_type": "code",
   "execution_count": 8,
   "id": "2981febd-13cf-4f24-8ebe-3475faf589da",
   "metadata": {
    "execution": {
     "iopub.execute_input": "2023-03-03T04:46:56.709416Z",
     "iopub.status.busy": "2023-03-03T04:46:56.708604Z",
     "iopub.status.idle": "2023-03-03T04:47:01.101413Z",
     "shell.execute_reply": "2023-03-03T04:47:01.100392Z",
     "shell.execute_reply.started": "2023-03-03T04:46:56.709344Z"
    },
    "tags": []
   },
   "outputs": [],
   "source": [
    "df_all = df_review.merge(df_business.query(\"review_count <= 30\")[['business_id','city','state','is_open']], on='business_id', how='inner')"
   ]
  },
  {
   "cell_type": "code",
   "execution_count": 9,
   "id": "b6f4a1dd-1228-4d62-b115-f16e8839cc63",
   "metadata": {
    "execution": {
     "iopub.execute_input": "2023-03-03T04:47:01.794235Z",
     "iopub.status.busy": "2023-03-03T04:47:01.793480Z",
     "iopub.status.idle": "2023-03-03T04:47:01.802602Z",
     "shell.execute_reply": "2023-03-03T04:47:01.801372Z",
     "shell.execute_reply.started": "2023-03-03T04:47:01.794166Z"
    },
    "tags": []
   },
   "outputs": [
    {
     "data": {
      "text/plain": [
       "1326699"
      ]
     },
     "execution_count": 9,
     "metadata": {},
     "output_type": "execute_result"
    }
   ],
   "source": [
    "len(df_all)"
   ]
  },
  {
   "cell_type": "code",
   "execution_count": 10,
   "id": "d9c9aaf1-7064-46c5-ac0a-f44245576b10",
   "metadata": {
    "execution": {
     "iopub.execute_input": "2023-03-03T04:47:02.167288Z",
     "iopub.status.busy": "2023-03-03T04:47:02.166581Z",
     "iopub.status.idle": "2023-03-03T04:47:03.311888Z",
     "shell.execute_reply": "2023-03-03T04:47:03.311159Z",
     "shell.execute_reply.started": "2023-03-03T04:47:02.167223Z"
    },
    "tags": []
   },
   "outputs": [
    {
     "data": {
      "text/plain": [
       "1055139"
      ]
     },
     "execution_count": 10,
     "metadata": {},
     "output_type": "execute_result"
    }
   ],
   "source": [
    "len(df_all.query(\"is_open == 1\"))"
   ]
  },
  {
   "cell_type": "code",
   "execution_count": 11,
   "id": "d78ba1d9-2c3f-47ae-9394-ef077aa8878b",
   "metadata": {
    "execution": {
     "iopub.execute_input": "2023-03-03T04:47:03.312987Z",
     "iopub.status.busy": "2023-03-03T04:47:03.312797Z",
     "iopub.status.idle": "2023-03-03T04:47:04.033982Z",
     "shell.execute_reply": "2023-03-03T04:47:04.033245Z",
     "shell.execute_reply.started": "2023-03-03T04:47:03.312970Z"
    },
    "tags": []
   },
   "outputs": [],
   "source": [
    "df_all = df_all.query(\"is_open == 1\").reset_index(drop=True)"
   ]
  },
  {
   "cell_type": "code",
   "execution_count": 12,
   "id": "657e901f-a44b-4dc5-bd45-6e3fb7cf42be",
   "metadata": {
    "execution": {
     "iopub.execute_input": "2023-03-03T04:47:04.035334Z",
     "iopub.status.busy": "2023-03-03T04:47:04.035148Z",
     "iopub.status.idle": "2023-03-03T04:47:04.131274Z",
     "shell.execute_reply": "2023-03-03T04:47:04.130655Z",
     "shell.execute_reply.started": "2023-03-03T04:47:04.035317Z"
    },
    "tags": []
   },
   "outputs": [],
   "source": [
    "df_all['review_year'] = df_all['date'].dt.year"
   ]
  },
  {
   "cell_type": "code",
   "execution_count": 13,
   "id": "fb28cc11-d349-40ce-89cb-b3b576b53587",
   "metadata": {
    "execution": {
     "iopub.execute_input": "2023-03-03T04:47:04.132238Z",
     "iopub.status.busy": "2023-03-03T04:47:04.132062Z",
     "iopub.status.idle": "2023-03-03T04:47:04.216914Z",
     "shell.execute_reply": "2023-03-03T04:47:04.216216Z",
     "shell.execute_reply.started": "2023-03-03T04:47:04.132221Z"
    },
    "tags": []
   },
   "outputs": [
    {
     "data": {
      "text/plain": [
       "state\n",
       "AB      41303\n",
       "AZ      73290\n",
       "CA      33666\n",
       "CO          8\n",
       "DE      17977\n",
       "FL     192575\n",
       "HI         19\n",
       "ID      34720\n",
       "IL      16445\n",
       "IN      79466\n",
       "LA      61886\n",
       "MA          9\n",
       "MI         11\n",
       "MO      72732\n",
       "NJ      66341\n",
       "NV      52351\n",
       "PA     228844\n",
       "TN      83408\n",
       "TX         35\n",
       "UT         19\n",
       "VT         10\n",
       "WA         19\n",
       "XMS         5\n",
       "dtype: int64"
      ]
     },
     "execution_count": 13,
     "metadata": {},
     "output_type": "execute_result"
    }
   ],
   "source": [
    "df_all.groupby(\"state\").size()"
   ]
  },
  {
   "cell_type": "markdown",
   "id": "e6717af3-01cb-4e13-8ca4-e3c7d1dffbb1",
   "metadata": {},
   "source": [
    "## Filter specific States: PA, FL, AZ, MO"
   ]
  },
  {
   "cell_type": "code",
   "execution_count": 14,
   "id": "b2be75b4-c582-4556-9524-628d76e4b938",
   "metadata": {
    "execution": {
     "iopub.execute_input": "2023-03-03T04:47:09.169340Z",
     "iopub.status.busy": "2023-03-03T04:47:09.168492Z",
     "iopub.status.idle": "2023-03-03T04:47:09.604209Z",
     "shell.execute_reply": "2023-03-03T04:47:09.603416Z",
     "shell.execute_reply.started": "2023-03-03T04:47:09.169267Z"
    },
    "tags": []
   },
   "outputs": [],
   "source": [
    "df_all_filter = df_all.query(\"state in ['PA','FL','AZ','MO']\").reset_index(drop=True)"
   ]
  },
  {
   "cell_type": "code",
   "execution_count": 15,
   "id": "091d9f28-2ce2-45f8-8543-06b718b0676c",
   "metadata": {
    "execution": {
     "iopub.execute_input": "2023-03-03T04:47:12.282711Z",
     "iopub.status.busy": "2023-03-03T04:47:12.281921Z",
     "iopub.status.idle": "2023-03-03T04:47:12.701729Z",
     "shell.execute_reply": "2023-03-03T04:47:12.701005Z",
     "shell.execute_reply.started": "2023-03-03T04:47:12.282642Z"
    },
    "tags": []
   },
   "outputs": [],
   "source": [
    "df_all_filter = df_all_filter.query(\"stars != 3\").reset_index(drop=True)"
   ]
  },
  {
   "cell_type": "code",
   "execution_count": 16,
   "id": "a6b2e744-a658-45ce-9351-5e95e6c7cad3",
   "metadata": {
    "execution": {
     "iopub.execute_input": "2023-03-03T04:47:12.702775Z",
     "iopub.status.busy": "2023-03-03T04:47:12.702589Z",
     "iopub.status.idle": "2023-03-03T04:47:12.720241Z",
     "shell.execute_reply": "2023-03-03T04:47:12.719466Z",
     "shell.execute_reply.started": "2023-03-03T04:47:12.702758Z"
    },
    "tags": []
   },
   "outputs": [],
   "source": [
    "dict_stars = {1:0,\n",
    "              2:0,\n",
    "              4:1,\n",
    "              5:1,\n",
    "             }\n",
    "\n",
    "df_all_filter['label'] = df_all_filter['stars'].map(dict_stars)"
   ]
  },
  {
   "cell_type": "code",
   "execution_count": 17,
   "id": "88f6d735-efd6-48aa-afbe-ae7ddb6e5030",
   "metadata": {
    "execution": {
     "iopub.execute_input": "2023-03-03T04:47:14.453057Z",
     "iopub.status.busy": "2023-03-03T04:47:14.452289Z",
     "iopub.status.idle": "2023-03-03T04:47:14.502619Z",
     "shell.execute_reply": "2023-03-03T04:47:14.501622Z",
     "shell.execute_reply.started": "2023-03-03T04:47:14.452987Z"
    },
    "tags": []
   },
   "outputs": [
    {
     "data": {
      "text/html": [
       "<div>\n",
       "<style scoped>\n",
       "    .dataframe tbody tr th:only-of-type {\n",
       "        vertical-align: middle;\n",
       "    }\n",
       "\n",
       "    .dataframe tbody tr th {\n",
       "        vertical-align: top;\n",
       "    }\n",
       "\n",
       "    .dataframe thead th {\n",
       "        text-align: right;\n",
       "    }\n",
       "</style>\n",
       "<table border=\"1\" class=\"dataframe\">\n",
       "  <thead>\n",
       "    <tr style=\"text-align: right;\">\n",
       "      <th></th>\n",
       "      <th>review_year</th>\n",
       "      <th>label</th>\n",
       "      <th>size</th>\n",
       "    </tr>\n",
       "  </thead>\n",
       "  <tbody>\n",
       "    <tr>\n",
       "      <th>0</th>\n",
       "      <td>2005</td>\n",
       "      <td>0</td>\n",
       "      <td>4</td>\n",
       "    </tr>\n",
       "    <tr>\n",
       "      <th>1</th>\n",
       "      <td>2005</td>\n",
       "      <td>1</td>\n",
       "      <td>12</td>\n",
       "    </tr>\n",
       "    <tr>\n",
       "      <th>2</th>\n",
       "      <td>2006</td>\n",
       "      <td>0</td>\n",
       "      <td>21</td>\n",
       "    </tr>\n",
       "    <tr>\n",
       "      <th>3</th>\n",
       "      <td>2006</td>\n",
       "      <td>1</td>\n",
       "      <td>101</td>\n",
       "    </tr>\n",
       "    <tr>\n",
       "      <th>4</th>\n",
       "      <td>2007</td>\n",
       "      <td>0</td>\n",
       "      <td>80</td>\n",
       "    </tr>\n",
       "    <tr>\n",
       "      <th>5</th>\n",
       "      <td>2007</td>\n",
       "      <td>1</td>\n",
       "      <td>389</td>\n",
       "    </tr>\n",
       "    <tr>\n",
       "      <th>6</th>\n",
       "      <td>2008</td>\n",
       "      <td>0</td>\n",
       "      <td>259</td>\n",
       "    </tr>\n",
       "    <tr>\n",
       "      <th>7</th>\n",
       "      <td>2008</td>\n",
       "      <td>1</td>\n",
       "      <td>1332</td>\n",
       "    </tr>\n",
       "    <tr>\n",
       "      <th>8</th>\n",
       "      <td>2009</td>\n",
       "      <td>0</td>\n",
       "      <td>525</td>\n",
       "    </tr>\n",
       "    <tr>\n",
       "      <th>9</th>\n",
       "      <td>2009</td>\n",
       "      <td>1</td>\n",
       "      <td>1763</td>\n",
       "    </tr>\n",
       "    <tr>\n",
       "      <th>10</th>\n",
       "      <td>2010</td>\n",
       "      <td>0</td>\n",
       "      <td>1195</td>\n",
       "    </tr>\n",
       "    <tr>\n",
       "      <th>11</th>\n",
       "      <td>2010</td>\n",
       "      <td>1</td>\n",
       "      <td>3631</td>\n",
       "    </tr>\n",
       "    <tr>\n",
       "      <th>12</th>\n",
       "      <td>2011</td>\n",
       "      <td>0</td>\n",
       "      <td>2378</td>\n",
       "    </tr>\n",
       "    <tr>\n",
       "      <th>13</th>\n",
       "      <td>2011</td>\n",
       "      <td>1</td>\n",
       "      <td>6514</td>\n",
       "    </tr>\n",
       "    <tr>\n",
       "      <th>14</th>\n",
       "      <td>2012</td>\n",
       "      <td>0</td>\n",
       "      <td>3942</td>\n",
       "    </tr>\n",
       "    <tr>\n",
       "      <th>15</th>\n",
       "      <td>2012</td>\n",
       "      <td>1</td>\n",
       "      <td>9609</td>\n",
       "    </tr>\n",
       "    <tr>\n",
       "      <th>16</th>\n",
       "      <td>2013</td>\n",
       "      <td>0</td>\n",
       "      <td>6340</td>\n",
       "    </tr>\n",
       "    <tr>\n",
       "      <th>17</th>\n",
       "      <td>2013</td>\n",
       "      <td>1</td>\n",
       "      <td>14802</td>\n",
       "    </tr>\n",
       "    <tr>\n",
       "      <th>18</th>\n",
       "      <td>2014</td>\n",
       "      <td>0</td>\n",
       "      <td>9730</td>\n",
       "    </tr>\n",
       "    <tr>\n",
       "      <th>19</th>\n",
       "      <td>2014</td>\n",
       "      <td>1</td>\n",
       "      <td>20685</td>\n",
       "    </tr>\n",
       "    <tr>\n",
       "      <th>20</th>\n",
       "      <td>2015</td>\n",
       "      <td>0</td>\n",
       "      <td>14836</td>\n",
       "    </tr>\n",
       "    <tr>\n",
       "      <th>21</th>\n",
       "      <td>2015</td>\n",
       "      <td>1</td>\n",
       "      <td>29166</td>\n",
       "    </tr>\n",
       "    <tr>\n",
       "      <th>22</th>\n",
       "      <td>2016</td>\n",
       "      <td>0</td>\n",
       "      <td>17939</td>\n",
       "    </tr>\n",
       "    <tr>\n",
       "      <th>23</th>\n",
       "      <td>2016</td>\n",
       "      <td>1</td>\n",
       "      <td>36036</td>\n",
       "    </tr>\n",
       "    <tr>\n",
       "      <th>24</th>\n",
       "      <td>2017</td>\n",
       "      <td>0</td>\n",
       "      <td>20626</td>\n",
       "    </tr>\n",
       "    <tr>\n",
       "      <th>25</th>\n",
       "      <td>2017</td>\n",
       "      <td>1</td>\n",
       "      <td>40209</td>\n",
       "    </tr>\n",
       "    <tr>\n",
       "      <th>26</th>\n",
       "      <td>2018</td>\n",
       "      <td>0</td>\n",
       "      <td>25118</td>\n",
       "    </tr>\n",
       "    <tr>\n",
       "      <th>27</th>\n",
       "      <td>2018</td>\n",
       "      <td>1</td>\n",
       "      <td>46249</td>\n",
       "    </tr>\n",
       "    <tr>\n",
       "      <th>28</th>\n",
       "      <td>2019</td>\n",
       "      <td>0</td>\n",
       "      <td>28840</td>\n",
       "    </tr>\n",
       "    <tr>\n",
       "      <th>29</th>\n",
       "      <td>2019</td>\n",
       "      <td>1</td>\n",
       "      <td>51588</td>\n",
       "    </tr>\n",
       "    <tr>\n",
       "      <th>30</th>\n",
       "      <td>2020</td>\n",
       "      <td>0</td>\n",
       "      <td>22880</td>\n",
       "    </tr>\n",
       "    <tr>\n",
       "      <th>31</th>\n",
       "      <td>2020</td>\n",
       "      <td>1</td>\n",
       "      <td>40101</td>\n",
       "    </tr>\n",
       "    <tr>\n",
       "      <th>32</th>\n",
       "      <td>2021</td>\n",
       "      <td>0</td>\n",
       "      <td>27840</td>\n",
       "    </tr>\n",
       "    <tr>\n",
       "      <th>33</th>\n",
       "      <td>2021</td>\n",
       "      <td>1</td>\n",
       "      <td>45974</td>\n",
       "    </tr>\n",
       "    <tr>\n",
       "      <th>34</th>\n",
       "      <td>2022</td>\n",
       "      <td>0</td>\n",
       "      <td>1623</td>\n",
       "    </tr>\n",
       "    <tr>\n",
       "      <th>35</th>\n",
       "      <td>2022</td>\n",
       "      <td>1</td>\n",
       "      <td>2722</td>\n",
       "    </tr>\n",
       "  </tbody>\n",
       "</table>\n",
       "</div>"
      ],
      "text/plain": [
       "    review_year  label   size\n",
       "0          2005      0      4\n",
       "1          2005      1     12\n",
       "2          2006      0     21\n",
       "3          2006      1    101\n",
       "4          2007      0     80\n",
       "5          2007      1    389\n",
       "6          2008      0    259\n",
       "7          2008      1   1332\n",
       "8          2009      0    525\n",
       "9          2009      1   1763\n",
       "10         2010      0   1195\n",
       "11         2010      1   3631\n",
       "12         2011      0   2378\n",
       "13         2011      1   6514\n",
       "14         2012      0   3942\n",
       "15         2012      1   9609\n",
       "16         2013      0   6340\n",
       "17         2013      1  14802\n",
       "18         2014      0   9730\n",
       "19         2014      1  20685\n",
       "20         2015      0  14836\n",
       "21         2015      1  29166\n",
       "22         2016      0  17939\n",
       "23         2016      1  36036\n",
       "24         2017      0  20626\n",
       "25         2017      1  40209\n",
       "26         2018      0  25118\n",
       "27         2018      1  46249\n",
       "28         2019      0  28840\n",
       "29         2019      1  51588\n",
       "30         2020      0  22880\n",
       "31         2020      1  40101\n",
       "32         2021      0  27840\n",
       "33         2021      1  45974\n",
       "34         2022      0   1623\n",
       "35         2022      1   2722"
      ]
     },
     "execution_count": 17,
     "metadata": {},
     "output_type": "execute_result"
    }
   ],
   "source": [
    "df_all_filter.groupby(['review_year','label'], as_index=False).size()"
   ]
  },
  {
   "cell_type": "code",
   "execution_count": 20,
   "id": "edc51bb4-43af-4cc1-aeb4-c4f8ecb1c200",
   "metadata": {
    "execution": {
     "iopub.execute_input": "2023-03-03T04:48:54.033039Z",
     "iopub.status.busy": "2023-03-03T04:48:54.032221Z",
     "iopub.status.idle": "2023-03-03T04:48:54.336118Z",
     "shell.execute_reply": "2023-03-03T04:48:54.334921Z",
     "shell.execute_reply.started": "2023-03-03T04:48:54.032964Z"
    },
    "tags": []
   },
   "outputs": [],
   "source": [
    "df_all_filter_year = df_all_filter.query(\"(review_year >= 2020) or (review_year <= 2015)\").copy().reset_index(drop=True)"
   ]
  },
  {
   "cell_type": "code",
   "execution_count": 21,
   "id": "76517339-1f2f-4d9c-b1e7-b35e62c86215",
   "metadata": {
    "execution": {
     "iopub.execute_input": "2023-03-03T04:48:54.470442Z",
     "iopub.status.busy": "2023-03-03T04:48:54.470255Z",
     "iopub.status.idle": "2023-03-03T04:48:54.539599Z",
     "shell.execute_reply": "2023-03-03T04:48:54.538739Z",
     "shell.execute_reply.started": "2023-03-03T04:48:54.470424Z"
    },
    "tags": []
   },
   "outputs": [],
   "source": [
    "\n",
    "df_all_filter_year['year_cut'] = df_all_filter_year['review_year'].transform(lambda x: \"<=2015\" if x <= 2015 else '>=2020')"
   ]
  },
  {
   "cell_type": "code",
   "execution_count": 22,
   "id": "cd9a5a9f-fe01-4d66-bed1-7788f4552b51",
   "metadata": {
    "execution": {
     "iopub.execute_input": "2023-03-03T04:49:00.138091Z",
     "iopub.status.busy": "2023-03-03T04:49:00.137301Z",
     "iopub.status.idle": "2023-03-03T04:49:00.191258Z",
     "shell.execute_reply": "2023-03-03T04:49:00.190126Z",
     "shell.execute_reply.started": "2023-03-03T04:49:00.138022Z"
    },
    "tags": []
   },
   "outputs": [
    {
     "data": {
      "text/html": [
       "<div>\n",
       "<style scoped>\n",
       "    .dataframe tbody tr th:only-of-type {\n",
       "        vertical-align: middle;\n",
       "    }\n",
       "\n",
       "    .dataframe tbody tr th {\n",
       "        vertical-align: top;\n",
       "    }\n",
       "\n",
       "    .dataframe thead th {\n",
       "        text-align: right;\n",
       "    }\n",
       "</style>\n",
       "<table border=\"1\" class=\"dataframe\">\n",
       "  <thead>\n",
       "    <tr style=\"text-align: right;\">\n",
       "      <th></th>\n",
       "      <th>year_cut</th>\n",
       "      <th>label</th>\n",
       "      <th>size</th>\n",
       "    </tr>\n",
       "  </thead>\n",
       "  <tbody>\n",
       "    <tr>\n",
       "      <th>0</th>\n",
       "      <td>&lt;=2015</td>\n",
       "      <td>0</td>\n",
       "      <td>39310</td>\n",
       "    </tr>\n",
       "    <tr>\n",
       "      <th>1</th>\n",
       "      <td>&lt;=2015</td>\n",
       "      <td>1</td>\n",
       "      <td>88004</td>\n",
       "    </tr>\n",
       "    <tr>\n",
       "      <th>2</th>\n",
       "      <td>&gt;=2020</td>\n",
       "      <td>0</td>\n",
       "      <td>52343</td>\n",
       "    </tr>\n",
       "    <tr>\n",
       "      <th>3</th>\n",
       "      <td>&gt;=2020</td>\n",
       "      <td>1</td>\n",
       "      <td>88797</td>\n",
       "    </tr>\n",
       "  </tbody>\n",
       "</table>\n",
       "</div>"
      ],
      "text/plain": [
       "  year_cut  label   size\n",
       "0   <=2015      0  39310\n",
       "1   <=2015      1  88004\n",
       "2   >=2020      0  52343\n",
       "3   >=2020      1  88797"
      ]
     },
     "execution_count": 22,
     "metadata": {},
     "output_type": "execute_result"
    }
   ],
   "source": [
    "df_all_filter_year.groupby(['year_cut','label'], as_index=False).size()"
   ]
  },
  {
   "cell_type": "code",
   "execution_count": 23,
   "id": "dcafdd52-3814-4b18-b204-7dc48d37f002",
   "metadata": {
    "execution": {
     "iopub.execute_input": "2023-03-03T04:49:19.260684Z",
     "iopub.status.busy": "2023-03-03T04:49:19.259899Z",
     "iopub.status.idle": "2023-03-03T04:49:19.546871Z",
     "shell.execute_reply": "2023-03-03T04:49:19.546096Z",
     "shell.execute_reply.started": "2023-03-03T04:49:19.260612Z"
    },
    "tags": []
   },
   "outputs": [],
   "source": [
    "df0 = df_all_filter_year.query(\"year_cut == '<=2015'\")\n",
    "df1 = df_all_filter_year.query(\"year_cut == '>=2020'\")"
   ]
  },
  {
   "cell_type": "code",
   "execution_count": 24,
   "id": "8824ff31-f32f-4506-a41c-5b85f1f8d33e",
   "metadata": {
    "execution": {
     "iopub.execute_input": "2023-03-03T04:49:20.165314Z",
     "iopub.status.busy": "2023-03-03T04:49:20.164893Z",
     "iopub.status.idle": "2023-03-03T04:49:20.175245Z",
     "shell.execute_reply": "2023-03-03T04:49:20.173822Z",
     "shell.execute_reply.started": "2023-03-03T04:49:20.165279Z"
    },
    "tags": []
   },
   "outputs": [
    {
     "data": {
      "text/plain": [
       "Index(['review_id', 'user_id', 'business_id', 'stars', 'useful', 'funny',\n",
       "       'cool', 'text', 'date', 'city', 'state', 'is_open', 'review_year',\n",
       "       'label', 'year_cut'],\n",
       "      dtype='object')"
      ]
     },
     "execution_count": 24,
     "metadata": {},
     "output_type": "execute_result"
    }
   ],
   "source": [
    "df0.columns"
   ]
  },
  {
   "cell_type": "code",
   "execution_count": 25,
   "id": "2d3988e7-f07e-46a7-9be2-327a4077994a",
   "metadata": {
    "execution": {
     "iopub.execute_input": "2023-03-03T04:49:33.834562Z",
     "iopub.status.busy": "2023-03-03T04:49:33.833693Z",
     "iopub.status.idle": "2023-03-03T04:49:39.112255Z",
     "shell.execute_reply": "2023-03-03T04:49:39.110740Z",
     "shell.execute_reply.started": "2023-03-03T04:49:33.834488Z"
    },
    "tags": []
   },
   "outputs": [],
   "source": [
    "cols_select = ['business_id', 'review_id', 'state', 'review_year','year_cut','label', 'text']\n",
    "\n",
    "df0[cols_select].to_csv(\"/bime-munin/xiruod/data/yelp_dataset/processed/yelp_year_before2015.csv\")\n",
    "df1[cols_select].to_csv(\"/bime-munin/xiruod/data/yelp_dataset/processed/yelp_year_after2020.csv\")"
   ]
  },
  {
   "cell_type": "code",
   "execution_count": 28,
   "id": "5dc76d6c-8147-4d42-8473-5f77a396c96c",
   "metadata": {
    "execution": {
     "iopub.execute_input": "2023-03-03T04:51:46.422930Z",
     "iopub.status.busy": "2023-03-03T04:51:46.422192Z",
     "iopub.status.idle": "2023-03-03T04:51:46.431539Z",
     "shell.execute_reply": "2023-03-03T04:51:46.430307Z",
     "shell.execute_reply.started": "2023-03-03T04:51:46.422860Z"
    },
    "tags": []
   },
   "outputs": [
    {
     "data": {
      "text/plain": [
       "0.7333333333333334"
      ]
     },
     "execution_count": 28,
     "metadata": {},
     "output_type": "execute_result"
    }
   ],
   "source": [
    "8.8/12"
   ]
  },
  {
   "cell_type": "code",
   "execution_count": 29,
   "id": "ad606bff-1b1a-4114-b187-2477f7066b76",
   "metadata": {
    "execution": {
     "iopub.execute_input": "2023-03-03T04:51:52.569540Z",
     "iopub.status.busy": "2023-03-03T04:51:52.568745Z",
     "iopub.status.idle": "2023-03-03T04:51:52.578419Z",
     "shell.execute_reply": "2023-03-03T04:51:52.577048Z",
     "shell.execute_reply.started": "2023-03-03T04:51:52.569470Z"
    },
    "tags": []
   },
   "outputs": [
    {
     "data": {
      "text/plain": [
       "0.676923076923077"
      ]
     },
     "execution_count": 29,
     "metadata": {},
     "output_type": "execute_result"
    }
   ],
   "source": [
    "8.8/13"
   ]
  },
  {
   "cell_type": "code",
   "execution_count": 30,
   "id": "2a74c7cc-b67f-4ba0-8040-411deb46836d",
   "metadata": {
    "execution": {
     "iopub.execute_input": "2023-03-03T04:52:19.891643Z",
     "iopub.status.busy": "2023-03-03T04:52:19.890865Z",
     "iopub.status.idle": "2023-03-03T04:52:19.900394Z",
     "shell.execute_reply": "2023-03-03T04:52:19.899094Z",
     "shell.execute_reply.started": "2023-03-03T04:52:19.891574Z"
    }
   },
   "outputs": [
    {
     "data": {
      "text/plain": [
       "268454"
      ]
     },
     "execution_count": 30,
     "metadata": {},
     "output_type": "execute_result"
    }
   ],
   "source": [
    "len(df_all_filter_year)"
   ]
  },
  {
   "cell_type": "code",
   "execution_count": null,
   "id": "54761b9a-7620-4feb-b623-7fe96eae9e18",
   "metadata": {},
   "outputs": [],
   "source": []
  }
 ],
 "metadata": {
  "kernelspec": {
   "display_name": "Python 3",
   "language": "python",
   "name": "python3"
  },
  "language_info": {
   "codemirror_mode": {
    "name": "ipython",
    "version": 3
   },
   "file_extension": ".py",
   "mimetype": "text/x-python",
   "name": "python",
   "nbconvert_exporter": "python",
   "pygments_lexer": "ipython3",
   "version": "3.8.10"
  }
 },
 "nbformat": 4,
 "nbformat_minor": 5
}
