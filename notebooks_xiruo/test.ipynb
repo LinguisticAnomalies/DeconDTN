{
 "cells": [
  {
   "cell_type": "code",
   "execution_count": 1,
   "id": "a5cfda5a-bfd3-4a5b-ba7f-bf921ce53ee9",
   "metadata": {
    "execution": {
     "iopub.execute_input": "2023-09-06T04:04:26.641575Z",
     "iopub.status.busy": "2023-09-06T04:04:26.640794Z",
     "iopub.status.idle": "2023-09-06T04:04:29.845368Z",
     "shell.execute_reply": "2023-09-06T04:04:29.844223Z",
     "shell.execute_reply.started": "2023-09-06T04:04:26.641531Z"
    }
   },
   "outputs": [
    {
     "name": "stdout",
     "output_type": "stream",
     "text": [
      "\n",
      "===================================BUG REPORT===================================\n",
      "Welcome to bitsandbytes. For bug reports, please run\n",
      "\n",
      "python -m bitsandbytes\n",
      "\n",
      " and submit this information together with your error trace to: https://github.com/TimDettmers/bitsandbytes/issues\n",
      "================================================================================\n",
      "bin /home/NETID/xiruod/anaconda3/envs/llama2/lib/python3.9/site-packages/bitsandbytes/libbitsandbytes_cpu.so\n",
      "/home/NETID/xiruod/anaconda3/envs/llama2/lib/python3.9/site-packages/bitsandbytes/libbitsandbytes_cpu.so: undefined symbol: cadam32bit_grad_fp32\n",
      "CUDA SETUP: WARNING! libcuda.so not found! Do you have a CUDA driver installed? If you are on a cluster, make sure you are on a CUDA machine!\n",
      "CUDA SETUP: CUDA runtime path found: /home/NETID/xiruod/anaconda3/envs/llama2/lib/libcudart.so\n",
      "CUDA SETUP: Loading binary /home/NETID/xiruod/anaconda3/envs/llama2/lib/python3.9/site-packages/bitsandbytes/libbitsandbytes_cpu.so...\n"
     ]
    },
    {
     "name": "stderr",
     "output_type": "stream",
     "text": [
      "/home/NETID/xiruod/anaconda3/envs/llama2/lib/python3.9/site-packages/bitsandbytes/cextension.py:34: UserWarning: The installed version of bitsandbytes was compiled without GPU support. 8-bit optimizers, 8-bit multiplication, and GPU quantization are unavailable.\n",
      "  warn(\"The installed version of bitsandbytes was compiled without GPU support. \"\n",
      "/home/NETID/xiruod/anaconda3/envs/llama2/lib/python3.9/site-packages/bitsandbytes/cuda_setup/main.py:149: UserWarning: Found duplicate ['libcudart.so', 'libcudart.so.11.0', 'libcudart.so.12.0'] files: {PosixPath('/home/NETID/xiruod/anaconda3/envs/llama2/lib/libcudart.so'), PosixPath('/home/NETID/xiruod/anaconda3/envs/llama2/lib/libcudart.so.11.0')}.. We'll flip a coin and try one of these, in order to fail forward.\n",
      "Either way, this might cause trouble in the future:\n",
      "If you get `CUDA error: invalid device function` errors, the above might be the cause and the solution is to make sure only one ['libcudart.so', 'libcudart.so.11.0', 'libcudart.so.12.0'] in the paths that we search based on your env.\n",
      "  warn(msg)\n",
      "/home/NETID/xiruod/anaconda3/envs/llama2/lib/python3.9/site-packages/bitsandbytes/cuda_setup/main.py:149: UserWarning: WARNING: No GPU detected! Check your CUDA paths. Proceeding to load CPU-only library...\n",
      "  warn(msg)\n"
     ]
    }
   ],
   "source": [
    "import torch\n",
    "\n",
    "from transformers import BertForSequenceClassification, BertTokenizer"
   ]
  },
  {
   "cell_type": "code",
   "execution_count": 1,
   "id": "648804cd-cb2c-4feb-a0a7-43863a7e2c8b",
   "metadata": {
    "execution": {
     "iopub.execute_input": "2023-09-06T04:06:50.282515Z",
     "iopub.status.busy": "2023-09-06T04:06:50.281815Z",
     "iopub.status.idle": "2023-09-06T04:06:52.035329Z",
     "shell.execute_reply": "2023-09-06T04:06:52.033687Z",
     "shell.execute_reply.started": "2023-09-06T04:06:50.282454Z"
    }
   },
   "outputs": [],
   "source": [
    "import torch\n",
    "\n",
    "from transformers import AutoModelForSequenceClassification, AutoTokenizer"
   ]
  },
  {
   "cell_type": "code",
   "execution_count": 2,
   "id": "44691cae-c3e1-47f5-b961-58542119e548",
   "metadata": {
    "execution": {
     "iopub.execute_input": "2023-09-06T04:06:56.129545Z",
     "iopub.status.busy": "2023-09-06T04:06:56.128490Z",
     "iopub.status.idle": "2023-09-06T04:06:56.135898Z",
     "shell.execute_reply": "2023-09-06T04:06:56.134906Z",
     "shell.execute_reply.started": "2023-09-06T04:06:56.129488Z"
    }
   },
   "outputs": [],
   "source": [
    "device=\"cuda:0\""
   ]
  },
  {
   "cell_type": "code",
   "execution_count": null,
   "id": "d975e753-0dc4-427d-bc34-8823847a411a",
   "metadata": {
    "execution": {
     "iopub.execute_input": "2023-09-06T04:05:00.649303Z",
     "iopub.status.busy": "2023-09-06T04:05:00.648481Z",
     "iopub.status.idle": "2023-09-06T04:05:00.766114Z",
     "shell.execute_reply": "2023-09-06T04:05:00.765073Z",
     "shell.execute_reply.started": "2023-09-06T04:05:00.649251Z"
    }
   },
   "outputs": [],
   "source": [
    "model = BertForSequenceClassification.from_pretrained(\"bert-base-uncased\", num_labels = 5).to(device)\n",
    "\n",
    "tokenizer = BertTokenizer.from_pretrained(\"bert-base-uncased\")"
   ]
  },
  {
   "cell_type": "code",
   "execution_count": 3,
   "id": "a8aeeebc-07a2-476f-8835-a2e78f63ee81",
   "metadata": {
    "execution": {
     "iopub.execute_input": "2023-09-06T04:07:13.429993Z",
     "iopub.status.busy": "2023-09-06T04:07:13.429226Z",
     "iopub.status.idle": "2023-09-06T04:07:20.638231Z",
     "shell.execute_reply": "2023-09-06T04:07:20.636892Z",
     "shell.execute_reply.started": "2023-09-06T04:07:13.429942Z"
    }
   },
   "outputs": [
    {
     "name": "stdout",
     "output_type": "stream",
     "text": [
      "\n",
      "===================================BUG REPORT===================================\n",
      "Welcome to bitsandbytes. For bug reports, please run\n",
      "\n",
      "python -m bitsandbytes\n",
      "\n",
      " and submit this information together with your error trace to: https://github.com/TimDettmers/bitsandbytes/issues\n",
      "================================================================================\n",
      "bin /home/NETID/xiruod/anaconda3/envs/llama2/lib/python3.9/site-packages/bitsandbytes/libbitsandbytes_cpu.so\n",
      "/home/NETID/xiruod/anaconda3/envs/llama2/lib/python3.9/site-packages/bitsandbytes/libbitsandbytes_cpu.so: undefined symbol: cadam32bit_grad_fp32\n",
      "CUDA SETUP: WARNING! libcuda.so not found! Do you have a CUDA driver installed? If you are on a cluster, make sure you are on a CUDA machine!\n",
      "CUDA SETUP: CUDA runtime path found: /home/NETID/xiruod/anaconda3/envs/llama2/lib/libcudart.so.11.0\n",
      "CUDA SETUP: Loading binary /home/NETID/xiruod/anaconda3/envs/llama2/lib/python3.9/site-packages/bitsandbytes/libbitsandbytes_cpu.so...\n"
     ]
    },
    {
     "name": "stderr",
     "output_type": "stream",
     "text": [
      "/home/NETID/xiruod/anaconda3/envs/llama2/lib/python3.9/site-packages/bitsandbytes/cextension.py:34: UserWarning: The installed version of bitsandbytes was compiled without GPU support. 8-bit optimizers, 8-bit multiplication, and GPU quantization are unavailable.\n",
      "  warn(\"The installed version of bitsandbytes was compiled without GPU support. \"\n",
      "/home/NETID/xiruod/anaconda3/envs/llama2/lib/python3.9/site-packages/bitsandbytes/cuda_setup/main.py:149: UserWarning: Found duplicate ['libcudart.so', 'libcudart.so.11.0', 'libcudart.so.12.0'] files: {PosixPath('/home/NETID/xiruod/anaconda3/envs/llama2/lib/libcudart.so.11.0'), PosixPath('/home/NETID/xiruod/anaconda3/envs/llama2/lib/libcudart.so')}.. We'll flip a coin and try one of these, in order to fail forward.\n",
      "Either way, this might cause trouble in the future:\n",
      "If you get `CUDA error: invalid device function` errors, the above might be the cause and the solution is to make sure only one ['libcudart.so', 'libcudart.so.11.0', 'libcudart.so.12.0'] in the paths that we search based on your env.\n",
      "  warn(msg)\n",
      "/home/NETID/xiruod/anaconda3/envs/llama2/lib/python3.9/site-packages/bitsandbytes/cuda_setup/main.py:149: UserWarning: WARNING: No GPU detected! Check your CUDA paths. Proceeding to load CPU-only library...\n",
      "  warn(msg)\n",
      "Some weights of BertForSequenceClassification were not initialized from the model checkpoint at bert-base-uncased and are newly initialized: ['classifier.weight', 'classifier.bias']\n",
      "You should probably TRAIN this model on a down-stream task to be able to use it for predictions and inference.\n"
     ]
    },
    {
     "data": {
      "application/vnd.jupyter.widget-view+json": {
       "model_id": "34eadc8f4b5d4f8e986ad7f8a16161a1",
       "version_major": 2,
       "version_minor": 0
      },
      "text/plain": [
       "Downloading (…)/main/tokenizer.json:   0%|          | 0.00/466k [00:00<?, ?B/s]"
      ]
     },
     "metadata": {},
     "output_type": "display_data"
    }
   ],
   "source": [
    "model = AutoModelForSequenceClassification.from_pretrained(\"bert-base-uncased\", num_labels = 5).to(device)\n",
    "\n",
    "tokenizer = AutoTokenizer.from_pretrained(\"bert-base-uncased\")"
   ]
  },
  {
   "cell_type": "code",
   "execution_count": 4,
   "id": "8cc012bf-78a9-45bc-b5fb-5b99f1ae2423",
   "metadata": {
    "execution": {
     "iopub.execute_input": "2023-09-06T04:07:51.337425Z",
     "iopub.status.busy": "2023-09-06T04:07:51.336728Z",
     "iopub.status.idle": "2023-09-06T04:07:51.367287Z",
     "shell.execute_reply": "2023-09-06T04:07:51.366291Z",
     "shell.execute_reply.started": "2023-09-06T04:07:51.337359Z"
    }
   },
   "outputs": [],
   "source": [
    "test_prompt = [\"Hello this is just a test and no conversations involved.\", \"this is just a test\"]\n",
    "\n",
    "token_inputs = tokenizer(test_prompt, return_tensors='pt', max_length=20, padding='max_length', truncation=True).to(device)"
   ]
  },
  {
   "cell_type": "code",
   "execution_count": 5,
   "id": "f41890ed-f6f5-49eb-930b-049f8cac0fea",
   "metadata": {
    "execution": {
     "iopub.execute_input": "2023-09-06T04:07:51.686635Z",
     "iopub.status.busy": "2023-09-06T04:07:51.685853Z",
     "iopub.status.idle": "2023-09-06T04:07:51.708194Z",
     "shell.execute_reply": "2023-09-06T04:07:51.706311Z",
     "shell.execute_reply.started": "2023-09-06T04:07:51.686584Z"
    }
   },
   "outputs": [
    {
     "data": {
      "text/plain": [
       "{'input_ids': tensor([[  101,  7592,  2023,  2003,  2074,  1037,  3231,  1998,  2053, 11450,\n",
       "          2920,  1012,   102,     0,     0,     0,     0,     0,     0,     0],\n",
       "        [  101,  2023,  2003,  2074,  1037,  3231,   102,     0,     0,     0,\n",
       "             0,     0,     0,     0,     0,     0,     0,     0,     0,     0]],\n",
       "       device='cuda:0'), 'token_type_ids': tensor([[0, 0, 0, 0, 0, 0, 0, 0, 0, 0, 0, 0, 0, 0, 0, 0, 0, 0, 0, 0],\n",
       "        [0, 0, 0, 0, 0, 0, 0, 0, 0, 0, 0, 0, 0, 0, 0, 0, 0, 0, 0, 0]],\n",
       "       device='cuda:0'), 'attention_mask': tensor([[1, 1, 1, 1, 1, 1, 1, 1, 1, 1, 1, 1, 1, 0, 0, 0, 0, 0, 0, 0],\n",
       "        [1, 1, 1, 1, 1, 1, 1, 0, 0, 0, 0, 0, 0, 0, 0, 0, 0, 0, 0, 0]],\n",
       "       device='cuda:0')}"
      ]
     },
     "execution_count": 5,
     "metadata": {},
     "output_type": "execute_result"
    }
   ],
   "source": [
    "token_inputs"
   ]
  },
  {
   "cell_type": "code",
   "execution_count": 6,
   "id": "da6a8f1d-ee45-4333-86a7-173bdb2a6921",
   "metadata": {
    "execution": {
     "iopub.execute_input": "2023-09-06T04:07:52.734034Z",
     "iopub.status.busy": "2023-09-06T04:07:52.733260Z",
     "iopub.status.idle": "2023-09-06T04:07:55.880048Z",
     "shell.execute_reply": "2023-09-06T04:07:55.878450Z",
     "shell.execute_reply.started": "2023-09-06T04:07:52.733992Z"
    }
   },
   "outputs": [
    {
     "data": {
      "text/plain": [
       "SequenceClassifierOutput(loss=tensor(1.6030, device='cuda:0', grad_fn=<NllLossBackward0>), logits=tensor([[-0.1764,  0.3867,  0.2189, -0.3280, -0.9768],\n",
       "        [-0.1903,  0.2004,  0.3680, -0.2656, -0.2740]], device='cuda:0',\n",
       "       grad_fn=<AddmmBackward0>), hidden_states=None, attentions=None)"
      ]
     },
     "execution_count": 6,
     "metadata": {},
     "output_type": "execute_result"
    }
   ],
   "source": [
    "model(**token_inputs, labels=torch.tensor([[2],[4]]).to(device))"
   ]
  },
  {
   "cell_type": "code",
   "execution_count": null,
   "id": "64f9b50f-8055-4574-b52d-28f867e1581f",
   "metadata": {},
   "outputs": [],
   "source": []
  }
 ],
 "metadata": {
  "kernelspec": {
   "display_name": "Python 3 (ipykernel)",
   "language": "python",
   "name": "python3"
  },
  "language_info": {
   "codemirror_mode": {
    "name": "ipython",
    "version": 3
   },
   "file_extension": ".py",
   "mimetype": "text/x-python",
   "name": "python",
   "nbconvert_exporter": "python",
   "pygments_lexer": "ipython3",
   "version": "3.9.17"
  }
 },
 "nbformat": 4,
 "nbformat_minor": 5
}
