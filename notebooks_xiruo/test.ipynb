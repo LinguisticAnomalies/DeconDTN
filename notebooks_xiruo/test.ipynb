{
 "cells": [
  {
   "cell_type": "code",
   "execution_count": 13,
   "id": "6634a8ac-ab39-405d-a318-20f0223fb3f2",
   "metadata": {
    "execution": {
     "iopub.execute_input": "2023-07-19T05:35:53.250674Z",
     "iopub.status.busy": "2023-07-19T05:35:53.249837Z",
     "iopub.status.idle": "2023-07-19T05:35:53.257523Z",
     "shell.execute_reply": "2023-07-19T05:35:53.255753Z",
     "shell.execute_reply.started": "2023-07-19T05:35:53.250601Z"
    },
    "tags": []
   },
   "outputs": [],
   "source": [
    "from sentence_transformers import SentenceTransformer\n",
    "import torch"
   ]
  },
  {
   "cell_type": "code",
   "execution_count": 2,
   "id": "6e3b31fd-2632-4538-b409-f8ac558a803b",
   "metadata": {
    "execution": {
     "iopub.execute_input": "2023-07-19T05:19:27.124739Z",
     "iopub.status.busy": "2023-07-19T05:19:27.123657Z",
     "iopub.status.idle": "2023-07-19T05:19:27.758607Z",
     "shell.execute_reply": "2023-07-19T05:19:27.758082Z",
     "shell.execute_reply.started": "2023-07-19T05:19:27.124660Z"
    }
   },
   "outputs": [],
   "source": [
    "# transform = \"Sentence-BERT\"\n",
    "\n",
    "runs = 5\n",
    "\n",
    "model = SentenceTransformer('all-MiniLM-L6-v2')"
   ]
  },
  {
   "cell_type": "code",
   "execution_count": 5,
   "id": "6ed98c58-e891-4b27-b2e4-6a7d6d69fd14",
   "metadata": {
    "execution": {
     "iopub.execute_input": "2023-07-19T05:20:21.253868Z",
     "iopub.status.busy": "2023-07-19T05:20:21.253660Z",
     "iopub.status.idle": "2023-07-19T05:20:21.266172Z",
     "shell.execute_reply": "2023-07-19T05:20:21.265469Z",
     "shell.execute_reply.started": "2023-07-19T05:20:21.253849Z"
    },
    "tags": []
   },
   "outputs": [
    {
     "data": {
      "text/plain": [
       "(2, 384)"
      ]
     },
     "execution_count": 5,
     "metadata": {},
     "output_type": "execute_result"
    }
   ],
   "source": [
    "model.encode(['hello world', 'wayland']).shape"
   ]
  },
  {
   "cell_type": "code",
   "execution_count": null,
   "id": "5cd8a863-06f0-4b01-95e1-e776ed52da33",
   "metadata": {},
   "outputs": [],
   "source": []
  },
  {
   "cell_type": "code",
   "execution_count": 77,
   "id": "ff1ecbdc-04b6-4921-af35-a525ec122cc3",
   "metadata": {
    "execution": {
     "iopub.execute_input": "2023-07-19T06:22:30.928359Z",
     "iopub.status.busy": "2023-07-19T06:22:30.927444Z",
     "iopub.status.idle": "2023-07-19T06:22:34.124482Z",
     "shell.execute_reply": "2023-07-19T06:22:34.123735Z",
     "shell.execute_reply.started": "2023-07-19T06:22:30.928284Z"
    },
    "tags": []
   },
   "outputs": [
    {
     "name": "stderr",
     "output_type": "stream",
     "text": [
      "Some weights of the model checkpoint at medicalai/ClinicalBERT were not used when initializing DistilBertModel: ['vocab_transform.bias', 'vocab_projector.bias', 'vocab_transform.weight', 'vocab_projector.weight', 'vocab_layer_norm.weight', 'vocab_layer_norm.bias']\n",
      "- This IS expected if you are initializing DistilBertModel from the checkpoint of a model trained on another task or with another architecture (e.g. initializing a BertForSequenceClassification model from a BertForPreTraining model).\n",
      "- This IS NOT expected if you are initializing DistilBertModel from the checkpoint of a model that you expect to be exactly identical (initializing a BertForSequenceClassification model from a BertForSequenceClassification model).\n"
     ]
    }
   ],
   "source": [
    "from transformers import AutoTokenizer, AutoModel\n",
    "tokenizer = AutoTokenizer.from_pretrained(\"medicalai/ClinicalBERT\")\n",
    "model = AutoModel.from_pretrained(\"medicalai/ClinicalBERT\")"
   ]
  },
  {
   "cell_type": "code",
   "execution_count": 78,
   "id": "3e86becf-8e5c-4774-ada1-2ad28e9bf275",
   "metadata": {
    "execution": {
     "iopub.execute_input": "2023-07-19T06:22:34.125580Z",
     "iopub.status.busy": "2023-07-19T06:22:34.125392Z",
     "iopub.status.idle": "2023-07-19T06:22:34.130457Z",
     "shell.execute_reply": "2023-07-19T06:22:34.129736Z",
     "shell.execute_reply.started": "2023-07-19T06:22:34.125563Z"
    },
    "tags": []
   },
   "outputs": [],
   "source": [
    "inputs = tokenizer(\n",
    "\n",
    "    ['hello world', 'new york', 'nyt', \"ht is ks innah aiht kk hti\", \"ng DistilBertModel from the checkpoint of a model that you expect to be exactly identical (initializing a BertForSequenceClassification model from a BertForSequenceClassification model).\"],\n",
    "    # add_special_tokens=True, \n",
    "    return_tensors=\"pt\",\n",
    "    padding=True, truncation=True, max_length=128\n",
    "\n",
    ")"
   ]
  },
  {
   "cell_type": "code",
   "execution_count": 79,
   "id": "fd5e04ec-8ede-4f2a-a526-d8f0b6f38cf6",
   "metadata": {
    "execution": {
     "iopub.execute_input": "2023-07-19T06:22:34.131579Z",
     "iopub.status.busy": "2023-07-19T06:22:34.131415Z",
     "iopub.status.idle": "2023-07-19T06:22:34.140972Z",
     "shell.execute_reply": "2023-07-19T06:22:34.140392Z",
     "shell.execute_reply.started": "2023-07-19T06:22:34.131565Z"
    },
    "tags": []
   },
   "outputs": [
    {
     "data": {
      "text/plain": [
       "tensor([[  101, 61694, 10133, 11356,   102,     0,     0,     0,     0,     0,\n",
       "             0,     0,     0,     0,     0,     0,     0,     0,     0,     0,\n",
       "             0,     0,     0,     0,     0,     0,     0,     0,     0,     0,\n",
       "             0,     0,     0,     0,     0,     0,     0,     0,     0,     0,\n",
       "             0,     0,     0,     0,     0,     0,     0,     0,     0],\n",
       "        [  101, 10751, 13672, 16299,   102,     0,     0,     0,     0,     0,\n",
       "             0,     0,     0,     0,     0,     0,     0,     0,     0,     0,\n",
       "             0,     0,     0,     0,     0,     0,     0,     0,     0,     0,\n",
       "             0,     0,     0,     0,     0,     0,     0,     0,     0,     0,\n",
       "             0,     0,     0,     0,     0,     0,     0,     0,     0],\n",
       "        [  101, 58921,   102,     0,     0,     0,     0,     0,     0,     0,\n",
       "             0,     0,     0,     0,     0,     0,     0,     0,     0,     0,\n",
       "             0,     0,     0,     0,     0,     0,     0,     0,     0,     0,\n",
       "             0,     0,     0,     0,     0,     0,     0,     0,     0,     0,\n",
       "             0,     0,     0,     0,     0,     0,     0,     0,     0],\n",
       "        [  101,   176, 10123, 10124, 31167, 15203, 12257, 11346, 13599,   179,\n",
       "         10174,   176, 10325,   102,     0,     0,     0,     0,     0,     0,\n",
       "             0,     0,     0,     0,     0,     0,     0,     0,     0,     0,\n",
       "             0,     0,     0,     0,     0,     0,     0,     0,     0,     0,\n",
       "             0,     0,     0,     0,     0,     0,     0,     0,     0],\n",
       "        [  101, 10743, 27920, 19156, 18072, 11033, 14494, 10188, 10105, 43662,\n",
       "         45676, 10108,   169, 13192, 10189, 13028, 11419, 51511, 10114, 10347,\n",
       "         62136, 58000,   113, 21713, 39949,   169, 10347, 10976, 61668, 10112,\n",
       "         72494, 60582, 28377, 22060, 13192, 10188,   169, 10347, 10976, 61668,\n",
       "         10112, 72494, 60582, 28377, 22060, 13192,   114,   119,   102]])"
      ]
     },
     "execution_count": 79,
     "metadata": {},
     "output_type": "execute_result"
    }
   ],
   "source": [
    "inputs['input_ids']"
   ]
  },
  {
   "cell_type": "code",
   "execution_count": 84,
   "id": "13e7a113-1551-44cb-bc4a-50034074ee11",
   "metadata": {
    "execution": {
     "iopub.execute_input": "2023-07-19T06:22:55.306881Z",
     "iopub.status.busy": "2023-07-19T06:22:55.306065Z",
     "iopub.status.idle": "2023-07-19T06:22:55.316547Z",
     "shell.execute_reply": "2023-07-19T06:22:55.315159Z",
     "shell.execute_reply.started": "2023-07-19T06:22:55.306813Z"
    },
    "tags": []
   },
   "outputs": [],
   "source": [
    "with torch.no_grad():\n",
    "\n",
    "    outputs = model(**inputs)\n",
    "\n",
    "# predicted_token_class_ids = logits.argmax(-1)\n",
    "\n",
    "outputs['last_hidden_state'][:,0,:].shape"
   ]
  },
  {
   "cell_type": "code",
   "execution_count": null,
   "id": "e72c593e-121e-4fc1-b6f9-fd9b27663f06",
   "metadata": {},
   "outputs": [],
   "source": [
    "tokenizer()"
   ]
  }
 ],
 "metadata": {
  "kernelspec": {
   "display_name": "Python 3",
   "language": "python",
   "name": "python3"
  },
  "language_info": {
   "codemirror_mode": {
    "name": "ipython",
    "version": 3
   },
   "file_extension": ".py",
   "mimetype": "text/x-python",
   "name": "python",
   "nbconvert_exporter": "python",
   "pygments_lexer": "ipython3",
   "version": "3.8.10"
  }
 },
 "nbformat": 4,
 "nbformat_minor": 5
}
