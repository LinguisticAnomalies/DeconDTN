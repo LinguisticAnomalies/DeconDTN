{
 "cells": [
  {
   "cell_type": "markdown",
   "id": "dd6c45e9-92d7-40b7-ba53-5664f3577c8f",
   "metadata": {},
   "source": [
    "# Init"
   ]
  },
  {
   "cell_type": "code",
   "execution_count": 1,
   "id": "52a74e7e-6589-42f3-aff8-290a0e16afb3",
   "metadata": {
    "execution": {
     "iopub.execute_input": "2024-03-18T18:28:04.864122Z",
     "iopub.status.busy": "2024-03-18T18:28:04.863514Z",
     "iopub.status.idle": "2024-03-18T18:28:04.879263Z",
     "shell.execute_reply": "2024-03-18T18:28:04.878022Z",
     "shell.execute_reply.started": "2024-03-18T18:28:04.864057Z"
    },
    "tags": []
   },
   "outputs": [],
   "source": [
    "import os\n",
    "os.environ[\"CUDA_DEVICE_ORDER\"]=\"PCI_BUS_ID\"   # see issue #152\n",
    "os.environ[\"CUDA_VISIBLE_DEVICES\"]=\"0,2\"\n",
    "\n"
   ]
  },
  {
   "cell_type": "code",
   "execution_count": 2,
   "id": "b4f745af-297c-4088-9f51-2af80cec233b",
   "metadata": {
    "execution": {
     "iopub.execute_input": "2024-03-18T18:28:04.882284Z",
     "iopub.status.busy": "2024-03-18T18:28:04.881717Z",
     "iopub.status.idle": "2024-03-18T18:28:09.957353Z",
     "shell.execute_reply": "2024-03-18T18:28:09.955572Z",
     "shell.execute_reply.started": "2024-03-18T18:28:04.882255Z"
    },
    "tags": []
   },
   "outputs": [],
   "source": [
    "from peft import (\n",
    "    get_peft_model,\n",
    "    LoraConfig,\n",
    "    TaskType,\n",
    "    prepare_model_for_int8_training,\n",
    ")\n",
    "from peft import PeftModel"
   ]
  },
  {
   "cell_type": "code",
   "execution_count": 3,
   "id": "ce0dbdc6-16ed-43dc-be19-1231d97ca8cd",
   "metadata": {
    "execution": {
     "iopub.execute_input": "2024-03-18T18:28:09.960385Z",
     "iopub.status.busy": "2024-03-18T18:28:09.959479Z",
     "iopub.status.idle": "2024-03-18T18:28:09.974038Z",
     "shell.execute_reply": "2024-03-18T18:28:09.972849Z",
     "shell.execute_reply.started": "2024-03-18T18:28:09.960328Z"
    },
    "tags": []
   },
   "outputs": [],
   "source": [
    "import os\n",
    "import argparse\n",
    "\n",
    "parser = argparse.ArgumentParser()\n",
    "\n",
    "# Adding optional argument\n",
    "parser.add_argument(\"-c\", \"--CombinationIdx\", type=int, help=\"Set idx of c to use\")\n",
    "parser.add_argument(\"-q\", \"--quantization\", action=\"store_true\")\n",
    "parser.add_argument(\"--lora_r\", type=int, default=8, help=\"Set LoRA r value\")\n",
    "parser.add_argument(\n",
    "    \"--model_size\", type=int, default=7, help=\"Llama 2 size: 7, 13, or 70\"\n",
    ")\n",
    "parser.add_argument(\n",
    "    \"--toPredict\", default=\"Target\", help=\"Target vs Source\"\n",
    ")\n",
    "parser.add_argument(\n",
    "    \"--gpu\",\n",
    "    type=str,\n",
    "    default=\"0\",\n",
    "    help=\"On which GPU to run\",\n",
    ")\n",
    "parser.add_argument(\n",
    "    \"--nTest\",\n",
    "    type=int,\n",
    "    default=200,\n",
    "    help=\"Number of testing samples\",\n",
    ")\n",
    "args = parser.parse_args(args=[\"--model_size=7\", \"-c=1355\", '--lora_r=8', \"--toPredict=Target\", \"--gpu=2\", \"--nTest=500\",\"--quantization\"])"
   ]
  },
  {
   "cell_type": "code",
   "execution_count": 4,
   "id": "4678bd7d-ebaa-4116-9bde-702a29233124",
   "metadata": {
    "execution": {
     "iopub.execute_input": "2024-03-18T18:28:09.976501Z",
     "iopub.status.busy": "2024-03-18T18:28:09.975609Z",
     "iopub.status.idle": "2024-03-18T18:28:09.996813Z",
     "shell.execute_reply": "2024-03-18T18:28:09.995616Z",
     "shell.execute_reply.started": "2024-03-18T18:28:09.976454Z"
    },
    "tags": []
   },
   "outputs": [
    {
     "data": {
      "text/plain": [
       "Namespace(CombinationIdx=1355, quantization=True, lora_r=8, model_size=7, toPredict='Target', gpu='2', nTest=500)"
      ]
     },
     "execution_count": 4,
     "metadata": {},
     "output_type": "execute_result"
    }
   ],
   "source": [
    "args"
   ]
  },
  {
   "cell_type": "code",
   "execution_count": 5,
   "id": "4ef72126-147f-4113-a5e7-cc215d1a8e81",
   "metadata": {
    "execution": {
     "iopub.execute_input": "2024-03-18T18:28:10.000729Z",
     "iopub.status.busy": "2024-03-18T18:28:09.999847Z",
     "iopub.status.idle": "2024-03-18T18:28:11.201331Z",
     "shell.execute_reply": "2024-03-18T18:28:11.199955Z",
     "shell.execute_reply.started": "2024-03-18T18:28:10.000681Z"
    },
    "tags": []
   },
   "outputs": [],
   "source": [
    "\n",
    "import sys\n",
    "import itertools\n",
    "from tqdm.auto import tqdm\n",
    "import pathlib\n",
    "import numpy as np\n",
    "import pandas as pd\n",
    "from sklearn.metrics import average_precision_score\n",
    "\n",
    "import datasets\n",
    "from contextlib import nullcontext\n",
    "import torch\n",
    "from torch import nn\n",
    "from transformers import (\n",
    "    Trainer,\n",
    "    TrainingArguments,\n",
    "    LlamaTokenizer,\n",
    "    LlamaForSequenceClassification,\n",
    "    TrainerCallback,\n",
    "    default_data_collator,\n",
    ")\n"
   ]
  },
  {
   "cell_type": "code",
   "execution_count": 6,
   "id": "c90ee8cc-71d7-403a-9efc-0606ce0b14b9",
   "metadata": {
    "execution": {
     "iopub.execute_input": "2024-03-18T18:28:11.203563Z",
     "iopub.status.busy": "2024-03-18T18:28:11.202900Z",
     "iopub.status.idle": "2024-03-18T18:28:11.210240Z",
     "shell.execute_reply": "2024-03-18T18:28:11.209220Z",
     "shell.execute_reply.started": "2024-03-18T18:28:11.203509Z"
    },
    "tags": []
   },
   "outputs": [],
   "source": [
    "class train_config:\n",
    "    def __init__(self):\n",
    "        self.quantization: bool = False\n",
    "\n",
    "        \n",
    "\n",
    "\n",
    "globalconfig = train_config()\n",
    "globalconfig.quantization = args.quantization\n",
    "globalconfig.model_id = f\"/bime-munin/llama2_hf/llama-2-{args.model_size}b_hf/\""
   ]
  },
  {
   "cell_type": "code",
   "execution_count": null,
   "id": "53053a00-9168-49ae-a2ee-0acbdb9fcd87",
   "metadata": {},
   "outputs": [],
   "source": []
  },
  {
   "cell_type": "markdown",
   "id": "2fcc212f-dedd-482d-be99-89613ab713fc",
   "metadata": {
    "tags": []
   },
   "source": [
    "# Load Model"
   ]
  },
  {
   "cell_type": "code",
   "execution_count": 7,
   "id": "8eab7cac-9e29-4851-a183-7ad6f1778d6b",
   "metadata": {
    "execution": {
     "iopub.execute_input": "2024-03-18T18:28:11.213000Z",
     "iopub.status.busy": "2024-03-18T18:28:11.211879Z",
     "iopub.status.idle": "2024-03-18T18:28:11.220659Z",
     "shell.execute_reply": "2024-03-18T18:28:11.219438Z",
     "shell.execute_reply.started": "2024-03-18T18:28:11.212952Z"
    },
    "tags": []
   },
   "outputs": [],
   "source": [
    "target_model_id = \"/bime-munin/xiruod/llama2_SHAC/n500/set-1355-quantization-epoch3-llama-2-7B-loraR-8\"\n",
    "source_model_id = \"/bime-munin/xiruod/llama2_SHAC/n500/Source-set-1355-quantization-epoch3-llama-2-7B-loraR-8\"\n",
    "\n"
   ]
  },
  {
   "cell_type": "code",
   "execution_count": 8,
   "id": "71cb85d6-b3af-4f29-9de3-3123e038b649",
   "metadata": {
    "execution": {
     "iopub.execute_input": "2024-03-18T18:28:11.223007Z",
     "iopub.status.busy": "2024-03-18T18:28:11.222113Z",
     "iopub.status.idle": "2024-03-18T18:28:11.306863Z",
     "shell.execute_reply": "2024-03-18T18:28:11.305525Z",
     "shell.execute_reply.started": "2024-03-18T18:28:11.222964Z"
    },
    "tags": []
   },
   "outputs": [
    {
     "data": {
      "text/plain": [
       "1"
      ]
     },
     "execution_count": 8,
     "metadata": {},
     "output_type": "execute_result"
    }
   ],
   "source": [
    "##### Tokenizer\n",
    "tokenizer = LlamaTokenizer.from_pretrained(f\"/bime-munin/llama2_hf/llama-2-7b_hf/\")\n",
    "\n",
    "tokenizer.add_special_tokens({\"pad_token\": \"<pad>\"})"
   ]
  },
  {
   "cell_type": "code",
   "execution_count": null,
   "id": "c82645a4-5ac6-4d24-a63d-e3eefd825be0",
   "metadata": {},
   "outputs": [],
   "source": []
  },
  {
   "cell_type": "code",
   "execution_count": 9,
   "id": "25fc3f4a-0770-4d97-998e-2d3f037d019e",
   "metadata": {
    "execution": {
     "iopub.execute_input": "2024-03-18T06:19:36.137527Z",
     "iopub.status.busy": "2024-03-18T06:19:36.137083Z",
     "iopub.status.idle": "2024-03-18T06:23:03.010720Z",
     "shell.execute_reply": "2024-03-18T06:23:03.009194Z",
     "shell.execute_reply.started": "2024-03-18T06:19:36.137476Z"
    },
    "tags": []
   },
   "outputs": [
    {
     "data": {
      "application/vnd.jupyter.widget-view+json": {
       "model_id": "d9734bd45548488ca4c0769e82cb1db0",
       "version_major": 2,
       "version_minor": 0
      },
      "text/plain": [
       "Loading checkpoint shards:   0%|          | 0/2 [00:00<?, ?it/s]"
      ]
     },
     "metadata": {},
     "output_type": "display_data"
    },
    {
     "name": "stderr",
     "output_type": "stream",
     "text": [
      "Some weights of LlamaForSequenceClassification were not initialized from the model checkpoint at /bime-munin/llama2_hf/llama-2-7b_hf/ and are newly initialized: ['score.weight']\n",
      "You should probably TRAIN this model on a down-stream task to be able to use it for predictions and inference.\n"
     ]
    }
   ],
   "source": [
    "model = LlamaForSequenceClassification.from_pretrained(globalconfig.model_id, device_map='auto', load_in_8bit=args.quantization, torch_dtype=torch.float16)"
   ]
  },
  {
   "cell_type": "code",
   "execution_count": 10,
   "id": "3010514e-43d8-45bb-8600-78f486ea5b8c",
   "metadata": {
    "execution": {
     "iopub.execute_input": "2024-03-18T06:23:03.013540Z",
     "iopub.status.busy": "2024-03-18T06:23:03.012950Z",
     "iopub.status.idle": "2024-03-18T06:23:03.029332Z",
     "shell.execute_reply": "2024-03-18T06:23:03.028080Z",
     "shell.execute_reply.started": "2024-03-18T06:23:03.013487Z"
    },
    "tags": []
   },
   "outputs": [
    {
     "data": {
      "text/plain": [
       "Embedding(32128, 4096)"
      ]
     },
     "execution_count": 10,
     "metadata": {},
     "output_type": "execute_result"
    }
   ],
   "source": [
    "model.config.pad_token_id = tokenizer.pad_token_id\n",
    "\n",
    "model.resize_token_embeddings(len(tokenizer), pad_to_multiple_of=128)\n"
   ]
  },
  {
   "cell_type": "code",
   "execution_count": null,
   "id": "1e4b9342-1bcf-4c06-9b89-7279aee74050",
   "metadata": {},
   "outputs": [],
   "source": []
  },
  {
   "cell_type": "code",
   "execution_count": null,
   "id": "00c8dccd-5f7a-4893-8e1c-f50b017881d0",
   "metadata": {},
   "outputs": [],
   "source": []
  },
  {
   "cell_type": "code",
   "execution_count": null,
   "id": "4b72a0ba-a363-4ac7-9746-7752f57a42b3",
   "metadata": {},
   "outputs": [],
   "source": []
  },
  {
   "cell_type": "markdown",
   "id": "fe11f713-93b9-4f5d-89cb-b77ae04a9637",
   "metadata": {},
   "source": [
    "# Load Adapter and Manipulation"
   ]
  },
  {
   "cell_type": "code",
   "execution_count": 11,
   "id": "c4c2396d-6036-44ae-b221-896bfe72ca57",
   "metadata": {
    "execution": {
     "iopub.execute_input": "2024-03-18T06:23:03.034170Z",
     "iopub.status.busy": "2024-03-18T06:23:03.033583Z",
     "iopub.status.idle": "2024-03-18T06:23:03.881115Z",
     "shell.execute_reply": "2024-03-18T06:23:03.879394Z",
     "shell.execute_reply.started": "2024-03-18T06:23:03.034107Z"
    },
    "tags": []
   },
   "outputs": [],
   "source": [
    "model = PeftModel.from_pretrained(model, target_model_id, adapter_name='target')"
   ]
  },
  {
   "cell_type": "code",
   "execution_count": null,
   "id": "e1676899-f7c8-40ff-bb45-f346b5de68f6",
   "metadata": {},
   "outputs": [],
   "source": []
  },
  {
   "cell_type": "code",
   "execution_count": null,
   "id": "81856730-2cf1-4a66-bc70-4d61a627e70a",
   "metadata": {
    "tags": []
   },
   "outputs": [],
   "source": [
    "\n",
    "model.load_adapter(source_model_id, adapter_name=\"source\")"
   ]
  },
  {
   "cell_type": "code",
   "execution_count": null,
   "id": "b3a2d302-95c2-4251-bee4-cf926aa884cc",
   "metadata": {},
   "outputs": [],
   "source": []
  },
  {
   "cell_type": "markdown",
   "id": "145bcaee-3445-4d89-9a97-9d1c16e927df",
   "metadata": {},
   "source": [
    "## Play with Adapter Manipulation"
   ]
  },
  {
   "cell_type": "code",
   "execution_count": null,
   "id": "49e9d512-cca7-495b-a446-ec9a6aae6e60",
   "metadata": {},
   "outputs": [],
   "source": []
  },
  {
   "cell_type": "code",
   "execution_count": 13,
   "id": "8e112e14-1c53-4a4c-8681-b4699e689759",
   "metadata": {
    "execution": {
     "iopub.execute_input": "2024-03-15T04:45:21.994015Z",
     "iopub.status.busy": "2024-03-15T04:45:21.993553Z",
     "iopub.status.idle": "2024-03-15T04:45:21.999483Z",
     "shell.execute_reply": "2024-03-15T04:45:21.998128Z",
     "shell.execute_reply.started": "2024-03-15T04:45:21.993971Z"
    },
    "tags": []
   },
   "outputs": [],
   "source": [
    "import math"
   ]
  },
  {
   "cell_type": "code",
   "execution_count": 14,
   "id": "4bbf015b-16e1-4bc3-8752-5af898c24199",
   "metadata": {
    "execution": {
     "iopub.execute_input": "2024-03-15T04:45:22.005925Z",
     "iopub.status.busy": "2024-03-15T04:45:22.004691Z",
     "iopub.status.idle": "2024-03-15T04:45:22.011182Z",
     "shell.execute_reply": "2024-03-15T04:45:22.010015Z",
     "shell.execute_reply.started": "2024-03-15T04:45:22.005891Z"
    },
    "tags": []
   },
   "outputs": [],
   "source": [
    "import peft"
   ]
  },
  {
   "cell_type": "code",
   "execution_count": 15,
   "id": "06f84900-7007-42f6-b474-35185b614411",
   "metadata": {
    "execution": {
     "iopub.execute_input": "2024-03-15T04:45:22.013788Z",
     "iopub.status.busy": "2024-03-15T04:45:22.012925Z",
     "iopub.status.idle": "2024-03-15T04:45:22.022532Z",
     "shell.execute_reply": "2024-03-15T04:45:22.021184Z",
     "shell.execute_reply.started": "2024-03-15T04:45:22.013747Z"
    },
    "tags": []
   },
   "outputs": [],
   "source": [
    "from peft.utils import (\n",
    "    # TRANSFORMERS_MODELS_TO_LORA_TARGET_MODULES_MAPPING,\n",
    "    # ModulesToSaveWrapper,\n",
    "    _freeze_adapter,\n",
    "    _get_submodules,\n",
    "    # get_quantization_config,\n",
    ")"
   ]
  },
  {
   "cell_type": "code",
   "execution_count": 16,
   "id": "993d95c9-0d21-4cd5-b647-ac502117395b",
   "metadata": {
    "execution": {
     "iopub.execute_input": "2024-03-15T04:45:22.025356Z",
     "iopub.status.busy": "2024-03-15T04:45:22.024254Z",
     "iopub.status.idle": "2024-03-15T04:45:22.033570Z",
     "shell.execute_reply": "2024-03-15T04:45:22.032199Z",
     "shell.execute_reply.started": "2024-03-15T04:45:22.025325Z"
    },
    "tags": []
   },
   "outputs": [],
   "source": [
    "from peft.tuners.lora import LoraLayer"
   ]
  },
  {
   "cell_type": "code",
   "execution_count": 17,
   "id": "7cb2fe3e-9e00-4e70-b576-1af7408b68f4",
   "metadata": {
    "execution": {
     "iopub.execute_input": "2024-03-15T04:45:22.036309Z",
     "iopub.status.busy": "2024-03-15T04:45:22.035421Z",
     "iopub.status.idle": "2024-03-15T04:45:22.044709Z",
     "shell.execute_reply": "2024-03-15T04:45:22.043440Z",
     "shell.execute_reply.started": "2024-03-15T04:45:22.036279Z"
    },
    "tags": []
   },
   "outputs": [],
   "source": [
    "from dataclasses import asdict, replace\n",
    "from functools import reduce\n",
    "import operator"
   ]
  },
  {
   "cell_type": "code",
   "execution_count": 18,
   "id": "27ab3f7b-b29a-4eea-88f2-01903d22c5ee",
   "metadata": {
    "execution": {
     "iopub.execute_input": "2024-03-15T04:45:22.047331Z",
     "iopub.status.busy": "2024-03-15T04:45:22.046460Z",
     "iopub.status.idle": "2024-03-15T04:45:22.057494Z",
     "shell.execute_reply": "2024-03-15T04:45:22.056255Z",
     "shell.execute_reply.started": "2024-03-15T04:45:22.047297Z"
    },
    "tags": []
   },
   "outputs": [],
   "source": [
    "adapter_name = 'delta'\n",
    "adapters = ['target', 'source']\n",
    "\n",
    "adapters_ranks = [model.peft_config[adapter].r for adapter in adapters]\n",
    "new_rank = adapters_ranks[0]\n",
    "\n",
    "target_module_types = [type(model.peft_config[adapter].target_modules) for adapter in adapters]\n",
    "if target_module_types[0] == str:\n",
    "    new_target_modules = \"|\".join(f\"({model.peft_config[adapter].target_modules})\" for adapter in adapters)\n",
    "elif target_module_types[0] == set:\n",
    "    new_target_modules = reduce(\n",
    "        operator.or_, (model.peft_config[adapter].target_modules for adapter in adapters)\n",
    "    )"
   ]
  },
  {
   "cell_type": "code",
   "execution_count": 19,
   "id": "16304490-32d0-4e6a-8fa9-034c49ba779d",
   "metadata": {
    "execution": {
     "iopub.execute_input": "2024-03-15T04:45:22.059640Z",
     "iopub.status.busy": "2024-03-15T04:45:22.059101Z",
     "iopub.status.idle": "2024-03-15T04:45:22.070660Z",
     "shell.execute_reply": "2024-03-15T04:45:22.069343Z",
     "shell.execute_reply.started": "2024-03-15T04:45:22.059603Z"
    },
    "tags": []
   },
   "outputs": [
    {
     "data": {
      "text/plain": [
       "{'q_proj', 'v_proj'}"
      ]
     },
     "execution_count": 19,
     "metadata": {},
     "output_type": "execute_result"
    }
   ],
   "source": [
    "new_target_modules"
   ]
  },
  {
   "cell_type": "code",
   "execution_count": 20,
   "id": "d3e501f4-0698-481c-a937-6076b78ee055",
   "metadata": {
    "execution": {
     "iopub.execute_input": "2024-03-15T04:45:22.072886Z",
     "iopub.status.busy": "2024-03-15T04:45:22.072328Z",
     "iopub.status.idle": "2024-03-15T04:45:22.298150Z",
     "shell.execute_reply": "2024-03-15T04:45:22.296682Z",
     "shell.execute_reply.started": "2024-03-15T04:45:22.072845Z"
    },
    "tags": []
   },
   "outputs": [],
   "source": [
    "model.peft_config[adapter_name] = replace(\n",
    "            model.peft_config[adapters[0]],\n",
    "            r=new_rank,\n",
    "            lora_alpha=new_rank,\n",
    "            target_modules=new_target_modules,\n",
    "        )\n",
    "model.inject_adapter(model.model, adapter_name)\n",
    "\n",
    "# Do we really need that?\n",
    "_freeze_adapter(model.model, adapter_name)"
   ]
  },
  {
   "cell_type": "code",
   "execution_count": null,
   "id": "21dc3f25-fbca-49ce-9f28-dc7796679d13",
   "metadata": {},
   "outputs": [],
   "source": []
  },
  {
   "cell_type": "code",
   "execution_count": 21,
   "id": "c5be86bc-144c-4533-911f-49a57c646482",
   "metadata": {
    "execution": {
     "iopub.execute_input": "2024-03-12T21:27:25.298287Z",
     "iopub.status.busy": "2024-03-12T21:27:25.297851Z",
     "iopub.status.idle": "2024-03-12T21:27:25.353037Z",
     "shell.execute_reply": "2024-03-12T21:27:25.352299Z",
     "shell.execute_reply.started": "2024-03-12T21:27:25.298257Z"
    },
    "tags": []
   },
   "outputs": [],
   "source": [
    "key_list = [key for key, _ in model.model.named_modules() if model.prefix not in key]\n",
    "for key in key_list:\n",
    "    _, target, _ = _get_submodules(model.model, key)\n",
    "    if isinstance(target, LoraLayer):\n",
    "        if adapter_name in target.lora_A:\n",
    "            target_lora_A = target.lora_A[adapter_name].weight\n",
    "            target_lora_B = target.lora_B[adapter_name].weight\n",
    "        elif adapter_name in target.lora_embedding_A:\n",
    "            target_lora_A = target.lora_embedding_A[adapter_name]\n",
    "            target_lora_B = target.lora_embedding_B[adapter_name]\n",
    "        else:\n",
    "            continue\n",
    "            \n",
    "        target_lora_A.data = target_lora_A.data * 0.0\n",
    "        target_lora_B.data = target_lora_B.data * 0.0\n",
    "        \n",
    "        target_lora_A.data = target.lora_A['target'].weight - target.lora_A['source'].weight\n",
    "        target_lora_B.data = target.lora_B['target'].weight - target.lora_B['source'].weight"
   ]
  },
  {
   "cell_type": "code",
   "execution_count": null,
   "id": "50a210a2-b528-43dc-9b89-d33fd12d7877",
   "metadata": {},
   "outputs": [],
   "source": []
  },
  {
   "cell_type": "code",
   "execution_count": null,
   "id": "b2cde1da-5435-4153-aff4-3d57f6c63072",
   "metadata": {},
   "outputs": [],
   "source": []
  },
  {
   "cell_type": "code",
   "execution_count": 22,
   "id": "9b98e436-0533-4293-b26b-7df34eafb9fd",
   "metadata": {
    "execution": {
     "iopub.execute_input": "2024-03-15T04:47:05.409975Z",
     "iopub.status.busy": "2024-03-15T04:47:05.409243Z",
     "iopub.status.idle": "2024-03-15T04:47:05.415681Z",
     "shell.execute_reply": "2024-03-15T04:47:05.414346Z",
     "shell.execute_reply.started": "2024-03-15T04:47:05.409922Z"
    },
    "tags": []
   },
   "outputs": [],
   "source": [
    "from torch.linalg import vector_norm"
   ]
  },
  {
   "cell_type": "code",
   "execution_count": 23,
   "id": "322757e5-22c9-45d4-9017-60ed91c84452",
   "metadata": {
    "execution": {
     "iopub.execute_input": "2024-03-15T04:47:06.087604Z",
     "iopub.status.busy": "2024-03-15T04:47:06.086930Z",
     "iopub.status.idle": "2024-03-15T04:47:06.192087Z",
     "shell.execute_reply": "2024-03-15T04:47:06.190519Z",
     "shell.execute_reply.started": "2024-03-15T04:47:06.087555Z"
    },
    "tags": []
   },
   "outputs": [],
   "source": [
    "# Normalized Vector version\n",
    "# Normalized to the Target size\n",
    "\n",
    "key_list = [key for key, _ in model.model.named_modules() if model.prefix not in key]\n",
    "for key in key_list:\n",
    "    _, target, _ = _get_submodules(model.model, key)\n",
    "    if isinstance(target, LoraLayer):\n",
    "        if adapter_name in target.lora_A:\n",
    "            target_lora_A = target.lora_A[adapter_name].weight\n",
    "            target_lora_B = target.lora_B[adapter_name].weight\n",
    "        elif adapter_name in target.lora_embedding_A:\n",
    "            target_lora_A = target.lora_embedding_A[adapter_name]\n",
    "            target_lora_B = target.lora_embedding_B[adapter_name]\n",
    "        else:\n",
    "            continue\n",
    "            \n",
    "        target_lora_A.data = target_lora_A.data * 0.0\n",
    "        target_lora_B.data = target_lora_B.data * 0.0\n",
    "        \n",
    "        target_lora_A.data = target.lora_A['target'].weight - target.lora_A['source'].weight\n",
    "        target_lora_B.data = target.lora_B['target'].weight - target.lora_B['source'].weight\n",
    "        \n",
    "        vt_oA = vector_norm(target_lora_A.data, dim=0)\n",
    "        vt_tA = vector_norm(target.lora_A['target'].weight, dim=0)\n",
    "        target_lora_A.data = target_lora_A.data / vt_oA * vt_tA\n",
    "        \n",
    "        vt_oB = vector_norm(target_lora_B.data, dim=1)\n",
    "        vt_tB = vector_norm(target.lora_B['target'].weight, dim=1)\n",
    "        target_lora_B.data = (target_lora_B.data.T / vt_oB * vt_tB).T\n"
   ]
  },
  {
   "cell_type": "code",
   "execution_count": 35,
   "id": "0cefaeb9-c971-4267-937b-70df9729c944",
   "metadata": {
    "execution": {
     "iopub.execute_input": "2024-03-15T04:18:29.996659Z",
     "iopub.status.busy": "2024-03-15T04:18:29.995918Z",
     "iopub.status.idle": "2024-03-15T04:18:30.005370Z",
     "shell.execute_reply": "2024-03-15T04:18:30.003988Z",
     "shell.execute_reply.started": "2024-03-15T04:18:29.996620Z"
    },
    "tags": []
   },
   "outputs": [
    {
     "data": {
      "text/plain": [
       "torch.Size([4096, 8])"
      ]
     },
     "execution_count": 35,
     "metadata": {},
     "output_type": "execute_result"
    }
   ],
   "source": [
    "target.lora_B['target'].weight.shape"
   ]
  },
  {
   "cell_type": "code",
   "execution_count": 36,
   "id": "78b8076d-b819-402d-8db8-4d14142d0a5b",
   "metadata": {
    "execution": {
     "iopub.execute_input": "2024-03-15T04:18:32.989804Z",
     "iopub.status.busy": "2024-03-15T04:18:32.989174Z",
     "iopub.status.idle": "2024-03-15T04:18:33.000577Z",
     "shell.execute_reply": "2024-03-15T04:18:32.999506Z",
     "shell.execute_reply.started": "2024-03-15T04:18:32.989764Z"
    },
    "tags": []
   },
   "outputs": [
    {
     "data": {
      "text/plain": [
       "tensor([0.0022, 0.0010, 0.0026,  ..., 0.0020, 0.0021, 0.0019], device='cuda:0',\n",
       "       grad_fn=<LinalgVectorNormBackward0>)"
      ]
     },
     "execution_count": 36,
     "metadata": {},
     "output_type": "execute_result"
    }
   ],
   "source": [
    "vector_norm(target.lora_B['target'].weight, dim=1)"
   ]
  },
  {
   "cell_type": "code",
   "execution_count": null,
   "id": "7ed876cc-6cf6-42b5-b46a-aced5bea5aaf",
   "metadata": {},
   "outputs": [],
   "source": []
  },
  {
   "cell_type": "code",
   "execution_count": 25,
   "id": "758fdac0-054b-4d5b-88c6-4888d4f7bf13",
   "metadata": {
    "execution": {
     "iopub.execute_input": "2024-03-15T04:13:24.502315Z",
     "iopub.status.busy": "2024-03-15T04:13:24.501636Z",
     "iopub.status.idle": "2024-03-15T04:13:24.511007Z",
     "shell.execute_reply": "2024-03-15T04:13:24.509704Z",
     "shell.execute_reply.started": "2024-03-15T04:13:24.502274Z"
    },
    "tags": []
   },
   "outputs": [
    {
     "data": {
      "text/plain": [
       "torch.Size([8, 4096])"
      ]
     },
     "execution_count": 25,
     "metadata": {},
     "output_type": "execute_result"
    }
   ],
   "source": [
    "target.lora_A['target'].weight.shape"
   ]
  },
  {
   "cell_type": "code",
   "execution_count": 37,
   "id": "4e918ab0-874a-4542-8131-46ebee18a89b",
   "metadata": {
    "execution": {
     "iopub.execute_input": "2024-03-15T04:21:19.808213Z",
     "iopub.status.busy": "2024-03-15T04:21:19.806928Z",
     "iopub.status.idle": "2024-03-15T04:21:19.818044Z",
     "shell.execute_reply": "2024-03-15T04:21:19.816966Z",
     "shell.execute_reply.started": "2024-03-15T04:21:19.808145Z"
    },
    "tags": []
   },
   "outputs": [
    {
     "data": {
      "text/plain": [
       "tensor([0.0241, 0.0349, 0.0288,  ..., 0.0311, 0.0282, 0.0290], device='cuda:0',\n",
       "       grad_fn=<LinalgVectorNormBackward0>)"
      ]
     },
     "execution_count": 37,
     "metadata": {},
     "output_type": "execute_result"
    }
   ],
   "source": [
    "vector_norm(target.lora_A['target'].weight, dim=0)"
   ]
  },
  {
   "cell_type": "code",
   "execution_count": 67,
   "id": "528c19a7-86d0-4c05-9444-dabbf5c6cdfc",
   "metadata": {
    "execution": {
     "iopub.execute_input": "2024-03-15T04:34:21.142879Z",
     "iopub.status.busy": "2024-03-15T04:34:21.142151Z",
     "iopub.status.idle": "2024-03-15T04:34:21.155365Z",
     "shell.execute_reply": "2024-03-15T04:34:21.154171Z",
     "shell.execute_reply.started": "2024-03-15T04:34:21.142836Z"
    },
    "tags": []
   },
   "outputs": [
    {
     "data": {
      "text/plain": [
       "tensor([0.0022, 0.0010, 0.0026,  ..., 0.0020, 0.0021, 0.0019], device='cuda:0',\n",
       "       grad_fn=<LinalgVectorNormBackward0>)"
      ]
     },
     "execution_count": 67,
     "metadata": {},
     "output_type": "execute_result"
    }
   ],
   "source": [
    "vector_norm(target.lora_B['target'].weight, dim=1)"
   ]
  },
  {
   "cell_type": "code",
   "execution_count": null,
   "id": "7aa4386d-e888-437d-84f9-5048bb5ac09f",
   "metadata": {},
   "outputs": [],
   "source": []
  },
  {
   "cell_type": "code",
   "execution_count": 62,
   "id": "9110dc2f-5311-4656-be33-d3c23162b5f4",
   "metadata": {
    "execution": {
     "iopub.execute_input": "2024-03-15T04:33:49.544500Z",
     "iopub.status.busy": "2024-03-15T04:33:49.543758Z",
     "iopub.status.idle": "2024-03-15T04:33:49.552659Z",
     "shell.execute_reply": "2024-03-15T04:33:49.551395Z",
     "shell.execute_reply.started": "2024-03-15T04:33:49.544437Z"
    },
    "tags": []
   },
   "outputs": [],
   "source": [
    "tmp = target.lora_B['target'].weight - target.lora_B['source'].weight\n",
    "vt_oB = vector_norm(tmp, dim=1)\n",
    "vt_tB = vector_norm(target.lora_B['target'].weight, dim=1)\n",
    "\n",
    "tmp = (tmp.T / vt_oB * vt_tB).T"
   ]
  },
  {
   "cell_type": "code",
   "execution_count": 65,
   "id": "9acd2785-9c00-4dd0-a5ef-9318ff9368d6",
   "metadata": {
    "execution": {
     "iopub.execute_input": "2024-03-15T04:34:07.137778Z",
     "iopub.status.busy": "2024-03-15T04:34:07.136566Z",
     "iopub.status.idle": "2024-03-15T04:34:07.156287Z",
     "shell.execute_reply": "2024-03-15T04:34:07.154282Z",
     "shell.execute_reply.started": "2024-03-15T04:34:07.137691Z"
    },
    "tags": []
   },
   "outputs": [
    {
     "data": {
      "text/plain": [
       "tensor([0.0022, 0.0010, 0.0026,  ..., 0.0020, 0.0021, 0.0019], device='cuda:0',\n",
       "       grad_fn=<LinalgVectorNormBackward0>)"
      ]
     },
     "execution_count": 65,
     "metadata": {},
     "output_type": "execute_result"
    }
   ],
   "source": [
    "vector_norm(tmp,dim=1)"
   ]
  },
  {
   "cell_type": "code",
   "execution_count": 63,
   "id": "437599f9-5ed1-4405-9f39-ff34740b5c19",
   "metadata": {
    "execution": {
     "iopub.execute_input": "2024-03-15T04:34:02.745396Z",
     "iopub.status.busy": "2024-03-15T04:34:02.744739Z",
     "iopub.status.idle": "2024-03-15T04:34:02.759442Z",
     "shell.execute_reply": "2024-03-15T04:34:02.757953Z",
     "shell.execute_reply.started": "2024-03-15T04:34:02.745349Z"
    },
    "tags": []
   },
   "outputs": [
    {
     "data": {
      "text/plain": [
       "Parameter containing:\n",
       "tensor([[-1.0705e-04,  1.0838e-03, -6.7676e-04,  ...,  1.0237e-03,\n",
       "          4.4704e-04, -9.1145e-04],\n",
       "        [ 2.0554e-04,  6.5568e-04, -6.2078e-04,  ...,  7.2634e-05,\n",
       "         -3.2010e-04, -1.6794e-04],\n",
       "        [ 3.5568e-04, -6.8224e-04,  2.7409e-04,  ..., -2.6225e-05,\n",
       "         -1.1100e-04,  1.3575e-03],\n",
       "        ...,\n",
       "        [ 8.8527e-04,  6.5093e-04, -3.5329e-04,  ...,  4.9425e-04,\n",
       "         -3.9447e-04,  8.5558e-04],\n",
       "        [ 1.6238e-04, -1.4190e-03,  1.0853e-03,  ..., -2.4651e-04,\n",
       "         -2.8751e-05, -5.8329e-04],\n",
       "        [ 9.7082e-04,  7.3074e-04, -4.2692e-05,  ...,  4.3419e-04,\n",
       "         -1.0898e-04,  7.9320e-04]], device='cuda:0', requires_grad=True)"
      ]
     },
     "execution_count": 63,
     "metadata": {},
     "output_type": "execute_result"
    }
   ],
   "source": [
    "target.lora_B['target'].weight"
   ]
  },
  {
   "cell_type": "code",
   "execution_count": 68,
   "id": "b5e84ab9-0d17-43df-b8ff-54db34629fcc",
   "metadata": {
    "execution": {
     "iopub.execute_input": "2024-03-15T04:34:38.932016Z",
     "iopub.status.busy": "2024-03-15T04:34:38.931100Z",
     "iopub.status.idle": "2024-03-15T04:34:38.946874Z",
     "shell.execute_reply": "2024-03-15T04:34:38.945349Z",
     "shell.execute_reply.started": "2024-03-15T04:34:38.931952Z"
    },
    "tags": []
   },
   "outputs": [
    {
     "data": {
      "text/plain": [
       "Parameter containing:\n",
       "tensor([[ 7.6248e-04, -1.9786e-03,  4.8263e-04,  ...,  1.9153e-03,\n",
       "          8.7487e-04,  4.3365e-04],\n",
       "        [-4.5555e-04,  5.8037e-04, -9.3451e-04,  ...,  7.5229e-04,\n",
       "         -1.3122e-03, -1.0978e-03],\n",
       "        [ 8.2923e-05,  6.3360e-04,  1.1578e-03,  ..., -1.0200e-03,\n",
       "          1.1309e-03,  7.5861e-04],\n",
       "        ...,\n",
       "        [-3.8336e-04,  1.0643e-03, -2.4170e-04,  ..., -6.6110e-04,\n",
       "         -9.0255e-04, -1.1341e-03],\n",
       "        [ 3.7612e-04, -4.1074e-04,  5.2035e-04,  ...,  8.8991e-04,\n",
       "          3.0590e-04,  1.0890e-03],\n",
       "        [-4.1011e-05,  6.3360e-04, -4.8721e-05,  ..., -9.4151e-04,\n",
       "         -8.5006e-04, -9.3489e-04]], device='cuda:0')"
      ]
     },
     "execution_count": 68,
     "metadata": {},
     "output_type": "execute_result"
    }
   ],
   "source": [
    "target.lora_B['source'].weight"
   ]
  },
  {
   "cell_type": "code",
   "execution_count": 66,
   "id": "dd1a776b-efd8-4a81-a074-eb067e09569a",
   "metadata": {
    "execution": {
     "iopub.execute_input": "2024-03-15T04:34:10.400762Z",
     "iopub.status.busy": "2024-03-15T04:34:10.400069Z",
     "iopub.status.idle": "2024-03-15T04:34:10.414286Z",
     "shell.execute_reply": "2024-03-15T04:34:10.412779Z",
     "shell.execute_reply.started": "2024-03-15T04:34:10.400720Z"
    },
    "tags": []
   },
   "outputs": [
    {
     "data": {
      "text/plain": [
       "tensor([[-4.8880e-04,  1.7215e-03, -6.5175e-04,  ..., -5.0122e-04,\n",
       "         -2.4051e-04, -7.5614e-04],\n",
       "        [ 3.1059e-04,  3.5381e-05,  1.4740e-04,  ..., -3.1931e-04,\n",
       "          4.6608e-04,  4.3688e-04],\n",
       "        [ 2.7968e-04, -1.3492e-03, -9.0610e-04,  ...,  1.0190e-03,\n",
       "         -1.2734e-03,  6.1405e-04],\n",
       "        ...,\n",
       "        [ 7.0720e-04, -2.3044e-04, -6.2206e-05,  ...,  6.4405e-04,\n",
       "          2.8323e-04,  1.1092e-03],\n",
       "        [-1.6991e-04, -8.0156e-04,  4.4917e-04,  ..., -9.0344e-04,\n",
       "         -2.6604e-04, -1.3295e-03],\n",
       "        [ 6.5246e-04,  6.2637e-05,  3.8876e-06,  ...,  8.8709e-04,\n",
       "          4.7787e-04,  1.1143e-03]], device='cuda:0',\n",
       "       grad_fn=<PermuteBackward0>)"
      ]
     },
     "execution_count": 66,
     "metadata": {},
     "output_type": "execute_result"
    }
   ],
   "source": [
    "tmp"
   ]
  },
  {
   "cell_type": "code",
   "execution_count": null,
   "id": "f7410005-e6b1-4144-8b32-da4af4c81578",
   "metadata": {},
   "outputs": [],
   "source": []
  },
  {
   "cell_type": "code",
   "execution_count": null,
   "id": "141424fd-8495-45ce-9e04-fc3d1fe2648d",
   "metadata": {},
   "outputs": [],
   "source": []
  },
  {
   "cell_type": "code",
   "execution_count": null,
   "id": "6bb9fb2e-7d56-4a8c-bce8-175461b1eb51",
   "metadata": {},
   "outputs": [],
   "source": []
  },
  {
   "cell_type": "code",
   "execution_count": 78,
   "id": "6ab98275-ae95-42c8-baca-a552bc84a242",
   "metadata": {
    "execution": {
     "iopub.execute_input": "2024-03-15T04:36:34.010613Z",
     "iopub.status.busy": "2024-03-15T04:36:34.009756Z",
     "iopub.status.idle": "2024-03-15T04:36:34.021143Z",
     "shell.execute_reply": "2024-03-15T04:36:34.019787Z",
     "shell.execute_reply.started": "2024-03-15T04:36:34.010563Z"
    },
    "tags": []
   },
   "outputs": [
    {
     "data": {
      "text/plain": [
       "tensor([[1, 2, 3, 4],\n",
       "        [3, 4, 5, 6]])"
      ]
     },
     "execution_count": 78,
     "metadata": {},
     "output_type": "execute_result"
    }
   ],
   "source": [
    "tmp = torch.tensor([[1,2,3,4],[3,4,5,6]])\n",
    "tmp"
   ]
  },
  {
   "cell_type": "code",
   "execution_count": 79,
   "id": "b2fcd42e-ef5b-4986-9697-c95708b66475",
   "metadata": {
    "execution": {
     "iopub.execute_input": "2024-03-15T04:36:40.464714Z",
     "iopub.status.busy": "2024-03-15T04:36:40.463976Z",
     "iopub.status.idle": "2024-03-15T04:36:40.471040Z",
     "shell.execute_reply": "2024-03-15T04:36:40.469787Z",
     "shell.execute_reply.started": "2024-03-15T04:36:40.464659Z"
    },
    "tags": []
   },
   "outputs": [],
   "source": [
    "mt = torch.tensor([2,0,1,3])"
   ]
  },
  {
   "cell_type": "code",
   "execution_count": 80,
   "id": "a84832e2-ac6f-4537-93cd-8df6dd771cc3",
   "metadata": {
    "execution": {
     "iopub.execute_input": "2024-03-15T04:36:52.604909Z",
     "iopub.status.busy": "2024-03-15T04:36:52.604131Z",
     "iopub.status.idle": "2024-03-15T04:36:52.614275Z",
     "shell.execute_reply": "2024-03-15T04:36:52.612993Z",
     "shell.execute_reply.started": "2024-03-15T04:36:52.604854Z"
    },
    "tags": []
   },
   "outputs": [
    {
     "data": {
      "text/plain": [
       "tensor([[ 2,  0,  3, 12],\n",
       "        [ 6,  0,  5, 18]])"
      ]
     },
     "execution_count": 80,
     "metadata": {},
     "output_type": "execute_result"
    }
   ],
   "source": [
    "tmp * mt"
   ]
  },
  {
   "cell_type": "code",
   "execution_count": 81,
   "id": "6c312a47-7273-4b69-bb93-326e8c3bc83d",
   "metadata": {
    "execution": {
     "iopub.execute_input": "2024-03-15T04:37:10.117137Z",
     "iopub.status.busy": "2024-03-15T04:37:10.116123Z",
     "iopub.status.idle": "2024-03-15T04:37:10.126401Z",
     "shell.execute_reply": "2024-03-15T04:37:10.125071Z",
     "shell.execute_reply.started": "2024-03-15T04:37:10.117078Z"
    },
    "tags": []
   },
   "outputs": [
    {
     "data": {
      "text/plain": [
       "tensor([[1, 3],\n",
       "        [2, 4],\n",
       "        [3, 5],\n",
       "        [4, 6]])"
      ]
     },
     "execution_count": 81,
     "metadata": {},
     "output_type": "execute_result"
    }
   ],
   "source": [
    "tmp2 = tmp.T\n",
    "tmp2"
   ]
  },
  {
   "cell_type": "code",
   "execution_count": 83,
   "id": "c1f0ecba-2c2e-41e6-a881-41df32daf710",
   "metadata": {
    "execution": {
     "iopub.execute_input": "2024-03-15T04:37:36.250434Z",
     "iopub.status.busy": "2024-03-15T04:37:36.249723Z",
     "iopub.status.idle": "2024-03-15T04:37:36.265953Z",
     "shell.execute_reply": "2024-03-15T04:37:36.264774Z",
     "shell.execute_reply.started": "2024-03-15T04:37:36.250393Z"
    },
    "tags": []
   },
   "outputs": [
    {
     "data": {
      "text/plain": [
       "tensor([[ 2,  6],\n",
       "        [ 0,  0],\n",
       "        [ 3,  5],\n",
       "        [12, 18]])"
      ]
     },
     "execution_count": 83,
     "metadata": {},
     "output_type": "execute_result"
    }
   ],
   "source": [
    "(tmp2.T * mt).T"
   ]
  },
  {
   "cell_type": "code",
   "execution_count": null,
   "id": "16ddaf25-6b0c-493b-8f57-48f2c7c24b99",
   "metadata": {},
   "outputs": [],
   "source": []
  },
  {
   "cell_type": "markdown",
   "id": "3ec7ba5d-c70c-4427-9ff7-5325f451a36a",
   "metadata": {},
   "source": [
    "## Verify some results"
   ]
  },
  {
   "cell_type": "code",
   "execution_count": 24,
   "id": "487dc10e-a0af-4101-a8a5-39f5261b37f7",
   "metadata": {
    "execution": {
     "iopub.execute_input": "2024-03-15T04:47:12.142490Z",
     "iopub.status.busy": "2024-03-15T04:47:12.141309Z",
     "iopub.status.idle": "2024-03-15T04:47:12.159926Z",
     "shell.execute_reply": "2024-03-15T04:47:12.158584Z",
     "shell.execute_reply.started": "2024-03-15T04:47:12.142440Z"
    },
    "tags": []
   },
   "outputs": [
    {
     "data": {
      "text/plain": [
       "Parameter containing:\n",
       "tensor([[ 0.0109,  0.0153, -0.0055,  ..., -0.0022,  0.0044,  0.0006],\n",
       "        [-0.0076, -0.0081,  0.0033,  ..., -0.0114, -0.0124, -0.0053],\n",
       "        [-0.0155, -0.0072,  0.0006,  ..., -0.0087,  0.0047,  0.0035],\n",
       "        ...,\n",
       "        [ 0.0162,  0.0151,  0.0047,  ...,  0.0080, -0.0051, -0.0144],\n",
       "        [ 0.0111,  0.0134,  0.0002,  ...,  0.0062, -0.0006,  0.0092],\n",
       "        [ 0.0123,  0.0111, -0.0155,  ..., -0.0023, -0.0092,  0.0164]],\n",
       "       device='cuda:0', requires_grad=True)"
      ]
     },
     "execution_count": 24,
     "metadata": {},
     "output_type": "execute_result"
    }
   ],
   "source": [
    "i = 2\n",
    "model.base_model.model.model.layers[i].self_attn.q_proj.lora_A.target.weight"
   ]
  },
  {
   "cell_type": "code",
   "execution_count": 25,
   "id": "5553f0bf-4736-446d-980f-5931d06e0cdd",
   "metadata": {
    "execution": {
     "iopub.execute_input": "2024-03-15T04:47:12.754397Z",
     "iopub.status.busy": "2024-03-15T04:47:12.753316Z",
     "iopub.status.idle": "2024-03-15T04:47:12.768123Z",
     "shell.execute_reply": "2024-03-15T04:47:12.766890Z",
     "shell.execute_reply.started": "2024-03-15T04:47:12.754340Z"
    },
    "tags": []
   },
   "outputs": [
    {
     "data": {
      "text/plain": [
       "Parameter containing:\n",
       "tensor([[-0.0005,  0.0104, -0.0027,  ..., -0.0083,  0.0067, -0.0059],\n",
       "        [ 0.0049, -0.0022, -0.0096,  ...,  0.0040,  0.0041, -0.0020],\n",
       "        [ 0.0136, -0.0037, -0.0033,  ...,  0.0034, -0.0149, -0.0146],\n",
       "        ...,\n",
       "        [-0.0039,  0.0060,  0.0051,  ...,  0.0044,  0.0038,  0.0051],\n",
       "        [-0.0042,  0.0079, -0.0011,  ..., -0.0014,  0.0029, -0.0080],\n",
       "        [ 0.0127, -0.0015,  0.0055,  ...,  0.0044, -0.0059,  0.0054]],\n",
       "       device='cuda:0')"
      ]
     },
     "execution_count": 25,
     "metadata": {},
     "output_type": "execute_result"
    }
   ],
   "source": [
    "model.base_model.model.model.layers[i].self_attn.q_proj.lora_A.source.weight"
   ]
  },
  {
   "cell_type": "code",
   "execution_count": 26,
   "id": "5e830431-c236-494d-be5d-9702e294f28e",
   "metadata": {
    "execution": {
     "iopub.execute_input": "2024-03-15T04:47:13.639056Z",
     "iopub.status.busy": "2024-03-15T04:47:13.638318Z",
     "iopub.status.idle": "2024-03-15T04:47:13.653399Z",
     "shell.execute_reply": "2024-03-15T04:47:13.652110Z",
     "shell.execute_reply.started": "2024-03-15T04:47:13.639011Z"
    },
    "tags": []
   },
   "outputs": [
    {
     "data": {
      "text/plain": [
       "Parameter containing:\n",
       "tensor([[ 0.0080,  0.0060, -0.0019,  ...,  0.0042, -0.0014,  0.0045],\n",
       "        [-0.0088, -0.0073,  0.0088,  ..., -0.0106, -0.0104, -0.0023],\n",
       "        [-0.0204, -0.0043,  0.0027,  ..., -0.0083,  0.0123,  0.0125],\n",
       "        ...,\n",
       "        [ 0.0141,  0.0112, -0.0003,  ...,  0.0025, -0.0056, -0.0134],\n",
       "        [ 0.0107,  0.0068,  0.0009,  ...,  0.0052, -0.0022,  0.0119],\n",
       "        [-0.0003,  0.0155, -0.0143,  ..., -0.0046, -0.0021,  0.0076]],\n",
       "       device='cuda:0')"
      ]
     },
     "execution_count": 26,
     "metadata": {},
     "output_type": "execute_result"
    }
   ],
   "source": [
    "model.base_model.model.model.layers[i].self_attn.q_proj.lora_A.delta.weight"
   ]
  },
  {
   "cell_type": "code",
   "execution_count": 27,
   "id": "76cf44e6-52b3-40c6-91b4-e3f5a30639ba",
   "metadata": {
    "execution": {
     "iopub.execute_input": "2024-03-15T04:47:14.168921Z",
     "iopub.status.busy": "2024-03-15T04:47:14.168263Z",
     "iopub.status.idle": "2024-03-15T04:47:14.182105Z",
     "shell.execute_reply": "2024-03-15T04:47:14.180785Z",
     "shell.execute_reply.started": "2024-03-15T04:47:14.168871Z"
    },
    "tags": []
   },
   "outputs": [
    {
     "name": "stdout",
     "output_type": "stream",
     "text": [
      "tensor([0.0322, 0.0304, 0.0237,  ..., 0.0240, 0.0205, 0.0245], device='cuda:0',\n",
      "       grad_fn=<LinalgVectorNormBackward0>)\n",
      "tensor([0.0322, 0.0304, 0.0237,  ..., 0.0240, 0.0205, 0.0245], device='cuda:0')\n"
     ]
    }
   ],
   "source": [
    "print(vector_norm(model.base_model.model.model.layers[i].self_attn.q_proj.lora_A.target.weight, dim=0))\n",
    "print(vector_norm(model.base_model.model.model.layers[i].self_attn.q_proj.lora_A.delta.weight, dim=0))"
   ]
  },
  {
   "cell_type": "code",
   "execution_count": 28,
   "id": "f373d93b-90e5-4974-923c-4ec6bcbd29d2",
   "metadata": {
    "execution": {
     "iopub.execute_input": "2024-03-15T04:47:15.759816Z",
     "iopub.status.busy": "2024-03-15T04:47:15.759110Z",
     "iopub.status.idle": "2024-03-15T04:47:15.773055Z",
     "shell.execute_reply": "2024-03-15T04:47:15.771587Z",
     "shell.execute_reply.started": "2024-03-15T04:47:15.759772Z"
    },
    "tags": []
   },
   "outputs": [
    {
     "name": "stdout",
     "output_type": "stream",
     "text": [
      "tensor([0.0021, 0.0013, 0.0023,  ..., 0.0025, 0.0022, 0.0022], device='cuda:0',\n",
      "       grad_fn=<LinalgVectorNormBackward0>)\n",
      "tensor([0.0021, 0.0013, 0.0023,  ..., 0.0025, 0.0022, 0.0022], device='cuda:0')\n"
     ]
    }
   ],
   "source": [
    "print(vector_norm(model.base_model.model.model.layers[i].self_attn.q_proj.lora_B.target.weight, dim=1))\n",
    "print(vector_norm(model.base_model.model.model.layers[i].self_attn.q_proj.lora_B.delta.weight, dim=1))"
   ]
  },
  {
   "cell_type": "code",
   "execution_count": null,
   "id": "d8dd2586-e155-4645-92eb-37cc215c6fca",
   "metadata": {},
   "outputs": [],
   "source": []
  },
  {
   "cell_type": "code",
   "execution_count": null,
   "id": "343a9cb8-1686-46a8-b885-809747ccfb33",
   "metadata": {},
   "outputs": [],
   "source": []
  },
  {
   "cell_type": "code",
   "execution_count": 16,
   "id": "82e51a25-77ae-4e56-af63-73b474d97342",
   "metadata": {
    "execution": {
     "iopub.execute_input": "2024-03-18T05:42:59.507376Z",
     "iopub.status.busy": "2024-03-18T05:42:59.506634Z",
     "iopub.status.idle": "2024-03-18T05:42:59.533234Z",
     "shell.execute_reply": "2024-03-18T05:42:59.531653Z",
     "shell.execute_reply.started": "2024-03-18T05:42:59.507330Z"
    },
    "tags": []
   },
   "outputs": [
    {
     "data": {
      "text/plain": [
       "Parameter containing:\n",
       "Parameter(Int8Params([[-32, -13,  11,  ..., -14, -26, -11],\n",
       "            [-19,  14, -49,  ..., -47, -23,  35],\n",
       "            [-18,  42, -33,  ...,  -7, -26,  27],\n",
       "            ...,\n",
       "            [-43,  12, -20,  ...,  -6, -27, -33],\n",
       "            [  1,  -5,   1,  ...,  -1,  -8,   7],\n",
       "            [ -6, -18,  23,  ...,  56, -42,   2]], device='cuda:0',\n",
       "           dtype=torch.int8))"
      ]
     },
     "execution_count": 16,
     "metadata": {},
     "output_type": "execute_result"
    }
   ],
   "source": [
    "i = 2\n",
    "model.base_model.model.model.layers[i].self_attn.q_proj.base_layer.weight"
   ]
  },
  {
   "cell_type": "code",
   "execution_count": 17,
   "id": "fefe0f55-3f9b-4bc2-8c2a-5c2c48d0f968",
   "metadata": {
    "execution": {
     "iopub.execute_input": "2024-03-18T05:43:12.273988Z",
     "iopub.status.busy": "2024-03-18T05:43:12.272771Z",
     "iopub.status.idle": "2024-03-18T05:43:12.282601Z",
     "shell.execute_reply": "2024-03-18T05:43:12.281455Z",
     "shell.execute_reply.started": "2024-03-18T05:43:12.273931Z"
    }
   },
   "outputs": [
    {
     "data": {
      "text/plain": [
       "lora.Linear8bitLt(\n",
       "  (base_layer): Linear8bitLt(in_features=4096, out_features=4096, bias=False)\n",
       "  (lora_dropout): ModuleDict(\n",
       "    (target): Dropout(p=0.05, inplace=False)\n",
       "  )\n",
       "  (lora_A): ModuleDict(\n",
       "    (target): Linear(in_features=4096, out_features=8, bias=False)\n",
       "  )\n",
       "  (lora_B): ModuleDict(\n",
       "    (target): Linear(in_features=8, out_features=4096, bias=False)\n",
       "  )\n",
       "  (lora_embedding_A): ParameterDict()\n",
       "  (lora_embedding_B): ParameterDict()\n",
       ")"
      ]
     },
     "execution_count": 17,
     "metadata": {},
     "output_type": "execute_result"
    }
   ],
   "source": [
    "\n",
    "model.base_model.model.model.layers[i].self_attn.q_proj"
   ]
  },
  {
   "cell_type": "code",
   "execution_count": 19,
   "id": "e04b5e61-ef16-47b5-a20e-c113a871c8e3",
   "metadata": {
    "execution": {
     "iopub.execute_input": "2024-03-18T05:43:33.813219Z",
     "iopub.status.busy": "2024-03-18T05:43:33.812607Z",
     "iopub.status.idle": "2024-03-18T05:43:33.827455Z",
     "shell.execute_reply": "2024-03-18T05:43:33.825191Z",
     "shell.execute_reply.started": "2024-03-18T05:43:33.813177Z"
    },
    "tags": []
   },
   "outputs": [
    {
     "data": {
      "text/plain": [
       "Parameter containing:\n",
       "Parameter(Int8Params([[ -1,   6,  -5,  ..., -12,  -5,   7],\n",
       "            [ 29, -19,  -7,  ...,  27, -11,  -1],\n",
       "            [ 16,  15,  42,  ..., -16,  13,   6],\n",
       "            ...,\n",
       "            [ 26,  38, -22,  ...,  24, -31,  -5],\n",
       "            [ -7, -14,  -1,  ...,   5,   2,  -5],\n",
       "            [  5, -13,  -4,  ..., -68, -23,  71]], device='cuda:0',\n",
       "           dtype=torch.int8))"
      ]
     },
     "execution_count": 19,
     "metadata": {},
     "output_type": "execute_result"
    }
   ],
   "source": [
    "\n",
    "model.base_model.model.model.layers[i].self_attn.k_proj.weight"
   ]
  },
  {
   "cell_type": "code",
   "execution_count": null,
   "id": "515288ea-e9b5-423b-b16a-fc9f78e8abdf",
   "metadata": {},
   "outputs": [],
   "source": []
  },
  {
   "cell_type": "code",
   "execution_count": null,
   "id": "7bc1c5af-46a3-4946-9c8e-1fc139e50bc9",
   "metadata": {},
   "outputs": [],
   "source": []
  },
  {
   "cell_type": "code",
   "execution_count": null,
   "id": "9715bdbe-ce38-4b48-9dbb-2d0934874a1d",
   "metadata": {},
   "outputs": [],
   "source": []
  },
  {
   "cell_type": "code",
   "execution_count": null,
   "id": "741a1baf-0e9c-4087-94fb-2e9aeaa7381b",
   "metadata": {},
   "outputs": [],
   "source": []
  },
  {
   "cell_type": "code",
   "execution_count": null,
   "id": "b8537c2e-521d-4f4b-b62e-ca3d4d1a1bde",
   "metadata": {},
   "outputs": [],
   "source": []
  },
  {
   "cell_type": "markdown",
   "id": "626c167e-7cc7-4a60-be86-42b0c88b0310",
   "metadata": {},
   "source": [
    "## Save Edited Adapter"
   ]
  },
  {
   "cell_type": "code",
   "execution_count": null,
   "id": "95fda4e4-fe00-4980-b02d-eda2cf01c65c",
   "metadata": {
    "tags": []
   },
   "outputs": [],
   "source": [
    "# use adapter \"delta\"\n",
    "model.set_adapter(\"delta\")\n"
   ]
  },
  {
   "cell_type": "code",
   "execution_count": 106,
   "id": "69a468cc-3138-425a-8606-01d7dcb8d1ea",
   "metadata": {
    "execution": {
     "iopub.execute_input": "2024-03-12T04:10:44.120336Z",
     "iopub.status.busy": "2024-03-12T04:10:44.119583Z",
     "iopub.status.idle": "2024-03-12T04:10:44.130640Z",
     "shell.execute_reply": "2024-03-12T04:10:44.129225Z",
     "shell.execute_reply.started": "2024-03-12T04:10:44.120275Z"
    },
    "tags": []
   },
   "outputs": [
    {
     "data": {
      "text/plain": [
       "{'classifier', 'score'}"
      ]
     },
     "execution_count": 106,
     "metadata": {},
     "output_type": "execute_result"
    }
   ],
   "source": [
    "model.modules_to_save"
   ]
  },
  {
   "cell_type": "code",
   "execution_count": 29,
   "id": "06d14692-2b2b-44e8-bd76-5a4da3e96dd3",
   "metadata": {
    "execution": {
     "iopub.execute_input": "2024-03-15T04:47:22.537237Z",
     "iopub.status.busy": "2024-03-15T04:47:22.536275Z",
     "iopub.status.idle": "2024-03-15T04:47:22.586130Z",
     "shell.execute_reply": "2024-03-15T04:47:22.584829Z",
     "shell.execute_reply.started": "2024-03-15T04:47:22.537193Z"
    },
    "tags": []
   },
   "outputs": [
    {
     "name": "stderr",
     "output_type": "stream",
     "text": [
      "/home/NETID/xiruod/anaconda3/envs/llama2/lib/python3.9/site-packages/peft/tuners/tuners_utils.py:536: UserWarning: Adapter target was active which is now deleted. Setting active adapter to delta.\n",
      "  warnings.warn(\n"
     ]
    }
   ],
   "source": [
    "model.delete_adapter(\"target\")"
   ]
  },
  {
   "cell_type": "code",
   "execution_count": 30,
   "id": "5b73144c-09a7-4895-9c82-4682ed95f48b",
   "metadata": {
    "execution": {
     "iopub.execute_input": "2024-03-15T04:47:22.677880Z",
     "iopub.status.busy": "2024-03-15T04:47:22.677215Z",
     "iopub.status.idle": "2024-03-15T04:47:22.717210Z",
     "shell.execute_reply": "2024-03-15T04:47:22.715750Z",
     "shell.execute_reply.started": "2024-03-15T04:47:22.677834Z"
    },
    "tags": []
   },
   "outputs": [],
   "source": [
    "model.delete_adapter(\"source\")"
   ]
  },
  {
   "cell_type": "code",
   "execution_count": 32,
   "id": "30dd0459-34d2-4114-ac54-213d7cf1900b",
   "metadata": {
    "execution": {
     "iopub.execute_input": "2024-03-15T04:48:04.785671Z",
     "iopub.status.busy": "2024-03-15T04:48:04.784992Z",
     "iopub.status.idle": "2024-03-15T04:48:05.276362Z",
     "shell.execute_reply": "2024-03-15T04:48:05.275093Z",
     "shell.execute_reply.started": "2024-03-15T04:48:04.785631Z"
    },
    "tags": []
   },
   "outputs": [
    {
     "name": "stderr",
     "output_type": "stream",
     "text": [
      "/home/NETID/xiruod/anaconda3/envs/llama2/lib/python3.9/site-packages/peft/utils/save_and_load.py:154: UserWarning: Could not find a config file in /bime-munin/llama2_hf/llama-2-7b_hf/ - will assume that the vocabulary was not modified.\n",
      "  warnings.warn(\n"
     ]
    }
   ],
   "source": [
    "model.save_pretrained(f\"/bime-munin/xiruod/llama2_SHAC/n500/LoraAdapters_TargetNorm//{os.path.basename(target_model_id)}/\")"
   ]
  },
  {
   "cell_type": "code",
   "execution_count": null,
   "id": "9e4413b1-6421-4182-997d-8071d0ae5d42",
   "metadata": {},
   "outputs": [],
   "source": []
  },
  {
   "cell_type": "markdown",
   "id": "48b716a7-40b4-44f6-8002-dd85c9277007",
   "metadata": {},
   "source": [
    "# Load Edited Adapter"
   ]
  },
  {
   "cell_type": "code",
   "execution_count": 12,
   "id": "836b93bb-a455-4a37-b72d-113bcd583573",
   "metadata": {
    "execution": {
     "iopub.execute_input": "2024-03-12T23:51:57.976399Z",
     "iopub.status.busy": "2024-03-12T23:51:57.975640Z",
     "iopub.status.idle": "2024-03-12T23:51:58.176082Z",
     "shell.execute_reply": "2024-03-12T23:51:58.174343Z",
     "shell.execute_reply.started": "2024-03-12T23:51:57.976334Z"
    },
    "tags": []
   },
   "outputs": [],
   "source": [
    "model = PeftModel.from_pretrained(model, \"../output/tmpData/set-1355-quantization-epoch3-llama-2-7B-loraR-8/delta/\", adapter_name='delta')"
   ]
  },
  {
   "cell_type": "code",
   "execution_count": 13,
   "id": "75418bc6-7263-4964-9958-d198d1d2d69f",
   "metadata": {
    "execution": {
     "iopub.execute_input": "2024-03-12T23:51:58.727090Z",
     "iopub.status.busy": "2024-03-12T23:51:58.726360Z",
     "iopub.status.idle": "2024-03-12T23:51:58.746530Z",
     "shell.execute_reply": "2024-03-12T23:51:58.745465Z",
     "shell.execute_reply.started": "2024-03-12T23:51:58.727028Z"
    },
    "tags": []
   },
   "outputs": [
    {
     "data": {
      "text/plain": [
       "PeftModelForSequenceClassification(\n",
       "  (base_model): LoraModel(\n",
       "    (model): LlamaForSequenceClassification(\n",
       "      (model): LlamaModel(\n",
       "        (embed_tokens): Embedding(32128, 4096)\n",
       "        (layers): ModuleList(\n",
       "          (0-31): 32 x LlamaDecoderLayer(\n",
       "            (self_attn): LlamaAttention(\n",
       "              (q_proj): lora.Linear8bitLt(\n",
       "                (base_layer): Linear8bitLt(in_features=4096, out_features=4096, bias=False)\n",
       "                (lora_dropout): ModuleDict(\n",
       "                  (delta): Dropout(p=0.05, inplace=False)\n",
       "                )\n",
       "                (lora_A): ModuleDict(\n",
       "                  (delta): Linear(in_features=4096, out_features=8, bias=False)\n",
       "                )\n",
       "                (lora_B): ModuleDict(\n",
       "                  (delta): Linear(in_features=8, out_features=4096, bias=False)\n",
       "                )\n",
       "                (lora_embedding_A): ParameterDict()\n",
       "                (lora_embedding_B): ParameterDict()\n",
       "              )\n",
       "              (k_proj): Linear8bitLt(in_features=4096, out_features=4096, bias=False)\n",
       "              (v_proj): lora.Linear8bitLt(\n",
       "                (base_layer): Linear8bitLt(in_features=4096, out_features=4096, bias=False)\n",
       "                (lora_dropout): ModuleDict(\n",
       "                  (delta): Dropout(p=0.05, inplace=False)\n",
       "                )\n",
       "                (lora_A): ModuleDict(\n",
       "                  (delta): Linear(in_features=4096, out_features=8, bias=False)\n",
       "                )\n",
       "                (lora_B): ModuleDict(\n",
       "                  (delta): Linear(in_features=8, out_features=4096, bias=False)\n",
       "                )\n",
       "                (lora_embedding_A): ParameterDict()\n",
       "                (lora_embedding_B): ParameterDict()\n",
       "              )\n",
       "              (o_proj): Linear8bitLt(in_features=4096, out_features=4096, bias=False)\n",
       "              (rotary_emb): LlamaRotaryEmbedding()\n",
       "            )\n",
       "            (mlp): LlamaMLP(\n",
       "              (gate_proj): Linear8bitLt(in_features=4096, out_features=11008, bias=False)\n",
       "              (up_proj): Linear8bitLt(in_features=4096, out_features=11008, bias=False)\n",
       "              (down_proj): Linear8bitLt(in_features=11008, out_features=4096, bias=False)\n",
       "              (act_fn): SiLUActivation()\n",
       "            )\n",
       "            (input_layernorm): LlamaRMSNorm()\n",
       "            (post_attention_layernorm): LlamaRMSNorm()\n",
       "          )\n",
       "        )\n",
       "        (norm): LlamaRMSNorm()\n",
       "      )\n",
       "      (score): ModulesToSaveWrapper(\n",
       "        (original_module): Linear(in_features=4096, out_features=2, bias=False)\n",
       "        (modules_to_save): ModuleDict(\n",
       "          (delta): Linear(in_features=4096, out_features=2, bias=False)\n",
       "        )\n",
       "      )\n",
       "    )\n",
       "  )\n",
       ")"
      ]
     },
     "execution_count": 13,
     "metadata": {},
     "output_type": "execute_result"
    }
   ],
   "source": [
    "model"
   ]
  },
  {
   "cell_type": "code",
   "execution_count": 14,
   "id": "947f6e88-d104-4f56-8af4-b6726084d5da",
   "metadata": {
    "execution": {
     "iopub.execute_input": "2024-03-12T23:51:58.893926Z",
     "iopub.status.busy": "2024-03-12T23:51:58.893240Z",
     "iopub.status.idle": "2024-03-12T23:51:58.917356Z",
     "shell.execute_reply": "2024-03-12T23:51:58.916454Z",
     "shell.execute_reply.started": "2024-03-12T23:51:58.893866Z"
    },
    "tags": []
   },
   "outputs": [
    {
     "data": {
      "text/plain": [
       "PeftModelForSequenceClassification(\n",
       "  (base_model): LoraModel(\n",
       "    (model): LlamaForSequenceClassification(\n",
       "      (model): LlamaModel(\n",
       "        (embed_tokens): Embedding(32128, 4096)\n",
       "        (layers): ModuleList(\n",
       "          (0-31): 32 x LlamaDecoderLayer(\n",
       "            (self_attn): LlamaAttention(\n",
       "              (q_proj): lora.Linear8bitLt(\n",
       "                (base_layer): Linear8bitLt(in_features=4096, out_features=4096, bias=False)\n",
       "                (lora_dropout): ModuleDict(\n",
       "                  (delta): Dropout(p=0.05, inplace=False)\n",
       "                )\n",
       "                (lora_A): ModuleDict(\n",
       "                  (delta): Linear(in_features=4096, out_features=8, bias=False)\n",
       "                )\n",
       "                (lora_B): ModuleDict(\n",
       "                  (delta): Linear(in_features=8, out_features=4096, bias=False)\n",
       "                )\n",
       "                (lora_embedding_A): ParameterDict()\n",
       "                (lora_embedding_B): ParameterDict()\n",
       "              )\n",
       "              (k_proj): Linear8bitLt(in_features=4096, out_features=4096, bias=False)\n",
       "              (v_proj): lora.Linear8bitLt(\n",
       "                (base_layer): Linear8bitLt(in_features=4096, out_features=4096, bias=False)\n",
       "                (lora_dropout): ModuleDict(\n",
       "                  (delta): Dropout(p=0.05, inplace=False)\n",
       "                )\n",
       "                (lora_A): ModuleDict(\n",
       "                  (delta): Linear(in_features=4096, out_features=8, bias=False)\n",
       "                )\n",
       "                (lora_B): ModuleDict(\n",
       "                  (delta): Linear(in_features=8, out_features=4096, bias=False)\n",
       "                )\n",
       "                (lora_embedding_A): ParameterDict()\n",
       "                (lora_embedding_B): ParameterDict()\n",
       "              )\n",
       "              (o_proj): Linear8bitLt(in_features=4096, out_features=4096, bias=False)\n",
       "              (rotary_emb): LlamaRotaryEmbedding()\n",
       "            )\n",
       "            (mlp): LlamaMLP(\n",
       "              (gate_proj): Linear8bitLt(in_features=4096, out_features=11008, bias=False)\n",
       "              (up_proj): Linear8bitLt(in_features=4096, out_features=11008, bias=False)\n",
       "              (down_proj): Linear8bitLt(in_features=11008, out_features=4096, bias=False)\n",
       "              (act_fn): SiLUActivation()\n",
       "            )\n",
       "            (input_layernorm): LlamaRMSNorm()\n",
       "            (post_attention_layernorm): LlamaRMSNorm()\n",
       "          )\n",
       "        )\n",
       "        (norm): LlamaRMSNorm()\n",
       "      )\n",
       "      (score): ModulesToSaveWrapper(\n",
       "        (original_module): Linear(in_features=4096, out_features=2, bias=False)\n",
       "        (modules_to_save): ModuleDict(\n",
       "          (delta): Linear(in_features=4096, out_features=2, bias=False)\n",
       "        )\n",
       "      )\n",
       "    )\n",
       "  )\n",
       ")"
      ]
     },
     "execution_count": 14,
     "metadata": {},
     "output_type": "execute_result"
    }
   ],
   "source": [
    "model.eval()"
   ]
  },
  {
   "cell_type": "code",
   "execution_count": null,
   "id": "4122f48a-ddbf-48d5-8669-b2f036535bd5",
   "metadata": {},
   "outputs": [],
   "source": []
  },
  {
   "cell_type": "code",
   "execution_count": null,
   "id": "bfd912ed-9dd2-4469-9a21-ba6b863d1d43",
   "metadata": {},
   "outputs": [],
   "source": []
  },
  {
   "cell_type": "code",
   "execution_count": null,
   "id": "2b6b9df7-26c7-4405-b15d-8b42dc34bc72",
   "metadata": {},
   "outputs": [],
   "source": []
  },
  {
   "cell_type": "code",
   "execution_count": null,
   "id": "1bc5387a-826c-42f6-b764-8433de210ba9",
   "metadata": {},
   "outputs": [],
   "source": []
  },
  {
   "cell_type": "code",
   "execution_count": null,
   "id": "352ccbab-a17b-48a3-829a-67064d03af29",
   "metadata": {},
   "outputs": [],
   "source": []
  },
  {
   "cell_type": "markdown",
   "id": "df54d4fd-c642-4c17-bd7f-057ea00dda1d",
   "metadata": {},
   "source": [
    "# add_weighted_adapter: Failed with negative weights...?"
   ]
  },
  {
   "cell_type": "code",
   "execution_count": 52,
   "id": "dde9414d-aa5b-45d1-bd48-3ce6140024ae",
   "metadata": {
    "execution": {
     "iopub.execute_input": "2024-03-12T03:43:35.434901Z",
     "iopub.status.busy": "2024-03-12T03:43:35.434190Z",
     "iopub.status.idle": "2024-03-12T03:43:35.654697Z",
     "shell.execute_reply": "2024-03-12T03:43:35.653923Z",
     "shell.execute_reply.started": "2024-03-12T03:43:35.434842Z"
    },
    "tags": []
   },
   "outputs": [],
   "source": [
    "model.add_weighted_adapter([\"target\", \"source\"], [9, 4], combination_type=\"linear\", adapter_name=\"diff\")"
   ]
  },
  {
   "cell_type": "code",
   "execution_count": 62,
   "id": "3e84b470-4ff1-4d3c-8fec-7123ff322cad",
   "metadata": {
    "execution": {
     "iopub.execute_input": "2024-03-12T01:16:46.183185Z",
     "iopub.status.busy": "2024-03-12T01:16:46.182411Z",
     "iopub.status.idle": "2024-03-12T01:16:46.219574Z",
     "shell.execute_reply": "2024-03-12T01:16:46.218695Z",
     "shell.execute_reply.started": "2024-03-12T01:16:46.183122Z"
    },
    "tags": []
   },
   "outputs": [],
   "source": [
    "model.delete_adapter('diff')"
   ]
  },
  {
   "cell_type": "code",
   "execution_count": 57,
   "id": "b5f8cc10-4fdc-4e9d-a965-feb5c569d763",
   "metadata": {
    "execution": {
     "iopub.execute_input": "2024-03-12T01:15:58.408516Z",
     "iopub.status.busy": "2024-03-12T01:15:58.407632Z",
     "iopub.status.idle": "2024-03-12T01:15:58.418757Z",
     "shell.execute_reply": "2024-03-12T01:15:58.417567Z",
     "shell.execute_reply.started": "2024-03-12T01:15:58.408454Z"
    },
    "tags": []
   },
   "outputs": [
    {
     "data": {
      "text/plain": [
       "{'target': 4.0, 'source': 4.0, 'diff': 1.0}"
      ]
     },
     "execution_count": 57,
     "metadata": {},
     "output_type": "execute_result"
    }
   ],
   "source": [
    "model.base_model.model.model.layers[2].self_attn.q_proj.scaling"
   ]
  },
  {
   "cell_type": "code",
   "execution_count": 58,
   "id": "0d73c510-b575-450c-b5ee-7872bcd65a4e",
   "metadata": {
    "execution": {
     "iopub.execute_input": "2024-03-12T01:15:58.724805Z",
     "iopub.status.busy": "2024-03-12T01:15:58.724108Z",
     "iopub.status.idle": "2024-03-12T01:15:58.749202Z",
     "shell.execute_reply": "2024-03-12T01:15:58.747976Z",
     "shell.execute_reply.started": "2024-03-12T01:15:58.724747Z"
    },
    "tags": []
   },
   "outputs": [
    {
     "data": {
      "text/plain": [
       "Parameter containing:\n",
       "tensor([[ 0.0109,  0.0153, -0.0055,  ..., -0.0022,  0.0044,  0.0006],\n",
       "        [-0.0076, -0.0081,  0.0033,  ..., -0.0114, -0.0124, -0.0053],\n",
       "        [-0.0155, -0.0072,  0.0006,  ..., -0.0087,  0.0047,  0.0035],\n",
       "        ...,\n",
       "        [ 0.0162,  0.0151,  0.0047,  ...,  0.0080, -0.0051, -0.0144],\n",
       "        [ 0.0111,  0.0134,  0.0002,  ...,  0.0062, -0.0006,  0.0092],\n",
       "        [ 0.0123,  0.0111, -0.0155,  ..., -0.0023, -0.0092,  0.0164]],\n",
       "       device='cuda:0', requires_grad=True)"
      ]
     },
     "execution_count": 58,
     "metadata": {},
     "output_type": "execute_result"
    }
   ],
   "source": [
    "i = 2\n",
    "model.base_model.model.model.layers[i].self_attn.q_proj.lora_A.target.weight"
   ]
  },
  {
   "cell_type": "code",
   "execution_count": 59,
   "id": "277eb841-6c30-4aa1-9aba-8764f807058a",
   "metadata": {
    "execution": {
     "iopub.execute_input": "2024-03-12T01:15:58.951168Z",
     "iopub.status.busy": "2024-03-12T01:15:58.950625Z",
     "iopub.status.idle": "2024-03-12T01:15:58.984805Z",
     "shell.execute_reply": "2024-03-12T01:15:58.983755Z",
     "shell.execute_reply.started": "2024-03-12T01:15:58.951136Z"
    },
    "tags": []
   },
   "outputs": [
    {
     "data": {
      "text/plain": [
       "Parameter containing:\n",
       "tensor([[-0.0005,  0.0104, -0.0027,  ..., -0.0083,  0.0067, -0.0059],\n",
       "        [ 0.0049, -0.0022, -0.0096,  ...,  0.0040,  0.0041, -0.0020],\n",
       "        [ 0.0136, -0.0037, -0.0033,  ...,  0.0034, -0.0149, -0.0146],\n",
       "        ...,\n",
       "        [-0.0039,  0.0060,  0.0051,  ...,  0.0044,  0.0038,  0.0051],\n",
       "        [-0.0042,  0.0079, -0.0011,  ..., -0.0014,  0.0029, -0.0080],\n",
       "        [ 0.0127, -0.0015,  0.0055,  ...,  0.0044, -0.0059,  0.0054]],\n",
       "       device='cuda:0')"
      ]
     },
     "execution_count": 59,
     "metadata": {},
     "output_type": "execute_result"
    }
   ],
   "source": [
    "model.base_model.model.model.layers[i].self_attn.q_proj.lora_A.source.weight"
   ]
  },
  {
   "cell_type": "code",
   "execution_count": 60,
   "id": "24a217c8-fac3-44e6-9637-41cf524d63ae",
   "metadata": {
    "execution": {
     "iopub.execute_input": "2024-03-12T01:15:59.133955Z",
     "iopub.status.busy": "2024-03-12T01:15:59.133437Z",
     "iopub.status.idle": "2024-03-12T01:15:59.165302Z",
     "shell.execute_reply": "2024-03-12T01:15:59.164178Z",
     "shell.execute_reply.started": "2024-03-12T01:15:59.133926Z"
    },
    "tags": []
   },
   "outputs": [
    {
     "data": {
      "text/plain": [
       "Parameter containing:\n",
       "tensor([[ 0.0627,  0.1544, -0.0492,  ..., -0.0629,  0.0667, -0.0318],\n",
       "        [-0.0161, -0.0621, -0.0378,  ..., -0.0443, -0.0496, -0.0439],\n",
       "        [-0.0115, -0.0654, -0.0161,  ..., -0.0318, -0.0609, -0.0667],\n",
       "        ...,\n",
       "        [ 0.0736,  0.1268,  0.0589,  ...,  0.0747, -0.0075, -0.0558],\n",
       "        [ 0.0412,  0.1281, -0.0052,  ...,  0.0285,  0.0140,  0.0073],\n",
       "        [ 0.1501,  0.0572, -0.0595,  ...,  0.0129, -0.0902,  0.1306]],\n",
       "       device='cuda:0')"
      ]
     },
     "execution_count": 60,
     "metadata": {},
     "output_type": "execute_result"
    }
   ],
   "source": [
    "model.base_model.model.model.layers[i].self_attn.q_proj.lora_A.diff.weight"
   ]
  },
  {
   "cell_type": "code",
   "execution_count": 61,
   "id": "3e038f61-3c10-4be8-8358-a73817f5179e",
   "metadata": {
    "execution": {
     "iopub.execute_input": "2024-03-12T01:16:23.894067Z",
     "iopub.status.busy": "2024-03-12T01:16:23.893299Z",
     "iopub.status.idle": "2024-03-12T01:16:23.905638Z",
     "shell.execute_reply": "2024-03-12T01:16:23.904101Z",
     "shell.execute_reply.started": "2024-03-12T01:16:23.894003Z"
    },
    "tags": []
   },
   "outputs": [
    {
     "data": {
      "text/plain": [
       "0.0624"
      ]
     },
     "execution_count": 61,
     "metadata": {},
     "output_type": "execute_result"
    }
   ],
   "source": [
    "0.0109 * 6 + (-0.0005 * math.sqrt(4*9))"
   ]
  },
  {
   "cell_type": "code",
   "execution_count": null,
   "id": "15554b86-d7cc-4080-b2b4-2a6a7cc7877b",
   "metadata": {},
   "outputs": [],
   "source": []
  },
  {
   "cell_type": "code",
   "execution_count": null,
   "id": "de755cd0-67be-400a-80c7-d8f84778b5c1",
   "metadata": {},
   "outputs": [],
   "source": []
  },
  {
   "cell_type": "code",
   "execution_count": null,
   "id": "aa368887-f404-4a05-b944-614e5f72fab7",
   "metadata": {},
   "outputs": [],
   "source": []
  },
  {
   "cell_type": "code",
   "execution_count": null,
   "id": "60523cb0-101a-4332-8c5e-c8162a975e83",
   "metadata": {},
   "outputs": [],
   "source": []
  },
  {
   "cell_type": "code",
   "execution_count": null,
   "id": "2a4c5b72-9dc1-4845-b08b-31497818253a",
   "metadata": {},
   "outputs": [],
   "source": []
  },
  {
   "cell_type": "markdown",
   "id": "fd06c005-f9ce-4908-a44f-d8f6f73ce352",
   "metadata": {},
   "source": [
    "# Predict"
   ]
  },
  {
   "cell_type": "code",
   "execution_count": 12,
   "id": "8045dc93-5240-494a-88f2-bd1e0efb14b9",
   "metadata": {
    "execution": {
     "iopub.execute_input": "2024-03-18T18:33:28.340371Z",
     "iopub.status.busy": "2024-03-18T18:33:28.339385Z",
     "iopub.status.idle": "2024-03-18T18:33:57.614763Z",
     "shell.execute_reply": "2024-03-18T18:33:57.613453Z",
     "shell.execute_reply.started": "2024-03-18T18:33:28.340328Z"
    },
    "tags": []
   },
   "outputs": [
    {
     "name": "stderr",
     "output_type": "stream",
     "text": [
      "/home/NETID/xiruod/projects/DeconDTN/notebooks_xiruo/../src/utils.py:29: RuntimeWarning: invalid value encountered in scalar divide\n",
      "  alpha_train = p_pos_train_z1 / p_pos_train_z0\n",
      "/home/NETID/xiruod/projects/DeconDTN/notebooks_xiruo/../src/utils.py:29: RuntimeWarning: divide by zero encountered in scalar divide\n",
      "  alpha_train = p_pos_train_z1 / p_pos_train_z0\n"
     ]
    }
   ],
   "source": [
    "sys.path.append(\"../src\")\n",
    "\n",
    "from utils import number_split, create_mix\n",
    "\n",
    "\n",
    "from data_process import load_wls_adress_AddDomain\n",
    "from process_SHAC import load_process_SHAC\n",
    "\n",
    "\n",
    "\n",
    "class train_config:\n",
    "    def __init__(self):\n",
    "        self.quantization: bool = False\n",
    "\n",
    "        \n",
    "\n",
    "\n",
    "globalconfig = train_config()\n",
    "globalconfig.quantization = args.quantization\n",
    "globalconfig.model_id = f\"/bime-munin/llama2_hf/llama-2-{args.model_size}b_hf/\"\n",
    "globalconfig.max_seq_length = 1024\n",
    "globalconfig.num_train_epochs = 3\n",
    "globalconfig.runs = 1\n",
    "globalconfig.lr = 1e-4\n",
    "globalconfig.warmup_ratio = 0.1\n",
    "globalconfig.lora_r = args.lora_r\n",
    "globalconfig.profiler = False\n",
    "globalconfig.device = \"cuda:0\"\n",
    "\n",
    "if args.model_size == 70:\n",
    "    # os.environ[\"CUDA_VISIBLE_DEVICES\"] = \"0,1\"\n",
    "    globalconfig.per_device_train_batch_size = 1 #2\n",
    "    globalconfig.per_device_eval_batch_size = 1 #2\n",
    "    \n",
    "\n",
    "else:\n",
    "    # os.environ[\"CUDA_VISIBLE_DEVICES\"] = \"0\"\n",
    "    globalconfig.per_device_train_batch_size = 8\n",
    "    globalconfig.per_device_eval_batch_size = 8\n",
    "    \n",
    "\n",
    "if args.quantization:\n",
    "    dir_q_snippet = \"quantization\"\n",
    "else:\n",
    "    dir_q_snippet = \"NOquantization\"\n",
    "\n",
    "# globalconfig.output_dir = f\"~/llama2_SHAC/n200/set-{args.CombinationIdx}-{dir_q_snippet}-epoch3-llama-2-{args.model_size}B-loraR-{args.lora_r}\"\n",
    "\n",
    "\n",
    "######  Load Data\n",
    "\n",
    "### SHAC\n",
    "\n",
    "z_category = [\"uw\", \"mimic\"]\n",
    "y_cat = [\"False\", \"True\"]\n",
    "\n",
    "txt_col = \"text\"\n",
    "domain_col = \"location\"\n",
    "\n",
    "if args.toPredict == \"Target\":\n",
    "    label = \"Drug\"\n",
    "    globalconfig.output_dir = f\"/bime-munin/xiruod/llama2_SHAC/n{args.nTest}/set-{args.CombinationIdx}-{dir_q_snippet}-epoch3-llama-2-{args.model_size}B-loraR-{args.lora_r}\"\n",
    "\n",
    "    label2id = {z: idx for idx, z in zip(range(len(y_cat)), y_cat)}\n",
    "    id2label = {idx: z for idx, z in zip(range(len(y_cat)), y_cat)}\n",
    "\n",
    "    df_shac = load_process_SHAC(replaceNA=\"all\")\n",
    "\n",
    "    df_shac[\"label_binary\"] = df_shac.apply(lambda x: 1 if x[label] else 0, axis=1)\n",
    "    df_shac[\"dfSource\"] = df_shac[domain_col]\n",
    "    \n",
    "elif args.toPredict == \"Source\":\n",
    "    label = \"location\"\n",
    "    globalconfig.output_dir = f\"/bime-munin/xiruod/llama2_SHAC/n{args.nTest}/Source-set-{args.CombinationIdx}-{dir_q_snippet}-epoch3-llama-2-{args.model_size}B-loraR-{args.lora_r}\"\n",
    "\n",
    "    label2id = {z: idx for idx, z in zip(range(len(z_category)), z_category)}\n",
    "    id2label = {idx: z for idx, z in zip(range(len(z_category)), z_category)}\n",
    "\n",
    "    df_shac = load_process_SHAC(replaceNA=\"all\")\n",
    "\n",
    "    df_shac[\"label_binary\"] = df_shac.apply(lambda x: label2id[x[label]], axis=1)\n",
    "    df_shac[\"dfSource\"] = df_shac[domain_col]\n",
    "    \n",
    "else:\n",
    "    sys.exit(\"Unknown Outcome: 'Target' and 'Source' ONLY\")\n",
    "\n",
    "df_shac_uw = df_shac.query(\"location == 'uw'\").reset_index(drop=True)\n",
    "df_shac_mimic = df_shac.query(\"location == 'mimic'\").reset_index(drop=True)\n",
    "\n",
    "##### Split\n",
    "# SHAC-Drug - Balanced Alpha\n",
    "n_test = args.nTest\n",
    "train_test_ratio = 4\n",
    "\n",
    "\n",
    "p_pos_train_z0_ls = np.arange(\n",
    "    0, 1, 0.1\n",
    ")  # probability of training set examples drawn from site/domain z0 being positive\n",
    "p_pos_train_z1_ls = np.arange(\n",
    "    0, 1, 0.1\n",
    ")  # probability of test set examples drawn from site/domain z1 being positive\n",
    "\n",
    "p_mix_z1_ls = np.arange(0, 1, 0.05)\n",
    "\n",
    "numvals = 1023\n",
    "base = 1.1\n",
    "alpha_test_ls = np.power(base, np.arange(numvals)) / np.power(base, numvals // 2)\n",
    "\n",
    "valid_full_settings = []\n",
    "for combination in itertools.product(\n",
    "    p_pos_train_z0_ls, p_pos_train_z1_ls, p_mix_z1_ls, alpha_test_ls\n",
    "):\n",
    "    number_setting = number_split(\n",
    "        p_pos_train_z0=combination[0],\n",
    "        p_pos_train_z1=combination[1],\n",
    "        p_mix_z1=combination[2],\n",
    "        alpha_test=combination[3],\n",
    "        train_test_ratio=train_test_ratio,\n",
    "        n_test=n_test,\n",
    "        verbose=False,\n",
    "    )\n",
    "\n",
    "    if number_setting is not None:\n",
    "        if np.all([number_setting[k] >= 10 for k in list(number_setting.keys())[:-1]]):\n",
    "            valid_full_settings.append(number_setting)\n",
    "\n",
    "\n",
    "# run for check valid settings\n",
    "\n",
    "import warnings\n",
    "\n",
    "warnings.simplefilter(\"ignore\")\n",
    "\n",
    "# Validate settings\n",
    "\n",
    "df0 = df_shac_uw\n",
    "df1 = df_shac_mimic"
   ]
  },
  {
   "cell_type": "code",
   "execution_count": 13,
   "id": "eaf8c6ec-6343-43a9-a1da-a3dd0126ad2f",
   "metadata": {
    "execution": {
     "iopub.execute_input": "2024-03-18T18:33:57.616429Z",
     "iopub.status.busy": "2024-03-18T18:33:57.616165Z",
     "iopub.status.idle": "2024-03-18T18:33:58.100455Z",
     "shell.execute_reply": "2024-03-18T18:33:58.099536Z",
     "shell.execute_reply.started": "2024-03-18T18:33:57.616405Z"
    },
    "tags": []
   },
   "outputs": [
    {
     "data": {
      "application/vnd.jupyter.widget-view+json": {
       "model_id": "da97bcd33dd74bde99084a027d79fcd8",
       "version_major": 2,
       "version_minor": 0
      },
      "text/plain": [
       "  0%|          | 0/46811 [00:00<?, ?it/s]"
      ]
     },
     "metadata": {},
     "output_type": "display_data"
    }
   ],
   "source": [
    "valid_n_full_settings = []\n",
    "\n",
    "for c in tqdm(valid_full_settings):\n",
    "    c = c.copy()\n",
    "    # create train/test split according to stats\n",
    "    dfs = create_mix(df0=df0, df1=df1, target=label if args.toPredict == \"Target\" else \"Drug\", setting=c, sample=False, seed=222)\n",
    "\n",
    "    if dfs is None:\n",
    "        continue\n",
    "\n",
    "    valid_n_full_settings.append(c)\n",
    "    break"
   ]
  },
  {
   "cell_type": "code",
   "execution_count": 14,
   "id": "9356b36f-2221-4a26-8ccf-a045a57515ba",
   "metadata": {
    "execution": {
     "iopub.execute_input": "2024-03-18T18:33:58.101711Z",
     "iopub.status.busy": "2024-03-18T18:33:58.101397Z",
     "iopub.status.idle": "2024-03-18T18:34:00.449712Z",
     "shell.execute_reply": "2024-03-18T18:34:00.449103Z",
     "shell.execute_reply.started": "2024-03-18T18:33:58.101690Z"
    },
    "tags": []
   },
   "outputs": [
    {
     "name": "stdout",
     "output_type": "stream",
     "text": [
      "Balanced? Check setting....\n",
      "{'n_train': 2000, 'n_test': 500, 'n_z0_pos_train': 130, 'n_z0_neg_train': 1170, 'n_z0_pos_test': 40, 'n_z0_neg_test': 285, 'n_z1_pos_train': 70, 'n_z1_neg_train': 630, 'n_z1_pos_test': 10, 'n_z1_neg_test': 165, 'mix_param_dict': {'p_pos_train_z0': 0.1, 'p_pos_train_z1': 0.1, 'p_pos_train': 0.09999999999999999, 'p_pos_test': 0.09999999999999999, 'p_mix_z0': 0.6499999999999999, 'p_mix_z1': 0.35000000000000003, 'alpha_train': 1.0, 'alpha_test': 0.4665073802097331, 'p_pos_test_z0': 0.12295924796315696, 'p_pos_test_z1': 0.05736139663985131, 'C_y': 0.09999999999999999, 'C_z': 0.35000000000000003}}\n"
     ]
    },
    {
     "data": {
      "application/vnd.jupyter.widget-view+json": {
       "model_id": "044ecc70c293453ebef58726ed8686ee",
       "version_major": 2,
       "version_minor": 0
      },
      "text/plain": [
       "Map:   0%|          | 0/2000 [00:00<?, ? examples/s]"
      ]
     },
     "metadata": {},
     "output_type": "display_data"
    },
    {
     "data": {
      "application/vnd.jupyter.widget-view+json": {
       "model_id": "8c56a29659e24095953648eb6a7e34fe",
       "version_major": 2,
       "version_minor": 0
      },
      "text/plain": [
       "Map:   0%|          | 0/500 [00:00<?, ? examples/s]"
      ]
     },
     "metadata": {},
     "output_type": "display_data"
    }
   ],
   "source": [
    "##### Dataset Loader and Tokenizer\n",
    "def preprocess_function(examples):\n",
    "    # tokenize\n",
    "    ret = tokenizer(\n",
    "        examples[txt_col],\n",
    "        return_tensors=\"pt\",\n",
    "        max_length=globalconfig.max_seq_length,\n",
    "        padding=\"max_length\",\n",
    "        truncation=True,\n",
    "    ).to(globalconfig.device)\n",
    "\n",
    "    return ret\n",
    "\n",
    "\n",
    "def datasets_loader(df):\n",
    "    # from pandas df to Dataset & tokenize\n",
    "    ret_datasets = datasets.Dataset.from_pandas(\n",
    "        df[[txt_col, \"dfSource\", \"label_binary\"]]\n",
    "        .rename(columns={\"label_binary\": \"label\"})\n",
    "        .reset_index(drop=True)\n",
    "    )\n",
    "    ret_tokenized = ret_datasets.map(preprocess_function, batched=True)\n",
    "\n",
    "    return ret_tokenized\n",
    "\n",
    "\n",
    "##### Experiment - ONLY One Setting\n",
    "\n",
    "print(\"Balanced? Check setting....\")\n",
    "print(c)\n",
    "dfs = create_mix(\n",
    "    df0=df0,\n",
    "    df1=df1,\n",
    "    target=label if args.toPredict == \"Target\" else \"Drug\",\n",
    "    setting=c,\n",
    "    sample=False,\n",
    "    # seed=random.randint(0,1000),\n",
    "    seed=222,\n",
    ")\n",
    "\n",
    "tokenized_train = datasets_loader(dfs[\"train\"])\n",
    "tokenized_test = datasets_loader(dfs[\"test\"])\n",
    "\n",
    "\n",
    "## Define metric\n",
    "def compute_metrics_twoLevels(eval_pred):\n",
    "    # compute AUPRC, based on only two levels of Y\n",
    "    predictions, labels = eval_pred\n",
    "    probabilities = nn.functional.softmax(torch.FloatTensor(predictions), dim=-1)[:, 1]\n",
    "\n",
    "    auprc = average_precision_score(y_true=labels, y_score=probabilities)\n",
    "\n",
    "    return {\"auprc\": auprc}"
   ]
  },
  {
   "cell_type": "code",
   "execution_count": 12,
   "id": "f8dbf454-7b53-4529-aa31-9f9bfadcd94b",
   "metadata": {
    "execution": {
     "iopub.execute_input": "2024-03-18T16:53:41.622003Z",
     "iopub.status.busy": "2024-03-18T16:53:41.621766Z",
     "iopub.status.idle": "2024-03-18T16:53:41.647396Z",
     "shell.execute_reply": "2024-03-18T16:53:41.646082Z",
     "shell.execute_reply.started": "2024-03-18T16:53:41.621980Z"
    },
    "tags": []
   },
   "outputs": [],
   "source": [
    "df_in = tokenizer(\n",
    "        list(dfs['test'].iloc[:15]['text']),\n",
    "        return_tensors=\"pt\",\n",
    "        max_length=globalconfig.max_seq_length,\n",
    "        padding=\"max_length\",\n",
    "        truncation=True,\n",
    "    )"
   ]
  },
  {
   "cell_type": "code",
   "execution_count": 20,
   "id": "7cfa766a-dc85-45ff-a61b-d830f6edde6a",
   "metadata": {
    "execution": {
     "iopub.execute_input": "2024-03-12T23:53:03.969115Z",
     "iopub.status.busy": "2024-03-12T23:53:03.968801Z",
     "iopub.status.idle": "2024-03-12T23:53:03.979215Z",
     "shell.execute_reply": "2024-03-12T23:53:03.977884Z",
     "shell.execute_reply.started": "2024-03-12T23:53:03.969087Z"
    },
    "tags": []
   },
   "outputs": [
    {
     "data": {
      "text/plain": [
       "{'input_ids': tensor([[    1,   379,  2882,  ..., 32000, 32000, 32000],\n",
       "        [    1,  7791,  8426,  ..., 32000, 32000, 32000],\n",
       "        [    1,  7791,  8426,  ..., 32000, 32000, 32000],\n",
       "        ...,\n",
       "        [    1, 10307,  5298,  ..., 32000, 32000, 32000],\n",
       "        [    1, 10307,  5298,  ..., 32000, 32000, 32000],\n",
       "        [    1,   379,  2882,  ..., 32000, 32000, 32000]]), 'attention_mask': tensor([[1, 1, 1,  ..., 0, 0, 0],\n",
       "        [1, 1, 1,  ..., 0, 0, 0],\n",
       "        [1, 1, 1,  ..., 0, 0, 0],\n",
       "        ...,\n",
       "        [1, 1, 1,  ..., 0, 0, 0],\n",
       "        [1, 1, 1,  ..., 0, 0, 0],\n",
       "        [1, 1, 1,  ..., 0, 0, 0]])}"
      ]
     },
     "execution_count": 20,
     "metadata": {},
     "output_type": "execute_result"
    }
   ],
   "source": [
    "df_in"
   ]
  },
  {
   "cell_type": "code",
   "execution_count": 33,
   "id": "2c9b2533-9643-4f26-b1ec-563709ef867d",
   "metadata": {
    "execution": {
     "iopub.execute_input": "2024-03-18T16:49:19.925302Z",
     "iopub.status.busy": "2024-03-18T16:49:19.924888Z",
     "iopub.status.idle": "2024-03-18T16:49:19.933062Z",
     "shell.execute_reply": "2024-03-18T16:49:19.931750Z",
     "shell.execute_reply.started": "2024-03-18T16:49:19.925269Z"
    },
    "tags": []
   },
   "outputs": [
    {
     "data": {
      "text/plain": [
       "dict_keys(['input_ids', 'attention_mask'])"
      ]
     },
     "execution_count": 33,
     "metadata": {},
     "output_type": "execute_result"
    }
   ],
   "source": [
    "df_in.keys()"
   ]
  },
  {
   "cell_type": "code",
   "execution_count": 40,
   "id": "afcee94b-e706-418b-b6ea-a818ee7dcdbf",
   "metadata": {
    "execution": {
     "iopub.execute_input": "2024-03-12T23:55:21.263452Z",
     "iopub.status.busy": "2024-03-12T23:55:21.262745Z",
     "iopub.status.idle": "2024-03-12T23:55:21.273722Z",
     "shell.execute_reply": "2024-03-12T23:55:21.272386Z",
     "shell.execute_reply.started": "2024-03-12T23:55:21.263389Z"
    },
    "tags": []
   },
   "outputs": [
    {
     "data": {
      "text/plain": [
       "torch.Size([15, 1024])"
      ]
     },
     "execution_count": 40,
     "metadata": {},
     "output_type": "execute_result"
    }
   ],
   "source": [
    "df_in['input_ids'].shape"
   ]
  },
  {
   "cell_type": "code",
   "execution_count": 58,
   "id": "f4ea0566-2bf8-4067-a3b8-c1793ec7e81d",
   "metadata": {
    "execution": {
     "iopub.execute_input": "2024-03-12T23:58:17.622715Z",
     "iopub.status.busy": "2024-03-12T23:58:17.621988Z",
     "iopub.status.idle": "2024-03-12T23:58:19.555141Z",
     "shell.execute_reply": "2024-03-12T23:58:19.553965Z",
     "shell.execute_reply.started": "2024-03-12T23:58:17.622655Z"
    },
    "tags": []
   },
   "outputs": [],
   "source": [
    "model.set_adapter('delta')\n",
    "model.eval()\n",
    "with torch.no_grad():\n",
    "    tmp = model(input_ids=df_in['input_ids'], attention_mask=df_in['attention_mask'])"
   ]
  },
  {
   "cell_type": "code",
   "execution_count": 59,
   "id": "2043f670-7965-4086-b056-dce3444dfff4",
   "metadata": {
    "execution": {
     "iopub.execute_input": "2024-03-12T23:58:20.133276Z",
     "iopub.status.busy": "2024-03-12T23:58:20.132935Z",
     "iopub.status.idle": "2024-03-12T23:58:20.139430Z",
     "shell.execute_reply": "2024-03-12T23:58:20.138615Z",
     "shell.execute_reply.started": "2024-03-12T23:58:20.133258Z"
    },
    "tags": []
   },
   "outputs": [
    {
     "data": {
      "text/plain": [
       "tensor([[-0.9814, -1.1426],\n",
       "        [ 1.8564, -0.2979],\n",
       "        [ 0.4932, -3.0684],\n",
       "        [-1.5459, -2.6211],\n",
       "        [-0.4260, -0.3877],\n",
       "        [-0.4724, -0.4685],\n",
       "        [ 1.2012, -1.4082],\n",
       "        [ 0.0987, -4.5859],\n",
       "        [-0.5771, -3.2051],\n",
       "        [-0.9287, -0.7275],\n",
       "        [ 1.1318, -3.9277],\n",
       "        [-1.0410, -1.9648],\n",
       "        [ 1.2861, -2.3691],\n",
       "        [-0.8003, -2.6777],\n",
       "        [-0.3035,  0.6147]], dtype=torch.float16)"
      ]
     },
     "execution_count": 59,
     "metadata": {},
     "output_type": "execute_result"
    }
   ],
   "source": [
    "tmp['logits']"
   ]
  },
  {
   "cell_type": "code",
   "execution_count": 60,
   "id": "61a8e7a4-88b4-4e63-8295-7bbe4396b2d3",
   "metadata": {
    "execution": {
     "iopub.execute_input": "2024-03-12T23:58:20.614982Z",
     "iopub.status.busy": "2024-03-12T23:58:20.614817Z",
     "iopub.status.idle": "2024-03-12T23:58:20.620057Z",
     "shell.execute_reply": "2024-03-12T23:58:20.618575Z",
     "shell.execute_reply.started": "2024-03-12T23:58:20.614967Z"
    },
    "tags": []
   },
   "outputs": [],
   "source": [
    "from scipy.special import softmax"
   ]
  },
  {
   "cell_type": "code",
   "execution_count": 61,
   "id": "3e1f644c-ff2f-4e23-87e6-7df38aa4178e",
   "metadata": {
    "execution": {
     "iopub.execute_input": "2024-03-12T23:58:22.134692Z",
     "iopub.status.busy": "2024-03-12T23:58:22.134041Z",
     "iopub.status.idle": "2024-03-12T23:58:22.146866Z",
     "shell.execute_reply": "2024-03-12T23:58:22.145465Z",
     "shell.execute_reply.started": "2024-03-12T23:58:22.134632Z"
    },
    "tags": []
   },
   "outputs": [
    {
     "data": {
      "text/plain": [
       "array([[0.54    , 0.4597  ],\n",
       "       [0.896   , 0.1039  ],\n",
       "       [0.9727  , 0.02759 ],\n",
       "       [0.745   , 0.2544  ],\n",
       "       [0.4902  , 0.5093  ],\n",
       "       [0.499   , 0.501   ],\n",
       "       [0.9316  , 0.0686  ],\n",
       "       [0.991   , 0.00916 ],\n",
       "       [0.9326  , 0.06726 ],\n",
       "       [0.4497  , 0.55    ],\n",
       "       [0.993   , 0.006313],\n",
       "       [0.7163  , 0.2842  ],\n",
       "       [0.975   , 0.02519 ],\n",
       "       [0.867   , 0.1327  ],\n",
       "       [0.2854  , 0.7144  ]], dtype=float16)"
      ]
     },
     "execution_count": 61,
     "metadata": {},
     "output_type": "execute_result"
    }
   ],
   "source": [
    "softmax(tmp['logits'], axis=1)"
   ]
  },
  {
   "cell_type": "code",
   "execution_count": 37,
   "id": "6d9fe4ca-e85d-4b7d-bc1d-30d05124acbe",
   "metadata": {
    "execution": {
     "iopub.execute_input": "2024-03-12T23:54:31.613865Z",
     "iopub.status.busy": "2024-03-12T23:54:31.613208Z",
     "iopub.status.idle": "2024-03-12T23:54:31.625122Z",
     "shell.execute_reply": "2024-03-12T23:54:31.624134Z",
     "shell.execute_reply.started": "2024-03-12T23:54:31.613805Z"
    },
    "tags": []
   },
   "outputs": [
    {
     "data": {
      "text/plain": [
       "array([0.466   , 0.1357  , 0.02461 , 0.2487  , 0.5625  , 0.489   ,\n",
       "       0.0799  , 0.010826, 0.0621  , 0.4868  , 0.009125, 0.2264  ,\n",
       "       0.02446 , 0.11005 , 0.7476  , 0.03406 , 0.03656 ], dtype=float16)"
      ]
     },
     "execution_count": 37,
     "metadata": {},
     "output_type": "execute_result"
    }
   ],
   "source": [
    "softmax(tmp['logits'], axis=1)[:,1]"
   ]
  },
  {
   "cell_type": "code",
   "execution_count": null,
   "id": "56f01797-37e2-4196-b1e3-833c65cbe6a9",
   "metadata": {},
   "outputs": [],
   "source": []
  },
  {
   "cell_type": "code",
   "execution_count": null,
   "id": "abfd0d13-c588-4be9-993d-794574162e80",
   "metadata": {},
   "outputs": [],
   "source": []
  },
  {
   "cell_type": "code",
   "execution_count": 118,
   "id": "c23661e4-7b89-4126-b8d9-57d9c85271ec",
   "metadata": {
    "execution": {
     "iopub.execute_input": "2024-03-12T23:46:02.496756Z",
     "iopub.status.busy": "2024-03-12T23:46:02.496023Z",
     "iopub.status.idle": "2024-03-12T23:46:02.507114Z",
     "shell.execute_reply": "2024-03-12T23:46:02.505728Z",
     "shell.execute_reply.started": "2024-03-12T23:46:02.496693Z"
    },
    "tags": []
   },
   "outputs": [
    {
     "data": {
      "text/plain": [
       "15"
      ]
     },
     "execution_count": 118,
     "metadata": {},
     "output_type": "execute_result"
    }
   ],
   "source": [
    "len(df_in['input_ids'])"
   ]
  },
  {
   "cell_type": "code",
   "execution_count": 64,
   "id": "f1ae2684-81b8-4fc2-9fe6-64739d172d2f",
   "metadata": {
    "execution": {
     "iopub.execute_input": "2024-03-12T23:59:17.442639Z",
     "iopub.status.busy": "2024-03-12T23:59:17.442272Z",
     "iopub.status.idle": "2024-03-12T23:59:17.449391Z",
     "shell.execute_reply": "2024-03-12T23:59:17.448075Z",
     "shell.execute_reply.started": "2024-03-12T23:59:17.442608Z"
    },
    "tags": []
   },
   "outputs": [],
   "source": [
    "l = list(range(len(df_in['input_ids'])))\n",
    "n = 3\n",
    "idx_ls = [l[i:i+n] for i in range(len(l)) if i%n==0]"
   ]
  },
  {
   "cell_type": "code",
   "execution_count": 65,
   "id": "e4f93bda-fcdc-4803-a6e8-fdc77341fc0e",
   "metadata": {
    "execution": {
     "iopub.execute_input": "2024-03-12T23:59:17.657571Z",
     "iopub.status.busy": "2024-03-12T23:59:17.657225Z",
     "iopub.status.idle": "2024-03-12T23:59:17.666280Z",
     "shell.execute_reply": "2024-03-12T23:59:17.664820Z",
     "shell.execute_reply.started": "2024-03-12T23:59:17.657540Z"
    },
    "tags": []
   },
   "outputs": [
    {
     "data": {
      "text/plain": [
       "[[0, 1, 2], [3, 4, 5], [6, 7, 8], [9, 10, 11], [12, 13, 14]]"
      ]
     },
     "execution_count": 65,
     "metadata": {},
     "output_type": "execute_result"
    }
   ],
   "source": [
    "idx_ls"
   ]
  },
  {
   "cell_type": "code",
   "execution_count": 66,
   "id": "d7718aea-4eaa-4fe1-a1e5-dc24106b26da",
   "metadata": {
    "execution": {
     "iopub.execute_input": "2024-03-12T23:59:18.903881Z",
     "iopub.status.busy": "2024-03-12T23:59:18.903157Z",
     "iopub.status.idle": "2024-03-12T23:59:21.156151Z",
     "shell.execute_reply": "2024-03-12T23:59:21.155115Z",
     "shell.execute_reply.started": "2024-03-12T23:59:18.903819Z"
    },
    "tags": []
   },
   "outputs": [],
   "source": [
    "y_ls = []\n",
    "model.set_adapter('delta')\n",
    "with torch.no_grad():\n",
    "    for idx in idx_ls:\n",
    "        model.eval()\n",
    "\n",
    "        ret_output = model.forward(input_ids=df_in['input_ids'][idx], attention_mask=df_in['attention_mask'][idx])\n",
    "        y_probs_ = softmax(ret_output[\"logits\"], axis=1)\n",
    "        y_ls.append(y_probs_)"
   ]
  },
  {
   "cell_type": "code",
   "execution_count": 63,
   "id": "a0d52579-ebda-4a8d-83cc-d97fd953b220",
   "metadata": {
    "execution": {
     "iopub.execute_input": "2024-03-12T23:59:14.097150Z",
     "iopub.status.busy": "2024-03-12T23:59:14.096521Z",
     "iopub.status.idle": "2024-03-12T23:59:14.108616Z",
     "shell.execute_reply": "2024-03-12T23:59:14.107223Z",
     "shell.execute_reply.started": "2024-03-12T23:59:14.097084Z"
    },
    "tags": []
   },
   "outputs": [
    {
     "data": {
      "text/plain": [
       "array([[0.498   , 0.502   ],\n",
       "       [0.8965  , 0.1036  ],\n",
       "       [0.9727  , 0.02731 ],\n",
       "       [0.7334  , 0.2664  ],\n",
       "       [0.5273  , 0.4727  ],\n",
       "       [0.4792  , 0.521   ],\n",
       "       [0.934   , 0.06586 ],\n",
       "       [0.99    , 0.009224],\n",
       "       [0.942   , 0.0577  ],\n",
       "       [0.526   , 0.474   ],\n",
       "       [0.992   , 0.008194],\n",
       "       [0.7466  , 0.254   ],\n",
       "       [0.975   , 0.02441 ],\n",
       "       [0.8604  , 0.139   ],\n",
       "       [0.2803  , 0.7197  ]], dtype=float16)"
      ]
     },
     "execution_count": 63,
     "metadata": {},
     "output_type": "execute_result"
    }
   ],
   "source": [
    "np.concatenate(y_ls)"
   ]
  },
  {
   "cell_type": "code",
   "execution_count": 67,
   "id": "76864dda-a146-4ad8-b5c2-0e65883d392f",
   "metadata": {
    "execution": {
     "iopub.execute_input": "2024-03-12T23:59:21.157710Z",
     "iopub.status.busy": "2024-03-12T23:59:21.157361Z",
     "iopub.status.idle": "2024-03-12T23:59:21.165155Z",
     "shell.execute_reply": "2024-03-12T23:59:21.164171Z",
     "shell.execute_reply.started": "2024-03-12T23:59:21.157693Z"
    },
    "tags": []
   },
   "outputs": [
    {
     "data": {
      "text/plain": [
       "array([[0.549   , 0.4514  ],\n",
       "       [0.8843  , 0.1153  ],\n",
       "       [0.977   , 0.02246 ],\n",
       "       [0.711   , 0.2888  ],\n",
       "       [0.4614  , 0.5386  ],\n",
       "       [0.518   , 0.4814  ],\n",
       "       [0.9233  , 0.07684 ],\n",
       "       [0.9893  , 0.01095 ],\n",
       "       [0.934   , 0.06586 ],\n",
       "       [0.4082  , 0.592   ],\n",
       "       [0.993   , 0.006588],\n",
       "       [0.753   , 0.2468  ],\n",
       "       [0.975   , 0.0247  ],\n",
       "       [0.872   , 0.1277  ],\n",
       "       [0.2664  , 0.7334  ]], dtype=float16)"
      ]
     },
     "execution_count": 67,
     "metadata": {},
     "output_type": "execute_result"
    }
   ],
   "source": [
    "np.concatenate(y_ls)"
   ]
  },
  {
   "cell_type": "code",
   "execution_count": null,
   "id": "e650abcf-57af-44e0-a720-2cdb1dcd614b",
   "metadata": {},
   "outputs": [],
   "source": []
  },
  {
   "cell_type": "code",
   "execution_count": null,
   "id": "efd42c27-1581-47b2-9f44-6158975fc3c7",
   "metadata": {},
   "outputs": [],
   "source": []
  },
  {
   "cell_type": "code",
   "execution_count": null,
   "id": "0ad051b4-4a61-4d9a-8ced-13c973148b63",
   "metadata": {},
   "outputs": [],
   "source": []
  },
  {
   "cell_type": "markdown",
   "id": "2ceb41bb-8519-43d9-b288-2787446c03c3",
   "metadata": {},
   "source": [
    "# Merge Lora weights into base model"
   ]
  },
  {
   "cell_type": "markdown",
   "id": "408b2480-9997-4edf-b063-25a747e890f2",
   "metadata": {},
   "source": [
    "## Init"
   ]
  },
  {
   "cell_type": "code",
   "execution_count": 9,
   "id": "3235979f-b5cf-4fa3-9e18-cfb383571e1f",
   "metadata": {
    "execution": {
     "iopub.execute_input": "2024-03-18T18:07:18.667466Z",
     "iopub.status.busy": "2024-03-18T18:07:18.666362Z",
     "iopub.status.idle": "2024-03-18T18:07:18.672533Z",
     "shell.execute_reply": "2024-03-18T18:07:18.671394Z",
     "shell.execute_reply.started": "2024-03-18T18:07:18.667399Z"
    },
    "tags": []
   },
   "outputs": [],
   "source": [
    "target_model_id = \"/bime-munin/xiruod/llama2_SHAC/n500/set-1355-quantization-epoch3-llama-2-7B-loraR-8\"\n",
    "source_model_id = \"/bime-munin/xiruod/llama2_SHAC/n500/Source-set-1355-quantization-epoch3-llama-2-7B-loraR-8\"\n",
    "\n"
   ]
  },
  {
   "cell_type": "code",
   "execution_count": 10,
   "id": "4045632b-089f-4d39-82d4-4b8711eb70bb",
   "metadata": {
    "execution": {
     "iopub.execute_input": "2024-03-18T18:07:18.680715Z",
     "iopub.status.busy": "2024-03-18T18:07:18.680136Z",
     "iopub.status.idle": "2024-03-18T18:07:18.768458Z",
     "shell.execute_reply": "2024-03-18T18:07:18.767189Z",
     "shell.execute_reply.started": "2024-03-18T18:07:18.680677Z"
    },
    "tags": []
   },
   "outputs": [
    {
     "data": {
      "text/plain": [
       "1"
      ]
     },
     "execution_count": 10,
     "metadata": {},
     "output_type": "execute_result"
    }
   ],
   "source": [
    "##### Tokenizer\n",
    "tokenizer = LlamaTokenizer.from_pretrained(f\"/bime-munin/llama2_hf/llama-2-7b_hf/\")\n",
    "\n",
    "tokenizer.add_special_tokens({\"pad_token\": \"<pad>\"})"
   ]
  },
  {
   "cell_type": "code",
   "execution_count": null,
   "id": "527f02bc-cd8c-4478-a310-17c3a3f6c3ee",
   "metadata": {},
   "outputs": [],
   "source": []
  },
  {
   "cell_type": "markdown",
   "id": "42746828-bbdf-4853-b6c1-4d70774f4bae",
   "metadata": {},
   "source": [
    "## Load, Merge Target & Source, Separately"
   ]
  },
  {
   "cell_type": "code",
   "execution_count": 11,
   "id": "b8b3cadf-b4fd-4d59-9cb9-cbcbf67fd711",
   "metadata": {
    "execution": {
     "iopub.execute_input": "2024-03-18T18:07:18.771936Z",
     "iopub.status.busy": "2024-03-18T18:07:18.771170Z",
     "iopub.status.idle": "2024-03-18T18:10:53.881400Z",
     "shell.execute_reply": "2024-03-18T18:10:53.880083Z",
     "shell.execute_reply.started": "2024-03-18T18:07:18.771893Z"
    },
    "tags": []
   },
   "outputs": [
    {
     "data": {
      "application/vnd.jupyter.widget-view+json": {
       "model_id": "40bb7f3a25064fc18db6f18e70e59753",
       "version_major": 2,
       "version_minor": 0
      },
      "text/plain": [
       "Loading checkpoint shards:   0%|          | 0/2 [00:00<?, ?it/s]"
      ]
     },
     "metadata": {},
     "output_type": "display_data"
    },
    {
     "name": "stderr",
     "output_type": "stream",
     "text": [
      "Some weights of LlamaForSequenceClassification were not initialized from the model checkpoint at /bime-munin/llama2_hf/llama-2-7b_hf/ and are newly initialized: ['score.weight']\n",
      "You should probably TRAIN this model on a down-stream task to be able to use it for predictions and inference.\n"
     ]
    }
   ],
   "source": [
    "base_model = LlamaForSequenceClassification.from_pretrained(globalconfig.model_id, device_map='auto', load_in_8bit=args.quantization, torch_dtype=torch.float16)"
   ]
  },
  {
   "cell_type": "code",
   "execution_count": 12,
   "id": "8dddee7c-0b87-4a0d-af85-f7266a73ed28",
   "metadata": {
    "execution": {
     "iopub.execute_input": "2024-03-18T18:10:53.883904Z",
     "iopub.status.busy": "2024-03-18T18:10:53.883273Z",
     "iopub.status.idle": "2024-03-18T18:10:53.897675Z",
     "shell.execute_reply": "2024-03-18T18:10:53.896322Z",
     "shell.execute_reply.started": "2024-03-18T18:10:53.883861Z"
    },
    "tags": []
   },
   "outputs": [
    {
     "data": {
      "text/plain": [
       "Embedding(32128, 4096)"
      ]
     },
     "execution_count": 12,
     "metadata": {},
     "output_type": "execute_result"
    }
   ],
   "source": [
    "base_model.config.pad_token_id = tokenizer.pad_token_id\n",
    "\n",
    "base_model.resize_token_embeddings(len(tokenizer), pad_to_multiple_of=128)\n"
   ]
  },
  {
   "cell_type": "code",
   "execution_count": 13,
   "id": "ed70c757-55ee-42fa-991d-700e46b1df6a",
   "metadata": {
    "execution": {
     "iopub.execute_input": "2024-03-18T18:10:53.900284Z",
     "iopub.status.busy": "2024-03-18T18:10:53.899205Z",
     "iopub.status.idle": "2024-03-18T18:10:54.675761Z",
     "shell.execute_reply": "2024-03-18T18:10:54.674283Z",
     "shell.execute_reply.started": "2024-03-18T18:10:53.900246Z"
    },
    "tags": []
   },
   "outputs": [],
   "source": [
    "model = PeftModel.from_pretrained(base_model, source_model_id, adapter_name='target')"
   ]
  },
  {
   "cell_type": "code",
   "execution_count": 14,
   "id": "d70d4cd7-08bc-49f2-b7d9-26fb54f3229e",
   "metadata": {
    "execution": {
     "iopub.execute_input": "2024-03-18T18:10:54.680130Z",
     "iopub.status.busy": "2024-03-18T18:10:54.679498Z",
     "iopub.status.idle": "2024-03-18T18:11:16.397509Z",
     "shell.execute_reply": "2024-03-18T18:11:16.395718Z",
     "shell.execute_reply.started": "2024-03-18T18:10:54.680089Z"
    },
    "tags": []
   },
   "outputs": [
    {
     "name": "stderr",
     "output_type": "stream",
     "text": [
      "Unloading and merging model:   0%|                                                                                                                                                                              | 0/521 [00:00<?, ?it/s]/home/NETID/xiruod/anaconda3/envs/llama2/lib/python3.9/site-packages/peft/tuners/lora/bnb.py:82: UserWarning: Merge lora module to 8-bit linear may get different generations due to rounding errors.\n",
      "  warnings.warn(\n",
      "Unloading and merging model: 100%|████████████████████████████████████████████████████████████████████████████████████████████████████████████████████████████████████████████████████████████████████| 521/521 [00:21<00:00, 24.01it/s]\n"
     ]
    }
   ],
   "source": [
    "merged_Target_model = model.merge_and_unload(progressbar=True)"
   ]
  },
  {
   "cell_type": "code",
   "execution_count": 15,
   "id": "4e2024c7-a8da-4b2f-812c-cbaf4fdec412",
   "metadata": {
    "execution": {
     "iopub.execute_input": "2024-03-18T18:11:16.400580Z",
     "iopub.status.busy": "2024-03-18T18:11:16.399646Z",
     "iopub.status.idle": "2024-03-18T18:11:16.418468Z",
     "shell.execute_reply": "2024-03-18T18:11:16.417189Z",
     "shell.execute_reply.started": "2024-03-18T18:11:16.400534Z"
    }
   },
   "outputs": [],
   "source": [
    "state_dict_T = merged_Target_model.state_dict()\n"
   ]
  },
  {
   "cell_type": "code",
   "execution_count": null,
   "id": "6fa7a157-2eae-438a-9251-adf70c744310",
   "metadata": {},
   "outputs": [],
   "source": []
  },
  {
   "cell_type": "code",
   "execution_count": 16,
   "id": "a520d199-f73e-42c1-a5fe-b1f2fee91ac0",
   "metadata": {
    "execution": {
     "iopub.execute_input": "2024-03-18T18:11:16.421043Z",
     "iopub.status.busy": "2024-03-18T18:11:16.420151Z",
     "iopub.status.idle": "2024-03-18T18:14:43.769563Z",
     "shell.execute_reply": "2024-03-18T18:14:43.768223Z",
     "shell.execute_reply.started": "2024-03-18T18:11:16.421002Z"
    },
    "tags": []
   },
   "outputs": [
    {
     "data": {
      "application/vnd.jupyter.widget-view+json": {
       "model_id": "fcc9a84c218742089b9f438eb6940f72",
       "version_major": 2,
       "version_minor": 0
      },
      "text/plain": [
       "Loading checkpoint shards:   0%|          | 0/2 [00:00<?, ?it/s]"
      ]
     },
     "metadata": {},
     "output_type": "display_data"
    },
    {
     "name": "stderr",
     "output_type": "stream",
     "text": [
      "Some weights of LlamaForSequenceClassification were not initialized from the model checkpoint at /bime-munin/llama2_hf/llama-2-7b_hf/ and are newly initialized: ['score.weight']\n",
      "You should probably TRAIN this model on a down-stream task to be able to use it for predictions and inference.\n"
     ]
    }
   ],
   "source": [
    "base_model = LlamaForSequenceClassification.from_pretrained(globalconfig.model_id, device_map='auto', load_in_8bit=args.quantization, torch_dtype=torch.float16)"
   ]
  },
  {
   "cell_type": "code",
   "execution_count": 17,
   "id": "c9e03c54-6f4a-465a-b751-02c47be7796e",
   "metadata": {
    "execution": {
     "iopub.execute_input": "2024-03-18T18:14:43.772045Z",
     "iopub.status.busy": "2024-03-18T18:14:43.771388Z",
     "iopub.status.idle": "2024-03-18T18:14:43.785735Z",
     "shell.execute_reply": "2024-03-18T18:14:43.784546Z",
     "shell.execute_reply.started": "2024-03-18T18:14:43.771973Z"
    },
    "tags": []
   },
   "outputs": [
    {
     "data": {
      "text/plain": [
       "Embedding(32128, 4096)"
      ]
     },
     "execution_count": 17,
     "metadata": {},
     "output_type": "execute_result"
    }
   ],
   "source": [
    "base_model.config.pad_token_id = tokenizer.pad_token_id\n",
    "\n",
    "base_model.resize_token_embeddings(len(tokenizer), pad_to_multiple_of=128)\n"
   ]
  },
  {
   "cell_type": "code",
   "execution_count": 18,
   "id": "002ec0c6-7cbd-487e-8ad9-3729096f94b7",
   "metadata": {
    "execution": {
     "iopub.execute_input": "2024-03-18T18:14:43.787793Z",
     "iopub.status.busy": "2024-03-18T18:14:43.787401Z",
     "iopub.status.idle": "2024-03-18T18:14:44.525881Z",
     "shell.execute_reply": "2024-03-18T18:14:44.524464Z",
     "shell.execute_reply.started": "2024-03-18T18:14:43.787762Z"
    },
    "tags": []
   },
   "outputs": [],
   "source": [
    "model = PeftModel.from_pretrained(base_model, target_model_id, adapter_name='source')"
   ]
  },
  {
   "cell_type": "code",
   "execution_count": 19,
   "id": "5b9d1d2a-a7a7-4819-8cb4-c080e3404ff4",
   "metadata": {
    "execution": {
     "iopub.execute_input": "2024-03-18T18:14:44.528219Z",
     "iopub.status.busy": "2024-03-18T18:14:44.527677Z",
     "iopub.status.idle": "2024-03-18T18:15:01.996442Z",
     "shell.execute_reply": "2024-03-18T18:15:01.994696Z",
     "shell.execute_reply.started": "2024-03-18T18:14:44.528181Z"
    },
    "tags": []
   },
   "outputs": [
    {
     "name": "stderr",
     "output_type": "stream",
     "text": [
      "Unloading and merging model: 100%|████████████████████████████████████████████████████████████████████████████████████████████████████████████████████████████████████████████████████████████████████| 521/521 [00:17<00:00, 29.85it/s]\n"
     ]
    }
   ],
   "source": [
    "merged_Source_model = model.merge_and_unload(progressbar=True)"
   ]
  },
  {
   "cell_type": "code",
   "execution_count": 20,
   "id": "d64e133e-a974-4f24-aabc-0b62d5a39892",
   "metadata": {
    "execution": {
     "iopub.execute_input": "2024-03-18T18:15:01.999112Z",
     "iopub.status.busy": "2024-03-18T18:15:01.998573Z",
     "iopub.status.idle": "2024-03-18T18:15:02.015896Z",
     "shell.execute_reply": "2024-03-18T18:15:02.014573Z",
     "shell.execute_reply.started": "2024-03-18T18:15:01.999064Z"
    }
   },
   "outputs": [],
   "source": [
    "state_dict_S = merged_Source_model.state_dict()"
   ]
  },
  {
   "cell_type": "code",
   "execution_count": null,
   "id": "f99881e2-b71a-4113-b4d1-46cf954206e7",
   "metadata": {},
   "outputs": [],
   "source": []
  },
  {
   "cell_type": "code",
   "execution_count": null,
   "id": "0dd1ed36-1efd-4ad8-ae5a-48e08df0a9c7",
   "metadata": {},
   "outputs": [],
   "source": []
  },
  {
   "cell_type": "code",
   "execution_count": 12,
   "id": "9d410dc4-c6e7-4af7-aa25-aa1784bcad9e",
   "metadata": {
    "execution": {
     "iopub.execute_input": "2024-03-18T07:20:47.145424Z",
     "iopub.status.busy": "2024-03-18T07:20:47.144565Z",
     "iopub.status.idle": "2024-03-18T07:20:47.152355Z",
     "shell.execute_reply": "2024-03-18T07:20:47.150850Z",
     "shell.execute_reply.started": "2024-03-18T07:20:47.145368Z"
    },
    "tags": []
   },
   "outputs": [],
   "source": [
    "i=20"
   ]
  },
  {
   "cell_type": "code",
   "execution_count": 13,
   "id": "dc01863c-53c5-48ad-a45c-b3cd85baa81e",
   "metadata": {
    "execution": {
     "iopub.execute_input": "2024-03-18T07:20:48.420308Z",
     "iopub.status.busy": "2024-03-18T07:20:48.419707Z",
     "iopub.status.idle": "2024-03-18T07:20:48.430986Z",
     "shell.execute_reply": "2024-03-18T07:20:48.429858Z",
     "shell.execute_reply.started": "2024-03-18T07:20:48.420274Z"
    },
    "tags": []
   },
   "outputs": [
    {
     "data": {
      "text/plain": [
       "LlamaForSequenceClassification(\n",
       "  (model): LlamaModel(\n",
       "    (embed_tokens): Embedding(32128, 4096)\n",
       "    (layers): ModuleList(\n",
       "      (0-31): 32 x LlamaDecoderLayer(\n",
       "        (self_attn): LlamaAttention(\n",
       "          (q_proj): Linear8bitLt(in_features=4096, out_features=4096, bias=False)\n",
       "          (k_proj): Linear8bitLt(in_features=4096, out_features=4096, bias=False)\n",
       "          (v_proj): Linear8bitLt(in_features=4096, out_features=4096, bias=False)\n",
       "          (o_proj): Linear8bitLt(in_features=4096, out_features=4096, bias=False)\n",
       "          (rotary_emb): LlamaRotaryEmbedding()\n",
       "        )\n",
       "        (mlp): LlamaMLP(\n",
       "          (gate_proj): Linear8bitLt(in_features=4096, out_features=11008, bias=False)\n",
       "          (up_proj): Linear8bitLt(in_features=4096, out_features=11008, bias=False)\n",
       "          (down_proj): Linear8bitLt(in_features=11008, out_features=4096, bias=False)\n",
       "          (act_fn): SiLUActivation()\n",
       "        )\n",
       "        (input_layernorm): LlamaRMSNorm()\n",
       "        (post_attention_layernorm): LlamaRMSNorm()\n",
       "      )\n",
       "    )\n",
       "    (norm): LlamaRMSNorm()\n",
       "  )\n",
       "  (score): Linear(in_features=4096, out_features=2, bias=False)\n",
       ")"
      ]
     },
     "execution_count": 13,
     "metadata": {},
     "output_type": "execute_result"
    }
   ],
   "source": [
    "base_model"
   ]
  },
  {
   "cell_type": "code",
   "execution_count": 14,
   "id": "110f6306-d09f-461b-a215-c77fe9c4e12d",
   "metadata": {
    "execution": {
     "iopub.execute_input": "2024-03-18T07:20:48.770880Z",
     "iopub.status.busy": "2024-03-18T07:20:48.770474Z",
     "iopub.status.idle": "2024-03-18T07:20:48.780639Z",
     "shell.execute_reply": "2024-03-18T07:20:48.779652Z",
     "shell.execute_reply.started": "2024-03-18T07:20:48.770848Z"
    },
    "tags": []
   },
   "outputs": [
    {
     "data": {
      "text/plain": [
       "Parameter containing:\n",
       "Parameter(Int8Params([[  6, -25,  73,  ...,  53,  10, -96],\n",
       "            [ 22, -72,  34,  ..., -30, -32,  35],\n",
       "            [ 13, -22, -30,  ...,  57,  -6, -17],\n",
       "            ...,\n",
       "            [-28, -55,  14,  ...,  -5,  26,   6],\n",
       "            [-81, -20,  13,  ...,   9,  22,   9],\n",
       "            [ 11,  -1,  -4,  ...,  -9,  -6,  -1]], device='cuda:1',\n",
       "           dtype=torch.int8))"
      ]
     },
     "execution_count": 14,
     "metadata": {},
     "output_type": "execute_result"
    }
   ],
   "source": [
    "base_model.model.layers[i].self_attn.q_proj.weight"
   ]
  },
  {
   "cell_type": "code",
   "execution_count": 15,
   "id": "9e9e63c0-38d3-4ffc-9a0e-0aca4eed3f1c",
   "metadata": {
    "execution": {
     "iopub.execute_input": "2024-03-18T07:20:51.558874Z",
     "iopub.status.busy": "2024-03-18T07:20:51.558304Z",
     "iopub.status.idle": "2024-03-18T07:20:51.568370Z",
     "shell.execute_reply": "2024-03-18T07:20:51.567282Z",
     "shell.execute_reply.started": "2024-03-18T07:20:51.558840Z"
    },
    "tags": []
   },
   "outputs": [
    {
     "data": {
      "text/plain": [
       "Parameter containing:\n",
       "Parameter(Int8Params([[ -8, -25,  30,  ...,  -9,  23,  24],\n",
       "            [-13, -77,  -1,  ..., -20,  -2,  18],\n",
       "            [-12, -21,   1,  ..., -29,   0,  -1],\n",
       "            ...,\n",
       "            [ 13, -16,  -8,  ...,  39, -10,  13],\n",
       "            [ 35,  20, -19,  ...,   5,  26, -17],\n",
       "            [  5, -12,  55,  ..., -14, -23, -86]], device='cuda:1',\n",
       "           dtype=torch.int8))"
      ]
     },
     "execution_count": 15,
     "metadata": {},
     "output_type": "execute_result"
    }
   ],
   "source": [
    "base_model.model.layers[i].self_attn.v_proj.weight"
   ]
  },
  {
   "cell_type": "code",
   "execution_count": 24,
   "id": "db2e7958-5c7e-4319-9d1f-72dc8736f00f",
   "metadata": {
    "execution": {
     "iopub.execute_input": "2024-03-18T06:55:29.520074Z",
     "iopub.status.busy": "2024-03-18T06:55:29.519391Z",
     "iopub.status.idle": "2024-03-18T06:55:29.534812Z",
     "shell.execute_reply": "2024-03-18T06:55:29.533444Z",
     "shell.execute_reply.started": "2024-03-18T06:55:29.520032Z"
    },
    "tags": []
   },
   "outputs": [
    {
     "data": {
      "text/plain": [
       "Parameter containing:\n",
       "Parameter(Int8Params([[  5, -25,  73,  ...,  53,  10, -95],\n",
       "            [ 21, -72,  34,  ..., -30, -32,  35],\n",
       "            [ 14, -22, -30,  ...,  57,  -6, -17],\n",
       "            ...,\n",
       "            [-28, -55,  14,  ...,  -5,  26,   6],\n",
       "            [-81, -20,  13,  ...,   9,  22,   9],\n",
       "            [ 11,  -1,  -4,  ...,  -9,  -6,  -1]], device='cuda:1',\n",
       "           dtype=torch.int8))"
      ]
     },
     "execution_count": 24,
     "metadata": {},
     "output_type": "execute_result"
    }
   ],
   "source": [
    "merged_Target_model.model.layers[i].self_attn.q_proj.weight"
   ]
  },
  {
   "cell_type": "code",
   "execution_count": 25,
   "id": "3b8c148b-1006-489c-827a-99dc52768834",
   "metadata": {
    "execution": {
     "iopub.execute_input": "2024-03-18T06:55:39.392712Z",
     "iopub.status.busy": "2024-03-18T06:55:39.392270Z",
     "iopub.status.idle": "2024-03-18T06:55:39.410483Z",
     "shell.execute_reply": "2024-03-18T06:55:39.409247Z",
     "shell.execute_reply.started": "2024-03-18T06:55:39.392681Z"
    },
    "tags": []
   },
   "outputs": [
    {
     "data": {
      "text/plain": [
       "Parameter containing:\n",
       "Parameter(Int8Params([[  6, -25,  74,  ...,  55,  10, -96],\n",
       "            [ 22, -72,  34,  ..., -31, -32,  35],\n",
       "            [ 13, -22, -30,  ...,  58,  -6, -17],\n",
       "            ...,\n",
       "            [-28, -55,  14,  ...,  -5,  26,   6],\n",
       "            [-81, -20,  13,  ...,   9,  22,   9],\n",
       "            [ 11,  -1,  -4,  ...,  -9,  -6,  -1]], device='cuda:1',\n",
       "           dtype=torch.int8))"
      ]
     },
     "execution_count": 25,
     "metadata": {},
     "output_type": "execute_result"
    }
   ],
   "source": [
    "merged_Source_model.model.layers[i].self_attn.q_proj.weight"
   ]
  },
  {
   "cell_type": "code",
   "execution_count": 26,
   "id": "79662d41-cf2e-427d-bd50-a9dd0082b7af",
   "metadata": {
    "execution": {
     "iopub.execute_input": "2024-03-18T06:55:47.880641Z",
     "iopub.status.busy": "2024-03-18T06:55:47.879992Z",
     "iopub.status.idle": "2024-03-18T06:55:47.893624Z",
     "shell.execute_reply": "2024-03-18T06:55:47.892446Z",
     "shell.execute_reply.started": "2024-03-18T06:55:47.880605Z"
    },
    "tags": []
   },
   "outputs": [
    {
     "data": {
      "text/plain": [
       "Parameter containing:\n",
       "Parameter(Int8Params([[ -8, -25,  30,  ...,  -9,  23,  24],\n",
       "            [-12, -77,  -1,  ..., -20,  -2,  18],\n",
       "            [-12, -21,   1,  ..., -29,   0,  -1],\n",
       "            ...,\n",
       "            [ 13, -16,  -8,  ...,  39, -10,  13],\n",
       "            [ 35,  20, -19,  ...,   5,  26, -17],\n",
       "            [  5, -12,  55,  ..., -13, -23, -86]], device='cuda:1',\n",
       "           dtype=torch.int8))"
      ]
     },
     "execution_count": 26,
     "metadata": {},
     "output_type": "execute_result"
    }
   ],
   "source": [
    "merged_Target_model.model.layers[i].self_attn.v_proj.weight"
   ]
  },
  {
   "cell_type": "code",
   "execution_count": 27,
   "id": "0b0a46f9-3226-4e8f-b7ad-157d8ad29a2c",
   "metadata": {
    "execution": {
     "iopub.execute_input": "2024-03-18T06:56:03.659466Z",
     "iopub.status.busy": "2024-03-18T06:56:03.659060Z",
     "iopub.status.idle": "2024-03-18T06:56:03.669601Z",
     "shell.execute_reply": "2024-03-18T06:56:03.668425Z",
     "shell.execute_reply.started": "2024-03-18T06:56:03.659443Z"
    },
    "tags": []
   },
   "outputs": [
    {
     "data": {
      "text/plain": [
       "Parameter containing:\n",
       "Parameter(Int8Params([[ -8, -25,  30,  ...,  -9,  23,  24],\n",
       "            [-12, -77,  -1,  ..., -20,  -2,  18],\n",
       "            [-13, -21,   1,  ..., -29,   0,  -1],\n",
       "            ...,\n",
       "            [ 13, -16,  -8,  ...,  39, -10,  13],\n",
       "            [ 35,  20, -19,  ...,   5,  26, -17],\n",
       "            [  5, -12,  56,  ..., -14, -23, -86]], device='cuda:1',\n",
       "           dtype=torch.int8))"
      ]
     },
     "execution_count": 27,
     "metadata": {},
     "output_type": "execute_result"
    }
   ],
   "source": [
    "merged_Source_model.model.layers[i].self_attn.v_proj.weight"
   ]
  },
  {
   "cell_type": "code",
   "execution_count": null,
   "id": "3c9d4f24-d1fb-4633-8f8b-2a5899430d3c",
   "metadata": {},
   "outputs": [],
   "source": []
  },
  {
   "cell_type": "markdown",
   "id": "68543ef6-0dc4-43a0-880e-60ce76281e55",
   "metadata": {},
   "source": [
    "## Calculate Weight Delta"
   ]
  },
  {
   "cell_type": "code",
   "execution_count": null,
   "id": "6b871361-0455-453b-b9af-5337eebe7808",
   "metadata": {
    "tags": []
   },
   "outputs": [],
   "source": []
  },
  {
   "cell_type": "code",
   "execution_count": 24,
   "id": "e97c97cf-8003-4e12-8675-69025c78da63",
   "metadata": {
    "execution": {
     "iopub.execute_input": "2024-03-18T18:16:05.605247Z",
     "iopub.status.busy": "2024-03-18T18:16:05.604598Z",
     "iopub.status.idle": "2024-03-18T18:16:05.621208Z",
     "shell.execute_reply": "2024-03-18T18:16:05.620480Z",
     "shell.execute_reply.started": "2024-03-18T18:16:05.605204Z"
    },
    "tags": []
   },
   "outputs": [
    {
     "name": "stdout",
     "output_type": "stream",
     "text": [
      "tensor([[ 1.2517e-06, -1.7881e-06, -4.3511e-06,  ...,  8.9407e-07,\n",
      "         -6.5565e-06,  8.9407e-07],\n",
      "        [ 1.8616e-03, -3.3722e-03,  3.9864e-04,  ..., -8.3008e-03,\n",
      "          2.5787e-03, -3.9368e-03],\n",
      "        [ 1.0986e-02,  9.8877e-03, -5.0964e-03,  ...,  2.5177e-03,\n",
      "          7.7057e-04, -5.0049e-03],\n",
      "        ...,\n",
      "        [ 3.3234e-02, -1.4999e-02, -1.0635e-02,  ..., -3.6407e-02,\n",
      "          1.4915e-02, -1.4160e-02],\n",
      "        [-1.1360e-02, -8.0719e-03, -4.4342e-02,  ...,  1.6851e-03,\n",
      "          8.5449e-03,  1.7471e-02],\n",
      "        [ 1.2199e-02,  1.6403e-02,  4.8981e-03,  ...,  3.1464e-02,\n",
      "         -2.2583e-02,  1.5732e-02]], device='cuda:0', dtype=torch.float16)\n",
      "tensor([[ 1.2517e-06, -1.7881e-06, -4.3511e-06,  ...,  8.9407e-07,\n",
      "         -6.5565e-06,  8.9407e-07],\n",
      "        [ 1.8616e-03, -3.3722e-03,  3.9864e-04,  ..., -8.3008e-03,\n",
      "          2.5787e-03, -3.9368e-03],\n",
      "        [ 1.0986e-02,  9.8877e-03, -5.0964e-03,  ...,  2.5177e-03,\n",
      "          7.7057e-04, -5.0049e-03],\n",
      "        ...,\n",
      "        [ 3.5797e-02, -2.7103e-03,  7.4806e-03,  ..., -1.5381e-02,\n",
      "         -1.3893e-02, -2.5291e-03],\n",
      "        [ 4.7836e-03, -2.0447e-03,  1.0185e-02,  ..., -3.0350e-02,\n",
      "          2.0386e-02,  1.8860e-02],\n",
      "        [ 2.2125e-02,  5.4436e-03, -8.4534e-03,  ...,  4.6158e-03,\n",
      "          2.7905e-03,  1.0666e-02]], device='cuda:0', dtype=torch.float16)\n"
     ]
    }
   ],
   "source": [
    "print(state_dict_T['model.embed_tokens.weight'])\n",
    "print(state_dict_S['model.embed_tokens.weight'])\n"
   ]
  },
  {
   "cell_type": "code",
   "execution_count": 23,
   "id": "4607f8f5-742e-4638-bf20-787a025fe4ec",
   "metadata": {
    "execution": {
     "iopub.execute_input": "2024-03-18T18:15:41.534040Z",
     "iopub.status.busy": "2024-03-18T18:15:41.532864Z",
     "iopub.status.idle": "2024-03-18T18:15:41.548465Z",
     "shell.execute_reply": "2024-03-18T18:15:41.546770Z",
     "shell.execute_reply.started": "2024-03-18T18:15:41.533977Z"
    },
    "tags": []
   },
   "outputs": [
    {
     "name": "stdout",
     "output_type": "stream",
     "text": [
      "tensor([[-11,   2,  47,  ...,  86, -13,  11],\n",
      "        [  7,  33, -51,  ..., -23,  12, -37],\n",
      "        [ -1,  30,  -2,  ..., -32, -58, -59],\n",
      "        ...,\n",
      "        [  1, -85, -52,  ..., -36,  -6,   3],\n",
      "        [-76,  -1,  37,  ..., -16, -22, -12],\n",
      "        [-28,  38,   3,  ..., -12,  36, -18]], device='cuda:0',\n",
      "       dtype=torch.int8)\n",
      "tensor([[-10,   2,  47,  ...,  87, -13,  11],\n",
      "        [  7,  33, -51,  ..., -22,  12, -37],\n",
      "        [ -1,  30,  -2,  ..., -32, -58, -59],\n",
      "        ...,\n",
      "        [  1, -85, -53,  ..., -36,  -5,   3],\n",
      "        [-76,  -1,  37,  ..., -16, -22, -12],\n",
      "        [-28,  38,   3,  ..., -12,  36, -18]], device='cuda:0',\n",
      "       dtype=torch.int8)\n"
     ]
    }
   ],
   "source": [
    "print(state_dict_T['model.layers.2.self_attn.v_proj.weight'])\n",
    "print(state_dict_S['model.layers.2.self_attn.v_proj.weight'])"
   ]
  },
  {
   "cell_type": "code",
   "execution_count": 25,
   "id": "d86dfa85-dcf9-4676-b8c6-0a7f0f7f4786",
   "metadata": {
    "execution": {
     "iopub.execute_input": "2024-03-18T18:16:19.800745Z",
     "iopub.status.busy": "2024-03-18T18:16:19.799995Z",
     "iopub.status.idle": "2024-03-18T18:16:19.918745Z",
     "shell.execute_reply": "2024-03-18T18:16:19.917425Z",
     "shell.execute_reply.started": "2024-03-18T18:16:19.800690Z"
    },
    "tags": []
   },
   "outputs": [],
   "source": [
    "for k in state_dict_T.keys():\n",
    "    if k.endswith(\".weight\"):\n",
    "        state_dict_T[k] = state_dict_T[k] - state_dict_S[k]"
   ]
  },
  {
   "cell_type": "code",
   "execution_count": null,
   "id": "5e53c03f-d533-4c19-ba98-7c8e683baaf4",
   "metadata": {},
   "outputs": [],
   "source": []
  },
  {
   "cell_type": "markdown",
   "id": "5a46c456-f9fc-4d28-9553-5df2109b05ff",
   "metadata": {},
   "source": [
    "## Save Weights-Delta"
   ]
  },
  {
   "cell_type": "code",
   "execution_count": 29,
   "id": "39e3049a-78e5-49bd-a799-eb0d22f4e1b6",
   "metadata": {
    "execution": {
     "iopub.execute_input": "2024-03-18T18:16:52.690498Z",
     "iopub.status.busy": "2024-03-18T18:16:52.690138Z",
     "iopub.status.idle": "2024-03-18T18:18:07.572701Z",
     "shell.execute_reply": "2024-03-18T18:18:07.570515Z",
     "shell.execute_reply.started": "2024-03-18T18:16:52.690473Z"
    },
    "tags": []
   },
   "outputs": [],
   "source": [
    "torch.save(state_dict_T, f\"/bime-munin/xiruod/llama2_SHAC/n500/Weights/{os.path.basename(target_model_id)}-delta.pth\")"
   ]
  },
  {
   "cell_type": "code",
   "execution_count": null,
   "id": "1ee142be-abe2-421d-9b45-036272a275b4",
   "metadata": {},
   "outputs": [],
   "source": []
  },
  {
   "cell_type": "code",
   "execution_count": null,
   "id": "9b48cd1d-bb61-4e7f-bf1c-7555e96a52e7",
   "metadata": {},
   "outputs": [],
   "source": []
  },
  {
   "cell_type": "code",
   "execution_count": null,
   "id": "911c9c26-3d9a-47ba-9998-500a13563b65",
   "metadata": {},
   "outputs": [],
   "source": []
  },
  {
   "cell_type": "markdown",
   "id": "64f96876-a023-4314-b031-41aeccb40c15",
   "metadata": {},
   "source": [
    "## Restart: Load Weights-Delta"
   ]
  },
  {
   "cell_type": "code",
   "execution_count": null,
   "id": "8a285d38-86e4-4220-934e-b9027489d095",
   "metadata": {},
   "outputs": [],
   "source": []
  },
  {
   "cell_type": "code",
   "execution_count": null,
   "id": "89bd7d9b-d899-4254-b46f-e872e2f2605a",
   "metadata": {},
   "outputs": [],
   "source": []
  },
  {
   "cell_type": "code",
   "execution_count": 9,
   "id": "c19d1f12-c6ae-4bfd-ab96-a6c9477048b8",
   "metadata": {
    "execution": {
     "iopub.execute_input": "2024-03-18T18:19:00.727400Z",
     "iopub.status.busy": "2024-03-18T18:19:00.726731Z",
     "iopub.status.idle": "2024-03-18T18:19:53.338521Z",
     "shell.execute_reply": "2024-03-18T18:19:53.337444Z",
     "shell.execute_reply.started": "2024-03-18T18:19:00.727363Z"
    },
    "tags": []
   },
   "outputs": [],
   "source": [
    "state_dict_delta = torch.load(f\"/bime-munin/xiruod/llama2_SHAC/n500/Weights/{os.path.basename(target_model_id)}-delta.pth\")"
   ]
  },
  {
   "cell_type": "code",
   "execution_count": null,
   "id": "ea156221-1520-48bc-be62-d97830a2787c",
   "metadata": {},
   "outputs": [],
   "source": []
  },
  {
   "cell_type": "markdown",
   "id": "a408f440-ba7f-4e05-93da-466d40a77c4b",
   "metadata": {},
   "source": [
    "## Merge Weights-Delta with Original Weights"
   ]
  },
  {
   "cell_type": "code",
   "execution_count": 10,
   "id": "9f2f4bae-afc5-4533-9f3e-ded25c6c038f",
   "metadata": {
    "execution": {
     "iopub.execute_input": "2024-03-18T18:19:53.340604Z",
     "iopub.status.busy": "2024-03-18T18:19:53.340154Z",
     "iopub.status.idle": "2024-03-18T18:23:18.566489Z",
     "shell.execute_reply": "2024-03-18T18:23:18.565103Z",
     "shell.execute_reply.started": "2024-03-18T18:19:53.340575Z"
    },
    "tags": []
   },
   "outputs": [
    {
     "data": {
      "application/vnd.jupyter.widget-view+json": {
       "model_id": "1a2eb9d81a4648f49a85efeae4e8bd38",
       "version_major": 2,
       "version_minor": 0
      },
      "text/plain": [
       "Loading checkpoint shards:   0%|          | 0/2 [00:00<?, ?it/s]"
      ]
     },
     "metadata": {},
     "output_type": "display_data"
    },
    {
     "name": "stderr",
     "output_type": "stream",
     "text": [
      "Some weights of LlamaForSequenceClassification were not initialized from the model checkpoint at /bime-munin/llama2_hf/llama-2-7b_hf/ and are newly initialized: ['score.weight']\n",
      "You should probably TRAIN this model on a down-stream task to be able to use it for predictions and inference.\n"
     ]
    }
   ],
   "source": [
    "base_model = LlamaForSequenceClassification.from_pretrained(globalconfig.model_id, device_map='auto', load_in_8bit=args.quantization)"
   ]
  },
  {
   "cell_type": "code",
   "execution_count": 11,
   "id": "d9e889bc-2049-4b07-b0da-ac885d949bdc",
   "metadata": {
    "execution": {
     "iopub.execute_input": "2024-03-18T18:23:18.569017Z",
     "iopub.status.busy": "2024-03-18T18:23:18.568521Z",
     "iopub.status.idle": "2024-03-18T18:23:18.582996Z",
     "shell.execute_reply": "2024-03-18T18:23:18.581749Z",
     "shell.execute_reply.started": "2024-03-18T18:23:18.568978Z"
    },
    "tags": []
   },
   "outputs": [
    {
     "data": {
      "text/plain": [
       "Embedding(32128, 4096)"
      ]
     },
     "execution_count": 11,
     "metadata": {},
     "output_type": "execute_result"
    }
   ],
   "source": [
    "base_model.config.pad_token_id = tokenizer.pad_token_id\n",
    "\n",
    "base_model.resize_token_embeddings(len(tokenizer), pad_to_multiple_of=128)\n"
   ]
  },
  {
   "cell_type": "code",
   "execution_count": 12,
   "id": "88087614-38b1-4a0b-aaa8-61e321d52549",
   "metadata": {
    "execution": {
     "iopub.execute_input": "2024-03-18T18:23:18.586136Z",
     "iopub.status.busy": "2024-03-18T18:23:18.585702Z",
     "iopub.status.idle": "2024-03-18T18:23:18.601284Z",
     "shell.execute_reply": "2024-03-18T18:23:18.599937Z",
     "shell.execute_reply.started": "2024-03-18T18:23:18.586096Z"
    },
    "tags": []
   },
   "outputs": [],
   "source": [
    "state_dict_o = base_model.state_dict()"
   ]
  },
  {
   "cell_type": "code",
   "execution_count": null,
   "id": "3b6fe393-f932-4596-915b-dd3379b0766e",
   "metadata": {},
   "outputs": [],
   "source": []
  },
  {
   "cell_type": "code",
   "execution_count": 13,
   "id": "15ba3678-0e9c-4413-bbeb-27bd9e023b3f",
   "metadata": {
    "execution": {
     "iopub.execute_input": "2024-03-18T18:23:37.907986Z",
     "iopub.status.busy": "2024-03-18T18:23:37.907291Z",
     "iopub.status.idle": "2024-03-18T18:23:37.934339Z",
     "shell.execute_reply": "2024-03-18T18:23:37.933192Z",
     "shell.execute_reply.started": "2024-03-18T18:23:37.907928Z"
    },
    "tags": []
   },
   "outputs": [
    {
     "name": "stdout",
     "output_type": "stream",
     "text": [
      "tensor([[ 1.2517e-06, -1.7881e-06, -4.3511e-06,  ...,  8.9407e-07,\n",
      "         -6.5565e-06,  8.9407e-07],\n",
      "        [ 1.8616e-03, -3.3722e-03,  3.9864e-04,  ..., -8.3008e-03,\n",
      "          2.5787e-03, -3.9368e-03],\n",
      "        [ 1.0986e-02,  9.8877e-03, -5.0964e-03,  ...,  2.5177e-03,\n",
      "          7.7057e-04, -5.0049e-03],\n",
      "        ...,\n",
      "        [-4.7569e-03,  1.9592e-02, -3.5038e-03,  ...,  4.4128e-02,\n",
      "         -1.3905e-03, -3.4256e-03],\n",
      "        [-7.8964e-03, -4.3365e-02,  1.8036e-02,  ...,  1.7868e-02,\n",
      "          1.3466e-02, -7.0000e-03],\n",
      "        [ 2.5375e-02,  8.3771e-03,  7.8430e-03,  ..., -1.2291e-02,\n",
      "         -5.0140e-02, -2.1240e-02]], device='cuda:0', dtype=torch.float16)\n",
      "tensor([[ 0.0000,  0.0000,  0.0000,  ...,  0.0000,  0.0000,  0.0000],\n",
      "        [ 0.0000,  0.0000,  0.0000,  ...,  0.0000,  0.0000,  0.0000],\n",
      "        [ 0.0000,  0.0000,  0.0000,  ...,  0.0000,  0.0000,  0.0000],\n",
      "        ...,\n",
      "        [-0.0026, -0.0123, -0.0181,  ..., -0.0210,  0.0288, -0.0116],\n",
      "        [-0.0161, -0.0060, -0.0545,  ...,  0.0320, -0.0118, -0.0014],\n",
      "        [-0.0099,  0.0110,  0.0134,  ...,  0.0269, -0.0254,  0.0051]],\n",
      "       device='cuda:0', dtype=torch.float16)\n"
     ]
    }
   ],
   "source": [
    "print(state_dict_o['model.embed_tokens.weight'])\n",
    "print(state_dict_delta['model.embed_tokens.weight'])"
   ]
  },
  {
   "cell_type": "code",
   "execution_count": 19,
   "id": "71cd72b3-6122-4e7d-ab26-9f2bfa5c6e5e",
   "metadata": {
    "execution": {
     "iopub.execute_input": "2024-03-18T18:26:27.010648Z",
     "iopub.status.busy": "2024-03-18T18:26:27.010143Z",
     "iopub.status.idle": "2024-03-18T18:26:27.018120Z",
     "shell.execute_reply": "2024-03-18T18:26:27.017679Z",
     "shell.execute_reply.started": "2024-03-18T18:26:27.010622Z"
    },
    "tags": []
   },
   "outputs": [
    {
     "name": "stdout",
     "output_type": "stream",
     "text": [
      "tensor([[ -7, -33,  16,  ...,  31,  -8,  13],\n",
      "        [ 10,  12,   2,  ..., -27,  55,  36],\n",
      "        [ 17,  73, -60,  ...,   7,  28, -65],\n",
      "        ...,\n",
      "        [ -6,  52, -28,  ..., -42, -12,  15],\n",
      "        [ 47,  -8,  15,  ...,  47,   6, -44],\n",
      "        [ 23,   9, -28,  ..., -12,  12,  17]], device='cuda:0',\n",
      "       dtype=torch.int8)\n",
      "tensor([[ 0, -1,  1,  ...,  0,  1,  0],\n",
      "        [ 0,  0,  0,  ...,  0, -2,  0],\n",
      "        [ 0,  0,  0,  ...,  0,  0,  0],\n",
      "        ...,\n",
      "        [ 0,  0,  0,  ...,  0,  0,  0],\n",
      "        [ 0,  0,  0,  ...,  0, -1,  0],\n",
      "        [ 0,  0,  0,  ...,  0,  0,  0]], device='cuda:0', dtype=torch.int8)\n",
      "tensor(-210, device='cuda:0')\n"
     ]
    }
   ],
   "source": [
    "print(state_dict_o['model.layers.12.self_attn.q_proj.weight'])\n",
    "print(state_dict_delta['model.layers.12.self_attn.q_proj.weight'])\n",
    "print(state_dict_delta['model.layers.12.self_attn.q_proj.weight'].sum())\n"
   ]
  },
  {
   "cell_type": "code",
   "execution_count": null,
   "id": "62bf796f-84a5-4f8e-8f04-bf16d89a1c5c",
   "metadata": {},
   "outputs": [],
   "source": []
  },
  {
   "cell_type": "code",
   "execution_count": null,
   "id": "5a46081b-1c34-44a3-a24f-64ed9ad81324",
   "metadata": {},
   "outputs": [],
   "source": []
  },
  {
   "cell_type": "code",
   "execution_count": null,
   "id": "d8c905ef-a7f8-4aca-aa01-0066819fc843",
   "metadata": {},
   "outputs": [],
   "source": []
  },
  {
   "cell_type": "code",
   "execution_count": 17,
   "id": "5fb17442-5297-4f5a-aafd-6487cff9dc6b",
   "metadata": {
    "execution": {
     "iopub.execute_input": "2024-03-18T18:24:23.855805Z",
     "iopub.status.busy": "2024-03-18T18:24:23.855208Z",
     "iopub.status.idle": "2024-03-18T18:24:23.963742Z",
     "shell.execute_reply": "2024-03-18T18:24:23.962249Z",
     "shell.execute_reply.started": "2024-03-18T18:24:23.855745Z"
    },
    "tags": []
   },
   "outputs": [],
   "source": [
    "gamma = 1\n",
    "for k in state_dict_o.keys():\n",
    "    if k.endswith(\".weight\"):\n",
    "        state_dict_o[k] = state_dict_o[k] + gamma * state_dict_delta[k]"
   ]
  },
  {
   "cell_type": "code",
   "execution_count": 21,
   "id": "f869fea5-150a-4273-b275-8d8e9b72f879",
   "metadata": {
    "execution": {
     "iopub.execute_input": "2024-03-18T18:27:02.520352Z",
     "iopub.status.busy": "2024-03-18T18:27:02.519812Z",
     "iopub.status.idle": "2024-03-18T18:27:02.534745Z",
     "shell.execute_reply": "2024-03-18T18:27:02.533077Z",
     "shell.execute_reply.started": "2024-03-18T18:27:02.520312Z"
    },
    "tags": []
   },
   "outputs": [],
   "source": [
    "# for k in state_dict_o.keys():\n",
    "#     if k.endswith(\".weight\"):\n",
    "#         state_dict_o[k] = state_dict_o[k].to_sparse()\n",
    "\n",
    "# print(state_dict_o['model.layers.12.self_attn.q_proj.weight'])\n",
    "# print(state_dict_delta['model.layers.12.self_attn.q_proj.weight'])\n",
    "# print(state_dict_delta['model.layers.12.self_attn.q_proj.weight'].sum())\n"
   ]
  },
  {
   "cell_type": "code",
   "execution_count": 18,
   "id": "b66e292b-ba03-4b94-bd6a-a8147db94e0c",
   "metadata": {
    "execution": {
     "iopub.execute_input": "2024-03-18T18:24:24.300093Z",
     "iopub.status.busy": "2024-03-18T18:24:24.299421Z",
     "iopub.status.idle": "2024-03-18T18:25:35.876692Z",
     "shell.execute_reply": "2024-03-18T18:25:35.875423Z",
     "shell.execute_reply.started": "2024-03-18T18:24:24.300049Z"
    },
    "tags": []
   },
   "outputs": [],
   "source": [
    "torch.save(state_dict_o, f\"/bime-munin/xiruod/llama2_SHAC/n500/Weights/{os.path.basename(target_model_id)}-gamma_1-added.pth\")"
   ]
  },
  {
   "cell_type": "code",
   "execution_count": null,
   "id": "2ffb01e7-dd96-4206-821b-7f5f205e03e9",
   "metadata": {},
   "outputs": [],
   "source": []
  },
  {
   "cell_type": "markdown",
   "id": "a934659a-acf6-4079-a7eb-6c9ca1ba5223",
   "metadata": {},
   "source": [
    "## Predict"
   ]
  },
  {
   "cell_type": "code",
   "execution_count": 9,
   "id": "98a8875e-5dbe-4aad-846c-30166a4ed67d",
   "metadata": {
    "execution": {
     "iopub.execute_input": "2024-03-18T18:28:13.180624Z",
     "iopub.status.busy": "2024-03-18T18:28:13.179969Z",
     "iopub.status.idle": "2024-03-18T18:31:44.617568Z",
     "shell.execute_reply": "2024-03-18T18:31:44.616264Z",
     "shell.execute_reply.started": "2024-03-18T18:28:13.180578Z"
    },
    "tags": []
   },
   "outputs": [
    {
     "data": {
      "application/vnd.jupyter.widget-view+json": {
       "model_id": "bac40f83911248d7bb714c7e9e303f3e",
       "version_major": 2,
       "version_minor": 0
      },
      "text/plain": [
       "Loading checkpoint shards:   0%|          | 0/2 [00:00<?, ?it/s]"
      ]
     },
     "metadata": {},
     "output_type": "display_data"
    },
    {
     "name": "stderr",
     "output_type": "stream",
     "text": [
      "Some weights of LlamaForSequenceClassification were not initialized from the model checkpoint at /bime-munin/llama2_hf/llama-2-7b_hf/ and are newly initialized: ['score.weight']\n",
      "You should probably TRAIN this model on a down-stream task to be able to use it for predictions and inference.\n"
     ]
    }
   ],
   "source": [
    "base_model = LlamaForSequenceClassification.from_pretrained(globalconfig.model_id, device_map='auto', load_in_8bit=args.quantization)"
   ]
  },
  {
   "cell_type": "code",
   "execution_count": 10,
   "id": "13f57b7a-05b3-43fd-9ce7-d54f0cefa6cf",
   "metadata": {
    "execution": {
     "iopub.execute_input": "2024-03-18T18:31:44.620781Z",
     "iopub.status.busy": "2024-03-18T18:31:44.620161Z",
     "iopub.status.idle": "2024-03-18T18:31:44.635328Z",
     "shell.execute_reply": "2024-03-18T18:31:44.634075Z",
     "shell.execute_reply.started": "2024-03-18T18:31:44.620745Z"
    },
    "tags": []
   },
   "outputs": [
    {
     "data": {
      "text/plain": [
       "Embedding(32128, 4096)"
      ]
     },
     "execution_count": 10,
     "metadata": {},
     "output_type": "execute_result"
    }
   ],
   "source": [
    "base_model.config.pad_token_id = tokenizer.pad_token_id\n",
    "\n",
    "base_model.resize_token_embeddings(len(tokenizer), pad_to_multiple_of=128)\n"
   ]
  },
  {
   "cell_type": "code",
   "execution_count": 11,
   "id": "c183b266-b30d-4e33-81e8-5b85a2a3bd1c",
   "metadata": {
    "execution": {
     "iopub.execute_input": "2024-03-18T18:31:44.638140Z",
     "iopub.status.busy": "2024-03-18T18:31:44.637513Z",
     "iopub.status.idle": "2024-03-18T18:33:28.335375Z",
     "shell.execute_reply": "2024-03-18T18:33:28.333569Z",
     "shell.execute_reply.started": "2024-03-18T18:31:44.638103Z"
    },
    "tags": []
   },
   "outputs": [
    {
     "data": {
      "text/plain": [
       "<All keys matched successfully>"
      ]
     },
     "execution_count": 11,
     "metadata": {},
     "output_type": "execute_result"
    }
   ],
   "source": [
    "base_model.load_state_dict(torch.load(f\"/bime-munin/xiruod/llama2_SHAC/n500/Weights/{os.path.basename(target_model_id)}-gamma_1-added.pth\"))"
   ]
  },
  {
   "cell_type": "code",
   "execution_count": null,
   "id": "685a43ef-30e2-4149-8d2c-e01d462d253d",
   "metadata": {},
   "outputs": [],
   "source": []
  },
  {
   "cell_type": "code",
   "execution_count": 15,
   "id": "b3cec29b-2c5e-4af3-9a5e-d75370bb1b19",
   "metadata": {
    "execution": {
     "iopub.execute_input": "2024-03-18T18:34:02.439373Z",
     "iopub.status.busy": "2024-03-18T18:34:02.438668Z",
     "iopub.status.idle": "2024-03-18T18:34:02.473570Z",
     "shell.execute_reply": "2024-03-18T18:34:02.472357Z",
     "shell.execute_reply.started": "2024-03-18T18:34:02.439322Z"
    },
    "tags": []
   },
   "outputs": [],
   "source": [
    "df_in = tokenizer(\n",
    "        list(dfs['test'].iloc[:15]['text']),\n",
    "        return_tensors=\"pt\",\n",
    "        max_length=globalconfig.max_seq_length,\n",
    "        padding=\"max_length\",\n",
    "        truncation=True,\n",
    "    )"
   ]
  },
  {
   "cell_type": "code",
   "execution_count": 16,
   "id": "48656cfa-2d5f-4d17-babb-38168e56eadb",
   "metadata": {
    "execution": {
     "iopub.execute_input": "2024-03-18T18:34:03.243130Z",
     "iopub.status.busy": "2024-03-18T18:34:03.242586Z",
     "iopub.status.idle": "2024-03-18T18:34:03.249231Z",
     "shell.execute_reply": "2024-03-18T18:34:03.247945Z",
     "shell.execute_reply.started": "2024-03-18T18:34:03.243084Z"
    },
    "tags": []
   },
   "outputs": [],
   "source": [
    "from scipy.special import softmax"
   ]
  },
  {
   "cell_type": "code",
   "execution_count": null,
   "id": "9ee8cf4b-982a-433e-b09e-8a54fc8e2646",
   "metadata": {},
   "outputs": [],
   "source": []
  },
  {
   "cell_type": "code",
   "execution_count": 17,
   "id": "967ee9e3-3c9b-4a10-b13e-a247694caa62",
   "metadata": {
    "execution": {
     "iopub.execute_input": "2024-03-18T18:34:03.826764Z",
     "iopub.status.busy": "2024-03-18T18:34:03.826202Z",
     "iopub.status.idle": "2024-03-18T18:34:03.832396Z",
     "shell.execute_reply": "2024-03-18T18:34:03.831604Z",
     "shell.execute_reply.started": "2024-03-18T18:34:03.826723Z"
    },
    "tags": []
   },
   "outputs": [],
   "source": [
    "l = list(range(len(df_in['input_ids'])))\n",
    "n = 3\n",
    "idx_ls = [l[i:i+n] for i in range(len(l)) if i%n==0]"
   ]
  },
  {
   "cell_type": "code",
   "execution_count": 18,
   "id": "08bfa5ee-171b-40f7-827b-922a54573f77",
   "metadata": {
    "execution": {
     "iopub.execute_input": "2024-03-18T18:34:04.124337Z",
     "iopub.status.busy": "2024-03-18T18:34:04.123609Z",
     "iopub.status.idle": "2024-03-18T18:34:04.133045Z",
     "shell.execute_reply": "2024-03-18T18:34:04.131823Z",
     "shell.execute_reply.started": "2024-03-18T18:34:04.124293Z"
    },
    "tags": []
   },
   "outputs": [
    {
     "data": {
      "text/plain": [
       "[[0, 1, 2], [3, 4, 5], [6, 7, 8], [9, 10, 11], [12, 13, 14]]"
      ]
     },
     "execution_count": 18,
     "metadata": {},
     "output_type": "execute_result"
    }
   ],
   "source": [
    "idx_ls"
   ]
  },
  {
   "cell_type": "code",
   "execution_count": 19,
   "id": "fecde434-7c9d-44ae-a75d-85f90162466d",
   "metadata": {
    "execution": {
     "iopub.execute_input": "2024-03-18T18:34:05.445830Z",
     "iopub.status.busy": "2024-03-18T18:34:05.444485Z",
     "iopub.status.idle": "2024-03-18T18:34:12.994043Z",
     "shell.execute_reply": "2024-03-18T18:34:12.993176Z",
     "shell.execute_reply.started": "2024-03-18T18:34:05.445781Z"
    },
    "tags": []
   },
   "outputs": [],
   "source": [
    "y_ls = []\n",
    "with torch.no_grad():\n",
    "    for idx in idx_ls:\n",
    "        base_model.eval()\n",
    "\n",
    "        ret_output = base_model.forward(input_ids=df_in['input_ids'][idx], attention_mask=df_in['attention_mask'][idx])\n",
    "        y_probs_ = softmax(ret_output[\"logits\"], axis=1)\n",
    "        y_ls.append(y_probs_)"
   ]
  },
  {
   "cell_type": "code",
   "execution_count": 20,
   "id": "8dc0e5ae-cc78-407f-9599-6ad9f6326710",
   "metadata": {
    "execution": {
     "iopub.execute_input": "2024-03-18T18:34:12.996272Z",
     "iopub.status.busy": "2024-03-18T18:34:12.995582Z",
     "iopub.status.idle": "2024-03-18T18:34:13.003416Z",
     "shell.execute_reply": "2024-03-18T18:34:13.002161Z",
     "shell.execute_reply.started": "2024-03-18T18:34:12.996248Z"
    },
    "tags": []
   },
   "outputs": [
    {
     "data": {
      "text/plain": [
       "array([[9.990e-01, 1.081e-03],\n",
       "       [2.404e-01, 7.598e-01],\n",
       "       [1.327e-02, 9.863e-01],\n",
       "       [9.971e-01, 2.510e-03],\n",
       "       [1.000e+00, 1.925e-05],\n",
       "       [1.000e+00, 1.383e-05],\n",
       "       [1.454e-01, 8.550e-01],\n",
       "       [9.990e-01, 9.327e-04],\n",
       "       [1.000e+00, 1.882e-04],\n",
       "       [9.922e-01, 7.519e-03],\n",
       "       [7.573e-01, 2.428e-01],\n",
       "       [1.000e+00, 9.030e-05],\n",
       "       [9.839e-01, 1.620e-02],\n",
       "       [9.990e-01, 1.129e-03],\n",
       "       [2.672e-03, 9.971e-01]], dtype=float16)"
      ]
     },
     "execution_count": 20,
     "metadata": {},
     "output_type": "execute_result"
    }
   ],
   "source": [
    "np.concatenate(y_ls)"
   ]
  },
  {
   "cell_type": "code",
   "execution_count": null,
   "id": "450f2f05-962c-4eb3-acf3-612feafe0579",
   "metadata": {},
   "outputs": [],
   "source": []
  },
  {
   "cell_type": "code",
   "execution_count": null,
   "id": "c0ee47e3-2838-466e-af7d-31583dcc57ef",
   "metadata": {},
   "outputs": [],
   "source": []
  },
  {
   "cell_type": "code",
   "execution_count": 5,
   "id": "48f6933a-114e-4cd6-a1d9-44988f8f627b",
   "metadata": {
    "execution": {
     "iopub.execute_input": "2024-03-18T18:53:03.392447Z",
     "iopub.status.busy": "2024-03-18T18:53:03.391271Z",
     "iopub.status.idle": "2024-03-18T18:53:03.400191Z",
     "shell.execute_reply": "2024-03-18T18:53:03.398964Z",
     "shell.execute_reply.started": "2024-03-18T18:53:03.392404Z"
    },
    "tags": []
   },
   "outputs": [],
   "source": [
    "tmp = [x for x in \"/bime-munin/xiruod/llama2_SHAC/n500/Weights/set-1355-quantization-epoch3-llama-2-7B-loraR-8-gamma_1-added.pth\".split(\"/\") if \"set-\" in x]\n",
    "name_pre = tmp[0].split(\".\")[0]  # of form like set-1355-quantization-epoch3-llama-2-7B-loraR-8-gamma_1-added.pth\n",
    "model_size = int([x for x in name_pre.split(\"-\") if \"B\" in x][0].replace(\"B\",\"\"))  # 7, 13, 70\n",
    "assert model_size in (7, 13, 70)"
   ]
  },
  {
   "cell_type": "code",
   "execution_count": 2,
   "id": "0d3fa895-45eb-4a0e-af5f-68b8de06887c",
   "metadata": {
    "execution": {
     "iopub.execute_input": "2024-03-18T18:52:35.836117Z",
     "iopub.status.busy": "2024-03-18T18:52:35.835398Z",
     "iopub.status.idle": "2024-03-18T18:52:35.848826Z",
     "shell.execute_reply": "2024-03-18T18:52:35.847646Z",
     "shell.execute_reply.started": "2024-03-18T18:52:35.836062Z"
    },
    "tags": []
   },
   "outputs": [
    {
     "data": {
      "text/plain": [
       "'set-1355-quantization-epoch3-llama-2-7B-loraR-8-gamma_1-added'"
      ]
     },
     "execution_count": 2,
     "metadata": {},
     "output_type": "execute_result"
    }
   ],
   "source": [
    "name_pre"
   ]
  },
  {
   "cell_type": "code",
   "execution_count": 3,
   "id": "7e36dddd-62e9-41f0-9474-cfbaca1950f9",
   "metadata": {
    "execution": {
     "iopub.execute_input": "2024-03-18T18:52:43.152897Z",
     "iopub.status.busy": "2024-03-18T18:52:43.152232Z",
     "iopub.status.idle": "2024-03-18T18:52:43.160390Z",
     "shell.execute_reply": "2024-03-18T18:52:43.159188Z",
     "shell.execute_reply.started": "2024-03-18T18:52:43.152845Z"
    },
    "tags": []
   },
   "outputs": [
    {
     "data": {
      "text/plain": [
       "'7B'"
      ]
     },
     "execution_count": 3,
     "metadata": {},
     "output_type": "execute_result"
    }
   ],
   "source": [
    "model_size"
   ]
  },
  {
   "cell_type": "code",
   "execution_count": null,
   "id": "ccadd63f-239c-4e2e-a737-52413470e127",
   "metadata": {},
   "outputs": [],
   "source": []
  }
 ],
 "metadata": {
  "kernelspec": {
   "display_name": "Python 3 (ipykernel)",
   "language": "python",
   "name": "python3"
  },
  "language_info": {
   "codemirror_mode": {
    "name": "ipython",
    "version": 3
   },
   "file_extension": ".py",
   "mimetype": "text/x-python",
   "name": "python",
   "nbconvert_exporter": "python",
   "pygments_lexer": "ipython3",
   "version": "3.9.17"
  },
  "toc-autonumbering": true
 },
 "nbformat": 4,
 "nbformat_minor": 5
}
