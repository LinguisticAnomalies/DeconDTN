{
 "cells": [
  {
   "cell_type": "markdown",
   "id": "dd6c45e9-92d7-40b7-ba53-5664f3577c8f",
   "metadata": {},
   "source": [
    "# Init"
   ]
  },
  {
   "cell_type": "code",
   "execution_count": 1,
   "id": "52a74e7e-6589-42f3-aff8-290a0e16afb3",
   "metadata": {
    "execution": {
     "iopub.execute_input": "2024-03-12T23:47:56.693211Z",
     "iopub.status.busy": "2024-03-12T23:47:56.692526Z",
     "iopub.status.idle": "2024-03-12T23:47:56.711184Z",
     "shell.execute_reply": "2024-03-12T23:47:56.709570Z",
     "shell.execute_reply.started": "2024-03-12T23:47:56.693148Z"
    },
    "tags": []
   },
   "outputs": [],
   "source": [
    "import os\n",
    "os.environ[\"CUDA_DEVICE_ORDER\"]=\"PCI_BUS_ID\"   # see issue #152\n",
    "os.environ[\"CUDA_VISIBLE_DEVICES\"]=\"0\"\n",
    "\n"
   ]
  },
  {
   "cell_type": "code",
   "execution_count": 2,
   "id": "b4f745af-297c-4088-9f51-2af80cec233b",
   "metadata": {
    "execution": {
     "iopub.execute_input": "2024-03-12T23:47:56.715143Z",
     "iopub.status.busy": "2024-03-12T23:47:56.714525Z",
     "iopub.status.idle": "2024-03-12T23:47:59.376203Z",
     "shell.execute_reply": "2024-03-12T23:47:59.374494Z",
     "shell.execute_reply.started": "2024-03-12T23:47:56.715086Z"
    },
    "tags": []
   },
   "outputs": [],
   "source": [
    "from peft import (\n",
    "    get_peft_model,\n",
    "    LoraConfig,\n",
    "    TaskType,\n",
    "    prepare_model_for_int8_training,\n",
    ")\n",
    "from peft import PeftModel"
   ]
  },
  {
   "cell_type": "code",
   "execution_count": 3,
   "id": "ce0dbdc6-16ed-43dc-be19-1231d97ca8cd",
   "metadata": {
    "execution": {
     "iopub.execute_input": "2024-03-12T23:47:59.377693Z",
     "iopub.status.busy": "2024-03-12T23:47:59.377335Z",
     "iopub.status.idle": "2024-03-12T23:47:59.387155Z",
     "shell.execute_reply": "2024-03-12T23:47:59.385951Z",
     "shell.execute_reply.started": "2024-03-12T23:47:59.377674Z"
    },
    "tags": []
   },
   "outputs": [],
   "source": [
    "import os\n",
    "import argparse\n",
    "\n",
    "parser = argparse.ArgumentParser()\n",
    "\n",
    "# Adding optional argument\n",
    "parser.add_argument(\"-c\", \"--CombinationIdx\", type=int, help=\"Set idx of c to use\")\n",
    "parser.add_argument(\"-q\", \"--quantization\", action=\"store_true\")\n",
    "parser.add_argument(\"--lora_r\", type=int, default=8, help=\"Set LoRA r value\")\n",
    "parser.add_argument(\n",
    "    \"--model_size\", type=int, default=7, help=\"Llama 2 size: 7, 13, or 70\"\n",
    ")\n",
    "parser.add_argument(\n",
    "    \"--toPredict\", default=\"Target\", help=\"Target vs Source\"\n",
    ")\n",
    "parser.add_argument(\n",
    "    \"--gpu\",\n",
    "    type=str,\n",
    "    default=\"0\",\n",
    "    help=\"On which GPU to run\",\n",
    ")\n",
    "parser.add_argument(\n",
    "    \"--nTest\",\n",
    "    type=int,\n",
    "    default=200,\n",
    "    help=\"Number of testing samples\",\n",
    ")\n",
    "args = parser.parse_args(args=[\"--model_size=7\", \"-c=1355\", '--lora_r=8', \"--toPredict=Target\", \"--gpu=2\", \"--nTest=500\",\"--quantization\"])"
   ]
  },
  {
   "cell_type": "code",
   "execution_count": 4,
   "id": "4678bd7d-ebaa-4116-9bde-702a29233124",
   "metadata": {
    "execution": {
     "iopub.execute_input": "2024-03-12T23:47:59.389034Z",
     "iopub.status.busy": "2024-03-12T23:47:59.388579Z",
     "iopub.status.idle": "2024-03-12T23:47:59.408046Z",
     "shell.execute_reply": "2024-03-12T23:47:59.406881Z",
     "shell.execute_reply.started": "2024-03-12T23:47:59.389001Z"
    },
    "tags": []
   },
   "outputs": [
    {
     "data": {
      "text/plain": [
       "Namespace(CombinationIdx=1355, quantization=True, lora_r=8, model_size=7, toPredict='Target', gpu='2', nTest=500)"
      ]
     },
     "execution_count": 4,
     "metadata": {},
     "output_type": "execute_result"
    }
   ],
   "source": [
    "args"
   ]
  },
  {
   "cell_type": "code",
   "execution_count": 5,
   "id": "4ef72126-147f-4113-a5e7-cc215d1a8e81",
   "metadata": {
    "execution": {
     "iopub.execute_input": "2024-03-12T23:47:59.411467Z",
     "iopub.status.busy": "2024-03-12T23:47:59.410933Z",
     "iopub.status.idle": "2024-03-12T23:47:59.965086Z",
     "shell.execute_reply": "2024-03-12T23:47:59.963929Z",
     "shell.execute_reply.started": "2024-03-12T23:47:59.411429Z"
    },
    "tags": []
   },
   "outputs": [],
   "source": [
    "\n",
    "import sys\n",
    "import itertools\n",
    "from tqdm.auto import tqdm\n",
    "import pathlib\n",
    "import numpy as np\n",
    "import pandas as pd\n",
    "from sklearn.metrics import average_precision_score\n",
    "\n",
    "import datasets\n",
    "from contextlib import nullcontext\n",
    "import torch\n",
    "from torch import nn\n",
    "from transformers import (\n",
    "    Trainer,\n",
    "    TrainingArguments,\n",
    "    LlamaTokenizer,\n",
    "    LlamaForSequenceClassification,\n",
    "    TrainerCallback,\n",
    "    default_data_collator,\n",
    ")\n"
   ]
  },
  {
   "cell_type": "code",
   "execution_count": 6,
   "id": "c90ee8cc-71d7-403a-9efc-0606ce0b14b9",
   "metadata": {
    "execution": {
     "iopub.execute_input": "2024-03-12T23:47:59.966692Z",
     "iopub.status.busy": "2024-03-12T23:47:59.966293Z",
     "iopub.status.idle": "2024-03-12T23:47:59.972805Z",
     "shell.execute_reply": "2024-03-12T23:47:59.971095Z",
     "shell.execute_reply.started": "2024-03-12T23:47:59.966664Z"
    },
    "tags": []
   },
   "outputs": [],
   "source": [
    "class train_config:\n",
    "    def __init__(self):\n",
    "        self.quantization: bool = False\n",
    "\n",
    "        \n",
    "\n",
    "\n",
    "globalconfig = train_config()\n",
    "globalconfig.quantization = args.quantization\n",
    "globalconfig.model_id = f\"/bime-munin/llama2_hf/llama-2-{args.model_size}b_hf/\""
   ]
  },
  {
   "cell_type": "code",
   "execution_count": null,
   "id": "53053a00-9168-49ae-a2ee-0acbdb9fcd87",
   "metadata": {},
   "outputs": [],
   "source": []
  },
  {
   "cell_type": "markdown",
   "id": "2fcc212f-dedd-482d-be99-89613ab713fc",
   "metadata": {
    "tags": []
   },
   "source": [
    "# Load Model"
   ]
  },
  {
   "cell_type": "code",
   "execution_count": 7,
   "id": "8eab7cac-9e29-4851-a183-7ad6f1778d6b",
   "metadata": {
    "execution": {
     "iopub.execute_input": "2024-03-12T23:47:59.975664Z",
     "iopub.status.busy": "2024-03-12T23:47:59.974604Z",
     "iopub.status.idle": "2024-03-12T23:47:59.983484Z",
     "shell.execute_reply": "2024-03-12T23:47:59.982506Z",
     "shell.execute_reply.started": "2024-03-12T23:47:59.975608Z"
    },
    "tags": []
   },
   "outputs": [],
   "source": [
    "target_model_id = \"/bime-munin/xiruod/llama2_SHAC/n500/set-1355-quantization-epoch3-llama-2-7B-loraR-8\"\n",
    "source_model_id = \"/bime-munin/xiruod/llama2_SHAC/n500/Source-set-1355-quantization-epoch3-llama-2-7B-loraR-8\"\n",
    "\n"
   ]
  },
  {
   "cell_type": "code",
   "execution_count": 8,
   "id": "71cb85d6-b3af-4f29-9de3-3123e038b649",
   "metadata": {
    "execution": {
     "iopub.execute_input": "2024-03-12T23:47:59.985467Z",
     "iopub.status.busy": "2024-03-12T23:47:59.984844Z",
     "iopub.status.idle": "2024-03-12T23:48:00.087298Z",
     "shell.execute_reply": "2024-03-12T23:48:00.086091Z",
     "shell.execute_reply.started": "2024-03-12T23:47:59.985421Z"
    },
    "tags": []
   },
   "outputs": [
    {
     "data": {
      "text/plain": [
       "1"
      ]
     },
     "execution_count": 8,
     "metadata": {},
     "output_type": "execute_result"
    }
   ],
   "source": [
    "##### Tokenizer\n",
    "tokenizer = LlamaTokenizer.from_pretrained(f\"/bime-munin/llama2_hf/llama-2-7b_hf/\")\n",
    "\n",
    "tokenizer.add_special_tokens({\"pad_token\": \"<pad>\"})"
   ]
  },
  {
   "cell_type": "code",
   "execution_count": null,
   "id": "c82645a4-5ac6-4d24-a63d-e3eefd825be0",
   "metadata": {},
   "outputs": [],
   "source": []
  },
  {
   "cell_type": "code",
   "execution_count": 9,
   "id": "25fc3f4a-0770-4d97-998e-2d3f037d019e",
   "metadata": {
    "execution": {
     "iopub.execute_input": "2024-03-12T23:48:00.089880Z",
     "iopub.status.busy": "2024-03-12T23:48:00.088818Z",
     "iopub.status.idle": "2024-03-12T23:51:37.560043Z",
     "shell.execute_reply": "2024-03-12T23:51:37.558420Z",
     "shell.execute_reply.started": "2024-03-12T23:48:00.089827Z"
    },
    "tags": []
   },
   "outputs": [
    {
     "data": {
      "application/vnd.jupyter.widget-view+json": {
       "model_id": "c56c7b2c2cde4357907e63c348efdfc5",
       "version_major": 2,
       "version_minor": 0
      },
      "text/plain": [
       "Loading checkpoint shards:   0%|          | 0/2 [00:00<?, ?it/s]"
      ]
     },
     "metadata": {},
     "output_type": "display_data"
    },
    {
     "name": "stderr",
     "output_type": "stream",
     "text": [
      "Some weights of LlamaForSequenceClassification were not initialized from the model checkpoint at /bime-munin/llama2_hf/llama-2-7b_hf/ and are newly initialized: ['score.weight']\n",
      "You should probably TRAIN this model on a down-stream task to be able to use it for predictions and inference.\n"
     ]
    }
   ],
   "source": [
    "model = LlamaForSequenceClassification.from_pretrained(globalconfig.model_id, device_map='auto', load_in_8bit=args.quantization, torch_dtype=torch.float16)"
   ]
  },
  {
   "cell_type": "code",
   "execution_count": 10,
   "id": "3010514e-43d8-45bb-8600-78f486ea5b8c",
   "metadata": {
    "execution": {
     "iopub.execute_input": "2024-03-12T23:51:37.561192Z",
     "iopub.status.busy": "2024-03-12T23:51:37.561009Z",
     "iopub.status.idle": "2024-03-12T23:51:37.570517Z",
     "shell.execute_reply": "2024-03-12T23:51:37.569625Z",
     "shell.execute_reply.started": "2024-03-12T23:51:37.561175Z"
    },
    "tags": []
   },
   "outputs": [
    {
     "data": {
      "text/plain": [
       "Embedding(32128, 4096)"
      ]
     },
     "execution_count": 10,
     "metadata": {},
     "output_type": "execute_result"
    }
   ],
   "source": [
    "model.config.pad_token_id = tokenizer.pad_token_id\n",
    "\n",
    "model.resize_token_embeddings(len(tokenizer), pad_to_multiple_of=128)\n"
   ]
  },
  {
   "cell_type": "code",
   "execution_count": null,
   "id": "1e4b9342-1bcf-4c06-9b89-7279aee74050",
   "metadata": {},
   "outputs": [],
   "source": []
  },
  {
   "cell_type": "code",
   "execution_count": null,
   "id": "00c8dccd-5f7a-4893-8e1c-f50b017881d0",
   "metadata": {},
   "outputs": [],
   "source": []
  },
  {
   "cell_type": "code",
   "execution_count": null,
   "id": "4b72a0ba-a363-4ac7-9746-7752f57a42b3",
   "metadata": {},
   "outputs": [],
   "source": []
  },
  {
   "cell_type": "markdown",
   "id": "fe11f713-93b9-4f5d-89cb-b77ae04a9637",
   "metadata": {},
   "source": [
    "# Load Adapter and Manipulation"
   ]
  },
  {
   "cell_type": "code",
   "execution_count": 11,
   "id": "c4c2396d-6036-44ae-b221-896bfe72ca57",
   "metadata": {
    "execution": {
     "iopub.execute_input": "2024-03-12T21:27:10.734525Z",
     "iopub.status.busy": "2024-03-12T21:27:10.733818Z",
     "iopub.status.idle": "2024-03-12T21:27:11.656338Z",
     "shell.execute_reply": "2024-03-12T21:27:11.654826Z",
     "shell.execute_reply.started": "2024-03-12T21:27:10.734463Z"
    },
    "tags": []
   },
   "outputs": [],
   "source": [
    "model = PeftModel.from_pretrained(model, target_model_id, adapter_name='target')"
   ]
  },
  {
   "cell_type": "code",
   "execution_count": 12,
   "id": "81856730-2cf1-4a66-bc70-4d61a627e70a",
   "metadata": {
    "execution": {
     "iopub.execute_input": "2024-03-12T21:27:12.915015Z",
     "iopub.status.busy": "2024-03-12T21:27:12.914149Z",
     "iopub.status.idle": "2024-03-12T21:27:13.702584Z",
     "shell.execute_reply": "2024-03-12T21:27:13.700881Z",
     "shell.execute_reply.started": "2024-03-12T21:27:12.914948Z"
    },
    "tags": []
   },
   "outputs": [
    {
     "data": {
      "text/plain": [
       "_IncompatibleKeys(missing_keys=['base_model.model.model.embed_tokens.weight', 'base_model.model.model.layers.0.self_attn.q_proj.base_layer.weight', 'base_model.model.model.layers.0.self_attn.q_proj.lora_A.target.weight', 'base_model.model.model.layers.0.self_attn.q_proj.lora_B.target.weight', 'base_model.model.model.layers.0.self_attn.k_proj.weight', 'base_model.model.model.layers.0.self_attn.v_proj.base_layer.weight', 'base_model.model.model.layers.0.self_attn.v_proj.lora_A.target.weight', 'base_model.model.model.layers.0.self_attn.v_proj.lora_B.target.weight', 'base_model.model.model.layers.0.self_attn.o_proj.weight', 'base_model.model.model.layers.0.mlp.gate_proj.weight', 'base_model.model.model.layers.0.mlp.up_proj.weight', 'base_model.model.model.layers.0.mlp.down_proj.weight', 'base_model.model.model.layers.0.input_layernorm.weight', 'base_model.model.model.layers.0.post_attention_layernorm.weight', 'base_model.model.model.layers.1.self_attn.q_proj.base_layer.weight', 'base_model.model.model.layers.1.self_attn.q_proj.lora_A.target.weight', 'base_model.model.model.layers.1.self_attn.q_proj.lora_B.target.weight', 'base_model.model.model.layers.1.self_attn.k_proj.weight', 'base_model.model.model.layers.1.self_attn.v_proj.base_layer.weight', 'base_model.model.model.layers.1.self_attn.v_proj.lora_A.target.weight', 'base_model.model.model.layers.1.self_attn.v_proj.lora_B.target.weight', 'base_model.model.model.layers.1.self_attn.o_proj.weight', 'base_model.model.model.layers.1.mlp.gate_proj.weight', 'base_model.model.model.layers.1.mlp.up_proj.weight', 'base_model.model.model.layers.1.mlp.down_proj.weight', 'base_model.model.model.layers.1.input_layernorm.weight', 'base_model.model.model.layers.1.post_attention_layernorm.weight', 'base_model.model.model.layers.2.self_attn.q_proj.base_layer.weight', 'base_model.model.model.layers.2.self_attn.q_proj.lora_A.target.weight', 'base_model.model.model.layers.2.self_attn.q_proj.lora_B.target.weight', 'base_model.model.model.layers.2.self_attn.k_proj.weight', 'base_model.model.model.layers.2.self_attn.v_proj.base_layer.weight', 'base_model.model.model.layers.2.self_attn.v_proj.lora_A.target.weight', 'base_model.model.model.layers.2.self_attn.v_proj.lora_B.target.weight', 'base_model.model.model.layers.2.self_attn.o_proj.weight', 'base_model.model.model.layers.2.mlp.gate_proj.weight', 'base_model.model.model.layers.2.mlp.up_proj.weight', 'base_model.model.model.layers.2.mlp.down_proj.weight', 'base_model.model.model.layers.2.input_layernorm.weight', 'base_model.model.model.layers.2.post_attention_layernorm.weight', 'base_model.model.model.layers.3.self_attn.q_proj.base_layer.weight', 'base_model.model.model.layers.3.self_attn.q_proj.lora_A.target.weight', 'base_model.model.model.layers.3.self_attn.q_proj.lora_B.target.weight', 'base_model.model.model.layers.3.self_attn.k_proj.weight', 'base_model.model.model.layers.3.self_attn.v_proj.base_layer.weight', 'base_model.model.model.layers.3.self_attn.v_proj.lora_A.target.weight', 'base_model.model.model.layers.3.self_attn.v_proj.lora_B.target.weight', 'base_model.model.model.layers.3.self_attn.o_proj.weight', 'base_model.model.model.layers.3.mlp.gate_proj.weight', 'base_model.model.model.layers.3.mlp.up_proj.weight', 'base_model.model.model.layers.3.mlp.down_proj.weight', 'base_model.model.model.layers.3.input_layernorm.weight', 'base_model.model.model.layers.3.post_attention_layernorm.weight', 'base_model.model.model.layers.4.self_attn.q_proj.base_layer.weight', 'base_model.model.model.layers.4.self_attn.q_proj.lora_A.target.weight', 'base_model.model.model.layers.4.self_attn.q_proj.lora_B.target.weight', 'base_model.model.model.layers.4.self_attn.k_proj.weight', 'base_model.model.model.layers.4.self_attn.v_proj.base_layer.weight', 'base_model.model.model.layers.4.self_attn.v_proj.lora_A.target.weight', 'base_model.model.model.layers.4.self_attn.v_proj.lora_B.target.weight', 'base_model.model.model.layers.4.self_attn.o_proj.weight', 'base_model.model.model.layers.4.mlp.gate_proj.weight', 'base_model.model.model.layers.4.mlp.up_proj.weight', 'base_model.model.model.layers.4.mlp.down_proj.weight', 'base_model.model.model.layers.4.input_layernorm.weight', 'base_model.model.model.layers.4.post_attention_layernorm.weight', 'base_model.model.model.layers.5.self_attn.q_proj.base_layer.weight', 'base_model.model.model.layers.5.self_attn.q_proj.lora_A.target.weight', 'base_model.model.model.layers.5.self_attn.q_proj.lora_B.target.weight', 'base_model.model.model.layers.5.self_attn.k_proj.weight', 'base_model.model.model.layers.5.self_attn.v_proj.base_layer.weight', 'base_model.model.model.layers.5.self_attn.v_proj.lora_A.target.weight', 'base_model.model.model.layers.5.self_attn.v_proj.lora_B.target.weight', 'base_model.model.model.layers.5.self_attn.o_proj.weight', 'base_model.model.model.layers.5.mlp.gate_proj.weight', 'base_model.model.model.layers.5.mlp.up_proj.weight', 'base_model.model.model.layers.5.mlp.down_proj.weight', 'base_model.model.model.layers.5.input_layernorm.weight', 'base_model.model.model.layers.5.post_attention_layernorm.weight', 'base_model.model.model.layers.6.self_attn.q_proj.base_layer.weight', 'base_model.model.model.layers.6.self_attn.q_proj.lora_A.target.weight', 'base_model.model.model.layers.6.self_attn.q_proj.lora_B.target.weight', 'base_model.model.model.layers.6.self_attn.k_proj.weight', 'base_model.model.model.layers.6.self_attn.v_proj.base_layer.weight', 'base_model.model.model.layers.6.self_attn.v_proj.lora_A.target.weight', 'base_model.model.model.layers.6.self_attn.v_proj.lora_B.target.weight', 'base_model.model.model.layers.6.self_attn.o_proj.weight', 'base_model.model.model.layers.6.mlp.gate_proj.weight', 'base_model.model.model.layers.6.mlp.up_proj.weight', 'base_model.model.model.layers.6.mlp.down_proj.weight', 'base_model.model.model.layers.6.input_layernorm.weight', 'base_model.model.model.layers.6.post_attention_layernorm.weight', 'base_model.model.model.layers.7.self_attn.q_proj.base_layer.weight', 'base_model.model.model.layers.7.self_attn.q_proj.lora_A.target.weight', 'base_model.model.model.layers.7.self_attn.q_proj.lora_B.target.weight', 'base_model.model.model.layers.7.self_attn.k_proj.weight', 'base_model.model.model.layers.7.self_attn.v_proj.base_layer.weight', 'base_model.model.model.layers.7.self_attn.v_proj.lora_A.target.weight', 'base_model.model.model.layers.7.self_attn.v_proj.lora_B.target.weight', 'base_model.model.model.layers.7.self_attn.o_proj.weight', 'base_model.model.model.layers.7.mlp.gate_proj.weight', 'base_model.model.model.layers.7.mlp.up_proj.weight', 'base_model.model.model.layers.7.mlp.down_proj.weight', 'base_model.model.model.layers.7.input_layernorm.weight', 'base_model.model.model.layers.7.post_attention_layernorm.weight', 'base_model.model.model.layers.8.self_attn.q_proj.base_layer.weight', 'base_model.model.model.layers.8.self_attn.q_proj.lora_A.target.weight', 'base_model.model.model.layers.8.self_attn.q_proj.lora_B.target.weight', 'base_model.model.model.layers.8.self_attn.k_proj.weight', 'base_model.model.model.layers.8.self_attn.v_proj.base_layer.weight', 'base_model.model.model.layers.8.self_attn.v_proj.lora_A.target.weight', 'base_model.model.model.layers.8.self_attn.v_proj.lora_B.target.weight', 'base_model.model.model.layers.8.self_attn.o_proj.weight', 'base_model.model.model.layers.8.mlp.gate_proj.weight', 'base_model.model.model.layers.8.mlp.up_proj.weight', 'base_model.model.model.layers.8.mlp.down_proj.weight', 'base_model.model.model.layers.8.input_layernorm.weight', 'base_model.model.model.layers.8.post_attention_layernorm.weight', 'base_model.model.model.layers.9.self_attn.q_proj.base_layer.weight', 'base_model.model.model.layers.9.self_attn.q_proj.lora_A.target.weight', 'base_model.model.model.layers.9.self_attn.q_proj.lora_B.target.weight', 'base_model.model.model.layers.9.self_attn.k_proj.weight', 'base_model.model.model.layers.9.self_attn.v_proj.base_layer.weight', 'base_model.model.model.layers.9.self_attn.v_proj.lora_A.target.weight', 'base_model.model.model.layers.9.self_attn.v_proj.lora_B.target.weight', 'base_model.model.model.layers.9.self_attn.o_proj.weight', 'base_model.model.model.layers.9.mlp.gate_proj.weight', 'base_model.model.model.layers.9.mlp.up_proj.weight', 'base_model.model.model.layers.9.mlp.down_proj.weight', 'base_model.model.model.layers.9.input_layernorm.weight', 'base_model.model.model.layers.9.post_attention_layernorm.weight', 'base_model.model.model.layers.10.self_attn.q_proj.base_layer.weight', 'base_model.model.model.layers.10.self_attn.q_proj.lora_A.target.weight', 'base_model.model.model.layers.10.self_attn.q_proj.lora_B.target.weight', 'base_model.model.model.layers.10.self_attn.k_proj.weight', 'base_model.model.model.layers.10.self_attn.v_proj.base_layer.weight', 'base_model.model.model.layers.10.self_attn.v_proj.lora_A.target.weight', 'base_model.model.model.layers.10.self_attn.v_proj.lora_B.target.weight', 'base_model.model.model.layers.10.self_attn.o_proj.weight', 'base_model.model.model.layers.10.mlp.gate_proj.weight', 'base_model.model.model.layers.10.mlp.up_proj.weight', 'base_model.model.model.layers.10.mlp.down_proj.weight', 'base_model.model.model.layers.10.input_layernorm.weight', 'base_model.model.model.layers.10.post_attention_layernorm.weight', 'base_model.model.model.layers.11.self_attn.q_proj.base_layer.weight', 'base_model.model.model.layers.11.self_attn.q_proj.lora_A.target.weight', 'base_model.model.model.layers.11.self_attn.q_proj.lora_B.target.weight', 'base_model.model.model.layers.11.self_attn.k_proj.weight', 'base_model.model.model.layers.11.self_attn.v_proj.base_layer.weight', 'base_model.model.model.layers.11.self_attn.v_proj.lora_A.target.weight', 'base_model.model.model.layers.11.self_attn.v_proj.lora_B.target.weight', 'base_model.model.model.layers.11.self_attn.o_proj.weight', 'base_model.model.model.layers.11.mlp.gate_proj.weight', 'base_model.model.model.layers.11.mlp.up_proj.weight', 'base_model.model.model.layers.11.mlp.down_proj.weight', 'base_model.model.model.layers.11.input_layernorm.weight', 'base_model.model.model.layers.11.post_attention_layernorm.weight', 'base_model.model.model.layers.12.self_attn.q_proj.base_layer.weight', 'base_model.model.model.layers.12.self_attn.q_proj.lora_A.target.weight', 'base_model.model.model.layers.12.self_attn.q_proj.lora_B.target.weight', 'base_model.model.model.layers.12.self_attn.k_proj.weight', 'base_model.model.model.layers.12.self_attn.v_proj.base_layer.weight', 'base_model.model.model.layers.12.self_attn.v_proj.lora_A.target.weight', 'base_model.model.model.layers.12.self_attn.v_proj.lora_B.target.weight', 'base_model.model.model.layers.12.self_attn.o_proj.weight', 'base_model.model.model.layers.12.mlp.gate_proj.weight', 'base_model.model.model.layers.12.mlp.up_proj.weight', 'base_model.model.model.layers.12.mlp.down_proj.weight', 'base_model.model.model.layers.12.input_layernorm.weight', 'base_model.model.model.layers.12.post_attention_layernorm.weight', 'base_model.model.model.layers.13.self_attn.q_proj.base_layer.weight', 'base_model.model.model.layers.13.self_attn.q_proj.lora_A.target.weight', 'base_model.model.model.layers.13.self_attn.q_proj.lora_B.target.weight', 'base_model.model.model.layers.13.self_attn.k_proj.weight', 'base_model.model.model.layers.13.self_attn.v_proj.base_layer.weight', 'base_model.model.model.layers.13.self_attn.v_proj.lora_A.target.weight', 'base_model.model.model.layers.13.self_attn.v_proj.lora_B.target.weight', 'base_model.model.model.layers.13.self_attn.o_proj.weight', 'base_model.model.model.layers.13.mlp.gate_proj.weight', 'base_model.model.model.layers.13.mlp.up_proj.weight', 'base_model.model.model.layers.13.mlp.down_proj.weight', 'base_model.model.model.layers.13.input_layernorm.weight', 'base_model.model.model.layers.13.post_attention_layernorm.weight', 'base_model.model.model.layers.14.self_attn.q_proj.base_layer.weight', 'base_model.model.model.layers.14.self_attn.q_proj.lora_A.target.weight', 'base_model.model.model.layers.14.self_attn.q_proj.lora_B.target.weight', 'base_model.model.model.layers.14.self_attn.k_proj.weight', 'base_model.model.model.layers.14.self_attn.v_proj.base_layer.weight', 'base_model.model.model.layers.14.self_attn.v_proj.lora_A.target.weight', 'base_model.model.model.layers.14.self_attn.v_proj.lora_B.target.weight', 'base_model.model.model.layers.14.self_attn.o_proj.weight', 'base_model.model.model.layers.14.mlp.gate_proj.weight', 'base_model.model.model.layers.14.mlp.up_proj.weight', 'base_model.model.model.layers.14.mlp.down_proj.weight', 'base_model.model.model.layers.14.input_layernorm.weight', 'base_model.model.model.layers.14.post_attention_layernorm.weight', 'base_model.model.model.layers.15.self_attn.q_proj.base_layer.weight', 'base_model.model.model.layers.15.self_attn.q_proj.lora_A.target.weight', 'base_model.model.model.layers.15.self_attn.q_proj.lora_B.target.weight', 'base_model.model.model.layers.15.self_attn.k_proj.weight', 'base_model.model.model.layers.15.self_attn.v_proj.base_layer.weight', 'base_model.model.model.layers.15.self_attn.v_proj.lora_A.target.weight', 'base_model.model.model.layers.15.self_attn.v_proj.lora_B.target.weight', 'base_model.model.model.layers.15.self_attn.o_proj.weight', 'base_model.model.model.layers.15.mlp.gate_proj.weight', 'base_model.model.model.layers.15.mlp.up_proj.weight', 'base_model.model.model.layers.15.mlp.down_proj.weight', 'base_model.model.model.layers.15.input_layernorm.weight', 'base_model.model.model.layers.15.post_attention_layernorm.weight', 'base_model.model.model.layers.16.self_attn.q_proj.base_layer.weight', 'base_model.model.model.layers.16.self_attn.q_proj.lora_A.target.weight', 'base_model.model.model.layers.16.self_attn.q_proj.lora_B.target.weight', 'base_model.model.model.layers.16.self_attn.k_proj.weight', 'base_model.model.model.layers.16.self_attn.v_proj.base_layer.weight', 'base_model.model.model.layers.16.self_attn.v_proj.lora_A.target.weight', 'base_model.model.model.layers.16.self_attn.v_proj.lora_B.target.weight', 'base_model.model.model.layers.16.self_attn.o_proj.weight', 'base_model.model.model.layers.16.mlp.gate_proj.weight', 'base_model.model.model.layers.16.mlp.up_proj.weight', 'base_model.model.model.layers.16.mlp.down_proj.weight', 'base_model.model.model.layers.16.input_layernorm.weight', 'base_model.model.model.layers.16.post_attention_layernorm.weight', 'base_model.model.model.layers.17.self_attn.q_proj.base_layer.weight', 'base_model.model.model.layers.17.self_attn.q_proj.lora_A.target.weight', 'base_model.model.model.layers.17.self_attn.q_proj.lora_B.target.weight', 'base_model.model.model.layers.17.self_attn.k_proj.weight', 'base_model.model.model.layers.17.self_attn.v_proj.base_layer.weight', 'base_model.model.model.layers.17.self_attn.v_proj.lora_A.target.weight', 'base_model.model.model.layers.17.self_attn.v_proj.lora_B.target.weight', 'base_model.model.model.layers.17.self_attn.o_proj.weight', 'base_model.model.model.layers.17.mlp.gate_proj.weight', 'base_model.model.model.layers.17.mlp.up_proj.weight', 'base_model.model.model.layers.17.mlp.down_proj.weight', 'base_model.model.model.layers.17.input_layernorm.weight', 'base_model.model.model.layers.17.post_attention_layernorm.weight', 'base_model.model.model.layers.18.self_attn.q_proj.base_layer.weight', 'base_model.model.model.layers.18.self_attn.q_proj.lora_A.target.weight', 'base_model.model.model.layers.18.self_attn.q_proj.lora_B.target.weight', 'base_model.model.model.layers.18.self_attn.k_proj.weight', 'base_model.model.model.layers.18.self_attn.v_proj.base_layer.weight', 'base_model.model.model.layers.18.self_attn.v_proj.lora_A.target.weight', 'base_model.model.model.layers.18.self_attn.v_proj.lora_B.target.weight', 'base_model.model.model.layers.18.self_attn.o_proj.weight', 'base_model.model.model.layers.18.mlp.gate_proj.weight', 'base_model.model.model.layers.18.mlp.up_proj.weight', 'base_model.model.model.layers.18.mlp.down_proj.weight', 'base_model.model.model.layers.18.input_layernorm.weight', 'base_model.model.model.layers.18.post_attention_layernorm.weight', 'base_model.model.model.layers.19.self_attn.q_proj.base_layer.weight', 'base_model.model.model.layers.19.self_attn.q_proj.lora_A.target.weight', 'base_model.model.model.layers.19.self_attn.q_proj.lora_B.target.weight', 'base_model.model.model.layers.19.self_attn.k_proj.weight', 'base_model.model.model.layers.19.self_attn.v_proj.base_layer.weight', 'base_model.model.model.layers.19.self_attn.v_proj.lora_A.target.weight', 'base_model.model.model.layers.19.self_attn.v_proj.lora_B.target.weight', 'base_model.model.model.layers.19.self_attn.o_proj.weight', 'base_model.model.model.layers.19.mlp.gate_proj.weight', 'base_model.model.model.layers.19.mlp.up_proj.weight', 'base_model.model.model.layers.19.mlp.down_proj.weight', 'base_model.model.model.layers.19.input_layernorm.weight', 'base_model.model.model.layers.19.post_attention_layernorm.weight', 'base_model.model.model.layers.20.self_attn.q_proj.base_layer.weight', 'base_model.model.model.layers.20.self_attn.q_proj.lora_A.target.weight', 'base_model.model.model.layers.20.self_attn.q_proj.lora_B.target.weight', 'base_model.model.model.layers.20.self_attn.k_proj.weight', 'base_model.model.model.layers.20.self_attn.v_proj.base_layer.weight', 'base_model.model.model.layers.20.self_attn.v_proj.lora_A.target.weight', 'base_model.model.model.layers.20.self_attn.v_proj.lora_B.target.weight', 'base_model.model.model.layers.20.self_attn.o_proj.weight', 'base_model.model.model.layers.20.mlp.gate_proj.weight', 'base_model.model.model.layers.20.mlp.up_proj.weight', 'base_model.model.model.layers.20.mlp.down_proj.weight', 'base_model.model.model.layers.20.input_layernorm.weight', 'base_model.model.model.layers.20.post_attention_layernorm.weight', 'base_model.model.model.layers.21.self_attn.q_proj.base_layer.weight', 'base_model.model.model.layers.21.self_attn.q_proj.lora_A.target.weight', 'base_model.model.model.layers.21.self_attn.q_proj.lora_B.target.weight', 'base_model.model.model.layers.21.self_attn.k_proj.weight', 'base_model.model.model.layers.21.self_attn.v_proj.base_layer.weight', 'base_model.model.model.layers.21.self_attn.v_proj.lora_A.target.weight', 'base_model.model.model.layers.21.self_attn.v_proj.lora_B.target.weight', 'base_model.model.model.layers.21.self_attn.o_proj.weight', 'base_model.model.model.layers.21.mlp.gate_proj.weight', 'base_model.model.model.layers.21.mlp.up_proj.weight', 'base_model.model.model.layers.21.mlp.down_proj.weight', 'base_model.model.model.layers.21.input_layernorm.weight', 'base_model.model.model.layers.21.post_attention_layernorm.weight', 'base_model.model.model.layers.22.self_attn.q_proj.base_layer.weight', 'base_model.model.model.layers.22.self_attn.q_proj.lora_A.target.weight', 'base_model.model.model.layers.22.self_attn.q_proj.lora_B.target.weight', 'base_model.model.model.layers.22.self_attn.k_proj.weight', 'base_model.model.model.layers.22.self_attn.v_proj.base_layer.weight', 'base_model.model.model.layers.22.self_attn.v_proj.lora_A.target.weight', 'base_model.model.model.layers.22.self_attn.v_proj.lora_B.target.weight', 'base_model.model.model.layers.22.self_attn.o_proj.weight', 'base_model.model.model.layers.22.mlp.gate_proj.weight', 'base_model.model.model.layers.22.mlp.up_proj.weight', 'base_model.model.model.layers.22.mlp.down_proj.weight', 'base_model.model.model.layers.22.input_layernorm.weight', 'base_model.model.model.layers.22.post_attention_layernorm.weight', 'base_model.model.model.layers.23.self_attn.q_proj.base_layer.weight', 'base_model.model.model.layers.23.self_attn.q_proj.lora_A.target.weight', 'base_model.model.model.layers.23.self_attn.q_proj.lora_B.target.weight', 'base_model.model.model.layers.23.self_attn.k_proj.weight', 'base_model.model.model.layers.23.self_attn.v_proj.base_layer.weight', 'base_model.model.model.layers.23.self_attn.v_proj.lora_A.target.weight', 'base_model.model.model.layers.23.self_attn.v_proj.lora_B.target.weight', 'base_model.model.model.layers.23.self_attn.o_proj.weight', 'base_model.model.model.layers.23.mlp.gate_proj.weight', 'base_model.model.model.layers.23.mlp.up_proj.weight', 'base_model.model.model.layers.23.mlp.down_proj.weight', 'base_model.model.model.layers.23.input_layernorm.weight', 'base_model.model.model.layers.23.post_attention_layernorm.weight', 'base_model.model.model.layers.24.self_attn.q_proj.base_layer.weight', 'base_model.model.model.layers.24.self_attn.q_proj.lora_A.target.weight', 'base_model.model.model.layers.24.self_attn.q_proj.lora_B.target.weight', 'base_model.model.model.layers.24.self_attn.k_proj.weight', 'base_model.model.model.layers.24.self_attn.v_proj.base_layer.weight', 'base_model.model.model.layers.24.self_attn.v_proj.lora_A.target.weight', 'base_model.model.model.layers.24.self_attn.v_proj.lora_B.target.weight', 'base_model.model.model.layers.24.self_attn.o_proj.weight', 'base_model.model.model.layers.24.mlp.gate_proj.weight', 'base_model.model.model.layers.24.mlp.up_proj.weight', 'base_model.model.model.layers.24.mlp.down_proj.weight', 'base_model.model.model.layers.24.input_layernorm.weight', 'base_model.model.model.layers.24.post_attention_layernorm.weight', 'base_model.model.model.layers.25.self_attn.q_proj.base_layer.weight', 'base_model.model.model.layers.25.self_attn.q_proj.lora_A.target.weight', 'base_model.model.model.layers.25.self_attn.q_proj.lora_B.target.weight', 'base_model.model.model.layers.25.self_attn.k_proj.weight', 'base_model.model.model.layers.25.self_attn.v_proj.base_layer.weight', 'base_model.model.model.layers.25.self_attn.v_proj.lora_A.target.weight', 'base_model.model.model.layers.25.self_attn.v_proj.lora_B.target.weight', 'base_model.model.model.layers.25.self_attn.o_proj.weight', 'base_model.model.model.layers.25.mlp.gate_proj.weight', 'base_model.model.model.layers.25.mlp.up_proj.weight', 'base_model.model.model.layers.25.mlp.down_proj.weight', 'base_model.model.model.layers.25.input_layernorm.weight', 'base_model.model.model.layers.25.post_attention_layernorm.weight', 'base_model.model.model.layers.26.self_attn.q_proj.base_layer.weight', 'base_model.model.model.layers.26.self_attn.q_proj.lora_A.target.weight', 'base_model.model.model.layers.26.self_attn.q_proj.lora_B.target.weight', 'base_model.model.model.layers.26.self_attn.k_proj.weight', 'base_model.model.model.layers.26.self_attn.v_proj.base_layer.weight', 'base_model.model.model.layers.26.self_attn.v_proj.lora_A.target.weight', 'base_model.model.model.layers.26.self_attn.v_proj.lora_B.target.weight', 'base_model.model.model.layers.26.self_attn.o_proj.weight', 'base_model.model.model.layers.26.mlp.gate_proj.weight', 'base_model.model.model.layers.26.mlp.up_proj.weight', 'base_model.model.model.layers.26.mlp.down_proj.weight', 'base_model.model.model.layers.26.input_layernorm.weight', 'base_model.model.model.layers.26.post_attention_layernorm.weight', 'base_model.model.model.layers.27.self_attn.q_proj.base_layer.weight', 'base_model.model.model.layers.27.self_attn.q_proj.lora_A.target.weight', 'base_model.model.model.layers.27.self_attn.q_proj.lora_B.target.weight', 'base_model.model.model.layers.27.self_attn.k_proj.weight', 'base_model.model.model.layers.27.self_attn.v_proj.base_layer.weight', 'base_model.model.model.layers.27.self_attn.v_proj.lora_A.target.weight', 'base_model.model.model.layers.27.self_attn.v_proj.lora_B.target.weight', 'base_model.model.model.layers.27.self_attn.o_proj.weight', 'base_model.model.model.layers.27.mlp.gate_proj.weight', 'base_model.model.model.layers.27.mlp.up_proj.weight', 'base_model.model.model.layers.27.mlp.down_proj.weight', 'base_model.model.model.layers.27.input_layernorm.weight', 'base_model.model.model.layers.27.post_attention_layernorm.weight', 'base_model.model.model.layers.28.self_attn.q_proj.base_layer.weight', 'base_model.model.model.layers.28.self_attn.q_proj.lora_A.target.weight', 'base_model.model.model.layers.28.self_attn.q_proj.lora_B.target.weight', 'base_model.model.model.layers.28.self_attn.k_proj.weight', 'base_model.model.model.layers.28.self_attn.v_proj.base_layer.weight', 'base_model.model.model.layers.28.self_attn.v_proj.lora_A.target.weight', 'base_model.model.model.layers.28.self_attn.v_proj.lora_B.target.weight', 'base_model.model.model.layers.28.self_attn.o_proj.weight', 'base_model.model.model.layers.28.mlp.gate_proj.weight', 'base_model.model.model.layers.28.mlp.up_proj.weight', 'base_model.model.model.layers.28.mlp.down_proj.weight', 'base_model.model.model.layers.28.input_layernorm.weight', 'base_model.model.model.layers.28.post_attention_layernorm.weight', 'base_model.model.model.layers.29.self_attn.q_proj.base_layer.weight', 'base_model.model.model.layers.29.self_attn.q_proj.lora_A.target.weight', 'base_model.model.model.layers.29.self_attn.q_proj.lora_B.target.weight', 'base_model.model.model.layers.29.self_attn.k_proj.weight', 'base_model.model.model.layers.29.self_attn.v_proj.base_layer.weight', 'base_model.model.model.layers.29.self_attn.v_proj.lora_A.target.weight', 'base_model.model.model.layers.29.self_attn.v_proj.lora_B.target.weight', 'base_model.model.model.layers.29.self_attn.o_proj.weight', 'base_model.model.model.layers.29.mlp.gate_proj.weight', 'base_model.model.model.layers.29.mlp.up_proj.weight', 'base_model.model.model.layers.29.mlp.down_proj.weight', 'base_model.model.model.layers.29.input_layernorm.weight', 'base_model.model.model.layers.29.post_attention_layernorm.weight', 'base_model.model.model.layers.30.self_attn.q_proj.base_layer.weight', 'base_model.model.model.layers.30.self_attn.q_proj.lora_A.target.weight', 'base_model.model.model.layers.30.self_attn.q_proj.lora_B.target.weight', 'base_model.model.model.layers.30.self_attn.k_proj.weight', 'base_model.model.model.layers.30.self_attn.v_proj.base_layer.weight', 'base_model.model.model.layers.30.self_attn.v_proj.lora_A.target.weight', 'base_model.model.model.layers.30.self_attn.v_proj.lora_B.target.weight', 'base_model.model.model.layers.30.self_attn.o_proj.weight', 'base_model.model.model.layers.30.mlp.gate_proj.weight', 'base_model.model.model.layers.30.mlp.up_proj.weight', 'base_model.model.model.layers.30.mlp.down_proj.weight', 'base_model.model.model.layers.30.input_layernorm.weight', 'base_model.model.model.layers.30.post_attention_layernorm.weight', 'base_model.model.model.layers.31.self_attn.q_proj.base_layer.weight', 'base_model.model.model.layers.31.self_attn.q_proj.lora_A.target.weight', 'base_model.model.model.layers.31.self_attn.q_proj.lora_B.target.weight', 'base_model.model.model.layers.31.self_attn.k_proj.weight', 'base_model.model.model.layers.31.self_attn.v_proj.base_layer.weight', 'base_model.model.model.layers.31.self_attn.v_proj.lora_A.target.weight', 'base_model.model.model.layers.31.self_attn.v_proj.lora_B.target.weight', 'base_model.model.model.layers.31.self_attn.o_proj.weight', 'base_model.model.model.layers.31.mlp.gate_proj.weight', 'base_model.model.model.layers.31.mlp.up_proj.weight', 'base_model.model.model.layers.31.mlp.down_proj.weight', 'base_model.model.model.layers.31.input_layernorm.weight', 'base_model.model.model.layers.31.post_attention_layernorm.weight', 'base_model.model.model.norm.weight', 'base_model.model.score.original_module.weight', 'base_model.model.score.modules_to_save.target.weight'], unexpected_keys=[])"
      ]
     },
     "execution_count": 12,
     "metadata": {},
     "output_type": "execute_result"
    }
   ],
   "source": [
    "\n",
    "model.load_adapter(source_model_id, adapter_name=\"source\")"
   ]
  },
  {
   "cell_type": "markdown",
   "id": "145bcaee-3445-4d89-9a97-9d1c16e927df",
   "metadata": {},
   "source": [
    "## Play with Adapter Manipulation"
   ]
  },
  {
   "cell_type": "code",
   "execution_count": null,
   "id": "49e9d512-cca7-495b-a446-ec9a6aae6e60",
   "metadata": {},
   "outputs": [],
   "source": []
  },
  {
   "cell_type": "code",
   "execution_count": 13,
   "id": "8e112e14-1c53-4a4c-8681-b4699e689759",
   "metadata": {
    "execution": {
     "iopub.execute_input": "2024-03-12T21:27:25.057025Z",
     "iopub.status.busy": "2024-03-12T21:27:25.055984Z",
     "iopub.status.idle": "2024-03-12T21:27:25.065860Z",
     "shell.execute_reply": "2024-03-12T21:27:25.063975Z",
     "shell.execute_reply.started": "2024-03-12T21:27:25.056953Z"
    },
    "tags": []
   },
   "outputs": [],
   "source": [
    "import math"
   ]
  },
  {
   "cell_type": "code",
   "execution_count": 14,
   "id": "4bbf015b-16e1-4bc3-8752-5af898c24199",
   "metadata": {
    "execution": {
     "iopub.execute_input": "2024-03-12T21:27:25.068357Z",
     "iopub.status.busy": "2024-03-12T21:27:25.067906Z",
     "iopub.status.idle": "2024-03-12T21:27:25.076306Z",
     "shell.execute_reply": "2024-03-12T21:27:25.074718Z",
     "shell.execute_reply.started": "2024-03-12T21:27:25.068323Z"
    },
    "tags": []
   },
   "outputs": [],
   "source": [
    "import peft"
   ]
  },
  {
   "cell_type": "code",
   "execution_count": 15,
   "id": "06f84900-7007-42f6-b474-35185b614411",
   "metadata": {
    "execution": {
     "iopub.execute_input": "2024-03-12T21:27:25.079255Z",
     "iopub.status.busy": "2024-03-12T21:27:25.078106Z",
     "iopub.status.idle": "2024-03-12T21:27:25.087209Z",
     "shell.execute_reply": "2024-03-12T21:27:25.085857Z",
     "shell.execute_reply.started": "2024-03-12T21:27:25.079203Z"
    },
    "tags": []
   },
   "outputs": [],
   "source": [
    "from peft.utils import (\n",
    "    # TRANSFORMERS_MODELS_TO_LORA_TARGET_MODULES_MAPPING,\n",
    "    # ModulesToSaveWrapper,\n",
    "    _freeze_adapter,\n",
    "    _get_submodules,\n",
    "    # get_quantization_config,\n",
    ")"
   ]
  },
  {
   "cell_type": "code",
   "execution_count": 16,
   "id": "993d95c9-0d21-4cd5-b647-ac502117395b",
   "metadata": {
    "execution": {
     "iopub.execute_input": "2024-03-12T21:27:25.090336Z",
     "iopub.status.busy": "2024-03-12T21:27:25.089675Z",
     "iopub.status.idle": "2024-03-12T21:27:25.097863Z",
     "shell.execute_reply": "2024-03-12T21:27:25.096505Z",
     "shell.execute_reply.started": "2024-03-12T21:27:25.090299Z"
    },
    "tags": []
   },
   "outputs": [],
   "source": [
    "from peft.tuners.lora import LoraLayer"
   ]
  },
  {
   "cell_type": "code",
   "execution_count": 17,
   "id": "7cb2fe3e-9e00-4e70-b576-1af7408b68f4",
   "metadata": {
    "execution": {
     "iopub.execute_input": "2024-03-12T21:27:25.099809Z",
     "iopub.status.busy": "2024-03-12T21:27:25.099153Z",
     "iopub.status.idle": "2024-03-12T21:27:25.108826Z",
     "shell.execute_reply": "2024-03-12T21:27:25.107519Z",
     "shell.execute_reply.started": "2024-03-12T21:27:25.099774Z"
    },
    "tags": []
   },
   "outputs": [],
   "source": [
    "from dataclasses import asdict, replace\n",
    "from functools import reduce\n",
    "import operator"
   ]
  },
  {
   "cell_type": "code",
   "execution_count": 18,
   "id": "27ab3f7b-b29a-4eea-88f2-01903d22c5ee",
   "metadata": {
    "execution": {
     "iopub.execute_input": "2024-03-12T21:27:25.110956Z",
     "iopub.status.busy": "2024-03-12T21:27:25.110261Z",
     "iopub.status.idle": "2024-03-12T21:27:25.120966Z",
     "shell.execute_reply": "2024-03-12T21:27:25.119677Z",
     "shell.execute_reply.started": "2024-03-12T21:27:25.110916Z"
    },
    "tags": []
   },
   "outputs": [],
   "source": [
    "adapter_name = 'delta'\n",
    "adapters = ['target', 'source']\n",
    "\n",
    "adapters_ranks = [model.peft_config[adapter].r for adapter in adapters]\n",
    "new_rank = adapters_ranks[0]\n",
    "\n",
    "target_module_types = [type(model.peft_config[adapter].target_modules) for adapter in adapters]\n",
    "if target_module_types[0] == str:\n",
    "    new_target_modules = \"|\".join(f\"({model.peft_config[adapter].target_modules})\" for adapter in adapters)\n",
    "elif target_module_types[0] == set:\n",
    "    new_target_modules = reduce(\n",
    "        operator.or_, (model.peft_config[adapter].target_modules for adapter in adapters)\n",
    "    )"
   ]
  },
  {
   "cell_type": "code",
   "execution_count": 19,
   "id": "16304490-32d0-4e6a-8fa9-034c49ba779d",
   "metadata": {
    "execution": {
     "iopub.execute_input": "2024-03-12T21:27:25.122793Z",
     "iopub.status.busy": "2024-03-12T21:27:25.122187Z",
     "iopub.status.idle": "2024-03-12T21:27:25.134844Z",
     "shell.execute_reply": "2024-03-12T21:27:25.133495Z",
     "shell.execute_reply.started": "2024-03-12T21:27:25.122761Z"
    },
    "tags": []
   },
   "outputs": [
    {
     "data": {
      "text/plain": [
       "{'q_proj', 'v_proj'}"
      ]
     },
     "execution_count": 19,
     "metadata": {},
     "output_type": "execute_result"
    }
   ],
   "source": [
    "new_target_modules"
   ]
  },
  {
   "cell_type": "code",
   "execution_count": 20,
   "id": "d3e501f4-0698-481c-a937-6076b78ee055",
   "metadata": {
    "execution": {
     "iopub.execute_input": "2024-03-12T21:27:25.136933Z",
     "iopub.status.busy": "2024-03-12T21:27:25.136263Z",
     "iopub.status.idle": "2024-03-12T21:27:25.296551Z",
     "shell.execute_reply": "2024-03-12T21:27:25.295059Z",
     "shell.execute_reply.started": "2024-03-12T21:27:25.136892Z"
    },
    "tags": []
   },
   "outputs": [],
   "source": [
    "model.peft_config[adapter_name] = replace(\n",
    "            model.peft_config[adapters[0]],\n",
    "            r=new_rank,\n",
    "            lora_alpha=new_rank,\n",
    "            target_modules=new_target_modules,\n",
    "        )\n",
    "model.inject_adapter(model.model, adapter_name)\n",
    "\n",
    "# Do we really need that?\n",
    "_freeze_adapter(model.model, adapter_name)"
   ]
  },
  {
   "cell_type": "code",
   "execution_count": 21,
   "id": "c5be86bc-144c-4533-911f-49a57c646482",
   "metadata": {
    "execution": {
     "iopub.execute_input": "2024-03-12T21:27:25.298287Z",
     "iopub.status.busy": "2024-03-12T21:27:25.297851Z",
     "iopub.status.idle": "2024-03-12T21:27:25.353037Z",
     "shell.execute_reply": "2024-03-12T21:27:25.352299Z",
     "shell.execute_reply.started": "2024-03-12T21:27:25.298257Z"
    },
    "tags": []
   },
   "outputs": [],
   "source": [
    "key_list = [key for key, _ in model.model.named_modules() if model.prefix not in key]\n",
    "for key in key_list:\n",
    "    _, target, _ = _get_submodules(model.model, key)\n",
    "    if isinstance(target, LoraLayer):\n",
    "        if adapter_name in target.lora_A:\n",
    "            target_lora_A = target.lora_A[adapter_name].weight\n",
    "            target_lora_B = target.lora_B[adapter_name].weight\n",
    "        elif adapter_name in target.lora_embedding_A:\n",
    "            target_lora_A = target.lora_embedding_A[adapter_name]\n",
    "            target_lora_B = target.lora_embedding_B[adapter_name]\n",
    "        else:\n",
    "            continue\n",
    "            \n",
    "        target_lora_A.data = target_lora_A.data * 0.0\n",
    "        target_lora_B.data = target_lora_B.data * 0.0\n",
    "        \n",
    "        target_lora_A.data = target.lora_A['target'].weight - target.lora_A['source'].weight\n",
    "        target_lora_B.data = target.lora_B['target'].weight - target.lora_B['source'].weight"
   ]
  },
  {
   "cell_type": "code",
   "execution_count": null,
   "id": "78b8076d-b819-402d-8db8-4d14142d0a5b",
   "metadata": {},
   "outputs": [],
   "source": []
  },
  {
   "cell_type": "markdown",
   "id": "3ec7ba5d-c70c-4427-9ff7-5325f451a36a",
   "metadata": {},
   "source": [
    "## Verify some results"
   ]
  },
  {
   "cell_type": "code",
   "execution_count": 22,
   "id": "487dc10e-a0af-4101-a8a5-39f5261b37f7",
   "metadata": {
    "execution": {
     "iopub.execute_input": "2024-03-12T21:27:27.649701Z",
     "iopub.status.busy": "2024-03-12T21:27:27.648831Z",
     "iopub.status.idle": "2024-03-12T21:27:27.669079Z",
     "shell.execute_reply": "2024-03-12T21:27:27.668299Z",
     "shell.execute_reply.started": "2024-03-12T21:27:27.649633Z"
    },
    "tags": []
   },
   "outputs": [
    {
     "data": {
      "text/plain": [
       "Parameter containing:\n",
       "tensor([[ 0.0109,  0.0153, -0.0055,  ..., -0.0022,  0.0044,  0.0006],\n",
       "        [-0.0076, -0.0081,  0.0033,  ..., -0.0114, -0.0124, -0.0053],\n",
       "        [-0.0155, -0.0072,  0.0006,  ..., -0.0087,  0.0047,  0.0035],\n",
       "        ...,\n",
       "        [ 0.0162,  0.0151,  0.0047,  ...,  0.0080, -0.0051, -0.0144],\n",
       "        [ 0.0111,  0.0134,  0.0002,  ...,  0.0062, -0.0006,  0.0092],\n",
       "        [ 0.0123,  0.0111, -0.0155,  ..., -0.0023, -0.0092,  0.0164]],\n",
       "       device='cuda:0', requires_grad=True)"
      ]
     },
     "execution_count": 22,
     "metadata": {},
     "output_type": "execute_result"
    }
   ],
   "source": [
    "i = 2\n",
    "model.base_model.model.model.layers[i].self_attn.q_proj.lora_A.target.weight"
   ]
  },
  {
   "cell_type": "code",
   "execution_count": 23,
   "id": "5553f0bf-4736-446d-980f-5931d06e0cdd",
   "metadata": {
    "execution": {
     "iopub.execute_input": "2024-03-12T21:27:28.128625Z",
     "iopub.status.busy": "2024-03-12T21:27:28.127719Z",
     "iopub.status.idle": "2024-03-12T21:27:28.143781Z",
     "shell.execute_reply": "2024-03-12T21:27:28.142499Z",
     "shell.execute_reply.started": "2024-03-12T21:27:28.128559Z"
    },
    "tags": []
   },
   "outputs": [
    {
     "data": {
      "text/plain": [
       "Parameter containing:\n",
       "tensor([[-0.0005,  0.0104, -0.0027,  ..., -0.0083,  0.0067, -0.0059],\n",
       "        [ 0.0049, -0.0022, -0.0096,  ...,  0.0040,  0.0041, -0.0020],\n",
       "        [ 0.0136, -0.0037, -0.0033,  ...,  0.0034, -0.0149, -0.0146],\n",
       "        ...,\n",
       "        [-0.0039,  0.0060,  0.0051,  ...,  0.0044,  0.0038,  0.0051],\n",
       "        [-0.0042,  0.0079, -0.0011,  ..., -0.0014,  0.0029, -0.0080],\n",
       "        [ 0.0127, -0.0015,  0.0055,  ...,  0.0044, -0.0059,  0.0054]],\n",
       "       device='cuda:0')"
      ]
     },
     "execution_count": 23,
     "metadata": {},
     "output_type": "execute_result"
    }
   ],
   "source": [
    "model.base_model.model.model.layers[i].self_attn.q_proj.lora_A.source.weight"
   ]
  },
  {
   "cell_type": "code",
   "execution_count": 24,
   "id": "5e830431-c236-494d-be5d-9702e294f28e",
   "metadata": {
    "execution": {
     "iopub.execute_input": "2024-03-12T21:27:28.383326Z",
     "iopub.status.busy": "2024-03-12T21:27:28.382832Z",
     "iopub.status.idle": "2024-03-12T21:27:28.397128Z",
     "shell.execute_reply": "2024-03-12T21:27:28.395663Z",
     "shell.execute_reply.started": "2024-03-12T21:27:28.383293Z"
    },
    "tags": []
   },
   "outputs": [
    {
     "data": {
      "text/plain": [
       "Parameter containing:\n",
       "tensor([[ 0.0114,  0.0048, -0.0028,  ...,  0.0062, -0.0022,  0.0066],\n",
       "        [-0.0126, -0.0059,  0.0128,  ..., -0.0155, -0.0165, -0.0034],\n",
       "        [-0.0291, -0.0035,  0.0040,  ..., -0.0121,  0.0196,  0.0182],\n",
       "        ...,\n",
       "        [ 0.0201,  0.0091, -0.0004,  ...,  0.0036, -0.0089, -0.0194],\n",
       "        [ 0.0154,  0.0055,  0.0013,  ...,  0.0076, -0.0035,  0.0172],\n",
       "        [-0.0004,  0.0126, -0.0210,  ..., -0.0067, -0.0033,  0.0109]],\n",
       "       device='cuda:0')"
      ]
     },
     "execution_count": 24,
     "metadata": {},
     "output_type": "execute_result"
    }
   ],
   "source": [
    "model.base_model.model.model.layers[i].self_attn.q_proj.lora_A.delta.weight"
   ]
  },
  {
   "cell_type": "code",
   "execution_count": null,
   "id": "b8537c2e-521d-4f4b-b62e-ca3d4d1a1bde",
   "metadata": {},
   "outputs": [],
   "source": []
  },
  {
   "cell_type": "markdown",
   "id": "626c167e-7cc7-4a60-be86-42b0c88b0310",
   "metadata": {},
   "source": [
    "## Save Edited Adapter"
   ]
  },
  {
   "cell_type": "code",
   "execution_count": null,
   "id": "95fda4e4-fe00-4980-b02d-eda2cf01c65c",
   "metadata": {
    "tags": []
   },
   "outputs": [],
   "source": [
    "# use adapter \"delta\"\n",
    "model.set_adapter(\"delta\")\n"
   ]
  },
  {
   "cell_type": "code",
   "execution_count": 106,
   "id": "69a468cc-3138-425a-8606-01d7dcb8d1ea",
   "metadata": {
    "execution": {
     "iopub.execute_input": "2024-03-12T04:10:44.120336Z",
     "iopub.status.busy": "2024-03-12T04:10:44.119583Z",
     "iopub.status.idle": "2024-03-12T04:10:44.130640Z",
     "shell.execute_reply": "2024-03-12T04:10:44.129225Z",
     "shell.execute_reply.started": "2024-03-12T04:10:44.120275Z"
    },
    "tags": []
   },
   "outputs": [
    {
     "data": {
      "text/plain": [
       "{'classifier', 'score'}"
      ]
     },
     "execution_count": 106,
     "metadata": {},
     "output_type": "execute_result"
    }
   ],
   "source": [
    "model.modules_to_save"
   ]
  },
  {
   "cell_type": "code",
   "execution_count": 26,
   "id": "06d14692-2b2b-44e8-bd76-5a4da3e96dd3",
   "metadata": {
    "execution": {
     "iopub.execute_input": "2024-03-12T21:28:31.450147Z",
     "iopub.status.busy": "2024-03-12T21:28:31.449286Z",
     "iopub.status.idle": "2024-03-12T21:28:31.484923Z",
     "shell.execute_reply": "2024-03-12T21:28:31.483244Z",
     "shell.execute_reply.started": "2024-03-12T21:28:31.450080Z"
    },
    "tags": []
   },
   "outputs": [],
   "source": [
    "model.delete_adapter(\"target\")"
   ]
  },
  {
   "cell_type": "code",
   "execution_count": 27,
   "id": "5b73144c-09a7-4895-9c82-4682ed95f48b",
   "metadata": {
    "execution": {
     "iopub.execute_input": "2024-03-12T21:28:31.621262Z",
     "iopub.status.busy": "2024-03-12T21:28:31.620747Z",
     "iopub.status.idle": "2024-03-12T21:28:31.650319Z",
     "shell.execute_reply": "2024-03-12T21:28:31.648622Z",
     "shell.execute_reply.started": "2024-03-12T21:28:31.621234Z"
    },
    "tags": []
   },
   "outputs": [],
   "source": [
    "model.delete_adapter(\"source\")"
   ]
  },
  {
   "cell_type": "code",
   "execution_count": 28,
   "id": "30dd0459-34d2-4114-ac54-213d7cf1900b",
   "metadata": {
    "execution": {
     "iopub.execute_input": "2024-03-12T21:28:33.179154Z",
     "iopub.status.busy": "2024-03-12T21:28:33.178233Z",
     "iopub.status.idle": "2024-03-12T21:28:33.268985Z",
     "shell.execute_reply": "2024-03-12T21:28:33.267817Z",
     "shell.execute_reply.started": "2024-03-12T21:28:33.179083Z"
    },
    "tags": []
   },
   "outputs": [
    {
     "name": "stderr",
     "output_type": "stream",
     "text": [
      "/home/NETID/xiruod/anaconda3/envs/llama2/lib/python3.9/site-packages/peft/utils/save_and_load.py:154: UserWarning: Could not find a config file in /bime-munin/llama2_hf/llama-2-7b_hf/ - will assume that the vocabulary was not modified.\n",
      "  warnings.warn(\n"
     ]
    }
   ],
   "source": [
    "model.save_pretrained(f\"../output/tmpData/{os.path.basename(target_model_id)}/\")"
   ]
  },
  {
   "cell_type": "code",
   "execution_count": null,
   "id": "4548e16f-8282-4228-a0b7-3e4d9dde4306",
   "metadata": {},
   "outputs": [],
   "source": []
  },
  {
   "cell_type": "code",
   "execution_count": null,
   "id": "277870d4-0a4c-4c54-87c7-6099cc5fa658",
   "metadata": {},
   "outputs": [],
   "source": []
  },
  {
   "cell_type": "markdown",
   "id": "48b716a7-40b4-44f6-8002-dd85c9277007",
   "metadata": {},
   "source": [
    "# Load Edited Adapter"
   ]
  },
  {
   "cell_type": "code",
   "execution_count": 12,
   "id": "836b93bb-a455-4a37-b72d-113bcd583573",
   "metadata": {
    "execution": {
     "iopub.execute_input": "2024-03-12T23:51:57.976399Z",
     "iopub.status.busy": "2024-03-12T23:51:57.975640Z",
     "iopub.status.idle": "2024-03-12T23:51:58.176082Z",
     "shell.execute_reply": "2024-03-12T23:51:58.174343Z",
     "shell.execute_reply.started": "2024-03-12T23:51:57.976334Z"
    },
    "tags": []
   },
   "outputs": [],
   "source": [
    "model = PeftModel.from_pretrained(model, \"../output/tmpData/set-1355-quantization-epoch3-llama-2-7B-loraR-8/delta/\", adapter_name='delta')"
   ]
  },
  {
   "cell_type": "code",
   "execution_count": 13,
   "id": "75418bc6-7263-4964-9958-d198d1d2d69f",
   "metadata": {
    "execution": {
     "iopub.execute_input": "2024-03-12T23:51:58.727090Z",
     "iopub.status.busy": "2024-03-12T23:51:58.726360Z",
     "iopub.status.idle": "2024-03-12T23:51:58.746530Z",
     "shell.execute_reply": "2024-03-12T23:51:58.745465Z",
     "shell.execute_reply.started": "2024-03-12T23:51:58.727028Z"
    },
    "tags": []
   },
   "outputs": [
    {
     "data": {
      "text/plain": [
       "PeftModelForSequenceClassification(\n",
       "  (base_model): LoraModel(\n",
       "    (model): LlamaForSequenceClassification(\n",
       "      (model): LlamaModel(\n",
       "        (embed_tokens): Embedding(32128, 4096)\n",
       "        (layers): ModuleList(\n",
       "          (0-31): 32 x LlamaDecoderLayer(\n",
       "            (self_attn): LlamaAttention(\n",
       "              (q_proj): lora.Linear8bitLt(\n",
       "                (base_layer): Linear8bitLt(in_features=4096, out_features=4096, bias=False)\n",
       "                (lora_dropout): ModuleDict(\n",
       "                  (delta): Dropout(p=0.05, inplace=False)\n",
       "                )\n",
       "                (lora_A): ModuleDict(\n",
       "                  (delta): Linear(in_features=4096, out_features=8, bias=False)\n",
       "                )\n",
       "                (lora_B): ModuleDict(\n",
       "                  (delta): Linear(in_features=8, out_features=4096, bias=False)\n",
       "                )\n",
       "                (lora_embedding_A): ParameterDict()\n",
       "                (lora_embedding_B): ParameterDict()\n",
       "              )\n",
       "              (k_proj): Linear8bitLt(in_features=4096, out_features=4096, bias=False)\n",
       "              (v_proj): lora.Linear8bitLt(\n",
       "                (base_layer): Linear8bitLt(in_features=4096, out_features=4096, bias=False)\n",
       "                (lora_dropout): ModuleDict(\n",
       "                  (delta): Dropout(p=0.05, inplace=False)\n",
       "                )\n",
       "                (lora_A): ModuleDict(\n",
       "                  (delta): Linear(in_features=4096, out_features=8, bias=False)\n",
       "                )\n",
       "                (lora_B): ModuleDict(\n",
       "                  (delta): Linear(in_features=8, out_features=4096, bias=False)\n",
       "                )\n",
       "                (lora_embedding_A): ParameterDict()\n",
       "                (lora_embedding_B): ParameterDict()\n",
       "              )\n",
       "              (o_proj): Linear8bitLt(in_features=4096, out_features=4096, bias=False)\n",
       "              (rotary_emb): LlamaRotaryEmbedding()\n",
       "            )\n",
       "            (mlp): LlamaMLP(\n",
       "              (gate_proj): Linear8bitLt(in_features=4096, out_features=11008, bias=False)\n",
       "              (up_proj): Linear8bitLt(in_features=4096, out_features=11008, bias=False)\n",
       "              (down_proj): Linear8bitLt(in_features=11008, out_features=4096, bias=False)\n",
       "              (act_fn): SiLUActivation()\n",
       "            )\n",
       "            (input_layernorm): LlamaRMSNorm()\n",
       "            (post_attention_layernorm): LlamaRMSNorm()\n",
       "          )\n",
       "        )\n",
       "        (norm): LlamaRMSNorm()\n",
       "      )\n",
       "      (score): ModulesToSaveWrapper(\n",
       "        (original_module): Linear(in_features=4096, out_features=2, bias=False)\n",
       "        (modules_to_save): ModuleDict(\n",
       "          (delta): Linear(in_features=4096, out_features=2, bias=False)\n",
       "        )\n",
       "      )\n",
       "    )\n",
       "  )\n",
       ")"
      ]
     },
     "execution_count": 13,
     "metadata": {},
     "output_type": "execute_result"
    }
   ],
   "source": [
    "model"
   ]
  },
  {
   "cell_type": "code",
   "execution_count": 14,
   "id": "947f6e88-d104-4f56-8af4-b6726084d5da",
   "metadata": {
    "execution": {
     "iopub.execute_input": "2024-03-12T23:51:58.893926Z",
     "iopub.status.busy": "2024-03-12T23:51:58.893240Z",
     "iopub.status.idle": "2024-03-12T23:51:58.917356Z",
     "shell.execute_reply": "2024-03-12T23:51:58.916454Z",
     "shell.execute_reply.started": "2024-03-12T23:51:58.893866Z"
    },
    "tags": []
   },
   "outputs": [
    {
     "data": {
      "text/plain": [
       "PeftModelForSequenceClassification(\n",
       "  (base_model): LoraModel(\n",
       "    (model): LlamaForSequenceClassification(\n",
       "      (model): LlamaModel(\n",
       "        (embed_tokens): Embedding(32128, 4096)\n",
       "        (layers): ModuleList(\n",
       "          (0-31): 32 x LlamaDecoderLayer(\n",
       "            (self_attn): LlamaAttention(\n",
       "              (q_proj): lora.Linear8bitLt(\n",
       "                (base_layer): Linear8bitLt(in_features=4096, out_features=4096, bias=False)\n",
       "                (lora_dropout): ModuleDict(\n",
       "                  (delta): Dropout(p=0.05, inplace=False)\n",
       "                )\n",
       "                (lora_A): ModuleDict(\n",
       "                  (delta): Linear(in_features=4096, out_features=8, bias=False)\n",
       "                )\n",
       "                (lora_B): ModuleDict(\n",
       "                  (delta): Linear(in_features=8, out_features=4096, bias=False)\n",
       "                )\n",
       "                (lora_embedding_A): ParameterDict()\n",
       "                (lora_embedding_B): ParameterDict()\n",
       "              )\n",
       "              (k_proj): Linear8bitLt(in_features=4096, out_features=4096, bias=False)\n",
       "              (v_proj): lora.Linear8bitLt(\n",
       "                (base_layer): Linear8bitLt(in_features=4096, out_features=4096, bias=False)\n",
       "                (lora_dropout): ModuleDict(\n",
       "                  (delta): Dropout(p=0.05, inplace=False)\n",
       "                )\n",
       "                (lora_A): ModuleDict(\n",
       "                  (delta): Linear(in_features=4096, out_features=8, bias=False)\n",
       "                )\n",
       "                (lora_B): ModuleDict(\n",
       "                  (delta): Linear(in_features=8, out_features=4096, bias=False)\n",
       "                )\n",
       "                (lora_embedding_A): ParameterDict()\n",
       "                (lora_embedding_B): ParameterDict()\n",
       "              )\n",
       "              (o_proj): Linear8bitLt(in_features=4096, out_features=4096, bias=False)\n",
       "              (rotary_emb): LlamaRotaryEmbedding()\n",
       "            )\n",
       "            (mlp): LlamaMLP(\n",
       "              (gate_proj): Linear8bitLt(in_features=4096, out_features=11008, bias=False)\n",
       "              (up_proj): Linear8bitLt(in_features=4096, out_features=11008, bias=False)\n",
       "              (down_proj): Linear8bitLt(in_features=11008, out_features=4096, bias=False)\n",
       "              (act_fn): SiLUActivation()\n",
       "            )\n",
       "            (input_layernorm): LlamaRMSNorm()\n",
       "            (post_attention_layernorm): LlamaRMSNorm()\n",
       "          )\n",
       "        )\n",
       "        (norm): LlamaRMSNorm()\n",
       "      )\n",
       "      (score): ModulesToSaveWrapper(\n",
       "        (original_module): Linear(in_features=4096, out_features=2, bias=False)\n",
       "        (modules_to_save): ModuleDict(\n",
       "          (delta): Linear(in_features=4096, out_features=2, bias=False)\n",
       "        )\n",
       "      )\n",
       "    )\n",
       "  )\n",
       ")"
      ]
     },
     "execution_count": 14,
     "metadata": {},
     "output_type": "execute_result"
    }
   ],
   "source": [
    "model.eval()"
   ]
  },
  {
   "cell_type": "code",
   "execution_count": null,
   "id": "4122f48a-ddbf-48d5-8669-b2f036535bd5",
   "metadata": {},
   "outputs": [],
   "source": []
  },
  {
   "cell_type": "code",
   "execution_count": null,
   "id": "bfd912ed-9dd2-4469-9a21-ba6b863d1d43",
   "metadata": {},
   "outputs": [],
   "source": []
  },
  {
   "cell_type": "code",
   "execution_count": null,
   "id": "2b6b9df7-26c7-4405-b15d-8b42dc34bc72",
   "metadata": {},
   "outputs": [],
   "source": []
  },
  {
   "cell_type": "code",
   "execution_count": null,
   "id": "1bc5387a-826c-42f6-b764-8433de210ba9",
   "metadata": {},
   "outputs": [],
   "source": []
  },
  {
   "cell_type": "code",
   "execution_count": null,
   "id": "352ccbab-a17b-48a3-829a-67064d03af29",
   "metadata": {},
   "outputs": [],
   "source": []
  },
  {
   "cell_type": "markdown",
   "id": "df54d4fd-c642-4c17-bd7f-057ea00dda1d",
   "metadata": {},
   "source": [
    "# add_weighted_adapter: Failed with negative weights...?"
   ]
  },
  {
   "cell_type": "code",
   "execution_count": 52,
   "id": "dde9414d-aa5b-45d1-bd48-3ce6140024ae",
   "metadata": {
    "execution": {
     "iopub.execute_input": "2024-03-12T03:43:35.434901Z",
     "iopub.status.busy": "2024-03-12T03:43:35.434190Z",
     "iopub.status.idle": "2024-03-12T03:43:35.654697Z",
     "shell.execute_reply": "2024-03-12T03:43:35.653923Z",
     "shell.execute_reply.started": "2024-03-12T03:43:35.434842Z"
    },
    "tags": []
   },
   "outputs": [],
   "source": [
    "model.add_weighted_adapter([\"target\", \"source\"], [9, 4], combination_type=\"linear\", adapter_name=\"diff\")"
   ]
  },
  {
   "cell_type": "code",
   "execution_count": 62,
   "id": "3e84b470-4ff1-4d3c-8fec-7123ff322cad",
   "metadata": {
    "execution": {
     "iopub.execute_input": "2024-03-12T01:16:46.183185Z",
     "iopub.status.busy": "2024-03-12T01:16:46.182411Z",
     "iopub.status.idle": "2024-03-12T01:16:46.219574Z",
     "shell.execute_reply": "2024-03-12T01:16:46.218695Z",
     "shell.execute_reply.started": "2024-03-12T01:16:46.183122Z"
    },
    "tags": []
   },
   "outputs": [],
   "source": [
    "model.delete_adapter('diff')"
   ]
  },
  {
   "cell_type": "code",
   "execution_count": 57,
   "id": "b5f8cc10-4fdc-4e9d-a965-feb5c569d763",
   "metadata": {
    "execution": {
     "iopub.execute_input": "2024-03-12T01:15:58.408516Z",
     "iopub.status.busy": "2024-03-12T01:15:58.407632Z",
     "iopub.status.idle": "2024-03-12T01:15:58.418757Z",
     "shell.execute_reply": "2024-03-12T01:15:58.417567Z",
     "shell.execute_reply.started": "2024-03-12T01:15:58.408454Z"
    },
    "tags": []
   },
   "outputs": [
    {
     "data": {
      "text/plain": [
       "{'target': 4.0, 'source': 4.0, 'diff': 1.0}"
      ]
     },
     "execution_count": 57,
     "metadata": {},
     "output_type": "execute_result"
    }
   ],
   "source": [
    "model.base_model.model.model.layers[2].self_attn.q_proj.scaling"
   ]
  },
  {
   "cell_type": "code",
   "execution_count": 58,
   "id": "0d73c510-b575-450c-b5ee-7872bcd65a4e",
   "metadata": {
    "execution": {
     "iopub.execute_input": "2024-03-12T01:15:58.724805Z",
     "iopub.status.busy": "2024-03-12T01:15:58.724108Z",
     "iopub.status.idle": "2024-03-12T01:15:58.749202Z",
     "shell.execute_reply": "2024-03-12T01:15:58.747976Z",
     "shell.execute_reply.started": "2024-03-12T01:15:58.724747Z"
    },
    "tags": []
   },
   "outputs": [
    {
     "data": {
      "text/plain": [
       "Parameter containing:\n",
       "tensor([[ 0.0109,  0.0153, -0.0055,  ..., -0.0022,  0.0044,  0.0006],\n",
       "        [-0.0076, -0.0081,  0.0033,  ..., -0.0114, -0.0124, -0.0053],\n",
       "        [-0.0155, -0.0072,  0.0006,  ..., -0.0087,  0.0047,  0.0035],\n",
       "        ...,\n",
       "        [ 0.0162,  0.0151,  0.0047,  ...,  0.0080, -0.0051, -0.0144],\n",
       "        [ 0.0111,  0.0134,  0.0002,  ...,  0.0062, -0.0006,  0.0092],\n",
       "        [ 0.0123,  0.0111, -0.0155,  ..., -0.0023, -0.0092,  0.0164]],\n",
       "       device='cuda:0', requires_grad=True)"
      ]
     },
     "execution_count": 58,
     "metadata": {},
     "output_type": "execute_result"
    }
   ],
   "source": [
    "i = 2\n",
    "model.base_model.model.model.layers[i].self_attn.q_proj.lora_A.target.weight"
   ]
  },
  {
   "cell_type": "code",
   "execution_count": 59,
   "id": "277eb841-6c30-4aa1-9aba-8764f807058a",
   "metadata": {
    "execution": {
     "iopub.execute_input": "2024-03-12T01:15:58.951168Z",
     "iopub.status.busy": "2024-03-12T01:15:58.950625Z",
     "iopub.status.idle": "2024-03-12T01:15:58.984805Z",
     "shell.execute_reply": "2024-03-12T01:15:58.983755Z",
     "shell.execute_reply.started": "2024-03-12T01:15:58.951136Z"
    },
    "tags": []
   },
   "outputs": [
    {
     "data": {
      "text/plain": [
       "Parameter containing:\n",
       "tensor([[-0.0005,  0.0104, -0.0027,  ..., -0.0083,  0.0067, -0.0059],\n",
       "        [ 0.0049, -0.0022, -0.0096,  ...,  0.0040,  0.0041, -0.0020],\n",
       "        [ 0.0136, -0.0037, -0.0033,  ...,  0.0034, -0.0149, -0.0146],\n",
       "        ...,\n",
       "        [-0.0039,  0.0060,  0.0051,  ...,  0.0044,  0.0038,  0.0051],\n",
       "        [-0.0042,  0.0079, -0.0011,  ..., -0.0014,  0.0029, -0.0080],\n",
       "        [ 0.0127, -0.0015,  0.0055,  ...,  0.0044, -0.0059,  0.0054]],\n",
       "       device='cuda:0')"
      ]
     },
     "execution_count": 59,
     "metadata": {},
     "output_type": "execute_result"
    }
   ],
   "source": [
    "model.base_model.model.model.layers[i].self_attn.q_proj.lora_A.source.weight"
   ]
  },
  {
   "cell_type": "code",
   "execution_count": 60,
   "id": "24a217c8-fac3-44e6-9637-41cf524d63ae",
   "metadata": {
    "execution": {
     "iopub.execute_input": "2024-03-12T01:15:59.133955Z",
     "iopub.status.busy": "2024-03-12T01:15:59.133437Z",
     "iopub.status.idle": "2024-03-12T01:15:59.165302Z",
     "shell.execute_reply": "2024-03-12T01:15:59.164178Z",
     "shell.execute_reply.started": "2024-03-12T01:15:59.133926Z"
    },
    "tags": []
   },
   "outputs": [
    {
     "data": {
      "text/plain": [
       "Parameter containing:\n",
       "tensor([[ 0.0627,  0.1544, -0.0492,  ..., -0.0629,  0.0667, -0.0318],\n",
       "        [-0.0161, -0.0621, -0.0378,  ..., -0.0443, -0.0496, -0.0439],\n",
       "        [-0.0115, -0.0654, -0.0161,  ..., -0.0318, -0.0609, -0.0667],\n",
       "        ...,\n",
       "        [ 0.0736,  0.1268,  0.0589,  ...,  0.0747, -0.0075, -0.0558],\n",
       "        [ 0.0412,  0.1281, -0.0052,  ...,  0.0285,  0.0140,  0.0073],\n",
       "        [ 0.1501,  0.0572, -0.0595,  ...,  0.0129, -0.0902,  0.1306]],\n",
       "       device='cuda:0')"
      ]
     },
     "execution_count": 60,
     "metadata": {},
     "output_type": "execute_result"
    }
   ],
   "source": [
    "model.base_model.model.model.layers[i].self_attn.q_proj.lora_A.diff.weight"
   ]
  },
  {
   "cell_type": "code",
   "execution_count": 61,
   "id": "3e038f61-3c10-4be8-8358-a73817f5179e",
   "metadata": {
    "execution": {
     "iopub.execute_input": "2024-03-12T01:16:23.894067Z",
     "iopub.status.busy": "2024-03-12T01:16:23.893299Z",
     "iopub.status.idle": "2024-03-12T01:16:23.905638Z",
     "shell.execute_reply": "2024-03-12T01:16:23.904101Z",
     "shell.execute_reply.started": "2024-03-12T01:16:23.894003Z"
    },
    "tags": []
   },
   "outputs": [
    {
     "data": {
      "text/plain": [
       "0.0624"
      ]
     },
     "execution_count": 61,
     "metadata": {},
     "output_type": "execute_result"
    }
   ],
   "source": [
    "0.0109 * 6 + (-0.0005 * math.sqrt(4*9))"
   ]
  },
  {
   "cell_type": "code",
   "execution_count": null,
   "id": "15554b86-d7cc-4080-b2b4-2a6a7cc7877b",
   "metadata": {},
   "outputs": [],
   "source": []
  },
  {
   "cell_type": "code",
   "execution_count": null,
   "id": "de755cd0-67be-400a-80c7-d8f84778b5c1",
   "metadata": {},
   "outputs": [],
   "source": []
  },
  {
   "cell_type": "code",
   "execution_count": null,
   "id": "aa368887-f404-4a05-b944-614e5f72fab7",
   "metadata": {},
   "outputs": [],
   "source": []
  },
  {
   "cell_type": "code",
   "execution_count": null,
   "id": "60523cb0-101a-4332-8c5e-c8162a975e83",
   "metadata": {},
   "outputs": [],
   "source": []
  },
  {
   "cell_type": "code",
   "execution_count": null,
   "id": "2a4c5b72-9dc1-4845-b08b-31497818253a",
   "metadata": {},
   "outputs": [],
   "source": []
  },
  {
   "cell_type": "markdown",
   "id": "fd06c005-f9ce-4908-a44f-d8f6f73ce352",
   "metadata": {},
   "source": [
    "# Predict"
   ]
  },
  {
   "cell_type": "code",
   "execution_count": 15,
   "id": "8045dc93-5240-494a-88f2-bd1e0efb14b9",
   "metadata": {
    "execution": {
     "iopub.execute_input": "2024-03-12T23:52:08.073045Z",
     "iopub.status.busy": "2024-03-12T23:52:08.072321Z",
     "iopub.status.idle": "2024-03-12T23:52:21.552065Z",
     "shell.execute_reply": "2024-03-12T23:52:21.550915Z",
     "shell.execute_reply.started": "2024-03-12T23:52:08.072983Z"
    },
    "tags": []
   },
   "outputs": [
    {
     "name": "stderr",
     "output_type": "stream",
     "text": [
      "/home/NETID/xiruod/projects/DeconDTN/notebooks_xiruo/../src/utils.py:29: RuntimeWarning: invalid value encountered in scalar divide\n",
      "  alpha_train = p_pos_train_z1 / p_pos_train_z0\n",
      "/home/NETID/xiruod/projects/DeconDTN/notebooks_xiruo/../src/utils.py:29: RuntimeWarning: divide by zero encountered in scalar divide\n",
      "  alpha_train = p_pos_train_z1 / p_pos_train_z0\n"
     ]
    }
   ],
   "source": [
    "sys.path.append(\"../src\")\n",
    "\n",
    "from utils import number_split, create_mix\n",
    "\n",
    "\n",
    "from data_process import load_wls_adress_AddDomain\n",
    "from process_SHAC import load_process_SHAC\n",
    "\n",
    "\n",
    "\n",
    "class train_config:\n",
    "    def __init__(self):\n",
    "        self.quantization: bool = False\n",
    "\n",
    "        \n",
    "\n",
    "\n",
    "globalconfig = train_config()\n",
    "globalconfig.quantization = args.quantization\n",
    "globalconfig.model_id = f\"/bime-munin/llama2_hf/llama-2-{args.model_size}b_hf/\"\n",
    "globalconfig.max_seq_length = 1024\n",
    "globalconfig.num_train_epochs = 3\n",
    "globalconfig.runs = 1\n",
    "globalconfig.lr = 1e-4\n",
    "globalconfig.warmup_ratio = 0.1\n",
    "globalconfig.lora_r = args.lora_r\n",
    "globalconfig.profiler = False\n",
    "globalconfig.device = \"cuda:0\"\n",
    "\n",
    "if args.model_size == 70:\n",
    "    # os.environ[\"CUDA_VISIBLE_DEVICES\"] = \"0,1\"\n",
    "    globalconfig.per_device_train_batch_size = 1 #2\n",
    "    globalconfig.per_device_eval_batch_size = 1 #2\n",
    "    \n",
    "\n",
    "else:\n",
    "    # os.environ[\"CUDA_VISIBLE_DEVICES\"] = \"0\"\n",
    "    globalconfig.per_device_train_batch_size = 8\n",
    "    globalconfig.per_device_eval_batch_size = 8\n",
    "    \n",
    "\n",
    "if args.quantization:\n",
    "    dir_q_snippet = \"quantization\"\n",
    "else:\n",
    "    dir_q_snippet = \"NOquantization\"\n",
    "\n",
    "# globalconfig.output_dir = f\"~/llama2_SHAC/n200/set-{args.CombinationIdx}-{dir_q_snippet}-epoch3-llama-2-{args.model_size}B-loraR-{args.lora_r}\"\n",
    "\n",
    "\n",
    "######  Load Data\n",
    "\n",
    "### SHAC\n",
    "\n",
    "z_category = [\"uw\", \"mimic\"]\n",
    "y_cat = [\"False\", \"True\"]\n",
    "\n",
    "txt_col = \"text\"\n",
    "domain_col = \"location\"\n",
    "\n",
    "if args.toPredict == \"Target\":\n",
    "    label = \"Drug\"\n",
    "    globalconfig.output_dir = f\"/bime-munin/xiruod/llama2_SHAC/n{args.nTest}/set-{args.CombinationIdx}-{dir_q_snippet}-epoch3-llama-2-{args.model_size}B-loraR-{args.lora_r}\"\n",
    "\n",
    "    label2id = {z: idx for idx, z in zip(range(len(y_cat)), y_cat)}\n",
    "    id2label = {idx: z for idx, z in zip(range(len(y_cat)), y_cat)}\n",
    "\n",
    "    df_shac = load_process_SHAC(replaceNA=\"all\")\n",
    "\n",
    "    df_shac[\"label_binary\"] = df_shac.apply(lambda x: 1 if x[label] else 0, axis=1)\n",
    "    df_shac[\"dfSource\"] = df_shac[domain_col]\n",
    "    \n",
    "elif args.toPredict == \"Source\":\n",
    "    label = \"location\"\n",
    "    globalconfig.output_dir = f\"/bime-munin/xiruod/llama2_SHAC/n{args.nTest}/Source-set-{args.CombinationIdx}-{dir_q_snippet}-epoch3-llama-2-{args.model_size}B-loraR-{args.lora_r}\"\n",
    "\n",
    "    label2id = {z: idx for idx, z in zip(range(len(z_category)), z_category)}\n",
    "    id2label = {idx: z for idx, z in zip(range(len(z_category)), z_category)}\n",
    "\n",
    "    df_shac = load_process_SHAC(replaceNA=\"all\")\n",
    "\n",
    "    df_shac[\"label_binary\"] = df_shac.apply(lambda x: label2id[x[label]], axis=1)\n",
    "    df_shac[\"dfSource\"] = df_shac[domain_col]\n",
    "    \n",
    "else:\n",
    "    sys.exit(\"Unknown Outcome: 'Target' and 'Source' ONLY\")\n",
    "\n",
    "df_shac_uw = df_shac.query(\"location == 'uw'\").reset_index(drop=True)\n",
    "df_shac_mimic = df_shac.query(\"location == 'mimic'\").reset_index(drop=True)\n",
    "\n",
    "##### Split\n",
    "# SHAC-Drug - Balanced Alpha\n",
    "n_test = args.nTest\n",
    "train_test_ratio = 4\n",
    "\n",
    "\n",
    "p_pos_train_z0_ls = np.arange(\n",
    "    0, 1, 0.1\n",
    ")  # probability of training set examples drawn from site/domain z0 being positive\n",
    "p_pos_train_z1_ls = np.arange(\n",
    "    0, 1, 0.1\n",
    ")  # probability of test set examples drawn from site/domain z1 being positive\n",
    "\n",
    "p_mix_z1_ls = np.arange(0, 1, 0.05)\n",
    "\n",
    "numvals = 1023\n",
    "base = 1.1\n",
    "alpha_test_ls = np.power(base, np.arange(numvals)) / np.power(base, numvals // 2)\n",
    "\n",
    "valid_full_settings = []\n",
    "for combination in itertools.product(\n",
    "    p_pos_train_z0_ls, p_pos_train_z1_ls, p_mix_z1_ls, alpha_test_ls\n",
    "):\n",
    "    number_setting = number_split(\n",
    "        p_pos_train_z0=combination[0],\n",
    "        p_pos_train_z1=combination[1],\n",
    "        p_mix_z1=combination[2],\n",
    "        alpha_test=combination[3],\n",
    "        train_test_ratio=train_test_ratio,\n",
    "        n_test=n_test,\n",
    "        verbose=False,\n",
    "    )\n",
    "\n",
    "    if number_setting is not None:\n",
    "        if np.all([number_setting[k] >= 10 for k in list(number_setting.keys())[:-1]]):\n",
    "            valid_full_settings.append(number_setting)\n",
    "\n",
    "\n",
    "# run for check valid settings\n",
    "\n",
    "import warnings\n",
    "\n",
    "warnings.simplefilter(\"ignore\")\n",
    "\n",
    "# Validate settings\n",
    "\n",
    "df0 = df_shac_uw\n",
    "df1 = df_shac_mimic"
   ]
  },
  {
   "cell_type": "code",
   "execution_count": 17,
   "id": "eaf8c6ec-6343-43a9-a1da-a3dd0126ad2f",
   "metadata": {
    "execution": {
     "iopub.execute_input": "2024-03-12T23:52:48.694096Z",
     "iopub.status.busy": "2024-03-12T23:52:48.693385Z",
     "iopub.status.idle": "2024-03-12T23:52:49.197404Z",
     "shell.execute_reply": "2024-03-12T23:52:49.196301Z",
     "shell.execute_reply.started": "2024-03-12T23:52:48.694033Z"
    },
    "tags": []
   },
   "outputs": [
    {
     "data": {
      "application/vnd.jupyter.widget-view+json": {
       "model_id": "5c77fbc9f54242948297547e108fee3d",
       "version_major": 2,
       "version_minor": 0
      },
      "text/plain": [
       "  0%|          | 0/46811 [00:00<?, ?it/s]"
      ]
     },
     "metadata": {},
     "output_type": "display_data"
    }
   ],
   "source": [
    "valid_n_full_settings = []\n",
    "\n",
    "for c in tqdm(valid_full_settings):\n",
    "    c = c.copy()\n",
    "    # create train/test split according to stats\n",
    "    dfs = create_mix(df0=df0, df1=df1, target=label if args.toPredict == \"Target\" else \"Drug\", setting=c, sample=False, seed=222)\n",
    "\n",
    "    if dfs is None:\n",
    "        continue\n",
    "\n",
    "    valid_n_full_settings.append(c)\n",
    "    break"
   ]
  },
  {
   "cell_type": "code",
   "execution_count": 18,
   "id": "9356b36f-2221-4a26-8ccf-a045a57515ba",
   "metadata": {
    "execution": {
     "iopub.execute_input": "2024-03-12T23:53:00.176644Z",
     "iopub.status.busy": "2024-03-12T23:53:00.175871Z",
     "iopub.status.idle": "2024-03-12T23:53:02.403503Z",
     "shell.execute_reply": "2024-03-12T23:53:02.402509Z",
     "shell.execute_reply.started": "2024-03-12T23:53:00.176581Z"
    },
    "tags": []
   },
   "outputs": [
    {
     "name": "stdout",
     "output_type": "stream",
     "text": [
      "Balanced? Check setting....\n",
      "{'n_train': 2000, 'n_test': 500, 'n_z0_pos_train': 130, 'n_z0_neg_train': 1170, 'n_z0_pos_test': 40, 'n_z0_neg_test': 285, 'n_z1_pos_train': 70, 'n_z1_neg_train': 630, 'n_z1_pos_test': 10, 'n_z1_neg_test': 165, 'mix_param_dict': {'p_pos_train_z0': 0.1, 'p_pos_train_z1': 0.1, 'p_pos_train': 0.09999999999999999, 'p_pos_test': 0.09999999999999999, 'p_mix_z0': 0.6499999999999999, 'p_mix_z1': 0.35000000000000003, 'alpha_train': 1.0, 'alpha_test': 0.4665073802097331, 'p_pos_test_z0': 0.12295924796315696, 'p_pos_test_z1': 0.05736139663985131, 'C_y': 0.09999999999999999, 'C_z': 0.35000000000000003}}\n"
     ]
    },
    {
     "data": {
      "application/vnd.jupyter.widget-view+json": {
       "model_id": "2cfd2cf765d644ee953c103fd26e45fd",
       "version_major": 2,
       "version_minor": 0
      },
      "text/plain": [
       "Map:   0%|          | 0/2000 [00:00<?, ? examples/s]"
      ]
     },
     "metadata": {},
     "output_type": "display_data"
    },
    {
     "data": {
      "application/vnd.jupyter.widget-view+json": {
       "model_id": "c98a7f527a514c15b27bdd29b1281121",
       "version_major": 2,
       "version_minor": 0
      },
      "text/plain": [
       "Map:   0%|          | 0/500 [00:00<?, ? examples/s]"
      ]
     },
     "metadata": {},
     "output_type": "display_data"
    }
   ],
   "source": [
    "##### Dataset Loader and Tokenizer\n",
    "def preprocess_function(examples):\n",
    "    # tokenize\n",
    "    ret = tokenizer(\n",
    "        examples[txt_col],\n",
    "        return_tensors=\"pt\",\n",
    "        max_length=globalconfig.max_seq_length,\n",
    "        padding=\"max_length\",\n",
    "        truncation=True,\n",
    "    ).to(globalconfig.device)\n",
    "\n",
    "    return ret\n",
    "\n",
    "\n",
    "def datasets_loader(df):\n",
    "    # from pandas df to Dataset & tokenize\n",
    "    ret_datasets = datasets.Dataset.from_pandas(\n",
    "        df[[txt_col, \"dfSource\", \"label_binary\"]]\n",
    "        .rename(columns={\"label_binary\": \"label\"})\n",
    "        .reset_index(drop=True)\n",
    "    )\n",
    "    ret_tokenized = ret_datasets.map(preprocess_function, batched=True)\n",
    "\n",
    "    return ret_tokenized\n",
    "\n",
    "\n",
    "##### Experiment - ONLY One Setting\n",
    "\n",
    "print(\"Balanced? Check setting....\")\n",
    "print(c)\n",
    "dfs = create_mix(\n",
    "    df0=df0,\n",
    "    df1=df1,\n",
    "    target=label if args.toPredict == \"Target\" else \"Drug\",\n",
    "    setting=c,\n",
    "    sample=False,\n",
    "    # seed=random.randint(0,1000),\n",
    "    seed=222,\n",
    ")\n",
    "\n",
    "tokenized_train = datasets_loader(dfs[\"train\"])\n",
    "tokenized_test = datasets_loader(dfs[\"test\"])\n",
    "\n",
    "\n",
    "## Define metric\n",
    "def compute_metrics_twoLevels(eval_pred):\n",
    "    # compute AUPRC, based on only two levels of Y\n",
    "    predictions, labels = eval_pred\n",
    "    probabilities = nn.functional.softmax(torch.FloatTensor(predictions), dim=-1)[:, 1]\n",
    "\n",
    "    auprc = average_precision_score(y_true=labels, y_score=probabilities)\n",
    "\n",
    "    return {\"auprc\": auprc}"
   ]
  },
  {
   "cell_type": "code",
   "execution_count": 38,
   "id": "f8dbf454-7b53-4529-aa31-9f9bfadcd94b",
   "metadata": {
    "execution": {
     "iopub.execute_input": "2024-03-12T23:55:07.543130Z",
     "iopub.status.busy": "2024-03-12T23:55:07.542408Z",
     "iopub.status.idle": "2024-03-12T23:55:07.573683Z",
     "shell.execute_reply": "2024-03-12T23:55:07.572430Z",
     "shell.execute_reply.started": "2024-03-12T23:55:07.543068Z"
    },
    "tags": []
   },
   "outputs": [],
   "source": [
    "df_in = tokenizer(\n",
    "        list(dfs['test'].iloc[:15]['text']),\n",
    "        return_tensors=\"pt\",\n",
    "        max_length=globalconfig.max_seq_length,\n",
    "        padding=\"max_length\",\n",
    "        truncation=True,\n",
    "    )"
   ]
  },
  {
   "cell_type": "code",
   "execution_count": 20,
   "id": "7cfa766a-dc85-45ff-a61b-d830f6edde6a",
   "metadata": {
    "execution": {
     "iopub.execute_input": "2024-03-12T23:53:03.969115Z",
     "iopub.status.busy": "2024-03-12T23:53:03.968801Z",
     "iopub.status.idle": "2024-03-12T23:53:03.979215Z",
     "shell.execute_reply": "2024-03-12T23:53:03.977884Z",
     "shell.execute_reply.started": "2024-03-12T23:53:03.969087Z"
    },
    "tags": []
   },
   "outputs": [
    {
     "data": {
      "text/plain": [
       "{'input_ids': tensor([[    1,   379,  2882,  ..., 32000, 32000, 32000],\n",
       "        [    1,  7791,  8426,  ..., 32000, 32000, 32000],\n",
       "        [    1,  7791,  8426,  ..., 32000, 32000, 32000],\n",
       "        ...,\n",
       "        [    1, 10307,  5298,  ..., 32000, 32000, 32000],\n",
       "        [    1, 10307,  5298,  ..., 32000, 32000, 32000],\n",
       "        [    1,   379,  2882,  ..., 32000, 32000, 32000]]), 'attention_mask': tensor([[1, 1, 1,  ..., 0, 0, 0],\n",
       "        [1, 1, 1,  ..., 0, 0, 0],\n",
       "        [1, 1, 1,  ..., 0, 0, 0],\n",
       "        ...,\n",
       "        [1, 1, 1,  ..., 0, 0, 0],\n",
       "        [1, 1, 1,  ..., 0, 0, 0],\n",
       "        [1, 1, 1,  ..., 0, 0, 0]])}"
      ]
     },
     "execution_count": 20,
     "metadata": {},
     "output_type": "execute_result"
    }
   ],
   "source": [
    "df_in"
   ]
  },
  {
   "cell_type": "code",
   "execution_count": 39,
   "id": "2c9b2533-9643-4f26-b1ec-563709ef867d",
   "metadata": {
    "execution": {
     "iopub.execute_input": "2024-03-12T23:55:10.614278Z",
     "iopub.status.busy": "2024-03-12T23:55:10.613563Z",
     "iopub.status.idle": "2024-03-12T23:55:10.627195Z",
     "shell.execute_reply": "2024-03-12T23:55:10.625935Z",
     "shell.execute_reply.started": "2024-03-12T23:55:10.614214Z"
    },
    "tags": []
   },
   "outputs": [
    {
     "data": {
      "text/plain": [
       "{'input_ids': tensor([[    1,   379,  2882,  ..., 32000, 32000, 32000],\n",
       "        [    1,  7791,  8426,  ..., 32000, 32000, 32000],\n",
       "        [    1,  7791,  8426,  ..., 32000, 32000, 32000],\n",
       "        ...,\n",
       "        [    1,  7791,  8426,  ..., 32000, 32000, 32000],\n",
       "        [    1,  7791,  8426,  ..., 32000, 32000, 32000],\n",
       "        [    1, 10307,  5298,  ..., 32000, 32000, 32000]]), 'attention_mask': tensor([[1, 1, 1,  ..., 0, 0, 0],\n",
       "        [1, 1, 1,  ..., 0, 0, 0],\n",
       "        [1, 1, 1,  ..., 0, 0, 0],\n",
       "        ...,\n",
       "        [1, 1, 1,  ..., 0, 0, 0],\n",
       "        [1, 1, 1,  ..., 0, 0, 0],\n",
       "        [1, 1, 1,  ..., 0, 0, 0]])}"
      ]
     },
     "execution_count": 39,
     "metadata": {},
     "output_type": "execute_result"
    }
   ],
   "source": [
    "df_in"
   ]
  },
  {
   "cell_type": "code",
   "execution_count": 40,
   "id": "afcee94b-e706-418b-b6ea-a818ee7dcdbf",
   "metadata": {
    "execution": {
     "iopub.execute_input": "2024-03-12T23:55:21.263452Z",
     "iopub.status.busy": "2024-03-12T23:55:21.262745Z",
     "iopub.status.idle": "2024-03-12T23:55:21.273722Z",
     "shell.execute_reply": "2024-03-12T23:55:21.272386Z",
     "shell.execute_reply.started": "2024-03-12T23:55:21.263389Z"
    },
    "tags": []
   },
   "outputs": [
    {
     "data": {
      "text/plain": [
       "torch.Size([15, 1024])"
      ]
     },
     "execution_count": 40,
     "metadata": {},
     "output_type": "execute_result"
    }
   ],
   "source": [
    "df_in['input_ids'].shape"
   ]
  },
  {
   "cell_type": "code",
   "execution_count": 58,
   "id": "f4ea0566-2bf8-4067-a3b8-c1793ec7e81d",
   "metadata": {
    "execution": {
     "iopub.execute_input": "2024-03-12T23:58:17.622715Z",
     "iopub.status.busy": "2024-03-12T23:58:17.621988Z",
     "iopub.status.idle": "2024-03-12T23:58:19.555141Z",
     "shell.execute_reply": "2024-03-12T23:58:19.553965Z",
     "shell.execute_reply.started": "2024-03-12T23:58:17.622655Z"
    },
    "tags": []
   },
   "outputs": [],
   "source": [
    "model.set_adapter('delta')\n",
    "model.eval()\n",
    "with torch.no_grad():\n",
    "    tmp = model(input_ids=df_in['input_ids'], attention_mask=df_in['attention_mask'])"
   ]
  },
  {
   "cell_type": "code",
   "execution_count": 59,
   "id": "2043f670-7965-4086-b056-dce3444dfff4",
   "metadata": {
    "execution": {
     "iopub.execute_input": "2024-03-12T23:58:20.133276Z",
     "iopub.status.busy": "2024-03-12T23:58:20.132935Z",
     "iopub.status.idle": "2024-03-12T23:58:20.139430Z",
     "shell.execute_reply": "2024-03-12T23:58:20.138615Z",
     "shell.execute_reply.started": "2024-03-12T23:58:20.133258Z"
    },
    "tags": []
   },
   "outputs": [
    {
     "data": {
      "text/plain": [
       "tensor([[-0.9814, -1.1426],\n",
       "        [ 1.8564, -0.2979],\n",
       "        [ 0.4932, -3.0684],\n",
       "        [-1.5459, -2.6211],\n",
       "        [-0.4260, -0.3877],\n",
       "        [-0.4724, -0.4685],\n",
       "        [ 1.2012, -1.4082],\n",
       "        [ 0.0987, -4.5859],\n",
       "        [-0.5771, -3.2051],\n",
       "        [-0.9287, -0.7275],\n",
       "        [ 1.1318, -3.9277],\n",
       "        [-1.0410, -1.9648],\n",
       "        [ 1.2861, -2.3691],\n",
       "        [-0.8003, -2.6777],\n",
       "        [-0.3035,  0.6147]], dtype=torch.float16)"
      ]
     },
     "execution_count": 59,
     "metadata": {},
     "output_type": "execute_result"
    }
   ],
   "source": [
    "tmp['logits']"
   ]
  },
  {
   "cell_type": "code",
   "execution_count": 60,
   "id": "61a8e7a4-88b4-4e63-8295-7bbe4396b2d3",
   "metadata": {
    "execution": {
     "iopub.execute_input": "2024-03-12T23:58:20.614982Z",
     "iopub.status.busy": "2024-03-12T23:58:20.614817Z",
     "iopub.status.idle": "2024-03-12T23:58:20.620057Z",
     "shell.execute_reply": "2024-03-12T23:58:20.618575Z",
     "shell.execute_reply.started": "2024-03-12T23:58:20.614967Z"
    },
    "tags": []
   },
   "outputs": [],
   "source": [
    "from scipy.special import softmax"
   ]
  },
  {
   "cell_type": "code",
   "execution_count": 61,
   "id": "3e1f644c-ff2f-4e23-87e6-7df38aa4178e",
   "metadata": {
    "execution": {
     "iopub.execute_input": "2024-03-12T23:58:22.134692Z",
     "iopub.status.busy": "2024-03-12T23:58:22.134041Z",
     "iopub.status.idle": "2024-03-12T23:58:22.146866Z",
     "shell.execute_reply": "2024-03-12T23:58:22.145465Z",
     "shell.execute_reply.started": "2024-03-12T23:58:22.134632Z"
    },
    "tags": []
   },
   "outputs": [
    {
     "data": {
      "text/plain": [
       "array([[0.54    , 0.4597  ],\n",
       "       [0.896   , 0.1039  ],\n",
       "       [0.9727  , 0.02759 ],\n",
       "       [0.745   , 0.2544  ],\n",
       "       [0.4902  , 0.5093  ],\n",
       "       [0.499   , 0.501   ],\n",
       "       [0.9316  , 0.0686  ],\n",
       "       [0.991   , 0.00916 ],\n",
       "       [0.9326  , 0.06726 ],\n",
       "       [0.4497  , 0.55    ],\n",
       "       [0.993   , 0.006313],\n",
       "       [0.7163  , 0.2842  ],\n",
       "       [0.975   , 0.02519 ],\n",
       "       [0.867   , 0.1327  ],\n",
       "       [0.2854  , 0.7144  ]], dtype=float16)"
      ]
     },
     "execution_count": 61,
     "metadata": {},
     "output_type": "execute_result"
    }
   ],
   "source": [
    "softmax(tmp['logits'], axis=1)"
   ]
  },
  {
   "cell_type": "code",
   "execution_count": 37,
   "id": "6d9fe4ca-e85d-4b7d-bc1d-30d05124acbe",
   "metadata": {
    "execution": {
     "iopub.execute_input": "2024-03-12T23:54:31.613865Z",
     "iopub.status.busy": "2024-03-12T23:54:31.613208Z",
     "iopub.status.idle": "2024-03-12T23:54:31.625122Z",
     "shell.execute_reply": "2024-03-12T23:54:31.624134Z",
     "shell.execute_reply.started": "2024-03-12T23:54:31.613805Z"
    },
    "tags": []
   },
   "outputs": [
    {
     "data": {
      "text/plain": [
       "array([0.466   , 0.1357  , 0.02461 , 0.2487  , 0.5625  , 0.489   ,\n",
       "       0.0799  , 0.010826, 0.0621  , 0.4868  , 0.009125, 0.2264  ,\n",
       "       0.02446 , 0.11005 , 0.7476  , 0.03406 , 0.03656 ], dtype=float16)"
      ]
     },
     "execution_count": 37,
     "metadata": {},
     "output_type": "execute_result"
    }
   ],
   "source": [
    "softmax(tmp['logits'], axis=1)[:,1]"
   ]
  },
  {
   "cell_type": "code",
   "execution_count": null,
   "id": "56f01797-37e2-4196-b1e3-833c65cbe6a9",
   "metadata": {},
   "outputs": [],
   "source": []
  },
  {
   "cell_type": "code",
   "execution_count": null,
   "id": "abfd0d13-c588-4be9-993d-794574162e80",
   "metadata": {},
   "outputs": [],
   "source": []
  },
  {
   "cell_type": "code",
   "execution_count": 118,
   "id": "c23661e4-7b89-4126-b8d9-57d9c85271ec",
   "metadata": {
    "execution": {
     "iopub.execute_input": "2024-03-12T23:46:02.496756Z",
     "iopub.status.busy": "2024-03-12T23:46:02.496023Z",
     "iopub.status.idle": "2024-03-12T23:46:02.507114Z",
     "shell.execute_reply": "2024-03-12T23:46:02.505728Z",
     "shell.execute_reply.started": "2024-03-12T23:46:02.496693Z"
    },
    "tags": []
   },
   "outputs": [
    {
     "data": {
      "text/plain": [
       "15"
      ]
     },
     "execution_count": 118,
     "metadata": {},
     "output_type": "execute_result"
    }
   ],
   "source": [
    "len(df_in['input_ids'])"
   ]
  },
  {
   "cell_type": "code",
   "execution_count": 64,
   "id": "f1ae2684-81b8-4fc2-9fe6-64739d172d2f",
   "metadata": {
    "execution": {
     "iopub.execute_input": "2024-03-12T23:59:17.442639Z",
     "iopub.status.busy": "2024-03-12T23:59:17.442272Z",
     "iopub.status.idle": "2024-03-12T23:59:17.449391Z",
     "shell.execute_reply": "2024-03-12T23:59:17.448075Z",
     "shell.execute_reply.started": "2024-03-12T23:59:17.442608Z"
    },
    "tags": []
   },
   "outputs": [],
   "source": [
    "l = list(range(len(df_in['input_ids'])))\n",
    "n = 3\n",
    "idx_ls = [l[i:i+n] for i in range(len(l)) if i%n==0]"
   ]
  },
  {
   "cell_type": "code",
   "execution_count": 65,
   "id": "e4f93bda-fcdc-4803-a6e8-fdc77341fc0e",
   "metadata": {
    "execution": {
     "iopub.execute_input": "2024-03-12T23:59:17.657571Z",
     "iopub.status.busy": "2024-03-12T23:59:17.657225Z",
     "iopub.status.idle": "2024-03-12T23:59:17.666280Z",
     "shell.execute_reply": "2024-03-12T23:59:17.664820Z",
     "shell.execute_reply.started": "2024-03-12T23:59:17.657540Z"
    },
    "tags": []
   },
   "outputs": [
    {
     "data": {
      "text/plain": [
       "[[0, 1, 2], [3, 4, 5], [6, 7, 8], [9, 10, 11], [12, 13, 14]]"
      ]
     },
     "execution_count": 65,
     "metadata": {},
     "output_type": "execute_result"
    }
   ],
   "source": [
    "idx_ls"
   ]
  },
  {
   "cell_type": "code",
   "execution_count": 66,
   "id": "d7718aea-4eaa-4fe1-a1e5-dc24106b26da",
   "metadata": {
    "execution": {
     "iopub.execute_input": "2024-03-12T23:59:18.903881Z",
     "iopub.status.busy": "2024-03-12T23:59:18.903157Z",
     "iopub.status.idle": "2024-03-12T23:59:21.156151Z",
     "shell.execute_reply": "2024-03-12T23:59:21.155115Z",
     "shell.execute_reply.started": "2024-03-12T23:59:18.903819Z"
    },
    "tags": []
   },
   "outputs": [],
   "source": [
    "y_ls = []\n",
    "model.set_adapter('delta')\n",
    "with torch.no_grad():\n",
    "    for idx in idx_ls:\n",
    "        model.eval()\n",
    "\n",
    "        ret_output = model.forward(input_ids=df_in['input_ids'][idx], attention_mask=df_in['attention_mask'][idx])\n",
    "        y_probs_ = softmax(ret_output[\"logits\"], axis=1)\n",
    "        y_ls.append(y_probs_)"
   ]
  },
  {
   "cell_type": "code",
   "execution_count": 63,
   "id": "a0d52579-ebda-4a8d-83cc-d97fd953b220",
   "metadata": {
    "execution": {
     "iopub.execute_input": "2024-03-12T23:59:14.097150Z",
     "iopub.status.busy": "2024-03-12T23:59:14.096521Z",
     "iopub.status.idle": "2024-03-12T23:59:14.108616Z",
     "shell.execute_reply": "2024-03-12T23:59:14.107223Z",
     "shell.execute_reply.started": "2024-03-12T23:59:14.097084Z"
    },
    "tags": []
   },
   "outputs": [
    {
     "data": {
      "text/plain": [
       "array([[0.498   , 0.502   ],\n",
       "       [0.8965  , 0.1036  ],\n",
       "       [0.9727  , 0.02731 ],\n",
       "       [0.7334  , 0.2664  ],\n",
       "       [0.5273  , 0.4727  ],\n",
       "       [0.4792  , 0.521   ],\n",
       "       [0.934   , 0.06586 ],\n",
       "       [0.99    , 0.009224],\n",
       "       [0.942   , 0.0577  ],\n",
       "       [0.526   , 0.474   ],\n",
       "       [0.992   , 0.008194],\n",
       "       [0.7466  , 0.254   ],\n",
       "       [0.975   , 0.02441 ],\n",
       "       [0.8604  , 0.139   ],\n",
       "       [0.2803  , 0.7197  ]], dtype=float16)"
      ]
     },
     "execution_count": 63,
     "metadata": {},
     "output_type": "execute_result"
    }
   ],
   "source": [
    "np.concatenate(y_ls)"
   ]
  },
  {
   "cell_type": "code",
   "execution_count": 67,
   "id": "76864dda-a146-4ad8-b5c2-0e65883d392f",
   "metadata": {
    "execution": {
     "iopub.execute_input": "2024-03-12T23:59:21.157710Z",
     "iopub.status.busy": "2024-03-12T23:59:21.157361Z",
     "iopub.status.idle": "2024-03-12T23:59:21.165155Z",
     "shell.execute_reply": "2024-03-12T23:59:21.164171Z",
     "shell.execute_reply.started": "2024-03-12T23:59:21.157693Z"
    },
    "tags": []
   },
   "outputs": [
    {
     "data": {
      "text/plain": [
       "array([[0.549   , 0.4514  ],\n",
       "       [0.8843  , 0.1153  ],\n",
       "       [0.977   , 0.02246 ],\n",
       "       [0.711   , 0.2888  ],\n",
       "       [0.4614  , 0.5386  ],\n",
       "       [0.518   , 0.4814  ],\n",
       "       [0.9233  , 0.07684 ],\n",
       "       [0.9893  , 0.01095 ],\n",
       "       [0.934   , 0.06586 ],\n",
       "       [0.4082  , 0.592   ],\n",
       "       [0.993   , 0.006588],\n",
       "       [0.753   , 0.2468  ],\n",
       "       [0.975   , 0.0247  ],\n",
       "       [0.872   , 0.1277  ],\n",
       "       [0.2664  , 0.7334  ]], dtype=float16)"
      ]
     },
     "execution_count": 67,
     "metadata": {},
     "output_type": "execute_result"
    }
   ],
   "source": [
    "np.concatenate(y_ls)"
   ]
  },
  {
   "cell_type": "code",
   "execution_count": 13,
   "id": "f99ac1e2-579e-4d7d-9310-9ff11aa57ba7",
   "metadata": {
    "execution": {
     "iopub.execute_input": "2024-03-13T18:23:42.038258Z",
     "iopub.status.busy": "2024-03-13T18:23:42.037711Z",
     "iopub.status.idle": "2024-03-13T18:23:42.043077Z",
     "shell.execute_reply": "2024-03-13T18:23:42.042038Z",
     "shell.execute_reply.started": "2024-03-13T18:23:42.038221Z"
    },
    "tags": []
   },
   "outputs": [],
   "source": [
    "nm = \"/bime-munin/xiruod/llama2_SHAC/n500/Targetset-1355-quantization-epoch3-llama-2-7B-loraR-8/\""
   ]
  },
  {
   "cell_type": "code",
   "execution_count": 14,
   "id": "a2f1d36f-b8c9-420f-8c06-e174477ff5fa",
   "metadata": {
    "execution": {
     "iopub.execute_input": "2024-03-13T18:23:42.669355Z",
     "iopub.status.busy": "2024-03-13T18:23:42.668783Z",
     "iopub.status.idle": "2024-03-13T18:23:42.677357Z",
     "shell.execute_reply": "2024-03-13T18:23:42.676048Z",
     "shell.execute_reply.started": "2024-03-13T18:23:42.669306Z"
    },
    "tags": []
   },
   "outputs": [],
   "source": [
    "tmp = [x for x in nm.split(\"/\") if \"set-\" in x]\n",
    "name_pre = tmp[0] # of form like set-1355-quantization-epoch3-llama-2-7B-loraR-8\n",
    "model_size = int(name_pre.split(\"-\")[-3].replace(\"B\", \"\"))  # 7, 13, 70"
   ]
  },
  {
   "cell_type": "code",
   "execution_count": 15,
   "id": "451d226d-9c81-4ab2-b51a-87f6847091a5",
   "metadata": {
    "execution": {
     "iopub.execute_input": "2024-03-13T18:23:43.163923Z",
     "iopub.status.busy": "2024-03-13T18:23:43.162646Z",
     "iopub.status.idle": "2024-03-13T18:23:43.171489Z",
     "shell.execute_reply": "2024-03-13T18:23:43.170216Z",
     "shell.execute_reply.started": "2024-03-13T18:23:43.163867Z"
    },
    "tags": []
   },
   "outputs": [
    {
     "data": {
      "text/plain": [
       "['Targetset-1355-quantization-epoch3-llama-2-7B-loraR-8']"
      ]
     },
     "execution_count": 15,
     "metadata": {},
     "output_type": "execute_result"
    }
   ],
   "source": [
    "tmp"
   ]
  },
  {
   "cell_type": "code",
   "execution_count": 11,
   "id": "485303bc-c8e6-49a5-aa87-3883018011fd",
   "metadata": {
    "execution": {
     "iopub.execute_input": "2024-03-13T18:22:54.981199Z",
     "iopub.status.busy": "2024-03-13T18:22:54.979777Z",
     "iopub.status.idle": "2024-03-13T18:22:54.989056Z",
     "shell.execute_reply": "2024-03-13T18:22:54.987914Z",
     "shell.execute_reply.started": "2024-03-13T18:22:54.981142Z"
    },
    "tags": []
   },
   "outputs": [
    {
     "data": {
      "text/plain": [
       "'set-1355-quantization-epoch3-llama-2-7B-loraR-8'"
      ]
     },
     "execution_count": 11,
     "metadata": {},
     "output_type": "execute_result"
    }
   ],
   "source": [
    "name_pre"
   ]
  },
  {
   "cell_type": "code",
   "execution_count": 12,
   "id": "2be081bb-5dd2-40b3-96a0-127437e16147",
   "metadata": {
    "execution": {
     "iopub.execute_input": "2024-03-13T18:22:59.644016Z",
     "iopub.status.busy": "2024-03-13T18:22:59.642527Z",
     "iopub.status.idle": "2024-03-13T18:22:59.652195Z",
     "shell.execute_reply": "2024-03-13T18:22:59.650718Z",
     "shell.execute_reply.started": "2024-03-13T18:22:59.643954Z"
    },
    "tags": []
   },
   "outputs": [
    {
     "data": {
      "text/plain": [
       "7"
      ]
     },
     "execution_count": 12,
     "metadata": {},
     "output_type": "execute_result"
    }
   ],
   "source": [
    "model_size"
   ]
  },
  {
   "cell_type": "code",
   "execution_count": null,
   "id": "b3a552e9-80e3-47fe-9b9b-361fe6bc2e50",
   "metadata": {},
   "outputs": [],
   "source": []
  }
 ],
 "metadata": {
  "kernelspec": {
   "display_name": "Python 3 (ipykernel)",
   "language": "python",
   "name": "python3"
  },
  "language_info": {
   "codemirror_mode": {
    "name": "ipython",
    "version": 3
   },
   "file_extension": ".py",
   "mimetype": "text/x-python",
   "name": "python",
   "nbconvert_exporter": "python",
   "pygments_lexer": "ipython3",
   "version": "3.9.17"
  },
  "toc-autonumbering": true
 },
 "nbformat": 4,
 "nbformat_minor": 5
}
