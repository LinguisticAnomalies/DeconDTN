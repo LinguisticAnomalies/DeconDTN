{
 "cells": [
  {
   "cell_type": "markdown",
   "id": "5aecc267-b799-4e3c-8ea5-a9a59a6e452f",
   "metadata": {},
   "source": [
    "## Function"
   ]
  },
  {
   "cell_type": "code",
   "execution_count": 1,
   "id": "b67cd189-967c-4e49-b3f7-3be65e605aec",
   "metadata": {
    "execution": {
     "iopub.execute_input": "2023-09-16T03:48:36.551039Z",
     "iopub.status.busy": "2023-09-16T03:48:36.550316Z",
     "iopub.status.idle": "2023-09-16T03:48:36.569072Z",
     "shell.execute_reply": "2023-09-16T03:48:36.566946Z",
     "shell.execute_reply.started": "2023-09-16T03:48:36.550986Z"
    },
    "tags": []
   },
   "outputs": [],
   "source": [
    "import os\n",
    "import sys\n",
    "os.environ[\"CUDA_VISIBLE_DEVICES\"] = \"0\"\n"
   ]
  },
  {
   "cell_type": "code",
   "execution_count": 3,
   "id": "e54c00c2-2629-45ac-a8d4-8d63d039d47f",
   "metadata": {
    "editable": true,
    "execution": {
     "iopub.execute_input": "2023-09-16T03:48:42.586372Z",
     "iopub.status.busy": "2023-09-16T03:48:42.584945Z",
     "iopub.status.idle": "2023-09-16T03:48:42.599491Z",
     "shell.execute_reply": "2023-09-16T03:48:42.598222Z",
     "shell.execute_reply.started": "2023-09-16T03:48:42.586299Z"
    },
    "slideshow": {
     "slide_type": ""
    },
    "tags": []
   },
   "outputs": [],
   "source": [
    "import datasets\n",
    "from transformers import TrainerCallback\n",
    "from contextlib import nullcontext\n",
    "import pathlib\n",
    "import numpy as np\n",
    "import pandas as pd\n",
    "from sklearn.metrics import average_precision_score\n",
    "from torch import nn\n",
    "from transformers import default_data_collator, Trainer, TrainingArguments\n",
    "\n",
    "import itertools\n",
    "from tqdm.auto import tqdm\n",
    "\n",
    "import torch\n",
    "\n",
    "\n",
    "sys.path.append(\"../src\")\n",
    "\n",
    "from utils import number_split, create_mix\n",
    "from data_process import load_wls_adress_AddDomain\n",
    "from process_SHAC import load_process_SHAC"
   ]
  },
  {
   "cell_type": "code",
   "execution_count": 37,
   "id": "1c7bb563-54d0-4d90-aa38-4e6b8c0b663e",
   "metadata": {
    "execution": {
     "iopub.execute_input": "2023-09-16T04:23:46.801071Z",
     "iopub.status.busy": "2023-09-16T04:23:46.800245Z",
     "iopub.status.idle": "2023-09-16T04:23:46.807817Z",
     "shell.execute_reply": "2023-09-16T04:23:46.806660Z",
     "shell.execute_reply.started": "2023-09-16T04:23:46.801024Z"
    },
    "tags": []
   },
   "outputs": [],
   "source": [
    "\n",
    "from transformers import AutoTokenizer, AutoModelForSequenceClassification\n",
    "from peft import (\n",
    "    get_peft_model,\n",
    "    LoraConfig,\n",
    "    TaskType,\n",
    "    prepare_model_for_int8_training,\n",
    ")\n"
   ]
  },
  {
   "cell_type": "code",
   "execution_count": 70,
   "id": "80fef72f-41b2-46df-9897-73e839c6a385",
   "metadata": {
    "execution": {
     "iopub.execute_input": "2023-09-16T04:43:14.564725Z",
     "iopub.status.busy": "2023-09-16T04:43:14.564322Z",
     "iopub.status.idle": "2023-09-16T04:43:14.573599Z",
     "shell.execute_reply": "2023-09-16T04:43:14.572938Z",
     "shell.execute_reply.started": "2023-09-16T04:43:14.564699Z"
    },
    "tags": []
   },
   "outputs": [],
   "source": [
    "\n",
    "##### Dataset Loader and Tokenizer\n",
    "def preprocess_function(examples):\n",
    "    # tokenize\n",
    "    ret = tokenizer(examples['text'], return_tensors='pt', max_length=globalconfig.max_seq_length, padding='max_length', truncation=True).to(globalconfig.device)\n",
    "\n",
    "    return  ret\n",
    "\n",
    "def datasets_loader(df):\n",
    "    # from pandas df to Dataset & tokenize\n",
    "    ret_datasets = datasets.Dataset.from_pandas(df[['text','dfSource','label_binary']].rename(columns={\"label_binary\":\"label\"}).reset_index(drop=True))\n",
    "    ret_tokenized = ret_datasets.map(preprocess_function, batched=True)\n",
    "\n",
    "    return ret_tokenized\n",
    "\n",
    "def create_peft_config(model):\n",
    "\n",
    "    peft_config = LoraConfig(\n",
    "        task_type=TaskType.SEQ_CLS,\n",
    "        inference_mode=False,\n",
    "        r=8,\n",
    "        bias=\"none\",\n",
    "        lora_alpha=32,\n",
    "        lora_dropout=0.05,\n",
    "        target_modules = [\"query\", \"value\"],\n",
    "        modules_to_save=[\"classifier\"],\n",
    "    )\n",
    "\n",
    "    # prepare int-8 model for training\n",
    "    if globalconfig.quantization:\n",
    "        model = prepare_model_for_int8_training(model)\n",
    "    model = get_peft_model(model, peft_config)\n",
    "    model.print_trainable_parameters()\n",
    "    return model, peft_config\n",
    "\n",
    "## Define metric\n",
    "def compute_metrics_twoLevels(eval_pred):\n",
    "    # compute AUPRC, based on only two levels of Y\n",
    "    predictions, labels = eval_pred\n",
    "    probabilities = nn.functional.softmax(torch.FloatTensor(predictions), dim=-1)[:,1]\n",
    "\n",
    "    auprc = average_precision_score(y_true=labels, y_score=probabilities)\n",
    "\n",
    "    return {\"auprc\":auprc}\n"
   ]
  },
  {
   "cell_type": "markdown",
   "id": "a73f6372-1bb6-41a8-9024-d84252cd7232",
   "metadata": {},
   "source": [
    "# Load Data"
   ]
  },
  {
   "cell_type": "code",
   "execution_count": 4,
   "id": "791d7034-cde6-4af4-a83a-f628868aa125",
   "metadata": {
    "execution": {
     "iopub.execute_input": "2023-09-16T03:49:17.166074Z",
     "iopub.status.busy": "2023-09-16T03:49:17.165161Z",
     "iopub.status.idle": "2023-09-16T03:49:17.702507Z",
     "shell.execute_reply": "2023-09-16T03:49:17.701643Z",
     "shell.execute_reply.started": "2023-09-16T03:49:17.166024Z"
    },
    "tags": []
   },
   "outputs": [],
   "source": [
    "df_shac = load_process_SHAC(replaceNA=\"all\")"
   ]
  },
  {
   "cell_type": "code",
   "execution_count": 7,
   "id": "ef500bb8-835f-4de3-9756-1258d16344a6",
   "metadata": {
    "execution": {
     "iopub.execute_input": "2023-09-16T03:49:21.866290Z",
     "iopub.status.busy": "2023-09-16T03:49:21.865602Z",
     "iopub.status.idle": "2023-09-16T03:49:21.886597Z",
     "shell.execute_reply": "2023-09-16T03:49:21.885236Z",
     "shell.execute_reply.started": "2023-09-16T03:49:21.866248Z"
    },
    "tags": []
   },
   "outputs": [],
   "source": [
    "df_shac_uw = df_shac.query(\"location == 'uw'\").reset_index(drop=True)\n",
    "df_shac_mimic = df_shac.query(\"location == 'mimic'\").reset_index(drop=True)\n"
   ]
  },
  {
   "cell_type": "code",
   "execution_count": 56,
   "id": "f88dd7fc-e00a-4f71-be51-9d444e525eda",
   "metadata": {
    "execution": {
     "iopub.execute_input": "2023-09-16T04:34:00.343694Z",
     "iopub.status.busy": "2023-09-16T04:34:00.343025Z",
     "iopub.status.idle": "2023-09-16T04:34:00.353382Z",
     "shell.execute_reply": "2023-09-16T04:34:00.351990Z",
     "shell.execute_reply.started": "2023-09-16T04:34:00.343642Z"
    },
    "tags": []
   },
   "outputs": [],
   "source": [
    "z_Categories = [\"uw\", \"mimic\"]  # the order here matters! Should match with df0, df1\n",
    "label='Drug'\n",
    "n_zCats = len(z_Categories)\n",
    "txt_col=\"text\"\n",
    "domain_col = \"location\"\n",
    "df0 = df_shac_uw\n",
    "df1 = df_shac_mimic\n",
    "\n",
    "y_cat = [False, True]"
   ]
  },
  {
   "cell_type": "code",
   "execution_count": 35,
   "id": "b997dd30-64fb-4901-84e1-92c6133ee3ed",
   "metadata": {
    "execution": {
     "iopub.execute_input": "2023-09-16T04:21:15.849167Z",
     "iopub.status.busy": "2023-09-16T04:21:15.847797Z",
     "iopub.status.idle": "2023-09-16T04:21:15.857288Z",
     "shell.execute_reply": "2023-09-16T04:21:15.855945Z",
     "shell.execute_reply.started": "2023-09-16T04:21:15.849099Z"
    },
    "tags": []
   },
   "outputs": [],
   "source": [
    "\n",
    "label2id = {y:idx for idx,y in zip(range(len(y_cat)), y_cat)}\n",
    "id2label = {idx:y for idx,y in zip(range(len(y_cat)), y_cat)}\n"
   ]
  },
  {
   "cell_type": "code",
   "execution_count": 36,
   "id": "c2af5904-8d79-441b-b5ca-63f803ffbd59",
   "metadata": {
    "execution": {
     "iopub.execute_input": "2023-09-16T04:21:19.113602Z",
     "iopub.status.busy": "2023-09-16T04:21:19.112968Z",
     "iopub.status.idle": "2023-09-16T04:21:19.121395Z",
     "shell.execute_reply": "2023-09-16T04:21:19.120342Z",
     "shell.execute_reply.started": "2023-09-16T04:21:19.113552Z"
    },
    "tags": []
   },
   "outputs": [
    {
     "data": {
      "text/plain": [
       "{False: 0, True: 1}"
      ]
     },
     "execution_count": 36,
     "metadata": {},
     "output_type": "execute_result"
    }
   ],
   "source": [
    "label2id"
   ]
  },
  {
   "cell_type": "code",
   "execution_count": null,
   "id": "b349e79e-e1b0-4ead-80f8-71a118c89e3d",
   "metadata": {},
   "outputs": [],
   "source": []
  },
  {
   "cell_type": "code",
   "execution_count": null,
   "id": "8de745c1-069f-4ef6-9a36-c30a54725087",
   "metadata": {},
   "outputs": [],
   "source": []
  },
  {
   "cell_type": "markdown",
   "id": "d781800f-3112-44eb-aa78-c6de32fb4ab4",
   "metadata": {
    "execution": {
     "iopub.execute_input": "2023-09-16T03:55:16.230030Z",
     "iopub.status.busy": "2023-09-16T03:55:16.229230Z",
     "iopub.status.idle": "2023-09-16T03:55:16.236642Z",
     "shell.execute_reply": "2023-09-16T03:55:16.235163Z",
     "shell.execute_reply.started": "2023-09-16T03:55:16.229978Z"
    },
    "tags": []
   },
   "source": [
    "# Split"
   ]
  },
  {
   "cell_type": "code",
   "execution_count": null,
   "id": "70d42f3e-68d6-415c-97b3-23592b5d43ec",
   "metadata": {
    "tags": []
   },
   "outputs": [],
   "source": [
    "##### Split\n",
    "# SHAC-Drug - Balanced Alpha\n",
    "n_test = 200\n",
    "train_test_ratio = 4\n",
    "\n",
    "\n",
    "p_pos_train_z0_ls = np.arange(0, 1, 0.1) # probability of training set examples drawn from site/domain z0 being positive\n",
    "p_pos_train_z1_ls = np.arange(0, 1, 0.1) # probability of test set examples drawn from site/domain z1 being positive\n",
    "\n",
    "p_mix_z1_ls     = np.arange(0, 1, 0.05) \n",
    "\n",
    "numvals = 1023\n",
    "base = 1.1\n",
    "\n",
    "\n",
    "alpha_test_ls = np.power(base, np.arange(numvals))/np.power(base,numvals//2)\n",
    "\n",
    "valid_full_settings = []\n",
    "for combination in itertools.product(p_pos_train_z0_ls, \n",
    "                                     p_pos_train_z1_ls, \n",
    "                                     p_mix_z1_ls,\n",
    "                                     alpha_test_ls\n",
    "                                    ):\n",
    "    \n",
    "\n",
    "    number_setting = number_split(p_pos_train_z0=combination[0], \n",
    "                           p_pos_train_z1 = combination[1], \n",
    "                           p_mix_z1 = combination[2], alpha_test = combination[3],\n",
    "                           train_test_ratio = train_test_ratio, \n",
    "                           n_test=n_test,\n",
    "                                  verbose=False\n",
    "                                 )\n",
    "\n",
    "    if (number_setting is not None):\n",
    "        if np.all([number_setting[k] >= 10 for k in list(number_setting.keys())[:-1]]):\n",
    "            valid_full_settings.append(number_setting)\n",
    "    \n",
    "    \n",
    "    \n",
    "    \n",
    "# run for check valid settings\n",
    "\n",
    "import warnings; warnings.simplefilter('ignore')\n",
    "\n",
    "# Validate settings\n",
    "\n",
    "df0 = df_shac_uw\n",
    "df1 = df_shac_mimic\n",
    "\n",
    "\n",
    "valid_n_full_settings = []\n",
    "\n",
    "for c in tqdm(valid_full_settings):\n",
    "    c = c.copy()\n",
    "    # create train/test split according to stats\n",
    "    dfs = create_mix(df0=df0, df1=df1, target=label, setting=c, sample=False, \n",
    "                     seed=222\n",
    "                    )\n",
    "\n",
    "    if dfs is None:\n",
    "        continue\n",
    "    \n",
    "    valid_n_full_settings.append(c)\n"
   ]
  },
  {
   "cell_type": "code",
   "execution_count": null,
   "id": "1ec63f3e-9697-4b0d-8fc6-8371519819ca",
   "metadata": {},
   "outputs": [],
   "source": []
  },
  {
   "cell_type": "code",
   "execution_count": 89,
   "id": "e42f8717-3b59-4f85-a5a7-635bd8be2da6",
   "metadata": {
    "execution": {
     "iopub.execute_input": "2023-09-16T06:26:02.413416Z",
     "iopub.status.busy": "2023-09-16T06:26:02.412802Z",
     "iopub.status.idle": "2023-09-16T06:26:22.572428Z",
     "shell.execute_reply": "2023-09-16T06:26:22.571552Z",
     "shell.execute_reply.started": "2023-09-16T06:26:02.413374Z"
    },
    "tags": []
   },
   "outputs": [
    {
     "data": {
      "application/vnd.jupyter.widget-view+json": {
       "model_id": "4414658f56e848ea976e098873e31821",
       "version_major": 2,
       "version_minor": 0
      },
      "text/plain": [
       "  0%|          | 0/2466 [00:00<?, ?it/s]"
      ]
     },
     "metadata": {},
     "output_type": "display_data"
    }
   ],
   "source": [
    "##### Split\n",
    "# SHAC-Drug - Balanced Alpha\n",
    "## Only selecting C_y in [0.2, 0.48, 0.72]b\n",
    "n_test = 200\n",
    "train_test_ratio = 4\n",
    "\n",
    "\n",
    "p_pos_train_z0_ls = np.arange(0, 1, 0.1) # probability of training set examples drawn from site/domain z0 being positive\n",
    "p_pos_train_z1_ls = np.arange(0, 1, 0.1) # probability of test set examples drawn from site/domain z1 being positive\n",
    "\n",
    "p_mix_z1_ls     = np.arange(0, 1, 0.05) \n",
    "\n",
    "# numvals = 1023\n",
    "# base = 1.1\n",
    "numvals = 129\n",
    "base = 1.01\n",
    "\n",
    "alpha_test_ls = np.power(base, np.arange(numvals))/np.power(base,numvals//2)\n",
    "\n",
    "valid_full_settings = []\n",
    "for combination in itertools.product(p_pos_train_z0_ls, \n",
    "                                     p_pos_train_z1_ls, \n",
    "                                     p_mix_z1_ls,\n",
    "                                     alpha_test_ls\n",
    "                                    ):\n",
    "    \n",
    "\n",
    "    number_setting = number_split(p_pos_train_z0=combination[0], \n",
    "                           p_pos_train_z1 = combination[1], \n",
    "                           p_mix_z1 = combination[2], alpha_test = combination[3],\n",
    "                           train_test_ratio = train_test_ratio, \n",
    "                           n_test=n_test,\n",
    "                                  verbose=False\n",
    "                                 )\n",
    "\n",
    "    if (number_setting is not None) and (number_setting['mix_param_dict']['C_y'] in [0.2, 0.48, 0.72]):\n",
    "        if np.all([number_setting[k] >= 10 for k in list(number_setting.keys())[:-1]]):\n",
    "            valid_full_settings.append(number_setting)\n",
    "    \n",
    "    \n",
    "    \n",
    "    \n",
    "# run for check valid settings\n",
    "\n",
    "import warnings; warnings.simplefilter('ignore')\n",
    "\n",
    "# Validate settings\n",
    "\n",
    "df0 = df_shac_uw\n",
    "df1 = df_shac_mimic\n",
    "\n",
    "\n",
    "valid_n_full_settings = []\n",
    "\n",
    "for c in tqdm(valid_full_settings):\n",
    "    c = c.copy()\n",
    "    # create train/test split according to stats\n",
    "    dfs = create_mix(df0=df0, df1=df1, target=label, setting=c, sample=False, \n",
    "                     seed=222\n",
    "                    )\n",
    "\n",
    "    if dfs is None:\n",
    "        continue\n",
    "    \n",
    "    valid_n_full_settings.append(c)\n"
   ]
  },
  {
   "cell_type": "code",
   "execution_count": 93,
   "id": "9f796cd8-f263-45d5-a872-f07ef120822b",
   "metadata": {
    "execution": {
     "iopub.execute_input": "2023-09-16T06:26:56.206768Z",
     "iopub.status.busy": "2023-09-16T06:26:56.206125Z",
     "iopub.status.idle": "2023-09-16T06:26:56.215476Z",
     "shell.execute_reply": "2023-09-16T06:26:56.213793Z",
     "shell.execute_reply.started": "2023-09-16T06:26:56.206716Z"
    },
    "tags": []
   },
   "outputs": [
    {
     "data": {
      "text/plain": [
       "2074"
      ]
     },
     "execution_count": 93,
     "metadata": {},
     "output_type": "execute_result"
    }
   ],
   "source": [
    "len(valid_n_full_settings)"
   ]
  },
  {
   "cell_type": "code",
   "execution_count": 90,
   "id": "debce509-2b08-46f8-ada6-abff67af0003",
   "metadata": {
    "execution": {
     "iopub.execute_input": "2023-09-16T06:26:30.178607Z",
     "iopub.status.busy": "2023-09-16T06:26:30.178100Z",
     "iopub.status.idle": "2023-09-16T06:26:30.197006Z",
     "shell.execute_reply": "2023-09-16T06:26:30.195977Z",
     "shell.execute_reply.started": "2023-09-16T06:26:30.178567Z"
    },
    "tags": []
   },
   "outputs": [],
   "source": [
    "tmp_df = pd.DataFrame([st['mix_param_dict'] for st in valid_n_full_settings])"
   ]
  },
  {
   "cell_type": "code",
   "execution_count": 91,
   "id": "84f6a54e-d773-4beb-9adf-b392e62ff1cf",
   "metadata": {
    "execution": {
     "iopub.execute_input": "2023-09-16T06:26:30.368152Z",
     "iopub.status.busy": "2023-09-16T06:26:30.367553Z",
     "iopub.status.idle": "2023-09-16T06:26:30.378061Z",
     "shell.execute_reply": "2023-09-16T06:26:30.377173Z",
     "shell.execute_reply.started": "2023-09-16T06:26:30.368105Z"
    },
    "tags": []
   },
   "outputs": [
    {
     "data": {
      "text/plain": [
       "array([0.2 , 0.72, 0.48])"
      ]
     },
     "execution_count": 91,
     "metadata": {},
     "output_type": "execute_result"
    }
   ],
   "source": [
    "tmp_df['C_y'].unique()"
   ]
  },
  {
   "cell_type": "code",
   "execution_count": 92,
   "id": "4d53143c-6787-4d82-8f8d-66ebb4b73d3f",
   "metadata": {
    "execution": {
     "iopub.execute_input": "2023-09-16T06:26:30.912914Z",
     "iopub.status.busy": "2023-09-16T06:26:30.911959Z",
     "iopub.status.idle": "2023-09-16T06:26:30.923128Z",
     "shell.execute_reply": "2023-09-16T06:26:30.921849Z",
     "shell.execute_reply.started": "2023-09-16T06:26:30.912835Z"
    },
    "tags": []
   },
   "outputs": [
    {
     "data": {
      "text/plain": [
       "array([3.        , 5.        , 1.        , 0.33333333, 0.2       ,\n",
       "       0.16666667, 0.75      , 0.22222222, 0.33333333, 0.66666667])"
      ]
     },
     "execution_count": 92,
     "metadata": {},
     "output_type": "execute_result"
    }
   ],
   "source": [
    "tmp_df['alpha_train'].unique()"
   ]
  },
  {
   "cell_type": "code",
   "execution_count": null,
   "id": "ae14fc30-e98a-441c-8289-81a58167117e",
   "metadata": {},
   "outputs": [],
   "source": []
  },
  {
   "cell_type": "code",
   "execution_count": null,
   "id": "5b6a15e4-cac4-4a72-aafd-fea724a6442d",
   "metadata": {},
   "outputs": [],
   "source": []
  },
  {
   "cell_type": "code",
   "execution_count": null,
   "id": "c79c0b8e-4d1a-4410-ab6f-3f822424741f",
   "metadata": {},
   "outputs": [],
   "source": []
  },
  {
   "cell_type": "markdown",
   "id": "e3ce8281-b1e7-4c03-8e3b-db1f76cccf01",
   "metadata": {},
   "source": [
    "# Model"
   ]
  },
  {
   "cell_type": "markdown",
   "id": "05a02546-75e8-4c9f-8b88-19c797bbd708",
   "metadata": {},
   "source": [
    "## Config"
   ]
  },
  {
   "cell_type": "code",
   "execution_count": 39,
   "id": "05c54b02-6a02-49cb-b99a-e027ede32f01",
   "metadata": {
    "execution": {
     "iopub.execute_input": "2023-09-16T04:26:34.040934Z",
     "iopub.status.busy": "2023-09-16T04:26:34.040198Z",
     "iopub.status.idle": "2023-09-16T04:26:34.048951Z",
     "shell.execute_reply": "2023-09-16T04:26:34.047410Z",
     "shell.execute_reply.started": "2023-09-16T04:26:34.040884Z"
    },
    "tags": []
   },
   "outputs": [],
   "source": [
    "class train_config:\n",
    "    def __init__(self):\n",
    "        self.quantization: bool = False\n",
    "\n",
    "    "
   ]
  },
  {
   "cell_type": "code",
   "execution_count": 40,
   "id": "ad5c7b41-d2d4-41a9-aa2f-1d853abb366e",
   "metadata": {
    "execution": {
     "iopub.execute_input": "2023-09-16T04:26:34.056156Z",
     "iopub.status.busy": "2023-09-16T04:26:34.055694Z",
     "iopub.status.idle": "2023-09-16T04:26:34.061569Z",
     "shell.execute_reply": "2023-09-16T04:26:34.060547Z",
     "shell.execute_reply.started": "2023-09-16T04:26:34.056116Z"
    },
    "tags": []
   },
   "outputs": [],
   "source": [
    "globalconfig = train_config()"
   ]
  },
  {
   "cell_type": "code",
   "execution_count": 52,
   "id": "f74328c0-f38c-4889-9aef-d3b12f01f98f",
   "metadata": {
    "execution": {
     "iopub.execute_input": "2023-09-16T04:26:54.261435Z",
     "iopub.status.busy": "2023-09-16T04:26:54.260754Z",
     "iopub.status.idle": "2023-09-16T04:26:54.267387Z",
     "shell.execute_reply": "2023-09-16T04:26:54.266283Z",
     "shell.execute_reply.started": "2023-09-16T04:26:54.261390Z"
    },
    "tags": []
   },
   "outputs": [],
   "source": [
    "globalconfig.quantization = False"
   ]
  },
  {
   "cell_type": "code",
   "execution_count": 42,
   "id": "a67f4270-85c8-40c7-b848-d5ce96ac4910",
   "metadata": {
    "execution": {
     "iopub.execute_input": "2023-09-16T04:26:34.073127Z",
     "iopub.status.busy": "2023-09-16T04:26:34.072363Z",
     "iopub.status.idle": "2023-09-16T04:26:34.082364Z",
     "shell.execute_reply": "2023-09-16T04:26:34.080601Z",
     "shell.execute_reply.started": "2023-09-16T04:26:34.073089Z"
    },
    "tags": []
   },
   "outputs": [],
   "source": [
    "globalconfig.device = \"cuda:0\""
   ]
  },
  {
   "cell_type": "code",
   "execution_count": 43,
   "id": "5c99e885-c730-4169-be5f-b0d354ec7adc",
   "metadata": {
    "execution": {
     "iopub.execute_input": "2023-09-16T04:26:34.086867Z",
     "iopub.status.busy": "2023-09-16T04:26:34.086371Z",
     "iopub.status.idle": "2023-09-16T04:26:34.092741Z",
     "shell.execute_reply": "2023-09-16T04:26:34.091629Z",
     "shell.execute_reply.started": "2023-09-16T04:26:34.086824Z"
    },
    "tags": []
   },
   "outputs": [],
   "source": [
    "globalconfig.profiler = False"
   ]
  },
  {
   "cell_type": "code",
   "execution_count": 65,
   "id": "5f53e05e-294a-4963-9888-84bec1fbc080",
   "metadata": {
    "execution": {
     "iopub.execute_input": "2023-09-16T04:42:01.488454Z",
     "iopub.status.busy": "2023-09-16T04:42:01.487816Z",
     "iopub.status.idle": "2023-09-16T04:42:01.493523Z",
     "shell.execute_reply": "2023-09-16T04:42:01.492483Z",
     "shell.execute_reply.started": "2023-09-16T04:42:01.488415Z"
    },
    "tags": []
   },
   "outputs": [],
   "source": [
    "globalconfig.output_dir = \"/bime-munin/xiruod/LoRA_BERT\""
   ]
  },
  {
   "cell_type": "code",
   "execution_count": 45,
   "id": "dad4eec5-7e20-4b2b-b4af-4dc457e328ca",
   "metadata": {
    "execution": {
     "iopub.execute_input": "2023-09-16T04:26:34.104962Z",
     "iopub.status.busy": "2023-09-16T04:26:34.104571Z",
     "iopub.status.idle": "2023-09-16T04:26:34.114085Z",
     "shell.execute_reply": "2023-09-16T04:26:34.112971Z",
     "shell.execute_reply.started": "2023-09-16T04:26:34.104931Z"
    }
   },
   "outputs": [],
   "source": [
    "globalconfig.model_id=\"bert-base-uncased\""
   ]
  },
  {
   "cell_type": "code",
   "execution_count": 46,
   "id": "6e7b0991-da38-4c5e-ac05-9a67a75a24b2",
   "metadata": {
    "execution": {
     "iopub.execute_input": "2023-09-16T04:26:34.116367Z",
     "iopub.status.busy": "2023-09-16T04:26:34.115779Z",
     "iopub.status.idle": "2023-09-16T04:26:34.130907Z",
     "shell.execute_reply": "2023-09-16T04:26:34.129870Z",
     "shell.execute_reply.started": "2023-09-16T04:26:34.116327Z"
    }
   },
   "outputs": [],
   "source": [
    "globalconfig.max_seq_length=512"
   ]
  },
  {
   "cell_type": "code",
   "execution_count": 47,
   "id": "74cf6ba4-d9de-4f8d-a86a-ab3e34cfff59",
   "metadata": {
    "execution": {
     "iopub.execute_input": "2023-09-16T04:26:34.132878Z",
     "iopub.status.busy": "2023-09-16T04:26:34.132321Z",
     "iopub.status.idle": "2023-09-16T04:26:34.141580Z",
     "shell.execute_reply": "2023-09-16T04:26:34.140272Z",
     "shell.execute_reply.started": "2023-09-16T04:26:34.132838Z"
    }
   },
   "outputs": [],
   "source": [
    "globalconfig.num_train_epochs=3"
   ]
  },
  {
   "cell_type": "code",
   "execution_count": 48,
   "id": "f56e203c-b7cc-4c79-9c54-806a77b69a56",
   "metadata": {
    "execution": {
     "iopub.execute_input": "2023-09-16T04:26:34.143307Z",
     "iopub.status.busy": "2023-09-16T04:26:34.142920Z",
     "iopub.status.idle": "2023-09-16T04:26:34.151668Z",
     "shell.execute_reply": "2023-09-16T04:26:34.150423Z",
     "shell.execute_reply.started": "2023-09-16T04:26:34.143274Z"
    },
    "tags": []
   },
   "outputs": [],
   "source": [
    "globalconfig.lr = 1e-4\n",
    "globalconfig.warmup_ratio = 0.1"
   ]
  },
  {
   "cell_type": "code",
   "execution_count": 49,
   "id": "71b8c267-31f5-49be-8f39-7264f6526a75",
   "metadata": {
    "execution": {
     "iopub.execute_input": "2023-09-16T04:26:34.154864Z",
     "iopub.status.busy": "2023-09-16T04:26:34.154443Z",
     "iopub.status.idle": "2023-09-16T04:26:34.162181Z",
     "shell.execute_reply": "2023-09-16T04:26:34.161165Z",
     "shell.execute_reply.started": "2023-09-16T04:26:34.154828Z"
    },
    "tags": []
   },
   "outputs": [],
   "source": [
    "globalconfig.runs=1"
   ]
  },
  {
   "cell_type": "code",
   "execution_count": null,
   "id": "53e5db91-0383-4664-97b3-f4e0c50d4dc6",
   "metadata": {},
   "outputs": [],
   "source": []
  },
  {
   "cell_type": "code",
   "execution_count": null,
   "id": "1fd3bc06-4912-4f46-9b81-7f1d11ed4a95",
   "metadata": {},
   "outputs": [],
   "source": []
  },
  {
   "cell_type": "code",
   "execution_count": null,
   "id": "97d05b04-a3f9-4be2-bc58-97b7e32ee0b4",
   "metadata": {},
   "outputs": [],
   "source": []
  },
  {
   "cell_type": "markdown",
   "id": "0f4d72f9-a9d6-4487-b7b9-e7da85ce97f3",
   "metadata": {},
   "source": [
    "## Load and Lora Init"
   ]
  },
  {
   "cell_type": "code",
   "execution_count": 50,
   "id": "e63bf15c-33f4-40cd-85ad-ecf65af22de8",
   "metadata": {
    "execution": {
     "iopub.execute_input": "2023-09-16T04:26:36.525819Z",
     "iopub.status.busy": "2023-09-16T04:26:36.525148Z",
     "iopub.status.idle": "2023-09-16T04:26:36.681534Z",
     "shell.execute_reply": "2023-09-16T04:26:36.680245Z",
     "shell.execute_reply.started": "2023-09-16T04:26:36.525724Z"
    },
    "tags": []
   },
   "outputs": [],
   "source": [
    "tokenizer = AutoTokenizer.from_pretrained(globalconfig.model_id)"
   ]
  },
  {
   "cell_type": "code",
   "execution_count": 51,
   "id": "b0d7eb2b-8e4f-407c-972f-0cfbed20bdfb",
   "metadata": {
    "execution": {
     "iopub.execute_input": "2023-09-16T04:26:37.395568Z",
     "iopub.status.busy": "2023-09-16T04:26:37.394965Z",
     "iopub.status.idle": "2023-09-16T04:26:38.721587Z",
     "shell.execute_reply": "2023-09-16T04:26:38.720840Z",
     "shell.execute_reply.started": "2023-09-16T04:26:37.395522Z"
    },
    "tags": []
   },
   "outputs": [
    {
     "name": "stderr",
     "output_type": "stream",
     "text": [
      "Some weights of BertForSequenceClassification were not initialized from the model checkpoint at bert-base-uncased and are newly initialized: ['classifier.bias', 'classifier.weight']\n",
      "You should probably TRAIN this model on a down-stream task to be able to use it for predictions and inference.\n"
     ]
    }
   ],
   "source": [
    "model = AutoModelForSequenceClassification.from_pretrained(globalconfig.model_id)"
   ]
  },
  {
   "cell_type": "code",
   "execution_count": 54,
   "id": "b1daaa14-1ac3-484c-be8d-ec811b1327be",
   "metadata": {
    "execution": {
     "iopub.execute_input": "2023-09-16T04:27:59.620869Z",
     "iopub.status.busy": "2023-09-16T04:27:59.620181Z",
     "iopub.status.idle": "2023-09-16T04:27:59.997606Z",
     "shell.execute_reply": "2023-09-16T04:27:59.996551Z",
     "shell.execute_reply.started": "2023-09-16T04:27:59.620827Z"
    },
    "tags": []
   },
   "outputs": [
    {
     "name": "stdout",
     "output_type": "stream",
     "text": [
      "trainable params: 297,988 || all params: 109,780,228 || trainable%: 0.27144050019644705\n"
     ]
    }
   ],
   "source": [
    "## Peft Config\n",
    "\n",
    "\n",
    "model, lora_config = create_peft_config(model)"
   ]
  },
  {
   "cell_type": "code",
   "execution_count": null,
   "id": "abd24022-da20-43fa-b37a-fdcf301cfdd2",
   "metadata": {
    "execution": {
     "iopub.execute_input": "2023-09-16T04:28:19.924891Z",
     "iopub.status.busy": "2023-09-16T04:28:19.924239Z",
     "iopub.status.idle": "2023-09-16T04:28:19.938471Z",
     "shell.execute_reply": "2023-09-16T04:28:19.937193Z",
     "shell.execute_reply.started": "2023-09-16T04:28:19.924838Z"
    },
    "tags": []
   },
   "outputs": [],
   "source": [
    "## Profiler\n",
    "\n",
    "output_dir = globalconfig.output_dir\n",
    "\n",
    "config = {\n",
    "    'lora_config': lora_config,\n",
    "    'learning_rate': globalconfig.lr,\n",
    "    'num_train_epochs': globalconfig.num_train_epochs,\n",
    "    'gradient_accumulation_steps': 2,\n",
    "    'per_device_train_batch_size': 8,\n",
    "    'per_device_eval_batch_size': 8,\n",
    "    'gradient_checkpointing': False,\n",
    "    'warmup_ratio':globalconfig.warmup_ratio,\n",
    "}\n",
    "\n",
    "# Set up profiler\n",
    "\n",
    "profiler = nullcontext()"
   ]
  },
  {
   "cell_type": "code",
   "execution_count": null,
   "id": "d0f31f5c-05ac-48c2-aab7-0ae393a17947",
   "metadata": {},
   "outputs": [],
   "source": []
  },
  {
   "cell_type": "code",
   "execution_count": null,
   "id": "86df4a7a-25aa-4594-b248-cc94140b413c",
   "metadata": {},
   "outputs": [],
   "source": []
  },
  {
   "cell_type": "code",
   "execution_count": null,
   "id": "81b4e95a-86ca-4057-9ca0-624bd6ab124d",
   "metadata": {},
   "outputs": [],
   "source": []
  },
  {
   "cell_type": "markdown",
   "id": "c7c7df32-5820-441e-a725-8e7e287e34d7",
   "metadata": {
    "tags": []
   },
   "source": [
    "## Run - for One Experiment"
   ]
  },
  {
   "cell_type": "code",
   "execution_count": 72,
   "id": "32422792-42a4-49bb-9c51-036fff31b78c",
   "metadata": {
    "execution": {
     "iopub.execute_input": "2023-09-16T04:45:09.991888Z",
     "iopub.status.busy": "2023-09-16T04:45:09.991538Z",
     "iopub.status.idle": "2023-09-16T04:45:09.998187Z",
     "shell.execute_reply": "2023-09-16T04:45:09.996855Z",
     "shell.execute_reply.started": "2023-09-16T04:45:09.991858Z"
    },
    "tags": []
   },
   "outputs": [
    {
     "data": {
      "text/plain": [
       "21927"
      ]
     },
     "execution_count": 72,
     "metadata": {},
     "output_type": "execute_result"
    }
   ],
   "source": [
    "len(valid_n_full_settings)"
   ]
  },
  {
   "cell_type": "code",
   "execution_count": 67,
   "id": "2a56af29-1aea-4611-ab18-1be60a9788f0",
   "metadata": {
    "execution": {
     "iopub.execute_input": "2023-09-16T04:42:50.839706Z",
     "iopub.status.busy": "2023-09-16T04:42:50.839070Z",
     "iopub.status.idle": "2023-09-16T04:42:51.524905Z",
     "shell.execute_reply": "2023-09-16T04:42:51.523934Z",
     "shell.execute_reply.started": "2023-09-16T04:42:50.839657Z"
    },
    "tags": []
   },
   "outputs": [
    {
     "name": "stdout",
     "output_type": "stream",
     "text": [
      "Balanced? Check setting....\n",
      "{'n_train': 800, 'n_test': 200, 'n_z0_pos_train': 20, 'n_z0_neg_train': 180, 'n_z0_pos_test': 11, 'n_z0_neg_test': 39, 'n_z1_pos_train': 120, 'n_z1_neg_train': 480, 'n_z1_pos_test': 24, 'n_z1_neg_test': 126, 'mix_param_dict': {'p_pos_train_z0': 0.1, 'p_pos_train_z1': 0.2, 'p_pos_train': 0.17500000000000002, 'p_pos_test': 0.17500000000000002, 'p_mix_z0': 0.25, 'p_mix_z1': 0.75, 'alpha_train': 2.0, 'alpha_test': 0.7513148009015775, 'p_pos_test_z0': 0.21512352805356738, 'p_pos_test_z1': 0.1616254906488109, 'C_y': 0.17500000000000002, 'C_z': 0.75}}\n"
     ]
    },
    {
     "data": {
      "application/vnd.jupyter.widget-view+json": {
       "model_id": "62754426eeee4d88b4e0c370584c3dbe",
       "version_major": 2,
       "version_minor": 0
      },
      "text/plain": [
       "Map:   0%|          | 0/800 [00:00<?, ? examples/s]"
      ]
     },
     "metadata": {},
     "output_type": "display_data"
    },
    {
     "data": {
      "application/vnd.jupyter.widget-view+json": {
       "model_id": "d7cc7134422247959ca7f84412d20e7a",
       "version_major": 2,
       "version_minor": 0
      },
      "text/plain": [
       "Map:   0%|          | 0/200 [00:00<?, ? examples/s]"
      ]
     },
     "metadata": {},
     "output_type": "display_data"
    }
   ],
   "source": [
    "\n",
    "##### Experiment - ONLY One Setting\n",
    "pick_C = 219\n",
    "\n",
    "c = valid_n_full_settings[pick_C]\n",
    "print(\"Balanced? Check setting....\")\n",
    "print(c)\n",
    "dfs = create_mix(df0=df0, df1=df1, target=label, setting=c, sample=False, \n",
    "                 # seed=random.randint(0,1000),\n",
    "                 seed=222\n",
    "                )\n",
    "\n",
    "tokenized_train = datasets_loader(dfs['train'])\n",
    "tokenized_test = datasets_loader(dfs['test'])\n"
   ]
  },
  {
   "cell_type": "code",
   "execution_count": 68,
   "id": "dbd1f4f6-a1ce-4db2-864d-7ba2a5e2cb16",
   "metadata": {
    "execution": {
     "iopub.execute_input": "2023-09-16T04:42:52.274093Z",
     "iopub.status.busy": "2023-09-16T04:42:52.273362Z",
     "iopub.status.idle": "2023-09-16T04:42:52.287615Z",
     "shell.execute_reply": "2023-09-16T04:42:52.286131Z",
     "shell.execute_reply.started": "2023-09-16T04:42:52.274050Z"
    },
    "tags": []
   },
   "outputs": [],
   "source": [
    "# Define training args\n",
    "training_args = TrainingArguments(\n",
    "    output_dir=output_dir,\n",
    "    overwrite_output_dir=True,\n",
    "    bf16=globalconfig.quantization,  # Use BF16 if available\n",
    "    # logging strategies\n",
    "    logging_dir=f\"{output_dir}/logs\",\n",
    "    logging_strategy=\"steps\",\n",
    "    logging_steps=10,\n",
    "    save_strategy=\"no\",\n",
    "    optim=\"adamw_torch_fused\" if globalconfig.quantization else \"adamw_torch\",\n",
    "    max_steps=total_steps if enable_profiler else -1,\n",
    "    # max_steps=50,\n",
    "\n",
    "    **{k:v for k,v in config.items() if k != 'lora_config'}\n",
    ")"
   ]
  },
  {
   "cell_type": "code",
   "execution_count": null,
   "id": "a4e9e86d-3400-40c9-9d37-74006fb27bdd",
   "metadata": {
    "tags": []
   },
   "outputs": [],
   "source": [
    "with profiler:\n",
    "    # Create Trainer instance\n",
    "    trainer = Trainer(\n",
    "        model=model,\n",
    "        args=training_args,\n",
    "        train_dataset=tokenized_train,\n",
    "        eval_dataset=tokenized_test,\n",
    "        data_collator=default_data_collator,\n",
    "        tokenizer=tokenizer,\n",
    "        compute_metrics=compute_metrics_twoLevels,\n",
    "        callbacks=[profiler_callback] if enable_profiler else [],\n",
    "    )\n",
    "\n",
    "    # Start training\n",
    "    ret_train = trainer.train()\n",
    "    ret_eval = trainer.evaluate()\n",
    "\n",
    "# save metrics\n",
    "ret = c\n",
    "ret.update(ret_eval)\n",
    "ret.update(ret_train.metrics)\n",
    "trainer.save_metrics(split=\"all\", metrics=ret)\n",
    "\n",
    "ret_code = 1\n",
    "\n",
    "model.save_pretrained(output_dir)"
   ]
  },
  {
   "cell_type": "code",
   "execution_count": null,
   "id": "70c3a5ea-5543-4988-b2ef-86bd0c8bd1d2",
   "metadata": {},
   "outputs": [],
   "source": []
  },
  {
   "cell_type": "code",
   "execution_count": null,
   "id": "2ebcda09-1b1a-4269-b37f-e0350c6200de",
   "metadata": {},
   "outputs": [],
   "source": []
  }
 ],
 "metadata": {
  "kernelspec": {
   "display_name": "Python 3 (ipykernel)",
   "language": "python",
   "name": "python3"
  },
  "language_info": {
   "codemirror_mode": {
    "name": "ipython",
    "version": 3
   },
   "file_extension": ".py",
   "mimetype": "text/x-python",
   "name": "python",
   "nbconvert_exporter": "python",
   "pygments_lexer": "ipython3",
   "version": "3.9.17"
  }
 },
 "nbformat": 4,
 "nbformat_minor": 5
}
