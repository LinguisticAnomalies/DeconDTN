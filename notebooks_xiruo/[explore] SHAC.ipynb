{
 "cells": [
  {
   "cell_type": "code",
   "execution_count": 1,
   "id": "95a65d9c-f7ce-4dec-b888-aa5dcbd1efd9",
   "metadata": {
    "execution": {
     "iopub.execute_input": "2023-01-11T17:34:11.565221Z",
     "iopub.status.busy": "2023-01-11T17:34:11.564252Z",
     "iopub.status.idle": "2023-01-11T17:34:11.860314Z",
     "shell.execute_reply": "2023-01-11T17:34:11.859024Z",
     "shell.execute_reply.started": "2023-01-11T17:34:11.565030Z"
    },
    "tags": []
   },
   "outputs": [],
   "source": [
    "import numpy as np\n",
    "import pandas as pd"
   ]
  },
  {
   "cell_type": "code",
   "execution_count": 2,
   "id": "f6cecd51-eb21-45fa-b529-e3f666e8ae55",
   "metadata": {
    "execution": {
     "iopub.execute_input": "2023-01-11T17:34:11.861530Z",
     "iopub.status.busy": "2023-01-11T17:34:11.861283Z",
     "iopub.status.idle": "2023-01-11T17:34:11.866697Z",
     "shell.execute_reply": "2023-01-11T17:34:11.865016Z",
     "shell.execute_reply.started": "2023-01-11T17:34:11.861511Z"
    },
    "tags": []
   },
   "outputs": [],
   "source": [
    "import os\n",
    "import glob\n",
    "import re\n",
    "from collections import Counter"
   ]
  },
  {
   "cell_type": "code",
   "execution_count": 3,
   "id": "c9e28bda-2b55-402f-8676-789d996a9cf6",
   "metadata": {
    "execution": {
     "iopub.execute_input": "2023-01-11T17:34:12.133653Z",
     "iopub.status.busy": "2023-01-11T17:34:12.132965Z",
     "iopub.status.idle": "2023-01-11T17:34:12.214565Z",
     "shell.execute_reply": "2023-01-11T17:34:12.212853Z",
     "shell.execute_reply.started": "2023-01-11T17:34:12.133591Z"
    },
    "tags": []
   },
   "outputs": [],
   "source": [
    "txt_files = []\n",
    "for _ in glob.glob(\"/edata/xiruod/SocialDeterminants_SHAC_n2c2_2022/n2c2_sdoh_challenge/*/*/*.txt\"):\n",
    "    txt_files.append(_)"
   ]
  },
  {
   "cell_type": "code",
   "execution_count": 4,
   "id": "b989d494-069d-4f3c-9273-a1a97a7bfbab",
   "metadata": {
    "execution": {
     "iopub.execute_input": "2023-01-11T17:34:13.686206Z",
     "iopub.status.busy": "2023-01-11T17:34:13.685439Z",
     "iopub.status.idle": "2023-01-11T17:34:13.705926Z",
     "shell.execute_reply": "2023-01-11T17:34:13.704778Z",
     "shell.execute_reply.started": "2023-01-11T17:34:13.686142Z"
    },
    "tags": []
   },
   "outputs": [
    {
     "data": {
      "text/plain": [
       "4405"
      ]
     },
     "execution_count": 4,
     "metadata": {},
     "output_type": "execute_result"
    }
   ],
   "source": [
    "len(txt_files)"
   ]
  },
  {
   "cell_type": "code",
   "execution_count": null,
   "id": "3dbd6181-f33f-49b8-8774-5a699bf08012",
   "metadata": {},
   "outputs": [],
   "source": []
  },
  {
   "cell_type": "markdown",
   "id": "7e57ba1f-44b1-4fac-9518-e71fc07e0505",
   "metadata": {},
   "source": [
    "# Txt Reader"
   ]
  },
  {
   "cell_type": "code",
   "execution_count": 5,
   "id": "0c07ec3f-d903-472c-9b0b-091a093f4610",
   "metadata": {
    "execution": {
     "iopub.execute_input": "2023-01-11T17:34:15.117551Z",
     "iopub.status.busy": "2023-01-11T17:34:15.116905Z",
     "iopub.status.idle": "2023-01-11T17:34:17.227104Z",
     "shell.execute_reply": "2023-01-11T17:34:17.224083Z",
     "shell.execute_reply.started": "2023-01-11T17:34:15.117498Z"
    },
    "tags": []
   },
   "outputs": [],
   "source": [
    "list_txt = []\n",
    "for _file in txt_files:\n",
    "    with open(_file) as f:\n",
    "        list_txt.append(f.read())\n",
    "        # list_txt.append(\"\".join((f.readlines())))"
   ]
  },
  {
   "cell_type": "code",
   "execution_count": null,
   "id": "c6bd6434-9971-4206-ab88-0ff434b088c9",
   "metadata": {},
   "outputs": [],
   "source": []
  },
  {
   "cell_type": "markdown",
   "id": "23ecbd5e-8e41-44ca-9014-b4f64697d2d0",
   "metadata": {},
   "source": [
    "Total Number of \"txt\" files:"
   ]
  },
  {
   "cell_type": "code",
   "execution_count": 6,
   "id": "8ea48bc1-b7c7-4ef9-9c3e-db1c845d7814",
   "metadata": {
    "execution": {
     "iopub.execute_input": "2023-01-11T17:34:17.231182Z",
     "iopub.status.busy": "2023-01-11T17:34:17.230660Z",
     "iopub.status.idle": "2023-01-11T17:34:17.239553Z",
     "shell.execute_reply": "2023-01-11T17:34:17.238454Z",
     "shell.execute_reply.started": "2023-01-11T17:34:17.231132Z"
    },
    "tags": []
   },
   "outputs": [
    {
     "data": {
      "text/plain": [
       "4405"
      ]
     },
     "execution_count": 6,
     "metadata": {},
     "output_type": "execute_result"
    }
   ],
   "source": [
    "len(list_txt)"
   ]
  },
  {
   "cell_type": "code",
   "execution_count": 7,
   "id": "eecabedc-b03d-4486-9e7a-943bc1645c8d",
   "metadata": {
    "execution": {
     "iopub.execute_input": "2023-01-11T17:34:17.241387Z",
     "iopub.status.busy": "2023-01-11T17:34:17.241069Z",
     "iopub.status.idle": "2023-01-11T17:34:17.251344Z",
     "shell.execute_reply": "2023-01-11T17:34:17.250330Z",
     "shell.execute_reply.started": "2023-01-11T17:34:17.241359Z"
    },
    "tags": []
   },
   "outputs": [
    {
     "data": {
      "text/plain": [
       "['HABITS: \\nTobacco Use: none   Alcohol Use: quit 15 yrs ago   Drug Use: none\\n\\nSOCIAL HISTORY: \\nObtained from wife\\nLives with wife outside of [LOCATION]. Previously worked in farming. Originally from [LOCATION], in [LOCATION] for 20+ yrs. 5 children and 3 grandchildren.',\n",
       " 'Social History:\\nTobacco: Denies\\nEtOH: Denies\\nDrugs: Denies\\nOther:_\\nSocial History:\\nTobacco: Denies\\nEtOH: Denies\\nDrugs: Denies\\nOther:_\\nSocial History:\\nTobacco: Denies\\nEtOH: Denies\\nDrugs: Denies\\nOther:_',\n",
       " 'SOCIAL HISTORY:\\nFrom [LOCATION], traveled to [LOCATION] 6 months ago. Accompanied by a friend.']"
      ]
     },
     "execution_count": 7,
     "metadata": {},
     "output_type": "execute_result"
    }
   ],
   "source": [
    "list_txt[:3]"
   ]
  },
  {
   "cell_type": "markdown",
   "id": "ea4915c0-eeaf-4019-a644-ede17408380a",
   "metadata": {},
   "source": [
    "How many start with \"social history:\""
   ]
  },
  {
   "cell_type": "code",
   "execution_count": 8,
   "id": "1464177c-5820-4781-8dac-300dbcf686e9",
   "metadata": {
    "execution": {
     "iopub.execute_input": "2023-01-11T17:34:17.253257Z",
     "iopub.status.busy": "2023-01-11T17:34:17.252835Z",
     "iopub.status.idle": "2023-01-11T17:34:17.272301Z",
     "shell.execute_reply": "2023-01-11T17:34:17.271337Z",
     "shell.execute_reply.started": "2023-01-11T17:34:17.253219Z"
    },
    "tags": []
   },
   "outputs": [
    {
     "data": {
      "text/plain": [
       "3241"
      ]
     },
     "execution_count": 8,
     "metadata": {},
     "output_type": "execute_result"
    }
   ],
   "source": [
    "len([x for x in list_txt if re.match(\"^social history:\", x, re.I)])"
   ]
  },
  {
   "cell_type": "code",
   "execution_count": null,
   "id": "263137b5-dd7c-4d0f-aa74-8b14a09cb311",
   "metadata": {},
   "outputs": [],
   "source": []
  },
  {
   "cell_type": "code",
   "execution_count": null,
   "id": "86d207a2-f95e-45b6-a59f-e86ae83d8fa5",
   "metadata": {},
   "outputs": [],
   "source": []
  },
  {
   "cell_type": "code",
   "execution_count": null,
   "id": "086f0b11-c408-4ba6-a18b-984be606897f",
   "metadata": {},
   "outputs": [],
   "source": []
  },
  {
   "cell_type": "code",
   "execution_count": 9,
   "id": "3649ff21-4029-4bc3-81ad-8b07f339f1b5",
   "metadata": {
    "execution": {
     "iopub.execute_input": "2023-01-11T17:34:22.782060Z",
     "iopub.status.busy": "2023-01-11T17:34:22.781174Z",
     "iopub.status.idle": "2023-01-11T17:34:22.802165Z",
     "shell.execute_reply": "2023-01-11T17:34:22.801428Z",
     "shell.execute_reply.started": "2023-01-11T17:34:22.781988Z"
    },
    "tags": []
   },
   "outputs": [
    {
     "data": {
      "text/plain": [
       "['Social History : \\n(per chart review)\\nHomeless, moved up from [LOCATION] in [DATE]\\nDrinks 3-4 cans of beer per week. No smoking or illicit drug use\\n\\nPer PCP note in [DATE]\\n\\x9dHe denies ever smoking or using illicit drugs. He has been drinking 2-3 large beers/day since his 20s. Denies needing an eye opener, does not feel guilty about his drinking. \\nMr. [NAME] was born in [LOCATION]. His parents died early and he lived in an orphanage until age 6, when he was adopted.He states that his adoptive parents treated him well. At age 14 he stole a car, and spent 7 years in juvenile detention. He was homeless at that point and travelled around the country. In 1983, he was accused of raping his girlfriend, found guilty and spent 20 years in jail. He briefly lived in an apartment with roommates but that burned down, and he has been homeless ever since. He has been in [LOCATION] for about one year, lived in the Union Gospel shelter and under the bridges until 1.5 months ago when he came to Blaine shelter. Case manager is [NAME].\\nA']"
      ]
     },
     "execution_count": 9,
     "metadata": {},
     "output_type": "execute_result"
    }
   ],
   "source": [
    "([x for x in list_txt if re.match(\"^social history \", x, re.I)])"
   ]
  },
  {
   "cell_type": "code",
   "execution_count": 10,
   "id": "2eee03a4-5fd3-4f00-9ce3-32b68b03c7f3",
   "metadata": {
    "execution": {
     "iopub.execute_input": "2023-01-11T17:34:23.659840Z",
     "iopub.status.busy": "2023-01-11T17:34:23.658858Z",
     "iopub.status.idle": "2023-01-11T17:34:23.680316Z",
     "shell.execute_reply": "2023-01-11T17:34:23.679065Z",
     "shell.execute_reply.started": "2023-01-11T17:34:23.659767Z"
    },
    "tags": []
   },
   "outputs": [
    {
     "data": {
      "text/plain": [
       "Counter({'HABITS': 966,\n",
       "         'Social History': 1868,\n",
       "         'SOCIAL HISTORY': 1359,\n",
       "         'Social history': 14,\n",
       "         'Soc history': 2,\n",
       "         'Soc Hx': 29,\n",
       "         'SH': 56,\n",
       "         'SocHx': 22,\n",
       "         'Social Hx': 21,\n",
       "         'Social History ': 1,\n",
       "         'SHx': 6,\n",
       "         'Habits': 14,\n",
       "         'Soc': 8,\n",
       "         'SOCIAL': 14,\n",
       "         'Social': 9,\n",
       "         'PAST SOCIAL HISTORY': 2,\n",
       "         'SOC': 1,\n",
       "         'SOCIAL HX': 6,\n",
       "         'Pertinent Social History': 2,\n",
       "         'SOCIAL Hx': 1,\n",
       "         'Soc HX': 2,\n",
       "         'SOCHX': 1,\n",
       "         'FAMILY/SOCIAL HISTORY': 1})"
      ]
     },
     "execution_count": 10,
     "metadata": {},
     "output_type": "execute_result"
    }
   ],
   "source": [
    "c = Counter([x.split(\":\")[0] for x in list_txt])\n",
    "c"
   ]
  },
  {
   "cell_type": "code",
   "execution_count": 11,
   "id": "3bb9f3aa-8c3e-4bbc-bde1-8eb2c6cf668c",
   "metadata": {
    "execution": {
     "iopub.execute_input": "2023-01-11T17:34:24.233841Z",
     "iopub.status.busy": "2023-01-11T17:34:24.233054Z",
     "iopub.status.idle": "2023-01-11T17:34:24.243011Z",
     "shell.execute_reply": "2023-01-11T17:34:24.241611Z",
     "shell.execute_reply.started": "2023-01-11T17:34:24.233771Z"
    },
    "tags": []
   },
   "outputs": [
    {
     "data": {
      "text/plain": [
       "4405"
      ]
     },
     "execution_count": 11,
     "metadata": {},
     "output_type": "execute_result"
    }
   ],
   "source": [
    "sum(c.values())"
   ]
  },
  {
   "cell_type": "markdown",
   "id": "cfa5dbbf-93e9-44d2-ac7c-c0e20437b96b",
   "metadata": {},
   "source": [
    "# Annotation Reader"
   ]
  },
  {
   "cell_type": "code",
   "execution_count": 12,
   "id": "625f70c6-3e1c-4a94-a602-6fade5875e39",
   "metadata": {
    "execution": {
     "iopub.execute_input": "2023-01-11T17:34:25.561509Z",
     "iopub.status.busy": "2023-01-11T17:34:25.560890Z",
     "iopub.status.idle": "2023-01-11T17:34:25.566676Z",
     "shell.execute_reply": "2023-01-11T17:34:25.565469Z",
     "shell.execute_reply.started": "2023-01-11T17:34:25.561458Z"
    },
    "tags": []
   },
   "outputs": [],
   "source": [
    "file_group = \"dev/mimic\""
   ]
  },
  {
   "cell_type": "code",
   "execution_count": 13,
   "id": "24d5716e-2aaa-4023-92e7-7f1084ff7037",
   "metadata": {
    "execution": {
     "iopub.execute_input": "2023-01-11T17:34:26.266845Z",
     "iopub.status.busy": "2023-01-11T17:34:26.265917Z",
     "iopub.status.idle": "2023-01-11T17:34:26.277182Z",
     "shell.execute_reply": "2023-01-11T17:34:26.275454Z",
     "shell.execute_reply.started": "2023-01-11T17:34:26.266771Z"
    },
    "tags": []
   },
   "outputs": [],
   "source": [
    "annotation_files = glob.glob(os.path.join(\"/edata/xiruod/SocialDeterminants_SHAC_n2c2_2022/n2c2_sdoh_challenge\", file_group, \"*.ann\"))"
   ]
  },
  {
   "cell_type": "code",
   "execution_count": 14,
   "id": "15176d9e-7475-42ee-8508-19cc9b4b2186",
   "metadata": {
    "execution": {
     "iopub.execute_input": "2023-01-11T17:34:28.670500Z",
     "iopub.status.busy": "2023-01-11T17:34:28.669626Z",
     "iopub.status.idle": "2023-01-11T17:34:28.677185Z",
     "shell.execute_reply": "2023-01-11T17:34:28.675389Z",
     "shell.execute_reply.started": "2023-01-11T17:34:28.670428Z"
    },
    "tags": []
   },
   "outputs": [],
   "source": [
    "_file = '/edata/xiruod/SocialDeterminants_SHAC_n2c2_2022/n2c2_sdoh_challenge/dev/mimic/0453.ann'"
   ]
  },
  {
   "cell_type": "code",
   "execution_count": 15,
   "id": "4afe331d-3560-40bc-b3d9-89e6bef83e6b",
   "metadata": {
    "execution": {
     "iopub.execute_input": "2023-01-11T17:34:28.848545Z",
     "iopub.status.busy": "2023-01-11T17:34:28.847911Z",
     "iopub.status.idle": "2023-01-11T17:34:28.854372Z",
     "shell.execute_reply": "2023-01-11T17:34:28.852773Z",
     "shell.execute_reply.started": "2023-01-11T17:34:28.848488Z"
    },
    "tags": []
   },
   "outputs": [],
   "source": [
    "_file = '/edata/xiruod/SocialDeterminants_SHAC_n2c2_2022/n2c2_sdoh_challenge/dev/mimic/0460.ann'"
   ]
  },
  {
   "cell_type": "code",
   "execution_count": 16,
   "id": "63ffd54f-0fd7-418c-ac41-b91d68dd7b08",
   "metadata": {
    "execution": {
     "iopub.execute_input": "2023-01-11T17:34:29.226577Z",
     "iopub.status.busy": "2023-01-11T17:34:29.225812Z",
     "iopub.status.idle": "2023-01-11T17:34:29.235467Z",
     "shell.execute_reply": "2023-01-11T17:34:29.234134Z",
     "shell.execute_reply.started": "2023-01-11T17:34:29.226511Z"
    },
    "tags": []
   },
   "outputs": [
    {
     "data": {
      "text/plain": [
       "'/edata/xiruod/SocialDeterminants_SHAC_n2c2_2022/n2c2_sdoh_challenge/dev/mimic/0460.ann'"
      ]
     },
     "execution_count": 16,
     "metadata": {},
     "output_type": "execute_result"
    }
   ],
   "source": [
    "_file"
   ]
  },
  {
   "cell_type": "code",
   "execution_count": 17,
   "id": "c5d92c99-9167-47e1-84e9-9a74203c3e62",
   "metadata": {
    "execution": {
     "iopub.execute_input": "2023-01-11T17:34:29.763590Z",
     "iopub.status.busy": "2023-01-11T17:34:29.763189Z",
     "iopub.status.idle": "2023-01-11T17:34:29.769388Z",
     "shell.execute_reply": "2023-01-11T17:34:29.767819Z",
     "shell.execute_reply.started": "2023-01-11T17:34:29.763558Z"
    },
    "tags": []
   },
   "outputs": [],
   "source": [
    "with open(_file) as f:\n",
    "    tmp = f.read().splitlines() "
   ]
  },
  {
   "cell_type": "markdown",
   "id": "e4995102-0294-4499-98c0-0cfc0d9fedab",
   "metadata": {},
   "source": [
    "## Put Into Function"
   ]
  },
  {
   "cell_type": "code",
   "execution_count": 18,
   "id": "1caefbd2-d70b-41e3-a553-236838986f50",
   "metadata": {
    "execution": {
     "iopub.execute_input": "2023-01-11T17:34:31.947899Z",
     "iopub.status.busy": "2023-01-11T17:34:31.947015Z",
     "iopub.status.idle": "2023-01-11T17:34:31.959024Z",
     "shell.execute_reply": "2023-01-11T17:34:31.957366Z",
     "shell.execute_reply.started": "2023-01-11T17:34:31.947828Z"
    },
    "tags": []
   },
   "outputs": [],
   "source": [
    "def getEventTriggerStatusCode(event_line):\n",
    "    _ = event_line.split(\"\\t\")[1].split(\" \")\n",
    "    \n",
    "    ret = {}\n",
    "    ret['Event'] = _[0].split(\":\")[0]\n",
    "    \n",
    "    for s in _:\n",
    "        if s.startswith(\"Status\"):\n",
    "            ret['StatusCode'] = s.split(\":\")[1]\n",
    "            break\n",
    "        else:\n",
    "            ret['StatusCode'] = \"\"\n",
    "    \n",
    "    return ret"
   ]
  },
  {
   "cell_type": "code",
   "execution_count": 19,
   "id": "b1e245f5-87b1-4a50-af75-ad9461902f02",
   "metadata": {
    "execution": {
     "iopub.execute_input": "2023-01-11T17:34:32.351783Z",
     "iopub.status.busy": "2023-01-11T17:34:32.351439Z",
     "iopub.status.idle": "2023-01-11T17:34:32.357876Z",
     "shell.execute_reply": "2023-01-11T17:34:32.356561Z",
     "shell.execute_reply.started": "2023-01-11T17:34:32.351754Z"
    },
    "tags": []
   },
   "outputs": [],
   "source": [
    "def translateStatusCode(attribute, statusCode):\n",
    "    \n",
    "    for a in attribute:\n",
    "        if a.split(\" \")[1] == statusCode:\n",
    "            codeName = a.split(\" \")[-1]\n",
    "            break\n",
    "        else:\n",
    "            codeName = \"\"\n",
    "    \n",
    "    return codeName\n",
    "     "
   ]
  },
  {
   "cell_type": "code",
   "execution_count": 20,
   "id": "c3d5e3c0-d5af-4a25-bf91-51efe932c844",
   "metadata": {
    "execution": {
     "iopub.execute_input": "2023-01-11T17:34:33.014090Z",
     "iopub.status.busy": "2023-01-11T17:34:33.013320Z",
     "iopub.status.idle": "2023-01-11T17:34:33.028730Z",
     "shell.execute_reply": "2023-01-11T17:34:33.026963Z",
     "shell.execute_reply.started": "2023-01-11T17:34:33.014021Z"
    },
    "tags": []
   },
   "outputs": [],
   "source": [
    "def findEventAttribute(annotation_text):\n",
    "    _T = []\n",
    "    _E = []\n",
    "    _A = []\n",
    "    \n",
    "    events = ['Drug','Alcohol','Tobacco']\n",
    "    \n",
    "    ret = {}\n",
    "    \n",
    "    for _ in annotation_text:\n",
    "        if _.startswith(\"T\"):\n",
    "            _T.append(_.split(\"\\t\")[0])\n",
    "        elif _.startswith(\"E\"):\n",
    "            _E.append(_)\n",
    "        elif _.startswith(\"A\"):\n",
    "            _A.append(_)\n",
    "        \n",
    "    for e in events:\n",
    "        ret[e] = []\n",
    "        \n",
    "        for _event_line in _E:\n",
    "            etsc = getEventTriggerStatusCode(event_line=_event_line)\n",
    "            if etsc['Event'] == e:\n",
    "                status = translateStatusCode(attribute=_A, statusCode=etsc['StatusCode'])\n",
    "                if status != \"\":\n",
    "                    ret[e].append(status)\n",
    "                \n",
    "    return ret\n",
    "                \n",
    "                \n",
    "                \n",
    "                \n",
    "                "
   ]
  },
  {
   "cell_type": "code",
   "execution_count": 21,
   "id": "9cab7330-9fa5-45ab-bb03-9f72e7fb0e72",
   "metadata": {
    "execution": {
     "iopub.execute_input": "2023-01-11T17:34:40.798227Z",
     "iopub.status.busy": "2023-01-11T17:34:40.797391Z",
     "iopub.status.idle": "2023-01-11T17:34:40.809777Z",
     "shell.execute_reply": "2023-01-11T17:34:40.808118Z",
     "shell.execute_reply.started": "2023-01-11T17:34:40.798158Z"
    },
    "tags": []
   },
   "outputs": [],
   "source": [
    "def runEventRetriever(base_dir, file_group):\n",
    "    ret = {}\n",
    "    \n",
    "    annotation_files = glob.glob(os.path.join(base_dir, file_group, \"*.ann\"))\n",
    "    \n",
    "    \n",
    "    for _file in annotation_files:\n",
    "        file_id = os.path.basename(_file.split(\".\")[0])\n",
    "        \n",
    "        with open(_file) as f:\n",
    "            tmp = f.read().splitlines()\n",
    "\n",
    "        ret[file_id] = findEventAttribute(annotation_text=tmp)\n",
    "    \n",
    "    return ret"
   ]
  },
  {
   "cell_type": "code",
   "execution_count": 22,
   "id": "64fe3e7d-4c19-44da-bb9e-06f90b4a7716",
   "metadata": {
    "execution": {
     "iopub.execute_input": "2023-01-11T17:34:41.007459Z",
     "iopub.status.busy": "2023-01-11T17:34:41.006853Z",
     "iopub.status.idle": "2023-01-11T17:34:41.017541Z",
     "shell.execute_reply": "2023-01-11T17:34:41.016247Z",
     "shell.execute_reply.started": "2023-01-11T17:34:41.007405Z"
    },
    "tags": []
   },
   "outputs": [],
   "source": [
    "def getBinaryLabel(pt_event_attribute):\n",
    "    ret = {}\n",
    "    for k,v in pt_event_attribute.items():\n",
    "        _ret_event = {}\n",
    "        for ek, ev in v.items():\n",
    "            attributes = set(ev)\n",
    "            if len(attributes) == 0:\n",
    "                binarylabel = np.nan\n",
    "            elif (\"current\" in attributes) or (\"past\" in attributes):\n",
    "                binarylabel = True\n",
    "            else:\n",
    "                binarylabel = False\n",
    "                \n",
    "            _ret_event[ek] = binarylabel\n",
    "            \n",
    "        ret[k] = _ret_event\n",
    "        \n",
    "    return ret"
   ]
  },
  {
   "cell_type": "code",
   "execution_count": 23,
   "id": "f16818d7-bc7f-49af-bad9-73d20ba3a088",
   "metadata": {
    "execution": {
     "iopub.execute_input": "2023-01-11T17:34:41.884612Z",
     "iopub.status.busy": "2023-01-11T17:34:41.883840Z",
     "iopub.status.idle": "2023-01-11T17:34:41.896039Z",
     "shell.execute_reply": "2023-01-11T17:34:41.894250Z",
     "shell.execute_reply.started": "2023-01-11T17:34:41.884544Z"
    },
    "tags": []
   },
   "outputs": [],
   "source": [
    "def getPatientLabel(base_dir, file_group):\n",
    "    events = ['Drug','Alcohol','Tobacco']\n",
    "    pt_event_attribute = runEventRetriever(base_dir=base_dir, file_group=file_group)\n",
    "    pt_event_BLabel = getBinaryLabel(pt_event_attribute=pt_event_attribute)\n",
    "\n",
    "    df = pd.DataFrame(pt_event_BLabel).T.reset_index().rename(columns={\"index\":\"id\"})\n",
    "    \n",
    "    df['SubstanceAgg'] = df[events].sum(axis=1).astype(bool)\n",
    "    \n",
    "    return df"
   ]
  },
  {
   "cell_type": "code",
   "execution_count": null,
   "id": "3524efee-b03e-4447-aeda-47bab901d866",
   "metadata": {},
   "outputs": [],
   "source": []
  },
  {
   "cell_type": "code",
   "execution_count": null,
   "id": "db46f81c-5a5f-420f-a94c-e8ced26feb84",
   "metadata": {},
   "outputs": [],
   "source": []
  },
  {
   "cell_type": "markdown",
   "id": "69efe112-5874-44b8-97bd-f150dfaec59e",
   "metadata": {},
   "source": [
    "## Some testing"
   ]
  },
  {
   "cell_type": "code",
   "execution_count": null,
   "id": "be29ea34-c93a-49e7-925b-78f7f9a41389",
   "metadata": {},
   "outputs": [],
   "source": []
  },
  {
   "cell_type": "code",
   "execution_count": 24,
   "id": "941e8f92-7a2a-4b3b-9a37-040c8e3b7351",
   "metadata": {
    "execution": {
     "iopub.execute_input": "2023-01-11T17:34:52.940920Z",
     "iopub.status.busy": "2023-01-11T17:34:52.940086Z",
     "iopub.status.idle": "2023-01-11T17:34:52.950574Z",
     "shell.execute_reply": "2023-01-11T17:34:52.949116Z",
     "shell.execute_reply.started": "2023-01-11T17:34:52.940850Z"
    },
    "tags": []
   },
   "outputs": [
    {
     "data": {
      "text/plain": [
       "{'Event': 'Tobacco', 'StatusCode': 'T4'}"
      ]
     },
     "execution_count": 24,
     "metadata": {},
     "output_type": "execute_result"
    }
   ],
   "source": [
    "getEventTriggerStatusCode('E1\\tTobacco:T1 Status:T4 Amount:T5 Frequency:T6 Type:T16')"
   ]
  },
  {
   "cell_type": "code",
   "execution_count": 25,
   "id": "3b871764-5bcf-4ab2-8dd0-939f703f485b",
   "metadata": {
    "execution": {
     "iopub.execute_input": "2023-01-11T17:34:54.845312Z",
     "iopub.status.busy": "2023-01-11T17:34:54.844521Z",
     "iopub.status.idle": "2023-01-11T17:34:54.856652Z",
     "shell.execute_reply": "2023-01-11T17:34:54.854933Z",
     "shell.execute_reply.started": "2023-01-11T17:34:54.845242Z"
    },
    "tags": []
   },
   "outputs": [
    {
     "data": {
      "text/plain": [
       "'none'"
      ]
     },
     "execution_count": 25,
     "metadata": {},
     "output_type": "execute_result"
    }
   ],
   "source": [
    "translateStatusCode(attribute=[ 'A1\\tStatusTimeVal T4 current',\n",
    " 'A2\\tStatusTimeVal T7 none',\n",
    " 'A3\\tStatusTimeVal T8 none',\n",
    " 'A4\\tStatusTimeVal T9 current',\n",
    " 'A5\\tTypeLivingVal T11 with_family',\n",
    " 'A6\\tStatusEmployVal T13 retired',],\n",
    "                   statusCode=\"T7\")"
   ]
  },
  {
   "cell_type": "code",
   "execution_count": 26,
   "id": "5e0e8e31-a2fc-45fd-aef2-9aae06622b6b",
   "metadata": {
    "execution": {
     "iopub.execute_input": "2023-01-11T17:34:55.672079Z",
     "iopub.status.busy": "2023-01-11T17:34:55.671235Z",
     "iopub.status.idle": "2023-01-11T17:34:55.681862Z",
     "shell.execute_reply": "2023-01-11T17:34:55.680528Z",
     "shell.execute_reply.started": "2023-01-11T17:34:55.672010Z"
    },
    "tags": []
   },
   "outputs": [
    {
     "data": {
      "text/plain": [
       "['T1\\tLivingStatus 37 42\\tlives',\n",
       " 'T2\\tStatusTime 37 42\\tlives',\n",
       " 'T3\\tTypeLiving 43 56\\twith his wife',\n",
       " 'T7\\tEmployment 81 86\\tWorks',\n",
       " 'T8\\tStatusEmploy 81 86\\tWorks',\n",
       " 'T9\\tType 90 111\\tan investment manager',\n",
       " 'T10\\tTobacco 113 125\\tNever smoker',\n",
       " 'T11\\tStatusTime 113 125\\tNever smoker',\n",
       " 'T12\\tAlcohol 127 139\\tRare alcohol',\n",
       " 'T13\\tStatusTime 127 139\\tRare alcohol',\n",
       " 'T15\\tDrug 148 157\\tmarijuana',\n",
       " 'T16\\tMethod 141 147\\tSmokes',\n",
       " 'T17\\tStatusTime 141 147\\tSmokes',\n",
       " 'T18\\tDrug 166 177\\tother drugs',\n",
       " 'T20\\tStatusTime 159 165\\tdenies',\n",
       " 'E1\\tLivingStatus:T1 Status:T2 Type:T3',\n",
       " 'E3\\tEmployment:T7 Status:T8 Type:T9',\n",
       " 'E4\\tTobacco:T10 Status:T11',\n",
       " 'E5\\tAlcohol:T12 Status:T13',\n",
       " 'E6\\tDrug:T15 Method:T16 Status:T17',\n",
       " 'E7\\tDrug:T18 Status:T20',\n",
       " 'A1\\tStatusTimeVal T2 current',\n",
       " 'A2\\tTypeLivingVal T3 with_family',\n",
       " 'A4\\tStatusEmployVal T8 employed',\n",
       " 'A5\\tStatusTimeVal T11 none',\n",
       " 'A6\\tStatusTimeVal T13 current',\n",
       " 'A8\\tStatusTimeVal T17 current',\n",
       " 'A9\\tStatusTimeVal T20 none']"
      ]
     },
     "execution_count": 26,
     "metadata": {},
     "output_type": "execute_result"
    }
   ],
   "source": [
    "tmp"
   ]
  },
  {
   "cell_type": "code",
   "execution_count": 27,
   "id": "48039bf4-a465-48b6-9e10-3284be3ff27c",
   "metadata": {
    "execution": {
     "iopub.execute_input": "2023-01-11T17:34:59.856909Z",
     "iopub.status.busy": "2023-01-11T17:34:59.856142Z",
     "iopub.status.idle": "2023-01-11T17:34:59.867250Z",
     "shell.execute_reply": "2023-01-11T17:34:59.865919Z",
     "shell.execute_reply.started": "2023-01-11T17:34:59.856846Z"
    },
    "tags": []
   },
   "outputs": [
    {
     "data": {
      "text/plain": [
       "{'Drug': ['current', 'none'], 'Alcohol': ['current'], 'Tobacco': ['none']}"
      ]
     },
     "execution_count": 27,
     "metadata": {},
     "output_type": "execute_result"
    }
   ],
   "source": [
    "findEventAttribute(tmp)"
   ]
  },
  {
   "cell_type": "code",
   "execution_count": null,
   "id": "10e6252e-10b5-4f1a-adbb-fc9cd28abfe8",
   "metadata": {},
   "outputs": [],
   "source": []
  },
  {
   "cell_type": "code",
   "execution_count": null,
   "id": "6c03697e-be42-4e80-85bb-74708cc69db6",
   "metadata": {},
   "outputs": [],
   "source": []
  },
  {
   "cell_type": "code",
   "execution_count": null,
   "id": "a68a8199-0add-40ec-83cc-c40ed78b44eb",
   "metadata": {},
   "outputs": [],
   "source": []
  },
  {
   "cell_type": "code",
   "execution_count": 28,
   "id": "65568550-38b1-4711-ab9a-2a9f7bca278c",
   "metadata": {
    "execution": {
     "iopub.execute_input": "2023-01-11T17:35:00.651145Z",
     "iopub.status.busy": "2023-01-11T17:35:00.650360Z",
     "iopub.status.idle": "2023-01-11T17:35:00.657321Z",
     "shell.execute_reply": "2023-01-11T17:35:00.655762Z",
     "shell.execute_reply.started": "2023-01-11T17:35:00.651077Z"
    },
    "tags": []
   },
   "outputs": [],
   "source": [
    "base_dir = \"/edata/xiruod/SocialDeterminants_SHAC_n2c2_2022/n2c2_sdoh_challenge\""
   ]
  },
  {
   "cell_type": "code",
   "execution_count": 29,
   "id": "58ee0547-3cce-42df-be28-6a63b3e618e9",
   "metadata": {
    "execution": {
     "iopub.execute_input": "2023-01-11T17:35:00.823122Z",
     "iopub.status.busy": "2023-01-11T17:35:00.822514Z",
     "iopub.status.idle": "2023-01-11T17:35:00.828664Z",
     "shell.execute_reply": "2023-01-11T17:35:00.827174Z",
     "shell.execute_reply.started": "2023-01-11T17:35:00.823064Z"
    },
    "tags": []
   },
   "outputs": [],
   "source": [
    "file_group = \"train/mimic\"\n"
   ]
  },
  {
   "cell_type": "code",
   "execution_count": 30,
   "id": "17619fac-814b-41b3-a2f6-1dbfcad38aa0",
   "metadata": {
    "execution": {
     "iopub.execute_input": "2023-01-11T17:35:01.722853Z",
     "iopub.status.busy": "2023-01-11T17:35:01.722144Z",
     "iopub.status.idle": "2023-01-11T17:35:02.561691Z",
     "shell.execute_reply": "2023-01-11T17:35:02.559176Z",
     "shell.execute_reply.started": "2023-01-11T17:35:01.722788Z"
    },
    "tags": []
   },
   "outputs": [],
   "source": [
    "pt_event_attribute = runEventRetriever(base_dir=base_dir, file_group=file_group)"
   ]
  },
  {
   "cell_type": "code",
   "execution_count": null,
   "id": "ade1b26c-af5f-441b-a050-434485bc9279",
   "metadata": {},
   "outputs": [],
   "source": []
  },
  {
   "cell_type": "code",
   "execution_count": 31,
   "id": "76a1d253-4eee-47c0-9e9d-018d19c93838",
   "metadata": {
    "execution": {
     "iopub.execute_input": "2023-01-11T17:35:02.565352Z",
     "iopub.status.busy": "2023-01-11T17:35:02.564759Z",
     "iopub.status.idle": "2023-01-11T17:35:02.575254Z",
     "shell.execute_reply": "2023-01-11T17:35:02.574066Z",
     "shell.execute_reply.started": "2023-01-11T17:35:02.565295Z"
    },
    "tags": []
   },
   "outputs": [],
   "source": [
    "_ = set()\n",
    "for k,v in pt_event_attribute.items():\n",
    "    for kk,vv in v.items():\n",
    "        _.add(tuple(vv))"
   ]
  },
  {
   "cell_type": "code",
   "execution_count": 32,
   "id": "84426a94-f329-4666-97a2-d82f538ae291",
   "metadata": {
    "execution": {
     "iopub.execute_input": "2023-01-11T17:35:03.545486Z",
     "iopub.status.busy": "2023-01-11T17:35:03.544708Z",
     "iopub.status.idle": "2023-01-11T17:35:03.562925Z",
     "shell.execute_reply": "2023-01-11T17:35:03.561634Z",
     "shell.execute_reply.started": "2023-01-11T17:35:03.545417Z"
    },
    "tags": []
   },
   "outputs": [
    {
     "data": {
      "text/plain": [
       "{(),\n",
       " ('current',),\n",
       " ('current', 'current'),\n",
       " ('current', 'current', 'current'),\n",
       " ('current', 'current', 'current', 'current'),\n",
       " ('current', 'current', 'none'),\n",
       " ('current', 'current', 'none', 'none'),\n",
       " ('current', 'current', 'past'),\n",
       " ('current', 'current', 'past', 'past', 'past', 'none', 'current'),\n",
       " ('current', 'none'),\n",
       " ('current', 'none', 'current'),\n",
       " ('current', 'none', 'past'),\n",
       " ('current', 'past'),\n",
       " ('current', 'past', 'current'),\n",
       " ('current', 'past', 'current', 'current'),\n",
       " ('current',\n",
       "  'past',\n",
       "  'current',\n",
       "  'current',\n",
       "  'none',\n",
       "  'past',\n",
       "  'current',\n",
       "  'current'),\n",
       " ('current', 'past', 'none'),\n",
       " ('current', 'past', 'none', 'none'),\n",
       " ('current', 'past', 'past'),\n",
       " ('none',),\n",
       " ('none', 'current'),\n",
       " ('none', 'current', 'current'),\n",
       " ('none', 'current', 'past'),\n",
       " ('none', 'current', 'past', 'current', 'current'),\n",
       " ('none', 'none'),\n",
       " ('none', 'none', 'past'),\n",
       " ('none', 'past'),\n",
       " ('none', 'past', 'current'),\n",
       " ('none', 'past', 'past'),\n",
       " ('past',),\n",
       " ('past', 'current'),\n",
       " ('past', 'current', 'current'),\n",
       " ('past', 'current', 'none'),\n",
       " ('past', 'current', 'past'),\n",
       " ('past', 'current', 'past', 'current'),\n",
       " ('past', 'none'),\n",
       " ('past', 'none', 'current'),\n",
       " ('past', 'none', 'none'),\n",
       " ('past', 'none', 'past'),\n",
       " ('past', 'past'),\n",
       " ('past', 'past', 'current'),\n",
       " ('past', 'past', 'current', 'current', 'none'),\n",
       " ('past', 'past', 'current', 'none', 'none', 'past'),\n",
       " ('past', 'past', 'none'),\n",
       " ('past', 'past', 'past')}"
      ]
     },
     "execution_count": 32,
     "metadata": {},
     "output_type": "execute_result"
    }
   ],
   "source": [
    "_"
   ]
  },
  {
   "cell_type": "code",
   "execution_count": null,
   "id": "c2050abb-405f-4c00-8acf-05ab632000d9",
   "metadata": {},
   "outputs": [],
   "source": []
  },
  {
   "cell_type": "code",
   "execution_count": null,
   "id": "a6108564-77c9-4854-bf7f-19d0b388ba88",
   "metadata": {},
   "outputs": [],
   "source": []
  },
  {
   "cell_type": "code",
   "execution_count": 33,
   "id": "9ede9bc4-084f-4db3-b25a-5543c838980d",
   "metadata": {
    "execution": {
     "iopub.execute_input": "2023-01-11T17:35:07.761451Z",
     "iopub.status.busy": "2023-01-11T17:35:07.760796Z",
     "iopub.status.idle": "2023-01-11T17:35:07.773326Z",
     "shell.execute_reply": "2023-01-11T17:35:07.771605Z",
     "shell.execute_reply.started": "2023-01-11T17:35:07.761398Z"
    },
    "tags": []
   },
   "outputs": [],
   "source": [
    "\n",
    "pt_event_BLabel = getBinaryLabel(pt_event_attribute=pt_event_attribute)"
   ]
  },
  {
   "cell_type": "code",
   "execution_count": null,
   "id": "a2f92a0e-134e-4ae7-bf34-c099dd15d742",
   "metadata": {
    "scrolled": true,
    "tags": []
   },
   "outputs": [],
   "source": [
    "pt_event_attribute"
   ]
  },
  {
   "cell_type": "code",
   "execution_count": null,
   "id": "8fbf7583-079e-4f8f-a969-f9d75e13eedd",
   "metadata": {},
   "outputs": [],
   "source": []
  },
  {
   "cell_type": "code",
   "execution_count": null,
   "id": "f8130f14-e011-4b41-824b-7fff9b87d816",
   "metadata": {},
   "outputs": [],
   "source": []
  },
  {
   "cell_type": "code",
   "execution_count": 35,
   "id": "c140782e-d514-4946-807f-0177ad2bac7c",
   "metadata": {
    "execution": {
     "iopub.execute_input": "2023-01-11T17:35:09.428268Z",
     "iopub.status.busy": "2023-01-11T17:35:09.427502Z",
     "iopub.status.idle": "2023-01-11T17:35:09.620453Z",
     "shell.execute_reply": "2023-01-11T17:35:09.619603Z",
     "shell.execute_reply.started": "2023-01-11T17:35:09.428199Z"
    },
    "tags": []
   },
   "outputs": [],
   "source": [
    "file_group = \"train/mimic\"\n",
    "pt_event_attribute = runEventRetriever(base_dir=base_dir, file_group=file_group)\n",
    "pt_event_BLabel = getBinaryLabel(pt_event_attribute=pt_event_attribute)\n"
   ]
  },
  {
   "cell_type": "code",
   "execution_count": 36,
   "id": "0419978d-03c9-4b36-87f1-f037fbb38fe1",
   "metadata": {
    "execution": {
     "iopub.execute_input": "2023-01-11T17:35:10.650019Z",
     "iopub.status.busy": "2023-01-11T17:35:10.649230Z",
     "iopub.status.idle": "2023-01-11T17:35:10.666510Z",
     "shell.execute_reply": "2023-01-11T17:35:10.665018Z",
     "shell.execute_reply.started": "2023-01-11T17:35:10.649949Z"
    },
    "tags": []
   },
   "outputs": [
    {
     "name": "stdout",
     "output_type": "stream",
     "text": [
      "{'Drug': ['none'], 'Alcohol': ['current'], 'Tobacco': ['past', 'current']}\n",
      "{'Drug': False, 'Alcohol': True, 'Tobacco': True}\n"
     ]
    },
    {
     "data": {
      "text/plain": [
       "['T1\\tTobacco 18 25\\tTobacco',\n",
       " 'T2\\tDuration 27 39\\tage 10 to 50',\n",
       " 'T3\\tAmount 40 45\\t4 PPD',\n",
       " 'T4\\tStatusTime 27 39\\tage 10 to 50',\n",
       " 'T5\\tTobacco 60 65\\t1 PPD',\n",
       " 'T6\\tAmount 60 65\\t1 PPD',\n",
       " 'T7\\tDuration 47 59\\tsince age 50',\n",
       " 'T8\\tStatusTime 47 59\\tsince age 50',\n",
       " 'T9\\tAlcohol 85 92\\tAlcohol',\n",
       " 'T11\\tStatusTime 94 100\\tSocial',\n",
       " 'T12\\tDrug 103 110\\tIllicit',\n",
       " 'T13\\tType 103 110\\tIllicit',\n",
       " 'T14\\tStatusTime 112 118\\tDenies',\n",
       " 'T15\\tEmployment 121 131\\tOccupation',\n",
       " 'T16\\tType 133 143\\tDOD driver',\n",
       " 'T17\\tStatusEmploy 133 143\\tDOD driver',\n",
       " 'T20\\tLivingStatus 166 182\\tLiving situation',\n",
       " 'T21\\tStatusTime 184 189\\tLives',\n",
       " 'T22\\tTypeLiving 190 199\\twith wife',\n",
       " 'E1\\tTobacco:T1 Duration:T2 Status:T4 Amount:T3',\n",
       " 'E2\\tTobacco:T5 Duration:T7 Status:T8 Amount:T6 Amount2:T10',\n",
       " 'E3\\tAlcohol:T9 Status:T11',\n",
       " 'E4\\tDrug:T12 Type:T13 Status:T14',\n",
       " 'E5\\tEmployment:T15 Type:T16 Status:T17',\n",
       " 'E7\\tLivingStatus:T20 Status:T21 Type:T22',\n",
       " 'A1\\tStatusTimeVal T4 past',\n",
       " 'A2\\tStatusTimeVal T8 current',\n",
       " 'A4\\tStatusTimeVal T11 current',\n",
       " 'A5\\tStatusTimeVal T14 none',\n",
       " 'A6\\tStatusEmployVal T17 employed',\n",
       " 'A8\\tStatusTimeVal T21 current',\n",
       " 'A9\\tTypeLivingVal T22 with_family',\n",
       " 'T10\\tAmount 67 76;77 82\\t>100 pack years']"
      ]
     },
     "execution_count": 36,
     "metadata": {},
     "output_type": "execute_result"
    }
   ],
   "source": [
    "\n",
    "i = '2075'\n",
    "print(pt_event_attribute[i])\n",
    "print(pt_event_BLabel[i])\n",
    "\n",
    "with open(f'/edata/xiruod/SocialDeterminants_SHAC_n2c2_2022/n2c2_sdoh_challenge/{file_group}/{i}.ann') as f:\n",
    "    tmp = f.read().splitlines()\n",
    "    \n",
    "tmp"
   ]
  },
  {
   "cell_type": "code",
   "execution_count": null,
   "id": "8a453d0e-e82b-4579-911b-0ef40d7129d1",
   "metadata": {},
   "outputs": [],
   "source": []
  },
  {
   "cell_type": "code",
   "execution_count": null,
   "id": "30ebd02f-f3fa-40b8-b2e7-1b612742b806",
   "metadata": {},
   "outputs": [],
   "source": []
  },
  {
   "cell_type": "markdown",
   "id": "417560bf-d2d8-47ce-a4bc-c0d485f8cadd",
   "metadata": {
    "tags": []
   },
   "source": [
    "## Check Distributions"
   ]
  },
  {
   "cell_type": "code",
   "execution_count": 37,
   "id": "a1e6d848-be89-403f-99a9-70e8565601b6",
   "metadata": {
    "execution": {
     "iopub.execute_input": "2023-01-11T17:35:16.385089Z",
     "iopub.status.busy": "2023-01-11T17:35:16.384253Z",
     "iopub.status.idle": "2023-01-11T17:35:16.870636Z",
     "shell.execute_reply": "2023-01-11T17:35:16.869054Z",
     "shell.execute_reply.started": "2023-01-11T17:35:16.385018Z"
    },
    "tags": []
   },
   "outputs": [],
   "source": [
    "import itertools\n",
    "\n",
    "import matplotlib.pyplot as plt\n",
    "import seaborn as sns"
   ]
  },
  {
   "cell_type": "code",
   "execution_count": null,
   "id": "7996f7ad-b19f-4dd8-ae8a-3c9ca04698c0",
   "metadata": {},
   "outputs": [],
   "source": []
  },
  {
   "cell_type": "code",
   "execution_count": null,
   "id": "a3b60782-8371-4796-b769-084b4cdd632c",
   "metadata": {},
   "outputs": [],
   "source": []
  },
  {
   "cell_type": "code",
   "execution_count": 38,
   "id": "217d5563-f857-4f82-8257-3ec2e192438f",
   "metadata": {
    "execution": {
     "iopub.execute_input": "2023-01-11T17:35:17.290017Z",
     "iopub.status.busy": "2023-01-11T17:35:17.288812Z",
     "iopub.status.idle": "2023-01-11T17:35:19.595227Z",
     "shell.execute_reply": "2023-01-11T17:35:19.593653Z",
     "shell.execute_reply.started": "2023-01-11T17:35:17.289938Z"
    },
    "tags": []
   },
   "outputs": [],
   "source": [
    "base_dir = \"/edata/xiruod/SocialDeterminants_SHAC_n2c2_2022/n2c2_sdoh_challenge\"\n",
    "\n",
    "df = pd.DataFrame()\n",
    "for c in itertools.product(['train','dev','test'], ['uw','mimic']):\n",
    "    file_group = c[0] + \"/\" + c[1]\n",
    "    \n",
    "    df_labels = getPatientLabel(base_dir=base_dir, file_group=file_group)\n",
    "    \n",
    "    stat = df_labels[['Drug','Alcohol','Tobacco','SubstanceAgg']].sum(axis=0)/df_labels.shape[0]\n",
    "    \n",
    "    _df = pd.DataFrame(stat).reset_index().rename(columns={\"index\":'substance', 0:'frequency'})\n",
    "    _df['group'] = file_group\n",
    "    df = pd.concat([df, _df])\n",
    "    "
   ]
  },
  {
   "cell_type": "code",
   "execution_count": 39,
   "id": "fe14571a-939a-4e30-bde9-80654dc47044",
   "metadata": {
    "execution": {
     "iopub.execute_input": "2023-01-11T17:35:20.353258Z",
     "iopub.status.busy": "2023-01-11T17:35:20.352432Z",
     "iopub.status.idle": "2023-01-11T17:35:20.769114Z",
     "shell.execute_reply": "2023-01-11T17:35:20.767773Z",
     "shell.execute_reply.started": "2023-01-11T17:35:20.353189Z"
    },
    "tags": []
   },
   "outputs": [
    {
     "data": {
      "text/plain": [
       "[Text(0.5, 1.0, 'Substance Use Frequencies in Different Groups')]"
      ]
     },
     "execution_count": 39,
     "metadata": {},
     "output_type": "execute_result"
    },
    {
     "data": {
      "image/png": "[encoded data removed]",
      "text/plain": [
       "<Figure size 720x576 with 1 Axes>"
      ]
     },
     "metadata": {
      "needs_background": "light"
     },
     "output_type": "display_data"
    }
   ],
   "source": [
    "plt.figure(figsize=(10,8))\n",
    "sns.barplot(x=\"group\", y=\"frequency\", data=df, hue='substance').set(title=\"Substance Use Frequencies in Different Groups\")\n"
   ]
  },
  {
   "cell_type": "code",
   "execution_count": 58,
   "id": "a003056c-47ab-4225-ad21-b3609a299e84",
   "metadata": {
    "execution": {
     "iopub.execute_input": "2023-01-11T17:42:36.114646Z",
     "iopub.status.busy": "2023-01-11T17:42:36.113783Z",
     "iopub.status.idle": "2023-01-11T17:42:36.626189Z",
     "shell.execute_reply": "2023-01-11T17:42:36.625052Z",
     "shell.execute_reply.started": "2023-01-11T17:42:36.114572Z"
    },
    "tags": []
   },
   "outputs": [],
   "source": [
    "base_dir = \"/edata/xiruod/SocialDeterminants_SHAC_n2c2_2022/n2c2_sdoh_challenge\"\n",
    "\n",
    "tmp = {}\n",
    "for c in itertools.product(['train','dev','test'], ['uw','mimic']):\n",
    "    file_group = c[0] + \"/\" + c[1]\n",
    "    \n",
    "    df_labels = getPatientLabel(base_dir=base_dir, file_group=file_group)\n",
    "    \n",
    "    tmp[file_group] = [df_labels.shape[0]] + [df_labels['Drug'].sum()] + [df_labels['Alcohol'].sum()] + [df_labels['Tobacco'].sum()] + [df_labels['SubstanceAgg'].sum()]\n",
    "    \n",
    "    "
   ]
  },
  {
   "cell_type": "code",
   "execution_count": 60,
   "id": "4a7df8b7-25dc-4db7-a6bf-abb4b250f61d",
   "metadata": {
    "execution": {
     "iopub.execute_input": "2023-01-11T17:42:44.213105Z",
     "iopub.status.busy": "2023-01-11T17:42:44.212244Z",
     "iopub.status.idle": "2023-01-11T17:42:44.235286Z",
     "shell.execute_reply": "2023-01-11T17:42:44.233813Z",
     "shell.execute_reply.started": "2023-01-11T17:42:44.213034Z"
    }
   },
   "outputs": [
    {
     "data": {
      "text/plain": [
       "{'train/uw': [1751, 809, 859, 973, 1355],\n",
       " 'train/mimic': [1316, 320, 770, 786, 1033],\n",
       " 'dev/uw': [259, 72, 83, 102, 156],\n",
       " 'dev/mimic': [188, 22, 85, 83, 116],\n",
       " 'test/uw': [518, 159, 161, 206, 294],\n",
       " 'test/mimic': [373, 29, 146, 166, 227]}"
      ]
     },
     "execution_count": 60,
     "metadata": {},
     "output_type": "execute_result"
    }
   ],
   "source": [
    "tmp"
   ]
  },
  {
   "cell_type": "code",
   "execution_count": 74,
   "id": "205f173d-f264-4158-979d-13d255fc7282",
   "metadata": {
    "execution": {
     "iopub.execute_input": "2023-01-11T17:46:10.422248Z",
     "iopub.status.busy": "2023-01-11T17:46:10.421395Z",
     "iopub.status.idle": "2023-01-11T17:46:10.434515Z",
     "shell.execute_reply": "2023-01-11T17:46:10.432830Z",
     "shell.execute_reply.started": "2023-01-11T17:46:10.422178Z"
    },
    "tags": []
   },
   "outputs": [],
   "source": [
    "ret = pd.DataFrame.from_dict(tmp, orient='columns').T\n",
    "ret.columns = ['Total','Drug','Alcohol','Tobacco','SubstanceAggregation']"
   ]
  },
  {
   "cell_type": "code",
   "execution_count": 75,
   "id": "5cb0f61a-daee-4391-b270-e6658dfc3b62",
   "metadata": {
    "execution": {
     "iopub.execute_input": "2023-01-11T17:46:10.868843Z",
     "iopub.status.busy": "2023-01-11T17:46:10.868039Z",
     "iopub.status.idle": "2023-01-11T17:46:10.885366Z",
     "shell.execute_reply": "2023-01-11T17:46:10.884246Z",
     "shell.execute_reply.started": "2023-01-11T17:46:10.868773Z"
    },
    "tags": []
   },
   "outputs": [
    {
     "data": {
      "text/html": [
       "<div>\n",
       "<style scoped>\n",
       "    .dataframe tbody tr th:only-of-type {\n",
       "        vertical-align: middle;\n",
       "    }\n",
       "\n",
       "    .dataframe tbody tr th {\n",
       "        vertical-align: top;\n",
       "    }\n",
       "\n",
       "    .dataframe thead th {\n",
       "        text-align: right;\n",
       "    }\n",
       "</style>\n",
       "<table border=\"1\" class=\"dataframe\">\n",
       "  <thead>\n",
       "    <tr style=\"text-align: right;\">\n",
       "      <th></th>\n",
       "      <th>Total</th>\n",
       "      <th>Drug</th>\n",
       "      <th>Alcohol</th>\n",
       "      <th>Tobacco</th>\n",
       "      <th>SubstanceAggregation</th>\n",
       "    </tr>\n",
       "  </thead>\n",
       "  <tbody>\n",
       "    <tr>\n",
       "      <th>train/uw</th>\n",
       "      <td>1751</td>\n",
       "      <td>809</td>\n",
       "      <td>859</td>\n",
       "      <td>973</td>\n",
       "      <td>1355</td>\n",
       "    </tr>\n",
       "    <tr>\n",
       "      <th>train/mimic</th>\n",
       "      <td>1316</td>\n",
       "      <td>320</td>\n",
       "      <td>770</td>\n",
       "      <td>786</td>\n",
       "      <td>1033</td>\n",
       "    </tr>\n",
       "    <tr>\n",
       "      <th>dev/uw</th>\n",
       "      <td>259</td>\n",
       "      <td>72</td>\n",
       "      <td>83</td>\n",
       "      <td>102</td>\n",
       "      <td>156</td>\n",
       "    </tr>\n",
       "    <tr>\n",
       "      <th>dev/mimic</th>\n",
       "      <td>188</td>\n",
       "      <td>22</td>\n",
       "      <td>85</td>\n",
       "      <td>83</td>\n",
       "      <td>116</td>\n",
       "    </tr>\n",
       "    <tr>\n",
       "      <th>test/uw</th>\n",
       "      <td>518</td>\n",
       "      <td>159</td>\n",
       "      <td>161</td>\n",
       "      <td>206</td>\n",
       "      <td>294</td>\n",
       "    </tr>\n",
       "    <tr>\n",
       "      <th>test/mimic</th>\n",
       "      <td>373</td>\n",
       "      <td>29</td>\n",
       "      <td>146</td>\n",
       "      <td>166</td>\n",
       "      <td>227</td>\n",
       "    </tr>\n",
       "  </tbody>\n",
       "</table>\n",
       "</div>"
      ],
      "text/plain": [
       "             Total  Drug  Alcohol  Tobacco  SubstanceAggregation\n",
       "train/uw      1751   809      859      973                  1355\n",
       "train/mimic   1316   320      770      786                  1033\n",
       "dev/uw         259    72       83      102                   156\n",
       "dev/mimic      188    22       85       83                   116\n",
       "test/uw        518   159      161      206                   294\n",
       "test/mimic     373    29      146      166                   227"
      ]
     },
     "execution_count": 75,
     "metadata": {},
     "output_type": "execute_result"
    }
   ],
   "source": [
    "ret"
   ]
  },
  {
   "cell_type": "code",
   "execution_count": null,
   "id": "43e0dbba-089c-4449-aafb-98f5f2a68783",
   "metadata": {},
   "outputs": [],
   "source": []
  },
  {
   "cell_type": "code",
   "execution_count": null,
   "id": "5b9d6dbb-a49a-419c-844b-7498e9c382fb",
   "metadata": {},
   "outputs": [],
   "source": []
  }
 ],
 "metadata": {
  "kernelspec": {
   "display_name": "Python 3",
   "language": "python",
   "name": "python3"
  },
  "language_info": {
   "codemirror_mode": {
    "name": "ipython",
    "version": 3
   },
   "file_extension": ".py",
   "mimetype": "text/x-python",
   "name": "python",
   "nbconvert_exporter": "python",
   "pygments_lexer": "ipython3",
   "version": "3.8.10"
  },
  "toc-autonumbering": true
 },
 "nbformat": 4,
 "nbformat_minor": 5
}
