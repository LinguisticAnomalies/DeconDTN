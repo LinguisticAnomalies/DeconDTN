{
 "cells": [
  {
   "cell_type": "code",
   "execution_count": 1,
   "id": "493957dd-0de3-4ea2-91d4-978e7d1a47f5",
   "metadata": {
    "ExecuteTime": {
     "end_time": "2023-07-28T04:46:26.388555Z",
     "start_time": "2023-07-28T04:46:26.123412Z"
    },
    "tags": []
   },
   "outputs": [],
   "source": [
    "import numpy as np\n",
    "import pandas as pd"
   ]
  },
  {
   "cell_type": "markdown",
   "id": "aeb0ae9b-046c-4559-a6b6-79d0eb65f89a",
   "metadata": {},
   "source": [
    "# Dynamically-Generated-Hate-Speech-Dataset"
   ]
  },
  {
   "cell_type": "markdown",
   "id": "d358d075-de18-4dea-9437-13a2bca32440",
   "metadata": {},
   "source": [
    "Paper: Vidgen B, Thrush T, Waseem Z, Kiela D. ***Learning from the worst: Dynamically generated datasets to improve online hate detection.*** arXiv preprint arXiv:2012.15761. 2020 Dec 31.\n",
    "\n",
    "\n",
    "Source: https://github.com/bvidgen/Dynamically-Generated-Hate-Speech-Dataset"
   ]
  },
  {
   "cell_type": "code",
   "execution_count": 2,
   "id": "31639e50-2f81-417e-8a66-4ded0f1fec84",
   "metadata": {
    "ExecuteTime": {
     "end_time": "2023-07-28T04:46:28.066660Z",
     "start_time": "2023-07-28T04:46:27.683000Z"
    },
    "tags": []
   },
   "outputs": [],
   "source": [
    "df_dynGen = pd.read_csv(\"/bime-munin/xiruod/data/hateSpeech_Bulla2023/Dynamically-Generated-Hate-Speech-Dataset/Dynamically Generated Hate Dataset v0.2.3.csv\",)\n"
   ]
  },
  {
   "cell_type": "code",
   "execution_count": 3,
   "id": "8ea84bee-8af3-4062-a1a5-e9e88bf7aac4",
   "metadata": {
    "ExecuteTime": {
     "end_time": "2023-07-29T19:30:19.416823Z",
     "start_time": "2023-07-29T19:30:19.384437Z"
    },
    "execution": {
     "iopub.execute_input": "2023-07-21T05:05:38.459997Z",
     "iopub.status.busy": "2023-07-21T05:05:38.459202Z",
     "iopub.status.idle": "2023-07-21T05:05:38.481960Z",
     "shell.execute_reply": "2023-07-21T05:05:38.481147Z",
     "shell.execute_reply.started": "2023-07-21T05:05:38.459926Z"
    }
   },
   "outputs": [
    {
     "data": {
      "text/html": [
       "<div>\n",
       "<style scoped>\n",
       "    .dataframe tbody tr th:only-of-type {\n",
       "        vertical-align: middle;\n",
       "    }\n",
       "\n",
       "    .dataframe tbody tr th {\n",
       "        vertical-align: top;\n",
       "    }\n",
       "\n",
       "    .dataframe thead th {\n",
       "        text-align: right;\n",
       "    }\n",
       "</style>\n",
       "<table border=\"1\" class=\"dataframe\">\n",
       "  <thead>\n",
       "    <tr style=\"text-align: right;\">\n",
       "      <th></th>\n",
       "      <th>Unnamed: 0</th>\n",
       "      <th>acl.id</th>\n",
       "      <th>X1</th>\n",
       "      <th>text</th>\n",
       "      <th>label</th>\n",
       "      <th>type</th>\n",
       "      <th>target</th>\n",
       "      <th>level</th>\n",
       "      <th>split</th>\n",
       "      <th>round.base</th>\n",
       "      <th>annotator</th>\n",
       "      <th>round</th>\n",
       "      <th>acl.id.matched</th>\n",
       "    </tr>\n",
       "  </thead>\n",
       "  <tbody>\n",
       "    <tr>\n",
       "      <th>0</th>\n",
       "      <td>1</td>\n",
       "      <td>acl1</td>\n",
       "      <td>1</td>\n",
       "      <td>dalits are lowlives</td>\n",
       "      <td>hate</td>\n",
       "      <td>notgiven</td>\n",
       "      <td>notgiven</td>\n",
       "      <td>original</td>\n",
       "      <td>train</td>\n",
       "      <td>1</td>\n",
       "      <td>GNZuCtwed3</td>\n",
       "      <td>1</td>\n",
       "      <td>NaN</td>\n",
       "    </tr>\n",
       "    <tr>\n",
       "      <th>1</th>\n",
       "      <td>2</td>\n",
       "      <td>acl10</td>\n",
       "      <td>2</td>\n",
       "      <td>gay people are a burden to our society</td>\n",
       "      <td>hate</td>\n",
       "      <td>notgiven</td>\n",
       "      <td>notgiven</td>\n",
       "      <td>original</td>\n",
       "      <td>train</td>\n",
       "      <td>1</td>\n",
       "      <td>GNZuCtwed3</td>\n",
       "      <td>1</td>\n",
       "      <td>NaN</td>\n",
       "    </tr>\n",
       "    <tr>\n",
       "      <th>2</th>\n",
       "      <td>3</td>\n",
       "      <td>acl100</td>\n",
       "      <td>3</td>\n",
       "      <td>Arabs are not welcome</td>\n",
       "      <td>hate</td>\n",
       "      <td>notgiven</td>\n",
       "      <td>notgiven</td>\n",
       "      <td>original</td>\n",
       "      <td>train</td>\n",
       "      <td>1</td>\n",
       "      <td>vDe7GN0NrL</td>\n",
       "      <td>1</td>\n",
       "      <td>NaN</td>\n",
       "    </tr>\n",
       "    <tr>\n",
       "      <th>3</th>\n",
       "      <td>4</td>\n",
       "      <td>acl1000</td>\n",
       "      <td>4</td>\n",
       "      <td>I'm not saying we should actually eliminate he...</td>\n",
       "      <td>hate</td>\n",
       "      <td>notgiven</td>\n",
       "      <td>notgiven</td>\n",
       "      <td>original</td>\n",
       "      <td>train</td>\n",
       "      <td>1</td>\n",
       "      <td>oemYWm1Tjg</td>\n",
       "      <td>1</td>\n",
       "      <td>NaN</td>\n",
       "    </tr>\n",
       "    <tr>\n",
       "      <th>4</th>\n",
       "      <td>5</td>\n",
       "      <td>acl10000</td>\n",
       "      <td>5</td>\n",
       "      <td>bananas are for black people</td>\n",
       "      <td>hate</td>\n",
       "      <td>notgiven</td>\n",
       "      <td>notgiven</td>\n",
       "      <td>original</td>\n",
       "      <td>test</td>\n",
       "      <td>1</td>\n",
       "      <td>QiOKkCi7F8</td>\n",
       "      <td>1</td>\n",
       "      <td>NaN</td>\n",
       "    </tr>\n",
       "  </tbody>\n",
       "</table>\n",
       "</div>"
      ],
      "text/plain": [
       "   Unnamed: 0    acl.id  X1  \\\n",
       "0           1      acl1   1   \n",
       "1           2     acl10   2   \n",
       "2           3    acl100   3   \n",
       "3           4   acl1000   4   \n",
       "4           5  acl10000   5   \n",
       "\n",
       "                                                text label      type  \\\n",
       "0                                dalits are lowlives  hate  notgiven   \n",
       "1             gay people are a burden to our society  hate  notgiven   \n",
       "2                              Arabs are not welcome  hate  notgiven   \n",
       "3  I'm not saying we should actually eliminate he...  hate  notgiven   \n",
       "4                       bananas are for black people  hate  notgiven   \n",
       "\n",
       "     target     level  split  round.base   annotator round acl.id.matched  \n",
       "0  notgiven  original  train           1  GNZuCtwed3     1            NaN  \n",
       "1  notgiven  original  train           1  GNZuCtwed3     1            NaN  \n",
       "2  notgiven  original  train           1  vDe7GN0NrL     1            NaN  \n",
       "3  notgiven  original  train           1  oemYWm1Tjg     1            NaN  \n",
       "4  notgiven  original   test           1  QiOKkCi7F8     1            NaN  "
      ]
     },
     "execution_count": 3,
     "metadata": {},
     "output_type": "execute_result"
    }
   ],
   "source": [
    "df_dynGen.head()"
   ]
  },
  {
   "cell_type": "code",
   "execution_count": 4,
   "id": "5cf90b6b-5641-4f85-ac56-7094c92349b6",
   "metadata": {
    "ExecuteTime": {
     "end_time": "2023-07-29T19:30:21.050628Z",
     "start_time": "2023-07-29T19:30:21.034865Z"
    },
    "execution": {
     "iopub.execute_input": "2023-07-21T05:11:32.797954Z",
     "iopub.status.busy": "2023-07-21T05:11:32.797207Z",
     "iopub.status.idle": "2023-07-21T05:11:32.816473Z",
     "shell.execute_reply": "2023-07-21T05:11:32.815261Z",
     "shell.execute_reply.started": "2023-07-21T05:11:32.797887Z"
    },
    "tags": []
   },
   "outputs": [
    {
     "data": {
      "text/plain": [
       "label\n",
       "hate       22175\n",
       "nothate    18969\n",
       "dtype: int64"
      ]
     },
     "execution_count": 4,
     "metadata": {},
     "output_type": "execute_result"
    }
   ],
   "source": [
    "df_dynGen.groupby(['label']).size()"
   ]
  },
  {
   "cell_type": "code",
   "execution_count": 5,
   "id": "debb7764-6ef7-4152-8346-9f5ca3b9da8e",
   "metadata": {
    "ExecuteTime": {
     "end_time": "2023-07-29T19:30:21.681440Z",
     "start_time": "2023-07-29T19:30:21.674191Z"
    }
   },
   "outputs": [
    {
     "data": {
      "text/plain": [
       "0.55"
      ]
     },
     "execution_count": 5,
     "metadata": {},
     "output_type": "execute_result"
    }
   ],
   "source": [
    "22/40"
   ]
  },
  {
   "cell_type": "code",
   "execution_count": null,
   "id": "968d333f-22ef-4b9f-a96b-805986d32c45",
   "metadata": {},
   "outputs": [],
   "source": []
  },
  {
   "cell_type": "markdown",
   "id": "91a6f2d0-b806-4256-b809-b35c53e29cdb",
   "metadata": {},
   "source": [
    "# YouTube Hate Speech"
   ]
  },
  {
   "cell_type": "markdown",
   "id": "7b9643a0-7f9a-41aa-8c96-250f73587519",
   "metadata": {},
   "source": [
    "Source: https://www.clarin.si/repository/xmlui/handle/11356/1454"
   ]
  },
  {
   "cell_type": "code",
   "execution_count": 12,
   "id": "29d27268-4b9e-4d96-ae72-180ae0ec9653",
   "metadata": {
    "execution": {
     "iopub.execute_input": "2023-07-21T05:10:46.181853Z",
     "iopub.status.busy": "2023-07-21T05:10:46.181086Z",
     "iopub.status.idle": "2023-07-21T05:10:46.474036Z",
     "shell.execute_reply": "2023-07-21T05:10:46.472777Z",
     "shell.execute_reply.started": "2023-07-21T05:10:46.181783Z"
    }
   },
   "outputs": [],
   "source": [
    "tmp = pd.read_csv(\"/bime-munin/xiruod/data/hateSpeech_Bulla2023/HS_YouTube/IMSyPP_EN_YouTube_comments_evaluation_context.csv\")"
   ]
  },
  {
   "cell_type": "code",
   "execution_count": 17,
   "id": "01ad34ec-eff5-4682-9d66-e2ed6d3c62fa",
   "metadata": {
    "execution": {
     "iopub.execute_input": "2023-07-21T05:11:48.020349Z",
     "iopub.status.busy": "2023-07-21T05:11:48.019605Z",
     "iopub.status.idle": "2023-07-21T05:11:48.034613Z",
     "shell.execute_reply": "2023-07-21T05:11:48.033812Z",
     "shell.execute_reply.started": "2023-07-21T05:11:48.020292Z"
    },
    "tags": []
   },
   "outputs": [
    {
     "data": {
      "text/plain": [
       "Type\n",
       "0. appropriate      14723\n",
       "1. inappropriate      198\n",
       "2. offensive         5531\n",
       "3. violent            102\n",
       "NaN                   964\n",
       "dtype: int64"
      ]
     },
     "execution_count": 17,
     "metadata": {},
     "output_type": "execute_result"
    }
   ],
   "source": [
    "tmp.groupby(['Type'],  dropna=False).size()"
   ]
  },
  {
   "cell_type": "code",
   "execution_count": null,
   "id": "4deec279-5571-482c-8b88-57bf16e274d5",
   "metadata": {},
   "outputs": [],
   "source": []
  },
  {
   "cell_type": "code",
   "execution_count": null,
   "id": "daf57e42-aee0-4a56-b9f3-e8f8673aec7e",
   "metadata": {},
   "outputs": [],
   "source": []
  },
  {
   "cell_type": "code",
   "execution_count": null,
   "id": "a17f835a-3127-4bdd-9f23-747429ec812b",
   "metadata": {},
   "outputs": [],
   "source": []
  },
  {
   "cell_type": "markdown",
   "id": "558021ad-74d4-4ddc-8d27-8e99ab106472",
   "metadata": {},
   "source": [
    "# WSF-HS"
   ]
  },
  {
   "cell_type": "markdown",
   "id": "0bc87dfd-d64f-4f28-b3c0-df13fb706484",
   "metadata": {},
   "source": [
    "Paper: De Gibert O, Perez N, García-Pablos A, Cuadros M. ***Hate speech dataset from a white supremacy forum.*** arXiv preprint arXiv:1809.04444. 2018 Sep 12.\n",
    "\n",
    "Source: https://github.com/Vicomtech/hate-speech-dataset"
   ]
  },
  {
   "cell_type": "code",
   "execution_count": 6,
   "id": "26023dda-514a-433b-a49d-f4e54e39b2ae",
   "metadata": {
    "ExecuteTime": {
     "end_time": "2023-07-28T04:46:35.102994Z",
     "start_time": "2023-07-28T04:46:35.097590Z"
    },
    "execution": {
     "iopub.execute_input": "2023-07-21T05:25:49.958727Z",
     "iopub.status.busy": "2023-07-21T05:25:49.957952Z",
     "iopub.status.idle": "2023-07-21T05:25:49.964345Z",
     "shell.execute_reply": "2023-07-21T05:25:49.963019Z",
     "shell.execute_reply.started": "2023-07-21T05:25:49.958655Z"
    }
   },
   "outputs": [],
   "source": [
    "import pathlib"
   ]
  },
  {
   "cell_type": "code",
   "execution_count": 7,
   "id": "2f06753d-beaf-4b25-8a9a-f62447e5acfc",
   "metadata": {
    "ExecuteTime": {
     "end_time": "2023-07-28T04:46:35.570656Z",
     "start_time": "2023-07-28T04:46:35.566353Z"
    },
    "execution": {
     "iopub.execute_input": "2023-07-21T05:28:32.515132Z",
     "iopub.status.busy": "2023-07-21T05:28:32.514360Z",
     "iopub.status.idle": "2023-07-21T05:28:33.136079Z",
     "shell.execute_reply": "2023-07-21T05:28:33.134354Z",
     "shell.execute_reply.started": "2023-07-21T05:28:32.515062Z"
    },
    "tags": []
   },
   "outputs": [],
   "source": [
    "ls_allFiles = pathlib.Path(\"/bime-munin/xiruod/data/hateSpeech_Bulla2023/hate-speech-dataset/all_files/\").glob(\"*.txt\")"
   ]
  },
  {
   "cell_type": "code",
   "execution_count": 8,
   "id": "b1b3ad63-72ed-4b54-aca4-9f0ef32332db",
   "metadata": {
    "ExecuteTime": {
     "end_time": "2023-07-28T04:47:03.065546Z",
     "start_time": "2023-07-28T04:46:37.213350Z"
    },
    "execution": {
     "iopub.execute_input": "2023-07-21T05:35:31.419018Z",
     "iopub.status.busy": "2023-07-21T05:35:31.418234Z",
     "iopub.status.idle": "2023-07-21T05:36:03.401484Z",
     "shell.execute_reply": "2023-07-21T05:36:03.399447Z",
     "shell.execute_reply.started": "2023-07-21T05:35:31.418947Z"
    },
    "tags": []
   },
   "outputs": [],
   "source": [
    "ls_id = []\n",
    "ls_text = []\n",
    "\n",
    "for ifile in ls_allFiles:\n",
    "    ls_id.append(ifile.name.split(\".txt\")[0])\n",
    "    with open(ifile, \"r\") as f:\n",
    "        ls_text.append(f.read())"
   ]
  },
  {
   "cell_type": "code",
   "execution_count": 9,
   "id": "6725fcdf-2840-45b7-b628-d6a5256ea06f",
   "metadata": {
    "ExecuteTime": {
     "end_time": "2023-07-28T04:47:08.818611Z",
     "start_time": "2023-07-28T04:47:08.801840Z"
    },
    "execution": {
     "iopub.execute_input": "2023-07-21T05:38:37.820447Z",
     "iopub.status.busy": "2023-07-21T05:38:37.819634Z",
     "iopub.status.idle": "2023-07-21T05:38:37.833175Z",
     "shell.execute_reply": "2023-07-21T05:38:37.831540Z",
     "shell.execute_reply.started": "2023-07-21T05:38:37.820375Z"
    },
    "tags": []
   },
   "outputs": [],
   "source": [
    "df_wsf_raw = pd.DataFrame({\"file_id\":ls_id, \"text\":ls_text})"
   ]
  },
  {
   "cell_type": "code",
   "execution_count": 10,
   "id": "fd744ccb-bf8e-4ac5-ab56-7de46e7f8acd",
   "metadata": {
    "ExecuteTime": {
     "end_time": "2023-07-28T04:47:09.476199Z",
     "start_time": "2023-07-28T04:47:09.026242Z"
    },
    "execution": {
     "iopub.execute_input": "2023-07-21T05:37:27.660110Z",
     "iopub.status.busy": "2023-07-21T05:37:27.659798Z",
     "iopub.status.idle": "2023-07-21T05:37:27.705294Z",
     "shell.execute_reply": "2023-07-21T05:37:27.704481Z",
     "shell.execute_reply.started": "2023-07-21T05:37:27.660088Z"
    },
    "tags": []
   },
   "outputs": [],
   "source": [
    "df_wsf_annotation = pd.read_csv(\"/bime-munin/xiruod/data/hateSpeech_Bulla2023/hate-speech-dataset/annotations_metadata.csv\")"
   ]
  },
  {
   "cell_type": "code",
   "execution_count": null,
   "id": "ceaf9692",
   "metadata": {},
   "outputs": [],
   "source": []
  },
  {
   "cell_type": "code",
   "execution_count": 11,
   "id": "bbf0a47b-4e3c-4e56-906f-b18e61918386",
   "metadata": {
    "ExecuteTime": {
     "end_time": "2023-07-28T04:47:13.345601Z",
     "start_time": "2023-07-28T04:47:13.310138Z"
    },
    "execution": {
     "iopub.execute_input": "2023-07-21T05:38:50.499758Z",
     "iopub.status.busy": "2023-07-21T05:38:50.498989Z",
     "iopub.status.idle": "2023-07-21T05:38:50.540622Z",
     "shell.execute_reply": "2023-07-21T05:38:50.539003Z",
     "shell.execute_reply.started": "2023-07-21T05:38:50.499686Z"
    }
   },
   "outputs": [],
   "source": [
    "df_wsf = df_wsf_raw.merge(df_wsf_annotation, on=\"file_id\", how=\"inner\")"
   ]
  },
  {
   "cell_type": "code",
   "execution_count": 12,
   "id": "be27d2bc-8504-40e9-a18a-349b3334beee",
   "metadata": {
    "ExecuteTime": {
     "end_time": "2023-07-28T04:47:13.625552Z",
     "start_time": "2023-07-28T04:47:13.617939Z"
    },
    "execution": {
     "iopub.execute_input": "2023-07-21T05:39:27.439563Z",
     "iopub.status.busy": "2023-07-21T05:39:27.439250Z",
     "iopub.status.idle": "2023-07-21T05:39:27.445101Z",
     "shell.execute_reply": "2023-07-21T05:39:27.444280Z",
     "shell.execute_reply.started": "2023-07-21T05:39:27.439541Z"
    }
   },
   "outputs": [
    {
     "name": "stdout",
     "output_type": "stream",
     "text": [
      "(10944, 2)\n",
      "(10944, 6)\n"
     ]
    }
   ],
   "source": [
    "print(df_wsf_raw.shape)\n",
    "print(df_wsf.shape)"
   ]
  },
  {
   "cell_type": "code",
   "execution_count": 13,
   "id": "11e285bc-505d-4850-9797-27c8209f6c95",
   "metadata": {
    "ExecuteTime": {
     "end_time": "2023-07-28T04:47:14.985741Z",
     "start_time": "2023-07-28T04:47:14.965657Z"
    },
    "execution": {
     "iopub.execute_input": "2023-07-21T05:39:32.575501Z",
     "iopub.status.busy": "2023-07-21T05:39:32.574735Z",
     "iopub.status.idle": "2023-07-21T05:39:32.594262Z",
     "shell.execute_reply": "2023-07-21T05:39:32.593478Z",
     "shell.execute_reply.started": "2023-07-21T05:39:32.575429Z"
    },
    "tags": []
   },
   "outputs": [
    {
     "data": {
      "text/html": [
       "<div>\n",
       "<style scoped>\n",
       "    .dataframe tbody tr th:only-of-type {\n",
       "        vertical-align: middle;\n",
       "    }\n",
       "\n",
       "    .dataframe tbody tr th {\n",
       "        vertical-align: top;\n",
       "    }\n",
       "\n",
       "    .dataframe thead th {\n",
       "        text-align: right;\n",
       "    }\n",
       "</style>\n",
       "<table border=\"1\" class=\"dataframe\">\n",
       "  <thead>\n",
       "    <tr style=\"text-align: right;\">\n",
       "      <th></th>\n",
       "      <th>file_id</th>\n",
       "      <th>text</th>\n",
       "      <th>user_id</th>\n",
       "      <th>subforum_id</th>\n",
       "      <th>num_contexts</th>\n",
       "      <th>label</th>\n",
       "    </tr>\n",
       "  </thead>\n",
       "  <tbody>\n",
       "    <tr>\n",
       "      <th>0</th>\n",
       "      <td>13480343_3</td>\n",
       "      <td>It can cause rage .</td>\n",
       "      <td>573459</td>\n",
       "      <td>1345</td>\n",
       "      <td>0</td>\n",
       "      <td>noHate</td>\n",
       "    </tr>\n",
       "    <tr>\n",
       "      <th>1</th>\n",
       "      <td>13341044_1</td>\n",
       "      <td>Obama has membership in Prince Hall ( for blac...</td>\n",
       "      <td>572139</td>\n",
       "      <td>1345</td>\n",
       "      <td>0</td>\n",
       "      <td>noHate</td>\n",
       "    </tr>\n",
       "    <tr>\n",
       "      <th>2</th>\n",
       "      <td>14036870_1</td>\n",
       "      <td>London is a dead zone as far as anyone White i...</td>\n",
       "      <td>572058</td>\n",
       "      <td>1387</td>\n",
       "      <td>0</td>\n",
       "      <td>hate</td>\n",
       "    </tr>\n",
       "    <tr>\n",
       "      <th>3</th>\n",
       "      <td>13861984_1</td>\n",
       "      <td>There was a small Nigerian man that lived in t...</td>\n",
       "      <td>574905</td>\n",
       "      <td>1391</td>\n",
       "      <td>0</td>\n",
       "      <td>noHate</td>\n",
       "    </tr>\n",
       "    <tr>\n",
       "      <th>4</th>\n",
       "      <td>13477847_2</td>\n",
       "      <td>New Square Meats allegedly sold nearly 2 milli...</td>\n",
       "      <td>573739</td>\n",
       "      <td>1345</td>\n",
       "      <td>0</td>\n",
       "      <td>noHate</td>\n",
       "    </tr>\n",
       "  </tbody>\n",
       "</table>\n",
       "</div>"
      ],
      "text/plain": [
       "      file_id                                               text  user_id  \\\n",
       "0  13480343_3                                It can cause rage .   573459   \n",
       "1  13341044_1  Obama has membership in Prince Hall ( for blac...   572139   \n",
       "2  14036870_1  London is a dead zone as far as anyone White i...   572058   \n",
       "3  13861984_1  There was a small Nigerian man that lived in t...   574905   \n",
       "4  13477847_2  New Square Meats allegedly sold nearly 2 milli...   573739   \n",
       "\n",
       "   subforum_id  num_contexts   label  \n",
       "0         1345             0  noHate  \n",
       "1         1345             0  noHate  \n",
       "2         1387             0    hate  \n",
       "3         1391             0  noHate  \n",
       "4         1345             0  noHate  "
      ]
     },
     "execution_count": 13,
     "metadata": {},
     "output_type": "execute_result"
    }
   ],
   "source": [
    "df_wsf.head()"
   ]
  },
  {
   "cell_type": "code",
   "execution_count": 14,
   "id": "a1272f17-ab95-47df-9681-af5c2669866d",
   "metadata": {
    "ExecuteTime": {
     "end_time": "2023-07-28T04:47:15.640178Z",
     "start_time": "2023-07-28T04:47:15.628184Z"
    },
    "execution": {
     "iopub.execute_input": "2023-07-21T05:39:56.294194Z",
     "iopub.status.busy": "2023-07-21T05:39:56.293433Z",
     "iopub.status.idle": "2023-07-21T05:39:56.306907Z",
     "shell.execute_reply": "2023-07-21T05:39:56.305841Z",
     "shell.execute_reply.started": "2023-07-21T05:39:56.294122Z"
    },
    "tags": []
   },
   "outputs": [
    {
     "data": {
      "text/plain": [
       "label\n",
       "hate        1196\n",
       "idk/skip      73\n",
       "noHate      9507\n",
       "relation     168\n",
       "dtype: int64"
      ]
     },
     "execution_count": 14,
     "metadata": {},
     "output_type": "execute_result"
    }
   ],
   "source": [
    "df_wsf.groupby(\"label\", dropna=False).size()"
   ]
  },
  {
   "cell_type": "code",
   "execution_count": 15,
   "id": "ad7d36f7-6caf-498e-b0ca-cc23322b6c21",
   "metadata": {
    "ExecuteTime": {
     "end_time": "2023-07-28T04:47:47.354070Z",
     "start_time": "2023-07-28T04:47:47.345452Z"
    }
   },
   "outputs": [
    {
     "data": {
      "text/plain": [
       "0.1117443707371765"
      ]
     },
     "execution_count": 15,
     "metadata": {},
     "output_type": "execute_result"
    }
   ],
   "source": [
    "1196/(1196+9507)"
   ]
  },
  {
   "cell_type": "code",
   "execution_count": null,
   "id": "bb013a55-190b-4a59-a947-a97642dfa929",
   "metadata": {},
   "outputs": [],
   "source": []
  },
  {
   "cell_type": "code",
   "execution_count": null,
   "id": "a4de4254-cc1f-452a-bfca-ac36e35979b0",
   "metadata": {},
   "outputs": [],
   "source": []
  }
 ],
 "metadata": {
  "kernelspec": {
   "display_name": "Python 3 (ipykernel)",
   "language": "python",
   "name": "python3"
  },
  "language_info": {
   "codemirror_mode": {
    "name": "ipython",
    "version": 3
   },
   "file_extension": ".py",
   "mimetype": "text/x-python",
   "name": "python",
   "nbconvert_exporter": "python",
   "pygments_lexer": "ipython3",
   "version": "3.9.17"
  },
  "toc": {
   "base_numbering": 1,
   "nav_menu": {},
   "number_sections": true,
   "sideBar": true,
   "skip_h1_title": false,
   "title_cell": "Table of Contents",
   "title_sidebar": "Contents",
   "toc_cell": false,
   "toc_position": {},
   "toc_section_display": true,
   "toc_window_display": false
  }
 },
 "nbformat": 4,
 "nbformat_minor": 5
}
