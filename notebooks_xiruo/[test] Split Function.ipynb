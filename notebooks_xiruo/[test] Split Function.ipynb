{
 "cells": [
  {
   "cell_type": "code",
   "execution_count": null,
   "id": "169a05d5",
   "metadata": {},
   "outputs": [],
   "source": []
  },
  {
   "cell_type": "code",
   "execution_count": null,
   "id": "8b944a9d",
   "metadata": {},
   "outputs": [],
   "source": []
  },
  {
   "cell_type": "code",
   "execution_count": null,
   "id": "326dced1",
   "metadata": {},
   "outputs": [],
   "source": []
  },
  {
   "cell_type": "markdown",
   "id": "6969241c-4eb6-4fd6-a131-a11f7a7887e9",
   "metadata": {},
   "source": [
    "# Inner Split Function"
   ]
  },
  {
   "cell_type": "code",
   "execution_count": 32,
   "id": "315dc989",
   "metadata": {
    "ExecuteTime": {
     "end_time": "2022-10-15T19:09:38.991346Z",
     "start_time": "2022-10-15T19:09:38.980775Z"
    },
    "execution": {
     "iopub.execute_input": "2022-11-26T22:38:10.326110Z",
     "iopub.status.busy": "2022-11-26T22:38:10.325189Z",
     "iopub.status.idle": "2022-11-26T22:38:10.338233Z",
     "shell.execute_reply": "2022-11-26T22:38:10.337275Z",
     "shell.execute_reply.started": "2022-11-26T22:38:10.326038Z"
    },
    "tags": []
   },
   "outputs": [],
   "source": [
    "def confoundSplit(p_pos_train_z1, p_pos_train_z0, p_mix_z1, alpha_test):\n",
    "    \n",
    "    assert 0 <= p_pos_train_z1 <= 1\n",
    "    assert 0 <= p_pos_train_z0 <= 1\n",
    "    assert 0 <= p_mix_z1 <= 1\n",
    "    assert alpha_test >= 0\n",
    "    \n",
    "    C_z = p_mix_z1\n",
    "    \n",
    "    p_mix_z0 = 1 - p_mix_z1\n",
    "    \n",
    "    # C_y = p_train(y=1) = p_train(z=0) * p_train(y=1|z=0) + p_train(z=1) * p_train(y=1|z=1) \n",
    "    # C_y = p_test(y=1) = p_test(z=0) * p_test(y=1|z=0) + p_test(z=1) * p_test(y=1|z=1)\n",
    "    C_y = p_mix_z0 * p_pos_train_z0 + p_mix_z1 * p_pos_train_z1\n",
    "    \n",
    "    \n",
    "    \n",
    "    \n",
    "    p_pos_test_z0 = C_y / (1 - (1-alpha_test) * C_z)\n",
    "    p_pos_test_z1 = alpha_test * p_pos_test_z0\n",
    "    \n",
    "    \n",
    "    return {\"p_pos_train_z0\": p_pos_train_z0,\n",
    "            \"p_pos_train_z1\": p_pos_train_z1,\n",
    "            \"p_pos_train\": C_y,\n",
    "            \"p_pos_test\": C_y,\n",
    "            \"p_mix_z0\": p_mix_z0,\n",
    "            \"p_mix_z1\": p_mix_z1,\n",
    "            \"alpha_test\": alpha_test,\n",
    "            \"p_pos_test_z0\": p_pos_test_z0,\n",
    "            \"p_pos_test_z1\": p_pos_test_z1,\n",
    "            \n",
    "            \"C_y\": C_y,\n",
    "            \"C_z\": C_z,\n",
    "           }\n",
    "    "
   ]
  },
  {
   "cell_type": "code",
   "execution_count": 3,
   "id": "40981c3b",
   "metadata": {
    "ExecuteTime": {
     "end_time": "2022-10-15T19:16:54.775337Z",
     "start_time": "2022-10-15T19:16:54.765886Z"
    },
    "execution": {
     "iopub.execute_input": "2022-11-17T23:39:17.810172Z",
     "iopub.status.busy": "2022-11-17T23:39:17.809315Z",
     "iopub.status.idle": "2022-11-17T23:39:17.829784Z",
     "shell.execute_reply": "2022-11-17T23:39:17.829058Z",
     "shell.execute_reply.started": "2022-11-17T23:39:17.810105Z"
    },
    "tags": []
   },
   "outputs": [
    {
     "data": {
      "text/plain": [
       "{'p_pos_train_z0': 0.6,\n",
       " 'p_pos_train_z1': 0.2,\n",
       " 'p_pos_train': 0.4,\n",
       " 'p_pos_test': 0.4,\n",
       " 'p_mix_z0': 0.5,\n",
       " 'p_mix_z1': 0.5,\n",
       " 'alpha': 1,\n",
       " 'p_pos_test_z0': 0.4,\n",
       " 'p_pos_test_z1': 0.4,\n",
       " 'C_y': 0.4,\n",
       " 'C_z': 0.5}"
      ]
     },
     "execution_count": 3,
     "metadata": {},
     "output_type": "execute_result"
    }
   ],
   "source": [
    "confoundSplit(p_pos_train_z0=0.6, p_pos_train_z1 = 0.2, p_mix_z1 = 0.5, alpha_test = 1)"
   ]
  },
  {
   "cell_type": "code",
   "execution_count": 4,
   "id": "d78afc3e",
   "metadata": {
    "ExecuteTime": {
     "end_time": "2022-10-15T19:14:05.262333Z",
     "start_time": "2022-10-15T19:14:05.252987Z"
    },
    "execution": {
     "iopub.execute_input": "2022-11-17T23:39:18.420982Z",
     "iopub.status.busy": "2022-11-17T23:39:18.420222Z",
     "iopub.status.idle": "2022-11-17T23:39:18.432787Z",
     "shell.execute_reply": "2022-11-17T23:39:18.431883Z",
     "shell.execute_reply.started": "2022-11-17T23:39:18.420918Z"
    },
    "tags": []
   },
   "outputs": [
    {
     "data": {
      "text/plain": [
       "{'p_pos_train_z0': 0.8,\n",
       " 'p_pos_train_z1': 0.2,\n",
       " 'p_pos_train': 0.6800000000000002,\n",
       " 'p_pos_test': 0.6800000000000002,\n",
       " 'p_mix_z0': 0.8,\n",
       " 'p_mix_z1': 0.2,\n",
       " 'alpha': 1,\n",
       " 'p_pos_test_z0': 0.6800000000000002,\n",
       " 'p_pos_test_z1': 0.6800000000000002,\n",
       " 'C_y': 0.6800000000000002,\n",
       " 'C_z': 0.2}"
      ]
     },
     "execution_count": 4,
     "metadata": {},
     "output_type": "execute_result"
    }
   ],
   "source": [
    "confoundSplit(p_pos_train_z0=0.8, p_pos_train_z1 = 0.2, p_mix_z1 = 0.2, alpha_test = 1)"
   ]
  },
  {
   "cell_type": "code",
   "execution_count": 5,
   "id": "e0e5d3ae-29fb-42f4-935c-35c0954b67a7",
   "metadata": {
    "ExecuteTime": {
     "end_time": "2022-10-15T19:14:05.262333Z",
     "start_time": "2022-10-15T19:14:05.252987Z"
    },
    "execution": {
     "iopub.execute_input": "2022-11-17T23:39:18.895584Z",
     "iopub.status.busy": "2022-11-17T23:39:18.894917Z",
     "iopub.status.idle": "2022-11-17T23:39:18.906705Z",
     "shell.execute_reply": "2022-11-17T23:39:18.905497Z",
     "shell.execute_reply.started": "2022-11-17T23:39:18.895521Z"
    },
    "tags": []
   },
   "outputs": [
    {
     "data": {
      "text/plain": [
       "{'p_pos_train_z0': 0.8,\n",
       " 'p_pos_train_z1': 0.1,\n",
       " 'p_pos_train': 0.6600000000000001,\n",
       " 'p_pos_test': 0.6600000000000001,\n",
       " 'p_mix_z0': 0.8,\n",
       " 'p_mix_z1': 0.2,\n",
       " 'alpha': 1,\n",
       " 'p_pos_test_z0': 0.6600000000000001,\n",
       " 'p_pos_test_z1': 0.6600000000000001,\n",
       " 'C_y': 0.6600000000000001,\n",
       " 'C_z': 0.2}"
      ]
     },
     "execution_count": 5,
     "metadata": {},
     "output_type": "execute_result"
    }
   ],
   "source": [
    "confoundSplit(p_pos_train_z0=0.8, p_pos_train_z1 = 0.1, p_mix_z1 = 0.2, alpha_test = 1)"
   ]
  },
  {
   "cell_type": "code",
   "execution_count": 6,
   "id": "3018b8dd-95ea-42e5-913a-27331a8cf9c4",
   "metadata": {
    "ExecuteTime": {
     "end_time": "2022-10-15T19:14:05.262333Z",
     "start_time": "2022-10-15T19:14:05.252987Z"
    },
    "execution": {
     "iopub.execute_input": "2022-11-17T23:39:19.437934Z",
     "iopub.status.busy": "2022-11-17T23:39:19.437602Z",
     "iopub.status.idle": "2022-11-17T23:39:19.446394Z",
     "shell.execute_reply": "2022-11-17T23:39:19.445202Z",
     "shell.execute_reply.started": "2022-11-17T23:39:19.437904Z"
    },
    "tags": []
   },
   "outputs": [
    {
     "data": {
      "text/plain": [
       "{'p_pos_train_z0': 0.8,\n",
       " 'p_pos_train_z1': 0.1,\n",
       " 'p_pos_train': 0.6600000000000001,\n",
       " 'p_pos_test': 0.6600000000000001,\n",
       " 'p_mix_z0': 0.8,\n",
       " 'p_mix_z1': 0.2,\n",
       " 'alpha': 2,\n",
       " 'p_pos_test_z0': 0.5500000000000002,\n",
       " 'p_pos_test_z1': 1.1000000000000003,\n",
       " 'C_y': 0.6600000000000001,\n",
       " 'C_z': 0.2}"
      ]
     },
     "execution_count": 6,
     "metadata": {},
     "output_type": "execute_result"
    }
   ],
   "source": [
    "confoundSplit(p_pos_train_z0=0.8, p_pos_train_z1 = 0.1, p_mix_z1 = 0.2, alpha_test = 2)"
   ]
  },
  {
   "cell_type": "code",
   "execution_count": null,
   "id": "e7269626",
   "metadata": {},
   "outputs": [],
   "source": []
  },
  {
   "cell_type": "code",
   "execution_count": null,
   "id": "2f740bbd-342d-47d8-b46d-334b583674f8",
   "metadata": {},
   "outputs": [],
   "source": []
  },
  {
   "cell_type": "code",
   "execution_count": null,
   "id": "2853ddec-c77e-4c5d-909f-73ae1258158a",
   "metadata": {},
   "outputs": [],
   "source": []
  },
  {
   "cell_type": "code",
   "execution_count": null,
   "id": "17a65470-0fde-4362-bb10-d5859fb43079",
   "metadata": {},
   "outputs": [],
   "source": []
  },
  {
   "cell_type": "code",
   "execution_count": null,
   "id": "6aacf91a-f855-4348-8994-8dc44b7df96a",
   "metadata": {},
   "outputs": [],
   "source": []
  },
  {
   "cell_type": "code",
   "execution_count": null,
   "id": "5a8516d2-7c58-4a7f-8d52-6d7626ba60fd",
   "metadata": {},
   "outputs": [],
   "source": []
  },
  {
   "cell_type": "markdown",
   "id": "66fb02b6-24ae-4d78-a37e-05bd79f52d08",
   "metadata": {},
   "source": [
    "# Outer Wrapper accepting two datasets and some extra parameters"
   ]
  },
  {
   "cell_type": "code",
   "execution_count": 7,
   "id": "8dcc68c1-7e4f-4510-a597-5821f62b0992",
   "metadata": {
    "execution": {
     "iopub.execute_input": "2022-11-17T23:39:21.773063Z",
     "iopub.status.busy": "2022-11-17T23:39:21.772420Z",
     "iopub.status.idle": "2022-11-17T23:39:22.156470Z",
     "shell.execute_reply": "2022-11-17T23:39:22.155584Z",
     "shell.execute_reply.started": "2022-11-17T23:39:21.773010Z"
    },
    "tags": []
   },
   "outputs": [],
   "source": [
    "import pandas as pd\n",
    "import numpy as np"
   ]
  },
  {
   "cell_type": "markdown",
   "id": "d51c4258-41c8-4d9a-9031-a9b1165ee35f",
   "metadata": {
    "tags": []
   },
   "source": [
    "### WLS"
   ]
  },
  {
   "cell_type": "code",
   "execution_count": 8,
   "id": "31f67aed-b108-43e2-bacb-92d2170aa43a",
   "metadata": {
    "execution": {
     "iopub.execute_input": "2022-11-17T23:39:22.645990Z",
     "iopub.status.busy": "2022-11-17T23:39:22.645106Z",
     "iopub.status.idle": "2022-11-17T23:39:22.674344Z",
     "shell.execute_reply": "2022-11-17T23:39:22.673666Z",
     "shell.execute_reply.started": "2022-11-17T23:39:22.645921Z"
    },
    "tags": []
   },
   "outputs": [],
   "source": [
    "\n",
    "df_wls = pd.read_csv(\"/edata/TRESTLE/testWLS.tsv\", sep='\\t')\n",
    "\n",
    "df_wls_label = pd.read_csv(\"/edata/TRESTLE/WLS-labels.csv\")\n",
    "\n",
    "df_wls_merge = df_wls.merge(df_wls_label, left_on='file', right_on='idtlkbnk', how='inner')\n",
    "\n",
    "df_wls_merge.rename(columns={\"> 1 sd below mean for normals ages 60-79 (Tombaugh, Kozak, & Rees, 1999) -- normal cutoff = 12+ for 9-12 yrs eductation, 14+ for 13-21 yrs education\":\n",
    "                             \"label\",\n",
    "                             \n",
    "                            },\n",
    "                    inplace=True\n",
    "                   )\n",
    "\n",
    "df_wls_merge.loc[df_wls_merge['label'] == 'y','label'] = 'Y'\n",
    "\n",
    "condlist = [\n",
    "    df_wls_merge['label'] == 'Y',\n",
    "    df_wls_merge['label'] == 'N',\n",
    "    df_wls_merge['label'].isna()\n",
    "]\n",
    "choicelist = [\n",
    "    1,\n",
    "    0,\n",
    "    np.nan\n",
    "]\n",
    "\n",
    "df_wls_merge['label'] = np.select(condlist, choicelist)\n",
    "\n",
    "df_wls_merge = df_wls_merge.loc[df_wls_merge['label'].notna(), :].reset_index(drop=True)"
   ]
  },
  {
   "cell_type": "code",
   "execution_count": 9,
   "id": "3c5b098b-a41c-4b84-9edf-67a048325d19",
   "metadata": {
    "execution": {
     "iopub.execute_input": "2022-11-17T23:39:23.095822Z",
     "iopub.status.busy": "2022-11-17T23:39:23.094937Z",
     "iopub.status.idle": "2022-11-17T23:39:23.111065Z",
     "shell.execute_reply": "2022-11-17T23:39:23.110058Z",
     "shell.execute_reply.started": "2022-11-17T23:39:23.095754Z"
    },
    "tags": []
   },
   "outputs": [
    {
     "data": {
      "text/plain": [
       "label\n",
       "0.0    1167\n",
       "1.0     110\n",
       "dtype: int64"
      ]
     },
     "execution_count": 9,
     "metadata": {},
     "output_type": "execute_result"
    }
   ],
   "source": [
    "df_wls_merge.groupby('label', dropna=False).size()"
   ]
  },
  {
   "cell_type": "code",
   "execution_count": null,
   "id": "fa614d39-c633-4608-a744-67f1a11d89c1",
   "metadata": {},
   "outputs": [],
   "source": []
  },
  {
   "cell_type": "code",
   "execution_count": null,
   "id": "55d9830b-e779-4186-a451-4e6007023d74",
   "metadata": {},
   "outputs": [],
   "source": []
  },
  {
   "cell_type": "markdown",
   "id": "db1eb385-a981-4058-8145-09d9787d7c94",
   "metadata": {},
   "source": [
    "### ADReSS"
   ]
  },
  {
   "cell_type": "code",
   "execution_count": 10,
   "id": "a8bd0c7e-da0e-4486-80f6-4c91806d6370",
   "metadata": {
    "execution": {
     "iopub.execute_input": "2022-11-17T23:39:24.225647Z",
     "iopub.status.busy": "2022-11-17T23:39:24.224922Z",
     "iopub.status.idle": "2022-11-17T23:39:24.244703Z",
     "shell.execute_reply": "2022-11-17T23:39:24.243727Z",
     "shell.execute_reply.started": "2022-11-17T23:39:24.225584Z"
    },
    "tags": []
   },
   "outputs": [],
   "source": [
    "df_adress_train = pd.read_csv(\"/edata/ADReSS-IS2020-data/dataframes/adre_train.csv\")\n",
    "\n",
    "df_adress_test = pd.read_csv(\"/edata/ADReSS-IS2020-data/dataframes/adre_test.csv\")\n",
    "\n",
    "df_adress = pd.concat([df_adress_train, df_adress_test], ignore_index=True)\n",
    "\n",
    "df_adress.rename(columns={\"sentence\": \"text\"}, inplace=True)"
   ]
  },
  {
   "cell_type": "code",
   "execution_count": 11,
   "id": "326909a1-b227-434a-9cc1-0ca603f8e6c0",
   "metadata": {
    "execution": {
     "iopub.execute_input": "2022-11-17T23:39:24.795398Z",
     "iopub.status.busy": "2022-11-17T23:39:24.794718Z",
     "iopub.status.idle": "2022-11-17T23:39:24.825362Z",
     "shell.execute_reply": "2022-11-17T23:39:24.824211Z",
     "shell.execute_reply.started": "2022-11-17T23:39:24.795336Z"
    },
    "tags": []
   },
   "outputs": [
    {
     "data": {
      "text/html": [
       "<div>\n",
       "<style scoped>\n",
       "    .dataframe tbody tr th:only-of-type {\n",
       "        vertical-align: middle;\n",
       "    }\n",
       "\n",
       "    .dataframe tbody tr th {\n",
       "        vertical-align: top;\n",
       "    }\n",
       "\n",
       "    .dataframe thead th {\n",
       "        text-align: right;\n",
       "    }\n",
       "</style>\n",
       "<table border=\"1\" class=\"dataframe\">\n",
       "  <thead>\n",
       "    <tr style=\"text-align: right;\">\n",
       "      <th></th>\n",
       "      <th>Unnamed: 0</th>\n",
       "      <th>sentence_source</th>\n",
       "      <th>label</th>\n",
       "      <th>text</th>\n",
       "    </tr>\n",
       "  </thead>\n",
       "  <tbody>\n",
       "    <tr>\n",
       "      <th>0</th>\n",
       "      <td>6</td>\n",
       "      <td>S094.txt</td>\n",
       "      <td>1</td>\n",
       "      <td>oh yes   a little girl and the little boy is ...</td>\n",
       "    </tr>\n",
       "    <tr>\n",
       "      <th>1</th>\n",
       "      <td>0</td>\n",
       "      <td>S138.txt</td>\n",
       "      <td>1</td>\n",
       "      <td>the the water's flowing on the floor   and sh...</td>\n",
       "    </tr>\n",
       "    <tr>\n",
       "      <th>2</th>\n",
       "      <td>30</td>\n",
       "      <td>S118.txt</td>\n",
       "      <td>1</td>\n",
       "      <td>oh there's a cookie jar and a youngster with ...</td>\n",
       "    </tr>\n",
       "    <tr>\n",
       "      <th>3</th>\n",
       "      <td>37</td>\n",
       "      <td>S114.txt</td>\n",
       "      <td>1</td>\n",
       "      <td>mhm   well the kids is robbing a cookie jar  ...</td>\n",
       "    </tr>\n",
       "    <tr>\n",
       "      <th>4</th>\n",
       "      <td>49</td>\n",
       "      <td>S143.txt</td>\n",
       "      <td>1</td>\n",
       "      <td>well little boy reaching out for the cookie j...</td>\n",
       "    </tr>\n",
       "    <tr>\n",
       "      <th>...</th>\n",
       "      <td>...</td>\n",
       "      <td>...</td>\n",
       "      <td>...</td>\n",
       "      <td>...</td>\n",
       "    </tr>\n",
       "    <tr>\n",
       "      <th>151</th>\n",
       "      <td>43</td>\n",
       "      <td>S198.txt</td>\n",
       "      <td>1</td>\n",
       "      <td>you mean like the woman doing the dishes and ...</td>\n",
       "    </tr>\n",
       "    <tr>\n",
       "      <th>152</th>\n",
       "      <td>44</td>\n",
       "      <td>S180.txt</td>\n",
       "      <td>0</td>\n",
       "      <td>well the boy is taking cookies outof the cook...</td>\n",
       "    </tr>\n",
       "    <tr>\n",
       "      <th>153</th>\n",
       "      <td>45</td>\n",
       "      <td>S194.txt</td>\n",
       "      <td>1</td>\n",
       "      <td>well the mother has water spilling all over t...</td>\n",
       "    </tr>\n",
       "    <tr>\n",
       "      <th>154</th>\n",
       "      <td>46</td>\n",
       "      <td>S176.txt</td>\n",
       "      <td>1</td>\n",
       "      <td>whew   do i hafta use my my my personal descr...</td>\n",
       "    </tr>\n",
       "    <tr>\n",
       "      <th>155</th>\n",
       "      <td>47</td>\n",
       "      <td>S200.txt</td>\n",
       "      <td>1</td>\n",
       "      <td>seeing the mother   she's washing dishes and ...</td>\n",
       "    </tr>\n",
       "  </tbody>\n",
       "</table>\n",
       "<p>156 rows × 4 columns</p>\n",
       "</div>"
      ],
      "text/plain": [
       "     Unnamed: 0 sentence_source  label  \\\n",
       "0             6        S094.txt      1   \n",
       "1             0        S138.txt      1   \n",
       "2            30        S118.txt      1   \n",
       "3            37        S114.txt      1   \n",
       "4            49        S143.txt      1   \n",
       "..          ...             ...    ...   \n",
       "151          43        S198.txt      1   \n",
       "152          44        S180.txt      0   \n",
       "153          45        S194.txt      1   \n",
       "154          46        S176.txt      1   \n",
       "155          47        S200.txt      1   \n",
       "\n",
       "                                                  text  \n",
       "0     oh yes   a little girl and the little boy is ...  \n",
       "1     the the water's flowing on the floor   and sh...  \n",
       "2     oh there's a cookie jar and a youngster with ...  \n",
       "3     mhm   well the kids is robbing a cookie jar  ...  \n",
       "4     well little boy reaching out for the cookie j...  \n",
       "..                                                 ...  \n",
       "151   you mean like the woman doing the dishes and ...  \n",
       "152   well the boy is taking cookies outof the cook...  \n",
       "153   well the mother has water spilling all over t...  \n",
       "154   whew   do i hafta use my my my personal descr...  \n",
       "155   seeing the mother   she's washing dishes and ...  \n",
       "\n",
       "[156 rows x 4 columns]"
      ]
     },
     "execution_count": 11,
     "metadata": {},
     "output_type": "execute_result"
    }
   ],
   "source": [
    "df_adress"
   ]
  },
  {
   "cell_type": "code",
   "execution_count": null,
   "id": "1d3b83af-520e-4865-a2e7-689b5426414d",
   "metadata": {},
   "outputs": [],
   "source": []
  },
  {
   "cell_type": "code",
   "execution_count": null,
   "id": "05cd4218-3fa2-402a-b359-1e7bc60a9ef1",
   "metadata": {},
   "outputs": [],
   "source": []
  },
  {
   "cell_type": "code",
   "execution_count": null,
   "id": "50e4f476-b401-464d-a12b-280504665661",
   "metadata": {},
   "outputs": [],
   "source": []
  },
  {
   "cell_type": "code",
   "execution_count": null,
   "id": "5e8f53eb-6754-4eac-830c-e6759fbd9434",
   "metadata": {},
   "outputs": [],
   "source": []
  },
  {
   "cell_type": "markdown",
   "id": "16760b99-cbd3-49c7-b370-482654c537bc",
   "metadata": {},
   "source": [
    "## Wrapper Function"
   ]
  },
  {
   "cell_type": "code",
   "execution_count": 12,
   "id": "d42cecf9-6a8f-40bd-a711-5ccb6897d550",
   "metadata": {
    "execution": {
     "iopub.execute_input": "2022-11-17T23:39:26.973811Z",
     "iopub.status.busy": "2022-11-17T23:39:26.972889Z",
     "iopub.status.idle": "2022-11-17T23:39:26.986382Z",
     "shell.execute_reply": "2022-11-17T23:39:26.985634Z",
     "shell.execute_reply.started": "2022-11-17T23:39:26.973743Z"
    },
    "tags": []
   },
   "outputs": [
    {
     "data": {
      "text/plain": [
       "1167"
      ]
     },
     "execution_count": 12,
     "metadata": {},
     "output_type": "execute_result"
    }
   ],
   "source": [
    "(df_wls_merge['label'] == 0).sum()"
   ]
  },
  {
   "cell_type": "code",
   "execution_count": 13,
   "id": "1454d59a-4d1d-408d-8a64-68071dd4de4b",
   "metadata": {
    "execution": {
     "iopub.execute_input": "2022-11-17T23:39:27.884180Z",
     "iopub.status.busy": "2022-11-17T23:39:27.883576Z",
     "iopub.status.idle": "2022-11-17T23:39:27.897830Z",
     "shell.execute_reply": "2022-11-17T23:39:27.897017Z",
     "shell.execute_reply.started": "2022-11-17T23:39:27.884117Z"
    },
    "tags": []
   },
   "outputs": [
    {
     "data": {
      "text/plain": [
       "label\n",
       "0.0    1167\n",
       "1.0     110\n",
       "dtype: int64"
      ]
     },
     "execution_count": 13,
     "metadata": {},
     "output_type": "execute_result"
    }
   ],
   "source": [
    "df_wls_merge.groupby('label', dropna=False).size()"
   ]
  },
  {
   "cell_type": "code",
   "execution_count": 14,
   "id": "4f0bc668-e7ae-4eaf-a4ee-09e7ee7fe27a",
   "metadata": {
    "ExecuteTime": {
     "end_time": "2022-10-15T19:14:05.262333Z",
     "start_time": "2022-10-15T19:14:05.252987Z"
    },
    "execution": {
     "iopub.execute_input": "2022-11-17T23:39:28.753866Z",
     "iopub.status.busy": "2022-11-17T23:39:28.753164Z",
     "iopub.status.idle": "2022-11-17T23:39:28.764722Z",
     "shell.execute_reply": "2022-11-17T23:39:28.763898Z",
     "shell.execute_reply.started": "2022-11-17T23:39:28.753802Z"
    },
    "tags": []
   },
   "outputs": [
    {
     "data": {
      "text/plain": [
       "{'p_pos_train_z0': 0.8,\n",
       " 'p_pos_train_z1': 0.1,\n",
       " 'p_pos_train': 0.6600000000000001,\n",
       " 'p_pos_test': 0.6600000000000001,\n",
       " 'p_mix_z0': 0.8,\n",
       " 'p_mix_z1': 0.2,\n",
       " 'alpha': 2,\n",
       " 'p_pos_test_z0': 0.5500000000000002,\n",
       " 'p_pos_test_z1': 1.1000000000000003,\n",
       " 'C_y': 0.6600000000000001,\n",
       " 'C_z': 0.2}"
      ]
     },
     "execution_count": 14,
     "metadata": {},
     "output_type": "execute_result"
    }
   ],
   "source": [
    "confoundSplit(p_pos_train_z0=0.8, p_pos_train_z1 = 0.1, p_mix_z1 = 0.2, alpha_test = 2)"
   ]
  },
  {
   "cell_type": "code",
   "execution_count": 15,
   "id": "51cbd3e6-cb1a-4c7f-8b74-3f872b1ddfff",
   "metadata": {
    "execution": {
     "iopub.execute_input": "2022-11-17T23:39:30.855772Z",
     "iopub.status.busy": "2022-11-17T23:39:30.855005Z",
     "iopub.status.idle": "2022-11-17T23:39:30.875846Z",
     "shell.execute_reply": "2022-11-17T23:39:30.874986Z",
     "shell.execute_reply.started": "2022-11-17T23:39:30.855707Z"
    },
    "tags": []
   },
   "outputs": [],
   "source": [
    "import math\n",
    "\n",
    "\n",
    "def confoundSplitNumbers(df0, df1, \n",
    "                    df0_label, df1_label,\n",
    "                    p_pos_train_z1, p_pos_train_z0, p_mix_z1, alpha_test, \n",
    "                    train_test_ratio = 4,\n",
    "                   ):\n",
    "    \n",
    "    \"\"\"\n",
    "    df0_label, df1_label: 0/1, or True/False coded\n",
    "    \n",
    "    \n",
    "    \"\"\"\n",
    "    assert df0[df0_label].isin([0,1]).all(axis=0)\n",
    "    assert df1[df1_label].isin([0,1]).all(axis=0)\n",
    "    \n",
    "    \n",
    "    mix_param_dict = confoundSplit(p_pos_train_z0=p_pos_train_z0, p_pos_train_z1 = p_pos_train_z1, p_mix_z1 = p_mix_z1, alpha_test = alpha_test)\n",
    "    \n",
    "    \n",
    "    \n",
    "    N_df0_pos = (df0[df0_label] == 1).sum()\n",
    "    N_df0_neg = (df0[df0_label] == 0).sum()\n",
    "    \n",
    "    N_df1_pos = (df1[df1_label] == 1).sum()\n",
    "    N_df1_neg = (df1[df1_label] == 0).sum()\n",
    "    \n",
    "    N_df0 = N_df0_pos + N_df0_neg\n",
    "    N_df1 = N_df1_pos + N_df1_neg\n",
    "        \n",
    "    \n",
    "    n_df0_test_pos = math.floor(N_df0 / (train_test_ratio + 1))\n",
    "    \n",
    "    \n",
    "    while(n_df0_test_pos > 0):\n",
    "        \n",
    "        n_df0_test_neg = math.floor(n_df0_test_pos / mix_param_dict['p_pos_test_z0'] * (1-mix_param_dict['p_pos_test_z0']))\n",
    "        \n",
    "        \n",
    "        n_df0_train_pos = math.floor((n_df0_test_pos + n_df0_test_neg) * train_test_ratio * mix_param_dict['p_pos_train_z0'])\n",
    "        n_df0_train_neg = math.floor((n_df0_test_pos + n_df0_test_neg) * train_test_ratio * (1 - mix_param_dict['p_pos_train_z0']))\n",
    "        \n",
    "        \n",
    "        \n",
    "        \n",
    "        n_df1_train = math.floor(mix_param_dict['C_z'] / (1 - mix_param_dict['C_z']) * (n_df0_train_pos + n_df0_train_neg))\n",
    "        n_df1_train_pos = math.floor(n_df1_train * mix_param_dict['p_pos_train_z1'])\n",
    "        n_df1_train_neg = math.floor(n_df1_train * (1 - mix_param_dict['p_pos_train_z1']))\n",
    "        \n",
    "        n_df1_test = math.floor(n_df1_train/train_test_ratio)\n",
    "        n_df1_test_pos = math.floor(n_df1_test * mix_param_dict['p_pos_test_z1'])\n",
    "        n_df1_test_neg = math.floor(n_df1_test * (1 - mix_param_dict['p_pos_test_z1']))\n",
    "        \n",
    "        \n",
    "        test1 = 0 < (n_df0_train_pos + n_df0_test_pos) <= N_df0_pos\n",
    "        test2 = 0 < (n_df0_train_neg + n_df0_test_neg) <= N_df0_neg\n",
    "        \n",
    "        test3 = 0 < (n_df1_train_pos + n_df1_test_pos) <= N_df1_pos\n",
    "        test4 = 0 < (n_df1_train_neg + n_df1_test_neg) <= N_df1_neg\n",
    "        \n",
    "        \n",
    "        test5 = 0 < n_df0_train_pos\n",
    "        test6 = 0 < n_df0_train_neg\n",
    "        test7 = 0 < n_df1_train_pos\n",
    "        test8 = 0 < n_df1_train_neg\n",
    "        \n",
    "        test9 = 0 < n_df0_test_pos\n",
    "        test10 = 0 < n_df0_test_neg\n",
    "        test11 = 0 < n_df1_test_pos\n",
    "        test12 = 0 < n_df1_test_neg\n",
    "        \n",
    "        \n",
    "        \n",
    "        if test1 and test2 and test3 and test4 and test5 and test6 and test7 and test8 and test9 and test10 and test11 and test12:\n",
    "            return {\"n_df0_train_pos\": n_df0_train_pos,\n",
    "                    \"n_df0_test_pos\": n_df0_test_pos,\n",
    "                    \"n_df0_train_neg\": n_df0_train_neg,\n",
    "                    \"n_df0_test_neg\": n_df0_test_neg,\n",
    "                    \n",
    "                    \"n_df1_train_pos\": n_df1_train_pos,\n",
    "                    \"n_df1_test_pos\":n_df1_test_pos,\n",
    "                    \"n_df1_train_neg\":n_df1_train_neg,\n",
    "                    \"n_df1_test_neg\":n_df1_test_neg,\n",
    "                    \n",
    "                   }\n",
    "        else:        \n",
    "            n_df0_test_pos -= 1\n",
    "        \n",
    "        if n_df0_test_pos == 0:\n",
    "            return None"
   ]
  },
  {
   "cell_type": "code",
   "execution_count": null,
   "id": "92de1d9b-afc0-41bb-b97e-a3aac15b5537",
   "metadata": {},
   "outputs": [],
   "source": []
  },
  {
   "cell_type": "code",
   "execution_count": 16,
   "id": "5ee07a62-8723-4087-b995-822848f5c696",
   "metadata": {
    "ExecuteTime": {
     "end_time": "2022-10-15T19:14:05.262333Z",
     "start_time": "2022-10-15T19:14:05.252987Z"
    },
    "execution": {
     "iopub.execute_input": "2022-11-17T23:39:34.087309Z",
     "iopub.status.busy": "2022-11-17T23:39:34.086373Z",
     "iopub.status.idle": "2022-11-17T23:39:34.097928Z",
     "shell.execute_reply": "2022-11-17T23:39:34.096841Z",
     "shell.execute_reply.started": "2022-11-17T23:39:34.087242Z"
    },
    "tags": []
   },
   "outputs": [
    {
     "data": {
      "text/plain": [
       "{'p_pos_train_z0': 0.8,\n",
       " 'p_pos_train_z1': 0.1,\n",
       " 'p_pos_train': 0.6600000000000001,\n",
       " 'p_pos_test': 0.6600000000000001,\n",
       " 'p_mix_z0': 0.8,\n",
       " 'p_mix_z1': 0.2,\n",
       " 'alpha': 2,\n",
       " 'p_pos_test_z0': 0.5500000000000002,\n",
       " 'p_pos_test_z1': 1.1000000000000003,\n",
       " 'C_y': 0.6600000000000001,\n",
       " 'C_z': 0.2}"
      ]
     },
     "execution_count": 16,
     "metadata": {},
     "output_type": "execute_result"
    }
   ],
   "source": [
    "confoundSplit(p_pos_train_z0=0.8, p_pos_train_z1 = 0.1, p_mix_z1 = 0.2, alpha_test = 2)"
   ]
  },
  {
   "cell_type": "code",
   "execution_count": 17,
   "id": "62c1d85f-7651-40d6-a2eb-d1a969708c30",
   "metadata": {
    "execution": {
     "iopub.execute_input": "2022-11-17T23:39:37.209043Z",
     "iopub.status.busy": "2022-11-17T23:39:37.208268Z",
     "iopub.status.idle": "2022-11-17T23:39:37.225411Z",
     "shell.execute_reply": "2022-11-17T23:39:37.224215Z",
     "shell.execute_reply.started": "2022-11-17T23:39:37.208977Z"
    },
    "tags": []
   },
   "outputs": [],
   "source": [
    "\n",
    "confoundSplitNumbers(df0=df_wls_merge, df1=df_adress, \n",
    "                    df0_label='label', df1_label='label',\n",
    "                    \n",
    "                    p_pos_train_z0=0.8, p_pos_train_z1 = 0.1, p_mix_z1 = 0.2, alpha_test = 2,\n",
    "                    \n",
    "                    train_test_ratio = 5,\n",
    "                   )"
   ]
  },
  {
   "cell_type": "code",
   "execution_count": 18,
   "id": "01e5fb01-b78a-41f5-95a6-1583f61703c8",
   "metadata": {
    "execution": {
     "iopub.execute_input": "2022-11-17T23:39:38.078375Z",
     "iopub.status.busy": "2022-11-17T23:39:38.077598Z",
     "iopub.status.idle": "2022-11-17T23:39:38.096403Z",
     "shell.execute_reply": "2022-11-17T23:39:38.095538Z",
     "shell.execute_reply.started": "2022-11-17T23:39:38.078310Z"
    },
    "tags": []
   },
   "outputs": [],
   "source": [
    "\n",
    "confoundSplitNumbers(df0=df_wls_merge, df1=df_adress, \n",
    "                    df0_label='label', df1_label='label',\n",
    "                    \n",
    "                    p_pos_train_z0=0.8, p_pos_train_z1 = 0.1, p_mix_z1 = 0.2, alpha_test = 2,\n",
    "                    \n",
    "                    train_test_ratio = 1,\n",
    "                   )\n",
    "\n"
   ]
  },
  {
   "cell_type": "code",
   "execution_count": 21,
   "id": "6fdf0f14-8a7b-4313-8a9e-956a23b450bb",
   "metadata": {
    "execution": {
     "iopub.execute_input": "2022-11-17T23:41:38.586278Z",
     "iopub.status.busy": "2022-11-17T23:41:38.585492Z",
     "iopub.status.idle": "2022-11-17T23:41:38.596363Z",
     "shell.execute_reply": "2022-11-17T23:41:38.595198Z",
     "shell.execute_reply.started": "2022-11-17T23:41:38.586208Z"
    },
    "tags": []
   },
   "outputs": [
    {
     "data": {
      "text/plain": [
       "array([0. , 0.1, 0.2, 0.3, 0.4, 0.5, 0.6, 0.7, 0.8, 0.9])"
      ]
     },
     "execution_count": 21,
     "metadata": {},
     "output_type": "execute_result"
    }
   ],
   "source": [
    "np.arange(0, 1, 0.1)"
   ]
  },
  {
   "cell_type": "code",
   "execution_count": 22,
   "id": "4445826c-b86a-49f5-89c4-d6b69126b508",
   "metadata": {
    "execution": {
     "iopub.execute_input": "2022-11-17T23:41:40.114933Z",
     "iopub.status.busy": "2022-11-17T23:41:40.114156Z",
     "iopub.status.idle": "2022-11-17T23:41:40.121470Z",
     "shell.execute_reply": "2022-11-17T23:41:40.120275Z",
     "shell.execute_reply.started": "2022-11-17T23:41:40.114867Z"
    },
    "tags": []
   },
   "outputs": [],
   "source": [
    "import itertools"
   ]
  },
  {
   "cell_type": "code",
   "execution_count": 23,
   "id": "f313a122-36f5-401e-a03d-72295980ba14",
   "metadata": {
    "execution": {
     "iopub.execute_input": "2022-11-17T23:41:41.175870Z",
     "iopub.status.busy": "2022-11-17T23:41:41.175166Z",
     "iopub.status.idle": "2022-11-17T23:41:42.797855Z",
     "shell.execute_reply": "2022-11-17T23:41:42.796775Z",
     "shell.execute_reply.started": "2022-11-17T23:41:41.175806Z"
    },
    "tags": []
   },
   "outputs": [],
   "source": [
    "\n",
    "valid_combinations = []\n",
    "\n",
    "for combination in itertools.product([0.2], \n",
    "                                    [0.4], \n",
    "                                     np.arange(0.1, 0.999, 0.1),\n",
    "                                     np.arange(0,10,0.1),\n",
    "                                     [4]\n",
    "                                     \n",
    "                                    ):\n",
    "    \n",
    "    ret = confoundSplitNumbers(df0=df_wls_merge, df1=df_adress, \n",
    "                        df0_label='label', df1_label='label',\n",
    "\n",
    "                        p_pos_train_z0=combination[0], p_pos_train_z1 = combination[1], p_mix_z1 = combination[2], alpha_test = combination[3],\n",
    "\n",
    "                        train_test_ratio = combination[4],\n",
    "                       )\n",
    "    \n",
    "    if ret is not None:\n",
    "        valid_combinations.append(combination)\n",
    "        \n",
    "    "
   ]
  },
  {
   "cell_type": "code",
   "execution_count": null,
   "id": "20cc577d-aa16-400a-a55e-b72ee10dd9ea",
   "metadata": {},
   "outputs": [],
   "source": []
  },
  {
   "cell_type": "code",
   "execution_count": null,
   "id": "c9062998-0847-4e30-8542-7ada04c7da7d",
   "metadata": {},
   "outputs": [],
   "source": []
  },
  {
   "cell_type": "code",
   "execution_count": 24,
   "id": "25c8ddc9-9300-4000-b128-467d711b73e6",
   "metadata": {
    "execution": {
     "iopub.execute_input": "2022-11-17T23:41:45.394943Z",
     "iopub.status.busy": "2022-11-17T23:41:45.394166Z",
     "iopub.status.idle": "2022-11-17T23:41:45.404973Z",
     "shell.execute_reply": "2022-11-17T23:41:45.403662Z",
     "shell.execute_reply.started": "2022-11-17T23:41:45.394877Z"
    },
    "tags": []
   },
   "outputs": [
    {
     "data": {
      "text/plain": [
       "638"
      ]
     },
     "execution_count": 24,
     "metadata": {},
     "output_type": "execute_result"
    }
   ],
   "source": [
    "len(valid_combinations)"
   ]
  },
  {
   "cell_type": "code",
   "execution_count": 25,
   "id": "03d8651a-88e1-4d86-ace1-b2c28728b095",
   "metadata": {
    "execution": {
     "iopub.execute_input": "2022-11-17T23:41:49.597692Z",
     "iopub.status.busy": "2022-11-17T23:41:49.596917Z",
     "iopub.status.idle": "2022-11-17T23:41:49.608926Z",
     "shell.execute_reply": "2022-11-17T23:41:49.608044Z",
     "shell.execute_reply.started": "2022-11-17T23:41:49.597627Z"
    },
    "tags": []
   },
   "outputs": [
    {
     "data": {
      "text/plain": [
       "0"
      ]
     },
     "execution_count": 25,
     "metadata": {},
     "output_type": "execute_result"
    }
   ],
   "source": [
    "len([c for c in valid_combinations if (0.1 <= c[0] <= 0.2) and (0.6 <= c[1] <= 0.65) and (c[4] == 4)])"
   ]
  },
  {
   "cell_type": "code",
   "execution_count": 26,
   "id": "607481c7-bb5d-429f-a1b4-d98700b38394",
   "metadata": {
    "execution": {
     "iopub.execute_input": "2022-11-17T23:41:49.804536Z",
     "iopub.status.busy": "2022-11-17T23:41:49.803734Z",
     "iopub.status.idle": "2022-11-17T23:41:49.815086Z",
     "shell.execute_reply": "2022-11-17T23:41:49.814277Z",
     "shell.execute_reply.started": "2022-11-17T23:41:49.804468Z"
    },
    "tags": []
   },
   "outputs": [
    {
     "data": {
      "text/plain": [
       "0"
      ]
     },
     "execution_count": 26,
     "metadata": {},
     "output_type": "execute_result"
    }
   ],
   "source": [
    "len([c for c in valid_combinations if (0.1 <= c[0] <= 0.3) and (0.6 <= c[1] <= 0.8) and (c[4] == 4) and (1 <= c[3] <= 1.5)])"
   ]
  },
  {
   "cell_type": "code",
   "execution_count": null,
   "id": "05cd7acd-dc68-4ecd-a579-e6ae0bad36db",
   "metadata": {},
   "outputs": [],
   "source": []
  },
  {
   "cell_type": "code",
   "execution_count": 27,
   "id": "4be87339-e1fd-4bf0-974d-3e8e98245a38",
   "metadata": {
    "execution": {
     "iopub.execute_input": "2022-11-17T23:42:08.859631Z",
     "iopub.status.busy": "2022-11-17T23:42:08.859006Z",
     "iopub.status.idle": "2022-11-17T23:42:10.179415Z",
     "shell.execute_reply": "2022-11-17T23:42:10.178148Z",
     "shell.execute_reply.started": "2022-11-17T23:42:08.859595Z"
    },
    "tags": []
   },
   "outputs": [],
   "source": [
    "valid_high_combinations = []\n",
    "\n",
    "for combination in valid_combinations:\n",
    "\n",
    "    ret = confoundSplitNumbers(df0=df_wls_merge, df1=df_adress, \n",
    "                            df0_label='label', df1_label='label',\n",
    "\n",
    "                            p_pos_train_z0=combination[0], p_pos_train_z1 = combination[1], p_mix_z1 = combination[2], alpha_test = combination[3],\n",
    "\n",
    "                            train_test_ratio = combination[4],\n",
    "                           )\n",
    "    \n",
    "    if (ret['n_df0_train_pos'] >= 10) and (combination[4] == 4):\n",
    "            valid_high_combinations.append(combination)\n",
    "    \n",
    "    \n",
    "    "
   ]
  },
  {
   "cell_type": "code",
   "execution_count": 28,
   "id": "58570cf8-6b1e-4799-898d-21fa6bd69fea",
   "metadata": {
    "execution": {
     "iopub.execute_input": "2022-11-17T23:42:11.900186Z",
     "iopub.status.busy": "2022-11-17T23:42:11.899306Z",
     "iopub.status.idle": "2022-11-17T23:42:11.912222Z",
     "shell.execute_reply": "2022-11-17T23:42:11.910908Z",
     "shell.execute_reply.started": "2022-11-17T23:42:11.900117Z"
    },
    "tags": []
   },
   "outputs": [
    {
     "data": {
      "text/plain": [
       "530"
      ]
     },
     "execution_count": 28,
     "metadata": {},
     "output_type": "execute_result"
    }
   ],
   "source": [
    "len(valid_high_combinations)"
   ]
  },
  {
   "cell_type": "code",
   "execution_count": 29,
   "id": "f9b3c4eb-eebd-4710-bdce-f843e437bc92",
   "metadata": {
    "execution": {
     "iopub.execute_input": "2022-11-17T23:42:14.929940Z",
     "iopub.status.busy": "2022-11-17T23:42:14.929015Z",
     "iopub.status.idle": "2022-11-17T23:42:14.999444Z",
     "shell.execute_reply": "2022-11-17T23:42:14.998407Z",
     "shell.execute_reply.started": "2022-11-17T23:42:14.929874Z"
    },
    "tags": []
   },
   "outputs": [
    {
     "data": {
      "text/plain": [
       "[(0.2, 0.4, 0.1, 0.4, 4),\n",
       " (0.2, 0.4, 0.1, 0.5, 4),\n",
       " (0.2, 0.4, 0.1, 0.6000000000000001, 4),\n",
       " (0.2, 0.4, 0.1, 0.7000000000000001, 4),\n",
       " (0.2, 0.4, 0.1, 0.8, 4),\n",
       " (0.2, 0.4, 0.1, 0.9, 4),\n",
       " (0.2, 0.4, 0.1, 1.0, 4),\n",
       " (0.2, 0.4, 0.1, 1.1, 4),\n",
       " (0.2, 0.4, 0.1, 1.2000000000000002, 4),\n",
       " (0.2, 0.4, 0.1, 1.3, 4),\n",
       " (0.2, 0.4, 0.1, 1.4000000000000001, 4),\n",
       " (0.2, 0.4, 0.1, 1.5, 4),\n",
       " (0.2, 0.4, 0.1, 1.6, 4),\n",
       " (0.2, 0.4, 0.1, 1.7000000000000002, 4),\n",
       " (0.2, 0.4, 0.1, 1.8, 4),\n",
       " (0.2, 0.4, 0.1, 1.9000000000000001, 4),\n",
       " (0.2, 0.4, 0.1, 2.0, 4),\n",
       " (0.2, 0.4, 0.1, 2.1, 4),\n",
       " (0.2, 0.4, 0.1, 2.2, 4),\n",
       " (0.2, 0.4, 0.1, 2.3000000000000003, 4),\n",
       " (0.2, 0.4, 0.1, 2.4000000000000004, 4),\n",
       " (0.2, 0.4, 0.1, 2.5, 4),\n",
       " (0.2, 0.4, 0.1, 2.6, 4),\n",
       " (0.2, 0.4, 0.1, 2.7, 4),\n",
       " (0.2, 0.4, 0.1, 2.8000000000000003, 4),\n",
       " (0.2, 0.4, 0.1, 2.9000000000000004, 4),\n",
       " (0.2, 0.4, 0.1, 3.0, 4),\n",
       " (0.2, 0.4, 0.1, 3.1, 4),\n",
       " (0.2, 0.4, 0.1, 3.2, 4),\n",
       " (0.2, 0.4, 0.1, 3.3000000000000003, 4),\n",
       " (0.2, 0.4, 0.1, 3.4000000000000004, 4),\n",
       " (0.2, 0.4, 0.1, 3.5, 4),\n",
       " (0.2, 0.4, 0.1, 3.6, 4),\n",
       " (0.2, 0.4, 0.1, 3.7, 4),\n",
       " (0.2, 0.4, 0.1, 3.8000000000000003, 4),\n",
       " (0.2, 0.4, 0.1, 3.9000000000000004, 4),\n",
       " (0.2, 0.4, 0.1, 4.0, 4),\n",
       " (0.2, 0.4, 0.1, 4.1000000000000005, 4),\n",
       " (0.2, 0.4, 0.1, 4.2, 4),\n",
       " (0.2, 0.4, 0.1, 4.3, 4),\n",
       " (0.2, 0.4, 0.1, 4.4, 4),\n",
       " (0.2, 0.4, 0.1, 4.5, 4),\n",
       " (0.2, 0.4, 0.1, 4.6000000000000005, 4),\n",
       " (0.2, 0.4, 0.1, 4.7, 4),\n",
       " (0.2, 0.4, 0.1, 4.800000000000001, 4),\n",
       " (0.2, 0.4, 0.1, 4.9, 4),\n",
       " (0.2, 0.4, 0.1, 5.0, 4),\n",
       " (0.2, 0.4, 0.1, 5.1000000000000005, 4),\n",
       " (0.2, 0.4, 0.1, 5.2, 4),\n",
       " (0.2, 0.4, 0.1, 5.300000000000001, 4),\n",
       " (0.2, 0.4, 0.1, 5.4, 4),\n",
       " (0.2, 0.4, 0.1, 5.5, 4),\n",
       " (0.2, 0.4, 0.1, 5.6000000000000005, 4),\n",
       " (0.2, 0.4, 0.1, 5.7, 4),\n",
       " (0.2, 0.4, 0.1, 5.800000000000001, 4),\n",
       " (0.2, 0.4, 0.1, 5.9, 4),\n",
       " (0.2, 0.4, 0.1, 6.0, 4),\n",
       " (0.2, 0.4, 0.1, 6.1000000000000005, 4),\n",
       " (0.2, 0.4, 0.1, 6.2, 4),\n",
       " (0.2, 0.4, 0.1, 6.300000000000001, 4),\n",
       " (0.2, 0.4, 0.1, 6.4, 4),\n",
       " (0.2, 0.4, 0.2, 0.2, 4),\n",
       " (0.2, 0.4, 0.2, 0.30000000000000004, 4),\n",
       " (0.2, 0.4, 0.2, 0.4, 4),\n",
       " (0.2, 0.4, 0.2, 0.5, 4),\n",
       " (0.2, 0.4, 0.2, 0.6000000000000001, 4),\n",
       " (0.2, 0.4, 0.2, 0.7000000000000001, 4),\n",
       " (0.2, 0.4, 0.2, 0.8, 4),\n",
       " (0.2, 0.4, 0.2, 0.9, 4),\n",
       " (0.2, 0.4, 0.2, 1.0, 4),\n",
       " (0.2, 0.4, 0.2, 1.1, 4),\n",
       " (0.2, 0.4, 0.2, 1.2000000000000002, 4),\n",
       " (0.2, 0.4, 0.2, 1.3, 4),\n",
       " (0.2, 0.4, 0.2, 1.4000000000000001, 4),\n",
       " (0.2, 0.4, 0.2, 1.5, 4),\n",
       " (0.2, 0.4, 0.2, 1.6, 4),\n",
       " (0.2, 0.4, 0.2, 1.7000000000000002, 4),\n",
       " (0.2, 0.4, 0.2, 1.8, 4),\n",
       " (0.2, 0.4, 0.2, 1.9000000000000001, 4),\n",
       " (0.2, 0.4, 0.2, 2.0, 4),\n",
       " (0.2, 0.4, 0.2, 2.1, 4),\n",
       " (0.2, 0.4, 0.2, 2.2, 4),\n",
       " (0.2, 0.4, 0.2, 2.3000000000000003, 4),\n",
       " (0.2, 0.4, 0.2, 2.4000000000000004, 4),\n",
       " (0.2, 0.4, 0.2, 2.5, 4),\n",
       " (0.2, 0.4, 0.2, 2.6, 4),\n",
       " (0.2, 0.4, 0.2, 2.7, 4),\n",
       " (0.2, 0.4, 0.2, 2.8000000000000003, 4),\n",
       " (0.2, 0.4, 0.2, 2.9000000000000004, 4),\n",
       " (0.2, 0.4, 0.2, 3.0, 4),\n",
       " (0.2, 0.4, 0.2, 3.1, 4),\n",
       " (0.2, 0.4, 0.2, 3.2, 4),\n",
       " (0.2, 0.4, 0.2, 3.3000000000000003, 4),\n",
       " (0.2, 0.4, 0.2, 3.4000000000000004, 4),\n",
       " (0.2, 0.4, 0.2, 3.5, 4),\n",
       " (0.2, 0.4, 0.2, 3.6, 4),\n",
       " (0.2, 0.4, 0.2, 3.7, 4),\n",
       " (0.2, 0.4, 0.2, 3.8000000000000003, 4),\n",
       " (0.2, 0.4, 0.2, 3.9000000000000004, 4),\n",
       " (0.2, 0.4, 0.2, 4.0, 4),\n",
       " (0.2, 0.4, 0.2, 4.1000000000000005, 4),\n",
       " (0.2, 0.4, 0.2, 4.2, 4),\n",
       " (0.2, 0.4, 0.2, 4.3, 4),\n",
       " (0.2, 0.4, 0.2, 4.4, 4),\n",
       " (0.2, 0.4, 0.2, 4.5, 4),\n",
       " (0.2, 0.4, 0.2, 4.6000000000000005, 4),\n",
       " (0.2, 0.4, 0.2, 4.7, 4),\n",
       " (0.2, 0.4, 0.2, 4.800000000000001, 4),\n",
       " (0.2, 0.4, 0.2, 4.9, 4),\n",
       " (0.2, 0.4, 0.2, 5.0, 4),\n",
       " (0.2, 0.4, 0.2, 5.1000000000000005, 4),\n",
       " (0.2, 0.4, 0.2, 5.2, 4),\n",
       " (0.2, 0.4, 0.2, 5.300000000000001, 4),\n",
       " (0.2, 0.4, 0.2, 5.4, 4),\n",
       " (0.2, 0.4, 0.2, 5.5, 4),\n",
       " (0.2, 0.4, 0.2, 5.6000000000000005, 4),\n",
       " (0.2, 0.4, 0.2, 5.7, 4),\n",
       " (0.2, 0.4, 0.2, 5.800000000000001, 4),\n",
       " (0.2, 0.4, 0.2, 5.9, 4),\n",
       " (0.2, 0.4, 0.2, 6.0, 4),\n",
       " (0.2, 0.4, 0.2, 6.1000000000000005, 4),\n",
       " (0.2, 0.4, 0.2, 6.2, 4),\n",
       " (0.2, 0.4, 0.2, 6.300000000000001, 4),\n",
       " (0.2, 0.4, 0.2, 6.4, 4),\n",
       " (0.2, 0.4, 0.2, 6.5, 4),\n",
       " (0.2, 0.4, 0.2, 6.6000000000000005, 4),\n",
       " (0.2, 0.4, 0.2, 6.7, 4),\n",
       " (0.2, 0.4, 0.2, 6.800000000000001, 4),\n",
       " (0.2, 0.4, 0.2, 6.9, 4),\n",
       " (0.2, 0.4, 0.2, 7.0, 4),\n",
       " (0.2, 0.4, 0.2, 7.1000000000000005, 4),\n",
       " (0.2, 0.4, 0.2, 7.2, 4),\n",
       " (0.2, 0.4, 0.2, 7.300000000000001, 4),\n",
       " (0.2, 0.4, 0.2, 7.4, 4),\n",
       " (0.2, 0.4, 0.2, 7.5, 4),\n",
       " (0.2, 0.4, 0.2, 7.6000000000000005, 4),\n",
       " (0.2, 0.4, 0.2, 7.7, 4),\n",
       " (0.2, 0.4, 0.2, 7.800000000000001, 4),\n",
       " (0.2, 0.4, 0.2, 7.9, 4),\n",
       " (0.2, 0.4, 0.2, 8.0, 4),\n",
       " (0.2, 0.4, 0.2, 8.1, 4),\n",
       " (0.2, 0.4, 0.2, 8.200000000000001, 4),\n",
       " (0.2, 0.4, 0.2, 8.3, 4),\n",
       " (0.2, 0.4, 0.2, 8.4, 4),\n",
       " (0.2, 0.4, 0.2, 8.5, 4),\n",
       " (0.2, 0.4, 0.2, 8.6, 4),\n",
       " (0.2, 0.4, 0.2, 8.700000000000001, 4),\n",
       " (0.2, 0.4, 0.2, 8.8, 4),\n",
       " (0.2, 0.4, 0.2, 8.9, 4),\n",
       " (0.2, 0.4, 0.2, 9.0, 4),\n",
       " (0.2, 0.4, 0.2, 9.1, 4),\n",
       " (0.2, 0.4, 0.2, 9.200000000000001, 4),\n",
       " (0.2, 0.4, 0.2, 9.3, 4),\n",
       " (0.2, 0.4, 0.2, 9.4, 4),\n",
       " (0.2, 0.4, 0.2, 9.5, 4),\n",
       " (0.2, 0.4, 0.2, 9.600000000000001, 4),\n",
       " (0.2, 0.4, 0.2, 9.700000000000001, 4),\n",
       " (0.2, 0.4, 0.2, 9.8, 4),\n",
       " (0.2, 0.4, 0.2, 9.9, 4),\n",
       " (0.2, 0.4, 0.30000000000000004, 0.2, 4),\n",
       " (0.2, 0.4, 0.30000000000000004, 0.30000000000000004, 4),\n",
       " (0.2, 0.4, 0.30000000000000004, 0.4, 4),\n",
       " (0.2, 0.4, 0.30000000000000004, 0.5, 4),\n",
       " (0.2, 0.4, 0.30000000000000004, 0.6000000000000001, 4),\n",
       " (0.2, 0.4, 0.30000000000000004, 0.7000000000000001, 4),\n",
       " (0.2, 0.4, 0.30000000000000004, 0.8, 4),\n",
       " (0.2, 0.4, 0.30000000000000004, 0.9, 4),\n",
       " (0.2, 0.4, 0.30000000000000004, 1.0, 4),\n",
       " (0.2, 0.4, 0.30000000000000004, 1.1, 4),\n",
       " (0.2, 0.4, 0.30000000000000004, 1.2000000000000002, 4),\n",
       " (0.2, 0.4, 0.30000000000000004, 1.3, 4),\n",
       " (0.2, 0.4, 0.30000000000000004, 1.4000000000000001, 4),\n",
       " (0.2, 0.4, 0.30000000000000004, 1.5, 4),\n",
       " (0.2, 0.4, 0.30000000000000004, 1.6, 4),\n",
       " (0.2, 0.4, 0.30000000000000004, 1.7000000000000002, 4),\n",
       " (0.2, 0.4, 0.30000000000000004, 1.8, 4),\n",
       " (0.2, 0.4, 0.30000000000000004, 1.9000000000000001, 4),\n",
       " (0.2, 0.4, 0.30000000000000004, 2.0, 4),\n",
       " (0.2, 0.4, 0.30000000000000004, 2.1, 4),\n",
       " (0.2, 0.4, 0.30000000000000004, 2.2, 4),\n",
       " (0.2, 0.4, 0.30000000000000004, 2.3000000000000003, 4),\n",
       " (0.2, 0.4, 0.30000000000000004, 2.4000000000000004, 4),\n",
       " (0.2, 0.4, 0.30000000000000004, 2.5, 4),\n",
       " (0.2, 0.4, 0.30000000000000004, 2.6, 4),\n",
       " (0.2, 0.4, 0.30000000000000004, 2.7, 4),\n",
       " (0.2, 0.4, 0.30000000000000004, 2.8000000000000003, 4),\n",
       " (0.2, 0.4, 0.30000000000000004, 2.9000000000000004, 4),\n",
       " (0.2, 0.4, 0.30000000000000004, 3.0, 4),\n",
       " (0.2, 0.4, 0.30000000000000004, 3.1, 4),\n",
       " (0.2, 0.4, 0.30000000000000004, 3.2, 4),\n",
       " (0.2, 0.4, 0.30000000000000004, 3.3000000000000003, 4),\n",
       " (0.2, 0.4, 0.30000000000000004, 3.4000000000000004, 4),\n",
       " (0.2, 0.4, 0.30000000000000004, 3.5, 4),\n",
       " (0.2, 0.4, 0.30000000000000004, 3.6, 4),\n",
       " (0.2, 0.4, 0.30000000000000004, 3.7, 4),\n",
       " (0.2, 0.4, 0.30000000000000004, 3.8000000000000003, 4),\n",
       " (0.2, 0.4, 0.30000000000000004, 3.9000000000000004, 4),\n",
       " (0.2, 0.4, 0.30000000000000004, 4.0, 4),\n",
       " (0.2, 0.4, 0.30000000000000004, 4.1000000000000005, 4),\n",
       " (0.2, 0.4, 0.30000000000000004, 4.2, 4),\n",
       " (0.2, 0.4, 0.30000000000000004, 4.3, 4),\n",
       " (0.2, 0.4, 0.30000000000000004, 4.4, 4),\n",
       " (0.2, 0.4, 0.30000000000000004, 4.5, 4),\n",
       " (0.2, 0.4, 0.30000000000000004, 4.6000000000000005, 4),\n",
       " (0.2, 0.4, 0.30000000000000004, 4.7, 4),\n",
       " (0.2, 0.4, 0.30000000000000004, 4.800000000000001, 4),\n",
       " (0.2, 0.4, 0.30000000000000004, 4.9, 4),\n",
       " (0.2, 0.4, 0.30000000000000004, 5.0, 4),\n",
       " (0.2, 0.4, 0.30000000000000004, 5.1000000000000005, 4),\n",
       " (0.2, 0.4, 0.30000000000000004, 5.2, 4),\n",
       " (0.2, 0.4, 0.30000000000000004, 5.300000000000001, 4),\n",
       " (0.2, 0.4, 0.30000000000000004, 5.4, 4),\n",
       " (0.2, 0.4, 0.30000000000000004, 5.5, 4),\n",
       " (0.2, 0.4, 0.30000000000000004, 5.6000000000000005, 4),\n",
       " (0.2, 0.4, 0.30000000000000004, 5.7, 4),\n",
       " (0.2, 0.4, 0.30000000000000004, 5.800000000000001, 4),\n",
       " (0.2, 0.4, 0.30000000000000004, 5.9, 4),\n",
       " (0.2, 0.4, 0.30000000000000004, 6.0, 4),\n",
       " (0.2, 0.4, 0.30000000000000004, 6.1000000000000005, 4),\n",
       " (0.2, 0.4, 0.30000000000000004, 6.2, 4),\n",
       " (0.2, 0.4, 0.30000000000000004, 6.300000000000001, 4),\n",
       " (0.2, 0.4, 0.30000000000000004, 6.4, 4),\n",
       " (0.2, 0.4, 0.30000000000000004, 6.5, 4),\n",
       " (0.2, 0.4, 0.30000000000000004, 6.6000000000000005, 4),\n",
       " (0.2, 0.4, 0.30000000000000004, 6.7, 4),\n",
       " (0.2, 0.4, 0.30000000000000004, 6.800000000000001, 4),\n",
       " (0.2, 0.4, 0.30000000000000004, 6.9, 4),\n",
       " (0.2, 0.4, 0.30000000000000004, 7.0, 4),\n",
       " (0.2, 0.4, 0.30000000000000004, 7.1000000000000005, 4),\n",
       " (0.2, 0.4, 0.30000000000000004, 7.2, 4),\n",
       " (0.2, 0.4, 0.30000000000000004, 7.300000000000001, 4),\n",
       " (0.2, 0.4, 0.30000000000000004, 7.4, 4),\n",
       " (0.2, 0.4, 0.30000000000000004, 7.5, 4),\n",
       " (0.2, 0.4, 0.30000000000000004, 7.6000000000000005, 4),\n",
       " (0.2, 0.4, 0.30000000000000004, 7.7, 4),\n",
       " (0.2, 0.4, 0.30000000000000004, 7.800000000000001, 4),\n",
       " (0.2, 0.4, 0.30000000000000004, 7.9, 4),\n",
       " (0.2, 0.4, 0.30000000000000004, 8.0, 4),\n",
       " (0.2, 0.4, 0.30000000000000004, 8.1, 4),\n",
       " (0.2, 0.4, 0.30000000000000004, 8.200000000000001, 4),\n",
       " (0.2, 0.4, 0.30000000000000004, 8.3, 4),\n",
       " (0.2, 0.4, 0.30000000000000004, 8.4, 4),\n",
       " (0.2, 0.4, 0.30000000000000004, 8.5, 4),\n",
       " (0.2, 0.4, 0.30000000000000004, 8.6, 4),\n",
       " (0.2, 0.4, 0.30000000000000004, 8.700000000000001, 4),\n",
       " (0.2, 0.4, 0.30000000000000004, 8.8, 4),\n",
       " (0.2, 0.4, 0.30000000000000004, 8.9, 4),\n",
       " (0.2, 0.4, 0.30000000000000004, 9.0, 4),\n",
       " (0.2, 0.4, 0.30000000000000004, 9.1, 4),\n",
       " (0.2, 0.4, 0.30000000000000004, 9.200000000000001, 4),\n",
       " (0.2, 0.4, 0.30000000000000004, 9.3, 4),\n",
       " (0.2, 0.4, 0.30000000000000004, 9.4, 4),\n",
       " (0.2, 0.4, 0.30000000000000004, 9.5, 4),\n",
       " (0.2, 0.4, 0.30000000000000004, 9.600000000000001, 4),\n",
       " (0.2, 0.4, 0.30000000000000004, 9.700000000000001, 4),\n",
       " (0.2, 0.4, 0.30000000000000004, 9.8, 4),\n",
       " (0.2, 0.4, 0.30000000000000004, 9.9, 4),\n",
       " (0.2, 0.4, 0.4, 0.1, 4),\n",
       " (0.2, 0.4, 0.4, 0.2, 4),\n",
       " (0.2, 0.4, 0.4, 0.30000000000000004, 4),\n",
       " (0.2, 0.4, 0.4, 0.4, 4),\n",
       " (0.2, 0.4, 0.4, 0.5, 4),\n",
       " (0.2, 0.4, 0.4, 0.6000000000000001, 4),\n",
       " (0.2, 0.4, 0.4, 0.7000000000000001, 4),\n",
       " (0.2, 0.4, 0.4, 0.8, 4),\n",
       " (0.2, 0.4, 0.4, 0.9, 4),\n",
       " (0.2, 0.4, 0.4, 1.0, 4),\n",
       " (0.2, 0.4, 0.4, 1.1, 4),\n",
       " (0.2, 0.4, 0.4, 1.2000000000000002, 4),\n",
       " (0.2, 0.4, 0.4, 1.3, 4),\n",
       " (0.2, 0.4, 0.4, 1.4000000000000001, 4),\n",
       " (0.2, 0.4, 0.4, 1.5, 4),\n",
       " (0.2, 0.4, 0.4, 1.6, 4),\n",
       " (0.2, 0.4, 0.4, 1.7000000000000002, 4),\n",
       " (0.2, 0.4, 0.4, 1.8, 4),\n",
       " (0.2, 0.4, 0.4, 1.9000000000000001, 4),\n",
       " (0.2, 0.4, 0.4, 2.0, 4),\n",
       " (0.2, 0.4, 0.4, 2.1, 4),\n",
       " (0.2, 0.4, 0.4, 2.2, 4),\n",
       " (0.2, 0.4, 0.4, 2.3000000000000003, 4),\n",
       " (0.2, 0.4, 0.4, 2.4000000000000004, 4),\n",
       " (0.2, 0.4, 0.4, 2.5, 4),\n",
       " (0.2, 0.4, 0.4, 2.6, 4),\n",
       " (0.2, 0.4, 0.4, 2.7, 4),\n",
       " (0.2, 0.4, 0.4, 2.8000000000000003, 4),\n",
       " (0.2, 0.4, 0.4, 2.9000000000000004, 4),\n",
       " (0.2, 0.4, 0.4, 3.0, 4),\n",
       " (0.2, 0.4, 0.4, 3.1, 4),\n",
       " (0.2, 0.4, 0.4, 3.2, 4),\n",
       " (0.2, 0.4, 0.4, 3.3000000000000003, 4),\n",
       " (0.2, 0.4, 0.4, 3.4000000000000004, 4),\n",
       " (0.2, 0.4, 0.4, 3.5, 4),\n",
       " (0.2, 0.4, 0.4, 3.6, 4),\n",
       " (0.2, 0.4, 0.4, 3.7, 4),\n",
       " (0.2, 0.4, 0.4, 3.8000000000000003, 4),\n",
       " (0.2, 0.4, 0.4, 3.9000000000000004, 4),\n",
       " (0.2, 0.4, 0.4, 4.0, 4),\n",
       " (0.2, 0.4, 0.4, 4.1000000000000005, 4),\n",
       " (0.2, 0.4, 0.4, 4.2, 4),\n",
       " (0.2, 0.4, 0.4, 4.3, 4),\n",
       " (0.2, 0.4, 0.4, 4.4, 4),\n",
       " (0.2, 0.4, 0.4, 4.5, 4),\n",
       " (0.2, 0.4, 0.4, 4.6000000000000005, 4),\n",
       " (0.2, 0.4, 0.4, 4.7, 4),\n",
       " (0.2, 0.4, 0.4, 4.800000000000001, 4),\n",
       " (0.2, 0.4, 0.4, 4.9, 4),\n",
       " (0.2, 0.4, 0.4, 5.0, 4),\n",
       " (0.2, 0.4, 0.4, 5.1000000000000005, 4),\n",
       " (0.2, 0.4, 0.4, 5.2, 4),\n",
       " (0.2, 0.4, 0.4, 5.300000000000001, 4),\n",
       " (0.2, 0.4, 0.4, 5.4, 4),\n",
       " (0.2, 0.4, 0.4, 5.5, 4),\n",
       " (0.2, 0.4, 0.4, 5.6000000000000005, 4),\n",
       " (0.2, 0.4, 0.4, 5.7, 4),\n",
       " (0.2, 0.4, 0.4, 5.800000000000001, 4),\n",
       " (0.2, 0.4, 0.4, 5.9, 4),\n",
       " (0.2, 0.4, 0.4, 6.0, 4),\n",
       " (0.2, 0.4, 0.4, 6.1000000000000005, 4),\n",
       " (0.2, 0.4, 0.4, 6.2, 4),\n",
       " (0.2, 0.4, 0.4, 6.300000000000001, 4),\n",
       " (0.2, 0.4, 0.4, 6.4, 4),\n",
       " (0.2, 0.4, 0.4, 6.5, 4),\n",
       " (0.2, 0.4, 0.4, 6.6000000000000005, 4),\n",
       " (0.2, 0.4, 0.4, 6.7, 4),\n",
       " (0.2, 0.4, 0.4, 6.800000000000001, 4),\n",
       " (0.2, 0.4, 0.4, 6.9, 4),\n",
       " (0.2, 0.4, 0.4, 7.0, 4),\n",
       " (0.2, 0.4, 0.4, 7.1000000000000005, 4),\n",
       " (0.2, 0.4, 0.4, 7.2, 4),\n",
       " (0.2, 0.4, 0.4, 7.300000000000001, 4),\n",
       " (0.2, 0.4, 0.4, 7.4, 4),\n",
       " (0.2, 0.4, 0.4, 7.5, 4),\n",
       " (0.2, 0.4, 0.4, 7.6000000000000005, 4),\n",
       " (0.2, 0.4, 0.4, 7.7, 4),\n",
       " (0.2, 0.4, 0.4, 7.800000000000001, 4),\n",
       " (0.2, 0.4, 0.4, 7.9, 4),\n",
       " (0.2, 0.4, 0.4, 8.0, 4),\n",
       " (0.2, 0.4, 0.4, 8.1, 4),\n",
       " (0.2, 0.4, 0.4, 8.200000000000001, 4),\n",
       " (0.2, 0.4, 0.4, 8.3, 4),\n",
       " (0.2, 0.4, 0.4, 8.4, 4),\n",
       " (0.2, 0.4, 0.4, 8.5, 4),\n",
       " (0.2, 0.4, 0.4, 8.6, 4),\n",
       " (0.2, 0.4, 0.4, 8.700000000000001, 4),\n",
       " (0.2, 0.4, 0.4, 8.8, 4),\n",
       " (0.2, 0.4, 0.4, 8.9, 4),\n",
       " (0.2, 0.4, 0.4, 9.0, 4),\n",
       " (0.2, 0.4, 0.4, 9.1, 4),\n",
       " (0.2, 0.4, 0.4, 9.200000000000001, 4),\n",
       " (0.2, 0.4, 0.4, 9.3, 4),\n",
       " (0.2, 0.4, 0.4, 9.4, 4),\n",
       " (0.2, 0.4, 0.4, 9.5, 4),\n",
       " (0.2, 0.4, 0.4, 9.600000000000001, 4),\n",
       " (0.2, 0.4, 0.4, 9.700000000000001, 4),\n",
       " (0.2, 0.4, 0.4, 9.8, 4),\n",
       " (0.2, 0.4, 0.4, 9.9, 4),\n",
       " (0.2, 0.4, 0.5, 0.1, 4),\n",
       " (0.2, 0.4, 0.5, 0.2, 4),\n",
       " (0.2, 0.4, 0.5, 0.30000000000000004, 4),\n",
       " (0.2, 0.4, 0.5, 0.4, 4),\n",
       " (0.2, 0.4, 0.5, 0.5, 4),\n",
       " (0.2, 0.4, 0.5, 0.6000000000000001, 4),\n",
       " (0.2, 0.4, 0.5, 0.7000000000000001, 4),\n",
       " (0.2, 0.4, 0.5, 0.8, 4),\n",
       " (0.2, 0.4, 0.5, 0.9, 4),\n",
       " (0.2, 0.4, 0.5, 1.0, 4),\n",
       " (0.2, 0.4, 0.5, 1.1, 4),\n",
       " (0.2, 0.4, 0.5, 1.2000000000000002, 4),\n",
       " (0.2, 0.4, 0.5, 1.3, 4),\n",
       " (0.2, 0.4, 0.5, 1.4000000000000001, 4),\n",
       " (0.2, 0.4, 0.5, 1.5, 4),\n",
       " (0.2, 0.4, 0.5, 1.6, 4),\n",
       " (0.2, 0.4, 0.5, 1.7000000000000002, 4),\n",
       " (0.2, 0.4, 0.5, 1.8, 4),\n",
       " (0.2, 0.4, 0.5, 1.9000000000000001, 4),\n",
       " (0.2, 0.4, 0.5, 2.0, 4),\n",
       " (0.2, 0.4, 0.5, 2.1, 4),\n",
       " (0.2, 0.4, 0.5, 2.2, 4),\n",
       " (0.2, 0.4, 0.5, 2.3000000000000003, 4),\n",
       " (0.2, 0.4, 0.5, 2.4000000000000004, 4),\n",
       " (0.2, 0.4, 0.5, 2.5, 4),\n",
       " (0.2, 0.4, 0.5, 2.6, 4),\n",
       " (0.2, 0.4, 0.5, 2.7, 4),\n",
       " (0.2, 0.4, 0.5, 2.8000000000000003, 4),\n",
       " (0.2, 0.4, 0.5, 2.9000000000000004, 4),\n",
       " (0.2, 0.4, 0.5, 3.0, 4),\n",
       " (0.2, 0.4, 0.5, 3.1, 4),\n",
       " (0.2, 0.4, 0.5, 3.2, 4),\n",
       " (0.2, 0.4, 0.5, 3.3000000000000003, 4),\n",
       " (0.2, 0.4, 0.5, 3.4000000000000004, 4),\n",
       " (0.2, 0.4, 0.5, 3.5, 4),\n",
       " (0.2, 0.4, 0.5, 3.6, 4),\n",
       " (0.2, 0.4, 0.5, 3.7, 4),\n",
       " (0.2, 0.4, 0.5, 3.8000000000000003, 4),\n",
       " (0.2, 0.4, 0.5, 3.9000000000000004, 4),\n",
       " (0.2, 0.4, 0.5, 4.0, 4),\n",
       " (0.2, 0.4, 0.5, 4.1000000000000005, 4),\n",
       " (0.2, 0.4, 0.5, 4.2, 4),\n",
       " (0.2, 0.4, 0.5, 4.3, 4),\n",
       " (0.2, 0.4, 0.5, 4.4, 4),\n",
       " (0.2, 0.4, 0.5, 4.5, 4),\n",
       " (0.2, 0.4, 0.5, 4.6000000000000005, 4),\n",
       " (0.2, 0.4, 0.5, 4.7, 4),\n",
       " (0.2, 0.4, 0.5, 4.800000000000001, 4),\n",
       " (0.2, 0.4, 0.5, 4.9, 4),\n",
       " (0.2, 0.4, 0.5, 5.0, 4),\n",
       " (0.2, 0.4, 0.5, 5.1000000000000005, 4),\n",
       " (0.2, 0.4, 0.5, 5.2, 4),\n",
       " (0.2, 0.4, 0.5, 5.300000000000001, 4),\n",
       " (0.2, 0.4, 0.5, 5.4, 4),\n",
       " (0.2, 0.4, 0.5, 5.5, 4),\n",
       " (0.2, 0.4, 0.5, 5.6000000000000005, 4),\n",
       " (0.2, 0.4, 0.5, 5.7, 4),\n",
       " (0.2, 0.4, 0.5, 5.800000000000001, 4),\n",
       " (0.2, 0.4, 0.5, 5.9, 4),\n",
       " (0.2, 0.4, 0.5, 6.0, 4),\n",
       " (0.2, 0.4, 0.5, 6.1000000000000005, 4),\n",
       " (0.2, 0.4, 0.5, 6.2, 4),\n",
       " (0.2, 0.4, 0.5, 6.300000000000001, 4),\n",
       " (0.2, 0.4, 0.5, 6.4, 4),\n",
       " (0.2, 0.4, 0.5, 6.5, 4),\n",
       " (0.2, 0.4, 0.5, 6.6000000000000005, 4),\n",
       " (0.2, 0.4, 0.5, 6.7, 4),\n",
       " (0.2, 0.4, 0.5, 6.800000000000001, 4),\n",
       " (0.2, 0.4, 0.5, 6.9, 4),\n",
       " (0.2, 0.4, 0.5, 7.0, 4),\n",
       " (0.2, 0.4, 0.5, 7.1000000000000005, 4),\n",
       " (0.2, 0.4, 0.5, 7.2, 4),\n",
       " (0.2, 0.4, 0.5, 7.300000000000001, 4),\n",
       " (0.2, 0.4, 0.5, 7.4, 4),\n",
       " (0.2, 0.4, 0.5, 7.5, 4),\n",
       " (0.2, 0.4, 0.5, 7.6000000000000005, 4),\n",
       " (0.2, 0.4, 0.5, 7.7, 4),\n",
       " (0.2, 0.4, 0.5, 7.800000000000001, 4),\n",
       " (0.2, 0.4, 0.5, 7.9, 4),\n",
       " (0.2, 0.4, 0.5, 8.0, 4),\n",
       " (0.2, 0.4, 0.5, 8.1, 4),\n",
       " (0.2, 0.4, 0.5, 8.200000000000001, 4),\n",
       " (0.2, 0.4, 0.5, 8.3, 4),\n",
       " (0.2, 0.4, 0.5, 8.4, 4),\n",
       " (0.2, 0.4, 0.5, 8.5, 4),\n",
       " (0.2, 0.4, 0.5, 8.6, 4),\n",
       " (0.2, 0.4, 0.5, 8.700000000000001, 4),\n",
       " (0.2, 0.4, 0.5, 8.8, 4),\n",
       " (0.2, 0.4, 0.5, 8.9, 4),\n",
       " (0.2, 0.4, 0.5, 9.0, 4),\n",
       " (0.2, 0.4, 0.5, 9.1, 4),\n",
       " (0.2, 0.4, 0.5, 9.200000000000001, 4),\n",
       " (0.2, 0.4, 0.5, 9.3, 4),\n",
       " (0.2, 0.4, 0.5, 9.4, 4),\n",
       " (0.2, 0.4, 0.5, 9.5, 4),\n",
       " (0.2, 0.4, 0.5, 9.600000000000001, 4),\n",
       " (0.2, 0.4, 0.5, 9.700000000000001, 4),\n",
       " (0.2, 0.4, 0.5, 9.8, 4),\n",
       " (0.2, 0.4, 0.5, 9.9, 4),\n",
       " (0.2, 0.4, 0.6, 0.1, 4),\n",
       " (0.2, 0.4, 0.6, 0.2, 4),\n",
       " (0.2, 0.4, 0.6, 0.30000000000000004, 4),\n",
       " (0.2, 0.4, 0.6, 0.4, 4),\n",
       " (0.2, 0.4, 0.6, 0.5, 4),\n",
       " (0.2, 0.4, 0.6, 0.6000000000000001, 4),\n",
       " (0.2, 0.4, 0.6, 0.7000000000000001, 4),\n",
       " (0.2, 0.4, 0.6, 0.8, 4),\n",
       " (0.2, 0.4, 0.6, 0.9, 4),\n",
       " (0.2, 0.4, 0.6, 1.0, 4),\n",
       " (0.2, 0.4, 0.6, 1.1, 4),\n",
       " (0.2, 0.4, 0.6, 1.2000000000000002, 4),\n",
       " (0.2, 0.4, 0.6, 1.3, 4),\n",
       " (0.2, 0.4, 0.6, 1.4000000000000001, 4),\n",
       " (0.2, 0.4, 0.6, 1.5, 4),\n",
       " (0.2, 0.4, 0.6, 1.6, 4),\n",
       " (0.2, 0.4, 0.6, 1.7000000000000002, 4),\n",
       " (0.2, 0.4, 0.6, 1.8, 4),\n",
       " (0.2, 0.4, 0.6, 1.9000000000000001, 4),\n",
       " (0.2, 0.4, 0.6, 2.0, 4),\n",
       " (0.2, 0.4, 0.6, 2.1, 4),\n",
       " (0.2, 0.4, 0.6, 2.2, 4),\n",
       " (0.2, 0.4, 0.6, 2.3000000000000003, 4),\n",
       " (0.2, 0.4, 0.6, 2.4000000000000004, 4),\n",
       " (0.2, 0.4, 0.6, 2.5, 4),\n",
       " (0.2, 0.4, 0.6, 2.6, 4),\n",
       " (0.2, 0.4, 0.6, 2.7, 4),\n",
       " (0.2, 0.4, 0.6, 2.8000000000000003, 4),\n",
       " (0.2, 0.4, 0.6, 2.9000000000000004, 4),\n",
       " (0.2, 0.4, 0.6, 3.0, 4),\n",
       " (0.2, 0.4, 0.6, 3.1, 4),\n",
       " (0.2, 0.4, 0.6, 3.2, 4),\n",
       " (0.2, 0.4, 0.6, 3.3000000000000003, 4),\n",
       " (0.2, 0.4, 0.6, 3.4000000000000004, 4),\n",
       " (0.2, 0.4, 0.6, 3.5, 4),\n",
       " (0.2, 0.4, 0.6, 3.6, 4),\n",
       " (0.2, 0.4, 0.6, 3.7, 4),\n",
       " (0.2, 0.4, 0.6, 3.8000000000000003, 4),\n",
       " (0.2, 0.4, 0.6, 3.9000000000000004, 4),\n",
       " (0.2, 0.4, 0.6, 4.0, 4),\n",
       " (0.2, 0.4, 0.6, 4.1000000000000005, 4),\n",
       " (0.2, 0.4, 0.6, 4.2, 4),\n",
       " (0.2, 0.4, 0.6, 4.3, 4),\n",
       " (0.2, 0.4, 0.6, 6.300000000000001, 4),\n",
       " (0.2, 0.4, 0.6, 6.4, 4),\n",
       " (0.2, 0.4, 0.6, 6.5, 4),\n",
       " (0.2, 0.4, 0.6, 6.6000000000000005, 4),\n",
       " (0.2, 0.4, 0.6, 6.7, 4),\n",
       " (0.2, 0.4, 0.6, 6.800000000000001, 4),\n",
       " (0.2, 0.4, 0.6, 6.9, 4),\n",
       " (0.2, 0.4, 0.6, 7.0, 4),\n",
       " (0.2, 0.4, 0.6, 7.1000000000000005, 4),\n",
       " (0.2, 0.4, 0.6, 7.2, 4),\n",
       " (0.2, 0.4, 0.6, 7.300000000000001, 4),\n",
       " (0.2, 0.4, 0.6, 7.4, 4),\n",
       " (0.2, 0.4, 0.6, 7.5, 4),\n",
       " (0.2, 0.4, 0.6, 7.6000000000000005, 4),\n",
       " (0.2, 0.4, 0.6, 7.7, 4),\n",
       " (0.2, 0.4, 0.6, 7.800000000000001, 4),\n",
       " (0.2, 0.4, 0.6, 7.9, 4),\n",
       " (0.2, 0.4, 0.6, 8.0, 4),\n",
       " (0.2, 0.4, 0.6, 8.1, 4),\n",
       " (0.2, 0.4, 0.6, 8.200000000000001, 4),\n",
       " (0.2, 0.4, 0.6, 8.3, 4),\n",
       " (0.2, 0.4, 0.6, 8.4, 4),\n",
       " (0.2, 0.4, 0.6, 8.5, 4),\n",
       " (0.2, 0.4, 0.6, 8.6, 4),\n",
       " (0.2, 0.4, 0.6, 8.700000000000001, 4),\n",
       " (0.2, 0.4, 0.6, 8.8, 4),\n",
       " (0.2, 0.4, 0.6, 8.9, 4),\n",
       " (0.2, 0.4, 0.6, 9.0, 4),\n",
       " (0.2, 0.4, 0.6, 9.1, 4),\n",
       " (0.2, 0.4, 0.6, 9.200000000000001, 4),\n",
       " (0.2, 0.4, 0.6, 9.3, 4),\n",
       " (0.2, 0.4, 0.6, 9.4, 4)]"
      ]
     },
     "execution_count": 29,
     "metadata": {},
     "output_type": "execute_result"
    }
   ],
   "source": [
    "valid_high_combinations"
   ]
  },
  {
   "cell_type": "code",
   "execution_count": 30,
   "id": "bbbf2896-4be9-464a-8c0e-2064cb9a2e3c",
   "metadata": {
    "execution": {
     "iopub.execute_input": "2022-11-17T23:42:27.012022Z",
     "iopub.status.busy": "2022-11-17T23:42:27.011424Z",
     "iopub.status.idle": "2022-11-17T23:42:27.024602Z",
     "shell.execute_reply": "2022-11-17T23:42:27.023666Z",
     "shell.execute_reply.started": "2022-11-17T23:42:27.011975Z"
    },
    "tags": []
   },
   "outputs": [],
   "source": [
    "\n",
    "combination= (0.2, 0.6, 0.6, 4.800000000000001, 4)\n",
    "\n",
    "ret = confoundSplitNumbers(df0=df_wls_merge, df1=df_adress, \n",
    "                            df0_label='label', df1_label='label',\n",
    "\n",
    "                            p_pos_train_z0=combination[0], p_pos_train_z1 = combination[1], p_mix_z1 = combination[2], alpha_test = combination[3],\n",
    "\n",
    "                            train_test_ratio = combination[4],\n",
    "                           )"
   ]
  },
  {
   "cell_type": "code",
   "execution_count": 31,
   "id": "d6140eae-5bf5-40ca-8020-7e6ac63870fe",
   "metadata": {
    "execution": {
     "iopub.execute_input": "2022-11-17T23:42:27.973236Z",
     "iopub.status.busy": "2022-11-17T23:42:27.972531Z",
     "iopub.status.idle": "2022-11-17T23:42:27.983044Z",
     "shell.execute_reply": "2022-11-17T23:42:27.981867Z",
     "shell.execute_reply.started": "2022-11-17T23:42:27.973177Z"
    },
    "tags": []
   },
   "outputs": [
    {
     "data": {
      "text/plain": [
       "{'n_df0_train_pos': 11,\n",
       " 'n_df0_test_pos': 2,\n",
       " 'n_df0_train_neg': 44,\n",
       " 'n_df0_test_neg': 12,\n",
       " 'n_df1_train_pos': 49,\n",
       " 'n_df1_test_pos': 12,\n",
       " 'n_df1_train_neg': 32,\n",
       " 'n_df1_test_neg': 7}"
      ]
     },
     "execution_count": 31,
     "metadata": {},
     "output_type": "execute_result"
    }
   ],
   "source": [
    "ret"
   ]
  },
  {
   "cell_type": "code",
   "execution_count": null,
   "id": "a47191b4-9d54-4c47-9768-9527ab50a9ad",
   "metadata": {},
   "outputs": [],
   "source": []
  },
  {
   "cell_type": "code",
   "execution_count": null,
   "id": "298716b2-d110-4718-9125-d8326820cfc1",
   "metadata": {},
   "outputs": [],
   "source": []
  },
  {
   "cell_type": "code",
   "execution_count": null,
   "id": "aaa2af55-ed42-4e6d-8443-218e7f4ed987",
   "metadata": {},
   "outputs": [],
   "source": []
  },
  {
   "cell_type": "code",
   "execution_count": 1,
   "id": "22bacba3-be5a-43ac-8788-012e65522bdd",
   "metadata": {
    "execution": {
     "iopub.execute_input": "2022-12-02T06:45:53.526134Z",
     "iopub.status.busy": "2022-12-02T06:45:53.525136Z",
     "iopub.status.idle": "2022-12-02T06:45:53.899234Z",
     "shell.execute_reply": "2022-12-02T06:45:53.897437Z",
     "shell.execute_reply.started": "2022-12-02T06:45:53.525957Z"
    }
   },
   "outputs": [],
   "source": [
    "from sacred import Experiment\n"
   ]
  },
  {
   "cell_type": "code",
   "execution_count": 5,
   "id": "1d189034-250a-4019-a4cc-952eee8c0980",
   "metadata": {
    "execution": {
     "iopub.execute_input": "2022-12-02T06:46:25.878349Z",
     "iopub.status.busy": "2022-12-02T06:46:25.877365Z",
     "iopub.status.idle": "2022-12-02T06:46:25.898290Z",
     "shell.execute_reply": "2022-12-02T06:46:25.897047Z",
     "shell.execute_reply.started": "2022-12-02T06:46:25.878281Z"
    },
    "tags": []
   },
   "outputs": [],
   "source": [
    "ex = Experiment(\"Test Exp>>>>\",interactive=True)"
   ]
  },
  {
   "cell_type": "code",
   "execution_count": 6,
   "id": "98f5242d-1a31-4e23-a6be-ded33736144d",
   "metadata": {
    "execution": {
     "iopub.execute_input": "2022-12-02T06:46:26.102900Z",
     "iopub.status.busy": "2022-12-02T06:46:26.102171Z",
     "iopub.status.idle": "2022-12-02T06:46:26.124281Z",
     "shell.execute_reply": "2022-12-02T06:46:26.123207Z",
     "shell.execute_reply.started": "2022-12-02T06:46:26.102837Z"
    },
    "tags": []
   },
   "outputs": [
    {
     "data": {
      "text/plain": [
       "<sacred.experiment.Experiment at 0x7f1e67040ee0>"
      ]
     },
     "execution_count": 6,
     "metadata": {},
     "output_type": "execute_result"
    }
   ],
   "source": [
    "ex"
   ]
  },
  {
   "cell_type": "code",
   "execution_count": 9,
   "id": "6e357e1a-1512-412c-acfa-bfbca932ec26",
   "metadata": {
    "execution": {
     "iopub.execute_input": "2022-12-02T06:47:44.398669Z",
     "iopub.status.busy": "2022-12-02T06:47:44.397875Z",
     "iopub.status.idle": "2022-12-02T06:47:44.411015Z",
     "shell.execute_reply": "2022-12-02T06:47:44.409921Z",
     "shell.execute_reply.started": "2022-12-02T06:47:44.398607Z"
    },
    "tags": []
   },
   "outputs": [
    {
     "data": {
      "text/plain": [
       "['__class__',\n",
       " '__delattr__',\n",
       " '__dict__',\n",
       " '__dir__',\n",
       " '__doc__',\n",
       " '__eq__',\n",
       " '__format__',\n",
       " '__ge__',\n",
       " '__getattribute__',\n",
       " '__gt__',\n",
       " '__hash__',\n",
       " '__init__',\n",
       " '__init_subclass__',\n",
       " '__le__',\n",
       " '__lt__',\n",
       " '__module__',\n",
       " '__ne__',\n",
       " '__new__',\n",
       " '__reduce__',\n",
       " '__reduce_ex__',\n",
       " '__repr__',\n",
       " '__setattr__',\n",
       " '__sizeof__',\n",
       " '__str__',\n",
       " '__subclasshook__',\n",
       " '__weakref__',\n",
       " '_add_named_config',\n",
       " '_check_command',\n",
       " '_create_config_dict',\n",
       " '_create_run',\n",
       " '_handle_help',\n",
       " '_is_traversing',\n",
       " 'add_artifact',\n",
       " 'add_config',\n",
       " 'add_named_config',\n",
       " 'add_package_dependency',\n",
       " 'add_resource',\n",
       " 'add_source_file',\n",
       " 'additional_cli_options',\n",
       " 'additional_host_info',\n",
       " 'all_cli_options',\n",
       " 'automain',\n",
       " 'base_dir',\n",
       " 'capture',\n",
       " 'captured_functions',\n",
       " 'captured_out_filter',\n",
       " 'command',\n",
       " 'commands',\n",
       " 'config',\n",
       " 'config_hook',\n",
       " 'config_hooks',\n",
       " 'configurations',\n",
       " 'current_run',\n",
       " 'default_command',\n",
       " 'dependencies',\n",
       " 'doc',\n",
       " 'gather_commands',\n",
       " 'gather_named_configs',\n",
       " 'get_default_options',\n",
       " 'get_experiment_info',\n",
       " 'get_usage',\n",
       " 'info',\n",
       " 'ingredients',\n",
       " 'log_scalar',\n",
       " 'logger',\n",
       " 'main',\n",
       " 'mainfile',\n",
       " 'named_config',\n",
       " 'named_configs',\n",
       " 'observers',\n",
       " 'open_resource',\n",
       " 'option_hook',\n",
       " 'option_hooks',\n",
       " 'path',\n",
       " 'post_process_name',\n",
       " 'post_run_hook',\n",
       " 'post_run_hooks',\n",
       " 'pre_run_hook',\n",
       " 'pre_run_hooks',\n",
       " 'run',\n",
       " 'run_commandline',\n",
       " 'save_git_info',\n",
       " 'sources',\n",
       " 'traverse_ingredients']"
      ]
     },
     "execution_count": 9,
     "metadata": {},
     "output_type": "execute_result"
    }
   ],
   "source": [
    "dir(ex)"
   ]
  },
  {
   "cell_type": "code",
   "execution_count": 14,
   "id": "5424831c-aad5-4e37-8aa4-b295c3a1fe15",
   "metadata": {
    "execution": {
     "iopub.execute_input": "2022-12-02T06:49:59.947844Z",
     "iopub.status.busy": "2022-12-02T06:49:59.947042Z",
     "iopub.status.idle": "2022-12-02T06:49:59.957455Z",
     "shell.execute_reply": "2022-12-02T06:49:59.956267Z",
     "shell.execute_reply.started": "2022-12-02T06:49:59.947780Z"
    },
    "tags": []
   },
   "outputs": [
    {
     "data": {
      "text/plain": [
       "'Test Exp>>>>'"
      ]
     },
     "execution_count": 14,
     "metadata": {},
     "output_type": "execute_result"
    }
   ],
   "source": [
    "ex.path"
   ]
  },
  {
   "cell_type": "code",
   "execution_count": null,
   "id": "0067b2b2-e5e0-48dd-9542-ef554e0333ef",
   "metadata": {},
   "outputs": [],
   "source": []
  }
 ],
 "metadata": {
  "kernelspec": {
   "display_name": "Python 3 (ipykernel)",
   "language": "python",
   "name": "python3"
  },
  "language_info": {
   "codemirror_mode": {
    "name": "ipython",
    "version": 3
   },
   "file_extension": ".py",
   "mimetype": "text/x-python",
   "name": "python",
   "nbconvert_exporter": "python",
   "pygments_lexer": "ipython3",
   "version": "3.8.13"
  },
  "toc": {
   "base_numbering": 1,
   "nav_menu": {},
   "number_sections": true,
   "sideBar": true,
   "skip_h1_title": false,
   "title_cell": "Table of Contents",
   "title_sidebar": "Contents",
   "toc_cell": false,
   "toc_position": {},
   "toc_section_display": true,
   "toc_window_display": false
  }
 },
 "nbformat": 4,
 "nbformat_minor": 5
}
