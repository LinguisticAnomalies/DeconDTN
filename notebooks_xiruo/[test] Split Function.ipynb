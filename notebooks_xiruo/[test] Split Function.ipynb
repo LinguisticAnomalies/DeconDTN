{
 "cells": [
  {
   "cell_type": "code",
   "execution_count": null,
   "id": "169a05d5",
   "metadata": {},
   "outputs": [],
   "source": []
  },
  {
   "cell_type": "code",
   "execution_count": null,
   "id": "8b944a9d",
   "metadata": {},
   "outputs": [],
   "source": []
  },
  {
   "cell_type": "code",
   "execution_count": null,
   "id": "326dced1",
   "metadata": {},
   "outputs": [],
   "source": []
  },
  {
   "cell_type": "markdown",
   "id": "6969241c-4eb6-4fd6-a131-a11f7a7887e9",
   "metadata": {},
   "source": [
    "# Inner Split Function"
   ]
  },
  {
   "cell_type": "code",
   "execution_count": 1,
   "id": "315dc989",
   "metadata": {
    "ExecuteTime": {
     "end_time": "2022-10-15T19:09:38.991346Z",
     "start_time": "2022-10-15T19:09:38.980775Z"
    },
    "execution": {
     "iopub.execute_input": "2023-01-11T05:43:10.577830Z",
     "iopub.status.busy": "2023-01-11T05:43:10.576861Z",
     "iopub.status.idle": "2023-01-11T05:43:10.598231Z",
     "shell.execute_reply": "2023-01-11T05:43:10.597084Z",
     "shell.execute_reply.started": "2023-01-11T05:43:10.577624Z"
    },
    "tags": []
   },
   "outputs": [],
   "source": [
    "def confoundSplit(p_pos_train_z1, p_pos_train_z0, p_mix_z1, alpha_test):\n",
    "    \n",
    "    assert 0 <= p_pos_train_z1 <= 1\n",
    "    assert 0 <= p_pos_train_z0 <= 1\n",
    "    assert 0 <= p_mix_z1 <= 1\n",
    "    assert alpha_test >= 0\n",
    "    \n",
    "    C_z = p_mix_z1\n",
    "    \n",
    "    p_mix_z0 = 1 - p_mix_z1\n",
    "    \n",
    "    # C_y = p_train(y=1) = p_train(z=0) * p_train(y=1|z=0) + p_train(z=1) * p_train(y=1|z=1) \n",
    "    # C_y = p_test(y=1) = p_test(z=0) * p_test(y=1|z=0) + p_test(z=1) * p_test(y=1|z=1)\n",
    "    C_y = p_mix_z0 * p_pos_train_z0 + p_mix_z1 * p_pos_train_z1\n",
    "    \n",
    "    \n",
    "    \n",
    "    \n",
    "    p_pos_test_z0 = C_y / (1 - (1-alpha_test) * C_z)\n",
    "    p_pos_test_z1 = alpha_test * p_pos_test_z0\n",
    "    \n",
    "    \n",
    "    return {\"p_pos_train_z0\": p_pos_train_z0,\n",
    "            \"p_pos_train_z1\": p_pos_train_z1,\n",
    "            \"p_pos_train\": C_y,\n",
    "            \"p_pos_test\": C_y,\n",
    "            \"p_mix_z0\": p_mix_z0,\n",
    "            \"p_mix_z1\": p_mix_z1,\n",
    "            \"alpha_test\": alpha_test,\n",
    "            \"p_pos_test_z0\": p_pos_test_z0,\n",
    "            \"p_pos_test_z1\": p_pos_test_z1,\n",
    "            \n",
    "            \"C_y\": C_y,\n",
    "            \"C_z\": C_z,\n",
    "           }\n",
    "    "
   ]
  },
  {
   "cell_type": "code",
   "execution_count": 2,
   "id": "40981c3b",
   "metadata": {
    "ExecuteTime": {
     "end_time": "2022-10-15T19:16:54.775337Z",
     "start_time": "2022-10-15T19:16:54.765886Z"
    },
    "execution": {
     "iopub.execute_input": "2023-01-11T05:43:10.750573Z",
     "iopub.status.busy": "2023-01-11T05:43:10.750278Z",
     "iopub.status.idle": "2023-01-11T05:43:10.769660Z",
     "shell.execute_reply": "2023-01-11T05:43:10.768424Z",
     "shell.execute_reply.started": "2023-01-11T05:43:10.750545Z"
    },
    "tags": []
   },
   "outputs": [
    {
     "data": {
      "text/plain": [
       "{'p_pos_train_z0': 0.6,\n",
       " 'p_pos_train_z1': 0.2,\n",
       " 'p_pos_train': 0.4,\n",
       " 'p_pos_test': 0.4,\n",
       " 'p_mix_z0': 0.5,\n",
       " 'p_mix_z1': 0.5,\n",
       " 'alpha_test': 1,\n",
       " 'p_pos_test_z0': 0.4,\n",
       " 'p_pos_test_z1': 0.4,\n",
       " 'C_y': 0.4,\n",
       " 'C_z': 0.5}"
      ]
     },
     "execution_count": 2,
     "metadata": {},
     "output_type": "execute_result"
    }
   ],
   "source": [
    "confoundSplit(p_pos_train_z0=0.6, p_pos_train_z1 = 0.2, p_mix_z1 = 0.5, alpha_test = 1)"
   ]
  },
  {
   "cell_type": "code",
   "execution_count": 3,
   "id": "d78afc3e",
   "metadata": {
    "ExecuteTime": {
     "end_time": "2022-10-15T19:14:05.262333Z",
     "start_time": "2022-10-15T19:14:05.252987Z"
    },
    "execution": {
     "iopub.execute_input": "2023-01-11T05:43:10.925361Z",
     "iopub.status.busy": "2023-01-11T05:43:10.925061Z",
     "iopub.status.idle": "2023-01-11T05:43:10.931848Z",
     "shell.execute_reply": "2023-01-11T05:43:10.930638Z",
     "shell.execute_reply.started": "2023-01-11T05:43:10.925333Z"
    },
    "tags": []
   },
   "outputs": [
    {
     "data": {
      "text/plain": [
       "{'p_pos_train_z0': 0.8,\n",
       " 'p_pos_train_z1': 0.2,\n",
       " 'p_pos_train': 0.6800000000000002,\n",
       " 'p_pos_test': 0.6800000000000002,\n",
       " 'p_mix_z0': 0.8,\n",
       " 'p_mix_z1': 0.2,\n",
       " 'alpha_test': 1,\n",
       " 'p_pos_test_z0': 0.6800000000000002,\n",
       " 'p_pos_test_z1': 0.6800000000000002,\n",
       " 'C_y': 0.6800000000000002,\n",
       " 'C_z': 0.2}"
      ]
     },
     "execution_count": 3,
     "metadata": {},
     "output_type": "execute_result"
    }
   ],
   "source": [
    "confoundSplit(p_pos_train_z0=0.8, p_pos_train_z1 = 0.2, p_mix_z1 = 0.2, alpha_test = 1)"
   ]
  },
  {
   "cell_type": "code",
   "execution_count": 4,
   "id": "e0e5d3ae-29fb-42f4-935c-35c0954b67a7",
   "metadata": {
    "ExecuteTime": {
     "end_time": "2022-10-15T19:14:05.262333Z",
     "start_time": "2022-10-15T19:14:05.252987Z"
    },
    "execution": {
     "iopub.execute_input": "2023-01-11T05:43:11.526676Z",
     "iopub.status.busy": "2023-01-11T05:43:11.525996Z",
     "iopub.status.idle": "2023-01-11T05:43:11.537273Z",
     "shell.execute_reply": "2023-01-11T05:43:11.535916Z",
     "shell.execute_reply.started": "2023-01-11T05:43:11.526610Z"
    },
    "tags": []
   },
   "outputs": [
    {
     "data": {
      "text/plain": [
       "{'p_pos_train_z0': 0.8,\n",
       " 'p_pos_train_z1': 0.1,\n",
       " 'p_pos_train': 0.6600000000000001,\n",
       " 'p_pos_test': 0.6600000000000001,\n",
       " 'p_mix_z0': 0.8,\n",
       " 'p_mix_z1': 0.2,\n",
       " 'alpha_test': 1,\n",
       " 'p_pos_test_z0': 0.6600000000000001,\n",
       " 'p_pos_test_z1': 0.6600000000000001,\n",
       " 'C_y': 0.6600000000000001,\n",
       " 'C_z': 0.2}"
      ]
     },
     "execution_count": 4,
     "metadata": {},
     "output_type": "execute_result"
    }
   ],
   "source": [
    "confoundSplit(p_pos_train_z0=0.8, p_pos_train_z1 = 0.1, p_mix_z1 = 0.2, alpha_test = 1)"
   ]
  },
  {
   "cell_type": "code",
   "execution_count": 5,
   "id": "3018b8dd-95ea-42e5-913a-27331a8cf9c4",
   "metadata": {
    "ExecuteTime": {
     "end_time": "2022-10-15T19:14:05.262333Z",
     "start_time": "2022-10-15T19:14:05.252987Z"
    },
    "execution": {
     "iopub.execute_input": "2023-01-11T05:43:11.813952Z",
     "iopub.status.busy": "2023-01-11T05:43:11.813434Z",
     "iopub.status.idle": "2023-01-11T05:43:11.822849Z",
     "shell.execute_reply": "2023-01-11T05:43:11.821549Z",
     "shell.execute_reply.started": "2023-01-11T05:43:11.813904Z"
    },
    "tags": []
   },
   "outputs": [
    {
     "data": {
      "text/plain": [
       "{'p_pos_train_z0': 0.8,\n",
       " 'p_pos_train_z1': 0.1,\n",
       " 'p_pos_train': 0.6600000000000001,\n",
       " 'p_pos_test': 0.6600000000000001,\n",
       " 'p_mix_z0': 0.8,\n",
       " 'p_mix_z1': 0.2,\n",
       " 'alpha_test': 2,\n",
       " 'p_pos_test_z0': 0.5500000000000002,\n",
       " 'p_pos_test_z1': 1.1000000000000003,\n",
       " 'C_y': 0.6600000000000001,\n",
       " 'C_z': 0.2}"
      ]
     },
     "execution_count": 5,
     "metadata": {},
     "output_type": "execute_result"
    }
   ],
   "source": [
    "confoundSplit(p_pos_train_z0=0.8, p_pos_train_z1 = 0.1, p_mix_z1 = 0.2, alpha_test = 2)"
   ]
  },
  {
   "cell_type": "code",
   "execution_count": null,
   "id": "e7269626",
   "metadata": {},
   "outputs": [],
   "source": []
  },
  {
   "cell_type": "code",
   "execution_count": null,
   "id": "2f740bbd-342d-47d8-b46d-334b583674f8",
   "metadata": {},
   "outputs": [],
   "source": []
  },
  {
   "cell_type": "code",
   "execution_count": null,
   "id": "2853ddec-c77e-4c5d-909f-73ae1258158a",
   "metadata": {},
   "outputs": [],
   "source": []
  },
  {
   "cell_type": "code",
   "execution_count": null,
   "id": "17a65470-0fde-4362-bb10-d5859fb43079",
   "metadata": {},
   "outputs": [],
   "source": []
  },
  {
   "cell_type": "code",
   "execution_count": null,
   "id": "6aacf91a-f855-4348-8994-8dc44b7df96a",
   "metadata": {},
   "outputs": [],
   "source": []
  },
  {
   "cell_type": "code",
   "execution_count": null,
   "id": "5a8516d2-7c58-4a7f-8d52-6d7626ba60fd",
   "metadata": {},
   "outputs": [],
   "source": []
  },
  {
   "cell_type": "markdown",
   "id": "66fb02b6-24ae-4d78-a37e-05bd79f52d08",
   "metadata": {},
   "source": [
    "# Outer Wrapper accepting two datasets and some extra parameters"
   ]
  },
  {
   "cell_type": "code",
   "execution_count": 6,
   "id": "8dcc68c1-7e4f-4510-a597-5821f62b0992",
   "metadata": {
    "execution": {
     "iopub.execute_input": "2023-01-11T05:43:15.160708Z",
     "iopub.status.busy": "2023-01-11T05:43:15.160047Z",
     "iopub.status.idle": "2023-01-11T05:43:15.401565Z",
     "shell.execute_reply": "2023-01-11T05:43:15.400247Z",
     "shell.execute_reply.started": "2023-01-11T05:43:15.160652Z"
    },
    "tags": []
   },
   "outputs": [],
   "source": [
    "import pandas as pd\n",
    "import numpy as np"
   ]
  },
  {
   "cell_type": "markdown",
   "id": "d51c4258-41c8-4d9a-9031-a9b1165ee35f",
   "metadata": {
    "tags": []
   },
   "source": [
    "### WLS"
   ]
  },
  {
   "cell_type": "code",
   "execution_count": 7,
   "id": "31f67aed-b108-43e2-bacb-92d2170aa43a",
   "metadata": {
    "execution": {
     "iopub.execute_input": "2023-01-11T05:43:16.066096Z",
     "iopub.status.busy": "2023-01-11T05:43:16.065116Z",
     "iopub.status.idle": "2023-01-11T05:43:16.097929Z",
     "shell.execute_reply": "2023-01-11T05:43:16.096700Z",
     "shell.execute_reply.started": "2023-01-11T05:43:16.066019Z"
    },
    "tags": []
   },
   "outputs": [],
   "source": [
    "\n",
    "df_wls = pd.read_csv(\"/edata/TRESTLE/testWLS.tsv\", sep='\\t')\n",
    "\n",
    "df_wls_label = pd.read_csv(\"/edata/TRESTLE/WLS-labels.csv\")\n",
    "\n",
    "df_wls_merge = df_wls.merge(df_wls_label, left_on='file', right_on='idtlkbnk', how='inner')\n",
    "\n",
    "df_wls_merge.rename(columns={\"> 1 sd below mean for normals ages 60-79 (Tombaugh, Kozak, & Rees, 1999) -- normal cutoff = 12+ for 9-12 yrs eductation, 14+ for 13-21 yrs education\":\n",
    "                             \"label\",\n",
    "                             \n",
    "                            },\n",
    "                    inplace=True\n",
    "                   )\n",
    "\n",
    "df_wls_merge.loc[df_wls_merge['label'] == 'y','label'] = 'Y'\n",
    "\n",
    "condlist = [\n",
    "    df_wls_merge['label'] == 'Y',\n",
    "    df_wls_merge['label'] == 'N',\n",
    "    df_wls_merge['label'].isna()\n",
    "]\n",
    "choicelist = [\n",
    "    1,\n",
    "    0,\n",
    "    np.nan\n",
    "]\n",
    "\n",
    "df_wls_merge['label'] = np.select(condlist, choicelist)\n",
    "\n",
    "df_wls_merge = df_wls_merge.loc[df_wls_merge['label'].notna(), :].reset_index(drop=True)"
   ]
  },
  {
   "cell_type": "code",
   "execution_count": 8,
   "id": "3c5b098b-a41c-4b84-9edf-67a048325d19",
   "metadata": {
    "execution": {
     "iopub.execute_input": "2023-01-11T05:43:18.550523Z",
     "iopub.status.busy": "2023-01-11T05:43:18.549672Z",
     "iopub.status.idle": "2023-01-11T05:43:18.564536Z",
     "shell.execute_reply": "2023-01-11T05:43:18.563741Z",
     "shell.execute_reply.started": "2023-01-11T05:43:18.550448Z"
    },
    "tags": []
   },
   "outputs": [
    {
     "data": {
      "text/plain": [
       "label\n",
       "0.0    1167\n",
       "1.0     110\n",
       "dtype: int64"
      ]
     },
     "execution_count": 8,
     "metadata": {},
     "output_type": "execute_result"
    }
   ],
   "source": [
    "df_wls_merge.groupby('label', dropna=False).size()"
   ]
  },
  {
   "cell_type": "code",
   "execution_count": null,
   "id": "fa614d39-c633-4608-a744-67f1a11d89c1",
   "metadata": {},
   "outputs": [],
   "source": []
  },
  {
   "cell_type": "code",
   "execution_count": null,
   "id": "55d9830b-e779-4186-a451-4e6007023d74",
   "metadata": {},
   "outputs": [],
   "source": []
  },
  {
   "cell_type": "markdown",
   "id": "db1eb385-a981-4058-8145-09d9787d7c94",
   "metadata": {},
   "source": [
    "### ADReSS"
   ]
  },
  {
   "cell_type": "code",
   "execution_count": 9,
   "id": "a8bd0c7e-da0e-4486-80f6-4c91806d6370",
   "metadata": {
    "execution": {
     "iopub.execute_input": "2023-01-11T05:43:19.276849Z",
     "iopub.status.busy": "2023-01-11T05:43:19.276357Z",
     "iopub.status.idle": "2023-01-11T05:43:19.307496Z",
     "shell.execute_reply": "2023-01-11T05:43:19.305863Z",
     "shell.execute_reply.started": "2023-01-11T05:43:19.276809Z"
    },
    "tags": []
   },
   "outputs": [],
   "source": [
    "df_adress_train = pd.read_csv(\"/edata/ADReSS-IS2020-data/dataframes/adre_train.csv\")\n",
    "\n",
    "df_adress_test = pd.read_csv(\"/edata/ADReSS-IS2020-data/dataframes/adre_test.csv\")\n",
    "\n",
    "df_adress = pd.concat([df_adress_train, df_adress_test], ignore_index=True)\n",
    "\n",
    "df_adress.rename(columns={\"sentence\": \"text\"}, inplace=True)"
   ]
  },
  {
   "cell_type": "code",
   "execution_count": 10,
   "id": "326909a1-b227-434a-9cc1-0ca603f8e6c0",
   "metadata": {
    "execution": {
     "iopub.execute_input": "2023-01-11T05:43:19.648352Z",
     "iopub.status.busy": "2023-01-11T05:43:19.647507Z",
     "iopub.status.idle": "2023-01-11T05:43:19.674440Z",
     "shell.execute_reply": "2023-01-11T05:43:19.673612Z",
     "shell.execute_reply.started": "2023-01-11T05:43:19.648279Z"
    },
    "tags": []
   },
   "outputs": [
    {
     "data": {
      "text/html": [
       "<div>\n",
       "<style scoped>\n",
       "    .dataframe tbody tr th:only-of-type {\n",
       "        vertical-align: middle;\n",
       "    }\n",
       "\n",
       "    .dataframe tbody tr th {\n",
       "        vertical-align: top;\n",
       "    }\n",
       "\n",
       "    .dataframe thead th {\n",
       "        text-align: right;\n",
       "    }\n",
       "</style>\n",
       "<table border=\"1\" class=\"dataframe\">\n",
       "  <thead>\n",
       "    <tr style=\"text-align: right;\">\n",
       "      <th></th>\n",
       "      <th>Unnamed: 0</th>\n",
       "      <th>sentence_source</th>\n",
       "      <th>label</th>\n",
       "      <th>text</th>\n",
       "    </tr>\n",
       "  </thead>\n",
       "  <tbody>\n",
       "    <tr>\n",
       "      <th>0</th>\n",
       "      <td>6</td>\n",
       "      <td>S094.txt</td>\n",
       "      <td>1</td>\n",
       "      <td>oh yes   a little girl and the little boy is ...</td>\n",
       "    </tr>\n",
       "    <tr>\n",
       "      <th>1</th>\n",
       "      <td>0</td>\n",
       "      <td>S138.txt</td>\n",
       "      <td>1</td>\n",
       "      <td>the the water's flowing on the floor   and sh...</td>\n",
       "    </tr>\n",
       "    <tr>\n",
       "      <th>2</th>\n",
       "      <td>30</td>\n",
       "      <td>S118.txt</td>\n",
       "      <td>1</td>\n",
       "      <td>oh there's a cookie jar and a youngster with ...</td>\n",
       "    </tr>\n",
       "    <tr>\n",
       "      <th>3</th>\n",
       "      <td>37</td>\n",
       "      <td>S114.txt</td>\n",
       "      <td>1</td>\n",
       "      <td>mhm   well the kids is robbing a cookie jar  ...</td>\n",
       "    </tr>\n",
       "    <tr>\n",
       "      <th>4</th>\n",
       "      <td>49</td>\n",
       "      <td>S143.txt</td>\n",
       "      <td>1</td>\n",
       "      <td>well little boy reaching out for the cookie j...</td>\n",
       "    </tr>\n",
       "    <tr>\n",
       "      <th>...</th>\n",
       "      <td>...</td>\n",
       "      <td>...</td>\n",
       "      <td>...</td>\n",
       "      <td>...</td>\n",
       "    </tr>\n",
       "    <tr>\n",
       "      <th>151</th>\n",
       "      <td>43</td>\n",
       "      <td>S198.txt</td>\n",
       "      <td>1</td>\n",
       "      <td>you mean like the woman doing the dishes and ...</td>\n",
       "    </tr>\n",
       "    <tr>\n",
       "      <th>152</th>\n",
       "      <td>44</td>\n",
       "      <td>S180.txt</td>\n",
       "      <td>0</td>\n",
       "      <td>well the boy is taking cookies outof the cook...</td>\n",
       "    </tr>\n",
       "    <tr>\n",
       "      <th>153</th>\n",
       "      <td>45</td>\n",
       "      <td>S194.txt</td>\n",
       "      <td>1</td>\n",
       "      <td>well the mother has water spilling all over t...</td>\n",
       "    </tr>\n",
       "    <tr>\n",
       "      <th>154</th>\n",
       "      <td>46</td>\n",
       "      <td>S176.txt</td>\n",
       "      <td>1</td>\n",
       "      <td>whew   do i hafta use my my my personal descr...</td>\n",
       "    </tr>\n",
       "    <tr>\n",
       "      <th>155</th>\n",
       "      <td>47</td>\n",
       "      <td>S200.txt</td>\n",
       "      <td>1</td>\n",
       "      <td>seeing the mother   she's washing dishes and ...</td>\n",
       "    </tr>\n",
       "  </tbody>\n",
       "</table>\n",
       "<p>156 rows × 4 columns</p>\n",
       "</div>"
      ],
      "text/plain": [
       "     Unnamed: 0 sentence_source  label  \\\n",
       "0             6        S094.txt      1   \n",
       "1             0        S138.txt      1   \n",
       "2            30        S118.txt      1   \n",
       "3            37        S114.txt      1   \n",
       "4            49        S143.txt      1   \n",
       "..          ...             ...    ...   \n",
       "151          43        S198.txt      1   \n",
       "152          44        S180.txt      0   \n",
       "153          45        S194.txt      1   \n",
       "154          46        S176.txt      1   \n",
       "155          47        S200.txt      1   \n",
       "\n",
       "                                                  text  \n",
       "0     oh yes   a little girl and the little boy is ...  \n",
       "1     the the water's flowing on the floor   and sh...  \n",
       "2     oh there's a cookie jar and a youngster with ...  \n",
       "3     mhm   well the kids is robbing a cookie jar  ...  \n",
       "4     well little boy reaching out for the cookie j...  \n",
       "..                                                 ...  \n",
       "151   you mean like the woman doing the dishes and ...  \n",
       "152   well the boy is taking cookies outof the cook...  \n",
       "153   well the mother has water spilling all over t...  \n",
       "154   whew   do i hafta use my my my personal descr...  \n",
       "155   seeing the mother   she's washing dishes and ...  \n",
       "\n",
       "[156 rows x 4 columns]"
      ]
     },
     "execution_count": 10,
     "metadata": {},
     "output_type": "execute_result"
    }
   ],
   "source": [
    "df_adress"
   ]
  },
  {
   "cell_type": "code",
   "execution_count": null,
   "id": "1d3b83af-520e-4865-a2e7-689b5426414d",
   "metadata": {},
   "outputs": [],
   "source": []
  },
  {
   "cell_type": "code",
   "execution_count": null,
   "id": "05cd4218-3fa2-402a-b359-1e7bc60a9ef1",
   "metadata": {},
   "outputs": [],
   "source": []
  },
  {
   "cell_type": "code",
   "execution_count": null,
   "id": "50e4f476-b401-464d-a12b-280504665661",
   "metadata": {},
   "outputs": [],
   "source": []
  },
  {
   "cell_type": "code",
   "execution_count": null,
   "id": "5e8f53eb-6754-4eac-830c-e6759fbd9434",
   "metadata": {},
   "outputs": [],
   "source": []
  },
  {
   "cell_type": "markdown",
   "id": "16760b99-cbd3-49c7-b370-482654c537bc",
   "metadata": {},
   "source": [
    "## Wrapper Function"
   ]
  },
  {
   "cell_type": "code",
   "execution_count": 11,
   "id": "d42cecf9-6a8f-40bd-a711-5ccb6897d550",
   "metadata": {
    "execution": {
     "iopub.execute_input": "2023-01-11T05:43:21.174265Z",
     "iopub.status.busy": "2023-01-11T05:43:21.173413Z",
     "iopub.status.idle": "2023-01-11T05:43:21.186514Z",
     "shell.execute_reply": "2023-01-11T05:43:21.185555Z",
     "shell.execute_reply.started": "2023-01-11T05:43:21.174192Z"
    },
    "tags": []
   },
   "outputs": [
    {
     "data": {
      "text/plain": [
       "1167"
      ]
     },
     "execution_count": 11,
     "metadata": {},
     "output_type": "execute_result"
    }
   ],
   "source": [
    "(df_wls_merge['label'] == 0).sum()"
   ]
  },
  {
   "cell_type": "code",
   "execution_count": 12,
   "id": "1454d59a-4d1d-408d-8a64-68071dd4de4b",
   "metadata": {
    "execution": {
     "iopub.execute_input": "2023-01-11T05:43:21.357110Z",
     "iopub.status.busy": "2023-01-11T05:43:21.356482Z",
     "iopub.status.idle": "2023-01-11T05:43:21.370111Z",
     "shell.execute_reply": "2023-01-11T05:43:21.368801Z",
     "shell.execute_reply.started": "2023-01-11T05:43:21.357049Z"
    },
    "tags": []
   },
   "outputs": [
    {
     "data": {
      "text/plain": [
       "label\n",
       "0.0    1167\n",
       "1.0     110\n",
       "dtype: int64"
      ]
     },
     "execution_count": 12,
     "metadata": {},
     "output_type": "execute_result"
    }
   ],
   "source": [
    "df_wls_merge.groupby('label', dropna=False).size()"
   ]
  },
  {
   "cell_type": "code",
   "execution_count": 13,
   "id": "4f0bc668-e7ae-4eaf-a4ee-09e7ee7fe27a",
   "metadata": {
    "ExecuteTime": {
     "end_time": "2022-10-15T19:14:05.262333Z",
     "start_time": "2022-10-15T19:14:05.252987Z"
    },
    "execution": {
     "iopub.execute_input": "2023-01-11T05:43:21.572000Z",
     "iopub.status.busy": "2023-01-11T05:43:21.571384Z",
     "iopub.status.idle": "2023-01-11T05:43:21.581253Z",
     "shell.execute_reply": "2023-01-11T05:43:21.580033Z",
     "shell.execute_reply.started": "2023-01-11T05:43:21.571942Z"
    },
    "tags": []
   },
   "outputs": [
    {
     "data": {
      "text/plain": [
       "{'p_pos_train_z0': 0.8,\n",
       " 'p_pos_train_z1': 0.1,\n",
       " 'p_pos_train': 0.6600000000000001,\n",
       " 'p_pos_test': 0.6600000000000001,\n",
       " 'p_mix_z0': 0.8,\n",
       " 'p_mix_z1': 0.2,\n",
       " 'alpha_test': 2,\n",
       " 'p_pos_test_z0': 0.5500000000000002,\n",
       " 'p_pos_test_z1': 1.1000000000000003,\n",
       " 'C_y': 0.6600000000000001,\n",
       " 'C_z': 0.2}"
      ]
     },
     "execution_count": 13,
     "metadata": {},
     "output_type": "execute_result"
    }
   ],
   "source": [
    "confoundSplit(p_pos_train_z0=0.8, p_pos_train_z1 = 0.1, p_mix_z1 = 0.2, alpha_test = 2)"
   ]
  },
  {
   "cell_type": "code",
   "execution_count": 14,
   "id": "51cbd3e6-cb1a-4c7f-8b74-3f872b1ddfff",
   "metadata": {
    "execution": {
     "iopub.execute_input": "2023-01-11T05:43:23.635366Z",
     "iopub.status.busy": "2023-01-11T05:43:23.634491Z",
     "iopub.status.idle": "2023-01-11T05:43:23.658585Z",
     "shell.execute_reply": "2023-01-11T05:43:23.657627Z",
     "shell.execute_reply.started": "2023-01-11T05:43:23.635245Z"
    },
    "tags": []
   },
   "outputs": [],
   "source": [
    "import math\n",
    "\n",
    "\n",
    "def confoundSplitNumbers(df0, df1, \n",
    "                    df0_label, df1_label,\n",
    "                    p_pos_train_z1, p_pos_train_z0, p_mix_z1, alpha_test, \n",
    "                    train_test_ratio = 4,\n",
    "                   ):\n",
    "    \n",
    "    \"\"\"\n",
    "    df0_label, df1_label: 0/1, or True/False coded\n",
    "    \n",
    "    \n",
    "    \"\"\"\n",
    "    assert df0[df0_label].isin([0,1]).all(axis=0)\n",
    "    assert df1[df1_label].isin([0,1]).all(axis=0)\n",
    "    \n",
    "    \n",
    "    mix_param_dict = confoundSplit(p_pos_train_z0=p_pos_train_z0, p_pos_train_z1 = p_pos_train_z1, p_mix_z1 = p_mix_z1, alpha_test = alpha_test)\n",
    "    \n",
    "    \n",
    "    \n",
    "    N_df0_pos = (df0[df0_label] == 1).sum()\n",
    "    N_df0_neg = (df0[df0_label] == 0).sum()\n",
    "    \n",
    "    N_df1_pos = (df1[df1_label] == 1).sum()\n",
    "    N_df1_neg = (df1[df1_label] == 0).sum()\n",
    "    \n",
    "    N_df0 = N_df0_pos + N_df0_neg\n",
    "    N_df1 = N_df1_pos + N_df1_neg\n",
    "        \n",
    "    \n",
    "    n_df0_test_pos = math.floor(N_df0 / (train_test_ratio + 1))\n",
    "    \n",
    "    \n",
    "    while(n_df0_test_pos > 0):\n",
    "        \n",
    "        n_df0_test_neg = math.floor(n_df0_test_pos / mix_param_dict['p_pos_test_z0'] * (1-mix_param_dict['p_pos_test_z0']))\n",
    "        \n",
    "        \n",
    "        n_df0_train_pos = math.floor((n_df0_test_pos + n_df0_test_neg) * train_test_ratio * mix_param_dict['p_pos_train_z0'])\n",
    "        n_df0_train_neg = math.floor((n_df0_test_pos + n_df0_test_neg) * train_test_ratio * (1 - mix_param_dict['p_pos_train_z0']))\n",
    "        \n",
    "        \n",
    "        \n",
    "        \n",
    "        n_df1_train = math.floor(mix_param_dict['C_z'] / (1 - mix_param_dict['C_z']) * (n_df0_train_pos + n_df0_train_neg))\n",
    "        n_df1_train_pos = math.floor(n_df1_train * mix_param_dict['p_pos_train_z1'])\n",
    "        n_df1_train_neg = math.floor(n_df1_train * (1 - mix_param_dict['p_pos_train_z1']))\n",
    "        \n",
    "        n_df1_test = math.floor(n_df1_train/train_test_ratio)\n",
    "        n_df1_test_pos = math.floor(n_df1_test * mix_param_dict['p_pos_test_z1'])\n",
    "        n_df1_test_neg = math.floor(n_df1_test * (1 - mix_param_dict['p_pos_test_z1']))\n",
    "        \n",
    "        \n",
    "        test1 = 0 < (n_df0_train_pos + n_df0_test_pos) <= N_df0_pos\n",
    "        test2 = 0 < (n_df0_train_neg + n_df0_test_neg) <= N_df0_neg\n",
    "        \n",
    "        test3 = 0 < (n_df1_train_pos + n_df1_test_pos) <= N_df1_pos\n",
    "        test4 = 0 < (n_df1_train_neg + n_df1_test_neg) <= N_df1_neg\n",
    "        \n",
    "        \n",
    "        test5 = 0 < n_df0_train_pos\n",
    "        test6 = 0 < n_df0_train_neg\n",
    "        test7 = 0 < n_df1_train_pos\n",
    "        test8 = 0 < n_df1_train_neg\n",
    "        \n",
    "        test9 = 0 < n_df0_test_pos\n",
    "        test10 = 0 < n_df0_test_neg\n",
    "        test11 = 0 < n_df1_test_pos\n",
    "        test12 = 0 < n_df1_test_neg\n",
    "        \n",
    "        \n",
    "        \n",
    "        if test1 and test2 and test3 and test4 and test5 and test6 and test7 and test8 and test9 and test10 and test11 and test12:\n",
    "            return {\"n_df0_train_pos\": n_df0_train_pos,\n",
    "                    \"n_df0_test_pos\": n_df0_test_pos,\n",
    "                    \"n_df0_train_neg\": n_df0_train_neg,\n",
    "                    \"n_df0_test_neg\": n_df0_test_neg,\n",
    "                    \n",
    "                    \"n_df1_train_pos\": n_df1_train_pos,\n",
    "                    \"n_df1_test_pos\":n_df1_test_pos,\n",
    "                    \"n_df1_train_neg\":n_df1_train_neg,\n",
    "                    \"n_df1_test_neg\":n_df1_test_neg,\n",
    "                    \n",
    "                   }\n",
    "        else:        \n",
    "            n_df0_test_pos -= 1\n",
    "        \n",
    "        if n_df0_test_pos == 0:\n",
    "            return None"
   ]
  },
  {
   "cell_type": "code",
   "execution_count": null,
   "id": "92de1d9b-afc0-41bb-b97e-a3aac15b5537",
   "metadata": {},
   "outputs": [],
   "source": []
  },
  {
   "cell_type": "code",
   "execution_count": 15,
   "id": "5ee07a62-8723-4087-b995-822848f5c696",
   "metadata": {
    "ExecuteTime": {
     "end_time": "2022-10-15T19:14:05.262333Z",
     "start_time": "2022-10-15T19:14:05.252987Z"
    },
    "execution": {
     "iopub.execute_input": "2023-01-11T05:43:27.398634Z",
     "iopub.status.busy": "2023-01-11T05:43:27.397851Z",
     "iopub.status.idle": "2023-01-11T05:43:27.409488Z",
     "shell.execute_reply": "2023-01-11T05:43:27.408171Z",
     "shell.execute_reply.started": "2023-01-11T05:43:27.398563Z"
    },
    "tags": []
   },
   "outputs": [
    {
     "data": {
      "text/plain": [
       "{'p_pos_train_z0': 0.8,\n",
       " 'p_pos_train_z1': 0.1,\n",
       " 'p_pos_train': 0.6600000000000001,\n",
       " 'p_pos_test': 0.6600000000000001,\n",
       " 'p_mix_z0': 0.8,\n",
       " 'p_mix_z1': 0.2,\n",
       " 'alpha_test': 2,\n",
       " 'p_pos_test_z0': 0.5500000000000002,\n",
       " 'p_pos_test_z1': 1.1000000000000003,\n",
       " 'C_y': 0.6600000000000001,\n",
       " 'C_z': 0.2}"
      ]
     },
     "execution_count": 15,
     "metadata": {},
     "output_type": "execute_result"
    }
   ],
   "source": [
    "confoundSplit(p_pos_train_z0=0.8, p_pos_train_z1 = 0.1, p_mix_z1 = 0.2, alpha_test = 2)"
   ]
  },
  {
   "cell_type": "code",
   "execution_count": 16,
   "id": "62c1d85f-7651-40d6-a2eb-d1a969708c30",
   "metadata": {
    "execution": {
     "iopub.execute_input": "2023-01-11T05:43:27.692022Z",
     "iopub.status.busy": "2023-01-11T05:43:27.691680Z",
     "iopub.status.idle": "2023-01-11T05:43:27.701234Z",
     "shell.execute_reply": "2023-01-11T05:43:27.700083Z",
     "shell.execute_reply.started": "2023-01-11T05:43:27.691989Z"
    },
    "tags": []
   },
   "outputs": [],
   "source": [
    "\n",
    "confoundSplitNumbers(df0=df_wls_merge, df1=df_adress, \n",
    "                    df0_label='label', df1_label='label',\n",
    "                    \n",
    "                    p_pos_train_z0=0.8, p_pos_train_z1 = 0.1, p_mix_z1 = 0.2, alpha_test = 2,\n",
    "                    \n",
    "                    train_test_ratio = 5,\n",
    "                   )"
   ]
  },
  {
   "cell_type": "code",
   "execution_count": 17,
   "id": "01e5fb01-b78a-41f5-95a6-1583f61703c8",
   "metadata": {
    "execution": {
     "iopub.execute_input": "2023-01-11T05:43:29.786311Z",
     "iopub.status.busy": "2023-01-11T05:43:29.785633Z",
     "iopub.status.idle": "2023-01-11T05:43:29.801491Z",
     "shell.execute_reply": "2023-01-11T05:43:29.800214Z",
     "shell.execute_reply.started": "2023-01-11T05:43:29.786246Z"
    },
    "tags": []
   },
   "outputs": [],
   "source": [
    "\n",
    "confoundSplitNumbers(df0=df_wls_merge, df1=df_adress, \n",
    "                    df0_label='label', df1_label='label',\n",
    "                    \n",
    "                    p_pos_train_z0=0.8, p_pos_train_z1 = 0.1, p_mix_z1 = 0.2, alpha_test = 2,\n",
    "                    \n",
    "                    train_test_ratio = 1,\n",
    "                   )\n",
    "\n"
   ]
  },
  {
   "cell_type": "code",
   "execution_count": 18,
   "id": "6fdf0f14-8a7b-4313-8a9e-956a23b450bb",
   "metadata": {
    "execution": {
     "iopub.execute_input": "2023-01-11T05:43:30.049573Z",
     "iopub.status.busy": "2023-01-11T05:43:30.049281Z",
     "iopub.status.idle": "2023-01-11T05:43:30.055991Z",
     "shell.execute_reply": "2023-01-11T05:43:30.054856Z",
     "shell.execute_reply.started": "2023-01-11T05:43:30.049545Z"
    },
    "tags": []
   },
   "outputs": [
    {
     "data": {
      "text/plain": [
       "array([0. , 0.1, 0.2, 0.3, 0.4, 0.5, 0.6, 0.7, 0.8, 0.9])"
      ]
     },
     "execution_count": 18,
     "metadata": {},
     "output_type": "execute_result"
    }
   ],
   "source": [
    "np.arange(0, 1, 0.1)"
   ]
  },
  {
   "cell_type": "code",
   "execution_count": 19,
   "id": "4445826c-b86a-49f5-89c4-d6b69126b508",
   "metadata": {
    "execution": {
     "iopub.execute_input": "2023-01-11T05:43:30.364046Z",
     "iopub.status.busy": "2023-01-11T05:43:30.363743Z",
     "iopub.status.idle": "2023-01-11T05:43:30.368447Z",
     "shell.execute_reply": "2023-01-11T05:43:30.366871Z",
     "shell.execute_reply.started": "2023-01-11T05:43:30.364018Z"
    },
    "tags": []
   },
   "outputs": [],
   "source": [
    "import itertools"
   ]
  },
  {
   "cell_type": "code",
   "execution_count": 28,
   "id": "f313a122-36f5-401e-a03d-72295980ba14",
   "metadata": {
    "execution": {
     "iopub.execute_input": "2023-01-11T05:44:22.974128Z",
     "iopub.status.busy": "2023-01-11T05:44:22.973348Z",
     "iopub.status.idle": "2023-01-11T05:44:24.512165Z",
     "shell.execute_reply": "2023-01-11T05:44:24.511106Z",
     "shell.execute_reply.started": "2023-01-11T05:44:22.974057Z"
    },
    "tags": []
   },
   "outputs": [],
   "source": [
    "\n",
    "valid_combinations = []\n",
    "\n",
    "for combination in itertools.product([0.5], \n",
    "                                    [0.1], \n",
    "                                     np.arange(0.1, 0.999, 0.1),\n",
    "                                     np.arange(0,10,0.1),\n",
    "                                     [4]\n",
    "                                     \n",
    "                                    ):\n",
    "    \n",
    "    ret = confoundSplitNumbers(df0=df_wls_merge, df1=df_adress, \n",
    "                        df0_label='label', df1_label='label',\n",
    "\n",
    "                        p_pos_train_z0=combination[0], p_pos_train_z1 = combination[1], p_mix_z1 = combination[2], alpha_test = combination[3],\n",
    "\n",
    "                        train_test_ratio = combination[4],\n",
    "                       )\n",
    "    \n",
    "    if ret is not None:\n",
    "        valid_combinations.append(combination)\n",
    "        \n",
    "    "
   ]
  },
  {
   "cell_type": "code",
   "execution_count": null,
   "id": "20cc577d-aa16-400a-a55e-b72ee10dd9ea",
   "metadata": {},
   "outputs": [],
   "source": []
  },
  {
   "cell_type": "code",
   "execution_count": null,
   "id": "c9062998-0847-4e30-8542-7ada04c7da7d",
   "metadata": {},
   "outputs": [],
   "source": []
  },
  {
   "cell_type": "code",
   "execution_count": 29,
   "id": "25c8ddc9-9300-4000-b128-467d711b73e6",
   "metadata": {
    "execution": {
     "iopub.execute_input": "2023-01-11T05:44:25.449010Z",
     "iopub.status.busy": "2023-01-11T05:44:25.448227Z",
     "iopub.status.idle": "2023-01-11T05:44:25.459464Z",
     "shell.execute_reply": "2023-01-11T05:44:25.458167Z",
     "shell.execute_reply.started": "2023-01-11T05:44:25.448934Z"
    },
    "tags": []
   },
   "outputs": [
    {
     "data": {
      "text/plain": [
       "379"
      ]
     },
     "execution_count": 29,
     "metadata": {},
     "output_type": "execute_result"
    }
   ],
   "source": [
    "len(valid_combinations)"
   ]
  },
  {
   "cell_type": "code",
   "execution_count": 22,
   "id": "03d8651a-88e1-4d86-ace1-b2c28728b095",
   "metadata": {
    "execution": {
     "iopub.execute_input": "2023-01-11T05:43:36.584675Z",
     "iopub.status.busy": "2023-01-11T05:43:36.583874Z",
     "iopub.status.idle": "2023-01-11T05:43:36.597402Z",
     "shell.execute_reply": "2023-01-11T05:43:36.596033Z",
     "shell.execute_reply.started": "2023-01-11T05:43:36.584602Z"
    },
    "tags": []
   },
   "outputs": [
    {
     "data": {
      "text/plain": [
       "0"
      ]
     },
     "execution_count": 22,
     "metadata": {},
     "output_type": "execute_result"
    }
   ],
   "source": [
    "len([c for c in valid_combinations if (0.1 <= c[0] <= 0.2) and (0.6 <= c[1] <= 0.65) and (c[4] == 4)])"
   ]
  },
  {
   "cell_type": "code",
   "execution_count": 23,
   "id": "607481c7-bb5d-429f-a1b4-d98700b38394",
   "metadata": {
    "execution": {
     "iopub.execute_input": "2023-01-11T05:43:37.188918Z",
     "iopub.status.busy": "2023-01-11T05:43:37.188179Z",
     "iopub.status.idle": "2023-01-11T05:43:37.201303Z",
     "shell.execute_reply": "2023-01-11T05:43:37.200179Z",
     "shell.execute_reply.started": "2023-01-11T05:43:37.188849Z"
    },
    "tags": []
   },
   "outputs": [
    {
     "data": {
      "text/plain": [
       "0"
      ]
     },
     "execution_count": 23,
     "metadata": {},
     "output_type": "execute_result"
    }
   ],
   "source": [
    "len([c for c in valid_combinations if (0.1 <= c[0] <= 0.3) and (0.6 <= c[1] <= 0.8) and (c[4] == 4) and (1 <= c[3] <= 1.5)])"
   ]
  },
  {
   "cell_type": "code",
   "execution_count": null,
   "id": "05cd7acd-dc68-4ecd-a579-e6ae0bad36db",
   "metadata": {},
   "outputs": [],
   "source": []
  },
  {
   "cell_type": "code",
   "execution_count": 24,
   "id": "4be87339-e1fd-4bf0-974d-3e8e98245a38",
   "metadata": {
    "execution": {
     "iopub.execute_input": "2023-01-11T05:43:39.123400Z",
     "iopub.status.busy": "2023-01-11T05:43:39.122466Z",
     "iopub.status.idle": "2023-01-11T05:43:40.357818Z",
     "shell.execute_reply": "2023-01-11T05:43:40.356454Z",
     "shell.execute_reply.started": "2023-01-11T05:43:39.123268Z"
    },
    "tags": []
   },
   "outputs": [],
   "source": [
    "valid_high_combinations = []\n",
    "\n",
    "for combination in valid_combinations:\n",
    "\n",
    "    ret = confoundSplitNumbers(df0=df_wls_merge, df1=df_adress, \n",
    "                            df0_label='label', df1_label='label',\n",
    "\n",
    "                            p_pos_train_z0=combination[0], p_pos_train_z1 = combination[1], p_mix_z1 = combination[2], alpha_test = combination[3],\n",
    "\n",
    "                            train_test_ratio = combination[4],\n",
    "                           )\n",
    "    \n",
    "    if (ret['n_df0_train_pos'] >= 10) and (combination[4] == 4):\n",
    "            valid_high_combinations.append(combination)\n",
    "    \n",
    "    \n",
    "    "
   ]
  },
  {
   "cell_type": "code",
   "execution_count": 25,
   "id": "58570cf8-6b1e-4799-898d-21fa6bd69fea",
   "metadata": {
    "execution": {
     "iopub.execute_input": "2023-01-11T05:43:40.977236Z",
     "iopub.status.busy": "2023-01-11T05:43:40.976836Z",
     "iopub.status.idle": "2023-01-11T05:43:40.985782Z",
     "shell.execute_reply": "2023-01-11T05:43:40.984407Z",
     "shell.execute_reply.started": "2023-01-11T05:43:40.977203Z"
    },
    "tags": []
   },
   "outputs": [
    {
     "data": {
      "text/plain": [
       "530"
      ]
     },
     "execution_count": 25,
     "metadata": {},
     "output_type": "execute_result"
    }
   ],
   "source": [
    "len(valid_high_combinations)"
   ]
  },
  {
   "cell_type": "code",
   "execution_count": 27,
   "id": "f9b3c4eb-eebd-4710-bdce-f843e437bc92",
   "metadata": {
    "execution": {
     "iopub.execute_input": "2023-01-11T05:43:50.379148Z",
     "iopub.status.busy": "2023-01-11T05:43:50.378377Z",
     "iopub.status.idle": "2023-01-11T05:43:50.388361Z",
     "shell.execute_reply": "2023-01-11T05:43:50.387088Z",
     "shell.execute_reply.started": "2023-01-11T05:43:50.379078Z"
    },
    "tags": []
   },
   "outputs": [
    {
     "data": {
      "text/plain": [
       "[(0.2, 0.4, 0.1, 0.4, 4),\n",
       " (0.2, 0.4, 0.1, 0.5, 4),\n",
       " (0.2, 0.4, 0.1, 0.6000000000000001, 4)]"
      ]
     },
     "execution_count": 27,
     "metadata": {},
     "output_type": "execute_result"
    }
   ],
   "source": [
    "valid_high_combinations[:3]"
   ]
  },
  {
   "cell_type": "code",
   "execution_count": null,
   "id": "f3f32eff-6e4d-4aee-9694-03d0b3bd076d",
   "metadata": {},
   "outputs": [],
   "source": []
  },
  {
   "cell_type": "code",
   "execution_count": 30,
   "id": "bbbf2896-4be9-464a-8c0e-2064cb9a2e3c",
   "metadata": {
    "execution": {
     "iopub.execute_input": "2022-11-17T23:42:27.012022Z",
     "iopub.status.busy": "2022-11-17T23:42:27.011424Z",
     "iopub.status.idle": "2022-11-17T23:42:27.024602Z",
     "shell.execute_reply": "2022-11-17T23:42:27.023666Z",
     "shell.execute_reply.started": "2022-11-17T23:42:27.011975Z"
    },
    "tags": []
   },
   "outputs": [],
   "source": [
    "\n",
    "combination= (0.2, 0.6, 0.6, 4.800000000000001, 4)\n",
    "\n",
    "ret = confoundSplitNumbers(df0=df_wls_merge, df1=df_adress, \n",
    "                            df0_label='label', df1_label='label',\n",
    "\n",
    "                            p_pos_train_z0=combination[0], p_pos_train_z1 = combination[1], p_mix_z1 = combination[2], alpha_test = combination[3],\n",
    "\n",
    "                            train_test_ratio = combination[4],\n",
    "                           )"
   ]
  },
  {
   "cell_type": "code",
   "execution_count": 31,
   "id": "d6140eae-5bf5-40ca-8020-7e6ac63870fe",
   "metadata": {
    "execution": {
     "iopub.execute_input": "2022-11-17T23:42:27.973236Z",
     "iopub.status.busy": "2022-11-17T23:42:27.972531Z",
     "iopub.status.idle": "2022-11-17T23:42:27.983044Z",
     "shell.execute_reply": "2022-11-17T23:42:27.981867Z",
     "shell.execute_reply.started": "2022-11-17T23:42:27.973177Z"
    },
    "tags": []
   },
   "outputs": [
    {
     "data": {
      "text/plain": [
       "{'n_df0_train_pos': 11,\n",
       " 'n_df0_test_pos': 2,\n",
       " 'n_df0_train_neg': 44,\n",
       " 'n_df0_test_neg': 12,\n",
       " 'n_df1_train_pos': 49,\n",
       " 'n_df1_test_pos': 12,\n",
       " 'n_df1_train_neg': 32,\n",
       " 'n_df1_test_neg': 7}"
      ]
     },
     "execution_count": 31,
     "metadata": {},
     "output_type": "execute_result"
    }
   ],
   "source": [
    "ret"
   ]
  },
  {
   "cell_type": "code",
   "execution_count": null,
   "id": "a47191b4-9d54-4c47-9768-9527ab50a9ad",
   "metadata": {},
   "outputs": [],
   "source": []
  },
  {
   "cell_type": "code",
   "execution_count": null,
   "id": "298716b2-d110-4718-9125-d8326820cfc1",
   "metadata": {},
   "outputs": [],
   "source": []
  },
  {
   "cell_type": "code",
   "execution_count": null,
   "id": "51baae75-93cc-4ece-a727-daa56be5fa56",
   "metadata": {},
   "outputs": [],
   "source": []
  },
  {
   "cell_type": "code",
   "execution_count": null,
   "id": "bb986502-ab7e-45f3-9d54-a4d666562703",
   "metadata": {},
   "outputs": [],
   "source": []
  },
  {
   "cell_type": "code",
   "execution_count": null,
   "id": "71bb91cc-0323-48a6-9778-7125902d8f12",
   "metadata": {},
   "outputs": [],
   "source": []
  },
  {
   "cell_type": "markdown",
   "id": "8d1e1c94-a7d9-438e-af07-79fb3acee72f",
   "metadata": {},
   "source": [
    "# In Usage"
   ]
  },
  {
   "cell_type": "code",
   "execution_count": 37,
   "id": "02ec3cc5-bf5a-44ba-9c0a-fa64653f7ed8",
   "metadata": {
    "execution": {
     "iopub.execute_input": "2023-01-11T05:47:47.675640Z",
     "iopub.status.busy": "2023-01-11T05:47:47.674898Z",
     "iopub.status.idle": "2023-01-11T05:47:47.681382Z",
     "shell.execute_reply": "2023-01-11T05:47:47.679859Z",
     "shell.execute_reply.started": "2023-01-11T05:47:47.675577Z"
    },
    "tags": []
   },
   "outputs": [],
   "source": [
    "import sys, os"
   ]
  },
  {
   "cell_type": "code",
   "execution_count": 46,
   "id": "377504f6-094f-49a6-a106-20122a0a0392",
   "metadata": {
    "execution": {
     "iopub.execute_input": "2023-01-11T05:50:39.081622Z",
     "iopub.status.busy": "2023-01-11T05:50:39.080727Z",
     "iopub.status.idle": "2023-01-11T05:50:39.092578Z",
     "shell.execute_reply": "2023-01-11T05:50:39.091510Z",
     "shell.execute_reply.started": "2023-01-11T05:50:39.081543Z"
    },
    "tags": []
   },
   "outputs": [],
   "source": [
    "sys.path.insert(0, \"..\")\n",
    "from src.utils import confoundSplitNumbers, confoundSplitDF\n",
    "from src.data_process import load_wls_adress_AddDomain"
   ]
  },
  {
   "cell_type": "code",
   "execution_count": 47,
   "id": "db09412e-71d2-4200-a083-2028be3ae8a5",
   "metadata": {
    "execution": {
     "iopub.execute_input": "2023-01-11T05:50:39.580894Z",
     "iopub.status.busy": "2023-01-11T05:50:39.579348Z",
     "iopub.status.idle": "2023-01-11T05:50:39.632648Z",
     "shell.execute_reply": "2023-01-11T05:50:39.631564Z",
     "shell.execute_reply.started": "2023-01-11T05:50:39.580805Z"
    }
   },
   "outputs": [],
   "source": [
    "df_wls_merge = load_wls_adress_AddDomain(dt=\"wls\")\n",
    "df_adress = load_wls_adress_AddDomain(dt=\"adress\")"
   ]
  },
  {
   "cell_type": "code",
   "execution_count": 108,
   "id": "f4d2ad20-6239-40a6-8d00-fbf77583fd9b",
   "metadata": {
    "execution": {
     "iopub.execute_input": "2023-01-11T06:00:21.439530Z",
     "iopub.status.busy": "2023-01-11T06:00:21.438703Z",
     "iopub.status.idle": "2023-01-11T06:00:23.068886Z",
     "shell.execute_reply": "2023-01-11T06:00:23.067691Z",
     "shell.execute_reply.started": "2023-01-11T06:00:21.439457Z"
    },
    "tags": []
   },
   "outputs": [],
   "source": [
    "n_valid_high = 10\n",
    "n_test = [150]\n",
    "n_test_error = [15]\n",
    "\n",
    "valid_high_combinations=[]\n",
    "valid_full_settings=[]\n",
    "for combination in itertools.product(\n",
    "        [0.5],\n",
    "        [0.2],\n",
    "        np.arange(0.1, 0.999, 0.1),\n",
    "        np.arange(0, 10, 0.1),\n",
    "        [4],\n",
    "        n_test,\n",
    "        n_test_error,\n",
    "    ):\n",
    "        ret = confoundSplitNumbers(\n",
    "            df0=df_wls_merge,\n",
    "            df1=df_adress,\n",
    "            df0_label=\"label\",\n",
    "            df1_label=\"label\",\n",
    "            p_pos_train_z0=combination[0],\n",
    "            p_pos_train_z1=combination[1],\n",
    "            p_mix_z1=combination[2],\n",
    "            alpha_test=combination[3],\n",
    "            train_test_ratio=combination[4],\n",
    "            n_test=combination[5],\n",
    "            n_test_error=combination[6],\n",
    "        )\n",
    "\n",
    "        if (ret is not None) and (\n",
    "            ret[\"n_df0_train_pos\"] >= n_valid_high\n",
    "        ):  # valie high combos\n",
    "            valid_high_combinations.append(combination)\n",
    "            valid_full_settings.append(ret)"
   ]
  },
  {
   "cell_type": "code",
   "execution_count": 109,
   "id": "5bcf9eda-03fe-4f8d-8a39-314db64bb78b",
   "metadata": {
    "execution": {
     "iopub.execute_input": "2023-01-11T06:00:23.069948Z",
     "iopub.status.busy": "2023-01-11T06:00:23.069779Z",
     "iopub.status.idle": "2023-01-11T06:00:23.076015Z",
     "shell.execute_reply": "2023-01-11T06:00:23.074655Z",
     "shell.execute_reply.started": "2023-01-11T06:00:23.069931Z"
    },
    "tags": []
   },
   "outputs": [
    {
     "data": {
      "text/plain": [
       "48"
      ]
     },
     "execution_count": 109,
     "metadata": {},
     "output_type": "execute_result"
    }
   ],
   "source": [
    "len(valid_high_combinations)"
   ]
  },
  {
   "cell_type": "code",
   "execution_count": null,
   "id": "ef81053c-dd2f-49f2-9266-d38de2117c97",
   "metadata": {},
   "outputs": [],
   "source": []
  }
 ],
 "metadata": {
  "kernelspec": {
   "display_name": "Python 3",
   "language": "python",
   "name": "python3"
  },
  "language_info": {
   "codemirror_mode": {
    "name": "ipython",
    "version": 3
   },
   "file_extension": ".py",
   "mimetype": "text/x-python",
   "name": "python",
   "nbconvert_exporter": "python",
   "pygments_lexer": "ipython3",
   "version": "3.8.10"
  },
  "toc": {
   "base_numbering": 1,
   "nav_menu": {},
   "number_sections": true,
   "sideBar": true,
   "skip_h1_title": false,
   "title_cell": "Table of Contents",
   "title_sidebar": "Contents",
   "toc_cell": false,
   "toc_position": {},
   "toc_section_display": true,
   "toc_window_display": false
  }
 },
 "nbformat": 4,
 "nbformat_minor": 5
}
