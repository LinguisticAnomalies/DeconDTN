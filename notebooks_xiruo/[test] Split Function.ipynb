{
 "cells": [
  {
   "cell_type": "code",
   "execution_count": null,
   "id": "169a05d5",
   "metadata": {},
   "outputs": [],
   "source": []
  },
  {
   "cell_type": "code",
   "execution_count": null,
   "id": "8b944a9d",
   "metadata": {},
   "outputs": [],
   "source": []
  },
  {
   "cell_type": "code",
   "execution_count": null,
   "id": "326dced1",
   "metadata": {},
   "outputs": [],
   "source": []
  },
  {
   "cell_type": "markdown",
   "id": "6969241c-4eb6-4fd6-a131-a11f7a7887e9",
   "metadata": {},
   "source": [
    "# Inner Split Function"
   ]
  },
  {
   "cell_type": "code",
   "execution_count": 1,
   "id": "315dc989",
   "metadata": {
    "ExecuteTime": {
     "end_time": "2022-10-15T19:09:38.991346Z",
     "start_time": "2022-10-15T19:09:38.980775Z"
    },
    "execution": {
     "iopub.execute_input": "2023-01-11T05:43:10.577830Z",
     "iopub.status.busy": "2023-01-11T05:43:10.576861Z",
     "iopub.status.idle": "2023-01-11T05:43:10.598231Z",
     "shell.execute_reply": "2023-01-11T05:43:10.597084Z",
     "shell.execute_reply.started": "2023-01-11T05:43:10.577624Z"
    },
    "tags": []
   },
   "outputs": [],
   "source": [
    "def confoundSplit(p_pos_train_z1, p_pos_train_z0, p_mix_z1, alpha_test):\n",
    "    \n",
    "    assert 0 <= p_pos_train_z1 <= 1\n",
    "    assert 0 <= p_pos_train_z0 <= 1\n",
    "    assert 0 <= p_mix_z1 <= 1\n",
    "    assert alpha_test >= 0\n",
    "    \n",
    "    C_z = p_mix_z1\n",
    "    \n",
    "    p_mix_z0 = 1 - p_mix_z1\n",
    "    \n",
    "    # C_y = p_train(y=1) = p_train(z=0) * p_train(y=1|z=0) + p_train(z=1) * p_train(y=1|z=1) \n",
    "    # C_y = p_test(y=1) = p_test(z=0) * p_test(y=1|z=0) + p_test(z=1) * p_test(y=1|z=1)\n",
    "    C_y = p_mix_z0 * p_pos_train_z0 + p_mix_z1 * p_pos_train_z1\n",
    "    \n",
    "    \n",
    "    \n",
    "    \n",
    "    p_pos_test_z0 = C_y / (1 - (1-alpha_test) * C_z)\n",
    "    p_pos_test_z1 = alpha_test * p_pos_test_z0\n",
    "    \n",
    "    \n",
    "    return {\"p_pos_train_z0\": p_pos_train_z0,\n",
    "            \"p_pos_train_z1\": p_pos_train_z1,\n",
    "            \"p_pos_train\": C_y,\n",
    "            \"p_pos_test\": C_y,\n",
    "            \"p_mix_z0\": p_mix_z0,\n",
    "            \"p_mix_z1\": p_mix_z1,\n",
    "            \"alpha_test\": alpha_test,\n",
    "            \"p_pos_test_z0\": p_pos_test_z0,\n",
    "            \"p_pos_test_z1\": p_pos_test_z1,\n",
    "            \n",
    "            \"C_y\": C_y,\n",
    "            \"C_z\": C_z,\n",
    "           }\n",
    "    "
   ]
  },
  {
   "cell_type": "code",
   "execution_count": 2,
   "id": "40981c3b",
   "metadata": {
    "ExecuteTime": {
     "end_time": "2022-10-15T19:16:54.775337Z",
     "start_time": "2022-10-15T19:16:54.765886Z"
    },
    "execution": {
     "iopub.execute_input": "2023-01-11T05:43:10.750573Z",
     "iopub.status.busy": "2023-01-11T05:43:10.750278Z",
     "iopub.status.idle": "2023-01-11T05:43:10.769660Z",
     "shell.execute_reply": "2023-01-11T05:43:10.768424Z",
     "shell.execute_reply.started": "2023-01-11T05:43:10.750545Z"
    },
    "tags": []
   },
   "outputs": [
    {
     "data": {
      "text/plain": [
       "{'p_pos_train_z0': 0.6,\n",
       " 'p_pos_train_z1': 0.2,\n",
       " 'p_pos_train': 0.4,\n",
       " 'p_pos_test': 0.4,\n",
       " 'p_mix_z0': 0.5,\n",
       " 'p_mix_z1': 0.5,\n",
       " 'alpha_test': 1,\n",
       " 'p_pos_test_z0': 0.4,\n",
       " 'p_pos_test_z1': 0.4,\n",
       " 'C_y': 0.4,\n",
       " 'C_z': 0.5}"
      ]
     },
     "execution_count": 2,
     "metadata": {},
     "output_type": "execute_result"
    }
   ],
   "source": [
    "confoundSplit(p_pos_train_z0=0.6, p_pos_train_z1 = 0.2, p_mix_z1 = 0.5, alpha_test = 1)"
   ]
  },
  {
   "cell_type": "code",
   "execution_count": 3,
   "id": "d78afc3e",
   "metadata": {
    "ExecuteTime": {
     "end_time": "2022-10-15T19:14:05.262333Z",
     "start_time": "2022-10-15T19:14:05.252987Z"
    },
    "execution": {
     "iopub.execute_input": "2023-01-11T05:43:10.925361Z",
     "iopub.status.busy": "2023-01-11T05:43:10.925061Z",
     "iopub.status.idle": "2023-01-11T05:43:10.931848Z",
     "shell.execute_reply": "2023-01-11T05:43:10.930638Z",
     "shell.execute_reply.started": "2023-01-11T05:43:10.925333Z"
    },
    "tags": []
   },
   "outputs": [
    {
     "data": {
      "text/plain": [
       "{'p_pos_train_z0': 0.8,\n",
       " 'p_pos_train_z1': 0.2,\n",
       " 'p_pos_train': 0.6800000000000002,\n",
       " 'p_pos_test': 0.6800000000000002,\n",
       " 'p_mix_z0': 0.8,\n",
       " 'p_mix_z1': 0.2,\n",
       " 'alpha_test': 1,\n",
       " 'p_pos_test_z0': 0.6800000000000002,\n",
       " 'p_pos_test_z1': 0.6800000000000002,\n",
       " 'C_y': 0.6800000000000002,\n",
       " 'C_z': 0.2}"
      ]
     },
     "execution_count": 3,
     "metadata": {},
     "output_type": "execute_result"
    }
   ],
   "source": [
    "confoundSplit(p_pos_train_z0=0.8, p_pos_train_z1 = 0.2, p_mix_z1 = 0.2, alpha_test = 1)"
   ]
  },
  {
   "cell_type": "code",
   "execution_count": 4,
   "id": "e0e5d3ae-29fb-42f4-935c-35c0954b67a7",
   "metadata": {
    "ExecuteTime": {
     "end_time": "2022-10-15T19:14:05.262333Z",
     "start_time": "2022-10-15T19:14:05.252987Z"
    },
    "execution": {
     "iopub.execute_input": "2023-01-11T05:43:11.526676Z",
     "iopub.status.busy": "2023-01-11T05:43:11.525996Z",
     "iopub.status.idle": "2023-01-11T05:43:11.537273Z",
     "shell.execute_reply": "2023-01-11T05:43:11.535916Z",
     "shell.execute_reply.started": "2023-01-11T05:43:11.526610Z"
    },
    "tags": []
   },
   "outputs": [
    {
     "data": {
      "text/plain": [
       "{'p_pos_train_z0': 0.8,\n",
       " 'p_pos_train_z1': 0.1,\n",
       " 'p_pos_train': 0.6600000000000001,\n",
       " 'p_pos_test': 0.6600000000000001,\n",
       " 'p_mix_z0': 0.8,\n",
       " 'p_mix_z1': 0.2,\n",
       " 'alpha_test': 1,\n",
       " 'p_pos_test_z0': 0.6600000000000001,\n",
       " 'p_pos_test_z1': 0.6600000000000001,\n",
       " 'C_y': 0.6600000000000001,\n",
       " 'C_z': 0.2}"
      ]
     },
     "execution_count": 4,
     "metadata": {},
     "output_type": "execute_result"
    }
   ],
   "source": [
    "confoundSplit(p_pos_train_z0=0.8, p_pos_train_z1 = 0.1, p_mix_z1 = 0.2, alpha_test = 1)"
   ]
  },
  {
   "cell_type": "code",
   "execution_count": 5,
   "id": "3018b8dd-95ea-42e5-913a-27331a8cf9c4",
   "metadata": {
    "ExecuteTime": {
     "end_time": "2022-10-15T19:14:05.262333Z",
     "start_time": "2022-10-15T19:14:05.252987Z"
    },
    "execution": {
     "iopub.execute_input": "2023-01-11T05:43:11.813952Z",
     "iopub.status.busy": "2023-01-11T05:43:11.813434Z",
     "iopub.status.idle": "2023-01-11T05:43:11.822849Z",
     "shell.execute_reply": "2023-01-11T05:43:11.821549Z",
     "shell.execute_reply.started": "2023-01-11T05:43:11.813904Z"
    },
    "tags": []
   },
   "outputs": [
    {
     "data": {
      "text/plain": [
       "{'p_pos_train_z0': 0.8,\n",
       " 'p_pos_train_z1': 0.1,\n",
       " 'p_pos_train': 0.6600000000000001,\n",
       " 'p_pos_test': 0.6600000000000001,\n",
       " 'p_mix_z0': 0.8,\n",
       " 'p_mix_z1': 0.2,\n",
       " 'alpha_test': 2,\n",
       " 'p_pos_test_z0': 0.5500000000000002,\n",
       " 'p_pos_test_z1': 1.1000000000000003,\n",
       " 'C_y': 0.6600000000000001,\n",
       " 'C_z': 0.2}"
      ]
     },
     "execution_count": 5,
     "metadata": {},
     "output_type": "execute_result"
    }
   ],
   "source": [
    "confoundSplit(p_pos_train_z0=0.8, p_pos_train_z1 = 0.1, p_mix_z1 = 0.2, alpha_test = 2)"
   ]
  },
  {
   "cell_type": "code",
   "execution_count": null,
   "id": "e7269626",
   "metadata": {},
   "outputs": [],
   "source": []
  },
  {
   "cell_type": "code",
   "execution_count": null,
   "id": "2f740bbd-342d-47d8-b46d-334b583674f8",
   "metadata": {},
   "outputs": [],
   "source": []
  },
  {
   "cell_type": "code",
   "execution_count": null,
   "id": "2853ddec-c77e-4c5d-909f-73ae1258158a",
   "metadata": {},
   "outputs": [],
   "source": []
  },
  {
   "cell_type": "code",
   "execution_count": null,
   "id": "17a65470-0fde-4362-bb10-d5859fb43079",
   "metadata": {},
   "outputs": [],
   "source": []
  },
  {
   "cell_type": "code",
   "execution_count": null,
   "id": "6aacf91a-f855-4348-8994-8dc44b7df96a",
   "metadata": {},
   "outputs": [],
   "source": []
  },
  {
   "cell_type": "code",
   "execution_count": null,
   "id": "5a8516d2-7c58-4a7f-8d52-6d7626ba60fd",
   "metadata": {},
   "outputs": [],
   "source": []
  },
  {
   "cell_type": "markdown",
   "id": "66fb02b6-24ae-4d78-a37e-05bd79f52d08",
   "metadata": {},
   "source": [
    "# Outer Wrapper accepting two datasets and some extra parameters"
   ]
  },
  {
   "cell_type": "code",
   "execution_count": 6,
   "id": "8dcc68c1-7e4f-4510-a597-5821f62b0992",
   "metadata": {
    "execution": {
     "iopub.execute_input": "2023-01-11T05:43:15.160708Z",
     "iopub.status.busy": "2023-01-11T05:43:15.160047Z",
     "iopub.status.idle": "2023-01-11T05:43:15.401565Z",
     "shell.execute_reply": "2023-01-11T05:43:15.400247Z",
     "shell.execute_reply.started": "2023-01-11T05:43:15.160652Z"
    },
    "tags": []
   },
   "outputs": [],
   "source": [
    "import pandas as pd\n",
    "import numpy as np"
   ]
  },
  {
   "cell_type": "markdown",
   "id": "d51c4258-41c8-4d9a-9031-a9b1165ee35f",
   "metadata": {
    "tags": []
   },
   "source": [
    "### WLS"
   ]
  },
  {
   "cell_type": "code",
   "execution_count": 7,
   "id": "31f67aed-b108-43e2-bacb-92d2170aa43a",
   "metadata": {
    "execution": {
     "iopub.execute_input": "2023-01-11T05:43:16.066096Z",
     "iopub.status.busy": "2023-01-11T05:43:16.065116Z",
     "iopub.status.idle": "2023-01-11T05:43:16.097929Z",
     "shell.execute_reply": "2023-01-11T05:43:16.096700Z",
     "shell.execute_reply.started": "2023-01-11T05:43:16.066019Z"
    },
    "tags": []
   },
   "outputs": [],
   "source": [
    "\n",
    "df_wls = pd.read_csv(\"/edata/TRESTLE/testWLS.tsv\", sep='\\t')\n",
    "\n",
    "df_wls_label = pd.read_csv(\"/edata/TRESTLE/WLS-labels.csv\")\n",
    "\n",
    "df_wls_merge = df_wls.merge(df_wls_label, left_on='file', right_on='idtlkbnk', how='inner')\n",
    "\n",
    "df_wls_merge.rename(columns={\"> 1 sd below mean for normals ages 60-79 (Tombaugh, Kozak, & Rees, 1999) -- normal cutoff = 12+ for 9-12 yrs eductation, 14+ for 13-21 yrs education\":\n",
    "                             \"label\",\n",
    "                             \n",
    "                            },\n",
    "                    inplace=True\n",
    "                   )\n",
    "\n",
    "df_wls_merge.loc[df_wls_merge['label'] == 'y','label'] = 'Y'\n",
    "\n",
    "condlist = [\n",
    "    df_wls_merge['label'] == 'Y',\n",
    "    df_wls_merge['label'] == 'N',\n",
    "    df_wls_merge['label'].isna()\n",
    "]\n",
    "choicelist = [\n",
    "    1,\n",
    "    0,\n",
    "    np.nan\n",
    "]\n",
    "\n",
    "df_wls_merge['label'] = np.select(condlist, choicelist)\n",
    "\n",
    "df_wls_merge = df_wls_merge.loc[df_wls_merge['label'].notna(), :].reset_index(drop=True)"
   ]
  },
  {
   "cell_type": "code",
   "execution_count": 8,
   "id": "3c5b098b-a41c-4b84-9edf-67a048325d19",
   "metadata": {
    "execution": {
     "iopub.execute_input": "2023-01-11T05:43:18.550523Z",
     "iopub.status.busy": "2023-01-11T05:43:18.549672Z",
     "iopub.status.idle": "2023-01-11T05:43:18.564536Z",
     "shell.execute_reply": "2023-01-11T05:43:18.563741Z",
     "shell.execute_reply.started": "2023-01-11T05:43:18.550448Z"
    },
    "tags": []
   },
   "outputs": [
    {
     "data": {
      "text/plain": [
       "label\n",
       "0.0    1167\n",
       "1.0     110\n",
       "dtype: int64"
      ]
     },
     "execution_count": 8,
     "metadata": {},
     "output_type": "execute_result"
    }
   ],
   "source": [
    "df_wls_merge.groupby('label', dropna=False).size()"
   ]
  },
  {
   "cell_type": "code",
   "execution_count": null,
   "id": "fa614d39-c633-4608-a744-67f1a11d89c1",
   "metadata": {},
   "outputs": [],
   "source": []
  },
  {
   "cell_type": "code",
   "execution_count": null,
   "id": "55d9830b-e779-4186-a451-4e6007023d74",
   "metadata": {},
   "outputs": [],
   "source": []
  },
  {
   "cell_type": "markdown",
   "id": "db1eb385-a981-4058-8145-09d9787d7c94",
   "metadata": {},
   "source": [
    "### ADReSS"
   ]
  },
  {
   "cell_type": "code",
   "execution_count": 9,
   "id": "a8bd0c7e-da0e-4486-80f6-4c91806d6370",
   "metadata": {
    "execution": {
     "iopub.execute_input": "2023-01-11T05:43:19.276849Z",
     "iopub.status.busy": "2023-01-11T05:43:19.276357Z",
     "iopub.status.idle": "2023-01-11T05:43:19.307496Z",
     "shell.execute_reply": "2023-01-11T05:43:19.305863Z",
     "shell.execute_reply.started": "2023-01-11T05:43:19.276809Z"
    },
    "tags": []
   },
   "outputs": [],
   "source": [
    "df_adress_train = pd.read_csv(\"/edata/ADReSS-IS2020-data/dataframes/adre_train.csv\")\n",
    "\n",
    "df_adress_test = pd.read_csv(\"/edata/ADReSS-IS2020-data/dataframes/adre_test.csv\")\n",
    "\n",
    "df_adress = pd.concat([df_adress_train, df_adress_test], ignore_index=True)\n",
    "\n",
    "df_adress.rename(columns={\"sentence\": \"text\"}, inplace=True)"
   ]
  },
  {
   "cell_type": "code",
   "execution_count": 10,
   "id": "326909a1-b227-434a-9cc1-0ca603f8e6c0",
   "metadata": {
    "execution": {
     "iopub.execute_input": "2023-01-11T05:43:19.648352Z",
     "iopub.status.busy": "2023-01-11T05:43:19.647507Z",
     "iopub.status.idle": "2023-01-11T05:43:19.674440Z",
     "shell.execute_reply": "2023-01-11T05:43:19.673612Z",
     "shell.execute_reply.started": "2023-01-11T05:43:19.648279Z"
    },
    "tags": []
   },
   "outputs": [
    {
     "data": {
      "text/html": [
       "<div>\n",
       "<style scoped>\n",
       "    .dataframe tbody tr th:only-of-type {\n",
       "        vertical-align: middle;\n",
       "    }\n",
       "\n",
       "    .dataframe tbody tr th {\n",
       "        vertical-align: top;\n",
       "    }\n",
       "\n",
       "    .dataframe thead th {\n",
       "        text-align: right;\n",
       "    }\n",
       "</style>\n",
       "<table border=\"1\" class=\"dataframe\">\n",
       "  <thead>\n",
       "    <tr style=\"text-align: right;\">\n",
       "      <th></th>\n",
       "      <th>Unnamed: 0</th>\n",
       "      <th>sentence_source</th>\n",
       "      <th>label</th>\n",
       "      <th>text</th>\n",
       "    </tr>\n",
       "  </thead>\n",
       "  <tbody>\n",
       "    <tr>\n",
       "      <th>0</th>\n",
       "      <td>6</td>\n",
       "      <td>S094.txt</td>\n",
       "      <td>1</td>\n",
       "      <td>oh yes   a little girl and the little boy is ...</td>\n",
       "    </tr>\n",
       "    <tr>\n",
       "      <th>1</th>\n",
       "      <td>0</td>\n",
       "      <td>S138.txt</td>\n",
       "      <td>1</td>\n",
       "      <td>the the water's flowing on the floor   and sh...</td>\n",
       "    </tr>\n",
       "    <tr>\n",
       "      <th>2</th>\n",
       "      <td>30</td>\n",
       "      <td>S118.txt</td>\n",
       "      <td>1</td>\n",
       "      <td>oh there's a cookie jar and a youngster with ...</td>\n",
       "    </tr>\n",
       "    <tr>\n",
       "      <th>3</th>\n",
       "      <td>37</td>\n",
       "      <td>S114.txt</td>\n",
       "      <td>1</td>\n",
       "      <td>mhm   well the kids is robbing a cookie jar  ...</td>\n",
       "    </tr>\n",
       "    <tr>\n",
       "      <th>4</th>\n",
       "      <td>49</td>\n",
       "      <td>S143.txt</td>\n",
       "      <td>1</td>\n",
       "      <td>well little boy reaching out for the cookie j...</td>\n",
       "    </tr>\n",
       "    <tr>\n",
       "      <th>...</th>\n",
       "      <td>...</td>\n",
       "      <td>...</td>\n",
       "      <td>...</td>\n",
       "      <td>...</td>\n",
       "    </tr>\n",
       "    <tr>\n",
       "      <th>151</th>\n",
       "      <td>43</td>\n",
       "      <td>S198.txt</td>\n",
       "      <td>1</td>\n",
       "      <td>you mean like the woman doing the dishes and ...</td>\n",
       "    </tr>\n",
       "    <tr>\n",
       "      <th>152</th>\n",
       "      <td>44</td>\n",
       "      <td>S180.txt</td>\n",
       "      <td>0</td>\n",
       "      <td>well the boy is taking cookies outof the cook...</td>\n",
       "    </tr>\n",
       "    <tr>\n",
       "      <th>153</th>\n",
       "      <td>45</td>\n",
       "      <td>S194.txt</td>\n",
       "      <td>1</td>\n",
       "      <td>well the mother has water spilling all over t...</td>\n",
       "    </tr>\n",
       "    <tr>\n",
       "      <th>154</th>\n",
       "      <td>46</td>\n",
       "      <td>S176.txt</td>\n",
       "      <td>1</td>\n",
       "      <td>whew   do i hafta use my my my personal descr...</td>\n",
       "    </tr>\n",
       "    <tr>\n",
       "      <th>155</th>\n",
       "      <td>47</td>\n",
       "      <td>S200.txt</td>\n",
       "      <td>1</td>\n",
       "      <td>seeing the mother   she's washing dishes and ...</td>\n",
       "    </tr>\n",
       "  </tbody>\n",
       "</table>\n",
       "<p>156 rows × 4 columns</p>\n",
       "</div>"
      ],
      "text/plain": [
       "     Unnamed: 0 sentence_source  label  \\\n",
       "0             6        S094.txt      1   \n",
       "1             0        S138.txt      1   \n",
       "2            30        S118.txt      1   \n",
       "3            37        S114.txt      1   \n",
       "4            49        S143.txt      1   \n",
       "..          ...             ...    ...   \n",
       "151          43        S198.txt      1   \n",
       "152          44        S180.txt      0   \n",
       "153          45        S194.txt      1   \n",
       "154          46        S176.txt      1   \n",
       "155          47        S200.txt      1   \n",
       "\n",
       "                                                  text  \n",
       "0     oh yes   a little girl and the little boy is ...  \n",
       "1     the the water's flowing on the floor   and sh...  \n",
       "2     oh there's a cookie jar and a youngster with ...  \n",
       "3     mhm   well the kids is robbing a cookie jar  ...  \n",
       "4     well little boy reaching out for the cookie j...  \n",
       "..                                                 ...  \n",
       "151   you mean like the woman doing the dishes and ...  \n",
       "152   well the boy is taking cookies outof the cook...  \n",
       "153   well the mother has water spilling all over t...  \n",
       "154   whew   do i hafta use my my my personal descr...  \n",
       "155   seeing the mother   she's washing dishes and ...  \n",
       "\n",
       "[156 rows x 4 columns]"
      ]
     },
     "execution_count": 10,
     "metadata": {},
     "output_type": "execute_result"
    }
   ],
   "source": [
    "df_adress"
   ]
  },
  {
   "cell_type": "code",
   "execution_count": null,
   "id": "1d3b83af-520e-4865-a2e7-689b5426414d",
   "metadata": {},
   "outputs": [],
   "source": []
  },
  {
   "cell_type": "code",
   "execution_count": null,
   "id": "05cd4218-3fa2-402a-b359-1e7bc60a9ef1",
   "metadata": {},
   "outputs": [],
   "source": []
  },
  {
   "cell_type": "code",
   "execution_count": null,
   "id": "50e4f476-b401-464d-a12b-280504665661",
   "metadata": {},
   "outputs": [],
   "source": []
  },
  {
   "cell_type": "code",
   "execution_count": null,
   "id": "5e8f53eb-6754-4eac-830c-e6759fbd9434",
   "metadata": {},
   "outputs": [],
   "source": []
  },
  {
   "cell_type": "markdown",
   "id": "16760b99-cbd3-49c7-b370-482654c537bc",
   "metadata": {},
   "source": [
    "## Wrapper Function"
   ]
  },
  {
   "cell_type": "code",
   "execution_count": 11,
   "id": "d42cecf9-6a8f-40bd-a711-5ccb6897d550",
   "metadata": {
    "execution": {
     "iopub.execute_input": "2023-01-11T05:43:21.174265Z",
     "iopub.status.busy": "2023-01-11T05:43:21.173413Z",
     "iopub.status.idle": "2023-01-11T05:43:21.186514Z",
     "shell.execute_reply": "2023-01-11T05:43:21.185555Z",
     "shell.execute_reply.started": "2023-01-11T05:43:21.174192Z"
    },
    "tags": []
   },
   "outputs": [
    {
     "data": {
      "text/plain": [
       "1167"
      ]
     },
     "execution_count": 11,
     "metadata": {},
     "output_type": "execute_result"
    }
   ],
   "source": [
    "(df_wls_merge['label'] == 0).sum()"
   ]
  },
  {
   "cell_type": "code",
   "execution_count": 12,
   "id": "1454d59a-4d1d-408d-8a64-68071dd4de4b",
   "metadata": {
    "execution": {
     "iopub.execute_input": "2023-01-11T05:43:21.357110Z",
     "iopub.status.busy": "2023-01-11T05:43:21.356482Z",
     "iopub.status.idle": "2023-01-11T05:43:21.370111Z",
     "shell.execute_reply": "2023-01-11T05:43:21.368801Z",
     "shell.execute_reply.started": "2023-01-11T05:43:21.357049Z"
    },
    "tags": []
   },
   "outputs": [
    {
     "data": {
      "text/plain": [
       "label\n",
       "0.0    1167\n",
       "1.0     110\n",
       "dtype: int64"
      ]
     },
     "execution_count": 12,
     "metadata": {},
     "output_type": "execute_result"
    }
   ],
   "source": [
    "df_wls_merge.groupby('label', dropna=False).size()"
   ]
  },
  {
   "cell_type": "code",
   "execution_count": 13,
   "id": "4f0bc668-e7ae-4eaf-a4ee-09e7ee7fe27a",
   "metadata": {
    "ExecuteTime": {
     "end_time": "2022-10-15T19:14:05.262333Z",
     "start_time": "2022-10-15T19:14:05.252987Z"
    },
    "execution": {
     "iopub.execute_input": "2023-01-11T05:43:21.572000Z",
     "iopub.status.busy": "2023-01-11T05:43:21.571384Z",
     "iopub.status.idle": "2023-01-11T05:43:21.581253Z",
     "shell.execute_reply": "2023-01-11T05:43:21.580033Z",
     "shell.execute_reply.started": "2023-01-11T05:43:21.571942Z"
    },
    "tags": []
   },
   "outputs": [
    {
     "data": {
      "text/plain": [
       "{'p_pos_train_z0': 0.8,\n",
       " 'p_pos_train_z1': 0.1,\n",
       " 'p_pos_train': 0.6600000000000001,\n",
       " 'p_pos_test': 0.6600000000000001,\n",
       " 'p_mix_z0': 0.8,\n",
       " 'p_mix_z1': 0.2,\n",
       " 'alpha_test': 2,\n",
       " 'p_pos_test_z0': 0.5500000000000002,\n",
       " 'p_pos_test_z1': 1.1000000000000003,\n",
       " 'C_y': 0.6600000000000001,\n",
       " 'C_z': 0.2}"
      ]
     },
     "execution_count": 13,
     "metadata": {},
     "output_type": "execute_result"
    }
   ],
   "source": [
    "confoundSplit(p_pos_train_z0=0.8, p_pos_train_z1 = 0.1, p_mix_z1 = 0.2, alpha_test = 2)"
   ]
  },
  {
   "cell_type": "code",
   "execution_count": 14,
   "id": "51cbd3e6-cb1a-4c7f-8b74-3f872b1ddfff",
   "metadata": {
    "execution": {
     "iopub.execute_input": "2023-01-11T05:43:23.635366Z",
     "iopub.status.busy": "2023-01-11T05:43:23.634491Z",
     "iopub.status.idle": "2023-01-11T05:43:23.658585Z",
     "shell.execute_reply": "2023-01-11T05:43:23.657627Z",
     "shell.execute_reply.started": "2023-01-11T05:43:23.635245Z"
    },
    "tags": []
   },
   "outputs": [],
   "source": [
    "import math\n",
    "\n",
    "\n",
    "def confoundSplitNumbers(df0, df1, \n",
    "                    df0_label, df1_label,\n",
    "                    p_pos_train_z1, p_pos_train_z0, p_mix_z1, alpha_test, \n",
    "                    train_test_ratio = 4,\n",
    "                   ):\n",
    "    \n",
    "    \"\"\"\n",
    "    df0_label, df1_label: 0/1, or True/False coded\n",
    "    \n",
    "    \n",
    "    \"\"\"\n",
    "    assert df0[df0_label].isin([0,1]).all(axis=0)\n",
    "    assert df1[df1_label].isin([0,1]).all(axis=0)\n",
    "    \n",
    "    \n",
    "    mix_param_dict = confoundSplit(p_pos_train_z0=p_pos_train_z0, p_pos_train_z1 = p_pos_train_z1, p_mix_z1 = p_mix_z1, alpha_test = alpha_test)\n",
    "    \n",
    "    \n",
    "    \n",
    "    N_df0_pos = (df0[df0_label] == 1).sum()\n",
    "    N_df0_neg = (df0[df0_label] == 0).sum()\n",
    "    \n",
    "    N_df1_pos = (df1[df1_label] == 1).sum()\n",
    "    N_df1_neg = (df1[df1_label] == 0).sum()\n",
    "    \n",
    "    N_df0 = N_df0_pos + N_df0_neg\n",
    "    N_df1 = N_df1_pos + N_df1_neg\n",
    "        \n",
    "    \n",
    "    n_df0_test_pos = math.floor(N_df0 / (train_test_ratio + 1))\n",
    "    \n",
    "    \n",
    "    while(n_df0_test_pos > 0):\n",
    "        \n",
    "        n_df0_test_neg = math.floor(n_df0_test_pos / mix_param_dict['p_pos_test_z0'] * (1-mix_param_dict['p_pos_test_z0']))\n",
    "        \n",
    "        \n",
    "        n_df0_train_pos = math.floor((n_df0_test_pos + n_df0_test_neg) * train_test_ratio * mix_param_dict['p_pos_train_z0'])\n",
    "        n_df0_train_neg = math.floor((n_df0_test_pos + n_df0_test_neg) * train_test_ratio * (1 - mix_param_dict['p_pos_train_z0']))\n",
    "        \n",
    "        \n",
    "        \n",
    "        \n",
    "        n_df1_train = math.floor(mix_param_dict['C_z'] / (1 - mix_param_dict['C_z']) * (n_df0_train_pos + n_df0_train_neg))\n",
    "        n_df1_train_pos = math.floor(n_df1_train * mix_param_dict['p_pos_train_z1'])\n",
    "        n_df1_train_neg = math.floor(n_df1_train * (1 - mix_param_dict['p_pos_train_z1']))\n",
    "        \n",
    "        n_df1_test = math.floor(n_df1_train/train_test_ratio)\n",
    "        n_df1_test_pos = math.floor(n_df1_test * mix_param_dict['p_pos_test_z1'])\n",
    "        n_df1_test_neg = math.floor(n_df1_test * (1 - mix_param_dict['p_pos_test_z1']))\n",
    "        \n",
    "        \n",
    "        test1 = 0 < (n_df0_train_pos + n_df0_test_pos) <= N_df0_pos\n",
    "        test2 = 0 < (n_df0_train_neg + n_df0_test_neg) <= N_df0_neg\n",
    "        \n",
    "        test3 = 0 < (n_df1_train_pos + n_df1_test_pos) <= N_df1_pos\n",
    "        test4 = 0 < (n_df1_train_neg + n_df1_test_neg) <= N_df1_neg\n",
    "        \n",
    "        \n",
    "        test5 = 0 < n_df0_train_pos\n",
    "        test6 = 0 < n_df0_train_neg\n",
    "        test7 = 0 < n_df1_train_pos\n",
    "        test8 = 0 < n_df1_train_neg\n",
    "        \n",
    "        test9 = 0 < n_df0_test_pos\n",
    "        test10 = 0 < n_df0_test_neg\n",
    "        test11 = 0 < n_df1_test_pos\n",
    "        test12 = 0 < n_df1_test_neg\n",
    "        \n",
    "        \n",
    "        \n",
    "        if test1 and test2 and test3 and test4 and test5 and test6 and test7 and test8 and test9 and test10 and test11 and test12:\n",
    "            return {\"n_df0_train_pos\": n_df0_train_pos,\n",
    "                    \"n_df0_test_pos\": n_df0_test_pos,\n",
    "                    \"n_df0_train_neg\": n_df0_train_neg,\n",
    "                    \"n_df0_test_neg\": n_df0_test_neg,\n",
    "                    \n",
    "                    \"n_df1_train_pos\": n_df1_train_pos,\n",
    "                    \"n_df1_test_pos\":n_df1_test_pos,\n",
    "                    \"n_df1_train_neg\":n_df1_train_neg,\n",
    "                    \"n_df1_test_neg\":n_df1_test_neg,\n",
    "                    \n",
    "                   }\n",
    "        else:        \n",
    "            n_df0_test_pos -= 1\n",
    "        \n",
    "        if n_df0_test_pos == 0:\n",
    "            return None"
   ]
  },
  {
   "cell_type": "code",
   "execution_count": null,
   "id": "92de1d9b-afc0-41bb-b97e-a3aac15b5537",
   "metadata": {},
   "outputs": [],
   "source": []
  },
  {
   "cell_type": "code",
   "execution_count": 15,
   "id": "5ee07a62-8723-4087-b995-822848f5c696",
   "metadata": {
    "ExecuteTime": {
     "end_time": "2022-10-15T19:14:05.262333Z",
     "start_time": "2022-10-15T19:14:05.252987Z"
    },
    "execution": {
     "iopub.execute_input": "2023-01-11T05:43:27.398634Z",
     "iopub.status.busy": "2023-01-11T05:43:27.397851Z",
     "iopub.status.idle": "2023-01-11T05:43:27.409488Z",
     "shell.execute_reply": "2023-01-11T05:43:27.408171Z",
     "shell.execute_reply.started": "2023-01-11T05:43:27.398563Z"
    },
    "tags": []
   },
   "outputs": [
    {
     "data": {
      "text/plain": [
       "{'p_pos_train_z0': 0.8,\n",
       " 'p_pos_train_z1': 0.1,\n",
       " 'p_pos_train': 0.6600000000000001,\n",
       " 'p_pos_test': 0.6600000000000001,\n",
       " 'p_mix_z0': 0.8,\n",
       " 'p_mix_z1': 0.2,\n",
       " 'alpha_test': 2,\n",
       " 'p_pos_test_z0': 0.5500000000000002,\n",
       " 'p_pos_test_z1': 1.1000000000000003,\n",
       " 'C_y': 0.6600000000000001,\n",
       " 'C_z': 0.2}"
      ]
     },
     "execution_count": 15,
     "metadata": {},
     "output_type": "execute_result"
    }
   ],
   "source": [
    "confoundSplit(p_pos_train_z0=0.8, p_pos_train_z1 = 0.1, p_mix_z1 = 0.2, alpha_test = 2)"
   ]
  },
  {
   "cell_type": "code",
   "execution_count": 16,
   "id": "62c1d85f-7651-40d6-a2eb-d1a969708c30",
   "metadata": {
    "execution": {
     "iopub.execute_input": "2023-01-11T05:43:27.692022Z",
     "iopub.status.busy": "2023-01-11T05:43:27.691680Z",
     "iopub.status.idle": "2023-01-11T05:43:27.701234Z",
     "shell.execute_reply": "2023-01-11T05:43:27.700083Z",
     "shell.execute_reply.started": "2023-01-11T05:43:27.691989Z"
    },
    "tags": []
   },
   "outputs": [],
   "source": [
    "\n",
    "confoundSplitNumbers(df0=df_wls_merge, df1=df_adress, \n",
    "                    df0_label='label', df1_label='label',\n",
    "                    \n",
    "                    p_pos_train_z0=0.8, p_pos_train_z1 = 0.1, p_mix_z1 = 0.2, alpha_test = 2,\n",
    "                    \n",
    "                    train_test_ratio = 5,\n",
    "                   )"
   ]
  },
  {
   "cell_type": "code",
   "execution_count": 17,
   "id": "01e5fb01-b78a-41f5-95a6-1583f61703c8",
   "metadata": {
    "execution": {
     "iopub.execute_input": "2023-01-11T05:43:29.786311Z",
     "iopub.status.busy": "2023-01-11T05:43:29.785633Z",
     "iopub.status.idle": "2023-01-11T05:43:29.801491Z",
     "shell.execute_reply": "2023-01-11T05:43:29.800214Z",
     "shell.execute_reply.started": "2023-01-11T05:43:29.786246Z"
    },
    "tags": []
   },
   "outputs": [],
   "source": [
    "\n",
    "confoundSplitNumbers(df0=df_wls_merge, df1=df_adress, \n",
    "                    df0_label='label', df1_label='label',\n",
    "                    \n",
    "                    p_pos_train_z0=0.8, p_pos_train_z1 = 0.1, p_mix_z1 = 0.2, alpha_test = 2,\n",
    "                    \n",
    "                    train_test_ratio = 1,\n",
    "                   )\n",
    "\n"
   ]
  },
  {
   "cell_type": "code",
   "execution_count": 18,
   "id": "6fdf0f14-8a7b-4313-8a9e-956a23b450bb",
   "metadata": {
    "execution": {
     "iopub.execute_input": "2023-01-11T05:43:30.049573Z",
     "iopub.status.busy": "2023-01-11T05:43:30.049281Z",
     "iopub.status.idle": "2023-01-11T05:43:30.055991Z",
     "shell.execute_reply": "2023-01-11T05:43:30.054856Z",
     "shell.execute_reply.started": "2023-01-11T05:43:30.049545Z"
    },
    "tags": []
   },
   "outputs": [
    {
     "data": {
      "text/plain": [
       "array([0. , 0.1, 0.2, 0.3, 0.4, 0.5, 0.6, 0.7, 0.8, 0.9])"
      ]
     },
     "execution_count": 18,
     "metadata": {},
     "output_type": "execute_result"
    }
   ],
   "source": [
    "np.arange(0, 1, 0.1)"
   ]
  },
  {
   "cell_type": "code",
   "execution_count": 19,
   "id": "4445826c-b86a-49f5-89c4-d6b69126b508",
   "metadata": {
    "execution": {
     "iopub.execute_input": "2023-01-11T05:43:30.364046Z",
     "iopub.status.busy": "2023-01-11T05:43:30.363743Z",
     "iopub.status.idle": "2023-01-11T05:43:30.368447Z",
     "shell.execute_reply": "2023-01-11T05:43:30.366871Z",
     "shell.execute_reply.started": "2023-01-11T05:43:30.364018Z"
    },
    "tags": []
   },
   "outputs": [],
   "source": [
    "import itertools"
   ]
  },
  {
   "cell_type": "code",
   "execution_count": 28,
   "id": "f313a122-36f5-401e-a03d-72295980ba14",
   "metadata": {
    "execution": {
     "iopub.execute_input": "2023-01-11T05:44:22.974128Z",
     "iopub.status.busy": "2023-01-11T05:44:22.973348Z",
     "iopub.status.idle": "2023-01-11T05:44:24.512165Z",
     "shell.execute_reply": "2023-01-11T05:44:24.511106Z",
     "shell.execute_reply.started": "2023-01-11T05:44:22.974057Z"
    },
    "tags": []
   },
   "outputs": [],
   "source": [
    "\n",
    "valid_combinations = []\n",
    "\n",
    "for combination in itertools.product([0.5], \n",
    "                                    [0.1], \n",
    "                                     np.arange(0.1, 0.999, 0.1),\n",
    "                                     np.arange(0,10,0.1),\n",
    "                                     [4]\n",
    "                                     \n",
    "                                    ):\n",
    "    \n",
    "    ret = confoundSplitNumbers(df0=df_wls_merge, df1=df_adress, \n",
    "                        df0_label='label', df1_label='label',\n",
    "\n",
    "                        p_pos_train_z0=combination[0], p_pos_train_z1 = combination[1], p_mix_z1 = combination[2], alpha_test = combination[3],\n",
    "\n",
    "                        train_test_ratio = combination[4],\n",
    "                       )\n",
    "    \n",
    "    if ret is not None:\n",
    "        valid_combinations.append(combination)\n",
    "        \n",
    "    "
   ]
  },
  {
   "cell_type": "code",
   "execution_count": null,
   "id": "20cc577d-aa16-400a-a55e-b72ee10dd9ea",
   "metadata": {},
   "outputs": [],
   "source": []
  },
  {
   "cell_type": "code",
   "execution_count": null,
   "id": "c9062998-0847-4e30-8542-7ada04c7da7d",
   "metadata": {},
   "outputs": [],
   "source": []
  },
  {
   "cell_type": "code",
   "execution_count": 29,
   "id": "25c8ddc9-9300-4000-b128-467d711b73e6",
   "metadata": {
    "execution": {
     "iopub.execute_input": "2023-01-11T05:44:25.449010Z",
     "iopub.status.busy": "2023-01-11T05:44:25.448227Z",
     "iopub.status.idle": "2023-01-11T05:44:25.459464Z",
     "shell.execute_reply": "2023-01-11T05:44:25.458167Z",
     "shell.execute_reply.started": "2023-01-11T05:44:25.448934Z"
    },
    "tags": []
   },
   "outputs": [
    {
     "data": {
      "text/plain": [
       "379"
      ]
     },
     "execution_count": 29,
     "metadata": {},
     "output_type": "execute_result"
    }
   ],
   "source": [
    "len(valid_combinations)"
   ]
  },
  {
   "cell_type": "code",
   "execution_count": 22,
   "id": "03d8651a-88e1-4d86-ace1-b2c28728b095",
   "metadata": {
    "execution": {
     "iopub.execute_input": "2023-01-11T05:43:36.584675Z",
     "iopub.status.busy": "2023-01-11T05:43:36.583874Z",
     "iopub.status.idle": "2023-01-11T05:43:36.597402Z",
     "shell.execute_reply": "2023-01-11T05:43:36.596033Z",
     "shell.execute_reply.started": "2023-01-11T05:43:36.584602Z"
    },
    "tags": []
   },
   "outputs": [
    {
     "data": {
      "text/plain": [
       "0"
      ]
     },
     "execution_count": 22,
     "metadata": {},
     "output_type": "execute_result"
    }
   ],
   "source": [
    "len([c for c in valid_combinations if (0.1 <= c[0] <= 0.2) and (0.6 <= c[1] <= 0.65) and (c[4] == 4)])"
   ]
  },
  {
   "cell_type": "code",
   "execution_count": 23,
   "id": "607481c7-bb5d-429f-a1b4-d98700b38394",
   "metadata": {
    "execution": {
     "iopub.execute_input": "2023-01-11T05:43:37.188918Z",
     "iopub.status.busy": "2023-01-11T05:43:37.188179Z",
     "iopub.status.idle": "2023-01-11T05:43:37.201303Z",
     "shell.execute_reply": "2023-01-11T05:43:37.200179Z",
     "shell.execute_reply.started": "2023-01-11T05:43:37.188849Z"
    },
    "tags": []
   },
   "outputs": [
    {
     "data": {
      "text/plain": [
       "0"
      ]
     },
     "execution_count": 23,
     "metadata": {},
     "output_type": "execute_result"
    }
   ],
   "source": [
    "len([c for c in valid_combinations if (0.1 <= c[0] <= 0.3) and (0.6 <= c[1] <= 0.8) and (c[4] == 4) and (1 <= c[3] <= 1.5)])"
   ]
  },
  {
   "cell_type": "code",
   "execution_count": null,
   "id": "05cd7acd-dc68-4ecd-a579-e6ae0bad36db",
   "metadata": {},
   "outputs": [],
   "source": []
  },
  {
   "cell_type": "code",
   "execution_count": 24,
   "id": "4be87339-e1fd-4bf0-974d-3e8e98245a38",
   "metadata": {
    "execution": {
     "iopub.execute_input": "2023-01-11T05:43:39.123400Z",
     "iopub.status.busy": "2023-01-11T05:43:39.122466Z",
     "iopub.status.idle": "2023-01-11T05:43:40.357818Z",
     "shell.execute_reply": "2023-01-11T05:43:40.356454Z",
     "shell.execute_reply.started": "2023-01-11T05:43:39.123268Z"
    },
    "tags": []
   },
   "outputs": [],
   "source": [
    "valid_high_combinations = []\n",
    "\n",
    "for combination in valid_combinations:\n",
    "\n",
    "    ret = confoundSplitNumbers(df0=df_wls_merge, df1=df_adress, \n",
    "                            df0_label='label', df1_label='label',\n",
    "\n",
    "                            p_pos_train_z0=combination[0], p_pos_train_z1 = combination[1], p_mix_z1 = combination[2], alpha_test = combination[3],\n",
    "\n",
    "                            train_test_ratio = combination[4],\n",
    "                           )\n",
    "    \n",
    "    if (ret['n_df0_train_pos'] >= 10) and (combination[4] == 4):\n",
    "            valid_high_combinations.append(combination)\n",
    "    \n",
    "    \n",
    "    "
   ]
  },
  {
   "cell_type": "code",
   "execution_count": 25,
   "id": "58570cf8-6b1e-4799-898d-21fa6bd69fea",
   "metadata": {
    "execution": {
     "iopub.execute_input": "2023-01-11T05:43:40.977236Z",
     "iopub.status.busy": "2023-01-11T05:43:40.976836Z",
     "iopub.status.idle": "2023-01-11T05:43:40.985782Z",
     "shell.execute_reply": "2023-01-11T05:43:40.984407Z",
     "shell.execute_reply.started": "2023-01-11T05:43:40.977203Z"
    },
    "tags": []
   },
   "outputs": [
    {
     "data": {
      "text/plain": [
       "530"
      ]
     },
     "execution_count": 25,
     "metadata": {},
     "output_type": "execute_result"
    }
   ],
   "source": [
    "len(valid_high_combinations)"
   ]
  },
  {
   "cell_type": "code",
   "execution_count": 27,
   "id": "f9b3c4eb-eebd-4710-bdce-f843e437bc92",
   "metadata": {
    "execution": {
     "iopub.execute_input": "2023-01-11T05:43:50.379148Z",
     "iopub.status.busy": "2023-01-11T05:43:50.378377Z",
     "iopub.status.idle": "2023-01-11T05:43:50.388361Z",
     "shell.execute_reply": "2023-01-11T05:43:50.387088Z",
     "shell.execute_reply.started": "2023-01-11T05:43:50.379078Z"
    },
    "tags": []
   },
   "outputs": [
    {
     "data": {
      "text/plain": [
       "[(0.2, 0.4, 0.1, 0.4, 4),\n",
       " (0.2, 0.4, 0.1, 0.5, 4),\n",
       " (0.2, 0.4, 0.1, 0.6000000000000001, 4)]"
      ]
     },
     "execution_count": 27,
     "metadata": {},
     "output_type": "execute_result"
    }
   ],
   "source": [
    "valid_high_combinations[:3]"
   ]
  },
  {
   "cell_type": "code",
   "execution_count": null,
   "id": "f3f32eff-6e4d-4aee-9694-03d0b3bd076d",
   "metadata": {},
   "outputs": [],
   "source": []
  },
  {
   "cell_type": "code",
   "execution_count": 30,
   "id": "bbbf2896-4be9-464a-8c0e-2064cb9a2e3c",
   "metadata": {
    "execution": {
     "iopub.execute_input": "2022-11-17T23:42:27.012022Z",
     "iopub.status.busy": "2022-11-17T23:42:27.011424Z",
     "iopub.status.idle": "2022-11-17T23:42:27.024602Z",
     "shell.execute_reply": "2022-11-17T23:42:27.023666Z",
     "shell.execute_reply.started": "2022-11-17T23:42:27.011975Z"
    },
    "tags": []
   },
   "outputs": [],
   "source": [
    "\n",
    "combination= (0.2, 0.6, 0.6, 4.800000000000001, 4)\n",
    "\n",
    "ret = confoundSplitNumbers(df0=df_wls_merge, df1=df_adress, \n",
    "                            df0_label='label', df1_label='label',\n",
    "\n",
    "                            p_pos_train_z0=combination[0], p_pos_train_z1 = combination[1], p_mix_z1 = combination[2], alpha_test = combination[3],\n",
    "\n",
    "                            train_test_ratio = combination[4],\n",
    "                           )"
   ]
  },
  {
   "cell_type": "code",
   "execution_count": 31,
   "id": "d6140eae-5bf5-40ca-8020-7e6ac63870fe",
   "metadata": {
    "execution": {
     "iopub.execute_input": "2022-11-17T23:42:27.973236Z",
     "iopub.status.busy": "2022-11-17T23:42:27.972531Z",
     "iopub.status.idle": "2022-11-17T23:42:27.983044Z",
     "shell.execute_reply": "2022-11-17T23:42:27.981867Z",
     "shell.execute_reply.started": "2022-11-17T23:42:27.973177Z"
    },
    "tags": []
   },
   "outputs": [
    {
     "data": {
      "text/plain": [
       "{'n_df0_train_pos': 11,\n",
       " 'n_df0_test_pos': 2,\n",
       " 'n_df0_train_neg': 44,\n",
       " 'n_df0_test_neg': 12,\n",
       " 'n_df1_train_pos': 49,\n",
       " 'n_df1_test_pos': 12,\n",
       " 'n_df1_train_neg': 32,\n",
       " 'n_df1_test_neg': 7}"
      ]
     },
     "execution_count": 31,
     "metadata": {},
     "output_type": "execute_result"
    }
   ],
   "source": [
    "ret"
   ]
  },
  {
   "cell_type": "code",
   "execution_count": null,
   "id": "a47191b4-9d54-4c47-9768-9527ab50a9ad",
   "metadata": {},
   "outputs": [],
   "source": []
  },
  {
   "cell_type": "code",
   "execution_count": null,
   "id": "298716b2-d110-4718-9125-d8326820cfc1",
   "metadata": {},
   "outputs": [],
   "source": []
  },
  {
   "cell_type": "code",
   "execution_count": null,
   "id": "51baae75-93cc-4ece-a727-daa56be5fa56",
   "metadata": {},
   "outputs": [],
   "source": []
  },
  {
   "cell_type": "code",
   "execution_count": null,
   "id": "bb986502-ab7e-45f3-9d54-a4d666562703",
   "metadata": {},
   "outputs": [],
   "source": []
  },
  {
   "cell_type": "code",
   "execution_count": null,
   "id": "71bb91cc-0323-48a6-9778-7125902d8f12",
   "metadata": {},
   "outputs": [],
   "source": []
  },
  {
   "cell_type": "markdown",
   "id": "8d1e1c94-a7d9-438e-af07-79fb3acee72f",
   "metadata": {
    "tags": []
   },
   "source": [
    "# In Usage"
   ]
  },
  {
   "cell_type": "code",
   "execution_count": 1,
   "id": "02ec3cc5-bf5a-44ba-9c0a-fa64653f7ed8",
   "metadata": {
    "execution": {
     "iopub.execute_input": "2023-02-13T18:01:38.375215Z",
     "iopub.status.busy": "2023-02-13T18:01:38.374295Z",
     "iopub.status.idle": "2023-02-13T18:01:38.390568Z",
     "shell.execute_reply": "2023-02-13T18:01:38.389417Z",
     "shell.execute_reply.started": "2023-02-13T18:01:38.375022Z"
    },
    "tags": []
   },
   "outputs": [],
   "source": [
    "import sys, os"
   ]
  },
  {
   "cell_type": "code",
   "execution_count": 46,
   "id": "377504f6-094f-49a6-a106-20122a0a0392",
   "metadata": {
    "execution": {
     "iopub.execute_input": "2023-01-11T05:50:39.081622Z",
     "iopub.status.busy": "2023-01-11T05:50:39.080727Z",
     "iopub.status.idle": "2023-01-11T05:50:39.092578Z",
     "shell.execute_reply": "2023-01-11T05:50:39.091510Z",
     "shell.execute_reply.started": "2023-01-11T05:50:39.081543Z"
    },
    "tags": []
   },
   "outputs": [],
   "source": [
    "sys.path.insert(0, \"..\")\n",
    "from src.utils import confoundSplitNumbers, confoundSplitDF\n",
    "from src.data_process import load_wls_adress_AddDomain"
   ]
  },
  {
   "cell_type": "code",
   "execution_count": 47,
   "id": "db09412e-71d2-4200-a083-2028be3ae8a5",
   "metadata": {
    "execution": {
     "iopub.execute_input": "2023-01-11T05:50:39.580894Z",
     "iopub.status.busy": "2023-01-11T05:50:39.579348Z",
     "iopub.status.idle": "2023-01-11T05:50:39.632648Z",
     "shell.execute_reply": "2023-01-11T05:50:39.631564Z",
     "shell.execute_reply.started": "2023-01-11T05:50:39.580805Z"
    }
   },
   "outputs": [],
   "source": [
    "df_wls_merge = load_wls_adress_AddDomain(dt=\"wls\")\n",
    "df_adress = load_wls_adress_AddDomain(dt=\"adress\")"
   ]
  },
  {
   "cell_type": "code",
   "execution_count": 209,
   "id": "f4d2ad20-6239-40a6-8d00-fbf77583fd9b",
   "metadata": {
    "execution": {
     "iopub.execute_input": "2023-01-11T23:13:28.255114Z",
     "iopub.status.busy": "2023-01-11T23:13:28.254329Z",
     "iopub.status.idle": "2023-01-11T23:13:29.814669Z",
     "shell.execute_reply": "2023-01-11T23:13:29.813324Z",
     "shell.execute_reply.started": "2023-01-11T23:13:28.255043Z"
    },
    "tags": []
   },
   "outputs": [],
   "source": [
    "n_valid_high = 10\n",
    "n_test = [150]\n",
    "n_test_error = [20]\n",
    "\n",
    "valid_high_combinations=[]\n",
    "valid_full_settings=[]\n",
    "for combination in itertools.product(\n",
    "        [0.5],\n",
    "        [0.2],\n",
    "        np.arange(0.1, 0.999, 0.1),\n",
    "        np.arange(0, 5, 0.05),\n",
    "        [4],\n",
    "        n_test,\n",
    "        n_test_error,\n",
    "    ):\n",
    "        ret = confoundSplitNumbers(\n",
    "            df0=df_wls_merge,\n",
    "            df1=df_adress,\n",
    "            df0_label=\"label\",\n",
    "            df1_label=\"label\",\n",
    "            p_pos_train_z0=combination[0],\n",
    "            p_pos_train_z1=combination[1],\n",
    "            p_mix_z1=combination[2],\n",
    "            alpha_test=combination[3],\n",
    "            train_test_ratio=combination[4],\n",
    "            n_test=combination[5],\n",
    "            n_test_error=combination[6],\n",
    "        )\n",
    "\n",
    "        if (ret is not None) and (\n",
    "            ret[\"n_df0_train_pos\"] >= n_valid_high\n",
    "        ):  # valie high combos\n",
    "            valid_high_combinations.append(combination)\n",
    "            valid_full_settings.append(ret)"
   ]
  },
  {
   "cell_type": "code",
   "execution_count": 210,
   "id": "5bcf9eda-03fe-4f8d-8a39-314db64bb78b",
   "metadata": {
    "execution": {
     "iopub.execute_input": "2023-01-11T23:13:29.816221Z",
     "iopub.status.busy": "2023-01-11T23:13:29.815919Z",
     "iopub.status.idle": "2023-01-11T23:13:29.822535Z",
     "shell.execute_reply": "2023-01-11T23:13:29.821274Z",
     "shell.execute_reply.started": "2023-01-11T23:13:29.816191Z"
    },
    "tags": []
   },
   "outputs": [
    {
     "data": {
      "text/plain": [
       "75"
      ]
     },
     "execution_count": 210,
     "metadata": {},
     "output_type": "execute_result"
    }
   ],
   "source": [
    "len(valid_high_combinations)"
   ]
  },
  {
   "cell_type": "code",
   "execution_count": 211,
   "id": "ef81053c-dd2f-49f2-9266-d38de2117c97",
   "metadata": {
    "execution": {
     "iopub.execute_input": "2023-01-11T23:13:29.824214Z",
     "iopub.status.busy": "2023-01-11T23:13:29.823928Z",
     "iopub.status.idle": "2023-01-11T23:13:29.833192Z",
     "shell.execute_reply": "2023-01-11T23:13:29.831901Z",
     "shell.execute_reply.started": "2023-01-11T23:13:29.824187Z"
    },
    "tags": []
   },
   "outputs": [],
   "source": [
    "tmp = pd.DataFrame(valid_high_combinations)"
   ]
  },
  {
   "cell_type": "code",
   "execution_count": 212,
   "id": "1b558813-c864-4863-995e-f3d902be5f56",
   "metadata": {
    "execution": {
     "iopub.execute_input": "2023-01-11T23:13:29.834664Z",
     "iopub.status.busy": "2023-01-11T23:13:29.834337Z",
     "iopub.status.idle": "2023-01-11T23:13:29.855892Z",
     "shell.execute_reply": "2023-01-11T23:13:29.854527Z",
     "shell.execute_reply.started": "2023-01-11T23:13:29.834633Z"
    },
    "tags": []
   },
   "outputs": [
    {
     "data": {
      "text/html": [
       "<div>\n",
       "<style scoped>\n",
       "    .dataframe tbody tr th:only-of-type {\n",
       "        vertical-align: middle;\n",
       "    }\n",
       "\n",
       "    .dataframe tbody tr th {\n",
       "        vertical-align: top;\n",
       "    }\n",
       "\n",
       "    .dataframe thead th {\n",
       "        text-align: right;\n",
       "    }\n",
       "</style>\n",
       "<table border=\"1\" class=\"dataframe\">\n",
       "  <thead>\n",
       "    <tr style=\"text-align: right;\">\n",
       "      <th></th>\n",
       "      <th>0</th>\n",
       "      <th>1</th>\n",
       "      <th>2</th>\n",
       "      <th>3</th>\n",
       "      <th>4</th>\n",
       "      <th>5</th>\n",
       "      <th>6</th>\n",
       "    </tr>\n",
       "  </thead>\n",
       "  <tbody>\n",
       "    <tr>\n",
       "      <th>0</th>\n",
       "      <td>0.5</td>\n",
       "      <td>0.2</td>\n",
       "      <td>0.4</td>\n",
       "      <td>1.40</td>\n",
       "      <td>4</td>\n",
       "      <td>150</td>\n",
       "      <td>20</td>\n",
       "    </tr>\n",
       "    <tr>\n",
       "      <th>1</th>\n",
       "      <td>0.5</td>\n",
       "      <td>0.2</td>\n",
       "      <td>0.4</td>\n",
       "      <td>1.65</td>\n",
       "      <td>4</td>\n",
       "      <td>150</td>\n",
       "      <td>20</td>\n",
       "    </tr>\n",
       "    <tr>\n",
       "      <th>2</th>\n",
       "      <td>0.5</td>\n",
       "      <td>0.2</td>\n",
       "      <td>0.4</td>\n",
       "      <td>1.70</td>\n",
       "      <td>4</td>\n",
       "      <td>150</td>\n",
       "      <td>20</td>\n",
       "    </tr>\n",
       "    <tr>\n",
       "      <th>3</th>\n",
       "      <td>0.5</td>\n",
       "      <td>0.2</td>\n",
       "      <td>0.4</td>\n",
       "      <td>1.80</td>\n",
       "      <td>4</td>\n",
       "      <td>150</td>\n",
       "      <td>20</td>\n",
       "    </tr>\n",
       "    <tr>\n",
       "      <th>4</th>\n",
       "      <td>0.5</td>\n",
       "      <td>0.2</td>\n",
       "      <td>0.4</td>\n",
       "      <td>1.95</td>\n",
       "      <td>4</td>\n",
       "      <td>150</td>\n",
       "      <td>20</td>\n",
       "    </tr>\n",
       "  </tbody>\n",
       "</table>\n",
       "</div>"
      ],
      "text/plain": [
       "     0    1    2     3  4    5   6\n",
       "0  0.5  0.2  0.4  1.40  4  150  20\n",
       "1  0.5  0.2  0.4  1.65  4  150  20\n",
       "2  0.5  0.2  0.4  1.70  4  150  20\n",
       "3  0.5  0.2  0.4  1.80  4  150  20\n",
       "4  0.5  0.2  0.4  1.95  4  150  20"
      ]
     },
     "execution_count": 212,
     "metadata": {},
     "output_type": "execute_result"
    }
   ],
   "source": [
    "tmp.head()"
   ]
  },
  {
   "cell_type": "code",
   "execution_count": 213,
   "id": "3d98def0-697d-4a06-b570-d742691c86d1",
   "metadata": {
    "execution": {
     "iopub.execute_input": "2023-01-11T23:13:30.135233Z",
     "iopub.status.busy": "2023-01-11T23:13:30.134858Z",
     "iopub.status.idle": "2023-01-11T23:13:30.152376Z",
     "shell.execute_reply": "2023-01-11T23:13:30.151237Z",
     "shell.execute_reply.started": "2023-01-11T23:13:30.135197Z"
    },
    "tags": []
   },
   "outputs": [
    {
     "data": {
      "text/html": [
       "<div>\n",
       "<style scoped>\n",
       "    .dataframe tbody tr th:only-of-type {\n",
       "        vertical-align: middle;\n",
       "    }\n",
       "\n",
       "    .dataframe tbody tr th {\n",
       "        vertical-align: top;\n",
       "    }\n",
       "\n",
       "    .dataframe thead th {\n",
       "        text-align: right;\n",
       "    }\n",
       "</style>\n",
       "<table border=\"1\" class=\"dataframe\">\n",
       "  <thead>\n",
       "    <tr style=\"text-align: right;\">\n",
       "      <th></th>\n",
       "      <th>3</th>\n",
       "    </tr>\n",
       "  </thead>\n",
       "  <tbody>\n",
       "    <tr>\n",
       "      <th>count</th>\n",
       "      <td>75.000000</td>\n",
       "    </tr>\n",
       "    <tr>\n",
       "      <th>mean</th>\n",
       "      <td>3.458667</td>\n",
       "    </tr>\n",
       "    <tr>\n",
       "      <th>std</th>\n",
       "      <td>0.941906</td>\n",
       "    </tr>\n",
       "    <tr>\n",
       "      <th>min</th>\n",
       "      <td>1.400000</td>\n",
       "    </tr>\n",
       "    <tr>\n",
       "      <th>25%</th>\n",
       "      <td>2.775000</td>\n",
       "    </tr>\n",
       "    <tr>\n",
       "      <th>50%</th>\n",
       "      <td>3.500000</td>\n",
       "    </tr>\n",
       "    <tr>\n",
       "      <th>75%</th>\n",
       "      <td>4.225000</td>\n",
       "    </tr>\n",
       "    <tr>\n",
       "      <th>max</th>\n",
       "      <td>4.950000</td>\n",
       "    </tr>\n",
       "  </tbody>\n",
       "</table>\n",
       "</div>"
      ],
      "text/plain": [
       "               3\n",
       "count  75.000000\n",
       "mean    3.458667\n",
       "std     0.941906\n",
       "min     1.400000\n",
       "25%     2.775000\n",
       "50%     3.500000\n",
       "75%     4.225000\n",
       "max     4.950000"
      ]
     },
     "execution_count": 213,
     "metadata": {},
     "output_type": "execute_result"
    }
   ],
   "source": [
    "# alpha_test range\n",
    "tmp.iloc[:,[3]].describe()"
   ]
  },
  {
   "cell_type": "code",
   "execution_count": 214,
   "id": "3ea571e2-78b0-4a6b-8b3c-070974cb80ea",
   "metadata": {
    "execution": {
     "iopub.execute_input": "2023-01-11T23:13:32.756440Z",
     "iopub.status.busy": "2023-01-11T23:13:32.755676Z",
     "iopub.status.idle": "2023-01-11T23:13:32.778402Z",
     "shell.execute_reply": "2023-01-11T23:13:32.777521Z",
     "shell.execute_reply.started": "2023-01-11T23:13:32.756371Z"
    },
    "tags": []
   },
   "outputs": [
    {
     "data": {
      "text/html": [
       "<div>\n",
       "<style scoped>\n",
       "    .dataframe tbody tr th:only-of-type {\n",
       "        vertical-align: middle;\n",
       "    }\n",
       "\n",
       "    .dataframe tbody tr th {\n",
       "        vertical-align: top;\n",
       "    }\n",
       "\n",
       "    .dataframe thead th {\n",
       "        text-align: right;\n",
       "    }\n",
       "</style>\n",
       "<table border=\"1\" class=\"dataframe\">\n",
       "  <thead>\n",
       "    <tr style=\"text-align: right;\">\n",
       "      <th></th>\n",
       "      <th>2</th>\n",
       "    </tr>\n",
       "  </thead>\n",
       "  <tbody>\n",
       "    <tr>\n",
       "      <th>count</th>\n",
       "      <td>75.000000</td>\n",
       "    </tr>\n",
       "    <tr>\n",
       "      <th>mean</th>\n",
       "      <td>0.417333</td>\n",
       "    </tr>\n",
       "    <tr>\n",
       "      <th>std</th>\n",
       "      <td>0.038108</td>\n",
       "    </tr>\n",
       "    <tr>\n",
       "      <th>min</th>\n",
       "      <td>0.400000</td>\n",
       "    </tr>\n",
       "    <tr>\n",
       "      <th>25%</th>\n",
       "      <td>0.400000</td>\n",
       "    </tr>\n",
       "    <tr>\n",
       "      <th>50%</th>\n",
       "      <td>0.400000</td>\n",
       "    </tr>\n",
       "    <tr>\n",
       "      <th>75%</th>\n",
       "      <td>0.400000</td>\n",
       "    </tr>\n",
       "    <tr>\n",
       "      <th>max</th>\n",
       "      <td>0.500000</td>\n",
       "    </tr>\n",
       "  </tbody>\n",
       "</table>\n",
       "</div>"
      ],
      "text/plain": [
       "               2\n",
       "count  75.000000\n",
       "mean    0.417333\n",
       "std     0.038108\n",
       "min     0.400000\n",
       "25%     0.400000\n",
       "50%     0.400000\n",
       "75%     0.400000\n",
       "max     0.500000"
      ]
     },
     "execution_count": 214,
     "metadata": {},
     "output_type": "execute_result"
    }
   ],
   "source": [
    "# p_mix range\n",
    "tmp.iloc[:,[2]].describe()"
   ]
  },
  {
   "cell_type": "code",
   "execution_count": null,
   "id": "28352cc8-7df1-4731-abaf-092273a908f0",
   "metadata": {},
   "outputs": [],
   "source": []
  },
  {
   "cell_type": "code",
   "execution_count": null,
   "id": "e0590b65-adaf-4e3a-8b24-ca4764c2977b",
   "metadata": {},
   "outputs": [],
   "source": []
  },
  {
   "cell_type": "markdown",
   "id": "c9e33f78-66e6-4da6-9fd1-3bef6a9b452d",
   "metadata": {
    "tags": []
   },
   "source": [
    "# Test Two Split Framework"
   ]
  },
  {
   "cell_type": "code",
   "execution_count": 2,
   "id": "d9ad0d90-c95a-4942-bc1e-8e24da666b5b",
   "metadata": {
    "execution": {
     "iopub.execute_input": "2023-02-15T05:10:18.233210Z",
     "iopub.status.busy": "2023-02-15T05:10:18.232437Z",
     "iopub.status.idle": "2023-02-15T05:10:18.496135Z",
     "shell.execute_reply": "2023-02-15T05:10:18.495376Z",
     "shell.execute_reply.started": "2023-02-15T05:10:18.233143Z"
    },
    "tags": []
   },
   "outputs": [],
   "source": [
    "import numpy as np\n",
    "import pandas as pd"
   ]
  },
  {
   "cell_type": "code",
   "execution_count": 3,
   "id": "6af546cb-da07-4596-b780-bee72fbff16f",
   "metadata": {
    "execution": {
     "iopub.execute_input": "2023-02-15T05:10:18.566919Z",
     "iopub.status.busy": "2023-02-15T05:10:18.565984Z",
     "iopub.status.idle": "2023-02-15T05:10:18.573323Z",
     "shell.execute_reply": "2023-02-15T05:10:18.571673Z",
     "shell.execute_reply.started": "2023-02-15T05:10:18.566851Z"
    },
    "tags": []
   },
   "outputs": [],
   "source": [
    "import itertools"
   ]
  },
  {
   "cell_type": "code",
   "execution_count": 4,
   "id": "697a96a5-4640-4780-a3e4-f504cd319989",
   "metadata": {
    "execution": {
     "iopub.execute_input": "2023-02-15T05:10:19.257238Z",
     "iopub.status.busy": "2023-02-15T05:10:19.256862Z",
     "iopub.status.idle": "2023-02-15T05:10:19.261643Z",
     "shell.execute_reply": "2023-02-15T05:10:19.260168Z",
     "shell.execute_reply.started": "2023-02-15T05:10:19.257207Z"
    },
    "tags": []
   },
   "outputs": [],
   "source": [
    "import sys, os"
   ]
  },
  {
   "cell_type": "markdown",
   "id": "b8a77545-c21c-45c5-b1fc-8d536065dc3c",
   "metadata": {},
   "source": [
    "## Framework 1"
   ]
  },
  {
   "cell_type": "code",
   "execution_count": 107,
   "id": "44b8d08b-a502-4ce1-8843-dd5d82d80add",
   "metadata": {
    "execution": {
     "iopub.execute_input": "2023-02-15T05:59:47.538740Z",
     "iopub.status.busy": "2023-02-15T05:59:47.538062Z",
     "iopub.status.idle": "2023-02-15T05:59:47.544686Z",
     "shell.execute_reply": "2023-02-15T05:59:47.543730Z",
     "shell.execute_reply.started": "2023-02-15T05:59:47.538680Z"
    },
    "tags": []
   },
   "outputs": [],
   "source": [
    "sys.path.insert(0, \"..\")\n",
    "from src.utils import confoundSplit, confoundSplitNumbers, confoundSplitDF\n"
   ]
  },
  {
   "cell_type": "code",
   "execution_count": null,
   "id": "59fc21c6-3ddb-4d0c-be08-9fa6536e763e",
   "metadata": {},
   "outputs": [],
   "source": []
  },
  {
   "cell_type": "code",
   "execution_count": 6,
   "id": "4514087a-3357-41c8-8e6e-3a88a173cd41",
   "metadata": {
    "execution": {
     "iopub.execute_input": "2023-02-15T05:10:20.517201Z",
     "iopub.status.busy": "2023-02-15T05:10:20.516379Z",
     "iopub.status.idle": "2023-02-15T05:10:20.527811Z",
     "shell.execute_reply": "2023-02-15T05:10:20.526485Z",
     "shell.execute_reply.started": "2023-02-15T05:10:20.517075Z"
    },
    "tags": []
   },
   "outputs": [],
   "source": [
    "np.random.seed(12)\n",
    "\n",
    "df = pd.DataFrame({\"z\": np.random.binomial(1, 0.2, 2000),\n",
    "                   \"y\": np.random.binomial(1, 0.5, 2000)\n",
    "                  })"
   ]
  },
  {
   "cell_type": "code",
   "execution_count": 7,
   "id": "2b6a8df1-2853-4c33-9a28-37904cc233f9",
   "metadata": {
    "execution": {
     "iopub.execute_input": "2023-02-15T05:10:21.695235Z",
     "iopub.status.busy": "2023-02-15T05:10:21.694499Z",
     "iopub.status.idle": "2023-02-15T05:10:21.716465Z",
     "shell.execute_reply": "2023-02-15T05:10:21.715656Z",
     "shell.execute_reply.started": "2023-02-15T05:10:21.695170Z"
    },
    "tags": []
   },
   "outputs": [
    {
     "data": {
      "text/plain": [
       "z  y\n",
       "0  0    813\n",
       "   1    762\n",
       "1  0    219\n",
       "   1    206\n",
       "dtype: int64"
      ]
     },
     "execution_count": 7,
     "metadata": {},
     "output_type": "execute_result"
    }
   ],
   "source": [
    "df.groupby(['z','y']).size()"
   ]
  },
  {
   "cell_type": "code",
   "execution_count": 8,
   "id": "030797b6-f06b-448d-b6c7-3537edd1e2a0",
   "metadata": {
    "execution": {
     "iopub.execute_input": "2023-02-15T05:10:22.794201Z",
     "iopub.status.busy": "2023-02-15T05:10:22.793460Z",
     "iopub.status.idle": "2023-02-15T05:10:22.808933Z",
     "shell.execute_reply": "2023-02-15T05:10:22.808115Z",
     "shell.execute_reply.started": "2023-02-15T05:10:22.794136Z"
    },
    "tags": []
   },
   "outputs": [],
   "source": [
    "df0 = df.query(\"z == 0\").reset_index(drop=True)\n",
    "df1 = df.query(\"z == 1\").reset_index(drop=True)"
   ]
  },
  {
   "cell_type": "code",
   "execution_count": 141,
   "id": "85792667-7c0e-47f7-86b4-d54d3ec98abe",
   "metadata": {
    "execution": {
     "iopub.execute_input": "2023-02-15T17:01:52.290075Z",
     "iopub.status.busy": "2023-02-15T17:01:52.289337Z",
     "iopub.status.idle": "2023-02-15T17:01:59.038224Z",
     "shell.execute_reply": "2023-02-15T17:01:59.036905Z",
     "shell.execute_reply.started": "2023-02-15T17:01:52.290011Z"
    },
    "tags": []
   },
   "outputs": [],
   "source": [
    "n_valid_high = 0\n",
    "n_test = [150]\n",
    "n_test_error = [5]\n",
    "\n",
    "valid_high_combinations=[]\n",
    "valid_full_settings=[]\n",
    "for combination in itertools.product(\n",
    "        [0.1, 0.5],\n",
    "        [0.2, 0.6],\n",
    "        np.arange(0.1, 0.999, 0.1),\n",
    "        np.arange(0, 5, 0.05),\n",
    "        [4],\n",
    "        n_test,\n",
    "        n_test_error,\n",
    "    ):\n",
    "        ret = confoundSplitNumbers(\n",
    "            df0=df0,\n",
    "            df1=df1,\n",
    "            df0_label=\"y\",\n",
    "            df1_label=\"y\",\n",
    "            p_pos_train_z0=combination[0],\n",
    "            p_pos_train_z1=combination[1],\n",
    "            p_mix_z1=combination[2],\n",
    "            alpha_test=combination[3],\n",
    "            train_test_ratio=combination[4],\n",
    "            n_test=combination[5],\n",
    "            n_test_error=combination[6],\n",
    "        )\n",
    "\n",
    "        if (ret is not None) and (\n",
    "            ret[\"n_df0_train_pos\"] >= n_valid_high\n",
    "        ):  # valie high combos\n",
    "            valid_high_combinations.append(combination)\n",
    "            valid_full_settings.append(ret)"
   ]
  },
  {
   "cell_type": "code",
   "execution_count": 142,
   "id": "4bc69a5a-2da3-4bde-abd2-ee5dd836d7b6",
   "metadata": {
    "execution": {
     "iopub.execute_input": "2023-02-15T17:01:59.963961Z",
     "iopub.status.busy": "2023-02-15T17:01:59.963164Z",
     "iopub.status.idle": "2023-02-15T17:01:59.975598Z",
     "shell.execute_reply": "2023-02-15T17:01:59.974258Z",
     "shell.execute_reply.started": "2023-02-15T17:01:59.963890Z"
    },
    "tags": []
   },
   "outputs": [
    {
     "data": {
      "text/plain": [
       "{'n_df0_train_pos': 56,\n",
       " 'n_df0_test_pos': 16,\n",
       " 'n_df0_train_neg': 504,\n",
       " 'n_df0_test_neg': 124,\n",
       " 'n_df1_train_pos': 12,\n",
       " 'n_df1_test_pos': 1,\n",
       " 'n_df1_train_neg': 49,\n",
       " 'n_df1_test_neg': 13,\n",
       " 'mix_param_dict': {'p_pos_train_z0': 0.1,\n",
       "  'p_pos_train_z1': 0.2,\n",
       "  'p_pos_train': 0.11000000000000001,\n",
       "  'p_pos_test': 0.11000000000000001,\n",
       "  'p_mix_z0': 0.9,\n",
       "  'p_mix_z1': 0.1,\n",
       "  'alpha_train': 2.0,\n",
       "  'alpha_test': 0.65,\n",
       "  'p_pos_test_z0': 0.1139896373056995,\n",
       "  'p_pos_test_z1': 0.07409326424870467,\n",
       "  'C_y': 0.11000000000000001,\n",
       "  'C_z': 0.1}}"
      ]
     },
     "execution_count": 142,
     "metadata": {},
     "output_type": "execute_result"
    }
   ],
   "source": [
    "valid_full_settings[1]"
   ]
  },
  {
   "cell_type": "code",
   "execution_count": 143,
   "id": "3f47d863-a77f-4619-a75a-9145578ea88a",
   "metadata": {
    "execution": {
     "iopub.execute_input": "2023-02-15T17:02:00.627149Z",
     "iopub.status.busy": "2023-02-15T17:02:00.626413Z",
     "iopub.status.idle": "2023-02-15T17:02:00.635709Z",
     "shell.execute_reply": "2023-02-15T17:02:00.634486Z",
     "shell.execute_reply.started": "2023-02-15T17:02:00.627082Z"
    },
    "tags": []
   },
   "outputs": [
    {
     "data": {
      "text/plain": [
       "1128"
      ]
     },
     "execution_count": 143,
     "metadata": {},
     "output_type": "execute_result"
    }
   ],
   "source": [
    "len(valid_high_combinations)"
   ]
  },
  {
   "cell_type": "code",
   "execution_count": 13,
   "id": "2a8f0378-7919-4d6d-a1e8-1f0d7b82adfa",
   "metadata": {
    "execution": {
     "iopub.execute_input": "2023-02-15T05:10:43.702609Z",
     "iopub.status.busy": "2023-02-15T05:10:43.702285Z",
     "iopub.status.idle": "2023-02-15T05:10:43.709210Z",
     "shell.execute_reply": "2023-02-15T05:10:43.708389Z",
     "shell.execute_reply.started": "2023-02-15T05:10:43.702583Z"
    },
    "tags": []
   },
   "outputs": [],
   "source": [
    "df_eval_num = pd.DataFrame(valid_full_settings)"
   ]
  },
  {
   "cell_type": "code",
   "execution_count": 14,
   "id": "d61cc147-1a46-48f4-abae-4dd959303488",
   "metadata": {
    "execution": {
     "iopub.execute_input": "2023-02-15T05:10:44.129727Z",
     "iopub.status.busy": "2023-02-15T05:10:44.129153Z",
     "iopub.status.idle": "2023-02-15T05:10:44.135034Z",
     "shell.execute_reply": "2023-02-15T05:10:44.134228Z",
     "shell.execute_reply.started": "2023-02-15T05:10:44.129699Z"
    },
    "tags": []
   },
   "outputs": [],
   "source": [
    "df_eval_num.drop('mix_param_dict', axis=1, inplace=True)"
   ]
  },
  {
   "cell_type": "code",
   "execution_count": 15,
   "id": "f1ced8ee-a934-43da-a5f1-519afad4064f",
   "metadata": {
    "execution": {
     "iopub.execute_input": "2023-02-15T05:10:45.380285Z",
     "iopub.status.busy": "2023-02-15T05:10:45.380036Z",
     "iopub.status.idle": "2023-02-15T05:10:45.385493Z",
     "shell.execute_reply": "2023-02-15T05:10:45.384746Z",
     "shell.execute_reply.started": "2023-02-15T05:10:45.380266Z"
    },
    "tags": []
   },
   "outputs": [],
   "source": [
    "df_eval_params = pd.DataFrame([x['mix_param_dict'] for x in valid_full_settings])"
   ]
  },
  {
   "cell_type": "code",
   "execution_count": 16,
   "id": "40d00244-c5b1-4d06-b1ba-f83b1011ad32",
   "metadata": {
    "execution": {
     "iopub.execute_input": "2023-02-15T05:10:45.561570Z",
     "iopub.status.busy": "2023-02-15T05:10:45.561324Z",
     "iopub.status.idle": "2023-02-15T05:10:45.588759Z",
     "shell.execute_reply": "2023-02-15T05:10:45.587971Z",
     "shell.execute_reply.started": "2023-02-15T05:10:45.561548Z"
    },
    "tags": []
   },
   "outputs": [
    {
     "data": {
      "text/plain": [
       "0"
      ]
     },
     "execution_count": 16,
     "metadata": {},
     "output_type": "execute_result"
    }
   ],
   "source": [
    "sum(df_eval_params.round(4).duplicated())"
   ]
  },
  {
   "cell_type": "code",
   "execution_count": 17,
   "id": "73269639-d004-4e29-b953-64aa1ee5a927",
   "metadata": {
    "execution": {
     "iopub.execute_input": "2023-02-15T05:10:45.911215Z",
     "iopub.status.busy": "2023-02-15T05:10:45.910946Z",
     "iopub.status.idle": "2023-02-15T05:10:45.917685Z",
     "shell.execute_reply": "2023-02-15T05:10:45.916952Z",
     "shell.execute_reply.started": "2023-02-15T05:10:45.911194Z"
    },
    "tags": []
   },
   "outputs": [],
   "source": [
    "df_eval = pd.concat([df_eval_num, df_eval_params.round(4)], axis=1)"
   ]
  },
  {
   "cell_type": "code",
   "execution_count": 18,
   "id": "52166489-ddb7-4e87-9682-c58319785291",
   "metadata": {
    "execution": {
     "iopub.execute_input": "2023-02-15T05:10:46.235252Z",
     "iopub.status.busy": "2023-02-15T05:10:46.235007Z",
     "iopub.status.idle": "2023-02-15T05:10:46.257102Z",
     "shell.execute_reply": "2023-02-15T05:10:46.256609Z",
     "shell.execute_reply.started": "2023-02-15T05:10:46.235233Z"
    },
    "tags": []
   },
   "outputs": [
    {
     "data": {
      "text/html": [
       "<div>\n",
       "<style scoped>\n",
       "    .dataframe tbody tr th:only-of-type {\n",
       "        vertical-align: middle;\n",
       "    }\n",
       "\n",
       "    .dataframe tbody tr th {\n",
       "        vertical-align: top;\n",
       "    }\n",
       "\n",
       "    .dataframe thead th {\n",
       "        text-align: right;\n",
       "    }\n",
       "</style>\n",
       "<table border=\"1\" class=\"dataframe\">\n",
       "  <thead>\n",
       "    <tr style=\"text-align: right;\">\n",
       "      <th></th>\n",
       "      <th>n_df0_train_pos</th>\n",
       "      <th>n_df0_test_pos</th>\n",
       "      <th>n_df0_train_neg</th>\n",
       "      <th>n_df0_test_neg</th>\n",
       "      <th>n_df1_train_pos</th>\n",
       "      <th>n_df1_test_pos</th>\n",
       "      <th>n_df1_train_neg</th>\n",
       "      <th>n_df1_test_neg</th>\n",
       "      <th>p_pos_train_z0</th>\n",
       "      <th>p_pos_train_z1</th>\n",
       "      <th>p_pos_train</th>\n",
       "      <th>p_pos_test</th>\n",
       "      <th>p_mix_z0</th>\n",
       "      <th>p_mix_z1</th>\n",
       "      <th>alpha_train</th>\n",
       "      <th>alpha_test</th>\n",
       "      <th>p_pos_test_z0</th>\n",
       "      <th>p_pos_test_z1</th>\n",
       "      <th>C_y</th>\n",
       "      <th>C_z</th>\n",
       "    </tr>\n",
       "  </thead>\n",
       "  <tbody>\n",
       "    <tr>\n",
       "      <th>0</th>\n",
       "      <td>54</td>\n",
       "      <td>15</td>\n",
       "      <td>489</td>\n",
       "      <td>121</td>\n",
       "      <td>12</td>\n",
       "      <td>1</td>\n",
       "      <td>48</td>\n",
       "      <td>13</td>\n",
       "      <td>0.1</td>\n",
       "      <td>0.2</td>\n",
       "      <td>0.11</td>\n",
       "      <td>0.11</td>\n",
       "      <td>0.9</td>\n",
       "      <td>0.1</td>\n",
       "      <td>2.0</td>\n",
       "      <td>1.00</td>\n",
       "      <td>0.1100</td>\n",
       "      <td>0.1100</td>\n",
       "      <td>0.11</td>\n",
       "      <td>0.1</td>\n",
       "    </tr>\n",
       "    <tr>\n",
       "      <th>1</th>\n",
       "      <td>54</td>\n",
       "      <td>14</td>\n",
       "      <td>489</td>\n",
       "      <td>122</td>\n",
       "      <td>12</td>\n",
       "      <td>2</td>\n",
       "      <td>48</td>\n",
       "      <td>12</td>\n",
       "      <td>0.1</td>\n",
       "      <td>0.2</td>\n",
       "      <td>0.11</td>\n",
       "      <td>0.11</td>\n",
       "      <td>0.9</td>\n",
       "      <td>0.1</td>\n",
       "      <td>2.0</td>\n",
       "      <td>1.70</td>\n",
       "      <td>0.1028</td>\n",
       "      <td>0.1748</td>\n",
       "      <td>0.11</td>\n",
       "      <td>0.1</td>\n",
       "    </tr>\n",
       "    <tr>\n",
       "      <th>2</th>\n",
       "      <td>54</td>\n",
       "      <td>14</td>\n",
       "      <td>489</td>\n",
       "      <td>122</td>\n",
       "      <td>12</td>\n",
       "      <td>2</td>\n",
       "      <td>48</td>\n",
       "      <td>12</td>\n",
       "      <td>0.1</td>\n",
       "      <td>0.2</td>\n",
       "      <td>0.11</td>\n",
       "      <td>0.11</td>\n",
       "      <td>0.9</td>\n",
       "      <td>0.1</td>\n",
       "      <td>2.0</td>\n",
       "      <td>1.75</td>\n",
       "      <td>0.1023</td>\n",
       "      <td>0.1791</td>\n",
       "      <td>0.11</td>\n",
       "      <td>0.1</td>\n",
       "    </tr>\n",
       "    <tr>\n",
       "      <th>3</th>\n",
       "      <td>54</td>\n",
       "      <td>13</td>\n",
       "      <td>489</td>\n",
       "      <td>123</td>\n",
       "      <td>12</td>\n",
       "      <td>3</td>\n",
       "      <td>48</td>\n",
       "      <td>11</td>\n",
       "      <td>0.1</td>\n",
       "      <td>0.2</td>\n",
       "      <td>0.11</td>\n",
       "      <td>0.11</td>\n",
       "      <td>0.9</td>\n",
       "      <td>0.1</td>\n",
       "      <td>2.0</td>\n",
       "      <td>2.55</td>\n",
       "      <td>0.0952</td>\n",
       "      <td>0.2429</td>\n",
       "      <td>0.11</td>\n",
       "      <td>0.1</td>\n",
       "    </tr>\n",
       "    <tr>\n",
       "      <th>4</th>\n",
       "      <td>54</td>\n",
       "      <td>12</td>\n",
       "      <td>489</td>\n",
       "      <td>124</td>\n",
       "      <td>12</td>\n",
       "      <td>4</td>\n",
       "      <td>48</td>\n",
       "      <td>10</td>\n",
       "      <td>0.1</td>\n",
       "      <td>0.2</td>\n",
       "      <td>0.11</td>\n",
       "      <td>0.11</td>\n",
       "      <td>0.9</td>\n",
       "      <td>0.1</td>\n",
       "      <td>2.0</td>\n",
       "      <td>3.50</td>\n",
       "      <td>0.0880</td>\n",
       "      <td>0.3080</td>\n",
       "      <td>0.11</td>\n",
       "      <td>0.1</td>\n",
       "    </tr>\n",
       "    <tr>\n",
       "      <th>...</th>\n",
       "      <td>...</td>\n",
       "      <td>...</td>\n",
       "      <td>...</td>\n",
       "      <td>...</td>\n",
       "      <td>...</td>\n",
       "      <td>...</td>\n",
       "      <td>...</td>\n",
       "      <td>...</td>\n",
       "      <td>...</td>\n",
       "      <td>...</td>\n",
       "      <td>...</td>\n",
       "      <td>...</td>\n",
       "      <td>...</td>\n",
       "      <td>...</td>\n",
       "      <td>...</td>\n",
       "      <td>...</td>\n",
       "      <td>...</td>\n",
       "      <td>...</td>\n",
       "      <td>...</td>\n",
       "      <td>...</td>\n",
       "    </tr>\n",
       "    <tr>\n",
       "      <th>292</th>\n",
       "      <td>182</td>\n",
       "      <td>27</td>\n",
       "      <td>182</td>\n",
       "      <td>64</td>\n",
       "      <td>145</td>\n",
       "      <td>54</td>\n",
       "      <td>96</td>\n",
       "      <td>5</td>\n",
       "      <td>0.5</td>\n",
       "      <td>0.6</td>\n",
       "      <td>0.54</td>\n",
       "      <td>0.54</td>\n",
       "      <td>0.6</td>\n",
       "      <td>0.4</td>\n",
       "      <td>1.2</td>\n",
       "      <td>3.10</td>\n",
       "      <td>0.2935</td>\n",
       "      <td>0.9098</td>\n",
       "      <td>0.54</td>\n",
       "      <td>0.4</td>\n",
       "    </tr>\n",
       "    <tr>\n",
       "      <th>293</th>\n",
       "      <td>182</td>\n",
       "      <td>26</td>\n",
       "      <td>182</td>\n",
       "      <td>65</td>\n",
       "      <td>145</td>\n",
       "      <td>55</td>\n",
       "      <td>96</td>\n",
       "      <td>4</td>\n",
       "      <td>0.5</td>\n",
       "      <td>0.6</td>\n",
       "      <td>0.54</td>\n",
       "      <td>0.54</td>\n",
       "      <td>0.6</td>\n",
       "      <td>0.4</td>\n",
       "      <td>1.2</td>\n",
       "      <td>3.25</td>\n",
       "      <td>0.2842</td>\n",
       "      <td>0.9237</td>\n",
       "      <td>0.54</td>\n",
       "      <td>0.4</td>\n",
       "    </tr>\n",
       "    <tr>\n",
       "      <th>294</th>\n",
       "      <td>182</td>\n",
       "      <td>25</td>\n",
       "      <td>182</td>\n",
       "      <td>66</td>\n",
       "      <td>145</td>\n",
       "      <td>56</td>\n",
       "      <td>96</td>\n",
       "      <td>3</td>\n",
       "      <td>0.5</td>\n",
       "      <td>0.6</td>\n",
       "      <td>0.54</td>\n",
       "      <td>0.54</td>\n",
       "      <td>0.6</td>\n",
       "      <td>0.4</td>\n",
       "      <td>1.2</td>\n",
       "      <td>3.45</td>\n",
       "      <td>0.2727</td>\n",
       "      <td>0.9409</td>\n",
       "      <td>0.54</td>\n",
       "      <td>0.4</td>\n",
       "    </tr>\n",
       "    <tr>\n",
       "      <th>295</th>\n",
       "      <td>182</td>\n",
       "      <td>24</td>\n",
       "      <td>182</td>\n",
       "      <td>67</td>\n",
       "      <td>145</td>\n",
       "      <td>57</td>\n",
       "      <td>96</td>\n",
       "      <td>2</td>\n",
       "      <td>0.5</td>\n",
       "      <td>0.6</td>\n",
       "      <td>0.54</td>\n",
       "      <td>0.54</td>\n",
       "      <td>0.6</td>\n",
       "      <td>0.4</td>\n",
       "      <td>1.2</td>\n",
       "      <td>3.65</td>\n",
       "      <td>0.2621</td>\n",
       "      <td>0.9568</td>\n",
       "      <td>0.54</td>\n",
       "      <td>0.4</td>\n",
       "    </tr>\n",
       "    <tr>\n",
       "      <th>296</th>\n",
       "      <td>182</td>\n",
       "      <td>23</td>\n",
       "      <td>182</td>\n",
       "      <td>68</td>\n",
       "      <td>145</td>\n",
       "      <td>58</td>\n",
       "      <td>96</td>\n",
       "      <td>1</td>\n",
       "      <td>0.5</td>\n",
       "      <td>0.6</td>\n",
       "      <td>0.54</td>\n",
       "      <td>0.54</td>\n",
       "      <td>0.6</td>\n",
       "      <td>0.4</td>\n",
       "      <td>1.2</td>\n",
       "      <td>3.85</td>\n",
       "      <td>0.2523</td>\n",
       "      <td>0.9715</td>\n",
       "      <td>0.54</td>\n",
       "      <td>0.4</td>\n",
       "    </tr>\n",
       "  </tbody>\n",
       "</table>\n",
       "<p>297 rows × 20 columns</p>\n",
       "</div>"
      ],
      "text/plain": [
       "     n_df0_train_pos  n_df0_test_pos  n_df0_train_neg  n_df0_test_neg  \\\n",
       "0                 54              15              489             121   \n",
       "1                 54              14              489             122   \n",
       "2                 54              14              489             122   \n",
       "3                 54              13              489             123   \n",
       "4                 54              12              489             124   \n",
       "..               ...             ...              ...             ...   \n",
       "292              182              27              182              64   \n",
       "293              182              26              182              65   \n",
       "294              182              25              182              66   \n",
       "295              182              24              182              67   \n",
       "296              182              23              182              68   \n",
       "\n",
       "     n_df1_train_pos  n_df1_test_pos  n_df1_train_neg  n_df1_test_neg  \\\n",
       "0                 12               1               48              13   \n",
       "1                 12               2               48              12   \n",
       "2                 12               2               48              12   \n",
       "3                 12               3               48              11   \n",
       "4                 12               4               48              10   \n",
       "..               ...             ...              ...             ...   \n",
       "292              145              54               96               5   \n",
       "293              145              55               96               4   \n",
       "294              145              56               96               3   \n",
       "295              145              57               96               2   \n",
       "296              145              58               96               1   \n",
       "\n",
       "     p_pos_train_z0  p_pos_train_z1  p_pos_train  p_pos_test  p_mix_z0  \\\n",
       "0               0.1             0.2         0.11        0.11       0.9   \n",
       "1               0.1             0.2         0.11        0.11       0.9   \n",
       "2               0.1             0.2         0.11        0.11       0.9   \n",
       "3               0.1             0.2         0.11        0.11       0.9   \n",
       "4               0.1             0.2         0.11        0.11       0.9   \n",
       "..              ...             ...          ...         ...       ...   \n",
       "292             0.5             0.6         0.54        0.54       0.6   \n",
       "293             0.5             0.6         0.54        0.54       0.6   \n",
       "294             0.5             0.6         0.54        0.54       0.6   \n",
       "295             0.5             0.6         0.54        0.54       0.6   \n",
       "296             0.5             0.6         0.54        0.54       0.6   \n",
       "\n",
       "     p_mix_z1  alpha_train  alpha_test  p_pos_test_z0  p_pos_test_z1   C_y  \\\n",
       "0         0.1          2.0        1.00         0.1100         0.1100  0.11   \n",
       "1         0.1          2.0        1.70         0.1028         0.1748  0.11   \n",
       "2         0.1          2.0        1.75         0.1023         0.1791  0.11   \n",
       "3         0.1          2.0        2.55         0.0952         0.2429  0.11   \n",
       "4         0.1          2.0        3.50         0.0880         0.3080  0.11   \n",
       "..        ...          ...         ...            ...            ...   ...   \n",
       "292       0.4          1.2        3.10         0.2935         0.9098  0.54   \n",
       "293       0.4          1.2        3.25         0.2842         0.9237  0.54   \n",
       "294       0.4          1.2        3.45         0.2727         0.9409  0.54   \n",
       "295       0.4          1.2        3.65         0.2621         0.9568  0.54   \n",
       "296       0.4          1.2        3.85         0.2523         0.9715  0.54   \n",
       "\n",
       "     C_z  \n",
       "0    0.1  \n",
       "1    0.1  \n",
       "2    0.1  \n",
       "3    0.1  \n",
       "4    0.1  \n",
       "..   ...  \n",
       "292  0.4  \n",
       "293  0.4  \n",
       "294  0.4  \n",
       "295  0.4  \n",
       "296  0.4  \n",
       "\n",
       "[297 rows x 20 columns]"
      ]
     },
     "execution_count": 18,
     "metadata": {},
     "output_type": "execute_result"
    }
   ],
   "source": [
    "df_eval"
   ]
  },
  {
   "cell_type": "code",
   "execution_count": null,
   "id": "1eca595d-47cf-4393-937c-3a576f206384",
   "metadata": {},
   "outputs": [],
   "source": []
  },
  {
   "cell_type": "code",
   "execution_count": null,
   "id": "33827b3e-d193-4086-9229-8c43b12fabd3",
   "metadata": {},
   "outputs": [],
   "source": []
  },
  {
   "cell_type": "code",
   "execution_count": null,
   "id": "14b1a489-d9e5-407c-bce7-51b68ee3b3b2",
   "metadata": {},
   "outputs": [],
   "source": []
  },
  {
   "cell_type": "markdown",
   "id": "9b5b8998-5636-4ad6-89b8-c939a0f456cd",
   "metadata": {},
   "source": [
    "## Framework 2"
   ]
  },
  {
   "cell_type": "code",
   "execution_count": 56,
   "id": "c29e9f22-abd9-4606-8434-0c33cf7798b0",
   "metadata": {
    "execution": {
     "iopub.execute_input": "2023-02-15T05:24:45.091240Z",
     "iopub.status.busy": "2023-02-15T05:24:45.090757Z",
     "iopub.status.idle": "2023-02-15T05:24:45.117336Z",
     "shell.execute_reply": "2023-02-15T05:24:45.109948Z",
     "shell.execute_reply.started": "2023-02-15T05:24:45.091210Z"
    },
    "tags": []
   },
   "outputs": [],
   "source": [
    "df2 = pd.read_csv(\"./all_combo.csv\")"
   ]
  },
  {
   "cell_type": "code",
   "execution_count": 57,
   "id": "b97d8e16-d918-426f-94bd-89da110236e7",
   "metadata": {
    "execution": {
     "iopub.execute_input": "2023-02-15T05:24:45.259665Z",
     "iopub.status.busy": "2023-02-15T05:24:45.258850Z",
     "iopub.status.idle": "2023-02-15T05:24:45.268838Z",
     "shell.execute_reply": "2023-02-15T05:24:45.267313Z",
     "shell.execute_reply.started": "2023-02-15T05:24:45.259594Z"
    },
    "tags": []
   },
   "outputs": [],
   "source": [
    "df2.drop('Unnamed: 0', axis=1, inplace=True)"
   ]
  },
  {
   "cell_type": "code",
   "execution_count": 58,
   "id": "56629d85-01b5-40b3-bebb-adccfb5ff61d",
   "metadata": {
    "execution": {
     "iopub.execute_input": "2023-02-15T05:24:45.507355Z",
     "iopub.status.busy": "2023-02-15T05:24:45.506558Z",
     "iopub.status.idle": "2023-02-15T05:24:45.519624Z",
     "shell.execute_reply": "2023-02-15T05:24:45.518066Z",
     "shell.execute_reply.started": "2023-02-15T05:24:45.507282Z"
    },
    "tags": []
   },
   "outputs": [],
   "source": [
    "df2 = df2.rename({\"n_z0_pos_train\":\"n_df0_train_pos\",\n",
    "                  \"n_z0_neg_train\":\"n_df0_train_neg\",\n",
    "                  \"n_z0_neg_test\":\"n_df0_test_neg\",\n",
    "                  \"n_z1_pos_test\":\"n_df1_test_pos\",\n",
    "                  \"n_z0_pos_test\":\"n_df0_test_pos\",\n",
    "                  \"n_z1_neg_test\":\"n_df1_test_neg\",\n",
    "                  \"n_z1_neg_train\":\"n_df1_train_neg\",\n",
    "                  \"n_z1_pos_train\":\"n_df1_train_pos\",\n",
    "                 }, axis=1)\n",
    "\n",
    "df2 = df2[df_eval.columns]"
   ]
  },
  {
   "cell_type": "code",
   "execution_count": null,
   "id": "692f3edb-4920-4b18-94b0-8f5dfdffba58",
   "metadata": {},
   "outputs": [],
   "source": []
  },
  {
   "cell_type": "code",
   "execution_count": null,
   "id": "dc4d01a7-c840-4f96-b544-fe468c142f47",
   "metadata": {},
   "outputs": [],
   "source": []
  },
  {
   "cell_type": "code",
   "execution_count": null,
   "id": "b674aaba-7555-4474-b0ea-5fc4007937bc",
   "metadata": {},
   "outputs": [],
   "source": []
  },
  {
   "cell_type": "markdown",
   "id": "70dc53c1-216a-456b-8e8a-619ad439c347",
   "metadata": {},
   "source": [
    "## Checking..."
   ]
  },
  {
   "cell_type": "code",
   "execution_count": null,
   "id": "01bbe9bf-6ccf-4955-b44f-4d5398543a96",
   "metadata": {},
   "outputs": [],
   "source": []
  },
  {
   "cell_type": "code",
   "execution_count": 63,
   "id": "46c56f86-e60c-413d-aa40-1de1d39c38d6",
   "metadata": {
    "execution": {
     "iopub.execute_input": "2023-02-15T05:26:15.799681Z",
     "iopub.status.busy": "2023-02-15T05:26:15.799329Z",
     "iopub.status.idle": "2023-02-15T05:26:15.807539Z",
     "shell.execute_reply": "2023-02-15T05:26:15.806823Z",
     "shell.execute_reply.started": "2023-02-15T05:26:15.799652Z"
    },
    "tags": []
   },
   "outputs": [
    {
     "data": {
      "text/plain": [
       "0      753\n",
       "1      753\n",
       "2      753\n",
       "3      753\n",
       "4      753\n",
       "      ... \n",
       "292    755\n",
       "293    755\n",
       "294    755\n",
       "295    755\n",
       "296    755\n",
       "Length: 297, dtype: int64"
      ]
     },
     "execution_count": 63,
     "metadata": {},
     "output_type": "execute_result"
    }
   ],
   "source": [
    "df_eval.iloc[:,:8].sum(axis=1)"
   ]
  },
  {
   "cell_type": "code",
   "execution_count": 64,
   "id": "f0025a18-b004-4c19-b081-3538540572e7",
   "metadata": {
    "execution": {
     "iopub.execute_input": "2023-02-15T05:27:13.820515Z",
     "iopub.status.busy": "2023-02-15T05:27:13.819772Z",
     "iopub.status.idle": "2023-02-15T05:27:13.832239Z",
     "shell.execute_reply": "2023-02-15T05:27:13.831578Z",
     "shell.execute_reply.started": "2023-02-15T05:27:13.820448Z"
    },
    "tags": []
   },
   "outputs": [
    {
     "data": {
      "text/plain": [
       "0       750\n",
       "1       750\n",
       "2       750\n",
       "3       750\n",
       "4       750\n",
       "       ... \n",
       "1201    750\n",
       "1202    750\n",
       "1203    750\n",
       "1204    750\n",
       "1205    750\n",
       "Length: 1206, dtype: int64"
      ]
     },
     "execution_count": 64,
     "metadata": {},
     "output_type": "execute_result"
    }
   ],
   "source": [
    "df2.iloc[:,:8].sum(axis=1)"
   ]
  },
  {
   "cell_type": "code",
   "execution_count": 65,
   "id": "c4e80c22-47cd-44ce-b14f-dfdd2b459065",
   "metadata": {
    "execution": {
     "iopub.execute_input": "2023-02-15T05:27:14.782449Z",
     "iopub.status.busy": "2023-02-15T05:27:14.781709Z",
     "iopub.status.idle": "2023-02-15T05:27:14.793133Z",
     "shell.execute_reply": "2023-02-15T05:27:14.792656Z",
     "shell.execute_reply.started": "2023-02-15T05:27:14.782384Z"
    },
    "tags": []
   },
   "outputs": [
    {
     "data": {
      "text/plain": [
       "n_df0_train_pos      int64\n",
       "n_df0_test_pos       int64\n",
       "n_df0_train_neg      int64\n",
       "n_df0_test_neg       int64\n",
       "n_df1_train_pos      int64\n",
       "n_df1_test_pos       int64\n",
       "n_df1_train_neg      int64\n",
       "n_df1_test_neg       int64\n",
       "p_pos_train_z0     float64\n",
       "p_pos_train_z1     float64\n",
       "p_pos_train        float64\n",
       "p_pos_test         float64\n",
       "p_mix_z0           float64\n",
       "p_mix_z1           float64\n",
       "alpha_train        float64\n",
       "alpha_test         float64\n",
       "p_pos_test_z0      float64\n",
       "p_pos_test_z1      float64\n",
       "C_y                float64\n",
       "C_z                float64\n",
       "dtype: object"
      ]
     },
     "execution_count": 65,
     "metadata": {},
     "output_type": "execute_result"
    }
   ],
   "source": [
    "df2.dtypes"
   ]
  },
  {
   "cell_type": "code",
   "execution_count": 66,
   "id": "fa286261-2ba3-4d25-bac5-5e1959102744",
   "metadata": {
    "execution": {
     "iopub.execute_input": "2023-02-15T05:27:15.238697Z",
     "iopub.status.busy": "2023-02-15T05:27:15.237973Z",
     "iopub.status.idle": "2023-02-15T05:27:15.246969Z",
     "shell.execute_reply": "2023-02-15T05:27:15.245949Z",
     "shell.execute_reply.started": "2023-02-15T05:27:15.238629Z"
    },
    "tags": []
   },
   "outputs": [
    {
     "data": {
      "text/plain": [
       "Index(['n_df0_train_pos', 'n_df0_test_pos', 'n_df0_train_neg',\n",
       "       'n_df0_test_neg', 'n_df1_train_pos', 'n_df1_test_pos',\n",
       "       'n_df1_train_neg', 'n_df1_test_neg', 'p_pos_train_z0', 'p_pos_train_z1',\n",
       "       'p_pos_train', 'p_pos_test', 'p_mix_z0', 'p_mix_z1', 'alpha_train',\n",
       "       'alpha_test', 'p_pos_test_z0', 'p_pos_test_z1', 'C_y', 'C_z'],\n",
       "      dtype='object')"
      ]
     },
     "execution_count": 66,
     "metadata": {},
     "output_type": "execute_result"
    }
   ],
   "source": [
    "df2.columns"
   ]
  },
  {
   "cell_type": "code",
   "execution_count": 67,
   "id": "0ce7f470-5dd7-448e-846d-312ccea2344b",
   "metadata": {
    "execution": {
     "iopub.execute_input": "2023-02-15T05:27:15.965693Z",
     "iopub.status.busy": "2023-02-15T05:27:15.964897Z",
     "iopub.status.idle": "2023-02-15T05:27:15.982007Z",
     "shell.execute_reply": "2023-02-15T05:27:15.981270Z",
     "shell.execute_reply.started": "2023-02-15T05:27:15.965634Z"
    },
    "tags": []
   },
   "outputs": [
    {
     "data": {
      "text/plain": [
       "0       False\n",
       "1       False\n",
       "2       False\n",
       "3       False\n",
       "4       False\n",
       "        ...  \n",
       "1201    False\n",
       "1202    False\n",
       "1203    False\n",
       "1204    False\n",
       "1205    False\n",
       "Length: 1206, dtype: bool"
      ]
     },
     "execution_count": 67,
     "metadata": {},
     "output_type": "execute_result"
    }
   ],
   "source": [
    "df2.duplicated()"
   ]
  },
  {
   "cell_type": "code",
   "execution_count": 68,
   "id": "c3f0eaad-e863-426b-b225-3b575ab3e788",
   "metadata": {
    "execution": {
     "iopub.execute_input": "2023-02-15T05:27:17.287241Z",
     "iopub.status.busy": "2023-02-15T05:27:17.286503Z",
     "iopub.status.idle": "2023-02-15T05:27:17.299063Z",
     "shell.execute_reply": "2023-02-15T05:27:17.298249Z",
     "shell.execute_reply.started": "2023-02-15T05:27:17.287176Z"
    },
    "tags": []
   },
   "outputs": [
    {
     "data": {
      "text/plain": [
       "alpha_test\n",
       "0.05     8\n",
       "0.10    12\n",
       "0.15    14\n",
       "0.20    14\n",
       "0.25    15\n",
       "        ..\n",
       "4.75     9\n",
       "4.80     9\n",
       "4.85     9\n",
       "4.90     9\n",
       "4.95     9\n",
       "Length: 99, dtype: int64"
      ]
     },
     "execution_count": 68,
     "metadata": {},
     "output_type": "execute_result"
    }
   ],
   "source": [
    "df2.groupby(\"alpha_test\").size()"
   ]
  },
  {
   "cell_type": "code",
   "execution_count": 69,
   "id": "8ecc3db5-e2d9-4fb2-ad96-a74166a9aed2",
   "metadata": {
    "execution": {
     "iopub.execute_input": "2023-02-15T05:27:18.342925Z",
     "iopub.status.busy": "2023-02-15T05:27:18.342179Z",
     "iopub.status.idle": "2023-02-15T05:27:18.357072Z",
     "shell.execute_reply": "2023-02-15T05:27:18.355912Z",
     "shell.execute_reply.started": "2023-02-15T05:27:18.342859Z"
    },
    "tags": []
   },
   "outputs": [
    {
     "data": {
      "text/plain": [
       "alpha_test\n",
       "0.05    4\n",
       "0.10    6\n",
       "0.15    5\n",
       "0.20    5\n",
       "0.25    5\n",
       "       ..\n",
       "4.60    3\n",
       "4.65    3\n",
       "4.70    2\n",
       "4.75    1\n",
       "4.95    1\n",
       "Length: 86, dtype: int64"
      ]
     },
     "execution_count": 69,
     "metadata": {},
     "output_type": "execute_result"
    }
   ],
   "source": [
    "df_eval.groupby(\"alpha_test\").size()"
   ]
  },
  {
   "cell_type": "code",
   "execution_count": 75,
   "id": "4edd6735-69b7-4bd4-852e-bb703e621fd1",
   "metadata": {
    "execution": {
     "iopub.execute_input": "2023-02-15T05:32:07.288903Z",
     "iopub.status.busy": "2023-02-15T05:32:07.288552Z",
     "iopub.status.idle": "2023-02-15T05:32:07.311126Z",
     "shell.execute_reply": "2023-02-15T05:32:07.310574Z",
     "shell.execute_reply.started": "2023-02-15T05:32:07.288872Z"
    },
    "tags": []
   },
   "outputs": [
    {
     "data": {
      "text/html": [
       "<div>\n",
       "<style scoped>\n",
       "    .dataframe tbody tr th:only-of-type {\n",
       "        vertical-align: middle;\n",
       "    }\n",
       "\n",
       "    .dataframe tbody tr th {\n",
       "        vertical-align: top;\n",
       "    }\n",
       "\n",
       "    .dataframe thead th {\n",
       "        text-align: right;\n",
       "    }\n",
       "</style>\n",
       "<table border=\"1\" class=\"dataframe\">\n",
       "  <thead>\n",
       "    <tr style=\"text-align: right;\">\n",
       "      <th></th>\n",
       "      <th>n_df0_train_pos</th>\n",
       "      <th>n_df0_test_pos</th>\n",
       "      <th>n_df0_train_neg</th>\n",
       "      <th>n_df0_test_neg</th>\n",
       "      <th>n_df1_train_pos</th>\n",
       "      <th>n_df1_test_pos</th>\n",
       "      <th>n_df1_train_neg</th>\n",
       "      <th>n_df1_test_neg</th>\n",
       "      <th>p_pos_train_z0</th>\n",
       "      <th>p_pos_train_z1</th>\n",
       "      <th>p_pos_train</th>\n",
       "      <th>p_pos_test</th>\n",
       "      <th>p_mix_z0</th>\n",
       "      <th>p_mix_z1</th>\n",
       "      <th>alpha_train</th>\n",
       "      <th>alpha_test</th>\n",
       "      <th>p_pos_test_z0</th>\n",
       "      <th>p_pos_test_z1</th>\n",
       "      <th>C_y</th>\n",
       "      <th>C_z</th>\n",
       "    </tr>\n",
       "  </thead>\n",
       "  <tbody>\n",
       "    <tr>\n",
       "      <th>98</th>\n",
       "      <td>30</td>\n",
       "      <td>51</td>\n",
       "      <td>273</td>\n",
       "      <td>25</td>\n",
       "      <td>181</td>\n",
       "      <td>2</td>\n",
       "      <td>121</td>\n",
       "      <td>72</td>\n",
       "      <td>0.1</td>\n",
       "      <td>0.6</td>\n",
       "      <td>0.35</td>\n",
       "      <td>0.35</td>\n",
       "      <td>0.5</td>\n",
       "      <td>0.5</td>\n",
       "      <td>6.0</td>\n",
       "      <td>0.05</td>\n",
       "      <td>0.6667</td>\n",
       "      <td>0.0333</td>\n",
       "      <td>0.35</td>\n",
       "      <td>0.5</td>\n",
       "    </tr>\n",
       "    <tr>\n",
       "      <th>150</th>\n",
       "      <td>212</td>\n",
       "      <td>61</td>\n",
       "      <td>212</td>\n",
       "      <td>45</td>\n",
       "      <td>36</td>\n",
       "      <td>1</td>\n",
       "      <td>144</td>\n",
       "      <td>43</td>\n",
       "      <td>0.5</td>\n",
       "      <td>0.2</td>\n",
       "      <td>0.41</td>\n",
       "      <td>0.41</td>\n",
       "      <td>0.7</td>\n",
       "      <td>0.3</td>\n",
       "      <td>0.4</td>\n",
       "      <td>0.05</td>\n",
       "      <td>0.5734</td>\n",
       "      <td>0.0287</td>\n",
       "      <td>0.41</td>\n",
       "      <td>0.3</td>\n",
       "    </tr>\n",
       "    <tr>\n",
       "      <th>231</th>\n",
       "      <td>212</td>\n",
       "      <td>79</td>\n",
       "      <td>212</td>\n",
       "      <td>27</td>\n",
       "      <td>108</td>\n",
       "      <td>1</td>\n",
       "      <td>72</td>\n",
       "      <td>43</td>\n",
       "      <td>0.5</td>\n",
       "      <td>0.6</td>\n",
       "      <td>0.53</td>\n",
       "      <td>0.53</td>\n",
       "      <td>0.7</td>\n",
       "      <td>0.3</td>\n",
       "      <td>1.2</td>\n",
       "      <td>0.05</td>\n",
       "      <td>0.7413</td>\n",
       "      <td>0.0371</td>\n",
       "      <td>0.53</td>\n",
       "      <td>0.3</td>\n",
       "    </tr>\n",
       "    <tr>\n",
       "      <th>263</th>\n",
       "      <td>182</td>\n",
       "      <td>80</td>\n",
       "      <td>182</td>\n",
       "      <td>11</td>\n",
       "      <td>145</td>\n",
       "      <td>2</td>\n",
       "      <td>96</td>\n",
       "      <td>57</td>\n",
       "      <td>0.5</td>\n",
       "      <td>0.6</td>\n",
       "      <td>0.54</td>\n",
       "      <td>0.54</td>\n",
       "      <td>0.6</td>\n",
       "      <td>0.4</td>\n",
       "      <td>1.2</td>\n",
       "      <td>0.05</td>\n",
       "      <td>0.8710</td>\n",
       "      <td>0.0435</td>\n",
       "      <td>0.54</td>\n",
       "      <td>0.4</td>\n",
       "    </tr>\n",
       "  </tbody>\n",
       "</table>\n",
       "</div>"
      ],
      "text/plain": [
       "     n_df0_train_pos  n_df0_test_pos  n_df0_train_neg  n_df0_test_neg  \\\n",
       "98                30              51              273              25   \n",
       "150              212              61              212              45   \n",
       "231              212              79              212              27   \n",
       "263              182              80              182              11   \n",
       "\n",
       "     n_df1_train_pos  n_df1_test_pos  n_df1_train_neg  n_df1_test_neg  \\\n",
       "98               181               2              121              72   \n",
       "150               36               1              144              43   \n",
       "231              108               1               72              43   \n",
       "263              145               2               96              57   \n",
       "\n",
       "     p_pos_train_z0  p_pos_train_z1  p_pos_train  p_pos_test  p_mix_z0  \\\n",
       "98              0.1             0.6         0.35        0.35       0.5   \n",
       "150             0.5             0.2         0.41        0.41       0.7   \n",
       "231             0.5             0.6         0.53        0.53       0.7   \n",
       "263             0.5             0.6         0.54        0.54       0.6   \n",
       "\n",
       "     p_mix_z1  alpha_train  alpha_test  p_pos_test_z0  p_pos_test_z1   C_y  \\\n",
       "98        0.5          6.0        0.05         0.6667         0.0333  0.35   \n",
       "150       0.3          0.4        0.05         0.5734         0.0287  0.41   \n",
       "231       0.3          1.2        0.05         0.7413         0.0371  0.53   \n",
       "263       0.4          1.2        0.05         0.8710         0.0435  0.54   \n",
       "\n",
       "     C_z  \n",
       "98   0.5  \n",
       "150  0.3  \n",
       "231  0.3  \n",
       "263  0.4  "
      ]
     },
     "execution_count": 75,
     "metadata": {},
     "output_type": "execute_result"
    }
   ],
   "source": [
    "df_eval.query(\"alpha_test==0.05\")"
   ]
  },
  {
   "cell_type": "code",
   "execution_count": 76,
   "id": "d7a3ff57-c6ac-4eb0-9c04-cd399e27efea",
   "metadata": {
    "execution": {
     "iopub.execute_input": "2023-02-15T05:32:07.538128Z",
     "iopub.status.busy": "2023-02-15T05:32:07.537384Z",
     "iopub.status.idle": "2023-02-15T05:32:07.571192Z",
     "shell.execute_reply": "2023-02-15T05:32:07.570389Z",
     "shell.execute_reply.started": "2023-02-15T05:32:07.538061Z"
    },
    "tags": []
   },
   "outputs": [
    {
     "data": {
      "text/html": [
       "<div>\n",
       "<style scoped>\n",
       "    .dataframe tbody tr th:only-of-type {\n",
       "        vertical-align: middle;\n",
       "    }\n",
       "\n",
       "    .dataframe tbody tr th {\n",
       "        vertical-align: top;\n",
       "    }\n",
       "\n",
       "    .dataframe thead th {\n",
       "        text-align: right;\n",
       "    }\n",
       "</style>\n",
       "<table border=\"1\" class=\"dataframe\">\n",
       "  <thead>\n",
       "    <tr style=\"text-align: right;\">\n",
       "      <th></th>\n",
       "      <th>n_df0_train_pos</th>\n",
       "      <th>n_df0_test_pos</th>\n",
       "      <th>n_df0_train_neg</th>\n",
       "      <th>n_df0_test_neg</th>\n",
       "      <th>n_df1_train_pos</th>\n",
       "      <th>n_df1_test_pos</th>\n",
       "      <th>n_df1_train_neg</th>\n",
       "      <th>n_df1_test_neg</th>\n",
       "      <th>p_pos_train_z0</th>\n",
       "      <th>p_pos_train_z1</th>\n",
       "      <th>p_pos_train</th>\n",
       "      <th>p_pos_test</th>\n",
       "      <th>p_mix_z0</th>\n",
       "      <th>p_mix_z1</th>\n",
       "      <th>alpha_train</th>\n",
       "      <th>alpha_test</th>\n",
       "      <th>p_pos_test_z0</th>\n",
       "      <th>p_pos_test_z1</th>\n",
       "      <th>C_y</th>\n",
       "      <th>C_z</th>\n",
       "    </tr>\n",
       "  </thead>\n",
       "  <tbody>\n",
       "    <tr>\n",
       "      <th>482</th>\n",
       "      <td>42</td>\n",
       "      <td>37</td>\n",
       "      <td>378</td>\n",
       "      <td>68</td>\n",
       "      <td>108</td>\n",
       "      <td>1</td>\n",
       "      <td>72</td>\n",
       "      <td>44</td>\n",
       "      <td>0.1</td>\n",
       "      <td>0.6</td>\n",
       "      <td>0.25</td>\n",
       "      <td>0.25</td>\n",
       "      <td>0.7</td>\n",
       "      <td>0.3</td>\n",
       "      <td>6.0</td>\n",
       "      <td>0.05</td>\n",
       "      <td>0.349650</td>\n",
       "      <td>0.017483</td>\n",
       "      <td>0.25</td>\n",
       "      <td>0.3</td>\n",
       "    </tr>\n",
       "    <tr>\n",
       "      <th>581</th>\n",
       "      <td>36</td>\n",
       "      <td>44</td>\n",
       "      <td>324</td>\n",
       "      <td>46</td>\n",
       "      <td>144</td>\n",
       "      <td>1</td>\n",
       "      <td>96</td>\n",
       "      <td>59</td>\n",
       "      <td>0.1</td>\n",
       "      <td>0.6</td>\n",
       "      <td>0.30</td>\n",
       "      <td>0.30</td>\n",
       "      <td>0.6</td>\n",
       "      <td>0.4</td>\n",
       "      <td>6.0</td>\n",
       "      <td>0.05</td>\n",
       "      <td>0.483871</td>\n",
       "      <td>0.024194</td>\n",
       "      <td>0.30</td>\n",
       "      <td>0.4</td>\n",
       "    </tr>\n",
       "    <tr>\n",
       "      <th>680</th>\n",
       "      <td>30</td>\n",
       "      <td>50</td>\n",
       "      <td>270</td>\n",
       "      <td>25</td>\n",
       "      <td>180</td>\n",
       "      <td>2</td>\n",
       "      <td>120</td>\n",
       "      <td>73</td>\n",
       "      <td>0.1</td>\n",
       "      <td>0.6</td>\n",
       "      <td>0.35</td>\n",
       "      <td>0.35</td>\n",
       "      <td>0.5</td>\n",
       "      <td>0.5</td>\n",
       "      <td>6.0</td>\n",
       "      <td>0.05</td>\n",
       "      <td>0.666667</td>\n",
       "      <td>0.033333</td>\n",
       "      <td>0.35</td>\n",
       "      <td>0.5</td>\n",
       "    </tr>\n",
       "    <tr>\n",
       "      <th>745</th>\n",
       "      <td>240</td>\n",
       "      <td>65</td>\n",
       "      <td>240</td>\n",
       "      <td>55</td>\n",
       "      <td>24</td>\n",
       "      <td>1</td>\n",
       "      <td>96</td>\n",
       "      <td>29</td>\n",
       "      <td>0.5</td>\n",
       "      <td>0.2</td>\n",
       "      <td>0.44</td>\n",
       "      <td>0.44</td>\n",
       "      <td>0.8</td>\n",
       "      <td>0.2</td>\n",
       "      <td>0.4</td>\n",
       "      <td>0.05</td>\n",
       "      <td>0.543210</td>\n",
       "      <td>0.027160</td>\n",
       "      <td>0.44</td>\n",
       "      <td>0.2</td>\n",
       "    </tr>\n",
       "    <tr>\n",
       "      <th>809</th>\n",
       "      <td>210</td>\n",
       "      <td>60</td>\n",
       "      <td>210</td>\n",
       "      <td>45</td>\n",
       "      <td>36</td>\n",
       "      <td>1</td>\n",
       "      <td>144</td>\n",
       "      <td>44</td>\n",
       "      <td>0.5</td>\n",
       "      <td>0.2</td>\n",
       "      <td>0.41</td>\n",
       "      <td>0.41</td>\n",
       "      <td>0.7</td>\n",
       "      <td>0.3</td>\n",
       "      <td>0.4</td>\n",
       "      <td>0.05</td>\n",
       "      <td>0.573427</td>\n",
       "      <td>0.028671</td>\n",
       "      <td>0.41</td>\n",
       "      <td>0.3</td>\n",
       "    </tr>\n",
       "    <tr>\n",
       "      <th>1009</th>\n",
       "      <td>240</td>\n",
       "      <td>77</td>\n",
       "      <td>240</td>\n",
       "      <td>43</td>\n",
       "      <td>72</td>\n",
       "      <td>1</td>\n",
       "      <td>48</td>\n",
       "      <td>29</td>\n",
       "      <td>0.5</td>\n",
       "      <td>0.6</td>\n",
       "      <td>0.52</td>\n",
       "      <td>0.52</td>\n",
       "      <td>0.8</td>\n",
       "      <td>0.2</td>\n",
       "      <td>1.2</td>\n",
       "      <td>0.05</td>\n",
       "      <td>0.641975</td>\n",
       "      <td>0.032099</td>\n",
       "      <td>0.52</td>\n",
       "      <td>0.2</td>\n",
       "    </tr>\n",
       "    <tr>\n",
       "      <th>1057</th>\n",
       "      <td>210</td>\n",
       "      <td>78</td>\n",
       "      <td>210</td>\n",
       "      <td>27</td>\n",
       "      <td>108</td>\n",
       "      <td>2</td>\n",
       "      <td>72</td>\n",
       "      <td>43</td>\n",
       "      <td>0.5</td>\n",
       "      <td>0.6</td>\n",
       "      <td>0.53</td>\n",
       "      <td>0.53</td>\n",
       "      <td>0.7</td>\n",
       "      <td>0.3</td>\n",
       "      <td>1.2</td>\n",
       "      <td>0.05</td>\n",
       "      <td>0.741259</td>\n",
       "      <td>0.037063</td>\n",
       "      <td>0.53</td>\n",
       "      <td>0.3</td>\n",
       "    </tr>\n",
       "    <tr>\n",
       "      <th>1116</th>\n",
       "      <td>180</td>\n",
       "      <td>78</td>\n",
       "      <td>180</td>\n",
       "      <td>12</td>\n",
       "      <td>144</td>\n",
       "      <td>3</td>\n",
       "      <td>96</td>\n",
       "      <td>57</td>\n",
       "      <td>0.5</td>\n",
       "      <td>0.6</td>\n",
       "      <td>0.54</td>\n",
       "      <td>0.54</td>\n",
       "      <td>0.6</td>\n",
       "      <td>0.4</td>\n",
       "      <td>1.2</td>\n",
       "      <td>0.05</td>\n",
       "      <td>0.870968</td>\n",
       "      <td>0.043548</td>\n",
       "      <td>0.54</td>\n",
       "      <td>0.4</td>\n",
       "    </tr>\n",
       "  </tbody>\n",
       "</table>\n",
       "</div>"
      ],
      "text/plain": [
       "      n_df0_train_pos  n_df0_test_pos  n_df0_train_neg  n_df0_test_neg  \\\n",
       "482                42              37              378              68   \n",
       "581                36              44              324              46   \n",
       "680                30              50              270              25   \n",
       "745               240              65              240              55   \n",
       "809               210              60              210              45   \n",
       "1009              240              77              240              43   \n",
       "1057              210              78              210              27   \n",
       "1116              180              78              180              12   \n",
       "\n",
       "      n_df1_train_pos  n_df1_test_pos  n_df1_train_neg  n_df1_test_neg  \\\n",
       "482               108               1               72              44   \n",
       "581               144               1               96              59   \n",
       "680               180               2              120              73   \n",
       "745                24               1               96              29   \n",
       "809                36               1              144              44   \n",
       "1009               72               1               48              29   \n",
       "1057              108               2               72              43   \n",
       "1116              144               3               96              57   \n",
       "\n",
       "      p_pos_train_z0  p_pos_train_z1  p_pos_train  p_pos_test  p_mix_z0  \\\n",
       "482              0.1             0.6         0.25        0.25       0.7   \n",
       "581              0.1             0.6         0.30        0.30       0.6   \n",
       "680              0.1             0.6         0.35        0.35       0.5   \n",
       "745              0.5             0.2         0.44        0.44       0.8   \n",
       "809              0.5             0.2         0.41        0.41       0.7   \n",
       "1009             0.5             0.6         0.52        0.52       0.8   \n",
       "1057             0.5             0.6         0.53        0.53       0.7   \n",
       "1116             0.5             0.6         0.54        0.54       0.6   \n",
       "\n",
       "      p_mix_z1  alpha_train  alpha_test  p_pos_test_z0  p_pos_test_z1   C_y  \\\n",
       "482        0.3          6.0        0.05       0.349650       0.017483  0.25   \n",
       "581        0.4          6.0        0.05       0.483871       0.024194  0.30   \n",
       "680        0.5          6.0        0.05       0.666667       0.033333  0.35   \n",
       "745        0.2          0.4        0.05       0.543210       0.027160  0.44   \n",
       "809        0.3          0.4        0.05       0.573427       0.028671  0.41   \n",
       "1009       0.2          1.2        0.05       0.641975       0.032099  0.52   \n",
       "1057       0.3          1.2        0.05       0.741259       0.037063  0.53   \n",
       "1116       0.4          1.2        0.05       0.870968       0.043548  0.54   \n",
       "\n",
       "      C_z  \n",
       "482   0.3  \n",
       "581   0.4  \n",
       "680   0.5  \n",
       "745   0.2  \n",
       "809   0.3  \n",
       "1009  0.2  \n",
       "1057  0.3  \n",
       "1116  0.4  "
      ]
     },
     "execution_count": 76,
     "metadata": {},
     "output_type": "execute_result"
    }
   ],
   "source": [
    "df2.query(\"alpha_test==0.05\")"
   ]
  },
  {
   "cell_type": "code",
   "execution_count": null,
   "id": "f1e4f775-8ce0-49a5-9153-a5ea0a12c2cf",
   "metadata": {},
   "outputs": [],
   "source": []
  },
  {
   "cell_type": "code",
   "execution_count": null,
   "id": "d2914d9b-846b-460e-b732-79df4672ac85",
   "metadata": {},
   "outputs": [],
   "source": []
  },
  {
   "cell_type": "code",
   "execution_count": null,
   "id": "05bcdc3a-05b8-450f-980e-effe5c57eb01",
   "metadata": {},
   "outputs": [],
   "source": []
  },
  {
   "cell_type": "code",
   "execution_count": null,
   "id": "76f348e2-f00a-4c49-a41e-71815646c472",
   "metadata": {},
   "outputs": [],
   "source": []
  },
  {
   "cell_type": "code",
   "execution_count": null,
   "id": "57713dc4-cd7f-410d-8ece-58124772744a",
   "metadata": {},
   "outputs": [],
   "source": [
    " [0.1, 0.5],\n",
    "[0.2, 0.6],\n",
    "np.arange(0.1, 0.999, 0.1),\n",
    "np.arange(0, 5, 0.05),\n",
    "        \n",
    "p_pos_train_z0=combination[0],\n",
    "p_pos_train_z1=combination[1],\n",
    "p_mix_z1=combination[2],\n",
    "alpha_test=combination[3],"
   ]
  },
  {
   "cell_type": "code",
   "execution_count": 97,
   "id": "b2090c2b-3c3d-4bec-a10b-81e9369f66de",
   "metadata": {
    "execution": {
     "iopub.execute_input": "2023-02-15T05:52:14.604447Z",
     "iopub.status.busy": "2023-02-15T05:52:14.603690Z",
     "iopub.status.idle": "2023-02-15T05:52:14.613592Z",
     "shell.execute_reply": "2023-02-15T05:52:14.612069Z",
     "shell.execute_reply.started": "2023-02-15T05:52:14.604378Z"
    },
    "tags": []
   },
   "outputs": [
    {
     "name": "stdout",
     "output_type": "stream",
     "text": [
      "[0.1, 0.2, 0.3, 0.4, 0.5]\n",
      "[0.1, 0.2, 0.3, 0.4, 0.5]\n"
     ]
    }
   ],
   "source": [
    "i = \"p_mix_z1\"\n",
    "\n",
    "print(sorted(df_eval[i].unique()))\n",
    "print(sorted(df2[i].unique()))"
   ]
  },
  {
   "cell_type": "code",
   "execution_count": 96,
   "id": "a51d9c38-b191-4f05-bff4-caa61034706a",
   "metadata": {
    "execution": {
     "iopub.execute_input": "2023-02-15T05:52:10.037433Z",
     "iopub.status.busy": "2023-02-15T05:52:10.036632Z",
     "iopub.status.idle": "2023-02-15T05:52:10.047105Z",
     "shell.execute_reply": "2023-02-15T05:52:10.045627Z",
     "shell.execute_reply.started": "2023-02-15T05:52:10.037365Z"
    },
    "tags": []
   },
   "outputs": [
    {
     "name": "stdout",
     "output_type": "stream",
     "text": [
      "[0.05, 0.1, 0.15, 0.2, 0.25, 0.3, 0.35, 0.4, 0.45, 0.5, 0.55, 0.6, 0.65, 0.7, 0.75, 0.8, 0.85, 0.9, 0.95, 1.0, 1.05, 1.1, 1.15, 1.2, 1.25, 1.3, 1.35, 1.4, 1.45, 1.5, 1.55, 1.6, 1.65, 1.7, 1.75, 1.8, 1.85, 1.9, 1.95, 2.05, 2.1, 2.15, 2.2, 2.25, 2.3, 2.35, 2.4, 2.45, 2.5, 2.55, 2.6, 2.65, 2.7, 2.75, 2.8, 2.85, 2.9, 3.0, 3.05, 3.1, 3.15, 3.2, 3.25, 3.3, 3.35, 3.4, 3.45, 3.5, 3.55, 3.6, 3.65, 3.75, 3.8, 3.85, 3.95, 4.0, 4.1, 4.2, 4.25, 4.3, 4.5, 4.6, 4.65, 4.7, 4.75, 4.95]\n",
      "[0.05, 0.1, 0.15, 0.2, 0.25, 0.3, 0.35, 0.4, 0.45, 0.5, 0.55, 0.6000000000000001, 0.65, 0.7000000000000001, 0.75, 0.8, 0.8500000000000001, 0.9, 0.95, 1.0, 1.05, 1.1, 1.15, 1.2000000000000002, 1.25, 1.3, 1.35, 1.4, 1.4500000000000002, 1.5, 1.55, 1.6, 1.65, 1.7000000000000002, 1.75, 1.8, 1.85, 1.9, 1.95, 2.0, 2.0500000000000003, 2.1, 2.15, 2.2, 2.25, 2.3000000000000003, 2.35, 2.4000000000000004, 2.45, 2.5, 2.5500000000000003, 2.6, 2.6500000000000004, 2.7, 2.75, 2.8000000000000003, 2.85, 2.9000000000000004, 2.95, 3.0, 3.0500000000000003, 3.1, 3.1500000000000004, 3.2, 3.25, 3.3000000000000003, 3.35, 3.4000000000000004, 3.45, 3.5, 3.5500000000000003, 3.6, 3.65, 3.7, 3.75, 3.8, 3.85, 3.9, 3.95, 4.0, 4.05, 4.1000000000000005, 4.15, 4.2, 4.25, 4.3, 4.3500000000000005, 4.4, 4.45, 4.5, 4.55, 4.6000000000000005, 4.65, 4.7, 4.75, 4.800000000000001, 4.8500000000000005, 4.9, 4.95]\n"
     ]
    }
   ],
   "source": [
    "i = \"alpha_test\"\n",
    "\n",
    "print(sorted(df_eval[i].unique()))\n",
    "print(sorted(df2[i].unique()))"
   ]
  },
  {
   "cell_type": "code",
   "execution_count": 99,
   "id": "e43ef2ae-71fd-4618-a42b-36091578b0df",
   "metadata": {
    "execution": {
     "iopub.execute_input": "2023-02-15T05:53:54.117525Z",
     "iopub.status.busy": "2023-02-15T05:53:54.116719Z",
     "iopub.status.idle": "2023-02-15T05:53:54.139813Z",
     "shell.execute_reply": "2023-02-15T05:53:54.139415Z",
     "shell.execute_reply.started": "2023-02-15T05:53:54.117457Z"
    },
    "tags": []
   },
   "outputs": [
    {
     "data": {
      "text/html": [
       "<div>\n",
       "<style scoped>\n",
       "    .dataframe tbody tr th:only-of-type {\n",
       "        vertical-align: middle;\n",
       "    }\n",
       "\n",
       "    .dataframe tbody tr th {\n",
       "        vertical-align: top;\n",
       "    }\n",
       "\n",
       "    .dataframe thead th {\n",
       "        text-align: right;\n",
       "    }\n",
       "</style>\n",
       "<table border=\"1\" class=\"dataframe\">\n",
       "  <thead>\n",
       "    <tr style=\"text-align: right;\">\n",
       "      <th></th>\n",
       "      <th>n_df0_train_pos</th>\n",
       "      <th>n_df0_test_pos</th>\n",
       "      <th>n_df0_train_neg</th>\n",
       "      <th>n_df0_test_neg</th>\n",
       "      <th>n_df1_train_pos</th>\n",
       "      <th>n_df1_test_pos</th>\n",
       "      <th>n_df1_train_neg</th>\n",
       "      <th>n_df1_test_neg</th>\n",
       "      <th>p_pos_train_z0</th>\n",
       "      <th>p_pos_train_z1</th>\n",
       "      <th>p_pos_train</th>\n",
       "      <th>p_pos_test</th>\n",
       "      <th>p_mix_z0</th>\n",
       "      <th>p_mix_z1</th>\n",
       "      <th>alpha_train</th>\n",
       "      <th>alpha_test</th>\n",
       "      <th>p_pos_test_z0</th>\n",
       "      <th>p_pos_test_z1</th>\n",
       "      <th>C_y</th>\n",
       "      <th>C_z</th>\n",
       "    </tr>\n",
       "  </thead>\n",
       "  <tbody>\n",
       "    <tr>\n",
       "      <th>55</th>\n",
       "      <td>42</td>\n",
       "      <td>35</td>\n",
       "      <td>381</td>\n",
       "      <td>71</td>\n",
       "      <td>108</td>\n",
       "      <td>2</td>\n",
       "      <td>72</td>\n",
       "      <td>42</td>\n",
       "      <td>0.1</td>\n",
       "      <td>0.6</td>\n",
       "      <td>0.25</td>\n",
       "      <td>0.25</td>\n",
       "      <td>0.7</td>\n",
       "      <td>0.3</td>\n",
       "      <td>6.0</td>\n",
       "      <td>0.2</td>\n",
       "      <td>0.3289</td>\n",
       "      <td>0.0658</td>\n",
       "      <td>0.25</td>\n",
       "      <td>0.3</td>\n",
       "    </tr>\n",
       "    <tr>\n",
       "      <th>37</th>\n",
       "      <td>48</td>\n",
       "      <td>29</td>\n",
       "      <td>435</td>\n",
       "      <td>92</td>\n",
       "      <td>72</td>\n",
       "      <td>1</td>\n",
       "      <td>48</td>\n",
       "      <td>28</td>\n",
       "      <td>0.1</td>\n",
       "      <td>0.6</td>\n",
       "      <td>0.20</td>\n",
       "      <td>0.20</td>\n",
       "      <td>0.8</td>\n",
       "      <td>0.2</td>\n",
       "      <td>6.0</td>\n",
       "      <td>0.2</td>\n",
       "      <td>0.2381</td>\n",
       "      <td>0.0476</td>\n",
       "      <td>0.20</td>\n",
       "      <td>0.2</td>\n",
       "    </tr>\n",
       "  </tbody>\n",
       "</table>\n",
       "</div>"
      ],
      "text/plain": [
       "    n_df0_train_pos  n_df0_test_pos  n_df0_train_neg  n_df0_test_neg  \\\n",
       "55               42              35              381              71   \n",
       "37               48              29              435              92   \n",
       "\n",
       "    n_df1_train_pos  n_df1_test_pos  n_df1_train_neg  n_df1_test_neg  \\\n",
       "55              108               2               72              42   \n",
       "37               72               1               48              28   \n",
       "\n",
       "    p_pos_train_z0  p_pos_train_z1  p_pos_train  p_pos_test  p_mix_z0  \\\n",
       "55             0.1             0.6         0.25        0.25       0.7   \n",
       "37             0.1             0.6         0.20        0.20       0.8   \n",
       "\n",
       "    p_mix_z1  alpha_train  alpha_test  p_pos_test_z0  p_pos_test_z1   C_y  C_z  \n",
       "55       0.3          6.0         0.2         0.3289         0.0658  0.25  0.3  \n",
       "37       0.2          6.0         0.2         0.2381         0.0476  0.20  0.2  "
      ]
     },
     "execution_count": 99,
     "metadata": {},
     "output_type": "execute_result"
    }
   ],
   "source": [
    "df_eval.query(\"(alpha_test==0.2) & (p_pos_train_z0 == 0.1) & (p_pos_train_z1 == 0.6)\").sort_values(\"n_df0_train_pos\")"
   ]
  },
  {
   "cell_type": "code",
   "execution_count": 100,
   "id": "63da1e8e-8e6f-4fbf-b2e0-6d5795d46d18",
   "metadata": {
    "execution": {
     "iopub.execute_input": "2023-02-15T05:53:54.266470Z",
     "iopub.status.busy": "2023-02-15T05:53:54.266136Z",
     "iopub.status.idle": "2023-02-15T05:53:54.292715Z",
     "shell.execute_reply": "2023-02-15T05:53:54.292056Z",
     "shell.execute_reply.started": "2023-02-15T05:53:54.266441Z"
    },
    "tags": []
   },
   "outputs": [
    {
     "data": {
      "text/html": [
       "<div>\n",
       "<style scoped>\n",
       "    .dataframe tbody tr th:only-of-type {\n",
       "        vertical-align: middle;\n",
       "    }\n",
       "\n",
       "    .dataframe tbody tr th {\n",
       "        vertical-align: top;\n",
       "    }\n",
       "\n",
       "    .dataframe thead th {\n",
       "        text-align: right;\n",
       "    }\n",
       "</style>\n",
       "<table border=\"1\" class=\"dataframe\">\n",
       "  <thead>\n",
       "    <tr style=\"text-align: right;\">\n",
       "      <th></th>\n",
       "      <th>n_df0_train_pos</th>\n",
       "      <th>n_df0_test_pos</th>\n",
       "      <th>n_df0_train_neg</th>\n",
       "      <th>n_df0_test_neg</th>\n",
       "      <th>n_df1_train_pos</th>\n",
       "      <th>n_df1_test_pos</th>\n",
       "      <th>n_df1_train_neg</th>\n",
       "      <th>n_df1_test_neg</th>\n",
       "      <th>p_pos_train_z0</th>\n",
       "      <th>p_pos_train_z1</th>\n",
       "      <th>p_pos_train</th>\n",
       "      <th>p_pos_test</th>\n",
       "      <th>p_mix_z0</th>\n",
       "      <th>p_mix_z1</th>\n",
       "      <th>alpha_train</th>\n",
       "      <th>alpha_test</th>\n",
       "      <th>p_pos_test_z0</th>\n",
       "      <th>p_pos_test_z1</th>\n",
       "      <th>C_y</th>\n",
       "      <th>C_z</th>\n",
       "    </tr>\n",
       "  </thead>\n",
       "  <tbody>\n",
       "    <tr>\n",
       "      <th>683</th>\n",
       "      <td>30</td>\n",
       "      <td>44</td>\n",
       "      <td>270</td>\n",
       "      <td>31</td>\n",
       "      <td>180</td>\n",
       "      <td>9</td>\n",
       "      <td>120</td>\n",
       "      <td>66</td>\n",
       "      <td>0.1</td>\n",
       "      <td>0.6</td>\n",
       "      <td>0.35</td>\n",
       "      <td>0.35</td>\n",
       "      <td>0.5</td>\n",
       "      <td>0.5</td>\n",
       "      <td>6.0</td>\n",
       "      <td>0.2</td>\n",
       "      <td>0.583333</td>\n",
       "      <td>0.116667</td>\n",
       "      <td>0.35</td>\n",
       "      <td>0.5</td>\n",
       "    </tr>\n",
       "    <tr>\n",
       "      <th>584</th>\n",
       "      <td>36</td>\n",
       "      <td>40</td>\n",
       "      <td>324</td>\n",
       "      <td>50</td>\n",
       "      <td>144</td>\n",
       "      <td>5</td>\n",
       "      <td>96</td>\n",
       "      <td>55</td>\n",
       "      <td>0.1</td>\n",
       "      <td>0.6</td>\n",
       "      <td>0.30</td>\n",
       "      <td>0.30</td>\n",
       "      <td>0.6</td>\n",
       "      <td>0.4</td>\n",
       "      <td>6.0</td>\n",
       "      <td>0.2</td>\n",
       "      <td>0.441176</td>\n",
       "      <td>0.088235</td>\n",
       "      <td>0.30</td>\n",
       "      <td>0.4</td>\n",
       "    </tr>\n",
       "    <tr>\n",
       "      <th>485</th>\n",
       "      <td>42</td>\n",
       "      <td>35</td>\n",
       "      <td>378</td>\n",
       "      <td>70</td>\n",
       "      <td>108</td>\n",
       "      <td>3</td>\n",
       "      <td>72</td>\n",
       "      <td>42</td>\n",
       "      <td>0.1</td>\n",
       "      <td>0.6</td>\n",
       "      <td>0.25</td>\n",
       "      <td>0.25</td>\n",
       "      <td>0.7</td>\n",
       "      <td>0.3</td>\n",
       "      <td>6.0</td>\n",
       "      <td>0.2</td>\n",
       "      <td>0.328947</td>\n",
       "      <td>0.065789</td>\n",
       "      <td>0.25</td>\n",
       "      <td>0.3</td>\n",
       "    </tr>\n",
       "    <tr>\n",
       "      <th>386</th>\n",
       "      <td>48</td>\n",
       "      <td>29</td>\n",
       "      <td>432</td>\n",
       "      <td>91</td>\n",
       "      <td>72</td>\n",
       "      <td>1</td>\n",
       "      <td>48</td>\n",
       "      <td>29</td>\n",
       "      <td>0.1</td>\n",
       "      <td>0.6</td>\n",
       "      <td>0.20</td>\n",
       "      <td>0.20</td>\n",
       "      <td>0.8</td>\n",
       "      <td>0.2</td>\n",
       "      <td>6.0</td>\n",
       "      <td>0.2</td>\n",
       "      <td>0.238095</td>\n",
       "      <td>0.047619</td>\n",
       "      <td>0.20</td>\n",
       "      <td>0.2</td>\n",
       "    </tr>\n",
       "  </tbody>\n",
       "</table>\n",
       "</div>"
      ],
      "text/plain": [
       "     n_df0_train_pos  n_df0_test_pos  n_df0_train_neg  n_df0_test_neg  \\\n",
       "683               30              44              270              31   \n",
       "584               36              40              324              50   \n",
       "485               42              35              378              70   \n",
       "386               48              29              432              91   \n",
       "\n",
       "     n_df1_train_pos  n_df1_test_pos  n_df1_train_neg  n_df1_test_neg  \\\n",
       "683              180               9              120              66   \n",
       "584              144               5               96              55   \n",
       "485              108               3               72              42   \n",
       "386               72               1               48              29   \n",
       "\n",
       "     p_pos_train_z0  p_pos_train_z1  p_pos_train  p_pos_test  p_mix_z0  \\\n",
       "683             0.1             0.6         0.35        0.35       0.5   \n",
       "584             0.1             0.6         0.30        0.30       0.6   \n",
       "485             0.1             0.6         0.25        0.25       0.7   \n",
       "386             0.1             0.6         0.20        0.20       0.8   \n",
       "\n",
       "     p_mix_z1  alpha_train  alpha_test  p_pos_test_z0  p_pos_test_z1   C_y  \\\n",
       "683       0.5          6.0         0.2       0.583333       0.116667  0.35   \n",
       "584       0.4          6.0         0.2       0.441176       0.088235  0.30   \n",
       "485       0.3          6.0         0.2       0.328947       0.065789  0.25   \n",
       "386       0.2          6.0         0.2       0.238095       0.047619  0.20   \n",
       "\n",
       "     C_z  \n",
       "683  0.5  \n",
       "584  0.4  \n",
       "485  0.3  \n",
       "386  0.2  "
      ]
     },
     "execution_count": 100,
     "metadata": {},
     "output_type": "execute_result"
    }
   ],
   "source": [
    "df2.query(\"(alpha_test==0.2) & (p_pos_train_z0 == 0.1) & (p_pos_train_z1 == 0.6)\").sort_values(\"n_df0_train_pos\")"
   ]
  },
  {
   "cell_type": "code",
   "execution_count": null,
   "id": "bdb5419e-b6fa-4436-bd14-4a0b635b3452",
   "metadata": {},
   "outputs": [],
   "source": []
  },
  {
   "cell_type": "code",
   "execution_count": 104,
   "id": "ece5cbef-0c8a-4c9d-bbda-f9f89df46256",
   "metadata": {
    "execution": {
     "iopub.execute_input": "2023-02-15T05:56:25.327834Z",
     "iopub.status.busy": "2023-02-15T05:56:25.327097Z",
     "iopub.status.idle": "2023-02-15T05:56:25.336853Z",
     "shell.execute_reply": "2023-02-15T05:56:25.336012Z",
     "shell.execute_reply.started": "2023-02-15T05:56:25.327769Z"
    },
    "tags": []
   },
   "outputs": [
    {
     "name": "stdout",
     "output_type": "stream",
     "text": [
      "(0.1, 0.6, 0.4, 0.2, 4, 150, 0)\n"
     ]
    }
   ],
   "source": [
    "for combination in itertools.product(\n",
    "        [0.1, 0.5],\n",
    "        [0.2, 0.6],\n",
    "        np.arange(0.1, 0.999, 0.1),\n",
    "        np.arange(0, 5, 0.05),\n",
    "        [4],\n",
    "        n_test,\n",
    "        n_test_error,\n",
    "    ):\n",
    "    if combination[0] == 0.1 and combination[1] == 0.6 and combination[2] ==  0.4 and combination[3]==0.2:\n",
    "        print(combination)"
   ]
  },
  {
   "cell_type": "code",
   "execution_count": null,
   "id": "33d39e81-4107-435c-9e17-e1a3d70b477a",
   "metadata": {},
   "outputs": [],
   "source": [
    "confoundSplitDF"
   ]
  },
  {
   "cell_type": "code",
   "execution_count": 110,
   "id": "1c3c423c-5837-40df-b9e6-0b96573aa7b6",
   "metadata": {
    "execution": {
     "iopub.execute_input": "2023-02-15T06:28:43.171023Z",
     "iopub.status.busy": "2023-02-15T06:28:43.170673Z",
     "iopub.status.idle": "2023-02-15T06:28:43.177067Z",
     "shell.execute_reply": "2023-02-15T06:28:43.175859Z",
     "shell.execute_reply.started": "2023-02-15T06:28:43.170993Z"
    }
   },
   "outputs": [
    {
     "data": {
      "text/plain": [
       "(0.5, 0.6, 0.9, 4.95, 4, 150, 0)"
      ]
     },
     "execution_count": 110,
     "metadata": {},
     "output_type": "execute_result"
    }
   ],
   "source": [
    "combination"
   ]
  },
  {
   "cell_type": "code",
   "execution_count": 133,
   "id": "6a6fd4fc-e0c9-4e32-ab5c-3a4f12451aff",
   "metadata": {
    "execution": {
     "iopub.execute_input": "2023-02-15T07:16:39.704405Z",
     "iopub.status.busy": "2023-02-15T07:16:39.704105Z",
     "iopub.status.idle": "2023-02-15T07:16:39.710010Z",
     "shell.execute_reply": "2023-02-15T07:16:39.709325Z",
     "shell.execute_reply.started": "2023-02-15T07:16:39.704383Z"
    },
    "tags": []
   },
   "outputs": [
    {
     "data": {
      "text/plain": [
       "{'p_pos_train_z0': 0.1,\n",
       " 'p_pos_train_z1': 0.6,\n",
       " 'p_pos_train': 0.35,\n",
       " 'p_pos_test': 0.35,\n",
       " 'p_mix_z0': 0.5,\n",
       " 'p_mix_z1': 0.5,\n",
       " 'alpha_train': 5.999999999999999,\n",
       " 'alpha_test': 0.2,\n",
       " 'p_pos_test_z0': 0.5833333333333334,\n",
       " 'p_pos_test_z1': 0.11666666666666668,\n",
       " 'C_y': 0.35,\n",
       " 'C_z': 0.5}"
      ]
     },
     "execution_count": 133,
     "metadata": {},
     "output_type": "execute_result"
    }
   ],
   "source": [
    "combination = (0.1, 0.6, 0.5, 0.2, 4, 150, 0)\n",
    "confoundSplit(p_pos_train_z1=combination[1], p_pos_train_z0=combination[0], p_mix_z1=combination[2], alpha_test=combination[3])"
   ]
  },
  {
   "cell_type": "code",
   "execution_count": 134,
   "id": "843ad490-0651-45d9-bab0-637c08dcae78",
   "metadata": {
    "execution": {
     "iopub.execute_input": "2023-02-15T07:17:12.202373Z",
     "iopub.status.busy": "2023-02-15T07:17:12.202057Z",
     "iopub.status.idle": "2023-02-15T07:17:12.207882Z",
     "shell.execute_reply": "2023-02-15T07:17:12.207483Z",
     "shell.execute_reply.started": "2023-02-15T07:17:12.202348Z"
    },
    "tags": []
   },
   "outputs": [],
   "source": [
    "\n",
    "\n",
    "ret = confoundSplitNumbers(\n",
    "            df0=df0,\n",
    "            df1=df1,\n",
    "            df0_label=\"y\",\n",
    "            df1_label=\"y\",\n",
    "            p_pos_train_z0=combination[0],\n",
    "            p_pos_train_z1=combination[1],\n",
    "            p_mix_z1=combination[2],\n",
    "            alpha_test=combination[3],\n",
    "            train_test_ratio=combination[4],\n",
    "            n_test=combination[5],\n",
    "            n_test_error=combination[6],\n",
    "        )"
   ]
  },
  {
   "cell_type": "code",
   "execution_count": 135,
   "id": "1b4435d3-0508-42c0-9b9e-bd3e6e760771",
   "metadata": {
    "execution": {
     "iopub.execute_input": "2023-02-15T07:17:14.216052Z",
     "iopub.status.busy": "2023-02-15T07:17:14.215307Z",
     "iopub.status.idle": "2023-02-15T07:17:14.222151Z",
     "shell.execute_reply": "2023-02-15T07:17:14.220619Z",
     "shell.execute_reply.started": "2023-02-15T07:17:14.215986Z"
    }
   },
   "outputs": [],
   "source": [
    "ret"
   ]
  },
  {
   "cell_type": "code",
   "execution_count": 139,
   "id": "83837ac3-72b1-477d-b629-d963e799d7e7",
   "metadata": {
    "execution": {
     "iopub.execute_input": "2023-02-15T07:19:20.237390Z",
     "iopub.status.busy": "2023-02-15T07:19:20.236580Z",
     "iopub.status.idle": "2023-02-15T07:19:20.261140Z",
     "shell.execute_reply": "2023-02-15T07:19:20.259420Z",
     "shell.execute_reply.started": "2023-02-15T07:19:20.237321Z"
    },
    "tags": []
   },
   "outputs": [],
   "source": [
    "import math\n",
    "\n",
    "\n",
    "def test(\n",
    "    df0,\n",
    "    df1,\n",
    "    df0_label,\n",
    "    df1_label,\n",
    "    p_pos_train_z1,\n",
    "    p_pos_train_z0,\n",
    "    p_mix_z1,\n",
    "    alpha_test,\n",
    "    train_test_ratio=4,\n",
    "    n_test=None,  # set the number for tests\n",
    "    n_test_error = 0,\n",
    "):\n",
    "\n",
    "    \"\"\"\n",
    "    df0_label, df1_label: 0/1, or True/False coded\n",
    "\n",
    "\n",
    "    \"\"\"\n",
    "    assert df0[df0_label].isin([0, 1]).all(axis=0)\n",
    "    assert df1[df1_label].isin([0, 1]).all(axis=0)\n",
    "\n",
    "    mix_param_dict = confoundSplit(\n",
    "        p_pos_train_z0=p_pos_train_z0,\n",
    "        p_pos_train_z1=p_pos_train_z1,\n",
    "        p_mix_z1=p_mix_z1,\n",
    "        alpha_test=alpha_test,\n",
    "    )\n",
    "\n",
    "    N_df0_pos = (df0[df0_label] == 1).sum()\n",
    "    N_df0_neg = (df0[df0_label] == 0).sum()\n",
    "\n",
    "    N_df1_pos = (df1[df1_label] == 1).sum()\n",
    "    N_df1_neg = (df1[df1_label] == 0).sum()\n",
    "\n",
    "    N_df0 = N_df0_pos + N_df0_neg\n",
    "    N_df1 = N_df1_pos + N_df1_neg\n",
    "\n",
    "    n_df0_test_pos = math.floor(N_df0 / (train_test_ratio + 1))\n",
    "    \n",
    "    while n_df0_test_pos > 0:\n",
    "        \n",
    "        n_df0_test_neg = math.floor(\n",
    "            n_df0_test_pos\n",
    "            / mix_param_dict[\"p_pos_test_z0\"]\n",
    "            * (1 - mix_param_dict[\"p_pos_test_z0\"])\n",
    "        )\n",
    "\n",
    "        n_df0_train_pos = math.floor(\n",
    "            (n_df0_test_pos + n_df0_test_neg)\n",
    "            * train_test_ratio\n",
    "            * mix_param_dict[\"p_pos_train_z0\"]\n",
    "        )\n",
    "        n_df0_train_neg = math.floor(\n",
    "            (n_df0_test_pos + n_df0_test_neg)\n",
    "            * train_test_ratio\n",
    "            * (1 - mix_param_dict[\"p_pos_train_z0\"])\n",
    "        )\n",
    "\n",
    "        n_df1_train = math.floor(\n",
    "            mix_param_dict[\"C_z\"]\n",
    "            / (1 - mix_param_dict[\"C_z\"])\n",
    "            * (n_df0_train_pos + n_df0_train_neg)\n",
    "        )\n",
    "        n_df1_train_pos = math.floor(n_df1_train * mix_param_dict[\"p_pos_train_z1\"])\n",
    "        n_df1_train_neg = math.floor(\n",
    "            n_df1_train * (1 - mix_param_dict[\"p_pos_train_z1\"])\n",
    "        )\n",
    "\n",
    "        n_df1_test = math.floor(n_df1_train / train_test_ratio)\n",
    "        n_df1_test_pos = math.floor(n_df1_test * mix_param_dict[\"p_pos_test_z1\"])\n",
    "        n_df1_test_neg = math.floor(n_df1_test * (1 - mix_param_dict[\"p_pos_test_z1\"]))\n",
    "\n",
    "        test1 = 0 < (n_df0_train_pos + n_df0_test_pos) <= N_df0_pos\n",
    "        test2 = 0 < (n_df0_train_neg + n_df0_test_neg) <= N_df0_neg\n",
    "\n",
    "        test3 = 0 < (n_df1_train_pos + n_df1_test_pos) <= N_df1_pos\n",
    "        test4 = 0 < (n_df1_train_neg + n_df1_test_neg) <= N_df1_neg\n",
    "\n",
    "        test5 = 0 < n_df0_train_pos\n",
    "        test6 = 0 < n_df0_train_neg\n",
    "        test7 = 0 < n_df1_train_pos\n",
    "        test8 = 0 < n_df1_train_neg\n",
    "\n",
    "        test9 = 0 < n_df0_test_pos\n",
    "        test10 = 0 < n_df0_test_neg\n",
    "        test11 = 0 < n_df1_test_pos\n",
    "        test12 = 0 < n_df1_test_neg\n",
    "\n",
    "        tester_positive_number = (\n",
    "            test1\n",
    "            and test2\n",
    "            and test3\n",
    "            and test4\n",
    "            and test5\n",
    "            and test6\n",
    "            and test7\n",
    "            and test8\n",
    "            and test9\n",
    "            and test10\n",
    "            and test11\n",
    "            and test12\n",
    "        )\n",
    "\n",
    "        tester_n_test = (\n",
    "            n_df0_test_pos + n_df0_test_neg + n_df1_test_pos + n_df1_test_neg\n",
    "        )\n",
    "\n",
    "        \n",
    "        if n_df0_test_pos == 44:\n",
    "            ret = {\n",
    "                \"n_df0_train_pos\": n_df0_train_pos,\n",
    "                \"n_df0_test_pos\": n_df0_test_pos,\n",
    "                \"n_df0_train_neg\": n_df0_train_neg,\n",
    "                \"n_df0_test_neg\": n_df0_test_neg,\n",
    "                \"n_df1_train_pos\": n_df1_train_pos,\n",
    "                \"n_df1_test_pos\": n_df1_test_pos,\n",
    "                \"n_df1_train_neg\": n_df1_train_neg,\n",
    "                \"n_df1_test_neg\": n_df1_test_neg,\n",
    "                \"mix_param_dict\": mix_param_dict,\n",
    "            }\n",
    "            breakpoint()\n",
    "            return ret\n",
    "        if tester_positive_number:\n",
    "\n",
    "            \n",
    "            if n_test is None:\n",
    "                return ret\n",
    "            else:\n",
    "                if (n_test - n_test_error) <= tester_n_test <= (n_test + n_test_error):\n",
    "                    return ret\n",
    "                else:\n",
    "                    n_df0_test_pos -= 1\n",
    "        else:\n",
    "            n_df0_test_pos -= 1\n",
    "\n",
    "        if n_df0_test_pos == 0:\n",
    "            return None\n"
   ]
  },
  {
   "cell_type": "code",
   "execution_count": 140,
   "id": "e3625df2-f486-4d52-8098-fe88cd995426",
   "metadata": {
    "execution": {
     "iopub.execute_input": "2023-02-15T07:19:20.911185Z",
     "iopub.status.busy": "2023-02-15T07:19:20.910456Z",
     "iopub.status.idle": "2023-02-15T07:20:45.322650Z",
     "shell.execute_reply": "2023-02-15T07:20:45.321865Z",
     "shell.execute_reply.started": "2023-02-15T07:19:20.911119Z"
    },
    "tags": []
   },
   "outputs": [
    {
     "name": "stdout",
     "output_type": "stream",
     "text": [
      "> \u001b[0;32m<ipython-input-139-42caeba6592c>\u001b[0m(126)\u001b[0;36mtest\u001b[0;34m()\u001b[0m\n",
      "\u001b[0;32m    124 \u001b[0;31m            }\n",
      "\u001b[0m\u001b[0;32m    125 \u001b[0;31m            \u001b[0mbreakpoint\u001b[0m\u001b[0;34m(\u001b[0m\u001b[0;34m)\u001b[0m\u001b[0;34m\u001b[0m\u001b[0;34m\u001b[0m\u001b[0m\n",
      "\u001b[0m\u001b[0;32m--> 126 \u001b[0;31m            \u001b[0;32mreturn\u001b[0m \u001b[0mret\u001b[0m\u001b[0;34m\u001b[0m\u001b[0;34m\u001b[0m\u001b[0m\n",
      "\u001b[0m\u001b[0;32m    127 \u001b[0;31m        \u001b[0;32mif\u001b[0m \u001b[0mtester_positive_number\u001b[0m\u001b[0;34m:\u001b[0m\u001b[0;34m\u001b[0m\u001b[0;34m\u001b[0m\u001b[0m\n",
      "\u001b[0m\u001b[0;32m    128 \u001b[0;31m\u001b[0;34m\u001b[0m\u001b[0m\n",
      "\u001b[0m\n"
     ]
    },
    {
     "name": "stdin",
     "output_type": "stream",
     "text": [
      "ipdb>  tester_positive_number\n"
     ]
    },
    {
     "name": "stdout",
     "output_type": "stream",
     "text": [
      "True\n"
     ]
    },
    {
     "name": "stdin",
     "output_type": "stream",
     "text": [
      "ipdb>  tester_n_test\n"
     ]
    },
    {
     "name": "stdout",
     "output_type": "stream",
     "text": [
      "149\n"
     ]
    },
    {
     "name": "stdin",
     "output_type": "stream",
     "text": [
      "ipdb>  c\n"
     ]
    }
   ],
   "source": [
    "\n",
    "\n",
    "ret = test(\n",
    "            df0=df0,\n",
    "            df1=df1,\n",
    "            df0_label=\"y\",\n",
    "            df1_label=\"y\",\n",
    "            p_pos_train_z0=combination[0],\n",
    "            p_pos_train_z1=combination[1],\n",
    "            p_mix_z1=combination[2],\n",
    "            alpha_test=combination[3],\n",
    "            train_test_ratio=combination[4],\n",
    "            n_test=combination[5],\n",
    "            n_test_error=combination[6],\n",
    "        )"
   ]
  },
  {
   "cell_type": "code",
   "execution_count": 138,
   "id": "abd15724-7754-4a75-b4d5-0e65c5134368",
   "metadata": {
    "execution": {
     "iopub.execute_input": "2023-02-15T07:17:16.587112Z",
     "iopub.status.busy": "2023-02-15T07:17:16.586403Z",
     "iopub.status.idle": "2023-02-15T07:17:16.595484Z",
     "shell.execute_reply": "2023-02-15T07:17:16.594802Z",
     "shell.execute_reply.started": "2023-02-15T07:17:16.587047Z"
    },
    "tags": []
   },
   "outputs": [
    {
     "data": {
      "text/plain": [
       "{'n_df0_train_pos': 30,\n",
       " 'n_df0_test_pos': 44,\n",
       " 'n_df0_train_neg': 270,\n",
       " 'n_df0_test_neg': 31,\n",
       " 'n_df1_train_pos': 180,\n",
       " 'n_df1_test_pos': 8,\n",
       " 'n_df1_train_neg': 120,\n",
       " 'n_df1_test_neg': 66,\n",
       " 'mix_param_dict': {'p_pos_train_z0': 0.1,\n",
       "  'p_pos_train_z1': 0.6,\n",
       "  'p_pos_train': 0.35,\n",
       "  'p_pos_test': 0.35,\n",
       "  'p_mix_z0': 0.5,\n",
       "  'p_mix_z1': 0.5,\n",
       "  'alpha_train': 5.999999999999999,\n",
       "  'alpha_test': 0.2,\n",
       "  'p_pos_test_z0': 0.5833333333333334,\n",
       "  'p_pos_test_z1': 0.11666666666666668,\n",
       "  'C_y': 0.35,\n",
       "  'C_z': 0.5}}"
      ]
     },
     "execution_count": 138,
     "metadata": {},
     "output_type": "execute_result"
    }
   ],
   "source": [
    "ret"
   ]
  },
  {
   "cell_type": "code",
   "execution_count": null,
   "id": "46833ce4-a6cf-4020-91e1-108d7c181ce6",
   "metadata": {},
   "outputs": [],
   "source": []
  },
  {
   "cell_type": "code",
   "execution_count": null,
   "id": "eaa12732-f1cd-4d73-af2b-b332b097f401",
   "metadata": {},
   "outputs": [],
   "source": []
  },
  {
   "cell_type": "code",
   "execution_count": null,
   "id": "44888bc5-7038-432f-99fe-735fe3516349",
   "metadata": {},
   "outputs": [],
   "source": []
  },
  {
   "cell_type": "code",
   "execution_count": null,
   "id": "990236a9-8dde-49e0-99cd-aa50f23561de",
   "metadata": {},
   "outputs": [],
   "source": []
  },
  {
   "cell_type": "code",
   "execution_count": 115,
   "id": "1b5fbf9f-a2bd-498e-9e61-dc4103a502b3",
   "metadata": {
    "execution": {
     "iopub.execute_input": "2023-02-15T06:35:12.999535Z",
     "iopub.status.busy": "2023-02-15T06:35:12.998773Z",
     "iopub.status.idle": "2023-02-15T06:35:13.035137Z",
     "shell.execute_reply": "2023-02-15T06:35:13.034481Z",
     "shell.execute_reply.started": "2023-02-15T06:35:12.999467Z"
    },
    "tags": []
   },
   "outputs": [
    {
     "data": {
      "text/html": [
       "<div>\n",
       "<style scoped>\n",
       "    .dataframe tbody tr th:only-of-type {\n",
       "        vertical-align: middle;\n",
       "    }\n",
       "\n",
       "    .dataframe tbody tr th {\n",
       "        vertical-align: top;\n",
       "    }\n",
       "\n",
       "    .dataframe thead th {\n",
       "        text-align: right;\n",
       "    }\n",
       "</style>\n",
       "<table border=\"1\" class=\"dataframe\">\n",
       "  <thead>\n",
       "    <tr style=\"text-align: right;\">\n",
       "      <th></th>\n",
       "      <th>n_df0_train_pos</th>\n",
       "      <th>n_df0_test_pos</th>\n",
       "      <th>n_df0_train_neg</th>\n",
       "      <th>n_df0_test_neg</th>\n",
       "      <th>n_df1_train_pos</th>\n",
       "      <th>n_df1_test_pos</th>\n",
       "      <th>n_df1_train_neg</th>\n",
       "      <th>n_df1_test_neg</th>\n",
       "      <th>p_pos_train_z0</th>\n",
       "      <th>p_pos_train_z1</th>\n",
       "      <th>p_pos_train</th>\n",
       "      <th>p_pos_test</th>\n",
       "      <th>p_mix_z0</th>\n",
       "      <th>p_mix_z1</th>\n",
       "      <th>alpha_train</th>\n",
       "      <th>alpha_test</th>\n",
       "      <th>p_pos_test_z0</th>\n",
       "      <th>p_pos_test_z1</th>\n",
       "      <th>C_y</th>\n",
       "      <th>C_z</th>\n",
       "    </tr>\n",
       "  </thead>\n",
       "  <tbody>\n",
       "    <tr>\n",
       "      <th>90</th>\n",
       "      <td>54</td>\n",
       "      <td>11</td>\n",
       "      <td>486</td>\n",
       "      <td>124</td>\n",
       "      <td>12</td>\n",
       "      <td>6</td>\n",
       "      <td>48</td>\n",
       "      <td>9</td>\n",
       "      <td>0.1</td>\n",
       "      <td>0.2</td>\n",
       "      <td>0.11</td>\n",
       "      <td>0.11</td>\n",
       "      <td>0.9</td>\n",
       "      <td>0.1</td>\n",
       "      <td>2.0</td>\n",
       "      <td>4.8</td>\n",
       "      <td>0.079710</td>\n",
       "      <td>0.382609</td>\n",
       "      <td>0.11</td>\n",
       "      <td>0.1</td>\n",
       "    </tr>\n",
       "    <tr>\n",
       "      <th>187</th>\n",
       "      <td>48</td>\n",
       "      <td>8</td>\n",
       "      <td>432</td>\n",
       "      <td>112</td>\n",
       "      <td>24</td>\n",
       "      <td>10</td>\n",
       "      <td>96</td>\n",
       "      <td>20</td>\n",
       "      <td>0.1</td>\n",
       "      <td>0.2</td>\n",
       "      <td>0.12</td>\n",
       "      <td>0.12</td>\n",
       "      <td>0.8</td>\n",
       "      <td>0.2</td>\n",
       "      <td>2.0</td>\n",
       "      <td>4.8</td>\n",
       "      <td>0.068182</td>\n",
       "      <td>0.327273</td>\n",
       "      <td>0.12</td>\n",
       "      <td>0.2</td>\n",
       "    </tr>\n",
       "    <tr>\n",
       "      <th>285</th>\n",
       "      <td>42</td>\n",
       "      <td>6</td>\n",
       "      <td>378</td>\n",
       "      <td>99</td>\n",
       "      <td>36</td>\n",
       "      <td>13</td>\n",
       "      <td>144</td>\n",
       "      <td>32</td>\n",
       "      <td>0.1</td>\n",
       "      <td>0.2</td>\n",
       "      <td>0.13</td>\n",
       "      <td>0.13</td>\n",
       "      <td>0.7</td>\n",
       "      <td>0.3</td>\n",
       "      <td>2.0</td>\n",
       "      <td>4.8</td>\n",
       "      <td>0.060748</td>\n",
       "      <td>0.291589</td>\n",
       "      <td>0.13</td>\n",
       "      <td>0.3</td>\n",
       "    </tr>\n",
       "    <tr>\n",
       "      <th>380</th>\n",
       "      <td>54</td>\n",
       "      <td>15</td>\n",
       "      <td>486</td>\n",
       "      <td>120</td>\n",
       "      <td>36</td>\n",
       "      <td>8</td>\n",
       "      <td>24</td>\n",
       "      <td>7</td>\n",
       "      <td>0.1</td>\n",
       "      <td>0.6</td>\n",
       "      <td>0.15</td>\n",
       "      <td>0.15</td>\n",
       "      <td>0.9</td>\n",
       "      <td>0.1</td>\n",
       "      <td>6.0</td>\n",
       "      <td>4.8</td>\n",
       "      <td>0.108696</td>\n",
       "      <td>0.521739</td>\n",
       "      <td>0.15</td>\n",
       "      <td>0.1</td>\n",
       "    </tr>\n",
       "    <tr>\n",
       "      <th>478</th>\n",
       "      <td>48</td>\n",
       "      <td>14</td>\n",
       "      <td>432</td>\n",
       "      <td>106</td>\n",
       "      <td>72</td>\n",
       "      <td>16</td>\n",
       "      <td>48</td>\n",
       "      <td>14</td>\n",
       "      <td>0.1</td>\n",
       "      <td>0.6</td>\n",
       "      <td>0.20</td>\n",
       "      <td>0.20</td>\n",
       "      <td>0.8</td>\n",
       "      <td>0.2</td>\n",
       "      <td>6.0</td>\n",
       "      <td>4.8</td>\n",
       "      <td>0.113636</td>\n",
       "      <td>0.545455</td>\n",
       "      <td>0.20</td>\n",
       "      <td>0.2</td>\n",
       "    </tr>\n",
       "    <tr>\n",
       "      <th>577</th>\n",
       "      <td>42</td>\n",
       "      <td>12</td>\n",
       "      <td>378</td>\n",
       "      <td>93</td>\n",
       "      <td>108</td>\n",
       "      <td>25</td>\n",
       "      <td>72</td>\n",
       "      <td>20</td>\n",
       "      <td>0.1</td>\n",
       "      <td>0.6</td>\n",
       "      <td>0.25</td>\n",
       "      <td>0.25</td>\n",
       "      <td>0.7</td>\n",
       "      <td>0.3</td>\n",
       "      <td>6.0</td>\n",
       "      <td>4.8</td>\n",
       "      <td>0.116822</td>\n",
       "      <td>0.560748</td>\n",
       "      <td>0.25</td>\n",
       "      <td>0.3</td>\n",
       "    </tr>\n",
       "    <tr>\n",
       "      <th>676</th>\n",
       "      <td>36</td>\n",
       "      <td>11</td>\n",
       "      <td>324</td>\n",
       "      <td>79</td>\n",
       "      <td>144</td>\n",
       "      <td>34</td>\n",
       "      <td>96</td>\n",
       "      <td>26</td>\n",
       "      <td>0.1</td>\n",
       "      <td>0.6</td>\n",
       "      <td>0.30</td>\n",
       "      <td>0.30</td>\n",
       "      <td>0.6</td>\n",
       "      <td>0.4</td>\n",
       "      <td>6.0</td>\n",
       "      <td>4.8</td>\n",
       "      <td>0.119048</td>\n",
       "      <td>0.571429</td>\n",
       "      <td>0.30</td>\n",
       "      <td>0.4</td>\n",
       "    </tr>\n",
       "    <tr>\n",
       "      <th>904</th>\n",
       "      <td>210</td>\n",
       "      <td>20</td>\n",
       "      <td>210</td>\n",
       "      <td>85</td>\n",
       "      <td>36</td>\n",
       "      <td>41</td>\n",
       "      <td>144</td>\n",
       "      <td>4</td>\n",
       "      <td>0.5</td>\n",
       "      <td>0.2</td>\n",
       "      <td>0.41</td>\n",
       "      <td>0.41</td>\n",
       "      <td>0.7</td>\n",
       "      <td>0.3</td>\n",
       "      <td>0.4</td>\n",
       "      <td>4.8</td>\n",
       "      <td>0.191589</td>\n",
       "      <td>0.919626</td>\n",
       "      <td>0.41</td>\n",
       "      <td>0.3</td>\n",
       "    </tr>\n",
       "    <tr>\n",
       "      <th>964</th>\n",
       "      <td>180</td>\n",
       "      <td>14</td>\n",
       "      <td>180</td>\n",
       "      <td>76</td>\n",
       "      <td>48</td>\n",
       "      <td>43</td>\n",
       "      <td>192</td>\n",
       "      <td>17</td>\n",
       "      <td>0.5</td>\n",
       "      <td>0.2</td>\n",
       "      <td>0.38</td>\n",
       "      <td>0.38</td>\n",
       "      <td>0.6</td>\n",
       "      <td>0.4</td>\n",
       "      <td>0.4</td>\n",
       "      <td>4.8</td>\n",
       "      <td>0.150794</td>\n",
       "      <td>0.723810</td>\n",
       "      <td>0.38</td>\n",
       "      <td>0.4</td>\n",
       "    </tr>\n",
       "  </tbody>\n",
       "</table>\n",
       "</div>"
      ],
      "text/plain": [
       "     n_df0_train_pos  n_df0_test_pos  n_df0_train_neg  n_df0_test_neg  \\\n",
       "90                54              11              486             124   \n",
       "187               48               8              432             112   \n",
       "285               42               6              378              99   \n",
       "380               54              15              486             120   \n",
       "478               48              14              432             106   \n",
       "577               42              12              378              93   \n",
       "676               36              11              324              79   \n",
       "904              210              20              210              85   \n",
       "964              180              14              180              76   \n",
       "\n",
       "     n_df1_train_pos  n_df1_test_pos  n_df1_train_neg  n_df1_test_neg  \\\n",
       "90                12               6               48               9   \n",
       "187               24              10               96              20   \n",
       "285               36              13              144              32   \n",
       "380               36               8               24               7   \n",
       "478               72              16               48              14   \n",
       "577              108              25               72              20   \n",
       "676              144              34               96              26   \n",
       "904               36              41              144               4   \n",
       "964               48              43              192              17   \n",
       "\n",
       "     p_pos_train_z0  p_pos_train_z1  p_pos_train  p_pos_test  p_mix_z0  \\\n",
       "90              0.1             0.2         0.11        0.11       0.9   \n",
       "187             0.1             0.2         0.12        0.12       0.8   \n",
       "285             0.1             0.2         0.13        0.13       0.7   \n",
       "380             0.1             0.6         0.15        0.15       0.9   \n",
       "478             0.1             0.6         0.20        0.20       0.8   \n",
       "577             0.1             0.6         0.25        0.25       0.7   \n",
       "676             0.1             0.6         0.30        0.30       0.6   \n",
       "904             0.5             0.2         0.41        0.41       0.7   \n",
       "964             0.5             0.2         0.38        0.38       0.6   \n",
       "\n",
       "     p_mix_z1  alpha_train  alpha_test  p_pos_test_z0  p_pos_test_z1   C_y  \\\n",
       "90        0.1          2.0         4.8       0.079710       0.382609  0.11   \n",
       "187       0.2          2.0         4.8       0.068182       0.327273  0.12   \n",
       "285       0.3          2.0         4.8       0.060748       0.291589  0.13   \n",
       "380       0.1          6.0         4.8       0.108696       0.521739  0.15   \n",
       "478       0.2          6.0         4.8       0.113636       0.545455  0.20   \n",
       "577       0.3          6.0         4.8       0.116822       0.560748  0.25   \n",
       "676       0.4          6.0         4.8       0.119048       0.571429  0.30   \n",
       "904       0.3          0.4         4.8       0.191589       0.919626  0.41   \n",
       "964       0.4          0.4         4.8       0.150794       0.723810  0.38   \n",
       "\n",
       "     C_z  \n",
       "90   0.1  \n",
       "187  0.2  \n",
       "285  0.3  \n",
       "380  0.1  \n",
       "478  0.2  \n",
       "577  0.3  \n",
       "676  0.4  \n",
       "904  0.3  \n",
       "964  0.4  "
      ]
     },
     "execution_count": 115,
     "metadata": {},
     "output_type": "execute_result"
    }
   ],
   "source": [
    "df2.query(\"alpha_test == 4.800000000000001\")"
   ]
  },
  {
   "cell_type": "code",
   "execution_count": 117,
   "id": "2858b078-4e9b-41a6-927e-738a443a542a",
   "metadata": {
    "execution": {
     "iopub.execute_input": "2023-02-15T06:52:36.625440Z",
     "iopub.status.busy": "2023-02-15T06:52:36.624560Z",
     "iopub.status.idle": "2023-02-15T06:52:36.663069Z",
     "shell.execute_reply": "2023-02-15T06:52:36.662294Z",
     "shell.execute_reply.started": "2023-02-15T06:52:36.625369Z"
    },
    "tags": []
   },
   "outputs": [
    {
     "data": {
      "text/html": [
       "<div>\n",
       "<style scoped>\n",
       "    .dataframe tbody tr th:only-of-type {\n",
       "        vertical-align: middle;\n",
       "    }\n",
       "\n",
       "    .dataframe tbody tr th {\n",
       "        vertical-align: top;\n",
       "    }\n",
       "\n",
       "    .dataframe thead th {\n",
       "        text-align: right;\n",
       "    }\n",
       "</style>\n",
       "<table border=\"1\" class=\"dataframe\">\n",
       "  <thead>\n",
       "    <tr style=\"text-align: right;\">\n",
       "      <th></th>\n",
       "      <th>n_df0_train_pos</th>\n",
       "      <th>n_df0_test_pos</th>\n",
       "      <th>n_df0_train_neg</th>\n",
       "      <th>n_df0_test_neg</th>\n",
       "      <th>n_df1_train_pos</th>\n",
       "      <th>n_df1_test_pos</th>\n",
       "      <th>n_df1_train_neg</th>\n",
       "      <th>n_df1_test_neg</th>\n",
       "      <th>p_pos_train_z0</th>\n",
       "      <th>p_pos_train_z1</th>\n",
       "      <th>p_pos_train</th>\n",
       "      <th>p_pos_test</th>\n",
       "      <th>p_mix_z0</th>\n",
       "      <th>p_mix_z1</th>\n",
       "      <th>alpha_train</th>\n",
       "      <th>alpha_test</th>\n",
       "      <th>p_pos_test_z0</th>\n",
       "      <th>p_pos_test_z1</th>\n",
       "      <th>C_y</th>\n",
       "      <th>C_z</th>\n",
       "    </tr>\n",
       "  </thead>\n",
       "  <tbody>\n",
       "    <tr>\n",
       "      <th>0</th>\n",
       "      <td>54</td>\n",
       "      <td>16</td>\n",
       "      <td>486</td>\n",
       "      <td>119</td>\n",
       "      <td>12</td>\n",
       "      <td>1</td>\n",
       "      <td>48</td>\n",
       "      <td>14</td>\n",
       "      <td>0.1</td>\n",
       "      <td>0.2</td>\n",
       "      <td>0.11</td>\n",
       "      <td>0.11</td>\n",
       "      <td>0.9</td>\n",
       "      <td>0.1</td>\n",
       "      <td>2.0</td>\n",
       "      <td>0.30</td>\n",
       "      <td>0.118280</td>\n",
       "      <td>0.035484</td>\n",
       "      <td>0.11</td>\n",
       "      <td>0.1</td>\n",
       "    </tr>\n",
       "    <tr>\n",
       "      <th>1</th>\n",
       "      <td>54</td>\n",
       "      <td>16</td>\n",
       "      <td>486</td>\n",
       "      <td>119</td>\n",
       "      <td>12</td>\n",
       "      <td>1</td>\n",
       "      <td>48</td>\n",
       "      <td>14</td>\n",
       "      <td>0.1</td>\n",
       "      <td>0.2</td>\n",
       "      <td>0.11</td>\n",
       "      <td>0.11</td>\n",
       "      <td>0.9</td>\n",
       "      <td>0.1</td>\n",
       "      <td>2.0</td>\n",
       "      <td>0.35</td>\n",
       "      <td>0.117647</td>\n",
       "      <td>0.041176</td>\n",
       "      <td>0.11</td>\n",
       "      <td>0.1</td>\n",
       "    </tr>\n",
       "    <tr>\n",
       "      <th>2</th>\n",
       "      <td>54</td>\n",
       "      <td>16</td>\n",
       "      <td>486</td>\n",
       "      <td>119</td>\n",
       "      <td>12</td>\n",
       "      <td>1</td>\n",
       "      <td>48</td>\n",
       "      <td>14</td>\n",
       "      <td>0.1</td>\n",
       "      <td>0.2</td>\n",
       "      <td>0.11</td>\n",
       "      <td>0.11</td>\n",
       "      <td>0.9</td>\n",
       "      <td>0.1</td>\n",
       "      <td>2.0</td>\n",
       "      <td>0.40</td>\n",
       "      <td>0.117021</td>\n",
       "      <td>0.046809</td>\n",
       "      <td>0.11</td>\n",
       "      <td>0.1</td>\n",
       "    </tr>\n",
       "    <tr>\n",
       "      <th>3</th>\n",
       "      <td>54</td>\n",
       "      <td>16</td>\n",
       "      <td>486</td>\n",
       "      <td>119</td>\n",
       "      <td>12</td>\n",
       "      <td>1</td>\n",
       "      <td>48</td>\n",
       "      <td>14</td>\n",
       "      <td>0.1</td>\n",
       "      <td>0.2</td>\n",
       "      <td>0.11</td>\n",
       "      <td>0.11</td>\n",
       "      <td>0.9</td>\n",
       "      <td>0.1</td>\n",
       "      <td>2.0</td>\n",
       "      <td>0.45</td>\n",
       "      <td>0.116402</td>\n",
       "      <td>0.052381</td>\n",
       "      <td>0.11</td>\n",
       "      <td>0.1</td>\n",
       "    </tr>\n",
       "    <tr>\n",
       "      <th>4</th>\n",
       "      <td>54</td>\n",
       "      <td>16</td>\n",
       "      <td>486</td>\n",
       "      <td>119</td>\n",
       "      <td>12</td>\n",
       "      <td>1</td>\n",
       "      <td>48</td>\n",
       "      <td>14</td>\n",
       "      <td>0.1</td>\n",
       "      <td>0.2</td>\n",
       "      <td>0.11</td>\n",
       "      <td>0.11</td>\n",
       "      <td>0.9</td>\n",
       "      <td>0.1</td>\n",
       "      <td>2.0</td>\n",
       "      <td>0.50</td>\n",
       "      <td>0.115789</td>\n",
       "      <td>0.057895</td>\n",
       "      <td>0.11</td>\n",
       "      <td>0.1</td>\n",
       "    </tr>\n",
       "    <tr>\n",
       "      <th>...</th>\n",
       "      <td>...</td>\n",
       "      <td>...</td>\n",
       "      <td>...</td>\n",
       "      <td>...</td>\n",
       "      <td>...</td>\n",
       "      <td>...</td>\n",
       "      <td>...</td>\n",
       "      <td>...</td>\n",
       "      <td>...</td>\n",
       "      <td>...</td>\n",
       "      <td>...</td>\n",
       "      <td>...</td>\n",
       "      <td>...</td>\n",
       "      <td>...</td>\n",
       "      <td>...</td>\n",
       "      <td>...</td>\n",
       "      <td>...</td>\n",
       "      <td>...</td>\n",
       "      <td>...</td>\n",
       "      <td>...</td>\n",
       "    </tr>\n",
       "    <tr>\n",
       "      <th>1201</th>\n",
       "      <td>150</td>\n",
       "      <td>66</td>\n",
       "      <td>150</td>\n",
       "      <td>9</td>\n",
       "      <td>180</td>\n",
       "      <td>17</td>\n",
       "      <td>120</td>\n",
       "      <td>58</td>\n",
       "      <td>0.5</td>\n",
       "      <td>0.6</td>\n",
       "      <td>0.55</td>\n",
       "      <td>0.55</td>\n",
       "      <td>0.5</td>\n",
       "      <td>0.5</td>\n",
       "      <td>1.2</td>\n",
       "      <td>0.25</td>\n",
       "      <td>0.880000</td>\n",
       "      <td>0.220000</td>\n",
       "      <td>0.55</td>\n",
       "      <td>0.5</td>\n",
       "    </tr>\n",
       "    <tr>\n",
       "      <th>1202</th>\n",
       "      <td>150</td>\n",
       "      <td>63</td>\n",
       "      <td>150</td>\n",
       "      <td>12</td>\n",
       "      <td>180</td>\n",
       "      <td>19</td>\n",
       "      <td>120</td>\n",
       "      <td>56</td>\n",
       "      <td>0.5</td>\n",
       "      <td>0.6</td>\n",
       "      <td>0.55</td>\n",
       "      <td>0.55</td>\n",
       "      <td>0.5</td>\n",
       "      <td>0.5</td>\n",
       "      <td>1.2</td>\n",
       "      <td>0.30</td>\n",
       "      <td>0.846154</td>\n",
       "      <td>0.253846</td>\n",
       "      <td>0.55</td>\n",
       "      <td>0.5</td>\n",
       "    </tr>\n",
       "    <tr>\n",
       "      <th>1203</th>\n",
       "      <td>150</td>\n",
       "      <td>61</td>\n",
       "      <td>150</td>\n",
       "      <td>14</td>\n",
       "      <td>180</td>\n",
       "      <td>21</td>\n",
       "      <td>120</td>\n",
       "      <td>54</td>\n",
       "      <td>0.5</td>\n",
       "      <td>0.6</td>\n",
       "      <td>0.55</td>\n",
       "      <td>0.55</td>\n",
       "      <td>0.5</td>\n",
       "      <td>0.5</td>\n",
       "      <td>1.2</td>\n",
       "      <td>0.35</td>\n",
       "      <td>0.814815</td>\n",
       "      <td>0.285185</td>\n",
       "      <td>0.55</td>\n",
       "      <td>0.5</td>\n",
       "    </tr>\n",
       "    <tr>\n",
       "      <th>1204</th>\n",
       "      <td>150</td>\n",
       "      <td>59</td>\n",
       "      <td>150</td>\n",
       "      <td>16</td>\n",
       "      <td>180</td>\n",
       "      <td>24</td>\n",
       "      <td>120</td>\n",
       "      <td>51</td>\n",
       "      <td>0.5</td>\n",
       "      <td>0.6</td>\n",
       "      <td>0.55</td>\n",
       "      <td>0.55</td>\n",
       "      <td>0.5</td>\n",
       "      <td>0.5</td>\n",
       "      <td>1.2</td>\n",
       "      <td>0.40</td>\n",
       "      <td>0.785714</td>\n",
       "      <td>0.314286</td>\n",
       "      <td>0.55</td>\n",
       "      <td>0.5</td>\n",
       "    </tr>\n",
       "    <tr>\n",
       "      <th>1205</th>\n",
       "      <td>150</td>\n",
       "      <td>57</td>\n",
       "      <td>150</td>\n",
       "      <td>18</td>\n",
       "      <td>180</td>\n",
       "      <td>26</td>\n",
       "      <td>120</td>\n",
       "      <td>49</td>\n",
       "      <td>0.5</td>\n",
       "      <td>0.6</td>\n",
       "      <td>0.55</td>\n",
       "      <td>0.55</td>\n",
       "      <td>0.5</td>\n",
       "      <td>0.5</td>\n",
       "      <td>1.2</td>\n",
       "      <td>0.45</td>\n",
       "      <td>0.758621</td>\n",
       "      <td>0.341379</td>\n",
       "      <td>0.55</td>\n",
       "      <td>0.5</td>\n",
       "    </tr>\n",
       "  </tbody>\n",
       "</table>\n",
       "<p>1206 rows × 20 columns</p>\n",
       "</div>"
      ],
      "text/plain": [
       "      n_df0_train_pos  n_df0_test_pos  n_df0_train_neg  n_df0_test_neg  \\\n",
       "0                  54              16              486             119   \n",
       "1                  54              16              486             119   \n",
       "2                  54              16              486             119   \n",
       "3                  54              16              486             119   \n",
       "4                  54              16              486             119   \n",
       "...               ...             ...              ...             ...   \n",
       "1201              150              66              150               9   \n",
       "1202              150              63              150              12   \n",
       "1203              150              61              150              14   \n",
       "1204              150              59              150              16   \n",
       "1205              150              57              150              18   \n",
       "\n",
       "      n_df1_train_pos  n_df1_test_pos  n_df1_train_neg  n_df1_test_neg  \\\n",
       "0                  12               1               48              14   \n",
       "1                  12               1               48              14   \n",
       "2                  12               1               48              14   \n",
       "3                  12               1               48              14   \n",
       "4                  12               1               48              14   \n",
       "...               ...             ...              ...             ...   \n",
       "1201              180              17              120              58   \n",
       "1202              180              19              120              56   \n",
       "1203              180              21              120              54   \n",
       "1204              180              24              120              51   \n",
       "1205              180              26              120              49   \n",
       "\n",
       "      p_pos_train_z0  p_pos_train_z1  p_pos_train  p_pos_test  p_mix_z0  \\\n",
       "0                0.1             0.2         0.11        0.11       0.9   \n",
       "1                0.1             0.2         0.11        0.11       0.9   \n",
       "2                0.1             0.2         0.11        0.11       0.9   \n",
       "3                0.1             0.2         0.11        0.11       0.9   \n",
       "4                0.1             0.2         0.11        0.11       0.9   \n",
       "...              ...             ...          ...         ...       ...   \n",
       "1201             0.5             0.6         0.55        0.55       0.5   \n",
       "1202             0.5             0.6         0.55        0.55       0.5   \n",
       "1203             0.5             0.6         0.55        0.55       0.5   \n",
       "1204             0.5             0.6         0.55        0.55       0.5   \n",
       "1205             0.5             0.6         0.55        0.55       0.5   \n",
       "\n",
       "      p_mix_z1  alpha_train  alpha_test  p_pos_test_z0  p_pos_test_z1   C_y  \\\n",
       "0          0.1          2.0        0.30       0.118280       0.035484  0.11   \n",
       "1          0.1          2.0        0.35       0.117647       0.041176  0.11   \n",
       "2          0.1          2.0        0.40       0.117021       0.046809  0.11   \n",
       "3          0.1          2.0        0.45       0.116402       0.052381  0.11   \n",
       "4          0.1          2.0        0.50       0.115789       0.057895  0.11   \n",
       "...        ...          ...         ...            ...            ...   ...   \n",
       "1201       0.5          1.2        0.25       0.880000       0.220000  0.55   \n",
       "1202       0.5          1.2        0.30       0.846154       0.253846  0.55   \n",
       "1203       0.5          1.2        0.35       0.814815       0.285185  0.55   \n",
       "1204       0.5          1.2        0.40       0.785714       0.314286  0.55   \n",
       "1205       0.5          1.2        0.45       0.758621       0.341379  0.55   \n",
       "\n",
       "      C_z  \n",
       "0     0.1  \n",
       "1     0.1  \n",
       "2     0.1  \n",
       "3     0.1  \n",
       "4     0.1  \n",
       "...   ...  \n",
       "1201  0.5  \n",
       "1202  0.5  \n",
       "1203  0.5  \n",
       "1204  0.5  \n",
       "1205  0.5  \n",
       "\n",
       "[1206 rows x 20 columns]"
      ]
     },
     "execution_count": 117,
     "metadata": {},
     "output_type": "execute_result"
    }
   ],
   "source": [
    "df2.query(\"n_df0_train_pos >= 10\")"
   ]
  },
  {
   "cell_type": "code",
   "execution_count": null,
   "id": "eb003d7a-d02a-4b09-bcc1-2dd231cc5aef",
   "metadata": {},
   "outputs": [],
   "source": []
  },
  {
   "cell_type": "code",
   "execution_count": null,
   "id": "53583b73-6cc8-4ad5-bba1-797e5386290b",
   "metadata": {},
   "outputs": [],
   "source": []
  },
  {
   "cell_type": "code",
   "execution_count": null,
   "id": "9d457534-1338-4a4f-a617-66a45a6dc241",
   "metadata": {},
   "outputs": [],
   "source": []
  },
  {
   "cell_type": "code",
   "execution_count": null,
   "id": "f6fadc60-703d-477c-8992-e6cb0b4f6c81",
   "metadata": {},
   "outputs": [],
   "source": []
  },
  {
   "cell_type": "markdown",
   "id": "2c35506a-d328-49a6-ba9c-8bb40701f1c2",
   "metadata": {},
   "source": [
    "# Multi-level variables - one confounder"
   ]
  },
  {
   "cell_type": "markdown",
   "id": "93b962c7-bb29-4f01-9d87-b25c4292e42a",
   "metadata": {},
   "source": [
    "## Inner Stat Function"
   ]
  },
  {
   "cell_type": "code",
   "execution_count": 16,
   "id": "c4eb5dcd-7197-496f-89d5-64d2f8b56fe9",
   "metadata": {
    "execution": {
     "iopub.execute_input": "2023-02-16T21:29:09.798290Z",
     "iopub.status.busy": "2023-02-16T21:29:09.797453Z",
     "iopub.status.idle": "2023-02-16T21:29:09.805183Z",
     "shell.execute_reply": "2023-02-16T21:29:09.803485Z",
     "shell.execute_reply.started": "2023-02-16T21:29:09.798219Z"
    },
    "tags": []
   },
   "outputs": [],
   "source": [
    "import itertools"
   ]
  },
  {
   "cell_type": "code",
   "execution_count": 17,
   "id": "0c98c9a5-adbf-47b0-b925-ecc9556d2e2c",
   "metadata": {
    "execution": {
     "iopub.execute_input": "2023-02-16T21:21:31.502483Z",
     "iopub.status.busy": "2023-02-16T21:21:31.501813Z",
     "iopub.status.idle": "2023-02-16T21:21:31.512144Z",
     "shell.execute_reply": "2023-02-16T21:21:31.510657Z",
     "shell.execute_reply.started": "2023-02-16T21:21:31.502413Z"
    },
    "tags": []
   },
   "outputs": [],
   "source": [
    "\n",
    "p_train_y_given_z = [[0.1, 0.1, 0.8], \n",
    "                     [0.2, 0,   0.8], \n",
    "                     [0.7, 0.3, 0  ],\n",
    "                     [0.3, 0.3, 0.4]\n",
    "                    ]\n",
    "p_test_y_given_z = [[0.0, 0.7, 0.3], \n",
    "                     [0.1, 0.4, 0.5], \n",
    "                     [0.7, 0.3, 0  ],\n",
    "                     [0.2, 0.4, 0.4]\n",
    "                    ]\n",
    "p_z = [0.2, 0.2, 0.3, 0.3]"
   ]
  },
  {
   "cell_type": "code",
   "execution_count": 19,
   "id": "362345e1-f547-4696-8547-c624b2d807d3",
   "metadata": {
    "execution": {
     "iopub.execute_input": "2023-02-16T21:21:51.765175Z",
     "iopub.status.busy": "2023-02-16T21:21:51.764288Z",
     "iopub.status.idle": "2023-02-16T21:21:51.773378Z",
     "shell.execute_reply": "2023-02-16T21:21:51.771926Z",
     "shell.execute_reply.started": "2023-02-16T21:21:51.765048Z"
    },
    "tags": []
   },
   "outputs": [],
   "source": [
    "if isinstance(p_train_y_given_z, list):\n",
    "    p_train_y_given_z = np.array(p_train_y_given_z)\n",
    "    \n",
    "if isinstance(p_test_y_given_z, list):\n",
    "    p_test_y_given_z = np.array(p_test_y_given_z)\n",
    "    \n",
    "if isinstance(p_z, list):\n",
    "    p_z = np.array(p_z)\n",
    "    "
   ]
  },
  {
   "cell_type": "code",
   "execution_count": 20,
   "id": "c6aacf2f-43f8-4afe-b4d6-34c3b24f93a0",
   "metadata": {
    "execution": {
     "iopub.execute_input": "2023-02-16T21:21:51.930827Z",
     "iopub.status.busy": "2023-02-16T21:21:51.930380Z",
     "iopub.status.idle": "2023-02-16T21:21:51.940022Z",
     "shell.execute_reply": "2023-02-16T21:21:51.938681Z",
     "shell.execute_reply.started": "2023-02-16T21:21:51.930786Z"
    },
    "tags": []
   },
   "outputs": [
    {
     "data": {
      "text/plain": [
       "array([[0.1, 0.1, 0.8],\n",
       "       [0.2, 0. , 0.8],\n",
       "       [0.7, 0.3, 0. ],\n",
       "       [0.3, 0.3, 0.4]])"
      ]
     },
     "execution_count": 20,
     "metadata": {},
     "output_type": "execute_result"
    }
   ],
   "source": [
    "p_train_y_given_z"
   ]
  },
  {
   "cell_type": "code",
   "execution_count": 21,
   "id": "f66b7c33-e721-45db-9d13-76d4d6fa80d9",
   "metadata": {
    "execution": {
     "iopub.execute_input": "2023-02-16T21:21:52.089679Z",
     "iopub.status.busy": "2023-02-16T21:21:52.088934Z",
     "iopub.status.idle": "2023-02-16T21:21:52.097955Z",
     "shell.execute_reply": "2023-02-16T21:21:52.097153Z",
     "shell.execute_reply.started": "2023-02-16T21:21:52.089611Z"
    },
    "tags": []
   },
   "outputs": [
    {
     "data": {
      "text/plain": [
       "array([[0. , 0.7, 0.3],\n",
       "       [0.1, 0.4, 0.5],\n",
       "       [0.7, 0.3, 0. ],\n",
       "       [0.2, 0.4, 0.4]])"
      ]
     },
     "execution_count": 21,
     "metadata": {},
     "output_type": "execute_result"
    }
   ],
   "source": [
    "p_test_y_given_z"
   ]
  },
  {
   "cell_type": "code",
   "execution_count": 22,
   "id": "612fbf41-6c48-48e7-8048-620b3a66629e",
   "metadata": {
    "execution": {
     "iopub.execute_input": "2023-02-16T21:21:52.249377Z",
     "iopub.status.busy": "2023-02-16T21:21:52.248782Z",
     "iopub.status.idle": "2023-02-16T21:21:52.256880Z",
     "shell.execute_reply": "2023-02-16T21:21:52.255520Z",
     "shell.execute_reply.started": "2023-02-16T21:21:52.249323Z"
    },
    "tags": []
   },
   "outputs": [],
   "source": [
    "# quality check\n",
    "assert np.all(p_train_y_given_z.sum(axis=1) == 1)\n",
    "assert np.all(p_test_y_given_z.sum(axis=1) == 1)\n",
    "assert np.all(p_z.sum() == 1)\n",
    "\n",
    "assert p_train_y_given_z.shape == p_test_y_given_z.shape"
   ]
  },
  {
   "cell_type": "code",
   "execution_count": null,
   "id": "3e924646-8d18-4bd3-869b-a64ba4db0f73",
   "metadata": {},
   "outputs": [],
   "source": []
  },
  {
   "cell_type": "code",
   "execution_count": null,
   "id": "3dd71383-7149-494f-a393-c072d216d815",
   "metadata": {},
   "outputs": [],
   "source": []
  },
  {
   "cell_type": "markdown",
   "id": "323eeeb3-03f0-4eea-b213-c066e0159fb1",
   "metadata": {},
   "source": [
    "## Generate Numbers"
   ]
  },
  {
   "cell_type": "code",
   "execution_count": 1,
   "id": "09931254-debc-4212-8a69-357b4e92cfed",
   "metadata": {
    "execution": {
     "iopub.execute_input": "2023-02-16T21:28:32.012309Z",
     "iopub.status.busy": "2023-02-16T21:28:32.011471Z",
     "iopub.status.idle": "2023-02-16T21:28:32.302326Z",
     "shell.execute_reply": "2023-02-16T21:28:32.301453Z",
     "shell.execute_reply.started": "2023-02-16T21:28:32.012132Z"
    },
    "tags": []
   },
   "outputs": [],
   "source": [
    "import random\n",
    "import numpy as np\n",
    "import pandas as pd"
   ]
  },
  {
   "cell_type": "markdown",
   "id": "52593374-93e1-4dc1-9f66-c6d8e6a9f3ee",
   "metadata": {},
   "source": [
    "### Toy Dataset"
   ]
  },
  {
   "cell_type": "code",
   "execution_count": 2,
   "id": "c331d49a-642a-4dd1-9a8d-7fa0e299b553",
   "metadata": {
    "execution": {
     "iopub.execute_input": "2023-02-16T21:28:33.028376Z",
     "iopub.status.busy": "2023-02-16T21:28:33.027510Z",
     "iopub.status.idle": "2023-02-16T21:28:33.037519Z",
     "shell.execute_reply": "2023-02-16T21:28:33.035896Z",
     "shell.execute_reply.started": "2023-02-16T21:28:33.028307Z"
    },
    "scrolled": true,
    "tags": []
   },
   "outputs": [],
   "source": [
    "random.seed(2)\n",
    "z = random.choices(population=range(4), weights=[0.3,0.2,0.1,0.4], k=1000)"
   ]
  },
  {
   "cell_type": "code",
   "execution_count": 3,
   "id": "59227283-c810-4368-a230-66b9710bb691",
   "metadata": {
    "execution": {
     "iopub.execute_input": "2023-02-16T21:28:35.701093Z",
     "iopub.status.busy": "2023-02-16T21:28:35.700303Z",
     "iopub.status.idle": "2023-02-16T21:28:35.720600Z",
     "shell.execute_reply": "2023-02-16T21:28:35.719305Z",
     "shell.execute_reply.started": "2023-02-16T21:28:35.701022Z"
    },
    "tags": []
   },
   "outputs": [
    {
     "data": {
      "text/plain": [
       "(array([0, 1, 2, 3]), array([287, 209, 102, 402]))"
      ]
     },
     "execution_count": 3,
     "metadata": {},
     "output_type": "execute_result"
    }
   ],
   "source": [
    "np.unique(z, return_counts=True)"
   ]
  },
  {
   "cell_type": "code",
   "execution_count": 4,
   "id": "8cba87d8-c153-4242-9857-bd2132291e1b",
   "metadata": {
    "execution": {
     "iopub.execute_input": "2023-02-16T21:28:36.202154Z",
     "iopub.status.busy": "2023-02-16T21:28:36.201381Z",
     "iopub.status.idle": "2023-02-16T21:28:36.222361Z",
     "shell.execute_reply": "2023-02-16T21:28:36.221541Z",
     "shell.execute_reply.started": "2023-02-16T21:28:36.202088Z"
    },
    "tags": []
   },
   "outputs": [],
   "source": [
    "random.seed(2)\n",
    "\n",
    "choices = []\n",
    "for i in z:\n",
    "    if i == 0:\n",
    "        weights = [0.2,0.5,0.3]\n",
    "    elif i == 1:\n",
    "        weights = [0.3,0.3,0.4]\n",
    "    elif i == 2:\n",
    "        weights = [0.2,0.8,0]\n",
    "    elif i == 3:\n",
    "        weights = [0.1,0.7,0.2]\n",
    "    else:\n",
    "        os.error()\n",
    "    \n",
    "    _choices = random.choices(population=range(3), weights=weights, k=10)\n",
    "    choices.append(_choices)"
   ]
  },
  {
   "cell_type": "code",
   "execution_count": 5,
   "id": "e943bc5e-a272-4453-b774-1c02cc54bfa6",
   "metadata": {
    "execution": {
     "iopub.execute_input": "2023-02-16T21:28:37.057440Z",
     "iopub.status.busy": "2023-02-16T21:28:37.056633Z",
     "iopub.status.idle": "2023-02-16T21:28:37.070941Z",
     "shell.execute_reply": "2023-02-16T21:28:37.070148Z",
     "shell.execute_reply.started": "2023-02-16T21:28:37.057371Z"
    },
    "tags": []
   },
   "outputs": [],
   "source": [
    "df = pd.DataFrame({\"z\":np.repeat(z, 10),\n",
    "                   \"y\":np.array(choices).flatten()\n",
    "                  })"
   ]
  },
  {
   "cell_type": "code",
   "execution_count": 6,
   "id": "2c17a13c-3e13-421b-98bd-4a274532fa0d",
   "metadata": {
    "execution": {
     "iopub.execute_input": "2023-02-16T21:28:38.078022Z",
     "iopub.status.busy": "2023-02-16T21:28:38.077257Z",
     "iopub.status.idle": "2023-02-16T21:28:38.090799Z",
     "shell.execute_reply": "2023-02-16T21:28:38.090049Z",
     "shell.execute_reply.started": "2023-02-16T21:28:38.077961Z"
    },
    "tags": []
   },
   "outputs": [
    {
     "data": {
      "text/plain": [
       "z\n",
       "0    2870\n",
       "1    2090\n",
       "2    1020\n",
       "3    4020\n",
       "dtype: int64"
      ]
     },
     "execution_count": 6,
     "metadata": {},
     "output_type": "execute_result"
    }
   ],
   "source": [
    "df.groupby(\"z\").size()"
   ]
  },
  {
   "cell_type": "code",
   "execution_count": 7,
   "id": "b187f2f0-6ef3-4f19-a44b-b88f70f44278",
   "metadata": {
    "execution": {
     "iopub.execute_input": "2023-02-16T21:28:38.775929Z",
     "iopub.status.busy": "2023-02-16T21:28:38.775201Z",
     "iopub.status.idle": "2023-02-16T21:28:38.789167Z",
     "shell.execute_reply": "2023-02-16T21:28:38.788405Z",
     "shell.execute_reply.started": "2023-02-16T21:28:38.775864Z"
    },
    "tags": []
   },
   "outputs": [
    {
     "data": {
      "text/plain": [
       "z  y\n",
       "0  0     584\n",
       "   1    1431\n",
       "   2     855\n",
       "1  0     609\n",
       "   1     645\n",
       "   2     836\n",
       "2  0     235\n",
       "   1     785\n",
       "3  0     390\n",
       "   1    2844\n",
       "   2     786\n",
       "dtype: int64"
      ]
     },
     "execution_count": 7,
     "metadata": {},
     "output_type": "execute_result"
    }
   ],
   "source": [
    "df.groupby([\"z\",\"y\"]).size()"
   ]
  },
  {
   "cell_type": "code",
   "execution_count": 8,
   "id": "2c1dd2a0-8fa9-4e06-a0e2-5205e5898415",
   "metadata": {
    "execution": {
     "iopub.execute_input": "2023-02-16T21:28:40.005265Z",
     "iopub.status.busy": "2023-02-16T21:28:40.004444Z",
     "iopub.status.idle": "2023-02-16T21:28:40.011283Z",
     "shell.execute_reply": "2023-02-16T21:28:40.009888Z",
     "shell.execute_reply.started": "2023-02-16T21:28:40.005194Z"
    },
    "tags": []
   },
   "outputs": [],
   "source": [
    "zC = ['Hosp_A','Hosp_B','Hosp_C', 'Hosp_D']\n",
    "yC = ['none','benign', 'malignant']"
   ]
  },
  {
   "cell_type": "code",
   "execution_count": 9,
   "id": "f0c1dc40-6324-403a-841a-e78c0701efbf",
   "metadata": {
    "execution": {
     "iopub.execute_input": "2023-02-16T21:28:40.528938Z",
     "iopub.status.busy": "2023-02-16T21:28:40.528385Z",
     "iopub.status.idle": "2023-02-16T21:28:40.535352Z",
     "shell.execute_reply": "2023-02-16T21:28:40.534015Z",
     "shell.execute_reply.started": "2023-02-16T21:28:40.528887Z"
    },
    "tags": []
   },
   "outputs": [],
   "source": [
    "z_map = {idx: it for idx,it in enumerate(zC)}\n",
    "y_map = {idx: it for idx,it in enumerate(yC)}"
   ]
  },
  {
   "cell_type": "code",
   "execution_count": 10,
   "id": "0e45b477-492e-45c4-a6df-0dd6d4810d85",
   "metadata": {
    "execution": {
     "iopub.execute_input": "2023-02-16T21:28:42.156282Z",
     "iopub.status.busy": "2023-02-16T21:28:42.155523Z",
     "iopub.status.idle": "2023-02-16T21:28:42.171293Z",
     "shell.execute_reply": "2023-02-16T21:28:42.170418Z",
     "shell.execute_reply.started": "2023-02-16T21:28:42.156216Z"
    },
    "tags": []
   },
   "outputs": [],
   "source": [
    "df['zCategorical'] = df['z'].map(z_map)\n",
    "df['yCategorical'] = df['y'].map(y_map)"
   ]
  },
  {
   "cell_type": "code",
   "execution_count": 11,
   "id": "acebd2c2-a708-4f89-9ab7-a23223f96d4e",
   "metadata": {
    "execution": {
     "iopub.execute_input": "2023-02-16T21:28:44.216598Z",
     "iopub.status.busy": "2023-02-16T21:28:44.215809Z",
     "iopub.status.idle": "2023-02-16T21:28:44.234941Z",
     "shell.execute_reply": "2023-02-16T21:28:44.234193Z",
     "shell.execute_reply.started": "2023-02-16T21:28:44.216531Z"
    },
    "tags": []
   },
   "outputs": [
    {
     "data": {
      "text/plain": [
       "zCategorical  yCategorical\n",
       "Hosp_A        benign          1431\n",
       "              malignant        855\n",
       "              none             584\n",
       "Hosp_B        benign           645\n",
       "              malignant        836\n",
       "              none             609\n",
       "Hosp_C        benign           785\n",
       "              none             235\n",
       "Hosp_D        benign          2844\n",
       "              malignant        786\n",
       "              none             390\n",
       "dtype: int64"
      ]
     },
     "execution_count": 11,
     "metadata": {},
     "output_type": "execute_result"
    }
   ],
   "source": [
    "df.groupby([\"zCategorical\",\"yCategorical\"]).size()"
   ]
  },
  {
   "cell_type": "code",
   "execution_count": 34,
   "id": "d731bb52-4a74-43bc-a1d3-f0e2668d593b",
   "metadata": {
    "execution": {
     "iopub.execute_input": "2023-02-16T21:21:58.323426Z",
     "iopub.status.busy": "2023-02-16T21:21:58.322751Z",
     "iopub.status.idle": "2023-02-16T21:21:58.329303Z",
     "shell.execute_reply": "2023-02-16T21:21:58.327876Z",
     "shell.execute_reply.started": "2023-02-16T21:21:58.323360Z"
    },
    "tags": []
   },
   "outputs": [],
   "source": [
    "n_zC = len(zC)\n",
    "n_yC = len(yC)"
   ]
  },
  {
   "cell_type": "code",
   "execution_count": 35,
   "id": "09e2bd63-6124-4937-96be-17d7fe767be5",
   "metadata": {
    "execution": {
     "iopub.execute_input": "2023-02-16T21:21:58.488309Z",
     "iopub.status.busy": "2023-02-16T21:21:58.487546Z",
     "iopub.status.idle": "2023-02-16T21:21:58.494399Z",
     "shell.execute_reply": "2023-02-16T21:21:58.492999Z",
     "shell.execute_reply.started": "2023-02-16T21:21:58.488239Z"
    },
    "tags": []
   },
   "outputs": [],
   "source": [
    "assert p_train_y_given_z.shape == (n_zC, n_yC)"
   ]
  },
  {
   "cell_type": "code",
   "execution_count": null,
   "id": "86b43296-3cbf-4f53-8faf-54f6b4fc1bbd",
   "metadata": {},
   "outputs": [],
   "source": []
  },
  {
   "cell_type": "markdown",
   "id": "ba6fec7e-ee72-437c-af79-6d069c48f666",
   "metadata": {},
   "source": [
    "## Split"
   ]
  },
  {
   "cell_type": "code",
   "execution_count": 36,
   "id": "c006a6cf-b083-4714-9cc4-a84175bd0535",
   "metadata": {
    "execution": {
     "iopub.execute_input": "2023-02-16T21:22:06.821440Z",
     "iopub.status.busy": "2023-02-16T21:22:06.820579Z",
     "iopub.status.idle": "2023-02-16T21:22:06.827347Z",
     "shell.execute_reply": "2023-02-16T21:22:06.825970Z",
     "shell.execute_reply.started": "2023-02-16T21:22:06.821378Z"
    },
    "tags": []
   },
   "outputs": [],
   "source": [
    "n_test = 150\n",
    "n_error = 0\n",
    "\n",
    "n_train = n_test * 4  # train:test ratio"
   ]
  },
  {
   "cell_type": "code",
   "execution_count": null,
   "id": "80cc019d-4d5a-4a5e-973b-9952b55aa014",
   "metadata": {},
   "outputs": [],
   "source": []
  },
  {
   "cell_type": "code",
   "execution_count": 37,
   "id": "aa0a0589-c58d-4d82-8163-33378154493a",
   "metadata": {
    "execution": {
     "iopub.execute_input": "2023-02-16T21:22:07.656372Z",
     "iopub.status.busy": "2023-02-16T21:22:07.655571Z",
     "iopub.status.idle": "2023-02-16T21:22:07.666277Z",
     "shell.execute_reply": "2023-02-16T21:22:07.664682Z",
     "shell.execute_reply.started": "2023-02-16T21:22:07.656299Z"
    },
    "tags": []
   },
   "outputs": [
    {
     "data": {
      "text/plain": [
       "array([[0. , 0.7, 0.3],\n",
       "       [0.1, 0.4, 0.5],\n",
       "       [0.7, 0.3, 0. ],\n",
       "       [0.2, 0.4, 0.4]])"
      ]
     },
     "execution_count": 37,
     "metadata": {},
     "output_type": "execute_result"
    }
   ],
   "source": [
    "p_test_y_given_z"
   ]
  },
  {
   "cell_type": "code",
   "execution_count": 38,
   "id": "433553c3-39fd-449f-8d69-6be5ee5eb35a",
   "metadata": {
    "execution": {
     "iopub.execute_input": "2023-02-16T21:22:07.880695Z",
     "iopub.status.busy": "2023-02-16T21:22:07.879954Z",
     "iopub.status.idle": "2023-02-16T21:22:07.889763Z",
     "shell.execute_reply": "2023-02-16T21:22:07.888390Z",
     "shell.execute_reply.started": "2023-02-16T21:22:07.880626Z"
    },
    "tags": []
   },
   "outputs": [
    {
     "data": {
      "text/plain": [
       "array([0.2, 0.2, 0.3, 0.3])"
      ]
     },
     "execution_count": 38,
     "metadata": {},
     "output_type": "execute_result"
    }
   ],
   "source": [
    "p_z"
   ]
  },
  {
   "cell_type": "code",
   "execution_count": 39,
   "id": "a874b7bf-d78d-4a74-8b4b-1a543313c9aa",
   "metadata": {
    "execution": {
     "iopub.execute_input": "2023-02-16T21:22:08.036476Z",
     "iopub.status.busy": "2023-02-16T21:22:08.035693Z",
     "iopub.status.idle": "2023-02-16T21:22:08.046957Z",
     "shell.execute_reply": "2023-02-16T21:22:08.045816Z",
     "shell.execute_reply.started": "2023-02-16T21:22:08.036400Z"
    },
    "tags": []
   },
   "outputs": [
    {
     "data": {
      "text/plain": [
       "array([30., 30., 45., 45.])"
      ]
     },
     "execution_count": 39,
     "metadata": {},
     "output_type": "execute_result"
    }
   ],
   "source": [
    "(p_z * n_test).round(0)"
   ]
  },
  {
   "cell_type": "code",
   "execution_count": null,
   "id": "91156d61-2062-4d34-9c8f-1ce371decbed",
   "metadata": {},
   "outputs": [],
   "source": []
  },
  {
   "cell_type": "code",
   "execution_count": 40,
   "id": "5584088f-ebf6-41ba-97f1-a449eb4a053b",
   "metadata": {
    "execution": {
     "iopub.execute_input": "2023-02-16T21:22:08.359725Z",
     "iopub.status.busy": "2023-02-16T21:22:08.358957Z",
     "iopub.status.idle": "2023-02-16T21:22:08.370392Z",
     "shell.execute_reply": "2023-02-16T21:22:08.369074Z",
     "shell.execute_reply.started": "2023-02-16T21:22:08.359655Z"
    },
    "tags": []
   },
   "outputs": [
    {
     "data": {
      "text/plain": [
       "array([[30., 30., 30.],\n",
       "       [30., 30., 30.],\n",
       "       [45., 45., 45.],\n",
       "       [45., 45., 45.]])"
      ]
     },
     "execution_count": 40,
     "metadata": {},
     "output_type": "execute_result"
    }
   ],
   "source": [
    "(p_z * n_test).round(0).repeat(n_yC).reshape(n_zC, n_yC)"
   ]
  },
  {
   "cell_type": "code",
   "execution_count": 41,
   "id": "b7dee37c-0333-495b-af93-f1391fa9b5ca",
   "metadata": {
    "execution": {
     "iopub.execute_input": "2023-02-16T21:22:08.529452Z",
     "iopub.status.busy": "2023-02-16T21:22:08.529067Z",
     "iopub.status.idle": "2023-02-16T21:22:08.536177Z",
     "shell.execute_reply": "2023-02-16T21:22:08.535349Z",
     "shell.execute_reply.started": "2023-02-16T21:22:08.529418Z"
    },
    "tags": []
   },
   "outputs": [
    {
     "data": {
      "text/plain": [
       "array([[30., 30., 30.],\n",
       "       [30., 30., 30.],\n",
       "       [45., 45., 45.],\n",
       "       [45., 45., 45.]])"
      ]
     },
     "execution_count": 41,
     "metadata": {},
     "output_type": "execute_result"
    }
   ],
   "source": [
    "(p_z * n_test).round(0).repeat(3).reshape(4,3)"
   ]
  },
  {
   "cell_type": "code",
   "execution_count": null,
   "id": "5ea6cbdc-dbd2-44d3-8bdb-b6eaba0eb888",
   "metadata": {},
   "outputs": [],
   "source": []
  },
  {
   "cell_type": "code",
   "execution_count": 42,
   "id": "08d1b0c2-975a-44a1-9e3e-e4c66a3c56fd",
   "metadata": {
    "execution": {
     "iopub.execute_input": "2023-02-16T21:22:08.863129Z",
     "iopub.status.busy": "2023-02-16T21:22:08.862318Z",
     "iopub.status.idle": "2023-02-16T21:22:08.872424Z",
     "shell.execute_reply": "2023-02-16T21:22:08.871161Z",
     "shell.execute_reply.started": "2023-02-16T21:22:08.863056Z"
    },
    "tags": []
   },
   "outputs": [
    {
     "data": {
      "text/plain": [
       "array([[0. , 0.7, 0.3],\n",
       "       [0.1, 0.4, 0.5],\n",
       "       [0.7, 0.3, 0. ],\n",
       "       [0.2, 0.4, 0.4]])"
      ]
     },
     "execution_count": 42,
     "metadata": {},
     "output_type": "execute_result"
    }
   ],
   "source": [
    "p_test_y_given_z"
   ]
  },
  {
   "cell_type": "code",
   "execution_count": 43,
   "id": "631efa9f-fe8d-4421-ace2-b2063ad15535",
   "metadata": {
    "execution": {
     "iopub.execute_input": "2023-02-16T21:22:09.238239Z",
     "iopub.status.busy": "2023-02-16T21:22:09.237534Z",
     "iopub.status.idle": "2023-02-16T21:22:09.245591Z",
     "shell.execute_reply": "2023-02-16T21:22:09.243949Z",
     "shell.execute_reply.started": "2023-02-16T21:22:09.238171Z"
    },
    "tags": []
   },
   "outputs": [],
   "source": [
    "n_test_y_given_z = (p_test_y_given_z * (p_z * n_test).round(0).repeat(n_yC).reshape(n_zC, n_yC)).round(0)"
   ]
  },
  {
   "cell_type": "code",
   "execution_count": 44,
   "id": "2d103a51-71ee-44a2-bd01-b0fc19913022",
   "metadata": {
    "execution": {
     "iopub.execute_input": "2023-02-16T21:22:09.393441Z",
     "iopub.status.busy": "2023-02-16T21:22:09.392611Z",
     "iopub.status.idle": "2023-02-16T21:22:09.400533Z",
     "shell.execute_reply": "2023-02-16T21:22:09.399003Z",
     "shell.execute_reply.started": "2023-02-16T21:22:09.393376Z"
    },
    "tags": []
   },
   "outputs": [],
   "source": [
    "n_train_y_given_z = (p_train_y_given_z * (p_z * n_train).round(0).repeat(n_yC).reshape(n_zC, n_yC)).round(0)"
   ]
  },
  {
   "cell_type": "code",
   "execution_count": 45,
   "id": "63bb36db-cffd-4c1f-92c0-d1215dfefc2d",
   "metadata": {
    "execution": {
     "iopub.execute_input": "2023-02-16T21:22:09.558716Z",
     "iopub.status.busy": "2023-02-16T21:22:09.558166Z",
     "iopub.status.idle": "2023-02-16T21:22:09.567011Z",
     "shell.execute_reply": "2023-02-16T21:22:09.565629Z",
     "shell.execute_reply.started": "2023-02-16T21:22:09.558664Z"
    },
    "tags": []
   },
   "outputs": [
    {
     "data": {
      "text/plain": [
       "array([[ 12.,  12.,  96.],\n",
       "       [ 24.,   0.,  96.],\n",
       "       [126.,  54.,   0.],\n",
       "       [ 54.,  54.,  72.]])"
      ]
     },
     "execution_count": 45,
     "metadata": {},
     "output_type": "execute_result"
    }
   ],
   "source": [
    "n_train_y_given_z"
   ]
  },
  {
   "cell_type": "code",
   "execution_count": 46,
   "id": "c001b66a-6306-4fad-9162-0d31d6feeded",
   "metadata": {
    "execution": {
     "iopub.execute_input": "2023-02-16T21:22:09.714464Z",
     "iopub.status.busy": "2023-02-16T21:22:09.713795Z",
     "iopub.status.idle": "2023-02-16T21:22:09.722810Z",
     "shell.execute_reply": "2023-02-16T21:22:09.721601Z",
     "shell.execute_reply.started": "2023-02-16T21:22:09.714400Z"
    },
    "tags": []
   },
   "outputs": [
    {
     "data": {
      "text/plain": [
       "array([[ 0., 21.,  9.],\n",
       "       [ 3., 12., 15.],\n",
       "       [31., 14.,  0.],\n",
       "       [ 9., 18., 18.]])"
      ]
     },
     "execution_count": 46,
     "metadata": {},
     "output_type": "execute_result"
    }
   ],
   "source": [
    "n_test_y_given_z"
   ]
  },
  {
   "cell_type": "code",
   "execution_count": 47,
   "id": "ea0f1558-046c-4ae5-946a-3e334d78d50b",
   "metadata": {
    "execution": {
     "iopub.execute_input": "2023-02-16T21:22:09.871963Z",
     "iopub.status.busy": "2023-02-16T21:22:09.871658Z",
     "iopub.status.idle": "2023-02-16T21:22:09.877204Z",
     "shell.execute_reply": "2023-02-16T21:22:09.875557Z",
     "shell.execute_reply.started": "2023-02-16T21:22:09.871935Z"
    },
    "tags": []
   },
   "outputs": [],
   "source": [
    "assert (n_test - n_error) <= n_test_y_given_z.sum() <= (n_test + n_error)"
   ]
  },
  {
   "cell_type": "code",
   "execution_count": 51,
   "id": "f6591122-8723-4c03-9bf4-cafbe1244be9",
   "metadata": {
    "execution": {
     "iopub.execute_input": "2023-02-16T21:22:37.343132Z",
     "iopub.status.busy": "2023-02-16T21:22:37.342367Z",
     "iopub.status.idle": "2023-02-16T21:22:37.384078Z",
     "shell.execute_reply": "2023-02-16T21:22:37.382755Z",
     "shell.execute_reply.started": "2023-02-16T21:22:37.343065Z"
    },
    "tags": []
   },
   "outputs": [],
   "source": [
    "full_df_list = []\n",
    "full_shape_ls = []\n",
    "for iz, iy in itertools.product(zC, yC):\n",
    "    _df = df[(df['zCategorical'] == iz) & (df['yCategorical'] == iy)]\n",
    "    \n",
    "    full_shape_ls.append(len(_df))\n",
    "    full_df_list.append(_df)"
   ]
  },
  {
   "cell_type": "code",
   "execution_count": 52,
   "id": "3cf5ed51-7300-4e89-8baf-26e1cd579268",
   "metadata": {
    "execution": {
     "iopub.execute_input": "2023-02-16T21:22:37.967320Z",
     "iopub.status.busy": "2023-02-16T21:22:37.966509Z",
     "iopub.status.idle": "2023-02-16T21:22:37.982809Z",
     "shell.execute_reply": "2023-02-16T21:22:37.981453Z",
     "shell.execute_reply.started": "2023-02-16T21:22:37.967247Z"
    },
    "tags": []
   },
   "outputs": [
    {
     "data": {
      "text/plain": [
       "array([[ 584, 1431,  855],\n",
       "       [ 609,  645,  836],\n",
       "       [ 235,  785,    0],\n",
       "       [ 390, 2844,  786]])"
      ]
     },
     "execution_count": 52,
     "metadata": {},
     "output_type": "execute_result"
    }
   ],
   "source": [
    "np.array(full_shape_ls).reshape(n_zC, n_yC)"
   ]
  },
  {
   "cell_type": "code",
   "execution_count": null,
   "id": "005de2fa-05a1-4358-a227-4dca5acc4b8a",
   "metadata": {},
   "outputs": [],
   "source": []
  },
  {
   "cell_type": "code",
   "execution_count": 53,
   "id": "701b8f18-7029-44d6-9a8f-6b0784829fd3",
   "metadata": {
    "execution": {
     "iopub.execute_input": "2023-02-16T21:22:38.933668Z",
     "iopub.status.busy": "2023-02-16T21:22:38.933070Z",
     "iopub.status.idle": "2023-02-16T21:22:38.940674Z",
     "shell.execute_reply": "2023-02-16T21:22:38.939389Z",
     "shell.execute_reply.started": "2023-02-16T21:22:38.933613Z"
    },
    "tags": []
   },
   "outputs": [],
   "source": [
    "assert np.all((n_test_y_given_z + n_train_y_given_z) <= np.array(full_shape_ls).reshape(n_zC, n_yC))"
   ]
  },
  {
   "cell_type": "code",
   "execution_count": 54,
   "id": "d6a5ca13-3d68-451c-86c4-98bc108ef1aa",
   "metadata": {
    "execution": {
     "iopub.execute_input": "2023-02-16T21:22:39.241001Z",
     "iopub.status.busy": "2023-02-16T21:22:39.240489Z",
     "iopub.status.idle": "2023-02-16T21:22:39.248772Z",
     "shell.execute_reply": "2023-02-16T21:22:39.247752Z",
     "shell.execute_reply.started": "2023-02-16T21:22:39.240955Z"
    },
    "tags": []
   },
   "outputs": [
    {
     "data": {
      "text/plain": [
       "array([[ 0., 21.,  9.],\n",
       "       [ 3., 12., 15.],\n",
       "       [31., 14.,  0.],\n",
       "       [ 9., 18., 18.]])"
      ]
     },
     "execution_count": 54,
     "metadata": {},
     "output_type": "execute_result"
    }
   ],
   "source": [
    "n_test_y_given_z"
   ]
  },
  {
   "cell_type": "code",
   "execution_count": 55,
   "id": "4834fc61-e0a5-474f-9bd0-488363cff9be",
   "metadata": {
    "execution": {
     "iopub.execute_input": "2023-02-16T21:22:39.935133Z",
     "iopub.status.busy": "2023-02-16T21:22:39.934338Z",
     "iopub.status.idle": "2023-02-16T21:22:39.944307Z",
     "shell.execute_reply": "2023-02-16T21:22:39.943072Z",
     "shell.execute_reply.started": "2023-02-16T21:22:39.935064Z"
    },
    "tags": []
   },
   "outputs": [
    {
     "data": {
      "text/plain": [
       "14.0"
      ]
     },
     "execution_count": 55,
     "metadata": {},
     "output_type": "execute_result"
    }
   ],
   "source": [
    "n_test_y_given_z.flatten()[7]"
   ]
  },
  {
   "cell_type": "code",
   "execution_count": 56,
   "id": "b3bb567b-e9bf-42b6-89b2-aafc1d4678ed",
   "metadata": {
    "execution": {
     "iopub.execute_input": "2023-02-16T21:22:40.228111Z",
     "iopub.status.busy": "2023-02-16T21:22:40.227771Z",
     "iopub.status.idle": "2023-02-16T21:22:40.683754Z",
     "shell.execute_reply": "2023-02-16T21:22:40.682963Z",
     "shell.execute_reply.started": "2023-02-16T21:22:40.228080Z"
    },
    "tags": []
   },
   "outputs": [],
   "source": [
    "from sklearn.model_selection import train_test_split"
   ]
  },
  {
   "cell_type": "code",
   "execution_count": 57,
   "id": "4c09428a-2c86-4cf5-b4df-124935ce2a16",
   "metadata": {
    "execution": {
     "iopub.execute_input": "2023-02-16T21:22:40.684883Z",
     "iopub.status.busy": "2023-02-16T21:22:40.684652Z",
     "iopub.status.idle": "2023-02-16T21:22:40.691414Z",
     "shell.execute_reply": "2023-02-16T21:22:40.690599Z",
     "shell.execute_reply.started": "2023-02-16T21:22:40.684864Z"
    },
    "tags": []
   },
   "outputs": [
    {
     "data": {
      "text/plain": [
       "['none']"
      ]
     },
     "execution_count": 57,
     "metadata": {},
     "output_type": "execute_result"
    }
   ],
   "source": [
    "full_df_list[0]['yCategorical'].unique().tolist()"
   ]
  },
  {
   "cell_type": "code",
   "execution_count": null,
   "id": "03858dd9-ef6e-4a33-bcad-f8301c36af92",
   "metadata": {},
   "outputs": [],
   "source": []
  },
  {
   "cell_type": "code",
   "execution_count": 58,
   "id": "a7c557e2-392e-4ceb-9dbd-f26bc622a3dc",
   "metadata": {
    "execution": {
     "iopub.execute_input": "2023-02-16T21:22:40.999590Z",
     "iopub.status.busy": "2023-02-16T21:22:40.998844Z",
     "iopub.status.idle": "2023-02-16T21:22:41.008920Z",
     "shell.execute_reply": "2023-02-16T21:22:41.007634Z",
     "shell.execute_reply.started": "2023-02-16T21:22:40.999522Z"
    },
    "tags": []
   },
   "outputs": [
    {
     "data": {
      "text/plain": [
       "array([[ 0., 21.,  9.],\n",
       "       [ 3., 12., 15.],\n",
       "       [31., 14.,  0.],\n",
       "       [ 9., 18., 18.]])"
      ]
     },
     "execution_count": 58,
     "metadata": {},
     "output_type": "execute_result"
    }
   ],
   "source": [
    "n_test_y_given_z"
   ]
  },
  {
   "cell_type": "code",
   "execution_count": 59,
   "id": "d44439aa-881e-413d-93d5-601cbc9dd00a",
   "metadata": {
    "execution": {
     "iopub.execute_input": "2023-02-16T21:22:41.542997Z",
     "iopub.status.busy": "2023-02-16T21:22:41.542266Z",
     "iopub.status.idle": "2023-02-16T21:22:41.551690Z",
     "shell.execute_reply": "2023-02-16T21:22:41.550503Z",
     "shell.execute_reply.started": "2023-02-16T21:22:41.542929Z"
    },
    "tags": []
   },
   "outputs": [
    {
     "data": {
      "text/plain": [
       "array([[0. , 0.7, 0.3],\n",
       "       [0.1, 0.4, 0.5],\n",
       "       [0.7, 0.3, 0. ],\n",
       "       [0.2, 0.4, 0.4]])"
      ]
     },
     "execution_count": 59,
     "metadata": {},
     "output_type": "execute_result"
    }
   ],
   "source": [
    "p_test_y_given_z"
   ]
  },
  {
   "cell_type": "code",
   "execution_count": null,
   "id": "0cedeff8-013d-433d-b912-c995a54ff0e6",
   "metadata": {},
   "outputs": [],
   "source": []
  },
  {
   "cell_type": "code",
   "execution_count": 60,
   "id": "4d28e8a8-15e8-4fdd-baf3-7e31582f96fb",
   "metadata": {
    "execution": {
     "iopub.execute_input": "2023-02-16T21:22:42.582395Z",
     "iopub.status.busy": "2023-02-16T21:22:42.581525Z",
     "iopub.status.idle": "2023-02-16T21:22:42.610553Z",
     "shell.execute_reply": "2023-02-16T21:22:42.609670Z",
     "shell.execute_reply.started": "2023-02-16T21:22:42.582322Z"
    },
    "tags": []
   },
   "outputs": [],
   "source": [
    "seed = 193\n",
    "df_collect = []\n",
    "for idx, _df in enumerate(full_df_list):\n",
    "    n_needed_train = int(n_train_y_given_z.flatten()[idx])\n",
    "    n_needed_test =  int(n_test_y_given_z.flatten()[idx])\n",
    "    \n",
    "    if (n_needed_test == 0) or (n_needed_train == 0):\n",
    "        _df_train = _df_test = None\n",
    "    else:\n",
    "        \n",
    "        _df_train, _df_test = train_test_split(_df,\n",
    "                                               train_size=n_needed_train,\n",
    "                                               test_size=n_needed_test,\n",
    "                                               shuffle = True, random_state=seed\n",
    "                                              )\n",
    "    \n",
    "    _ret = {\"df_train\":_df_train, \n",
    "            \"df_test\":_df_test, \n",
    "            \"y\":_df[\"yCategorical\"].unique().tolist(), \n",
    "            \"z\":_df[\"zCategorical\"].unique().tolist()\n",
    "           }\n",
    "    \n",
    "    df_collect.append(_ret)\n",
    "    "
   ]
  },
  {
   "cell_type": "code",
   "execution_count": null,
   "id": "3a83bdf3-d3bd-4c33-899d-a8e49408c5aa",
   "metadata": {},
   "outputs": [],
   "source": []
  },
  {
   "cell_type": "code",
   "execution_count": 61,
   "id": "89adca6f-1701-47ca-a105-000aa54fb61e",
   "metadata": {
    "execution": {
     "iopub.execute_input": "2023-02-16T21:22:43.548304Z",
     "iopub.status.busy": "2023-02-16T21:22:43.547497Z",
     "iopub.status.idle": "2023-02-16T21:22:43.569548Z",
     "shell.execute_reply": "2023-02-16T21:22:43.568626Z",
     "shell.execute_reply.started": "2023-02-16T21:22:43.548234Z"
    },
    "tags": []
   },
   "outputs": [
    {
     "data": {
      "text/html": [
       "<div>\n",
       "<style scoped>\n",
       "    .dataframe tbody tr th:only-of-type {\n",
       "        vertical-align: middle;\n",
       "    }\n",
       "\n",
       "    .dataframe tbody tr th {\n",
       "        vertical-align: top;\n",
       "    }\n",
       "\n",
       "    .dataframe thead th {\n",
       "        text-align: right;\n",
       "    }\n",
       "</style>\n",
       "<table border=\"1\" class=\"dataframe\">\n",
       "  <thead>\n",
       "    <tr style=\"text-align: right;\">\n",
       "      <th></th>\n",
       "      <th>z</th>\n",
       "      <th>y</th>\n",
       "      <th>zCategorical</th>\n",
       "      <th>yCategorical</th>\n",
       "    </tr>\n",
       "  </thead>\n",
       "  <tbody>\n",
       "    <tr>\n",
       "      <th>6441</th>\n",
       "      <td>0</td>\n",
       "      <td>1</td>\n",
       "      <td>Hosp_A</td>\n",
       "      <td>benign</td>\n",
       "    </tr>\n",
       "    <tr>\n",
       "      <th>6076</th>\n",
       "      <td>0</td>\n",
       "      <td>1</td>\n",
       "      <td>Hosp_A</td>\n",
       "      <td>benign</td>\n",
       "    </tr>\n",
       "    <tr>\n",
       "      <th>190</th>\n",
       "      <td>0</td>\n",
       "      <td>1</td>\n",
       "      <td>Hosp_A</td>\n",
       "      <td>benign</td>\n",
       "    </tr>\n",
       "    <tr>\n",
       "      <th>2807</th>\n",
       "      <td>0</td>\n",
       "      <td>1</td>\n",
       "      <td>Hosp_A</td>\n",
       "      <td>benign</td>\n",
       "    </tr>\n",
       "    <tr>\n",
       "      <th>5327</th>\n",
       "      <td>0</td>\n",
       "      <td>1</td>\n",
       "      <td>Hosp_A</td>\n",
       "      <td>benign</td>\n",
       "    </tr>\n",
       "    <tr>\n",
       "      <th>2109</th>\n",
       "      <td>0</td>\n",
       "      <td>1</td>\n",
       "      <td>Hosp_A</td>\n",
       "      <td>benign</td>\n",
       "    </tr>\n",
       "    <tr>\n",
       "      <th>7037</th>\n",
       "      <td>0</td>\n",
       "      <td>1</td>\n",
       "      <td>Hosp_A</td>\n",
       "      <td>benign</td>\n",
       "    </tr>\n",
       "    <tr>\n",
       "      <th>5396</th>\n",
       "      <td>0</td>\n",
       "      <td>1</td>\n",
       "      <td>Hosp_A</td>\n",
       "      <td>benign</td>\n",
       "    </tr>\n",
       "    <tr>\n",
       "      <th>3441</th>\n",
       "      <td>0</td>\n",
       "      <td>1</td>\n",
       "      <td>Hosp_A</td>\n",
       "      <td>benign</td>\n",
       "    </tr>\n",
       "    <tr>\n",
       "      <th>2640</th>\n",
       "      <td>0</td>\n",
       "      <td>1</td>\n",
       "      <td>Hosp_A</td>\n",
       "      <td>benign</td>\n",
       "    </tr>\n",
       "    <tr>\n",
       "      <th>3693</th>\n",
       "      <td>0</td>\n",
       "      <td>1</td>\n",
       "      <td>Hosp_A</td>\n",
       "      <td>benign</td>\n",
       "    </tr>\n",
       "    <tr>\n",
       "      <th>5349</th>\n",
       "      <td>0</td>\n",
       "      <td>1</td>\n",
       "      <td>Hosp_A</td>\n",
       "      <td>benign</td>\n",
       "    </tr>\n",
       "  </tbody>\n",
       "</table>\n",
       "</div>"
      ],
      "text/plain": [
       "      z  y zCategorical yCategorical\n",
       "6441  0  1       Hosp_A       benign\n",
       "6076  0  1       Hosp_A       benign\n",
       "190   0  1       Hosp_A       benign\n",
       "2807  0  1       Hosp_A       benign\n",
       "5327  0  1       Hosp_A       benign\n",
       "2109  0  1       Hosp_A       benign\n",
       "7037  0  1       Hosp_A       benign\n",
       "5396  0  1       Hosp_A       benign\n",
       "3441  0  1       Hosp_A       benign\n",
       "2640  0  1       Hosp_A       benign\n",
       "3693  0  1       Hosp_A       benign\n",
       "5349  0  1       Hosp_A       benign"
      ]
     },
     "execution_count": 61,
     "metadata": {},
     "output_type": "execute_result"
    }
   ],
   "source": [
    "df_collect[1]['df_train']"
   ]
  },
  {
   "cell_type": "code",
   "execution_count": 62,
   "id": "a9cc5cc3-af1e-4d70-8d13-296efcf2ef3c",
   "metadata": {
    "execution": {
     "iopub.execute_input": "2023-02-16T21:22:44.338515Z",
     "iopub.status.busy": "2023-02-16T21:22:44.337798Z",
     "iopub.status.idle": "2023-02-16T21:22:44.357474Z",
     "shell.execute_reply": "2023-02-16T21:22:44.356623Z",
     "shell.execute_reply.started": "2023-02-16T21:22:44.338448Z"
    },
    "tags": []
   },
   "outputs": [
    {
     "data": {
      "text/html": [
       "<div>\n",
       "<style scoped>\n",
       "    .dataframe tbody tr th:only-of-type {\n",
       "        vertical-align: middle;\n",
       "    }\n",
       "\n",
       "    .dataframe tbody tr th {\n",
       "        vertical-align: top;\n",
       "    }\n",
       "\n",
       "    .dataframe thead th {\n",
       "        text-align: right;\n",
       "    }\n",
       "</style>\n",
       "<table border=\"1\" class=\"dataframe\">\n",
       "  <thead>\n",
       "    <tr style=\"text-align: right;\">\n",
       "      <th></th>\n",
       "      <th>z</th>\n",
       "      <th>y</th>\n",
       "      <th>zCategorical</th>\n",
       "      <th>yCategorical</th>\n",
       "    </tr>\n",
       "  </thead>\n",
       "  <tbody>\n",
       "    <tr>\n",
       "      <th>2658</th>\n",
       "      <td>0</td>\n",
       "      <td>1</td>\n",
       "      <td>Hosp_A</td>\n",
       "      <td>benign</td>\n",
       "    </tr>\n",
       "    <tr>\n",
       "      <th>8179</th>\n",
       "      <td>0</td>\n",
       "      <td>1</td>\n",
       "      <td>Hosp_A</td>\n",
       "      <td>benign</td>\n",
       "    </tr>\n",
       "    <tr>\n",
       "      <th>1798</th>\n",
       "      <td>0</td>\n",
       "      <td>1</td>\n",
       "      <td>Hosp_A</td>\n",
       "      <td>benign</td>\n",
       "    </tr>\n",
       "    <tr>\n",
       "      <th>8345</th>\n",
       "      <td>0</td>\n",
       "      <td>1</td>\n",
       "      <td>Hosp_A</td>\n",
       "      <td>benign</td>\n",
       "    </tr>\n",
       "    <tr>\n",
       "      <th>2225</th>\n",
       "      <td>0</td>\n",
       "      <td>1</td>\n",
       "      <td>Hosp_A</td>\n",
       "      <td>benign</td>\n",
       "    </tr>\n",
       "    <tr>\n",
       "      <th>1794</th>\n",
       "      <td>0</td>\n",
       "      <td>1</td>\n",
       "      <td>Hosp_A</td>\n",
       "      <td>benign</td>\n",
       "    </tr>\n",
       "    <tr>\n",
       "      <th>9296</th>\n",
       "      <td>0</td>\n",
       "      <td>1</td>\n",
       "      <td>Hosp_A</td>\n",
       "      <td>benign</td>\n",
       "    </tr>\n",
       "    <tr>\n",
       "      <th>4913</th>\n",
       "      <td>0</td>\n",
       "      <td>1</td>\n",
       "      <td>Hosp_A</td>\n",
       "      <td>benign</td>\n",
       "    </tr>\n",
       "    <tr>\n",
       "      <th>8080</th>\n",
       "      <td>0</td>\n",
       "      <td>1</td>\n",
       "      <td>Hosp_A</td>\n",
       "      <td>benign</td>\n",
       "    </tr>\n",
       "    <tr>\n",
       "      <th>857</th>\n",
       "      <td>0</td>\n",
       "      <td>1</td>\n",
       "      <td>Hosp_A</td>\n",
       "      <td>benign</td>\n",
       "    </tr>\n",
       "    <tr>\n",
       "      <th>3101</th>\n",
       "      <td>0</td>\n",
       "      <td>1</td>\n",
       "      <td>Hosp_A</td>\n",
       "      <td>benign</td>\n",
       "    </tr>\n",
       "    <tr>\n",
       "      <th>5528</th>\n",
       "      <td>0</td>\n",
       "      <td>1</td>\n",
       "      <td>Hosp_A</td>\n",
       "      <td>benign</td>\n",
       "    </tr>\n",
       "    <tr>\n",
       "      <th>9546</th>\n",
       "      <td>0</td>\n",
       "      <td>1</td>\n",
       "      <td>Hosp_A</td>\n",
       "      <td>benign</td>\n",
       "    </tr>\n",
       "    <tr>\n",
       "      <th>6811</th>\n",
       "      <td>0</td>\n",
       "      <td>1</td>\n",
       "      <td>Hosp_A</td>\n",
       "      <td>benign</td>\n",
       "    </tr>\n",
       "    <tr>\n",
       "      <th>2301</th>\n",
       "      <td>0</td>\n",
       "      <td>1</td>\n",
       "      <td>Hosp_A</td>\n",
       "      <td>benign</td>\n",
       "    </tr>\n",
       "    <tr>\n",
       "      <th>2625</th>\n",
       "      <td>0</td>\n",
       "      <td>1</td>\n",
       "      <td>Hosp_A</td>\n",
       "      <td>benign</td>\n",
       "    </tr>\n",
       "    <tr>\n",
       "      <th>6557</th>\n",
       "      <td>0</td>\n",
       "      <td>1</td>\n",
       "      <td>Hosp_A</td>\n",
       "      <td>benign</td>\n",
       "    </tr>\n",
       "    <tr>\n",
       "      <th>1117</th>\n",
       "      <td>0</td>\n",
       "      <td>1</td>\n",
       "      <td>Hosp_A</td>\n",
       "      <td>benign</td>\n",
       "    </tr>\n",
       "    <tr>\n",
       "      <th>2014</th>\n",
       "      <td>0</td>\n",
       "      <td>1</td>\n",
       "      <td>Hosp_A</td>\n",
       "      <td>benign</td>\n",
       "    </tr>\n",
       "    <tr>\n",
       "      <th>4765</th>\n",
       "      <td>0</td>\n",
       "      <td>1</td>\n",
       "      <td>Hosp_A</td>\n",
       "      <td>benign</td>\n",
       "    </tr>\n",
       "    <tr>\n",
       "      <th>7765</th>\n",
       "      <td>0</td>\n",
       "      <td>1</td>\n",
       "      <td>Hosp_A</td>\n",
       "      <td>benign</td>\n",
       "    </tr>\n",
       "  </tbody>\n",
       "</table>\n",
       "</div>"
      ],
      "text/plain": [
       "      z  y zCategorical yCategorical\n",
       "2658  0  1       Hosp_A       benign\n",
       "8179  0  1       Hosp_A       benign\n",
       "1798  0  1       Hosp_A       benign\n",
       "8345  0  1       Hosp_A       benign\n",
       "2225  0  1       Hosp_A       benign\n",
       "1794  0  1       Hosp_A       benign\n",
       "9296  0  1       Hosp_A       benign\n",
       "4913  0  1       Hosp_A       benign\n",
       "8080  0  1       Hosp_A       benign\n",
       "857   0  1       Hosp_A       benign\n",
       "3101  0  1       Hosp_A       benign\n",
       "5528  0  1       Hosp_A       benign\n",
       "9546  0  1       Hosp_A       benign\n",
       "6811  0  1       Hosp_A       benign\n",
       "2301  0  1       Hosp_A       benign\n",
       "2625  0  1       Hosp_A       benign\n",
       "6557  0  1       Hosp_A       benign\n",
       "1117  0  1       Hosp_A       benign\n",
       "2014  0  1       Hosp_A       benign\n",
       "4765  0  1       Hosp_A       benign\n",
       "7765  0  1       Hosp_A       benign"
      ]
     },
     "execution_count": 62,
     "metadata": {},
     "output_type": "execute_result"
    }
   ],
   "source": [
    "df_collect[1]['df_test']"
   ]
  },
  {
   "cell_type": "code",
   "execution_count": null,
   "id": "d7d851a8-3517-4e65-aee8-e87b6509e579",
   "metadata": {},
   "outputs": [],
   "source": []
  },
  {
   "cell_type": "code",
   "execution_count": null,
   "id": "a7a62067-f728-4c54-a842-7accd6f3a56c",
   "metadata": {},
   "outputs": [],
   "source": []
  },
  {
   "cell_type": "markdown",
   "id": "7f4ec64a-027a-4102-88e5-a6aa079ded1a",
   "metadata": {},
   "source": [
    "## Assemble Function"
   ]
  },
  {
   "cell_type": "code",
   "execution_count": 12,
   "id": "47ff3cf1-2d7b-4020-b8e7-744250289580",
   "metadata": {
    "execution": {
     "iopub.execute_input": "2023-02-16T21:28:55.502163Z",
     "iopub.status.busy": "2023-02-16T21:28:55.501561Z",
     "iopub.status.idle": "2023-02-16T21:28:55.509873Z",
     "shell.execute_reply": "2023-02-16T21:28:55.508513Z",
     "shell.execute_reply.started": "2023-02-16T21:28:55.502112Z"
    },
    "tags": []
   },
   "outputs": [],
   "source": [
    "\n",
    "p_train_y_given_z = [[0.1, 0.1, 0.8], \n",
    "                     [0.2, 0,   0.8], \n",
    "                     [0.7, 0.3, 0  ],\n",
    "                     [0.3, 0.3, 0.4]\n",
    "                    ]\n",
    "p_test_y_given_z = [[0.0, 0.7, 0.3], \n",
    "                     [0.1, 0.4, 0.5], \n",
    "                     [0.7, 0.3, 0  ],\n",
    "                     [0.2, 0.4, 0.4]\n",
    "                    ]\n",
    "p_z = [0.2, 0.2, 0.3, 0.3]"
   ]
  },
  {
   "cell_type": "code",
   "execution_count": 13,
   "id": "59aec7ae-32d7-4ae5-b52a-f9c3c9f34c41",
   "metadata": {
    "execution": {
     "iopub.execute_input": "2023-02-16T21:28:56.244196Z",
     "iopub.status.busy": "2023-02-16T21:28:56.243675Z",
     "iopub.status.idle": "2023-02-16T21:28:56.249483Z",
     "shell.execute_reply": "2023-02-16T21:28:56.248328Z",
     "shell.execute_reply.started": "2023-02-16T21:28:56.244150Z"
    },
    "tags": []
   },
   "outputs": [],
   "source": [
    "zC = ['Hosp_A','Hosp_B','Hosp_C', 'Hosp_D']\n",
    "yC = ['none','benign', 'malignant']"
   ]
  },
  {
   "cell_type": "code",
   "execution_count": null,
   "id": "517409e9-df3e-43f9-8205-e4208e07b54f",
   "metadata": {},
   "outputs": [],
   "source": []
  },
  {
   "cell_type": "code",
   "execution_count": 17,
   "id": "97b09d98-212e-4e5b-9837-c7e9816d7260",
   "metadata": {
    "execution": {
     "iopub.execute_input": "2023-02-16T21:29:12.719529Z",
     "iopub.status.busy": "2023-02-16T21:29:12.718712Z",
     "iopub.status.idle": "2023-02-16T21:29:12.748314Z",
     "shell.execute_reply": "2023-02-16T21:29:12.747141Z",
     "shell.execute_reply.started": "2023-02-16T21:29:12.719460Z"
    },
    "tags": []
   },
   "outputs": [],
   "source": [
    "from sklearn.model_selection import train_test_split\n",
    "\n",
    "\n",
    "def confoundSplitDFMultiLevel(df, zC, yC, p_train_y_given_z, p_test_y_given_z, p_z, \n",
    "                              n_test=100, n_error=0,\n",
    "                              train_test_ratio=4, seed=2671):\n",
    "    \n",
    "    \n",
    "    # convert to np.ndarray\n",
    "    if isinstance(p_train_y_given_z, list):\n",
    "        p_train_y_given_z = np.array(p_train_y_given_z)\n",
    "\n",
    "    if isinstance(p_test_y_given_z, list):\n",
    "        p_test_y_given_z = np.array(p_test_y_given_z)\n",
    "\n",
    "    if isinstance(p_z, list):\n",
    "        p_z = np.array(p_z)\n",
    "    \n",
    "    \n",
    "    # quality check\n",
    "    assert np.all(p_train_y_given_z.sum(axis=1) == 1)\n",
    "    assert np.all(p_test_y_given_z.sum(axis=1) == 1)\n",
    "    assert np.all(p_z.sum() == 1)\n",
    "\n",
    "    assert p_train_y_given_z.shape == p_test_y_given_z.shape\n",
    "\n",
    "    # get number of categories for Y and Z\n",
    "    n_zC = len(zC)\n",
    "    n_yC = len(yC)\n",
    "\n",
    "    assert p_train_y_given_z.shape == (n_zC, n_yC)\n",
    "    \n",
    "    \n",
    "    \n",
    "    # calculate number for training and testing sets given probabilities\n",
    "    n_train = n_test * train_test_ratio  # train:test ratio\n",
    "    \n",
    "    n_train_y_given_z = (p_train_y_given_z * (p_z * n_train).round(0).repeat(n_yC).reshape(n_zC, n_yC)).round(0)\n",
    "    n_test_y_given_z  = (p_test_y_given_z  * (p_z * n_test ).round(0).repeat(n_yC).reshape(n_zC, n_yC)).round(0)\n",
    "    \n",
    "    TESTER_n_test = (n_test - n_error) <= n_test_y_given_z.sum() <= (n_test + n_error)\n",
    "    if not TESTER_n_test:\n",
    "        return None\n",
    "    \n",
    "    \n",
    "    # calculate how many examples the original data have, for each z,y combination\n",
    "    # and create sub-df's for each combination\n",
    "    full_df_list = []\n",
    "    full_shape_ls = []\n",
    "    for iz, iy in itertools.product(zC, yC):\n",
    "        _df = df[(df['zCategorical'] == iz) & (df['yCategorical'] == iy)]\n",
    "\n",
    "        full_shape_ls.append(len(_df))\n",
    "        full_df_list.append(_df)\n",
    "\n",
    "    TESTER_full_shape = np.all((n_test_y_given_z + n_train_y_given_z) <= np.array(full_shape_ls).reshape(n_zC, n_yC))\n",
    "    if not TESTER_full_shape:\n",
    "        return None\n",
    "    \n",
    "    \n",
    "    # iterate through every sub-df, get train-test split\n",
    "    df_collect = []\n",
    "    for idx, _df in enumerate(full_df_list):\n",
    "        n_needed_train = int(n_train_y_given_z.flatten()[idx])\n",
    "        n_needed_test =  int(n_test_y_given_z.flatten()[idx])\n",
    "\n",
    "        if (n_needed_test == 0) or (n_needed_train == 0):\n",
    "            _df_train = _df_test = None\n",
    "        else:\n",
    "\n",
    "            _df_train, _df_test = train_test_split(_df,\n",
    "                                                   train_size=n_needed_train,\n",
    "                                                   test_size=n_needed_test,\n",
    "                                                   shuffle=True, random_state=seed\n",
    "                                                  )\n",
    "\n",
    "        _ret = {\"df_train\":_df_train, \n",
    "                \"df_test\":_df_test, \n",
    "                \"y\":_df[\"yCategorical\"].unique().tolist(), \n",
    "                \"z\":_df[\"zCategorical\"].unique().tolist()\n",
    "               }\n",
    "\n",
    "        df_collect.append(_ret)\n",
    "\n",
    "    return df_collect\n",
    "    "
   ]
  },
  {
   "cell_type": "code",
   "execution_count": null,
   "id": "0c9fa966-1fd6-4522-9b9c-ba2fba9ae9b1",
   "metadata": {},
   "outputs": [],
   "source": []
  },
  {
   "cell_type": "code",
   "execution_count": 18,
   "id": "ad73ac3a-4443-4c09-a53e-fc277bd039e1",
   "metadata": {
    "execution": {
     "iopub.execute_input": "2023-02-16T21:29:13.518312Z",
     "iopub.status.busy": "2023-02-16T21:29:13.517606Z",
     "iopub.status.idle": "2023-02-16T21:29:13.571499Z",
     "shell.execute_reply": "2023-02-16T21:29:13.570450Z",
     "shell.execute_reply.started": "2023-02-16T21:29:13.518251Z"
    },
    "tags": []
   },
   "outputs": [],
   "source": [
    "df_ret = confoundSplitDFMultiLevel(df=df, zC=zC, yC=yC, p_train_y_given_z=p_train_y_given_z, p_test_y_given_z=p_test_y_given_z, p_z=p_z, \n",
    "                              n_test=150, n_error=0,\n",
    "                              train_test_ratio=4, seed=193)"
   ]
  },
  {
   "cell_type": "code",
   "execution_count": null,
   "id": "29a56abb-6342-4544-80e7-4b5fff29918b",
   "metadata": {},
   "outputs": [],
   "source": []
  },
  {
   "cell_type": "code",
   "execution_count": null,
   "id": "5ecf2733-ab44-44cd-8fed-51d92fb60eca",
   "metadata": {},
   "outputs": [],
   "source": []
  },
  {
   "cell_type": "code",
   "execution_count": null,
   "id": "cdf143ab-b385-428b-ac06-52d377d35aea",
   "metadata": {},
   "outputs": [],
   "source": []
  },
  {
   "cell_type": "code",
   "execution_count": null,
   "id": "2c7f1957-a799-4e75-8f04-d8b42f08d3dd",
   "metadata": {},
   "outputs": [],
   "source": []
  },
  {
   "cell_type": "code",
   "execution_count": null,
   "id": "c9be9bfc-4005-4c30-b2b1-ce9398116e12",
   "metadata": {},
   "outputs": [],
   "source": []
  },
  {
   "cell_type": "code",
   "execution_count": 71,
   "id": "5419a637-a6e2-42c3-9ab7-c2d8fbb5a970",
   "metadata": {
    "execution": {
     "iopub.execute_input": "2023-02-16T21:24:38.601215Z",
     "iopub.status.busy": "2023-02-16T21:24:38.600349Z",
     "iopub.status.idle": "2023-02-16T21:24:38.611567Z",
     "shell.execute_reply": "2023-02-16T21:24:38.610094Z",
     "shell.execute_reply.started": "2023-02-16T21:24:38.601090Z"
    },
    "tags": []
   },
   "outputs": [
    {
     "data": {
      "text/plain": [
       "12"
      ]
     },
     "execution_count": 71,
     "metadata": {},
     "output_type": "execute_result"
    }
   ],
   "source": [
    "len(df_collect)"
   ]
  },
  {
   "cell_type": "code",
   "execution_count": 19,
   "id": "0cfd30d7-088e-4ee5-80e4-d42c3d08d57a",
   "metadata": {
    "execution": {
     "iopub.execute_input": "2023-02-16T21:29:18.431686Z",
     "iopub.status.busy": "2023-02-16T21:29:18.430907Z",
     "iopub.status.idle": "2023-02-16T21:29:18.440229Z",
     "shell.execute_reply": "2023-02-16T21:29:18.438976Z",
     "shell.execute_reply.started": "2023-02-16T21:29:18.431618Z"
    },
    "tags": []
   },
   "outputs": [
    {
     "data": {
      "text/plain": [
       "12"
      ]
     },
     "execution_count": 19,
     "metadata": {},
     "output_type": "execute_result"
    }
   ],
   "source": [
    "len(df_ret)"
   ]
  },
  {
   "cell_type": "code",
   "execution_count": null,
   "id": "41a0882d-7675-4384-9d9c-3f3ebff267c7",
   "metadata": {
    "execution": {
     "iopub.execute_input": "2023-02-16T21:25:40.107908Z",
     "iopub.status.busy": "2023-02-16T21:25:40.107076Z",
     "iopub.status.idle": "2023-02-16T21:25:40.124393Z",
     "shell.execute_reply": "2023-02-16T21:25:40.123576Z",
     "shell.execute_reply.started": "2023-02-16T21:25:40.107835Z"
    },
    "tags": []
   },
   "outputs": [
    {
     "data": {
      "text/plain": [
       "{'df_train':       z  y zCategorical yCategorical\n",
       " 4756  0  2       Hosp_A    malignant\n",
       " 1849  0  2       Hosp_A    malignant\n",
       " 8084  0  2       Hosp_A    malignant\n",
       " 850   0  2       Hosp_A    malignant\n",
       " 5845  0  2       Hosp_A    malignant\n",
       " ...  .. ..          ...          ...\n",
       " 1046  0  2       Hosp_A    malignant\n",
       " 9117  0  2       Hosp_A    malignant\n",
       " 7739  0  2       Hosp_A    malignant\n",
       " 6447  0  2       Hosp_A    malignant\n",
       " 1504  0  2       Hosp_A    malignant\n",
       " \n",
       " [96 rows x 4 columns],\n",
       " 'df_test':       z  y zCategorical yCategorical\n",
       " 39    0  2       Hosp_A    malignant\n",
       " 7569  0  2       Hosp_A    malignant\n",
       " 7678  0  2       Hosp_A    malignant\n",
       " 1004  0  2       Hosp_A    malignant\n",
       " 3551  0  2       Hosp_A    malignant\n",
       " 7560  0  2       Hosp_A    malignant\n",
       " 9734  0  2       Hosp_A    malignant\n",
       " 6378  0  2       Hosp_A    malignant\n",
       " 6699  0  2       Hosp_A    malignant,\n",
       " 'y': ['malignant'],\n",
       " 'z': ['Hosp_A']}"
      ]
     },
     "execution_count": 78,
     "metadata": {},
     "output_type": "execute_result"
    }
   ],
   "source": [
    "df_collect[2]"
   ]
  },
  {
   "cell_type": "code",
   "execution_count": 77,
   "id": "fa223d68-4387-4374-a6f9-509ed73a6e57",
   "metadata": {
    "execution": {
     "iopub.execute_input": "2023-02-16T21:25:33.137597Z",
     "iopub.status.busy": "2023-02-16T21:25:33.136767Z",
     "iopub.status.idle": "2023-02-16T21:25:33.155958Z",
     "shell.execute_reply": "2023-02-16T21:25:33.154299Z",
     "shell.execute_reply.started": "2023-02-16T21:25:33.137537Z"
    },
    "tags": []
   },
   "outputs": [
    {
     "data": {
      "text/plain": [
       "{'df_train':       z  y zCategorical yCategorical\n",
       " 4756  0  2       Hosp_A    malignant\n",
       " 1849  0  2       Hosp_A    malignant\n",
       " 8084  0  2       Hosp_A    malignant\n",
       " 850   0  2       Hosp_A    malignant\n",
       " 5845  0  2       Hosp_A    malignant\n",
       " ...  .. ..          ...          ...\n",
       " 1046  0  2       Hosp_A    malignant\n",
       " 9117  0  2       Hosp_A    malignant\n",
       " 7739  0  2       Hosp_A    malignant\n",
       " 6447  0  2       Hosp_A    malignant\n",
       " 1504  0  2       Hosp_A    malignant\n",
       " \n",
       " [96 rows x 4 columns],\n",
       " 'df_test':       z  y zCategorical yCategorical\n",
       " 39    0  2       Hosp_A    malignant\n",
       " 7569  0  2       Hosp_A    malignant\n",
       " 7678  0  2       Hosp_A    malignant\n",
       " 1004  0  2       Hosp_A    malignant\n",
       " 3551  0  2       Hosp_A    malignant\n",
       " 7560  0  2       Hosp_A    malignant\n",
       " 9734  0  2       Hosp_A    malignant\n",
       " 6378  0  2       Hosp_A    malignant\n",
       " 6699  0  2       Hosp_A    malignant,\n",
       " 'y': ['malignant'],\n",
       " 'z': ['Hosp_A']}"
      ]
     },
     "execution_count": 77,
     "metadata": {},
     "output_type": "execute_result"
    }
   ],
   "source": [
    "df_ret[2]"
   ]
  },
  {
   "cell_type": "code",
   "execution_count": 82,
   "id": "df4d8e73-ba16-4443-adb4-1b154898f97a",
   "metadata": {
    "execution": {
     "iopub.execute_input": "2023-02-16T21:26:54.711448Z",
     "iopub.status.busy": "2023-02-16T21:26:54.710637Z",
     "iopub.status.idle": "2023-02-16T21:26:54.717650Z",
     "shell.execute_reply": "2023-02-16T21:26:54.716070Z",
     "shell.execute_reply.started": "2023-02-16T21:26:54.711377Z"
    },
    "tags": []
   },
   "outputs": [],
   "source": [
    "i['df_train']"
   ]
  },
  {
   "cell_type": "code",
   "execution_count": 86,
   "id": "1954e01d-55b3-4414-9639-44dbd7a1b4c5",
   "metadata": {
    "execution": {
     "iopub.execute_input": "2023-02-16T21:27:51.563171Z",
     "iopub.status.busy": "2023-02-16T21:27:51.562344Z",
     "iopub.status.idle": "2023-02-16T21:27:51.569366Z",
     "shell.execute_reply": "2023-02-16T21:27:51.567784Z",
     "shell.execute_reply.started": "2023-02-16T21:27:51.563099Z"
    },
    "tags": []
   },
   "outputs": [],
   "source": [
    "df_ret[0]['df_train']"
   ]
  },
  {
   "cell_type": "code",
   "execution_count": 88,
   "id": "80728104-838c-44c8-9683-3d84bf578714",
   "metadata": {
    "execution": {
     "iopub.execute_input": "2023-02-16T21:28:10.697485Z",
     "iopub.status.busy": "2023-02-16T21:28:10.696588Z",
     "iopub.status.idle": "2023-02-16T21:28:10.709346Z",
     "shell.execute_reply": "2023-02-16T21:28:10.707926Z",
     "shell.execute_reply.started": "2023-02-16T21:28:10.697412Z"
    },
    "tags": []
   },
   "outputs": [
    {
     "name": "stdout",
     "output_type": "stream",
     "text": [
      "12 21\n",
      "96 9\n",
      "24 3\n",
      "96 15\n",
      "126 31\n",
      "54 14\n",
      "54 9\n",
      "54 18\n",
      "72 18\n"
     ]
    }
   ],
   "source": [
    "for i in df_ret:\n",
    "    if i['df_train'] is not None:\n",
    "        print(len(i['df_train']), len(i['df_test']))"
   ]
  },
  {
   "cell_type": "code",
   "execution_count": 89,
   "id": "b714f05c-8f60-4f07-b4d4-35635c6cf510",
   "metadata": {
    "execution": {
     "iopub.execute_input": "2023-02-16T21:28:16.229966Z",
     "iopub.status.busy": "2023-02-16T21:28:16.229671Z",
     "iopub.status.idle": "2023-02-16T21:28:16.237483Z",
     "shell.execute_reply": "2023-02-16T21:28:16.236720Z",
     "shell.execute_reply.started": "2023-02-16T21:28:16.229944Z"
    },
    "tags": []
   },
   "outputs": [
    {
     "name": "stdout",
     "output_type": "stream",
     "text": [
      "12 21\n",
      "96 9\n",
      "24 3\n",
      "96 15\n",
      "126 31\n",
      "54 14\n",
      "54 9\n",
      "54 18\n",
      "72 18\n"
     ]
    }
   ],
   "source": [
    "for i in df_collect:\n",
    "    if i['df_train'] is not None:\n",
    "        print(len(i['df_train']), len(i['df_test']))"
   ]
  },
  {
   "cell_type": "code",
   "execution_count": null,
   "id": "0554235d-20f7-4630-aa39-b9dbd05333f7",
   "metadata": {},
   "outputs": [],
   "source": []
  }
 ],
 "metadata": {
  "kernelspec": {
   "display_name": "Python 3",
   "language": "python",
   "name": "python3"
  },
  "language_info": {
   "codemirror_mode": {
    "name": "ipython",
    "version": 3
   },
   "file_extension": ".py",
   "mimetype": "text/x-python",
   "name": "python",
   "nbconvert_exporter": "python",
   "pygments_lexer": "ipython3",
   "version": "3.8.10"
  },
  "toc": {
   "base_numbering": 1,
   "nav_menu": {},
   "number_sections": true,
   "sideBar": true,
   "skip_h1_title": false,
   "title_cell": "Table of Contents",
   "title_sidebar": "Contents",
   "toc_cell": false,
   "toc_position": {},
   "toc_section_display": true,
   "toc_window_display": false
  },
  "toc-autonumbering": true
 },
 "nbformat": 4,
 "nbformat_minor": 5
}
