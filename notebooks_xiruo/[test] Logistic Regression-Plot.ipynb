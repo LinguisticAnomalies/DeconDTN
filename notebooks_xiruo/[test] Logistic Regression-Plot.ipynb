{
 "cells": [
  {
   "cell_type": "code",
   "execution_count": null,
   "id": "bffd9290-5b02-4400-91e9-fe0e59d1ad5f",
   "metadata": {
    "tags": []
   },
   "outputs": [],
   "source": [
    "\n",
    "\n",
    "import pandas as pd\n",
    "import numpy as np\n",
    "\n",
    "import random\n",
    "import itertools\n",
    "from sklearn import metrics\n",
    "from tqdm.auto import tqdm\n",
    "\n",
    "from sklearn.feature_extraction.text import TfidfVectorizer\n",
    "\n",
    "from sklearn.linear_model import LogisticRegression\n",
    "from sklearn import metrics\n",
    "from sklearn.preprocessing import MultiLabelBinarizer\n",
    "\n",
    "from sklearn.manifold import TSNE\n",
    "from sklearn.decomposition import PCA\n",
    "\n",
    "from sentence_transformers import SentenceTransformer\n",
    "from sklearn.linear_model import LogisticRegression\n",
    "from sklearn import metrics\n",
    "\n",
    "import sys\n",
    "import os\n",
    "\n",
    "import math\n",
    "\n",
    "from utils import number_split, create_mix\n",
    "from data_process import load_wls_adress_AddDomain\n",
    "from process_SHAC import load_process_SHAC\n",
    "from custom_distance import KL\n",
    "\n",
    "\n",
    "\n",
    "from sklearn.feature_extraction.text import CountVectorizer\n",
    "\n",
    "from tqdm import tqdm\n",
    "\n",
    "import matplotlib.pyplot as plt\n",
    "import seaborn as sns\n",
    "from matplotlib import cm\n",
    "\n",
    "import pickle\n"
   ]
  },
  {
   "cell_type": "code",
   "execution_count": null,
   "id": "1fa28785-4687-41ad-bc98-2e3d3cb79fec",
   "metadata": {
    "tags": []
   },
   "outputs": [],
   "source": [
    "from sentence_transformers import SentenceTransformer\n",
    "from transformers import AutoTokenizer, AutoModel\n",
    "import torch\n",
    "import torch.nn.functional as F\n"
   ]
  },
  {
   "cell_type": "code",
   "execution_count": null,
   "id": "4e0e678e-092a-44b3-8d7b-d31dc953b1e5",
   "metadata": {},
   "outputs": [],
   "source": []
  },
  {
   "cell_type": "code",
   "execution_count": 19,
   "id": "05146568-72f7-422b-9fa2-88303598b89e",
   "metadata": {
    "execution": {
     "iopub.execute_input": "2023-03-11T03:04:50.794048Z",
     "iopub.status.busy": "2023-03-11T03:04:50.793622Z",
     "iopub.status.idle": "2023-03-11T03:04:50.799289Z",
     "shell.execute_reply": "2023-03-11T03:04:50.798570Z",
     "shell.execute_reply.started": "2023-03-11T03:04:50.794014Z"
    },
    "tags": []
   },
   "outputs": [],
   "source": [
    "import pandas as pd\n",
    "import numpy as np\n",
    "import pickle\n",
    "import scipy\n",
    "\n",
    "import matplotlib.pyplot as plt\n",
    "import seaborn as sns\n",
    "from matplotlib import cm"
   ]
  },
  {
   "cell_type": "code",
   "execution_count": 9,
   "id": "471500c4-dfb9-4f8b-961f-d904c43a338c",
   "metadata": {
    "execution": {
     "iopub.execute_input": "2023-03-11T03:02:58.922693Z",
     "iopub.status.busy": "2023-03-11T03:02:58.921864Z",
     "iopub.status.idle": "2023-03-11T03:02:58.938263Z",
     "shell.execute_reply": "2023-03-11T03:02:58.937391Z",
     "shell.execute_reply.started": "2023-03-11T03:02:58.922633Z"
    }
   },
   "outputs": [],
   "source": [
    "import sys\n",
    "import os\n",
    "\n",
    "\n",
    "sys.path.append(\"../src\")\n",
    "from custom_distance import KL"
   ]
  },
  {
   "cell_type": "code",
   "execution_count": 6,
   "id": "48f44fa7-8281-44a2-b6e2-e74e8f3a675d",
   "metadata": {
    "execution": {
     "iopub.execute_input": "2023-03-11T03:02:19.824982Z",
     "iopub.status.busy": "2023-03-11T03:02:19.824365Z",
     "iopub.status.idle": "2023-03-11T03:02:19.831698Z",
     "shell.execute_reply": "2023-03-11T03:02:19.830850Z",
     "shell.execute_reply.started": "2023-03-11T03:02:19.824932Z"
    },
    "tags": []
   },
   "outputs": [],
   "source": [
    "# save\n",
    "\n",
    "# with open(\"../output/regressionSHAC/05_02_400_L2_C5_V1.pkl\", \"wb\") as f:\n",
    "#     pickle.dump(df_eval, file=f)\n",
    "    \n",
    "with open(f\"../output/regressionSHAC/05_02_400_l2_C5_V1.pkl\", \"rb\") as f:\n",
    "    df_eval = pickle.load(file=f)"
   ]
  },
  {
   "cell_type": "markdown",
   "id": "1af22c21-07b3-405c-b235-85b5c756d576",
   "metadata": {
    "tags": []
   },
   "source": [
    "# Plot results"
   ]
  },
  {
   "cell_type": "code",
   "execution_count": 7,
   "id": "44a733ab-f995-4a2b-bc02-d3e60c3a8751",
   "metadata": {
    "execution": {
     "iopub.execute_input": "2023-03-11T03:02:20.511604Z",
     "iopub.status.busy": "2023-03-11T03:02:20.510901Z",
     "iopub.status.idle": "2023-03-11T03:02:20.554625Z",
     "shell.execute_reply": "2023-03-11T03:02:20.553809Z",
     "shell.execute_reply.started": "2023-03-11T03:02:20.511540Z"
    },
    "tags": []
   },
   "outputs": [
    {
     "data": {
      "text/html": [
       "<div>\n",
       "<style scoped>\n",
       "    .dataframe tbody tr th:only-of-type {\n",
       "        vertical-align: middle;\n",
       "    }\n",
       "\n",
       "    .dataframe tbody tr th {\n",
       "        vertical-align: top;\n",
       "    }\n",
       "\n",
       "    .dataframe thead th {\n",
       "        text-align: right;\n",
       "    }\n",
       "</style>\n",
       "<table border=\"1\" class=\"dataframe\">\n",
       "  <thead>\n",
       "    <tr style=\"text-align: right;\">\n",
       "      <th></th>\n",
       "      <th>auprc_logistic_confounder</th>\n",
       "      <th>auprc_logistic_vanilla</th>\n",
       "      <th>p_pos_train_z0</th>\n",
       "      <th>p_pos_train_z1</th>\n",
       "      <th>p_pos_train</th>\n",
       "      <th>p_pos_test</th>\n",
       "      <th>p_mix_z0</th>\n",
       "      <th>p_mix_z1</th>\n",
       "      <th>alpha_train</th>\n",
       "      <th>alpha_test</th>\n",
       "      <th>...</th>\n",
       "      <th>n_test</th>\n",
       "      <th>n_z0_pos_train</th>\n",
       "      <th>n_z0_neg_train</th>\n",
       "      <th>n_z0_pos_test</th>\n",
       "      <th>n_z0_neg_test</th>\n",
       "      <th>n_z1_pos_train</th>\n",
       "      <th>n_z1_neg_train</th>\n",
       "      <th>n_z1_pos_test</th>\n",
       "      <th>n_z1_neg_test</th>\n",
       "      <th>run</th>\n",
       "    </tr>\n",
       "  </thead>\n",
       "  <tbody>\n",
       "    <tr>\n",
       "      <th>0</th>\n",
       "      <td>0.942441</td>\n",
       "      <td>0.942424</td>\n",
       "      <td>0.5</td>\n",
       "      <td>0.2</td>\n",
       "      <td>0.47</td>\n",
       "      <td>0.47</td>\n",
       "      <td>0.9</td>\n",
       "      <td>0.1</td>\n",
       "      <td>0.4</td>\n",
       "      <td>0.5</td>\n",
       "      <td>...</td>\n",
       "      <td>400</td>\n",
       "      <td>720</td>\n",
       "      <td>720</td>\n",
       "      <td>178</td>\n",
       "      <td>182</td>\n",
       "      <td>32</td>\n",
       "      <td>128</td>\n",
       "      <td>10</td>\n",
       "      <td>30</td>\n",
       "      <td>0</td>\n",
       "    </tr>\n",
       "    <tr>\n",
       "      <th>1</th>\n",
       "      <td>0.942262</td>\n",
       "      <td>0.942081</td>\n",
       "      <td>0.5</td>\n",
       "      <td>0.2</td>\n",
       "      <td>0.47</td>\n",
       "      <td>0.47</td>\n",
       "      <td>0.9</td>\n",
       "      <td>0.1</td>\n",
       "      <td>0.4</td>\n",
       "      <td>0.6</td>\n",
       "      <td>...</td>\n",
       "      <td>400</td>\n",
       "      <td>720</td>\n",
       "      <td>720</td>\n",
       "      <td>176</td>\n",
       "      <td>184</td>\n",
       "      <td>32</td>\n",
       "      <td>128</td>\n",
       "      <td>12</td>\n",
       "      <td>28</td>\n",
       "      <td>0</td>\n",
       "    </tr>\n",
       "    <tr>\n",
       "      <th>2</th>\n",
       "      <td>0.942325</td>\n",
       "      <td>0.942044</td>\n",
       "      <td>0.5</td>\n",
       "      <td>0.2</td>\n",
       "      <td>0.47</td>\n",
       "      <td>0.47</td>\n",
       "      <td>0.9</td>\n",
       "      <td>0.1</td>\n",
       "      <td>0.4</td>\n",
       "      <td>0.7</td>\n",
       "      <td>...</td>\n",
       "      <td>400</td>\n",
       "      <td>720</td>\n",
       "      <td>720</td>\n",
       "      <td>174</td>\n",
       "      <td>186</td>\n",
       "      <td>32</td>\n",
       "      <td>128</td>\n",
       "      <td>14</td>\n",
       "      <td>26</td>\n",
       "      <td>0</td>\n",
       "    </tr>\n",
       "    <tr>\n",
       "      <th>3</th>\n",
       "      <td>0.942116</td>\n",
       "      <td>0.941810</td>\n",
       "      <td>0.5</td>\n",
       "      <td>0.2</td>\n",
       "      <td>0.47</td>\n",
       "      <td>0.47</td>\n",
       "      <td>0.9</td>\n",
       "      <td>0.1</td>\n",
       "      <td>0.4</td>\n",
       "      <td>0.8</td>\n",
       "      <td>...</td>\n",
       "      <td>400</td>\n",
       "      <td>720</td>\n",
       "      <td>720</td>\n",
       "      <td>173</td>\n",
       "      <td>187</td>\n",
       "      <td>32</td>\n",
       "      <td>128</td>\n",
       "      <td>15</td>\n",
       "      <td>25</td>\n",
       "      <td>0</td>\n",
       "    </tr>\n",
       "    <tr>\n",
       "      <th>4</th>\n",
       "      <td>0.940138</td>\n",
       "      <td>0.939793</td>\n",
       "      <td>0.5</td>\n",
       "      <td>0.2</td>\n",
       "      <td>0.47</td>\n",
       "      <td>0.47</td>\n",
       "      <td>0.9</td>\n",
       "      <td>0.1</td>\n",
       "      <td>0.4</td>\n",
       "      <td>0.9</td>\n",
       "      <td>...</td>\n",
       "      <td>400</td>\n",
       "      <td>720</td>\n",
       "      <td>720</td>\n",
       "      <td>171</td>\n",
       "      <td>189</td>\n",
       "      <td>32</td>\n",
       "      <td>128</td>\n",
       "      <td>17</td>\n",
       "      <td>23</td>\n",
       "      <td>0</td>\n",
       "    </tr>\n",
       "    <tr>\n",
       "      <th>...</th>\n",
       "      <td>...</td>\n",
       "      <td>...</td>\n",
       "      <td>...</td>\n",
       "      <td>...</td>\n",
       "      <td>...</td>\n",
       "      <td>...</td>\n",
       "      <td>...</td>\n",
       "      <td>...</td>\n",
       "      <td>...</td>\n",
       "      <td>...</td>\n",
       "      <td>...</td>\n",
       "      <td>...</td>\n",
       "      <td>...</td>\n",
       "      <td>...</td>\n",
       "      <td>...</td>\n",
       "      <td>...</td>\n",
       "      <td>...</td>\n",
       "      <td>...</td>\n",
       "      <td>...</td>\n",
       "      <td>...</td>\n",
       "      <td>...</td>\n",
       "    </tr>\n",
       "    <tr>\n",
       "      <th>4455</th>\n",
       "      <td>0.857826</td>\n",
       "      <td>0.855259</td>\n",
       "      <td>0.5</td>\n",
       "      <td>0.2</td>\n",
       "      <td>0.23</td>\n",
       "      <td>0.23</td>\n",
       "      <td>0.1</td>\n",
       "      <td>0.9</td>\n",
       "      <td>0.4</td>\n",
       "      <td>0.5</td>\n",
       "      <td>...</td>\n",
       "      <td>400</td>\n",
       "      <td>80</td>\n",
       "      <td>80</td>\n",
       "      <td>17</td>\n",
       "      <td>23</td>\n",
       "      <td>288</td>\n",
       "      <td>1152</td>\n",
       "      <td>75</td>\n",
       "      <td>285</td>\n",
       "      <td>4</td>\n",
       "    </tr>\n",
       "    <tr>\n",
       "      <th>4456</th>\n",
       "      <td>0.860127</td>\n",
       "      <td>0.853934</td>\n",
       "      <td>0.5</td>\n",
       "      <td>0.2</td>\n",
       "      <td>0.23</td>\n",
       "      <td>0.23</td>\n",
       "      <td>0.1</td>\n",
       "      <td>0.9</td>\n",
       "      <td>0.4</td>\n",
       "      <td>0.6</td>\n",
       "      <td>...</td>\n",
       "      <td>400</td>\n",
       "      <td>80</td>\n",
       "      <td>80</td>\n",
       "      <td>14</td>\n",
       "      <td>26</td>\n",
       "      <td>288</td>\n",
       "      <td>1152</td>\n",
       "      <td>78</td>\n",
       "      <td>282</td>\n",
       "      <td>4</td>\n",
       "    </tr>\n",
       "    <tr>\n",
       "      <th>4457</th>\n",
       "      <td>0.859875</td>\n",
       "      <td>0.854705</td>\n",
       "      <td>0.5</td>\n",
       "      <td>0.2</td>\n",
       "      <td>0.23</td>\n",
       "      <td>0.23</td>\n",
       "      <td>0.1</td>\n",
       "      <td>0.9</td>\n",
       "      <td>0.4</td>\n",
       "      <td>0.7</td>\n",
       "      <td>...</td>\n",
       "      <td>400</td>\n",
       "      <td>80</td>\n",
       "      <td>80</td>\n",
       "      <td>13</td>\n",
       "      <td>27</td>\n",
       "      <td>288</td>\n",
       "      <td>1152</td>\n",
       "      <td>79</td>\n",
       "      <td>281</td>\n",
       "      <td>4</td>\n",
       "    </tr>\n",
       "    <tr>\n",
       "      <th>4458</th>\n",
       "      <td>0.859721</td>\n",
       "      <td>0.854453</td>\n",
       "      <td>0.5</td>\n",
       "      <td>0.2</td>\n",
       "      <td>0.23</td>\n",
       "      <td>0.23</td>\n",
       "      <td>0.1</td>\n",
       "      <td>0.9</td>\n",
       "      <td>0.4</td>\n",
       "      <td>0.8</td>\n",
       "      <td>...</td>\n",
       "      <td>400</td>\n",
       "      <td>80</td>\n",
       "      <td>80</td>\n",
       "      <td>11</td>\n",
       "      <td>29</td>\n",
       "      <td>288</td>\n",
       "      <td>1152</td>\n",
       "      <td>81</td>\n",
       "      <td>279</td>\n",
       "      <td>4</td>\n",
       "    </tr>\n",
       "    <tr>\n",
       "      <th>4459</th>\n",
       "      <td>0.856441</td>\n",
       "      <td>0.847762</td>\n",
       "      <td>0.5</td>\n",
       "      <td>0.2</td>\n",
       "      <td>0.23</td>\n",
       "      <td>0.23</td>\n",
       "      <td>0.1</td>\n",
       "      <td>0.9</td>\n",
       "      <td>0.4</td>\n",
       "      <td>0.9</td>\n",
       "      <td>...</td>\n",
       "      <td>400</td>\n",
       "      <td>80</td>\n",
       "      <td>80</td>\n",
       "      <td>10</td>\n",
       "      <td>30</td>\n",
       "      <td>288</td>\n",
       "      <td>1152</td>\n",
       "      <td>82</td>\n",
       "      <td>278</td>\n",
       "      <td>4</td>\n",
       "    </tr>\n",
       "  </tbody>\n",
       "</table>\n",
       "<p>4460 rows × 25 columns</p>\n",
       "</div>"
      ],
      "text/plain": [
       "      auprc_logistic_confounder  auprc_logistic_vanilla  p_pos_train_z0  \\\n",
       "0                      0.942441                0.942424             0.5   \n",
       "1                      0.942262                0.942081             0.5   \n",
       "2                      0.942325                0.942044             0.5   \n",
       "3                      0.942116                0.941810             0.5   \n",
       "4                      0.940138                0.939793             0.5   \n",
       "...                         ...                     ...             ...   \n",
       "4455                   0.857826                0.855259             0.5   \n",
       "4456                   0.860127                0.853934             0.5   \n",
       "4457                   0.859875                0.854705             0.5   \n",
       "4458                   0.859721                0.854453             0.5   \n",
       "4459                   0.856441                0.847762             0.5   \n",
       "\n",
       "      p_pos_train_z1  p_pos_train  p_pos_test  p_mix_z0  p_mix_z1  \\\n",
       "0                0.2         0.47        0.47       0.9       0.1   \n",
       "1                0.2         0.47        0.47       0.9       0.1   \n",
       "2                0.2         0.47        0.47       0.9       0.1   \n",
       "3                0.2         0.47        0.47       0.9       0.1   \n",
       "4                0.2         0.47        0.47       0.9       0.1   \n",
       "...              ...          ...         ...       ...       ...   \n",
       "4455             0.2         0.23        0.23       0.1       0.9   \n",
       "4456             0.2         0.23        0.23       0.1       0.9   \n",
       "4457             0.2         0.23        0.23       0.1       0.9   \n",
       "4458             0.2         0.23        0.23       0.1       0.9   \n",
       "4459             0.2         0.23        0.23       0.1       0.9   \n",
       "\n",
       "      alpha_train  alpha_test  ...  n_test  n_z0_pos_train  n_z0_neg_train  \\\n",
       "0             0.4         0.5  ...     400             720             720   \n",
       "1             0.4         0.6  ...     400             720             720   \n",
       "2             0.4         0.7  ...     400             720             720   \n",
       "3             0.4         0.8  ...     400             720             720   \n",
       "4             0.4         0.9  ...     400             720             720   \n",
       "...           ...         ...  ...     ...             ...             ...   \n",
       "4455          0.4         0.5  ...     400              80              80   \n",
       "4456          0.4         0.6  ...     400              80              80   \n",
       "4457          0.4         0.7  ...     400              80              80   \n",
       "4458          0.4         0.8  ...     400              80              80   \n",
       "4459          0.4         0.9  ...     400              80              80   \n",
       "\n",
       "      n_z0_pos_test  n_z0_neg_test  n_z1_pos_train  n_z1_neg_train  \\\n",
       "0               178            182              32             128   \n",
       "1               176            184              32             128   \n",
       "2               174            186              32             128   \n",
       "3               173            187              32             128   \n",
       "4               171            189              32             128   \n",
       "...             ...            ...             ...             ...   \n",
       "4455             17             23             288            1152   \n",
       "4456             14             26             288            1152   \n",
       "4457             13             27             288            1152   \n",
       "4458             11             29             288            1152   \n",
       "4459             10             30             288            1152   \n",
       "\n",
       "      n_z1_pos_test  n_z1_neg_test  run  \n",
       "0                10             30    0  \n",
       "1                12             28    0  \n",
       "2                14             26    0  \n",
       "3                15             25    0  \n",
       "4                17             23    0  \n",
       "...             ...            ...  ...  \n",
       "4455             75            285    4  \n",
       "4456             78            282    4  \n",
       "4457             79            281    4  \n",
       "4458             81            279    4  \n",
       "4459             82            278    4  \n",
       "\n",
       "[4460 rows x 25 columns]"
      ]
     },
     "execution_count": 7,
     "metadata": {},
     "output_type": "execute_result"
    }
   ],
   "source": [
    "df_eval"
   ]
  },
  {
   "cell_type": "code",
   "execution_count": null,
   "id": "106fd5c2-24c1-40d9-868c-6ae5489f3f5e",
   "metadata": {},
   "outputs": [],
   "source": []
  },
  {
   "cell_type": "code",
   "execution_count": 10,
   "id": "aee7e483-01d7-4b1e-9bfd-bf4b436cd23b",
   "metadata": {
    "execution": {
     "iopub.execute_input": "2023-03-11T03:03:04.569509Z",
     "iopub.status.busy": "2023-03-11T03:03:04.569013Z",
     "iopub.status.idle": "2023-03-11T03:03:04.588606Z",
     "shell.execute_reply": "2023-03-11T03:03:04.585183Z",
     "shell.execute_reply.started": "2023-03-11T03:03:04.569465Z"
    },
    "tags": []
   },
   "outputs": [
    {
     "data": {
      "text/plain": [
       "array([0.5, 0.6, 0.7, 0.8, 0.9, 1. , 1.1, 1.2, 1.3, 1.4, 1.5, 1.6, 1.7,\n",
       "       0.4, 1.8, 1.9, 2. , 2.1, 0.3, 2.2, 2.3, 2.4, 2.5, 2.6, 0.2, 2.7,\n",
       "       2.8, 2.9, 3. , 3.1, 3.2, 3.3, 3.4, 3.5, 3.6, 3.7, 3.8, 3.9, 4. ,\n",
       "       4.1, 4.2, 4.3, 4.4, 4.5, 4.6, 4.7, 4.8, 4.9, 5. , 5.1, 5.2, 5.3,\n",
       "       5.4, 5.5, 5.6, 5.7, 5.8, 5.9, 6. , 6.1, 6.2, 6.3, 6.4, 6.5, 6.6,\n",
       "       6.7, 6.8, 6.9, 7. , 7.1, 7.2, 7.3, 7.4, 7.5, 7.6, 7.7, 7.8, 7.9,\n",
       "       8. , 8.1, 8.2, 8.3, 8.4, 8.5, 8.6, 8.7, 8.8, 0.1, 8.9, 9. , 9.1,\n",
       "       9.2, 9.3, 9.4, 9.5, 9.6, 9.7, 9.8, 9.9])"
      ]
     },
     "execution_count": 10,
     "metadata": {},
     "output_type": "execute_result"
    }
   ],
   "source": [
    "df_eval['alpha_test'].unique()"
   ]
  },
  {
   "cell_type": "code",
   "execution_count": 11,
   "id": "c60265b1-dc0d-4b0f-92f0-c4bcdf5615a4",
   "metadata": {
    "execution": {
     "iopub.execute_input": "2023-03-11T03:03:04.935311Z",
     "iopub.status.busy": "2023-03-11T03:03:04.934909Z",
     "iopub.status.idle": "2023-03-11T03:03:04.946346Z",
     "shell.execute_reply": "2023-03-11T03:03:04.942729Z",
     "shell.execute_reply.started": "2023-03-11T03:03:04.935279Z"
    },
    "tags": []
   },
   "outputs": [
    {
     "data": {
      "text/plain": [
       "array([0.5])"
      ]
     },
     "execution_count": 11,
     "metadata": {},
     "output_type": "execute_result"
    }
   ],
   "source": [
    "df_eval['p_pos_train_z0'].unique()"
   ]
  },
  {
   "cell_type": "code",
   "execution_count": 12,
   "id": "6a69ae3d-a468-406e-afbc-9345f8209db4",
   "metadata": {
    "execution": {
     "iopub.execute_input": "2023-03-11T03:03:05.321549Z",
     "iopub.status.busy": "2023-03-11T03:03:05.320840Z",
     "iopub.status.idle": "2023-03-11T03:03:05.328713Z",
     "shell.execute_reply": "2023-03-11T03:03:05.327762Z",
     "shell.execute_reply.started": "2023-03-11T03:03:05.321487Z"
    },
    "tags": []
   },
   "outputs": [
    {
     "data": {
      "text/plain": [
       "array([0.2])"
      ]
     },
     "execution_count": 12,
     "metadata": {},
     "output_type": "execute_result"
    }
   ],
   "source": [
    "df_eval['p_pos_train_z1'].unique()"
   ]
  },
  {
   "cell_type": "code",
   "execution_count": 13,
   "id": "18e62dab-8848-42be-ab18-6d7291cb41af",
   "metadata": {
    "execution": {
     "iopub.execute_input": "2023-03-11T03:03:05.631211Z",
     "iopub.status.busy": "2023-03-11T03:03:05.630618Z",
     "iopub.status.idle": "2023-03-11T03:03:05.636322Z",
     "shell.execute_reply": "2023-03-11T03:03:05.635312Z",
     "shell.execute_reply.started": "2023-03-11T03:03:05.631160Z"
    },
    "tags": []
   },
   "outputs": [],
   "source": [
    "# df = df_eval.query(\"(p_pos_train_z0 == 0.3) & (p_pos_train_z1 == 0.6)\")\n",
    "df = df_eval.copy()"
   ]
  },
  {
   "cell_type": "code",
   "execution_count": 14,
   "id": "f35fe2f4-1664-4884-affb-398363214fd0",
   "metadata": {
    "execution": {
     "iopub.execute_input": "2023-03-11T03:03:06.069940Z",
     "iopub.status.busy": "2023-03-11T03:03:06.069340Z",
     "iopub.status.idle": "2023-03-11T03:03:06.079408Z",
     "shell.execute_reply": "2023-03-11T03:03:06.078114Z",
     "shell.execute_reply.started": "2023-03-11T03:03:06.069890Z"
    },
    "tags": []
   },
   "outputs": [
    {
     "data": {
      "text/plain": [
       "array([0.4])"
      ]
     },
     "execution_count": 14,
     "metadata": {},
     "output_type": "execute_result"
    }
   ],
   "source": [
    "df['alpha_train'].unique()"
   ]
  },
  {
   "cell_type": "code",
   "execution_count": 15,
   "id": "2929597c-d517-435c-8839-011d986e9278",
   "metadata": {
    "execution": {
     "iopub.execute_input": "2023-03-11T03:03:06.822617Z",
     "iopub.status.busy": "2023-03-11T03:03:06.822020Z",
     "iopub.status.idle": "2023-03-11T03:03:06.829797Z",
     "shell.execute_reply": "2023-03-11T03:03:06.828863Z",
     "shell.execute_reply.started": "2023-03-11T03:03:06.822564Z"
    },
    "tags": []
   },
   "outputs": [
    {
     "data": {
      "text/plain": [
       "17"
      ]
     },
     "execution_count": 15,
     "metadata": {},
     "output_type": "execute_result"
    }
   ],
   "source": [
    "len(df['p_mix_z1'].unique())"
   ]
  },
  {
   "cell_type": "code",
   "execution_count": null,
   "id": "482f6078-5838-4c5c-b611-56f96c4aed65",
   "metadata": {
    "tags": []
   },
   "outputs": [],
   "source": [
    "# df['distance_KL_Test_Train'] = df.apply(lambda x: KL([1-x['p_pos_test_z0'], x['p_pos_test_z0'], 1-x['p_pos_test_z1'], x['p_pos_test_z1']],\n",
    "#                                                            [1-x['p_pos_train_z0'], x['p_pos_train_z0'], 1-x['p_pos_train_z1'], x['p_pos_train_z1']]\n",
    "#                                                           ),\n",
    "#                                               axis=1\n",
    "#                                              )"
   ]
  },
  {
   "cell_type": "code",
   "execution_count": null,
   "id": "8ec12cdc-d0e1-4b18-9ab0-d808405f193c",
   "metadata": {},
   "outputs": [],
   "source": []
  },
  {
   "cell_type": "code",
   "execution_count": 17,
   "id": "db1b4320-73f8-4ee2-9988-a9a33f313e42",
   "metadata": {
    "execution": {
     "iopub.execute_input": "2023-03-11T03:03:29.551141Z",
     "iopub.status.busy": "2023-03-11T03:03:29.550371Z",
     "iopub.status.idle": "2023-03-11T03:03:29.974911Z",
     "shell.execute_reply": "2023-03-11T03:03:29.973491Z",
     "shell.execute_reply.started": "2023-03-11T03:03:29.551072Z"
    },
    "tags": []
   },
   "outputs": [],
   "source": [
    "df['distance_KL_Train_Test'] = df.apply(lambda x: KL([1-x['p_pos_train_z0'], x['p_pos_train_z0'], 1-x['p_pos_train_z1'], x['p_pos_train_z1']],\n",
    "                                                     [1-x['p_pos_test_z0'], x['p_pos_test_z0'], 1-x['p_pos_test_z1'], x['p_pos_test_z1']],\n",
    "                                                           \n",
    "                                                          ),\n",
    "                                              axis=1\n",
    "                                             )\n",
    "\n",
    "df['distance_KL_Test_Train'] = df.apply(lambda x: KL(\n",
    "                                                     [1-x['p_pos_test_z0'], x['p_pos_test_z0'], 1-x['p_pos_test_z1'], x['p_pos_test_z1']],\n",
    "                                                     [1-x['p_pos_train_z0'], x['p_pos_train_z0'], 1-x['p_pos_train_z1'], x['p_pos_train_z1']],\n",
    "                                                           \n",
    "                                                          ),\n",
    "                                              axis=1\n",
    "                                             )\n",
    "\n",
    "\n"
   ]
  },
  {
   "cell_type": "code",
   "execution_count": 21,
   "id": "06df565d-b1dd-4949-a90c-62ec941c17cd",
   "metadata": {
    "execution": {
     "iopub.execute_input": "2023-03-11T03:05:19.572919Z",
     "iopub.status.busy": "2023-03-11T03:05:19.572327Z",
     "iopub.status.idle": "2023-03-11T03:05:20.044428Z",
     "shell.execute_reply": "2023-03-11T03:05:20.043468Z",
     "shell.execute_reply.started": "2023-03-11T03:05:19.572867Z"
    },
    "tags": []
   },
   "outputs": [
    {
     "data": {
      "text/plain": [
       "0       0.026316\n",
       "1       0.052083\n",
       "2       0.077320\n",
       "3       0.102041\n",
       "4       0.126263\n",
       "          ...   \n",
       "4455    0.045455\n",
       "4456    0.078125\n",
       "4457    0.102740\n",
       "4458    0.121951\n",
       "4459    0.137363\n",
       "Length: 4460, dtype: float64"
      ]
     },
     "execution_count": 21,
     "metadata": {},
     "output_type": "execute_result"
    }
   ],
   "source": [
    "# scipy.stats.wasserstein_distance([1-x['p_pos_test_z0'], x['p_pos_test_z0'], 1-x['p_pos_test_z1'], x['p_pos_test_z1']],\n",
    "#                                                      [1-x['p_pos_train_z0'], x['p_pos_train_z0'], 1-x['p_pos_train_z1'], x['p_pos_train_z1']],)\n",
    "\n",
    "\n",
    "df.apply(lambda x: scipy.stats.wasserstein_distance(\n",
    "                                                     [1-x['p_pos_test_z0'], x['p_pos_test_z0'], 1-x['p_pos_test_z1'], x['p_pos_test_z1']],\n",
    "                                                     [1-x['p_pos_train_z0'], x['p_pos_train_z0'], 1-x['p_pos_train_z1'], x['p_pos_train_z1']],\n",
    "                                                           \n",
    "                                                          ),\n",
    "                                              axis=1\n",
    "                                             )"
   ]
  },
  {
   "cell_type": "code",
   "execution_count": null,
   "id": "2376acc7-7764-41cf-8b5f-f77b9ce00ea9",
   "metadata": {
    "tags": []
   },
   "outputs": [],
   "source": [
    "xlabel = \"alpha_test\"\n",
    "\n",
    "p_mix_z1 = df['p_mix_z1'].unique()\n",
    "\n",
    "fig, ax = plt.subplots(math.ceil(len(p_mix_z1)/3),3, figsize=(20,20))\n",
    "ax = ax.ravel()\n",
    "for idx, k in enumerate(p_mix_z1):\n",
    "    _df = df[df['p_mix_z1'] == k].sort_values(\"alpha_test\")\n",
    "    \n",
    "    sns.lineplot(data=_df, x=xlabel, y='auprc_logistic_confounder', ax=ax[idx], label=\"confounder\")\n",
    "    sns.lineplot(data=_df, x=xlabel, y='auprc_logistic_vanilla', ax=ax[idx], label=\"vanilla\")\n",
    "    # ax[idx].plot(_df['alpha_test'], _df['auprc_logistic_confounder'], label=\"confounder\")\n",
    "    # ax[idx].plot(_df['alpha_test'], _df['auprc_logistic_vanilla'], label=\"vanilla\")\n",
    "    \n",
    "    ax[idx].axvline(_df['alpha_train'].unique(), color=\"red\", linestyle=\"--\")\n",
    "    ax[idx].set_title(f\"p_mix_z1 = {round(k,3)}\")\n",
    "    ax[idx].legend()\n",
    "plt.tight_layout()"
   ]
  },
  {
   "cell_type": "code",
   "execution_count": null,
   "id": "32160075-f0c8-45e7-92a0-48940554d159",
   "metadata": {},
   "outputs": [],
   "source": []
  },
  {
   "cell_type": "code",
   "execution_count": null,
   "id": "aaede047-9de1-44ff-a16e-4386741f136a",
   "metadata": {
    "tags": []
   },
   "outputs": [],
   "source": [
    "p_mix_z1 = df['p_mix_z1'].unique()\n",
    "\n",
    "fig, ax = plt.subplots(math.ceil(len(p_mix_z1)/3),3, figsize=(20,20))\n",
    "ax = ax.ravel()\n",
    "for idx, k in enumerate(p_mix_z1):\n",
    "    xlabel = \"distance_KL_Train_Test\"\n",
    "    _df = df[df['p_mix_z1'] == k].sort_values(xlabel)\n",
    "    sns.lineplot(data=_df, x=xlabel, y='auprc_logistic_confounder', ax=ax[idx], label=\"confounder\")\n",
    "    sns.lineplot(data=_df, x=xlabel, y='auprc_logistic_vanilla', ax=ax[idx], label=\"vanilla\")\n",
    "    \n",
    "    ax[idx].set_xlabel(xlabel)\n",
    "    ax[idx].set_ylabel(\"AUPRC\")\n",
    "    # ax[idx].axvline(_df['alpha_train'].unique(), color=\"red\", linestyle=\"--\")\n",
    "    ax[idx].set_title(f\"p_mix_z1 = {round(k,3)}\")\n",
    "    ax[idx].legend()\n",
    "\n",
    "plt.tight_layout()"
   ]
  },
  {
   "cell_type": "code",
   "execution_count": null,
   "id": "91984d3c-cf0e-4ade-a063-c301922304e7",
   "metadata": {
    "tags": []
   },
   "outputs": [],
   "source": [
    "p_mix_z1 = df['p_mix_z1'].unique()\n",
    "\n",
    "fig, ax = plt.subplots(1,1, figsize=(20,10))\n",
    "\n",
    "xlabel = \"distance_KL_Train_Test\"\n",
    "_df = df.sort_values(xlabel)\n",
    "\n",
    "sns.lineplot(data=_df, x=xlabel, y='auprc_logistic_confounder', label=\"confounder\", alpha=0.6)\n",
    "sns.lineplot(data=_df, x=xlabel, y='auprc_logistic_vanilla', label=\"vanilla\", alpha=0.6)\n",
    "\n",
    "# ax.plot(_df[xlabel], _df['auprc_logistic_confounder'], label=\"confounder\", alpha=0.6)\n",
    "# ax.plot(_df[xlabel], _df['auprc_logistic_vanilla'], label=\"vanilla\", alpha=0.6)\n",
    "\n",
    "ax.set_xlabel(xlabel)\n",
    "ax.set_ylabel(\"AUPRC\")\n",
    "# ax[idx].axvline(_df['alpha_train'].unique(), color=\"red\", linestyle=\"--\")\n",
    "ax.legend()\n"
   ]
  },
  {
   "cell_type": "code",
   "execution_count": null,
   "id": "ba3d489e-d851-4aaa-a4b0-3a439907ab27",
   "metadata": {},
   "outputs": [],
   "source": []
  },
  {
   "cell_type": "code",
   "execution_count": null,
   "id": "2748174c-179f-48df-823e-ead1163fb92e",
   "metadata": {},
   "outputs": [],
   "source": []
  },
  {
   "cell_type": "code",
   "execution_count": null,
   "id": "87e67209-cfbb-46e8-a967-ea84c57d092c",
   "metadata": {},
   "outputs": [],
   "source": []
  },
  {
   "cell_type": "code",
   "execution_count": null,
   "id": "7d3ec28e-47eb-444b-9362-72627e941e73",
   "metadata": {},
   "outputs": [],
   "source": []
  },
  {
   "cell_type": "code",
   "execution_count": null,
   "id": "55f0fa9c-a217-4327-8445-0bd9e1eaf42c",
   "metadata": {},
   "outputs": [],
   "source": []
  },
  {
   "cell_type": "code",
   "execution_count": null,
   "id": "10dfa730-1980-4ef1-b8c6-c9585352b6fe",
   "metadata": {
    "tags": []
   },
   "outputs": [],
   "source": [
    "\n",
    "fig, ax = plt.subplots(1,2, figsize=(28,10))\n",
    "xlabel = \"distance_KL_Test_Train\"\n",
    "_df = df.sort_values(xlabel)\n",
    "\n",
    "for idx, k in enumerate([\"auprc_logistic_vanilla\", \"auprc_logistic_confounder\"]):\n",
    "    \n",
    "    im = ax[idx].scatter(_df[\"p_pos_test_z0\"], _df[\"p_pos_test_z1\"], c=_df[k], cmap='Blues')\n",
    "    im.set_clim(0.8,1)\n",
    "    ax[idx].set_xlabel(\"p_pos_test_z0\")\n",
    "    ax[idx].set_ylabel(\"p_pos_test_z1\")\n",
    "    ax[idx].set_title(k)\n",
    "\n",
    "    fig.colorbar(im, ax=ax[idx])"
   ]
  },
  {
   "cell_type": "code",
   "execution_count": null,
   "id": "7b287548-e5db-4806-8c37-f241ac9d92d6",
   "metadata": {
    "tags": []
   },
   "outputs": [],
   "source": [
    "# from matplotlib import cm\n",
    "\n",
    "# fig, ax = plt.subplots(1,1)\n",
    "# xlabel = \"distance_KL_Test_Train\"\n",
    "# _df = df.sort_values(xlabel)\n",
    "\n",
    "\n",
    "# im = ax.scatter(_df[\"p_pos_test_z0\"], _df[\"p_pos_test_z1\"], c=_df[\"auprc_logistic_confounder\"], cmap='Blues')\n",
    "# im.set_clim(0.8,1)\n",
    "# plt.xlabel(\"p_pos_test_z0\")\n",
    "# plt.ylabel(\"p_pos_test_z1\")\n",
    "# plt.title(\"AUPRC of LR with confounder\")\n",
    "\n",
    "# fig.colorbar(im, ax=ax)\n",
    "\n",
    "# from matplotlib import cm\n",
    "\n",
    "# fig, ax = plt.subplots(1,1)\n",
    "# xlabel = \"distance_KL_Test_Train\"\n",
    "# _df = df.sort_values(xlabel)\n",
    "\n",
    "\n",
    "# im = ax.scatter(_df[\"p_pos_test_z0\"], _df[\"p_pos_test_z1\"], c=_df[\"auprc_logistic_vanilla\"], cmap='Blues')\n",
    "# im.set_clim(0.8,1)\n",
    "# plt.title('vanilla LR')\n",
    "# fig.colorbar(im, ax=ax)"
   ]
  },
  {
   "cell_type": "code",
   "execution_count": null,
   "id": "7d440128-b629-40be-a46b-d7f524da5bd0",
   "metadata": {},
   "outputs": [],
   "source": []
  },
  {
   "cell_type": "code",
   "execution_count": null,
   "id": "a20f387c-5ac9-4853-99e7-1d5f8e20c65c",
   "metadata": {},
   "outputs": [],
   "source": []
  },
  {
   "cell_type": "code",
   "execution_count": null,
   "id": "af0d38f5-13a0-4b2b-9207-886ed186ac48",
   "metadata": {},
   "outputs": [],
   "source": [
    "df"
   ]
  },
  {
   "cell_type": "code",
   "execution_count": null,
   "id": "90c572b7-af07-4751-9848-21583dd1fd19",
   "metadata": {},
   "outputs": [],
   "source": []
  },
  {
   "cell_type": "code",
   "execution_count": null,
   "id": "93c71088-6e23-4d5f-b90f-81f8358fefc1",
   "metadata": {},
   "outputs": [],
   "source": []
  },
  {
   "cell_type": "code",
   "execution_count": null,
   "id": "26347183-e370-4d6a-b5e1-0a762c86ef75",
   "metadata": {
    "tags": []
   },
   "outputs": [],
   "source": [
    "df.query(\"0.67 < distance_KL_Test_Train < 0.75\").sort_values(\"distance_KL_Test_Train\")"
   ]
  },
  {
   "cell_type": "markdown",
   "id": "aa091b11-c7c4-464a-8ad7-baf239960f0e",
   "metadata": {},
   "source": [
    "## Check some diagnosis"
   ]
  },
  {
   "cell_type": "code",
   "execution_count": null,
   "id": "04208cda-40b5-41f9-840a-2186d3df7ce5",
   "metadata": {},
   "outputs": [],
   "source": []
  },
  {
   "cell_type": "markdown",
   "id": "13e04d3e-a1ae-4ab9-af9d-37a0a8b5d9bd",
   "metadata": {},
   "source": [
    "### Corr Plot"
   ]
  },
  {
   "cell_type": "code",
   "execution_count": null,
   "id": "409f49b2-e9b3-45c0-92e4-7f10ccc65c4e",
   "metadata": {
    "tags": []
   },
   "outputs": [],
   "source": [
    "plt.figure(figsize=(12,10))\n",
    "sns.heatmap(pd.DataFrame(x_transform_test).iloc[:, :].corr(), vmin=-1, vmax=1)"
   ]
  },
  {
   "cell_type": "markdown",
   "id": "5ae07eb9-d072-4ecd-8877-b08feac5d051",
   "metadata": {},
   "source": [
    "### R2"
   ]
  },
  {
   "cell_type": "code",
   "execution_count": null,
   "id": "bb2a8e65-f395-416a-b44e-62260c4b22e7",
   "metadata": {},
   "outputs": [],
   "source": [
    "from sklearn.metrics import r2_score"
   ]
  },
  {
   "cell_type": "code",
   "execution_count": null,
   "id": "8710c2b1-07f0-40a3-abb5-0b4c6406fd16",
   "metadata": {},
   "outputs": [],
   "source": [
    "r2_score(y_true=y_test, y_pred=y_probs_vanilla[:, 1])"
   ]
  },
  {
   "cell_type": "code",
   "execution_count": null,
   "id": "275cc755-094a-4e7e-a2d2-05df2b53735d",
   "metadata": {
    "tags": []
   },
   "outputs": [],
   "source": [
    "r2_score(y_true=y_test, y_pred=y_probs_confound[:, 1])"
   ]
  },
  {
   "cell_type": "code",
   "execution_count": null,
   "id": "780009d1-d589-497f-b0b6-f2c21aaadbac",
   "metadata": {
    "tags": []
   },
   "outputs": [],
   "source": [
    "def r2AndAdjusted(y_true, y_pred, np):\n",
    "    n = len(y_true)\n",
    "    \n",
    "    r2 = r2_score(y_true=y_true, y_pred=y_pred)\n",
    "    r2_adjusted = 1-(1-r2)*(n-1)/(n-np-1)\n",
    "    \n",
    "    return r2, r2_adjusted\n",
    "    "
   ]
  },
  {
   "cell_type": "code",
   "execution_count": null,
   "id": "e2e4457d-f3b4-4dbd-a37c-80ac6d7624c4",
   "metadata": {
    "tags": []
   },
   "outputs": [],
   "source": [
    "r2AndAdjusted(y_true=y_test, y_pred=y_probs_vanilla[:, 1], np=384)"
   ]
  },
  {
   "cell_type": "code",
   "execution_count": null,
   "id": "fff61946-e8f6-47f5-af17-0c74729d8c18",
   "metadata": {
    "tags": []
   },
   "outputs": [],
   "source": [
    "# auprc_logistic_confounder\n",
    "\n",
    "# auprc_logistic_vanilla"
   ]
  },
  {
   "cell_type": "code",
   "execution_count": null,
   "id": "607d1cf5-d92e-4d17-9010-bf393f8a3f09",
   "metadata": {
    "tags": []
   },
   "outputs": [],
   "source": [
    "x_transform_train.shape"
   ]
  },
  {
   "cell_type": "code",
   "execution_count": null,
   "id": "7763538b-c6f1-4fc9-b70e-aea3d793d84c",
   "metadata": {},
   "outputs": [],
   "source": []
  },
  {
   "cell_type": "code",
   "execution_count": null,
   "id": "b13386b6-abd8-46af-88fe-cb201bcfedf1",
   "metadata": {},
   "outputs": [],
   "source": []
  },
  {
   "cell_type": "markdown",
   "id": "1095fb23-8c4e-4d65-aeeb-28290f94c842",
   "metadata": {},
   "source": [
    "### Deviance Residuals"
   ]
  },
  {
   "cell_type": "code",
   "execution_count": null,
   "id": "577b8d25-a5bd-4bcb-9e28-a0814d17c094",
   "metadata": {
    "tags": []
   },
   "outputs": [],
   "source": [
    "def deviance(X, y, model):\n",
    "    return 2*metrics.log_loss(y, model.predict_proba(X), normalize=False)"
   ]
  },
  {
   "cell_type": "code",
   "execution_count": null,
   "id": "3bb93927-27c6-4133-9def-e3b90a2a373f",
   "metadata": {
    "tags": []
   },
   "outputs": [],
   "source": [
    "deviance(X=x_transform_test, y=y_test, model=clf_vanilla)"
   ]
  },
  {
   "cell_type": "code",
   "execution_count": null,
   "id": "dc42e8a1-d549-4cfb-84dc-7a6902ce94e2",
   "metadata": {},
   "outputs": [],
   "source": []
  },
  {
   "cell_type": "code",
   "execution_count": null,
   "id": "30f6aa60-7cee-42fd-bf4c-61854f729346",
   "metadata": {},
   "outputs": [],
   "source": []
  },
  {
   "cell_type": "code",
   "execution_count": null,
   "id": "9ceb57b0-97ed-4c9f-9ece-8be4a4c46acc",
   "metadata": {},
   "outputs": [],
   "source": []
  },
  {
   "cell_type": "code",
   "execution_count": null,
   "id": "a80aa31e-b5a0-42ea-9877-ecdf802f97ba",
   "metadata": {},
   "outputs": [],
   "source": []
  },
  {
   "cell_type": "markdown",
   "id": "bbb541c6-b53d-4e1b-be85-a15fcd9e46fb",
   "metadata": {},
   "source": [
    "### Calibration"
   ]
  },
  {
   "cell_type": "code",
   "execution_count": null,
   "id": "4f752c85-6989-42ab-9ae0-af011494dcd4",
   "metadata": {
    "tags": []
   },
   "outputs": [],
   "source": [
    "from sklearn.calibration import calibration_curve\n",
    "prob_true_vanilla, prob_pred_vanilla = calibration_curve(y_true=y_test, y_prob=y_probs_vanilla[:,1], n_bins=10)\n",
    "prob_true_confound, prob_pred_confound = calibration_curve(y_true=y_test, y_prob=y_probs_confound[:,1], n_bins=10)\n"
   ]
  },
  {
   "cell_type": "code",
   "execution_count": null,
   "id": "c2b54806-5c23-486b-9477-07510170b25e",
   "metadata": {},
   "outputs": [],
   "source": []
  },
  {
   "cell_type": "code",
   "execution_count": null,
   "id": "becef30d-93d4-4648-b892-d00370da644f",
   "metadata": {
    "tags": []
   },
   "outputs": [],
   "source": [
    "fig, ax = plt.subplots(1,1,figsize=(8,8))\n",
    "ax.plot(prob_pred_vanilla, prob_true_vanilla, label='vanilla')\n",
    "ax.plot(prob_pred_confound, prob_true_confound, label='confound')\n",
    "\n",
    "ax.plot([0,1],[0,1], \"--\", color='gray')\n",
    "ax.legend()\n"
   ]
  },
  {
   "cell_type": "code",
   "execution_count": null,
   "id": "06d0a2df-8d33-49d5-8514-27075f7e2bed",
   "metadata": {},
   "outputs": [],
   "source": []
  },
  {
   "cell_type": "code",
   "execution_count": null,
   "id": "61dab0ad-ef30-4fc4-866b-6c69518d76c1",
   "metadata": {},
   "outputs": [],
   "source": []
  },
  {
   "cell_type": "code",
   "execution_count": null,
   "id": "8a79d80d-9659-4524-8f8f-8d0a14086803",
   "metadata": {},
   "outputs": [],
   "source": []
  },
  {
   "cell_type": "code",
   "execution_count": null,
   "id": "13eab32d-b65a-4a8b-aa43-c8e47f72f5ca",
   "metadata": {},
   "outputs": [],
   "source": []
  },
  {
   "cell_type": "code",
   "execution_count": null,
   "id": "bb8b5dd9-4e3e-4dcb-b20c-20e3ccfbc2cf",
   "metadata": {},
   "outputs": [],
   "source": []
  }
 ],
 "metadata": {
  "kernelspec": {
   "display_name": "Python 3",
   "language": "python",
   "name": "python3"
  },
  "language_info": {
   "codemirror_mode": {
    "name": "ipython",
    "version": 3
   },
   "file_extension": ".py",
   "mimetype": "text/x-python",
   "name": "python",
   "nbconvert_exporter": "python",
   "pygments_lexer": "ipython3",
   "version": "3.8.10"
  },
  "toc-autonumbering": true
 },
 "nbformat": 4,
 "nbformat_minor": 5
}
