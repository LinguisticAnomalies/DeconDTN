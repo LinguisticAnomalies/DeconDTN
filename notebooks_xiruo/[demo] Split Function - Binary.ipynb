{
 "cells": [
  {
   "cell_type": "code",
   "execution_count": 5,
   "id": "bffd9290-5b02-4400-91e9-fe0e59d1ad5f",
   "metadata": {
    "execution": {
     "iopub.execute_input": "2023-07-20T22:07:17.113611Z",
     "iopub.status.busy": "2023-07-20T22:07:17.112807Z",
     "iopub.status.idle": "2023-07-20T22:07:17.120508Z",
     "shell.execute_reply": "2023-07-20T22:07:17.118910Z",
     "shell.execute_reply.started": "2023-07-20T22:07:17.113540Z"
    },
    "tags": []
   },
   "outputs": [],
   "source": [
    "import sys\n",
    "import itertools\n",
    "import pandas as pd\n",
    "import numpy as np\n",
    "import pathlib\n",
    "\n",
    "from tqdm.auto import tqdm"
   ]
  },
  {
   "cell_type": "code",
   "execution_count": null,
   "id": "0360062d-24ce-4312-b105-7514bc818f9d",
   "metadata": {},
   "outputs": [],
   "source": []
  },
  {
   "cell_type": "code",
   "execution_count": 2,
   "id": "bfe07753-b248-4061-9899-0ee6f9186544",
   "metadata": {
    "execution": {
     "iopub.execute_input": "2023-07-20T22:06:11.140979Z",
     "iopub.status.busy": "2023-07-20T22:06:11.140161Z",
     "iopub.status.idle": "2023-07-20T22:06:11.711522Z",
     "shell.execute_reply": "2023-07-20T22:06:11.710295Z",
     "shell.execute_reply.started": "2023-07-20T22:06:11.140917Z"
    },
    "tags": []
   },
   "outputs": [],
   "source": [
    "sys.path.append(\"../src\")\n",
    "\n",
    "from utils import number_split, create_mix"
   ]
  },
  {
   "cell_type": "code",
   "execution_count": null,
   "id": "e54cc645-6ed9-4ccc-ac23-f7577005bf54",
   "metadata": {},
   "outputs": [],
   "source": []
  },
  {
   "cell_type": "markdown",
   "id": "874b0352-c41f-4047-9fae-a839a4a0772b",
   "metadata": {},
   "source": [
    "# Load Datasets"
   ]
  },
  {
   "cell_type": "markdown",
   "id": "b23d9833-0724-489b-9ced-bc70a12243cc",
   "metadata": {},
   "source": [
    "## Option 1: Load from preprocessed Toy dataset"
   ]
  },
  {
   "cell_type": "code",
   "execution_count": 22,
   "id": "bf3cb15b-2590-447f-9dff-9d81e2f7ea49",
   "metadata": {
    "execution": {
     "iopub.execute_input": "2023-07-20T22:17:21.989944Z",
     "iopub.status.busy": "2023-07-20T22:17:21.989156Z",
     "iopub.status.idle": "2023-07-20T22:17:22.127920Z",
     "shell.execute_reply": "2023-07-20T22:17:22.126632Z",
     "shell.execute_reply.started": "2023-07-20T22:17:21.989872Z"
    },
    "tags": []
   },
   "outputs": [],
   "source": [
    "df_imdb = pd.read_csv(\"../dataToy/horror_family.csv\")"
   ]
  },
  {
   "cell_type": "code",
   "execution_count": 4,
   "id": "2a5dc2c9-2241-4c40-8e97-a5934bc412f6",
   "metadata": {
    "execution": {
     "iopub.execute_input": "2023-07-19T20:53:47.703332Z",
     "iopub.status.busy": "2023-07-19T20:53:47.703119Z",
     "iopub.status.idle": "2023-07-19T20:53:47.722732Z",
     "shell.execute_reply": "2023-07-19T20:53:47.721814Z",
     "shell.execute_reply.started": "2023-07-19T20:53:47.703311Z"
    }
   },
   "outputs": [],
   "source": [
    "df_imdb['label_binary'] = df_imdb['label'].map({\"pos\":1,\"neg\":0})\n",
    "\n",
    "# Split original dataset into two\n",
    "df_imdb_horror = df_imdb.query(\"domain == 'Horror'\").reset_index(drop=True)\n",
    "\n",
    "\n",
    "df_imdb_family = df_imdb.query(\"domain == 'Family'\").reset_index(drop=True)\n"
   ]
  },
  {
   "cell_type": "code",
   "execution_count": 5,
   "id": "80542306-e0e2-4d49-8728-d9d5f9d2c7cf",
   "metadata": {
    "execution": {
     "iopub.execute_input": "2023-07-19T20:53:47.724154Z",
     "iopub.status.busy": "2023-07-19T20:53:47.723849Z",
     "iopub.status.idle": "2023-07-19T20:53:47.757926Z",
     "shell.execute_reply": "2023-07-19T20:53:47.757229Z",
     "shell.execute_reply.started": "2023-07-19T20:53:47.724125Z"
    },
    "tags": []
   },
   "outputs": [
    {
     "data": {
      "text/html": [
       "<div>\n",
       "<style scoped>\n",
       "    .dataframe tbody tr th:only-of-type {\n",
       "        vertical-align: middle;\n",
       "    }\n",
       "\n",
       "    .dataframe tbody tr th {\n",
       "        vertical-align: top;\n",
       "    }\n",
       "\n",
       "    .dataframe thead th {\n",
       "        text-align: right;\n",
       "    }\n",
       "</style>\n",
       "<table border=\"1\" class=\"dataframe\">\n",
       "  <thead>\n",
       "    <tr style=\"text-align: right;\">\n",
       "      <th></th>\n",
       "      <th>id</th>\n",
       "      <th>text</th>\n",
       "      <th>label</th>\n",
       "      <th>score</th>\n",
       "      <th>url</th>\n",
       "      <th>tconst</th>\n",
       "      <th>id_w_tag</th>\n",
       "      <th>set</th>\n",
       "      <th>titleType</th>\n",
       "      <th>primaryTitle</th>\n",
       "      <th>originalTitle</th>\n",
       "      <th>isAdult</th>\n",
       "      <th>startYear</th>\n",
       "      <th>endYear</th>\n",
       "      <th>runtimeMinutes</th>\n",
       "      <th>genres</th>\n",
       "      <th>domain</th>\n",
       "      <th>label_binary</th>\n",
       "    </tr>\n",
       "  </thead>\n",
       "  <tbody>\n",
       "    <tr>\n",
       "      <th>0</th>\n",
       "      <td>8286</td>\n",
       "      <td>Larry Fessenden has been thrashed by most of t...</td>\n",
       "      <td>pos</td>\n",
       "      <td>7</td>\n",
       "      <td>http://www.imdb.com/title/tt0275067/usercomments</td>\n",
       "      <td>tt0275067</td>\n",
       "      <td>pos_8286</td>\n",
       "      <td>train</td>\n",
       "      <td>movie</td>\n",
       "      <td>Wendigo</td>\n",
       "      <td>Wendigo</td>\n",
       "      <td>0</td>\n",
       "      <td>2001</td>\n",
       "      <td>\\N</td>\n",
       "      <td>91</td>\n",
       "      <td>Horror,Mystery,Thriller</td>\n",
       "      <td>Horror</td>\n",
       "      <td>1</td>\n",
       "    </tr>\n",
       "    <tr>\n",
       "      <th>1</th>\n",
       "      <td>8279</td>\n",
       "      <td>This film is more about how children make sens...</td>\n",
       "      <td>pos</td>\n",
       "      <td>10</td>\n",
       "      <td>http://www.imdb.com/title/tt0275067/usercomments</td>\n",
       "      <td>tt0275067</td>\n",
       "      <td>pos_8279</td>\n",
       "      <td>train</td>\n",
       "      <td>movie</td>\n",
       "      <td>Wendigo</td>\n",
       "      <td>Wendigo</td>\n",
       "      <td>0</td>\n",
       "      <td>2001</td>\n",
       "      <td>\\N</td>\n",
       "      <td>91</td>\n",
       "      <td>Horror,Mystery,Thriller</td>\n",
       "      <td>Horror</td>\n",
       "      <td>1</td>\n",
       "    </tr>\n",
       "    <tr>\n",
       "      <th>2</th>\n",
       "      <td>8273</td>\n",
       "      <td>If you want Scream or anything like the big-st...</td>\n",
       "      <td>pos</td>\n",
       "      <td>10</td>\n",
       "      <td>http://www.imdb.com/title/tt0275067/usercomments</td>\n",
       "      <td>tt0275067</td>\n",
       "      <td>pos_8273</td>\n",
       "      <td>train</td>\n",
       "      <td>movie</td>\n",
       "      <td>Wendigo</td>\n",
       "      <td>Wendigo</td>\n",
       "      <td>0</td>\n",
       "      <td>2001</td>\n",
       "      <td>\\N</td>\n",
       "      <td>91</td>\n",
       "      <td>Horror,Mystery,Thriller</td>\n",
       "      <td>Horror</td>\n",
       "      <td>1</td>\n",
       "    </tr>\n",
       "    <tr>\n",
       "      <th>3</th>\n",
       "      <td>8276</td>\n",
       "      <td>Now this is what I'm talking about. Finally, a...</td>\n",
       "      <td>pos</td>\n",
       "      <td>10</td>\n",
       "      <td>http://www.imdb.com/title/tt0275067/usercomments</td>\n",
       "      <td>tt0275067</td>\n",
       "      <td>pos_8276</td>\n",
       "      <td>train</td>\n",
       "      <td>movie</td>\n",
       "      <td>Wendigo</td>\n",
       "      <td>Wendigo</td>\n",
       "      <td>0</td>\n",
       "      <td>2001</td>\n",
       "      <td>\\N</td>\n",
       "      <td>91</td>\n",
       "      <td>Horror,Mystery,Thriller</td>\n",
       "      <td>Horror</td>\n",
       "      <td>1</td>\n",
       "    </tr>\n",
       "    <tr>\n",
       "      <th>4</th>\n",
       "      <td>8281</td>\n",
       "      <td>From the first scene, I was really excited. \"I...</td>\n",
       "      <td>pos</td>\n",
       "      <td>7</td>\n",
       "      <td>http://www.imdb.com/title/tt0275067/usercomments</td>\n",
       "      <td>tt0275067</td>\n",
       "      <td>pos_8281</td>\n",
       "      <td>train</td>\n",
       "      <td>movie</td>\n",
       "      <td>Wendigo</td>\n",
       "      <td>Wendigo</td>\n",
       "      <td>0</td>\n",
       "      <td>2001</td>\n",
       "      <td>\\N</td>\n",
       "      <td>91</td>\n",
       "      <td>Horror,Mystery,Thriller</td>\n",
       "      <td>Horror</td>\n",
       "      <td>1</td>\n",
       "    </tr>\n",
       "  </tbody>\n",
       "</table>\n",
       "</div>"
      ],
      "text/plain": [
       "     id                                               text label  score  \\\n",
       "0  8286  Larry Fessenden has been thrashed by most of t...   pos      7   \n",
       "1  8279  This film is more about how children make sens...   pos     10   \n",
       "2  8273  If you want Scream or anything like the big-st...   pos     10   \n",
       "3  8276  Now this is what I'm talking about. Finally, a...   pos     10   \n",
       "4  8281  From the first scene, I was really excited. \"I...   pos      7   \n",
       "\n",
       "                                                url     tconst  id_w_tag  \\\n",
       "0  http://www.imdb.com/title/tt0275067/usercomments  tt0275067  pos_8286   \n",
       "1  http://www.imdb.com/title/tt0275067/usercomments  tt0275067  pos_8279   \n",
       "2  http://www.imdb.com/title/tt0275067/usercomments  tt0275067  pos_8273   \n",
       "3  http://www.imdb.com/title/tt0275067/usercomments  tt0275067  pos_8276   \n",
       "4  http://www.imdb.com/title/tt0275067/usercomments  tt0275067  pos_8281   \n",
       "\n",
       "     set titleType primaryTitle originalTitle  isAdult  startYear endYear  \\\n",
       "0  train     movie      Wendigo       Wendigo        0       2001      \\N   \n",
       "1  train     movie      Wendigo       Wendigo        0       2001      \\N   \n",
       "2  train     movie      Wendigo       Wendigo        0       2001      \\N   \n",
       "3  train     movie      Wendigo       Wendigo        0       2001      \\N   \n",
       "4  train     movie      Wendigo       Wendigo        0       2001      \\N   \n",
       "\n",
       "  runtimeMinutes                   genres  domain  label_binary  \n",
       "0             91  Horror,Mystery,Thriller  Horror             1  \n",
       "1             91  Horror,Mystery,Thriller  Horror             1  \n",
       "2             91  Horror,Mystery,Thriller  Horror             1  \n",
       "3             91  Horror,Mystery,Thriller  Horror             1  \n",
       "4             91  Horror,Mystery,Thriller  Horror             1  "
      ]
     },
     "execution_count": 5,
     "metadata": {},
     "output_type": "execute_result"
    }
   ],
   "source": [
    "df_imdb.head()"
   ]
  },
  {
   "cell_type": "code",
   "execution_count": null,
   "id": "1f6c20f7-f888-4397-8779-d69c26084b4b",
   "metadata": {},
   "outputs": [],
   "source": []
  },
  {
   "cell_type": "code",
   "execution_count": null,
   "id": "5a7ce211-75bd-4d88-85c6-a8eaca81f7b8",
   "metadata": {
    "tags": []
   },
   "outputs": [],
   "source": []
  },
  {
   "cell_type": "code",
   "execution_count": null,
   "id": "57929a1e-23f4-424c-8728-452a3b200c30",
   "metadata": {},
   "outputs": [],
   "source": []
  },
  {
   "cell_type": "code",
   "execution_count": 6,
   "id": "fc438416-ba7b-4843-9352-1879b7aa0305",
   "metadata": {
    "execution": {
     "iopub.execute_input": "2023-07-19T20:53:47.759675Z",
     "iopub.status.busy": "2023-07-19T20:53:47.759463Z",
     "iopub.status.idle": "2023-07-19T20:53:47.770053Z",
     "shell.execute_reply": "2023-07-19T20:53:47.769219Z",
     "shell.execute_reply.started": "2023-07-19T20:53:47.759655Z"
    }
   },
   "outputs": [
    {
     "name": "stdout",
     "output_type": "stream",
     "text": [
      "label\n",
      "neg    3055\n",
      "pos    1167\n",
      "dtype: int64\n",
      "label\n",
      "neg    612\n",
      "pos    782\n",
      "dtype: int64\n"
     ]
    }
   ],
   "source": [
    "print(df_imdb_horror.groupby(\"label\").size())\n",
    "print(df_imdb_family.groupby(\"label\").size())"
   ]
  },
  {
   "cell_type": "code",
   "execution_count": 7,
   "id": "8c311844-e8ad-441e-9b31-eddf9f29ea3a",
   "metadata": {
    "execution": {
     "iopub.execute_input": "2023-07-19T20:53:47.771788Z",
     "iopub.status.busy": "2023-07-19T20:53:47.771446Z",
     "iopub.status.idle": "2023-07-19T20:53:47.781879Z",
     "shell.execute_reply": "2023-07-19T20:53:47.781015Z",
     "shell.execute_reply.started": "2023-07-19T20:53:47.771746Z"
    },
    "tags": []
   },
   "outputs": [
    {
     "name": "stdout",
     "output_type": "stream",
     "text": [
      "label_binary\n",
      "0    3055\n",
      "1    1167\n",
      "dtype: int64\n",
      "label_binary\n",
      "0    612\n",
      "1    782\n",
      "dtype: int64\n"
     ]
    }
   ],
   "source": [
    "print(df_imdb_horror.groupby(\"label_binary\").size())\n",
    "print(df_imdb_family.groupby(\"label_binary\").size())"
   ]
  },
  {
   "cell_type": "code",
   "execution_count": null,
   "id": "c9b7eaad-50b6-46bc-8227-a9ae59f6eac7",
   "metadata": {},
   "outputs": [],
   "source": []
  },
  {
   "cell_type": "markdown",
   "id": "ea1c20a9-cf43-4d24-bf46-b1b74f010072",
   "metadata": {},
   "source": [
    "## Option 2: Download IMDB Dataset"
   ]
  },
  {
   "cell_type": "markdown",
   "id": "eb7bcb8f-7f8b-4168-a828-24037d26c898",
   "metadata": {},
   "source": [
    "The link to the original dataset used in this notebook: https://ai.stanford.edu/~amaas/data/sentiment/\n",
    "\n",
    "\n",
    "For this demo, only data in `train` are used.\n",
    "\n",
    "\n",
    "- Two provenances: genre-Horror, genre-Family\n",
    "- Outcome: Positive, Negative"
   ]
  },
  {
   "cell_type": "code",
   "execution_count": 16,
   "id": "f2c5d5de-fe3f-430b-84cc-ee7c424cdc66",
   "metadata": {
    "execution": {
     "iopub.execute_input": "2023-07-20T22:13:19.420051Z",
     "iopub.status.busy": "2023-07-20T22:13:19.419182Z",
     "iopub.status.idle": "2023-07-20T22:13:25.298485Z",
     "shell.execute_reply": "2023-07-20T22:13:25.296617Z",
     "shell.execute_reply.started": "2023-07-20T22:13:19.419977Z"
    },
    "tags": []
   },
   "outputs": [],
   "source": [
    "%%bash\n",
    "cd ../dataToy\n",
    "\n",
    "wget https://ai.stanford.edu/~amaas/data/sentiment/aclImdb_v1.tar.gz >/dev/null 2>&1\n",
    "\n",
    "tar -xf aclImdb_v1.tar.gz "
   ]
  },
  {
   "cell_type": "code",
   "execution_count": 14,
   "id": "3666a6ee-2e3d-499d-bb26-fe56b07e44da",
   "metadata": {
    "execution": {
     "iopub.execute_input": "2023-07-20T22:12:55.049814Z",
     "iopub.status.busy": "2023-07-20T22:12:55.048984Z",
     "iopub.status.idle": "2023-07-20T22:13:02.151893Z",
     "shell.execute_reply": "2023-07-20T22:13:02.149542Z",
     "shell.execute_reply.started": "2023-07-20T22:12:55.049733Z"
    },
    "tags": []
   },
   "outputs": [],
   "source": [
    "%%bash\n",
    "cd ../dataToy\n",
    "\n",
    "wget https://datasets.imdbws.com/title.basics.tsv.gz >/dev/null 2>&1\n",
    "\n",
    "gzip -d title.basics.tsv.gz"
   ]
  },
  {
   "cell_type": "code",
   "execution_count": null,
   "id": "e23ba8df-a1ec-49d8-8560-1ea1bca6663b",
   "metadata": {
    "tags": []
   },
   "outputs": [],
   "source": [
    "df_ls = []\n",
    "\n",
    "\n",
    "\n",
    "basepath=\"../dataToy/aclImdb/\"\n",
    "set_name = \"train\"\n",
    "\n",
    "tags = [\"pos\",\"neg\"]\n",
    "\n",
    "\n",
    "for tag in tags:\n",
    "    id_ls = []\n",
    "    score_ls = []\n",
    "    text_ls = []\n",
    "    label_ls = []\n",
    "\n",
    "    url_ls = []\n",
    "    tconst_ls = []\n",
    "    \n",
    "    path = pathlib.Path(basepath, set_name, tag)\n",
    "    url_file = pathlib.Path(basepath, set_name, f\"urls_{tag}.txt\")\n",
    "    \n",
    "    with open(url_file, \"r\") as f:\n",
    "        _allurls = f.readlines()\n",
    "        url_ls.append([x.rstrip() for x in _allurls])\n",
    "        tconst_ls.append([x.rstrip().split(\"/\")[-2] for x in _allurls])\n",
    "    \n",
    "    for ifile in path.glob(\"*\"):\n",
    "        with open(ifile, \"r\") as f:\n",
    "            txt = f.readlines()\n",
    "\n",
    "            text_ls.append(\" \".join(txt))\n",
    "\n",
    "\n",
    "\n",
    "\n",
    "\n",
    "        _id, _score = ifile.with_suffix('').name.split(\"_\")\n",
    "\n",
    "        id_ls.append(int(_id))\n",
    "        score_ls.append(_score)\n",
    "        label_ls.append(tag)\n",
    "\n",
    "    df_tmp = pd.DataFrame({\"id\":id_ls,\n",
    "                         \"text\":text_ls,\n",
    "                         \"label\":label_ls,\n",
    "                         \"score\":score_ls,\n",
    "                        })\n",
    "    \n",
    "    df_tmp = df_tmp.set_index('id')\n",
    "\n",
    "    df_url = pd.DataFrame({\"url\":url_ls[0], \"tconst\":tconst_ls[0]})\n",
    "\n",
    "    df_url.index.name = 'id'\n",
    "\n",
    "    df_tmp = df_tmp.merge(df_url, on='id')\n",
    "\n",
    "\n",
    "\n",
    "    assert df_tmp.index.nunique() == len(df_tmp)\n",
    "\n",
    "    df_tmp['id_w_tag'] = df_tmp.index\n",
    "\n",
    "    df_tmp['id_w_tag'] = df_tmp['id_w_tag'].apply(lambda x: tag + \"_\" + str(x))\n",
    "    df_tmp = df_tmp.reset_index()\n",
    "    \n",
    "    df_tmp['set'] = set_name\n",
    "    \n",
    "    \n",
    "    df_ls.append(df_tmp)\n",
    "    \n",
    "df = pd.concat(df_ls, ignore_index=True)\n",
    "\n",
    "# get Genre\n",
    "df_title_basics = pd.read_csv(\"../dataToy/title.basics.tsv\", sep=\"\\t\")\n",
    "df = df.merge(df_title_basics, on=\"tconst\", how='inner')\n",
    "\n",
    "\n",
    "# select Horror and Family\n",
    "df_horror = df[df['genres'].str.contains(\"Horror\")].reset_index(drop=True)\n",
    "df_horror['domain'] = 'Horror'\n",
    "\n",
    "df_family = df[df['genres'].str.contains(\"Family\")].reset_index(drop=True)\n",
    "df_family['domain'] = 'Family'\n",
    "\n",
    "\n",
    "# Merge and Save\n",
    "df_mix = pd.concat([df_horror, df_family]).reset_index(drop=True)\n",
    "\n",
    "df_mix.to_csv(\"../dataToy/horror_family.csv\", index=False)"
   ]
  },
  {
   "cell_type": "code",
   "execution_count": null,
   "id": "32b35d32-5755-43ad-893b-9a6b4fcaf43e",
   "metadata": {},
   "outputs": [],
   "source": []
  },
  {
   "cell_type": "code",
   "execution_count": null,
   "id": "bb97ec76-7300-4c06-8ded-bb7ea5172f29",
   "metadata": {},
   "outputs": [],
   "source": []
  },
  {
   "cell_type": "code",
   "execution_count": null,
   "id": "d321bc90-04ef-43cb-8e66-373cadd68889",
   "metadata": {},
   "outputs": [],
   "source": []
  },
  {
   "cell_type": "markdown",
   "id": "95454e77-e4ea-4c46-b0a6-cb57a2cf4e34",
   "metadata": {
    "tags": []
   },
   "source": [
    "# Split"
   ]
  },
  {
   "cell_type": "markdown",
   "id": "934542b5-32b3-4e77-94c0-75d5900ea8b6",
   "metadata": {},
   "source": [
    "## Configs"
   ]
  },
  {
   "cell_type": "code",
   "execution_count": 8,
   "id": "476ebec3-95fb-4578-9201-2431a8400128",
   "metadata": {
    "execution": {
     "iopub.execute_input": "2023-07-19T20:53:47.783407Z",
     "iopub.status.busy": "2023-07-19T20:53:47.783054Z",
     "iopub.status.idle": "2023-07-19T20:53:47.788335Z",
     "shell.execute_reply": "2023-07-19T20:53:47.787488Z",
     "shell.execute_reply.started": "2023-07-19T20:53:47.783372Z"
    },
    "tags": []
   },
   "outputs": [],
   "source": [
    "n_test = 500\n",
    "train_test_ratio = 4\n",
    "\n",
    "p_pos_train_z0_ls = [0.3]\n",
    "p_pos_train_z1_ls = [0.5]\n",
    "p_mix_z1_ls       = np.arange(0.1, 0.9, 0.05)\n",
    "alpha_test_ls     = np.arange(0, 10,0.1)"
   ]
  },
  {
   "cell_type": "code",
   "execution_count": 9,
   "id": "d7c29168-9622-46eb-bdd3-23aba84de488",
   "metadata": {
    "execution": {
     "iopub.execute_input": "2023-07-19T20:53:47.789673Z",
     "iopub.status.busy": "2023-07-19T20:53:47.789348Z",
     "iopub.status.idle": "2023-07-19T20:53:47.865522Z",
     "shell.execute_reply": "2023-07-19T20:53:47.864479Z",
     "shell.execute_reply.started": "2023-07-19T20:53:47.789641Z"
    },
    "tags": []
   },
   "outputs": [],
   "source": [
    "# theoretical numbers\n",
    "\n",
    "\n",
    "\n",
    "theoretical_full_settings = []\n",
    "for combination in itertools.product(p_pos_train_z0_ls, \n",
    "                                     p_pos_train_z1_ls, \n",
    "                                     p_mix_z1_ls,\n",
    "                                     alpha_test_ls\n",
    "                                    ):\n",
    "\n",
    "\n",
    "    number_setting = number_split(p_pos_train_z0=combination[0], \n",
    "                           p_pos_train_z1 = combination[1], \n",
    "                           p_mix_z1 = combination[2], alpha_test = combination[3],\n",
    "                           train_test_ratio = train_test_ratio, \n",
    "                           n_test=n_test,\n",
    "                                  verbose=False\n",
    "                                 )\n",
    "\n",
    "    # enforce each group*label has at least 10 samples\n",
    "    if (number_setting is not None):\n",
    "        if np.all([number_setting[k] >= 10 for k in list(number_setting.keys())[:-1]]):\n",
    "            theoretical_full_settings.append(number_setting)\n",
    "    "
   ]
  },
  {
   "cell_type": "code",
   "execution_count": null,
   "id": "e2038eb1-02f3-4613-94d9-c55de6c5361b",
   "metadata": {},
   "outputs": [],
   "source": []
  },
  {
   "cell_type": "markdown",
   "id": "2aca644e-a856-487d-bf90-f998227f1ab0",
   "metadata": {},
   "source": [
    "## Inspects"
   ]
  },
  {
   "cell_type": "code",
   "execution_count": 10,
   "id": "1e6f16bc-9686-48fa-83d6-3c36b3c60ba9",
   "metadata": {
    "execution": {
     "iopub.execute_input": "2023-07-19T20:53:47.866837Z",
     "iopub.status.busy": "2023-07-19T20:53:47.866546Z",
     "iopub.status.idle": "2023-07-19T20:53:47.871939Z",
     "shell.execute_reply": "2023-07-19T20:53:47.871129Z",
     "shell.execute_reply.started": "2023-07-19T20:53:47.866810Z"
    },
    "tags": []
   },
   "outputs": [
    {
     "data": {
      "text/plain": [
       "1187"
      ]
     },
     "execution_count": 10,
     "metadata": {},
     "output_type": "execute_result"
    }
   ],
   "source": [
    "len(theoretical_full_settings)"
   ]
  },
  {
   "cell_type": "code",
   "execution_count": 11,
   "id": "352d0024-bf38-429f-ba49-37428e90cec3",
   "metadata": {
    "execution": {
     "iopub.execute_input": "2023-07-19T20:53:47.873097Z",
     "iopub.status.busy": "2023-07-19T20:53:47.872827Z",
     "iopub.status.idle": "2023-07-19T20:53:47.884548Z",
     "shell.execute_reply": "2023-07-19T20:53:47.883667Z",
     "shell.execute_reply.started": "2023-07-19T20:53:47.873072Z"
    },
    "tags": []
   },
   "outputs": [
    {
     "data": {
      "text/plain": [
       "{'n_train': 2000,\n",
       " 'n_test': 500,\n",
       " 'n_z0_pos_train': 540,\n",
       " 'n_z0_neg_train': 1260,\n",
       " 'n_z0_pos_test': 150,\n",
       " 'n_z0_neg_test': 300,\n",
       " 'n_z1_pos_train': 100,\n",
       " 'n_z1_neg_train': 100,\n",
       " 'n_z1_pos_test': 10,\n",
       " 'n_z1_neg_test': 40,\n",
       " 'mix_param_dict': {'p_pos_train_z0': 0.3,\n",
       "  'p_pos_train_z1': 0.5,\n",
       "  'p_pos_train': 0.32,\n",
       "  'p_pos_test': 0.32,\n",
       "  'p_mix_z0': 0.9,\n",
       "  'p_mix_z1': 0.1,\n",
       "  'alpha_train': 1.6666666666666667,\n",
       "  'alpha_test': 0.6000000000000001,\n",
       "  'p_pos_test_z0': 0.33333333333333337,\n",
       "  'p_pos_test_z1': 0.20000000000000004,\n",
       "  'C_y': 0.32,\n",
       "  'C_z': 0.1}}"
      ]
     },
     "execution_count": 11,
     "metadata": {},
     "output_type": "execute_result"
    }
   ],
   "source": [
    "# check number for one setting\n",
    "theoretical_full_settings[0]"
   ]
  },
  {
   "cell_type": "code",
   "execution_count": null,
   "id": "3d8d713d-0107-4857-8777-810ca4777afd",
   "metadata": {},
   "outputs": [],
   "source": []
  },
  {
   "cell_type": "code",
   "execution_count": 12,
   "id": "3ee72c35-fe98-4894-b086-cafa7868076f",
   "metadata": {
    "execution": {
     "iopub.execute_input": "2023-07-19T20:53:47.886435Z",
     "iopub.status.busy": "2023-07-19T20:53:47.885844Z",
     "iopub.status.idle": "2023-07-19T20:53:48.271331Z",
     "shell.execute_reply": "2023-07-19T20:53:48.269789Z",
     "shell.execute_reply.started": "2023-07-19T20:53:47.886389Z"
    }
   },
   "outputs": [],
   "source": [
    "import matplotlib.pyplot as plt\n",
    "import seaborn as sns"
   ]
  },
  {
   "cell_type": "code",
   "execution_count": 13,
   "id": "fbb69132-ff55-4527-9da1-5b2024a46668",
   "metadata": {
    "execution": {
     "iopub.execute_input": "2023-07-19T20:53:48.273645Z",
     "iopub.status.busy": "2023-07-19T20:53:48.272945Z",
     "iopub.status.idle": "2023-07-19T20:53:48.439372Z",
     "shell.execute_reply": "2023-07-19T20:53:48.438660Z",
     "shell.execute_reply.started": "2023-07-19T20:53:48.273610Z"
    },
    "tags": []
   },
   "outputs": [
    {
     "data": {
      "text/plain": [
       "<AxesSubplot:xlabel='p_pos_test_z0', ylabel='p_pos_test_z1'>"
      ]
     },
     "execution_count": 13,
     "metadata": {},
     "output_type": "execute_result"
    },
    {
     "data": {
      "image/png": "[encoded data removed]",
      "text/plain": [
       "<Figure size 1080x720 with 1 Axes>"
      ]
     },
     "metadata": {
      "needs_background": "light"
     },
     "output_type": "display_data"
    }
   ],
   "source": [
    "# check distributions of p_pos_test_z0 by p_pos_test_z1\n",
    "tmp_df = pd.DataFrame([st['mix_param_dict'] for st in theoretical_full_settings])\n",
    "\n",
    "plt.figure(figsize=(15,10))\n",
    "sns.scatterplot(x=\"p_pos_test_z0\", y=\"p_pos_test_z1\", data=tmp_df)"
   ]
  },
  {
   "cell_type": "code",
   "execution_count": null,
   "id": "5099b0f3-e504-4087-91bd-f640f008138c",
   "metadata": {},
   "outputs": [],
   "source": []
  },
  {
   "cell_type": "markdown",
   "id": "8f5f541b-fa0c-428e-b21f-7d2bcd8d1d18",
   "metadata": {},
   "source": [
    "## Split Real Datasets"
   ]
  },
  {
   "cell_type": "code",
   "execution_count": 14,
   "id": "9412ecdd-e0b1-428d-a202-08a9c1adaee7",
   "metadata": {
    "execution": {
     "iopub.execute_input": "2023-07-19T20:53:48.440808Z",
     "iopub.status.busy": "2023-07-19T20:53:48.440495Z",
     "iopub.status.idle": "2023-07-19T20:53:48.445715Z",
     "shell.execute_reply": "2023-07-19T20:53:48.444093Z",
     "shell.execute_reply.started": "2023-07-19T20:53:48.440775Z"
    }
   },
   "outputs": [],
   "source": [
    "# To ignore warnings when One Theoretical setting could not apply to the real dataset\n",
    "import warnings\n",
    "warnings.filterwarnings('ignore')"
   ]
  },
  {
   "cell_type": "code",
   "execution_count": 15,
   "id": "cefbdcd1-c46d-49b1-a219-c03fab10fdda",
   "metadata": {
    "execution": {
     "iopub.execute_input": "2023-07-19T20:53:48.448517Z",
     "iopub.status.busy": "2023-07-19T20:53:48.447829Z",
     "iopub.status.idle": "2023-07-19T20:53:57.105561Z",
     "shell.execute_reply": "2023-07-19T20:53:57.103724Z",
     "shell.execute_reply.started": "2023-07-19T20:53:48.448450Z"
    },
    "tags": []
   },
   "outputs": [
    {
     "data": {
      "application/vnd.jupyter.widget-view+json": {
       "model_id": "ce24a2558b06462386a3c92af51b089b",
       "version_major": 2,
       "version_minor": 0
      },
      "text/plain": [
       "  0%|          | 0/1187 [00:00<?, ?it/s]"
      ]
     },
     "metadata": {},
     "output_type": "display_data"
    }
   ],
   "source": [
    "label='label_binary'\n",
    "df0 = df_imdb_horror\n",
    "df1 = df_imdb_family\n",
    "\n",
    "\n",
    "_rand = 252775\n",
    "\n",
    "valid_n_full_settings = []\n",
    "\n",
    "# iterate over theoretical settings\n",
    "for c in tqdm(theoretical_full_settings):\n",
    "    c = c.copy()\n",
    "    dfs = create_mix(df0=df0, df1=df1, target=label, setting=c, sample=False, \n",
    "                     seed=_rand,\n",
    "                    )\n",
    "\n",
    "    # one theoretical setting doesn't apply to real dataset\n",
    "    if dfs is None:\n",
    "        continue\n",
    "\n",
    "\n",
    "\n",
    "    #########\n",
    "    ## Computation here\n",
    "    #########\n",
    "    \n",
    "    # do something with dfs\n",
    "    \n",
    "    \n",
    "    \n",
    "    # Showcase only\n",
    "    tmp = dfs\n",
    "    \n",
    "    valid_n_full_settings.append(c)"
   ]
  },
  {
   "cell_type": "code",
   "execution_count": null,
   "id": "2d92dee1-fc10-4790-9bf9-de8c3fd37eb4",
   "metadata": {},
   "outputs": [],
   "source": []
  },
  {
   "cell_type": "code",
   "execution_count": null,
   "id": "70c4cab1-eebe-486c-b9ea-bc1f626d58e8",
   "metadata": {},
   "outputs": [],
   "source": []
  },
  {
   "cell_type": "markdown",
   "id": "d286c966-b1fd-4b4c-92f5-3e8965cf04f2",
   "metadata": {},
   "source": [
    "## Check Structure of One Resulting `dfs`"
   ]
  },
  {
   "cell_type": "code",
   "execution_count": 16,
   "id": "a129508b-64e6-4a6f-b019-62f922e4bd30",
   "metadata": {
    "execution": {
     "iopub.execute_input": "2023-07-19T20:53:57.107533Z",
     "iopub.status.busy": "2023-07-19T20:53:57.107307Z",
     "iopub.status.idle": "2023-07-19T20:53:57.115232Z",
     "shell.execute_reply": "2023-07-19T20:53:57.114364Z",
     "shell.execute_reply.started": "2023-07-19T20:53:57.107508Z"
    },
    "tags": []
   },
   "outputs": [
    {
     "data": {
      "text/plain": [
       "dict_keys(['train', 'test', 'setting'])"
      ]
     },
     "execution_count": 16,
     "metadata": {},
     "output_type": "execute_result"
    }
   ],
   "source": [
    "tmp.keys()"
   ]
  },
  {
   "cell_type": "code",
   "execution_count": null,
   "id": "dcc4714b-5e28-4551-92d1-13099a7ebd6b",
   "metadata": {},
   "outputs": [],
   "source": []
  },
  {
   "cell_type": "markdown",
   "id": "9ad00902-53e7-4cd7-9ee6-9fc145ddeff5",
   "metadata": {},
   "source": [
    "['train'] and ['test'] are of the exact same format as input datasets:"
   ]
  },
  {
   "cell_type": "code",
   "execution_count": 17,
   "id": "35e70af4-6e77-4902-9c21-b9296297455a",
   "metadata": {
    "execution": {
     "iopub.execute_input": "2023-07-19T20:53:57.116775Z",
     "iopub.status.busy": "2023-07-19T20:53:57.116453Z",
     "iopub.status.idle": "2023-07-19T20:53:57.128382Z",
     "shell.execute_reply": "2023-07-19T20:53:57.127467Z",
     "shell.execute_reply.started": "2023-07-19T20:53:57.116745Z"
    },
    "tags": []
   },
   "outputs": [
    {
     "data": {
      "text/plain": [
       "{'n_train': 2000,\n",
       " 'n_test': 500,\n",
       " 'n_z0_pos_train': 300,\n",
       " 'n_z0_neg_train': 700,\n",
       " 'n_z0_pos_test': 18,\n",
       " 'n_z0_neg_test': 232,\n",
       " 'n_z1_pos_train': 500,\n",
       " 'n_z1_neg_train': 500,\n",
       " 'n_z1_pos_test': 182,\n",
       " 'n_z1_neg_test': 68,\n",
       " 'mix_param_dict': {'p_pos_train_z0': 0.3,\n",
       "  'p_pos_train_z1': 0.5,\n",
       "  'p_pos_train': 0.4,\n",
       "  'p_pos_test': 0.4,\n",
       "  'p_mix_z0': 0.4999999999999999,\n",
       "  'p_mix_z1': 0.5000000000000001,\n",
       "  'alpha_train': 1.6666666666666667,\n",
       "  'alpha_test': 9.9,\n",
       "  'p_pos_test_z0': 0.07339449541284403,\n",
       "  'p_pos_test_z1': 0.7266055045871559,\n",
       "  'C_y': 0.4,\n",
       "  'C_z': 0.5000000000000001}}"
      ]
     },
     "execution_count": 17,
     "metadata": {},
     "output_type": "execute_result"
    }
   ],
   "source": [
    "tmp['setting']"
   ]
  },
  {
   "cell_type": "code",
   "execution_count": 18,
   "id": "611a4868-c806-4eec-ac61-d20c1efc32a0",
   "metadata": {
    "execution": {
     "iopub.execute_input": "2023-07-19T20:53:57.130170Z",
     "iopub.status.busy": "2023-07-19T20:53:57.129734Z",
     "iopub.status.idle": "2023-07-19T20:53:57.157839Z",
     "shell.execute_reply": "2023-07-19T20:53:57.157155Z",
     "shell.execute_reply.started": "2023-07-19T20:53:57.130128Z"
    },
    "tags": []
   },
   "outputs": [
    {
     "data": {
      "text/html": [
       "<div>\n",
       "<style scoped>\n",
       "    .dataframe tbody tr th:only-of-type {\n",
       "        vertical-align: middle;\n",
       "    }\n",
       "\n",
       "    .dataframe tbody tr th {\n",
       "        vertical-align: top;\n",
       "    }\n",
       "\n",
       "    .dataframe thead th {\n",
       "        text-align: right;\n",
       "    }\n",
       "</style>\n",
       "<table border=\"1\" class=\"dataframe\">\n",
       "  <thead>\n",
       "    <tr style=\"text-align: right;\">\n",
       "      <th></th>\n",
       "      <th>id</th>\n",
       "      <th>text</th>\n",
       "      <th>label</th>\n",
       "      <th>score</th>\n",
       "      <th>url</th>\n",
       "      <th>tconst</th>\n",
       "      <th>id_w_tag</th>\n",
       "      <th>set</th>\n",
       "      <th>titleType</th>\n",
       "      <th>primaryTitle</th>\n",
       "      <th>originalTitle</th>\n",
       "      <th>isAdult</th>\n",
       "      <th>startYear</th>\n",
       "      <th>endYear</th>\n",
       "      <th>runtimeMinutes</th>\n",
       "      <th>genres</th>\n",
       "      <th>domain</th>\n",
       "      <th>label_binary</th>\n",
       "    </tr>\n",
       "  </thead>\n",
       "  <tbody>\n",
       "    <tr>\n",
       "      <th>0</th>\n",
       "      <td>7893</td>\n",
       "      <td>I guess I'm part of the silent minority who en...</td>\n",
       "      <td>pos</td>\n",
       "      <td>7</td>\n",
       "      <td>http://www.imdb.com/title/tt0101917/usercomments</td>\n",
       "      <td>tt0101917</td>\n",
       "      <td>pos_7893</td>\n",
       "      <td>train</td>\n",
       "      <td>movie</td>\n",
       "      <td>Freddy's Dead: The Final Nightmare</td>\n",
       "      <td>Freddy's Dead: The Final Nightmare</td>\n",
       "      <td>0</td>\n",
       "      <td>1991</td>\n",
       "      <td>\\N</td>\n",
       "      <td>89</td>\n",
       "      <td>Fantasy,Horror</td>\n",
       "      <td>Horror</td>\n",
       "      <td>1</td>\n",
       "    </tr>\n",
       "    <tr>\n",
       "      <th>1</th>\n",
       "      <td>7283</td>\n",
       "      <td>I love buying those cheap, lousy DVD's from Al...</td>\n",
       "      <td>pos</td>\n",
       "      <td>8</td>\n",
       "      <td>http://www.imdb.com/title/tt0052646/usercomments</td>\n",
       "      <td>tt0052646</td>\n",
       "      <td>pos_7283</td>\n",
       "      <td>train</td>\n",
       "      <td>movie</td>\n",
       "      <td>The Brain That Wouldn't Die</td>\n",
       "      <td>The Brain That Wouldn't Die</td>\n",
       "      <td>0</td>\n",
       "      <td>1962</td>\n",
       "      <td>\\N</td>\n",
       "      <td>82</td>\n",
       "      <td>Horror,Sci-Fi</td>\n",
       "      <td>Horror</td>\n",
       "      <td>1</td>\n",
       "    </tr>\n",
       "    <tr>\n",
       "      <th>2</th>\n",
       "      <td>7492</td>\n",
       "      <td>Though not a horror film in the traditional se...</td>\n",
       "      <td>pos</td>\n",
       "      <td>7</td>\n",
       "      <td>http://www.imdb.com/title/tt0024727/usercomments</td>\n",
       "      <td>tt0024727</td>\n",
       "      <td>pos_7492</td>\n",
       "      <td>train</td>\n",
       "      <td>movie</td>\n",
       "      <td>The Vampire Bat</td>\n",
       "      <td>The Vampire Bat</td>\n",
       "      <td>0</td>\n",
       "      <td>1933</td>\n",
       "      <td>\\N</td>\n",
       "      <td>65</td>\n",
       "      <td>Drama,Horror,Mystery</td>\n",
       "      <td>Horror</td>\n",
       "      <td>1</td>\n",
       "    </tr>\n",
       "    <tr>\n",
       "      <th>3</th>\n",
       "      <td>6164</td>\n",
       "      <td>Are we really making 'video nasties' again? In...</td>\n",
       "      <td>pos</td>\n",
       "      <td>7</td>\n",
       "      <td>http://www.imdb.com/title/tt0400837/usercomments</td>\n",
       "      <td>tt0400837</td>\n",
       "      <td>pos_6164</td>\n",
       "      <td>train</td>\n",
       "      <td>video</td>\n",
       "      <td>Snuff killer - La morte in diretta</td>\n",
       "      <td>Snuff killer - La morte in diretta</td>\n",
       "      <td>0</td>\n",
       "      <td>2003</td>\n",
       "      <td>\\N</td>\n",
       "      <td>88</td>\n",
       "      <td>Horror,Thriller</td>\n",
       "      <td>Horror</td>\n",
       "      <td>1</td>\n",
       "    </tr>\n",
       "    <tr>\n",
       "      <th>4</th>\n",
       "      <td>8411</td>\n",
       "      <td>This early version of the tale 'The Student of...</td>\n",
       "      <td>pos</td>\n",
       "      <td>7</td>\n",
       "      <td>http://www.imdb.com/title/tt0003419/usercomments</td>\n",
       "      <td>tt0003419</td>\n",
       "      <td>pos_8411</td>\n",
       "      <td>train</td>\n",
       "      <td>movie</td>\n",
       "      <td>The Student of Prague</td>\n",
       "      <td>Der Student von Prag</td>\n",
       "      <td>0</td>\n",
       "      <td>1913</td>\n",
       "      <td>\\N</td>\n",
       "      <td>85</td>\n",
       "      <td>Drama,Fantasy,Horror</td>\n",
       "      <td>Horror</td>\n",
       "      <td>1</td>\n",
       "    </tr>\n",
       "  </tbody>\n",
       "</table>\n",
       "</div>"
      ],
      "text/plain": [
       "     id                                               text label  score  \\\n",
       "0  7893  I guess I'm part of the silent minority who en...   pos      7   \n",
       "1  7283  I love buying those cheap, lousy DVD's from Al...   pos      8   \n",
       "2  7492  Though not a horror film in the traditional se...   pos      7   \n",
       "3  6164  Are we really making 'video nasties' again? In...   pos      7   \n",
       "4  8411  This early version of the tale 'The Student of...   pos      7   \n",
       "\n",
       "                                                url     tconst  id_w_tag  \\\n",
       "0  http://www.imdb.com/title/tt0101917/usercomments  tt0101917  pos_7893   \n",
       "1  http://www.imdb.com/title/tt0052646/usercomments  tt0052646  pos_7283   \n",
       "2  http://www.imdb.com/title/tt0024727/usercomments  tt0024727  pos_7492   \n",
       "3  http://www.imdb.com/title/tt0400837/usercomments  tt0400837  pos_6164   \n",
       "4  http://www.imdb.com/title/tt0003419/usercomments  tt0003419  pos_8411   \n",
       "\n",
       "     set titleType                        primaryTitle  \\\n",
       "0  train     movie  Freddy's Dead: The Final Nightmare   \n",
       "1  train     movie         The Brain That Wouldn't Die   \n",
       "2  train     movie                     The Vampire Bat   \n",
       "3  train     video  Snuff killer - La morte in diretta   \n",
       "4  train     movie               The Student of Prague   \n",
       "\n",
       "                        originalTitle  isAdult  startYear endYear  \\\n",
       "0  Freddy's Dead: The Final Nightmare        0       1991      \\N   \n",
       "1         The Brain That Wouldn't Die        0       1962      \\N   \n",
       "2                     The Vampire Bat        0       1933      \\N   \n",
       "3  Snuff killer - La morte in diretta        0       2003      \\N   \n",
       "4                Der Student von Prag        0       1913      \\N   \n",
       "\n",
       "  runtimeMinutes                genres  domain  label_binary  \n",
       "0             89        Fantasy,Horror  Horror             1  \n",
       "1             82         Horror,Sci-Fi  Horror             1  \n",
       "2             65  Drama,Horror,Mystery  Horror             1  \n",
       "3             88       Horror,Thriller  Horror             1  \n",
       "4             85  Drama,Fantasy,Horror  Horror             1  "
      ]
     },
     "execution_count": 18,
     "metadata": {},
     "output_type": "execute_result"
    }
   ],
   "source": [
    "tmp['train'].head()"
   ]
  },
  {
   "cell_type": "code",
   "execution_count": 19,
   "id": "c7211d8b-56b7-4ab4-885c-a49c9de0ca71",
   "metadata": {
    "execution": {
     "iopub.execute_input": "2023-07-19T20:53:57.158788Z",
     "iopub.status.busy": "2023-07-19T20:53:57.158588Z",
     "iopub.status.idle": "2023-07-19T20:53:57.186970Z",
     "shell.execute_reply": "2023-07-19T20:53:57.186288Z",
     "shell.execute_reply.started": "2023-07-19T20:53:57.158770Z"
    }
   },
   "outputs": [
    {
     "data": {
      "text/html": [
       "<div>\n",
       "<style scoped>\n",
       "    .dataframe tbody tr th:only-of-type {\n",
       "        vertical-align: middle;\n",
       "    }\n",
       "\n",
       "    .dataframe tbody tr th {\n",
       "        vertical-align: top;\n",
       "    }\n",
       "\n",
       "    .dataframe thead th {\n",
       "        text-align: right;\n",
       "    }\n",
       "</style>\n",
       "<table border=\"1\" class=\"dataframe\">\n",
       "  <thead>\n",
       "    <tr style=\"text-align: right;\">\n",
       "      <th></th>\n",
       "      <th>id</th>\n",
       "      <th>text</th>\n",
       "      <th>label</th>\n",
       "      <th>score</th>\n",
       "      <th>url</th>\n",
       "      <th>tconst</th>\n",
       "      <th>id_w_tag</th>\n",
       "      <th>set</th>\n",
       "      <th>titleType</th>\n",
       "      <th>primaryTitle</th>\n",
       "      <th>originalTitle</th>\n",
       "      <th>isAdult</th>\n",
       "      <th>startYear</th>\n",
       "      <th>endYear</th>\n",
       "      <th>runtimeMinutes</th>\n",
       "      <th>genres</th>\n",
       "      <th>domain</th>\n",
       "      <th>label_binary</th>\n",
       "    </tr>\n",
       "  </thead>\n",
       "  <tbody>\n",
       "    <tr>\n",
       "      <th>0</th>\n",
       "      <td>9156</td>\n",
       "      <td>I think this movie had to be fun to make it, f...</td>\n",
       "      <td>pos</td>\n",
       "      <td>10</td>\n",
       "      <td>http://www.imdb.com/title/tt0427688/usercomments</td>\n",
       "      <td>tt0427688</td>\n",
       "      <td>pos_9156</td>\n",
       "      <td>train</td>\n",
       "      <td>movie</td>\n",
       "      <td>Studio 666</td>\n",
       "      <td>Studio 666</td>\n",
       "      <td>0</td>\n",
       "      <td>2005</td>\n",
       "      <td>\\N</td>\n",
       "      <td>76</td>\n",
       "      <td>Horror,Music,Sci-Fi</td>\n",
       "      <td>Horror</td>\n",
       "      <td>1</td>\n",
       "    </tr>\n",
       "    <tr>\n",
       "      <th>1</th>\n",
       "      <td>9151</td>\n",
       "      <td>Savage Island's raw savagery will scare the he...</td>\n",
       "      <td>pos</td>\n",
       "      <td>10</td>\n",
       "      <td>http://www.imdb.com/title/tt0328378/usercomments</td>\n",
       "      <td>tt0328378</td>\n",
       "      <td>pos_9151</td>\n",
       "      <td>train</td>\n",
       "      <td>movie</td>\n",
       "      <td>Savage Island</td>\n",
       "      <td>Savage Island</td>\n",
       "      <td>0</td>\n",
       "      <td>2004</td>\n",
       "      <td>\\N</td>\n",
       "      <td>86</td>\n",
       "      <td>Horror,Thriller</td>\n",
       "      <td>Horror</td>\n",
       "      <td>1</td>\n",
       "    </tr>\n",
       "    <tr>\n",
       "      <th>2</th>\n",
       "      <td>2650</td>\n",
       "      <td>Besides the fact that my list of favorite movi...</td>\n",
       "      <td>pos</td>\n",
       "      <td>10</td>\n",
       "      <td>http://www.imdb.com/title/tt0081505/usercomments</td>\n",
       "      <td>tt0081505</td>\n",
       "      <td>pos_2650</td>\n",
       "      <td>train</td>\n",
       "      <td>movie</td>\n",
       "      <td>The Shining</td>\n",
       "      <td>The Shining</td>\n",
       "      <td>0</td>\n",
       "      <td>1980</td>\n",
       "      <td>\\N</td>\n",
       "      <td>146</td>\n",
       "      <td>Drama,Horror</td>\n",
       "      <td>Horror</td>\n",
       "      <td>1</td>\n",
       "    </tr>\n",
       "    <tr>\n",
       "      <th>3</th>\n",
       "      <td>12383</td>\n",
       "      <td>Christina Raines plays a lovely model in New Y...</td>\n",
       "      <td>pos</td>\n",
       "      <td>7</td>\n",
       "      <td>http://www.imdb.com/title/tt0076683/usercomments</td>\n",
       "      <td>tt0076683</td>\n",
       "      <td>pos_12383</td>\n",
       "      <td>train</td>\n",
       "      <td>movie</td>\n",
       "      <td>The Sentinel</td>\n",
       "      <td>The Sentinel</td>\n",
       "      <td>0</td>\n",
       "      <td>1977</td>\n",
       "      <td>\\N</td>\n",
       "      <td>92</td>\n",
       "      <td>Horror</td>\n",
       "      <td>Horror</td>\n",
       "      <td>1</td>\n",
       "    </tr>\n",
       "    <tr>\n",
       "      <th>4</th>\n",
       "      <td>6131</td>\n",
       "      <td>This is one of the funniest movies that I have...</td>\n",
       "      <td>pos</td>\n",
       "      <td>10</td>\n",
       "      <td>http://www.imdb.com/title/tt0116671/usercomments</td>\n",
       "      <td>tt0116671</td>\n",
       "      <td>pos_6131</td>\n",
       "      <td>train</td>\n",
       "      <td>video</td>\n",
       "      <td>Jack Frost</td>\n",
       "      <td>Jack Frost</td>\n",
       "      <td>0</td>\n",
       "      <td>1997</td>\n",
       "      <td>\\N</td>\n",
       "      <td>89</td>\n",
       "      <td>Comedy,Fantasy,Horror</td>\n",
       "      <td>Horror</td>\n",
       "      <td>1</td>\n",
       "    </tr>\n",
       "  </tbody>\n",
       "</table>\n",
       "</div>"
      ],
      "text/plain": [
       "      id                                               text label  score  \\\n",
       "0   9156  I think this movie had to be fun to make it, f...   pos     10   \n",
       "1   9151  Savage Island's raw savagery will scare the he...   pos     10   \n",
       "2   2650  Besides the fact that my list of favorite movi...   pos     10   \n",
       "3  12383  Christina Raines plays a lovely model in New Y...   pos      7   \n",
       "4   6131  This is one of the funniest movies that I have...   pos     10   \n",
       "\n",
       "                                                url     tconst   id_w_tag  \\\n",
       "0  http://www.imdb.com/title/tt0427688/usercomments  tt0427688   pos_9156   \n",
       "1  http://www.imdb.com/title/tt0328378/usercomments  tt0328378   pos_9151   \n",
       "2  http://www.imdb.com/title/tt0081505/usercomments  tt0081505   pos_2650   \n",
       "3  http://www.imdb.com/title/tt0076683/usercomments  tt0076683  pos_12383   \n",
       "4  http://www.imdb.com/title/tt0116671/usercomments  tt0116671   pos_6131   \n",
       "\n",
       "     set titleType   primaryTitle  originalTitle  isAdult  startYear endYear  \\\n",
       "0  train     movie     Studio 666     Studio 666        0       2005      \\N   \n",
       "1  train     movie  Savage Island  Savage Island        0       2004      \\N   \n",
       "2  train     movie    The Shining    The Shining        0       1980      \\N   \n",
       "3  train     movie   The Sentinel   The Sentinel        0       1977      \\N   \n",
       "4  train     video     Jack Frost     Jack Frost        0       1997      \\N   \n",
       "\n",
       "  runtimeMinutes                 genres  domain  label_binary  \n",
       "0             76    Horror,Music,Sci-Fi  Horror             1  \n",
       "1             86        Horror,Thriller  Horror             1  \n",
       "2            146           Drama,Horror  Horror             1  \n",
       "3             92                 Horror  Horror             1  \n",
       "4             89  Comedy,Fantasy,Horror  Horror             1  "
      ]
     },
     "execution_count": 19,
     "metadata": {},
     "output_type": "execute_result"
    }
   ],
   "source": [
    "tmp['test'].head()"
   ]
  },
  {
   "cell_type": "code",
   "execution_count": null,
   "id": "35d6f32e-1c8e-416f-8c7d-a4d5f0d1b338",
   "metadata": {},
   "outputs": [],
   "source": []
  }
 ],
 "metadata": {
  "kernelspec": {
   "display_name": "Python 3",
   "language": "python",
   "name": "python3"
  },
  "language_info": {
   "codemirror_mode": {
    "name": "ipython",
    "version": 3
   },
   "file_extension": ".py",
   "mimetype": "text/x-python",
   "name": "python",
   "nbconvert_exporter": "python",
   "pygments_lexer": "ipython3",
   "version": "3.8.10"
  },
  "toc-autonumbering": true
 },
 "nbformat": 4,
 "nbformat_minor": 5
}
