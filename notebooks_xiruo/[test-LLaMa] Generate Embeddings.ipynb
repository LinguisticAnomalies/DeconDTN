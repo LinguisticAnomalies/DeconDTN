{
 "cells": [
  {
   "cell_type": "code",
   "execution_count": 1,
   "id": "ca2fe5a1-d7db-4770-a5d2-285c9e9cad44",
   "metadata": {
    "execution": {
     "iopub.execute_input": "2023-07-06T20:43:13.726578Z",
     "iopub.status.busy": "2023-07-06T20:43:13.725210Z",
     "iopub.status.idle": "2023-07-06T20:43:14.131379Z",
     "shell.execute_reply": "2023-07-06T20:43:14.130818Z",
     "shell.execute_reply.started": "2023-07-06T20:43:13.725980Z"
    },
    "tags": []
   },
   "outputs": [],
   "source": [
    "import requests\n",
    "import numpy as np\n",
    "import pandas as pd\n",
    "import os"
   ]
  },
  {
   "cell_type": "code",
   "execution_count": null,
   "id": "00ab8208-5abf-4aad-9fc8-06dd5c08cad8",
   "metadata": {},
   "outputs": [],
   "source": []
  },
  {
   "cell_type": "markdown",
   "id": "96fc44f2-67da-4c88-97a7-97a299d753e4",
   "metadata": {},
   "source": [
    "# Embeddings"
   ]
  },
  {
   "cell_type": "code",
   "execution_count": null,
   "id": "4afa316b-3f9f-41b7-aaa7-2dc237b5ea7e",
   "metadata": {},
   "outputs": [],
   "source": []
  },
  {
   "cell_type": "code",
   "execution_count": 33,
   "id": "ad2f3c0b-ec09-44b2-afa2-dc72995e1143",
   "metadata": {
    "execution": {
     "iopub.execute_input": "2023-07-06T20:59:07.943654Z",
     "iopub.status.busy": "2023-07-06T20:59:07.942837Z",
     "iopub.status.idle": "2023-07-06T20:59:07.952019Z",
     "shell.execute_reply": "2023-07-06T20:59:07.950705Z",
     "shell.execute_reply.started": "2023-07-06T20:59:07.943582Z"
    },
    "tags": []
   },
   "outputs": [],
   "source": [
    "# def generateEmbeddings(text):\n",
    "    \n",
    "#     header = {'Content-Type': 'application/json'}\n",
    "#     url =\"http://localhost:8088/?task=embeddings&prompt=\" + text.replace(\" \",\"%20\")\n",
    "#     req = requests.get(url,headers=header)\n",
    "#     r = dict(req.json())\n",
    "    \n",
    "#     return r\n",
    "\n",
    "def generateEmbeddings(text):\n",
    "\n",
    "    myobj = {'model': 'instruct','task': 'embeddings','instruction':'', 'input': text}\n",
    "   \n",
    "    header = {'Content-Type': 'application/json'}\n",
    "    url = \"http://localhost:8088/\" \n",
    "\n",
    "    x = requests.post(url, json = myobj, headers=header)\n",
    "    r = dict(x.json())\n",
    "    \n",
    "    return r"
   ]
  },
  {
   "cell_type": "code",
   "execution_count": 34,
   "id": "8410f272-0afb-4258-bc2c-e0f6d23a0396",
   "metadata": {
    "execution": {
     "iopub.execute_input": "2023-07-06T20:59:08.862215Z",
     "iopub.status.busy": "2023-07-06T20:59:08.861446Z",
     "iopub.status.idle": "2023-07-06T20:59:08.869279Z",
     "shell.execute_reply": "2023-07-06T20:59:08.867827Z",
     "shell.execute_reply.started": "2023-07-06T20:59:08.862144Z"
    }
   },
   "outputs": [],
   "source": [
    "\n",
    "def generateEmbeddingsAverage(text):\n",
    "    \n",
    "    r = generateEmbeddings(text)\n",
    "    \n",
    "    ret = np.mean(np.array(list(r.values())), axis=0)\n",
    "    \n",
    "    return ret"
   ]
  },
  {
   "cell_type": "code",
   "execution_count": null,
   "id": "d9ff9233-1d1d-48ae-b734-f1c5c7134d66",
   "metadata": {},
   "outputs": [],
   "source": []
  },
  {
   "cell_type": "code",
   "execution_count": null,
   "id": "eaff4735-544b-4d40-9ea6-a4cc47dde43a",
   "metadata": {},
   "outputs": [],
   "source": []
  },
  {
   "cell_type": "markdown",
   "id": "03e334f0-c572-46fe-a102-99d4ecb4a88a",
   "metadata": {},
   "source": [
    "## Translate SHAC into embeddings"
   ]
  },
  {
   "cell_type": "code",
   "execution_count": null,
   "id": "fc843680-d61a-4dc4-b515-18afedfd54ad",
   "metadata": {},
   "outputs": [],
   "source": []
  },
  {
   "cell_type": "code",
   "execution_count": null,
   "id": "31315c45-9230-4f92-9733-6df71e177fac",
   "metadata": {},
   "outputs": [],
   "source": []
  },
  {
   "cell_type": "code",
   "execution_count": 35,
   "id": "18a65401-127c-4d93-9b18-2e870444eb6d",
   "metadata": {
    "execution": {
     "iopub.execute_input": "2023-07-06T21:00:02.127399Z",
     "iopub.status.busy": "2023-07-06T21:00:02.126587Z",
     "iopub.status.idle": "2023-07-06T21:00:02.133624Z",
     "shell.execute_reply": "2023-07-06T21:00:02.131975Z",
     "shell.execute_reply.started": "2023-07-06T21:00:02.127328Z"
    },
    "tags": []
   },
   "outputs": [],
   "source": [
    "import sys"
   ]
  },
  {
   "cell_type": "code",
   "execution_count": 36,
   "id": "f1384703-7026-4015-86b4-51792363db8b",
   "metadata": {
    "execution": {
     "iopub.execute_input": "2023-07-06T21:00:02.354564Z",
     "iopub.status.busy": "2023-07-06T21:00:02.353874Z",
     "iopub.status.idle": "2023-07-06T21:00:02.365145Z",
     "shell.execute_reply": "2023-07-06T21:00:02.363285Z",
     "shell.execute_reply.started": "2023-07-06T21:00:02.354498Z"
    },
    "tags": []
   },
   "outputs": [],
   "source": [
    "sys.path.insert(0, \"..\")"
   ]
  },
  {
   "cell_type": "code",
   "execution_count": 37,
   "id": "fd56a8cc-1fc3-490b-a866-86b837d2b571",
   "metadata": {
    "execution": {
     "iopub.execute_input": "2023-07-06T21:00:03.019771Z",
     "iopub.status.busy": "2023-07-06T21:00:03.019045Z",
     "iopub.status.idle": "2023-07-06T21:00:03.035984Z",
     "shell.execute_reply": "2023-07-06T21:00:03.035091Z",
     "shell.execute_reply.started": "2023-07-06T21:00:03.019697Z"
    },
    "tags": []
   },
   "outputs": [],
   "source": [
    "from src.process_SHAC import load_process_SHAC"
   ]
  },
  {
   "cell_type": "code",
   "execution_count": 38,
   "id": "2a7a1171-aa47-448b-8981-bce0a0f698ad",
   "metadata": {
    "execution": {
     "iopub.execute_input": "2023-07-06T21:00:03.362129Z",
     "iopub.status.busy": "2023-07-06T21:00:03.361765Z",
     "iopub.status.idle": "2023-07-06T21:00:03.410772Z",
     "shell.execute_reply": "2023-07-06T21:00:03.409840Z",
     "shell.execute_reply.started": "2023-07-06T21:00:03.362096Z"
    },
    "tags": []
   },
   "outputs": [],
   "source": [
    "import joblib"
   ]
  },
  {
   "cell_type": "code",
   "execution_count": 39,
   "id": "77399215-711e-4926-ac47-39d005b67179",
   "metadata": {
    "execution": {
     "iopub.execute_input": "2023-07-06T21:00:05.050431Z",
     "iopub.status.busy": "2023-07-06T21:00:05.049609Z",
     "iopub.status.idle": "2023-07-06T21:00:05.129818Z",
     "shell.execute_reply": "2023-07-06T21:00:05.128640Z",
     "shell.execute_reply.started": "2023-07-06T21:00:05.050360Z"
    },
    "tags": []
   },
   "outputs": [],
   "source": [
    "from tqdm import tqdm\n",
    "\n",
    "\n",
    "from tqdm.notebook import tqdm"
   ]
  },
  {
   "cell_type": "code",
   "execution_count": 40,
   "id": "e0dace2b-df9d-4cb5-b5af-dfe203fcbd7a",
   "metadata": {
    "execution": {
     "iopub.execute_input": "2023-07-06T21:00:07.969580Z",
     "iopub.status.busy": "2023-07-06T21:00:07.968797Z",
     "iopub.status.idle": "2023-07-06T21:00:13.283014Z",
     "shell.execute_reply": "2023-07-06T21:00:13.281751Z",
     "shell.execute_reply.started": "2023-07-06T21:00:07.969510Z"
    },
    "tags": []
   },
   "outputs": [],
   "source": [
    "df = load_process_SHAC(replaceNA=\"all\")"
   ]
  },
  {
   "cell_type": "code",
   "execution_count": 41,
   "id": "aee96067-0c3c-4c78-b95e-f742d363b5b3",
   "metadata": {
    "execution": {
     "iopub.execute_input": "2023-07-06T21:00:19.790181Z",
     "iopub.status.busy": "2023-07-06T21:00:19.789355Z",
     "iopub.status.idle": "2023-07-06T21:00:19.842680Z",
     "shell.execute_reply": "2023-07-06T21:00:19.841581Z",
     "shell.execute_reply.started": "2023-07-06T21:00:19.790111Z"
    },
    "tags": []
   },
   "outputs": [
    {
     "data": {
      "text/html": [
       "<div>\n",
       "<style scoped>\n",
       "    .dataframe tbody tr th:only-of-type {\n",
       "        vertical-align: middle;\n",
       "    }\n",
       "\n",
       "    .dataframe tbody tr th {\n",
       "        vertical-align: top;\n",
       "    }\n",
       "\n",
       "    .dataframe thead th {\n",
       "        text-align: right;\n",
       "    }\n",
       "</style>\n",
       "<table border=\"1\" class=\"dataframe\">\n",
       "  <thead>\n",
       "    <tr style=\"text-align: right;\">\n",
       "      <th></th>\n",
       "      <th>id</th>\n",
       "      <th>Drug</th>\n",
       "      <th>Alcohol</th>\n",
       "      <th>Tobacco</th>\n",
       "      <th>SubstanceAgg</th>\n",
       "      <th>set</th>\n",
       "      <th>location</th>\n",
       "      <th>text</th>\n",
       "    </tr>\n",
       "  </thead>\n",
       "  <tbody>\n",
       "    <tr>\n",
       "      <th>0</th>\n",
       "      <td>3407</td>\n",
       "      <td>True</td>\n",
       "      <td>False</td>\n",
       "      <td>False</td>\n",
       "      <td>True</td>\n",
       "      <td>train</td>\n",
       "      <td>uw</td>\n",
       "      <td>Social History:  Work: Unemployed Lives with m...</td>\n",
       "    </tr>\n",
       "    <tr>\n",
       "      <th>1</th>\n",
       "      <td>3313</td>\n",
       "      <td>False</td>\n",
       "      <td>True</td>\n",
       "      <td>False</td>\n",
       "      <td>True</td>\n",
       "      <td>train</td>\n",
       "      <td>uw</td>\n",
       "      <td>SOCIAL HISTORY:  Living situation:  Comfortabl...</td>\n",
       "    </tr>\n",
       "    <tr>\n",
       "      <th>2</th>\n",
       "      <td>3045</td>\n",
       "      <td>True</td>\n",
       "      <td>False</td>\n",
       "      <td>True</td>\n",
       "      <td>True</td>\n",
       "      <td>train</td>\n",
       "      <td>uw</td>\n",
       "      <td>HABITS:  Tobacco Use: Approximately 20 pack-ye...</td>\n",
       "    </tr>\n",
       "    <tr>\n",
       "      <th>3</th>\n",
       "      <td>4399</td>\n",
       "      <td>False</td>\n",
       "      <td>True</td>\n",
       "      <td>True</td>\n",
       "      <td>True</td>\n",
       "      <td>train</td>\n",
       "      <td>uw</td>\n",
       "      <td>Social History: Immigrated from [LOCATION] in ...</td>\n",
       "    </tr>\n",
       "    <tr>\n",
       "      <th>4</th>\n",
       "      <td>3637</td>\n",
       "      <td>False</td>\n",
       "      <td>False</td>\n",
       "      <td>True</td>\n",
       "      <td>True</td>\n",
       "      <td>train</td>\n",
       "      <td>uw</td>\n",
       "      <td>HABITS:  Tobacco Use: Formerly smoked 1-2 ciga...</td>\n",
       "    </tr>\n",
       "    <tr>\n",
       "      <th>...</th>\n",
       "      <td>...</td>\n",
       "      <td>...</td>\n",
       "      <td>...</td>\n",
       "      <td>...</td>\n",
       "      <td>...</td>\n",
       "      <td>...</td>\n",
       "      <td>...</td>\n",
       "      <td>...</td>\n",
       "    </tr>\n",
       "    <tr>\n",
       "      <th>4400</th>\n",
       "      <td>2884</td>\n",
       "      <td>True</td>\n",
       "      <td>True</td>\n",
       "      <td>False</td>\n",
       "      <td>True</td>\n",
       "      <td>test</td>\n",
       "      <td>mimic</td>\n",
       "      <td>Social History: lives w/ mother in [**Name2 (N...</td>\n",
       "    </tr>\n",
       "    <tr>\n",
       "      <th>4401</th>\n",
       "      <td>2728</td>\n",
       "      <td>False</td>\n",
       "      <td>False</td>\n",
       "      <td>True</td>\n",
       "      <td>True</td>\n",
       "      <td>test</td>\n",
       "      <td>mimic</td>\n",
       "      <td>Social History: lives with wife (recent nursin...</td>\n",
       "    </tr>\n",
       "    <tr>\n",
       "      <th>4402</th>\n",
       "      <td>2854</td>\n",
       "      <td>False</td>\n",
       "      <td>True</td>\n",
       "      <td>True</td>\n",
       "      <td>True</td>\n",
       "      <td>test</td>\n",
       "      <td>mimic</td>\n",
       "      <td>Social History: quit smoking several yrs ago, ...</td>\n",
       "    </tr>\n",
       "    <tr>\n",
       "      <th>4403</th>\n",
       "      <td>2726</td>\n",
       "      <td>False</td>\n",
       "      <td>False</td>\n",
       "      <td>False</td>\n",
       "      <td>False</td>\n",
       "      <td>test</td>\n",
       "      <td>mimic</td>\n",
       "      <td>Social History: Denies Tob, EtOH, or Illicit d...</td>\n",
       "    </tr>\n",
       "    <tr>\n",
       "      <th>4404</th>\n",
       "      <td>4973</td>\n",
       "      <td>False</td>\n",
       "      <td>False</td>\n",
       "      <td>False</td>\n",
       "      <td>False</td>\n",
       "      <td>test</td>\n",
       "      <td>mimic</td>\n",
       "      <td>SOCIAL HISTORY:  She lives at [**Hospital3 **]...</td>\n",
       "    </tr>\n",
       "  </tbody>\n",
       "</table>\n",
       "<p>4405 rows × 8 columns</p>\n",
       "</div>"
      ],
      "text/plain": [
       "        id   Drug  Alcohol  Tobacco  SubstanceAgg    set location  \\\n",
       "0     3407   True    False    False          True  train       uw   \n",
       "1     3313  False     True    False          True  train       uw   \n",
       "2     3045   True    False     True          True  train       uw   \n",
       "3     4399  False     True     True          True  train       uw   \n",
       "4     3637  False    False     True          True  train       uw   \n",
       "...    ...    ...      ...      ...           ...    ...      ...   \n",
       "4400  2884   True     True    False          True   test    mimic   \n",
       "4401  2728  False    False     True          True   test    mimic   \n",
       "4402  2854  False     True     True          True   test    mimic   \n",
       "4403  2726  False    False    False         False   test    mimic   \n",
       "4404  4973  False    False    False         False   test    mimic   \n",
       "\n",
       "                                                   text  \n",
       "0     Social History:  Work: Unemployed Lives with m...  \n",
       "1     SOCIAL HISTORY:  Living situation:  Comfortabl...  \n",
       "2     HABITS:  Tobacco Use: Approximately 20 pack-ye...  \n",
       "3     Social History: Immigrated from [LOCATION] in ...  \n",
       "4     HABITS:  Tobacco Use: Formerly smoked 1-2 ciga...  \n",
       "...                                                 ...  \n",
       "4400  Social History: lives w/ mother in [**Name2 (N...  \n",
       "4401  Social History: lives with wife (recent nursin...  \n",
       "4402  Social History: quit smoking several yrs ago, ...  \n",
       "4403  Social History: Denies Tob, EtOH, or Illicit d...  \n",
       "4404  SOCIAL HISTORY:  She lives at [**Hospital3 **]...  \n",
       "\n",
       "[4405 rows x 8 columns]"
      ]
     },
     "execution_count": 41,
     "metadata": {},
     "output_type": "execute_result"
    }
   ],
   "source": [
    "df"
   ]
  },
  {
   "cell_type": "code",
   "execution_count": 42,
   "id": "52b79359-2f41-470a-9669-4269340f4aba",
   "metadata": {
    "execution": {
     "iopub.execute_input": "2023-07-06T21:00:20.763244Z",
     "iopub.status.busy": "2023-07-06T21:00:20.762453Z",
     "iopub.status.idle": "2023-07-06T21:00:20.770441Z",
     "shell.execute_reply": "2023-07-06T21:00:20.768879Z",
     "shell.execute_reply.started": "2023-07-06T21:00:20.763173Z"
    },
    "tags": []
   },
   "outputs": [],
   "source": [
    "tqdm.pandas()"
   ]
  },
  {
   "cell_type": "code",
   "execution_count": null,
   "id": "72289806-22c9-4ab4-a309-7c2b97801dd6",
   "metadata": {},
   "outputs": [],
   "source": []
  },
  {
   "cell_type": "markdown",
   "id": "a69f1f90-e241-46c3-ae37-225c6d4746b7",
   "metadata": {},
   "source": [
    "# Store All Embeddings"
   ]
  },
  {
   "cell_type": "code",
   "execution_count": null,
   "id": "f54b956f-c66c-40f3-82b7-b61f9323b31d",
   "metadata": {
    "tags": []
   },
   "outputs": [],
   "source": [
    "df['LLaMaEmbeddings'] = df.progress_apply(lambda x: \n",
    "                                         generateEmbeddings(x['text'].replace(\"&\",\" and \")), \n",
    "                                         axis=1)"
   ]
  },
  {
   "cell_type": "code",
   "execution_count": null,
   "id": "7c7788aa-97d8-469d-b0e0-25f188463ad2",
   "metadata": {},
   "outputs": [],
   "source": [
    "df.to_pickle(\"../output/LLaMaEmbeddings/df_SHAC.pkl\")"
   ]
  },
  {
   "cell_type": "code",
   "execution_count": null,
   "id": "40a3c456-ebab-467e-8597-109ee6f911a3",
   "metadata": {
    "tags": []
   },
   "outputs": [],
   "source": [
    "# with open(\"/edata/CohenLybarger/xiruo_Project/cognitive_distortions_Transfer_Learning_GitLab/data/LLaMaEmbeddings/df_avh.pkl\", 'wb') as f:\n",
    "#     joblib.dump(value=df_avh, filename=f)"
   ]
  },
  {
   "cell_type": "code",
   "execution_count": null,
   "id": "5b1168ea-f943-4b1d-9fcc-493d7709a6fc",
   "metadata": {},
   "outputs": [],
   "source": []
  },
  {
   "cell_type": "markdown",
   "id": "f40e3f71-8b9b-4074-9184-dd446b5c90ae",
   "metadata": {},
   "source": [
    "# Store Averaged Embeddings"
   ]
  },
  {
   "cell_type": "code",
   "execution_count": null,
   "id": "ec19c492-7a49-4499-8a07-ef1604e5f3b5",
   "metadata": {
    "tags": []
   },
   "outputs": [],
   "source": [
    "# out_file = \"../output/LLaMaEmbeddings/df_Average_SHAC.csv\"\n",
    "# for idx, row in df.iterrows():\n",
    "#     if idx == 3:\n",
    "#         break\n",
    "        \n",
    "#     row['embedding'] = generateEmbeddingsAverage(row['text'])\n",
    "#     row.to_frame().T.to_csv(out_file, index=False, mode='a', header=not os.path.exists(out_file))\n",
    "#     # df.iloc[[idx]].to_csv(out_file, index=False, mode='a', header=not os.path.exists(out_file))\n",
    "#     # tmp = df.iloc[[idx]].copy()\n",
    "#     # tmp['embedding'] = generateEmbeddingsAverage(df.iloc[idx]['text'])\n",
    "\n",
    "\n",
    "\n"
   ]
  },
  {
   "cell_type": "code",
   "execution_count": 12,
   "id": "048c760f-4b09-4b68-a180-1f76f091c659",
   "metadata": {
    "execution": {
     "iopub.execute_input": "2023-05-11T02:45:14.611055Z",
     "iopub.status.busy": "2023-05-11T02:45:14.610215Z",
     "iopub.status.idle": "2023-05-11T04:53:18.676658Z",
     "shell.execute_reply": "2023-05-11T04:53:18.675206Z",
     "shell.execute_reply.started": "2023-05-11T02:45:14.610984Z"
    },
    "tags": []
   },
   "outputs": [
    {
     "data": {
      "application/vnd.jupyter.widget-view+json": {
       "model_id": "771bb26e934f4d8c96ec19dac8a3ee93",
       "version_major": 2,
       "version_minor": 0
      },
      "text/plain": [
       "  0%|          | 0/4405 [00:00<?, ?it/s]"
      ]
     },
     "metadata": {},
     "output_type": "display_data"
    }
   ],
   "source": [
    "df['LLaMaEmbeddings'] = df.progress_apply(lambda x: \n",
    "                                         generateEmbeddingsAverage(x['text'].replace(\"&\",\" and \")), \n",
    "                                         axis=1)\n",
    "\n",
    "df.to_pickle(\"../output/LLaMaEmbeddings/df_Average_SHAC.pkl\")"
   ]
  },
  {
   "cell_type": "code",
   "execution_count": null,
   "id": "c57d4809-0072-40a0-9488-2df842486854",
   "metadata": {},
   "outputs": [],
   "source": []
  },
  {
   "cell_type": "code",
   "execution_count": null,
   "id": "203f881c-8063-49de-b8eb-8ee5aa697eb9",
   "metadata": {},
   "outputs": [],
   "source": []
  },
  {
   "cell_type": "markdown",
   "id": "d334b62d-0dea-4af8-a9ed-21bd9789c83e",
   "metadata": {
    "tags": []
   },
   "source": [
    "# Generations"
   ]
  },
  {
   "cell_type": "code",
   "execution_count": 18,
   "id": "264cbb70-f851-4366-a48a-18f47ffcd555",
   "metadata": {
    "execution": {
     "iopub.execute_input": "2023-03-30T01:15:14.557227Z",
     "iopub.status.busy": "2023-03-30T01:15:14.556412Z",
     "iopub.status.idle": "2023-03-30T01:15:15.476973Z",
     "shell.execute_reply": "2023-03-30T01:15:15.475826Z",
     "shell.execute_reply.started": "2023-03-30T01:15:14.557153Z"
    },
    "scrolled": true,
    "tags": []
   },
   "outputs": [],
   "source": [
    "r = requests.get(url, headers=header)\n",
    "sresp = \"\"\n",
    "for i in r.iter_lines():\n",
    "    sresp = sresp + i.decode() #replace(‘\\\\xe2\\\\x80\\\\x99’,“\\’“)"
   ]
  },
  {
   "cell_type": "code",
   "execution_count": 20,
   "id": "4b7e8bc5-c69b-45db-b9f4-c272a9c064f2",
   "metadata": {
    "execution": {
     "iopub.execute_input": "2023-03-30T01:15:50.559903Z",
     "iopub.status.busy": "2023-03-30T01:15:50.559106Z",
     "iopub.status.idle": "2023-03-30T01:15:50.568555Z",
     "shell.execute_reply": "2023-03-30T01:15:50.567370Z",
     "shell.execute_reply.started": "2023-03-30T01:15:50.559834Z"
    },
    "scrolled": true,
    "tags": []
   },
   "outputs": [
    {
     "data": {
      "text/plain": [
       "<Response [200]>"
      ]
     },
     "execution_count": 20,
     "metadata": {},
     "output_type": "execute_result"
    }
   ],
   "source": [
    "r"
   ]
  },
  {
   "cell_type": "code",
   "execution_count": null,
   "id": "b1452588-1c16-4c13-839f-87566b6ee77f",
   "metadata": {},
   "outputs": [],
   "source": []
  },
  {
   "cell_type": "code",
   "execution_count": null,
   "id": "2f8de64f-0abe-455c-93dc-8dc8e63f275c",
   "metadata": {},
   "outputs": [],
   "source": []
  },
  {
   "cell_type": "code",
   "execution_count": 25,
   "id": "69f55081-5d79-4952-b27f-e9b55b51e05a",
   "metadata": {
    "execution": {
     "iopub.execute_input": "2023-03-30T01:17:26.273822Z",
     "iopub.status.busy": "2023-03-30T01:17:26.273040Z",
     "iopub.status.idle": "2023-03-30T01:17:26.283725Z",
     "shell.execute_reply": "2023-03-30T01:17:26.281792Z",
     "shell.execute_reply.started": "2023-03-30T01:17:26.273752Z"
    }
   },
   "outputs": [],
   "source": [
    "def complete(prompt, chars=32):\n",
    "    header = {\"Content-Type\": \"application/json\"}\n",
    "    url =\"http://localhost:8088/?task=generate:\"+str(chars)+\"&prompt=\"+prompt.replace(\" \",\"%20\")\n",
    "    r = requests.get(url,headers=header)\n",
    "    sresp = \"\"\n",
    "    for i in r.iter_lines():\n",
    "        sresp = sresp + i.decode()#replace(‘\\\\xe2\\\\x80\\\\x99’,“\\’“)\n",
    "    return sresp"
   ]
  },
  {
   "cell_type": "code",
   "execution_count": 28,
   "id": "7056189b-545d-4dd8-b6ec-9e288abf7996",
   "metadata": {
    "execution": {
     "iopub.execute_input": "2023-03-30T01:18:26.070048Z",
     "iopub.status.busy": "2023-03-30T01:18:26.069207Z",
     "iopub.status.idle": "2023-03-30T01:19:03.964943Z",
     "shell.execute_reply": "2023-03-30T01:19:03.963409Z",
     "shell.execute_reply.started": "2023-03-30T01:18:26.069979Z"
    },
    "tags": []
   },
   "outputs": [
    {
     "data": {
      "text/plain": [
       "' what is LLaMa by Meta? 24/11/2016 76466465LLaMa, a new initiative by Meta, is a web-based community aimed at bringing together stakeholders in the fields of Language Technologies and Machine Translation. The main objective of LLaMa will be to facilitate research and development across MT and Language Technologies. It aims to do so by connecting people'"
      ]
     },
     "execution_count": 28,
     "metadata": {},
     "output_type": "execute_result"
    }
   ],
   "source": [
    "complete(\"what is LLaMa by Meta? \", chars=100)"
   ]
  },
  {
   "cell_type": "code",
   "execution_count": null,
   "id": "63cf52e0-1b0e-4155-89f1-23d9dc7d325b",
   "metadata": {},
   "outputs": [],
   "source": []
  }
 ],
 "metadata": {
  "kernelspec": {
   "display_name": "Python 3",
   "language": "python",
   "name": "python3"
  },
  "language_info": {
   "codemirror_mode": {
    "name": "ipython",
    "version": 3
   },
   "file_extension": ".py",
   "mimetype": "text/x-python",
   "name": "python",
   "nbconvert_exporter": "python",
   "pygments_lexer": "ipython3",
   "version": "3.8.10"
  },
  "toc-autonumbering": true
 },
 "nbformat": 4,
 "nbformat_minor": 5
}
