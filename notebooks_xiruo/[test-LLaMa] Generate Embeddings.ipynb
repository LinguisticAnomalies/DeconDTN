{
 "cells": [
  {
   "cell_type": "code",
   "execution_count": 1,
   "id": "ca2fe5a1-d7db-4770-a5d2-285c9e9cad44",
   "metadata": {
    "execution": {
     "iopub.execute_input": "2023-12-04T21:13:14.990276Z",
     "iopub.status.busy": "2023-12-04T21:13:14.989542Z",
     "iopub.status.idle": "2023-12-04T21:13:15.410506Z",
     "shell.execute_reply": "2023-12-04T21:13:15.409738Z",
     "shell.execute_reply.started": "2023-12-04T21:13:14.990205Z"
    },
    "tags": []
   },
   "outputs": [],
   "source": [
    "import requests\n",
    "import numpy as np\n",
    "import pandas as pd\n",
    "import os"
   ]
  },
  {
   "cell_type": "code",
   "execution_count": 2,
   "id": "bb22e8db-2cfa-4624-b62f-b6759ebbc60c",
   "metadata": {
    "execution": {
     "iopub.execute_input": "2023-11-30T05:37:54.132499Z",
     "iopub.status.busy": "2023-11-30T05:37:54.132183Z",
     "iopub.status.idle": "2023-11-30T05:37:54.137486Z",
     "shell.execute_reply": "2023-11-30T05:37:54.137015Z",
     "shell.execute_reply.started": "2023-11-30T05:37:54.132482Z"
    },
    "tags": []
   },
   "outputs": [],
   "source": [
    "import tqdm"
   ]
  },
  {
   "cell_type": "code",
   "execution_count": null,
   "id": "94f83ca8-0c5f-41a6-8fc6-0387b4d3ff65",
   "metadata": {},
   "outputs": [],
   "source": []
  },
  {
   "cell_type": "markdown",
   "id": "04b2063e-d473-4d16-943c-fbf66b125a1d",
   "metadata": {},
   "source": [
    "## Load SHAC"
   ]
  },
  {
   "cell_type": "code",
   "execution_count": null,
   "id": "fc843680-d61a-4dc4-b515-18afedfd54ad",
   "metadata": {},
   "outputs": [],
   "source": []
  },
  {
   "cell_type": "code",
   "execution_count": null,
   "id": "31315c45-9230-4f92-9733-6df71e177fac",
   "metadata": {},
   "outputs": [],
   "source": []
  },
  {
   "cell_type": "code",
   "execution_count": 3,
   "id": "18a65401-127c-4d93-9b18-2e870444eb6d",
   "metadata": {
    "execution": {
     "iopub.execute_input": "2023-11-30T05:37:55.144544Z",
     "iopub.status.busy": "2023-11-30T05:37:55.143884Z",
     "iopub.status.idle": "2023-11-30T05:37:55.150896Z",
     "shell.execute_reply": "2023-11-30T05:37:55.149832Z",
     "shell.execute_reply.started": "2023-11-30T05:37:55.144486Z"
    },
    "tags": []
   },
   "outputs": [],
   "source": [
    "import sys"
   ]
  },
  {
   "cell_type": "code",
   "execution_count": 4,
   "id": "f1384703-7026-4015-86b4-51792363db8b",
   "metadata": {
    "execution": {
     "iopub.execute_input": "2023-11-30T05:37:55.877468Z",
     "iopub.status.busy": "2023-11-30T05:37:55.876817Z",
     "iopub.status.idle": "2023-11-30T05:37:55.885197Z",
     "shell.execute_reply": "2023-11-30T05:37:55.883449Z",
     "shell.execute_reply.started": "2023-11-30T05:37:55.877409Z"
    },
    "tags": []
   },
   "outputs": [],
   "source": [
    "sys.path.insert(0, \"..\")"
   ]
  },
  {
   "cell_type": "code",
   "execution_count": 5,
   "id": "fd56a8cc-1fc3-490b-a866-86b837d2b571",
   "metadata": {
    "execution": {
     "iopub.execute_input": "2023-11-30T05:37:56.053240Z",
     "iopub.status.busy": "2023-11-30T05:37:56.052571Z",
     "iopub.status.idle": "2023-11-30T05:37:56.061267Z",
     "shell.execute_reply": "2023-11-30T05:37:56.059661Z",
     "shell.execute_reply.started": "2023-11-30T05:37:56.053192Z"
    },
    "tags": []
   },
   "outputs": [],
   "source": [
    "from src.process_SHAC import load_process_SHAC"
   ]
  },
  {
   "cell_type": "code",
   "execution_count": 6,
   "id": "2a7a1171-aa47-448b-8981-bce0a0f698ad",
   "metadata": {
    "execution": {
     "iopub.execute_input": "2023-11-30T05:37:56.222290Z",
     "iopub.status.busy": "2023-11-30T05:37:56.221711Z",
     "iopub.status.idle": "2023-11-30T05:37:56.253861Z",
     "shell.execute_reply": "2023-11-30T05:37:56.252635Z",
     "shell.execute_reply.started": "2023-11-30T05:37:56.222239Z"
    },
    "tags": []
   },
   "outputs": [],
   "source": [
    "import joblib"
   ]
  },
  {
   "cell_type": "code",
   "execution_count": 7,
   "id": "77399215-711e-4926-ac47-39d005b67179",
   "metadata": {
    "execution": {
     "iopub.execute_input": "2023-11-30T05:37:56.429573Z",
     "iopub.status.busy": "2023-11-30T05:37:56.429117Z",
     "iopub.status.idle": "2023-11-30T05:37:56.516498Z",
     "shell.execute_reply": "2023-11-30T05:37:56.515882Z",
     "shell.execute_reply.started": "2023-11-30T05:37:56.429545Z"
    },
    "tags": []
   },
   "outputs": [],
   "source": [
    "from tqdm import tqdm\n",
    "\n",
    "\n",
    "from tqdm.notebook import tqdm"
   ]
  },
  {
   "cell_type": "code",
   "execution_count": 16,
   "id": "e0dace2b-df9d-4cb5-b5af-dfe203fcbd7a",
   "metadata": {
    "execution": {
     "iopub.execute_input": "2023-09-23T04:52:39.872881Z",
     "iopub.status.busy": "2023-09-23T04:52:39.872454Z",
     "iopub.status.idle": "2023-09-23T04:52:45.024015Z",
     "shell.execute_reply": "2023-09-23T04:52:45.022541Z",
     "shell.execute_reply.started": "2023-09-23T04:52:39.872853Z"
    },
    "tags": []
   },
   "outputs": [],
   "source": [
    "df = load_process_SHAC(replaceNA=\"all\")"
   ]
  },
  {
   "cell_type": "code",
   "execution_count": 17,
   "id": "aee96067-0c3c-4c78-b95e-f742d363b5b3",
   "metadata": {
    "execution": {
     "iopub.execute_input": "2023-09-23T04:52:45.026942Z",
     "iopub.status.busy": "2023-09-23T04:52:45.026079Z",
     "iopub.status.idle": "2023-09-23T04:52:45.070006Z",
     "shell.execute_reply": "2023-09-23T04:52:45.068765Z",
     "shell.execute_reply.started": "2023-09-23T04:52:45.026883Z"
    },
    "tags": []
   },
   "outputs": [
    {
     "data": {
      "text/html": [
       "<div>\n",
       "<style scoped>\n",
       "    .dataframe tbody tr th:only-of-type {\n",
       "        vertical-align: middle;\n",
       "    }\n",
       "\n",
       "    .dataframe tbody tr th {\n",
       "        vertical-align: top;\n",
       "    }\n",
       "\n",
       "    .dataframe thead th {\n",
       "        text-align: right;\n",
       "    }\n",
       "</style>\n",
       "<table border=\"1\" class=\"dataframe\">\n",
       "  <thead>\n",
       "    <tr style=\"text-align: right;\">\n",
       "      <th></th>\n",
       "      <th>id</th>\n",
       "      <th>Drug</th>\n",
       "      <th>Alcohol</th>\n",
       "      <th>Tobacco</th>\n",
       "      <th>SubstanceAgg</th>\n",
       "      <th>set</th>\n",
       "      <th>location</th>\n",
       "      <th>text</th>\n",
       "    </tr>\n",
       "  </thead>\n",
       "  <tbody>\n",
       "    <tr>\n",
       "      <th>0</th>\n",
       "      <td>3407</td>\n",
       "      <td>True</td>\n",
       "      <td>False</td>\n",
       "      <td>False</td>\n",
       "      <td>True</td>\n",
       "      <td>train</td>\n",
       "      <td>uw</td>\n",
       "      <td>Social History:  Work: Unemployed Lives with m...</td>\n",
       "    </tr>\n",
       "    <tr>\n",
       "      <th>1</th>\n",
       "      <td>3313</td>\n",
       "      <td>False</td>\n",
       "      <td>True</td>\n",
       "      <td>False</td>\n",
       "      <td>True</td>\n",
       "      <td>train</td>\n",
       "      <td>uw</td>\n",
       "      <td>SOCIAL HISTORY:  Living situation:  Comfortabl...</td>\n",
       "    </tr>\n",
       "    <tr>\n",
       "      <th>2</th>\n",
       "      <td>3045</td>\n",
       "      <td>True</td>\n",
       "      <td>False</td>\n",
       "      <td>True</td>\n",
       "      <td>True</td>\n",
       "      <td>train</td>\n",
       "      <td>uw</td>\n",
       "      <td>HABITS:  Tobacco Use: Approximately 20 pack-ye...</td>\n",
       "    </tr>\n",
       "    <tr>\n",
       "      <th>3</th>\n",
       "      <td>4399</td>\n",
       "      <td>False</td>\n",
       "      <td>True</td>\n",
       "      <td>True</td>\n",
       "      <td>True</td>\n",
       "      <td>train</td>\n",
       "      <td>uw</td>\n",
       "      <td>Social History: Immigrated from [LOCATION] in ...</td>\n",
       "    </tr>\n",
       "    <tr>\n",
       "      <th>4</th>\n",
       "      <td>3637</td>\n",
       "      <td>False</td>\n",
       "      <td>False</td>\n",
       "      <td>True</td>\n",
       "      <td>True</td>\n",
       "      <td>train</td>\n",
       "      <td>uw</td>\n",
       "      <td>HABITS:  Tobacco Use: Formerly smoked 1-2 ciga...</td>\n",
       "    </tr>\n",
       "    <tr>\n",
       "      <th>...</th>\n",
       "      <td>...</td>\n",
       "      <td>...</td>\n",
       "      <td>...</td>\n",
       "      <td>...</td>\n",
       "      <td>...</td>\n",
       "      <td>...</td>\n",
       "      <td>...</td>\n",
       "      <td>...</td>\n",
       "    </tr>\n",
       "    <tr>\n",
       "      <th>4400</th>\n",
       "      <td>2884</td>\n",
       "      <td>True</td>\n",
       "      <td>True</td>\n",
       "      <td>False</td>\n",
       "      <td>True</td>\n",
       "      <td>test</td>\n",
       "      <td>mimic</td>\n",
       "      <td>Social History: lives w/ mother in [**Name2 (N...</td>\n",
       "    </tr>\n",
       "    <tr>\n",
       "      <th>4401</th>\n",
       "      <td>2728</td>\n",
       "      <td>False</td>\n",
       "      <td>False</td>\n",
       "      <td>True</td>\n",
       "      <td>True</td>\n",
       "      <td>test</td>\n",
       "      <td>mimic</td>\n",
       "      <td>Social History: lives with wife (recent nursin...</td>\n",
       "    </tr>\n",
       "    <tr>\n",
       "      <th>4402</th>\n",
       "      <td>2854</td>\n",
       "      <td>False</td>\n",
       "      <td>True</td>\n",
       "      <td>True</td>\n",
       "      <td>True</td>\n",
       "      <td>test</td>\n",
       "      <td>mimic</td>\n",
       "      <td>Social History: quit smoking several yrs ago, ...</td>\n",
       "    </tr>\n",
       "    <tr>\n",
       "      <th>4403</th>\n",
       "      <td>2726</td>\n",
       "      <td>False</td>\n",
       "      <td>False</td>\n",
       "      <td>False</td>\n",
       "      <td>False</td>\n",
       "      <td>test</td>\n",
       "      <td>mimic</td>\n",
       "      <td>Social History: Denies Tob, EtOH, or Illicit d...</td>\n",
       "    </tr>\n",
       "    <tr>\n",
       "      <th>4404</th>\n",
       "      <td>4973</td>\n",
       "      <td>False</td>\n",
       "      <td>False</td>\n",
       "      <td>False</td>\n",
       "      <td>False</td>\n",
       "      <td>test</td>\n",
       "      <td>mimic</td>\n",
       "      <td>SOCIAL HISTORY:  She lives at [**Hospital3 **]...</td>\n",
       "    </tr>\n",
       "  </tbody>\n",
       "</table>\n",
       "<p>4405 rows × 8 columns</p>\n",
       "</div>"
      ],
      "text/plain": [
       "        id   Drug  Alcohol  Tobacco  SubstanceAgg    set location  \\\n",
       "0     3407   True    False    False          True  train       uw   \n",
       "1     3313  False     True    False          True  train       uw   \n",
       "2     3045   True    False     True          True  train       uw   \n",
       "3     4399  False     True     True          True  train       uw   \n",
       "4     3637  False    False     True          True  train       uw   \n",
       "...    ...    ...      ...      ...           ...    ...      ...   \n",
       "4400  2884   True     True    False          True   test    mimic   \n",
       "4401  2728  False    False     True          True   test    mimic   \n",
       "4402  2854  False     True     True          True   test    mimic   \n",
       "4403  2726  False    False    False         False   test    mimic   \n",
       "4404  4973  False    False    False         False   test    mimic   \n",
       "\n",
       "                                                   text  \n",
       "0     Social History:  Work: Unemployed Lives with m...  \n",
       "1     SOCIAL HISTORY:  Living situation:  Comfortabl...  \n",
       "2     HABITS:  Tobacco Use: Approximately 20 pack-ye...  \n",
       "3     Social History: Immigrated from [LOCATION] in ...  \n",
       "4     HABITS:  Tobacco Use: Formerly smoked 1-2 ciga...  \n",
       "...                                                 ...  \n",
       "4400  Social History: lives w/ mother in [**Name2 (N...  \n",
       "4401  Social History: lives with wife (recent nursin...  \n",
       "4402  Social History: quit smoking several yrs ago, ...  \n",
       "4403  Social History: Denies Tob, EtOH, or Illicit d...  \n",
       "4404  SOCIAL HISTORY:  She lives at [**Hospital3 **]...  \n",
       "\n",
       "[4405 rows x 8 columns]"
      ]
     },
     "execution_count": 17,
     "metadata": {},
     "output_type": "execute_result"
    }
   ],
   "source": [
    "df"
   ]
  },
  {
   "cell_type": "code",
   "execution_count": 8,
   "id": "52b79359-2f41-470a-9669-4269340f4aba",
   "metadata": {
    "execution": {
     "iopub.execute_input": "2023-11-30T03:05:01.592480Z",
     "iopub.status.busy": "2023-11-30T03:05:01.591764Z",
     "iopub.status.idle": "2023-11-30T03:05:01.600783Z",
     "shell.execute_reply": "2023-11-30T03:05:01.599232Z",
     "shell.execute_reply.started": "2023-11-30T03:05:01.592417Z"
    },
    "tags": []
   },
   "outputs": [],
   "source": [
    "tqdm.pandas()"
   ]
  },
  {
   "cell_type": "code",
   "execution_count": null,
   "id": "8c896dc9-4b2d-453e-a40c-1ce21d20e93c",
   "metadata": {},
   "outputs": [],
   "source": []
  },
  {
   "cell_type": "markdown",
   "id": "c3b87844-e8d8-4421-9eba-ceaf949ae63b",
   "metadata": {},
   "source": [
    "## Load Hate Speech"
   ]
  },
  {
   "cell_type": "code",
   "execution_count": null,
   "id": "e4a40093-20fc-4aa2-9395-31ac83fc4688",
   "metadata": {},
   "outputs": [],
   "source": []
  },
  {
   "cell_type": "code",
   "execution_count": 8,
   "id": "cf62e5df-72ab-4547-8f69-c306cfb78d6b",
   "metadata": {
    "ExecuteTime": {
     "end_time": "2023-08-04T20:47:56.678932Z",
     "start_time": "2023-08-04T20:47:56.673496Z"
    },
    "execution": {
     "iopub.execute_input": "2023-11-30T05:38:02.387026Z",
     "iopub.status.busy": "2023-11-30T05:38:02.386235Z",
     "iopub.status.idle": "2023-11-30T05:38:02.393612Z",
     "shell.execute_reply": "2023-11-30T05:38:02.392059Z",
     "shell.execute_reply.started": "2023-11-30T05:38:02.386963Z"
    }
   },
   "outputs": [],
   "source": [
    "import pathlib"
   ]
  },
  {
   "cell_type": "code",
   "execution_count": 9,
   "id": "0d98a47e-db04-4dfc-b93f-d6b74320bd4d",
   "metadata": {
    "ExecuteTime": {
     "end_time": "2023-08-04T20:47:57.268019Z",
     "start_time": "2023-08-04T20:47:56.683130Z"
    },
    "execution": {
     "iopub.execute_input": "2023-11-30T05:38:02.397201Z",
     "iopub.status.busy": "2023-11-30T05:38:02.396564Z",
     "iopub.status.idle": "2023-11-30T05:38:02.898318Z",
     "shell.execute_reply": "2023-11-30T05:38:02.897139Z",
     "shell.execute_reply.started": "2023-11-30T05:38:02.397145Z"
    }
   },
   "outputs": [],
   "source": [
    "df_dynGen = pd.read_csv(\"/bime-munin/xiruod/data/hateSpeech_Bulla2023/Dynamically-Generated-Hate-Speech-Dataset/Dynamically Generated Hate Dataset v0.2.3.csv\",)\n",
    "df_dynGen['label_binary'] = df_dynGen['label'].map({\"hate\":1, \"nothate\":0})"
   ]
  },
  {
   "cell_type": "code",
   "execution_count": 10,
   "id": "c38f6147-e6e5-457f-8990-9f69f914fcec",
   "metadata": {
    "ExecuteTime": {
     "end_time": "2023-08-04T20:47:57.278006Z",
     "start_time": "2023-08-04T20:47:57.272833Z"
    },
    "execution": {
     "iopub.execute_input": "2023-11-30T05:38:02.899938Z",
     "iopub.status.busy": "2023-11-30T05:38:02.899629Z",
     "iopub.status.idle": "2023-11-30T05:38:02.905863Z",
     "shell.execute_reply": "2023-11-30T05:38:02.904786Z",
     "shell.execute_reply.started": "2023-11-30T05:38:02.899909Z"
    }
   },
   "outputs": [],
   "source": [
    "df_dynGen[\"dfSource\"] = \"dynGen\""
   ]
  },
  {
   "cell_type": "code",
   "execution_count": null,
   "id": "d04c28d7-fdeb-41f1-8502-b1d5f090b536",
   "metadata": {},
   "outputs": [],
   "source": []
  },
  {
   "cell_type": "code",
   "execution_count": 11,
   "id": "31a13d89-6466-48c9-b6c2-ce71509e6273",
   "metadata": {
    "ExecuteTime": {
     "end_time": "2023-08-04T20:47:57.298219Z",
     "start_time": "2023-08-04T20:47:57.283099Z"
    },
    "execution": {
     "iopub.execute_input": "2023-11-30T05:38:02.908646Z",
     "iopub.status.busy": "2023-11-30T05:38:02.908119Z",
     "iopub.status.idle": "2023-11-30T05:38:02.925591Z",
     "shell.execute_reply": "2023-11-30T05:38:02.924389Z",
     "shell.execute_reply.started": "2023-11-30T05:38:02.908612Z"
    }
   },
   "outputs": [
    {
     "data": {
      "text/plain": [
       "array(['hate', 'nothate'], dtype=object)"
      ]
     },
     "execution_count": 11,
     "metadata": {},
     "output_type": "execute_result"
    }
   ],
   "source": [
    "df_dynGen['label'].unique()"
   ]
  },
  {
   "cell_type": "code",
   "execution_count": 12,
   "id": "7ddd0927-710a-4549-b266-72841cda6d83",
   "metadata": {
    "ExecuteTime": {
     "end_time": "2023-08-04T20:47:57.307870Z",
     "start_time": "2023-08-04T20:47:57.301189Z"
    },
    "execution": {
     "iopub.execute_input": "2023-11-30T05:38:02.927080Z",
     "iopub.status.busy": "2023-11-30T05:38:02.926780Z",
     "iopub.status.idle": "2023-11-30T05:38:02.934142Z",
     "shell.execute_reply": "2023-11-30T05:38:02.933136Z",
     "shell.execute_reply.started": "2023-11-30T05:38:02.927053Z"
    }
   },
   "outputs": [
    {
     "data": {
      "text/plain": [
       "array([1, 0])"
      ]
     },
     "execution_count": 12,
     "metadata": {},
     "output_type": "execute_result"
    }
   ],
   "source": [
    "df_dynGen['label_binary'].unique()"
   ]
  },
  {
   "cell_type": "code",
   "execution_count": null,
   "id": "ec6983e4-f740-4d88-bd07-5f5be361bb68",
   "metadata": {},
   "outputs": [],
   "source": []
  },
  {
   "cell_type": "code",
   "execution_count": 13,
   "id": "4624a2e2-4421-44d1-a393-0c54a07a9bb2",
   "metadata": {
    "ExecuteTime": {
     "end_time": "2023-08-04T20:48:48.452740Z",
     "start_time": "2023-08-04T20:47:57.310675Z"
    },
    "execution": {
     "iopub.execute_input": "2023-11-30T05:38:02.935634Z",
     "iopub.status.busy": "2023-11-30T05:38:02.935177Z",
     "iopub.status.idle": "2023-11-30T05:39:13.501741Z",
     "shell.execute_reply": "2023-11-30T05:39:13.500588Z",
     "shell.execute_reply.started": "2023-11-30T05:38:02.935606Z"
    },
    "tags": []
   },
   "outputs": [],
   "source": [
    "ls_allFiles = pathlib.Path(\"/bime-munin/xiruod/data/hateSpeech_Bulla2023/hate-speech-dataset/all_files/\").glob(\"*.txt\")\n",
    "\n",
    "ls_id = []\n",
    "ls_text = []\n",
    "\n",
    "for ifile in ls_allFiles:\n",
    "    ls_id.append(ifile.name.split(\".txt\")[0])\n",
    "    with open(ifile, \"r\") as f:\n",
    "        ls_text.append(f.read())\n",
    "\n",
    "df_wsf_raw = pd.DataFrame({\"file_id\":ls_id, \"text\":ls_text})\n",
    "\n",
    "df_wsf_annotation = pd.read_csv(\"/bime-munin/xiruod/data/hateSpeech_Bulla2023/hate-speech-dataset/annotations_metadata.csv\")\n",
    "\n",
    "df_wsf = df_wsf_raw.merge(df_wsf_annotation, on=\"file_id\", how=\"inner\")"
   ]
  },
  {
   "cell_type": "code",
   "execution_count": 14,
   "id": "4cb47bdc-3bca-4b36-a2ec-fb6472d3e277",
   "metadata": {
    "ExecuteTime": {
     "end_time": "2023-08-04T20:48:48.477013Z",
     "start_time": "2023-08-04T20:48:48.457183Z"
    },
    "execution": {
     "iopub.execute_input": "2023-11-30T05:39:13.503597Z",
     "iopub.status.busy": "2023-11-30T05:39:13.503101Z",
     "iopub.status.idle": "2023-11-30T05:39:13.517174Z",
     "shell.execute_reply": "2023-11-30T05:39:13.516402Z",
     "shell.execute_reply.started": "2023-11-30T05:39:13.503568Z"
    }
   },
   "outputs": [
    {
     "data": {
      "text/html": [
       "<div>\n",
       "<style scoped>\n",
       "    .dataframe tbody tr th:only-of-type {\n",
       "        vertical-align: middle;\n",
       "    }\n",
       "\n",
       "    .dataframe tbody tr th {\n",
       "        vertical-align: top;\n",
       "    }\n",
       "\n",
       "    .dataframe thead th {\n",
       "        text-align: right;\n",
       "    }\n",
       "</style>\n",
       "<table border=\"1\" class=\"dataframe\">\n",
       "  <thead>\n",
       "    <tr style=\"text-align: right;\">\n",
       "      <th></th>\n",
       "      <th>file_id</th>\n",
       "      <th>text</th>\n",
       "      <th>user_id</th>\n",
       "      <th>subforum_id</th>\n",
       "      <th>num_contexts</th>\n",
       "      <th>label</th>\n",
       "    </tr>\n",
       "  </thead>\n",
       "  <tbody>\n",
       "    <tr>\n",
       "      <th>0</th>\n",
       "      <td>13480343_3</td>\n",
       "      <td>It can cause rage .</td>\n",
       "      <td>573459</td>\n",
       "      <td>1345</td>\n",
       "      <td>0</td>\n",
       "      <td>noHate</td>\n",
       "    </tr>\n",
       "    <tr>\n",
       "      <th>1</th>\n",
       "      <td>13341044_1</td>\n",
       "      <td>Obama has membership in Prince Hall ( for blac...</td>\n",
       "      <td>572139</td>\n",
       "      <td>1345</td>\n",
       "      <td>0</td>\n",
       "      <td>noHate</td>\n",
       "    </tr>\n",
       "    <tr>\n",
       "      <th>2</th>\n",
       "      <td>14036870_1</td>\n",
       "      <td>London is a dead zone as far as anyone White i...</td>\n",
       "      <td>572058</td>\n",
       "      <td>1387</td>\n",
       "      <td>0</td>\n",
       "      <td>hate</td>\n",
       "    </tr>\n",
       "    <tr>\n",
       "      <th>3</th>\n",
       "      <td>13861984_1</td>\n",
       "      <td>There was a small Nigerian man that lived in t...</td>\n",
       "      <td>574905</td>\n",
       "      <td>1391</td>\n",
       "      <td>0</td>\n",
       "      <td>noHate</td>\n",
       "    </tr>\n",
       "    <tr>\n",
       "      <th>4</th>\n",
       "      <td>13477847_2</td>\n",
       "      <td>New Square Meats allegedly sold nearly 2 milli...</td>\n",
       "      <td>573739</td>\n",
       "      <td>1345</td>\n",
       "      <td>0</td>\n",
       "      <td>noHate</td>\n",
       "    </tr>\n",
       "  </tbody>\n",
       "</table>\n",
       "</div>"
      ],
      "text/plain": [
       "      file_id                                               text  user_id  \\\n",
       "0  13480343_3                                It can cause rage .   573459   \n",
       "1  13341044_1  Obama has membership in Prince Hall ( for blac...   572139   \n",
       "2  14036870_1  London is a dead zone as far as anyone White i...   572058   \n",
       "3  13861984_1  There was a small Nigerian man that lived in t...   574905   \n",
       "4  13477847_2  New Square Meats allegedly sold nearly 2 milli...   573739   \n",
       "\n",
       "   subforum_id  num_contexts   label  \n",
       "0         1345             0  noHate  \n",
       "1         1345             0  noHate  \n",
       "2         1387             0    hate  \n",
       "3         1391             0  noHate  \n",
       "4         1345             0  noHate  "
      ]
     },
     "execution_count": 14,
     "metadata": {},
     "output_type": "execute_result"
    }
   ],
   "source": [
    "df_wsf.head()"
   ]
  },
  {
   "cell_type": "code",
   "execution_count": 15,
   "id": "eed1f5a9-420a-44a2-9f25-bd97bd752b87",
   "metadata": {
    "ExecuteTime": {
     "end_time": "2023-08-04T20:48:48.488870Z",
     "start_time": "2023-08-04T20:48:48.481333Z"
    },
    "execution": {
     "iopub.execute_input": "2023-11-30T05:39:13.518514Z",
     "iopub.status.busy": "2023-11-30T05:39:13.518215Z",
     "iopub.status.idle": "2023-11-30T05:39:13.526869Z",
     "shell.execute_reply": "2023-11-30T05:39:13.525585Z",
     "shell.execute_reply.started": "2023-11-30T05:39:13.518479Z"
    }
   },
   "outputs": [
    {
     "data": {
      "text/plain": [
       "array(['noHate', 'hate', 'relation', 'idk/skip'], dtype=object)"
      ]
     },
     "execution_count": 15,
     "metadata": {},
     "output_type": "execute_result"
    }
   ],
   "source": [
    "df_wsf['label'].unique()"
   ]
  },
  {
   "cell_type": "code",
   "execution_count": 16,
   "id": "c3b9d277-0f26-4fdc-b860-d0550256c688",
   "metadata": {
    "ExecuteTime": {
     "end_time": "2023-08-04T20:48:48.504970Z",
     "start_time": "2023-08-04T20:48:48.491796Z"
    },
    "execution": {
     "iopub.execute_input": "2023-11-30T05:39:13.529849Z",
     "iopub.status.busy": "2023-11-30T05:39:13.529497Z",
     "iopub.status.idle": "2023-11-30T05:39:13.542305Z",
     "shell.execute_reply": "2023-11-30T05:39:13.541112Z",
     "shell.execute_reply.started": "2023-11-30T05:39:13.529819Z"
    }
   },
   "outputs": [],
   "source": [
    "df_wsf = df_wsf[df_wsf['label'].isin(['hate','noHate'])].reset_index(drop=True)\n",
    "\n",
    "df_wsf['label_binary'] = df_wsf['label'].map({\"hate\":1,\"noHate\":0})"
   ]
  },
  {
   "cell_type": "code",
   "execution_count": 17,
   "id": "c08b43f5-2d78-4b3b-b2c8-2e639503d818",
   "metadata": {
    "ExecuteTime": {
     "end_time": "2023-08-04T20:48:48.514381Z",
     "start_time": "2023-08-04T20:48:48.508154Z"
    },
    "execution": {
     "iopub.execute_input": "2023-11-30T05:39:13.543641Z",
     "iopub.status.busy": "2023-11-30T05:39:13.543365Z",
     "iopub.status.idle": "2023-11-30T05:39:13.550546Z",
     "shell.execute_reply": "2023-11-30T05:39:13.549472Z",
     "shell.execute_reply.started": "2023-11-30T05:39:13.543617Z"
    }
   },
   "outputs": [
    {
     "data": {
      "text/plain": [
       "array([0, 1])"
      ]
     },
     "execution_count": 17,
     "metadata": {},
     "output_type": "execute_result"
    }
   ],
   "source": [
    "df_wsf['label_binary'].unique()"
   ]
  },
  {
   "cell_type": "code",
   "execution_count": 18,
   "id": "3896508b-4184-4ebe-9f62-5eb9bd1cbe72",
   "metadata": {
    "ExecuteTime": {
     "end_time": "2023-08-04T20:48:48.524435Z",
     "start_time": "2023-08-04T20:48:48.517328Z"
    },
    "execution": {
     "iopub.execute_input": "2023-11-30T05:39:13.552124Z",
     "iopub.status.busy": "2023-11-30T05:39:13.551761Z",
     "iopub.status.idle": "2023-11-30T05:39:13.561055Z",
     "shell.execute_reply": "2023-11-30T05:39:13.560052Z",
     "shell.execute_reply.started": "2023-11-30T05:39:13.552091Z"
    }
   },
   "outputs": [],
   "source": [
    "df_wsf[\"dfSource\"] = \"wsf\""
   ]
  },
  {
   "cell_type": "code",
   "execution_count": null,
   "id": "7cc0cfd2-8f7b-4562-8580-7a9d677bc382",
   "metadata": {},
   "outputs": [],
   "source": []
  },
  {
   "cell_type": "code",
   "execution_count": null,
   "id": "c5836cf3-f50c-43a5-a824-c7a9e006d167",
   "metadata": {},
   "outputs": [],
   "source": []
  },
  {
   "cell_type": "code",
   "execution_count": 19,
   "id": "313eb0bb-010c-4c8c-b919-0953fde9de6f",
   "metadata": {
    "execution": {
     "iopub.execute_input": "2023-11-30T05:39:13.562858Z",
     "iopub.status.busy": "2023-11-30T05:39:13.562341Z",
     "iopub.status.idle": "2023-11-30T05:39:13.572713Z",
     "shell.execute_reply": "2023-11-30T05:39:13.571460Z",
     "shell.execute_reply.started": "2023-11-30T05:39:13.562821Z"
    },
    "tags": []
   },
   "outputs": [],
   "source": [
    "tqdm.pandas()"
   ]
  },
  {
   "cell_type": "code",
   "execution_count": null,
   "id": "fa6d84d5-2326-4c26-8e71-5265df7f7403",
   "metadata": {},
   "outputs": [],
   "source": []
  },
  {
   "cell_type": "code",
   "execution_count": null,
   "id": "95c6e55f-9736-4540-8a23-a0fce0d24a94",
   "metadata": {},
   "outputs": [],
   "source": []
  },
  {
   "cell_type": "markdown",
   "id": "598f0e1e-6695-42bb-91d8-b8caeb83c41f",
   "metadata": {
    "tags": []
   },
   "source": [
    "# Llama v1"
   ]
  },
  {
   "cell_type": "markdown",
   "id": "96fc44f2-67da-4c88-97a7-97a299d753e4",
   "metadata": {},
   "source": [
    "## Embeddings"
   ]
  },
  {
   "cell_type": "code",
   "execution_count": null,
   "id": "4afa316b-3f9f-41b7-aaa7-2dc237b5ea7e",
   "metadata": {},
   "outputs": [],
   "source": []
  },
  {
   "cell_type": "code",
   "execution_count": 3,
   "id": "ad2f3c0b-ec09-44b2-afa2-dc72995e1143",
   "metadata": {
    "execution": {
     "iopub.execute_input": "2023-09-15T07:27:59.167576Z",
     "iopub.status.busy": "2023-09-15T07:27:59.166877Z",
     "iopub.status.idle": "2023-09-15T07:27:59.179296Z",
     "shell.execute_reply": "2023-09-15T07:27:59.177768Z",
     "shell.execute_reply.started": "2023-09-15T07:27:59.167512Z"
    },
    "tags": []
   },
   "outputs": [],
   "source": [
    "# def generateEmbeddings(text):\n",
    "    \n",
    "#     header = {'Content-Type': 'application/json'}\n",
    "#     url =\"http://localhost:8088/?task=embeddings&prompt=\" + text.replace(\" \",\"%20\")\n",
    "#     req = requests.get(url,headers=header)\n",
    "#     r = dict(req.json())\n",
    "    \n",
    "#     return r\n",
    "\n",
    "def generateEmbeddings(text):\n",
    "\n",
    "    myobj = {'model': 'instruct','task': 'embeddings','instruction':'', 'input': text}\n",
    "   \n",
    "    header = {'Content-Type': 'application/json'}\n",
    "    url = \"http://localhost:8088/\" \n",
    "\n",
    "    x = requests.post(url, json = myobj, headers=header)\n",
    "    r = dict(x.json())\n",
    "    \n",
    "    return r"
   ]
  },
  {
   "cell_type": "code",
   "execution_count": 4,
   "id": "8410f272-0afb-4258-bc2c-e0f6d23a0396",
   "metadata": {
    "execution": {
     "iopub.execute_input": "2023-09-15T07:27:59.336999Z",
     "iopub.status.busy": "2023-09-15T07:27:59.336361Z",
     "iopub.status.idle": "2023-09-15T07:27:59.345051Z",
     "shell.execute_reply": "2023-09-15T07:27:59.344098Z",
     "shell.execute_reply.started": "2023-09-15T07:27:59.336940Z"
    },
    "tags": []
   },
   "outputs": [],
   "source": [
    "\n",
    "def generateEmbeddingsAverage(text):\n",
    "    \n",
    "    r = generateEmbeddings(text)\n",
    "    \n",
    "    ret = np.mean(np.array(list(r.values())), axis=0)\n",
    "    \n",
    "    return ret"
   ]
  },
  {
   "cell_type": "code",
   "execution_count": null,
   "id": "d9ff9233-1d1d-48ae-b734-f1c5c7134d66",
   "metadata": {},
   "outputs": [],
   "source": []
  },
  {
   "cell_type": "code",
   "execution_count": null,
   "id": "eaff4735-544b-4d40-9ea6-a4cc47dde43a",
   "metadata": {
    "execution": {
     "iopub.execute_input": "2023-09-15T07:30:06.133055Z",
     "iopub.status.busy": "2023-09-15T07:30:06.132296Z"
    },
    "tags": []
   },
   "outputs": [],
   "source": [
    "tmp = generateEmbeddings(\"Hello\")"
   ]
  },
  {
   "cell_type": "code",
   "execution_count": null,
   "id": "2b60e7b1-de4e-4dd2-b910-12c1474b5c6a",
   "metadata": {},
   "outputs": [],
   "source": []
  },
  {
   "cell_type": "code",
   "execution_count": null,
   "id": "95caaec8-8cf6-489d-8065-4ae2e77c427c",
   "metadata": {},
   "outputs": [],
   "source": []
  },
  {
   "cell_type": "code",
   "execution_count": null,
   "id": "be5d38b2-c2a2-4935-a8aa-eaede07071ea",
   "metadata": {},
   "outputs": [],
   "source": []
  },
  {
   "cell_type": "markdown",
   "id": "a69f1f90-e241-46c3-ae37-225c6d4746b7",
   "metadata": {},
   "source": [
    "# Store All Embeddings"
   ]
  },
  {
   "cell_type": "code",
   "execution_count": null,
   "id": "f54b956f-c66c-40f3-82b7-b61f9323b31d",
   "metadata": {
    "tags": []
   },
   "outputs": [],
   "source": [
    "df['LLaMaEmbeddings'] = df.progress_apply(lambda x: \n",
    "                                         generateEmbeddings(x['text'].replace(\"&\",\" and \")), \n",
    "                                         axis=1)"
   ]
  },
  {
   "cell_type": "code",
   "execution_count": null,
   "id": "7c7788aa-97d8-469d-b0e0-25f188463ad2",
   "metadata": {},
   "outputs": [],
   "source": [
    "df.to_pickle(\"../output/LLaMaEmbeddings/df_SHAC.pkl\")"
   ]
  },
  {
   "cell_type": "code",
   "execution_count": null,
   "id": "40a3c456-ebab-467e-8597-109ee6f911a3",
   "metadata": {
    "tags": []
   },
   "outputs": [],
   "source": [
    "# with open(\"/edata/CohenLybarger/xiruo_Project/cognitive_distortions_Transfer_Learning_GitLab/data/LLaMaEmbeddings/df_avh.pkl\", 'wb') as f:\n",
    "#     joblib.dump(value=df_avh, filename=f)"
   ]
  },
  {
   "cell_type": "code",
   "execution_count": null,
   "id": "5b1168ea-f943-4b1d-9fcc-493d7709a6fc",
   "metadata": {},
   "outputs": [],
   "source": []
  },
  {
   "cell_type": "markdown",
   "id": "f40e3f71-8b9b-4074-9184-dd446b5c90ae",
   "metadata": {},
   "source": [
    "# Store Averaged Embeddings"
   ]
  },
  {
   "cell_type": "code",
   "execution_count": null,
   "id": "ec19c492-7a49-4499-8a07-ef1604e5f3b5",
   "metadata": {
    "tags": []
   },
   "outputs": [],
   "source": [
    "# out_file = \"../output/LLaMaEmbeddings/df_Average_SHAC.csv\"\n",
    "# for idx, row in df.iterrows():\n",
    "#     if idx == 3:\n",
    "#         break\n",
    "        \n",
    "#     row['embedding'] = generateEmbeddingsAverage(row['text'])\n",
    "#     row.to_frame().T.to_csv(out_file, index=False, mode='a', header=not os.path.exists(out_file))\n",
    "#     # df.iloc[[idx]].to_csv(out_file, index=False, mode='a', header=not os.path.exists(out_file))\n",
    "#     # tmp = df.iloc[[idx]].copy()\n",
    "#     # tmp['embedding'] = generateEmbeddingsAverage(df.iloc[idx]['text'])\n",
    "\n",
    "\n",
    "\n"
   ]
  },
  {
   "cell_type": "code",
   "execution_count": 12,
   "id": "048c760f-4b09-4b68-a180-1f76f091c659",
   "metadata": {
    "execution": {
     "iopub.execute_input": "2023-05-11T02:45:14.611055Z",
     "iopub.status.busy": "2023-05-11T02:45:14.610215Z",
     "iopub.status.idle": "2023-05-11T04:53:18.676658Z",
     "shell.execute_reply": "2023-05-11T04:53:18.675206Z",
     "shell.execute_reply.started": "2023-05-11T02:45:14.610984Z"
    },
    "tags": []
   },
   "outputs": [
    {
     "data": {
      "application/vnd.jupyter.widget-view+json": {
       "model_id": "771bb26e934f4d8c96ec19dac8a3ee93",
       "version_major": 2,
       "version_minor": 0
      },
      "text/plain": [
       "  0%|          | 0/4405 [00:00<?, ?it/s]"
      ]
     },
     "metadata": {},
     "output_type": "display_data"
    }
   ],
   "source": [
    "df['LLaMaEmbeddings'] = df.progress_apply(lambda x: \n",
    "                                         generateEmbeddingsAverage(x['text'].replace(\"&\",\" and \")), \n",
    "                                         axis=1)\n",
    "\n",
    "df.to_pickle(\"../output/LLaMaEmbeddings/df_Average_SHAC.pkl\")"
   ]
  },
  {
   "cell_type": "code",
   "execution_count": null,
   "id": "a7381b57-8000-41ed-9c0d-289d6696967c",
   "metadata": {},
   "outputs": [],
   "source": []
  },
  {
   "cell_type": "markdown",
   "id": "d334b62d-0dea-4af8-a9ed-21bd9789c83e",
   "metadata": {
    "tags": []
   },
   "source": [
    "# Generations"
   ]
  },
  {
   "cell_type": "code",
   "execution_count": 2,
   "id": "264cbb70-f851-4366-a48a-18f47ffcd555",
   "metadata": {
    "execution": {
     "iopub.execute_input": "2023-09-15T07:27:50.627955Z",
     "iopub.status.busy": "2023-09-15T07:27:50.626980Z",
     "iopub.status.idle": "2023-09-15T07:27:50.959120Z",
     "shell.execute_reply": "2023-09-15T07:27:50.957401Z",
     "shell.execute_reply.started": "2023-09-15T07:27:50.627887Z"
    },
    "scrolled": true,
    "tags": []
   },
   "outputs": [
    {
     "ename": "NameError",
     "evalue": "name 'url' is not defined",
     "output_type": "error",
     "traceback": [
      "\u001b[0;31m---------------------------------------------------------------------------\u001b[0m",
      "\u001b[0;31mNameError\u001b[0m                                 Traceback (most recent call last)",
      "Cell \u001b[0;32mIn[2], line 1\u001b[0m\n\u001b[0;32m----> 1\u001b[0m r \u001b[38;5;241m=\u001b[39m requests\u001b[38;5;241m.\u001b[39mget(\u001b[43murl\u001b[49m, headers\u001b[38;5;241m=\u001b[39mheader)\n\u001b[1;32m      2\u001b[0m sresp \u001b[38;5;241m=\u001b[39m \u001b[38;5;124m\"\u001b[39m\u001b[38;5;124m\"\u001b[39m\n\u001b[1;32m      3\u001b[0m \u001b[38;5;28;01mfor\u001b[39;00m i \u001b[38;5;129;01min\u001b[39;00m r\u001b[38;5;241m.\u001b[39miter_lines():\n",
      "\u001b[0;31mNameError\u001b[0m: name 'url' is not defined"
     ]
    }
   ],
   "source": [
    "r = requests.get(url, headers=header)\n",
    "sresp = \"\"\n",
    "for i in r.iter_lines():\n",
    "    sresp = sresp + i.decode() #replace(‘\\\\xe2\\\\x80\\\\x99’,“\\’“)"
   ]
  },
  {
   "cell_type": "code",
   "execution_count": 20,
   "id": "4b7e8bc5-c69b-45db-b9f4-c272a9c064f2",
   "metadata": {
    "execution": {
     "iopub.execute_input": "2023-03-30T01:15:50.559903Z",
     "iopub.status.busy": "2023-03-30T01:15:50.559106Z",
     "iopub.status.idle": "2023-03-30T01:15:50.568555Z",
     "shell.execute_reply": "2023-03-30T01:15:50.567370Z",
     "shell.execute_reply.started": "2023-03-30T01:15:50.559834Z"
    },
    "scrolled": true,
    "tags": []
   },
   "outputs": [
    {
     "data": {
      "text/plain": [
       "<Response [200]>"
      ]
     },
     "execution_count": 20,
     "metadata": {},
     "output_type": "execute_result"
    }
   ],
   "source": [
    "r"
   ]
  },
  {
   "cell_type": "code",
   "execution_count": null,
   "id": "b1452588-1c16-4c13-839f-87566b6ee77f",
   "metadata": {},
   "outputs": [],
   "source": []
  },
  {
   "cell_type": "code",
   "execution_count": null,
   "id": "2f8de64f-0abe-455c-93dc-8dc8e63f275c",
   "metadata": {},
   "outputs": [],
   "source": []
  },
  {
   "cell_type": "code",
   "execution_count": 25,
   "id": "69f55081-5d79-4952-b27f-e9b55b51e05a",
   "metadata": {
    "execution": {
     "iopub.execute_input": "2023-03-30T01:17:26.273822Z",
     "iopub.status.busy": "2023-03-30T01:17:26.273040Z",
     "iopub.status.idle": "2023-03-30T01:17:26.283725Z",
     "shell.execute_reply": "2023-03-30T01:17:26.281792Z",
     "shell.execute_reply.started": "2023-03-30T01:17:26.273752Z"
    }
   },
   "outputs": [],
   "source": [
    "def complete(prompt, chars=32):\n",
    "    header = {\"Content-Type\": \"application/json\"}\n",
    "    url =\"http://localhost:8088/?task=generate:\"+str(chars)+\"&prompt=\"+prompt.replace(\" \",\"%20\")\n",
    "    r = requests.get(url,headers=header)\n",
    "    sresp = \"\"\n",
    "    for i in r.iter_lines():\n",
    "        sresp = sresp + i.decode()#replace(‘\\\\xe2\\\\x80\\\\x99’,“\\’“)\n",
    "    return sresp"
   ]
  },
  {
   "cell_type": "code",
   "execution_count": 28,
   "id": "7056189b-545d-4dd8-b6ec-9e288abf7996",
   "metadata": {
    "execution": {
     "iopub.execute_input": "2023-03-30T01:18:26.070048Z",
     "iopub.status.busy": "2023-03-30T01:18:26.069207Z",
     "iopub.status.idle": "2023-03-30T01:19:03.964943Z",
     "shell.execute_reply": "2023-03-30T01:19:03.963409Z",
     "shell.execute_reply.started": "2023-03-30T01:18:26.069979Z"
    },
    "tags": []
   },
   "outputs": [
    {
     "data": {
      "text/plain": [
       "' what is LLaMa by Meta? 24/11/2016 76466465LLaMa, a new initiative by Meta, is a web-based community aimed at bringing together stakeholders in the fields of Language Technologies and Machine Translation. The main objective of LLaMa will be to facilitate research and development across MT and Language Technologies. It aims to do so by connecting people'"
      ]
     },
     "execution_count": 28,
     "metadata": {},
     "output_type": "execute_result"
    }
   ],
   "source": [
    "complete(\"what is LLaMa by Meta? \", chars=100)"
   ]
  },
  {
   "cell_type": "code",
   "execution_count": null,
   "id": "17c27d33-fe38-454c-a139-10233c28eee8",
   "metadata": {},
   "outputs": [],
   "source": []
  },
  {
   "cell_type": "code",
   "execution_count": null,
   "id": "84a3dce2-1350-4885-a88d-9267c32eba15",
   "metadata": {},
   "outputs": [],
   "source": []
  },
  {
   "cell_type": "code",
   "execution_count": null,
   "id": "f43084fb-8e8d-4a60-b33f-6e26b7b118d9",
   "metadata": {},
   "outputs": [],
   "source": []
  },
  {
   "cell_type": "code",
   "execution_count": null,
   "id": "5fc3a9b2-f6e5-4166-aea2-35dd51aa6efa",
   "metadata": {},
   "outputs": [],
   "source": []
  },
  {
   "cell_type": "code",
   "execution_count": null,
   "id": "03925915-08b9-4b44-aac9-5c57eb2741cf",
   "metadata": {},
   "outputs": [],
   "source": []
  },
  {
   "cell_type": "code",
   "execution_count": null,
   "id": "fb2c306d-9667-46f5-9d1d-9b2a70414b73",
   "metadata": {},
   "outputs": [],
   "source": []
  },
  {
   "cell_type": "markdown",
   "id": "83269d1e-ff5a-469c-bec2-553172db58cc",
   "metadata": {},
   "source": [
    "# Llama 2"
   ]
  },
  {
   "cell_type": "code",
   "execution_count": 20,
   "id": "ca80e12c-3c68-4d69-9ad5-bc89b136959f",
   "metadata": {
    "execution": {
     "iopub.execute_input": "2023-11-30T05:40:50.019533Z",
     "iopub.status.busy": "2023-11-30T05:40:50.018806Z",
     "iopub.status.idle": "2023-11-30T05:40:50.025905Z",
     "shell.execute_reply": "2023-11-30T05:40:50.024639Z",
     "shell.execute_reply.started": "2023-11-30T05:40:50.019473Z"
    },
    "tags": []
   },
   "outputs": [],
   "source": [
    "import os\n",
    "# os.environ[\"CUDA_VISIBLE_DEVICES\"] = \"0\"\n",
    "os.environ[\"CUDA_VISIBLE_DEVICES\"] = \"2,0\"\n"
   ]
  },
  {
   "cell_type": "code",
   "execution_count": 21,
   "id": "04594b09-9199-442a-bac6-eadd1955345a",
   "metadata": {
    "execution": {
     "iopub.execute_input": "2023-11-30T05:40:50.688826Z",
     "iopub.status.busy": "2023-11-30T05:40:50.688314Z",
     "iopub.status.idle": "2023-11-30T05:40:53.430425Z",
     "shell.execute_reply": "2023-11-30T05:40:53.429176Z",
     "shell.execute_reply.started": "2023-11-30T05:40:50.688798Z"
    },
    "tags": []
   },
   "outputs": [],
   "source": [
    "import torch\n",
    "from transformers import LlamaTokenizer, LlamaModel , LlamaConfig\n"
   ]
  },
  {
   "cell_type": "code",
   "execution_count": 22,
   "id": "f150991e-f152-43a4-9771-5b8550fb7a37",
   "metadata": {
    "execution": {
     "iopub.execute_input": "2023-11-30T05:41:32.521930Z",
     "iopub.status.busy": "2023-11-30T05:41:32.520925Z",
     "iopub.status.idle": "2023-11-30T05:41:32.530535Z",
     "shell.execute_reply": "2023-11-30T05:41:32.528994Z",
     "shell.execute_reply.started": "2023-11-30T05:41:32.521862Z"
    },
    "tags": []
   },
   "outputs": [],
   "source": [
    "class train_config:\n",
    "    def __init__(self):\n",
    "        self.quantization: bool = False\n",
    "\n",
    "    "
   ]
  },
  {
   "cell_type": "code",
   "execution_count": 23,
   "id": "ef070620-40f8-471a-928c-43d311cea153",
   "metadata": {
    "execution": {
     "iopub.execute_input": "2023-11-30T05:41:32.938548Z",
     "iopub.status.busy": "2023-11-30T05:41:32.938136Z",
     "iopub.status.idle": "2023-11-30T05:41:32.945567Z",
     "shell.execute_reply": "2023-11-30T05:41:32.943836Z",
     "shell.execute_reply.started": "2023-11-30T05:41:32.938485Z"
    },
    "tags": []
   },
   "outputs": [],
   "source": [
    "globalconfig = train_config()"
   ]
  },
  {
   "cell_type": "code",
   "execution_count": null,
   "id": "e32b6f12-d620-45c2-88e3-ce32a64e0969",
   "metadata": {
    "tags": []
   },
   "outputs": [],
   "source": [
    "globalconfig.device = \"cuda:0\""
   ]
  },
  {
   "cell_type": "code",
   "execution_count": null,
   "id": "057f5d10-2546-4055-a7e0-c8f5d3585df7",
   "metadata": {},
   "outputs": [],
   "source": []
  },
  {
   "cell_type": "code",
   "execution_count": 24,
   "id": "84510f06-b697-4d9d-8166-d7a75db20db1",
   "metadata": {
    "execution": {
     "iopub.execute_input": "2023-11-30T05:41:39.786854Z",
     "iopub.status.busy": "2023-11-30T05:41:39.786111Z",
     "iopub.status.idle": "2023-11-30T05:41:39.796634Z",
     "shell.execute_reply": "2023-11-30T05:41:39.794616Z",
     "shell.execute_reply.started": "2023-11-30T05:41:39.786792Z"
    },
    "tags": []
   },
   "outputs": [],
   "source": [
    "# globalconfig.output_file = \"../output/LLaMaEmbeddings/df_Average_SHAC_llamav2_7b.pkl\"\n",
    "# globalconfig.model_id=\"/bime-munin/llama2_hf/llama-2-7b_hf/\"\n",
    "# globalconfig.quantization = False\n",
    "\n",
    "# globalconfig.output_file = \"../output/LLaMaEmbeddings/df_Average_SHAC_llamav2_13b.pkl\"\n",
    "# globalconfig.model_id=\"/bime-munin/llama2_hf/llama-2-13b_hf/\"\n",
    "# globalconfig.quantization = False\n",
    "\n",
    "# globalconfig.output_file = \"../output/LLaMaEmbeddings/df_Average_SHAC_llamav2_70b.pkl\"\n",
    "# globalconfig.model_id=\"/bime-munin/llama2_hf/llama-2-70b_hf/\"\n",
    "# globalconfig.quantization = True\n",
    "\n",
    "### Test Permutation\n",
    "# globalconfig.model_id=\"/bime-munin/llama2_hf/llama-2-7b_hf/\"\n",
    "# output_file_template = \"../output/LLaMaEmbeddings/df_Average_Permute_{}_llamav2_7b.pkl\"\n",
    "# globalconfig.quantization = False\n",
    "\n",
    "# globalconfig.model_id=\"/bime-munin/llama2_hf/llama-2-13b_hf/\"\n",
    "# output_file_template = \"../output/LLaMaEmbeddings/df_Average_Permute_{}_llamav2_13b.pkl\"\n",
    "# globalconfig.quantization = False\n",
    "\n",
    "globalconfig.model_id=\"/bime-munin/llama2_hf/llama-2-70b_hf/\"\n",
    "output_file_template = \"../output/LLaMaEmbeddings/df_Average_Permute_{}_llamav2_70b.pkl\"\n",
    "globalconfig.quantization = True"
   ]
  },
  {
   "cell_type": "code",
   "execution_count": 25,
   "id": "cdc339a5-7336-4894-ac93-5152f03e4a18",
   "metadata": {
    "execution": {
     "iopub.execute_input": "2023-11-30T05:41:40.082141Z",
     "iopub.status.busy": "2023-11-30T05:41:40.081465Z",
     "iopub.status.idle": "2023-11-30T05:41:40.089145Z",
     "shell.execute_reply": "2023-11-30T05:41:40.087666Z",
     "shell.execute_reply.started": "2023-11-30T05:41:40.082082Z"
    },
    "tags": []
   },
   "outputs": [],
   "source": [
    "globalconfig.max_seq_length=1024"
   ]
  },
  {
   "cell_type": "code",
   "execution_count": 26,
   "id": "c7af47ff-952f-4aae-982d-0fad9c13cb0e",
   "metadata": {
    "execution": {
     "iopub.execute_input": "2023-11-30T05:41:40.459870Z",
     "iopub.status.busy": "2023-11-30T05:41:40.459055Z",
     "iopub.status.idle": "2023-11-30T05:41:40.650858Z",
     "shell.execute_reply": "2023-11-30T05:41:40.649025Z",
     "shell.execute_reply.started": "2023-11-30T05:41:40.459810Z"
    },
    "tags": []
   },
   "outputs": [
    {
     "name": "stdout",
     "output_type": "stream",
     "text": [
      "config.json\t\t\t  pytorch_model-00010-of-00015.bin\n",
      "generation_config.json\t\t  pytorch_model-00011-of-00015.bin\n",
      "pytorch_model-00001-of-00015.bin  pytorch_model-00012-of-00015.bin\n",
      "pytorch_model-00002-of-00015.bin  pytorch_model-00013-of-00015.bin\n",
      "pytorch_model-00003-of-00015.bin  pytorch_model-00014-of-00015.bin\n",
      "pytorch_model-00004-of-00015.bin  pytorch_model-00015-of-00015.bin\n",
      "pytorch_model-00005-of-00015.bin  pytorch_model.bin.index.json\n",
      "pytorch_model-00006-of-00015.bin  special_tokens_map.json\n",
      "pytorch_model-00007-of-00015.bin  tokenizer_config.json\n",
      "pytorch_model-00008-of-00015.bin  tokenizer.json\n",
      "pytorch_model-00009-of-00015.bin  tokenizer.model\n"
     ]
    }
   ],
   "source": [
    "!ls /bime-munin/llama2_hf/llama-2-70b_hf/"
   ]
  },
  {
   "cell_type": "code",
   "execution_count": 27,
   "id": "4f0a5275-de4b-4217-aae5-06a10c154bdc",
   "metadata": {
    "execution": {
     "iopub.execute_input": "2023-11-30T05:41:42.949381Z",
     "iopub.status.busy": "2023-11-30T05:41:42.948657Z",
     "iopub.status.idle": "2023-11-30T05:41:43.069779Z",
     "shell.execute_reply": "2023-11-30T05:41:43.068851Z",
     "shell.execute_reply.started": "2023-11-30T05:41:42.949312Z"
    },
    "tags": []
   },
   "outputs": [],
   "source": [
    "tokenizer = LlamaTokenizer.from_pretrained(\"/bime-munin/llama2_hf/llama-2-7b_hf/\")\n"
   ]
  },
  {
   "cell_type": "code",
   "execution_count": null,
   "id": "52e39c11-7ea9-49a9-aaef-415659191f5d",
   "metadata": {
    "tags": []
   },
   "outputs": [],
   "source": [
    "model = LlamaModel.from_pretrained(globalconfig.model_id, \n",
    "                                    load_in_8bit=globalconfig.quantization, \n",
    "                                    # device_map=\"cuda:0\", \n",
    "                                   device_map=\"auto\",\n",
    "                                    torch_dtype=torch.float16 if globalconfig.quantization else torch.float32,\n",
    "                                )\n",
    "\n"
   ]
  },
  {
   "cell_type": "code",
   "execution_count": null,
   "id": "156ba5f5-84d4-4e70-b3a5-980227c305ab",
   "metadata": {},
   "outputs": [],
   "source": []
  },
  {
   "cell_type": "markdown",
   "id": "5789702b-316f-4d1e-84b0-991c10a29519",
   "metadata": {},
   "source": [
    "## No Permutation"
   ]
  },
  {
   "cell_type": "code",
   "execution_count": null,
   "id": "dba0234e-f6f5-49d2-9392-3d2474d13789",
   "metadata": {},
   "outputs": [],
   "source": []
  },
  {
   "cell_type": "code",
   "execution_count": 19,
   "id": "46018aa5-2576-4b18-af52-27b0f6941c57",
   "metadata": {
    "execution": {
     "iopub.execute_input": "2023-09-23T04:52:49.971924Z",
     "iopub.status.busy": "2023-09-23T04:52:49.971254Z",
     "iopub.status.idle": "2023-09-23T04:52:49.981334Z",
     "shell.execute_reply": "2023-09-23T04:52:49.979911Z",
     "shell.execute_reply.started": "2023-09-23T04:52:49.971869Z"
    },
    "tags": []
   },
   "outputs": [],
   "source": [
    "def generateV2EmbeddingsAverage(text):\n",
    "    \n",
    "    model_input = tokenizer([text], return_tensors=\"pt\").to(\"cuda\")\n",
    "\n",
    "    model.eval()\n",
    "    with torch.no_grad():\n",
    "\n",
    "\n",
    "        tmp = model(**model_input)\n",
    "    \n",
    "        ret = tmp['last_hidden_state'].squeeze().mean(axis=0).cpu().numpy()\n",
    "        \n",
    "    \n",
    "    \n",
    "    return ret"
   ]
  },
  {
   "cell_type": "code",
   "execution_count": 20,
   "id": "8f8edf36-c1e4-440a-b254-e9712d277d1d",
   "metadata": {
    "execution": {
     "iopub.execute_input": "2023-09-23T04:52:58.896474Z",
     "iopub.status.busy": "2023-09-23T04:52:58.895707Z",
     "iopub.status.idle": "2023-09-23T05:26:07.265389Z",
     "shell.execute_reply": "2023-09-23T05:26:07.264290Z",
     "shell.execute_reply.started": "2023-09-23T04:52:58.896408Z"
    },
    "tags": []
   },
   "outputs": [
    {
     "data": {
      "application/vnd.jupyter.widget-view+json": {
       "model_id": "994cbe6fb79a45f48ff024b2eb5945b7",
       "version_major": 2,
       "version_minor": 0
      },
      "text/plain": [
       "  0%|          | 0/4405 [00:00<?, ?it/s]"
      ]
     },
     "metadata": {},
     "output_type": "display_data"
    }
   ],
   "source": [
    "df['LLaMaEmbeddings'] = df.progress_apply(lambda x: \n",
    "                                         generateV2EmbeddingsAverage(x['text']), \n",
    "                                         axis=1)"
   ]
  },
  {
   "cell_type": "code",
   "execution_count": 21,
   "id": "f22a4c82-80c2-45ee-918f-af7f561d891e",
   "metadata": {
    "execution": {
     "iopub.execute_input": "2023-09-23T05:26:07.266854Z",
     "iopub.status.busy": "2023-09-23T05:26:07.266662Z",
     "iopub.status.idle": "2023-09-23T05:26:07.273354Z",
     "shell.execute_reply": "2023-09-23T05:26:07.272380Z",
     "shell.execute_reply.started": "2023-09-23T05:26:07.266837Z"
    },
    "tags": []
   },
   "outputs": [
    {
     "data": {
      "text/plain": [
       "'../output/LLaMaEmbeddings/df_Average_SHAC_llamav2_70b.pkl'"
      ]
     },
     "execution_count": 21,
     "metadata": {},
     "output_type": "execute_result"
    }
   ],
   "source": [
    "globalconfig.output_file"
   ]
  },
  {
   "cell_type": "code",
   "execution_count": 22,
   "id": "1a09bebe-4fc9-4ffa-9015-b17083252cab",
   "metadata": {
    "execution": {
     "iopub.execute_input": "2023-09-23T05:27:25.404151Z",
     "iopub.status.busy": "2023-09-23T05:27:25.403216Z",
     "iopub.status.idle": "2023-09-23T05:27:25.552792Z",
     "shell.execute_reply": "2023-09-23T05:27:25.551175Z",
     "shell.execute_reply.started": "2023-09-23T05:27:25.404080Z"
    },
    "tags": []
   },
   "outputs": [],
   "source": [
    "df.to_pickle(\"../output/LLaMaEmbeddings/df_Average_SHAC_llamav2_70b_8quant.pkl\")"
   ]
  },
  {
   "cell_type": "code",
   "execution_count": null,
   "id": "b819302a-7e4c-4123-aa32-f6dc9f259114",
   "metadata": {},
   "outputs": [],
   "source": []
  },
  {
   "cell_type": "code",
   "execution_count": 23,
   "id": "e0f5a9f1-a412-4ae7-bfb4-a276cdf6e4fd",
   "metadata": {
    "execution": {
     "iopub.execute_input": "2023-09-23T05:27:29.325868Z",
     "iopub.status.busy": "2023-09-23T05:27:29.325062Z",
     "iopub.status.idle": "2023-09-23T05:27:29.339462Z",
     "shell.execute_reply": "2023-09-23T05:27:29.338042Z",
     "shell.execute_reply.started": "2023-09-23T05:27:29.325803Z"
    },
    "tags": []
   },
   "outputs": [
    {
     "data": {
      "text/plain": [
       "array([-0.04727,  0.1318 ,  0.02307, ..., -0.4001 ,  2.096  ,  1.3545 ],\n",
       "      dtype=float16)"
      ]
     },
     "execution_count": 23,
     "metadata": {},
     "output_type": "execute_result"
    }
   ],
   "source": [
    "df.iloc[0][\"LLaMaEmbeddings\"]"
   ]
  },
  {
   "cell_type": "code",
   "execution_count": 24,
   "id": "c4f0b358-45f7-47e7-bf08-1fc88f2e6f05",
   "metadata": {
    "execution": {
     "iopub.execute_input": "2023-09-23T05:27:29.721887Z",
     "iopub.status.busy": "2023-09-23T05:27:29.720181Z",
     "iopub.status.idle": "2023-09-23T05:27:29.732608Z",
     "shell.execute_reply": "2023-09-23T05:27:29.731092Z",
     "shell.execute_reply.started": "2023-09-23T05:27:29.721799Z"
    },
    "tags": []
   },
   "outputs": [
    {
     "data": {
      "text/plain": [
       "(8192,)"
      ]
     },
     "execution_count": 24,
     "metadata": {},
     "output_type": "execute_result"
    }
   ],
   "source": [
    "df.iloc[0][\"LLaMaEmbeddings\"].shape"
   ]
  },
  {
   "cell_type": "code",
   "execution_count": null,
   "id": "dee509f4-1631-4602-89f1-3bc6c347612b",
   "metadata": {},
   "outputs": [],
   "source": []
  },
  {
   "cell_type": "code",
   "execution_count": null,
   "id": "cd9e4b77-fa15-4262-bbf8-7a914edfcc7b",
   "metadata": {},
   "outputs": [],
   "source": []
  },
  {
   "cell_type": "code",
   "execution_count": null,
   "id": "dfb52190-8ba8-498f-9835-267760904232",
   "metadata": {},
   "outputs": [],
   "source": []
  },
  {
   "cell_type": "code",
   "execution_count": null,
   "id": "62b8cd7d-0117-43d9-91d2-151d51c48ada",
   "metadata": {
    "execution": {
     "iopub.execute_input": "2023-09-23T05:29:02.435588Z",
     "iopub.status.busy": "2023-09-23T05:29:02.434809Z"
    },
    "tags": []
   },
   "outputs": [
    {
     "data": {
      "application/vnd.jupyter.widget-view+json": {
       "model_id": "c776c6bdd68644e6869598fd03289d20",
       "version_major": 2,
       "version_minor": 0
      },
      "text/plain": [
       "  0%|          | 0/41144 [00:00<?, ?it/s]"
      ]
     },
     "metadata": {},
     "output_type": "display_data"
    }
   ],
   "source": [
    "df_dynGen['LLaMaEmbeddings'] = df_dynGen.progress_apply(lambda x: \n",
    "                                         generateV2EmbeddingsAverage(x['text']), \n",
    "                                         axis=1)"
   ]
  },
  {
   "cell_type": "code",
   "execution_count": null,
   "id": "d676372d-127e-443c-a78f-e5542871c4a0",
   "metadata": {
    "tags": []
   },
   "outputs": [],
   "source": [
    "# df_dynGen.to_pickle(\"../output/LLaMaEmbeddings/df_Average_HS_dynGen_llamav2_7b.pkl\")\n",
    "# df_dynGen.to_pickle(\"../output/LLaMaEmbeddings/df_Average_HS_dynGen_llamav2_13b.pkl\")\n",
    "df_dynGen.to_pickle(\"../output/LLaMaEmbeddings/df_Average_HS_dynGen_llamav2_70b_8quant.pkl\")"
   ]
  },
  {
   "cell_type": "code",
   "execution_count": null,
   "id": "b8334d36-b8e3-47c6-afd4-775ecbd7753c",
   "metadata": {
    "tags": []
   },
   "outputs": [],
   "source": [
    "df_wsf['LLaMaEmbeddings'] = df_wsf.progress_apply(lambda x: \n",
    "                                         generateV2EmbeddingsAverage(x['text']), \n",
    "                                         axis=1)"
   ]
  },
  {
   "cell_type": "code",
   "execution_count": null,
   "id": "4a866f85-e134-4c87-8719-1596bae78ff0",
   "metadata": {
    "tags": []
   },
   "outputs": [],
   "source": [
    "# df_wsf.to_pickle(\"../output/LLaMaEmbeddings/df_Average_HS_wsf_llamav2_7b.pkl\")\n",
    "# df_wsf.to_pickle(\"../output/LLaMaEmbeddings/df_Average_HS_wsf_llamav2_13b.pkl\")\n",
    "df_wsf.to_pickle(\"../output/LLaMaEmbeddings/df_Average_HS_wsf_llamav2_70b_8quant.pkl\")"
   ]
  },
  {
   "cell_type": "code",
   "execution_count": null,
   "id": "42965884-2df7-4cb6-8fc8-5f2d077d7f25",
   "metadata": {},
   "outputs": [],
   "source": [
    "df_wsf"
   ]
  },
  {
   "cell_type": "code",
   "execution_count": null,
   "id": "9ae4f4d0-5814-41ef-9205-c3c62655a457",
   "metadata": {},
   "outputs": [],
   "source": []
  },
  {
   "cell_type": "code",
   "execution_count": null,
   "id": "40e31bdd-5768-469a-a90a-6bcc7a16db58",
   "metadata": {},
   "outputs": [],
   "source": []
  },
  {
   "cell_type": "code",
   "execution_count": null,
   "id": "876322af-242e-43e8-95b6-7fbb569aa5a6",
   "metadata": {},
   "outputs": [],
   "source": []
  },
  {
   "cell_type": "markdown",
   "id": "213feb22-d6e6-4c24-8afe-140002edff19",
   "metadata": {},
   "source": [
    "## Simple Permutation (shift 1 per position, to the right)"
   ]
  },
  {
   "cell_type": "code",
   "execution_count": 31,
   "id": "8a6253fe-3227-4565-baf7-cb11c7e2242e",
   "metadata": {
    "execution": {
     "iopub.execute_input": "2023-11-30T03:18:16.733140Z",
     "iopub.status.busy": "2023-11-30T03:18:16.732401Z",
     "iopub.status.idle": "2023-11-30T03:18:16.747178Z",
     "shell.execute_reply": "2023-11-30T03:18:16.745660Z",
     "shell.execute_reply.started": "2023-11-30T03:18:16.733074Z"
    },
    "tags": []
   },
   "outputs": [],
   "source": [
    "def generateV2EmbeddingsPermuteAverage(text):\n",
    "    \n",
    "    model_input = tokenizer([text], return_tensors=\"pt\").to(\"cuda\")\n",
    "\n",
    "    model.eval()\n",
    "    with torch.no_grad():\n",
    "        tmp = model(**model_input)\n",
    "            \n",
    "    tmp = tmp['last_hidden_state'].squeeze()\n",
    "    \n",
    "    ret_ts = []\n",
    "    for i,row in enumerate(tmp):\n",
    "        _ = torch.roll(row, i)\n",
    "        ret_ts.append(_)\n",
    "\n",
    "    ret = torch.cat(ret_ts).view(tmp.shape).mean(axis=0).cpu().numpy()\n",
    "        \n",
    "    return ret"
   ]
  },
  {
   "cell_type": "code",
   "execution_count": 37,
   "id": "850a4650-b515-4ebd-a28d-5212a39ba89c",
   "metadata": {
    "execution": {
     "iopub.execute_input": "2023-11-30T03:46:08.977486Z",
     "iopub.status.busy": "2023-11-30T03:46:08.976762Z",
     "iopub.status.idle": "2023-11-30T03:46:08.983843Z",
     "shell.execute_reply": "2023-11-30T03:46:08.982549Z",
     "shell.execute_reply.started": "2023-11-30T03:46:08.977422Z"
    },
    "tags": []
   },
   "outputs": [],
   "source": [
    "# df_name = \"wsf\"\n",
    "df_name = \"dynGen\""
   ]
  },
  {
   "cell_type": "code",
   "execution_count": 38,
   "id": "eb22eb86-76c6-4d30-a106-d7783ddd7061",
   "metadata": {
    "execution": {
     "iopub.execute_input": "2023-11-30T03:46:09.319014Z",
     "iopub.status.busy": "2023-11-30T03:46:09.318229Z",
     "iopub.status.idle": "2023-11-30T03:46:09.373257Z",
     "shell.execute_reply": "2023-11-30T03:46:09.372222Z",
     "shell.execute_reply.started": "2023-11-30T03:46:09.318953Z"
    },
    "tags": []
   },
   "outputs": [],
   "source": [
    "if df_name == \"wsf\":\n",
    "    df = df_wsf.copy()\n",
    "    globalconfig.output_file = output_file_template.format(\"HS_\" + df_name)\n",
    "elif df_name == \"dynGen\":\n",
    "    df = df_dynGen.copy()\n",
    "    globalconfig.output_file = output_file_template.format(\"HS_\" + df_name)\n",
    "else:\n",
    "    os.error(\"ERROR df name!\")\n",
    "    \n",
    " "
   ]
  },
  {
   "cell_type": "code",
   "execution_count": 39,
   "id": "0ddddfcb-cbca-44e1-a5d7-80d2ea4d68c1",
   "metadata": {
    "execution": {
     "iopub.execute_input": "2023-11-30T03:46:10.647473Z",
     "iopub.status.busy": "2023-11-30T03:46:10.646674Z",
     "iopub.status.idle": "2023-11-30T03:46:10.657307Z",
     "shell.execute_reply": "2023-11-30T03:46:10.655888Z",
     "shell.execute_reply.started": "2023-11-30T03:46:10.647412Z"
    },
    "tags": []
   },
   "outputs": [
    {
     "data": {
      "text/plain": [
       "'../output/LLaMaEmbeddings/df_Average_Permute_HS_dynGen_llamav2_13b.pkl'"
      ]
     },
     "execution_count": 39,
     "metadata": {},
     "output_type": "execute_result"
    }
   ],
   "source": [
    "globalconfig.output_file"
   ]
  },
  {
   "cell_type": "code",
   "execution_count": 40,
   "id": "0152ede6-ac2f-4c21-ba58-471c93709195",
   "metadata": {
    "execution": {
     "iopub.execute_input": "2023-11-30T03:46:12.791594Z",
     "iopub.status.busy": "2023-11-30T03:46:12.791426Z",
     "iopub.status.idle": "2023-11-30T05:30:16.551420Z",
     "shell.execute_reply": "2023-11-30T05:30:16.550371Z",
     "shell.execute_reply.started": "2023-11-30T03:46:12.791580Z"
    },
    "tags": []
   },
   "outputs": [
    {
     "data": {
      "application/vnd.jupyter.widget-view+json": {
       "model_id": "ef4798bfd0934e9d8f5f43c94b0c8282",
       "version_major": 2,
       "version_minor": 0
      },
      "text/plain": [
       "  0%|          | 0/41144 [00:00<?, ?it/s]"
      ]
     },
     "metadata": {},
     "output_type": "display_data"
    }
   ],
   "source": [
    "   \n",
    "df['LLaMaEmbeddings'] = df.progress_apply(lambda x: \n",
    "                                         generateV2EmbeddingsPermuteAverage(x['text']), \n",
    "                                         axis=1)"
   ]
  },
  {
   "cell_type": "code",
   "execution_count": 41,
   "id": "a3c2e826-62fd-48b8-bea1-372af26a47a4",
   "metadata": {
    "execution": {
     "iopub.execute_input": "2023-11-30T05:30:16.553170Z",
     "iopub.status.busy": "2023-11-30T05:30:16.552803Z",
     "iopub.status.idle": "2023-11-30T05:30:17.538349Z",
     "shell.execute_reply": "2023-11-30T05:30:17.537549Z",
     "shell.execute_reply.started": "2023-11-30T05:30:16.553154Z"
    },
    "tags": []
   },
   "outputs": [],
   "source": [
    "df.to_pickle(globalconfig.output_file)"
   ]
  },
  {
   "cell_type": "code",
   "execution_count": null,
   "id": "9feaf45f-605a-44d7-b948-c808b905e735",
   "metadata": {},
   "outputs": [],
   "source": []
  },
  {
   "cell_type": "code",
   "execution_count": null,
   "id": "460777b2-2485-456b-82b6-d414fb6bb280",
   "metadata": {},
   "outputs": [],
   "source": []
  },
  {
   "cell_type": "code",
   "execution_count": null,
   "id": "a6865108-63cc-400d-98d8-860d3dadfbd9",
   "metadata": {},
   "outputs": [],
   "source": []
  },
  {
   "cell_type": "code",
   "execution_count": null,
   "id": "f652fe9b-8704-4447-826d-cc20a58436a6",
   "metadata": {},
   "outputs": [],
   "source": []
  }
 ],
 "metadata": {
  "kernelspec": {
   "display_name": "Python 3 (ipykernel)",
   "language": "python",
   "name": "python3"
  },
  "language_info": {
   "codemirror_mode": {
    "name": "ipython",
    "version": 3
   },
   "file_extension": ".py",
   "mimetype": "text/x-python",
   "name": "python",
   "nbconvert_exporter": "python",
   "pygments_lexer": "ipython3",
   "version": "3.9.17"
  },
  "toc-autonumbering": true
 },
 "nbformat": 4,
 "nbformat_minor": 5
}
